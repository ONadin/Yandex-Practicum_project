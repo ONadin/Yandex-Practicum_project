{
 "cells": [
  {
   "cell_type": "markdown",
   "metadata": {
    "id": "sXUdQhKhClL9",
    "toc": true
   },
   "source": [
    "<h1>Содержание<span class=\"tocSkip\"></span></h1>\n",
    "<div class=\"toc\"><ul class=\"toc-item\"><li><span><a href=\"#Подготовка\" data-toc-modified-id=\"Подготовка-1\"><span class=\"toc-item-num\">1&nbsp;&nbsp;</span>Подготовка</a></span></li><li><span><a href=\"#Анализ\" data-toc-modified-id=\"Анализ-2\"><span class=\"toc-item-num\">2&nbsp;&nbsp;</span>Анализ</a></span></li><li><span><a href=\"#Обучение\" data-toc-modified-id=\"Обучение-3\"><span class=\"toc-item-num\">3&nbsp;&nbsp;</span>Обучение</a></span></li><li><span><a href=\"#Тестирование\" data-toc-modified-id=\"Тестирование-4\"><span class=\"toc-item-num\">4&nbsp;&nbsp;</span>Тестирование</a></span><ul class=\"toc-item\"><li><span><a href=\"#Вывод\" data-toc-modified-id=\"Вывод-4.1\"><span class=\"toc-item-num\">4.1&nbsp;&nbsp;</span><strong>Вывод</strong></a></span>"
   ]
  },
  {
   "cell_type": "markdown",
   "metadata": {
    "id": "vAWslFBPClL9"
   },
   "source": [
    "#  Прогнозирование заказов такси"
   ]
  },
  {
   "cell_type": "markdown",
   "metadata": {
    "id": "RWoyvdzbClL9"
   },
   "source": [
    "Компания «Чётенькое такси» собрала исторические данные о заказах такси в аэропортах. Чтобы привлекать больше водителей в период пиковой нагрузки, нужно спрогнозировать количество заказов такси на следующий час. Постройте модель для такого предсказания.\n",
    "\n",
    "Значение метрики *RMSE* на тестовой выборке должно быть не больше 48.\n",
    "\n",
    "Вам нужно:\n",
    "\n",
    "1. Загрузить данные и выполнить их ресемплирование по одному часу.\n",
    "2. Проанализировать данные.\n",
    "3. Обучить разные модели с различными гиперпараметрами. Сделать тестовую выборку размером 10% от исходных данных.\n",
    "4. Проверить данные на тестовой выборке и сделать выводы.\n",
    "\n",
    "\n",
    "Данные лежат в файле `taxi.csv`. Количество заказов находится в столбце `num_orders` (от англ. *number of orders*, «число заказов»)."
   ]
  },
  {
   "cell_type": "markdown",
   "metadata": {
    "id": "0509v84ZClL-"
   },
   "source": [
    "## Подготовка"
   ]
  },
  {
   "cell_type": "code",
   "execution_count": null,
   "metadata": {
    "id": "yfYnCQBgClL-"
   },
   "outputs": [],
   "source": [
    "import pandas as pd\n",
    "import matplotlib.pyplot as plt\n",
    "import numpy as np\n",
    "\n",
    "from statsmodels.tsa.seasonal import seasonal_decompose\n",
    "\n",
    "from sklearn.ensemble import RandomForestRegressor\n",
    "from sklearn.linear_model import Ridge\n",
    "from sklearn.model_selection import train_test_split, cross_val_score, GridSearchCV, TimeSeriesSplit\n",
    "from sklearn.metrics import mean_squared_error\n",
    "from sklearn.preprocessing import StandardScaler\n",
    "\n",
    "from catboost import CatBoostRegressor"
   ]
  },
  {
   "cell_type": "code",
   "execution_count": null,
   "metadata": {
    "id": "WAGJsqMlClL_"
   },
   "outputs": [],
   "source": [
    "data = pd.read_csv('/datasets/taxi.csv')"
   ]
  },
  {
   "cell_type": "code",
   "execution_count": null,
   "metadata": {
    "id": "8Q7IKEGOClL_",
    "outputId": "365c4832-1498-4c8a-e9cc-6490b6b63455"
   },
   "outputs": [],
   "source": [
    "data.info()"
   ]
  },
  {
   "cell_type": "code",
   "execution_count": null,
   "metadata": {
    "id": "noN4QmoGClMA",
    "outputId": "433a85e5-c47a-4a64-fc6a-d05e6d73d473"
   },
   "outputs": [],
   "source": [
    "data.isna().sum()"
   ]
  },
  {
   "cell_type": "code",
   "execution_count": null,
   "metadata": {
    "id": "ONqDxnuMClMA",
    "outputId": "ff761909-b1c8-4cd3-eb07-cf14a93d1844"
   },
   "outputs": [],
   "source": [
    "data.head()"
   ]
  },
  {
   "cell_type": "code",
   "execution_count": null,
   "metadata": {
    "id": "fyH_gmQdClMA",
    "outputId": "b3012228-aec4-40fb-8760-516df884c6f0"
   },
   "outputs": [],
   "source": [
    "data.tail()"
   ]
  },
  {
   "cell_type": "code",
   "execution_count": null,
   "metadata": {
    "id": "ha7pUTYoClMB",
    "outputId": "59972f42-361e-42aa-8fc1-0b82a9186d94"
   },
   "outputs": [],
   "source": [
    "# меняем тип данных Datetime с object на datetime64\n",
    "# устанавливаем индекс таблицы равным столбцу Datetime\n",
    "# сортируем по индексам\n",
    "# проверяем временной ряд на монотонность\n",
    "data = data.astype({'datetime':'datetime64'})\n",
    "data = data.set_index('datetime')\n",
    "data = data.sort_index(ascending = True)\n",
    "print(data.index.is_monotonic)"
   ]
  },
  {
   "cell_type": "code",
   "execution_count": null,
   "metadata": {
    "id": "UTTYAcFLClMB"
   },
   "outputs": [],
   "source": [
    "# ресемплируем по одному часу\n",
    "data = data.resample('1H').sum()"
   ]
  },
  {
   "cell_type": "markdown",
   "metadata": {
    "id": "ZhSIf4BwClMB"
   },
   "source": [
    "## Анализ"
   ]
  },
  {
   "cell_type": "code",
   "execution_count": null,
   "metadata": {
    "id": "GvThd_NlClMB"
   },
   "outputs": [],
   "source": [
    "data_analis = data.copy()"
   ]
  },
  {
   "cell_type": "code",
   "execution_count": null,
   "metadata": {
    "id": "RpLt9toQClMC",
    "outputId": "0c6b9269-11d4-4f5d-e343-3c11113a9a04"
   },
   "outputs": [],
   "source": [
    "# строим тренды и сезонность\n",
    "decomposed = seasonal_decompose(data_analis)\n",
    "plt.figure(figsize=(8,10))\n",
    "plt.subplot(311)\n",
    "decomposed.trend.plot(ax=plt.gca())\n",
    "plt.title('Trend')\n",
    "plt.subplot(312)\n",
    "decomposed.seasonal.plot(ax=plt.gca()) # < напишите код здесь >\n",
    "plt.title('Seasonality')\n",
    "# plt.subplot(313)\n",
    "# decomposed.resid.plot(ax=plt.gca())# < напишите код здесь >\n",
    "# plt.title('Residuals')\n",
    "plt.tight_layout()"
   ]
  },
  {
   "cell_type": "code",
   "execution_count": null,
   "metadata": {
    "id": "vJKf99ICClMC",
    "outputId": "814a4b0a-8d95-47b3-82f8-e02da29e4e41"
   },
   "outputs": [],
   "source": [
    "# изучаем приближенно сезонность на днях\n",
    "plt.figure(figsize=(6, 8))\n",
    "plt.subplot(311)\n",
    "decomposed.seasonal['2018-03-01':'2018-03-03'].plot(ax=plt.gca())\n",
    "plt.title('Сезонность за 3 дня')\n",
    "plt.tight_layout()"
   ]
  },
  {
   "cell_type": "code",
   "execution_count": null,
   "metadata": {
    "id": "hh0RcdDBClMC"
   },
   "outputs": [],
   "source": [
    "# ресемплируем по одному дню\n",
    "data_day = data.resample('1D').sum()"
   ]
  },
  {
   "cell_type": "code",
   "execution_count": null,
   "metadata": {
    "id": "rbdsmmPyClMC",
    "outputId": "270ebc2d-b21f-436a-ad4b-3a69eeda6cbe"
   },
   "outputs": [],
   "source": [
    "# строим тренды и сезонность\n",
    "decomposed = seasonal_decompose(data_day)\n",
    "plt.figure(figsize=(10, 8))\n",
    "plt.subplot(311)\n",
    "decomposed.seasonal['2018-03-01':'2018-04-01'].plot(ax=plt.gca()) # < напишите код здесь >\n",
    "plt.title('Сезонность за 1 месяц')\n",
    "plt.tight_layout()"
   ]
  },
  {
   "cell_type": "code",
   "execution_count": null,
   "metadata": {
    "id": "F8lnb7QzClMD",
    "outputId": "28c09689-78f3-4c96-b0cc-959b9f74ba4e"
   },
   "outputs": [],
   "source": [
    "# для прогнозирования ряды должны быть стационарными,\n",
    "# Стохастический процесс стационарный, если его распределение со временем не меняется.\n",
    "# сделаем верменной ряд стационарным,  через набор разностей между соседними элементами временного ряда\n",
    "data_analis = data_analis - data_analis.shift()\n",
    "\n",
    "\n",
    "data_analis['mean'] = data_analis['num_orders'].rolling(7).mean()\n",
    "data_analis['std'] = data_analis['num_orders'].rolling(7).std()\n",
    "data_analis.plot()"
   ]
  },
  {
   "cell_type": "code",
   "execution_count": null,
   "metadata": {
    "id": "s1URaRsSClME",
    "outputId": "fa5a2eac-b58b-4b87-ba79-85b9f3564878"
   },
   "outputs": [],
   "source": [
    "data_analis.head()"
   ]
  },
  {
   "cell_type": "markdown",
   "metadata": {
    "id": "LOf-lgTwClME"
   },
   "source": [
    "Создадим признаки для горизонта прогнозирования в один день. Так как тренды и сезонность привязаны к конкретной дате, представим нужную инормацию как отдельные столбцы: согласно диаграмме трендов количество вызовов такси зависит от месяца, дня и часа. Создаем календарные признаки месяца, дня и часа. А также формируем \"отстающие значения\", это может определить функция x(t) будет расти или уменьшаться."
   ]
  },
  {
   "cell_type": "code",
   "execution_count": null,
   "metadata": {
    "id": "M_iGxg9QClME"
   },
   "outputs": [],
   "source": [
    "def make_features(data, max_lag, rolling_mean_size):\n",
    "    data['dayofweek'] = data.index.dayofweek\n",
    "    data['hour'] = data.index.hour\n",
    "    for lag in range(1, max_lag + 1):\n",
    "        data['lag_{}'.format(lag)] = data['num_orders'].shift(lag)\n",
    "    data['rolling_mean'] = data['num_orders'].shift().rolling(rolling_mean_size).mean()"
   ]
  },
  {
   "cell_type": "code",
   "execution_count": null,
   "metadata": {
    "id": "CiYQS638ClMI"
   },
   "outputs": [],
   "source": [
    "make_features(data, 8, 24)"
   ]
  },
  {
   "cell_type": "code",
   "execution_count": null,
   "metadata": {
    "id": "FA7VTgLNClMI",
    "outputId": "2c3e384a-e2e2-4d22-e30f-88ecd17b535c"
   },
   "outputs": [],
   "source": [
    "data.head()"
   ]
  },
  {
   "cell_type": "markdown",
   "metadata": {
    "id": "yD2ua94RClMJ"
   },
   "source": [
    "## Обучение"
   ]
  },
  {
   "cell_type": "code",
   "execution_count": null,
   "metadata": {
    "id": "dwYFuQAAClMJ"
   },
   "outputs": [],
   "source": [
    "#создаем таблицу выходных значений\n",
    "table_of_rmse=[]\n",
    "table_of_model=[]"
   ]
  },
  {
   "cell_type": "code",
   "execution_count": null,
   "metadata": {
    "id": "WJwyjYGqClMJ",
    "outputId": "156f2da9-bc93-40f8-ea2b-14e5cfd88d51"
   },
   "outputs": [],
   "source": [
    "data.info()"
   ]
  },
  {
   "cell_type": "code",
   "execution_count": null,
   "metadata": {
    "id": "p-LCWRPmClMJ"
   },
   "outputs": [],
   "source": [
    "# делим выборкуна train и test в размере 10%\n",
    "train, test = train_test_split(data, shuffle=False, test_size=0.1)\n",
    "train = train.dropna()\n",
    "\n",
    "features_train = train.drop(['num_orders'],axis=1)\n",
    "target_train = train['num_orders']\n",
    "features_test = test.drop(['num_orders'],axis=1)\n",
    "target_test = test['num_orders']"
   ]
  },
  {
   "cell_type": "code",
   "execution_count": null,
   "metadata": {
    "id": "7X1umw0OClMJ"
   },
   "outputs": [],
   "source": [
    "RANDOM_STATE = 42"
   ]
  },
  {
   "cell_type": "code",
   "execution_count": null,
   "metadata": {
    "id": "lIW9wdM0ClMK",
    "outputId": "b2e4add5-78ed-4ba4-88ce-0c1ad1c3fb1d"
   },
   "outputs": [],
   "source": [
    "print(train.index.min(), train.index.max())\n",
    "print(test.index.min(), test.index.max())"
   ]
  },
  {
   "cell_type": "markdown",
   "metadata": {
    "id": "aobtIJTOClMK"
   },
   "source": [
    "**Линейная регрессия с регуляризацией**"
   ]
  },
  {
   "cell_type": "code",
   "execution_count": null,
   "metadata": {
    "id": "V7JUiyzZClMK",
    "outputId": "da0fce17-a8f0-4527-8483-cae822661931"
   },
   "outputs": [],
   "source": [
    "model_ridge = Ridge(random_state=RANDOM_STATE)\n",
    "\n",
    "#словарь с гиперпараметрами и значениями, которые хотим перебрать\n",
    "param_grid_ridge = {\n",
    "    'alpha': np.arange(0, 0.21, 0.01),\n",
    "}\n",
    "tscv = TimeSeriesSplit(n_splits=3)\n",
    "gs_ridge = GridSearchCV(\n",
    "    model_ridge,\n",
    "    cv = tscv,\n",
    "    param_grid=param_grid_ridge,\n",
    "    scoring='neg_root_mean_squared_error',\n",
    "    n_jobs=-1\n",
    ")\n",
    "\n",
    "gs_ridge.fit(features_train, target_train)\n",
    "\n",
    "# лучшее значение RMSE на кросс-валидации\n",
    "print(f'best_score: {gs_ridge.best_score_* -1}')\n",
    "\n",
    "# лучшие гиперпараметры\n",
    "print(f'best_params: {gs_ridge.best_params_}')"
   ]
  },
  {
   "cell_type": "code",
   "execution_count": null,
   "metadata": {
    "id": "XIV2XBCCClML"
   },
   "outputs": [],
   "source": [
    "table_of_rmse.append(gs_ridge.best_score_* -1)\n",
    "table_of_model.append('model_ridge')"
   ]
  },
  {
   "cell_type": "markdown",
   "metadata": {
    "id": "N5G1MN9iClML"
   },
   "source": [
    "**RandomForestRegressor**"
   ]
  },
  {
   "cell_type": "code",
   "execution_count": null,
   "metadata": {
    "id": "7hiqYqisClML",
    "outputId": "d9010be5-f2ae-4ab9-b97c-b6fb2f4f4169"
   },
   "outputs": [],
   "source": [
    "param = {\n",
    "    'n_estimators':[20,30],\n",
    "    'max_features':[0.3,1]\n",
    "}\n",
    "model_rfr = RandomForestRegressor()\n",
    "gs_rfr = GridSearchCV(\n",
    "    model_rfr,\n",
    "    param,\n",
    "    cv=tscv,\n",
    "    scoring='neg_root_mean_squared_error',\n",
    "    n_jobs=-1)\n",
    "\n",
    "gs_rfr.fit(features_train, target_train)\n",
    "\n",
    "# лучшее значение RMSE на кросс-валидации\n",
    "print(f'best_score: {gs_rfr.best_score_* -1}')\n",
    "\n",
    "# лучшие гиперпараметры\n",
    "print(f'best_params: {gs_rfr.best_params_}')"
   ]
  },
  {
   "cell_type": "code",
   "execution_count": null,
   "metadata": {
    "id": "BmkXR5YlClMM"
   },
   "outputs": [],
   "source": [
    "table_of_rmse.append(gs_rfr.best_score_* -1)\n",
    "table_of_model.append(model_rfr)"
   ]
  },
  {
   "cell_type": "markdown",
   "metadata": {
    "id": "KsdoeEQFClMM"
   },
   "source": [
    "**Catboost**"
   ]
  },
  {
   "cell_type": "code",
   "execution_count": null,
   "metadata": {
    "id": "8d3gOWQMClMM",
    "outputId": "739eac2a-dec5-4d0f-eaf6-bf1370074c69"
   },
   "outputs": [],
   "source": [
    "parameter = {'learning_rate': [0.03,0.1],\n",
    "             'depth': [4,6,8],\n",
    "             'l2_leaf_reg': [1,2,3]\n",
    "              }\n",
    "model_cbr = CatBoostRegressor()\n",
    "\n",
    "gs_cbr = GridSearchCV(\n",
    "    estimator = model_cbr,\n",
    "    param_grid = parameter,\n",
    "    cv = tscv, n_jobs=-1,\n",
    "    scoring='neg_root_mean_squared_error')\n",
    "\n",
    "gs_cbr.fit(features_train, target_train)"
   ]
  },
  {
   "cell_type": "code",
   "execution_count": null,
   "metadata": {
    "id": "5UvCwo2kClMM",
    "outputId": "f27a7915-15d8-42ef-f0e3-28b4cc70a748"
   },
   "outputs": [],
   "source": [
    "# лучшее значение RMSE на кросс-валидации\n",
    "print(f'best_score: {gs_cbr.best_score_* -1}')\n",
    "\n",
    "# лучшие гиперпараметры\n",
    "print(f'best_params: {gs_cbr.best_params_}')"
   ]
  },
  {
   "cell_type": "code",
   "execution_count": null,
   "metadata": {
    "id": "h-HSb1PNClMM"
   },
   "outputs": [],
   "source": [
    "table_of_rmse.append(gs_cbr.best_score_* -1)\n",
    "table_of_model.append('model_cbr')"
   ]
  },
  {
   "cell_type": "code",
   "execution_count": null,
   "metadata": {
    "id": "5wFZIRN9ClMM",
    "outputId": "00720bfa-312d-40a1-bb59-094d51ab6a53"
   },
   "outputs": [],
   "source": [
    "models = (pd.DataFrame(\n",
    "    {'Model':table_of_model,'RMSE':table_of_rmse})\n",
    "                .sort_values(by='RMSE')\n",
    "                .set_index('Model'))\n",
    "\n",
    "models"
   ]
  },
  {
   "cell_type": "markdown",
   "metadata": {
    "id": "ZU_-V855ClMN"
   },
   "source": [
    "**Вывод**  \n",
    "По результатам обучения моделей лучшей оказалась Catboost c результатом метрики качества на train 23,95. Выбираем ее для тестирования."
   ]
  },
  {
   "cell_type": "markdown",
   "metadata": {
    "id": "mG8kVDPjClMN"
   },
   "source": [
    "## Тестирование"
   ]
  },
  {
   "cell_type": "code",
   "execution_count": null,
   "metadata": {
    "id": "A7RQJPT5ClMN",
    "outputId": "c82e5b0f-03ec-4bac-f8dc-d95784e6f852"
   },
   "outputs": [],
   "source": [
    "pred = gs_cbr.predict(features_test)\n",
    "RMSE_final_ = mean_squared_error(target_test, pred) ** 0.5\n",
    "print('RMSE на тестовой выборке - ', RMSE_final_)"
   ]
  },
  {
   "cell_type": "markdown",
   "metadata": {
    "id": "2_n5NuVYClMN"
   },
   "source": [
    "##### **Вывод**  \n",
    "1. Загрузили данные и выполнили их ресемплирование по одному часу.\n",
    "2. Проанализировали данные. Подготовили данные для обучения моделей.\n",
    "3. Обучили три модели с различными гиперпараметрами. Сделали тестовую выборку размером 10% от исходных данных.\n",
    "4. Провили данные на тестовой выборке.\n",
    "5. По результатам обучения моделей лучшей оказалась Catboost c результатом метрики качества на train 26.7. выполнили предсказания на тестовой выборке. Метрика качества работы модели на тестовой выборке получилось 45, что соответствует заявленным требованиям к модели не больше 48."
   ]
  }
 ],
 "metadata": {
  "ExecuteTimeLog": [
   {
    "duration": 487,
    "start_time": "2023-07-05T12:02:15.561Z"
   },
   {
    "duration": 7,
    "start_time": "2023-07-05T12:02:52.655Z"
   },
   {
    "duration": 18409,
    "start_time": "2023-07-05T12:03:18.993Z"
   },
   {
    "duration": 3596,
    "start_time": "2023-07-05T12:03:37.404Z"
   },
   {
    "duration": 2903,
    "start_time": "2023-07-05T12:03:41.001Z"
   },
   {
    "duration": 342,
    "start_time": "2023-07-05T12:04:34.933Z"
   },
   {
    "duration": 3,
    "start_time": "2023-07-05T12:09:20.173Z"
   },
   {
    "duration": 45,
    "start_time": "2023-07-05T12:09:40.178Z"
   },
   {
    "duration": 13,
    "start_time": "2023-07-05T12:09:52.234Z"
   },
   {
    "duration": 8,
    "start_time": "2023-07-05T12:10:41.628Z"
   },
   {
    "duration": 7,
    "start_time": "2023-07-05T12:12:40.435Z"
   },
   {
    "duration": 147,
    "start_time": "2023-07-05T12:17:30.498Z"
   },
   {
    "duration": 14,
    "start_time": "2023-07-05T12:20:03.732Z"
   },
   {
    "duration": 13,
    "start_time": "2023-07-05T12:21:06.714Z"
   },
   {
    "duration": 8,
    "start_time": "2023-07-05T12:23:04.911Z"
   },
   {
    "duration": 798,
    "start_time": "2023-07-05T12:24:42.158Z"
   },
   {
    "duration": 16,
    "start_time": "2023-07-05T12:25:50.172Z"
   },
   {
    "duration": 633,
    "start_time": "2023-07-05T12:26:29.386Z"
   },
   {
    "duration": 6,
    "start_time": "2023-07-05T12:26:41.316Z"
   },
   {
    "duration": 261,
    "start_time": "2023-07-05T12:26:41.345Z"
   },
   {
    "duration": 6,
    "start_time": "2023-07-05T12:28:59.725Z"
   },
   {
    "duration": 8,
    "start_time": "2023-07-05T12:29:32.141Z"
   },
   {
    "duration": 6,
    "start_time": "2023-07-05T12:29:44.199Z"
   },
   {
    "duration": 9,
    "start_time": "2023-07-05T12:29:45.035Z"
   },
   {
    "duration": 7,
    "start_time": "2023-07-05T12:29:57.094Z"
   },
   {
    "duration": 8,
    "start_time": "2023-07-05T12:29:57.136Z"
   },
   {
    "duration": 4015,
    "start_time": "2023-07-05T12:30:12.130Z"
   },
   {
    "duration": 2132,
    "start_time": "2023-07-05T12:30:16.148Z"
   },
   {
    "duration": 2,
    "start_time": "2023-07-05T12:30:18.282Z"
   },
   {
    "duration": 56,
    "start_time": "2023-07-05T12:30:18.286Z"
   },
   {
    "duration": 14,
    "start_time": "2023-07-05T12:30:18.343Z"
   },
   {
    "duration": 11,
    "start_time": "2023-07-05T12:30:18.359Z"
   },
   {
    "duration": 13,
    "start_time": "2023-07-05T12:30:18.372Z"
   },
   {
    "duration": 20,
    "start_time": "2023-07-05T12:30:18.387Z"
   },
   {
    "duration": 50,
    "start_time": "2023-07-05T12:30:18.409Z"
   },
   {
    "duration": 8,
    "start_time": "2023-07-05T12:30:18.462Z"
   },
   {
    "duration": 4,
    "start_time": "2023-07-05T12:30:53.769Z"
   },
   {
    "duration": 2024,
    "start_time": "2023-07-05T12:30:53.786Z"
   },
   {
    "duration": 3,
    "start_time": "2023-07-05T12:30:55.812Z"
   },
   {
    "duration": 58,
    "start_time": "2023-07-05T12:30:55.816Z"
   },
   {
    "duration": 15,
    "start_time": "2023-07-05T12:30:55.877Z"
   },
   {
    "duration": 9,
    "start_time": "2023-07-05T12:30:55.894Z"
   },
   {
    "duration": 9,
    "start_time": "2023-07-05T12:30:55.905Z"
   },
   {
    "duration": 39,
    "start_time": "2023-07-05T12:30:55.916Z"
   },
   {
    "duration": 13,
    "start_time": "2023-07-05T12:30:55.957Z"
   },
   {
    "duration": 10,
    "start_time": "2023-07-05T12:30:55.972Z"
   },
   {
    "duration": 244,
    "start_time": "2023-07-05T12:31:47.384Z"
   },
   {
    "duration": 7,
    "start_time": "2023-07-05T12:34:02.327Z"
   },
   {
    "duration": 339,
    "start_time": "2023-07-05T12:34:02.389Z"
   },
   {
    "duration": 157,
    "start_time": "2023-07-05T12:34:09.407Z"
   },
   {
    "duration": 4,
    "start_time": "2023-07-05T12:42:52.559Z"
   },
   {
    "duration": 6,
    "start_time": "2023-07-05T12:44:40.577Z"
   },
   {
    "duration": 272,
    "start_time": "2023-07-05T12:45:15.397Z"
   },
   {
    "duration": 4,
    "start_time": "2023-07-05T12:45:15.671Z"
   },
   {
    "duration": 14,
    "start_time": "2023-07-05T12:45:42.441Z"
   },
   {
    "duration": 8,
    "start_time": "2023-07-05T12:46:20.758Z"
   },
   {
    "duration": 8,
    "start_time": "2023-07-05T12:46:31.539Z"
   },
   {
    "duration": 8,
    "start_time": "2023-07-05T12:46:31.569Z"
   },
   {
    "duration": 3,
    "start_time": "2023-07-05T12:46:56.631Z"
   },
   {
    "duration": 12,
    "start_time": "2023-07-05T12:46:56.669Z"
   },
   {
    "duration": 8,
    "start_time": "2023-07-05T12:48:58.607Z"
   },
   {
    "duration": 2,
    "start_time": "2023-07-05T12:48:58.645Z"
   },
   {
    "duration": 960,
    "start_time": "2023-07-05T12:49:14.946Z"
   },
   {
    "duration": 4,
    "start_time": "2023-07-05T12:49:15.908Z"
   },
   {
    "duration": 48,
    "start_time": "2023-07-05T12:49:15.914Z"
   },
   {
    "duration": 14,
    "start_time": "2023-07-05T12:49:17.313Z"
   },
   {
    "duration": 13,
    "start_time": "2023-07-05T12:49:17.352Z"
   },
   {
    "duration": 9,
    "start_time": "2023-07-05T12:49:18.254Z"
   },
   {
    "duration": 13,
    "start_time": "2023-07-05T12:49:18.293Z"
   },
   {
    "duration": 8,
    "start_time": "2023-07-05T12:49:19.523Z"
   },
   {
    "duration": 139,
    "start_time": "2023-07-05T12:49:47.092Z"
   },
   {
    "duration": 457,
    "start_time": "2023-07-05T12:50:06.956Z"
   },
   {
    "duration": 895,
    "start_time": "2023-07-05T12:50:11.021Z"
   },
   {
    "duration": 8,
    "start_time": "2023-07-05T12:51:35.060Z"
   },
   {
    "duration": 4,
    "start_time": "2023-07-05T12:51:49.766Z"
   },
   {
    "duration": 1111,
    "start_time": "2023-07-05T12:51:49.772Z"
   },
   {
    "duration": 3,
    "start_time": "2023-07-05T12:51:50.885Z"
   },
   {
    "duration": 100,
    "start_time": "2023-07-05T12:51:50.889Z"
   },
   {
    "duration": 12,
    "start_time": "2023-07-05T12:51:50.991Z"
   },
   {
    "duration": 11,
    "start_time": "2023-07-05T12:51:51.004Z"
   },
   {
    "duration": 8,
    "start_time": "2023-07-05T12:51:51.017Z"
   },
   {
    "duration": 6,
    "start_time": "2023-07-05T12:51:51.026Z"
   },
   {
    "duration": 29,
    "start_time": "2023-07-05T12:51:51.035Z"
   },
   {
    "duration": 13,
    "start_time": "2023-07-05T12:51:51.066Z"
   },
   {
    "duration": 4,
    "start_time": "2023-07-05T12:51:51.081Z"
   },
   {
    "duration": 7,
    "start_time": "2023-07-05T12:51:51.086Z"
   },
   {
    "duration": 5,
    "start_time": "2023-07-05T12:51:51.094Z"
   },
   {
    "duration": 760,
    "start_time": "2023-07-05T12:51:51.100Z"
   },
   {
    "duration": 112,
    "start_time": "2023-07-05T12:51:51.862Z"
   },
   {
    "duration": 345,
    "start_time": "2023-07-05T12:53:55.067Z"
   },
   {
    "duration": 714,
    "start_time": "2023-07-05T12:56:12.892Z"
   },
   {
    "duration": 116,
    "start_time": "2023-07-05T12:56:38.136Z"
   },
   {
    "duration": 4,
    "start_time": "2023-07-05T12:56:52.299Z"
   },
   {
    "duration": 1131,
    "start_time": "2023-07-05T12:56:52.305Z"
   },
   {
    "duration": 3,
    "start_time": "2023-07-05T12:56:53.438Z"
   },
   {
    "duration": 108,
    "start_time": "2023-07-05T12:56:53.442Z"
   },
   {
    "duration": 13,
    "start_time": "2023-07-05T12:56:53.552Z"
   },
   {
    "duration": 8,
    "start_time": "2023-07-05T12:56:53.567Z"
   },
   {
    "duration": 10,
    "start_time": "2023-07-05T12:56:53.577Z"
   },
   {
    "duration": 8,
    "start_time": "2023-07-05T12:56:53.589Z"
   },
   {
    "duration": 14,
    "start_time": "2023-07-05T12:56:53.599Z"
   },
   {
    "duration": 44,
    "start_time": "2023-07-05T12:56:53.615Z"
   },
   {
    "duration": 3,
    "start_time": "2023-07-05T12:56:53.662Z"
   },
   {
    "duration": 12,
    "start_time": "2023-07-05T12:56:53.667Z"
   },
   {
    "duration": 4,
    "start_time": "2023-07-05T12:56:53.680Z"
   },
   {
    "duration": 171,
    "start_time": "2023-07-05T12:56:53.686Z"
   },
   {
    "duration": 0,
    "start_time": "2023-07-05T12:56:53.859Z"
   },
   {
    "duration": 129,
    "start_time": "2023-07-05T13:02:27.961Z"
   },
   {
    "duration": 114,
    "start_time": "2023-07-05T13:02:43.503Z"
   },
   {
    "duration": 111,
    "start_time": "2023-07-05T13:02:46.295Z"
   },
   {
    "duration": 840,
    "start_time": "2023-07-05T13:02:51.251Z"
   },
   {
    "duration": 154,
    "start_time": "2023-07-05T13:08:39.243Z"
   },
   {
    "duration": 336,
    "start_time": "2023-07-05T13:09:35.012Z"
   },
   {
    "duration": 304,
    "start_time": "2023-07-05T13:09:44.813Z"
   },
   {
    "duration": 263,
    "start_time": "2023-07-05T13:09:57.846Z"
   },
   {
    "duration": 288,
    "start_time": "2023-07-05T13:11:55.636Z"
   },
   {
    "duration": 1840,
    "start_time": "2023-07-05T13:13:33.115Z"
   },
   {
    "duration": 375,
    "start_time": "2023-07-05T13:14:18.991Z"
   },
   {
    "duration": 294,
    "start_time": "2023-07-05T16:10:04.148Z"
   },
   {
    "duration": 270,
    "start_time": "2023-07-05T16:10:21.590Z"
   },
   {
    "duration": 280,
    "start_time": "2023-07-05T16:12:54.423Z"
   },
   {
    "duration": 359,
    "start_time": "2023-07-05T16:13:15.725Z"
   },
   {
    "duration": 5,
    "start_time": "2023-07-05T16:14:51.554Z"
   },
   {
    "duration": 11,
    "start_time": "2023-07-05T16:15:13.779Z"
   },
   {
    "duration": 351,
    "start_time": "2023-07-05T16:16:11.889Z"
   },
   {
    "duration": 10,
    "start_time": "2023-07-05T16:16:58.513Z"
   },
   {
    "duration": 12,
    "start_time": "2023-07-05T16:17:22.834Z"
   },
   {
    "duration": 352,
    "start_time": "2023-07-05T16:18:04.236Z"
   },
   {
    "duration": 12,
    "start_time": "2023-07-05T16:18:14.566Z"
   },
   {
    "duration": 12,
    "start_time": "2023-07-05T16:18:14.609Z"
   },
   {
    "duration": 14,
    "start_time": "2023-07-05T16:19:15.520Z"
   },
   {
    "duration": 3,
    "start_time": "2023-07-05T16:19:25.292Z"
   },
   {
    "duration": 1129,
    "start_time": "2023-07-05T16:19:25.298Z"
   },
   {
    "duration": 3,
    "start_time": "2023-07-05T16:19:26.429Z"
   },
   {
    "duration": 108,
    "start_time": "2023-07-05T16:19:26.434Z"
   },
   {
    "duration": 15,
    "start_time": "2023-07-05T16:19:26.544Z"
   },
   {
    "duration": 9,
    "start_time": "2023-07-05T16:19:26.561Z"
   },
   {
    "duration": 10,
    "start_time": "2023-07-05T16:19:26.571Z"
   },
   {
    "duration": 6,
    "start_time": "2023-07-05T16:19:26.583Z"
   },
   {
    "duration": 26,
    "start_time": "2023-07-05T16:19:26.591Z"
   },
   {
    "duration": 14,
    "start_time": "2023-07-05T16:19:26.619Z"
   },
   {
    "duration": 24,
    "start_time": "2023-07-05T16:19:26.635Z"
   },
   {
    "duration": 19,
    "start_time": "2023-07-05T16:19:26.661Z"
   },
   {
    "duration": 12,
    "start_time": "2023-07-05T16:19:26.683Z"
   },
   {
    "duration": 11,
    "start_time": "2023-07-05T16:19:26.697Z"
   },
   {
    "duration": 909,
    "start_time": "2023-07-05T16:19:26.710Z"
   },
   {
    "duration": 283,
    "start_time": "2023-07-05T16:19:27.621Z"
   },
   {
    "duration": 316,
    "start_time": "2023-07-05T16:19:27.906Z"
   },
   {
    "duration": 413,
    "start_time": "2023-07-05T16:19:28.224Z"
   },
   {
    "duration": 21,
    "start_time": "2023-07-05T16:19:28.639Z"
   },
   {
    "duration": 12,
    "start_time": "2023-07-05T16:19:28.661Z"
   },
   {
    "duration": 130,
    "start_time": "2023-07-05T16:19:28.675Z"
   },
   {
    "duration": 10,
    "start_time": "2023-07-05T16:28:35.111Z"
   },
   {
    "duration": 16,
    "start_time": "2023-07-05T16:29:07.206Z"
   },
   {
    "duration": 277,
    "start_time": "2023-07-05T16:29:07.248Z"
   },
   {
    "duration": 5,
    "start_time": "2023-07-05T16:29:13.387Z"
   },
   {
    "duration": 1111,
    "start_time": "2023-07-05T16:29:13.394Z"
   },
   {
    "duration": 2,
    "start_time": "2023-07-05T16:29:14.507Z"
   },
   {
    "duration": 119,
    "start_time": "2023-07-05T16:29:14.511Z"
   },
   {
    "duration": 23,
    "start_time": "2023-07-05T16:29:14.632Z"
   },
   {
    "duration": 10,
    "start_time": "2023-07-05T16:29:14.657Z"
   },
   {
    "duration": 17,
    "start_time": "2023-07-05T16:29:14.668Z"
   },
   {
    "duration": 9,
    "start_time": "2023-07-05T16:29:14.687Z"
   },
   {
    "duration": 25,
    "start_time": "2023-07-05T16:29:14.697Z"
   },
   {
    "duration": 9,
    "start_time": "2023-07-05T16:29:14.724Z"
   },
   {
    "duration": 26,
    "start_time": "2023-07-05T16:29:14.736Z"
   },
   {
    "duration": 5,
    "start_time": "2023-07-05T16:29:14.764Z"
   },
   {
    "duration": 15,
    "start_time": "2023-07-05T16:29:14.771Z"
   },
   {
    "duration": 12,
    "start_time": "2023-07-05T16:29:14.788Z"
   },
   {
    "duration": 873,
    "start_time": "2023-07-05T16:29:14.802Z"
   },
   {
    "duration": 308,
    "start_time": "2023-07-05T16:29:15.677Z"
   },
   {
    "duration": 304,
    "start_time": "2023-07-05T16:29:15.987Z"
   },
   {
    "duration": 418,
    "start_time": "2023-07-05T16:29:16.292Z"
   },
   {
    "duration": 10,
    "start_time": "2023-07-05T16:29:16.711Z"
   },
   {
    "duration": 31,
    "start_time": "2023-07-05T16:29:16.723Z"
   },
   {
    "duration": 115,
    "start_time": "2023-07-05T16:29:16.756Z"
   },
   {
    "duration": 9,
    "start_time": "2023-07-05T16:29:53.085Z"
   },
   {
    "duration": 4,
    "start_time": "2023-07-05T16:30:29.997Z"
   },
   {
    "duration": 1266,
    "start_time": "2023-07-05T16:30:30.005Z"
   },
   {
    "duration": 3,
    "start_time": "2023-07-05T16:30:31.273Z"
   },
   {
    "duration": 145,
    "start_time": "2023-07-05T16:30:31.278Z"
   },
   {
    "duration": 16,
    "start_time": "2023-07-05T16:30:31.425Z"
   },
   {
    "duration": 26,
    "start_time": "2023-07-05T16:30:31.444Z"
   },
   {
    "duration": 23,
    "start_time": "2023-07-05T16:30:31.472Z"
   },
   {
    "duration": 33,
    "start_time": "2023-07-05T16:30:31.497Z"
   },
   {
    "duration": 40,
    "start_time": "2023-07-05T16:30:31.531Z"
   },
   {
    "duration": 23,
    "start_time": "2023-07-05T16:30:31.573Z"
   },
   {
    "duration": 19,
    "start_time": "2023-07-05T16:30:31.599Z"
   },
   {
    "duration": 18,
    "start_time": "2023-07-05T16:30:31.620Z"
   },
   {
    "duration": 19,
    "start_time": "2023-07-05T16:30:31.640Z"
   },
   {
    "duration": 9,
    "start_time": "2023-07-05T16:30:31.661Z"
   },
   {
    "duration": 895,
    "start_time": "2023-07-05T16:30:31.672Z"
   },
   {
    "duration": 239,
    "start_time": "2023-07-05T16:30:32.569Z"
   },
   {
    "duration": 317,
    "start_time": "2023-07-05T16:30:32.810Z"
   },
   {
    "duration": 10,
    "start_time": "2023-07-05T16:30:33.129Z"
   },
   {
    "duration": 419,
    "start_time": "2023-07-05T16:30:33.141Z"
   },
   {
    "duration": 10,
    "start_time": "2023-07-05T16:30:33.562Z"
   },
   {
    "duration": 15,
    "start_time": "2023-07-05T16:30:33.573Z"
   },
   {
    "duration": 122,
    "start_time": "2023-07-05T16:30:33.590Z"
   },
   {
    "duration": 342,
    "start_time": "2023-07-05T16:33:28.749Z"
   },
   {
    "duration": 10,
    "start_time": "2023-07-05T16:33:29.093Z"
   },
   {
    "duration": 10,
    "start_time": "2023-07-05T16:33:42.097Z"
   },
   {
    "duration": 11,
    "start_time": "2023-07-05T16:33:48.865Z"
   },
   {
    "duration": 4,
    "start_time": "2023-07-05T16:33:55.239Z"
   },
   {
    "duration": 1128,
    "start_time": "2023-07-05T16:33:55.245Z"
   },
   {
    "duration": 3,
    "start_time": "2023-07-05T16:33:56.375Z"
   },
   {
    "duration": 127,
    "start_time": "2023-07-05T16:33:56.380Z"
   },
   {
    "duration": 13,
    "start_time": "2023-07-05T16:33:56.510Z"
   },
   {
    "duration": 19,
    "start_time": "2023-07-05T16:33:56.524Z"
   },
   {
    "duration": 15,
    "start_time": "2023-07-05T16:33:56.545Z"
   },
   {
    "duration": 11,
    "start_time": "2023-07-05T16:33:56.562Z"
   },
   {
    "duration": 19,
    "start_time": "2023-07-05T16:33:56.575Z"
   },
   {
    "duration": 11,
    "start_time": "2023-07-05T16:33:56.596Z"
   },
   {
    "duration": 22,
    "start_time": "2023-07-05T16:33:56.609Z"
   },
   {
    "duration": 17,
    "start_time": "2023-07-05T16:33:56.633Z"
   },
   {
    "duration": 19,
    "start_time": "2023-07-05T16:33:56.652Z"
   },
   {
    "duration": 19,
    "start_time": "2023-07-05T16:33:56.672Z"
   },
   {
    "duration": 876,
    "start_time": "2023-07-05T16:33:56.693Z"
   },
   {
    "duration": 286,
    "start_time": "2023-07-05T16:33:57.570Z"
   },
   {
    "duration": 301,
    "start_time": "2023-07-05T16:33:57.858Z"
   },
   {
    "duration": 9,
    "start_time": "2023-07-05T16:33:58.161Z"
   },
   {
    "duration": 419,
    "start_time": "2023-07-05T16:33:58.172Z"
   },
   {
    "duration": 10,
    "start_time": "2023-07-05T16:33:58.592Z"
   },
   {
    "duration": 11,
    "start_time": "2023-07-05T16:33:58.603Z"
   },
   {
    "duration": 125,
    "start_time": "2023-07-05T16:33:58.616Z"
   },
   {
    "duration": 4,
    "start_time": "2023-07-05T16:37:47.573Z"
   },
   {
    "duration": 1097,
    "start_time": "2023-07-05T16:37:47.579Z"
   },
   {
    "duration": 2,
    "start_time": "2023-07-05T16:37:48.678Z"
   },
   {
    "duration": 105,
    "start_time": "2023-07-05T16:37:48.682Z"
   },
   {
    "duration": 14,
    "start_time": "2023-07-05T16:37:48.788Z"
   },
   {
    "duration": 8,
    "start_time": "2023-07-05T16:37:48.804Z"
   },
   {
    "duration": 10,
    "start_time": "2023-07-05T16:37:48.814Z"
   },
   {
    "duration": 29,
    "start_time": "2023-07-05T16:37:48.826Z"
   },
   {
    "duration": 12,
    "start_time": "2023-07-05T16:37:48.858Z"
   },
   {
    "duration": 8,
    "start_time": "2023-07-05T16:37:48.872Z"
   },
   {
    "duration": 6,
    "start_time": "2023-07-05T16:37:48.882Z"
   },
   {
    "duration": 3,
    "start_time": "2023-07-05T16:37:48.890Z"
   },
   {
    "duration": 837,
    "start_time": "2023-07-05T16:37:48.894Z"
   },
   {
    "duration": 267,
    "start_time": "2023-07-05T16:37:49.733Z"
   },
   {
    "duration": 265,
    "start_time": "2023-07-05T16:37:50.002Z"
   },
   {
    "duration": 316,
    "start_time": "2023-07-05T16:37:50.269Z"
   },
   {
    "duration": 10,
    "start_time": "2023-07-05T16:37:50.587Z"
   },
   {
    "duration": 25,
    "start_time": "2023-07-05T16:37:50.598Z"
   },
   {
    "duration": 114,
    "start_time": "2023-07-05T16:37:50.625Z"
   },
   {
    "duration": 390,
    "start_time": "2023-07-05T16:38:46.797Z"
   },
   {
    "duration": 296,
    "start_time": "2023-07-05T16:40:10.951Z"
   },
   {
    "duration": 6,
    "start_time": "2023-07-05T16:40:18.474Z"
   },
   {
    "duration": 5,
    "start_time": "2023-07-05T16:41:50.704Z"
   },
   {
    "duration": 283,
    "start_time": "2023-07-05T17:01:45.903Z"
   },
   {
    "duration": 375,
    "start_time": "2023-07-05T17:01:46.188Z"
   },
   {
    "duration": 263,
    "start_time": "2023-07-05T17:01:58.715Z"
   },
   {
    "duration": 426,
    "start_time": "2023-07-05T17:19:56.878Z"
   },
   {
    "duration": 9,
    "start_time": "2023-07-05T17:19:57.306Z"
   },
   {
    "duration": 8,
    "start_time": "2023-07-05T17:40:10.725Z"
   },
   {
    "duration": 4,
    "start_time": "2023-07-05T17:40:21.193Z"
   },
   {
    "duration": 1271,
    "start_time": "2023-07-05T17:40:21.199Z"
   },
   {
    "duration": 2,
    "start_time": "2023-07-05T17:40:22.472Z"
   },
   {
    "duration": 49,
    "start_time": "2023-07-05T17:40:22.476Z"
   },
   {
    "duration": 14,
    "start_time": "2023-07-05T17:40:22.527Z"
   },
   {
    "duration": 17,
    "start_time": "2023-07-05T17:40:22.542Z"
   },
   {
    "duration": 8,
    "start_time": "2023-07-05T17:40:22.561Z"
   },
   {
    "duration": 6,
    "start_time": "2023-07-05T17:40:22.570Z"
   },
   {
    "duration": 11,
    "start_time": "2023-07-05T17:40:22.578Z"
   },
   {
    "duration": 8,
    "start_time": "2023-07-05T17:40:22.591Z"
   },
   {
    "duration": 8,
    "start_time": "2023-07-05T17:40:22.601Z"
   },
   {
    "duration": 4,
    "start_time": "2023-07-05T17:40:22.655Z"
   },
   {
    "duration": 935,
    "start_time": "2023-07-05T17:40:22.661Z"
   },
   {
    "duration": 285,
    "start_time": "2023-07-05T17:40:23.600Z"
   },
   {
    "duration": 342,
    "start_time": "2023-07-05T17:40:23.888Z"
   },
   {
    "duration": 10,
    "start_time": "2023-07-05T17:40:24.232Z"
   },
   {
    "duration": 4,
    "start_time": "2023-07-05T17:40:24.255Z"
   },
   {
    "duration": 10,
    "start_time": "2023-07-05T17:40:24.260Z"
   },
   {
    "duration": 14,
    "start_time": "2023-07-05T17:40:24.272Z"
   },
   {
    "duration": 10,
    "start_time": "2023-07-05T17:40:24.288Z"
   },
   {
    "duration": 4,
    "start_time": "2023-07-05T17:40:24.299Z"
   },
   {
    "duration": 232,
    "start_time": "2023-07-05T17:40:24.305Z"
   },
   {
    "duration": 5,
    "start_time": "2023-07-05T17:41:20.379Z"
   },
   {
    "duration": 6,
    "start_time": "2023-07-05T17:41:21.386Z"
   },
   {
    "duration": 25,
    "start_time": "2023-07-05T17:41:25.647Z"
   },
   {
    "duration": 11,
    "start_time": "2023-07-05T17:44:14.659Z"
   },
   {
    "duration": 1454,
    "start_time": "2023-07-05T17:52:50.811Z"
   },
   {
    "duration": 46,
    "start_time": "2023-07-05T17:52:52.267Z"
   },
   {
    "duration": 14,
    "start_time": "2023-07-05T17:52:52.315Z"
   },
   {
    "duration": 8,
    "start_time": "2023-07-05T17:52:52.331Z"
   },
   {
    "duration": 14,
    "start_time": "2023-07-05T17:52:52.341Z"
   },
   {
    "duration": 9,
    "start_time": "2023-07-05T17:52:52.357Z"
   },
   {
    "duration": 18,
    "start_time": "2023-07-05T17:52:52.368Z"
   },
   {
    "duration": 19,
    "start_time": "2023-07-05T17:52:52.388Z"
   },
   {
    "duration": 8,
    "start_time": "2023-07-05T17:52:52.409Z"
   },
   {
    "duration": 14,
    "start_time": "2023-07-05T17:52:52.419Z"
   },
   {
    "duration": 832,
    "start_time": "2023-07-05T17:52:52.435Z"
   },
   {
    "duration": 232,
    "start_time": "2023-07-05T17:52:53.269Z"
   },
   {
    "duration": 430,
    "start_time": "2023-07-05T17:52:53.503Z"
   },
   {
    "duration": 19,
    "start_time": "2023-07-05T17:52:53.935Z"
   },
   {
    "duration": 4,
    "start_time": "2023-07-05T17:52:53.956Z"
   },
   {
    "duration": 18,
    "start_time": "2023-07-05T17:52:53.961Z"
   },
   {
    "duration": 16,
    "start_time": "2023-07-05T17:52:53.981Z"
   },
   {
    "duration": 13,
    "start_time": "2023-07-05T17:52:53.999Z"
   },
   {
    "duration": 12,
    "start_time": "2023-07-05T17:52:54.013Z"
   },
   {
    "duration": 30,
    "start_time": "2023-07-05T17:52:54.027Z"
   },
   {
    "duration": 97,
    "start_time": "2023-07-05T17:52:54.059Z"
   },
   {
    "duration": 12,
    "start_time": "2023-07-05T18:02:07.546Z"
   },
   {
    "duration": 2,
    "start_time": "2023-07-05T18:04:06.209Z"
   },
   {
    "duration": 1233,
    "start_time": "2023-07-05T18:06:30.307Z"
   },
   {
    "duration": 47,
    "start_time": "2023-07-05T18:06:31.542Z"
   },
   {
    "duration": 13,
    "start_time": "2023-07-05T18:06:31.591Z"
   },
   {
    "duration": 35,
    "start_time": "2023-07-05T18:06:31.606Z"
   },
   {
    "duration": 29,
    "start_time": "2023-07-05T18:06:31.643Z"
   },
   {
    "duration": 10,
    "start_time": "2023-07-05T18:06:31.674Z"
   },
   {
    "duration": 19,
    "start_time": "2023-07-05T18:06:31.685Z"
   },
   {
    "duration": 11,
    "start_time": "2023-07-05T18:06:31.705Z"
   },
   {
    "duration": 6,
    "start_time": "2023-07-05T18:06:31.718Z"
   },
   {
    "duration": 9,
    "start_time": "2023-07-05T18:06:31.725Z"
   },
   {
    "duration": 832,
    "start_time": "2023-07-05T18:06:31.735Z"
   },
   {
    "duration": 226,
    "start_time": "2023-07-05T18:06:32.569Z"
   },
   {
    "duration": 399,
    "start_time": "2023-07-05T18:06:32.797Z"
   },
   {
    "duration": 9,
    "start_time": "2023-07-05T18:06:33.199Z"
   },
   {
    "duration": 7,
    "start_time": "2023-07-05T18:06:33.210Z"
   },
   {
    "duration": 12,
    "start_time": "2023-07-05T18:06:33.218Z"
   },
   {
    "duration": 28,
    "start_time": "2023-07-05T18:06:33.232Z"
   },
   {
    "duration": 11,
    "start_time": "2023-07-05T18:06:33.262Z"
   },
   {
    "duration": 14,
    "start_time": "2023-07-05T18:06:33.275Z"
   },
   {
    "duration": 2,
    "start_time": "2023-07-05T18:06:33.291Z"
   },
   {
    "duration": 6,
    "start_time": "2023-07-05T18:06:33.295Z"
   },
   {
    "duration": 4,
    "start_time": "2023-07-05T18:06:33.302Z"
   },
   {
    "duration": 144,
    "start_time": "2023-07-05T18:06:33.307Z"
   },
   {
    "duration": 4,
    "start_time": "2023-07-05T18:06:58.112Z"
   },
   {
    "duration": 12,
    "start_time": "2023-07-05T18:07:06.297Z"
   },
   {
    "duration": 3,
    "start_time": "2023-07-05T18:07:33.145Z"
   },
   {
    "duration": 1006,
    "start_time": "2023-07-05T18:07:42.779Z"
   },
   {
    "duration": 11,
    "start_time": "2023-07-05T18:21:49.093Z"
   },
   {
    "duration": 1279,
    "start_time": "2023-07-05T18:21:55.268Z"
   },
   {
    "duration": 44,
    "start_time": "2023-07-05T18:21:56.550Z"
   },
   {
    "duration": 16,
    "start_time": "2023-07-05T18:21:56.595Z"
   },
   {
    "duration": 22,
    "start_time": "2023-07-05T18:21:56.613Z"
   },
   {
    "duration": 11,
    "start_time": "2023-07-05T18:21:56.637Z"
   },
   {
    "duration": 7,
    "start_time": "2023-07-05T18:21:56.649Z"
   },
   {
    "duration": 15,
    "start_time": "2023-07-05T18:21:56.658Z"
   },
   {
    "duration": 13,
    "start_time": "2023-07-05T18:21:56.675Z"
   },
   {
    "duration": 19,
    "start_time": "2023-07-05T18:21:56.690Z"
   },
   {
    "duration": 4,
    "start_time": "2023-07-05T18:21:56.711Z"
   },
   {
    "duration": 848,
    "start_time": "2023-07-05T18:21:56.716Z"
   },
   {
    "duration": 228,
    "start_time": "2023-07-05T18:21:57.566Z"
   },
   {
    "duration": 405,
    "start_time": "2023-07-05T18:21:57.796Z"
   },
   {
    "duration": 10,
    "start_time": "2023-07-05T18:21:58.204Z"
   },
   {
    "duration": 5,
    "start_time": "2023-07-05T18:21:58.216Z"
   },
   {
    "duration": 20,
    "start_time": "2023-07-05T18:21:58.222Z"
   },
   {
    "duration": 15,
    "start_time": "2023-07-05T18:21:58.253Z"
   },
   {
    "duration": 12,
    "start_time": "2023-07-05T18:21:58.270Z"
   },
   {
    "duration": 9,
    "start_time": "2023-07-05T18:21:58.283Z"
   },
   {
    "duration": 2,
    "start_time": "2023-07-05T18:21:58.294Z"
   },
   {
    "duration": 4,
    "start_time": "2023-07-05T18:21:58.298Z"
   },
   {
    "duration": 5,
    "start_time": "2023-07-05T18:21:58.304Z"
   },
   {
    "duration": 146,
    "start_time": "2023-07-05T18:21:58.310Z"
   },
   {
    "duration": 0,
    "start_time": "2023-07-05T18:21:58.458Z"
   },
   {
    "duration": 0,
    "start_time": "2023-07-05T18:21:58.460Z"
   },
   {
    "duration": 0,
    "start_time": "2023-07-05T18:21:58.462Z"
   },
   {
    "duration": 0,
    "start_time": "2023-07-05T18:21:58.463Z"
   },
   {
    "duration": 0,
    "start_time": "2023-07-05T18:21:58.465Z"
   },
   {
    "duration": 0,
    "start_time": "2023-07-05T18:21:58.467Z"
   },
   {
    "duration": 0,
    "start_time": "2023-07-05T18:21:58.469Z"
   },
   {
    "duration": 15,
    "start_time": "2023-07-05T18:22:31.333Z"
   },
   {
    "duration": 11,
    "start_time": "2023-07-05T18:22:40.082Z"
   },
   {
    "duration": 1211,
    "start_time": "2023-07-05T18:22:46.013Z"
   },
   {
    "duration": 45,
    "start_time": "2023-07-05T18:22:47.226Z"
   },
   {
    "duration": 13,
    "start_time": "2023-07-05T18:22:47.272Z"
   },
   {
    "duration": 9,
    "start_time": "2023-07-05T18:22:47.286Z"
   },
   {
    "duration": 18,
    "start_time": "2023-07-05T18:22:47.298Z"
   },
   {
    "duration": 7,
    "start_time": "2023-07-05T18:22:47.318Z"
   },
   {
    "duration": 42,
    "start_time": "2023-07-05T18:22:47.327Z"
   },
   {
    "duration": 11,
    "start_time": "2023-07-05T18:22:47.371Z"
   },
   {
    "duration": 10,
    "start_time": "2023-07-05T18:22:47.385Z"
   },
   {
    "duration": 8,
    "start_time": "2023-07-05T18:22:47.398Z"
   },
   {
    "duration": 835,
    "start_time": "2023-07-05T18:22:47.408Z"
   },
   {
    "duration": 236,
    "start_time": "2023-07-05T18:22:48.245Z"
   },
   {
    "duration": 412,
    "start_time": "2023-07-05T18:22:48.483Z"
   },
   {
    "duration": 9,
    "start_time": "2023-07-05T18:22:48.898Z"
   },
   {
    "duration": 4,
    "start_time": "2023-07-05T18:22:48.909Z"
   },
   {
    "duration": 10,
    "start_time": "2023-07-05T18:22:48.914Z"
   },
   {
    "duration": 30,
    "start_time": "2023-07-05T18:22:48.925Z"
   },
   {
    "duration": 13,
    "start_time": "2023-07-05T18:22:48.957Z"
   },
   {
    "duration": 9,
    "start_time": "2023-07-05T18:22:48.972Z"
   },
   {
    "duration": 2,
    "start_time": "2023-07-05T18:22:48.983Z"
   },
   {
    "duration": 5,
    "start_time": "2023-07-05T18:22:48.987Z"
   },
   {
    "duration": 3,
    "start_time": "2023-07-05T18:22:48.993Z"
   },
   {
    "duration": 148,
    "start_time": "2023-07-05T18:22:48.998Z"
   },
   {
    "duration": 0,
    "start_time": "2023-07-05T18:22:49.148Z"
   },
   {
    "duration": 0,
    "start_time": "2023-07-05T18:22:49.154Z"
   },
   {
    "duration": 0,
    "start_time": "2023-07-05T18:22:49.155Z"
   },
   {
    "duration": 0,
    "start_time": "2023-07-05T18:22:49.156Z"
   },
   {
    "duration": 0,
    "start_time": "2023-07-05T18:22:49.157Z"
   },
   {
    "duration": 0,
    "start_time": "2023-07-05T18:22:49.159Z"
   },
   {
    "duration": 0,
    "start_time": "2023-07-05T18:22:49.160Z"
   },
   {
    "duration": 4,
    "start_time": "2023-07-05T18:24:29.547Z"
   },
   {
    "duration": 21,
    "start_time": "2023-07-05T18:24:36.738Z"
   },
   {
    "duration": 17,
    "start_time": "2023-07-05T18:27:44.916Z"
   },
   {
    "duration": 56,
    "start_time": "2023-07-05T18:31:02.229Z"
   },
   {
    "duration": 1320,
    "start_time": "2023-07-05T18:31:13.444Z"
   },
   {
    "duration": 46,
    "start_time": "2023-07-05T18:31:14.766Z"
   },
   {
    "duration": 14,
    "start_time": "2023-07-05T18:31:14.813Z"
   },
   {
    "duration": 8,
    "start_time": "2023-07-05T18:31:14.828Z"
   },
   {
    "duration": 20,
    "start_time": "2023-07-05T18:31:14.839Z"
   },
   {
    "duration": 13,
    "start_time": "2023-07-05T18:31:14.860Z"
   },
   {
    "duration": 14,
    "start_time": "2023-07-05T18:31:14.874Z"
   },
   {
    "duration": 12,
    "start_time": "2023-07-05T18:31:14.889Z"
   },
   {
    "duration": 7,
    "start_time": "2023-07-05T18:31:14.903Z"
   },
   {
    "duration": 13,
    "start_time": "2023-07-05T18:31:14.911Z"
   },
   {
    "duration": 873,
    "start_time": "2023-07-05T18:31:14.926Z"
   },
   {
    "duration": 325,
    "start_time": "2023-07-05T18:31:15.801Z"
   },
   {
    "duration": 471,
    "start_time": "2023-07-05T18:31:16.128Z"
   },
   {
    "duration": 10,
    "start_time": "2023-07-05T18:31:16.602Z"
   },
   {
    "duration": 260,
    "start_time": "2023-07-05T18:31:16.614Z"
   },
   {
    "duration": 56,
    "start_time": "2023-07-05T18:31:16.876Z"
   },
   {
    "duration": 22,
    "start_time": "2023-07-05T18:31:16.934Z"
   },
   {
    "duration": 21,
    "start_time": "2023-07-05T18:31:16.959Z"
   },
   {
    "duration": 12,
    "start_time": "2023-07-05T18:31:16.982Z"
   },
   {
    "duration": 3,
    "start_time": "2023-07-05T18:31:16.996Z"
   },
   {
    "duration": 11,
    "start_time": "2023-07-05T18:31:17.001Z"
   },
   {
    "duration": 3,
    "start_time": "2023-07-05T18:31:17.014Z"
   },
   {
    "duration": 199,
    "start_time": "2023-07-05T18:31:17.019Z"
   },
   {
    "duration": 0,
    "start_time": "2023-07-05T18:31:17.220Z"
   },
   {
    "duration": 0,
    "start_time": "2023-07-05T18:31:17.221Z"
   },
   {
    "duration": 0,
    "start_time": "2023-07-05T18:31:17.223Z"
   },
   {
    "duration": 0,
    "start_time": "2023-07-05T18:31:17.224Z"
   },
   {
    "duration": 0,
    "start_time": "2023-07-05T18:31:17.226Z"
   },
   {
    "duration": 0,
    "start_time": "2023-07-05T18:31:17.227Z"
   },
   {
    "duration": 0,
    "start_time": "2023-07-05T18:31:17.228Z"
   },
   {
    "duration": 1023,
    "start_time": "2023-07-05T18:36:53.774Z"
   },
   {
    "duration": 16,
    "start_time": "2023-07-05T18:39:36.294Z"
   },
   {
    "duration": 283,
    "start_time": "2023-07-05T18:40:46.276Z"
   },
   {
    "duration": 1938,
    "start_time": "2023-07-05T18:40:59.695Z"
   },
   {
    "duration": 18,
    "start_time": "2023-07-05T18:41:23.106Z"
   },
   {
    "duration": 11,
    "start_time": "2023-07-05T18:41:23.557Z"
   },
   {
    "duration": 3,
    "start_time": "2023-07-05T18:41:47.136Z"
   },
   {
    "duration": 13,
    "start_time": "2023-07-05T18:41:59.583Z"
   },
   {
    "duration": 10,
    "start_time": "2023-07-05T18:42:14.276Z"
   },
   {
    "duration": 1441,
    "start_time": "2023-07-05T18:43:55.534Z"
   },
   {
    "duration": 45,
    "start_time": "2023-07-05T18:43:56.977Z"
   },
   {
    "duration": 13,
    "start_time": "2023-07-05T18:43:57.025Z"
   },
   {
    "duration": 10,
    "start_time": "2023-07-05T18:43:57.040Z"
   },
   {
    "duration": 9,
    "start_time": "2023-07-05T18:43:57.052Z"
   },
   {
    "duration": 7,
    "start_time": "2023-07-05T18:43:57.063Z"
   },
   {
    "duration": 12,
    "start_time": "2023-07-05T18:43:57.072Z"
   },
   {
    "duration": 10,
    "start_time": "2023-07-05T18:43:57.086Z"
   },
   {
    "duration": 6,
    "start_time": "2023-07-05T18:43:57.098Z"
   },
   {
    "duration": 4,
    "start_time": "2023-07-05T18:43:57.106Z"
   },
   {
    "duration": 905,
    "start_time": "2023-07-05T18:43:57.111Z"
   },
   {
    "duration": 368,
    "start_time": "2023-07-05T18:43:58.018Z"
   },
   {
    "duration": 335,
    "start_time": "2023-07-05T18:43:58.387Z"
   },
   {
    "duration": 10,
    "start_time": "2023-07-05T18:43:58.725Z"
   },
   {
    "duration": 5,
    "start_time": "2023-07-05T18:43:58.737Z"
   },
   {
    "duration": 9,
    "start_time": "2023-07-05T18:43:58.755Z"
   },
   {
    "duration": 15,
    "start_time": "2023-07-05T18:43:58.766Z"
   },
   {
    "duration": 15,
    "start_time": "2023-07-05T18:43:58.783Z"
   },
   {
    "duration": 19,
    "start_time": "2023-07-05T18:43:58.800Z"
   },
   {
    "duration": 2,
    "start_time": "2023-07-05T18:43:58.821Z"
   },
   {
    "duration": 6,
    "start_time": "2023-07-05T18:43:59.130Z"
   },
   {
    "duration": 4,
    "start_time": "2023-07-05T18:43:59.139Z"
   },
   {
    "duration": 1072,
    "start_time": "2023-07-05T18:43:59.505Z"
   },
   {
    "duration": 2031,
    "start_time": "2023-07-05T18:44:00.579Z"
   },
   {
    "duration": 5,
    "start_time": "2023-07-05T18:44:17.577Z"
   },
   {
    "duration": 165,
    "start_time": "2023-07-05T18:44:17.583Z"
   },
   {
    "duration": 12,
    "start_time": "2023-07-05T18:44:18.415Z"
   },
   {
    "duration": 0,
    "start_time": "2023-07-05T18:44:18.429Z"
   },
   {
    "duration": 0,
    "start_time": "2023-07-05T18:44:18.430Z"
   },
   {
    "duration": 1,
    "start_time": "2023-07-05T18:44:18.431Z"
   },
   {
    "duration": 374,
    "start_time": "2023-07-05T18:44:44.308Z"
   },
   {
    "duration": 2,
    "start_time": "2023-07-05T18:45:08.590Z"
   },
   {
    "duration": 11,
    "start_time": "2023-07-05T18:46:12.588Z"
   },
   {
    "duration": 12,
    "start_time": "2023-07-06T02:56:00.795Z"
   },
   {
    "duration": 6,
    "start_time": "2023-07-06T02:57:42.808Z"
   },
   {
    "duration": 13,
    "start_time": "2023-07-06T02:58:15.819Z"
   },
   {
    "duration": 239,
    "start_time": "2023-07-06T02:58:44.540Z"
   },
   {
    "duration": 211,
    "start_time": "2023-07-06T02:58:57.080Z"
   },
   {
    "duration": 335,
    "start_time": "2023-07-06T03:21:36.161Z"
   },
   {
    "duration": 397,
    "start_time": "2023-07-06T03:21:48.739Z"
   },
   {
    "duration": 4,
    "start_time": "2023-07-06T18:57:21.404Z"
   },
   {
    "duration": 72,
    "start_time": "2023-07-06T18:57:24.829Z"
   },
   {
    "duration": 5,
    "start_time": "2023-07-06T18:57:34.969Z"
   },
   {
    "duration": 6,
    "start_time": "2023-07-06T18:57:35.989Z"
   },
   {
    "duration": 7,
    "start_time": "2023-07-06T18:58:37.401Z"
   },
   {
    "duration": 48,
    "start_time": "2023-07-06T18:59:23.886Z"
   },
   {
    "duration": 7,
    "start_time": "2023-07-06T19:00:21.838Z"
   },
   {
    "duration": 7,
    "start_time": "2023-07-06T19:00:31.825Z"
   },
   {
    "duration": 6,
    "start_time": "2023-07-06T19:00:54.942Z"
   },
   {
    "duration": 6,
    "start_time": "2023-07-06T19:21:13.017Z"
   },
   {
    "duration": 1493,
    "start_time": "2023-07-06T19:21:28.097Z"
   },
   {
    "duration": 54,
    "start_time": "2023-07-06T19:21:29.593Z"
   },
   {
    "duration": 11,
    "start_time": "2023-07-06T19:21:29.648Z"
   },
   {
    "duration": 24,
    "start_time": "2023-07-06T19:21:29.661Z"
   },
   {
    "duration": 10,
    "start_time": "2023-07-06T19:21:29.686Z"
   },
   {
    "duration": 6,
    "start_time": "2023-07-06T19:21:29.697Z"
   },
   {
    "duration": 9,
    "start_time": "2023-07-06T19:21:29.705Z"
   },
   {
    "duration": 17,
    "start_time": "2023-07-06T19:21:29.716Z"
   },
   {
    "duration": 7,
    "start_time": "2023-07-06T19:21:29.735Z"
   },
   {
    "duration": 588,
    "start_time": "2023-07-06T19:21:29.744Z"
   },
   {
    "duration": 494,
    "start_time": "2023-07-06T19:21:30.334Z"
   },
   {
    "duration": 310,
    "start_time": "2023-07-06T19:21:30.830Z"
   },
   {
    "duration": 9,
    "start_time": "2023-07-06T19:21:31.142Z"
   },
   {
    "duration": 30,
    "start_time": "2023-07-06T19:21:31.152Z"
   },
   {
    "duration": 28,
    "start_time": "2023-07-06T19:21:31.184Z"
   },
   {
    "duration": 37,
    "start_time": "2023-07-06T19:21:31.214Z"
   },
   {
    "duration": 34,
    "start_time": "2023-07-06T19:21:31.252Z"
   },
   {
    "duration": 32,
    "start_time": "2023-07-06T19:21:31.288Z"
   },
   {
    "duration": 23,
    "start_time": "2023-07-06T19:21:31.321Z"
   },
   {
    "duration": 41,
    "start_time": "2023-07-06T19:21:31.345Z"
   },
   {
    "duration": 38,
    "start_time": "2023-07-06T19:21:31.388Z"
   },
   {
    "duration": 1080,
    "start_time": "2023-07-06T19:21:31.428Z"
   },
   {
    "duration": 3,
    "start_time": "2023-07-06T19:21:32.510Z"
   },
   {
    "duration": 2356,
    "start_time": "2023-07-06T19:21:32.568Z"
   },
   {
    "duration": 2,
    "start_time": "2023-07-06T19:21:34.926Z"
   },
   {
    "duration": 248390,
    "start_time": "2023-07-06T19:21:34.929Z"
   },
   {
    "duration": 3,
    "start_time": "2023-07-06T19:25:43.321Z"
   },
   {
    "duration": 15,
    "start_time": "2023-07-06T19:25:43.327Z"
   },
   {
    "duration": 30,
    "start_time": "2023-07-06T19:25:43.344Z"
   },
   {
    "duration": 115,
    "start_time": "2023-07-06T19:25:43.380Z"
   },
   {
    "duration": 9,
    "start_time": "2023-07-06T19:27:01.489Z"
   },
   {
    "duration": 15,
    "start_time": "2023-07-06T19:27:13.692Z"
   },
   {
    "duration": 1513,
    "start_time": "2023-07-06T19:28:26.491Z"
   },
   {
    "duration": 55,
    "start_time": "2023-07-06T19:28:28.005Z"
   },
   {
    "duration": 21,
    "start_time": "2023-07-06T19:28:28.062Z"
   },
   {
    "duration": 9,
    "start_time": "2023-07-06T19:28:28.085Z"
   },
   {
    "duration": 13,
    "start_time": "2023-07-06T19:28:28.097Z"
   },
   {
    "duration": 8,
    "start_time": "2023-07-06T19:28:28.111Z"
   },
   {
    "duration": 15,
    "start_time": "2023-07-06T19:28:28.121Z"
   },
   {
    "duration": 9,
    "start_time": "2023-07-06T19:28:28.137Z"
   },
   {
    "duration": 21,
    "start_time": "2023-07-06T19:28:28.147Z"
   },
   {
    "duration": 583,
    "start_time": "2023-07-06T19:28:28.169Z"
   },
   {
    "duration": 476,
    "start_time": "2023-07-06T19:28:28.753Z"
   },
   {
    "duration": 298,
    "start_time": "2023-07-06T19:28:29.231Z"
   },
   {
    "duration": 9,
    "start_time": "2023-07-06T19:28:29.530Z"
   },
   {
    "duration": 4,
    "start_time": "2023-07-06T19:28:29.541Z"
   },
   {
    "duration": 32,
    "start_time": "2023-07-06T19:28:29.546Z"
   },
   {
    "duration": 12,
    "start_time": "2023-07-06T19:28:29.582Z"
   },
   {
    "duration": 7,
    "start_time": "2023-07-06T19:28:29.595Z"
   },
   {
    "duration": 15,
    "start_time": "2023-07-06T19:28:29.603Z"
   },
   {
    "duration": 8,
    "start_time": "2023-07-06T19:28:29.620Z"
   },
   {
    "duration": 5,
    "start_time": "2023-07-06T19:28:29.629Z"
   },
   {
    "duration": 7,
    "start_time": "2023-07-06T19:28:29.635Z"
   },
   {
    "duration": 1066,
    "start_time": "2023-07-06T19:28:29.644Z"
   },
   {
    "duration": 3,
    "start_time": "2023-07-06T19:28:30.712Z"
   },
   {
    "duration": 2333,
    "start_time": "2023-07-06T19:28:30.780Z"
   },
   {
    "duration": 2,
    "start_time": "2023-07-06T19:28:33.115Z"
   },
   {
    "duration": 255860,
    "start_time": "2023-07-06T19:28:33.119Z"
   },
   {
    "duration": 5,
    "start_time": "2023-07-06T19:32:48.985Z"
   },
   {
    "duration": 14,
    "start_time": "2023-07-06T19:32:48.992Z"
   },
   {
    "duration": 17,
    "start_time": "2023-07-06T19:32:49.008Z"
   },
   {
    "duration": 182,
    "start_time": "2023-07-06T19:32:49.026Z"
   },
   {
    "duration": 1553,
    "start_time": "2023-07-06T20:35:50.624Z"
   },
   {
    "duration": 41,
    "start_time": "2023-07-06T20:35:52.179Z"
   },
   {
    "duration": 11,
    "start_time": "2023-07-06T20:35:52.222Z"
   },
   {
    "duration": 21,
    "start_time": "2023-07-06T20:35:52.235Z"
   },
   {
    "duration": 10,
    "start_time": "2023-07-06T20:35:52.258Z"
   },
   {
    "duration": 7,
    "start_time": "2023-07-06T20:35:52.280Z"
   },
   {
    "duration": 17,
    "start_time": "2023-07-06T20:35:52.288Z"
   },
   {
    "duration": 30,
    "start_time": "2023-07-06T20:35:52.306Z"
   },
   {
    "duration": 3,
    "start_time": "2023-07-06T20:35:52.338Z"
   },
   {
    "duration": 774,
    "start_time": "2023-07-06T20:35:52.342Z"
   },
   {
    "duration": 610,
    "start_time": "2023-07-06T20:35:53.118Z"
   },
   {
    "duration": 453,
    "start_time": "2023-07-06T20:35:53.730Z"
   },
   {
    "duration": 12,
    "start_time": "2023-07-06T20:35:54.184Z"
   },
   {
    "duration": 17,
    "start_time": "2023-07-06T20:35:54.200Z"
   },
   {
    "duration": 65,
    "start_time": "2023-07-06T20:35:54.219Z"
   },
   {
    "duration": 12,
    "start_time": "2023-07-06T20:35:54.286Z"
   },
   {
    "duration": 38,
    "start_time": "2023-07-06T20:35:54.300Z"
   },
   {
    "duration": 54,
    "start_time": "2023-07-06T20:35:54.340Z"
   },
   {
    "duration": 12,
    "start_time": "2023-07-06T20:35:54.396Z"
   },
   {
    "duration": 16,
    "start_time": "2023-07-06T20:35:54.410Z"
   },
   {
    "duration": 31,
    "start_time": "2023-07-06T20:35:54.428Z"
   },
   {
    "duration": 1655,
    "start_time": "2023-07-06T20:35:54.461Z"
   },
   {
    "duration": 5,
    "start_time": "2023-07-06T20:35:56.171Z"
   },
   {
    "duration": 2513,
    "start_time": "2023-07-06T20:35:56.178Z"
   },
   {
    "duration": 3,
    "start_time": "2023-07-06T20:35:58.693Z"
   },
   {
    "duration": 256000,
    "start_time": "2023-07-06T20:35:58.697Z"
   },
   {
    "duration": 3,
    "start_time": "2023-07-06T20:40:14.700Z"
   },
   {
    "duration": 6,
    "start_time": "2023-07-06T20:40:14.704Z"
   },
   {
    "duration": 11,
    "start_time": "2023-07-06T20:40:14.711Z"
   },
   {
    "duration": 122,
    "start_time": "2023-07-06T20:40:14.724Z"
   },
   {
    "duration": 13,
    "start_time": "2023-07-06T20:41:05.053Z"
   },
   {
    "duration": 4,
    "start_time": "2023-07-06T20:42:37.731Z"
   },
   {
    "duration": 6,
    "start_time": "2023-07-06T20:42:48.107Z"
   },
   {
    "duration": 1743,
    "start_time": "2023-07-07T02:11:24.796Z"
   },
   {
    "duration": 171,
    "start_time": "2023-07-07T02:11:28.783Z"
   },
   {
    "duration": 11,
    "start_time": "2023-07-07T02:11:29.387Z"
   },
   {
    "duration": 8,
    "start_time": "2023-07-07T02:11:30.060Z"
   },
   {
    "duration": 8,
    "start_time": "2023-07-07T02:11:30.854Z"
   },
   {
    "duration": 6,
    "start_time": "2023-07-07T02:11:32.780Z"
   },
   {
    "duration": 10,
    "start_time": "2023-07-07T02:11:34.425Z"
   },
   {
    "duration": 9,
    "start_time": "2023-07-07T02:11:36.284Z"
   },
   {
    "duration": 3,
    "start_time": "2023-07-07T02:11:38.581Z"
   },
   {
    "duration": 635,
    "start_time": "2023-07-07T02:11:40.107Z"
   },
   {
    "duration": 455,
    "start_time": "2023-07-07T02:11:40.744Z"
   },
   {
    "duration": 237,
    "start_time": "2023-07-07T02:13:01.473Z"
   },
   {
    "duration": 5,
    "start_time": "2023-07-07T02:14:08.060Z"
   },
   {
    "duration": 282,
    "start_time": "2023-07-07T02:15:18.473Z"
   },
   {
    "duration": 303,
    "start_time": "2023-07-07T02:15:36.100Z"
   },
   {
    "duration": 352,
    "start_time": "2023-07-07T02:15:49.527Z"
   },
   {
    "duration": 293,
    "start_time": "2023-07-07T02:16:41.958Z"
   },
   {
    "duration": 283,
    "start_time": "2023-07-07T02:16:50.158Z"
   },
   {
    "duration": 133,
    "start_time": "2023-07-07T02:18:19.990Z"
   },
   {
    "duration": 297,
    "start_time": "2023-07-07T02:25:28.160Z"
   },
   {
    "duration": 8,
    "start_time": "2023-07-07T02:25:32.157Z"
   },
   {
    "duration": 6,
    "start_time": "2023-07-07T02:32:57.714Z"
   },
   {
    "duration": 1803,
    "start_time": "2023-07-07T03:44:38.943Z"
   },
   {
    "duration": 41,
    "start_time": "2023-07-07T03:44:40.748Z"
   },
   {
    "duration": 21,
    "start_time": "2023-07-07T03:44:40.833Z"
   },
   {
    "duration": 15,
    "start_time": "2023-07-07T03:44:40.856Z"
   },
   {
    "duration": 38,
    "start_time": "2023-07-07T03:44:41.195Z"
   },
   {
    "duration": 9,
    "start_time": "2023-07-07T03:44:41.642Z"
   },
   {
    "duration": 17,
    "start_time": "2023-07-07T03:44:41.939Z"
   },
   {
    "duration": 9,
    "start_time": "2023-07-07T03:44:42.142Z"
   },
   {
    "duration": 5,
    "start_time": "2023-07-07T03:44:42.842Z"
   },
   {
    "duration": 617,
    "start_time": "2023-07-07T03:44:43.057Z"
   },
   {
    "duration": 333,
    "start_time": "2023-07-07T03:44:43.676Z"
   },
   {
    "duration": 11,
    "start_time": "2023-07-07T03:44:44.010Z"
   },
   {
    "duration": 333,
    "start_time": "2023-07-07T03:44:44.022Z"
   },
   {
    "duration": 394,
    "start_time": "2023-07-07T03:44:46.141Z"
   },
   {
    "duration": 9,
    "start_time": "2023-07-07T03:44:47.973Z"
   },
   {
    "duration": 3,
    "start_time": "2023-07-07T03:44:50.385Z"
   },
   {
    "duration": 4,
    "start_time": "2023-07-07T03:44:50.946Z"
   },
   {
    "duration": 3,
    "start_time": "2023-07-07T03:44:55.786Z"
   },
   {
    "duration": 13,
    "start_time": "2023-07-07T03:44:56.799Z"
   },
   {
    "duration": 11,
    "start_time": "2023-07-07T03:44:59.057Z"
   },
   {
    "duration": 3,
    "start_time": "2023-07-07T03:45:28.395Z"
   },
   {
    "duration": 12,
    "start_time": "2023-07-07T03:45:29.280Z"
   },
   {
    "duration": 8,
    "start_time": "2023-07-07T03:46:16.887Z"
   },
   {
    "duration": 3,
    "start_time": "2023-07-07T03:46:24.969Z"
   },
   {
    "duration": 20,
    "start_time": "2023-07-07T03:46:26.095Z"
   },
   {
    "duration": 624,
    "start_time": "2023-07-07T03:55:32.193Z"
   },
   {
    "duration": 3,
    "start_time": "2023-07-07T03:55:48.367Z"
   },
   {
    "duration": 1247,
    "start_time": "2023-07-07T03:56:25.449Z"
   },
   {
    "duration": 3,
    "start_time": "2023-07-07T03:56:27.822Z"
   },
   {
    "duration": 220313,
    "start_time": "2023-07-07T03:56:31.843Z"
   },
   {
    "duration": 4,
    "start_time": "2023-07-07T04:03:03.994Z"
   },
   {
    "duration": 2,
    "start_time": "2023-07-07T04:03:10.495Z"
   },
   {
    "duration": 19,
    "start_time": "2023-07-07T04:03:15.334Z"
   },
   {
    "duration": 7,
    "start_time": "2023-07-07T04:04:05.860Z"
   },
   {
    "duration": 2997,
    "start_time": "2023-07-07T04:08:02.764Z"
   },
   {
    "duration": 58,
    "start_time": "2023-07-07T04:08:05.763Z"
   },
   {
    "duration": 37,
    "start_time": "2023-07-07T04:08:05.822Z"
   },
   {
    "duration": 9,
    "start_time": "2023-07-07T04:08:05.865Z"
   },
   {
    "duration": 12,
    "start_time": "2023-07-07T04:08:05.875Z"
   },
   {
    "duration": 7,
    "start_time": "2023-07-07T04:08:05.889Z"
   },
   {
    "duration": 67,
    "start_time": "2023-07-07T04:08:05.909Z"
   },
   {
    "duration": 10,
    "start_time": "2023-07-07T04:08:05.979Z"
   },
   {
    "duration": 43,
    "start_time": "2023-07-07T04:08:05.991Z"
   },
   {
    "duration": 787,
    "start_time": "2023-07-07T04:08:06.040Z"
   },
   {
    "duration": 335,
    "start_time": "2023-07-07T04:08:06.829Z"
   },
   {
    "duration": 48,
    "start_time": "2023-07-07T04:08:07.173Z"
   },
   {
    "duration": 423,
    "start_time": "2023-07-07T04:08:07.222Z"
   },
   {
    "duration": 350,
    "start_time": "2023-07-07T04:08:07.660Z"
   },
   {
    "duration": 24,
    "start_time": "2023-07-07T04:08:08.030Z"
   },
   {
    "duration": 15,
    "start_time": "2023-07-07T04:08:08.055Z"
   },
   {
    "duration": 6,
    "start_time": "2023-07-07T04:08:08.072Z"
   },
   {
    "duration": 4,
    "start_time": "2023-07-07T04:08:08.080Z"
   },
   {
    "duration": 9,
    "start_time": "2023-07-07T04:08:08.085Z"
   },
   {
    "duration": 31,
    "start_time": "2023-07-07T04:08:08.095Z"
   },
   {
    "duration": 33,
    "start_time": "2023-07-07T04:08:08.140Z"
   },
   {
    "duration": 96,
    "start_time": "2023-07-07T04:08:08.175Z"
   },
   {
    "duration": 24,
    "start_time": "2023-07-07T04:08:08.274Z"
   },
   {
    "duration": 59,
    "start_time": "2023-07-07T04:08:08.307Z"
   },
   {
    "duration": 12,
    "start_time": "2023-07-07T04:08:08.367Z"
   },
   {
    "duration": 653,
    "start_time": "2023-07-07T04:08:08.380Z"
   },
   {
    "duration": 4,
    "start_time": "2023-07-07T04:08:09.034Z"
   },
   {
    "duration": 1221,
    "start_time": "2023-07-07T04:08:09.039Z"
   },
   {
    "duration": 2,
    "start_time": "2023-07-07T04:08:10.261Z"
   },
   {
    "duration": 195911,
    "start_time": "2023-07-07T04:08:10.266Z"
   },
   {
    "duration": 4,
    "start_time": "2023-07-07T04:11:26.179Z"
   },
   {
    "duration": 11,
    "start_time": "2023-07-07T04:11:26.185Z"
   },
   {
    "duration": 57,
    "start_time": "2023-07-07T04:11:26.198Z"
   },
   {
    "duration": 9,
    "start_time": "2023-07-07T04:11:26.257Z"
   },
   {
    "duration": 4003,
    "start_time": "2023-07-07T04:16:18.626Z"
   },
   {
    "duration": 162,
    "start_time": "2023-07-07T04:16:22.634Z"
   },
   {
    "duration": 32,
    "start_time": "2023-07-07T04:16:22.797Z"
   },
   {
    "duration": 22,
    "start_time": "2023-07-07T04:16:22.830Z"
   },
   {
    "duration": 8,
    "start_time": "2023-07-07T04:16:22.854Z"
   },
   {
    "duration": 8,
    "start_time": "2023-07-07T04:16:22.863Z"
   },
   {
    "duration": 16,
    "start_time": "2023-07-07T04:16:22.872Z"
   },
   {
    "duration": 49,
    "start_time": "2023-07-07T04:16:22.889Z"
   },
   {
    "duration": 2,
    "start_time": "2023-07-07T04:16:22.940Z"
   },
   {
    "duration": 606,
    "start_time": "2023-07-07T04:16:22.944Z"
   },
   {
    "duration": 289,
    "start_time": "2023-07-07T04:16:23.552Z"
   },
   {
    "duration": 6,
    "start_time": "2023-07-07T04:16:23.843Z"
   },
   {
    "duration": 311,
    "start_time": "2023-07-07T04:16:23.850Z"
   },
   {
    "duration": 312,
    "start_time": "2023-07-07T04:16:24.164Z"
   },
   {
    "duration": 10,
    "start_time": "2023-07-07T04:16:24.477Z"
   },
   {
    "duration": 5,
    "start_time": "2023-07-07T04:16:24.488Z"
   },
   {
    "duration": 27,
    "start_time": "2023-07-07T04:16:24.494Z"
   },
   {
    "duration": 13,
    "start_time": "2023-07-07T04:16:24.526Z"
   },
   {
    "duration": 11,
    "start_time": "2023-07-07T04:16:24.540Z"
   },
   {
    "duration": 11,
    "start_time": "2023-07-07T04:16:24.552Z"
   },
   {
    "duration": 4,
    "start_time": "2023-07-07T04:16:24.565Z"
   },
   {
    "duration": 13,
    "start_time": "2023-07-07T04:16:24.570Z"
   },
   {
    "duration": 9,
    "start_time": "2023-07-07T04:16:24.585Z"
   },
   {
    "duration": 10,
    "start_time": "2023-07-07T04:16:24.595Z"
   },
   {
    "duration": 29,
    "start_time": "2023-07-07T04:16:24.616Z"
   },
   {
    "duration": 994,
    "start_time": "2023-07-07T04:16:24.647Z"
   },
   {
    "duration": 7,
    "start_time": "2023-07-07T04:16:25.642Z"
   },
   {
    "duration": 1412,
    "start_time": "2023-07-07T04:16:25.650Z"
   },
   {
    "duration": 2,
    "start_time": "2023-07-07T04:16:27.064Z"
   },
   {
    "duration": 266797,
    "start_time": "2023-07-07T04:16:27.067Z"
   },
   {
    "duration": 4,
    "start_time": "2023-07-07T04:20:53.865Z"
   },
   {
    "duration": 4,
    "start_time": "2023-07-07T04:20:53.870Z"
   },
   {
    "duration": 10,
    "start_time": "2023-07-07T04:20:53.875Z"
   },
   {
    "duration": 11,
    "start_time": "2023-07-07T04:20:53.887Z"
   },
   {
    "duration": 1700,
    "start_time": "2023-07-07T04:21:35.540Z"
   },
   {
    "duration": 42,
    "start_time": "2023-07-07T04:21:37.242Z"
   },
   {
    "duration": 13,
    "start_time": "2023-07-07T04:21:37.285Z"
   },
   {
    "duration": 57,
    "start_time": "2023-07-07T04:21:37.299Z"
   },
   {
    "duration": 8,
    "start_time": "2023-07-07T04:21:37.358Z"
   },
   {
    "duration": 10,
    "start_time": "2023-07-07T04:21:37.368Z"
   },
   {
    "duration": 44,
    "start_time": "2023-07-07T04:21:37.379Z"
   },
   {
    "duration": 24,
    "start_time": "2023-07-07T04:21:37.431Z"
   },
   {
    "duration": 5,
    "start_time": "2023-07-07T04:21:37.456Z"
   },
   {
    "duration": 604,
    "start_time": "2023-07-07T04:21:37.462Z"
   },
   {
    "duration": 372,
    "start_time": "2023-07-07T04:21:38.068Z"
   },
   {
    "duration": 7,
    "start_time": "2023-07-07T04:21:38.441Z"
   },
   {
    "duration": 313,
    "start_time": "2023-07-07T04:21:38.449Z"
   },
   {
    "duration": 307,
    "start_time": "2023-07-07T04:21:38.765Z"
   },
   {
    "duration": 8,
    "start_time": "2023-07-07T04:21:39.074Z"
   },
   {
    "duration": 9,
    "start_time": "2023-07-07T04:21:39.084Z"
   },
   {
    "duration": 44,
    "start_time": "2023-07-07T04:21:39.099Z"
   },
   {
    "duration": 25,
    "start_time": "2023-07-07T04:21:39.145Z"
   },
   {
    "duration": 16,
    "start_time": "2023-07-07T04:21:39.171Z"
   },
   {
    "duration": 30,
    "start_time": "2023-07-07T04:21:39.188Z"
   },
   {
    "duration": 21,
    "start_time": "2023-07-07T04:21:39.220Z"
   },
   {
    "duration": 16,
    "start_time": "2023-07-07T04:21:39.245Z"
   },
   {
    "duration": 8,
    "start_time": "2023-07-07T04:21:39.263Z"
   },
   {
    "duration": 3,
    "start_time": "2023-07-07T04:21:39.272Z"
   },
   {
    "duration": 5,
    "start_time": "2023-07-07T04:21:39.277Z"
   },
   {
    "duration": 3851,
    "start_time": "2023-07-07T04:21:39.283Z"
   },
   {
    "duration": 13,
    "start_time": "2023-07-07T04:21:43.136Z"
   },
   {
    "duration": 1544,
    "start_time": "2023-07-07T04:21:43.202Z"
   },
   {
    "duration": 3,
    "start_time": "2023-07-07T04:21:44.748Z"
   },
   {
    "duration": 303672,
    "start_time": "2023-07-07T04:21:44.753Z"
   },
   {
    "duration": 11,
    "start_time": "2023-07-07T04:26:48.431Z"
   },
   {
    "duration": 22,
    "start_time": "2023-07-07T04:26:48.444Z"
   },
   {
    "duration": 23,
    "start_time": "2023-07-07T04:26:48.467Z"
   },
   {
    "duration": 13,
    "start_time": "2023-07-07T04:26:48.492Z"
   },
   {
    "duration": 4721,
    "start_time": "2023-07-08T06:30:39.597Z"
   },
   {
    "duration": 122,
    "start_time": "2023-07-08T06:30:44.321Z"
   },
   {
    "duration": 18,
    "start_time": "2023-07-08T06:30:44.446Z"
   },
   {
    "duration": 8,
    "start_time": "2023-07-08T06:30:44.466Z"
   },
   {
    "duration": 11,
    "start_time": "2023-07-08T06:30:44.477Z"
   },
   {
    "duration": 9,
    "start_time": "2023-07-08T06:30:44.489Z"
   },
   {
    "duration": 36,
    "start_time": "2023-07-08T06:30:44.500Z"
   },
   {
    "duration": 23,
    "start_time": "2023-07-08T06:30:44.541Z"
   },
   {
    "duration": 10,
    "start_time": "2023-07-08T06:30:44.567Z"
   },
   {
    "duration": 858,
    "start_time": "2023-07-08T06:30:44.579Z"
   },
   {
    "duration": 236,
    "start_time": "2023-07-08T06:30:45.438Z"
   },
   {
    "duration": 6,
    "start_time": "2023-07-08T06:30:45.677Z"
   },
   {
    "duration": 323,
    "start_time": "2023-07-08T06:30:45.685Z"
   },
   {
    "duration": 398,
    "start_time": "2023-07-08T06:30:46.012Z"
   },
   {
    "duration": 5136,
    "start_time": "2023-07-08T06:30:46.413Z"
   }
  ],
  "colab": {
   "provenance": []
  },
  "kernelspec": {
   "display_name": "Python 3 (ipykernel)",
   "language": "python",
   "name": "python3"
  },
  "language_info": {
   "codemirror_mode": {
    "name": "ipython",
    "version": 3
   },
   "file_extension": ".py",
   "mimetype": "text/x-python",
   "name": "python",
   "nbconvert_exporter": "python",
   "pygments_lexer": "ipython3",
   "version": "3.11.5"
  },
  "toc": {
   "base_numbering": 1,
   "nav_menu": {},
   "number_sections": true,
   "sideBar": true,
   "skip_h1_title": true,
   "title_cell": "Содержание",
   "title_sidebar": "Contents",
   "toc_cell": true,
   "toc_position": {},
   "toc_section_display": true,
   "toc_window_display": true
  }
 },
 "nbformat": 4,
 "nbformat_minor": 1
}
