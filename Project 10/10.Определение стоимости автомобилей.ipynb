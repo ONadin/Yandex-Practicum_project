{
 "cells": [
  {
   "cell_type": "markdown",
   "metadata": {},
   "source": [
    "# Определение стоимости автомобилей"
   ]
  },
  {
   "cell_type": "markdown",
   "metadata": {},
   "source": [
    "Сервис по продаже автомобилей с пробегом «Не бит, не крашен» разрабатывает приложение для привлечения новых клиентов. В нём можно быстро узнать рыночную стоимость своего автомобиля. В вашем распоряжении исторические данные: технические характеристики, комплектации и цены автомобилей. Вам нужно построить модель для определения стоимости. \n",
    "\n",
    "Заказчику важны:\n",
    "\n",
    "- качество предсказания;\n",
    "- скорость предсказания;\n",
    "- время обучения."
   ]
  },
  {
   "cell_type": "code",
   "execution_count": null,
   "metadata": {},
   "outputs": [],
   "source": [
    "!pip install scikit-learn==1.1.3"
   ]
  },
  {
   "cell_type": "markdown",
   "metadata": {},
   "source": [
    "## Подготовка данных"
   ]
  },
  {
   "cell_type": "code",
   "execution_count": null,
   "metadata": {},
   "outputs": [],
   "source": [
    "import pandas as pd\n",
    "import numpy as np\n",
    "import re\n",
    "import matplotlib\n",
    "import matplotlib.pyplot as plt\n",
    "import seaborn as sns\n",
    "import time\n",
    "from sklearn.model_selection import train_test_split, cross_val_score, RandomizedSearchCV, GridSearchCV\n",
    "from sklearn.preprocessing import OneHotEncoder, StandardScaler, OrdinalEncoder\n",
    "from sklearn.linear_model import LinearRegression\n",
    "from sklearn.tree import DecisionTreeRegressor\n",
    "from sklearn.ensemble import RandomForestRegressor\n",
    "from sklearn.metrics import mean_squared_error\n",
    "from lightgbm import LGBMRegressor \n",
    "from catboost import CatBoostRegressor\n",
    "from sklearn.model_selection import cross_validate\n",
    "import warnings"
   ]
  },
  {
   "cell_type": "code",
   "execution_count": null,
   "metadata": {},
   "outputs": [],
   "source": [
    "warnings.filterwarnings('ignore')"
   ]
  },
  {
   "cell_type": "code",
   "execution_count": null,
   "metadata": {},
   "outputs": [],
   "source": [
    "data = pd.read_csv('/datasets/autos.csv')"
   ]
  },
  {
   "cell_type": "code",
   "execution_count": null,
   "metadata": {},
   "outputs": [],
   "source": [
    "data.info()"
   ]
  },
  {
   "cell_type": "code",
   "execution_count": null,
   "metadata": {},
   "outputs": [],
   "source": [
    "data.head()"
   ]
  },
  {
   "cell_type": "markdown",
   "metadata": {},
   "source": [
    "Приводим наименования столбцов к строчным буквам"
   ]
  },
  {
   "cell_type": "code",
   "execution_count": null,
   "metadata": {},
   "outputs": [],
   "source": [
    "columns_new = []\n",
    "for col in data.columns:\n",
    "    columns_new.append(re.sub('(?<!^)(?=[A-Z])', '_', col ).lower())\n",
    "data.columns = columns_new"
   ]
  },
  {
   "cell_type": "code",
   "execution_count": null,
   "metadata": {},
   "outputs": [],
   "source": [
    "data.columns"
   ]
  },
  {
   "cell_type": "markdown",
   "metadata": {},
   "source": [
    "Оцениваем пропущенные значения"
   ]
  },
  {
   "cell_type": "code",
   "execution_count": null,
   "metadata": {},
   "outputs": [],
   "source": [
    "data.isna().sum()"
   ]
  },
  {
   "cell_type": "code",
   "execution_count": null,
   "metadata": {},
   "outputs": [],
   "source": [
    "data_columns = ['vehicle_type','gearbox','model','fuel_type','repaired']\n",
    "\n",
    "for col in data_columns:\n",
    "    print('В столбце {} нулевых значений {:.1%}'. format(col, data[col].isna().value_counts()[1] / len(data)))"
   ]
  },
  {
   "cell_type": "code",
   "execution_count": null,
   "metadata": {},
   "outputs": [],
   "source": [
    "data_copy = data.copy()"
   ]
  },
  {
   "cell_type": "markdown",
   "metadata": {},
   "source": [
    "Найдем и удалим дубликаты"
   ]
  },
  {
   "cell_type": "code",
   "execution_count": null,
   "metadata": {},
   "outputs": [],
   "source": [
    "data.duplicated().sum()"
   ]
  },
  {
   "cell_type": "code",
   "execution_count": null,
   "metadata": {},
   "outputs": [],
   "source": [
    "data = data.drop_duplicates().reset_index(drop=True)"
   ]
  },
  {
   "cell_type": "markdown",
   "metadata": {},
   "source": [
    "Исследуем значения в столбцах на предмет артефактов."
   ]
  },
  {
   "cell_type": "code",
   "execution_count": null,
   "metadata": {},
   "outputs": [],
   "source": [
    "for col in data.columns:\n",
    "    print(data[col].unique())"
   ]
  },
  {
   "cell_type": "markdown",
   "metadata": {},
   "source": [
    "Заполним данные по vehicle_type - тип кузова, fuel_type - тип топлива, gearbox - тип коробки передач наиболее встречающимися по группе моделей автомобиля"
   ]
  },
  {
   "cell_type": "code",
   "execution_count": null,
   "metadata": {},
   "outputs": [],
   "source": [
    "def zero_fill (col):\n",
    "    data[col].value_counts()[0]\n",
    "    data[col].replace(np.nan,inplace = True)   \n",
    "zero_fill('model')"
   ]
  },
  {
   "cell_type": "code",
   "execution_count": null,
   "metadata": {
    "scrolled": true
   },
   "outputs": [],
   "source": [
    "data['vehicle_type'] = data['vehicle_type'].fillna(data.groupby('model')['vehicle_type']\n",
    "                                                       .transform(lambda x: x.value_counts().idxmax()))\n",
    "data['gearbox'] = data['gearbox'].fillna(data.groupby('model')['gearbox']\n",
    "                                             .transform(lambda x: x.value_counts().idxmax()))\n",
    "data['fuel_type'] = data['fuel_type'].fillna(data.groupby('model')['fuel_type']\n",
    "                                                 .transform(lambda x: x.value_counts().idxmax()))"
   ]
  },
  {
   "cell_type": "markdown",
   "metadata": {},
   "source": [
    "Обработаем целевую переменную."
   ]
  },
  {
   "cell_type": "code",
   "execution_count": null,
   "metadata": {},
   "outputs": [],
   "source": [
    "#4.price\n",
    "data['price'].hist(bins=50, grid = True)\n",
    "plt.title(\"Распределение стоимости автомобилей\")\n",
    "plt.xlabel('Стоимость автомобилей', fontsize=10)\n",
    "plt.show()"
   ]
  },
  {
   "cell_type": "code",
   "execution_count": null,
   "metadata": {},
   "outputs": [],
   "source": [
    "data.boxplot(column='price')\n",
    "plt.title('Разброс значений стоимоcти автомобилей',fontsize=20, loc= 'center')\n",
    "plt.show()"
   ]
  },
  {
   "cell_type": "code",
   "execution_count": null,
   "metadata": {},
   "outputs": [],
   "source": [
    "data['price'].quantile([0.05,0.95])"
   ]
  },
  {
   "cell_type": "markdown",
   "metadata": {},
   "source": [
    "Отбросим выбросы целевой переменной и сформируем данные с учетом стоимости автомобиля от 250 евро до 14800 евро"
   ]
  },
  {
   "cell_type": "markdown",
   "metadata": {},
   "source": [
    "Мощность автомобиля отфильтруем в интервале от 16 до 1600 л.с."
   ]
  },
  {
   "cell_type": "code",
   "execution_count": null,
   "metadata": {},
   "outputs": [],
   "source": [
    "data[data['power']<400]['power'].hist(bins=100, grid = True)"
   ]
  },
  {
   "cell_type": "code",
   "execution_count": null,
   "metadata": {},
   "outputs": [],
   "source": [
    "data = data[(data['power']>38) & (data['power']<2028)]"
   ]
  },
  {
   "cell_type": "markdown",
   "metadata": {},
   "source": [
    "В данных о дате регистрации автомобиля много встречается записей несоответствующих году. Максимальный год регистрации автомобиля выберем по дате скачивания анкеты - 2016, минимальный - начало 20 века "
   ]
  },
  {
   "cell_type": "code",
   "execution_count": null,
   "metadata": {},
   "outputs": [],
   "source": [
    "data['date_crawled'].max()"
   ]
  },
  {
   "cell_type": "code",
   "execution_count": null,
   "metadata": {},
   "outputs": [],
   "source": [
    "data = data[(data['registration_year']>=1900) & (data['registration_year']<=2016)]"
   ]
  },
  {
   "cell_type": "markdown",
   "metadata": {},
   "source": [
    "Учитывая, что машины как правило чаще ремонтируются чем не ремонтируются, пропуски данных заполним \"yes\"."
   ]
  },
  {
   "cell_type": "code",
   "execution_count": null,
   "metadata": {},
   "outputs": [],
   "source": [
    "data['repaired'] = data['repaired'].fillna('yes')"
   ]
  },
  {
   "cell_type": "code",
   "execution_count": null,
   "metadata": {},
   "outputs": [],
   "source": [
    "#превратила \"repaired\" в категориальный бинарный признак\n",
    "data.loc[data['repaired'] == 'yes','repaired'] = '1'\n",
    "data.loc[data['repaired'] == 'no','repaired'] = '0'\n",
    "data = data.astype({'repaired':'int64'})"
   ]
  },
  {
   "cell_type": "code",
   "execution_count": null,
   "metadata": {},
   "outputs": [],
   "source": [
    "data.duplicated().sum()"
   ]
  },
  {
   "cell_type": "code",
   "execution_count": null,
   "metadata": {},
   "outputs": [],
   "source": [
    "data.shape"
   ]
  },
  {
   "cell_type": "code",
   "execution_count": null,
   "metadata": {},
   "outputs": [],
   "source": [
    "data.isna().sum()"
   ]
  },
  {
   "cell_type": "markdown",
   "metadata": {},
   "source": [
    "Исключим данные не влияющие на цену авто"
   ]
  },
  {
   "cell_type": "markdown",
   "metadata": {},
   "source": [
    "DateCrawled — дата скачивания анкеты из базы      \n",
    "DateCreated — дата создания анкеты   \n",
    "NumberOfPictures — количество фотографий автомобиля   \n",
    "PostalCode — почтовый индекс владельца анкеты (пользователя)  \n",
    "LastSeen — дата последней активности пользователя  \n",
    "RegistrationMonth — месяц регистрации автомобиля  "
   ]
  },
  {
   "cell_type": "code",
   "execution_count": null,
   "metadata": {},
   "outputs": [],
   "source": [
    "def plot_cat (col, price):\n",
    "    data.plot(x=col,y=price, kind='scatter')\n",
    "    plt.title(f'Зависимость цены машины от {col}')\n",
    "    plt.xlabel(f'{col}, ед.', fontsize=10)\n",
    "    plt.show()"
   ]
  },
  {
   "cell_type": "code",
   "execution_count": null,
   "metadata": {},
   "outputs": [],
   "source": [
    "plot_cat('number_of_pictures', 'price')"
   ]
  },
  {
   "cell_type": "code",
   "execution_count": null,
   "metadata": {},
   "outputs": [],
   "source": [
    "plot_cat('registration_month', 'price')"
   ]
  },
  {
   "cell_type": "code",
   "execution_count": null,
   "metadata": {},
   "outputs": [],
   "source": [
    "plot_cat('postal_code', 'price')"
   ]
  },
  {
   "cell_type": "markdown",
   "metadata": {},
   "source": [
    "На графиках видно, что выбраные признаки, не связанные напрямую с характеристиками машины и информацией о ее эксплуатации, не влияют на цену автомобиля."
   ]
  },
  {
   "cell_type": "code",
   "execution_count": null,
   "metadata": {},
   "outputs": [],
   "source": [
    "data_new = data.drop(['date_crawled', 'date_created', 'number_of_pictures',\n",
    "       'postal_code', 'last_seen', 'registration_month'],axis = 1)"
   ]
  },
  {
   "cell_type": "code",
   "execution_count": null,
   "metadata": {},
   "outputs": [],
   "source": [
    "data.shape[0]/data_copy.shape[0]"
   ]
  },
  {
   "cell_type": "markdown",
   "metadata": {},
   "source": [
    "**Вывод**\n",
    "1. Загружены и исследованы данные\n",
    "2. Удалены аномальные значения, выбросы, лишние признаки\n",
    "3. Для целей обучения и предсказания осталось 77 процентов от первоначальной выборки"
   ]
  },
  {
   "cell_type": "markdown",
   "metadata": {},
   "source": [
    "## Обучение моделей"
   ]
  },
  {
   "cell_type": "markdown",
   "metadata": {},
   "source": [
    "Готовим выходные данные по метрикам качества в разрезе моделей "
   ]
  },
  {
   "cell_type": "code",
   "execution_count": null,
   "metadata": {},
   "outputs": [],
   "source": [
    "table_of_rmse=[]\n",
    "table_of_time_ob=[]\n",
    "table_of_time_pr=[]\n",
    "table_of_model=[]"
   ]
  },
  {
   "cell_type": "markdown",
   "metadata": {},
   "source": [
    "Готовим данные для LinearRegression"
   ]
  },
  {
   "cell_type": "code",
   "execution_count": null,
   "metadata": {},
   "outputs": [],
   "source": [
    "#категориальные признаки для OHE LR\n",
    "object_cols_cat = [col for col in data_new.columns if data_new[col].dtype == 'object']"
   ]
  },
  {
   "cell_type": "code",
   "execution_count": null,
   "metadata": {},
   "outputs": [],
   "source": [
    "object_cols_cat"
   ]
  },
  {
   "cell_type": "code",
   "execution_count": null,
   "metadata": {},
   "outputs": [],
   "source": [
    "#Разделяем обработанный датафрейм на обучающую и тестовую выборки\n",
    "features = data_new.drop('price', axis=1)\n",
    "target = data_new['price']\n",
    "features_train, features_test, target_train, target_test = train_test_split(\n",
    "    features, target, test_size=0.25, random_state=42)"
   ]
  },
  {
   "cell_type": "code",
   "execution_count": null,
   "metadata": {},
   "outputs": [],
   "source": [
    "#категориальные признаки для OHE LR\n",
    "ohe_features_LR = features_train.select_dtypes(include='object').columns.to_list()\n",
    "print(ohe_features_LR)"
   ]
  },
  {
   "cell_type": "code",
   "execution_count": null,
   "metadata": {},
   "outputs": [],
   "source": [
    "#категориальные признаки для OHE RandomForestRegressor\n",
    "ohe_features_rfr = ohe_features_LR.copy()\n",
    "ohe_features_rfr.remove('model')\n",
    "ohe_features_rfr"
   ]
  },
  {
   "cell_type": "code",
   "execution_count": null,
   "metadata": {},
   "outputs": [],
   "source": [
    "#численные признаки\n",
    "#'repaired' — категориальный бинарный признак.\n",
    "num_features = features_train.select_dtypes(exclude='object').columns.to_list()\n",
    "num_features.remove('repaired')\n",
    "num_features"
   ]
  },
  {
   "cell_type": "code",
   "execution_count": null,
   "metadata": {},
   "outputs": [],
   "source": [
    "models_train = set(features_train['model'].unique())\n",
    "models_test = set(features_test['model'].unique())\n",
    "num_models_train = len(models_train)\n",
    "num_models_test = len(models_test)\n",
    "print(f'''\n",
    "Количество уникальных значений признака \"model\" \n",
    "в обеих выборках одинаковое: {num_models_train == num_models_test}\n",
    "''')\n",
    "print(f'''\n",
    "Уникальные значения признака \"model\" \n",
    "в обеих выборках одинаковые: {models_train == models_test}\n",
    "''')\n",
    "print(f'''\n",
    "Только в тренировочной выборке есть значения: {models_train - models_test}\n",
    "''')\n",
    "print(f'''\n",
    "Только в тестовой выборке есть значения: {models_test - models_train}\n",
    "''')"
   ]
  },
  {
   "cell_type": "code",
   "execution_count": null,
   "metadata": {},
   "outputs": [],
   "source": [
    "print(features_train.shape,features_test.shape,target_train.shape,target_test.shape)"
   ]
  },
  {
   "cell_type": "markdown",
   "metadata": {},
   "source": [
    "Кодируем данные для линейной регрессии"
   ]
  },
  {
   "cell_type": "code",
   "execution_count": null,
   "metadata": {},
   "outputs": [],
   "source": [
    "features_train_ohe = features_train.copy()\n",
    "features_test_ohe = features_test.copy()"
   ]
  },
  {
   "cell_type": "code",
   "execution_count": null,
   "metadata": {},
   "outputs": [],
   "source": [
    "ohe = OneHotEncoder(drop='first', handle_unknown='ignore', sparse=False)"
   ]
  },
  {
   "cell_type": "code",
   "execution_count": null,
   "metadata": {},
   "outputs": [],
   "source": [
    "ohe_col_train = pd.DataFrame(ohe.fit_transform(features_train_ohe[ohe_features_LR]))\n",
    "ohe_col_test = pd.DataFrame(ohe.transform(features_test_ohe[ohe_features_LR]))"
   ]
  },
  {
   "cell_type": "code",
   "execution_count": null,
   "metadata": {},
   "outputs": [],
   "source": [
    "ohe_col_train.index = features_train_ohe.index\n",
    "ohe_col_test.index = features_test_ohe.index"
   ]
  },
  {
   "cell_type": "code",
   "execution_count": null,
   "metadata": {},
   "outputs": [],
   "source": [
    "X_train_cat = features_train_ohe.drop(ohe_features_LR,axis =1)\n",
    "X_test_cat = features_test_ohe.drop(ohe_features_LR,axis =1)"
   ]
  },
  {
   "cell_type": "code",
   "execution_count": null,
   "metadata": {},
   "outputs": [],
   "source": [
    "X_train_ohe = pd.concat([X_train_cat,ohe_col_train],axis =1)\n",
    "X_test_ohe = pd.concat([X_test_cat,ohe_col_test],axis =1)"
   ]
  },
  {
   "cell_type": "code",
   "execution_count": null,
   "metadata": {},
   "outputs": [],
   "source": [
    "X_train_ohe.head()"
   ]
  },
  {
   "cell_type": "code",
   "execution_count": null,
   "metadata": {},
   "outputs": [],
   "source": [
    "X_test_ohe.head()"
   ]
  },
  {
   "cell_type": "code",
   "execution_count": null,
   "metadata": {},
   "outputs": [],
   "source": [
    "scaler = StandardScaler()"
   ]
  },
  {
   "cell_type": "code",
   "execution_count": null,
   "metadata": {},
   "outputs": [],
   "source": [
    "X_train_ohe[num_features] = scaler.fit_transform(X_train_ohe[num_features])\n",
    "X_test_ohe[num_features] = scaler.transform(X_test_ohe[num_features])"
   ]
  },
  {
   "cell_type": "code",
   "execution_count": null,
   "metadata": {},
   "outputs": [],
   "source": [
    "X_train_ohe.head()"
   ]
  },
  {
   "cell_type": "code",
   "execution_count": null,
   "metadata": {},
   "outputs": [],
   "source": [
    "X_train_ohe.shape"
   ]
  },
  {
   "cell_type": "code",
   "execution_count": null,
   "metadata": {},
   "outputs": [],
   "source": [
    "X_test_ohe.shape"
   ]
  },
  {
   "cell_type": "markdown",
   "metadata": {},
   "source": [
    "**LinearRegression**"
   ]
  },
  {
   "cell_type": "code",
   "execution_count": null,
   "metadata": {},
   "outputs": [],
   "source": [
    "model_LR = LinearRegression()"
   ]
  },
  {
   "cell_type": "code",
   "execution_count": null,
   "metadata": {},
   "outputs": [],
   "source": [
    "RMSE_LR = (cross_val_score(model_LR, \n",
    "                           X_train_ohe, \n",
    "                           target_train, \n",
    "                           cv=5, \n",
    "                           scoring='neg_mean_squared_error').mean() * -1) ** 0.5\n",
    "print('RMSE LinearRegression =', RMSE_LR)"
   ]
  },
  {
   "cell_type": "markdown",
   "metadata": {},
   "source": [
    "Результат получился не плохой, вот что значит правильно закодировать данные!!!! Даже вписался в требуемое качество."
   ]
  },
  {
   "cell_type": "code",
   "execution_count": null,
   "metadata": {},
   "outputs": [],
   "source": [
    "#расчет времени обучения\n",
    "start_time = time.time()\n",
    "model_LR.fit(X_train_ohe,target_train)\n",
    "end_time = time.time()\n",
    "fit_time_LR = end_time - start_time"
   ]
  },
  {
   "cell_type": "code",
   "execution_count": null,
   "metadata": {},
   "outputs": [],
   "source": [
    "#расчет времени предсказания\n",
    "start_time = time.time()\n",
    "pred = model_LR.predict(X_train_ohe) \n",
    "end_time = time.time()\n",
    "pred_time_LR = end_time - start_time"
   ]
  },
  {
   "cell_type": "code",
   "execution_count": null,
   "metadata": {},
   "outputs": [],
   "source": [
    "#формируем данные для оценки\n",
    "table_of_model.append ('model_LR')\n",
    "table_of_rmse.append(RMSE_LR)\n",
    "table_of_time_ob.append (fit_time_LR)\n",
    "table_of_time_pr.append (pred_time_LR)"
   ]
  },
  {
   "cell_type": "markdown",
   "metadata": {},
   "source": [
    "Готовим данные для нелинейных моделей"
   ]
  },
  {
   "cell_type": "code",
   "execution_count": null,
   "metadata": {},
   "outputs": [],
   "source": [
    "#Разделяем обработанный датафрейм на обучающую и тестовую выборки\n",
    "features = data_new.drop('price', axis=1)\n",
    "target = data_new['price']\n",
    "features_train, features_test, target_train, target_test = train_test_split(\n",
    "    features, target, test_size=0.25, random_state=12345)"
   ]
  },
  {
   "cell_type": "markdown",
   "metadata": {},
   "source": [
    "Кодируем и стандартизируем данные для DecisionTreeRegressor и RandomForestRegressor"
   ]
  },
  {
   "cell_type": "code",
   "execution_count": null,
   "metadata": {},
   "outputs": [],
   "source": [
    "ohe = OneHotEncoder(drop='first', handle_unknown='ignore', sparse=False)\n",
    "ohe_col_train = pd.DataFrame(ohe.fit_transform(features_train[ohe_features_rfr]))\n",
    "ohe_col_test = pd.DataFrame(ohe.transform(features_test[ohe_features_rfr]))\n",
    "ohe_col_train.index = features_train.index\n",
    "ohe_col_test.index = features_test.index\n",
    "X_train_cat = features_train.drop(ohe_features_rfr,axis =1)\n",
    "X_test_cat = features_test.drop(ohe_features_rfr,axis =1)\n",
    "X_train_ohe = pd.concat([X_train_cat,ohe_col_train],axis =1)\n",
    "X_test_ohe = pd.concat([X_test_cat,ohe_col_test],axis =1)"
   ]
  },
  {
   "cell_type": "code",
   "execution_count": null,
   "metadata": {},
   "outputs": [],
   "source": [
    "X_train_ohe.head()"
   ]
  },
  {
   "cell_type": "code",
   "execution_count": null,
   "metadata": {},
   "outputs": [],
   "source": [
    "enc = OrdinalEncoder(handle_unknown='use_encoded_value', unknown_value=-1)\n",
    "enc_train = pd.DataFrame(enc.fit_transform(X_train_ohe[['model']]))\n",
    "enc_test = pd.DataFrame(enc.transform(X_test_ohe[['model']]))\n",
    "enc_train.index = X_train_ohe.index\n",
    "enc_test.index = X_test_ohe.index\n",
    "X_train = X_train_ohe.drop('model',axis =1)\n",
    "X_test = X_test_ohe.drop('model',axis =1)\n",
    "features_train_enc = pd.concat([X_train,enc_train],axis =1)\n",
    "features_test_enc = pd.concat([X_test,enc_test],axis =1)"
   ]
  },
  {
   "cell_type": "code",
   "execution_count": null,
   "metadata": {},
   "outputs": [],
   "source": [
    "features_train_enc.head()"
   ]
  },
  {
   "cell_type": "code",
   "execution_count": null,
   "metadata": {},
   "outputs": [],
   "source": [
    "scaler = StandardScaler()\n",
    "features_train_enc[num_features] = scaler.fit_transform(features_train_enc[num_features])\n",
    "features_test_enc[num_features] = scaler.transform(features_test_enc[num_features])"
   ]
  },
  {
   "cell_type": "code",
   "execution_count": null,
   "metadata": {},
   "outputs": [],
   "source": [
    "features_train_enc.head()"
   ]
  },
  {
   "cell_type": "markdown",
   "metadata": {},
   "source": [
    "**DecisionTreeRegressor**"
   ]
  },
  {
   "cell_type": "code",
   "execution_count": null,
   "metadata": {},
   "outputs": [],
   "source": [
    "param = {\n",
    "    'max_depth':[1,2,4,6], \n",
    "    'min_samples_split':[18,20,22,24], \n",
    "    'min_samples_leaf':[3,4,5,6,7,8] \n",
    "}\n",
    "model = DecisionTreeRegressor()\n",
    "seach = RandomizedSearchCV(model, param, cv=5, random_state=12345)\n",
    "seach.fit(features_train_enc, target_train) "
   ]
  },
  {
   "cell_type": "code",
   "execution_count": null,
   "metadata": {},
   "outputs": [],
   "source": [
    "print('Лучшие параметры модели: ',seach.best_params_)"
   ]
  },
  {
   "cell_type": "code",
   "execution_count": null,
   "metadata": {},
   "outputs": [],
   "source": [
    "model_DTR= DecisionTreeRegressor(min_samples_split = seach.best_params_['min_samples_split'], \n",
    "                                 min_samples_leaf = seach.best_params_['min_samples_leaf'], \n",
    "                                 max_depth = seach.best_params_['min_samples_leaf'])\n",
    "RMSE_DTR = (cross_val_score(model_DTR, \n",
    "                           features_train_enc, \n",
    "                           target_train,\n",
    "                           cv=5, \n",
    "                           scoring='neg_mean_squared_error').mean() * -1) ** 0.5\n",
    "print('RMSE DecisionTreeRegressor =', RMSE_DTR)"
   ]
  },
  {
   "cell_type": "code",
   "execution_count": null,
   "metadata": {},
   "outputs": [],
   "source": [
    "start_time = time.time()\n",
    "model_DTR.fit(features_train_enc,target_train)\n",
    "end_time = time.time()\n",
    "fit_time_DTR = end_time - start_time"
   ]
  },
  {
   "cell_type": "code",
   "execution_count": null,
   "metadata": {},
   "outputs": [],
   "source": [
    "start_time = time.time()\n",
    "pred = model_DTR.predict(features_train_enc) \n",
    "end_time = time.time()\n",
    "pred_time_DTR = end_time - start_time"
   ]
  },
  {
   "cell_type": "code",
   "execution_count": null,
   "metadata": {},
   "outputs": [],
   "source": [
    "#записываем очередные результаты в итоговую таблицу\n",
    "table_of_rmse.append(round(RMSE_DTR,2))\n",
    "table_of_time_ob.append (fit_time_DTR)\n",
    "table_of_time_pr.append (pred_time_DTR)\n",
    "table_of_model.append ('model_DTR') "
   ]
  },
  {
   "cell_type": "markdown",
   "metadata": {},
   "source": [
    "**RandomForestRegressor**"
   ]
  },
  {
   "cell_type": "code",
   "execution_count": null,
   "metadata": {},
   "outputs": [],
   "source": [
    "param = {\n",
    "    'n_estimators':[20,30],\n",
    "    'max_features':[0.3,1]\n",
    "}\n",
    "model = RandomForestRegressor()\n",
    "seach = GridSearchCV(model, param, cv=5)\n",
    "seach.fit(features_train_enc, target_train) \n",
    "print('Лучшие параметры модели: ', seach.best_params_)"
   ]
  },
  {
   "cell_type": "code",
   "execution_count": null,
   "metadata": {},
   "outputs": [],
   "source": [
    "model_RFR= RandomForestRegressor(max_features= seach.best_params_['max_features'],\n",
    "                                 n_estimators= seach.best_params_['n_estimators'])"
   ]
  },
  {
   "cell_type": "code",
   "execution_count": null,
   "metadata": {},
   "outputs": [],
   "source": [
    "RMSE_RFR = (cross_val_score(model_RFR, \n",
    "                           features_train_enc, \n",
    "                           target_train,\n",
    "                           cv=5, \n",
    "                           scoring='neg_mean_squared_error').mean() * -1) ** 0.5\n",
    "print('RMSE RandomForestRegressor =', RMSE_RFR)"
   ]
  },
  {
   "cell_type": "code",
   "execution_count": null,
   "metadata": {},
   "outputs": [],
   "source": [
    "start_time = time.time()\n",
    "model_RFR.fit(features_train_enc,target_train)\n",
    "end_time = time.time()\n",
    "fit_time_RFR = end_time - start_time"
   ]
  },
  {
   "cell_type": "code",
   "execution_count": null,
   "metadata": {},
   "outputs": [],
   "source": [
    "start_time = time.time()\n",
    "pred = model_RFR.predict(features_train_enc) \n",
    "end_time = time.time()\n",
    "pred_time_RFR = end_time - start_time"
   ]
  },
  {
   "cell_type": "code",
   "execution_count": null,
   "metadata": {},
   "outputs": [],
   "source": [
    "#записываем результаты в таблицу\n",
    "table_of_rmse.append(round(RMSE_RFR,2))\n",
    "table_of_time_ob.append (fit_time_RFR)\n",
    "table_of_time_pr.append (pred_time_RFR)\n",
    "table_of_model.append ('model_RFR') "
   ]
  },
  {
   "cell_type": "markdown",
   "metadata": {},
   "source": [
    "Готовим данные для бустинга"
   ]
  },
  {
   "cell_type": "code",
   "execution_count": null,
   "metadata": {},
   "outputs": [],
   "source": [
    "for i in features_train.columns:\n",
    "    if features_train.loc[:,i].dtype == 'object':\n",
    "        features_train.loc[:,i] = features_train.loc[:,i].astype('category')"
   ]
  },
  {
   "cell_type": "code",
   "execution_count": null,
   "metadata": {},
   "outputs": [],
   "source": [
    "for i in features_test.columns:\n",
    "    if features_test.loc[:,i].dtype == 'object':\n",
    "        features_test.loc[:,i] = features_test.loc[:,i].astype('category')"
   ]
  },
  {
   "cell_type": "markdown",
   "metadata": {},
   "source": [
    "**LGBMRegressor**"
   ]
  },
  {
   "cell_type": "code",
   "execution_count": null,
   "metadata": {},
   "outputs": [],
   "source": [
    "param_grid = {'learning_rate': [0.1, 0.3, 0.7],\n",
    "              'max_depth': [15, 20],\n",
    "             }\n",
    "model = LGBMRegressor(n_jobs = 3, categorical_feature = object_cols_cat)\n",
    "search = GridSearchCV(estimator = model, \n",
    "                           param_grid = param_grid, \n",
    "                           cv = 3,\n",
    "                           n_jobs = -1, \n",
    "                           verbose = 0, \n",
    "                           scoring = 'neg_mean_squared_error'\n",
    "                          )\n",
    "search.fit(features_train,target_train)"
   ]
  },
  {
   "cell_type": "code",
   "execution_count": null,
   "metadata": {},
   "outputs": [],
   "source": [
    "print(search.best_params_)"
   ]
  },
  {
   "cell_type": "code",
   "execution_count": null,
   "metadata": {},
   "outputs": [],
   "source": [
    "model_LGBMR = LGBMRegressor(learning_rate = search.best_params_['learning_rate'], \n",
    "                            max_depth = search.best_params_['max_depth'], random_state=12345)"
   ]
  },
  {
   "cell_type": "code",
   "execution_count": null,
   "metadata": {},
   "outputs": [],
   "source": [
    "RMSE_LGBMR = (cross_val_score(model_LGBMR, \n",
    "                           features_train, \n",
    "                           target_train,\n",
    "                           cv=5, \n",
    "                           scoring='neg_mean_squared_error').mean() * -1) ** 0.5\n",
    "print('RMSE LGBMRegressor =', RMSE_LGBMR)"
   ]
  },
  {
   "cell_type": "code",
   "execution_count": null,
   "metadata": {},
   "outputs": [],
   "source": [
    "start_time = time.time()\n",
    "model_LGBMR.fit(features_train,target_train)\n",
    "end_time = time.time()\n",
    "fit_time_LGBMR = end_time - start_time"
   ]
  },
  {
   "cell_type": "code",
   "execution_count": null,
   "metadata": {},
   "outputs": [],
   "source": [
    "start_time = time.time()\n",
    "pred = model_LGBMR.predict(features_train)\n",
    "end_time = time.time()\n",
    "pred_time_LGBMR = end_time - start_time"
   ]
  },
  {
   "cell_type": "code",
   "execution_count": null,
   "metadata": {},
   "outputs": [],
   "source": [
    "table_of_rmse.append(round(RMSE_LGBMR,2))\n",
    "table_of_time_ob.append (fit_time_LGBMR)\n",
    "table_of_time_pr.append (pred_time_LGBMR)\n",
    "table_of_model.append ('model_LGBMR') "
   ]
  },
  {
   "cell_type": "markdown",
   "metadata": {},
   "source": [
    "**Catboost**"
   ]
  },
  {
   "cell_type": "code",
   "execution_count": null,
   "metadata": {},
   "outputs": [],
   "source": [
    "parameter = {'learning_rate': [0.03,0.1],\n",
    "             'depth': [4,6,8],\n",
    "             'l2_leaf_reg': [1,2,3]\n",
    "              }\n",
    "model = CatBoostRegressor(cat_features=object_cols_cat)\n",
    "search = GridSearchCV(estimator = model, param_grid = parameter, cv = 4, n_jobs=-1, scoring='neg_mean_squared_error')\n",
    "search.fit(features_train, target_train)\n",
    "print(search.best_params_)"
   ]
  },
  {
   "cell_type": "code",
   "execution_count": null,
   "metadata": {},
   "outputs": [],
   "source": [
    "print(search.best_params_)"
   ]
  },
  {
   "cell_type": "code",
   "execution_count": null,
   "metadata": {},
   "outputs": [],
   "source": [
    "model_CBR = CatBoostRegressor(cat_features=object_cols_cat, depth =search.best_params_['depth'],\n",
    "                             l2_leaf_reg = search.best_params_['l2_leaf_reg'],\n",
    "                             learning_rate = search.best_params_['learning_rate'])"
   ]
  },
  {
   "cell_type": "code",
   "execution_count": null,
   "metadata": {},
   "outputs": [],
   "source": [
    "RMSE_CBR = (cross_val_score(model_CBR, \n",
    "                           features_train, \n",
    "                           target_train,\n",
    "                           cv=5, \n",
    "                           scoring='neg_mean_squared_error').mean() * -1) ** 0.5\n",
    "print('RMSE CatBoostRegressor =', RMSE_CBR)"
   ]
  },
  {
   "cell_type": "code",
   "execution_count": null,
   "metadata": {},
   "outputs": [],
   "source": [
    "start_time = time.time()\n",
    "model_CBR.fit(features_train,target_train)\n",
    "end_time = time.time()\n",
    "fit_time_CBR = end_time - start_time"
   ]
  },
  {
   "cell_type": "code",
   "execution_count": null,
   "metadata": {},
   "outputs": [],
   "source": [
    "start_time = time.time()\n",
    "pred = model_CBR.predict(features_train)\n",
    "end_time = time.time()\n",
    "pred_time_CBR = end_time - start_time"
   ]
  },
  {
   "cell_type": "code",
   "execution_count": null,
   "metadata": {},
   "outputs": [],
   "source": [
    "table_of_rmse.append(round(RMSE_CBR,2))\n",
    "table_of_time_ob.append (fit_time_CBR)\n",
    "table_of_time_pr.append (pred_time_CBR)\n",
    "table_of_model.append ('model_CBR') "
   ]
  },
  {
   "cell_type": "markdown",
   "metadata": {},
   "source": [
    "## Анализ моделей"
   ]
  },
  {
   "cell_type": "markdown",
   "metadata": {},
   "source": [
    "**Исследовано 5 моделей по 3 параметрам**   \n",
    "- качество предсказания\n",
    "- скорость предсказания\n",
    "- время обучения<br>\n",
    "Анализ скорости и времени предсказания представлен в таблице"
   ]
  },
  {
   "cell_type": "code",
   "execution_count": null,
   "metadata": {},
   "outputs": [],
   "source": [
    "models = (pd.DataFrame(\n",
    "    {'Model':table_of_model,'RMSE':table_of_rmse, 'time_study':table_of_time_ob, 'time_predict':table_of_time_pr})\n",
    "                .sort_values(by='RMSE')\n",
    "                .set_index('Model'))\n",
    "\n",
    "models"
   ]
  },
  {
   "cell_type": "markdown",
   "metadata": {},
   "source": [
    "Значение метрики RMSE, в соответствии с заданием, должно быть меньше 2500. Все модели соответствуют заданному условию. Лучшей моделью по метрике качества стал градиентный бустинг Catboost с результатом RMSE = 1311 с самым большим временем обучения."
   ]
  },
  {
   "cell_type": "markdown",
   "metadata": {},
   "source": [
    "По времени обучения и предсказания лучшие показатели у модели DecisionTreeRegressor."
   ]
  },
  {
   "cell_type": "markdown",
   "metadata": {},
   "source": [
    "Выполним предсказания на лучшей моделе по метрике качества RMSE."
   ]
  },
  {
   "cell_type": "code",
   "execution_count": null,
   "metadata": {},
   "outputs": [],
   "source": [
    "start_time = time.time()\n",
    "pred = model_CBR.predict(features_test)\n",
    "end_time = time.time()\n",
    "pred_time_good = end_time - start_time"
   ]
  },
  {
   "cell_type": "code",
   "execution_count": null,
   "metadata": {},
   "outputs": [],
   "source": [
    "RMSE_final_ = mean_squared_error(target_test, pred) ** 0.5\n",
    "print('RMSE на тестовой выборке - ', RMSE_final_)\n",
    "print('Время предсказания на лучшей модели на тестовой выборке - ',pred_time_good)"
   ]
  },
  {
   "cell_type": "markdown",
   "metadata": {},
   "source": [
    "**Значение метрики RMSE на тестовой выборке, в соответствии с заданием, должно быть меньше 2500**"
   ]
  },
  {
   "cell_type": "markdown",
   "metadata": {},
   "source": [
    "**Вывод**\n",
    "1. По результатам анализа данных были заполнены пропуски, исключены лишние признаки, аномальные значения и выбросы\n",
    "2. Выполнено сравнение моделей с использованием различных наборов гиперпараметров.\n",
    "3. Выбрана лучшая модель по результатам метрики RMSE и времени обучения.<br>\n",
    "Лучшей моделью по RMSE стал Catboost с результатом в 1311.21. При этом скорость обучения и время предсказания не самые быстрые и занимают последние места среди рассмотренных моделей. Самым быстрым оказался DecisionTreeRegressor на подготовленных данных. Однако у этой модели не самый лучший результат по качеству - 2094.36.\n",
    "4. Для использовании на практике рекомендуется модель с лучшей метрикой качества - Catboost."
   ]
  },
  {
   "cell_type": "code",
   "execution_count": null,
   "metadata": {},
   "outputs": [],
   "source": []
  }
 ],
 "metadata": {
  "ExecuteTimeLog": [
   {
    "duration": 114,
    "start_time": "2023-06-22T06:55:53.297Z"
   },
   {
    "duration": 0,
    "start_time": "2023-06-22T06:55:53.414Z"
   },
   {
    "duration": 0,
    "start_time": "2023-06-22T06:55:53.416Z"
   },
   {
    "duration": 0,
    "start_time": "2023-06-22T06:55:53.417Z"
   },
   {
    "duration": 403,
    "start_time": "2023-06-22T06:57:22.953Z"
   },
   {
    "duration": 1191,
    "start_time": "2023-06-22T06:57:23.721Z"
   },
   {
    "duration": 159,
    "start_time": "2023-06-22T06:57:24.914Z"
   },
   {
    "duration": 18,
    "start_time": "2023-06-22T06:57:25.097Z"
   },
   {
    "duration": 3,
    "start_time": "2023-06-22T08:23:41.052Z"
   },
   {
    "duration": 5,
    "start_time": "2023-06-22T08:23:58.793Z"
   },
   {
    "duration": 424,
    "start_time": "2023-06-22T12:54:58.512Z"
   },
   {
    "duration": 834,
    "start_time": "2023-06-22T12:54:58.939Z"
   },
   {
    "duration": 150,
    "start_time": "2023-06-22T12:54:59.775Z"
   },
   {
    "duration": 27,
    "start_time": "2023-06-22T12:54:59.926Z"
   },
   {
    "duration": 61,
    "start_time": "2023-06-22T12:54:59.954Z"
   },
   {
    "duration": 0,
    "start_time": "2023-06-22T12:55:00.032Z"
   },
   {
    "duration": 4,
    "start_time": "2023-06-22T12:56:30.014Z"
   },
   {
    "duration": 3,
    "start_time": "2023-06-22T12:56:37.112Z"
   },
   {
    "duration": 5,
    "start_time": "2023-06-22T12:56:37.633Z"
   },
   {
    "duration": 1697,
    "start_time": "2023-06-22T17:00:52.749Z"
   },
   {
    "duration": 424,
    "start_time": "2023-06-22T17:01:37.600Z"
   },
   {
    "duration": 818,
    "start_time": "2023-06-22T17:01:38.026Z"
   },
   {
    "duration": 139,
    "start_time": "2023-06-22T17:01:38.846Z"
   },
   {
    "duration": 20,
    "start_time": "2023-06-22T17:01:38.987Z"
   },
   {
    "duration": 6,
    "start_time": "2023-06-22T17:01:39.008Z"
   },
   {
    "duration": 17,
    "start_time": "2023-06-22T17:01:39.015Z"
   },
   {
    "duration": 1642,
    "start_time": "2023-06-22T17:01:39.034Z"
   },
   {
    "duration": 124,
    "start_time": "2023-06-22T17:04:38.233Z"
   },
   {
    "duration": 113,
    "start_time": "2023-06-22T17:05:15.296Z"
   },
   {
    "duration": 150,
    "start_time": "2023-06-22T17:05:49.686Z"
   },
   {
    "duration": 89,
    "start_time": "2023-06-22T17:10:43.524Z"
   },
   {
    "duration": 11,
    "start_time": "2023-06-22T17:46:39.242Z"
   },
   {
    "duration": 203,
    "start_time": "2023-06-22T17:47:04.870Z"
   },
   {
    "duration": 10,
    "start_time": "2023-06-22T17:47:21.548Z"
   },
   {
    "duration": 34,
    "start_time": "2023-06-22T17:49:58.017Z"
   },
   {
    "duration": 20,
    "start_time": "2023-06-22T17:50:26.157Z"
   },
   {
    "duration": 20,
    "start_time": "2023-06-22T17:51:17.786Z"
   },
   {
    "duration": 22,
    "start_time": "2023-06-22T17:52:43.041Z"
   },
   {
    "duration": 21,
    "start_time": "2023-06-22T17:53:44.387Z"
   },
   {
    "duration": 77,
    "start_time": "2023-06-22T17:57:28.865Z"
   },
   {
    "duration": 1192,
    "start_time": "2023-06-22T18:34:14.612Z"
   },
   {
    "duration": 19,
    "start_time": "2023-06-22T18:37:22.103Z"
   },
   {
    "duration": 50,
    "start_time": "2023-06-22T18:37:34.204Z"
   },
   {
    "duration": 409,
    "start_time": "2023-06-22T18:37:40.523Z"
   },
   {
    "duration": 831,
    "start_time": "2023-06-22T18:37:40.933Z"
   },
   {
    "duration": 139,
    "start_time": "2023-06-22T18:37:41.766Z"
   },
   {
    "duration": 39,
    "start_time": "2023-06-22T18:37:41.906Z"
   },
   {
    "duration": 10,
    "start_time": "2023-06-22T18:37:41.947Z"
   },
   {
    "duration": 9,
    "start_time": "2023-06-22T18:37:41.959Z"
   },
   {
    "duration": 127,
    "start_time": "2023-06-22T18:37:41.970Z"
   },
   {
    "duration": 109,
    "start_time": "2023-06-22T18:37:42.099Z"
   },
   {
    "duration": 28,
    "start_time": "2023-06-22T18:37:42.210Z"
   },
   {
    "duration": 27,
    "start_time": "2023-06-22T18:37:42.240Z"
   },
   {
    "duration": 28,
    "start_time": "2023-06-22T18:37:42.269Z"
   },
   {
    "duration": 21,
    "start_time": "2023-06-22T18:37:42.299Z"
   },
   {
    "duration": 29,
    "start_time": "2023-06-22T18:37:42.321Z"
   },
   {
    "duration": 114,
    "start_time": "2023-06-22T18:37:42.352Z"
   },
   {
    "duration": 39,
    "start_time": "2023-06-22T18:37:57.694Z"
   },
   {
    "duration": 12,
    "start_time": "2023-06-22T18:40:38.356Z"
   },
   {
    "duration": 42,
    "start_time": "2023-06-22T18:51:44.083Z"
   },
   {
    "duration": 9,
    "start_time": "2023-06-22T18:52:09.992Z"
   },
   {
    "duration": 9,
    "start_time": "2023-06-22T19:00:05.152Z"
   },
   {
    "duration": 54,
    "start_time": "2023-06-22T19:00:13.100Z"
   },
   {
    "duration": 8,
    "start_time": "2023-06-22T19:00:23.196Z"
   },
   {
    "duration": 37,
    "start_time": "2023-06-22T19:02:02.721Z"
   },
   {
    "duration": 11,
    "start_time": "2023-06-22T19:02:03.370Z"
   },
   {
    "duration": 8,
    "start_time": "2023-06-22T19:02:09.459Z"
   },
   {
    "duration": 45,
    "start_time": "2023-06-22T19:02:40.124Z"
   },
   {
    "duration": 24,
    "start_time": "2023-06-22T19:02:48.557Z"
   },
   {
    "duration": 56,
    "start_time": "2023-06-22T19:03:36.625Z"
   },
   {
    "duration": 44,
    "start_time": "2023-06-22T19:03:44.987Z"
   },
   {
    "duration": 112,
    "start_time": "2023-06-22T19:03:59.435Z"
   },
   {
    "duration": 372,
    "start_time": "2023-06-22T19:04:15.771Z"
   },
   {
    "duration": 872,
    "start_time": "2023-06-22T19:04:16.149Z"
   },
   {
    "duration": 159,
    "start_time": "2023-06-22T19:04:17.023Z"
   },
   {
    "duration": 19,
    "start_time": "2023-06-22T19:04:17.184Z"
   },
   {
    "duration": 87,
    "start_time": "2023-06-22T19:04:17.204Z"
   },
   {
    "duration": 8,
    "start_time": "2023-06-22T19:04:17.293Z"
   },
   {
    "duration": 188,
    "start_time": "2023-06-22T19:04:17.302Z"
   },
   {
    "duration": 111,
    "start_time": "2023-06-22T19:04:17.492Z"
   },
   {
    "duration": 19,
    "start_time": "2023-06-22T19:04:17.605Z"
   },
   {
    "duration": 46,
    "start_time": "2023-06-22T19:04:17.633Z"
   },
   {
    "duration": 43,
    "start_time": "2023-06-22T19:04:17.681Z"
   },
   {
    "duration": 53,
    "start_time": "2023-06-22T19:04:17.726Z"
   },
   {
    "duration": 42,
    "start_time": "2023-06-22T19:04:17.781Z"
   },
   {
    "duration": 64,
    "start_time": "2023-06-22T19:04:17.825Z"
   },
   {
    "duration": 52,
    "start_time": "2023-06-22T19:04:17.890Z"
   },
   {
    "duration": 15,
    "start_time": "2023-06-22T19:04:17.944Z"
   },
   {
    "duration": 118,
    "start_time": "2023-06-22T19:04:17.961Z"
   },
   {
    "duration": 0,
    "start_time": "2023-06-22T19:04:18.080Z"
   },
   {
    "duration": 42,
    "start_time": "2023-06-22T19:04:56.329Z"
   },
   {
    "duration": 19,
    "start_time": "2023-06-22T19:04:58.664Z"
   },
   {
    "duration": 113,
    "start_time": "2023-06-22T19:05:32.595Z"
   },
   {
    "duration": 53,
    "start_time": "2023-06-22T19:06:52.589Z"
   },
   {
    "duration": 84,
    "start_time": "2023-06-22T19:07:27.369Z"
   },
   {
    "duration": 19,
    "start_time": "2023-06-22T19:07:38.557Z"
   },
   {
    "duration": 89,
    "start_time": "2023-06-22T19:15:18.649Z"
   },
   {
    "duration": 15,
    "start_time": "2023-06-22T19:15:56.331Z"
   },
   {
    "duration": 7,
    "start_time": "2023-06-22T19:16:06.184Z"
   },
   {
    "duration": 7,
    "start_time": "2023-06-22T19:16:18.304Z"
   },
   {
    "duration": 16,
    "start_time": "2023-06-22T19:16:55.928Z"
   },
   {
    "duration": 9,
    "start_time": "2023-06-22T19:17:18.239Z"
   },
   {
    "duration": 7,
    "start_time": "2023-06-22T19:19:17.892Z"
   },
   {
    "duration": 7,
    "start_time": "2023-06-23T14:48:47.602Z"
   },
   {
    "duration": 7,
    "start_time": "2023-06-23T14:48:58.304Z"
   },
   {
    "duration": 7,
    "start_time": "2023-06-23T14:48:58.751Z"
   },
   {
    "duration": 19,
    "start_time": "2023-06-23T14:48:59.232Z"
   },
   {
    "duration": 121,
    "start_time": "2023-06-23T14:49:17.850Z"
   },
   {
    "duration": 94,
    "start_time": "2023-06-23T14:49:36.106Z"
   },
   {
    "duration": 334,
    "start_time": "2023-06-23T14:49:46.116Z"
   },
   {
    "duration": 18,
    "start_time": "2023-06-23T15:16:39.603Z"
   },
   {
    "duration": 49,
    "start_time": "2023-06-23T15:29:35.950Z"
   },
   {
    "duration": 2097,
    "start_time": "2023-06-23T15:36:06.527Z"
   },
   {
    "duration": 98,
    "start_time": "2023-06-23T15:36:28.934Z"
   },
   {
    "duration": 95,
    "start_time": "2023-06-23T15:36:45.667Z"
   },
   {
    "duration": 1159,
    "start_time": "2023-06-23T15:36:54.623Z"
   },
   {
    "duration": 0,
    "start_time": "2023-06-23T15:36:55.785Z"
   },
   {
    "duration": 0,
    "start_time": "2023-06-23T15:36:55.788Z"
   },
   {
    "duration": 0,
    "start_time": "2023-06-23T15:36:55.789Z"
   },
   {
    "duration": 0,
    "start_time": "2023-06-23T15:36:55.791Z"
   },
   {
    "duration": 0,
    "start_time": "2023-06-23T15:36:55.792Z"
   },
   {
    "duration": 0,
    "start_time": "2023-06-23T15:36:55.793Z"
   },
   {
    "duration": 0,
    "start_time": "2023-06-23T15:36:55.793Z"
   },
   {
    "duration": 0,
    "start_time": "2023-06-23T15:36:55.794Z"
   },
   {
    "duration": 0,
    "start_time": "2023-06-23T15:36:55.795Z"
   },
   {
    "duration": 0,
    "start_time": "2023-06-23T15:36:55.796Z"
   },
   {
    "duration": 0,
    "start_time": "2023-06-23T15:36:55.797Z"
   },
   {
    "duration": 0,
    "start_time": "2023-06-23T15:36:55.798Z"
   },
   {
    "duration": 0,
    "start_time": "2023-06-23T15:36:55.799Z"
   },
   {
    "duration": 0,
    "start_time": "2023-06-23T15:36:55.800Z"
   },
   {
    "duration": 0,
    "start_time": "2023-06-23T15:36:55.801Z"
   },
   {
    "duration": 0,
    "start_time": "2023-06-23T15:36:55.802Z"
   },
   {
    "duration": 0,
    "start_time": "2023-06-23T15:36:55.832Z"
   },
   {
    "duration": 0,
    "start_time": "2023-06-23T15:36:55.833Z"
   },
   {
    "duration": 0,
    "start_time": "2023-06-23T15:36:55.835Z"
   },
   {
    "duration": 0,
    "start_time": "2023-06-23T15:36:55.836Z"
   },
   {
    "duration": 3,
    "start_time": "2023-06-23T15:37:25.209Z"
   },
   {
    "duration": 419,
    "start_time": "2023-06-23T15:37:29.669Z"
   },
   {
    "duration": 1011,
    "start_time": "2023-06-23T15:37:30.090Z"
   },
   {
    "duration": 148,
    "start_time": "2023-06-23T15:37:31.103Z"
   },
   {
    "duration": 75,
    "start_time": "2023-06-23T15:37:31.253Z"
   },
   {
    "duration": 30,
    "start_time": "2023-06-23T15:37:31.330Z"
   },
   {
    "duration": 37,
    "start_time": "2023-06-23T15:37:31.362Z"
   },
   {
    "duration": 160,
    "start_time": "2023-06-23T15:37:31.401Z"
   },
   {
    "duration": 106,
    "start_time": "2023-06-23T15:37:31.563Z"
   },
   {
    "duration": 21,
    "start_time": "2023-06-23T15:37:31.670Z"
   },
   {
    "duration": 63,
    "start_time": "2023-06-23T15:37:31.693Z"
   },
   {
    "duration": 86,
    "start_time": "2023-06-23T15:37:31.758Z"
   },
   {
    "duration": 0,
    "start_time": "2023-06-23T15:37:31.848Z"
   },
   {
    "duration": 0,
    "start_time": "2023-06-23T15:37:31.849Z"
   },
   {
    "duration": 0,
    "start_time": "2023-06-23T15:37:31.850Z"
   },
   {
    "duration": 0,
    "start_time": "2023-06-23T15:37:31.851Z"
   },
   {
    "duration": 0,
    "start_time": "2023-06-23T15:37:31.853Z"
   },
   {
    "duration": 0,
    "start_time": "2023-06-23T15:37:31.854Z"
   },
   {
    "duration": 0,
    "start_time": "2023-06-23T15:37:31.855Z"
   },
   {
    "duration": 0,
    "start_time": "2023-06-23T15:37:31.856Z"
   },
   {
    "duration": 0,
    "start_time": "2023-06-23T15:37:31.857Z"
   },
   {
    "duration": 0,
    "start_time": "2023-06-23T15:37:31.858Z"
   },
   {
    "duration": 2127,
    "start_time": "2023-06-23T15:37:58.473Z"
   },
   {
    "duration": 1953,
    "start_time": "2023-06-23T15:38:20.905Z"
   },
   {
    "duration": 2001,
    "start_time": "2023-06-23T15:38:42.313Z"
   },
   {
    "duration": 41,
    "start_time": "2023-06-23T15:45:45.069Z"
   },
   {
    "duration": 303,
    "start_time": "2023-06-23T15:46:11.057Z"
   },
   {
    "duration": 3656,
    "start_time": "2023-06-23T15:48:44.043Z"
   },
   {
    "duration": 8,
    "start_time": "2023-06-23T15:50:08.698Z"
   },
   {
    "duration": 9,
    "start_time": "2023-06-23T15:50:44.167Z"
   },
   {
    "duration": 6,
    "start_time": "2023-06-23T15:53:04.222Z"
   },
   {
    "duration": 17,
    "start_time": "2023-06-23T15:53:04.261Z"
   },
   {
    "duration": 9,
    "start_time": "2023-06-23T15:53:55.024Z"
   },
   {
    "duration": 8,
    "start_time": "2023-06-23T15:54:17.738Z"
   },
   {
    "duration": 9,
    "start_time": "2023-06-23T15:54:30.248Z"
   },
   {
    "duration": 153,
    "start_time": "2023-06-23T15:54:37.804Z"
   },
   {
    "duration": 112,
    "start_time": "2023-06-23T16:06:10.508Z"
   },
   {
    "duration": 274,
    "start_time": "2023-06-23T16:08:09.915Z"
   },
   {
    "duration": 43,
    "start_time": "2023-06-23T16:16:19.567Z"
   },
   {
    "duration": 22,
    "start_time": "2023-06-23T16:16:34.805Z"
   },
   {
    "duration": 100,
    "start_time": "2023-06-23T16:16:49.003Z"
   },
   {
    "duration": 140,
    "start_time": "2023-06-23T16:17:12.207Z"
   },
   {
    "duration": 10,
    "start_time": "2023-06-23T16:37:32.670Z"
   },
   {
    "duration": 32,
    "start_time": "2023-06-23T16:38:10.970Z"
   },
   {
    "duration": 29,
    "start_time": "2023-06-23T16:39:14.892Z"
   },
   {
    "duration": 36,
    "start_time": "2023-06-23T16:39:59.034Z"
   },
   {
    "duration": 18,
    "start_time": "2023-06-23T16:39:59.072Z"
   },
   {
    "duration": 13,
    "start_time": "2023-06-23T16:42:12.200Z"
   },
   {
    "duration": 18,
    "start_time": "2023-06-23T16:42:37.342Z"
   },
   {
    "duration": 6,
    "start_time": "2023-06-23T16:42:37.403Z"
   },
   {
    "duration": 14,
    "start_time": "2023-06-23T16:43:18.774Z"
   },
   {
    "duration": 403,
    "start_time": "2023-06-23T16:44:40.123Z"
   },
   {
    "duration": 783,
    "start_time": "2023-06-23T16:44:40.528Z"
   },
   {
    "duration": 138,
    "start_time": "2023-06-23T16:44:41.313Z"
   },
   {
    "duration": 16,
    "start_time": "2023-06-23T16:44:41.453Z"
   },
   {
    "duration": 19,
    "start_time": "2023-06-23T16:44:41.472Z"
   },
   {
    "duration": 12,
    "start_time": "2023-06-23T16:44:41.493Z"
   },
   {
    "duration": 37,
    "start_time": "2023-06-23T16:44:41.507Z"
   },
   {
    "duration": 103,
    "start_time": "2023-06-23T16:44:41.545Z"
   },
   {
    "duration": 128,
    "start_time": "2023-06-23T16:44:41.650Z"
   },
   {
    "duration": 60,
    "start_time": "2023-06-23T16:44:41.779Z"
   },
   {
    "duration": 34,
    "start_time": "2023-06-23T16:44:41.840Z"
   },
   {
    "duration": 13,
    "start_time": "2023-06-23T16:44:41.876Z"
   },
   {
    "duration": 16,
    "start_time": "2023-06-23T16:44:41.890Z"
   },
   {
    "duration": 115,
    "start_time": "2023-06-23T16:44:41.931Z"
   },
   {
    "duration": 20,
    "start_time": "2023-06-23T16:44:42.048Z"
   },
   {
    "duration": 20,
    "start_time": "2023-06-23T16:44:42.071Z"
   },
   {
    "duration": 40,
    "start_time": "2023-06-23T16:44:42.094Z"
   },
   {
    "duration": 65,
    "start_time": "2023-06-23T16:44:42.135Z"
   },
   {
    "duration": 0,
    "start_time": "2023-06-23T16:44:42.202Z"
   },
   {
    "duration": 0,
    "start_time": "2023-06-23T16:44:42.203Z"
   },
   {
    "duration": 0,
    "start_time": "2023-06-23T16:44:42.204Z"
   },
   {
    "duration": 0,
    "start_time": "2023-06-23T16:44:42.205Z"
   },
   {
    "duration": 0,
    "start_time": "2023-06-23T16:44:42.206Z"
   },
   {
    "duration": 229,
    "start_time": "2023-06-23T16:45:03.838Z"
   },
   {
    "duration": 4,
    "start_time": "2023-06-23T16:45:28.410Z"
   },
   {
    "duration": 4,
    "start_time": "2023-06-23T16:46:02.814Z"
   },
   {
    "duration": 3,
    "start_time": "2023-06-23T16:46:20.033Z"
   },
   {
    "duration": 6,
    "start_time": "2023-06-23T16:47:10.303Z"
   },
   {
    "duration": 5,
    "start_time": "2023-06-23T16:47:10.945Z"
   },
   {
    "duration": 14,
    "start_time": "2023-06-23T16:47:12.563Z"
   },
   {
    "duration": 5,
    "start_time": "2023-06-23T16:47:31.155Z"
   },
   {
    "duration": 9,
    "start_time": "2023-06-23T16:47:31.804Z"
   },
   {
    "duration": 344,
    "start_time": "2023-06-23T16:47:45.192Z"
   },
   {
    "duration": 762,
    "start_time": "2023-06-23T16:47:45.538Z"
   },
   {
    "duration": 135,
    "start_time": "2023-06-23T16:47:46.301Z"
   },
   {
    "duration": 19,
    "start_time": "2023-06-23T16:47:46.438Z"
   },
   {
    "duration": 4,
    "start_time": "2023-06-23T16:47:46.459Z"
   },
   {
    "duration": 12,
    "start_time": "2023-06-23T16:47:46.464Z"
   },
   {
    "duration": 40,
    "start_time": "2023-06-23T16:47:46.478Z"
   },
   {
    "duration": 95,
    "start_time": "2023-06-23T16:47:46.520Z"
   },
   {
    "duration": 129,
    "start_time": "2023-06-23T16:47:46.616Z"
   },
   {
    "duration": 37,
    "start_time": "2023-06-23T16:47:46.746Z"
   },
   {
    "duration": 51,
    "start_time": "2023-06-23T16:47:46.785Z"
   },
   {
    "duration": 29,
    "start_time": "2023-06-23T16:47:46.838Z"
   },
   {
    "duration": 79,
    "start_time": "2023-06-23T16:47:46.868Z"
   },
   {
    "duration": 3,
    "start_time": "2023-06-23T16:47:46.950Z"
   },
   {
    "duration": 30,
    "start_time": "2023-06-23T16:47:46.955Z"
   },
   {
    "duration": 20,
    "start_time": "2023-06-23T16:47:46.987Z"
   },
   {
    "duration": 128,
    "start_time": "2023-06-23T16:47:47.009Z"
   },
   {
    "duration": 20,
    "start_time": "2023-06-23T16:47:47.138Z"
   },
   {
    "duration": 26,
    "start_time": "2023-06-23T16:47:47.159Z"
   },
   {
    "duration": 22,
    "start_time": "2023-06-23T16:47:47.187Z"
   },
   {
    "duration": 172,
    "start_time": "2023-06-23T16:47:47.210Z"
   },
   {
    "duration": 0,
    "start_time": "2023-06-23T16:47:47.384Z"
   },
   {
    "duration": 0,
    "start_time": "2023-06-23T16:47:47.385Z"
   },
   {
    "duration": 0,
    "start_time": "2023-06-23T16:47:47.386Z"
   },
   {
    "duration": 0,
    "start_time": "2023-06-23T16:47:47.387Z"
   },
   {
    "duration": 0,
    "start_time": "2023-06-23T16:47:47.387Z"
   },
   {
    "duration": 25,
    "start_time": "2023-06-23T16:52:05.404Z"
   },
   {
    "duration": 66,
    "start_time": "2023-06-23T16:52:07.144Z"
   },
   {
    "duration": 5,
    "start_time": "2023-06-23T16:52:09.015Z"
   },
   {
    "duration": 3,
    "start_time": "2023-06-23T16:52:10.831Z"
   },
   {
    "duration": 3,
    "start_time": "2023-06-23T16:52:12.276Z"
   },
   {
    "duration": 77,
    "start_time": "2023-06-23T17:03:36.064Z"
   },
   {
    "duration": 9,
    "start_time": "2023-06-23T17:07:16.737Z"
   },
   {
    "duration": 377,
    "start_time": "2023-06-23T17:07:22.450Z"
   },
   {
    "duration": 801,
    "start_time": "2023-06-23T17:07:22.831Z"
   },
   {
    "duration": 137,
    "start_time": "2023-06-23T17:07:23.633Z"
   },
   {
    "duration": 19,
    "start_time": "2023-06-23T17:07:23.771Z"
   },
   {
    "duration": 8,
    "start_time": "2023-06-23T17:07:23.793Z"
   },
   {
    "duration": 7,
    "start_time": "2023-06-23T17:07:23.802Z"
   },
   {
    "duration": 44,
    "start_time": "2023-06-23T17:07:23.811Z"
   },
   {
    "duration": 97,
    "start_time": "2023-06-23T17:07:23.857Z"
   },
   {
    "duration": 95,
    "start_time": "2023-06-23T17:07:23.957Z"
   },
   {
    "duration": 122,
    "start_time": "2023-06-23T17:07:24.054Z"
   },
   {
    "duration": 79,
    "start_time": "2023-06-23T17:07:24.178Z"
   },
   {
    "duration": 0,
    "start_time": "2023-06-23T17:07:24.262Z"
   },
   {
    "duration": 0,
    "start_time": "2023-06-23T17:07:24.263Z"
   },
   {
    "duration": 0,
    "start_time": "2023-06-23T17:07:24.264Z"
   },
   {
    "duration": 0,
    "start_time": "2023-06-23T17:07:24.265Z"
   },
   {
    "duration": 0,
    "start_time": "2023-06-23T17:07:24.266Z"
   },
   {
    "duration": 0,
    "start_time": "2023-06-23T17:07:24.268Z"
   },
   {
    "duration": 0,
    "start_time": "2023-06-23T17:07:24.269Z"
   },
   {
    "duration": 0,
    "start_time": "2023-06-23T17:07:24.270Z"
   },
   {
    "duration": 0,
    "start_time": "2023-06-23T17:07:24.272Z"
   },
   {
    "duration": 0,
    "start_time": "2023-06-23T17:07:24.273Z"
   },
   {
    "duration": 0,
    "start_time": "2023-06-23T17:07:24.274Z"
   },
   {
    "duration": 0,
    "start_time": "2023-06-23T17:07:24.275Z"
   },
   {
    "duration": 0,
    "start_time": "2023-06-23T17:07:24.277Z"
   },
   {
    "duration": 0,
    "start_time": "2023-06-23T17:07:24.278Z"
   },
   {
    "duration": 0,
    "start_time": "2023-06-23T17:07:24.279Z"
   },
   {
    "duration": 0,
    "start_time": "2023-06-23T17:07:24.280Z"
   },
   {
    "duration": 0,
    "start_time": "2023-06-23T17:07:24.282Z"
   },
   {
    "duration": 0,
    "start_time": "2023-06-23T17:07:24.283Z"
   },
   {
    "duration": 89,
    "start_time": "2023-06-23T17:08:01.931Z"
   },
   {
    "duration": 115,
    "start_time": "2023-06-23T17:08:15.194Z"
   },
   {
    "duration": 103,
    "start_time": "2023-06-23T17:14:59.266Z"
   },
   {
    "duration": 109,
    "start_time": "2023-06-23T17:16:47.544Z"
   },
   {
    "duration": 434,
    "start_time": "2023-06-23T17:16:55.300Z"
   },
   {
    "duration": 781,
    "start_time": "2023-06-23T17:16:55.736Z"
   },
   {
    "duration": 136,
    "start_time": "2023-06-23T17:16:56.519Z"
   },
   {
    "duration": 18,
    "start_time": "2023-06-23T17:16:56.657Z"
   },
   {
    "duration": 8,
    "start_time": "2023-06-23T17:16:56.677Z"
   },
   {
    "duration": 8,
    "start_time": "2023-06-23T17:16:56.686Z"
   },
   {
    "duration": 48,
    "start_time": "2023-06-23T17:16:56.695Z"
   },
   {
    "duration": 105,
    "start_time": "2023-06-23T17:16:56.745Z"
   },
   {
    "duration": 95,
    "start_time": "2023-06-23T17:16:56.851Z"
   },
   {
    "duration": 130,
    "start_time": "2023-06-23T17:16:56.948Z"
   },
   {
    "duration": 132,
    "start_time": "2023-06-23T17:16:57.080Z"
   },
   {
    "duration": 102,
    "start_time": "2023-06-23T17:16:57.213Z"
   },
   {
    "duration": 116,
    "start_time": "2023-06-23T17:16:57.316Z"
   },
   {
    "duration": 28,
    "start_time": "2023-06-23T17:16:57.435Z"
   },
   {
    "duration": 33,
    "start_time": "2023-06-23T17:16:57.464Z"
   },
   {
    "duration": 58,
    "start_time": "2023-06-23T17:16:57.498Z"
   },
   {
    "duration": 26,
    "start_time": "2023-06-23T17:16:57.558Z"
   },
   {
    "duration": 73,
    "start_time": "2023-06-23T17:16:57.585Z"
   },
   {
    "duration": 65,
    "start_time": "2023-06-23T17:16:57.659Z"
   },
   {
    "duration": 17,
    "start_time": "2023-06-23T17:16:57.725Z"
   },
   {
    "duration": 19,
    "start_time": "2023-06-23T17:16:57.743Z"
   },
   {
    "duration": 174,
    "start_time": "2023-06-23T17:16:57.764Z"
   },
   {
    "duration": 20,
    "start_time": "2023-06-23T17:16:57.939Z"
   },
   {
    "duration": 25,
    "start_time": "2023-06-23T17:16:57.961Z"
   },
   {
    "duration": 34,
    "start_time": "2023-06-23T17:16:57.987Z"
   },
   {
    "duration": 65,
    "start_time": "2023-06-23T17:16:58.032Z"
   },
   {
    "duration": 0,
    "start_time": "2023-06-23T17:16:58.098Z"
   },
   {
    "duration": 0,
    "start_time": "2023-06-23T17:16:58.099Z"
   },
   {
    "duration": 0,
    "start_time": "2023-06-23T17:16:58.101Z"
   },
   {
    "duration": 0,
    "start_time": "2023-06-23T17:16:58.102Z"
   },
   {
    "duration": 0,
    "start_time": "2023-06-23T17:16:58.104Z"
   },
   {
    "duration": 15,
    "start_time": "2023-06-23T17:19:41.094Z"
   },
   {
    "duration": 8,
    "start_time": "2023-06-23T17:23:42.201Z"
   },
   {
    "duration": 8,
    "start_time": "2023-06-23T17:23:50.225Z"
   },
   {
    "duration": 393,
    "start_time": "2023-06-23T17:23:56.831Z"
   },
   {
    "duration": 784,
    "start_time": "2023-06-23T17:23:57.225Z"
   },
   {
    "duration": 138,
    "start_time": "2023-06-23T17:23:58.010Z"
   },
   {
    "duration": 22,
    "start_time": "2023-06-23T17:23:58.150Z"
   },
   {
    "duration": 16,
    "start_time": "2023-06-23T17:23:58.173Z"
   },
   {
    "duration": 24,
    "start_time": "2023-06-23T17:23:58.190Z"
   },
   {
    "duration": 29,
    "start_time": "2023-06-23T17:23:58.216Z"
   },
   {
    "duration": 93,
    "start_time": "2023-06-23T17:23:58.247Z"
   },
   {
    "duration": 78,
    "start_time": "2023-06-23T17:23:58.342Z"
   },
   {
    "duration": 130,
    "start_time": "2023-06-23T17:23:58.433Z"
   },
   {
    "duration": 130,
    "start_time": "2023-06-23T17:23:58.565Z"
   },
   {
    "duration": 103,
    "start_time": "2023-06-23T17:23:58.696Z"
   },
   {
    "duration": 117,
    "start_time": "2023-06-23T17:23:58.800Z"
   },
   {
    "duration": 25,
    "start_time": "2023-06-23T17:23:58.918Z"
   },
   {
    "duration": 90,
    "start_time": "2023-06-23T17:23:58.945Z"
   },
   {
    "duration": 0,
    "start_time": "2023-06-23T17:23:59.037Z"
   },
   {
    "duration": 0,
    "start_time": "2023-06-23T17:23:59.038Z"
   },
   {
    "duration": 0,
    "start_time": "2023-06-23T17:23:59.039Z"
   },
   {
    "duration": 0,
    "start_time": "2023-06-23T17:23:59.041Z"
   },
   {
    "duration": 0,
    "start_time": "2023-06-23T17:23:59.042Z"
   },
   {
    "duration": 0,
    "start_time": "2023-06-23T17:23:59.043Z"
   },
   {
    "duration": 0,
    "start_time": "2023-06-23T17:23:59.044Z"
   },
   {
    "duration": 0,
    "start_time": "2023-06-23T17:23:59.045Z"
   },
   {
    "duration": 0,
    "start_time": "2023-06-23T17:23:59.046Z"
   },
   {
    "duration": 0,
    "start_time": "2023-06-23T17:23:59.047Z"
   },
   {
    "duration": 0,
    "start_time": "2023-06-23T17:23:59.048Z"
   },
   {
    "duration": 0,
    "start_time": "2023-06-23T17:23:59.049Z"
   },
   {
    "duration": 0,
    "start_time": "2023-06-23T17:23:59.050Z"
   },
   {
    "duration": 0,
    "start_time": "2023-06-23T17:23:59.051Z"
   },
   {
    "duration": 0,
    "start_time": "2023-06-23T17:23:59.052Z"
   },
   {
    "duration": 0,
    "start_time": "2023-06-23T17:23:59.053Z"
   },
   {
    "duration": 0,
    "start_time": "2023-06-23T17:23:59.054Z"
   },
   {
    "duration": 0,
    "start_time": "2023-06-23T17:23:59.054Z"
   },
   {
    "duration": 63,
    "start_time": "2023-06-23T17:24:22.141Z"
   },
   {
    "duration": 13,
    "start_time": "2023-06-23T17:24:35.392Z"
   },
   {
    "duration": 354,
    "start_time": "2023-06-23T17:24:41.371Z"
   },
   {
    "duration": 761,
    "start_time": "2023-06-23T17:24:41.727Z"
   },
   {
    "duration": 122,
    "start_time": "2023-06-23T17:24:42.489Z"
   },
   {
    "duration": 36,
    "start_time": "2023-06-23T17:24:42.613Z"
   },
   {
    "duration": 3,
    "start_time": "2023-06-23T17:24:42.652Z"
   },
   {
    "duration": 22,
    "start_time": "2023-06-23T17:24:42.657Z"
   },
   {
    "duration": 37,
    "start_time": "2023-06-23T17:24:42.680Z"
   },
   {
    "duration": 86,
    "start_time": "2023-06-23T17:24:42.719Z"
   },
   {
    "duration": 82,
    "start_time": "2023-06-23T17:24:42.806Z"
   },
   {
    "duration": 128,
    "start_time": "2023-06-23T17:24:42.889Z"
   },
   {
    "duration": 122,
    "start_time": "2023-06-23T17:24:43.019Z"
   },
   {
    "duration": 105,
    "start_time": "2023-06-23T17:24:43.142Z"
   },
   {
    "duration": 123,
    "start_time": "2023-06-23T17:24:43.248Z"
   },
   {
    "duration": 20,
    "start_time": "2023-06-23T17:24:43.374Z"
   },
   {
    "duration": 93,
    "start_time": "2023-06-23T17:24:43.396Z"
   },
   {
    "duration": 0,
    "start_time": "2023-06-23T17:24:43.491Z"
   },
   {
    "duration": 0,
    "start_time": "2023-06-23T17:24:43.492Z"
   },
   {
    "duration": 0,
    "start_time": "2023-06-23T17:24:43.493Z"
   },
   {
    "duration": 0,
    "start_time": "2023-06-23T17:24:43.494Z"
   },
   {
    "duration": 0,
    "start_time": "2023-06-23T17:24:43.495Z"
   },
   {
    "duration": 0,
    "start_time": "2023-06-23T17:24:43.496Z"
   },
   {
    "duration": 0,
    "start_time": "2023-06-23T17:24:43.497Z"
   },
   {
    "duration": 0,
    "start_time": "2023-06-23T17:24:43.498Z"
   },
   {
    "duration": 0,
    "start_time": "2023-06-23T17:24:43.499Z"
   },
   {
    "duration": 0,
    "start_time": "2023-06-23T17:24:43.499Z"
   },
   {
    "duration": 0,
    "start_time": "2023-06-23T17:24:43.500Z"
   },
   {
    "duration": 0,
    "start_time": "2023-06-23T17:24:43.501Z"
   },
   {
    "duration": 0,
    "start_time": "2023-06-23T17:24:43.502Z"
   },
   {
    "duration": 0,
    "start_time": "2023-06-23T17:24:43.503Z"
   },
   {
    "duration": 0,
    "start_time": "2023-06-23T17:24:43.504Z"
   },
   {
    "duration": 0,
    "start_time": "2023-06-23T17:24:43.505Z"
   },
   {
    "duration": 0,
    "start_time": "2023-06-23T17:24:43.506Z"
   },
   {
    "duration": 0,
    "start_time": "2023-06-23T17:24:43.507Z"
   },
   {
    "duration": 65,
    "start_time": "2023-06-23T17:56:08.389Z"
   },
   {
    "duration": 370,
    "start_time": "2023-06-23T17:56:13.268Z"
   },
   {
    "duration": 834,
    "start_time": "2023-06-23T17:56:13.640Z"
   },
   {
    "duration": 142,
    "start_time": "2023-06-23T17:56:14.478Z"
   },
   {
    "duration": 25,
    "start_time": "2023-06-23T17:56:14.633Z"
   },
   {
    "duration": 7,
    "start_time": "2023-06-23T17:56:14.660Z"
   },
   {
    "duration": 24,
    "start_time": "2023-06-23T17:56:14.668Z"
   },
   {
    "duration": 36,
    "start_time": "2023-06-23T17:56:14.693Z"
   },
   {
    "duration": 137,
    "start_time": "2023-06-23T17:56:14.731Z"
   },
   {
    "duration": 102,
    "start_time": "2023-06-23T17:56:14.870Z"
   },
   {
    "duration": 140,
    "start_time": "2023-06-23T17:56:14.973Z"
   },
   {
    "duration": 147,
    "start_time": "2023-06-23T17:56:15.115Z"
   },
   {
    "duration": 99,
    "start_time": "2023-06-23T17:56:15.264Z"
   },
   {
    "duration": 79,
    "start_time": "2023-06-23T17:56:15.366Z"
   },
   {
    "duration": 0,
    "start_time": "2023-06-23T17:56:15.448Z"
   },
   {
    "duration": 0,
    "start_time": "2023-06-23T17:56:15.449Z"
   },
   {
    "duration": 0,
    "start_time": "2023-06-23T17:56:15.450Z"
   },
   {
    "duration": 0,
    "start_time": "2023-06-23T17:56:15.451Z"
   },
   {
    "duration": 0,
    "start_time": "2023-06-23T17:56:15.452Z"
   },
   {
    "duration": 0,
    "start_time": "2023-06-23T17:56:15.453Z"
   },
   {
    "duration": 0,
    "start_time": "2023-06-23T17:56:15.454Z"
   },
   {
    "duration": 0,
    "start_time": "2023-06-23T17:56:15.455Z"
   },
   {
    "duration": 0,
    "start_time": "2023-06-23T17:56:15.456Z"
   },
   {
    "duration": 0,
    "start_time": "2023-06-23T17:56:15.457Z"
   },
   {
    "duration": 0,
    "start_time": "2023-06-23T17:56:15.458Z"
   },
   {
    "duration": 0,
    "start_time": "2023-06-23T17:56:15.459Z"
   },
   {
    "duration": 0,
    "start_time": "2023-06-23T17:56:15.460Z"
   },
   {
    "duration": 0,
    "start_time": "2023-06-23T17:56:15.461Z"
   },
   {
    "duration": 0,
    "start_time": "2023-06-23T17:56:15.461Z"
   },
   {
    "duration": 0,
    "start_time": "2023-06-23T17:56:15.462Z"
   },
   {
    "duration": 0,
    "start_time": "2023-06-23T17:56:15.464Z"
   },
   {
    "duration": 0,
    "start_time": "2023-06-23T17:56:15.465Z"
   },
   {
    "duration": 0,
    "start_time": "2023-06-23T17:56:15.465Z"
   },
   {
    "duration": 0,
    "start_time": "2023-06-23T17:56:15.466Z"
   },
   {
    "duration": 0,
    "start_time": "2023-06-23T17:56:15.467Z"
   },
   {
    "duration": 0,
    "start_time": "2023-06-23T17:56:15.469Z"
   },
   {
    "duration": 8,
    "start_time": "2023-06-23T17:56:49.717Z"
   },
   {
    "duration": 95,
    "start_time": "2023-06-23T17:57:04.552Z"
   },
   {
    "duration": 152,
    "start_time": "2023-06-23T17:57:04.650Z"
   },
   {
    "duration": 87,
    "start_time": "2023-06-23T17:57:36.325Z"
   },
   {
    "duration": 80,
    "start_time": "2023-06-23T17:57:54.689Z"
   },
   {
    "duration": 128,
    "start_time": "2023-06-23T17:57:54.771Z"
   },
   {
    "duration": 1414,
    "start_time": "2023-06-23T18:17:35.855Z"
   },
   {
    "duration": 0,
    "start_time": "2023-06-23T18:17:37.271Z"
   },
   {
    "duration": 1853,
    "start_time": "2023-06-23T18:17:57.594Z"
   },
   {
    "duration": 209,
    "start_time": "2023-06-23T18:22:25.918Z"
   },
   {
    "duration": 184,
    "start_time": "2023-06-23T18:23:32.376Z"
   },
   {
    "duration": 27,
    "start_time": "2023-06-23T18:25:14.427Z"
   },
   {
    "duration": 15,
    "start_time": "2023-06-23T18:25:40.911Z"
   },
   {
    "duration": 84,
    "start_time": "2023-06-23T18:25:40.941Z"
   },
   {
    "duration": 336,
    "start_time": "2023-06-23T18:25:46.895Z"
   },
   {
    "duration": 833,
    "start_time": "2023-06-23T18:25:47.233Z"
   },
   {
    "duration": 135,
    "start_time": "2023-06-23T18:25:48.067Z"
   },
   {
    "duration": 42,
    "start_time": "2023-06-23T18:25:48.204Z"
   },
   {
    "duration": 3,
    "start_time": "2023-06-23T18:25:48.248Z"
   },
   {
    "duration": 7,
    "start_time": "2023-06-23T18:25:48.252Z"
   },
   {
    "duration": 24,
    "start_time": "2023-06-23T18:25:48.261Z"
   },
   {
    "duration": 103,
    "start_time": "2023-06-23T18:25:48.287Z"
   },
   {
    "duration": 92,
    "start_time": "2023-06-23T18:25:48.392Z"
   },
   {
    "duration": 137,
    "start_time": "2023-06-23T18:25:48.485Z"
   },
   {
    "duration": 127,
    "start_time": "2023-06-23T18:25:48.631Z"
   },
   {
    "duration": 96,
    "start_time": "2023-06-23T18:25:48.759Z"
   },
   {
    "duration": 64,
    "start_time": "2023-06-23T18:25:48.857Z"
   },
   {
    "duration": 126,
    "start_time": "2023-06-23T18:25:48.931Z"
   },
   {
    "duration": 21,
    "start_time": "2023-06-23T18:25:49.058Z"
   },
   {
    "duration": 81,
    "start_time": "2023-06-23T18:25:49.081Z"
   },
   {
    "duration": 0,
    "start_time": "2023-06-23T18:25:49.163Z"
   },
   {
    "duration": 0,
    "start_time": "2023-06-23T18:25:49.164Z"
   },
   {
    "duration": 0,
    "start_time": "2023-06-23T18:25:49.165Z"
   },
   {
    "duration": 0,
    "start_time": "2023-06-23T18:25:49.166Z"
   },
   {
    "duration": 0,
    "start_time": "2023-06-23T18:25:49.167Z"
   },
   {
    "duration": 0,
    "start_time": "2023-06-23T18:25:49.168Z"
   },
   {
    "duration": 0,
    "start_time": "2023-06-23T18:25:49.169Z"
   },
   {
    "duration": 0,
    "start_time": "2023-06-23T18:25:49.170Z"
   },
   {
    "duration": 0,
    "start_time": "2023-06-23T18:25:49.171Z"
   },
   {
    "duration": 0,
    "start_time": "2023-06-23T18:25:49.172Z"
   },
   {
    "duration": 0,
    "start_time": "2023-06-23T18:25:49.173Z"
   },
   {
    "duration": 0,
    "start_time": "2023-06-23T18:25:49.174Z"
   },
   {
    "duration": 0,
    "start_time": "2023-06-23T18:25:49.175Z"
   },
   {
    "duration": 0,
    "start_time": "2023-06-23T18:25:49.176Z"
   },
   {
    "duration": 0,
    "start_time": "2023-06-23T18:25:49.177Z"
   },
   {
    "duration": 0,
    "start_time": "2023-06-23T18:25:49.178Z"
   },
   {
    "duration": 0,
    "start_time": "2023-06-23T18:25:49.179Z"
   },
   {
    "duration": 0,
    "start_time": "2023-06-23T18:25:49.180Z"
   },
   {
    "duration": 0,
    "start_time": "2023-06-23T18:25:49.181Z"
   },
   {
    "duration": 0,
    "start_time": "2023-06-23T18:25:49.182Z"
   },
   {
    "duration": 0,
    "start_time": "2023-06-23T18:25:49.183Z"
   },
   {
    "duration": 0,
    "start_time": "2023-06-23T18:25:49.184Z"
   },
   {
    "duration": 11,
    "start_time": "2023-06-23T18:29:05.957Z"
   },
   {
    "duration": 74,
    "start_time": "2023-06-23T18:29:34.262Z"
   },
   {
    "duration": 35,
    "start_time": "2023-06-23T18:29:51.370Z"
   },
   {
    "duration": 0,
    "start_time": "2023-06-23T18:30:31.861Z"
   },
   {
    "duration": 0,
    "start_time": "2023-06-23T18:30:31.862Z"
   },
   {
    "duration": 0,
    "start_time": "2023-06-23T18:30:31.863Z"
   },
   {
    "duration": 0,
    "start_time": "2023-06-23T18:30:31.864Z"
   },
   {
    "duration": 0,
    "start_time": "2023-06-23T18:30:31.865Z"
   },
   {
    "duration": 0,
    "start_time": "2023-06-23T18:30:31.866Z"
   },
   {
    "duration": 0,
    "start_time": "2023-06-23T18:30:31.867Z"
   },
   {
    "duration": 0,
    "start_time": "2023-06-23T18:30:31.868Z"
   },
   {
    "duration": 0,
    "start_time": "2023-06-23T18:30:31.869Z"
   },
   {
    "duration": 0,
    "start_time": "2023-06-23T18:30:31.870Z"
   },
   {
    "duration": 0,
    "start_time": "2023-06-23T18:30:31.871Z"
   },
   {
    "duration": 0,
    "start_time": "2023-06-23T18:30:31.872Z"
   },
   {
    "duration": 0,
    "start_time": "2023-06-23T18:30:31.873Z"
   },
   {
    "duration": 0,
    "start_time": "2023-06-23T18:30:31.874Z"
   },
   {
    "duration": 0,
    "start_time": "2023-06-23T18:30:31.875Z"
   },
   {
    "duration": 0,
    "start_time": "2023-06-23T18:30:31.931Z"
   },
   {
    "duration": 0,
    "start_time": "2023-06-23T18:30:31.932Z"
   },
   {
    "duration": 0,
    "start_time": "2023-06-23T18:30:31.933Z"
   },
   {
    "duration": 0,
    "start_time": "2023-06-23T18:30:31.935Z"
   },
   {
    "duration": 0,
    "start_time": "2023-06-23T18:30:31.936Z"
   },
   {
    "duration": 0,
    "start_time": "2023-06-23T18:30:31.937Z"
   },
   {
    "duration": 0,
    "start_time": "2023-06-23T18:30:31.938Z"
   },
   {
    "duration": 0,
    "start_time": "2023-06-23T18:30:31.939Z"
   },
   {
    "duration": 0,
    "start_time": "2023-06-23T18:30:31.940Z"
   },
   {
    "duration": 0,
    "start_time": "2023-06-23T18:30:31.941Z"
   },
   {
    "duration": 0,
    "start_time": "2023-06-23T18:30:31.942Z"
   },
   {
    "duration": 0,
    "start_time": "2023-06-23T18:30:31.945Z"
   },
   {
    "duration": 0,
    "start_time": "2023-06-23T18:30:31.946Z"
   },
   {
    "duration": 0,
    "start_time": "2023-06-23T18:30:31.947Z"
   },
   {
    "duration": 0,
    "start_time": "2023-06-23T18:30:31.948Z"
   },
   {
    "duration": 0,
    "start_time": "2023-06-23T18:30:31.949Z"
   },
   {
    "duration": 0,
    "start_time": "2023-06-23T18:30:31.950Z"
   },
   {
    "duration": 0,
    "start_time": "2023-06-23T18:30:31.951Z"
   },
   {
    "duration": 0,
    "start_time": "2023-06-23T18:30:31.952Z"
   },
   {
    "duration": 0,
    "start_time": "2023-06-23T18:30:31.954Z"
   },
   {
    "duration": 0,
    "start_time": "2023-06-23T18:30:31.954Z"
   },
   {
    "duration": 0,
    "start_time": "2023-06-23T18:30:31.956Z"
   },
   {
    "duration": 0,
    "start_time": "2023-06-23T18:30:31.956Z"
   },
   {
    "duration": 0,
    "start_time": "2023-06-23T18:30:31.957Z"
   },
   {
    "duration": 0,
    "start_time": "2023-06-23T18:30:31.958Z"
   },
   {
    "duration": 3,
    "start_time": "2023-06-23T18:31:07.268Z"
   },
   {
    "duration": 435,
    "start_time": "2023-06-23T18:31:12.521Z"
   },
   {
    "duration": 925,
    "start_time": "2023-06-23T18:31:12.959Z"
   },
   {
    "duration": 147,
    "start_time": "2023-06-23T18:31:13.885Z"
   },
   {
    "duration": 24,
    "start_time": "2023-06-23T18:31:14.034Z"
   },
   {
    "duration": 8,
    "start_time": "2023-06-23T18:31:14.061Z"
   },
   {
    "duration": 14,
    "start_time": "2023-06-23T18:31:14.070Z"
   },
   {
    "duration": 46,
    "start_time": "2023-06-23T18:31:14.086Z"
   },
   {
    "duration": 102,
    "start_time": "2023-06-23T18:31:14.134Z"
   },
   {
    "duration": 106,
    "start_time": "2023-06-23T18:31:14.238Z"
   },
   {
    "duration": 137,
    "start_time": "2023-06-23T18:31:14.346Z"
   },
   {
    "duration": 167,
    "start_time": "2023-06-23T18:31:14.485Z"
   },
   {
    "duration": 139,
    "start_time": "2023-06-23T18:31:14.655Z"
   },
   {
    "duration": 92,
    "start_time": "2023-06-23T18:31:14.796Z"
   },
   {
    "duration": 140,
    "start_time": "2023-06-23T18:31:14.892Z"
   },
   {
    "duration": 31,
    "start_time": "2023-06-23T18:31:15.034Z"
   },
   {
    "duration": 77,
    "start_time": "2023-06-23T18:31:15.067Z"
   },
   {
    "duration": 101,
    "start_time": "2023-06-23T18:31:15.145Z"
   },
   {
    "duration": 21,
    "start_time": "2023-06-23T18:31:15.248Z"
   },
   {
    "duration": 112,
    "start_time": "2023-06-23T18:31:15.271Z"
   },
   {
    "duration": 0,
    "start_time": "2023-06-23T18:31:15.385Z"
   },
   {
    "duration": 0,
    "start_time": "2023-06-23T18:31:15.386Z"
   },
   {
    "duration": 0,
    "start_time": "2023-06-23T18:31:15.387Z"
   },
   {
    "duration": 0,
    "start_time": "2023-06-23T18:31:15.388Z"
   },
   {
    "duration": 0,
    "start_time": "2023-06-23T18:31:15.389Z"
   },
   {
    "duration": 0,
    "start_time": "2023-06-23T18:31:15.390Z"
   },
   {
    "duration": 0,
    "start_time": "2023-06-23T18:31:15.391Z"
   },
   {
    "duration": 0,
    "start_time": "2023-06-23T18:31:15.392Z"
   },
   {
    "duration": 0,
    "start_time": "2023-06-23T18:31:15.394Z"
   },
   {
    "duration": 0,
    "start_time": "2023-06-23T18:31:15.395Z"
   },
   {
    "duration": 0,
    "start_time": "2023-06-23T18:31:15.396Z"
   },
   {
    "duration": 0,
    "start_time": "2023-06-23T18:31:15.397Z"
   },
   {
    "duration": 1,
    "start_time": "2023-06-23T18:31:15.398Z"
   },
   {
    "duration": 0,
    "start_time": "2023-06-23T18:31:15.400Z"
   },
   {
    "duration": 0,
    "start_time": "2023-06-23T18:31:15.401Z"
   },
   {
    "duration": 0,
    "start_time": "2023-06-23T18:31:15.402Z"
   },
   {
    "duration": 0,
    "start_time": "2023-06-23T18:31:15.404Z"
   },
   {
    "duration": 0,
    "start_time": "2023-06-23T18:31:15.405Z"
   },
   {
    "duration": 0,
    "start_time": "2023-06-23T18:31:15.406Z"
   },
   {
    "duration": 0,
    "start_time": "2023-06-23T18:31:15.408Z"
   },
   {
    "duration": 0,
    "start_time": "2023-06-23T18:31:15.409Z"
   },
   {
    "duration": 8,
    "start_time": "2023-06-24T13:04:08.486Z"
   },
   {
    "duration": 130,
    "start_time": "2023-06-24T13:04:08.521Z"
   },
   {
    "duration": 60,
    "start_time": "2023-06-24T13:04:22.617Z"
   },
   {
    "duration": 1,
    "start_time": "2023-06-24T13:04:33.901Z"
   },
   {
    "duration": 0,
    "start_time": "2023-06-24T13:04:33.902Z"
   },
   {
    "duration": 0,
    "start_time": "2023-06-24T13:04:33.903Z"
   },
   {
    "duration": 0,
    "start_time": "2023-06-24T13:04:33.904Z"
   },
   {
    "duration": 0,
    "start_time": "2023-06-24T13:04:33.905Z"
   },
   {
    "duration": 0,
    "start_time": "2023-06-24T13:04:33.910Z"
   },
   {
    "duration": 0,
    "start_time": "2023-06-24T13:04:33.910Z"
   },
   {
    "duration": 0,
    "start_time": "2023-06-24T13:04:33.911Z"
   },
   {
    "duration": 0,
    "start_time": "2023-06-24T13:04:33.912Z"
   },
   {
    "duration": 0,
    "start_time": "2023-06-24T13:04:33.913Z"
   },
   {
    "duration": 0,
    "start_time": "2023-06-24T13:04:33.914Z"
   },
   {
    "duration": 0,
    "start_time": "2023-06-24T13:04:33.915Z"
   },
   {
    "duration": 0,
    "start_time": "2023-06-24T13:04:33.915Z"
   },
   {
    "duration": 0,
    "start_time": "2023-06-24T13:04:33.916Z"
   },
   {
    "duration": 0,
    "start_time": "2023-06-24T13:04:33.917Z"
   },
   {
    "duration": 0,
    "start_time": "2023-06-24T13:04:33.918Z"
   },
   {
    "duration": 1,
    "start_time": "2023-06-24T13:04:33.918Z"
   },
   {
    "duration": 0,
    "start_time": "2023-06-24T13:04:33.919Z"
   },
   {
    "duration": 0,
    "start_time": "2023-06-24T13:04:33.920Z"
   },
   {
    "duration": 0,
    "start_time": "2023-06-24T13:04:33.921Z"
   },
   {
    "duration": 0,
    "start_time": "2023-06-24T13:04:33.925Z"
   },
   {
    "duration": 0,
    "start_time": "2023-06-24T13:04:33.926Z"
   },
   {
    "duration": 0,
    "start_time": "2023-06-24T13:04:33.927Z"
   },
   {
    "duration": 0,
    "start_time": "2023-06-24T13:04:33.928Z"
   },
   {
    "duration": 0,
    "start_time": "2023-06-24T13:04:33.929Z"
   },
   {
    "duration": 0,
    "start_time": "2023-06-24T13:04:33.930Z"
   },
   {
    "duration": 0,
    "start_time": "2023-06-24T13:04:33.931Z"
   },
   {
    "duration": 0,
    "start_time": "2023-06-24T13:04:33.932Z"
   },
   {
    "duration": 0,
    "start_time": "2023-06-24T13:04:33.933Z"
   },
   {
    "duration": 0,
    "start_time": "2023-06-24T13:04:33.934Z"
   },
   {
    "duration": 0,
    "start_time": "2023-06-24T13:04:33.935Z"
   },
   {
    "duration": 0,
    "start_time": "2023-06-24T13:04:33.937Z"
   },
   {
    "duration": 0,
    "start_time": "2023-06-24T13:04:33.938Z"
   },
   {
    "duration": 0,
    "start_time": "2023-06-24T13:04:33.939Z"
   },
   {
    "duration": 0,
    "start_time": "2023-06-24T13:04:33.940Z"
   },
   {
    "duration": 0,
    "start_time": "2023-06-24T13:04:33.941Z"
   },
   {
    "duration": 0,
    "start_time": "2023-06-24T13:04:33.942Z"
   },
   {
    "duration": 0,
    "start_time": "2023-06-24T13:04:33.943Z"
   },
   {
    "duration": 0,
    "start_time": "2023-06-24T13:04:34.006Z"
   },
   {
    "duration": 0,
    "start_time": "2023-06-24T13:04:34.006Z"
   },
   {
    "duration": 377,
    "start_time": "2023-06-24T13:04:59.691Z"
   },
   {
    "duration": 756,
    "start_time": "2023-06-24T13:05:00.071Z"
   },
   {
    "duration": 117,
    "start_time": "2023-06-24T13:05:00.829Z"
   },
   {
    "duration": 45,
    "start_time": "2023-06-24T13:05:00.947Z"
   },
   {
    "duration": 52,
    "start_time": "2023-06-24T13:05:00.994Z"
   },
   {
    "duration": 52,
    "start_time": "2023-06-24T13:05:01.048Z"
   },
   {
    "duration": 116,
    "start_time": "2023-06-24T13:05:01.102Z"
   },
   {
    "duration": 127,
    "start_time": "2023-06-24T13:05:01.220Z"
   },
   {
    "duration": 112,
    "start_time": "2023-06-24T13:05:01.348Z"
   },
   {
    "duration": 165,
    "start_time": "2023-06-24T13:05:01.461Z"
   },
   {
    "duration": 119,
    "start_time": "2023-06-24T13:05:01.627Z"
   },
   {
    "duration": 85,
    "start_time": "2023-06-24T13:05:01.748Z"
   },
   {
    "duration": 81,
    "start_time": "2023-06-24T13:05:01.835Z"
   },
   {
    "duration": 113,
    "start_time": "2023-06-24T13:05:01.919Z"
   },
   {
    "duration": 19,
    "start_time": "2023-06-24T13:05:02.033Z"
   },
   {
    "duration": 76,
    "start_time": "2023-06-24T13:05:02.054Z"
   },
   {
    "duration": 58,
    "start_time": "2023-06-24T13:05:02.131Z"
   },
   {
    "duration": 131,
    "start_time": "2023-06-24T13:05:02.190Z"
   },
   {
    "duration": 0,
    "start_time": "2023-06-24T13:05:02.324Z"
   },
   {
    "duration": 0,
    "start_time": "2023-06-24T13:05:02.325Z"
   },
   {
    "duration": 0,
    "start_time": "2023-06-24T13:05:02.326Z"
   },
   {
    "duration": 0,
    "start_time": "2023-06-24T13:05:02.328Z"
   },
   {
    "duration": 0,
    "start_time": "2023-06-24T13:05:02.329Z"
   },
   {
    "duration": 0,
    "start_time": "2023-06-24T13:05:02.330Z"
   },
   {
    "duration": 0,
    "start_time": "2023-06-24T13:05:02.332Z"
   },
   {
    "duration": 0,
    "start_time": "2023-06-24T13:05:02.333Z"
   },
   {
    "duration": 0,
    "start_time": "2023-06-24T13:05:02.336Z"
   },
   {
    "duration": 0,
    "start_time": "2023-06-24T13:05:02.337Z"
   },
   {
    "duration": 0,
    "start_time": "2023-06-24T13:05:02.338Z"
   },
   {
    "duration": 0,
    "start_time": "2023-06-24T13:05:02.340Z"
   },
   {
    "duration": 0,
    "start_time": "2023-06-24T13:05:02.341Z"
   },
   {
    "duration": 0,
    "start_time": "2023-06-24T13:05:02.342Z"
   },
   {
    "duration": 0,
    "start_time": "2023-06-24T13:05:02.343Z"
   },
   {
    "duration": 0,
    "start_time": "2023-06-24T13:05:02.344Z"
   },
   {
    "duration": 0,
    "start_time": "2023-06-24T13:05:02.346Z"
   },
   {
    "duration": 0,
    "start_time": "2023-06-24T13:05:02.347Z"
   },
   {
    "duration": 0,
    "start_time": "2023-06-24T13:05:02.349Z"
   },
   {
    "duration": 0,
    "start_time": "2023-06-24T13:05:02.350Z"
   },
   {
    "duration": 0,
    "start_time": "2023-06-24T13:05:02.353Z"
   },
   {
    "duration": 0,
    "start_time": "2023-06-24T13:05:02.355Z"
   },
   {
    "duration": 12,
    "start_time": "2023-06-24T13:05:29.219Z"
   },
   {
    "duration": 13,
    "start_time": "2023-06-24T13:09:23.167Z"
   },
   {
    "duration": 23,
    "start_time": "2023-06-24T13:09:37.588Z"
   },
   {
    "duration": 21,
    "start_time": "2023-06-24T13:09:54.596Z"
   },
   {
    "duration": 57,
    "start_time": "2023-06-24T13:15:00.906Z"
   },
   {
    "duration": 103,
    "start_time": "2023-06-24T13:15:00.964Z"
   },
   {
    "duration": 10,
    "start_time": "2023-06-24T13:15:19.651Z"
   },
   {
    "duration": 109,
    "start_time": "2023-06-24T13:15:33.854Z"
   },
   {
    "duration": 95,
    "start_time": "2023-06-24T13:16:10.318Z"
   },
   {
    "duration": 88,
    "start_time": "2023-06-24T13:16:16.431Z"
   },
   {
    "duration": 364,
    "start_time": "2023-06-24T13:16:50.042Z"
   },
   {
    "duration": 756,
    "start_time": "2023-06-24T13:16:50.408Z"
   },
   {
    "duration": 121,
    "start_time": "2023-06-24T13:16:51.166Z"
   },
   {
    "duration": 19,
    "start_time": "2023-06-24T13:16:51.299Z"
   },
   {
    "duration": 11,
    "start_time": "2023-06-24T13:16:51.319Z"
   },
   {
    "duration": 15,
    "start_time": "2023-06-24T13:16:51.332Z"
   },
   {
    "duration": 33,
    "start_time": "2023-06-24T13:16:51.348Z"
   },
   {
    "duration": 114,
    "start_time": "2023-06-24T13:16:51.382Z"
   },
   {
    "duration": 107,
    "start_time": "2023-06-24T13:16:51.499Z"
   },
   {
    "duration": 130,
    "start_time": "2023-06-24T13:16:51.609Z"
   },
   {
    "duration": 130,
    "start_time": "2023-06-24T13:16:51.741Z"
   },
   {
    "duration": 100,
    "start_time": "2023-06-24T13:16:51.872Z"
   },
   {
    "duration": 85,
    "start_time": "2023-06-24T13:16:51.975Z"
   },
   {
    "duration": 125,
    "start_time": "2023-06-24T13:16:52.061Z"
   },
   {
    "duration": 27,
    "start_time": "2023-06-24T13:16:52.188Z"
   },
   {
    "duration": 28,
    "start_time": "2023-06-24T13:16:52.217Z"
   },
   {
    "duration": 67,
    "start_time": "2023-06-24T13:16:52.246Z"
   },
   {
    "duration": 66,
    "start_time": "2023-06-24T13:16:52.315Z"
   },
   {
    "duration": 94,
    "start_time": "2023-06-24T13:16:52.382Z"
   },
   {
    "duration": 0,
    "start_time": "2023-06-24T13:16:52.478Z"
   },
   {
    "duration": 0,
    "start_time": "2023-06-24T13:16:52.479Z"
   },
   {
    "duration": 0,
    "start_time": "2023-06-24T13:16:52.480Z"
   },
   {
    "duration": 0,
    "start_time": "2023-06-24T13:16:52.481Z"
   },
   {
    "duration": 0,
    "start_time": "2023-06-24T13:16:52.483Z"
   },
   {
    "duration": 0,
    "start_time": "2023-06-24T13:16:52.484Z"
   },
   {
    "duration": 0,
    "start_time": "2023-06-24T13:16:52.484Z"
   },
   {
    "duration": 0,
    "start_time": "2023-06-24T13:16:52.485Z"
   },
   {
    "duration": 0,
    "start_time": "2023-06-24T13:16:52.486Z"
   },
   {
    "duration": 0,
    "start_time": "2023-06-24T13:16:52.487Z"
   },
   {
    "duration": 0,
    "start_time": "2023-06-24T13:16:52.488Z"
   },
   {
    "duration": 0,
    "start_time": "2023-06-24T13:16:52.489Z"
   },
   {
    "duration": 0,
    "start_time": "2023-06-24T13:16:52.490Z"
   },
   {
    "duration": 0,
    "start_time": "2023-06-24T13:16:52.491Z"
   },
   {
    "duration": 0,
    "start_time": "2023-06-24T13:16:52.492Z"
   },
   {
    "duration": 0,
    "start_time": "2023-06-24T13:16:52.493Z"
   },
   {
    "duration": 0,
    "start_time": "2023-06-24T13:16:52.494Z"
   },
   {
    "duration": 0,
    "start_time": "2023-06-24T13:16:52.495Z"
   },
   {
    "duration": 0,
    "start_time": "2023-06-24T13:16:52.496Z"
   },
   {
    "duration": 0,
    "start_time": "2023-06-24T13:16:52.497Z"
   },
   {
    "duration": 0,
    "start_time": "2023-06-24T13:16:52.498Z"
   },
   {
    "duration": 68,
    "start_time": "2023-06-24T13:22:20.229Z"
   },
   {
    "duration": 24,
    "start_time": "2023-06-24T13:22:42.787Z"
   },
   {
    "duration": 26,
    "start_time": "2023-06-24T13:22:51.564Z"
   },
   {
    "duration": 883,
    "start_time": "2023-06-24T13:24:25.285Z"
   },
   {
    "duration": 125,
    "start_time": "2023-06-24T13:24:47.906Z"
   },
   {
    "duration": 2,
    "start_time": "2023-06-24T14:26:23.742Z"
   },
   {
    "duration": 734,
    "start_time": "2023-06-24T14:26:23.780Z"
   },
   {
    "duration": 112,
    "start_time": "2023-06-24T14:26:24.628Z"
   },
   {
    "duration": 1057,
    "start_time": "2023-06-24T14:26:29.779Z"
   },
   {
    "duration": 755,
    "start_time": "2023-06-24T14:26:30.837Z"
   },
   {
    "duration": 127,
    "start_time": "2023-06-24T14:26:31.594Z"
   },
   {
    "duration": 38,
    "start_time": "2023-06-24T14:26:31.722Z"
   },
   {
    "duration": 33,
    "start_time": "2023-06-24T14:26:31.763Z"
   },
   {
    "duration": 68,
    "start_time": "2023-06-24T14:26:31.797Z"
   },
   {
    "duration": 118,
    "start_time": "2023-06-24T14:26:31.867Z"
   },
   {
    "duration": 127,
    "start_time": "2023-06-24T14:26:31.987Z"
   },
   {
    "duration": 91,
    "start_time": "2023-06-24T14:26:32.116Z"
   },
   {
    "duration": 131,
    "start_time": "2023-06-24T14:26:32.209Z"
   },
   {
    "duration": 131,
    "start_time": "2023-06-24T14:26:32.342Z"
   },
   {
    "duration": 96,
    "start_time": "2023-06-24T14:26:32.474Z"
   },
   {
    "duration": 92,
    "start_time": "2023-06-24T14:26:32.572Z"
   },
   {
    "duration": 119,
    "start_time": "2023-06-24T14:26:32.668Z"
   },
   {
    "duration": 21,
    "start_time": "2023-06-24T14:26:32.799Z"
   },
   {
    "duration": 19,
    "start_time": "2023-06-24T14:26:32.823Z"
   },
   {
    "duration": 69,
    "start_time": "2023-06-24T14:26:32.843Z"
   },
   {
    "duration": 56,
    "start_time": "2023-06-24T14:26:32.914Z"
   },
   {
    "duration": 32,
    "start_time": "2023-06-24T14:26:32.971Z"
   },
   {
    "duration": 265,
    "start_time": "2023-06-24T14:26:33.005Z"
   },
   {
    "duration": 0,
    "start_time": "2023-06-24T14:26:33.271Z"
   },
   {
    "duration": 0,
    "start_time": "2023-06-24T14:26:33.272Z"
   },
   {
    "duration": 0,
    "start_time": "2023-06-24T14:26:33.273Z"
   },
   {
    "duration": 0,
    "start_time": "2023-06-24T14:26:33.274Z"
   },
   {
    "duration": 0,
    "start_time": "2023-06-24T14:26:33.275Z"
   },
   {
    "duration": 0,
    "start_time": "2023-06-24T14:26:33.275Z"
   },
   {
    "duration": 0,
    "start_time": "2023-06-24T14:26:33.276Z"
   },
   {
    "duration": 0,
    "start_time": "2023-06-24T14:26:33.276Z"
   },
   {
    "duration": 0,
    "start_time": "2023-06-24T14:26:33.277Z"
   },
   {
    "duration": 0,
    "start_time": "2023-06-24T14:26:33.278Z"
   },
   {
    "duration": 0,
    "start_time": "2023-06-24T14:26:33.279Z"
   },
   {
    "duration": 0,
    "start_time": "2023-06-24T14:26:33.280Z"
   },
   {
    "duration": 0,
    "start_time": "2023-06-24T14:26:33.280Z"
   },
   {
    "duration": 0,
    "start_time": "2023-06-24T14:26:33.281Z"
   },
   {
    "duration": 0,
    "start_time": "2023-06-24T14:26:33.300Z"
   },
   {
    "duration": 0,
    "start_time": "2023-06-24T14:26:33.302Z"
   },
   {
    "duration": 0,
    "start_time": "2023-06-24T14:26:33.303Z"
   },
   {
    "duration": 0,
    "start_time": "2023-06-24T14:26:33.304Z"
   },
   {
    "duration": 0,
    "start_time": "2023-06-24T14:26:33.305Z"
   },
   {
    "duration": 0,
    "start_time": "2023-06-24T14:26:33.306Z"
   },
   {
    "duration": 0,
    "start_time": "2023-06-24T14:26:33.307Z"
   },
   {
    "duration": 14,
    "start_time": "2023-06-24T14:26:49.475Z"
   },
   {
    "duration": 85,
    "start_time": "2023-06-24T14:26:49.512Z"
   },
   {
    "duration": 1184,
    "start_time": "2023-06-24T14:26:57.498Z"
   },
   {
    "duration": 822,
    "start_time": "2023-06-24T14:26:58.684Z"
   },
   {
    "duration": 141,
    "start_time": "2023-06-24T14:26:59.508Z"
   },
   {
    "duration": 19,
    "start_time": "2023-06-24T14:26:59.651Z"
   },
   {
    "duration": 9,
    "start_time": "2023-06-24T14:26:59.671Z"
   },
   {
    "duration": 21,
    "start_time": "2023-06-24T14:26:59.681Z"
   },
   {
    "duration": 26,
    "start_time": "2023-06-24T14:26:59.704Z"
   },
   {
    "duration": 130,
    "start_time": "2023-06-24T14:26:59.732Z"
   },
   {
    "duration": 112,
    "start_time": "2023-06-24T14:26:59.863Z"
   },
   {
    "duration": 323,
    "start_time": "2023-06-24T14:26:59.977Z"
   },
   {
    "duration": 139,
    "start_time": "2023-06-24T14:27:00.302Z"
   },
   {
    "duration": 98,
    "start_time": "2023-06-24T14:27:00.442Z"
   },
   {
    "duration": 86,
    "start_time": "2023-06-24T14:27:00.541Z"
   },
   {
    "duration": 126,
    "start_time": "2023-06-24T14:27:00.629Z"
   },
   {
    "duration": 24,
    "start_time": "2023-06-24T14:27:00.757Z"
   },
   {
    "duration": 30,
    "start_time": "2023-06-24T14:27:00.782Z"
   },
   {
    "duration": 102,
    "start_time": "2023-06-24T14:27:00.815Z"
   },
   {
    "duration": 128,
    "start_time": "2023-06-24T14:27:00.922Z"
   },
   {
    "duration": 69,
    "start_time": "2023-06-24T14:27:01.051Z"
   },
   {
    "duration": 349,
    "start_time": "2023-06-24T14:27:01.122Z"
   },
   {
    "duration": 0,
    "start_time": "2023-06-24T14:27:01.473Z"
   },
   {
    "duration": 0,
    "start_time": "2023-06-24T14:27:01.474Z"
   },
   {
    "duration": 0,
    "start_time": "2023-06-24T14:27:01.475Z"
   },
   {
    "duration": 0,
    "start_time": "2023-06-24T14:27:01.477Z"
   },
   {
    "duration": 0,
    "start_time": "2023-06-24T14:27:01.477Z"
   },
   {
    "duration": 0,
    "start_time": "2023-06-24T14:27:01.478Z"
   },
   {
    "duration": 0,
    "start_time": "2023-06-24T14:27:01.479Z"
   },
   {
    "duration": 0,
    "start_time": "2023-06-24T14:27:01.480Z"
   },
   {
    "duration": 0,
    "start_time": "2023-06-24T14:27:01.480Z"
   },
   {
    "duration": 0,
    "start_time": "2023-06-24T14:27:01.502Z"
   },
   {
    "duration": 0,
    "start_time": "2023-06-24T14:27:01.506Z"
   },
   {
    "duration": 0,
    "start_time": "2023-06-24T14:27:01.508Z"
   },
   {
    "duration": 0,
    "start_time": "2023-06-24T14:27:01.509Z"
   },
   {
    "duration": 0,
    "start_time": "2023-06-24T14:27:01.510Z"
   },
   {
    "duration": 0,
    "start_time": "2023-06-24T14:27:01.518Z"
   },
   {
    "duration": 0,
    "start_time": "2023-06-24T14:27:01.519Z"
   },
   {
    "duration": 0,
    "start_time": "2023-06-24T14:27:01.520Z"
   },
   {
    "duration": 0,
    "start_time": "2023-06-24T14:27:01.520Z"
   },
   {
    "duration": 0,
    "start_time": "2023-06-24T14:27:01.521Z"
   },
   {
    "duration": 0,
    "start_time": "2023-06-24T14:27:01.522Z"
   },
   {
    "duration": 0,
    "start_time": "2023-06-24T14:27:01.523Z"
   },
   {
    "duration": 70,
    "start_time": "2023-06-24T14:27:17.412Z"
   },
   {
    "duration": 72,
    "start_time": "2023-06-24T14:27:33.471Z"
   },
   {
    "duration": 111,
    "start_time": "2023-06-24T14:27:44.501Z"
   },
   {
    "duration": 106,
    "start_time": "2023-06-24T14:27:44.615Z"
   },
   {
    "duration": 89,
    "start_time": "2023-06-24T14:28:06.886Z"
   },
   {
    "duration": 66,
    "start_time": "2023-06-24T14:28:24.773Z"
   },
   {
    "duration": 75,
    "start_time": "2023-06-24T14:28:39.522Z"
   },
   {
    "duration": 57,
    "start_time": "2023-06-24T14:29:56.151Z"
   },
   {
    "duration": 71,
    "start_time": "2023-06-24T14:29:59.801Z"
   },
   {
    "duration": 87,
    "start_time": "2023-06-24T14:30:06.558Z"
   },
   {
    "duration": 143,
    "start_time": "2023-06-24T14:35:05.688Z"
   },
   {
    "duration": 667,
    "start_time": "2023-06-24T14:35:11.549Z"
   },
   {
    "duration": 200,
    "start_time": "2023-06-24T14:35:40.667Z"
   },
   {
    "duration": 3,
    "start_time": "2023-06-24T15:09:20.206Z"
   },
   {
    "duration": 192,
    "start_time": "2023-06-24T15:09:29.531Z"
   },
   {
    "duration": 206,
    "start_time": "2023-06-24T15:13:07.538Z"
   },
   {
    "duration": 135,
    "start_time": "2023-06-24T15:13:22.580Z"
   },
   {
    "duration": 367,
    "start_time": "2023-06-24T15:13:43.684Z"
   },
   {
    "duration": 384,
    "start_time": "2023-06-24T15:14:11.733Z"
   },
   {
    "duration": 21,
    "start_time": "2023-06-24T15:14:12.118Z"
   },
   {
    "duration": 10,
    "start_time": "2023-06-24T15:14:52.755Z"
   },
   {
    "duration": 23,
    "start_time": "2023-06-24T15:14:52.780Z"
   },
   {
    "duration": 51,
    "start_time": "2023-06-24T15:15:00.466Z"
   },
   {
    "duration": 20,
    "start_time": "2023-06-24T15:19:46.700Z"
   },
   {
    "duration": 19,
    "start_time": "2023-06-24T15:20:02.117Z"
   },
   {
    "duration": 15,
    "start_time": "2023-06-24T15:20:17.908Z"
   },
   {
    "duration": 22,
    "start_time": "2023-06-24T15:20:17.950Z"
   },
   {
    "duration": 11,
    "start_time": "2023-06-24T15:23:39.292Z"
   },
   {
    "duration": 17,
    "start_time": "2023-06-24T15:23:39.321Z"
   },
   {
    "duration": 350,
    "start_time": "2023-06-24T15:24:21.060Z"
   },
   {
    "duration": 21,
    "start_time": "2023-06-24T15:26:01.392Z"
   },
   {
    "duration": 156,
    "start_time": "2023-06-24T15:26:17.524Z"
   },
   {
    "duration": 322,
    "start_time": "2023-06-24T15:26:33.349Z"
   },
   {
    "duration": 4,
    "start_time": "2023-06-24T15:27:01.195Z"
   },
   {
    "duration": 323,
    "start_time": "2023-06-24T15:36:20.430Z"
   },
   {
    "duration": 5,
    "start_time": "2023-06-24T15:36:26.749Z"
   },
   {
    "duration": 149,
    "start_time": "2023-06-24T15:44:47.418Z"
   },
   {
    "duration": 60,
    "start_time": "2023-06-24T15:48:11.094Z"
   },
   {
    "duration": 3,
    "start_time": "2023-06-24T15:48:38.738Z"
   },
   {
    "duration": 86,
    "start_time": "2023-06-24T15:49:01.848Z"
   },
   {
    "duration": 83,
    "start_time": "2023-06-24T15:49:44.853Z"
   },
   {
    "duration": 86,
    "start_time": "2023-06-24T15:49:44.938Z"
   },
   {
    "duration": 55,
    "start_time": "2023-06-24T15:51:23.609Z"
   },
   {
    "duration": 109,
    "start_time": "2023-06-24T15:52:18.751Z"
   },
   {
    "duration": 137,
    "start_time": "2023-06-24T15:53:01.615Z"
   },
   {
    "duration": 104,
    "start_time": "2023-06-24T15:53:26.756Z"
   },
   {
    "duration": 1164,
    "start_time": "2023-06-24T15:55:02.825Z"
   },
   {
    "duration": 86,
    "start_time": "2023-06-24T15:55:59.233Z"
   },
   {
    "duration": 510,
    "start_time": "2023-06-24T15:55:59.321Z"
   },
   {
    "duration": 3,
    "start_time": "2023-06-24T15:59:20.705Z"
   },
   {
    "duration": 102,
    "start_time": "2023-06-24T15:59:43.050Z"
   },
   {
    "duration": 23,
    "start_time": "2023-06-24T15:59:43.155Z"
   },
   {
    "duration": 106,
    "start_time": "2023-06-24T16:00:16.009Z"
   },
   {
    "duration": 31,
    "start_time": "2023-06-24T16:00:16.117Z"
   },
   {
    "duration": 76,
    "start_time": "2023-06-24T16:01:38.322Z"
   },
   {
    "duration": 21,
    "start_time": "2023-06-24T16:01:38.401Z"
   },
   {
    "duration": 71,
    "start_time": "2023-06-24T16:01:53.300Z"
   },
   {
    "duration": 82,
    "start_time": "2023-06-24T16:02:04.128Z"
   },
   {
    "duration": 0,
    "start_time": "2023-06-24T16:02:04.212Z"
   },
   {
    "duration": 1252,
    "start_time": "2023-06-24T16:02:11.108Z"
   },
   {
    "duration": 712,
    "start_time": "2023-06-24T16:02:12.362Z"
   },
   {
    "duration": 114,
    "start_time": "2023-06-24T16:02:13.076Z"
   },
   {
    "duration": 18,
    "start_time": "2023-06-24T16:02:13.192Z"
   },
   {
    "duration": 13,
    "start_time": "2023-06-24T16:02:13.212Z"
   },
   {
    "duration": 17,
    "start_time": "2023-06-24T16:02:13.226Z"
   },
   {
    "duration": 36,
    "start_time": "2023-06-24T16:02:13.244Z"
   },
   {
    "duration": 93,
    "start_time": "2023-06-24T16:02:13.282Z"
   },
   {
    "duration": 74,
    "start_time": "2023-06-24T16:02:13.376Z"
   },
   {
    "duration": 119,
    "start_time": "2023-06-24T16:02:13.451Z"
   },
   {
    "duration": 77,
    "start_time": "2023-06-24T16:02:13.571Z"
   },
   {
    "duration": 97,
    "start_time": "2023-06-24T16:02:13.649Z"
   },
   {
    "duration": 104,
    "start_time": "2023-06-24T16:02:13.748Z"
   },
   {
    "duration": 198,
    "start_time": "2023-06-24T16:02:13.855Z"
   },
   {
    "duration": 362,
    "start_time": "2023-06-24T16:02:14.055Z"
   },
   {
    "duration": 14,
    "start_time": "2023-06-24T16:02:14.418Z"
   },
   {
    "duration": 32,
    "start_time": "2023-06-24T16:02:14.434Z"
   },
   {
    "duration": 182,
    "start_time": "2023-06-24T16:02:14.467Z"
   },
   {
    "duration": 337,
    "start_time": "2023-06-24T16:02:14.651Z"
   },
   {
    "duration": 3,
    "start_time": "2023-06-24T16:02:14.990Z"
   },
   {
    "duration": 121,
    "start_time": "2023-06-24T16:02:14.999Z"
   },
   {
    "duration": 184,
    "start_time": "2023-06-24T16:02:15.121Z"
   },
   {
    "duration": 0,
    "start_time": "2023-06-24T16:02:15.307Z"
   },
   {
    "duration": 0,
    "start_time": "2023-06-24T16:02:15.307Z"
   },
   {
    "duration": 0,
    "start_time": "2023-06-24T16:02:15.308Z"
   },
   {
    "duration": 0,
    "start_time": "2023-06-24T16:02:15.309Z"
   },
   {
    "duration": 0,
    "start_time": "2023-06-24T16:02:15.310Z"
   },
   {
    "duration": 0,
    "start_time": "2023-06-24T16:02:15.311Z"
   },
   {
    "duration": 0,
    "start_time": "2023-06-24T16:02:15.312Z"
   },
   {
    "duration": 0,
    "start_time": "2023-06-24T16:02:15.313Z"
   },
   {
    "duration": 0,
    "start_time": "2023-06-24T16:02:15.314Z"
   },
   {
    "duration": 0,
    "start_time": "2023-06-24T16:02:15.314Z"
   },
   {
    "duration": 0,
    "start_time": "2023-06-24T16:02:15.315Z"
   },
   {
    "duration": 0,
    "start_time": "2023-06-24T16:02:15.316Z"
   },
   {
    "duration": 0,
    "start_time": "2023-06-24T16:02:15.317Z"
   },
   {
    "duration": 0,
    "start_time": "2023-06-24T16:02:15.318Z"
   },
   {
    "duration": 0,
    "start_time": "2023-06-24T16:02:15.319Z"
   },
   {
    "duration": 0,
    "start_time": "2023-06-24T16:02:15.320Z"
   },
   {
    "duration": 0,
    "start_time": "2023-06-24T16:02:15.321Z"
   },
   {
    "duration": 0,
    "start_time": "2023-06-24T16:02:15.322Z"
   },
   {
    "duration": 0,
    "start_time": "2023-06-24T16:02:15.324Z"
   },
   {
    "duration": 0,
    "start_time": "2023-06-24T16:02:15.325Z"
   },
   {
    "duration": 0,
    "start_time": "2023-06-24T16:02:15.326Z"
   },
   {
    "duration": 0,
    "start_time": "2023-06-24T16:02:15.327Z"
   },
   {
    "duration": 0,
    "start_time": "2023-06-24T16:02:15.329Z"
   },
   {
    "duration": 0,
    "start_time": "2023-06-24T16:02:15.330Z"
   },
   {
    "duration": 0,
    "start_time": "2023-06-24T16:02:15.331Z"
   },
   {
    "duration": 0,
    "start_time": "2023-06-24T16:02:15.332Z"
   },
   {
    "duration": 0,
    "start_time": "2023-06-24T16:02:15.333Z"
   },
   {
    "duration": 76,
    "start_time": "2023-06-24T16:51:59.424Z"
   },
   {
    "duration": 101,
    "start_time": "2023-06-24T16:52:49.255Z"
   },
   {
    "duration": 89,
    "start_time": "2023-06-24T16:52:57.729Z"
   },
   {
    "duration": 591,
    "start_time": "2023-06-24T16:55:08.514Z"
   },
   {
    "duration": 938,
    "start_time": "2023-06-24T16:55:57.355Z"
   },
   {
    "duration": 16,
    "start_time": "2023-06-24T16:58:56.762Z"
   },
   {
    "duration": 1286,
    "start_time": "2023-06-24T16:59:02.076Z"
   },
   {
    "duration": 758,
    "start_time": "2023-06-24T16:59:03.364Z"
   },
   {
    "duration": 109,
    "start_time": "2023-06-24T16:59:04.123Z"
   },
   {
    "duration": 15,
    "start_time": "2023-06-24T16:59:04.233Z"
   },
   {
    "duration": 5,
    "start_time": "2023-06-24T16:59:04.250Z"
   },
   {
    "duration": 21,
    "start_time": "2023-06-24T16:59:04.256Z"
   },
   {
    "duration": 42,
    "start_time": "2023-06-24T16:59:04.278Z"
   },
   {
    "duration": 137,
    "start_time": "2023-06-24T16:59:04.321Z"
   },
   {
    "duration": 87,
    "start_time": "2023-06-24T16:59:04.460Z"
   },
   {
    "duration": 123,
    "start_time": "2023-06-24T16:59:04.548Z"
   },
   {
    "duration": 80,
    "start_time": "2023-06-24T16:59:04.672Z"
   },
   {
    "duration": 97,
    "start_time": "2023-06-24T16:59:04.753Z"
   },
   {
    "duration": 117,
    "start_time": "2023-06-24T16:59:04.851Z"
   },
   {
    "duration": 211,
    "start_time": "2023-06-24T16:59:04.971Z"
   },
   {
    "duration": 434,
    "start_time": "2023-06-24T16:59:05.183Z"
   },
   {
    "duration": 12,
    "start_time": "2023-06-24T16:59:05.619Z"
   },
   {
    "duration": 38,
    "start_time": "2023-06-24T16:59:05.633Z"
   },
   {
    "duration": 193,
    "start_time": "2023-06-24T16:59:05.673Z"
   },
   {
    "duration": 405,
    "start_time": "2023-06-24T16:59:05.867Z"
   },
   {
    "duration": 4,
    "start_time": "2023-06-24T16:59:06.274Z"
   },
   {
    "duration": 140,
    "start_time": "2023-06-24T16:59:06.280Z"
   },
   {
    "duration": 130,
    "start_time": "2023-06-24T16:59:06.422Z"
   },
   {
    "duration": 0,
    "start_time": "2023-06-24T16:59:06.553Z"
   },
   {
    "duration": 1,
    "start_time": "2023-06-24T16:59:06.554Z"
   },
   {
    "duration": 0,
    "start_time": "2023-06-24T16:59:06.555Z"
   },
   {
    "duration": 0,
    "start_time": "2023-06-24T16:59:06.557Z"
   },
   {
    "duration": 0,
    "start_time": "2023-06-24T16:59:06.557Z"
   },
   {
    "duration": 0,
    "start_time": "2023-06-24T16:59:06.558Z"
   },
   {
    "duration": 0,
    "start_time": "2023-06-24T16:59:06.569Z"
   },
   {
    "duration": 0,
    "start_time": "2023-06-24T16:59:06.570Z"
   },
   {
    "duration": 0,
    "start_time": "2023-06-24T16:59:06.571Z"
   },
   {
    "duration": 0,
    "start_time": "2023-06-24T16:59:06.571Z"
   },
   {
    "duration": 0,
    "start_time": "2023-06-24T16:59:06.572Z"
   },
   {
    "duration": 1,
    "start_time": "2023-06-24T16:59:06.572Z"
   },
   {
    "duration": 0,
    "start_time": "2023-06-24T16:59:06.575Z"
   },
   {
    "duration": 0,
    "start_time": "2023-06-24T16:59:06.576Z"
   },
   {
    "duration": 0,
    "start_time": "2023-06-24T16:59:06.578Z"
   },
   {
    "duration": 0,
    "start_time": "2023-06-24T16:59:06.599Z"
   },
   {
    "duration": 0,
    "start_time": "2023-06-24T16:59:06.600Z"
   },
   {
    "duration": 0,
    "start_time": "2023-06-24T16:59:06.601Z"
   },
   {
    "duration": 0,
    "start_time": "2023-06-24T16:59:06.602Z"
   },
   {
    "duration": 0,
    "start_time": "2023-06-24T16:59:06.603Z"
   },
   {
    "duration": 0,
    "start_time": "2023-06-24T16:59:06.603Z"
   },
   {
    "duration": 0,
    "start_time": "2023-06-24T16:59:06.604Z"
   },
   {
    "duration": 0,
    "start_time": "2023-06-24T16:59:06.605Z"
   },
   {
    "duration": 0,
    "start_time": "2023-06-24T16:59:06.606Z"
   },
   {
    "duration": 0,
    "start_time": "2023-06-24T16:59:06.607Z"
   },
   {
    "duration": 0,
    "start_time": "2023-06-24T16:59:06.607Z"
   },
   {
    "duration": 0,
    "start_time": "2023-06-24T16:59:06.608Z"
   },
   {
    "duration": 11,
    "start_time": "2023-06-24T16:59:45.822Z"
   },
   {
    "duration": 117,
    "start_time": "2023-06-24T17:00:05.370Z"
   },
   {
    "duration": 1266,
    "start_time": "2023-06-24T17:03:34.324Z"
   },
   {
    "duration": 795,
    "start_time": "2023-06-24T17:03:35.592Z"
   },
   {
    "duration": 129,
    "start_time": "2023-06-24T17:03:36.389Z"
   },
   {
    "duration": 14,
    "start_time": "2023-06-24T17:03:36.520Z"
   },
   {
    "duration": 3,
    "start_time": "2023-06-24T17:03:36.536Z"
   },
   {
    "duration": 6,
    "start_time": "2023-06-24T17:03:36.541Z"
   },
   {
    "duration": 26,
    "start_time": "2023-06-24T17:03:36.548Z"
   },
   {
    "duration": 79,
    "start_time": "2023-06-24T17:03:36.600Z"
   },
   {
    "duration": 138,
    "start_time": "2023-06-24T17:03:36.680Z"
   },
   {
    "duration": 142,
    "start_time": "2023-06-24T17:03:36.819Z"
   },
   {
    "duration": 76,
    "start_time": "2023-06-24T17:03:36.963Z"
   },
   {
    "duration": 101,
    "start_time": "2023-06-24T17:03:37.040Z"
   },
   {
    "duration": 116,
    "start_time": "2023-06-24T17:03:37.143Z"
   },
   {
    "duration": 203,
    "start_time": "2023-06-24T17:03:37.261Z"
   },
   {
    "duration": 399,
    "start_time": "2023-06-24T17:03:37.465Z"
   },
   {
    "duration": 11,
    "start_time": "2023-06-24T17:03:37.866Z"
   },
   {
    "duration": 71,
    "start_time": "2023-06-24T17:03:37.879Z"
   },
   {
    "duration": 173,
    "start_time": "2023-06-24T17:03:37.952Z"
   },
   {
    "duration": 347,
    "start_time": "2023-06-24T17:03:38.127Z"
   },
   {
    "duration": 4,
    "start_time": "2023-06-24T17:03:38.475Z"
   },
   {
    "duration": 108,
    "start_time": "2023-06-24T17:03:38.480Z"
   },
   {
    "duration": 688,
    "start_time": "2023-06-24T17:03:38.589Z"
   },
   {
    "duration": 0,
    "start_time": "2023-06-24T17:03:39.278Z"
   },
   {
    "duration": 0,
    "start_time": "2023-06-24T17:03:39.280Z"
   },
   {
    "duration": 0,
    "start_time": "2023-06-24T17:03:39.281Z"
   },
   {
    "duration": 0,
    "start_time": "2023-06-24T17:03:39.282Z"
   },
   {
    "duration": 0,
    "start_time": "2023-06-24T17:03:39.283Z"
   },
   {
    "duration": 0,
    "start_time": "2023-06-24T17:03:39.283Z"
   },
   {
    "duration": 0,
    "start_time": "2023-06-24T17:03:39.284Z"
   },
   {
    "duration": 0,
    "start_time": "2023-06-24T17:03:39.285Z"
   },
   {
    "duration": 0,
    "start_time": "2023-06-24T17:03:39.286Z"
   },
   {
    "duration": 0,
    "start_time": "2023-06-24T17:03:39.287Z"
   },
   {
    "duration": 0,
    "start_time": "2023-06-24T17:03:39.288Z"
   },
   {
    "duration": 0,
    "start_time": "2023-06-24T17:03:39.289Z"
   },
   {
    "duration": 0,
    "start_time": "2023-06-24T17:03:39.290Z"
   },
   {
    "duration": 0,
    "start_time": "2023-06-24T17:03:39.290Z"
   },
   {
    "duration": 0,
    "start_time": "2023-06-24T17:03:39.291Z"
   },
   {
    "duration": 0,
    "start_time": "2023-06-24T17:03:39.292Z"
   },
   {
    "duration": 0,
    "start_time": "2023-06-24T17:03:39.293Z"
   },
   {
    "duration": 0,
    "start_time": "2023-06-24T17:03:39.295Z"
   },
   {
    "duration": 0,
    "start_time": "2023-06-24T17:03:39.295Z"
   },
   {
    "duration": 0,
    "start_time": "2023-06-24T17:03:39.296Z"
   },
   {
    "duration": 0,
    "start_time": "2023-06-24T17:03:39.297Z"
   },
   {
    "duration": 0,
    "start_time": "2023-06-24T17:03:39.298Z"
   },
   {
    "duration": 0,
    "start_time": "2023-06-24T17:03:39.298Z"
   },
   {
    "duration": 0,
    "start_time": "2023-06-24T17:03:39.300Z"
   },
   {
    "duration": 0,
    "start_time": "2023-06-24T17:03:39.301Z"
   },
   {
    "duration": 0,
    "start_time": "2023-06-24T17:03:39.302Z"
   },
   {
    "duration": 0,
    "start_time": "2023-06-24T17:03:39.304Z"
   },
   {
    "duration": 56,
    "start_time": "2023-06-24T17:05:06.962Z"
   },
   {
    "duration": 79,
    "start_time": "2023-06-24T17:06:09.761Z"
   },
   {
    "duration": 79,
    "start_time": "2023-06-24T17:06:34.715Z"
   },
   {
    "duration": 76,
    "start_time": "2023-06-24T17:06:46.754Z"
   },
   {
    "duration": 9,
    "start_time": "2023-06-24T17:14:55.676Z"
   },
   {
    "duration": 10,
    "start_time": "2023-06-24T17:15:24.519Z"
   },
   {
    "duration": 39,
    "start_time": "2023-06-24T17:18:24.524Z"
   },
   {
    "duration": 1222,
    "start_time": "2023-06-24T17:18:49.016Z"
   },
   {
    "duration": 715,
    "start_time": "2023-06-24T17:18:50.240Z"
   },
   {
    "duration": 117,
    "start_time": "2023-06-24T17:18:50.957Z"
   },
   {
    "duration": 30,
    "start_time": "2023-06-24T17:18:51.076Z"
   },
   {
    "duration": 3,
    "start_time": "2023-06-24T17:18:51.108Z"
   },
   {
    "duration": 10,
    "start_time": "2023-06-24T17:18:51.112Z"
   },
   {
    "duration": 28,
    "start_time": "2023-06-24T17:18:51.123Z"
   },
   {
    "duration": 84,
    "start_time": "2023-06-24T17:18:51.152Z"
   },
   {
    "duration": 69,
    "start_time": "2023-06-24T17:18:51.237Z"
   },
   {
    "duration": 124,
    "start_time": "2023-06-24T17:18:51.307Z"
   },
   {
    "duration": 153,
    "start_time": "2023-06-24T17:18:51.433Z"
   },
   {
    "duration": 0,
    "start_time": "2023-06-24T17:18:51.588Z"
   },
   {
    "duration": 0,
    "start_time": "2023-06-24T17:18:51.589Z"
   },
   {
    "duration": 0,
    "start_time": "2023-06-24T17:18:51.606Z"
   },
   {
    "duration": 0,
    "start_time": "2023-06-24T17:18:51.607Z"
   },
   {
    "duration": 0,
    "start_time": "2023-06-24T17:18:51.608Z"
   },
   {
    "duration": 0,
    "start_time": "2023-06-24T17:18:51.609Z"
   },
   {
    "duration": 0,
    "start_time": "2023-06-24T17:18:51.610Z"
   },
   {
    "duration": 0,
    "start_time": "2023-06-24T17:18:51.610Z"
   },
   {
    "duration": 0,
    "start_time": "2023-06-24T17:18:51.611Z"
   },
   {
    "duration": 0,
    "start_time": "2023-06-24T17:18:51.612Z"
   },
   {
    "duration": 0,
    "start_time": "2023-06-24T17:18:51.613Z"
   },
   {
    "duration": 0,
    "start_time": "2023-06-24T17:18:51.614Z"
   },
   {
    "duration": 0,
    "start_time": "2023-06-24T17:18:51.614Z"
   },
   {
    "duration": 0,
    "start_time": "2023-06-24T17:18:51.615Z"
   },
   {
    "duration": 0,
    "start_time": "2023-06-24T17:18:51.616Z"
   },
   {
    "duration": 0,
    "start_time": "2023-06-24T17:18:51.617Z"
   },
   {
    "duration": 0,
    "start_time": "2023-06-24T17:18:51.617Z"
   },
   {
    "duration": 0,
    "start_time": "2023-06-24T17:18:51.618Z"
   },
   {
    "duration": 0,
    "start_time": "2023-06-24T17:18:51.619Z"
   },
   {
    "duration": 0,
    "start_time": "2023-06-24T17:18:51.620Z"
   },
   {
    "duration": 0,
    "start_time": "2023-06-24T17:18:51.621Z"
   },
   {
    "duration": 0,
    "start_time": "2023-06-24T17:18:51.622Z"
   },
   {
    "duration": 0,
    "start_time": "2023-06-24T17:18:51.622Z"
   },
   {
    "duration": 0,
    "start_time": "2023-06-24T17:18:51.623Z"
   },
   {
    "duration": 0,
    "start_time": "2023-06-24T17:18:51.624Z"
   },
   {
    "duration": 0,
    "start_time": "2023-06-24T17:18:51.625Z"
   },
   {
    "duration": 0,
    "start_time": "2023-06-24T17:18:51.625Z"
   },
   {
    "duration": 0,
    "start_time": "2023-06-24T17:18:51.626Z"
   },
   {
    "duration": 0,
    "start_time": "2023-06-24T17:18:51.627Z"
   },
   {
    "duration": 0,
    "start_time": "2023-06-24T17:18:51.627Z"
   },
   {
    "duration": 0,
    "start_time": "2023-06-24T17:18:51.628Z"
   },
   {
    "duration": 0,
    "start_time": "2023-06-24T17:18:51.629Z"
   },
   {
    "duration": 0,
    "start_time": "2023-06-24T17:18:51.630Z"
   },
   {
    "duration": 0,
    "start_time": "2023-06-24T17:18:51.631Z"
   },
   {
    "duration": 0,
    "start_time": "2023-06-24T17:18:51.631Z"
   },
   {
    "duration": 0,
    "start_time": "2023-06-24T17:18:51.632Z"
   },
   {
    "duration": 0,
    "start_time": "2023-06-24T17:18:51.632Z"
   },
   {
    "duration": 0,
    "start_time": "2023-06-24T17:18:51.633Z"
   },
   {
    "duration": 54,
    "start_time": "2023-06-24T17:19:44.975Z"
   },
   {
    "duration": 1254,
    "start_time": "2023-06-24T17:19:50.452Z"
   },
   {
    "duration": 726,
    "start_time": "2023-06-24T17:19:51.707Z"
   },
   {
    "duration": 122,
    "start_time": "2023-06-24T17:19:52.435Z"
   },
   {
    "duration": 16,
    "start_time": "2023-06-24T17:19:52.559Z"
   },
   {
    "duration": 23,
    "start_time": "2023-06-24T17:19:52.576Z"
   },
   {
    "duration": 22,
    "start_time": "2023-06-24T17:19:52.601Z"
   },
   {
    "duration": 60,
    "start_time": "2023-06-24T17:19:52.625Z"
   },
   {
    "duration": 98,
    "start_time": "2023-06-24T17:19:52.686Z"
   },
   {
    "duration": 85,
    "start_time": "2023-06-24T17:19:52.786Z"
   },
   {
    "duration": 159,
    "start_time": "2023-06-24T17:19:52.873Z"
   },
   {
    "duration": 172,
    "start_time": "2023-06-24T17:19:53.034Z"
   },
   {
    "duration": 0,
    "start_time": "2023-06-24T17:19:53.209Z"
   },
   {
    "duration": 0,
    "start_time": "2023-06-24T17:19:53.210Z"
   },
   {
    "duration": 0,
    "start_time": "2023-06-24T17:19:53.211Z"
   },
   {
    "duration": 1,
    "start_time": "2023-06-24T17:19:53.211Z"
   },
   {
    "duration": 0,
    "start_time": "2023-06-24T17:19:53.212Z"
   },
   {
    "duration": 0,
    "start_time": "2023-06-24T17:19:53.213Z"
   },
   {
    "duration": 0,
    "start_time": "2023-06-24T17:19:53.214Z"
   },
   {
    "duration": 0,
    "start_time": "2023-06-24T17:19:53.215Z"
   },
   {
    "duration": 0,
    "start_time": "2023-06-24T17:19:53.216Z"
   },
   {
    "duration": 0,
    "start_time": "2023-06-24T17:19:53.217Z"
   },
   {
    "duration": 0,
    "start_time": "2023-06-24T17:19:53.218Z"
   },
   {
    "duration": 0,
    "start_time": "2023-06-24T17:19:53.219Z"
   },
   {
    "duration": 0,
    "start_time": "2023-06-24T17:19:53.220Z"
   },
   {
    "duration": 0,
    "start_time": "2023-06-24T17:19:53.221Z"
   },
   {
    "duration": 0,
    "start_time": "2023-06-24T17:19:53.222Z"
   },
   {
    "duration": 0,
    "start_time": "2023-06-24T17:19:53.222Z"
   },
   {
    "duration": 0,
    "start_time": "2023-06-24T17:19:53.223Z"
   },
   {
    "duration": 0,
    "start_time": "2023-06-24T17:19:53.224Z"
   },
   {
    "duration": 0,
    "start_time": "2023-06-24T17:19:53.225Z"
   },
   {
    "duration": 0,
    "start_time": "2023-06-24T17:19:53.226Z"
   },
   {
    "duration": 0,
    "start_time": "2023-06-24T17:19:53.227Z"
   },
   {
    "duration": 0,
    "start_time": "2023-06-24T17:19:53.228Z"
   },
   {
    "duration": 0,
    "start_time": "2023-06-24T17:19:53.228Z"
   },
   {
    "duration": 0,
    "start_time": "2023-06-24T17:19:53.229Z"
   },
   {
    "duration": 0,
    "start_time": "2023-06-24T17:19:53.230Z"
   },
   {
    "duration": 0,
    "start_time": "2023-06-24T17:19:53.231Z"
   },
   {
    "duration": 0,
    "start_time": "2023-06-24T17:19:53.232Z"
   },
   {
    "duration": 0,
    "start_time": "2023-06-24T17:19:53.233Z"
   },
   {
    "duration": 0,
    "start_time": "2023-06-24T17:19:53.234Z"
   },
   {
    "duration": 0,
    "start_time": "2023-06-24T17:19:53.234Z"
   },
   {
    "duration": 0,
    "start_time": "2023-06-24T17:19:53.235Z"
   },
   {
    "duration": 0,
    "start_time": "2023-06-24T17:19:53.236Z"
   },
   {
    "duration": 0,
    "start_time": "2023-06-24T17:19:53.237Z"
   },
   {
    "duration": 0,
    "start_time": "2023-06-24T17:19:53.238Z"
   },
   {
    "duration": 0,
    "start_time": "2023-06-24T17:19:53.239Z"
   },
   {
    "duration": 0,
    "start_time": "2023-06-24T17:19:53.239Z"
   },
   {
    "duration": 0,
    "start_time": "2023-06-24T17:19:53.240Z"
   },
   {
    "duration": 0,
    "start_time": "2023-06-24T17:19:53.241Z"
   },
   {
    "duration": 855,
    "start_time": "2023-06-24T17:23:34.026Z"
   },
   {
    "duration": 1251,
    "start_time": "2023-06-24T17:25:15.716Z"
   },
   {
    "duration": 708,
    "start_time": "2023-06-24T17:25:16.969Z"
   },
   {
    "duration": 116,
    "start_time": "2023-06-24T17:25:17.678Z"
   },
   {
    "duration": 16,
    "start_time": "2023-06-24T17:25:17.796Z"
   },
   {
    "duration": 6,
    "start_time": "2023-06-24T17:25:17.813Z"
   },
   {
    "duration": 18,
    "start_time": "2023-06-24T17:25:17.820Z"
   },
   {
    "duration": 29,
    "start_time": "2023-06-24T17:25:17.839Z"
   },
   {
    "duration": 88,
    "start_time": "2023-06-24T17:25:17.870Z"
   },
   {
    "duration": 70,
    "start_time": "2023-06-24T17:25:17.959Z"
   },
   {
    "duration": 140,
    "start_time": "2023-06-24T17:25:18.031Z"
   },
   {
    "duration": 419,
    "start_time": "2023-06-24T17:25:18.173Z"
   },
   {
    "duration": 0,
    "start_time": "2023-06-24T17:25:18.594Z"
   },
   {
    "duration": 0,
    "start_time": "2023-06-24T17:25:18.595Z"
   },
   {
    "duration": 0,
    "start_time": "2023-06-24T17:25:18.596Z"
   },
   {
    "duration": 0,
    "start_time": "2023-06-24T17:25:18.597Z"
   },
   {
    "duration": 0,
    "start_time": "2023-06-24T17:25:18.598Z"
   },
   {
    "duration": 0,
    "start_time": "2023-06-24T17:25:18.599Z"
   },
   {
    "duration": 0,
    "start_time": "2023-06-24T17:25:18.600Z"
   },
   {
    "duration": 0,
    "start_time": "2023-06-24T17:25:18.600Z"
   },
   {
    "duration": 0,
    "start_time": "2023-06-24T17:25:18.602Z"
   },
   {
    "duration": 0,
    "start_time": "2023-06-24T17:25:18.602Z"
   },
   {
    "duration": 0,
    "start_time": "2023-06-24T17:25:18.603Z"
   },
   {
    "duration": 0,
    "start_time": "2023-06-24T17:25:18.604Z"
   },
   {
    "duration": 0,
    "start_time": "2023-06-24T17:25:18.605Z"
   },
   {
    "duration": 0,
    "start_time": "2023-06-24T17:25:18.606Z"
   },
   {
    "duration": 0,
    "start_time": "2023-06-24T17:25:18.607Z"
   },
   {
    "duration": 0,
    "start_time": "2023-06-24T17:25:18.608Z"
   },
   {
    "duration": 0,
    "start_time": "2023-06-24T17:25:18.609Z"
   },
   {
    "duration": 0,
    "start_time": "2023-06-24T17:25:18.610Z"
   },
   {
    "duration": 0,
    "start_time": "2023-06-24T17:25:18.610Z"
   },
   {
    "duration": 0,
    "start_time": "2023-06-24T17:25:18.611Z"
   },
   {
    "duration": 0,
    "start_time": "2023-06-24T17:25:18.612Z"
   },
   {
    "duration": 0,
    "start_time": "2023-06-24T17:25:18.613Z"
   },
   {
    "duration": 0,
    "start_time": "2023-06-24T17:25:18.614Z"
   },
   {
    "duration": 0,
    "start_time": "2023-06-24T17:25:18.615Z"
   },
   {
    "duration": 0,
    "start_time": "2023-06-24T17:25:18.615Z"
   },
   {
    "duration": 1,
    "start_time": "2023-06-24T17:25:18.616Z"
   },
   {
    "duration": 0,
    "start_time": "2023-06-24T17:25:18.618Z"
   },
   {
    "duration": 0,
    "start_time": "2023-06-24T17:25:18.618Z"
   },
   {
    "duration": 0,
    "start_time": "2023-06-24T17:25:18.619Z"
   },
   {
    "duration": 0,
    "start_time": "2023-06-24T17:25:18.621Z"
   },
   {
    "duration": 0,
    "start_time": "2023-06-24T17:25:18.622Z"
   },
   {
    "duration": 0,
    "start_time": "2023-06-24T17:25:18.623Z"
   },
   {
    "duration": 0,
    "start_time": "2023-06-24T17:25:18.623Z"
   },
   {
    "duration": 0,
    "start_time": "2023-06-24T17:25:18.624Z"
   },
   {
    "duration": 0,
    "start_time": "2023-06-24T17:25:18.625Z"
   },
   {
    "duration": 0,
    "start_time": "2023-06-24T17:25:18.626Z"
   },
   {
    "duration": 0,
    "start_time": "2023-06-24T17:25:18.627Z"
   },
   {
    "duration": 0,
    "start_time": "2023-06-24T17:25:18.628Z"
   },
   {
    "duration": 891,
    "start_time": "2023-06-24T17:25:42.800Z"
   },
   {
    "duration": 1314,
    "start_time": "2023-06-24T17:28:48.433Z"
   },
   {
    "duration": 1296,
    "start_time": "2023-06-24T17:29:06.446Z"
   },
   {
    "duration": 724,
    "start_time": "2023-06-24T17:29:07.744Z"
   },
   {
    "duration": 122,
    "start_time": "2023-06-24T17:29:08.470Z"
   },
   {
    "duration": 14,
    "start_time": "2023-06-24T17:29:08.600Z"
   },
   {
    "duration": 12,
    "start_time": "2023-06-24T17:29:08.615Z"
   },
   {
    "duration": 26,
    "start_time": "2023-06-24T17:29:08.628Z"
   },
   {
    "duration": 26,
    "start_time": "2023-06-24T17:29:08.655Z"
   },
   {
    "duration": 95,
    "start_time": "2023-06-24T17:29:08.682Z"
   },
   {
    "duration": 116,
    "start_time": "2023-06-24T17:29:08.778Z"
   },
   {
    "duration": 132,
    "start_time": "2023-06-24T17:29:08.897Z"
   },
   {
    "duration": 681,
    "start_time": "2023-06-24T17:29:09.030Z"
   },
   {
    "duration": 0,
    "start_time": "2023-06-24T17:29:09.713Z"
   },
   {
    "duration": 0,
    "start_time": "2023-06-24T17:29:09.714Z"
   },
   {
    "duration": 0,
    "start_time": "2023-06-24T17:29:09.715Z"
   },
   {
    "duration": 0,
    "start_time": "2023-06-24T17:29:09.716Z"
   },
   {
    "duration": 0,
    "start_time": "2023-06-24T17:29:09.718Z"
   },
   {
    "duration": 0,
    "start_time": "2023-06-24T17:29:09.719Z"
   },
   {
    "duration": 0,
    "start_time": "2023-06-24T17:29:09.720Z"
   },
   {
    "duration": 0,
    "start_time": "2023-06-24T17:29:09.721Z"
   },
   {
    "duration": 0,
    "start_time": "2023-06-24T17:29:09.722Z"
   },
   {
    "duration": 0,
    "start_time": "2023-06-24T17:29:09.723Z"
   },
   {
    "duration": 0,
    "start_time": "2023-06-24T17:29:09.724Z"
   },
   {
    "duration": 0,
    "start_time": "2023-06-24T17:29:09.725Z"
   },
   {
    "duration": 0,
    "start_time": "2023-06-24T17:29:09.725Z"
   },
   {
    "duration": 0,
    "start_time": "2023-06-24T17:29:09.726Z"
   },
   {
    "duration": 0,
    "start_time": "2023-06-24T17:29:09.727Z"
   },
   {
    "duration": 0,
    "start_time": "2023-06-24T17:29:09.727Z"
   },
   {
    "duration": 0,
    "start_time": "2023-06-24T17:29:09.728Z"
   },
   {
    "duration": 0,
    "start_time": "2023-06-24T17:29:09.730Z"
   },
   {
    "duration": 0,
    "start_time": "2023-06-24T17:29:09.731Z"
   },
   {
    "duration": 0,
    "start_time": "2023-06-24T17:29:09.732Z"
   },
   {
    "duration": 0,
    "start_time": "2023-06-24T17:29:09.732Z"
   },
   {
    "duration": 0,
    "start_time": "2023-06-24T17:29:09.734Z"
   },
   {
    "duration": 0,
    "start_time": "2023-06-24T17:29:09.735Z"
   },
   {
    "duration": 0,
    "start_time": "2023-06-24T17:29:09.736Z"
   },
   {
    "duration": 0,
    "start_time": "2023-06-24T17:29:09.737Z"
   },
   {
    "duration": 0,
    "start_time": "2023-06-24T17:29:09.738Z"
   },
   {
    "duration": 0,
    "start_time": "2023-06-24T17:29:09.740Z"
   },
   {
    "duration": 0,
    "start_time": "2023-06-24T17:29:09.741Z"
   },
   {
    "duration": 0,
    "start_time": "2023-06-24T17:29:09.743Z"
   },
   {
    "duration": 0,
    "start_time": "2023-06-24T17:29:09.745Z"
   },
   {
    "duration": 0,
    "start_time": "2023-06-24T17:29:09.746Z"
   },
   {
    "duration": 0,
    "start_time": "2023-06-24T17:29:09.747Z"
   },
   {
    "duration": 0,
    "start_time": "2023-06-24T17:29:09.748Z"
   },
   {
    "duration": 0,
    "start_time": "2023-06-24T17:29:09.749Z"
   },
   {
    "duration": 0,
    "start_time": "2023-06-24T17:29:09.750Z"
   },
   {
    "duration": 0,
    "start_time": "2023-06-24T17:29:09.800Z"
   },
   {
    "duration": 0,
    "start_time": "2023-06-24T17:29:09.801Z"
   },
   {
    "duration": 0,
    "start_time": "2023-06-24T17:29:09.801Z"
   },
   {
    "duration": 0,
    "start_time": "2023-06-24T17:29:09.802Z"
   },
   {
    "duration": 95,
    "start_time": "2023-06-24T17:29:27.364Z"
   },
   {
    "duration": 1268,
    "start_time": "2023-06-24T17:35:34.225Z"
   },
   {
    "duration": 759,
    "start_time": "2023-06-24T17:35:35.495Z"
   },
   {
    "duration": 115,
    "start_time": "2023-06-24T17:35:36.256Z"
   },
   {
    "duration": 27,
    "start_time": "2023-06-24T17:35:36.373Z"
   },
   {
    "duration": 6,
    "start_time": "2023-06-24T17:35:36.403Z"
   },
   {
    "duration": 5,
    "start_time": "2023-06-24T17:35:36.411Z"
   },
   {
    "duration": 24,
    "start_time": "2023-06-24T17:35:36.418Z"
   },
   {
    "duration": 91,
    "start_time": "2023-06-24T17:35:36.444Z"
   },
   {
    "duration": 76,
    "start_time": "2023-06-24T17:35:36.537Z"
   },
   {
    "duration": 120,
    "start_time": "2023-06-24T17:35:36.615Z"
   },
   {
    "duration": 3,
    "start_time": "2023-06-24T17:35:36.736Z"
   },
   {
    "duration": 108,
    "start_time": "2023-06-24T17:35:36.740Z"
   },
   {
    "duration": 1835,
    "start_time": "2023-06-24T17:35:36.850Z"
   },
   {
    "duration": 0,
    "start_time": "2023-06-24T17:35:38.687Z"
   },
   {
    "duration": 0,
    "start_time": "2023-06-24T17:35:38.688Z"
   },
   {
    "duration": 0,
    "start_time": "2023-06-24T17:35:38.690Z"
   },
   {
    "duration": 0,
    "start_time": "2023-06-24T17:35:38.691Z"
   },
   {
    "duration": 0,
    "start_time": "2023-06-24T17:35:38.692Z"
   },
   {
    "duration": 0,
    "start_time": "2023-06-24T17:35:38.692Z"
   },
   {
    "duration": 0,
    "start_time": "2023-06-24T17:35:38.693Z"
   },
   {
    "duration": 0,
    "start_time": "2023-06-24T17:35:38.694Z"
   },
   {
    "duration": 0,
    "start_time": "2023-06-24T17:35:38.696Z"
   },
   {
    "duration": 0,
    "start_time": "2023-06-24T17:35:38.696Z"
   },
   {
    "duration": 0,
    "start_time": "2023-06-24T17:35:38.697Z"
   },
   {
    "duration": 0,
    "start_time": "2023-06-24T17:35:38.698Z"
   },
   {
    "duration": 0,
    "start_time": "2023-06-24T17:35:38.699Z"
   },
   {
    "duration": 0,
    "start_time": "2023-06-24T17:35:38.700Z"
   },
   {
    "duration": 0,
    "start_time": "2023-06-24T17:35:38.700Z"
   },
   {
    "duration": 0,
    "start_time": "2023-06-24T17:35:38.701Z"
   },
   {
    "duration": 0,
    "start_time": "2023-06-24T17:35:38.702Z"
   },
   {
    "duration": 0,
    "start_time": "2023-06-24T17:35:38.703Z"
   },
   {
    "duration": 0,
    "start_time": "2023-06-24T17:35:38.704Z"
   },
   {
    "duration": 0,
    "start_time": "2023-06-24T17:35:38.704Z"
   },
   {
    "duration": 0,
    "start_time": "2023-06-24T17:35:38.705Z"
   },
   {
    "duration": 0,
    "start_time": "2023-06-24T17:35:38.706Z"
   },
   {
    "duration": 0,
    "start_time": "2023-06-24T17:35:38.707Z"
   },
   {
    "duration": 0,
    "start_time": "2023-06-24T17:35:38.708Z"
   },
   {
    "duration": 0,
    "start_time": "2023-06-24T17:35:38.709Z"
   },
   {
    "duration": 0,
    "start_time": "2023-06-24T17:35:38.710Z"
   },
   {
    "duration": 0,
    "start_time": "2023-06-24T17:35:38.711Z"
   },
   {
    "duration": 0,
    "start_time": "2023-06-24T17:35:38.711Z"
   },
   {
    "duration": 0,
    "start_time": "2023-06-24T17:35:38.712Z"
   },
   {
    "duration": 0,
    "start_time": "2023-06-24T17:35:38.713Z"
   },
   {
    "duration": 0,
    "start_time": "2023-06-24T17:35:38.713Z"
   },
   {
    "duration": 0,
    "start_time": "2023-06-24T17:35:38.714Z"
   },
   {
    "duration": 0,
    "start_time": "2023-06-24T17:35:38.715Z"
   },
   {
    "duration": 0,
    "start_time": "2023-06-24T17:35:38.716Z"
   },
   {
    "duration": 0,
    "start_time": "2023-06-24T17:35:38.717Z"
   },
   {
    "duration": 0,
    "start_time": "2023-06-24T17:35:38.717Z"
   },
   {
    "duration": 0,
    "start_time": "2023-06-24T17:35:38.718Z"
   },
   {
    "duration": 0,
    "start_time": "2023-06-24T17:35:38.719Z"
   },
   {
    "duration": 95,
    "start_time": "2023-06-24T17:35:48.813Z"
   },
   {
    "duration": 102,
    "start_time": "2023-06-24T17:35:50.033Z"
   },
   {
    "duration": 2,
    "start_time": "2023-06-24T17:36:57.879Z"
   },
   {
    "duration": 1244,
    "start_time": "2023-06-24T17:40:32.197Z"
   },
   {
    "duration": 711,
    "start_time": "2023-06-24T17:40:33.443Z"
   },
   {
    "duration": 108,
    "start_time": "2023-06-24T17:40:34.156Z"
   },
   {
    "duration": 13,
    "start_time": "2023-06-24T17:40:34.266Z"
   },
   {
    "duration": 5,
    "start_time": "2023-06-24T17:40:34.280Z"
   },
   {
    "duration": 7,
    "start_time": "2023-06-24T17:40:34.300Z"
   },
   {
    "duration": 25,
    "start_time": "2023-06-24T17:40:34.308Z"
   },
   {
    "duration": 81,
    "start_time": "2023-06-24T17:40:34.334Z"
   },
   {
    "duration": 64,
    "start_time": "2023-06-24T17:40:34.416Z"
   },
   {
    "duration": 125,
    "start_time": "2023-06-24T17:40:34.483Z"
   },
   {
    "duration": 2,
    "start_time": "2023-06-24T17:40:34.609Z"
   },
   {
    "duration": 5,
    "start_time": "2023-06-24T17:40:34.613Z"
   },
   {
    "duration": 4,
    "start_time": "2023-06-24T17:40:34.620Z"
   },
   {
    "duration": 28,
    "start_time": "2023-06-24T17:40:34.625Z"
   },
   {
    "duration": 2,
    "start_time": "2023-06-24T17:40:34.654Z"
   },
   {
    "duration": 41,
    "start_time": "2023-06-24T17:40:34.658Z"
   },
   {
    "duration": 2,
    "start_time": "2023-06-24T17:40:34.701Z"
   },
   {
    "duration": 7,
    "start_time": "2023-06-24T17:40:34.704Z"
   },
   {
    "duration": 21,
    "start_time": "2023-06-24T17:40:34.712Z"
   },
   {
    "duration": 6,
    "start_time": "2023-06-24T17:40:34.734Z"
   },
   {
    "duration": 191,
    "start_time": "2023-06-24T17:40:34.741Z"
   },
   {
    "duration": 363,
    "start_time": "2023-06-24T17:40:34.933Z"
   },
   {
    "duration": 11,
    "start_time": "2023-06-24T17:40:35.299Z"
   },
   {
    "duration": 37,
    "start_time": "2023-06-24T17:40:35.311Z"
   },
   {
    "duration": 188,
    "start_time": "2023-06-24T17:40:35.349Z"
   },
   {
    "duration": 345,
    "start_time": "2023-06-24T17:40:35.539Z"
   },
   {
    "duration": 4,
    "start_time": "2023-06-24T17:40:35.886Z"
   },
   {
    "duration": 207,
    "start_time": "2023-06-24T17:40:35.903Z"
   },
   {
    "duration": 639,
    "start_time": "2023-06-24T17:40:36.112Z"
   },
   {
    "duration": 0,
    "start_time": "2023-06-24T17:40:36.752Z"
   },
   {
    "duration": 0,
    "start_time": "2023-06-24T17:40:36.754Z"
   },
   {
    "duration": 0,
    "start_time": "2023-06-24T17:40:36.755Z"
   },
   {
    "duration": 0,
    "start_time": "2023-06-24T17:40:36.755Z"
   },
   {
    "duration": 0,
    "start_time": "2023-06-24T17:40:36.756Z"
   },
   {
    "duration": 0,
    "start_time": "2023-06-24T17:40:36.757Z"
   },
   {
    "duration": 0,
    "start_time": "2023-06-24T17:40:36.758Z"
   },
   {
    "duration": 0,
    "start_time": "2023-06-24T17:40:36.760Z"
   },
   {
    "duration": 0,
    "start_time": "2023-06-24T17:40:36.760Z"
   },
   {
    "duration": 0,
    "start_time": "2023-06-24T17:40:36.761Z"
   },
   {
    "duration": 0,
    "start_time": "2023-06-24T17:40:36.763Z"
   },
   {
    "duration": 0,
    "start_time": "2023-06-24T17:40:36.764Z"
   },
   {
    "duration": 0,
    "start_time": "2023-06-24T17:40:36.765Z"
   },
   {
    "duration": 0,
    "start_time": "2023-06-24T17:40:36.767Z"
   },
   {
    "duration": 0,
    "start_time": "2023-06-24T17:40:36.768Z"
   },
   {
    "duration": 0,
    "start_time": "2023-06-24T17:40:36.769Z"
   },
   {
    "duration": 0,
    "start_time": "2023-06-24T17:40:36.771Z"
   },
   {
    "duration": 0,
    "start_time": "2023-06-24T17:40:36.772Z"
   },
   {
    "duration": 0,
    "start_time": "2023-06-24T17:40:36.774Z"
   },
   {
    "duration": 0,
    "start_time": "2023-06-24T17:40:36.775Z"
   },
   {
    "duration": 0,
    "start_time": "2023-06-24T17:40:36.776Z"
   },
   {
    "duration": 0,
    "start_time": "2023-06-24T17:40:36.777Z"
   },
   {
    "duration": 0,
    "start_time": "2023-06-24T17:40:36.779Z"
   },
   {
    "duration": 0,
    "start_time": "2023-06-24T17:40:36.780Z"
   },
   {
    "duration": 0,
    "start_time": "2023-06-24T17:40:36.781Z"
   },
   {
    "duration": 0,
    "start_time": "2023-06-24T17:40:36.783Z"
   },
   {
    "duration": 0,
    "start_time": "2023-06-24T17:40:36.784Z"
   },
   {
    "duration": 114,
    "start_time": "2023-06-24T17:40:56.131Z"
   },
   {
    "duration": 27,
    "start_time": "2023-06-24T17:42:25.174Z"
   },
   {
    "duration": 88,
    "start_time": "2023-06-24T17:42:25.314Z"
   },
   {
    "duration": 1220,
    "start_time": "2023-06-24T17:42:37.627Z"
   },
   {
    "duration": 705,
    "start_time": "2023-06-24T17:42:38.849Z"
   },
   {
    "duration": 111,
    "start_time": "2023-06-24T17:42:39.557Z"
   },
   {
    "duration": 30,
    "start_time": "2023-06-24T17:42:39.670Z"
   },
   {
    "duration": 4,
    "start_time": "2023-06-24T17:42:39.703Z"
   },
   {
    "duration": 23,
    "start_time": "2023-06-24T17:42:39.709Z"
   },
   {
    "duration": 25,
    "start_time": "2023-06-24T17:42:39.734Z"
   },
   {
    "duration": 76,
    "start_time": "2023-06-24T17:42:39.761Z"
   },
   {
    "duration": 71,
    "start_time": "2023-06-24T17:42:39.838Z"
   },
   {
    "duration": 120,
    "start_time": "2023-06-24T17:42:39.911Z"
   },
   {
    "duration": 2,
    "start_time": "2023-06-24T17:42:40.033Z"
   },
   {
    "duration": 6,
    "start_time": "2023-06-24T17:42:40.037Z"
   },
   {
    "duration": 8,
    "start_time": "2023-06-24T17:42:40.045Z"
   },
   {
    "duration": 23,
    "start_time": "2023-06-24T17:42:40.057Z"
   },
   {
    "duration": 2,
    "start_time": "2023-06-24T17:42:40.100Z"
   },
   {
    "duration": 22,
    "start_time": "2023-06-24T17:42:40.104Z"
   },
   {
    "duration": 2,
    "start_time": "2023-06-24T17:42:40.127Z"
   },
   {
    "duration": 8,
    "start_time": "2023-06-24T17:42:40.131Z"
   },
   {
    "duration": 22,
    "start_time": "2023-06-24T17:42:40.140Z"
   },
   {
    "duration": 4,
    "start_time": "2023-06-24T17:42:40.163Z"
   },
   {
    "duration": 205,
    "start_time": "2023-06-24T17:42:40.168Z"
   },
   {
    "duration": 407,
    "start_time": "2023-06-24T17:42:40.375Z"
   },
   {
    "duration": 18,
    "start_time": "2023-06-24T17:42:40.783Z"
   },
   {
    "duration": 30,
    "start_time": "2023-06-24T17:42:40.802Z"
   },
   {
    "duration": 178,
    "start_time": "2023-06-24T17:42:40.834Z"
   },
   {
    "duration": 371,
    "start_time": "2023-06-24T17:42:41.014Z"
   },
   {
    "duration": 3,
    "start_time": "2023-06-24T17:42:41.387Z"
   },
   {
    "duration": 114,
    "start_time": "2023-06-24T17:42:41.392Z"
   },
   {
    "duration": 128,
    "start_time": "2023-06-24T17:42:41.508Z"
   },
   {
    "duration": 1,
    "start_time": "2023-06-24T17:42:41.702Z"
   },
   {
    "duration": 0,
    "start_time": "2023-06-24T17:42:41.704Z"
   },
   {
    "duration": 0,
    "start_time": "2023-06-24T17:42:41.705Z"
   },
   {
    "duration": 0,
    "start_time": "2023-06-24T17:42:41.706Z"
   },
   {
    "duration": 0,
    "start_time": "2023-06-24T17:42:41.707Z"
   },
   {
    "duration": 0,
    "start_time": "2023-06-24T17:42:41.708Z"
   },
   {
    "duration": 0,
    "start_time": "2023-06-24T17:42:41.709Z"
   },
   {
    "duration": 0,
    "start_time": "2023-06-24T17:42:41.710Z"
   },
   {
    "duration": 0,
    "start_time": "2023-06-24T17:42:41.710Z"
   },
   {
    "duration": 0,
    "start_time": "2023-06-24T17:42:41.711Z"
   },
   {
    "duration": 0,
    "start_time": "2023-06-24T17:42:41.712Z"
   },
   {
    "duration": 0,
    "start_time": "2023-06-24T17:42:41.713Z"
   },
   {
    "duration": 0,
    "start_time": "2023-06-24T17:42:41.714Z"
   },
   {
    "duration": 0,
    "start_time": "2023-06-24T17:42:41.715Z"
   },
   {
    "duration": 0,
    "start_time": "2023-06-24T17:42:41.716Z"
   },
   {
    "duration": 0,
    "start_time": "2023-06-24T17:42:41.716Z"
   },
   {
    "duration": 0,
    "start_time": "2023-06-24T17:42:41.717Z"
   },
   {
    "duration": 0,
    "start_time": "2023-06-24T17:42:41.718Z"
   },
   {
    "duration": 0,
    "start_time": "2023-06-24T17:42:41.719Z"
   },
   {
    "duration": 0,
    "start_time": "2023-06-24T17:42:41.720Z"
   },
   {
    "duration": 0,
    "start_time": "2023-06-24T17:42:41.720Z"
   },
   {
    "duration": 0,
    "start_time": "2023-06-24T17:42:41.721Z"
   },
   {
    "duration": 0,
    "start_time": "2023-06-24T17:42:41.722Z"
   },
   {
    "duration": 0,
    "start_time": "2023-06-24T17:42:41.723Z"
   },
   {
    "duration": 0,
    "start_time": "2023-06-24T17:42:41.724Z"
   },
   {
    "duration": 2,
    "start_time": "2023-06-24T17:43:32.677Z"
   },
   {
    "duration": 2,
    "start_time": "2023-06-24T17:43:53.857Z"
   },
   {
    "duration": 25,
    "start_time": "2023-06-24T17:44:16.381Z"
   },
   {
    "duration": 2,
    "start_time": "2023-06-24T17:48:08.944Z"
   },
   {
    "duration": 1324,
    "start_time": "2023-06-24T17:48:30.612Z"
   },
   {
    "duration": 722,
    "start_time": "2023-06-24T17:48:31.939Z"
   },
   {
    "duration": 113,
    "start_time": "2023-06-24T17:48:32.663Z"
   },
   {
    "duration": 22,
    "start_time": "2023-06-24T17:48:32.778Z"
   },
   {
    "duration": 3,
    "start_time": "2023-06-24T17:48:32.802Z"
   },
   {
    "duration": 9,
    "start_time": "2023-06-24T17:48:32.806Z"
   },
   {
    "duration": 35,
    "start_time": "2023-06-24T17:48:32.816Z"
   },
   {
    "duration": 84,
    "start_time": "2023-06-24T17:48:32.853Z"
   },
   {
    "duration": 71,
    "start_time": "2023-06-24T17:48:32.938Z"
   },
   {
    "duration": 115,
    "start_time": "2023-06-24T17:48:33.010Z"
   },
   {
    "duration": 2,
    "start_time": "2023-06-24T17:48:33.126Z"
   },
   {
    "duration": 5,
    "start_time": "2023-06-24T17:48:33.130Z"
   },
   {
    "duration": 5,
    "start_time": "2023-06-24T17:48:33.137Z"
   },
   {
    "duration": 108,
    "start_time": "2023-06-24T17:48:33.145Z"
   },
   {
    "duration": 0,
    "start_time": "2023-06-24T17:48:33.255Z"
   },
   {
    "duration": 0,
    "start_time": "2023-06-24T17:48:33.256Z"
   },
   {
    "duration": 0,
    "start_time": "2023-06-24T17:48:33.257Z"
   },
   {
    "duration": 0,
    "start_time": "2023-06-24T17:48:33.258Z"
   },
   {
    "duration": 0,
    "start_time": "2023-06-24T17:48:33.258Z"
   },
   {
    "duration": 0,
    "start_time": "2023-06-24T17:48:33.259Z"
   },
   {
    "duration": 0,
    "start_time": "2023-06-24T17:48:33.260Z"
   },
   {
    "duration": 0,
    "start_time": "2023-06-24T17:48:33.261Z"
   },
   {
    "duration": 0,
    "start_time": "2023-06-24T17:48:33.262Z"
   },
   {
    "duration": 0,
    "start_time": "2023-06-24T17:48:33.262Z"
   },
   {
    "duration": 0,
    "start_time": "2023-06-24T17:48:33.263Z"
   },
   {
    "duration": 0,
    "start_time": "2023-06-24T17:48:33.265Z"
   },
   {
    "duration": 0,
    "start_time": "2023-06-24T17:48:33.265Z"
   },
   {
    "duration": 0,
    "start_time": "2023-06-24T17:48:33.266Z"
   },
   {
    "duration": 0,
    "start_time": "2023-06-24T17:48:33.268Z"
   },
   {
    "duration": 0,
    "start_time": "2023-06-24T17:48:33.268Z"
   },
   {
    "duration": 0,
    "start_time": "2023-06-24T17:48:33.269Z"
   },
   {
    "duration": 0,
    "start_time": "2023-06-24T17:48:33.270Z"
   },
   {
    "duration": 0,
    "start_time": "2023-06-24T17:48:33.271Z"
   },
   {
    "duration": 0,
    "start_time": "2023-06-24T17:48:33.272Z"
   },
   {
    "duration": 0,
    "start_time": "2023-06-24T17:48:33.300Z"
   },
   {
    "duration": 0,
    "start_time": "2023-06-24T17:48:33.301Z"
   },
   {
    "duration": 0,
    "start_time": "2023-06-24T17:48:33.302Z"
   },
   {
    "duration": 0,
    "start_time": "2023-06-24T17:48:33.303Z"
   },
   {
    "duration": 0,
    "start_time": "2023-06-24T17:48:33.304Z"
   },
   {
    "duration": 0,
    "start_time": "2023-06-24T17:48:33.305Z"
   },
   {
    "duration": 0,
    "start_time": "2023-06-24T17:48:33.306Z"
   },
   {
    "duration": 0,
    "start_time": "2023-06-24T17:48:33.307Z"
   },
   {
    "duration": 0,
    "start_time": "2023-06-24T17:48:33.308Z"
   },
   {
    "duration": 0,
    "start_time": "2023-06-24T17:48:33.309Z"
   },
   {
    "duration": 0,
    "start_time": "2023-06-24T17:48:33.310Z"
   },
   {
    "duration": 0,
    "start_time": "2023-06-24T17:48:33.311Z"
   },
   {
    "duration": 0,
    "start_time": "2023-06-24T17:48:33.312Z"
   },
   {
    "duration": 0,
    "start_time": "2023-06-24T17:48:33.313Z"
   },
   {
    "duration": 0,
    "start_time": "2023-06-24T17:48:33.314Z"
   },
   {
    "duration": 0,
    "start_time": "2023-06-24T17:48:33.315Z"
   },
   {
    "duration": 0,
    "start_time": "2023-06-24T17:48:33.315Z"
   },
   {
    "duration": 0,
    "start_time": "2023-06-24T17:48:33.316Z"
   },
   {
    "duration": 0,
    "start_time": "2023-06-24T17:48:33.317Z"
   },
   {
    "duration": 0,
    "start_time": "2023-06-24T17:48:33.318Z"
   },
   {
    "duration": 568,
    "start_time": "2023-06-24T17:50:39.971Z"
   },
   {
    "duration": 2,
    "start_time": "2023-06-24T17:56:11.630Z"
   },
   {
    "duration": 0,
    "start_time": "2023-06-24T17:56:46.848Z"
   },
   {
    "duration": 0,
    "start_time": "2023-06-24T17:56:46.849Z"
   },
   {
    "duration": 0,
    "start_time": "2023-06-24T17:56:46.850Z"
   },
   {
    "duration": 0,
    "start_time": "2023-06-24T17:56:46.851Z"
   },
   {
    "duration": 0,
    "start_time": "2023-06-24T17:56:46.851Z"
   },
   {
    "duration": 0,
    "start_time": "2023-06-24T17:56:46.852Z"
   },
   {
    "duration": 0,
    "start_time": "2023-06-24T17:56:46.853Z"
   },
   {
    "duration": 0,
    "start_time": "2023-06-24T17:56:46.854Z"
   },
   {
    "duration": 0,
    "start_time": "2023-06-24T17:56:46.854Z"
   },
   {
    "duration": 0,
    "start_time": "2023-06-24T17:56:46.855Z"
   },
   {
    "duration": 0,
    "start_time": "2023-06-24T17:56:46.856Z"
   },
   {
    "duration": 0,
    "start_time": "2023-06-24T17:56:46.857Z"
   },
   {
    "duration": 0,
    "start_time": "2023-06-24T17:56:46.858Z"
   },
   {
    "duration": 0,
    "start_time": "2023-06-24T17:56:46.858Z"
   },
   {
    "duration": 0,
    "start_time": "2023-06-24T17:56:46.859Z"
   },
   {
    "duration": 0,
    "start_time": "2023-06-24T17:56:46.860Z"
   },
   {
    "duration": 0,
    "start_time": "2023-06-24T17:56:46.860Z"
   },
   {
    "duration": 0,
    "start_time": "2023-06-24T17:56:46.861Z"
   },
   {
    "duration": 0,
    "start_time": "2023-06-24T17:56:46.862Z"
   },
   {
    "duration": 0,
    "start_time": "2023-06-24T17:56:46.863Z"
   },
   {
    "duration": 0,
    "start_time": "2023-06-24T17:56:46.864Z"
   },
   {
    "duration": 0,
    "start_time": "2023-06-24T17:56:46.864Z"
   },
   {
    "duration": 0,
    "start_time": "2023-06-24T17:56:46.865Z"
   },
   {
    "duration": 0,
    "start_time": "2023-06-24T17:56:46.866Z"
   },
   {
    "duration": 0,
    "start_time": "2023-06-24T17:56:46.867Z"
   },
   {
    "duration": 0,
    "start_time": "2023-06-24T17:56:46.867Z"
   },
   {
    "duration": 0,
    "start_time": "2023-06-24T17:56:46.868Z"
   },
   {
    "duration": 0,
    "start_time": "2023-06-24T17:56:46.869Z"
   },
   {
    "duration": 0,
    "start_time": "2023-06-24T17:56:46.900Z"
   },
   {
    "duration": 0,
    "start_time": "2023-06-24T17:56:46.900Z"
   },
   {
    "duration": 1,
    "start_time": "2023-06-24T17:56:46.901Z"
   },
   {
    "duration": 0,
    "start_time": "2023-06-24T17:56:46.902Z"
   },
   {
    "duration": 0,
    "start_time": "2023-06-24T17:56:46.903Z"
   },
   {
    "duration": 0,
    "start_time": "2023-06-24T17:56:46.904Z"
   },
   {
    "duration": 0,
    "start_time": "2023-06-24T17:56:46.904Z"
   },
   {
    "duration": 0,
    "start_time": "2023-06-24T17:56:46.906Z"
   },
   {
    "duration": 0,
    "start_time": "2023-06-24T17:56:46.906Z"
   },
   {
    "duration": 0,
    "start_time": "2023-06-24T17:56:46.907Z"
   },
   {
    "duration": 0,
    "start_time": "2023-06-24T17:56:46.908Z"
   },
   {
    "duration": 0,
    "start_time": "2023-06-24T17:56:46.909Z"
   },
   {
    "duration": 0,
    "start_time": "2023-06-24T17:56:46.910Z"
   },
   {
    "duration": 0,
    "start_time": "2023-06-24T17:56:46.910Z"
   },
   {
    "duration": 0,
    "start_time": "2023-06-24T17:56:46.911Z"
   },
   {
    "duration": 0,
    "start_time": "2023-06-24T17:56:46.912Z"
   },
   {
    "duration": 0,
    "start_time": "2023-06-24T17:56:46.912Z"
   },
   {
    "duration": 0,
    "start_time": "2023-06-24T17:56:46.913Z"
   },
   {
    "duration": 0,
    "start_time": "2023-06-24T17:56:46.914Z"
   },
   {
    "duration": 0,
    "start_time": "2023-06-24T17:56:46.915Z"
   },
   {
    "duration": 0,
    "start_time": "2023-06-24T17:56:46.916Z"
   },
   {
    "duration": 0,
    "start_time": "2023-06-24T17:56:46.916Z"
   },
   {
    "duration": 0,
    "start_time": "2023-06-24T17:56:46.917Z"
   },
   {
    "duration": 0,
    "start_time": "2023-06-24T17:56:46.918Z"
   },
   {
    "duration": 0,
    "start_time": "2023-06-24T17:56:46.919Z"
   },
   {
    "duration": 0,
    "start_time": "2023-06-24T17:56:46.919Z"
   },
   {
    "duration": 0,
    "start_time": "2023-06-24T17:58:21.956Z"
   },
   {
    "duration": 0,
    "start_time": "2023-06-24T17:58:21.956Z"
   },
   {
    "duration": 0,
    "start_time": "2023-06-24T17:58:21.957Z"
   },
   {
    "duration": 0,
    "start_time": "2023-06-24T17:58:21.958Z"
   },
   {
    "duration": 0,
    "start_time": "2023-06-24T17:58:21.959Z"
   },
   {
    "duration": 0,
    "start_time": "2023-06-24T17:58:21.959Z"
   },
   {
    "duration": 0,
    "start_time": "2023-06-24T17:58:21.960Z"
   },
   {
    "duration": 0,
    "start_time": "2023-06-24T17:58:21.961Z"
   },
   {
    "duration": 0,
    "start_time": "2023-06-24T17:58:22.000Z"
   },
   {
    "duration": 0,
    "start_time": "2023-06-24T17:58:22.002Z"
   },
   {
    "duration": 1,
    "start_time": "2023-06-24T17:58:22.002Z"
   },
   {
    "duration": 0,
    "start_time": "2023-06-24T17:58:22.004Z"
   },
   {
    "duration": 0,
    "start_time": "2023-06-24T17:58:22.005Z"
   },
   {
    "duration": 0,
    "start_time": "2023-06-24T17:58:22.005Z"
   },
   {
    "duration": 0,
    "start_time": "2023-06-24T17:58:22.006Z"
   },
   {
    "duration": 0,
    "start_time": "2023-06-24T17:58:22.007Z"
   },
   {
    "duration": 0,
    "start_time": "2023-06-24T17:58:22.008Z"
   },
   {
    "duration": 0,
    "start_time": "2023-06-24T17:58:22.009Z"
   },
   {
    "duration": 0,
    "start_time": "2023-06-24T17:58:22.010Z"
   },
   {
    "duration": 0,
    "start_time": "2023-06-24T17:58:22.011Z"
   },
   {
    "duration": 0,
    "start_time": "2023-06-24T17:58:22.012Z"
   },
   {
    "duration": 0,
    "start_time": "2023-06-24T17:58:22.012Z"
   },
   {
    "duration": 0,
    "start_time": "2023-06-24T17:58:22.013Z"
   },
   {
    "duration": 0,
    "start_time": "2023-06-24T17:58:22.014Z"
   },
   {
    "duration": 0,
    "start_time": "2023-06-24T17:58:22.015Z"
   },
   {
    "duration": 0,
    "start_time": "2023-06-24T17:58:22.016Z"
   },
   {
    "duration": 0,
    "start_time": "2023-06-24T17:58:22.017Z"
   },
   {
    "duration": 0,
    "start_time": "2023-06-24T17:58:22.018Z"
   },
   {
    "duration": 0,
    "start_time": "2023-06-24T17:58:22.018Z"
   },
   {
    "duration": 0,
    "start_time": "2023-06-24T17:58:22.019Z"
   },
   {
    "duration": 0,
    "start_time": "2023-06-24T17:58:22.020Z"
   },
   {
    "duration": 0,
    "start_time": "2023-06-24T17:58:22.021Z"
   },
   {
    "duration": 0,
    "start_time": "2023-06-24T17:58:22.021Z"
   },
   {
    "duration": 0,
    "start_time": "2023-06-24T17:58:22.022Z"
   },
   {
    "duration": 0,
    "start_time": "2023-06-24T17:58:22.023Z"
   },
   {
    "duration": 0,
    "start_time": "2023-06-24T17:58:22.025Z"
   },
   {
    "duration": 0,
    "start_time": "2023-06-24T17:58:22.026Z"
   },
   {
    "duration": 0,
    "start_time": "2023-06-24T17:58:22.027Z"
   },
   {
    "duration": 0,
    "start_time": "2023-06-24T17:58:22.028Z"
   },
   {
    "duration": 0,
    "start_time": "2023-06-24T17:58:22.029Z"
   },
   {
    "duration": 0,
    "start_time": "2023-06-24T17:58:22.030Z"
   },
   {
    "duration": 0,
    "start_time": "2023-06-24T17:58:22.031Z"
   },
   {
    "duration": 0,
    "start_time": "2023-06-24T17:58:22.032Z"
   },
   {
    "duration": 0,
    "start_time": "2023-06-24T17:58:22.033Z"
   },
   {
    "duration": 0,
    "start_time": "2023-06-24T17:58:22.033Z"
   },
   {
    "duration": 0,
    "start_time": "2023-06-24T17:58:22.035Z"
   },
   {
    "duration": 0,
    "start_time": "2023-06-24T17:58:22.099Z"
   },
   {
    "duration": 0,
    "start_time": "2023-06-24T17:58:22.102Z"
   },
   {
    "duration": 0,
    "start_time": "2023-06-24T17:58:22.103Z"
   },
   {
    "duration": 0,
    "start_time": "2023-06-24T17:58:22.104Z"
   },
   {
    "duration": 0,
    "start_time": "2023-06-24T17:58:22.105Z"
   },
   {
    "duration": 0,
    "start_time": "2023-06-24T17:58:22.106Z"
   },
   {
    "duration": 1,
    "start_time": "2023-06-24T17:58:22.106Z"
   },
   {
    "duration": 0,
    "start_time": "2023-06-24T17:58:22.107Z"
   },
   {
    "duration": 3,
    "start_time": "2023-06-24T17:58:31.451Z"
   },
   {
    "duration": 704,
    "start_time": "2023-06-24T17:58:33.035Z"
   },
   {
    "duration": 114,
    "start_time": "2023-06-24T17:58:33.789Z"
   },
   {
    "duration": 16,
    "start_time": "2023-06-24T17:58:34.618Z"
   },
   {
    "duration": 3,
    "start_time": "2023-06-24T17:58:35.857Z"
   },
   {
    "duration": 4,
    "start_time": "2023-06-24T17:58:37.629Z"
   },
   {
    "duration": 22,
    "start_time": "2023-06-24T17:58:38.201Z"
   },
   {
    "duration": 69,
    "start_time": "2023-06-24T17:58:38.802Z"
   },
   {
    "duration": 66,
    "start_time": "2023-06-24T17:58:39.517Z"
   },
   {
    "duration": 108,
    "start_time": "2023-06-24T17:58:40.465Z"
   },
   {
    "duration": 2,
    "start_time": "2023-06-24T17:58:41.442Z"
   },
   {
    "duration": 3,
    "start_time": "2023-06-24T17:58:43.030Z"
   },
   {
    "duration": 2,
    "start_time": "2023-06-24T17:58:43.855Z"
   },
   {
    "duration": 575,
    "start_time": "2023-06-24T17:58:44.497Z"
   },
   {
    "duration": 2,
    "start_time": "2023-06-24T18:00:30.766Z"
   },
   {
    "duration": 713,
    "start_time": "2023-06-24T18:00:37.091Z"
   },
   {
    "duration": 757,
    "start_time": "2023-06-24T18:01:30.490Z"
   },
   {
    "duration": 2,
    "start_time": "2023-06-24T18:04:07.157Z"
   },
   {
    "duration": 1326,
    "start_time": "2023-06-24T18:04:15.808Z"
   },
   {
    "duration": 724,
    "start_time": "2023-06-24T18:04:17.136Z"
   },
   {
    "duration": 114,
    "start_time": "2023-06-24T18:04:17.861Z"
   },
   {
    "duration": 25,
    "start_time": "2023-06-24T18:04:17.976Z"
   },
   {
    "duration": 41,
    "start_time": "2023-06-24T18:04:18.003Z"
   },
   {
    "duration": 19,
    "start_time": "2023-06-24T18:04:18.045Z"
   },
   {
    "duration": 45,
    "start_time": "2023-06-24T18:04:18.066Z"
   },
   {
    "duration": 82,
    "start_time": "2023-06-24T18:04:18.113Z"
   },
   {
    "duration": 63,
    "start_time": "2023-06-24T18:04:18.199Z"
   },
   {
    "duration": 144,
    "start_time": "2023-06-24T18:04:18.264Z"
   },
   {
    "duration": 2,
    "start_time": "2023-06-24T18:04:18.409Z"
   },
   {
    "duration": 25,
    "start_time": "2023-06-24T18:04:18.413Z"
   },
   {
    "duration": 25,
    "start_time": "2023-06-24T18:04:18.440Z"
   },
   {
    "duration": 12,
    "start_time": "2023-06-24T18:04:18.469Z"
   },
   {
    "duration": 47,
    "start_time": "2023-06-24T18:04:18.483Z"
   },
   {
    "duration": 2,
    "start_time": "2023-06-24T18:04:18.531Z"
   },
   {
    "duration": 38,
    "start_time": "2023-06-24T18:04:18.534Z"
   },
   {
    "duration": 2,
    "start_time": "2023-06-24T18:04:18.574Z"
   },
   {
    "duration": 8,
    "start_time": "2023-06-24T18:04:18.578Z"
   },
   {
    "duration": 35,
    "start_time": "2023-06-24T18:04:18.587Z"
   },
   {
    "duration": 3,
    "start_time": "2023-06-24T18:04:18.623Z"
   },
   {
    "duration": 192,
    "start_time": "2023-06-24T18:04:18.627Z"
   },
   {
    "duration": 374,
    "start_time": "2023-06-24T18:04:18.820Z"
   },
   {
    "duration": 13,
    "start_time": "2023-06-24T18:04:19.196Z"
   },
   {
    "duration": 30,
    "start_time": "2023-06-24T18:04:19.211Z"
   },
   {
    "duration": 178,
    "start_time": "2023-06-24T18:04:19.243Z"
   },
   {
    "duration": 408,
    "start_time": "2023-06-24T18:04:19.422Z"
   },
   {
    "duration": 3,
    "start_time": "2023-06-24T18:04:19.832Z"
   },
   {
    "duration": 51,
    "start_time": "2023-06-24T18:04:19.836Z"
   },
   {
    "duration": 89,
    "start_time": "2023-06-24T18:04:19.888Z"
   },
   {
    "duration": 44,
    "start_time": "2023-06-24T18:04:19.979Z"
   },
   {
    "duration": 26,
    "start_time": "2023-06-24T18:04:20.025Z"
   },
   {
    "duration": 22,
    "start_time": "2023-06-24T18:04:20.053Z"
   },
   {
    "duration": 36,
    "start_time": "2023-06-24T18:04:20.077Z"
   },
   {
    "duration": 114,
    "start_time": "2023-06-24T18:04:20.115Z"
   },
   {
    "duration": 0,
    "start_time": "2023-06-24T18:04:20.231Z"
   },
   {
    "duration": 0,
    "start_time": "2023-06-24T18:04:20.233Z"
   },
   {
    "duration": 0,
    "start_time": "2023-06-24T18:04:20.235Z"
   },
   {
    "duration": 0,
    "start_time": "2023-06-24T18:04:20.236Z"
   },
   {
    "duration": 0,
    "start_time": "2023-06-24T18:04:20.237Z"
   },
   {
    "duration": 0,
    "start_time": "2023-06-24T18:04:20.238Z"
   },
   {
    "duration": 0,
    "start_time": "2023-06-24T18:04:20.239Z"
   },
   {
    "duration": 0,
    "start_time": "2023-06-24T18:04:20.241Z"
   },
   {
    "duration": 0,
    "start_time": "2023-06-24T18:04:20.312Z"
   },
   {
    "duration": 0,
    "start_time": "2023-06-24T18:04:20.313Z"
   },
   {
    "duration": 0,
    "start_time": "2023-06-24T18:04:20.315Z"
   },
   {
    "duration": 0,
    "start_time": "2023-06-24T18:04:20.316Z"
   },
   {
    "duration": 0,
    "start_time": "2023-06-24T18:04:20.317Z"
   },
   {
    "duration": 0,
    "start_time": "2023-06-24T18:04:20.319Z"
   },
   {
    "duration": 0,
    "start_time": "2023-06-24T18:04:20.320Z"
   },
   {
    "duration": 0,
    "start_time": "2023-06-24T18:04:20.321Z"
   },
   {
    "duration": 0,
    "start_time": "2023-06-24T18:04:20.323Z"
   },
   {
    "duration": 0,
    "start_time": "2023-06-24T18:04:20.324Z"
   },
   {
    "duration": 0,
    "start_time": "2023-06-24T18:04:20.324Z"
   },
   {
    "duration": 92,
    "start_time": "2023-06-24T18:04:29.319Z"
   },
   {
    "duration": 3,
    "start_time": "2023-06-24T18:04:37.720Z"
   },
   {
    "duration": 27,
    "start_time": "2023-06-24T18:04:44.433Z"
   },
   {
    "duration": 76,
    "start_time": "2023-06-24T18:04:44.471Z"
   },
   {
    "duration": 21,
    "start_time": "2023-06-24T18:08:03.485Z"
   },
   {
    "duration": 24,
    "start_time": "2023-06-24T18:08:44.987Z"
   },
   {
    "duration": 3,
    "start_time": "2023-06-24T18:09:00.097Z"
   },
   {
    "duration": 150,
    "start_time": "2023-06-24T18:09:00.106Z"
   },
   {
    "duration": 1225,
    "start_time": "2023-06-24T18:09:06.759Z"
   },
   {
    "duration": 718,
    "start_time": "2023-06-24T18:09:07.986Z"
   },
   {
    "duration": 117,
    "start_time": "2023-06-24T18:09:08.706Z"
   },
   {
    "duration": 15,
    "start_time": "2023-06-24T18:09:08.825Z"
   },
   {
    "duration": 4,
    "start_time": "2023-06-24T18:09:08.841Z"
   },
   {
    "duration": 10,
    "start_time": "2023-06-24T18:09:08.846Z"
   },
   {
    "duration": 50,
    "start_time": "2023-06-24T18:09:08.858Z"
   },
   {
    "duration": 73,
    "start_time": "2023-06-24T18:09:08.909Z"
   },
   {
    "duration": 74,
    "start_time": "2023-06-24T18:09:08.983Z"
   },
   {
    "duration": 120,
    "start_time": "2023-06-24T18:09:09.059Z"
   },
   {
    "duration": 3,
    "start_time": "2023-06-24T18:09:09.180Z"
   },
   {
    "duration": 17,
    "start_time": "2023-06-24T18:09:09.184Z"
   },
   {
    "duration": 4,
    "start_time": "2023-06-24T18:09:09.203Z"
   },
   {
    "duration": 9,
    "start_time": "2023-06-24T18:09:09.208Z"
   },
   {
    "duration": 25,
    "start_time": "2023-06-24T18:09:09.219Z"
   },
   {
    "duration": 8,
    "start_time": "2023-06-24T18:09:09.246Z"
   },
   {
    "duration": 25,
    "start_time": "2023-06-24T18:09:09.255Z"
   },
   {
    "duration": 19,
    "start_time": "2023-06-24T18:09:09.281Z"
   },
   {
    "duration": 2,
    "start_time": "2023-06-24T18:09:09.301Z"
   },
   {
    "duration": 23,
    "start_time": "2023-06-24T18:09:09.304Z"
   },
   {
    "duration": 3,
    "start_time": "2023-06-24T18:09:09.329Z"
   },
   {
    "duration": 217,
    "start_time": "2023-06-24T18:09:09.334Z"
   },
   {
    "duration": 371,
    "start_time": "2023-06-24T18:09:09.553Z"
   },
   {
    "duration": 15,
    "start_time": "2023-06-24T18:09:09.925Z"
   },
   {
    "duration": 32,
    "start_time": "2023-06-24T18:09:09.942Z"
   },
   {
    "duration": 194,
    "start_time": "2023-06-24T18:09:09.975Z"
   },
   {
    "duration": 338,
    "start_time": "2023-06-24T18:09:10.170Z"
   },
   {
    "duration": 4,
    "start_time": "2023-06-24T18:09:10.512Z"
   },
   {
    "duration": 17,
    "start_time": "2023-06-24T18:09:10.518Z"
   },
   {
    "duration": 7,
    "start_time": "2023-06-24T18:09:10.537Z"
   },
   {
    "duration": 11,
    "start_time": "2023-06-24T18:09:10.546Z"
   },
   {
    "duration": 16,
    "start_time": "2023-06-24T18:09:10.559Z"
   },
   {
    "duration": 6,
    "start_time": "2023-06-24T18:09:10.577Z"
   },
   {
    "duration": 14,
    "start_time": "2023-06-24T18:09:10.584Z"
   },
   {
    "duration": 6,
    "start_time": "2023-06-24T18:09:10.599Z"
   },
   {
    "duration": 43,
    "start_time": "2023-06-24T18:09:10.606Z"
   },
   {
    "duration": 4,
    "start_time": "2023-06-24T18:09:10.651Z"
   },
   {
    "duration": 0,
    "start_time": "2023-06-24T18:09:10.656Z"
   },
   {
    "duration": 0,
    "start_time": "2023-06-24T18:09:10.657Z"
   },
   {
    "duration": 0,
    "start_time": "2023-06-24T18:09:10.658Z"
   },
   {
    "duration": 0,
    "start_time": "2023-06-24T18:09:10.659Z"
   },
   {
    "duration": 0,
    "start_time": "2023-06-24T18:09:10.659Z"
   },
   {
    "duration": 0,
    "start_time": "2023-06-24T18:09:10.661Z"
   },
   {
    "duration": 0,
    "start_time": "2023-06-24T18:09:10.662Z"
   },
   {
    "duration": 0,
    "start_time": "2023-06-24T18:09:10.663Z"
   },
   {
    "duration": 0,
    "start_time": "2023-06-24T18:09:10.664Z"
   },
   {
    "duration": 0,
    "start_time": "2023-06-24T18:09:10.666Z"
   },
   {
    "duration": 0,
    "start_time": "2023-06-24T18:09:10.757Z"
   },
   {
    "duration": 0,
    "start_time": "2023-06-24T18:09:10.758Z"
   },
   {
    "duration": 0,
    "start_time": "2023-06-24T18:09:10.759Z"
   },
   {
    "duration": 0,
    "start_time": "2023-06-24T18:09:10.760Z"
   },
   {
    "duration": 0,
    "start_time": "2023-06-24T18:09:10.761Z"
   },
   {
    "duration": 0,
    "start_time": "2023-06-24T18:09:10.762Z"
   },
   {
    "duration": 0,
    "start_time": "2023-06-24T18:09:10.763Z"
   },
   {
    "duration": 21,
    "start_time": "2023-06-24T18:09:13.311Z"
   },
   {
    "duration": 22,
    "start_time": "2023-06-24T18:09:28.310Z"
   },
   {
    "duration": 4,
    "start_time": "2023-06-24T18:10:11.533Z"
   },
   {
    "duration": 717,
    "start_time": "2023-06-24T18:13:47.154Z"
   },
   {
    "duration": 77,
    "start_time": "2023-06-24T18:14:20.618Z"
   },
   {
    "duration": 542,
    "start_time": "2023-06-24T18:14:24.337Z"
   },
   {
    "duration": 179,
    "start_time": "2023-06-24T18:16:23.086Z"
   },
   {
    "duration": 4,
    "start_time": "2023-06-24T18:16:44.160Z"
   },
   {
    "duration": 110,
    "start_time": "2023-06-24T18:16:52.254Z"
   },
   {
    "duration": 0,
    "start_time": "2023-06-24T18:16:52.366Z"
   },
   {
    "duration": 195,
    "start_time": "2023-06-24T18:17:02.665Z"
   },
   {
    "duration": 193,
    "start_time": "2023-06-24T18:17:10.038Z"
   },
   {
    "duration": 77,
    "start_time": "2023-06-24T18:18:40.854Z"
   },
   {
    "duration": 68,
    "start_time": "2023-06-24T18:21:52.453Z"
   },
   {
    "duration": 2,
    "start_time": "2023-06-24T18:28:21.608Z"
   },
   {
    "duration": 2,
    "start_time": "2023-06-24T18:28:22.462Z"
   },
   {
    "duration": 2,
    "start_time": "2023-06-24T18:28:22.511Z"
   },
   {
    "duration": 19,
    "start_time": "2023-06-24T18:28:55.123Z"
   },
   {
    "duration": 5,
    "start_time": "2023-06-24T18:28:56.111Z"
   },
   {
    "duration": 4,
    "start_time": "2023-06-24T18:29:06.184Z"
   },
   {
    "duration": 3,
    "start_time": "2023-06-24T18:29:36.350Z"
   },
   {
    "duration": 48,
    "start_time": "2023-06-24T18:31:33.476Z"
   },
   {
    "duration": 24,
    "start_time": "2023-06-24T18:31:33.526Z"
   },
   {
    "duration": 44,
    "start_time": "2023-06-24T18:32:18.749Z"
   },
   {
    "duration": 20,
    "start_time": "2023-06-24T18:32:20.033Z"
   },
   {
    "duration": 21,
    "start_time": "2023-06-24T18:32:20.926Z"
   },
   {
    "duration": 20,
    "start_time": "2023-06-24T18:32:21.740Z"
   },
   {
    "duration": 3,
    "start_time": "2023-06-24T18:32:22.808Z"
   },
   {
    "duration": 3,
    "start_time": "2023-06-24T18:32:24.691Z"
   },
   {
    "duration": 8,
    "start_time": "2023-06-24T18:33:23.204Z"
   },
   {
    "duration": 60,
    "start_time": "2023-06-24T18:33:53.363Z"
   },
   {
    "duration": 24,
    "start_time": "2023-06-24T18:34:52.471Z"
   },
   {
    "duration": 4,
    "start_time": "2023-06-24T18:34:55.900Z"
   },
   {
    "duration": 4,
    "start_time": "2023-06-24T18:34:57.076Z"
   },
   {
    "duration": 1260,
    "start_time": "2023-06-24T18:36:25.379Z"
   },
   {
    "duration": 713,
    "start_time": "2023-06-24T18:36:26.641Z"
   },
   {
    "duration": 108,
    "start_time": "2023-06-24T18:36:27.355Z"
   },
   {
    "duration": 14,
    "start_time": "2023-06-24T18:36:27.465Z"
   },
   {
    "duration": 19,
    "start_time": "2023-06-24T18:36:27.481Z"
   },
   {
    "duration": 6,
    "start_time": "2023-06-24T18:36:27.502Z"
   },
   {
    "duration": 25,
    "start_time": "2023-06-24T18:36:27.510Z"
   },
   {
    "duration": 90,
    "start_time": "2023-06-24T18:36:27.537Z"
   },
   {
    "duration": 81,
    "start_time": "2023-06-24T18:36:27.629Z"
   },
   {
    "duration": 121,
    "start_time": "2023-06-24T18:36:27.711Z"
   },
   {
    "duration": 2,
    "start_time": "2023-06-24T18:36:27.834Z"
   },
   {
    "duration": 6,
    "start_time": "2023-06-24T18:36:27.838Z"
   },
   {
    "duration": 9,
    "start_time": "2023-06-24T18:36:27.845Z"
   },
   {
    "duration": 5,
    "start_time": "2023-06-24T18:36:27.857Z"
   },
   {
    "duration": 4,
    "start_time": "2023-06-24T18:36:27.863Z"
   },
   {
    "duration": 39,
    "start_time": "2023-06-24T18:36:27.868Z"
   },
   {
    "duration": 2,
    "start_time": "2023-06-24T18:36:27.908Z"
   },
   {
    "duration": 27,
    "start_time": "2023-06-24T18:36:27.912Z"
   },
   {
    "duration": 2,
    "start_time": "2023-06-24T18:36:27.941Z"
   },
   {
    "duration": 10,
    "start_time": "2023-06-24T18:36:27.944Z"
   },
   {
    "duration": 23,
    "start_time": "2023-06-24T18:36:27.956Z"
   },
   {
    "duration": 2,
    "start_time": "2023-06-24T18:36:27.981Z"
   },
   {
    "duration": 222,
    "start_time": "2023-06-24T18:36:27.984Z"
   },
   {
    "duration": 377,
    "start_time": "2023-06-24T18:36:28.207Z"
   },
   {
    "duration": 14,
    "start_time": "2023-06-24T18:36:28.586Z"
   },
   {
    "duration": 30,
    "start_time": "2023-06-24T18:36:28.602Z"
   },
   {
    "duration": 189,
    "start_time": "2023-06-24T18:36:28.634Z"
   },
   {
    "duration": 329,
    "start_time": "2023-06-24T18:36:28.825Z"
   },
   {
    "duration": 4,
    "start_time": "2023-06-24T18:36:29.155Z"
   },
   {
    "duration": 13,
    "start_time": "2023-06-24T18:36:29.160Z"
   },
   {
    "duration": 9,
    "start_time": "2023-06-24T18:36:29.174Z"
   },
   {
    "duration": 8,
    "start_time": "2023-06-24T18:36:29.184Z"
   },
   {
    "duration": 9,
    "start_time": "2023-06-24T18:36:29.194Z"
   },
   {
    "duration": 5,
    "start_time": "2023-06-24T18:36:29.204Z"
   },
   {
    "duration": 7,
    "start_time": "2023-06-24T18:36:29.210Z"
   },
   {
    "duration": 5,
    "start_time": "2023-06-24T18:36:29.218Z"
   },
   {
    "duration": 119,
    "start_time": "2023-06-24T18:36:29.224Z"
   },
   {
    "duration": 24,
    "start_time": "2023-06-24T18:36:29.345Z"
   },
   {
    "duration": 35,
    "start_time": "2023-06-24T18:36:29.371Z"
   },
   {
    "duration": 26,
    "start_time": "2023-06-24T18:36:29.407Z"
   },
   {
    "duration": 23,
    "start_time": "2023-06-24T18:36:29.437Z"
   },
   {
    "duration": 15,
    "start_time": "2023-06-24T18:36:29.461Z"
   },
   {
    "duration": 27,
    "start_time": "2023-06-24T18:36:29.477Z"
   },
   {
    "duration": 6,
    "start_time": "2023-06-24T18:36:29.506Z"
   },
   {
    "duration": 62,
    "start_time": "2023-06-24T18:36:29.513Z"
   },
   {
    "duration": 116,
    "start_time": "2023-06-24T18:36:29.577Z"
   },
   {
    "duration": 0,
    "start_time": "2023-06-24T18:36:29.695Z"
   },
   {
    "duration": 0,
    "start_time": "2023-06-24T18:36:29.696Z"
   },
   {
    "duration": 0,
    "start_time": "2023-06-24T18:36:29.698Z"
   },
   {
    "duration": 0,
    "start_time": "2023-06-24T18:36:29.699Z"
   },
   {
    "duration": 10,
    "start_time": "2023-06-24T18:37:44.902Z"
   },
   {
    "duration": 10,
    "start_time": "2023-06-24T18:37:53.340Z"
   },
   {
    "duration": 8,
    "start_time": "2023-06-24T18:38:05.814Z"
   },
   {
    "duration": 14,
    "start_time": "2023-06-24T18:38:05.865Z"
   },
   {
    "duration": 8,
    "start_time": "2023-06-24T18:38:22.557Z"
   },
   {
    "duration": 11,
    "start_time": "2023-06-24T18:38:33.708Z"
   },
   {
    "duration": 12,
    "start_time": "2023-06-24T18:38:55.158Z"
   },
   {
    "duration": 1061,
    "start_time": "2023-06-24T18:38:58.025Z"
   },
   {
    "duration": 0,
    "start_time": "2023-06-24T18:38:59.088Z"
   },
   {
    "duration": 1238,
    "start_time": "2023-06-24T18:39:07.710Z"
   },
   {
    "duration": 700,
    "start_time": "2023-06-24T18:39:08.950Z"
   },
   {
    "duration": 124,
    "start_time": "2023-06-24T18:39:09.653Z"
   },
   {
    "duration": 20,
    "start_time": "2023-06-24T18:39:09.779Z"
   },
   {
    "duration": 3,
    "start_time": "2023-06-24T18:39:09.801Z"
   },
   {
    "duration": 23,
    "start_time": "2023-06-24T18:39:09.805Z"
   },
   {
    "duration": 40,
    "start_time": "2023-06-24T18:39:09.829Z"
   },
   {
    "duration": 74,
    "start_time": "2023-06-24T18:39:09.870Z"
   },
   {
    "duration": 65,
    "start_time": "2023-06-24T18:39:09.946Z"
   },
   {
    "duration": 122,
    "start_time": "2023-06-24T18:39:10.013Z"
   },
   {
    "duration": 2,
    "start_time": "2023-06-24T18:39:10.137Z"
   },
   {
    "duration": 17,
    "start_time": "2023-06-24T18:39:10.140Z"
   },
   {
    "duration": 22,
    "start_time": "2023-06-24T18:39:10.158Z"
   },
   {
    "duration": 29,
    "start_time": "2023-06-24T18:39:10.181Z"
   },
   {
    "duration": 4,
    "start_time": "2023-06-24T18:39:10.212Z"
   },
   {
    "duration": 32,
    "start_time": "2023-06-24T18:39:10.217Z"
   },
   {
    "duration": 8,
    "start_time": "2023-06-24T18:39:10.251Z"
   },
   {
    "duration": 29,
    "start_time": "2023-06-24T18:39:10.260Z"
   },
   {
    "duration": 9,
    "start_time": "2023-06-24T18:39:10.290Z"
   },
   {
    "duration": 14,
    "start_time": "2023-06-24T18:39:10.300Z"
   },
   {
    "duration": 29,
    "start_time": "2023-06-24T18:39:10.315Z"
   },
   {
    "duration": 25,
    "start_time": "2023-06-24T18:39:10.346Z"
   },
   {
    "duration": 202,
    "start_time": "2023-06-24T18:39:10.372Z"
   },
   {
    "duration": 371,
    "start_time": "2023-06-24T18:39:10.575Z"
   },
   {
    "duration": 12,
    "start_time": "2023-06-24T18:39:10.947Z"
   },
   {
    "duration": 45,
    "start_time": "2023-06-24T18:39:10.960Z"
   },
   {
    "duration": 166,
    "start_time": "2023-06-24T18:39:11.008Z"
   },
   {
    "duration": 331,
    "start_time": "2023-06-24T18:39:11.176Z"
   },
   {
    "duration": 4,
    "start_time": "2023-06-24T18:39:11.509Z"
   },
   {
    "duration": 13,
    "start_time": "2023-06-24T18:39:11.514Z"
   },
   {
    "duration": 6,
    "start_time": "2023-06-24T18:39:11.528Z"
   },
   {
    "duration": 28,
    "start_time": "2023-06-24T18:39:11.535Z"
   },
   {
    "duration": 5,
    "start_time": "2023-06-24T18:39:11.564Z"
   },
   {
    "duration": 12,
    "start_time": "2023-06-24T18:39:11.571Z"
   },
   {
    "duration": 5,
    "start_time": "2023-06-24T18:39:11.585Z"
   },
   {
    "duration": 11,
    "start_time": "2023-06-24T18:39:11.591Z"
   },
   {
    "duration": 53,
    "start_time": "2023-06-24T18:39:11.603Z"
   },
   {
    "duration": 25,
    "start_time": "2023-06-24T18:39:11.657Z"
   },
   {
    "duration": 28,
    "start_time": "2023-06-24T18:39:11.683Z"
   },
   {
    "duration": 25,
    "start_time": "2023-06-24T18:39:11.712Z"
   },
   {
    "duration": 16,
    "start_time": "2023-06-24T18:39:11.739Z"
   },
   {
    "duration": 1205,
    "start_time": "2023-06-24T18:39:11.757Z"
   },
   {
    "duration": 0,
    "start_time": "2023-06-24T18:39:12.964Z"
   },
   {
    "duration": 0,
    "start_time": "2023-06-24T18:39:12.965Z"
   },
   {
    "duration": 0,
    "start_time": "2023-06-24T18:39:12.966Z"
   },
   {
    "duration": 0,
    "start_time": "2023-06-24T18:39:12.966Z"
   },
   {
    "duration": 0,
    "start_time": "2023-06-24T18:39:12.967Z"
   },
   {
    "duration": 0,
    "start_time": "2023-06-24T18:39:12.968Z"
   },
   {
    "duration": 0,
    "start_time": "2023-06-24T18:39:12.968Z"
   },
   {
    "duration": 0,
    "start_time": "2023-06-24T18:39:12.969Z"
   },
   {
    "duration": 1086,
    "start_time": "2023-06-24T18:39:28.632Z"
   },
   {
    "duration": 946,
    "start_time": "2023-06-24T18:40:13.266Z"
   },
   {
    "duration": 10,
    "start_time": "2023-06-24T18:41:44.924Z"
   },
   {
    "duration": 1274,
    "start_time": "2023-06-24T18:41:54.907Z"
   },
   {
    "duration": 711,
    "start_time": "2023-06-24T18:41:56.183Z"
   },
   {
    "duration": 124,
    "start_time": "2023-06-24T18:41:56.896Z"
   },
   {
    "duration": 17,
    "start_time": "2023-06-24T18:41:57.022Z"
   },
   {
    "duration": 11,
    "start_time": "2023-06-24T18:41:57.041Z"
   },
   {
    "duration": 24,
    "start_time": "2023-06-24T18:41:57.053Z"
   },
   {
    "duration": 44,
    "start_time": "2023-06-24T18:41:57.079Z"
   },
   {
    "duration": 112,
    "start_time": "2023-06-24T18:41:57.125Z"
   },
   {
    "duration": 84,
    "start_time": "2023-06-24T18:41:57.240Z"
   },
   {
    "duration": 133,
    "start_time": "2023-06-24T18:41:57.327Z"
   },
   {
    "duration": 2,
    "start_time": "2023-06-24T18:41:57.462Z"
   },
   {
    "duration": 9,
    "start_time": "2023-06-24T18:41:57.467Z"
   },
   {
    "duration": 24,
    "start_time": "2023-06-24T18:41:57.477Z"
   },
   {
    "duration": 10,
    "start_time": "2023-06-24T18:41:57.504Z"
   },
   {
    "duration": 14,
    "start_time": "2023-06-24T18:41:57.516Z"
   },
   {
    "duration": 37,
    "start_time": "2023-06-24T18:41:57.532Z"
   },
   {
    "duration": 3,
    "start_time": "2023-06-24T18:41:57.571Z"
   },
   {
    "duration": 46,
    "start_time": "2023-06-24T18:41:57.575Z"
   },
   {
    "duration": 2,
    "start_time": "2023-06-24T18:41:57.623Z"
   },
   {
    "duration": 5,
    "start_time": "2023-06-24T18:41:57.627Z"
   },
   {
    "duration": 28,
    "start_time": "2023-06-24T18:41:57.634Z"
   },
   {
    "duration": 3,
    "start_time": "2023-06-24T18:41:57.663Z"
   },
   {
    "duration": 272,
    "start_time": "2023-06-24T18:41:57.667Z"
   },
   {
    "duration": 414,
    "start_time": "2023-06-24T18:41:57.940Z"
   },
   {
    "duration": 12,
    "start_time": "2023-06-24T18:41:58.355Z"
   },
   {
    "duration": 53,
    "start_time": "2023-06-24T18:41:58.369Z"
   },
   {
    "duration": 168,
    "start_time": "2023-06-24T18:41:58.423Z"
   },
   {
    "duration": 386,
    "start_time": "2023-06-24T18:41:58.593Z"
   },
   {
    "duration": 5,
    "start_time": "2023-06-24T18:41:58.981Z"
   },
   {
    "duration": 15,
    "start_time": "2023-06-24T18:41:58.987Z"
   },
   {
    "duration": 11,
    "start_time": "2023-06-24T18:41:59.004Z"
   },
   {
    "duration": 23,
    "start_time": "2023-06-24T18:41:59.017Z"
   },
   {
    "duration": 8,
    "start_time": "2023-06-24T18:41:59.041Z"
   },
   {
    "duration": 5,
    "start_time": "2023-06-24T18:41:59.050Z"
   },
   {
    "duration": 5,
    "start_time": "2023-06-24T18:41:59.056Z"
   },
   {
    "duration": 4,
    "start_time": "2023-06-24T18:41:59.063Z"
   },
   {
    "duration": 114,
    "start_time": "2023-06-24T18:41:59.069Z"
   },
   {
    "duration": 31,
    "start_time": "2023-06-24T18:41:59.184Z"
   },
   {
    "duration": 22,
    "start_time": "2023-06-24T18:41:59.217Z"
   },
   {
    "duration": 28,
    "start_time": "2023-06-24T18:41:59.241Z"
   },
   {
    "duration": 35,
    "start_time": "2023-06-24T18:41:59.273Z"
   },
   {
    "duration": 117,
    "start_time": "2023-06-24T18:41:59.310Z"
   },
   {
    "duration": 0,
    "start_time": "2023-06-24T18:41:59.429Z"
   },
   {
    "duration": 0,
    "start_time": "2023-06-24T18:41:59.430Z"
   },
   {
    "duration": 0,
    "start_time": "2023-06-24T18:41:59.430Z"
   },
   {
    "duration": 0,
    "start_time": "2023-06-24T18:41:59.431Z"
   },
   {
    "duration": 0,
    "start_time": "2023-06-24T18:41:59.432Z"
   },
   {
    "duration": 0,
    "start_time": "2023-06-24T18:41:59.433Z"
   },
   {
    "duration": 0,
    "start_time": "2023-06-24T18:41:59.434Z"
   },
   {
    "duration": 0,
    "start_time": "2023-06-24T18:41:59.434Z"
   },
   {
    "duration": 0,
    "start_time": "2023-06-24T18:41:59.435Z"
   },
   {
    "duration": 6,
    "start_time": "2023-06-24T18:44:31.304Z"
   },
   {
    "duration": 5,
    "start_time": "2023-06-24T18:45:04.690Z"
   },
   {
    "duration": 6,
    "start_time": "2023-06-24T18:45:23.458Z"
   },
   {
    "duration": 5,
    "start_time": "2023-06-24T18:48:15.912Z"
   },
   {
    "duration": 6,
    "start_time": "2023-06-24T18:48:41.674Z"
   },
   {
    "duration": 0,
    "start_time": "2023-06-24T18:49:02.878Z"
   },
   {
    "duration": 0,
    "start_time": "2023-06-24T18:49:02.879Z"
   },
   {
    "duration": 0,
    "start_time": "2023-06-24T18:49:02.881Z"
   },
   {
    "duration": 0,
    "start_time": "2023-06-24T18:49:02.882Z"
   },
   {
    "duration": 0,
    "start_time": "2023-06-24T18:49:02.883Z"
   },
   {
    "duration": 0,
    "start_time": "2023-06-24T18:49:02.884Z"
   },
   {
    "duration": 0,
    "start_time": "2023-06-24T18:49:02.885Z"
   },
   {
    "duration": 0,
    "start_time": "2023-06-24T18:49:02.887Z"
   },
   {
    "duration": 0,
    "start_time": "2023-06-24T18:49:02.888Z"
   },
   {
    "duration": 0,
    "start_time": "2023-06-24T18:49:02.889Z"
   },
   {
    "duration": 0,
    "start_time": "2023-06-24T18:49:02.891Z"
   },
   {
    "duration": 0,
    "start_time": "2023-06-24T18:49:02.892Z"
   },
   {
    "duration": 0,
    "start_time": "2023-06-24T18:49:02.894Z"
   },
   {
    "duration": 0,
    "start_time": "2023-06-24T18:49:02.895Z"
   },
   {
    "duration": 0,
    "start_time": "2023-06-24T18:49:02.896Z"
   },
   {
    "duration": 0,
    "start_time": "2023-06-24T18:49:02.898Z"
   },
   {
    "duration": 0,
    "start_time": "2023-06-24T18:49:02.899Z"
   },
   {
    "duration": 0,
    "start_time": "2023-06-24T18:49:02.900Z"
   },
   {
    "duration": 0,
    "start_time": "2023-06-24T18:49:02.902Z"
   },
   {
    "duration": 0,
    "start_time": "2023-06-24T18:49:02.903Z"
   },
   {
    "duration": 0,
    "start_time": "2023-06-24T18:49:02.904Z"
   },
   {
    "duration": 0,
    "start_time": "2023-06-24T18:49:02.905Z"
   },
   {
    "duration": 0,
    "start_time": "2023-06-24T18:49:02.906Z"
   },
   {
    "duration": 0,
    "start_time": "2023-06-24T18:49:02.907Z"
   },
   {
    "duration": 0,
    "start_time": "2023-06-24T18:49:02.908Z"
   },
   {
    "duration": 0,
    "start_time": "2023-06-24T18:49:02.909Z"
   },
   {
    "duration": 0,
    "start_time": "2023-06-24T18:49:02.910Z"
   },
   {
    "duration": 0,
    "start_time": "2023-06-24T18:49:02.911Z"
   },
   {
    "duration": 0,
    "start_time": "2023-06-24T18:49:02.912Z"
   },
   {
    "duration": 0,
    "start_time": "2023-06-24T18:49:02.914Z"
   },
   {
    "duration": 0,
    "start_time": "2023-06-24T18:49:02.914Z"
   },
   {
    "duration": 0,
    "start_time": "2023-06-24T18:49:02.916Z"
   },
   {
    "duration": 0,
    "start_time": "2023-06-24T18:49:02.917Z"
   },
   {
    "duration": 0,
    "start_time": "2023-06-24T18:49:02.918Z"
   },
   {
    "duration": 0,
    "start_time": "2023-06-24T18:49:02.919Z"
   },
   {
    "duration": 0,
    "start_time": "2023-06-24T18:49:02.921Z"
   },
   {
    "duration": 0,
    "start_time": "2023-06-24T18:49:02.922Z"
   },
   {
    "duration": 0,
    "start_time": "2023-06-24T18:49:02.923Z"
   },
   {
    "duration": 0,
    "start_time": "2023-06-24T18:49:02.925Z"
   },
   {
    "duration": 0,
    "start_time": "2023-06-24T18:49:02.926Z"
   },
   {
    "duration": 0,
    "start_time": "2023-06-24T18:49:02.927Z"
   },
   {
    "duration": 0,
    "start_time": "2023-06-24T18:49:02.928Z"
   },
   {
    "duration": 0,
    "start_time": "2023-06-24T18:49:02.929Z"
   },
   {
    "duration": 0,
    "start_time": "2023-06-24T18:49:02.929Z"
   },
   {
    "duration": 0,
    "start_time": "2023-06-24T18:49:02.930Z"
   },
   {
    "duration": 0,
    "start_time": "2023-06-24T18:49:02.931Z"
   },
   {
    "duration": 0,
    "start_time": "2023-06-24T18:49:02.932Z"
   },
   {
    "duration": 0,
    "start_time": "2023-06-24T18:49:02.933Z"
   },
   {
    "duration": 0,
    "start_time": "2023-06-24T18:49:02.934Z"
   },
   {
    "duration": 0,
    "start_time": "2023-06-24T18:49:02.934Z"
   },
   {
    "duration": 0,
    "start_time": "2023-06-24T18:49:02.935Z"
   },
   {
    "duration": 0,
    "start_time": "2023-06-24T18:49:02.936Z"
   },
   {
    "duration": 0,
    "start_time": "2023-06-24T18:49:02.937Z"
   },
   {
    "duration": 0,
    "start_time": "2023-06-24T18:49:02.937Z"
   },
   {
    "duration": 0,
    "start_time": "2023-06-24T18:49:03.000Z"
   },
   {
    "duration": 1215,
    "start_time": "2023-06-24T18:49:19.752Z"
   },
   {
    "duration": 714,
    "start_time": "2023-06-24T18:49:20.969Z"
   },
   {
    "duration": 120,
    "start_time": "2023-06-24T18:49:21.685Z"
   },
   {
    "duration": 14,
    "start_time": "2023-06-24T18:49:21.807Z"
   },
   {
    "duration": 4,
    "start_time": "2023-06-24T18:49:21.822Z"
   },
   {
    "duration": 12,
    "start_time": "2023-06-24T18:49:21.827Z"
   },
   {
    "duration": 32,
    "start_time": "2023-06-24T18:49:21.840Z"
   },
   {
    "duration": 86,
    "start_time": "2023-06-24T18:49:21.874Z"
   },
   {
    "duration": 78,
    "start_time": "2023-06-24T18:49:21.962Z"
   },
   {
    "duration": 124,
    "start_time": "2023-06-24T18:49:22.043Z"
   },
   {
    "duration": 3,
    "start_time": "2023-06-24T18:49:22.169Z"
   },
   {
    "duration": 20,
    "start_time": "2023-06-24T18:49:22.174Z"
   },
   {
    "duration": 25,
    "start_time": "2023-06-24T18:49:22.196Z"
   },
   {
    "duration": 22,
    "start_time": "2023-06-24T18:49:22.222Z"
   },
   {
    "duration": 20,
    "start_time": "2023-06-24T18:49:22.246Z"
   },
   {
    "duration": 46,
    "start_time": "2023-06-24T18:49:22.267Z"
   },
   {
    "duration": 52,
    "start_time": "2023-06-24T18:49:22.314Z"
   },
   {
    "duration": 18,
    "start_time": "2023-06-24T18:49:22.367Z"
   },
   {
    "duration": 6,
    "start_time": "2023-06-24T18:49:22.387Z"
   },
   {
    "duration": 32,
    "start_time": "2023-06-24T18:49:22.395Z"
   },
   {
    "duration": 2,
    "start_time": "2023-06-24T18:49:22.429Z"
   },
   {
    "duration": 21,
    "start_time": "2023-06-24T18:49:22.432Z"
   },
   {
    "duration": 45,
    "start_time": "2023-06-24T18:49:22.455Z"
   },
   {
    "duration": 4,
    "start_time": "2023-06-24T18:49:22.501Z"
   },
   {
    "duration": 214,
    "start_time": "2023-06-24T18:49:22.506Z"
   },
   {
    "duration": 377,
    "start_time": "2023-06-24T18:49:22.722Z"
   },
   {
    "duration": 12,
    "start_time": "2023-06-24T18:49:23.100Z"
   },
   {
    "duration": 45,
    "start_time": "2023-06-24T18:49:23.115Z"
   },
   {
    "duration": 193,
    "start_time": "2023-06-24T18:49:23.161Z"
   },
   {
    "duration": 356,
    "start_time": "2023-06-24T18:49:23.356Z"
   },
   {
    "duration": 4,
    "start_time": "2023-06-24T18:49:23.713Z"
   },
   {
    "duration": 16,
    "start_time": "2023-06-24T18:49:23.719Z"
   },
   {
    "duration": 19,
    "start_time": "2023-06-24T18:49:23.737Z"
   },
   {
    "duration": 15,
    "start_time": "2023-06-24T18:49:23.758Z"
   },
   {
    "duration": 10,
    "start_time": "2023-06-24T18:49:23.774Z"
   },
   {
    "duration": 10,
    "start_time": "2023-06-24T18:49:23.786Z"
   },
   {
    "duration": 18,
    "start_time": "2023-06-24T18:49:23.798Z"
   },
   {
    "duration": 11,
    "start_time": "2023-06-24T18:49:23.818Z"
   },
   {
    "duration": 12,
    "start_time": "2023-06-24T18:49:23.830Z"
   },
   {
    "duration": 112,
    "start_time": "2023-06-24T18:49:23.843Z"
   },
   {
    "duration": 22,
    "start_time": "2023-06-24T18:49:23.956Z"
   },
   {
    "duration": 21,
    "start_time": "2023-06-24T18:49:23.979Z"
   },
   {
    "duration": 23,
    "start_time": "2023-06-24T18:49:24.002Z"
   },
   {
    "duration": 23,
    "start_time": "2023-06-24T18:49:24.026Z"
   },
   {
    "duration": 22,
    "start_time": "2023-06-24T18:49:24.051Z"
   },
   {
    "duration": 29,
    "start_time": "2023-06-24T18:49:24.075Z"
   },
   {
    "duration": 1117,
    "start_time": "2023-06-24T18:49:24.105Z"
   },
   {
    "duration": 0,
    "start_time": "2023-06-24T18:49:25.224Z"
   },
   {
    "duration": 0,
    "start_time": "2023-06-24T18:49:25.225Z"
   },
   {
    "duration": 0,
    "start_time": "2023-06-24T18:49:25.227Z"
   },
   {
    "duration": 0,
    "start_time": "2023-06-24T18:49:25.228Z"
   },
   {
    "duration": 0,
    "start_time": "2023-06-24T18:49:25.229Z"
   },
   {
    "duration": 0,
    "start_time": "2023-06-24T18:49:25.230Z"
   },
   {
    "duration": 1,
    "start_time": "2023-06-24T18:49:25.231Z"
   },
   {
    "duration": 0,
    "start_time": "2023-06-24T18:49:25.233Z"
   },
   {
    "duration": 5,
    "start_time": "2023-06-24T18:50:21.693Z"
   },
   {
    "duration": 1197,
    "start_time": "2023-06-24T18:50:27.748Z"
   },
   {
    "duration": 710,
    "start_time": "2023-06-24T18:50:28.947Z"
   },
   {
    "duration": 122,
    "start_time": "2023-06-24T18:50:29.658Z"
   },
   {
    "duration": 26,
    "start_time": "2023-06-24T18:50:29.783Z"
   },
   {
    "duration": 3,
    "start_time": "2023-06-24T18:50:29.810Z"
   },
   {
    "duration": 14,
    "start_time": "2023-06-24T18:50:29.814Z"
   },
   {
    "duration": 27,
    "start_time": "2023-06-24T18:50:29.829Z"
   },
   {
    "duration": 83,
    "start_time": "2023-06-24T18:50:29.857Z"
   },
   {
    "duration": 70,
    "start_time": "2023-06-24T18:50:29.941Z"
   },
   {
    "duration": 124,
    "start_time": "2023-06-24T18:50:30.014Z"
   },
   {
    "duration": 2,
    "start_time": "2023-06-24T18:50:30.140Z"
   },
   {
    "duration": 26,
    "start_time": "2023-06-24T18:50:30.143Z"
   },
   {
    "duration": 25,
    "start_time": "2023-06-24T18:50:30.170Z"
   },
   {
    "duration": 17,
    "start_time": "2023-06-24T18:50:30.196Z"
   },
   {
    "duration": 16,
    "start_time": "2023-06-24T18:50:30.214Z"
   },
   {
    "duration": 33,
    "start_time": "2023-06-24T18:50:30.231Z"
   },
   {
    "duration": 55,
    "start_time": "2023-06-24T18:50:30.266Z"
   },
   {
    "duration": 17,
    "start_time": "2023-06-24T18:50:30.323Z"
   },
   {
    "duration": 25,
    "start_time": "2023-06-24T18:50:30.341Z"
   },
   {
    "duration": 37,
    "start_time": "2023-06-24T18:50:30.367Z"
   },
   {
    "duration": 28,
    "start_time": "2023-06-24T18:50:30.406Z"
   },
   {
    "duration": 37,
    "start_time": "2023-06-24T18:50:30.436Z"
   },
   {
    "duration": 62,
    "start_time": "2023-06-24T18:50:30.474Z"
   },
   {
    "duration": 34,
    "start_time": "2023-06-24T18:50:30.538Z"
   },
   {
    "duration": 240,
    "start_time": "2023-06-24T18:50:30.574Z"
   },
   {
    "duration": 380,
    "start_time": "2023-06-24T18:50:30.815Z"
   },
   {
    "duration": 13,
    "start_time": "2023-06-24T18:50:31.196Z"
   },
   {
    "duration": 38,
    "start_time": "2023-06-24T18:50:31.212Z"
   },
   {
    "duration": 183,
    "start_time": "2023-06-24T18:50:31.252Z"
   },
   {
    "duration": 354,
    "start_time": "2023-06-24T18:50:31.436Z"
   },
   {
    "duration": 4,
    "start_time": "2023-06-24T18:50:31.791Z"
   },
   {
    "duration": 29,
    "start_time": "2023-06-24T18:50:31.799Z"
   },
   {
    "duration": 35,
    "start_time": "2023-06-24T18:50:31.830Z"
   },
   {
    "duration": 39,
    "start_time": "2023-06-24T18:50:31.866Z"
   },
   {
    "duration": 30,
    "start_time": "2023-06-24T18:50:31.906Z"
   },
   {
    "duration": 37,
    "start_time": "2023-06-24T18:50:31.938Z"
   },
   {
    "duration": 16,
    "start_time": "2023-06-24T18:50:31.976Z"
   },
   {
    "duration": 31,
    "start_time": "2023-06-24T18:50:31.993Z"
   },
   {
    "duration": 22,
    "start_time": "2023-06-24T18:50:32.025Z"
   },
   {
    "duration": 126,
    "start_time": "2023-06-24T18:50:32.048Z"
   },
   {
    "duration": 27,
    "start_time": "2023-06-24T18:50:32.175Z"
   },
   {
    "duration": 8,
    "start_time": "2023-06-24T18:50:32.204Z"
   },
   {
    "duration": 30,
    "start_time": "2023-06-24T18:50:32.214Z"
   },
   {
    "duration": 35,
    "start_time": "2023-06-24T18:50:32.245Z"
   },
   {
    "duration": 9,
    "start_time": "2023-06-24T18:50:32.282Z"
   },
   {
    "duration": 12,
    "start_time": "2023-06-24T18:50:32.300Z"
   },
   {
    "duration": 7,
    "start_time": "2023-06-24T18:50:32.314Z"
   },
   {
    "duration": 1345,
    "start_time": "2023-06-24T18:50:32.323Z"
   },
   {
    "duration": 0,
    "start_time": "2023-06-24T18:50:33.670Z"
   },
   {
    "duration": 0,
    "start_time": "2023-06-24T18:50:33.671Z"
   },
   {
    "duration": 0,
    "start_time": "2023-06-24T18:50:33.672Z"
   },
   {
    "duration": 0,
    "start_time": "2023-06-24T18:50:33.673Z"
   },
   {
    "duration": 0,
    "start_time": "2023-06-24T18:50:33.674Z"
   },
   {
    "duration": 0,
    "start_time": "2023-06-24T18:50:33.675Z"
   },
   {
    "duration": 0,
    "start_time": "2023-06-24T18:50:33.676Z"
   },
   {
    "duration": 0,
    "start_time": "2023-06-24T18:50:33.677Z"
   },
   {
    "duration": 1092,
    "start_time": "2023-06-24T18:51:58.129Z"
   },
   {
    "duration": 0,
    "start_time": "2023-06-24T18:51:59.223Z"
   },
   {
    "duration": 1269,
    "start_time": "2023-06-24T18:52:37.210Z"
   },
   {
    "duration": 694,
    "start_time": "2023-06-24T18:52:38.480Z"
   },
   {
    "duration": 100,
    "start_time": "2023-06-24T18:52:39.175Z"
   },
   {
    "duration": 35,
    "start_time": "2023-06-24T18:52:39.277Z"
   },
   {
    "duration": 5,
    "start_time": "2023-06-24T18:52:39.313Z"
   },
   {
    "duration": 7,
    "start_time": "2023-06-24T18:52:39.319Z"
   },
   {
    "duration": 28,
    "start_time": "2023-06-24T18:52:39.328Z"
   },
   {
    "duration": 93,
    "start_time": "2023-06-24T18:52:39.358Z"
   },
   {
    "duration": 78,
    "start_time": "2023-06-24T18:52:39.452Z"
   },
   {
    "duration": 118,
    "start_time": "2023-06-24T18:52:39.533Z"
   },
   {
    "duration": 2,
    "start_time": "2023-06-24T18:52:39.652Z"
   },
   {
    "duration": 5,
    "start_time": "2023-06-24T18:52:39.656Z"
   },
   {
    "duration": 6,
    "start_time": "2023-06-24T18:52:39.662Z"
   },
   {
    "duration": 9,
    "start_time": "2023-06-24T18:52:39.669Z"
   },
   {
    "duration": 20,
    "start_time": "2023-06-24T18:52:39.680Z"
   },
   {
    "duration": 12,
    "start_time": "2023-06-24T18:52:39.701Z"
   },
   {
    "duration": 19,
    "start_time": "2023-06-24T18:52:39.714Z"
   },
   {
    "duration": 12,
    "start_time": "2023-06-24T18:52:39.735Z"
   },
   {
    "duration": 24,
    "start_time": "2023-06-24T18:52:39.749Z"
   },
   {
    "duration": 26,
    "start_time": "2023-06-24T18:52:39.775Z"
   },
   {
    "duration": 2,
    "start_time": "2023-06-24T18:52:39.803Z"
   },
   {
    "duration": 3,
    "start_time": "2023-06-24T18:52:39.807Z"
   },
   {
    "duration": 31,
    "start_time": "2023-06-24T18:52:39.812Z"
   },
   {
    "duration": 2,
    "start_time": "2023-06-24T18:52:39.844Z"
   },
   {
    "duration": 196,
    "start_time": "2023-06-24T18:52:39.848Z"
   },
   {
    "duration": 364,
    "start_time": "2023-06-24T18:52:40.046Z"
   },
   {
    "duration": 13,
    "start_time": "2023-06-24T18:52:40.411Z"
   },
   {
    "duration": 28,
    "start_time": "2023-06-24T18:52:40.428Z"
   },
   {
    "duration": 182,
    "start_time": "2023-06-24T18:52:40.457Z"
   },
   {
    "duration": 346,
    "start_time": "2023-06-24T18:52:40.640Z"
   },
   {
    "duration": 13,
    "start_time": "2023-06-24T18:52:40.987Z"
   },
   {
    "duration": 11,
    "start_time": "2023-06-24T18:52:41.002Z"
   },
   {
    "duration": 6,
    "start_time": "2023-06-24T18:52:41.014Z"
   },
   {
    "duration": 5,
    "start_time": "2023-06-24T18:52:41.021Z"
   },
   {
    "duration": 8,
    "start_time": "2023-06-24T18:52:41.027Z"
   },
   {
    "duration": 5,
    "start_time": "2023-06-24T18:52:41.036Z"
   },
   {
    "duration": 4,
    "start_time": "2023-06-24T18:52:41.042Z"
   },
   {
    "duration": 5,
    "start_time": "2023-06-24T18:52:41.047Z"
   },
   {
    "duration": 4,
    "start_time": "2023-06-24T18:52:41.053Z"
   },
   {
    "duration": 128,
    "start_time": "2023-06-24T18:52:41.059Z"
   },
   {
    "duration": 28,
    "start_time": "2023-06-24T18:52:41.189Z"
   },
   {
    "duration": 9,
    "start_time": "2023-06-24T18:52:41.218Z"
   },
   {
    "duration": 35,
    "start_time": "2023-06-24T18:52:41.229Z"
   },
   {
    "duration": 46,
    "start_time": "2023-06-24T18:52:41.266Z"
   },
   {
    "duration": 10,
    "start_time": "2023-06-24T18:52:41.313Z"
   },
   {
    "duration": 27,
    "start_time": "2023-06-24T18:52:41.324Z"
   },
   {
    "duration": 7,
    "start_time": "2023-06-24T18:52:41.353Z"
   },
   {
    "duration": 1014,
    "start_time": "2023-06-24T18:52:41.362Z"
   },
   {
    "duration": 0,
    "start_time": "2023-06-24T18:52:42.378Z"
   },
   {
    "duration": 0,
    "start_time": "2023-06-24T18:52:42.380Z"
   },
   {
    "duration": 0,
    "start_time": "2023-06-24T18:52:42.381Z"
   },
   {
    "duration": 0,
    "start_time": "2023-06-24T18:52:42.382Z"
   },
   {
    "duration": 0,
    "start_time": "2023-06-24T18:52:42.384Z"
   },
   {
    "duration": 0,
    "start_time": "2023-06-24T18:52:42.385Z"
   },
   {
    "duration": 0,
    "start_time": "2023-06-24T18:52:42.386Z"
   },
   {
    "duration": 0,
    "start_time": "2023-06-24T18:52:42.388Z"
   },
   {
    "duration": 58,
    "start_time": "2023-06-25T03:20:59.591Z"
   },
   {
    "duration": 63,
    "start_time": "2023-06-25T03:21:55.994Z"
   },
   {
    "duration": 13,
    "start_time": "2023-06-25T03:22:35.144Z"
   },
   {
    "duration": 12,
    "start_time": "2023-06-25T03:22:46.045Z"
   },
   {
    "duration": 1285,
    "start_time": "2023-06-25T03:22:52.578Z"
   },
   {
    "duration": 780,
    "start_time": "2023-06-25T03:22:53.864Z"
   },
   {
    "duration": 124,
    "start_time": "2023-06-25T03:22:54.645Z"
   },
   {
    "duration": 15,
    "start_time": "2023-06-25T03:22:54.772Z"
   },
   {
    "duration": 3,
    "start_time": "2023-06-25T03:22:54.799Z"
   },
   {
    "duration": 6,
    "start_time": "2023-06-25T03:22:54.804Z"
   },
   {
    "duration": 25,
    "start_time": "2023-06-25T03:22:54.812Z"
   },
   {
    "duration": 102,
    "start_time": "2023-06-25T03:22:54.838Z"
   },
   {
    "duration": 77,
    "start_time": "2023-06-25T03:22:54.941Z"
   },
   {
    "duration": 132,
    "start_time": "2023-06-25T03:22:55.020Z"
   },
   {
    "duration": 2,
    "start_time": "2023-06-25T03:22:55.154Z"
   },
   {
    "duration": 5,
    "start_time": "2023-06-25T03:22:55.158Z"
   },
   {
    "duration": 15,
    "start_time": "2023-06-25T03:22:55.165Z"
   },
   {
    "duration": 7,
    "start_time": "2023-06-25T03:22:55.181Z"
   },
   {
    "duration": 2,
    "start_time": "2023-06-25T03:22:55.200Z"
   },
   {
    "duration": 14,
    "start_time": "2023-06-25T03:22:55.204Z"
   },
   {
    "duration": 27,
    "start_time": "2023-06-25T03:22:55.219Z"
   },
   {
    "duration": 12,
    "start_time": "2023-06-25T03:22:55.248Z"
   },
   {
    "duration": 4,
    "start_time": "2023-06-25T03:22:55.262Z"
   },
   {
    "duration": 24,
    "start_time": "2023-06-25T03:22:55.300Z"
   },
   {
    "duration": 12,
    "start_time": "2023-06-25T03:22:55.325Z"
   },
   {
    "duration": 8,
    "start_time": "2023-06-25T03:22:55.340Z"
   },
   {
    "duration": 31,
    "start_time": "2023-06-25T03:22:55.350Z"
   },
   {
    "duration": 2,
    "start_time": "2023-06-25T03:22:55.382Z"
   },
   {
    "duration": 205,
    "start_time": "2023-06-25T03:22:55.400Z"
   },
   {
    "duration": 401,
    "start_time": "2023-06-25T03:22:55.606Z"
   },
   {
    "duration": 11,
    "start_time": "2023-06-25T03:22:56.009Z"
   },
   {
    "duration": 27,
    "start_time": "2023-06-25T03:22:56.023Z"
   },
   {
    "duration": 188,
    "start_time": "2023-06-25T03:22:56.051Z"
   },
   {
    "duration": 339,
    "start_time": "2023-06-25T03:22:56.241Z"
   },
   {
    "duration": 3,
    "start_time": "2023-06-25T03:22:56.582Z"
   },
   {
    "duration": 35,
    "start_time": "2023-06-25T03:22:56.587Z"
   },
   {
    "duration": 13,
    "start_time": "2023-06-25T03:22:56.624Z"
   },
   {
    "duration": 10,
    "start_time": "2023-06-25T03:22:56.638Z"
   },
   {
    "duration": 32,
    "start_time": "2023-06-25T03:22:56.649Z"
   },
   {
    "duration": 22,
    "start_time": "2023-06-25T03:22:56.683Z"
   },
   {
    "duration": 28,
    "start_time": "2023-06-25T03:22:56.706Z"
   },
   {
    "duration": 20,
    "start_time": "2023-06-25T03:22:56.736Z"
   },
   {
    "duration": 22,
    "start_time": "2023-06-25T03:22:56.757Z"
   },
   {
    "duration": 122,
    "start_time": "2023-06-25T03:22:56.781Z"
   },
   {
    "duration": 24,
    "start_time": "2023-06-25T03:22:56.904Z"
   },
   {
    "duration": 10,
    "start_time": "2023-06-25T03:22:56.930Z"
   },
   {
    "duration": 30,
    "start_time": "2023-06-25T03:22:56.941Z"
   },
   {
    "duration": 47,
    "start_time": "2023-06-25T03:22:56.972Z"
   },
   {
    "duration": 52,
    "start_time": "2023-06-25T03:22:57.020Z"
   },
   {
    "duration": 29,
    "start_time": "2023-06-25T03:22:57.073Z"
   },
   {
    "duration": 22,
    "start_time": "2023-06-25T03:22:57.103Z"
   },
   {
    "duration": 1101,
    "start_time": "2023-06-25T03:22:57.127Z"
   },
   {
    "duration": 0,
    "start_time": "2023-06-25T03:22:58.230Z"
   },
   {
    "duration": 0,
    "start_time": "2023-06-25T03:22:58.231Z"
   },
   {
    "duration": 0,
    "start_time": "2023-06-25T03:22:58.231Z"
   },
   {
    "duration": 0,
    "start_time": "2023-06-25T03:22:58.232Z"
   },
   {
    "duration": 0,
    "start_time": "2023-06-25T03:22:58.233Z"
   },
   {
    "duration": 0,
    "start_time": "2023-06-25T03:22:58.234Z"
   },
   {
    "duration": 0,
    "start_time": "2023-06-25T03:22:58.235Z"
   },
   {
    "duration": 0,
    "start_time": "2023-06-25T03:22:58.236Z"
   },
   {
    "duration": 0,
    "start_time": "2023-06-25T03:22:58.237Z"
   },
   {
    "duration": 5,
    "start_time": "2023-06-25T03:23:27.868Z"
   },
   {
    "duration": 1229,
    "start_time": "2023-06-25T03:24:29.936Z"
   },
   {
    "duration": 736,
    "start_time": "2023-06-25T03:24:31.167Z"
   },
   {
    "duration": 115,
    "start_time": "2023-06-25T03:24:31.904Z"
   },
   {
    "duration": 15,
    "start_time": "2023-06-25T03:24:32.020Z"
   },
   {
    "duration": 4,
    "start_time": "2023-06-25T03:24:32.037Z"
   },
   {
    "duration": 12,
    "start_time": "2023-06-25T03:24:32.042Z"
   },
   {
    "duration": 39,
    "start_time": "2023-06-25T03:24:32.056Z"
   },
   {
    "duration": 76,
    "start_time": "2023-06-25T03:24:32.096Z"
   },
   {
    "duration": 78,
    "start_time": "2023-06-25T03:24:32.174Z"
   },
   {
    "duration": 128,
    "start_time": "2023-06-25T03:24:32.254Z"
   },
   {
    "duration": 3,
    "start_time": "2023-06-25T03:24:32.384Z"
   },
   {
    "duration": 39,
    "start_time": "2023-06-25T03:24:32.389Z"
   },
   {
    "duration": 28,
    "start_time": "2023-06-25T03:24:32.429Z"
   },
   {
    "duration": 21,
    "start_time": "2023-06-25T03:24:32.461Z"
   },
   {
    "duration": 6,
    "start_time": "2023-06-25T03:24:32.484Z"
   },
   {
    "duration": 13,
    "start_time": "2023-06-25T03:24:32.491Z"
   },
   {
    "duration": 26,
    "start_time": "2023-06-25T03:24:32.505Z"
   },
   {
    "duration": 12,
    "start_time": "2023-06-25T03:24:32.532Z"
   },
   {
    "duration": 18,
    "start_time": "2023-06-25T03:24:32.545Z"
   },
   {
    "duration": 26,
    "start_time": "2023-06-25T03:24:32.564Z"
   },
   {
    "duration": 2,
    "start_time": "2023-06-25T03:24:32.591Z"
   },
   {
    "duration": 18,
    "start_time": "2023-06-25T03:24:32.595Z"
   },
   {
    "duration": 28,
    "start_time": "2023-06-25T03:24:32.615Z"
   },
   {
    "duration": 2,
    "start_time": "2023-06-25T03:24:32.645Z"
   },
   {
    "duration": 192,
    "start_time": "2023-06-25T03:24:32.649Z"
   },
   {
    "duration": 385,
    "start_time": "2023-06-25T03:24:32.843Z"
   },
   {
    "duration": 13,
    "start_time": "2023-06-25T03:24:33.230Z"
   },
   {
    "duration": 28,
    "start_time": "2023-06-25T03:24:33.245Z"
   },
   {
    "duration": 194,
    "start_time": "2023-06-25T03:24:33.274Z"
   },
   {
    "duration": 358,
    "start_time": "2023-06-25T03:24:33.470Z"
   },
   {
    "duration": 3,
    "start_time": "2023-06-25T03:24:33.830Z"
   },
   {
    "duration": 18,
    "start_time": "2023-06-25T03:24:33.835Z"
   },
   {
    "duration": 7,
    "start_time": "2023-06-25T03:24:33.855Z"
   },
   {
    "duration": 12,
    "start_time": "2023-06-25T03:24:33.863Z"
   },
   {
    "duration": 6,
    "start_time": "2023-06-25T03:24:33.876Z"
   },
   {
    "duration": 12,
    "start_time": "2023-06-25T03:24:33.883Z"
   },
   {
    "duration": 8,
    "start_time": "2023-06-25T03:24:33.896Z"
   },
   {
    "duration": 12,
    "start_time": "2023-06-25T03:24:33.905Z"
   },
   {
    "duration": 20,
    "start_time": "2023-06-25T03:24:33.918Z"
   },
   {
    "duration": 130,
    "start_time": "2023-06-25T03:24:33.940Z"
   },
   {
    "duration": 28,
    "start_time": "2023-06-25T03:24:34.074Z"
   },
   {
    "duration": 9,
    "start_time": "2023-06-25T03:24:34.104Z"
   },
   {
    "duration": 34,
    "start_time": "2023-06-25T03:24:34.115Z"
   },
   {
    "duration": 25,
    "start_time": "2023-06-25T03:24:34.151Z"
   },
   {
    "duration": 71,
    "start_time": "2023-06-25T03:24:34.177Z"
   },
   {
    "duration": 17,
    "start_time": "2023-06-25T03:24:34.250Z"
   },
   {
    "duration": 32,
    "start_time": "2023-06-25T03:24:34.269Z"
   },
   {
    "duration": 18,
    "start_time": "2023-06-25T03:24:34.303Z"
   },
   {
    "duration": 6,
    "start_time": "2023-06-25T03:24:34.322Z"
   },
   {
    "duration": 8,
    "start_time": "2023-06-25T03:24:34.330Z"
   },
   {
    "duration": 13,
    "start_time": "2023-06-25T03:24:34.339Z"
   },
   {
    "duration": 71,
    "start_time": "2023-06-25T03:24:34.354Z"
   },
   {
    "duration": 1223,
    "start_time": "2023-06-25T03:24:34.427Z"
   },
   {
    "duration": 0,
    "start_time": "2023-06-25T03:24:35.652Z"
   },
   {
    "duration": 0,
    "start_time": "2023-06-25T03:24:35.654Z"
   },
   {
    "duration": 0,
    "start_time": "2023-06-25T03:24:35.655Z"
   },
   {
    "duration": 0,
    "start_time": "2023-06-25T03:24:35.656Z"
   },
   {
    "duration": 52,
    "start_time": "2023-06-25T03:25:07.500Z"
   },
   {
    "duration": 1788,
    "start_time": "2023-06-25T12:42:41.891Z"
   },
   {
    "duration": 3305,
    "start_time": "2023-06-25T12:42:43.682Z"
   },
   {
    "duration": 138,
    "start_time": "2023-06-25T12:42:46.989Z"
   },
   {
    "duration": 19,
    "start_time": "2023-06-25T12:42:47.130Z"
   },
   {
    "duration": 4,
    "start_time": "2023-06-25T12:42:47.151Z"
   },
   {
    "duration": 25,
    "start_time": "2023-06-25T12:42:47.157Z"
   },
   {
    "duration": 47,
    "start_time": "2023-06-25T12:42:47.184Z"
   },
   {
    "duration": 98,
    "start_time": "2023-06-25T12:42:47.233Z"
   },
   {
    "duration": 86,
    "start_time": "2023-06-25T12:42:47.333Z"
   },
   {
    "duration": 168,
    "start_time": "2023-06-25T12:42:47.423Z"
   },
   {
    "duration": 3,
    "start_time": "2023-06-25T12:42:47.593Z"
   },
   {
    "duration": 33,
    "start_time": "2023-06-25T12:42:47.599Z"
   },
   {
    "duration": 19,
    "start_time": "2023-06-25T12:42:47.635Z"
   },
   {
    "duration": 75,
    "start_time": "2023-06-25T12:42:47.656Z"
   },
   {
    "duration": 38,
    "start_time": "2023-06-25T12:42:47.733Z"
   },
   {
    "duration": 37,
    "start_time": "2023-06-25T12:42:47.773Z"
   },
   {
    "duration": 18,
    "start_time": "2023-06-25T12:42:47.812Z"
   },
   {
    "duration": 26,
    "start_time": "2023-06-25T12:42:47.833Z"
   },
   {
    "duration": 16,
    "start_time": "2023-06-25T12:42:47.861Z"
   },
   {
    "duration": 10,
    "start_time": "2023-06-25T12:42:47.879Z"
   },
   {
    "duration": 36,
    "start_time": "2023-06-25T12:42:47.891Z"
   },
   {
    "duration": 9,
    "start_time": "2023-06-25T12:42:47.928Z"
   },
   {
    "duration": 304,
    "start_time": "2023-06-25T12:42:47.939Z"
   },
   {
    "duration": 540,
    "start_time": "2023-06-25T12:42:48.245Z"
   },
   {
    "duration": 16,
    "start_time": "2023-06-25T12:42:48.787Z"
   },
   {
    "duration": 42,
    "start_time": "2023-06-25T12:42:48.813Z"
   },
   {
    "duration": 9,
    "start_time": "2023-06-25T12:42:48.858Z"
   },
   {
    "duration": 17,
    "start_time": "2023-06-25T12:42:48.870Z"
   },
   {
    "duration": 5,
    "start_time": "2023-06-25T12:42:48.889Z"
   },
   {
    "duration": 7,
    "start_time": "2023-06-25T12:42:48.896Z"
   },
   {
    "duration": 25,
    "start_time": "2023-06-25T12:42:48.905Z"
   },
   {
    "duration": 16,
    "start_time": "2023-06-25T12:42:48.933Z"
   },
   {
    "duration": 23,
    "start_time": "2023-06-25T12:42:48.951Z"
   },
   {
    "duration": 16,
    "start_time": "2023-06-25T12:42:48.976Z"
   },
   {
    "duration": 85,
    "start_time": "2023-06-25T12:42:48.994Z"
   },
   {
    "duration": 48,
    "start_time": "2023-06-25T12:42:49.082Z"
   },
   {
    "duration": 29,
    "start_time": "2023-06-25T12:42:49.134Z"
   },
   {
    "duration": 44,
    "start_time": "2023-06-25T12:42:49.165Z"
   },
   {
    "duration": 23,
    "start_time": "2023-06-25T12:42:49.222Z"
   },
   {
    "duration": 84,
    "start_time": "2023-06-25T12:42:49.247Z"
   },
   {
    "duration": 14,
    "start_time": "2023-06-25T12:42:49.333Z"
   },
   {
    "duration": 12,
    "start_time": "2023-06-25T12:42:49.349Z"
   },
   {
    "duration": 18,
    "start_time": "2023-06-25T12:42:49.363Z"
   },
   {
    "duration": 19,
    "start_time": "2023-06-25T12:42:49.382Z"
   },
   {
    "duration": 72,
    "start_time": "2023-06-25T12:42:49.403Z"
   },
   {
    "duration": 1793,
    "start_time": "2023-06-25T12:42:49.477Z"
   },
   {
    "duration": 0,
    "start_time": "2023-06-25T12:42:51.272Z"
   },
   {
    "duration": 0,
    "start_time": "2023-06-25T12:42:51.273Z"
   },
   {
    "duration": 0,
    "start_time": "2023-06-25T12:42:51.275Z"
   },
   {
    "duration": 0,
    "start_time": "2023-06-25T12:42:51.276Z"
   },
   {
    "duration": 35,
    "start_time": "2023-06-25T12:43:56.353Z"
   },
   {
    "duration": 17,
    "start_time": "2023-06-25T12:43:57.673Z"
   },
   {
    "duration": 4,
    "start_time": "2023-06-25T12:44:22.939Z"
   },
   {
    "duration": 6,
    "start_time": "2023-06-25T12:44:33.643Z"
   },
   {
    "duration": 4,
    "start_time": "2023-06-25T12:44:41.500Z"
   },
   {
    "duration": 62,
    "start_time": "2023-06-25T12:44:49.429Z"
   },
   {
    "duration": 59,
    "start_time": "2023-06-25T12:44:56.940Z"
   },
   {
    "duration": 28,
    "start_time": "2023-06-25T12:45:09.439Z"
   },
   {
    "duration": 16,
    "start_time": "2023-06-25T12:45:13.227Z"
   },
   {
    "duration": 4,
    "start_time": "2023-06-25T12:48:56.032Z"
   },
   {
    "duration": 23,
    "start_time": "2023-06-25T12:49:07.747Z"
   },
   {
    "duration": 653,
    "start_time": "2023-06-25T12:49:33.385Z"
   },
   {
    "duration": 30,
    "start_time": "2023-06-25T12:49:35.449Z"
   },
   {
    "duration": 143,
    "start_time": "2023-06-25T12:50:27.780Z"
   },
   {
    "duration": 23,
    "start_time": "2023-06-25T12:50:28.668Z"
   },
   {
    "duration": 66,
    "start_time": "2023-06-25T12:51:17.654Z"
   },
   {
    "duration": 1622,
    "start_time": "2023-06-25T12:51:57.238Z"
   },
   {
    "duration": 962,
    "start_time": "2023-06-25T12:51:58.862Z"
   },
   {
    "duration": 189,
    "start_time": "2023-06-25T12:51:59.830Z"
   },
   {
    "duration": 39,
    "start_time": "2023-06-25T12:52:00.023Z"
   },
   {
    "duration": 26,
    "start_time": "2023-06-25T12:52:00.064Z"
   },
   {
    "duration": 55,
    "start_time": "2023-06-25T12:52:00.092Z"
   },
   {
    "duration": 52,
    "start_time": "2023-06-25T12:52:00.149Z"
   },
   {
    "duration": 170,
    "start_time": "2023-06-25T12:52:00.203Z"
   },
   {
    "duration": 99,
    "start_time": "2023-06-25T12:52:00.374Z"
   },
   {
    "duration": 222,
    "start_time": "2023-06-25T12:52:00.475Z"
   },
   {
    "duration": 3,
    "start_time": "2023-06-25T12:52:00.699Z"
   },
   {
    "duration": 52,
    "start_time": "2023-06-25T12:52:00.704Z"
   },
   {
    "duration": 169,
    "start_time": "2023-06-25T12:52:00.759Z"
   },
   {
    "duration": 50,
    "start_time": "2023-06-25T12:52:00.934Z"
   },
   {
    "duration": 49,
    "start_time": "2023-06-25T12:52:00.987Z"
   },
   {
    "duration": 108,
    "start_time": "2023-06-25T12:52:01.038Z"
   },
   {
    "duration": 34,
    "start_time": "2023-06-25T12:52:01.148Z"
   },
   {
    "duration": 71,
    "start_time": "2023-06-25T12:52:01.184Z"
   },
   {
    "duration": 65,
    "start_time": "2023-06-25T12:52:01.256Z"
   },
   {
    "duration": 99,
    "start_time": "2023-06-25T12:52:01.325Z"
   },
   {
    "duration": 60,
    "start_time": "2023-06-25T12:52:01.427Z"
   },
   {
    "duration": 40,
    "start_time": "2023-06-25T12:52:01.489Z"
   },
   {
    "duration": 312,
    "start_time": "2023-06-25T12:52:01.533Z"
   },
   {
    "duration": 509,
    "start_time": "2023-06-25T12:52:01.847Z"
   },
   {
    "duration": 16,
    "start_time": "2023-06-25T12:52:02.358Z"
   },
   {
    "duration": 62,
    "start_time": "2023-06-25T12:52:02.376Z"
   },
   {
    "duration": 6,
    "start_time": "2023-06-25T12:52:02.440Z"
   },
   {
    "duration": 37,
    "start_time": "2023-06-25T12:52:02.450Z"
   },
   {
    "duration": 40,
    "start_time": "2023-06-25T12:52:02.489Z"
   },
   {
    "duration": 26,
    "start_time": "2023-06-25T12:52:02.532Z"
   },
   {
    "duration": 21,
    "start_time": "2023-06-25T12:52:02.561Z"
   },
   {
    "duration": 38,
    "start_time": "2023-06-25T12:52:02.584Z"
   },
   {
    "duration": 25,
    "start_time": "2023-06-25T12:52:02.624Z"
   },
   {
    "duration": 20,
    "start_time": "2023-06-25T12:52:02.651Z"
   },
   {
    "duration": 95,
    "start_time": "2023-06-25T12:52:02.674Z"
   },
   {
    "duration": 34,
    "start_time": "2023-06-25T12:52:02.771Z"
   },
   {
    "duration": 34,
    "start_time": "2023-06-25T12:52:02.813Z"
   },
   {
    "duration": 34,
    "start_time": "2023-06-25T12:52:02.849Z"
   },
   {
    "duration": 38,
    "start_time": "2023-06-25T12:52:02.886Z"
   },
   {
    "duration": 85,
    "start_time": "2023-06-25T12:52:02.926Z"
   },
   {
    "duration": 65,
    "start_time": "2023-06-25T12:52:03.013Z"
   },
   {
    "duration": 13,
    "start_time": "2023-06-25T12:52:03.079Z"
   },
   {
    "duration": 35,
    "start_time": "2023-06-25T12:52:03.094Z"
   },
   {
    "duration": 54,
    "start_time": "2023-06-25T12:52:03.130Z"
   },
   {
    "duration": 84,
    "start_time": "2023-06-25T12:52:03.187Z"
   },
   {
    "duration": 85,
    "start_time": "2023-06-25T12:52:03.274Z"
   },
   {
    "duration": 750,
    "start_time": "2023-06-25T12:52:03.361Z"
   },
   {
    "duration": 44,
    "start_time": "2023-06-25T12:52:04.115Z"
   },
   {
    "duration": 156,
    "start_time": "2023-06-25T12:52:04.161Z"
   },
   {
    "duration": 232,
    "start_time": "2023-06-25T12:52:04.319Z"
   },
   {
    "duration": 162,
    "start_time": "2023-06-25T12:52:04.554Z"
   },
   {
    "duration": 0,
    "start_time": "2023-06-25T12:52:04.725Z"
   },
   {
    "duration": 27,
    "start_time": "2023-06-25T12:52:37.434Z"
   },
   {
    "duration": 30,
    "start_time": "2023-06-25T12:53:06.109Z"
   },
   {
    "duration": 6,
    "start_time": "2023-06-25T14:14:32.518Z"
   },
   {
    "duration": 11,
    "start_time": "2023-06-25T14:14:58.431Z"
   },
   {
    "duration": 15,
    "start_time": "2023-06-25T14:17:06.155Z"
   },
   {
    "duration": 182,
    "start_time": "2023-06-25T14:17:59.139Z"
   },
   {
    "duration": 55,
    "start_time": "2023-06-25T14:18:05.196Z"
   },
   {
    "duration": 1714,
    "start_time": "2023-06-25T16:11:09.822Z"
   },
   {
    "duration": 958,
    "start_time": "2023-06-25T16:11:11.539Z"
   },
   {
    "duration": 207,
    "start_time": "2023-06-25T16:11:12.500Z"
   },
   {
    "duration": 38,
    "start_time": "2023-06-25T16:11:12.714Z"
   },
   {
    "duration": 20,
    "start_time": "2023-06-25T16:11:12.757Z"
   },
   {
    "duration": 25,
    "start_time": "2023-06-25T16:11:12.778Z"
   },
   {
    "duration": 49,
    "start_time": "2023-06-25T16:11:12.805Z"
   },
   {
    "duration": 128,
    "start_time": "2023-06-25T16:11:12.856Z"
   },
   {
    "duration": 167,
    "start_time": "2023-06-25T16:11:12.986Z"
   },
   {
    "duration": 300,
    "start_time": "2023-06-25T16:11:13.155Z"
   },
   {
    "duration": 11,
    "start_time": "2023-06-25T16:11:13.463Z"
   },
   {
    "duration": 16,
    "start_time": "2023-06-25T16:11:13.476Z"
   },
   {
    "duration": 11,
    "start_time": "2023-06-25T16:11:13.494Z"
   },
   {
    "duration": 25,
    "start_time": "2023-06-25T16:11:13.509Z"
   },
   {
    "duration": 16,
    "start_time": "2023-06-25T16:11:13.538Z"
   },
   {
    "duration": 36,
    "start_time": "2023-06-25T16:11:13.556Z"
   },
   {
    "duration": 4,
    "start_time": "2023-06-25T16:11:13.594Z"
   },
   {
    "duration": 82,
    "start_time": "2023-06-25T16:11:13.599Z"
   },
   {
    "duration": 200,
    "start_time": "2023-06-25T16:11:13.688Z"
   },
   {
    "duration": 64,
    "start_time": "2023-06-25T16:11:13.890Z"
   },
   {
    "duration": 36,
    "start_time": "2023-06-25T16:11:13.959Z"
   },
   {
    "duration": 15,
    "start_time": "2023-06-25T16:11:13.998Z"
   },
   {
    "duration": 324,
    "start_time": "2023-06-25T16:11:14.015Z"
   },
   {
    "duration": 578,
    "start_time": "2023-06-25T16:11:14.341Z"
   },
   {
    "duration": 24,
    "start_time": "2023-06-25T16:11:14.929Z"
   },
   {
    "duration": 37,
    "start_time": "2023-06-25T16:11:14.958Z"
   },
   {
    "duration": 4,
    "start_time": "2023-06-25T16:11:14.997Z"
   },
   {
    "duration": 226,
    "start_time": "2023-06-25T16:11:15.003Z"
   },
   {
    "duration": 93,
    "start_time": "2023-06-25T16:11:15.231Z"
   },
   {
    "duration": 19,
    "start_time": "2023-06-25T16:11:15.329Z"
   },
   {
    "duration": 18,
    "start_time": "2023-06-25T16:11:15.351Z"
   },
   {
    "duration": 5,
    "start_time": "2023-06-25T16:11:15.372Z"
   },
   {
    "duration": 11,
    "start_time": "2023-06-25T16:11:15.379Z"
   },
   {
    "duration": 6,
    "start_time": "2023-06-25T16:11:15.393Z"
   },
   {
    "duration": 97,
    "start_time": "2023-06-25T16:11:15.401Z"
   },
   {
    "duration": 41,
    "start_time": "2023-06-25T16:11:15.500Z"
   },
   {
    "duration": 40,
    "start_time": "2023-06-25T16:11:15.545Z"
   },
   {
    "duration": 37,
    "start_time": "2023-06-25T16:11:15.587Z"
   },
   {
    "duration": 31,
    "start_time": "2023-06-25T16:11:15.626Z"
   },
   {
    "duration": 93,
    "start_time": "2023-06-25T16:11:15.661Z"
   },
   {
    "duration": 50,
    "start_time": "2023-06-25T16:11:15.760Z"
   },
   {
    "duration": 7,
    "start_time": "2023-06-25T16:11:15.812Z"
   },
   {
    "duration": 16,
    "start_time": "2023-06-25T16:11:15.842Z"
   },
   {
    "duration": 22,
    "start_time": "2023-06-25T16:11:15.864Z"
   },
   {
    "duration": 913,
    "start_time": "2023-06-25T16:11:15.889Z"
   },
   {
    "duration": 51,
    "start_time": "2023-06-25T16:11:16.805Z"
   },
   {
    "duration": 154,
    "start_time": "2023-06-25T16:11:16.858Z"
   },
   {
    "duration": 302,
    "start_time": "2023-06-25T16:11:17.024Z"
   },
   {
    "duration": 174,
    "start_time": "2023-06-25T16:11:17.332Z"
   },
   {
    "duration": 172,
    "start_time": "2023-06-25T16:11:17.509Z"
   },
   {
    "duration": 158,
    "start_time": "2023-06-25T16:12:00.411Z"
   },
   {
    "duration": 1979,
    "start_time": "2023-06-25T16:12:25.041Z"
   },
   {
    "duration": 1240,
    "start_time": "2023-06-25T16:12:27.026Z"
   },
   {
    "duration": 212,
    "start_time": "2023-06-25T16:12:28.267Z"
   },
   {
    "duration": 24,
    "start_time": "2023-06-25T16:12:28.481Z"
   },
   {
    "duration": 21,
    "start_time": "2023-06-25T16:12:28.508Z"
   },
   {
    "duration": 29,
    "start_time": "2023-06-25T16:12:28.534Z"
   },
   {
    "duration": 38,
    "start_time": "2023-06-25T16:12:28.568Z"
   },
   {
    "duration": 153,
    "start_time": "2023-06-25T16:12:28.609Z"
   },
   {
    "duration": 125,
    "start_time": "2023-06-25T16:12:28.769Z"
   },
   {
    "duration": 200,
    "start_time": "2023-06-25T16:12:28.896Z"
   },
   {
    "duration": 3,
    "start_time": "2023-06-25T16:12:29.099Z"
   },
   {
    "duration": 32,
    "start_time": "2023-06-25T16:12:29.104Z"
   },
   {
    "duration": 9,
    "start_time": "2023-06-25T16:12:29.138Z"
   },
   {
    "duration": 12,
    "start_time": "2023-06-25T16:12:29.153Z"
   },
   {
    "duration": 15,
    "start_time": "2023-06-25T16:12:29.167Z"
   },
   {
    "duration": 44,
    "start_time": "2023-06-25T16:12:29.184Z"
   },
   {
    "duration": 3,
    "start_time": "2023-06-25T16:12:29.231Z"
   },
   {
    "duration": 46,
    "start_time": "2023-06-25T16:12:29.237Z"
   },
   {
    "duration": 4,
    "start_time": "2023-06-25T16:12:29.286Z"
   },
   {
    "duration": 16,
    "start_time": "2023-06-25T16:12:29.292Z"
   },
   {
    "duration": 63,
    "start_time": "2023-06-25T16:12:29.312Z"
   },
   {
    "duration": 4,
    "start_time": "2023-06-25T16:12:29.379Z"
   },
   {
    "duration": 395,
    "start_time": "2023-06-25T16:12:29.386Z"
   },
   {
    "duration": 773,
    "start_time": "2023-06-25T16:12:29.783Z"
   },
   {
    "duration": 28,
    "start_time": "2023-06-25T16:12:30.559Z"
   },
   {
    "duration": 84,
    "start_time": "2023-06-25T16:12:30.596Z"
   },
   {
    "duration": 93,
    "start_time": "2023-06-25T16:12:30.682Z"
   },
   {
    "duration": 84,
    "start_time": "2023-06-25T16:12:30.777Z"
   },
   {
    "duration": 73,
    "start_time": "2023-06-25T16:12:30.864Z"
   },
   {
    "duration": 147,
    "start_time": "2023-06-25T16:12:30.940Z"
   },
   {
    "duration": 37,
    "start_time": "2023-06-25T16:12:31.090Z"
   },
   {
    "duration": 28,
    "start_time": "2023-06-25T16:12:31.131Z"
   },
   {
    "duration": 48,
    "start_time": "2023-06-25T16:12:31.163Z"
   },
   {
    "duration": 45,
    "start_time": "2023-06-25T16:12:31.220Z"
   },
   {
    "duration": 125,
    "start_time": "2023-06-25T16:12:31.267Z"
   },
   {
    "duration": 38,
    "start_time": "2023-06-25T16:12:31.394Z"
   },
   {
    "duration": 153,
    "start_time": "2023-06-25T16:12:31.436Z"
   },
   {
    "duration": 92,
    "start_time": "2023-06-25T16:12:31.591Z"
   },
   {
    "duration": 107,
    "start_time": "2023-06-25T16:12:31.686Z"
   },
   {
    "duration": 133,
    "start_time": "2023-06-25T16:12:31.796Z"
   },
   {
    "duration": 57,
    "start_time": "2023-06-25T16:12:31.939Z"
   },
   {
    "duration": 193,
    "start_time": "2023-06-25T16:12:32.000Z"
   },
   {
    "duration": 70,
    "start_time": "2023-06-25T16:12:32.195Z"
   },
   {
    "duration": 78,
    "start_time": "2023-06-25T16:12:32.268Z"
   },
   {
    "duration": 829,
    "start_time": "2023-06-25T16:12:32.348Z"
   },
   {
    "duration": 50,
    "start_time": "2023-06-25T16:12:33.182Z"
   },
   {
    "duration": 154,
    "start_time": "2023-06-25T16:12:33.237Z"
   },
   {
    "duration": 304,
    "start_time": "2023-06-25T16:12:33.395Z"
   },
   {
    "duration": 191,
    "start_time": "2023-06-25T16:12:33.705Z"
   },
   {
    "duration": 326,
    "start_time": "2023-06-25T16:12:33.899Z"
   },
   {
    "duration": 37,
    "start_time": "2023-06-25T16:15:30.318Z"
   },
   {
    "duration": 472,
    "start_time": "2023-06-25T16:16:38.695Z"
   },
   {
    "duration": 458,
    "start_time": "2023-06-25T16:16:42.090Z"
   },
   {
    "duration": 16,
    "start_time": "2023-06-25T16:19:01.441Z"
   },
   {
    "duration": 177,
    "start_time": "2023-06-25T16:19:09.095Z"
   },
   {
    "duration": 140,
    "start_time": "2023-06-25T16:19:22.953Z"
   },
   {
    "duration": 133,
    "start_time": "2023-06-25T16:19:28.447Z"
   },
   {
    "duration": 5,
    "start_time": "2023-06-25T16:19:59.551Z"
   },
   {
    "duration": 1950,
    "start_time": "2023-06-25T16:59:43.458Z"
   },
   {
    "duration": 1102,
    "start_time": "2023-06-25T16:59:45.411Z"
   },
   {
    "duration": 158,
    "start_time": "2023-06-25T16:59:46.516Z"
   },
   {
    "duration": 167,
    "start_time": "2023-06-25T16:59:46.678Z"
   },
   {
    "duration": 5,
    "start_time": "2023-06-25T16:59:46.847Z"
   },
   {
    "duration": 9,
    "start_time": "2023-06-25T16:59:46.853Z"
   },
   {
    "duration": 27,
    "start_time": "2023-06-25T16:59:46.864Z"
   },
   {
    "duration": 123,
    "start_time": "2023-06-25T16:59:46.893Z"
   },
   {
    "duration": 86,
    "start_time": "2023-06-25T16:59:47.019Z"
   },
   {
    "duration": 167,
    "start_time": "2023-06-25T16:59:47.121Z"
   },
   {
    "duration": 6,
    "start_time": "2023-06-25T16:59:47.293Z"
   },
   {
    "duration": 6,
    "start_time": "2023-06-25T16:59:47.302Z"
   },
   {
    "duration": 7,
    "start_time": "2023-06-25T16:59:47.316Z"
   },
   {
    "duration": 5,
    "start_time": "2023-06-25T16:59:47.326Z"
   },
   {
    "duration": 7,
    "start_time": "2023-06-25T16:59:47.334Z"
   },
   {
    "duration": 31,
    "start_time": "2023-06-25T16:59:47.344Z"
   },
   {
    "duration": 3,
    "start_time": "2023-06-25T16:59:47.378Z"
   },
   {
    "duration": 40,
    "start_time": "2023-06-25T16:59:47.384Z"
   },
   {
    "duration": 11,
    "start_time": "2023-06-25T16:59:47.430Z"
   },
   {
    "duration": 9,
    "start_time": "2023-06-25T16:59:47.445Z"
   },
   {
    "duration": 41,
    "start_time": "2023-06-25T16:59:47.456Z"
   },
   {
    "duration": 3,
    "start_time": "2023-06-25T16:59:47.500Z"
   },
   {
    "duration": 354,
    "start_time": "2023-06-25T16:59:47.505Z"
   },
   {
    "duration": 655,
    "start_time": "2023-06-25T16:59:47.865Z"
   },
   {
    "duration": 16,
    "start_time": "2023-06-25T16:59:48.521Z"
   },
   {
    "duration": 42,
    "start_time": "2023-06-25T16:59:48.539Z"
   },
   {
    "duration": 6,
    "start_time": "2023-06-25T16:59:48.583Z"
   },
   {
    "duration": 24,
    "start_time": "2023-06-25T16:59:48.612Z"
   },
   {
    "duration": 4,
    "start_time": "2023-06-25T16:59:48.644Z"
   },
   {
    "duration": 6,
    "start_time": "2023-06-25T16:59:48.650Z"
   },
   {
    "duration": 17,
    "start_time": "2023-06-25T16:59:48.659Z"
   },
   {
    "duration": 12,
    "start_time": "2023-06-25T16:59:48.678Z"
   },
   {
    "duration": 14,
    "start_time": "2023-06-25T16:59:48.692Z"
   },
   {
    "duration": 19,
    "start_time": "2023-06-25T16:59:48.708Z"
   },
   {
    "duration": 72,
    "start_time": "2023-06-25T16:59:48.730Z"
   },
   {
    "duration": 46,
    "start_time": "2023-06-25T16:59:48.804Z"
   },
   {
    "duration": 28,
    "start_time": "2023-06-25T16:59:48.852Z"
   },
   {
    "duration": 62,
    "start_time": "2023-06-25T16:59:48.882Z"
   },
   {
    "duration": 22,
    "start_time": "2023-06-25T16:59:48.946Z"
   },
   {
    "duration": 83,
    "start_time": "2023-06-25T16:59:48.971Z"
   },
   {
    "duration": 37,
    "start_time": "2023-06-25T16:59:49.056Z"
   },
   {
    "duration": 26,
    "start_time": "2023-06-25T16:59:49.095Z"
   },
   {
    "duration": 17,
    "start_time": "2023-06-25T16:59:49.130Z"
   },
   {
    "duration": 7,
    "start_time": "2023-06-25T16:59:49.150Z"
   },
   {
    "duration": 7,
    "start_time": "2023-06-25T16:59:49.159Z"
   },
   {
    "duration": 17,
    "start_time": "2023-06-25T16:59:49.168Z"
   },
   {
    "duration": 170,
    "start_time": "2023-06-25T16:59:49.187Z"
   },
   {
    "duration": 0,
    "start_time": "2023-06-25T16:59:49.360Z"
   },
   {
    "duration": 0,
    "start_time": "2023-06-25T16:59:49.361Z"
   },
   {
    "duration": 0,
    "start_time": "2023-06-25T16:59:49.363Z"
   },
   {
    "duration": 86,
    "start_time": "2023-06-25T17:00:15.344Z"
   },
   {
    "duration": 7,
    "start_time": "2023-06-25T17:00:17.043Z"
   },
   {
    "duration": 29,
    "start_time": "2023-06-25T17:00:19.066Z"
   },
   {
    "duration": 19,
    "start_time": "2023-06-25T17:00:20.329Z"
   },
   {
    "duration": 23,
    "start_time": "2023-06-25T17:02:43.690Z"
   },
   {
    "duration": 13,
    "start_time": "2023-06-25T17:04:09.989Z"
   },
   {
    "duration": 1262,
    "start_time": "2023-06-25T17:05:14.374Z"
   },
   {
    "duration": 4121,
    "start_time": "2023-06-25T17:05:31.222Z"
   },
   {
    "duration": 39,
    "start_time": "2023-06-25T17:06:00.297Z"
   },
   {
    "duration": 19,
    "start_time": "2023-06-25T17:06:23.693Z"
   },
   {
    "duration": 41,
    "start_time": "2023-06-25T17:06:28.760Z"
   },
   {
    "duration": 16,
    "start_time": "2023-06-25T17:06:52.266Z"
   },
   {
    "duration": 1637,
    "start_time": "2023-06-25T17:07:04.758Z"
   },
   {
    "duration": 991,
    "start_time": "2023-06-25T17:07:06.397Z"
   },
   {
    "duration": 150,
    "start_time": "2023-06-25T17:07:07.390Z"
   },
   {
    "duration": 26,
    "start_time": "2023-06-25T17:07:07.545Z"
   },
   {
    "duration": 5,
    "start_time": "2023-06-25T17:07:07.573Z"
   },
   {
    "duration": 19,
    "start_time": "2023-06-25T17:07:07.580Z"
   },
   {
    "duration": 47,
    "start_time": "2023-06-25T17:07:07.600Z"
   },
   {
    "duration": 105,
    "start_time": "2023-06-25T17:07:07.650Z"
   },
   {
    "duration": 92,
    "start_time": "2023-06-25T17:07:07.757Z"
   },
   {
    "duration": 149,
    "start_time": "2023-06-25T17:07:07.856Z"
   },
   {
    "duration": 6,
    "start_time": "2023-06-25T17:07:08.013Z"
   },
   {
    "duration": 6,
    "start_time": "2023-06-25T17:07:08.021Z"
   },
   {
    "duration": 7,
    "start_time": "2023-06-25T17:07:08.029Z"
   },
   {
    "duration": 14,
    "start_time": "2023-06-25T17:07:08.038Z"
   },
   {
    "duration": 6,
    "start_time": "2023-06-25T17:07:08.055Z"
   },
   {
    "duration": 31,
    "start_time": "2023-06-25T17:07:08.063Z"
   },
   {
    "duration": 8,
    "start_time": "2023-06-25T17:07:08.096Z"
   },
   {
    "duration": 55,
    "start_time": "2023-06-25T17:07:08.106Z"
   },
   {
    "duration": 2,
    "start_time": "2023-06-25T17:07:08.163Z"
   },
   {
    "duration": 12,
    "start_time": "2023-06-25T17:07:08.167Z"
   },
   {
    "duration": 42,
    "start_time": "2023-06-25T17:07:08.181Z"
   },
   {
    "duration": 6,
    "start_time": "2023-06-25T17:07:08.226Z"
   },
   {
    "duration": 324,
    "start_time": "2023-06-25T17:07:08.238Z"
   },
   {
    "duration": 535,
    "start_time": "2023-06-25T17:07:08.564Z"
   },
   {
    "duration": 29,
    "start_time": "2023-06-25T17:07:09.101Z"
   },
   {
    "duration": 42,
    "start_time": "2023-06-25T17:07:09.132Z"
   },
   {
    "duration": 5,
    "start_time": "2023-06-25T17:07:09.175Z"
   },
   {
    "duration": 2,
    "start_time": "2023-06-25T17:07:09.184Z"
   },
   {
    "duration": 7,
    "start_time": "2023-06-25T17:07:09.188Z"
   },
   {
    "duration": 45,
    "start_time": "2023-06-25T17:07:09.196Z"
   },
   {
    "duration": 8,
    "start_time": "2023-06-25T17:07:09.242Z"
   },
   {
    "duration": 3,
    "start_time": "2023-06-25T17:07:09.252Z"
   },
   {
    "duration": 5,
    "start_time": "2023-06-25T17:07:09.258Z"
   },
   {
    "duration": 6,
    "start_time": "2023-06-25T17:07:09.265Z"
   },
   {
    "duration": 90,
    "start_time": "2023-06-25T17:07:09.273Z"
   },
   {
    "duration": 47,
    "start_time": "2023-06-25T17:07:09.366Z"
   },
   {
    "duration": 47,
    "start_time": "2023-06-25T17:07:09.415Z"
   },
   {
    "duration": 27,
    "start_time": "2023-06-25T17:07:09.463Z"
   },
   {
    "duration": 34,
    "start_time": "2023-06-25T17:07:09.492Z"
   },
   {
    "duration": 72,
    "start_time": "2023-06-25T17:07:09.528Z"
   },
   {
    "duration": 67,
    "start_time": "2023-06-25T17:07:09.602Z"
   },
   {
    "duration": 7,
    "start_time": "2023-06-25T17:07:09.676Z"
   },
   {
    "duration": 5,
    "start_time": "2023-06-25T17:07:09.685Z"
   },
   {
    "duration": 17,
    "start_time": "2023-06-25T17:07:09.692Z"
   },
   {
    "duration": 9,
    "start_time": "2023-06-25T17:07:09.711Z"
   },
   {
    "duration": 3,
    "start_time": "2023-06-25T17:07:09.726Z"
   },
   {
    "duration": 112,
    "start_time": "2023-06-25T17:07:09.730Z"
   },
   {
    "duration": 5,
    "start_time": "2023-06-25T17:07:09.844Z"
   },
   {
    "duration": 26,
    "start_time": "2023-06-25T17:07:09.851Z"
   },
   {
    "duration": 19,
    "start_time": "2023-06-25T17:07:09.880Z"
   },
   {
    "duration": 4252,
    "start_time": "2023-06-25T17:07:09.919Z"
   },
   {
    "duration": 26,
    "start_time": "2023-06-25T17:07:14.172Z"
   },
   {
    "duration": 4,
    "start_time": "2023-06-25T17:08:26.393Z"
   },
   {
    "duration": 132,
    "start_time": "2023-06-25T17:10:04.105Z"
   },
   {
    "duration": 23,
    "start_time": "2023-06-25T17:10:32.452Z"
   },
   {
    "duration": 1806,
    "start_time": "2023-06-25T17:10:48.669Z"
   },
   {
    "duration": 1063,
    "start_time": "2023-06-25T17:10:50.479Z"
   },
   {
    "duration": 166,
    "start_time": "2023-06-25T17:10:51.545Z"
   },
   {
    "duration": 44,
    "start_time": "2023-06-25T17:10:51.719Z"
   },
   {
    "duration": 5,
    "start_time": "2023-06-25T17:10:51.766Z"
   },
   {
    "duration": 91,
    "start_time": "2023-06-25T17:10:51.773Z"
   },
   {
    "duration": 74,
    "start_time": "2023-06-25T17:10:51.866Z"
   },
   {
    "duration": 109,
    "start_time": "2023-06-25T17:10:51.942Z"
   },
   {
    "duration": 91,
    "start_time": "2023-06-25T17:10:52.054Z"
   },
   {
    "duration": 184,
    "start_time": "2023-06-25T17:10:52.154Z"
   },
   {
    "duration": 11,
    "start_time": "2023-06-25T17:10:52.348Z"
   },
   {
    "duration": 44,
    "start_time": "2023-06-25T17:10:52.363Z"
   },
   {
    "duration": 16,
    "start_time": "2023-06-25T17:10:52.409Z"
   },
   {
    "duration": 36,
    "start_time": "2023-06-25T17:10:52.429Z"
   },
   {
    "duration": 25,
    "start_time": "2023-06-25T17:10:52.467Z"
   },
   {
    "duration": 62,
    "start_time": "2023-06-25T17:10:52.494Z"
   },
   {
    "duration": 11,
    "start_time": "2023-06-25T17:10:52.558Z"
   },
   {
    "duration": 40,
    "start_time": "2023-06-25T17:10:52.571Z"
   },
   {
    "duration": 11,
    "start_time": "2023-06-25T17:10:52.612Z"
   },
   {
    "duration": 7,
    "start_time": "2023-06-25T17:10:52.627Z"
   },
   {
    "duration": 34,
    "start_time": "2023-06-25T17:10:52.636Z"
   },
   {
    "duration": 31,
    "start_time": "2023-06-25T17:10:52.672Z"
   },
   {
    "duration": 269,
    "start_time": "2023-06-25T17:10:52.705Z"
   },
   {
    "duration": 590,
    "start_time": "2023-06-25T17:10:52.976Z"
   },
   {
    "duration": 14,
    "start_time": "2023-06-25T17:10:53.569Z"
   },
   {
    "duration": 71,
    "start_time": "2023-06-25T17:10:53.585Z"
   },
   {
    "duration": 16,
    "start_time": "2023-06-25T17:10:53.664Z"
   },
   {
    "duration": 3,
    "start_time": "2023-06-25T17:10:53.681Z"
   },
   {
    "duration": 15,
    "start_time": "2023-06-25T17:10:53.686Z"
   },
   {
    "duration": 33,
    "start_time": "2023-06-25T17:10:53.703Z"
   },
   {
    "duration": 10,
    "start_time": "2023-06-25T17:10:53.747Z"
   },
   {
    "duration": 3,
    "start_time": "2023-06-25T17:10:53.763Z"
   },
   {
    "duration": 10,
    "start_time": "2023-06-25T17:10:53.769Z"
   },
   {
    "duration": 7,
    "start_time": "2023-06-25T17:10:53.781Z"
   },
   {
    "duration": 72,
    "start_time": "2023-06-25T17:10:53.790Z"
   },
   {
    "duration": 38,
    "start_time": "2023-06-25T17:10:53.865Z"
   },
   {
    "duration": 31,
    "start_time": "2023-06-25T17:10:53.904Z"
   },
   {
    "duration": 36,
    "start_time": "2023-06-25T17:10:53.937Z"
   },
   {
    "duration": 44,
    "start_time": "2023-06-25T17:10:53.978Z"
   },
   {
    "duration": 108,
    "start_time": "2023-06-25T17:10:54.028Z"
   },
   {
    "duration": 46,
    "start_time": "2023-06-25T17:10:54.145Z"
   },
   {
    "duration": 5,
    "start_time": "2023-06-25T17:10:54.193Z"
   },
   {
    "duration": 60,
    "start_time": "2023-06-25T17:10:54.200Z"
   },
   {
    "duration": 28,
    "start_time": "2023-06-25T17:10:54.262Z"
   },
   {
    "duration": 10,
    "start_time": "2023-06-25T17:10:54.293Z"
   },
   {
    "duration": 6,
    "start_time": "2023-06-25T17:10:54.305Z"
   },
   {
    "duration": 96,
    "start_time": "2023-06-25T17:10:54.316Z"
   },
   {
    "duration": 5,
    "start_time": "2023-06-25T17:10:54.421Z"
   },
   {
    "duration": 55,
    "start_time": "2023-06-25T17:10:54.428Z"
   },
   {
    "duration": 31,
    "start_time": "2023-06-25T17:10:54.485Z"
   },
   {
    "duration": 218,
    "start_time": "2023-06-25T17:10:54.519Z"
   },
   {
    "duration": 0,
    "start_time": "2023-06-25T17:10:54.743Z"
   },
   {
    "duration": 0,
    "start_time": "2023-06-25T17:10:54.747Z"
   },
   {
    "duration": 1605,
    "start_time": "2023-06-25T17:13:24.664Z"
   },
   {
    "duration": 1057,
    "start_time": "2023-06-25T17:13:26.272Z"
   },
   {
    "duration": 200,
    "start_time": "2023-06-25T17:13:27.337Z"
   },
   {
    "duration": 46,
    "start_time": "2023-06-25T17:13:27.544Z"
   },
   {
    "duration": 4,
    "start_time": "2023-06-25T17:13:27.593Z"
   },
   {
    "duration": 51,
    "start_time": "2023-06-25T17:13:27.599Z"
   },
   {
    "duration": 50,
    "start_time": "2023-06-25T17:13:27.652Z"
   },
   {
    "duration": 171,
    "start_time": "2023-06-25T17:13:27.705Z"
   },
   {
    "duration": 149,
    "start_time": "2023-06-25T17:13:27.879Z"
   },
   {
    "duration": 229,
    "start_time": "2023-06-25T17:13:28.034Z"
   },
   {
    "duration": 6,
    "start_time": "2023-06-25T17:13:28.266Z"
   },
   {
    "duration": 6,
    "start_time": "2023-06-25T17:13:28.277Z"
   },
   {
    "duration": 20,
    "start_time": "2023-06-25T17:13:28.285Z"
   },
   {
    "duration": 7,
    "start_time": "2023-06-25T17:13:28.310Z"
   },
   {
    "duration": 13,
    "start_time": "2023-06-25T17:13:28.320Z"
   },
   {
    "duration": 44,
    "start_time": "2023-06-25T17:13:28.337Z"
   },
   {
    "duration": 3,
    "start_time": "2023-06-25T17:13:28.384Z"
   },
   {
    "duration": 54,
    "start_time": "2023-06-25T17:13:28.389Z"
   },
   {
    "duration": 6,
    "start_time": "2023-06-25T17:13:28.448Z"
   },
   {
    "duration": 20,
    "start_time": "2023-06-25T17:13:28.459Z"
   },
   {
    "duration": 30,
    "start_time": "2023-06-25T17:13:28.481Z"
   },
   {
    "duration": 35,
    "start_time": "2023-06-25T17:13:28.513Z"
   },
   {
    "duration": 386,
    "start_time": "2023-06-25T17:13:28.558Z"
   },
   {
    "duration": 673,
    "start_time": "2023-06-25T17:13:28.946Z"
   },
   {
    "duration": 22,
    "start_time": "2023-06-25T17:13:29.621Z"
   },
   {
    "duration": 47,
    "start_time": "2023-06-25T17:13:29.645Z"
   },
   {
    "duration": 5,
    "start_time": "2023-06-25T17:13:29.695Z"
   },
   {
    "duration": 61,
    "start_time": "2023-06-25T17:13:29.702Z"
   },
   {
    "duration": 17,
    "start_time": "2023-06-25T17:13:29.765Z"
   },
   {
    "duration": 27,
    "start_time": "2023-06-25T17:13:29.785Z"
   },
   {
    "duration": 21,
    "start_time": "2023-06-25T17:13:29.814Z"
   },
   {
    "duration": 35,
    "start_time": "2023-06-25T17:13:29.837Z"
   },
   {
    "duration": 13,
    "start_time": "2023-06-25T17:13:29.875Z"
   },
   {
    "duration": 21,
    "start_time": "2023-06-25T17:13:29.891Z"
   },
   {
    "duration": 142,
    "start_time": "2023-06-25T17:13:29.914Z"
   },
   {
    "duration": 46,
    "start_time": "2023-06-25T17:13:30.058Z"
   },
   {
    "duration": 83,
    "start_time": "2023-06-25T17:13:30.107Z"
   },
   {
    "duration": 49,
    "start_time": "2023-06-25T17:13:30.193Z"
   },
   {
    "duration": 60,
    "start_time": "2023-06-25T17:13:30.246Z"
   },
   {
    "duration": 162,
    "start_time": "2023-06-25T17:13:30.309Z"
   },
   {
    "duration": 107,
    "start_time": "2023-06-25T17:13:30.516Z"
   },
   {
    "duration": 272,
    "start_time": "2023-06-25T17:13:30.625Z"
   },
   {
    "duration": 195,
    "start_time": "2023-06-25T17:13:30.899Z"
   },
   {
    "duration": 28,
    "start_time": "2023-06-25T17:13:31.096Z"
   },
   {
    "duration": 38,
    "start_time": "2023-06-25T17:13:31.127Z"
   },
   {
    "duration": 61,
    "start_time": "2023-06-25T17:13:31.167Z"
   },
   {
    "duration": 169,
    "start_time": "2023-06-25T17:13:31.238Z"
   },
   {
    "duration": 182,
    "start_time": "2023-06-25T17:13:31.409Z"
   },
   {
    "duration": 616,
    "start_time": "2023-06-25T17:13:31.594Z"
   },
   {
    "duration": 172,
    "start_time": "2023-06-25T17:13:32.212Z"
   },
   {
    "duration": 25,
    "start_time": "2023-06-25T17:13:32.386Z"
   },
   {
    "duration": 41,
    "start_time": "2023-06-25T17:13:32.423Z"
   },
   {
    "duration": 164,
    "start_time": "2023-06-25T17:13:32.466Z"
   },
   {
    "duration": 0,
    "start_time": "2023-06-25T17:13:32.632Z"
   },
   {
    "duration": 0,
    "start_time": "2023-06-25T17:13:32.633Z"
   },
   {
    "duration": 25,
    "start_time": "2023-06-25T17:14:03.709Z"
   },
   {
    "duration": 28,
    "start_time": "2023-06-25T17:14:10.002Z"
   },
   {
    "duration": 1244,
    "start_time": "2023-06-25T17:17:48.372Z"
   },
   {
    "duration": 3711,
    "start_time": "2023-06-25T17:18:03.194Z"
   },
   {
    "duration": 35,
    "start_time": "2023-06-25T17:18:21.613Z"
   },
   {
    "duration": 6,
    "start_time": "2023-06-25T17:18:35.311Z"
   },
   {
    "duration": 1512,
    "start_time": "2023-06-25T17:22:23.662Z"
   },
   {
    "duration": 1087,
    "start_time": "2023-06-25T17:22:25.177Z"
   },
   {
    "duration": 151,
    "start_time": "2023-06-25T17:22:26.274Z"
   },
   {
    "duration": 25,
    "start_time": "2023-06-25T17:22:26.433Z"
   },
   {
    "duration": 7,
    "start_time": "2023-06-25T17:22:26.460Z"
   },
   {
    "duration": 20,
    "start_time": "2023-06-25T17:22:26.469Z"
   },
   {
    "duration": 50,
    "start_time": "2023-06-25T17:22:26.492Z"
   },
   {
    "duration": 156,
    "start_time": "2023-06-25T17:22:26.544Z"
   },
   {
    "duration": 89,
    "start_time": "2023-06-25T17:22:26.717Z"
   },
   {
    "duration": 193,
    "start_time": "2023-06-25T17:22:26.817Z"
   },
   {
    "duration": 5,
    "start_time": "2023-06-25T17:22:27.013Z"
   },
   {
    "duration": 6,
    "start_time": "2023-06-25T17:22:27.033Z"
   },
   {
    "duration": 12,
    "start_time": "2023-06-25T17:22:27.041Z"
   },
   {
    "duration": 27,
    "start_time": "2023-06-25T17:22:27.056Z"
   },
   {
    "duration": 23,
    "start_time": "2023-06-25T17:22:27.085Z"
   },
   {
    "duration": 46,
    "start_time": "2023-06-25T17:22:27.111Z"
   },
   {
    "duration": 10,
    "start_time": "2023-06-25T17:22:27.159Z"
   },
   {
    "duration": 63,
    "start_time": "2023-06-25T17:22:27.172Z"
   },
   {
    "duration": 3,
    "start_time": "2023-06-25T17:22:27.239Z"
   },
   {
    "duration": 10,
    "start_time": "2023-06-25T17:22:27.244Z"
   },
   {
    "duration": 26,
    "start_time": "2023-06-25T17:22:27.256Z"
   },
   {
    "duration": 59,
    "start_time": "2023-06-25T17:22:27.284Z"
   },
   {
    "duration": 432,
    "start_time": "2023-06-25T17:22:27.346Z"
   },
   {
    "duration": 559,
    "start_time": "2023-06-25T17:22:27.781Z"
   },
   {
    "duration": 14,
    "start_time": "2023-06-25T17:22:28.342Z"
   },
   {
    "duration": 37,
    "start_time": "2023-06-25T17:22:28.358Z"
   },
   {
    "duration": 9,
    "start_time": "2023-06-25T17:22:28.418Z"
   },
   {
    "duration": 3,
    "start_time": "2023-06-25T17:22:28.434Z"
   },
   {
    "duration": 29,
    "start_time": "2023-06-25T17:22:28.440Z"
   },
   {
    "duration": 13,
    "start_time": "2023-06-25T17:22:28.471Z"
   },
   {
    "duration": 11,
    "start_time": "2023-06-25T17:22:28.487Z"
   },
   {
    "duration": 9,
    "start_time": "2023-06-25T17:22:28.500Z"
   },
   {
    "duration": 22,
    "start_time": "2023-06-25T17:22:28.511Z"
   },
   {
    "duration": 6,
    "start_time": "2023-06-25T17:22:28.537Z"
   },
   {
    "duration": 74,
    "start_time": "2023-06-25T17:22:28.545Z"
   },
   {
    "duration": 31,
    "start_time": "2023-06-25T17:22:28.627Z"
   },
   {
    "duration": 27,
    "start_time": "2023-06-25T17:22:28.660Z"
   },
   {
    "duration": 49,
    "start_time": "2023-06-25T17:22:28.688Z"
   },
   {
    "duration": 17,
    "start_time": "2023-06-25T17:22:28.739Z"
   },
   {
    "duration": 101,
    "start_time": "2023-06-25T17:22:28.758Z"
   },
   {
    "duration": 54,
    "start_time": "2023-06-25T17:22:28.861Z"
   },
   {
    "duration": 25,
    "start_time": "2023-06-25T17:22:28.921Z"
   },
   {
    "duration": 26,
    "start_time": "2023-06-25T17:22:28.948Z"
   },
   {
    "duration": 8,
    "start_time": "2023-06-25T17:22:28.976Z"
   },
   {
    "duration": 9,
    "start_time": "2023-06-25T17:22:28.986Z"
   },
   {
    "duration": 13,
    "start_time": "2023-06-25T17:22:28.997Z"
   },
   {
    "duration": 96,
    "start_time": "2023-06-25T17:22:29.012Z"
   },
   {
    "duration": 13,
    "start_time": "2023-06-25T17:22:29.110Z"
   },
   {
    "duration": 16,
    "start_time": "2023-06-25T17:22:29.126Z"
   },
   {
    "duration": 7,
    "start_time": "2023-06-25T17:22:29.144Z"
   },
   {
    "duration": 25,
    "start_time": "2023-06-25T17:22:29.154Z"
   },
   {
    "duration": 38,
    "start_time": "2023-06-25T17:22:29.181Z"
   },
   {
    "duration": 4427,
    "start_time": "2023-06-25T17:22:29.221Z"
   },
   {
    "duration": 30,
    "start_time": "2023-06-25T17:22:33.651Z"
   },
   {
    "duration": 57,
    "start_time": "2023-06-25T17:22:33.683Z"
   },
   {
    "duration": 184,
    "start_time": "2023-06-25T17:23:07.587Z"
   },
   {
    "duration": 16,
    "start_time": "2023-06-25T17:23:33.082Z"
   },
   {
    "duration": 1707,
    "start_time": "2023-06-25T17:23:38.532Z"
   },
   {
    "duration": 991,
    "start_time": "2023-06-25T17:23:40.242Z"
   },
   {
    "duration": 136,
    "start_time": "2023-06-25T17:23:41.235Z"
   },
   {
    "duration": 18,
    "start_time": "2023-06-25T17:23:41.373Z"
   },
   {
    "duration": 23,
    "start_time": "2023-06-25T17:23:41.395Z"
   },
   {
    "duration": 6,
    "start_time": "2023-06-25T17:23:41.424Z"
   },
   {
    "duration": 36,
    "start_time": "2023-06-25T17:23:41.434Z"
   },
   {
    "duration": 137,
    "start_time": "2023-06-25T17:23:41.472Z"
   },
   {
    "duration": 105,
    "start_time": "2023-06-25T17:23:41.615Z"
   },
   {
    "duration": 151,
    "start_time": "2023-06-25T17:23:41.721Z"
   },
   {
    "duration": 3,
    "start_time": "2023-06-25T17:23:41.875Z"
   },
   {
    "duration": 9,
    "start_time": "2023-06-25T17:23:41.880Z"
   },
   {
    "duration": 7,
    "start_time": "2023-06-25T17:23:41.892Z"
   },
   {
    "duration": 36,
    "start_time": "2023-06-25T17:23:41.904Z"
   },
   {
    "duration": 14,
    "start_time": "2023-06-25T17:23:41.942Z"
   },
   {
    "duration": 33,
    "start_time": "2023-06-25T17:23:41.958Z"
   },
   {
    "duration": 3,
    "start_time": "2023-06-25T17:23:41.994Z"
   },
   {
    "duration": 34,
    "start_time": "2023-06-25T17:23:41.999Z"
   },
   {
    "duration": 2,
    "start_time": "2023-06-25T17:23:42.036Z"
   },
   {
    "duration": 4,
    "start_time": "2023-06-25T17:23:42.040Z"
   },
   {
    "duration": 22,
    "start_time": "2023-06-25T17:23:42.046Z"
   },
   {
    "duration": 5,
    "start_time": "2023-06-25T17:23:42.070Z"
   },
   {
    "duration": 280,
    "start_time": "2023-06-25T17:23:42.077Z"
   },
   {
    "duration": 573,
    "start_time": "2023-06-25T17:23:42.359Z"
   },
   {
    "duration": 15,
    "start_time": "2023-06-25T17:23:42.938Z"
   },
   {
    "duration": 38,
    "start_time": "2023-06-25T17:23:42.955Z"
   },
   {
    "duration": 26,
    "start_time": "2023-06-25T17:23:42.995Z"
   },
   {
    "duration": 15,
    "start_time": "2023-06-25T17:23:43.025Z"
   },
   {
    "duration": 13,
    "start_time": "2023-06-25T17:23:43.042Z"
   },
   {
    "duration": 12,
    "start_time": "2023-06-25T17:23:43.057Z"
   },
   {
    "duration": 11,
    "start_time": "2023-06-25T17:23:43.072Z"
   },
   {
    "duration": 6,
    "start_time": "2023-06-25T17:23:43.085Z"
   },
   {
    "duration": 6,
    "start_time": "2023-06-25T17:23:43.093Z"
   },
   {
    "duration": 6,
    "start_time": "2023-06-25T17:23:43.102Z"
   },
   {
    "duration": 91,
    "start_time": "2023-06-25T17:23:43.111Z"
   },
   {
    "duration": 47,
    "start_time": "2023-06-25T17:23:43.204Z"
   },
   {
    "duration": 46,
    "start_time": "2023-06-25T17:23:43.254Z"
   },
   {
    "duration": 40,
    "start_time": "2023-06-25T17:23:43.316Z"
   },
   {
    "duration": 19,
    "start_time": "2023-06-25T17:23:43.358Z"
   },
   {
    "duration": 82,
    "start_time": "2023-06-25T17:23:43.379Z"
   },
   {
    "duration": 55,
    "start_time": "2023-06-25T17:23:43.467Z"
   },
   {
    "duration": 4,
    "start_time": "2023-06-25T17:23:43.533Z"
   },
   {
    "duration": 9,
    "start_time": "2023-06-25T17:23:43.539Z"
   },
   {
    "duration": 9,
    "start_time": "2023-06-25T17:23:43.551Z"
   },
   {
    "duration": 5,
    "start_time": "2023-06-25T17:23:43.562Z"
   },
   {
    "duration": 6,
    "start_time": "2023-06-25T17:23:43.569Z"
   },
   {
    "duration": 128,
    "start_time": "2023-06-25T17:23:43.578Z"
   },
   {
    "duration": 4,
    "start_time": "2023-06-25T17:23:43.708Z"
   },
   {
    "duration": 16,
    "start_time": "2023-06-25T17:23:43.719Z"
   },
   {
    "duration": 13,
    "start_time": "2023-06-25T17:23:43.737Z"
   },
   {
    "duration": 13,
    "start_time": "2023-06-25T17:23:43.754Z"
   },
   {
    "duration": 17,
    "start_time": "2023-06-25T17:23:43.768Z"
   },
   {
    "duration": 4255,
    "start_time": "2023-06-25T17:23:43.788Z"
   },
   {
    "duration": 26,
    "start_time": "2023-06-25T17:23:48.045Z"
   },
   {
    "duration": 9,
    "start_time": "2023-06-25T17:23:48.073Z"
   },
   {
    "duration": 1752,
    "start_time": "2023-06-25T17:24:07.047Z"
   },
   {
    "duration": 1056,
    "start_time": "2023-06-25T17:24:08.802Z"
   },
   {
    "duration": 197,
    "start_time": "2023-06-25T17:24:09.861Z"
   },
   {
    "duration": 33,
    "start_time": "2023-06-25T17:24:10.061Z"
   },
   {
    "duration": 31,
    "start_time": "2023-06-25T17:24:10.098Z"
   },
   {
    "duration": 28,
    "start_time": "2023-06-25T17:24:10.134Z"
   },
   {
    "duration": 42,
    "start_time": "2023-06-25T17:24:10.165Z"
   },
   {
    "duration": 165,
    "start_time": "2023-06-25T17:24:10.210Z"
   },
   {
    "duration": 160,
    "start_time": "2023-06-25T17:24:10.377Z"
   },
   {
    "duration": 152,
    "start_time": "2023-06-25T17:24:10.543Z"
   },
   {
    "duration": 3,
    "start_time": "2023-06-25T17:24:10.697Z"
   },
   {
    "duration": 28,
    "start_time": "2023-06-25T17:24:10.701Z"
   },
   {
    "duration": 25,
    "start_time": "2023-06-25T17:24:10.737Z"
   },
   {
    "duration": 8,
    "start_time": "2023-06-25T17:24:10.766Z"
   },
   {
    "duration": 8,
    "start_time": "2023-06-25T17:24:10.776Z"
   },
   {
    "duration": 56,
    "start_time": "2023-06-25T17:24:10.786Z"
   },
   {
    "duration": 4,
    "start_time": "2023-06-25T17:24:10.845Z"
   },
   {
    "duration": 41,
    "start_time": "2023-06-25T17:24:10.851Z"
   },
   {
    "duration": 3,
    "start_time": "2023-06-25T17:24:10.895Z"
   },
   {
    "duration": 21,
    "start_time": "2023-06-25T17:24:10.900Z"
   },
   {
    "duration": 34,
    "start_time": "2023-06-25T17:24:10.923Z"
   },
   {
    "duration": 4,
    "start_time": "2023-06-25T17:24:10.959Z"
   },
   {
    "duration": 321,
    "start_time": "2023-06-25T17:24:10.965Z"
   },
   {
    "duration": 638,
    "start_time": "2023-06-25T17:24:11.289Z"
   },
   {
    "duration": 20,
    "start_time": "2023-06-25T17:24:11.935Z"
   },
   {
    "duration": 70,
    "start_time": "2023-06-25T17:24:11.957Z"
   },
   {
    "duration": 8,
    "start_time": "2023-06-25T17:24:12.030Z"
   },
   {
    "duration": 5,
    "start_time": "2023-06-25T17:24:12.040Z"
   },
   {
    "duration": 14,
    "start_time": "2023-06-25T17:24:12.047Z"
   },
   {
    "duration": 37,
    "start_time": "2023-06-25T17:24:12.063Z"
   },
   {
    "duration": 5,
    "start_time": "2023-06-25T17:24:12.102Z"
   },
   {
    "duration": 136,
    "start_time": "2023-06-25T17:24:12.109Z"
   },
   {
    "duration": 9,
    "start_time": "2023-06-25T17:24:12.247Z"
   },
   {
    "duration": 33,
    "start_time": "2023-06-25T17:24:12.258Z"
   },
   {
    "duration": 85,
    "start_time": "2023-06-25T17:24:12.293Z"
   },
   {
    "duration": 52,
    "start_time": "2023-06-25T17:24:12.380Z"
   },
   {
    "duration": 27,
    "start_time": "2023-06-25T17:24:12.435Z"
   },
   {
    "duration": 34,
    "start_time": "2023-06-25T17:24:12.464Z"
   },
   {
    "duration": 26,
    "start_time": "2023-06-25T17:24:12.500Z"
   },
   {
    "duration": 104,
    "start_time": "2023-06-25T17:24:12.531Z"
   },
   {
    "duration": 50,
    "start_time": "2023-06-25T17:24:12.641Z"
   },
   {
    "duration": 6,
    "start_time": "2023-06-25T17:24:12.693Z"
   },
   {
    "duration": 18,
    "start_time": "2023-06-25T17:24:12.700Z"
   },
   {
    "duration": 13,
    "start_time": "2023-06-25T17:24:12.719Z"
   },
   {
    "duration": 6,
    "start_time": "2023-06-25T17:24:12.738Z"
   },
   {
    "duration": 6,
    "start_time": "2023-06-25T17:24:12.746Z"
   },
   {
    "duration": 94,
    "start_time": "2023-06-25T17:24:12.755Z"
   },
   {
    "duration": 4,
    "start_time": "2023-06-25T17:24:12.851Z"
   },
   {
    "duration": 15,
    "start_time": "2023-06-25T17:24:12.857Z"
   },
   {
    "duration": 10,
    "start_time": "2023-06-25T17:24:12.874Z"
   },
   {
    "duration": 19,
    "start_time": "2023-06-25T17:24:12.887Z"
   },
   {
    "duration": 31,
    "start_time": "2023-06-25T17:24:12.908Z"
   },
   {
    "duration": 126,
    "start_time": "2023-06-25T17:24:12.942Z"
   },
   {
    "duration": 0,
    "start_time": "2023-06-25T17:24:13.070Z"
   },
   {
    "duration": 0,
    "start_time": "2023-06-25T17:24:13.071Z"
   },
   {
    "duration": 4258,
    "start_time": "2023-06-25T17:24:36.734Z"
   },
   {
    "duration": 35,
    "start_time": "2023-06-25T17:24:46.743Z"
   },
   {
    "duration": 1842,
    "start_time": "2023-06-25T17:24:52.706Z"
   },
   {
    "duration": 999,
    "start_time": "2023-06-25T17:24:54.552Z"
   },
   {
    "duration": 171,
    "start_time": "2023-06-25T17:24:55.554Z"
   },
   {
    "duration": 20,
    "start_time": "2023-06-25T17:24:55.735Z"
   },
   {
    "duration": 32,
    "start_time": "2023-06-25T17:24:55.758Z"
   },
   {
    "duration": 48,
    "start_time": "2023-06-25T17:24:55.792Z"
   },
   {
    "duration": 77,
    "start_time": "2023-06-25T17:24:55.842Z"
   },
   {
    "duration": 217,
    "start_time": "2023-06-25T17:24:55.922Z"
   },
   {
    "duration": 127,
    "start_time": "2023-06-25T17:24:56.141Z"
   },
   {
    "duration": 262,
    "start_time": "2023-06-25T17:24:56.271Z"
   },
   {
    "duration": 3,
    "start_time": "2023-06-25T17:24:56.537Z"
   },
   {
    "duration": 58,
    "start_time": "2023-06-25T17:24:56.542Z"
   },
   {
    "duration": 35,
    "start_time": "2023-06-25T17:24:56.602Z"
   },
   {
    "duration": 20,
    "start_time": "2023-06-25T17:24:56.642Z"
   },
   {
    "duration": 22,
    "start_time": "2023-06-25T17:24:56.664Z"
   },
   {
    "duration": 42,
    "start_time": "2023-06-25T17:24:56.689Z"
   },
   {
    "duration": 17,
    "start_time": "2023-06-25T17:24:56.732Z"
   },
   {
    "duration": 45,
    "start_time": "2023-06-25T17:24:56.751Z"
   },
   {
    "duration": 4,
    "start_time": "2023-06-25T17:24:56.797Z"
   },
   {
    "duration": 5,
    "start_time": "2023-06-25T17:24:56.804Z"
   },
   {
    "duration": 50,
    "start_time": "2023-06-25T17:24:56.812Z"
   },
   {
    "duration": 6,
    "start_time": "2023-06-25T17:24:56.865Z"
   },
   {
    "duration": 279,
    "start_time": "2023-06-25T17:24:56.873Z"
   },
   {
    "duration": 548,
    "start_time": "2023-06-25T17:24:57.154Z"
   },
   {
    "duration": 34,
    "start_time": "2023-06-25T17:24:57.704Z"
   },
   {
    "duration": 50,
    "start_time": "2023-06-25T17:24:57.740Z"
   },
   {
    "duration": 5,
    "start_time": "2023-06-25T17:24:57.793Z"
   },
   {
    "duration": 18,
    "start_time": "2023-06-25T17:24:57.801Z"
   },
   {
    "duration": 11,
    "start_time": "2023-06-25T17:24:57.820Z"
   },
   {
    "duration": 11,
    "start_time": "2023-06-25T17:24:57.833Z"
   },
   {
    "duration": 10,
    "start_time": "2023-06-25T17:24:57.846Z"
   },
   {
    "duration": 14,
    "start_time": "2023-06-25T17:24:57.859Z"
   },
   {
    "duration": 31,
    "start_time": "2023-06-25T17:24:57.875Z"
   },
   {
    "duration": 20,
    "start_time": "2023-06-25T17:24:57.908Z"
   },
   {
    "duration": 102,
    "start_time": "2023-06-25T17:24:57.930Z"
   },
   {
    "duration": 39,
    "start_time": "2023-06-25T17:24:58.038Z"
   },
   {
    "duration": 28,
    "start_time": "2023-06-25T17:24:58.080Z"
   },
   {
    "duration": 51,
    "start_time": "2023-06-25T17:24:58.113Z"
   },
   {
    "duration": 19,
    "start_time": "2023-06-25T17:24:58.167Z"
   },
   {
    "duration": 93,
    "start_time": "2023-06-25T17:24:58.188Z"
   },
   {
    "duration": 58,
    "start_time": "2023-06-25T17:24:58.288Z"
   },
   {
    "duration": 9,
    "start_time": "2023-06-25T17:24:58.349Z"
   },
   {
    "duration": 86,
    "start_time": "2023-06-25T17:24:58.359Z"
   },
   {
    "duration": 30,
    "start_time": "2023-06-25T17:24:58.447Z"
   },
   {
    "duration": 15,
    "start_time": "2023-06-25T17:24:58.479Z"
   },
   {
    "duration": 29,
    "start_time": "2023-06-25T17:24:58.497Z"
   },
   {
    "duration": 121,
    "start_time": "2023-06-25T17:24:58.530Z"
   },
   {
    "duration": 5,
    "start_time": "2023-06-25T17:24:58.653Z"
   },
   {
    "duration": 29,
    "start_time": "2023-06-25T17:24:58.660Z"
   },
   {
    "duration": 10,
    "start_time": "2023-06-25T17:24:58.691Z"
   },
   {
    "duration": 16,
    "start_time": "2023-06-25T17:24:58.704Z"
   },
   {
    "duration": 18,
    "start_time": "2023-06-25T17:24:58.726Z"
   },
   {
    "duration": 4367,
    "start_time": "2023-06-25T17:24:58.746Z"
   },
   {
    "duration": 38,
    "start_time": "2023-06-25T17:25:03.115Z"
   },
   {
    "duration": 84,
    "start_time": "2023-06-25T17:25:03.155Z"
   },
   {
    "duration": 132,
    "start_time": "2023-06-25T17:36:40.097Z"
   },
   {
    "duration": 202,
    "start_time": "2023-06-25T17:36:49.892Z"
   },
   {
    "duration": 1733,
    "start_time": "2023-06-25T17:42:24.366Z"
   },
   {
    "duration": 1055,
    "start_time": "2023-06-25T17:42:26.101Z"
   },
   {
    "duration": 145,
    "start_time": "2023-06-25T17:42:27.158Z"
   },
   {
    "duration": 30,
    "start_time": "2023-06-25T17:42:27.313Z"
   },
   {
    "duration": 11,
    "start_time": "2023-06-25T17:42:27.345Z"
   },
   {
    "duration": 37,
    "start_time": "2023-06-25T17:42:27.358Z"
   },
   {
    "duration": 55,
    "start_time": "2023-06-25T17:42:27.397Z"
   },
   {
    "duration": 176,
    "start_time": "2023-06-25T17:42:27.454Z"
   },
   {
    "duration": 91,
    "start_time": "2023-06-25T17:42:27.633Z"
   },
   {
    "duration": 146,
    "start_time": "2023-06-25T17:42:27.728Z"
   },
   {
    "duration": 3,
    "start_time": "2023-06-25T17:42:27.876Z"
   },
   {
    "duration": 59,
    "start_time": "2023-06-25T17:42:27.881Z"
   },
   {
    "duration": 16,
    "start_time": "2023-06-25T17:42:27.943Z"
   },
   {
    "duration": 11,
    "start_time": "2023-06-25T17:42:27.962Z"
   },
   {
    "duration": 1208,
    "start_time": "2023-06-25T17:42:27.975Z"
   },
   {
    "duration": 0,
    "start_time": "2023-06-25T17:42:29.187Z"
   },
   {
    "duration": 0,
    "start_time": "2023-06-25T17:42:29.189Z"
   },
   {
    "duration": 0,
    "start_time": "2023-06-25T17:42:29.190Z"
   },
   {
    "duration": 0,
    "start_time": "2023-06-25T17:42:29.192Z"
   },
   {
    "duration": 0,
    "start_time": "2023-06-25T17:42:29.194Z"
   },
   {
    "duration": 0,
    "start_time": "2023-06-25T17:42:29.196Z"
   },
   {
    "duration": 0,
    "start_time": "2023-06-25T17:42:29.198Z"
   },
   {
    "duration": 0,
    "start_time": "2023-06-25T17:42:29.200Z"
   },
   {
    "duration": 0,
    "start_time": "2023-06-25T17:42:29.201Z"
   },
   {
    "duration": 0,
    "start_time": "2023-06-25T17:42:29.203Z"
   },
   {
    "duration": 0,
    "start_time": "2023-06-25T17:42:29.205Z"
   },
   {
    "duration": 0,
    "start_time": "2023-06-25T17:42:29.206Z"
   },
   {
    "duration": 0,
    "start_time": "2023-06-25T17:42:29.208Z"
   },
   {
    "duration": 0,
    "start_time": "2023-06-25T17:42:29.209Z"
   },
   {
    "duration": 0,
    "start_time": "2023-06-25T17:42:29.211Z"
   },
   {
    "duration": 0,
    "start_time": "2023-06-25T17:42:29.213Z"
   },
   {
    "duration": 0,
    "start_time": "2023-06-25T17:42:29.216Z"
   },
   {
    "duration": 0,
    "start_time": "2023-06-25T17:42:29.217Z"
   },
   {
    "duration": 0,
    "start_time": "2023-06-25T17:42:29.219Z"
   },
   {
    "duration": 0,
    "start_time": "2023-06-25T17:42:29.221Z"
   },
   {
    "duration": 0,
    "start_time": "2023-06-25T17:42:29.222Z"
   },
   {
    "duration": 0,
    "start_time": "2023-06-25T17:42:29.224Z"
   },
   {
    "duration": 0,
    "start_time": "2023-06-25T17:42:29.226Z"
   },
   {
    "duration": 0,
    "start_time": "2023-06-25T17:42:29.227Z"
   },
   {
    "duration": 0,
    "start_time": "2023-06-25T17:42:29.229Z"
   },
   {
    "duration": 0,
    "start_time": "2023-06-25T17:42:29.230Z"
   },
   {
    "duration": 0,
    "start_time": "2023-06-25T17:42:29.231Z"
   },
   {
    "duration": 0,
    "start_time": "2023-06-25T17:42:29.233Z"
   },
   {
    "duration": 0,
    "start_time": "2023-06-25T17:42:29.234Z"
   },
   {
    "duration": 0,
    "start_time": "2023-06-25T17:42:29.235Z"
   },
   {
    "duration": 0,
    "start_time": "2023-06-25T17:42:29.237Z"
   },
   {
    "duration": 0,
    "start_time": "2023-06-25T17:42:29.238Z"
   },
   {
    "duration": 0,
    "start_time": "2023-06-25T17:42:29.239Z"
   },
   {
    "duration": 0,
    "start_time": "2023-06-25T17:42:29.241Z"
   },
   {
    "duration": 0,
    "start_time": "2023-06-25T17:42:29.242Z"
   },
   {
    "duration": 0,
    "start_time": "2023-06-25T17:42:29.243Z"
   },
   {
    "duration": 0,
    "start_time": "2023-06-25T17:42:29.245Z"
   },
   {
    "duration": 0,
    "start_time": "2023-06-25T17:42:29.246Z"
   },
   {
    "duration": 0,
    "start_time": "2023-06-25T17:42:29.247Z"
   },
   {
    "duration": 1,
    "start_time": "2023-06-25T17:42:29.248Z"
   },
   {
    "duration": 0,
    "start_time": "2023-06-25T17:42:29.250Z"
   },
   {
    "duration": 0,
    "start_time": "2023-06-25T17:42:29.251Z"
   },
   {
    "duration": 808,
    "start_time": "2023-06-25T17:43:38.475Z"
   },
   {
    "duration": 1517,
    "start_time": "2023-06-25T17:44:29.715Z"
   },
   {
    "duration": 901,
    "start_time": "2023-06-25T17:44:31.234Z"
   },
   {
    "duration": 153,
    "start_time": "2023-06-25T17:44:32.137Z"
   },
   {
    "duration": 31,
    "start_time": "2023-06-25T17:44:32.292Z"
   },
   {
    "duration": 7,
    "start_time": "2023-06-25T17:44:32.326Z"
   },
   {
    "duration": 34,
    "start_time": "2023-06-25T17:44:32.335Z"
   },
   {
    "duration": 55,
    "start_time": "2023-06-25T17:44:32.371Z"
   },
   {
    "duration": 119,
    "start_time": "2023-06-25T17:44:32.428Z"
   },
   {
    "duration": 107,
    "start_time": "2023-06-25T17:44:32.549Z"
   },
   {
    "duration": 168,
    "start_time": "2023-06-25T17:44:32.658Z"
   },
   {
    "duration": 2,
    "start_time": "2023-06-25T17:44:32.828Z"
   },
   {
    "duration": 254,
    "start_time": "2023-06-25T17:44:32.832Z"
   },
   {
    "duration": 0,
    "start_time": "2023-06-25T17:44:33.090Z"
   },
   {
    "duration": 0,
    "start_time": "2023-06-25T17:44:33.092Z"
   },
   {
    "duration": 0,
    "start_time": "2023-06-25T17:44:33.094Z"
   },
   {
    "duration": 0,
    "start_time": "2023-06-25T17:44:33.095Z"
   },
   {
    "duration": 0,
    "start_time": "2023-06-25T17:44:33.097Z"
   },
   {
    "duration": 0,
    "start_time": "2023-06-25T17:44:33.099Z"
   },
   {
    "duration": 0,
    "start_time": "2023-06-25T17:44:33.100Z"
   },
   {
    "duration": 0,
    "start_time": "2023-06-25T17:44:33.102Z"
   },
   {
    "duration": 0,
    "start_time": "2023-06-25T17:44:33.103Z"
   },
   {
    "duration": 0,
    "start_time": "2023-06-25T17:44:33.104Z"
   },
   {
    "duration": 0,
    "start_time": "2023-06-25T17:44:33.106Z"
   },
   {
    "duration": 0,
    "start_time": "2023-06-25T17:44:33.106Z"
   },
   {
    "duration": 0,
    "start_time": "2023-06-25T17:44:33.107Z"
   },
   {
    "duration": 0,
    "start_time": "2023-06-25T17:44:33.108Z"
   },
   {
    "duration": 0,
    "start_time": "2023-06-25T17:44:33.110Z"
   },
   {
    "duration": 0,
    "start_time": "2023-06-25T17:44:33.110Z"
   },
   {
    "duration": 0,
    "start_time": "2023-06-25T17:44:33.111Z"
   },
   {
    "duration": 0,
    "start_time": "2023-06-25T17:44:33.112Z"
   },
   {
    "duration": 0,
    "start_time": "2023-06-25T17:44:33.114Z"
   },
   {
    "duration": 0,
    "start_time": "2023-06-25T17:44:33.115Z"
   },
   {
    "duration": 0,
    "start_time": "2023-06-25T17:44:33.117Z"
   },
   {
    "duration": 0,
    "start_time": "2023-06-25T17:44:33.118Z"
   },
   {
    "duration": 0,
    "start_time": "2023-06-25T17:44:33.119Z"
   },
   {
    "duration": 0,
    "start_time": "2023-06-25T17:44:33.121Z"
   },
   {
    "duration": 0,
    "start_time": "2023-06-25T17:44:33.123Z"
   },
   {
    "duration": 0,
    "start_time": "2023-06-25T17:44:33.124Z"
   },
   {
    "duration": 0,
    "start_time": "2023-06-25T17:44:33.125Z"
   },
   {
    "duration": 0,
    "start_time": "2023-06-25T17:44:33.126Z"
   },
   {
    "duration": 0,
    "start_time": "2023-06-25T17:44:33.127Z"
   },
   {
    "duration": 0,
    "start_time": "2023-06-25T17:44:33.128Z"
   },
   {
    "duration": 0,
    "start_time": "2023-06-25T17:44:33.129Z"
   },
   {
    "duration": 0,
    "start_time": "2023-06-25T17:44:33.130Z"
   },
   {
    "duration": 0,
    "start_time": "2023-06-25T17:44:33.131Z"
   },
   {
    "duration": 0,
    "start_time": "2023-06-25T17:44:33.132Z"
   },
   {
    "duration": 0,
    "start_time": "2023-06-25T17:44:33.133Z"
   },
   {
    "duration": 0,
    "start_time": "2023-06-25T17:44:33.135Z"
   },
   {
    "duration": 0,
    "start_time": "2023-06-25T17:44:33.136Z"
   },
   {
    "duration": 0,
    "start_time": "2023-06-25T17:44:33.137Z"
   },
   {
    "duration": 0,
    "start_time": "2023-06-25T17:44:33.138Z"
   },
   {
    "duration": 0,
    "start_time": "2023-06-25T17:44:33.139Z"
   },
   {
    "duration": 0,
    "start_time": "2023-06-25T17:44:33.141Z"
   },
   {
    "duration": 0,
    "start_time": "2023-06-25T17:44:33.142Z"
   },
   {
    "duration": 0,
    "start_time": "2023-06-25T17:44:33.143Z"
   },
   {
    "duration": 0,
    "start_time": "2023-06-25T17:44:33.145Z"
   },
   {
    "duration": 1004,
    "start_time": "2023-06-25T17:44:47.888Z"
   },
   {
    "duration": 771,
    "start_time": "2023-06-25T17:46:00.162Z"
   },
   {
    "duration": 3,
    "start_time": "2023-06-25T17:53:28.460Z"
   },
   {
    "duration": 1461,
    "start_time": "2023-06-25T18:12:49.666Z"
   },
   {
    "duration": 867,
    "start_time": "2023-06-25T18:12:51.128Z"
   },
   {
    "duration": 138,
    "start_time": "2023-06-25T18:12:51.997Z"
   },
   {
    "duration": 16,
    "start_time": "2023-06-25T18:12:52.138Z"
   },
   {
    "duration": 3,
    "start_time": "2023-06-25T18:12:52.156Z"
   },
   {
    "duration": 38,
    "start_time": "2023-06-25T18:12:52.161Z"
   },
   {
    "duration": 64,
    "start_time": "2023-06-25T18:12:52.201Z"
   },
   {
    "duration": 123,
    "start_time": "2023-06-25T18:12:52.267Z"
   },
   {
    "duration": 75,
    "start_time": "2023-06-25T18:12:52.392Z"
   },
   {
    "duration": 144,
    "start_time": "2023-06-25T18:12:52.471Z"
   },
   {
    "duration": 3,
    "start_time": "2023-06-25T18:12:52.617Z"
   },
   {
    "duration": 16,
    "start_time": "2023-06-25T18:12:52.622Z"
   },
   {
    "duration": 5,
    "start_time": "2023-06-25T18:12:52.640Z"
   },
   {
    "duration": 41,
    "start_time": "2023-06-25T18:12:52.647Z"
   },
   {
    "duration": 3,
    "start_time": "2023-06-25T18:12:52.690Z"
   },
   {
    "duration": 46,
    "start_time": "2023-06-25T18:12:52.695Z"
   },
   {
    "duration": 2,
    "start_time": "2023-06-25T18:12:52.743Z"
   },
   {
    "duration": 6,
    "start_time": "2023-06-25T18:12:52.747Z"
   },
   {
    "duration": 25,
    "start_time": "2023-06-25T18:12:52.754Z"
   },
   {
    "duration": 3,
    "start_time": "2023-06-25T18:12:52.780Z"
   },
   {
    "duration": 264,
    "start_time": "2023-06-25T18:12:52.785Z"
   },
   {
    "duration": 466,
    "start_time": "2023-06-25T18:12:53.050Z"
   },
   {
    "duration": 13,
    "start_time": "2023-06-25T18:12:53.518Z"
   },
   {
    "duration": 36,
    "start_time": "2023-06-25T18:12:53.533Z"
   },
   {
    "duration": 4,
    "start_time": "2023-06-25T18:12:53.571Z"
   },
   {
    "duration": 9,
    "start_time": "2023-06-25T18:12:53.577Z"
   },
   {
    "duration": 28,
    "start_time": "2023-06-25T18:12:53.587Z"
   },
   {
    "duration": 4,
    "start_time": "2023-06-25T18:12:53.620Z"
   },
   {
    "duration": 5,
    "start_time": "2023-06-25T18:12:53.626Z"
   },
   {
    "duration": 9,
    "start_time": "2023-06-25T18:12:53.633Z"
   },
   {
    "duration": 5,
    "start_time": "2023-06-25T18:12:53.644Z"
   },
   {
    "duration": 6,
    "start_time": "2023-06-25T18:12:53.651Z"
   },
   {
    "duration": 83,
    "start_time": "2023-06-25T18:12:53.659Z"
   },
   {
    "duration": 28,
    "start_time": "2023-06-25T18:12:53.744Z"
   },
   {
    "duration": 40,
    "start_time": "2023-06-25T18:12:53.775Z"
   },
   {
    "duration": 29,
    "start_time": "2023-06-25T18:12:53.817Z"
   },
   {
    "duration": 20,
    "start_time": "2023-06-25T18:12:53.848Z"
   },
   {
    "duration": 91,
    "start_time": "2023-06-25T18:12:53.870Z"
   },
   {
    "duration": 42,
    "start_time": "2023-06-25T18:12:53.962Z"
   },
   {
    "duration": 139,
    "start_time": "2023-06-25T18:12:54.005Z"
   },
   {
    "duration": 5,
    "start_time": "2023-06-25T18:12:54.146Z"
   },
   {
    "duration": 5,
    "start_time": "2023-06-25T18:12:54.153Z"
   },
   {
    "duration": 5,
    "start_time": "2023-06-25T18:12:54.159Z"
   },
   {
    "duration": 6,
    "start_time": "2023-06-25T18:12:54.166Z"
   },
   {
    "duration": 4,
    "start_time": "2023-06-25T18:12:54.174Z"
   },
   {
    "duration": 97,
    "start_time": "2023-06-25T18:12:54.179Z"
   },
   {
    "duration": 4,
    "start_time": "2023-06-25T18:12:54.278Z"
   },
   {
    "duration": 11,
    "start_time": "2023-06-25T18:12:54.284Z"
   },
   {
    "duration": 19,
    "start_time": "2023-06-25T18:12:54.296Z"
   },
   {
    "duration": 28,
    "start_time": "2023-06-25T18:12:54.316Z"
   },
   {
    "duration": 18,
    "start_time": "2023-06-25T18:12:54.346Z"
   },
   {
    "duration": 127,
    "start_time": "2023-06-25T18:12:54.367Z"
   },
   {
    "duration": 0,
    "start_time": "2023-06-25T18:12:54.496Z"
   },
   {
    "duration": 0,
    "start_time": "2023-06-25T18:12:54.497Z"
   },
   {
    "duration": 0,
    "start_time": "2023-06-25T18:12:54.498Z"
   },
   {
    "duration": 1460,
    "start_time": "2023-06-25T18:13:18.896Z"
   },
   {
    "duration": 1303,
    "start_time": "2023-06-25T18:13:55.391Z"
   },
   {
    "duration": 963,
    "start_time": "2023-06-25T18:16:53.972Z"
   },
   {
    "duration": 13,
    "start_time": "2023-06-25T18:17:36.902Z"
   },
   {
    "duration": 16,
    "start_time": "2023-06-25T18:18:35.213Z"
   },
   {
    "duration": 1022,
    "start_time": "2023-06-25T18:19:26.302Z"
   },
   {
    "duration": 966,
    "start_time": "2023-06-25T18:21:19.266Z"
   },
   {
    "duration": 14,
    "start_time": "2023-06-25T18:32:20.746Z"
   },
   {
    "duration": 15,
    "start_time": "2023-06-25T18:32:33.542Z"
   },
   {
    "duration": 907,
    "start_time": "2023-06-25T18:32:40.670Z"
   },
   {
    "duration": 1487,
    "start_time": "2023-06-25T18:32:51.398Z"
   },
   {
    "duration": 952,
    "start_time": "2023-06-25T18:32:52.887Z"
   },
   {
    "duration": 160,
    "start_time": "2023-06-25T18:32:53.841Z"
   },
   {
    "duration": 40,
    "start_time": "2023-06-25T18:32:54.005Z"
   },
   {
    "duration": 7,
    "start_time": "2023-06-25T18:32:54.048Z"
   },
   {
    "duration": 10,
    "start_time": "2023-06-25T18:32:54.057Z"
   },
   {
    "duration": 27,
    "start_time": "2023-06-25T18:32:54.069Z"
   },
   {
    "duration": 114,
    "start_time": "2023-06-25T18:32:54.098Z"
   },
   {
    "duration": 103,
    "start_time": "2023-06-25T18:32:54.214Z"
   },
   {
    "duration": 162,
    "start_time": "2023-06-25T18:32:54.321Z"
   },
   {
    "duration": 3,
    "start_time": "2023-06-25T18:32:54.485Z"
   },
   {
    "duration": 15,
    "start_time": "2023-06-25T18:32:54.490Z"
   },
   {
    "duration": 21,
    "start_time": "2023-06-25T18:32:54.507Z"
   },
   {
    "duration": 24,
    "start_time": "2023-06-25T18:32:54.534Z"
   },
   {
    "duration": 4,
    "start_time": "2023-06-25T18:32:54.561Z"
   },
   {
    "duration": 41,
    "start_time": "2023-06-25T18:32:54.567Z"
   },
   {
    "duration": 13,
    "start_time": "2023-06-25T18:32:54.610Z"
   },
   {
    "duration": 15,
    "start_time": "2023-06-25T18:32:54.625Z"
   },
   {
    "duration": 28,
    "start_time": "2023-06-25T18:32:54.642Z"
   },
   {
    "duration": 35,
    "start_time": "2023-06-25T18:32:54.672Z"
   },
   {
    "duration": 288,
    "start_time": "2023-06-25T18:32:54.709Z"
   },
   {
    "duration": 567,
    "start_time": "2023-06-25T18:32:54.999Z"
   },
   {
    "duration": 15,
    "start_time": "2023-06-25T18:32:55.568Z"
   },
   {
    "duration": 63,
    "start_time": "2023-06-25T18:32:55.585Z"
   },
   {
    "duration": 6,
    "start_time": "2023-06-25T18:32:55.653Z"
   },
   {
    "duration": 4,
    "start_time": "2023-06-25T18:32:55.662Z"
   },
   {
    "duration": 10,
    "start_time": "2023-06-25T18:32:55.668Z"
   },
   {
    "duration": 20,
    "start_time": "2023-06-25T18:32:55.684Z"
   },
   {
    "duration": 21,
    "start_time": "2023-06-25T18:32:55.707Z"
   },
   {
    "duration": 12,
    "start_time": "2023-06-25T18:32:55.730Z"
   },
   {
    "duration": 5,
    "start_time": "2023-06-25T18:32:55.744Z"
   },
   {
    "duration": 13,
    "start_time": "2023-06-25T18:32:55.751Z"
   },
   {
    "duration": 81,
    "start_time": "2023-06-25T18:32:55.766Z"
   },
   {
    "duration": 38,
    "start_time": "2023-06-25T18:32:55.849Z"
   },
   {
    "duration": 59,
    "start_time": "2023-06-25T18:32:55.890Z"
   },
   {
    "duration": 27,
    "start_time": "2023-06-25T18:32:55.951Z"
   },
   {
    "duration": 16,
    "start_time": "2023-06-25T18:32:55.980Z"
   },
   {
    "duration": 82,
    "start_time": "2023-06-25T18:32:55.998Z"
   },
   {
    "duration": 62,
    "start_time": "2023-06-25T18:32:56.082Z"
   },
   {
    "duration": 155,
    "start_time": "2023-06-25T18:32:56.146Z"
   },
   {
    "duration": 24,
    "start_time": "2023-06-25T18:32:56.304Z"
   },
   {
    "duration": 16,
    "start_time": "2023-06-25T18:32:56.330Z"
   },
   {
    "duration": 97,
    "start_time": "2023-06-25T18:32:56.348Z"
   },
   {
    "duration": 19,
    "start_time": "2023-06-25T18:32:56.447Z"
   },
   {
    "duration": 26,
    "start_time": "2023-06-25T18:32:56.468Z"
   },
   {
    "duration": 97,
    "start_time": "2023-06-25T18:32:56.496Z"
   },
   {
    "duration": 5,
    "start_time": "2023-06-25T18:32:56.595Z"
   },
   {
    "duration": 29,
    "start_time": "2023-06-25T18:32:56.603Z"
   },
   {
    "duration": 17,
    "start_time": "2023-06-25T18:32:56.634Z"
   },
   {
    "duration": 18,
    "start_time": "2023-06-25T18:32:56.653Z"
   },
   {
    "duration": 19,
    "start_time": "2023-06-25T18:32:56.673Z"
   },
   {
    "duration": 1078,
    "start_time": "2023-06-25T18:32:56.694Z"
   },
   {
    "duration": 0,
    "start_time": "2023-06-25T18:32:57.773Z"
   },
   {
    "duration": 0,
    "start_time": "2023-06-25T18:32:57.775Z"
   },
   {
    "duration": 1,
    "start_time": "2023-06-25T18:32:57.776Z"
   },
   {
    "duration": 1144,
    "start_time": "2023-06-25T18:33:20.572Z"
   },
   {
    "duration": 906,
    "start_time": "2023-06-25T18:34:03.042Z"
   },
   {
    "duration": 926,
    "start_time": "2023-06-25T18:34:14.032Z"
   },
   {
    "duration": 914,
    "start_time": "2023-06-25T18:35:30.772Z"
   },
   {
    "duration": 8400,
    "start_time": "2023-06-25T18:36:21.219Z"
   },
   {
    "duration": 8769,
    "start_time": "2023-06-25T18:37:01.093Z"
   },
   {
    "duration": 8669,
    "start_time": "2023-06-25T18:37:17.189Z"
   },
   {
    "duration": 9093,
    "start_time": "2023-06-25T18:38:09.795Z"
   },
   {
    "duration": 9174,
    "start_time": "2023-06-25T18:38:51.989Z"
   },
   {
    "duration": 0,
    "start_time": "2023-06-25T18:39:01.166Z"
   },
   {
    "duration": 1539,
    "start_time": "2023-06-25T18:39:07.298Z"
   },
   {
    "duration": 970,
    "start_time": "2023-06-25T18:39:08.840Z"
   },
   {
    "duration": 169,
    "start_time": "2023-06-25T18:39:09.813Z"
   },
   {
    "duration": 20,
    "start_time": "2023-06-25T18:39:09.985Z"
   },
   {
    "duration": 8,
    "start_time": "2023-06-25T18:39:10.014Z"
   },
   {
    "duration": 20,
    "start_time": "2023-06-25T18:39:10.026Z"
   },
   {
    "duration": 41,
    "start_time": "2023-06-25T18:39:10.049Z"
   },
   {
    "duration": 104,
    "start_time": "2023-06-25T18:39:10.092Z"
   },
   {
    "duration": 89,
    "start_time": "2023-06-25T18:39:10.198Z"
   },
   {
    "duration": 151,
    "start_time": "2023-06-25T18:39:10.290Z"
   },
   {
    "duration": 3,
    "start_time": "2023-06-25T18:39:10.443Z"
   },
   {
    "duration": 7,
    "start_time": "2023-06-25T18:39:10.447Z"
   },
   {
    "duration": 10,
    "start_time": "2023-06-25T18:39:10.455Z"
   },
   {
    "duration": 34,
    "start_time": "2023-06-25T18:39:10.467Z"
   },
   {
    "duration": 13,
    "start_time": "2023-06-25T18:39:10.513Z"
   },
   {
    "duration": 41,
    "start_time": "2023-06-25T18:39:10.528Z"
   },
   {
    "duration": 10,
    "start_time": "2023-06-25T18:39:10.571Z"
   },
   {
    "duration": 9,
    "start_time": "2023-06-25T18:39:10.583Z"
   },
   {
    "duration": 39,
    "start_time": "2023-06-25T18:39:10.594Z"
   },
   {
    "duration": 4,
    "start_time": "2023-06-25T18:39:10.635Z"
   },
   {
    "duration": 271,
    "start_time": "2023-06-25T18:39:10.640Z"
   },
   {
    "duration": 503,
    "start_time": "2023-06-25T18:39:10.914Z"
   },
   {
    "duration": 18,
    "start_time": "2023-06-25T18:39:11.422Z"
   },
   {
    "duration": 36,
    "start_time": "2023-06-25T18:39:11.442Z"
   },
   {
    "duration": 5,
    "start_time": "2023-06-25T18:39:11.480Z"
   },
   {
    "duration": 5,
    "start_time": "2023-06-25T18:39:11.486Z"
   },
   {
    "duration": 24,
    "start_time": "2023-06-25T18:39:11.493Z"
   },
   {
    "duration": 3,
    "start_time": "2023-06-25T18:39:11.523Z"
   },
   {
    "duration": 6,
    "start_time": "2023-06-25T18:39:11.528Z"
   },
   {
    "duration": 25,
    "start_time": "2023-06-25T18:39:11.536Z"
   },
   {
    "duration": 6,
    "start_time": "2023-06-25T18:39:11.563Z"
   },
   {
    "duration": 6,
    "start_time": "2023-06-25T18:39:11.571Z"
   },
   {
    "duration": 75,
    "start_time": "2023-06-25T18:39:11.579Z"
   },
   {
    "duration": 34,
    "start_time": "2023-06-25T18:39:11.657Z"
   },
   {
    "duration": 55,
    "start_time": "2023-06-25T18:39:11.693Z"
   },
   {
    "duration": 29,
    "start_time": "2023-06-25T18:39:11.751Z"
   },
   {
    "duration": 37,
    "start_time": "2023-06-25T18:39:11.782Z"
   },
   {
    "duration": 61,
    "start_time": "2023-06-25T18:39:11.823Z"
   },
   {
    "duration": 55,
    "start_time": "2023-06-25T18:39:11.886Z"
   },
   {
    "duration": 141,
    "start_time": "2023-06-25T18:39:11.943Z"
   },
   {
    "duration": 3,
    "start_time": "2023-06-25T18:39:12.086Z"
   },
   {
    "duration": 22,
    "start_time": "2023-06-25T18:39:12.091Z"
   },
   {
    "duration": 7,
    "start_time": "2023-06-25T18:39:12.115Z"
   },
   {
    "duration": 9,
    "start_time": "2023-06-25T18:39:12.123Z"
   },
   {
    "duration": 11,
    "start_time": "2023-06-25T18:39:12.135Z"
   },
   {
    "duration": 120,
    "start_time": "2023-06-25T18:39:12.148Z"
   },
   {
    "duration": 4,
    "start_time": "2023-06-25T18:39:12.270Z"
   },
   {
    "duration": 3,
    "start_time": "2023-06-25T18:39:12.276Z"
   },
   {
    "duration": 9,
    "start_time": "2023-06-25T18:39:12.281Z"
   },
   {
    "duration": 23,
    "start_time": "2023-06-25T18:39:12.292Z"
   },
   {
    "duration": 16,
    "start_time": "2023-06-25T18:39:12.319Z"
   },
   {
    "duration": 8696,
    "start_time": "2023-06-25T18:39:12.337Z"
   },
   {
    "duration": 0,
    "start_time": "2023-06-25T18:39:21.035Z"
   },
   {
    "duration": 0,
    "start_time": "2023-06-25T18:39:21.036Z"
   },
   {
    "duration": 0,
    "start_time": "2023-06-25T18:39:21.038Z"
   },
   {
    "duration": 3782,
    "start_time": "2023-06-25T18:39:34.592Z"
   },
   {
    "duration": 32,
    "start_time": "2023-06-25T18:39:46.692Z"
   },
   {
    "duration": 4,
    "start_time": "2023-06-25T18:39:57.670Z"
   },
   {
    "duration": 13,
    "start_time": "2023-06-25T18:42:33.554Z"
   },
   {
    "duration": 14,
    "start_time": "2023-06-25T18:43:56.436Z"
   },
   {
    "duration": 91,
    "start_time": "2023-06-25T18:44:22.771Z"
   },
   {
    "duration": 27124,
    "start_time": "2023-06-25T18:44:31.295Z"
   },
   {
    "duration": 4,
    "start_time": "2023-06-25T18:45:28.309Z"
   },
   {
    "duration": 23327,
    "start_time": "2023-06-25T18:45:35.492Z"
   },
   {
    "duration": 27287,
    "start_time": "2023-06-25T18:47:20.228Z"
   },
   {
    "duration": 4,
    "start_time": "2023-06-25T18:48:46.702Z"
   },
   {
    "duration": 23560,
    "start_time": "2023-06-25T18:48:53.359Z"
   },
   {
    "duration": 2587,
    "start_time": "2023-06-26T15:04:52.180Z"
   },
   {
    "duration": 1260,
    "start_time": "2023-06-26T15:04:54.776Z"
   },
   {
    "duration": 180,
    "start_time": "2023-06-26T15:04:56.043Z"
   },
   {
    "duration": 31,
    "start_time": "2023-06-26T15:04:56.226Z"
   },
   {
    "duration": 21,
    "start_time": "2023-06-26T15:04:56.270Z"
   },
   {
    "duration": 51,
    "start_time": "2023-06-26T15:04:56.294Z"
   },
   {
    "duration": 48,
    "start_time": "2023-06-26T15:04:56.350Z"
   },
   {
    "duration": 205,
    "start_time": "2023-06-26T15:04:56.401Z"
   },
   {
    "duration": 123,
    "start_time": "2023-06-26T15:04:56.608Z"
   },
   {
    "duration": 212,
    "start_time": "2023-06-26T15:04:56.738Z"
   },
   {
    "duration": 2,
    "start_time": "2023-06-26T15:04:56.952Z"
   },
   {
    "duration": 91,
    "start_time": "2023-06-26T15:04:56.957Z"
   },
   {
    "duration": 17,
    "start_time": "2023-06-26T15:04:57.052Z"
   },
   {
    "duration": 53,
    "start_time": "2023-06-26T15:04:57.072Z"
   },
   {
    "duration": 3,
    "start_time": "2023-06-26T15:04:57.128Z"
   },
   {
    "duration": 63,
    "start_time": "2023-06-26T15:04:57.133Z"
   },
   {
    "duration": 6,
    "start_time": "2023-06-26T15:04:57.199Z"
   },
   {
    "duration": 12,
    "start_time": "2023-06-26T15:04:57.208Z"
   },
   {
    "duration": 48,
    "start_time": "2023-06-26T15:04:57.223Z"
   },
   {
    "duration": 7,
    "start_time": "2023-06-26T15:04:57.280Z"
   },
   {
    "duration": 380,
    "start_time": "2023-06-26T15:04:57.292Z"
   },
   {
    "duration": 674,
    "start_time": "2023-06-26T15:04:57.674Z"
   },
   {
    "duration": 17,
    "start_time": "2023-06-26T15:04:58.352Z"
   },
   {
    "duration": 63,
    "start_time": "2023-06-26T15:04:58.373Z"
   },
   {
    "duration": 10,
    "start_time": "2023-06-26T15:04:58.447Z"
   },
   {
    "duration": 18,
    "start_time": "2023-06-26T15:04:58.459Z"
   },
   {
    "duration": 31,
    "start_time": "2023-06-26T15:04:58.480Z"
   },
   {
    "duration": 37,
    "start_time": "2023-06-26T15:04:58.516Z"
   },
   {
    "duration": 40,
    "start_time": "2023-06-26T15:04:58.561Z"
   },
   {
    "duration": 56,
    "start_time": "2023-06-26T15:04:58.603Z"
   },
   {
    "duration": 31,
    "start_time": "2023-06-26T15:04:58.663Z"
   },
   {
    "duration": 32,
    "start_time": "2023-06-26T15:04:58.696Z"
   },
   {
    "duration": 96,
    "start_time": "2023-06-26T15:04:58.732Z"
   },
   {
    "duration": 53,
    "start_time": "2023-06-26T15:04:58.837Z"
   },
   {
    "duration": 57,
    "start_time": "2023-06-26T15:04:58.893Z"
   },
   {
    "duration": 41,
    "start_time": "2023-06-26T15:04:58.951Z"
   },
   {
    "duration": 25,
    "start_time": "2023-06-26T15:04:58.994Z"
   },
   {
    "duration": 84,
    "start_time": "2023-06-26T15:04:59.021Z"
   },
   {
    "duration": 66,
    "start_time": "2023-06-26T15:04:59.107Z"
   },
   {
    "duration": 169,
    "start_time": "2023-06-26T15:04:59.175Z"
   },
   {
    "duration": 5,
    "start_time": "2023-06-26T15:04:59.345Z"
   },
   {
    "duration": 33,
    "start_time": "2023-06-26T15:04:59.352Z"
   },
   {
    "duration": 28,
    "start_time": "2023-06-26T15:04:59.387Z"
   },
   {
    "duration": 8,
    "start_time": "2023-06-26T15:04:59.417Z"
   },
   {
    "duration": 7,
    "start_time": "2023-06-26T15:04:59.428Z"
   },
   {
    "duration": 97,
    "start_time": "2023-06-26T15:04:59.437Z"
   },
   {
    "duration": 5,
    "start_time": "2023-06-26T15:04:59.541Z"
   },
   {
    "duration": 4,
    "start_time": "2023-06-26T15:04:59.547Z"
   },
   {
    "duration": 32,
    "start_time": "2023-06-26T15:04:59.557Z"
   },
   {
    "duration": 18,
    "start_time": "2023-06-26T15:04:59.591Z"
   },
   {
    "duration": 63,
    "start_time": "2023-06-26T15:04:59.611Z"
   },
   {
    "duration": 4691,
    "start_time": "2023-06-26T15:04:59.678Z"
   },
   {
    "duration": 57,
    "start_time": "2023-06-26T15:05:04.371Z"
   },
   {
    "duration": 6,
    "start_time": "2023-06-26T15:05:04.436Z"
   },
   {
    "duration": 54713,
    "start_time": "2023-06-26T15:05:04.444Z"
   },
   {
    "duration": 19,
    "start_time": "2023-06-26T15:05:59.159Z"
   },
   {
    "duration": 6,
    "start_time": "2023-06-26T15:07:38.547Z"
   },
   {
    "duration": 62117,
    "start_time": "2023-06-26T15:07:53.289Z"
   },
   {
    "duration": 61652,
    "start_time": "2023-06-26T15:12:26.772Z"
   },
   {
    "duration": 1654,
    "start_time": "2023-06-26T15:49:05.249Z"
   },
   {
    "duration": 1056,
    "start_time": "2023-06-26T15:49:06.906Z"
   },
   {
    "duration": 215,
    "start_time": "2023-06-26T15:49:07.967Z"
   },
   {
    "duration": 20,
    "start_time": "2023-06-26T15:49:08.185Z"
   },
   {
    "duration": 14,
    "start_time": "2023-06-26T15:49:08.216Z"
   },
   {
    "duration": 6,
    "start_time": "2023-06-26T15:49:08.237Z"
   },
   {
    "duration": 37,
    "start_time": "2023-06-26T15:49:08.245Z"
   },
   {
    "duration": 102,
    "start_time": "2023-06-26T15:49:08.284Z"
   },
   {
    "duration": 101,
    "start_time": "2023-06-26T15:49:08.388Z"
   },
   {
    "duration": 170,
    "start_time": "2023-06-26T15:49:08.491Z"
   },
   {
    "duration": 3,
    "start_time": "2023-06-26T15:49:08.662Z"
   },
   {
    "duration": 13,
    "start_time": "2023-06-26T15:49:08.667Z"
   },
   {
    "duration": 18,
    "start_time": "2023-06-26T15:49:08.682Z"
   },
   {
    "duration": 57,
    "start_time": "2023-06-26T15:49:08.704Z"
   },
   {
    "duration": 3,
    "start_time": "2023-06-26T15:49:08.763Z"
   },
   {
    "duration": 34,
    "start_time": "2023-06-26T15:49:08.767Z"
   },
   {
    "duration": 4,
    "start_time": "2023-06-26T15:49:08.803Z"
   },
   {
    "duration": 32,
    "start_time": "2023-06-26T15:49:08.808Z"
   },
   {
    "duration": 29,
    "start_time": "2023-06-26T15:49:08.842Z"
   },
   {
    "duration": 3,
    "start_time": "2023-06-26T15:49:08.873Z"
   },
   {
    "duration": 280,
    "start_time": "2023-06-26T15:49:08.878Z"
   },
   {
    "duration": 615,
    "start_time": "2023-06-26T15:49:09.160Z"
   },
   {
    "duration": 20,
    "start_time": "2023-06-26T15:49:09.778Z"
   },
   {
    "duration": 66,
    "start_time": "2023-06-26T15:49:09.801Z"
   },
   {
    "duration": 4,
    "start_time": "2023-06-26T15:49:09.870Z"
   },
   {
    "duration": 18,
    "start_time": "2023-06-26T15:49:09.876Z"
   },
   {
    "duration": 29,
    "start_time": "2023-06-26T15:49:09.895Z"
   },
   {
    "duration": 41,
    "start_time": "2023-06-26T15:49:09.927Z"
   },
   {
    "duration": 34,
    "start_time": "2023-06-26T15:49:09.970Z"
   },
   {
    "duration": 10,
    "start_time": "2023-06-26T15:49:10.007Z"
   },
   {
    "duration": 48,
    "start_time": "2023-06-26T15:49:10.019Z"
   },
   {
    "duration": 35,
    "start_time": "2023-06-26T15:49:10.070Z"
   },
   {
    "duration": 126,
    "start_time": "2023-06-26T15:49:10.108Z"
   },
   {
    "duration": 35,
    "start_time": "2023-06-26T15:49:10.236Z"
   },
   {
    "duration": 61,
    "start_time": "2023-06-26T15:49:10.274Z"
   },
   {
    "duration": 46,
    "start_time": "2023-06-26T15:49:10.337Z"
   },
   {
    "duration": 34,
    "start_time": "2023-06-26T15:49:10.386Z"
   },
   {
    "duration": 113,
    "start_time": "2023-06-26T15:49:10.425Z"
   },
   {
    "duration": 44,
    "start_time": "2023-06-26T15:49:10.553Z"
   },
   {
    "duration": 208,
    "start_time": "2023-06-26T15:49:10.599Z"
   },
   {
    "duration": 18,
    "start_time": "2023-06-26T15:49:10.817Z"
   },
   {
    "duration": 31,
    "start_time": "2023-06-26T15:49:10.836Z"
   },
   {
    "duration": 25,
    "start_time": "2023-06-26T15:49:10.869Z"
   },
   {
    "duration": 8,
    "start_time": "2023-06-26T15:49:10.895Z"
   },
   {
    "duration": 32,
    "start_time": "2023-06-26T15:49:10.904Z"
   },
   {
    "duration": 131,
    "start_time": "2023-06-26T15:49:10.941Z"
   },
   {
    "duration": 4,
    "start_time": "2023-06-26T15:49:11.074Z"
   },
   {
    "duration": 52,
    "start_time": "2023-06-26T15:49:11.080Z"
   },
   {
    "duration": 115,
    "start_time": "2023-06-26T15:49:11.134Z"
   },
   {
    "duration": 149,
    "start_time": "2023-06-26T15:49:11.251Z"
   },
   {
    "duration": 58,
    "start_time": "2023-06-26T15:49:11.402Z"
   },
   {
    "duration": 4,
    "start_time": "2023-06-26T15:49:11.465Z"
   },
   {
    "duration": 4406,
    "start_time": "2023-06-26T15:49:11.471Z"
   },
   {
    "duration": 44,
    "start_time": "2023-06-26T15:49:15.887Z"
   },
   {
    "duration": 11,
    "start_time": "2023-06-26T15:49:15.942Z"
   },
   {
    "duration": 68986,
    "start_time": "2023-06-26T15:49:15.955Z"
   },
   {
    "duration": 238,
    "start_time": "2023-06-26T15:50:25.017Z"
   },
   {
    "duration": 140,
    "start_time": "2023-06-26T15:51:44.571Z"
   },
   {
    "duration": 1813,
    "start_time": "2023-06-26T15:52:32.782Z"
   },
   {
    "duration": 1053,
    "start_time": "2023-06-26T15:52:34.598Z"
   },
   {
    "duration": 148,
    "start_time": "2023-06-26T15:52:35.653Z"
   },
   {
    "duration": 79,
    "start_time": "2023-06-26T15:52:35.804Z"
   },
   {
    "duration": 17,
    "start_time": "2023-06-26T15:52:35.885Z"
   },
   {
    "duration": 22,
    "start_time": "2023-06-26T15:52:35.904Z"
   },
   {
    "duration": 41,
    "start_time": "2023-06-26T15:52:35.930Z"
   },
   {
    "duration": 117,
    "start_time": "2023-06-26T15:52:35.973Z"
   },
   {
    "duration": 96,
    "start_time": "2023-06-26T15:52:36.091Z"
   },
   {
    "duration": 202,
    "start_time": "2023-06-26T15:52:36.190Z"
   },
   {
    "duration": 3,
    "start_time": "2023-06-26T15:52:36.394Z"
   },
   {
    "duration": 22,
    "start_time": "2023-06-26T15:52:36.399Z"
   },
   {
    "duration": 26,
    "start_time": "2023-06-26T15:52:36.430Z"
   },
   {
    "duration": 38,
    "start_time": "2023-06-26T15:52:36.457Z"
   },
   {
    "duration": 33,
    "start_time": "2023-06-26T15:52:36.497Z"
   },
   {
    "duration": 51,
    "start_time": "2023-06-26T15:52:36.532Z"
   },
   {
    "duration": 45,
    "start_time": "2023-06-26T15:52:36.584Z"
   },
   {
    "duration": 25,
    "start_time": "2023-06-26T15:52:36.631Z"
   },
   {
    "duration": 53,
    "start_time": "2023-06-26T15:52:36.658Z"
   },
   {
    "duration": 28,
    "start_time": "2023-06-26T15:52:36.713Z"
   },
   {
    "duration": 298,
    "start_time": "2023-06-26T15:52:36.742Z"
   },
   {
    "duration": 548,
    "start_time": "2023-06-26T15:52:37.042Z"
   },
   {
    "duration": 28,
    "start_time": "2023-06-26T15:52:37.592Z"
   },
   {
    "duration": 48,
    "start_time": "2023-06-26T15:52:37.622Z"
   },
   {
    "duration": 9,
    "start_time": "2023-06-26T15:52:37.673Z"
   },
   {
    "duration": 19,
    "start_time": "2023-06-26T15:52:37.684Z"
   },
   {
    "duration": 31,
    "start_time": "2023-06-26T15:52:37.705Z"
   },
   {
    "duration": 18,
    "start_time": "2023-06-26T15:52:37.749Z"
   },
   {
    "duration": 15,
    "start_time": "2023-06-26T15:52:37.769Z"
   },
   {
    "duration": 47,
    "start_time": "2023-06-26T15:52:37.786Z"
   },
   {
    "duration": 24,
    "start_time": "2023-06-26T15:52:37.834Z"
   },
   {
    "duration": 17,
    "start_time": "2023-06-26T15:52:37.861Z"
   },
   {
    "duration": 120,
    "start_time": "2023-06-26T15:52:37.880Z"
   },
   {
    "duration": 47,
    "start_time": "2023-06-26T15:52:38.003Z"
   },
   {
    "duration": 36,
    "start_time": "2023-06-26T15:52:38.055Z"
   },
   {
    "duration": 64,
    "start_time": "2023-06-26T15:52:38.093Z"
   },
   {
    "duration": 27,
    "start_time": "2023-06-26T15:52:38.159Z"
   },
   {
    "duration": 124,
    "start_time": "2023-06-26T15:52:38.188Z"
   },
   {
    "duration": 70,
    "start_time": "2023-06-26T15:52:38.315Z"
   },
   {
    "duration": 145,
    "start_time": "2023-06-26T15:52:38.387Z"
   },
   {
    "duration": 14,
    "start_time": "2023-06-26T15:52:38.534Z"
   },
   {
    "duration": 27,
    "start_time": "2023-06-26T15:52:38.550Z"
   },
   {
    "duration": 49,
    "start_time": "2023-06-26T15:52:38.579Z"
   },
   {
    "duration": 28,
    "start_time": "2023-06-26T15:52:38.633Z"
   },
   {
    "duration": 18,
    "start_time": "2023-06-26T15:52:38.663Z"
   },
   {
    "duration": 146,
    "start_time": "2023-06-26T15:52:38.683Z"
   },
   {
    "duration": 14,
    "start_time": "2023-06-26T15:52:38.831Z"
   },
   {
    "duration": 33,
    "start_time": "2023-06-26T15:52:38.852Z"
   },
   {
    "duration": 21,
    "start_time": "2023-06-26T15:52:38.887Z"
   },
   {
    "duration": 82,
    "start_time": "2023-06-26T15:52:38.910Z"
   },
   {
    "duration": 4277,
    "start_time": "2023-06-26T15:52:38.994Z"
   },
   {
    "duration": 68948,
    "start_time": "2023-06-26T15:52:43.273Z"
   },
   {
    "duration": 9444,
    "start_time": "2023-06-26T15:53:52.223Z"
   },
   {
    "duration": 129,
    "start_time": "2023-06-26T15:54:01.671Z"
   },
   {
    "duration": 1772,
    "start_time": "2023-06-26T16:14:42.713Z"
   },
   {
    "duration": 1013,
    "start_time": "2023-06-26T16:14:44.487Z"
   },
   {
    "duration": 165,
    "start_time": "2023-06-26T16:14:45.502Z"
   },
   {
    "duration": 23,
    "start_time": "2023-06-26T16:14:45.673Z"
   },
   {
    "duration": 4,
    "start_time": "2023-06-26T16:14:45.698Z"
   },
   {
    "duration": 27,
    "start_time": "2023-06-26T16:14:45.704Z"
   },
   {
    "duration": 37,
    "start_time": "2023-06-26T16:14:45.733Z"
   },
   {
    "duration": 102,
    "start_time": "2023-06-26T16:14:45.772Z"
   },
   {
    "duration": 92,
    "start_time": "2023-06-26T16:14:45.876Z"
   },
   {
    "duration": 177,
    "start_time": "2023-06-26T16:14:45.971Z"
   },
   {
    "duration": 4,
    "start_time": "2023-06-26T16:14:46.150Z"
   },
   {
    "duration": 21,
    "start_time": "2023-06-26T16:14:46.156Z"
   },
   {
    "duration": 15,
    "start_time": "2023-06-26T16:14:46.179Z"
   },
   {
    "duration": 68,
    "start_time": "2023-06-26T16:14:46.196Z"
   },
   {
    "duration": 3,
    "start_time": "2023-06-26T16:14:46.274Z"
   },
   {
    "duration": 26,
    "start_time": "2023-06-26T16:14:46.278Z"
   },
   {
    "duration": 6,
    "start_time": "2023-06-26T16:14:46.306Z"
   },
   {
    "duration": 25,
    "start_time": "2023-06-26T16:14:46.314Z"
   },
   {
    "duration": 37,
    "start_time": "2023-06-26T16:14:46.347Z"
   },
   {
    "duration": 22,
    "start_time": "2023-06-26T16:14:46.386Z"
   },
   {
    "duration": 349,
    "start_time": "2023-06-26T16:14:46.410Z"
   },
   {
    "duration": 606,
    "start_time": "2023-06-26T16:14:46.764Z"
   },
   {
    "duration": 16,
    "start_time": "2023-06-26T16:14:47.372Z"
   },
   {
    "duration": 70,
    "start_time": "2023-06-26T16:14:47.390Z"
   },
   {
    "duration": 6,
    "start_time": "2023-06-26T16:14:47.462Z"
   },
   {
    "duration": 15,
    "start_time": "2023-06-26T16:14:47.471Z"
   },
   {
    "duration": 7,
    "start_time": "2023-06-26T16:14:47.488Z"
   },
   {
    "duration": 10,
    "start_time": "2023-06-26T16:14:47.498Z"
   },
   {
    "duration": 32,
    "start_time": "2023-06-26T16:14:47.511Z"
   },
   {
    "duration": 6,
    "start_time": "2023-06-26T16:14:47.545Z"
   },
   {
    "duration": 16,
    "start_time": "2023-06-26T16:14:47.554Z"
   },
   {
    "duration": 3,
    "start_time": "2023-06-26T16:14:47.572Z"
   },
   {
    "duration": 79,
    "start_time": "2023-06-26T16:14:47.577Z"
   },
   {
    "duration": 39,
    "start_time": "2023-06-26T16:14:47.658Z"
   },
   {
    "duration": 55,
    "start_time": "2023-06-26T16:14:47.699Z"
   },
   {
    "duration": 35,
    "start_time": "2023-06-26T16:14:47.756Z"
   },
   {
    "duration": 17,
    "start_time": "2023-06-26T16:14:47.792Z"
   },
   {
    "duration": 84,
    "start_time": "2023-06-26T16:14:47.811Z"
   },
   {
    "duration": 54,
    "start_time": "2023-06-26T16:14:47.897Z"
   },
   {
    "duration": 169,
    "start_time": "2023-06-26T16:14:47.957Z"
   },
   {
    "duration": 8,
    "start_time": "2023-06-26T16:14:48.129Z"
   },
   {
    "duration": 29,
    "start_time": "2023-06-26T16:14:48.139Z"
   },
   {
    "duration": 10,
    "start_time": "2023-06-26T16:14:48.171Z"
   },
   {
    "duration": 47,
    "start_time": "2023-06-26T16:14:48.184Z"
   },
   {
    "duration": 43,
    "start_time": "2023-06-26T16:14:48.233Z"
   },
   {
    "duration": 126,
    "start_time": "2023-06-26T16:14:48.278Z"
   },
   {
    "duration": 5,
    "start_time": "2023-06-26T16:14:48.406Z"
   },
   {
    "duration": 35,
    "start_time": "2023-06-26T16:14:48.412Z"
   },
   {
    "duration": 9,
    "start_time": "2023-06-26T16:14:48.455Z"
   },
   {
    "duration": 13,
    "start_time": "2023-06-26T16:14:48.471Z"
   },
   {
    "duration": 4268,
    "start_time": "2023-06-26T16:14:48.486Z"
   },
   {
    "duration": 82320,
    "start_time": "2023-06-26T16:14:52.756Z"
   },
   {
    "duration": 234,
    "start_time": "2023-06-26T16:16:15.114Z"
   },
   {
    "duration": 0,
    "start_time": "2023-06-26T16:16:15.350Z"
   },
   {
    "duration": 0,
    "start_time": "2023-06-26T16:16:15.351Z"
   },
   {
    "duration": 0,
    "start_time": "2023-06-26T16:16:15.351Z"
   },
   {
    "duration": 0,
    "start_time": "2023-06-26T16:16:15.352Z"
   },
   {
    "duration": 0,
    "start_time": "2023-06-26T16:16:15.353Z"
   },
   {
    "duration": 11,
    "start_time": "2023-06-26T16:17:11.142Z"
   },
   {
    "duration": 448,
    "start_time": "2023-06-26T16:17:16.738Z"
   },
   {
    "duration": 18,
    "start_time": "2023-06-26T16:17:26.865Z"
   },
   {
    "duration": 552,
    "start_time": "2023-06-26T16:19:09.565Z"
   },
   {
    "duration": 3789,
    "start_time": "2023-06-26T16:19:47.794Z"
   },
   {
    "duration": 601,
    "start_time": "2023-06-26T16:21:23.131Z"
   },
   {
    "duration": 410,
    "start_time": "2023-06-26T16:21:51.115Z"
   },
   {
    "duration": 140,
    "start_time": "2023-06-26T16:43:42.265Z"
   },
   {
    "duration": 170,
    "start_time": "2023-06-26T17:01:05.626Z"
   },
   {
    "duration": 184,
    "start_time": "2023-06-26T17:01:09.186Z"
   },
   {
    "duration": 6,
    "start_time": "2023-06-26T17:01:15.350Z"
   },
   {
    "duration": 335,
    "start_time": "2023-06-26T17:01:21.253Z"
   },
   {
    "duration": 136,
    "start_time": "2023-06-26T17:06:35.940Z"
   },
   {
    "duration": 22,
    "start_time": "2023-06-26T17:22:03.809Z"
   },
   {
    "duration": 7,
    "start_time": "2023-06-26T17:22:45.565Z"
   },
   {
    "duration": 16,
    "start_time": "2023-06-26T17:22:52.550Z"
   },
   {
    "duration": 6666,
    "start_time": "2023-06-26T17:23:08.137Z"
   },
   {
    "duration": 85,
    "start_time": "2023-06-26T17:24:03.301Z"
   },
   {
    "duration": 236,
    "start_time": "2023-06-26T17:24:12.341Z"
   },
   {
    "duration": 209,
    "start_time": "2023-06-26T17:26:52.284Z"
   },
   {
    "duration": 348,
    "start_time": "2023-06-26T17:27:31.503Z"
   },
   {
    "duration": 336,
    "start_time": "2023-06-26T17:28:04.859Z"
   },
   {
    "duration": 140,
    "start_time": "2023-06-26T17:44:53.346Z"
   },
   {
    "duration": 21,
    "start_time": "2023-06-26T17:47:42.498Z"
   },
   {
    "duration": 396559,
    "start_time": "2023-06-26T17:47:55.910Z"
   },
   {
    "duration": 185,
    "start_time": "2023-06-26T17:58:04.047Z"
   },
   {
    "duration": 1978,
    "start_time": "2023-06-26T18:00:34.059Z"
   },
   {
    "duration": 1138,
    "start_time": "2023-06-26T18:00:36.042Z"
   },
   {
    "duration": 243,
    "start_time": "2023-06-26T18:00:37.182Z"
   },
   {
    "duration": 31,
    "start_time": "2023-06-26T18:00:37.431Z"
   },
   {
    "duration": 33,
    "start_time": "2023-06-26T18:00:37.465Z"
   },
   {
    "duration": 24,
    "start_time": "2023-06-26T18:00:37.501Z"
   },
   {
    "duration": 41,
    "start_time": "2023-06-26T18:00:37.527Z"
   },
   {
    "duration": 153,
    "start_time": "2023-06-26T18:00:37.571Z"
   },
   {
    "duration": 141,
    "start_time": "2023-06-26T18:00:37.726Z"
   },
   {
    "duration": 237,
    "start_time": "2023-06-26T18:00:37.869Z"
   },
   {
    "duration": 3,
    "start_time": "2023-06-26T18:00:38.108Z"
   },
   {
    "duration": 11,
    "start_time": "2023-06-26T18:00:38.120Z"
   },
   {
    "duration": 7,
    "start_time": "2023-06-26T18:00:38.140Z"
   },
   {
    "duration": 47,
    "start_time": "2023-06-26T18:00:38.153Z"
   },
   {
    "duration": 8,
    "start_time": "2023-06-26T18:00:38.203Z"
   },
   {
    "duration": 74,
    "start_time": "2023-06-26T18:00:38.216Z"
   },
   {
    "duration": 3,
    "start_time": "2023-06-26T18:00:38.293Z"
   },
   {
    "duration": 19,
    "start_time": "2023-06-26T18:00:38.299Z"
   },
   {
    "duration": 45,
    "start_time": "2023-06-26T18:00:38.320Z"
   },
   {
    "duration": 3,
    "start_time": "2023-06-26T18:00:38.368Z"
   },
   {
    "duration": 359,
    "start_time": "2023-06-26T18:00:38.377Z"
   },
   {
    "duration": 781,
    "start_time": "2023-06-26T18:00:38.738Z"
   },
   {
    "duration": 21,
    "start_time": "2023-06-26T18:00:39.525Z"
   },
   {
    "duration": 53,
    "start_time": "2023-06-26T18:00:39.553Z"
   },
   {
    "duration": 7,
    "start_time": "2023-06-26T18:00:39.609Z"
   },
   {
    "duration": 24,
    "start_time": "2023-06-26T18:00:39.623Z"
   },
   {
    "duration": 19,
    "start_time": "2023-06-26T18:00:39.651Z"
   },
   {
    "duration": 30,
    "start_time": "2023-06-26T18:00:39.672Z"
   },
   {
    "duration": 29,
    "start_time": "2023-06-26T18:00:39.705Z"
   },
   {
    "duration": 13,
    "start_time": "2023-06-26T18:00:39.740Z"
   },
   {
    "duration": 7,
    "start_time": "2023-06-26T18:00:39.760Z"
   },
   {
    "duration": 17,
    "start_time": "2023-06-26T18:00:39.769Z"
   },
   {
    "duration": 115,
    "start_time": "2023-06-26T18:00:39.788Z"
   },
   {
    "duration": 40,
    "start_time": "2023-06-26T18:00:39.905Z"
   },
   {
    "duration": 49,
    "start_time": "2023-06-26T18:00:39.952Z"
   },
   {
    "duration": 63,
    "start_time": "2023-06-26T18:00:40.004Z"
   },
   {
    "duration": 35,
    "start_time": "2023-06-26T18:00:40.071Z"
   },
   {
    "duration": 109,
    "start_time": "2023-06-26T18:00:40.109Z"
   },
   {
    "duration": 54,
    "start_time": "2023-06-26T18:00:40.222Z"
   },
   {
    "duration": 198,
    "start_time": "2023-06-26T18:00:40.278Z"
   },
   {
    "duration": 13,
    "start_time": "2023-06-26T18:00:40.483Z"
   },
   {
    "duration": 41,
    "start_time": "2023-06-26T18:00:40.499Z"
   },
   {
    "duration": 25,
    "start_time": "2023-06-26T18:00:40.542Z"
   },
   {
    "duration": 7,
    "start_time": "2023-06-26T18:00:40.570Z"
   },
   {
    "duration": 6,
    "start_time": "2023-06-26T18:00:40.580Z"
   },
   {
    "duration": 115,
    "start_time": "2023-06-26T18:00:40.588Z"
   },
   {
    "duration": 15,
    "start_time": "2023-06-26T18:00:40.706Z"
   },
   {
    "duration": 6,
    "start_time": "2023-06-26T18:00:40.727Z"
   },
   {
    "duration": 10,
    "start_time": "2023-06-26T18:00:40.742Z"
   },
   {
    "duration": 19,
    "start_time": "2023-06-26T18:00:40.754Z"
   },
   {
    "duration": 4756,
    "start_time": "2023-06-26T18:00:40.776Z"
   },
   {
    "duration": 52432,
    "start_time": "2023-06-26T18:00:45.535Z"
   },
   {
    "duration": 717,
    "start_time": "2023-06-26T18:01:38.025Z"
   },
   {
    "duration": 5673,
    "start_time": "2023-06-26T18:01:38.753Z"
   },
   {
    "duration": 271,
    "start_time": "2023-06-26T18:01:44.427Z"
   },
   {
    "duration": 197,
    "start_time": "2023-06-26T18:01:44.700Z"
   },
   {
    "duration": 0,
    "start_time": "2023-06-26T18:01:44.900Z"
   },
   {
    "duration": 5,
    "start_time": "2023-06-26T18:03:00.548Z"
   },
   {
    "duration": 16,
    "start_time": "2023-06-26T18:03:05.756Z"
   },
   {
    "duration": 1676,
    "start_time": "2023-06-26T18:03:43.085Z"
   },
   {
    "duration": 951,
    "start_time": "2023-06-26T18:03:44.763Z"
   },
   {
    "duration": 122,
    "start_time": "2023-06-26T18:03:45.720Z"
   },
   {
    "duration": 20,
    "start_time": "2023-06-26T18:03:45.844Z"
   },
   {
    "duration": 4,
    "start_time": "2023-06-26T18:03:45.866Z"
   },
   {
    "duration": 8,
    "start_time": "2023-06-26T18:03:45.872Z"
   },
   {
    "duration": 52,
    "start_time": "2023-06-26T18:03:45.882Z"
   },
   {
    "duration": 92,
    "start_time": "2023-06-26T18:03:45.935Z"
   },
   {
    "duration": 101,
    "start_time": "2023-06-26T18:03:46.029Z"
   },
   {
    "duration": 128,
    "start_time": "2023-06-26T18:03:46.133Z"
   },
   {
    "duration": 3,
    "start_time": "2023-06-26T18:03:46.263Z"
   },
   {
    "duration": 6,
    "start_time": "2023-06-26T18:03:46.268Z"
   },
   {
    "duration": 563,
    "start_time": "2023-06-26T18:03:46.276Z"
   },
   {
    "duration": 0,
    "start_time": "2023-06-26T18:03:46.842Z"
   },
   {
    "duration": 0,
    "start_time": "2023-06-26T18:03:46.844Z"
   },
   {
    "duration": 0,
    "start_time": "2023-06-26T18:03:46.846Z"
   },
   {
    "duration": 0,
    "start_time": "2023-06-26T18:03:46.847Z"
   },
   {
    "duration": 0,
    "start_time": "2023-06-26T18:03:46.848Z"
   },
   {
    "duration": 0,
    "start_time": "2023-06-26T18:03:46.850Z"
   },
   {
    "duration": 0,
    "start_time": "2023-06-26T18:03:46.851Z"
   },
   {
    "duration": 0,
    "start_time": "2023-06-26T18:03:46.852Z"
   },
   {
    "duration": 0,
    "start_time": "2023-06-26T18:03:46.853Z"
   },
   {
    "duration": 0,
    "start_time": "2023-06-26T18:03:46.854Z"
   },
   {
    "duration": 0,
    "start_time": "2023-06-26T18:03:46.856Z"
   },
   {
    "duration": 0,
    "start_time": "2023-06-26T18:03:46.857Z"
   },
   {
    "duration": 0,
    "start_time": "2023-06-26T18:03:46.858Z"
   },
   {
    "duration": 0,
    "start_time": "2023-06-26T18:03:46.860Z"
   },
   {
    "duration": 0,
    "start_time": "2023-06-26T18:03:46.861Z"
   },
   {
    "duration": 0,
    "start_time": "2023-06-26T18:03:46.862Z"
   },
   {
    "duration": 0,
    "start_time": "2023-06-26T18:03:46.863Z"
   },
   {
    "duration": 0,
    "start_time": "2023-06-26T18:03:46.864Z"
   },
   {
    "duration": 0,
    "start_time": "2023-06-26T18:03:46.866Z"
   },
   {
    "duration": 0,
    "start_time": "2023-06-26T18:03:46.867Z"
   },
   {
    "duration": 0,
    "start_time": "2023-06-26T18:03:46.868Z"
   },
   {
    "duration": 0,
    "start_time": "2023-06-26T18:03:46.869Z"
   },
   {
    "duration": 0,
    "start_time": "2023-06-26T18:03:46.870Z"
   },
   {
    "duration": 0,
    "start_time": "2023-06-26T18:03:46.871Z"
   },
   {
    "duration": 0,
    "start_time": "2023-06-26T18:03:46.872Z"
   },
   {
    "duration": 0,
    "start_time": "2023-06-26T18:03:46.873Z"
   },
   {
    "duration": 0,
    "start_time": "2023-06-26T18:03:46.875Z"
   },
   {
    "duration": 0,
    "start_time": "2023-06-26T18:03:46.876Z"
   },
   {
    "duration": 0,
    "start_time": "2023-06-26T18:03:46.877Z"
   },
   {
    "duration": 0,
    "start_time": "2023-06-26T18:03:46.917Z"
   },
   {
    "duration": 0,
    "start_time": "2023-06-26T18:03:46.918Z"
   },
   {
    "duration": 0,
    "start_time": "2023-06-26T18:03:46.924Z"
   },
   {
    "duration": 0,
    "start_time": "2023-06-26T18:03:46.925Z"
   },
   {
    "duration": 0,
    "start_time": "2023-06-26T18:03:46.926Z"
   },
   {
    "duration": 0,
    "start_time": "2023-06-26T18:03:46.927Z"
   },
   {
    "duration": 0,
    "start_time": "2023-06-26T18:03:46.928Z"
   },
   {
    "duration": 0,
    "start_time": "2023-06-26T18:03:46.929Z"
   },
   {
    "duration": 0,
    "start_time": "2023-06-26T18:03:46.932Z"
   },
   {
    "duration": 0,
    "start_time": "2023-06-26T18:03:46.933Z"
   },
   {
    "duration": 0,
    "start_time": "2023-06-26T18:03:46.934Z"
   },
   {
    "duration": 0,
    "start_time": "2023-06-26T18:03:46.940Z"
   },
   {
    "duration": 0,
    "start_time": "2023-06-26T18:03:46.941Z"
   },
   {
    "duration": 0,
    "start_time": "2023-06-26T18:03:46.943Z"
   },
   {
    "duration": 0,
    "start_time": "2023-06-26T18:03:46.944Z"
   },
   {
    "duration": 1224,
    "start_time": "2023-06-26T18:04:04.726Z"
   },
   {
    "duration": 3,
    "start_time": "2023-06-26T18:11:02.873Z"
   },
   {
    "duration": 1664,
    "start_time": "2023-06-26T18:11:11.106Z"
   },
   {
    "duration": 984,
    "start_time": "2023-06-26T18:11:12.773Z"
   },
   {
    "duration": 164,
    "start_time": "2023-06-26T18:11:13.759Z"
   },
   {
    "duration": 25,
    "start_time": "2023-06-26T18:11:13.925Z"
   },
   {
    "duration": 7,
    "start_time": "2023-06-26T18:11:13.953Z"
   },
   {
    "duration": 31,
    "start_time": "2023-06-26T18:11:13.962Z"
   },
   {
    "duration": 78,
    "start_time": "2023-06-26T18:11:13.995Z"
   },
   {
    "duration": 168,
    "start_time": "2023-06-26T18:11:14.075Z"
   },
   {
    "duration": 102,
    "start_time": "2023-06-26T18:11:14.245Z"
   },
   {
    "duration": 151,
    "start_time": "2023-06-26T18:11:14.350Z"
   },
   {
    "duration": 3,
    "start_time": "2023-06-26T18:11:14.503Z"
   },
   {
    "duration": 49,
    "start_time": "2023-06-26T18:11:14.513Z"
   },
   {
    "duration": 12,
    "start_time": "2023-06-26T18:11:14.563Z"
   },
   {
    "duration": 42,
    "start_time": "2023-06-26T18:11:14.577Z"
   },
   {
    "duration": 20,
    "start_time": "2023-06-26T18:11:14.623Z"
   },
   {
    "duration": 30,
    "start_time": "2023-06-26T18:11:14.646Z"
   },
   {
    "duration": 3,
    "start_time": "2023-06-26T18:11:14.678Z"
   },
   {
    "duration": 11,
    "start_time": "2023-06-26T18:11:14.682Z"
   },
   {
    "duration": 34,
    "start_time": "2023-06-26T18:11:14.694Z"
   },
   {
    "duration": 3,
    "start_time": "2023-06-26T18:11:14.734Z"
   },
   {
    "duration": 279,
    "start_time": "2023-06-26T18:11:14.740Z"
   },
   {
    "duration": 590,
    "start_time": "2023-06-26T18:11:15.023Z"
   },
   {
    "duration": 16,
    "start_time": "2023-06-26T18:11:15.619Z"
   },
   {
    "duration": 55,
    "start_time": "2023-06-26T18:11:15.642Z"
   },
   {
    "duration": 12,
    "start_time": "2023-06-26T18:11:15.699Z"
   },
   {
    "duration": 35,
    "start_time": "2023-06-26T18:11:15.713Z"
   },
   {
    "duration": 49,
    "start_time": "2023-06-26T18:11:15.750Z"
   },
   {
    "duration": 39,
    "start_time": "2023-06-26T18:11:15.803Z"
   },
   {
    "duration": 46,
    "start_time": "2023-06-26T18:11:15.844Z"
   },
   {
    "duration": 76,
    "start_time": "2023-06-26T18:11:15.892Z"
   },
   {
    "duration": 40,
    "start_time": "2023-06-26T18:11:15.970Z"
   },
   {
    "duration": 20,
    "start_time": "2023-06-26T18:11:16.012Z"
   },
   {
    "duration": 108,
    "start_time": "2023-06-26T18:11:16.035Z"
   },
   {
    "duration": 32,
    "start_time": "2023-06-26T18:11:16.145Z"
   },
   {
    "duration": 72,
    "start_time": "2023-06-26T18:11:16.179Z"
   },
   {
    "duration": 37,
    "start_time": "2023-06-26T18:11:16.253Z"
   },
   {
    "duration": 17,
    "start_time": "2023-06-26T18:11:16.292Z"
   },
   {
    "duration": 99,
    "start_time": "2023-06-26T18:11:16.311Z"
   },
   {
    "duration": 51,
    "start_time": "2023-06-26T18:11:16.412Z"
   },
   {
    "duration": 137,
    "start_time": "2023-06-26T18:11:16.465Z"
   },
   {
    "duration": 13,
    "start_time": "2023-06-26T18:11:16.604Z"
   },
   {
    "duration": 9,
    "start_time": "2023-06-26T18:11:16.622Z"
   },
   {
    "duration": 71,
    "start_time": "2023-06-26T18:11:16.633Z"
   },
   {
    "duration": 37,
    "start_time": "2023-06-26T18:11:16.706Z"
   },
   {
    "duration": 17,
    "start_time": "2023-06-26T18:11:16.745Z"
   },
   {
    "duration": 147,
    "start_time": "2023-06-26T18:11:16.765Z"
   },
   {
    "duration": 13,
    "start_time": "2023-06-26T18:11:16.921Z"
   },
   {
    "duration": 13,
    "start_time": "2023-06-26T18:11:16.936Z"
   },
   {
    "duration": 10,
    "start_time": "2023-06-26T18:11:16.951Z"
   },
   {
    "duration": 20,
    "start_time": "2023-06-26T18:11:16.963Z"
   },
   {
    "duration": 3796,
    "start_time": "2023-06-26T18:11:16.986Z"
   },
   {
    "duration": 73465,
    "start_time": "2023-06-26T18:11:20.785Z"
   },
   {
    "duration": 530,
    "start_time": "2023-06-26T18:12:34.315Z"
   },
   {
    "duration": 4930,
    "start_time": "2023-06-26T18:12:34.846Z"
   },
   {
    "duration": 340,
    "start_time": "2023-06-26T18:12:39.779Z"
   },
   {
    "duration": 85007,
    "start_time": "2023-06-26T18:12:40.123Z"
   },
   {
    "duration": 3,
    "start_time": "2023-06-26T18:14:05.133Z"
   },
   {
    "duration": 1001,
    "start_time": "2023-06-26T18:14:31.327Z"
   },
   {
    "duration": 2,
    "start_time": "2023-06-26T18:17:16.954Z"
   },
   {
    "duration": 87783,
    "start_time": "2023-06-26T18:18:16.310Z"
   },
   {
    "duration": 6679,
    "start_time": "2023-06-26T18:20:53.499Z"
   },
   {
    "duration": 3,
    "start_time": "2023-06-27T01:59:03.500Z"
   },
   {
    "duration": 13,
    "start_time": "2023-06-27T01:59:04.047Z"
   },
   {
    "duration": 3,
    "start_time": "2023-06-27T01:59:28.888Z"
   },
   {
    "duration": 44,
    "start_time": "2023-06-27T01:59:29.889Z"
   },
   {
    "duration": 63,
    "start_time": "2023-06-27T01:59:50.480Z"
   },
   {
    "duration": 1464,
    "start_time": "2023-06-27T01:59:59.733Z"
   },
   {
    "duration": 894,
    "start_time": "2023-06-27T02:00:01.199Z"
   },
   {
    "duration": 138,
    "start_time": "2023-06-27T02:00:02.096Z"
   },
   {
    "duration": 18,
    "start_time": "2023-06-27T02:00:02.236Z"
   },
   {
    "duration": 150,
    "start_time": "2023-06-27T02:00:02.255Z"
   },
   {
    "duration": 63,
    "start_time": "2023-06-27T02:00:02.407Z"
   },
   {
    "duration": 72,
    "start_time": "2023-06-27T02:00:02.471Z"
   },
   {
    "duration": 125,
    "start_time": "2023-06-27T02:00:02.545Z"
   },
   {
    "duration": 94,
    "start_time": "2023-06-27T02:00:02.671Z"
   },
   {
    "duration": 144,
    "start_time": "2023-06-27T02:00:02.768Z"
   },
   {
    "duration": 10,
    "start_time": "2023-06-27T02:00:02.913Z"
   },
   {
    "duration": 165,
    "start_time": "2023-06-27T02:00:02.924Z"
   },
   {
    "duration": 157,
    "start_time": "2023-06-27T02:00:03.091Z"
   },
   {
    "duration": 90,
    "start_time": "2023-06-27T02:00:03.250Z"
   },
   {
    "duration": 3,
    "start_time": "2023-06-27T02:00:03.342Z"
   },
   {
    "duration": 49,
    "start_time": "2023-06-27T02:00:03.346Z"
   },
   {
    "duration": 74,
    "start_time": "2023-06-27T02:00:03.397Z"
   },
   {
    "duration": 52,
    "start_time": "2023-06-27T02:00:03.473Z"
   },
   {
    "duration": 102,
    "start_time": "2023-06-27T02:00:03.527Z"
   },
   {
    "duration": 22,
    "start_time": "2023-06-27T02:00:03.631Z"
   },
   {
    "duration": 34,
    "start_time": "2023-06-27T02:00:03.655Z"
   },
   {
    "duration": 57,
    "start_time": "2023-06-27T02:00:03.691Z"
   },
   {
    "duration": 236,
    "start_time": "2023-06-27T02:00:03.750Z"
   },
   {
    "duration": 286,
    "start_time": "2023-06-27T02:00:03.988Z"
   },
   {
    "duration": 490,
    "start_time": "2023-06-27T02:00:04.276Z"
   },
   {
    "duration": 13,
    "start_time": "2023-06-27T02:00:04.768Z"
   },
   {
    "duration": 74,
    "start_time": "2023-06-27T02:00:04.782Z"
   },
   {
    "duration": 4,
    "start_time": "2023-06-27T02:00:04.860Z"
   },
   {
    "duration": 44,
    "start_time": "2023-06-27T02:00:04.865Z"
   },
   {
    "duration": 37,
    "start_time": "2023-06-27T02:00:04.911Z"
   },
   {
    "duration": 13,
    "start_time": "2023-06-27T02:00:04.950Z"
   },
   {
    "duration": 7,
    "start_time": "2023-06-27T02:00:04.965Z"
   },
   {
    "duration": 25,
    "start_time": "2023-06-27T02:00:04.974Z"
   },
   {
    "duration": 35,
    "start_time": "2023-06-27T02:00:05.001Z"
   },
   {
    "duration": 98,
    "start_time": "2023-06-27T02:00:05.038Z"
   },
   {
    "duration": 29,
    "start_time": "2023-06-27T02:00:05.138Z"
   },
   {
    "duration": 38,
    "start_time": "2023-06-27T02:00:05.168Z"
   },
   {
    "duration": 69,
    "start_time": "2023-06-27T02:00:05.208Z"
   },
   {
    "duration": 40,
    "start_time": "2023-06-27T02:00:05.279Z"
   },
   {
    "duration": 88,
    "start_time": "2023-06-27T02:00:05.321Z"
   },
   {
    "duration": 50,
    "start_time": "2023-06-27T02:00:05.410Z"
   },
   {
    "duration": 133,
    "start_time": "2023-06-27T02:00:05.461Z"
   },
   {
    "duration": 4,
    "start_time": "2023-06-27T02:00:05.597Z"
   },
   {
    "duration": 26,
    "start_time": "2023-06-27T02:00:05.603Z"
   },
   {
    "duration": 12,
    "start_time": "2023-06-27T02:00:05.631Z"
   },
   {
    "duration": 14,
    "start_time": "2023-06-27T02:00:05.645Z"
   },
   {
    "duration": 42,
    "start_time": "2023-06-27T02:00:05.661Z"
   },
   {
    "duration": 100,
    "start_time": "2023-06-27T02:00:05.705Z"
   },
   {
    "duration": 4,
    "start_time": "2023-06-27T02:00:05.808Z"
   },
   {
    "duration": 63,
    "start_time": "2023-06-27T02:00:05.816Z"
   },
   {
    "duration": 63,
    "start_time": "2023-06-27T02:00:05.881Z"
   },
   {
    "duration": 42,
    "start_time": "2023-06-27T02:00:05.946Z"
   },
   {
    "duration": 4461,
    "start_time": "2023-06-27T02:00:05.990Z"
   },
   {
    "duration": 1697,
    "start_time": "2023-06-27T02:00:37.342Z"
   },
   {
    "duration": 925,
    "start_time": "2023-06-27T02:00:39.042Z"
   },
   {
    "duration": 136,
    "start_time": "2023-06-27T02:00:39.968Z"
   },
   {
    "duration": 28,
    "start_time": "2023-06-27T02:00:40.107Z"
   },
   {
    "duration": 4,
    "start_time": "2023-06-27T02:00:40.137Z"
   },
   {
    "duration": 20,
    "start_time": "2023-06-27T02:00:40.143Z"
   },
   {
    "duration": 62,
    "start_time": "2023-06-27T02:00:40.165Z"
   },
   {
    "duration": 79,
    "start_time": "2023-06-27T02:00:40.229Z"
   },
   {
    "duration": 79,
    "start_time": "2023-06-27T02:00:40.313Z"
   },
   {
    "duration": 149,
    "start_time": "2023-06-27T02:00:40.395Z"
   },
   {
    "duration": 2,
    "start_time": "2023-06-27T02:00:40.547Z"
   },
   {
    "duration": 25,
    "start_time": "2023-06-27T02:00:40.551Z"
   },
   {
    "duration": 74,
    "start_time": "2023-06-27T02:00:40.578Z"
   },
   {
    "duration": 82,
    "start_time": "2023-06-27T02:00:40.654Z"
   },
   {
    "duration": 3,
    "start_time": "2023-06-27T02:00:40.737Z"
   },
   {
    "duration": 330,
    "start_time": "2023-06-27T02:00:40.742Z"
   },
   {
    "duration": 17,
    "start_time": "2023-06-27T02:00:41.073Z"
   },
   {
    "duration": 9,
    "start_time": "2023-06-27T02:00:41.092Z"
   },
   {
    "duration": 42,
    "start_time": "2023-06-27T02:00:41.102Z"
   },
   {
    "duration": 11,
    "start_time": "2023-06-27T02:00:41.146Z"
   },
   {
    "duration": 6,
    "start_time": "2023-06-27T02:00:41.158Z"
   },
   {
    "duration": 31,
    "start_time": "2023-06-27T02:00:41.166Z"
   },
   {
    "duration": 18,
    "start_time": "2023-06-27T02:00:41.199Z"
   },
   {
    "duration": 233,
    "start_time": "2023-06-27T02:00:41.219Z"
   },
   {
    "duration": 457,
    "start_time": "2023-06-27T02:00:41.454Z"
   },
   {
    "duration": 17,
    "start_time": "2023-06-27T02:00:41.915Z"
   },
   {
    "duration": 42,
    "start_time": "2023-06-27T02:00:41.934Z"
   },
   {
    "duration": 5,
    "start_time": "2023-06-27T02:00:41.981Z"
   },
   {
    "duration": 15,
    "start_time": "2023-06-27T02:00:41.987Z"
   },
   {
    "duration": 30,
    "start_time": "2023-06-27T02:00:42.004Z"
   },
   {
    "duration": 12,
    "start_time": "2023-06-27T02:00:42.036Z"
   },
   {
    "duration": 14,
    "start_time": "2023-06-27T02:00:42.050Z"
   },
   {
    "duration": 22,
    "start_time": "2023-06-27T02:00:42.066Z"
   },
   {
    "duration": 19,
    "start_time": "2023-06-27T02:00:42.089Z"
   },
   {
    "duration": 78,
    "start_time": "2023-06-27T02:00:42.110Z"
   },
   {
    "duration": 40,
    "start_time": "2023-06-27T02:00:42.190Z"
   },
   {
    "duration": 24,
    "start_time": "2023-06-27T02:00:42.232Z"
   },
   {
    "duration": 47,
    "start_time": "2023-06-27T02:00:42.257Z"
   },
   {
    "duration": 25,
    "start_time": "2023-06-27T02:00:42.306Z"
   },
   {
    "duration": 80,
    "start_time": "2023-06-27T02:00:42.332Z"
   },
   {
    "duration": 54,
    "start_time": "2023-06-27T02:00:42.414Z"
   },
   {
    "duration": 129,
    "start_time": "2023-06-27T02:00:42.469Z"
   },
   {
    "duration": 5,
    "start_time": "2023-06-27T02:00:42.600Z"
   },
   {
    "duration": 7,
    "start_time": "2023-06-27T02:00:42.620Z"
   },
   {
    "duration": 3,
    "start_time": "2023-06-27T02:00:42.629Z"
   },
   {
    "duration": 10,
    "start_time": "2023-06-27T02:00:42.633Z"
   },
   {
    "duration": 6,
    "start_time": "2023-06-27T02:00:42.645Z"
   },
   {
    "duration": 88,
    "start_time": "2023-06-27T02:00:42.653Z"
   },
   {
    "duration": 4,
    "start_time": "2023-06-27T02:00:42.743Z"
   },
   {
    "duration": 16,
    "start_time": "2023-06-27T02:00:42.749Z"
   },
   {
    "duration": 13,
    "start_time": "2023-06-27T02:00:42.766Z"
   },
   {
    "duration": 23,
    "start_time": "2023-06-27T02:00:42.781Z"
   },
   {
    "duration": 4376,
    "start_time": "2023-06-27T02:00:42.806Z"
   },
   {
    "duration": 37648,
    "start_time": "2023-06-27T02:00:47.184Z"
   },
   {
    "duration": 624,
    "start_time": "2023-06-27T02:01:24.834Z"
   },
   {
    "duration": 0,
    "start_time": "2023-06-27T02:01:25.460Z"
   },
   {
    "duration": 0,
    "start_time": "2023-06-27T02:01:25.461Z"
   },
   {
    "duration": 0,
    "start_time": "2023-06-27T02:01:25.462Z"
   },
   {
    "duration": 0,
    "start_time": "2023-06-27T02:01:25.463Z"
   },
   {
    "duration": 0,
    "start_time": "2023-06-27T02:01:25.464Z"
   },
   {
    "duration": 102,
    "start_time": "2023-06-27T02:02:15.934Z"
   },
   {
    "duration": 73,
    "start_time": "2023-06-27T02:02:58.408Z"
   },
   {
    "duration": 28,
    "start_time": "2023-06-27T02:03:54.963Z"
   },
   {
    "duration": 79,
    "start_time": "2023-06-27T02:04:30.983Z"
   },
   {
    "duration": 1449,
    "start_time": "2023-06-27T02:04:54.656Z"
   },
   {
    "duration": 891,
    "start_time": "2023-06-27T02:04:56.107Z"
   },
   {
    "duration": 146,
    "start_time": "2023-06-27T02:04:57.000Z"
   },
   {
    "duration": 20,
    "start_time": "2023-06-27T02:04:57.149Z"
   },
   {
    "duration": 22,
    "start_time": "2023-06-27T02:04:57.171Z"
   },
   {
    "duration": 18,
    "start_time": "2023-06-27T02:04:57.194Z"
   },
   {
    "duration": 37,
    "start_time": "2023-06-27T02:04:57.214Z"
   },
   {
    "duration": 108,
    "start_time": "2023-06-27T02:04:57.253Z"
   },
   {
    "duration": 83,
    "start_time": "2023-06-27T02:04:57.363Z"
   },
   {
    "duration": 146,
    "start_time": "2023-06-27T02:04:57.449Z"
   },
   {
    "duration": 2,
    "start_time": "2023-06-27T02:04:57.597Z"
   },
   {
    "duration": 22,
    "start_time": "2023-06-27T02:04:57.601Z"
   },
   {
    "duration": 55,
    "start_time": "2023-06-27T02:04:57.627Z"
   },
   {
    "duration": 82,
    "start_time": "2023-06-27T02:04:57.683Z"
   },
   {
    "duration": 129,
    "start_time": "2023-06-27T02:04:57.767Z"
   },
   {
    "duration": 330,
    "start_time": "2023-06-27T02:04:57.898Z"
   },
   {
    "duration": 120,
    "start_time": "2023-06-27T02:04:58.230Z"
   },
   {
    "duration": 3,
    "start_time": "2023-06-27T02:04:58.351Z"
   },
   {
    "duration": 75,
    "start_time": "2023-06-27T02:04:58.355Z"
   },
   {
    "duration": 3,
    "start_time": "2023-06-27T02:04:58.432Z"
   },
   {
    "duration": 6,
    "start_time": "2023-06-27T02:04:58.436Z"
   },
   {
    "duration": 22,
    "start_time": "2023-06-27T02:04:58.444Z"
   },
   {
    "duration": 36,
    "start_time": "2023-06-27T02:04:58.468Z"
   },
   {
    "duration": 265,
    "start_time": "2023-06-27T02:04:58.506Z"
   },
   {
    "duration": 502,
    "start_time": "2023-06-27T02:04:58.773Z"
   },
   {
    "duration": 13,
    "start_time": "2023-06-27T02:04:59.277Z"
   },
   {
    "duration": 75,
    "start_time": "2023-06-27T02:04:59.292Z"
   },
   {
    "duration": 4,
    "start_time": "2023-06-27T02:04:59.371Z"
   },
   {
    "duration": 23,
    "start_time": "2023-06-27T02:04:59.377Z"
   },
   {
    "duration": 34,
    "start_time": "2023-06-27T02:04:59.402Z"
   },
   {
    "duration": 30,
    "start_time": "2023-06-27T02:04:59.438Z"
   },
   {
    "duration": 24,
    "start_time": "2023-06-27T02:04:59.470Z"
   },
   {
    "duration": 31,
    "start_time": "2023-06-27T02:04:59.496Z"
   },
   {
    "duration": 36,
    "start_time": "2023-06-27T02:04:59.529Z"
   },
   {
    "duration": 109,
    "start_time": "2023-06-27T02:04:59.567Z"
   },
   {
    "duration": 58,
    "start_time": "2023-06-27T02:04:59.680Z"
   },
   {
    "duration": 36,
    "start_time": "2023-06-27T02:04:59.741Z"
   },
   {
    "duration": 45,
    "start_time": "2023-06-27T02:04:59.779Z"
   },
   {
    "duration": 16,
    "start_time": "2023-06-27T02:04:59.828Z"
   },
   {
    "duration": 87,
    "start_time": "2023-06-27T02:04:59.846Z"
   },
   {
    "duration": 45,
    "start_time": "2023-06-27T02:04:59.934Z"
   },
   {
    "duration": 162,
    "start_time": "2023-06-27T02:04:59.981Z"
   },
   {
    "duration": 4,
    "start_time": "2023-06-27T02:05:00.145Z"
   },
   {
    "duration": 117,
    "start_time": "2023-06-27T02:05:00.151Z"
   },
   {
    "duration": 81,
    "start_time": "2023-06-27T02:05:00.270Z"
   },
   {
    "duration": 43,
    "start_time": "2023-06-27T02:05:00.353Z"
   },
   {
    "duration": 39,
    "start_time": "2023-06-27T02:05:00.398Z"
   },
   {
    "duration": 124,
    "start_time": "2023-06-27T02:05:00.439Z"
   },
   {
    "duration": 5,
    "start_time": "2023-06-27T02:05:00.565Z"
   },
   {
    "duration": 88,
    "start_time": "2023-06-27T02:05:00.572Z"
   },
   {
    "duration": 65,
    "start_time": "2023-06-27T02:05:00.662Z"
   },
   {
    "duration": 154,
    "start_time": "2023-06-27T02:05:00.731Z"
   },
   {
    "duration": 4483,
    "start_time": "2023-06-27T02:05:00.887Z"
   },
   {
    "duration": 37257,
    "start_time": "2023-06-27T02:05:05.372Z"
   },
   {
    "duration": 622,
    "start_time": "2023-06-27T02:05:42.631Z"
   },
   {
    "duration": 0,
    "start_time": "2023-06-27T02:05:43.255Z"
   },
   {
    "duration": 0,
    "start_time": "2023-06-27T02:05:43.256Z"
   },
   {
    "duration": 0,
    "start_time": "2023-06-27T02:05:43.258Z"
   },
   {
    "duration": 0,
    "start_time": "2023-06-27T02:05:43.258Z"
   },
   {
    "duration": 0,
    "start_time": "2023-06-27T02:05:43.260Z"
   },
   {
    "duration": 1838,
    "start_time": "2023-06-27T16:41:05.811Z"
   },
   {
    "duration": 4198,
    "start_time": "2023-06-27T16:41:07.652Z"
   },
   {
    "duration": 158,
    "start_time": "2023-06-27T16:41:11.851Z"
   },
   {
    "duration": 34,
    "start_time": "2023-06-27T16:41:12.011Z"
   },
   {
    "duration": 13,
    "start_time": "2023-06-27T16:41:12.047Z"
   },
   {
    "duration": 8,
    "start_time": "2023-06-27T16:41:12.061Z"
   },
   {
    "duration": 30,
    "start_time": "2023-06-27T16:41:12.071Z"
   },
   {
    "duration": 108,
    "start_time": "2023-06-27T16:41:12.103Z"
   },
   {
    "duration": 121,
    "start_time": "2023-06-27T16:41:12.213Z"
   },
   {
    "duration": 160,
    "start_time": "2023-06-27T16:41:12.337Z"
   },
   {
    "duration": 2,
    "start_time": "2023-06-27T16:41:12.499Z"
   },
   {
    "duration": 5,
    "start_time": "2023-06-27T16:41:12.503Z"
   },
   {
    "duration": 76,
    "start_time": "2023-06-27T16:41:12.509Z"
   },
   {
    "duration": 390,
    "start_time": "2023-06-27T16:41:12.586Z"
   },
   {
    "duration": 3,
    "start_time": "2023-06-27T16:41:12.978Z"
   },
   {
    "duration": 368,
    "start_time": "2023-06-27T16:41:12.983Z"
   },
   {
    "duration": 3,
    "start_time": "2023-06-27T16:41:13.352Z"
   },
   {
    "duration": 23,
    "start_time": "2023-06-27T16:41:13.357Z"
   },
   {
    "duration": 368,
    "start_time": "2023-06-27T16:41:13.382Z"
   },
   {
    "duration": 6,
    "start_time": "2023-06-27T16:41:13.752Z"
   },
   {
    "duration": 298,
    "start_time": "2023-06-27T16:41:13.759Z"
   },
   {
    "duration": 595,
    "start_time": "2023-06-27T16:41:14.061Z"
   },
   {
    "duration": 15,
    "start_time": "2023-06-27T16:41:14.660Z"
   },
   {
    "duration": 42,
    "start_time": "2023-06-27T16:41:14.677Z"
   },
   {
    "duration": 5,
    "start_time": "2023-06-27T16:41:14.721Z"
   },
   {
    "duration": 9,
    "start_time": "2023-06-27T16:41:14.727Z"
   },
   {
    "duration": 5,
    "start_time": "2023-06-27T16:41:14.738Z"
   },
   {
    "duration": 8,
    "start_time": "2023-06-27T16:41:14.748Z"
   },
   {
    "duration": 6,
    "start_time": "2023-06-27T16:41:14.758Z"
   },
   {
    "duration": 3,
    "start_time": "2023-06-27T16:41:14.766Z"
   },
   {
    "duration": 5,
    "start_time": "2023-06-27T16:41:14.771Z"
   },
   {
    "duration": 217,
    "start_time": "2023-06-27T16:41:14.778Z"
   },
   {
    "duration": 40,
    "start_time": "2023-06-27T16:41:14.997Z"
   },
   {
    "duration": 35,
    "start_time": "2023-06-27T16:41:15.041Z"
   },
   {
    "duration": 51,
    "start_time": "2023-06-27T16:41:15.078Z"
   },
   {
    "duration": 30,
    "start_time": "2023-06-27T16:41:15.132Z"
   },
   {
    "duration": 66,
    "start_time": "2023-06-27T16:41:15.166Z"
   },
   {
    "duration": 46,
    "start_time": "2023-06-27T16:41:15.234Z"
   },
   {
    "duration": 199,
    "start_time": "2023-06-27T16:41:15.282Z"
   },
   {
    "duration": 5,
    "start_time": "2023-06-27T16:41:15.483Z"
   },
   {
    "duration": 5,
    "start_time": "2023-06-27T16:41:15.491Z"
   },
   {
    "duration": 5,
    "start_time": "2023-06-27T16:41:15.497Z"
   },
   {
    "duration": 17,
    "start_time": "2023-06-27T16:41:15.504Z"
   },
   {
    "duration": 9,
    "start_time": "2023-06-27T16:41:15.523Z"
   },
   {
    "duration": 91,
    "start_time": "2023-06-27T16:41:15.535Z"
   },
   {
    "duration": 6,
    "start_time": "2023-06-27T16:41:15.630Z"
   },
   {
    "duration": 4,
    "start_time": "2023-06-27T16:41:15.639Z"
   },
   {
    "duration": 14,
    "start_time": "2023-06-27T16:41:15.646Z"
   },
   {
    "duration": 9,
    "start_time": "2023-06-27T16:41:15.662Z"
   },
   {
    "duration": 4859,
    "start_time": "2023-06-27T16:41:15.674Z"
   },
   {
    "duration": 50795,
    "start_time": "2023-06-27T16:41:20.536Z"
   },
   {
    "duration": 749,
    "start_time": "2023-06-27T16:42:11.342Z"
   },
   {
    "duration": 0,
    "start_time": "2023-06-27T16:42:12.092Z"
   },
   {
    "duration": 0,
    "start_time": "2023-06-27T16:42:12.094Z"
   },
   {
    "duration": 0,
    "start_time": "2023-06-27T16:42:12.095Z"
   },
   {
    "duration": 0,
    "start_time": "2023-06-27T16:42:12.096Z"
   },
   {
    "duration": 0,
    "start_time": "2023-06-27T16:42:12.098Z"
   },
   {
    "duration": 245,
    "start_time": "2023-06-27T17:20:50.538Z"
   },
   {
    "duration": 475,
    "start_time": "2023-06-27T17:21:22.143Z"
   },
   {
    "duration": 339,
    "start_time": "2023-06-27T17:24:36.254Z"
   },
   {
    "duration": 296,
    "start_time": "2023-06-27T17:25:35.333Z"
   },
   {
    "duration": 2904,
    "start_time": "2023-06-27T17:26:20.009Z"
   },
   {
    "duration": 1554,
    "start_time": "2023-06-27T17:26:22.926Z"
   },
   {
    "duration": 235,
    "start_time": "2023-06-27T17:26:24.486Z"
   },
   {
    "duration": 37,
    "start_time": "2023-06-27T17:26:24.732Z"
   },
   {
    "duration": 16,
    "start_time": "2023-06-27T17:26:24.773Z"
   },
   {
    "duration": 9,
    "start_time": "2023-06-27T17:26:24.795Z"
   },
   {
    "duration": 37,
    "start_time": "2023-06-27T17:26:24.809Z"
   },
   {
    "duration": 200,
    "start_time": "2023-06-27T17:26:24.852Z"
   },
   {
    "duration": 146,
    "start_time": "2023-06-27T17:26:25.061Z"
   },
   {
    "duration": 219,
    "start_time": "2023-06-27T17:26:25.215Z"
   },
   {
    "duration": 5,
    "start_time": "2023-06-27T17:26:25.440Z"
   },
   {
    "duration": 11,
    "start_time": "2023-06-27T17:26:25.455Z"
   },
   {
    "duration": 84,
    "start_time": "2023-06-27T17:26:25.476Z"
   },
   {
    "duration": 499,
    "start_time": "2023-06-27T17:26:25.570Z"
   },
   {
    "duration": 4,
    "start_time": "2023-06-27T17:26:26.075Z"
   },
   {
    "duration": 481,
    "start_time": "2023-06-27T17:26:26.082Z"
   },
   {
    "duration": 2,
    "start_time": "2023-06-27T17:26:26.566Z"
   },
   {
    "duration": 21,
    "start_time": "2023-06-27T17:26:26.570Z"
   },
   {
    "duration": 496,
    "start_time": "2023-06-27T17:26:26.606Z"
   },
   {
    "duration": 1,
    "start_time": "2023-06-27T17:26:27.104Z"
   },
   {
    "duration": 497,
    "start_time": "2023-06-27T17:26:27.107Z"
   },
   {
    "duration": 956,
    "start_time": "2023-06-27T17:26:27.614Z"
   },
   {
    "duration": 27,
    "start_time": "2023-06-27T17:26:28.574Z"
   },
   {
    "duration": 67,
    "start_time": "2023-06-27T17:26:28.604Z"
   },
   {
    "duration": 10,
    "start_time": "2023-06-27T17:26:28.679Z"
   },
   {
    "duration": 5,
    "start_time": "2023-06-27T17:26:28.696Z"
   },
   {
    "duration": 11,
    "start_time": "2023-06-27T17:26:28.708Z"
   },
   {
    "duration": 6,
    "start_time": "2023-06-27T17:26:28.726Z"
   },
   {
    "duration": 9,
    "start_time": "2023-06-27T17:26:28.738Z"
   },
   {
    "duration": 13,
    "start_time": "2023-06-27T17:26:28.752Z"
   },
   {
    "duration": 4,
    "start_time": "2023-06-27T17:26:28.772Z"
   },
   {
    "duration": 168,
    "start_time": "2023-06-27T17:26:28.783Z"
   },
   {
    "duration": 39,
    "start_time": "2023-06-27T17:26:28.956Z"
   },
   {
    "duration": 44,
    "start_time": "2023-06-27T17:26:28.998Z"
   },
   {
    "duration": 43,
    "start_time": "2023-06-27T17:26:29.048Z"
   },
   {
    "duration": 43,
    "start_time": "2023-06-27T17:26:29.097Z"
   },
   {
    "duration": 114,
    "start_time": "2023-06-27T17:26:29.146Z"
   },
   {
    "duration": 82,
    "start_time": "2023-06-27T17:26:29.266Z"
   },
   {
    "duration": 293,
    "start_time": "2023-06-27T17:26:29.356Z"
   },
   {
    "duration": 11,
    "start_time": "2023-06-27T17:26:29.656Z"
   },
   {
    "duration": 23,
    "start_time": "2023-06-27T17:26:29.678Z"
   },
   {
    "duration": 15,
    "start_time": "2023-06-27T17:26:29.713Z"
   },
   {
    "duration": 22,
    "start_time": "2023-06-27T17:26:29.733Z"
   },
   {
    "duration": 11,
    "start_time": "2023-06-27T17:26:29.757Z"
   },
   {
    "duration": 162,
    "start_time": "2023-06-27T17:26:29.771Z"
   },
   {
    "duration": 10,
    "start_time": "2023-06-27T17:26:29.938Z"
   },
   {
    "duration": 13,
    "start_time": "2023-06-27T17:26:29.951Z"
   },
   {
    "duration": 7,
    "start_time": "2023-06-27T17:26:29.966Z"
   },
   {
    "duration": 5094,
    "start_time": "2023-06-27T17:26:29.979Z"
   },
   {
    "duration": 28927,
    "start_time": "2023-06-27T17:26:35.081Z"
   },
   {
    "duration": 945,
    "start_time": "2023-06-27T17:27:04.056Z"
   },
   {
    "duration": 0,
    "start_time": "2023-06-27T17:27:05.007Z"
   },
   {
    "duration": 0,
    "start_time": "2023-06-27T17:27:05.012Z"
   },
   {
    "duration": 0,
    "start_time": "2023-06-27T17:27:05.017Z"
   },
   {
    "duration": 0,
    "start_time": "2023-06-27T17:27:05.022Z"
   },
   {
    "duration": 0,
    "start_time": "2023-06-27T17:27:05.028Z"
   },
   {
    "duration": 0,
    "start_time": "2023-06-27T17:27:05.033Z"
   },
   {
    "duration": 13,
    "start_time": "2023-06-27T17:30:26.987Z"
   },
   {
    "duration": 94,
    "start_time": "2023-06-27T17:30:44.937Z"
   },
   {
    "duration": 2040,
    "start_time": "2023-06-27T17:31:36.841Z"
   },
   {
    "duration": 1213,
    "start_time": "2023-06-27T17:31:38.887Z"
   },
   {
    "duration": 202,
    "start_time": "2023-06-27T17:31:40.102Z"
   },
   {
    "duration": 22,
    "start_time": "2023-06-27T17:31:40.307Z"
   },
   {
    "duration": 4,
    "start_time": "2023-06-27T17:31:40.331Z"
   },
   {
    "duration": 11,
    "start_time": "2023-06-27T17:31:40.337Z"
   },
   {
    "duration": 39,
    "start_time": "2023-06-27T17:31:40.352Z"
   },
   {
    "duration": 154,
    "start_time": "2023-06-27T17:31:40.397Z"
   },
   {
    "duration": 144,
    "start_time": "2023-06-27T17:31:40.556Z"
   },
   {
    "duration": 267,
    "start_time": "2023-06-27T17:31:40.702Z"
   },
   {
    "duration": 162,
    "start_time": "2023-06-27T17:31:40.971Z"
   },
   {
    "duration": 2,
    "start_time": "2023-06-27T17:31:41.137Z"
   },
   {
    "duration": 3,
    "start_time": "2023-06-27T17:31:41.141Z"
   },
   {
    "duration": 131,
    "start_time": "2023-06-27T17:31:41.148Z"
   },
   {
    "duration": 461,
    "start_time": "2023-06-27T17:31:41.291Z"
   },
   {
    "duration": 104,
    "start_time": "2023-06-27T17:31:41.761Z"
   },
   {
    "duration": 4,
    "start_time": "2023-06-27T17:31:41.870Z"
   },
   {
    "duration": 411,
    "start_time": "2023-06-27T17:31:41.880Z"
   },
   {
    "duration": 2,
    "start_time": "2023-06-27T17:31:42.293Z"
   },
   {
    "duration": 16,
    "start_time": "2023-06-27T17:31:42.301Z"
   },
   {
    "duration": 473,
    "start_time": "2023-06-27T17:31:42.329Z"
   },
   {
    "duration": 4,
    "start_time": "2023-06-27T17:31:42.809Z"
   },
   {
    "duration": 370,
    "start_time": "2023-06-27T17:31:42.818Z"
   },
   {
    "duration": 760,
    "start_time": "2023-06-27T17:31:43.193Z"
   },
   {
    "duration": 20,
    "start_time": "2023-06-27T17:31:43.955Z"
   },
   {
    "duration": 66,
    "start_time": "2023-06-27T17:31:43.994Z"
   },
   {
    "duration": 6,
    "start_time": "2023-06-27T17:31:44.064Z"
   },
   {
    "duration": 119,
    "start_time": "2023-06-27T17:31:44.072Z"
   },
   {
    "duration": 4,
    "start_time": "2023-06-27T17:31:44.193Z"
   },
   {
    "duration": 5,
    "start_time": "2023-06-27T17:31:44.199Z"
   },
   {
    "duration": 14,
    "start_time": "2023-06-27T17:31:44.206Z"
   },
   {
    "duration": 5,
    "start_time": "2023-06-27T17:31:44.222Z"
   },
   {
    "duration": 12,
    "start_time": "2023-06-27T17:31:44.229Z"
   },
   {
    "duration": 176,
    "start_time": "2023-06-27T17:31:44.245Z"
   },
   {
    "duration": 42,
    "start_time": "2023-06-27T17:31:44.423Z"
   },
   {
    "duration": 34,
    "start_time": "2023-06-27T17:31:44.468Z"
   },
   {
    "duration": 35,
    "start_time": "2023-06-27T17:31:44.505Z"
   },
   {
    "duration": 41,
    "start_time": "2023-06-27T17:31:44.544Z"
   },
   {
    "duration": 104,
    "start_time": "2023-06-27T17:31:44.587Z"
   },
   {
    "duration": 42,
    "start_time": "2023-06-27T17:31:44.692Z"
   },
   {
    "duration": 199,
    "start_time": "2023-06-27T17:31:44.744Z"
   },
   {
    "duration": 13,
    "start_time": "2023-06-27T17:31:44.953Z"
   },
   {
    "duration": 7,
    "start_time": "2023-06-27T17:31:44.976Z"
   },
   {
    "duration": 49,
    "start_time": "2023-06-27T17:31:44.985Z"
   },
   {
    "duration": 93,
    "start_time": "2023-06-27T17:31:45.039Z"
   },
   {
    "duration": 18,
    "start_time": "2023-06-27T17:31:45.134Z"
   },
   {
    "duration": 102,
    "start_time": "2023-06-27T17:31:45.157Z"
   },
   {
    "duration": 5,
    "start_time": "2023-06-27T17:31:45.261Z"
   },
   {
    "duration": 62,
    "start_time": "2023-06-27T17:31:45.270Z"
   },
   {
    "duration": 40,
    "start_time": "2023-06-27T17:31:45.337Z"
   },
   {
    "duration": 4586,
    "start_time": "2023-06-27T17:31:45.387Z"
   },
   {
    "duration": 1877,
    "start_time": "2023-06-27T17:32:23.477Z"
   },
   {
    "duration": 1048,
    "start_time": "2023-06-27T17:32:25.356Z"
   },
   {
    "duration": 198,
    "start_time": "2023-06-27T17:32:26.406Z"
   },
   {
    "duration": 27,
    "start_time": "2023-06-27T17:32:26.605Z"
   },
   {
    "duration": 22,
    "start_time": "2023-06-27T17:32:26.639Z"
   },
   {
    "duration": 16,
    "start_time": "2023-06-27T17:32:26.670Z"
   },
   {
    "duration": 39,
    "start_time": "2023-06-27T17:32:26.688Z"
   },
   {
    "duration": 128,
    "start_time": "2023-06-27T17:32:26.730Z"
   },
   {
    "duration": 109,
    "start_time": "2023-06-27T17:32:26.860Z"
   },
   {
    "duration": 232,
    "start_time": "2023-06-27T17:32:26.971Z"
   },
   {
    "duration": 126,
    "start_time": "2023-06-27T17:32:27.205Z"
   },
   {
    "duration": 19,
    "start_time": "2023-06-27T17:32:27.333Z"
   },
   {
    "duration": 32,
    "start_time": "2023-06-27T17:32:27.359Z"
   },
   {
    "duration": 116,
    "start_time": "2023-06-27T17:32:27.394Z"
   },
   {
    "duration": 493,
    "start_time": "2023-06-27T17:32:27.512Z"
   },
   {
    "duration": 126,
    "start_time": "2023-06-27T17:32:28.008Z"
   },
   {
    "duration": 12,
    "start_time": "2023-06-27T17:32:28.136Z"
   },
   {
    "duration": 420,
    "start_time": "2023-06-27T17:32:28.150Z"
   },
   {
    "duration": 100,
    "start_time": "2023-06-27T17:32:28.571Z"
   },
   {
    "duration": 33,
    "start_time": "2023-06-27T17:32:28.673Z"
   },
   {
    "duration": 60,
    "start_time": "2023-06-27T17:32:28.709Z"
   },
   {
    "duration": 367,
    "start_time": "2023-06-27T17:32:28.775Z"
   },
   {
    "duration": 2,
    "start_time": "2023-06-27T17:32:29.144Z"
   },
   {
    "duration": 325,
    "start_time": "2023-06-27T17:32:29.149Z"
   },
   {
    "duration": 693,
    "start_time": "2023-06-27T17:32:29.476Z"
   },
   {
    "duration": 15,
    "start_time": "2023-06-27T17:32:30.175Z"
   },
   {
    "duration": 85,
    "start_time": "2023-06-27T17:32:30.192Z"
   },
   {
    "duration": 6,
    "start_time": "2023-06-27T17:32:30.279Z"
   },
   {
    "duration": 21,
    "start_time": "2023-06-27T17:32:30.287Z"
   },
   {
    "duration": 47,
    "start_time": "2023-06-27T17:32:30.311Z"
   },
   {
    "duration": 42,
    "start_time": "2023-06-27T17:32:30.361Z"
   },
   {
    "duration": 37,
    "start_time": "2023-06-27T17:32:30.405Z"
   },
   {
    "duration": 45,
    "start_time": "2023-06-27T17:32:30.445Z"
   },
   {
    "duration": 47,
    "start_time": "2023-06-27T17:32:30.493Z"
   },
   {
    "duration": 241,
    "start_time": "2023-06-27T17:32:30.547Z"
   },
   {
    "duration": 30,
    "start_time": "2023-06-27T17:32:30.794Z"
   },
   {
    "duration": 48,
    "start_time": "2023-06-27T17:32:30.831Z"
   },
   {
    "duration": 54,
    "start_time": "2023-06-27T17:32:30.885Z"
   },
   {
    "duration": 37,
    "start_time": "2023-06-27T17:32:30.946Z"
   },
   {
    "duration": 93,
    "start_time": "2023-06-27T17:32:30.990Z"
   },
   {
    "duration": 45,
    "start_time": "2023-06-27T17:32:31.093Z"
   },
   {
    "duration": 189,
    "start_time": "2023-06-27T17:32:31.146Z"
   },
   {
    "duration": 5,
    "start_time": "2023-06-27T17:32:31.338Z"
   },
   {
    "duration": 23,
    "start_time": "2023-06-27T17:32:31.346Z"
   },
   {
    "duration": 18,
    "start_time": "2023-06-27T17:32:31.371Z"
   },
   {
    "duration": 8,
    "start_time": "2023-06-27T17:32:31.392Z"
   },
   {
    "duration": 23,
    "start_time": "2023-06-27T17:32:31.402Z"
   },
   {
    "duration": 126,
    "start_time": "2023-06-27T17:32:31.427Z"
   },
   {
    "duration": 5,
    "start_time": "2023-06-27T17:32:31.555Z"
   },
   {
    "duration": 40,
    "start_time": "2023-06-27T17:32:31.562Z"
   },
   {
    "duration": 46,
    "start_time": "2023-06-27T17:32:31.604Z"
   },
   {
    "duration": 4059,
    "start_time": "2023-06-27T17:32:31.651Z"
   },
   {
    "duration": 44437,
    "start_time": "2023-06-27T17:32:35.712Z"
   },
   {
    "duration": 862,
    "start_time": "2023-06-27T17:33:20.167Z"
   },
   {
    "duration": 0,
    "start_time": "2023-06-27T17:33:21.031Z"
   },
   {
    "duration": 0,
    "start_time": "2023-06-27T17:33:21.032Z"
   },
   {
    "duration": 0,
    "start_time": "2023-06-27T17:33:21.033Z"
   },
   {
    "duration": 0,
    "start_time": "2023-06-27T17:33:21.034Z"
   },
   {
    "duration": 0,
    "start_time": "2023-06-27T17:33:21.035Z"
   },
   {
    "duration": 0,
    "start_time": "2023-06-27T17:33:21.037Z"
   },
   {
    "duration": 2081,
    "start_time": "2023-06-27T17:33:38.670Z"
   },
   {
    "duration": 1202,
    "start_time": "2023-06-27T17:33:40.753Z"
   },
   {
    "duration": 184,
    "start_time": "2023-06-27T17:33:41.957Z"
   },
   {
    "duration": 31,
    "start_time": "2023-06-27T17:33:42.152Z"
   },
   {
    "duration": 6,
    "start_time": "2023-06-27T17:33:42.189Z"
   },
   {
    "duration": 34,
    "start_time": "2023-06-27T17:33:42.197Z"
   },
   {
    "duration": 55,
    "start_time": "2023-06-27T17:33:42.233Z"
   },
   {
    "duration": 136,
    "start_time": "2023-06-27T17:33:42.291Z"
   },
   {
    "duration": 148,
    "start_time": "2023-06-27T17:33:42.430Z"
   },
   {
    "duration": 209,
    "start_time": "2023-06-27T17:33:42.580Z"
   },
   {
    "duration": 142,
    "start_time": "2023-06-27T17:33:42.792Z"
   },
   {
    "duration": 3,
    "start_time": "2023-06-27T17:33:42.936Z"
   },
   {
    "duration": 29,
    "start_time": "2023-06-27T17:33:42.942Z"
   },
   {
    "duration": 92,
    "start_time": "2023-06-27T17:33:42.976Z"
   },
   {
    "duration": 459,
    "start_time": "2023-06-27T17:33:43.071Z"
   },
   {
    "duration": 136,
    "start_time": "2023-06-27T17:33:43.543Z"
   },
   {
    "duration": 11,
    "start_time": "2023-06-27T17:33:43.691Z"
   },
   {
    "duration": 406,
    "start_time": "2023-06-27T17:33:43.704Z"
   },
   {
    "duration": 158,
    "start_time": "2023-06-27T17:33:44.112Z"
   },
   {
    "duration": 9,
    "start_time": "2023-06-27T17:33:44.274Z"
   },
   {
    "duration": 23,
    "start_time": "2023-06-27T17:33:44.288Z"
   },
   {
    "duration": 426,
    "start_time": "2023-06-27T17:33:44.314Z"
   },
   {
    "duration": 116,
    "start_time": "2023-06-27T17:33:44.742Z"
   },
   {
    "duration": 3,
    "start_time": "2023-06-27T17:33:44.862Z"
   },
   {
    "duration": 370,
    "start_time": "2023-06-27T17:33:44.866Z"
   },
   {
    "duration": 830,
    "start_time": "2023-06-27T17:33:45.238Z"
   },
   {
    "duration": 25,
    "start_time": "2023-06-27T17:33:46.072Z"
   },
   {
    "duration": 79,
    "start_time": "2023-06-27T17:33:46.102Z"
   },
   {
    "duration": 15,
    "start_time": "2023-06-27T17:33:46.187Z"
   },
   {
    "duration": 9,
    "start_time": "2023-06-27T17:33:46.204Z"
   },
   {
    "duration": 12,
    "start_time": "2023-06-27T17:33:46.220Z"
   },
   {
    "duration": 6,
    "start_time": "2023-06-27T17:33:46.237Z"
   },
   {
    "duration": 28,
    "start_time": "2023-06-27T17:33:46.248Z"
   },
   {
    "duration": 18,
    "start_time": "2023-06-27T17:33:46.281Z"
   },
   {
    "duration": 30,
    "start_time": "2023-06-27T17:33:46.301Z"
   },
   {
    "duration": 129,
    "start_time": "2023-06-27T17:33:46.334Z"
   },
   {
    "duration": 47,
    "start_time": "2023-06-27T17:33:46.465Z"
   },
   {
    "duration": 64,
    "start_time": "2023-06-27T17:33:46.515Z"
   },
   {
    "duration": 63,
    "start_time": "2023-06-27T17:33:46.581Z"
   },
   {
    "duration": 35,
    "start_time": "2023-06-27T17:33:46.650Z"
   },
   {
    "duration": 104,
    "start_time": "2023-06-27T17:33:46.694Z"
   },
   {
    "duration": 57,
    "start_time": "2023-06-27T17:33:46.804Z"
   },
   {
    "duration": 194,
    "start_time": "2023-06-27T17:33:46.871Z"
   },
   {
    "duration": 11,
    "start_time": "2023-06-27T17:33:47.071Z"
   },
   {
    "duration": 10,
    "start_time": "2023-06-27T17:33:47.087Z"
   },
   {
    "duration": 24,
    "start_time": "2023-06-27T17:33:47.102Z"
   },
   {
    "duration": 30,
    "start_time": "2023-06-27T17:33:47.135Z"
   },
   {
    "duration": 3,
    "start_time": "2023-06-27T17:33:47.173Z"
   },
   {
    "duration": 125,
    "start_time": "2023-06-27T17:33:47.179Z"
   },
   {
    "duration": 4,
    "start_time": "2023-06-27T17:33:47.306Z"
   },
   {
    "duration": 11,
    "start_time": "2023-06-27T17:33:47.316Z"
   },
   {
    "duration": 20,
    "start_time": "2023-06-27T17:33:47.333Z"
   },
   {
    "duration": 4074,
    "start_time": "2023-06-27T17:33:47.357Z"
   },
   {
    "duration": 48233,
    "start_time": "2023-06-27T17:33:51.434Z"
   },
   {
    "duration": 851,
    "start_time": "2023-06-27T17:34:39.674Z"
   },
   {
    "duration": 0,
    "start_time": "2023-06-27T17:34:40.528Z"
   },
   {
    "duration": 0,
    "start_time": "2023-06-27T17:34:40.529Z"
   },
   {
    "duration": 0,
    "start_time": "2023-06-27T17:34:40.532Z"
   },
   {
    "duration": 0,
    "start_time": "2023-06-27T17:34:40.535Z"
   },
   {
    "duration": 0,
    "start_time": "2023-06-27T17:34:40.537Z"
   },
   {
    "duration": 0,
    "start_time": "2023-06-27T17:34:40.539Z"
   },
   {
    "duration": 2111,
    "start_time": "2023-06-27T17:36:08.766Z"
   },
   {
    "duration": 1238,
    "start_time": "2023-06-27T17:36:10.880Z"
   },
   {
    "duration": 201,
    "start_time": "2023-06-27T17:36:12.120Z"
   },
   {
    "duration": 35,
    "start_time": "2023-06-27T17:36:12.323Z"
   },
   {
    "duration": 16,
    "start_time": "2023-06-27T17:36:12.360Z"
   },
   {
    "duration": 18,
    "start_time": "2023-06-27T17:36:12.379Z"
   },
   {
    "duration": 43,
    "start_time": "2023-06-27T17:36:12.399Z"
   },
   {
    "duration": 130,
    "start_time": "2023-06-27T17:36:12.446Z"
   },
   {
    "duration": 140,
    "start_time": "2023-06-27T17:36:12.580Z"
   },
   {
    "duration": 261,
    "start_time": "2023-06-27T17:36:12.733Z"
   },
   {
    "duration": 107,
    "start_time": "2023-06-27T17:36:12.996Z"
   },
   {
    "duration": 3,
    "start_time": "2023-06-27T17:36:13.104Z"
   },
   {
    "duration": 22,
    "start_time": "2023-06-27T17:36:13.108Z"
   },
   {
    "duration": 94,
    "start_time": "2023-06-27T17:36:13.134Z"
   },
   {
    "duration": 498,
    "start_time": "2023-06-27T17:36:13.236Z"
   },
   {
    "duration": 155,
    "start_time": "2023-06-27T17:36:13.739Z"
   },
   {
    "duration": 6,
    "start_time": "2023-06-27T17:36:13.896Z"
   },
   {
    "duration": 405,
    "start_time": "2023-06-27T17:36:13.904Z"
   },
   {
    "duration": 128,
    "start_time": "2023-06-27T17:36:14.317Z"
   },
   {
    "duration": 3,
    "start_time": "2023-06-27T17:36:14.450Z"
   },
   {
    "duration": 10,
    "start_time": "2023-06-27T17:36:14.454Z"
   },
   {
    "duration": 402,
    "start_time": "2023-06-27T17:36:14.466Z"
   },
   {
    "duration": 106,
    "start_time": "2023-06-27T17:36:14.869Z"
   },
   {
    "duration": 2,
    "start_time": "2023-06-27T17:36:14.977Z"
   },
   {
    "duration": 325,
    "start_time": "2023-06-27T17:36:14.981Z"
   },
   {
    "duration": 788,
    "start_time": "2023-06-27T17:36:15.308Z"
   },
   {
    "duration": 13,
    "start_time": "2023-06-27T17:36:16.098Z"
   },
   {
    "duration": 53,
    "start_time": "2023-06-27T17:36:16.113Z"
   },
   {
    "duration": 4,
    "start_time": "2023-06-27T17:36:16.168Z"
   },
   {
    "duration": 83,
    "start_time": "2023-06-27T17:36:16.174Z"
   },
   {
    "duration": 32,
    "start_time": "2023-06-27T17:36:16.261Z"
   },
   {
    "duration": 34,
    "start_time": "2023-06-27T17:36:16.295Z"
   },
   {
    "duration": 58,
    "start_time": "2023-06-27T17:36:16.331Z"
   },
   {
    "duration": 17,
    "start_time": "2023-06-27T17:36:16.391Z"
   },
   {
    "duration": 117,
    "start_time": "2023-06-27T17:36:16.410Z"
   },
   {
    "duration": 3,
    "start_time": "2023-06-27T17:36:16.528Z"
   },
   {
    "duration": 176,
    "start_time": "2023-06-27T17:36:16.533Z"
   },
   {
    "duration": 0,
    "start_time": "2023-06-27T17:36:16.711Z"
   },
   {
    "duration": 0,
    "start_time": "2023-06-27T17:36:16.712Z"
   },
   {
    "duration": 0,
    "start_time": "2023-06-27T17:36:16.713Z"
   },
   {
    "duration": 0,
    "start_time": "2023-06-27T17:36:16.715Z"
   },
   {
    "duration": 0,
    "start_time": "2023-06-27T17:36:16.716Z"
   },
   {
    "duration": 0,
    "start_time": "2023-06-27T17:36:16.717Z"
   },
   {
    "duration": 0,
    "start_time": "2023-06-27T17:36:16.718Z"
   },
   {
    "duration": 0,
    "start_time": "2023-06-27T17:36:16.719Z"
   },
   {
    "duration": 0,
    "start_time": "2023-06-27T17:36:16.721Z"
   },
   {
    "duration": 0,
    "start_time": "2023-06-27T17:36:16.723Z"
   },
   {
    "duration": 0,
    "start_time": "2023-06-27T17:36:16.724Z"
   },
   {
    "duration": 0,
    "start_time": "2023-06-27T17:36:16.725Z"
   },
   {
    "duration": 0,
    "start_time": "2023-06-27T17:36:16.726Z"
   },
   {
    "duration": 0,
    "start_time": "2023-06-27T17:36:16.727Z"
   },
   {
    "duration": 0,
    "start_time": "2023-06-27T17:36:16.730Z"
   },
   {
    "duration": 0,
    "start_time": "2023-06-27T17:36:16.731Z"
   },
   {
    "duration": 0,
    "start_time": "2023-06-27T17:36:16.733Z"
   },
   {
    "duration": 0,
    "start_time": "2023-06-27T17:36:16.734Z"
   },
   {
    "duration": 179,
    "start_time": "2023-06-27T17:36:33.164Z"
   },
   {
    "duration": 7,
    "start_time": "2023-06-27T17:36:51.677Z"
   },
   {
    "duration": 5,
    "start_time": "2023-06-27T17:37:00.990Z"
   },
   {
    "duration": 2109,
    "start_time": "2023-06-27T17:41:17.178Z"
   },
   {
    "duration": 1096,
    "start_time": "2023-06-27T17:41:19.293Z"
   },
   {
    "duration": 195,
    "start_time": "2023-06-27T17:41:20.396Z"
   },
   {
    "duration": 67,
    "start_time": "2023-06-27T17:41:20.598Z"
   },
   {
    "duration": 8,
    "start_time": "2023-06-27T17:41:20.676Z"
   },
   {
    "duration": 14,
    "start_time": "2023-06-27T17:41:20.695Z"
   },
   {
    "duration": 39,
    "start_time": "2023-06-27T17:41:20.711Z"
   },
   {
    "duration": 174,
    "start_time": "2023-06-27T17:41:20.758Z"
   },
   {
    "duration": 164,
    "start_time": "2023-06-27T17:41:20.934Z"
   },
   {
    "duration": 277,
    "start_time": "2023-06-27T17:41:21.101Z"
   },
   {
    "duration": 170,
    "start_time": "2023-06-27T17:41:21.381Z"
   },
   {
    "duration": 127,
    "start_time": "2023-06-27T17:41:21.553Z"
   },
   {
    "duration": 3,
    "start_time": "2023-06-27T17:41:21.692Z"
   },
   {
    "duration": 3,
    "start_time": "2023-06-27T17:41:21.701Z"
   },
   {
    "duration": 87,
    "start_time": "2023-06-27T17:41:21.706Z"
   },
   {
    "duration": 409,
    "start_time": "2023-06-27T17:41:21.795Z"
   },
   {
    "duration": 113,
    "start_time": "2023-06-27T17:41:22.206Z"
   },
   {
    "duration": 3,
    "start_time": "2023-06-27T17:41:22.321Z"
   },
   {
    "duration": 408,
    "start_time": "2023-06-27T17:41:22.326Z"
   },
   {
    "duration": 102,
    "start_time": "2023-06-27T17:41:22.736Z"
   },
   {
    "duration": 5,
    "start_time": "2023-06-27T17:41:22.840Z"
   },
   {
    "duration": 22,
    "start_time": "2023-06-27T17:41:22.847Z"
   },
   {
    "duration": 440,
    "start_time": "2023-06-27T17:41:22.871Z"
   },
   {
    "duration": 112,
    "start_time": "2023-06-27T17:41:23.313Z"
   },
   {
    "duration": 4,
    "start_time": "2023-06-27T17:41:23.431Z"
   },
   {
    "duration": 372,
    "start_time": "2023-06-27T17:41:23.437Z"
   },
   {
    "duration": 713,
    "start_time": "2023-06-27T17:41:23.811Z"
   },
   {
    "duration": 36,
    "start_time": "2023-06-27T17:41:24.527Z"
   },
   {
    "duration": 35,
    "start_time": "2023-06-27T17:41:24.573Z"
   },
   {
    "duration": 15,
    "start_time": "2023-06-27T17:41:24.610Z"
   },
   {
    "duration": 111,
    "start_time": "2023-06-27T17:41:24.642Z"
   },
   {
    "duration": 48,
    "start_time": "2023-06-27T17:41:24.755Z"
   },
   {
    "duration": 37,
    "start_time": "2023-06-27T17:41:24.808Z"
   },
   {
    "duration": 39,
    "start_time": "2023-06-27T17:41:24.851Z"
   },
   {
    "duration": 16,
    "start_time": "2023-06-27T17:41:24.896Z"
   },
   {
    "duration": 84,
    "start_time": "2023-06-27T17:41:24.922Z"
   },
   {
    "duration": 32,
    "start_time": "2023-06-27T17:41:25.007Z"
   },
   {
    "duration": 27,
    "start_time": "2023-06-27T17:41:25.043Z"
   },
   {
    "duration": 17,
    "start_time": "2023-06-27T17:41:25.072Z"
   },
   {
    "duration": 190,
    "start_time": "2023-06-27T17:41:25.091Z"
   },
   {
    "duration": 0,
    "start_time": "2023-06-27T17:41:25.283Z"
   },
   {
    "duration": 0,
    "start_time": "2023-06-27T17:41:25.284Z"
   },
   {
    "duration": 0,
    "start_time": "2023-06-27T17:41:25.285Z"
   },
   {
    "duration": 0,
    "start_time": "2023-06-27T17:41:25.287Z"
   },
   {
    "duration": 0,
    "start_time": "2023-06-27T17:41:25.288Z"
   },
   {
    "duration": 0,
    "start_time": "2023-06-27T17:41:25.289Z"
   },
   {
    "duration": 0,
    "start_time": "2023-06-27T17:41:25.290Z"
   },
   {
    "duration": 0,
    "start_time": "2023-06-27T17:41:25.291Z"
   },
   {
    "duration": 0,
    "start_time": "2023-06-27T17:41:25.293Z"
   },
   {
    "duration": 0,
    "start_time": "2023-06-27T17:41:25.295Z"
   },
   {
    "duration": 0,
    "start_time": "2023-06-27T17:41:25.296Z"
   },
   {
    "duration": 0,
    "start_time": "2023-06-27T17:41:25.297Z"
   },
   {
    "duration": 2138,
    "start_time": "2023-06-27T17:42:38.792Z"
   },
   {
    "duration": 1043,
    "start_time": "2023-06-27T17:42:40.935Z"
   },
   {
    "duration": 172,
    "start_time": "2023-06-27T17:42:41.980Z"
   },
   {
    "duration": 29,
    "start_time": "2023-06-27T17:42:42.161Z"
   },
   {
    "duration": 4,
    "start_time": "2023-06-27T17:42:42.193Z"
   },
   {
    "duration": 29,
    "start_time": "2023-06-27T17:42:42.199Z"
   },
   {
    "duration": 51,
    "start_time": "2023-06-27T17:42:42.230Z"
   },
   {
    "duration": 149,
    "start_time": "2023-06-27T17:42:42.284Z"
   },
   {
    "duration": 110,
    "start_time": "2023-06-27T17:42:42.437Z"
   },
   {
    "duration": 265,
    "start_time": "2023-06-27T17:42:42.551Z"
   },
   {
    "duration": 196,
    "start_time": "2023-06-27T17:42:42.822Z"
   },
   {
    "duration": 143,
    "start_time": "2023-06-27T17:42:43.023Z"
   },
   {
    "duration": 8,
    "start_time": "2023-06-27T17:42:43.171Z"
   },
   {
    "duration": 16,
    "start_time": "2023-06-27T17:42:43.184Z"
   },
   {
    "duration": 101,
    "start_time": "2023-06-27T17:42:43.207Z"
   },
   {
    "duration": 440,
    "start_time": "2023-06-27T17:42:43.311Z"
   },
   {
    "duration": 125,
    "start_time": "2023-06-27T17:42:43.753Z"
   },
   {
    "duration": 6,
    "start_time": "2023-06-27T17:42:43.880Z"
   },
   {
    "duration": 403,
    "start_time": "2023-06-27T17:42:43.888Z"
   },
   {
    "duration": 117,
    "start_time": "2023-06-27T17:42:44.295Z"
   },
   {
    "duration": 8,
    "start_time": "2023-06-27T17:42:44.417Z"
   },
   {
    "duration": 5,
    "start_time": "2023-06-27T17:42:44.431Z"
   },
   {
    "duration": 359,
    "start_time": "2023-06-27T17:42:44.440Z"
   },
   {
    "duration": 104,
    "start_time": "2023-06-27T17:42:44.801Z"
   },
   {
    "duration": 18,
    "start_time": "2023-06-27T17:42:44.907Z"
   },
   {
    "duration": 365,
    "start_time": "2023-06-27T17:42:44.926Z"
   },
   {
    "duration": 775,
    "start_time": "2023-06-27T17:42:45.294Z"
   },
   {
    "duration": 22,
    "start_time": "2023-06-27T17:42:46.073Z"
   },
   {
    "duration": 60,
    "start_time": "2023-06-27T17:42:46.097Z"
   },
   {
    "duration": 4,
    "start_time": "2023-06-27T17:42:46.159Z"
   },
   {
    "duration": 63,
    "start_time": "2023-06-27T17:42:46.166Z"
   },
   {
    "duration": 39,
    "start_time": "2023-06-27T17:42:46.231Z"
   },
   {
    "duration": 34,
    "start_time": "2023-06-27T17:42:46.272Z"
   },
   {
    "duration": 71,
    "start_time": "2023-06-27T17:42:46.308Z"
   },
   {
    "duration": 23,
    "start_time": "2023-06-27T17:42:46.386Z"
   },
   {
    "duration": 123,
    "start_time": "2023-06-27T17:42:46.411Z"
   },
   {
    "duration": 7,
    "start_time": "2023-06-27T17:42:46.536Z"
   },
   {
    "duration": 219,
    "start_time": "2023-06-27T17:42:46.548Z"
   },
   {
    "duration": 18,
    "start_time": "2023-06-27T17:42:46.769Z"
   },
   {
    "duration": 6,
    "start_time": "2023-06-27T17:42:46.789Z"
   },
   {
    "duration": 190,
    "start_time": "2023-06-27T17:42:46.799Z"
   },
   {
    "duration": 0,
    "start_time": "2023-06-27T17:42:46.991Z"
   },
   {
    "duration": 0,
    "start_time": "2023-06-27T17:42:46.992Z"
   },
   {
    "duration": 0,
    "start_time": "2023-06-27T17:42:46.993Z"
   },
   {
    "duration": 0,
    "start_time": "2023-06-27T17:42:46.994Z"
   },
   {
    "duration": 0,
    "start_time": "2023-06-27T17:42:46.995Z"
   },
   {
    "duration": 0,
    "start_time": "2023-06-27T17:42:46.996Z"
   },
   {
    "duration": 0,
    "start_time": "2023-06-27T17:42:46.997Z"
   },
   {
    "duration": 0,
    "start_time": "2023-06-27T17:42:47.000Z"
   },
   {
    "duration": 0,
    "start_time": "2023-06-27T17:42:47.001Z"
   },
   {
    "duration": 0,
    "start_time": "2023-06-27T17:42:47.002Z"
   },
   {
    "duration": 0,
    "start_time": "2023-06-27T17:42:47.004Z"
   },
   {
    "duration": 0,
    "start_time": "2023-06-27T17:42:47.005Z"
   },
   {
    "duration": 183,
    "start_time": "2023-06-27T17:43:34.888Z"
   },
   {
    "duration": 9,
    "start_time": "2023-06-27T17:43:36.236Z"
   },
   {
    "duration": 9,
    "start_time": "2023-06-27T17:43:37.336Z"
   },
   {
    "duration": 113,
    "start_time": "2023-06-27T17:43:55.080Z"
   },
   {
    "duration": 6,
    "start_time": "2023-06-27T17:43:58.499Z"
   },
   {
    "duration": 5,
    "start_time": "2023-06-27T17:44:05.072Z"
   },
   {
    "duration": 4,
    "start_time": "2023-06-27T17:44:10.088Z"
   },
   {
    "duration": 4007,
    "start_time": "2023-06-27T17:44:11.549Z"
   },
   {
    "duration": 38781,
    "start_time": "2023-06-27T17:46:27.748Z"
   },
   {
    "duration": 2148,
    "start_time": "2023-06-27T17:50:08.910Z"
   },
   {
    "duration": 1296,
    "start_time": "2023-06-27T17:50:11.064Z"
   },
   {
    "duration": 243,
    "start_time": "2023-06-27T17:50:12.366Z"
   },
   {
    "duration": 32,
    "start_time": "2023-06-27T17:50:12.616Z"
   },
   {
    "duration": 6,
    "start_time": "2023-06-27T17:50:12.654Z"
   },
   {
    "duration": 16,
    "start_time": "2023-06-27T17:50:12.667Z"
   },
   {
    "duration": 52,
    "start_time": "2023-06-27T17:50:12.689Z"
   },
   {
    "duration": 222,
    "start_time": "2023-06-27T17:50:12.747Z"
   },
   {
    "duration": 128,
    "start_time": "2023-06-27T17:50:12.975Z"
   },
   {
    "duration": 336,
    "start_time": "2023-06-27T17:50:13.109Z"
   },
   {
    "duration": 224,
    "start_time": "2023-06-27T17:50:13.447Z"
   },
   {
    "duration": 121,
    "start_time": "2023-06-27T17:50:13.675Z"
   },
   {
    "duration": 4,
    "start_time": "2023-06-27T17:50:13.802Z"
   },
   {
    "duration": 4,
    "start_time": "2023-06-27T17:50:13.814Z"
   },
   {
    "duration": 208,
    "start_time": "2023-06-27T17:50:13.823Z"
   },
   {
    "duration": 0,
    "start_time": "2023-06-27T17:50:14.034Z"
   },
   {
    "duration": 0,
    "start_time": "2023-06-27T17:50:14.035Z"
   },
   {
    "duration": 0,
    "start_time": "2023-06-27T17:50:14.036Z"
   },
   {
    "duration": 0,
    "start_time": "2023-06-27T17:50:14.038Z"
   },
   {
    "duration": 0,
    "start_time": "2023-06-27T17:50:14.039Z"
   },
   {
    "duration": 0,
    "start_time": "2023-06-27T17:50:14.040Z"
   },
   {
    "duration": 0,
    "start_time": "2023-06-27T17:50:14.046Z"
   },
   {
    "duration": 0,
    "start_time": "2023-06-27T17:50:14.048Z"
   },
   {
    "duration": 0,
    "start_time": "2023-06-27T17:50:14.052Z"
   },
   {
    "duration": 0,
    "start_time": "2023-06-27T17:50:14.054Z"
   },
   {
    "duration": 0,
    "start_time": "2023-06-27T17:50:14.055Z"
   },
   {
    "duration": 0,
    "start_time": "2023-06-27T17:50:14.056Z"
   },
   {
    "duration": 0,
    "start_time": "2023-06-27T17:50:14.065Z"
   },
   {
    "duration": 0,
    "start_time": "2023-06-27T17:50:14.066Z"
   },
   {
    "duration": 0,
    "start_time": "2023-06-27T17:50:14.068Z"
   },
   {
    "duration": 0,
    "start_time": "2023-06-27T17:50:14.076Z"
   },
   {
    "duration": 0,
    "start_time": "2023-06-27T17:50:14.078Z"
   },
   {
    "duration": 0,
    "start_time": "2023-06-27T17:50:14.080Z"
   },
   {
    "duration": 0,
    "start_time": "2023-06-27T17:50:14.087Z"
   },
   {
    "duration": 0,
    "start_time": "2023-06-27T17:50:14.088Z"
   },
   {
    "duration": 0,
    "start_time": "2023-06-27T17:50:14.090Z"
   },
   {
    "duration": 0,
    "start_time": "2023-06-27T17:50:14.091Z"
   },
   {
    "duration": 0,
    "start_time": "2023-06-27T17:50:14.092Z"
   },
   {
    "duration": 1,
    "start_time": "2023-06-27T17:50:14.102Z"
   },
   {
    "duration": 0,
    "start_time": "2023-06-27T17:50:14.104Z"
   },
   {
    "duration": 0,
    "start_time": "2023-06-27T17:50:14.112Z"
   },
   {
    "duration": 0,
    "start_time": "2023-06-27T17:50:14.122Z"
   },
   {
    "duration": 0,
    "start_time": "2023-06-27T17:50:14.124Z"
   },
   {
    "duration": 0,
    "start_time": "2023-06-27T17:50:14.125Z"
   },
   {
    "duration": 0,
    "start_time": "2023-06-27T17:50:14.126Z"
   },
   {
    "duration": 0,
    "start_time": "2023-06-27T17:50:14.133Z"
   },
   {
    "duration": 0,
    "start_time": "2023-06-27T17:50:14.141Z"
   },
   {
    "duration": 0,
    "start_time": "2023-06-27T17:50:14.143Z"
   },
   {
    "duration": 0,
    "start_time": "2023-06-27T17:50:14.144Z"
   },
   {
    "duration": 0,
    "start_time": "2023-06-27T17:50:14.154Z"
   },
   {
    "duration": 0,
    "start_time": "2023-06-27T17:50:14.155Z"
   },
   {
    "duration": 0,
    "start_time": "2023-06-27T17:50:14.157Z"
   },
   {
    "duration": 0,
    "start_time": "2023-06-27T17:50:14.158Z"
   },
   {
    "duration": 0,
    "start_time": "2023-06-27T17:50:14.164Z"
   },
   {
    "duration": 0,
    "start_time": "2023-06-27T17:50:14.165Z"
   },
   {
    "duration": 12,
    "start_time": "2023-06-27T17:50:29.636Z"
   },
   {
    "duration": 2095,
    "start_time": "2023-06-27T17:50:35.834Z"
   },
   {
    "duration": 1117,
    "start_time": "2023-06-27T17:50:37.936Z"
   },
   {
    "duration": 192,
    "start_time": "2023-06-27T17:50:39.055Z"
   },
   {
    "duration": 33,
    "start_time": "2023-06-27T17:50:39.254Z"
   },
   {
    "duration": 5,
    "start_time": "2023-06-27T17:50:39.292Z"
   },
   {
    "duration": 6,
    "start_time": "2023-06-27T17:50:39.299Z"
   },
   {
    "duration": 25,
    "start_time": "2023-06-27T17:50:39.307Z"
   },
   {
    "duration": 142,
    "start_time": "2023-06-27T17:50:39.337Z"
   },
   {
    "duration": 144,
    "start_time": "2023-06-27T17:50:39.481Z"
   },
   {
    "duration": 359,
    "start_time": "2023-06-27T17:50:39.628Z"
   },
   {
    "duration": 226,
    "start_time": "2023-06-27T17:50:39.998Z"
   },
   {
    "duration": 143,
    "start_time": "2023-06-27T17:50:40.226Z"
   },
   {
    "duration": 3,
    "start_time": "2023-06-27T17:50:40.371Z"
   },
   {
    "duration": 16,
    "start_time": "2023-06-27T17:50:40.379Z"
   },
   {
    "duration": 19,
    "start_time": "2023-06-27T17:50:40.397Z"
   },
   {
    "duration": 20,
    "start_time": "2023-06-27T17:50:40.418Z"
   },
   {
    "duration": 52,
    "start_time": "2023-06-27T17:50:40.441Z"
   },
   {
    "duration": 130,
    "start_time": "2023-06-27T17:50:40.499Z"
   },
   {
    "duration": 3,
    "start_time": "2023-06-27T17:50:40.631Z"
   },
   {
    "duration": 40,
    "start_time": "2023-06-27T17:50:40.636Z"
   },
   {
    "duration": 44,
    "start_time": "2023-06-27T17:50:40.680Z"
   },
   {
    "duration": 147,
    "start_time": "2023-06-27T17:50:40.730Z"
   },
   {
    "duration": 6,
    "start_time": "2023-06-27T17:50:40.884Z"
   },
   {
    "duration": 11,
    "start_time": "2023-06-27T17:50:40.893Z"
   },
   {
    "duration": 36,
    "start_time": "2023-06-27T17:50:40.907Z"
   },
   {
    "duration": 133,
    "start_time": "2023-06-27T17:50:40.945Z"
   },
   {
    "duration": 346,
    "start_time": "2023-06-27T17:50:41.080Z"
   },
   {
    "duration": 655,
    "start_time": "2023-06-27T17:50:41.429Z"
   },
   {
    "duration": 17,
    "start_time": "2023-06-27T17:50:42.092Z"
   },
   {
    "duration": 60,
    "start_time": "2023-06-27T17:50:42.111Z"
   },
   {
    "duration": 4,
    "start_time": "2023-06-27T17:50:42.173Z"
   },
   {
    "duration": 108,
    "start_time": "2023-06-27T17:50:42.179Z"
   },
   {
    "duration": 40,
    "start_time": "2023-06-27T17:50:42.294Z"
   },
   {
    "duration": 51,
    "start_time": "2023-06-27T17:50:42.338Z"
   },
   {
    "duration": 47,
    "start_time": "2023-06-27T17:50:42.392Z"
   },
   {
    "duration": 30,
    "start_time": "2023-06-27T17:50:42.449Z"
   },
   {
    "duration": 72,
    "start_time": "2023-06-27T17:50:42.482Z"
   },
   {
    "duration": 40,
    "start_time": "2023-06-27T17:50:42.558Z"
   },
   {
    "duration": 206,
    "start_time": "2023-06-27T17:50:42.600Z"
   },
   {
    "duration": 192,
    "start_time": "2023-06-27T17:50:42.808Z"
   },
   {
    "duration": 19,
    "start_time": "2023-06-27T17:50:43.005Z"
   },
   {
    "duration": 5,
    "start_time": "2023-06-27T17:50:43.027Z"
   },
   {
    "duration": 103,
    "start_time": "2023-06-27T17:50:43.035Z"
   },
   {
    "duration": 4,
    "start_time": "2023-06-27T17:50:43.140Z"
   },
   {
    "duration": 12,
    "start_time": "2023-06-27T17:50:43.145Z"
   },
   {
    "duration": 23,
    "start_time": "2023-06-27T17:50:43.159Z"
   },
   {
    "duration": 4070,
    "start_time": "2023-06-27T17:50:43.184Z"
   },
   {
    "duration": 48272,
    "start_time": "2023-06-27T17:50:47.256Z"
   },
   {
    "duration": 315,
    "start_time": "2023-06-27T17:51:35.531Z"
   },
   {
    "duration": 0,
    "start_time": "2023-06-27T17:51:35.848Z"
   },
   {
    "duration": 0,
    "start_time": "2023-06-27T17:51:35.853Z"
   },
   {
    "duration": 0,
    "start_time": "2023-06-27T17:51:35.854Z"
   },
   {
    "duration": 1,
    "start_time": "2023-06-27T17:51:35.855Z"
   },
   {
    "duration": 0,
    "start_time": "2023-06-27T17:51:35.857Z"
   },
   {
    "duration": 0,
    "start_time": "2023-06-27T17:51:35.858Z"
   },
   {
    "duration": 1714,
    "start_time": "2023-06-27T17:53:46.468Z"
   },
   {
    "duration": 1056,
    "start_time": "2023-06-27T17:53:48.185Z"
   },
   {
    "duration": 153,
    "start_time": "2023-06-27T17:53:49.247Z"
   },
   {
    "duration": 31,
    "start_time": "2023-06-27T17:53:49.402Z"
   },
   {
    "duration": 13,
    "start_time": "2023-06-27T17:53:49.436Z"
   },
   {
    "duration": 27,
    "start_time": "2023-06-27T17:53:49.451Z"
   },
   {
    "duration": 49,
    "start_time": "2023-06-27T17:53:49.479Z"
   },
   {
    "duration": 138,
    "start_time": "2023-06-27T17:53:49.529Z"
   },
   {
    "duration": 116,
    "start_time": "2023-06-27T17:53:49.671Z"
   },
   {
    "duration": 299,
    "start_time": "2023-06-27T17:53:49.790Z"
   },
   {
    "duration": 191,
    "start_time": "2023-06-27T17:53:50.092Z"
   },
   {
    "duration": 2,
    "start_time": "2023-06-27T17:53:50.290Z"
   },
   {
    "duration": 38,
    "start_time": "2023-06-27T17:53:50.296Z"
   },
   {
    "duration": 14,
    "start_time": "2023-06-27T17:53:50.341Z"
   },
   {
    "duration": 17,
    "start_time": "2023-06-27T17:53:50.357Z"
   },
   {
    "duration": 72,
    "start_time": "2023-06-27T17:53:50.379Z"
   },
   {
    "duration": 18,
    "start_time": "2023-06-27T17:53:50.461Z"
   },
   {
    "duration": 10,
    "start_time": "2023-06-27T17:53:50.481Z"
   },
   {
    "duration": 61,
    "start_time": "2023-06-27T17:53:50.493Z"
   },
   {
    "duration": 8,
    "start_time": "2023-06-27T17:53:50.556Z"
   },
   {
    "duration": 35,
    "start_time": "2023-06-27T17:53:50.567Z"
   },
   {
    "duration": 60,
    "start_time": "2023-06-27T17:53:50.604Z"
   },
   {
    "duration": 103,
    "start_time": "2023-06-27T17:53:50.671Z"
   },
   {
    "duration": 300,
    "start_time": "2023-06-27T17:53:50.776Z"
   },
   {
    "duration": 584,
    "start_time": "2023-06-27T17:53:51.078Z"
   },
   {
    "duration": 14,
    "start_time": "2023-06-27T17:53:51.665Z"
   },
   {
    "duration": 50,
    "start_time": "2023-06-27T17:53:51.680Z"
   },
   {
    "duration": 7,
    "start_time": "2023-06-27T17:53:51.732Z"
   },
   {
    "duration": 83,
    "start_time": "2023-06-27T17:53:51.740Z"
   },
   {
    "duration": 34,
    "start_time": "2023-06-27T17:53:51.825Z"
   },
   {
    "duration": 35,
    "start_time": "2023-06-27T17:53:51.862Z"
   },
   {
    "duration": 38,
    "start_time": "2023-06-27T17:53:51.922Z"
   },
   {
    "duration": 21,
    "start_time": "2023-06-27T17:53:51.962Z"
   },
   {
    "duration": 90,
    "start_time": "2023-06-27T17:53:51.984Z"
   },
   {
    "duration": 16,
    "start_time": "2023-06-27T17:53:52.075Z"
   },
   {
    "duration": 162,
    "start_time": "2023-06-27T17:53:52.093Z"
   },
   {
    "duration": 150,
    "start_time": "2023-06-27T17:53:52.260Z"
   },
   {
    "duration": 9,
    "start_time": "2023-06-27T17:53:52.412Z"
   },
   {
    "duration": 15,
    "start_time": "2023-06-27T17:53:52.423Z"
   },
   {
    "duration": 62,
    "start_time": "2023-06-27T17:53:52.446Z"
   },
   {
    "duration": 8,
    "start_time": "2023-06-27T17:53:52.512Z"
   },
   {
    "duration": 34,
    "start_time": "2023-06-27T17:53:52.523Z"
   },
   {
    "duration": 9,
    "start_time": "2023-06-27T17:53:52.562Z"
   },
   {
    "duration": 3711,
    "start_time": "2023-06-27T17:53:52.573Z"
   },
   {
    "duration": 43770,
    "start_time": "2023-06-27T17:53:56.286Z"
   },
   {
    "duration": 285,
    "start_time": "2023-06-27T17:54:40.114Z"
   },
   {
    "duration": 0,
    "start_time": "2023-06-27T17:54:40.401Z"
   },
   {
    "duration": 0,
    "start_time": "2023-06-27T17:54:40.402Z"
   },
   {
    "duration": 0,
    "start_time": "2023-06-27T17:54:40.404Z"
   },
   {
    "duration": 0,
    "start_time": "2023-06-27T17:54:40.405Z"
   },
   {
    "duration": 0,
    "start_time": "2023-06-27T17:54:40.406Z"
   },
   {
    "duration": 0,
    "start_time": "2023-06-27T17:54:40.407Z"
   },
   {
    "duration": 1963,
    "start_time": "2023-06-27T17:55:15.071Z"
   },
   {
    "duration": 1135,
    "start_time": "2023-06-27T17:55:17.043Z"
   },
   {
    "duration": 194,
    "start_time": "2023-06-27T17:55:18.181Z"
   },
   {
    "duration": 21,
    "start_time": "2023-06-27T17:55:18.377Z"
   },
   {
    "duration": 36,
    "start_time": "2023-06-27T17:55:18.400Z"
   },
   {
    "duration": 39,
    "start_time": "2023-06-27T17:55:18.442Z"
   },
   {
    "duration": 42,
    "start_time": "2023-06-27T17:55:18.483Z"
   },
   {
    "duration": 131,
    "start_time": "2023-06-27T17:55:18.526Z"
   },
   {
    "duration": 108,
    "start_time": "2023-06-27T17:55:18.665Z"
   },
   {
    "duration": 259,
    "start_time": "2023-06-27T17:55:18.776Z"
   },
   {
    "duration": 184,
    "start_time": "2023-06-27T17:55:19.036Z"
   },
   {
    "duration": 2,
    "start_time": "2023-06-27T17:55:19.222Z"
   },
   {
    "duration": 24,
    "start_time": "2023-06-27T17:55:19.226Z"
   },
   {
    "duration": 7,
    "start_time": "2023-06-27T17:55:19.256Z"
   },
   {
    "duration": 3,
    "start_time": "2023-06-27T17:55:19.268Z"
   },
   {
    "duration": 50,
    "start_time": "2023-06-27T17:55:19.273Z"
   },
   {
    "duration": 22,
    "start_time": "2023-06-27T17:55:19.327Z"
   },
   {
    "duration": 11,
    "start_time": "2023-06-27T17:55:19.352Z"
   },
   {
    "duration": 51,
    "start_time": "2023-06-27T17:55:19.366Z"
   },
   {
    "duration": 7,
    "start_time": "2023-06-27T17:55:19.424Z"
   },
   {
    "duration": 4,
    "start_time": "2023-06-27T17:55:19.433Z"
   },
   {
    "duration": 39,
    "start_time": "2023-06-27T17:55:19.439Z"
   },
   {
    "duration": 103,
    "start_time": "2023-06-27T17:55:19.480Z"
   },
   {
    "duration": 337,
    "start_time": "2023-06-27T17:55:19.585Z"
   },
   {
    "duration": 707,
    "start_time": "2023-06-27T17:55:19.924Z"
   },
   {
    "duration": 24,
    "start_time": "2023-06-27T17:55:20.642Z"
   },
   {
    "duration": 49,
    "start_time": "2023-06-27T17:55:20.668Z"
   },
   {
    "duration": 6,
    "start_time": "2023-06-27T17:55:20.722Z"
   },
   {
    "duration": 146,
    "start_time": "2023-06-27T17:55:20.730Z"
   },
   {
    "duration": 29,
    "start_time": "2023-06-27T17:55:20.878Z"
   },
   {
    "duration": 36,
    "start_time": "2023-06-27T17:55:20.908Z"
   },
   {
    "duration": 36,
    "start_time": "2023-06-27T17:55:20.946Z"
   },
   {
    "duration": 17,
    "start_time": "2023-06-27T17:55:20.983Z"
   },
   {
    "duration": 88,
    "start_time": "2023-06-27T17:55:21.021Z"
   },
   {
    "duration": 59,
    "start_time": "2023-06-27T17:55:21.111Z"
   },
   {
    "duration": 165,
    "start_time": "2023-06-27T17:55:21.175Z"
   },
   {
    "duration": 159,
    "start_time": "2023-06-27T17:55:21.346Z"
   },
   {
    "duration": 5,
    "start_time": "2023-06-27T17:55:21.507Z"
   },
   {
    "duration": 35,
    "start_time": "2023-06-27T17:55:21.516Z"
   },
   {
    "duration": 127,
    "start_time": "2023-06-27T17:55:21.554Z"
   },
   {
    "duration": 4,
    "start_time": "2023-06-27T17:55:21.684Z"
   },
   {
    "duration": 6,
    "start_time": "2023-06-27T17:55:21.691Z"
   },
   {
    "duration": 8,
    "start_time": "2023-06-27T17:55:21.700Z"
   },
   {
    "duration": 4633,
    "start_time": "2023-06-27T17:55:21.709Z"
   },
   {
    "duration": 56280,
    "start_time": "2023-06-27T17:55:26.344Z"
   },
   {
    "duration": 270,
    "start_time": "2023-06-27T17:56:22.638Z"
   },
   {
    "duration": 0,
    "start_time": "2023-06-27T17:56:22.910Z"
   },
   {
    "duration": 0,
    "start_time": "2023-06-27T17:56:22.913Z"
   },
   {
    "duration": 0,
    "start_time": "2023-06-27T17:56:22.914Z"
   },
   {
    "duration": 0,
    "start_time": "2023-06-27T17:56:22.915Z"
   },
   {
    "duration": 0,
    "start_time": "2023-06-27T17:56:22.915Z"
   },
   {
    "duration": 0,
    "start_time": "2023-06-27T17:56:22.916Z"
   },
   {
    "duration": 69,
    "start_time": "2023-06-27T17:56:53.242Z"
   },
   {
    "duration": 70,
    "start_time": "2023-06-27T17:57:16.291Z"
   },
   {
    "duration": 108,
    "start_time": "2023-06-27T17:57:29.862Z"
   },
   {
    "duration": 9,
    "start_time": "2023-06-27T17:57:30.833Z"
   },
   {
    "duration": 5,
    "start_time": "2023-06-27T17:57:31.737Z"
   },
   {
    "duration": 8,
    "start_time": "2023-06-27T17:57:32.844Z"
   },
   {
    "duration": 3648,
    "start_time": "2023-06-27T17:57:34.580Z"
   },
   {
    "duration": 38523,
    "start_time": "2023-06-27T17:57:39.707Z"
   },
   {
    "duration": 515,
    "start_time": "2023-06-27T17:58:18.242Z"
   },
   {
    "duration": 0,
    "start_time": "2023-06-27T17:58:18.770Z"
   },
   {
    "duration": 0,
    "start_time": "2023-06-27T17:58:18.779Z"
   },
   {
    "duration": 0,
    "start_time": "2023-06-27T17:58:18.781Z"
   },
   {
    "duration": 0,
    "start_time": "2023-06-27T17:58:18.782Z"
   },
   {
    "duration": 0,
    "start_time": "2023-06-27T17:58:18.783Z"
   },
   {
    "duration": 0,
    "start_time": "2023-06-27T17:58:18.785Z"
   },
   {
    "duration": 1920,
    "start_time": "2023-06-27T18:01:24.250Z"
   },
   {
    "duration": 969,
    "start_time": "2023-06-27T18:01:26.172Z"
   },
   {
    "duration": 176,
    "start_time": "2023-06-27T18:01:27.146Z"
   },
   {
    "duration": 27,
    "start_time": "2023-06-27T18:01:27.325Z"
   },
   {
    "duration": 14,
    "start_time": "2023-06-27T18:01:27.354Z"
   },
   {
    "duration": 10,
    "start_time": "2023-06-27T18:01:27.370Z"
   },
   {
    "duration": 38,
    "start_time": "2023-06-27T18:01:27.382Z"
   },
   {
    "duration": 106,
    "start_time": "2023-06-27T18:01:27.422Z"
   },
   {
    "duration": 131,
    "start_time": "2023-06-27T18:01:27.529Z"
   },
   {
    "duration": 241,
    "start_time": "2023-06-27T18:01:27.662Z"
   },
   {
    "duration": 220,
    "start_time": "2023-06-27T18:01:27.905Z"
   },
   {
    "duration": 3,
    "start_time": "2023-06-27T18:01:28.128Z"
   },
   {
    "duration": 5,
    "start_time": "2023-06-27T18:01:28.135Z"
   },
   {
    "duration": 5,
    "start_time": "2023-06-27T18:01:28.142Z"
   },
   {
    "duration": 21,
    "start_time": "2023-06-27T18:01:28.149Z"
   },
   {
    "duration": 30,
    "start_time": "2023-06-27T18:01:28.172Z"
   },
   {
    "duration": 2,
    "start_time": "2023-06-27T18:01:28.204Z"
   },
   {
    "duration": 14,
    "start_time": "2023-06-27T18:01:28.208Z"
   },
   {
    "duration": 49,
    "start_time": "2023-06-27T18:01:28.224Z"
   },
   {
    "duration": 7,
    "start_time": "2023-06-27T18:01:28.275Z"
   },
   {
    "duration": 4,
    "start_time": "2023-06-27T18:01:28.284Z"
   },
   {
    "duration": 20,
    "start_time": "2023-06-27T18:01:28.290Z"
   },
   {
    "duration": 110,
    "start_time": "2023-06-27T18:01:28.312Z"
   },
   {
    "duration": 307,
    "start_time": "2023-06-27T18:01:28.425Z"
   },
   {
    "duration": 548,
    "start_time": "2023-06-27T18:01:28.733Z"
   },
   {
    "duration": 13,
    "start_time": "2023-06-27T18:01:29.283Z"
   },
   {
    "duration": 56,
    "start_time": "2023-06-27T18:01:29.298Z"
   },
   {
    "duration": 4,
    "start_time": "2023-06-27T18:01:29.361Z"
   },
   {
    "duration": 67,
    "start_time": "2023-06-27T18:01:29.367Z"
   },
   {
    "duration": 35,
    "start_time": "2023-06-27T18:01:29.436Z"
   },
   {
    "duration": 25,
    "start_time": "2023-06-27T18:01:29.472Z"
   },
   {
    "duration": 59,
    "start_time": "2023-06-27T18:01:29.498Z"
   },
   {
    "duration": 21,
    "start_time": "2023-06-27T18:01:29.559Z"
   },
   {
    "duration": 76,
    "start_time": "2023-06-27T18:01:29.582Z"
   },
   {
    "duration": 169,
    "start_time": "2023-06-27T18:01:29.661Z"
   },
   {
    "duration": 3,
    "start_time": "2023-06-27T18:01:29.834Z"
   },
   {
    "duration": 34,
    "start_time": "2023-06-27T18:01:29.839Z"
   },
   {
    "duration": 50,
    "start_time": "2023-06-27T18:01:29.875Z"
   },
   {
    "duration": 103,
    "start_time": "2023-06-27T18:01:29.926Z"
   },
   {
    "duration": 114,
    "start_time": "2023-06-27T18:01:30.034Z"
   },
   {
    "duration": 4,
    "start_time": "2023-06-27T18:01:30.149Z"
   },
   {
    "duration": 48,
    "start_time": "2023-06-27T18:01:30.155Z"
   },
   {
    "duration": 84,
    "start_time": "2023-06-27T18:01:30.205Z"
   },
   {
    "duration": 4080,
    "start_time": "2023-06-27T18:01:30.291Z"
   },
   {
    "duration": 44670,
    "start_time": "2023-06-27T18:01:34.375Z"
   },
   {
    "duration": 610,
    "start_time": "2023-06-27T18:02:19.048Z"
   },
   {
    "duration": 5691,
    "start_time": "2023-06-27T18:02:19.660Z"
   },
   {
    "duration": 254,
    "start_time": "2023-06-27T18:02:25.357Z"
   },
   {
    "duration": 97636,
    "start_time": "2023-06-27T18:02:25.612Z"
   },
   {
    "duration": 7586,
    "start_time": "2023-06-27T18:04:03.254Z"
   },
   {
    "duration": 175,
    "start_time": "2023-06-27T18:04:10.850Z"
   },
   {
    "duration": 366,
    "start_time": "2023-06-27T18:04:11.038Z"
   },
   {
    "duration": 1813,
    "start_time": "2023-06-27T18:05:12.936Z"
   },
   {
    "duration": 1084,
    "start_time": "2023-06-27T18:05:14.752Z"
   },
   {
    "duration": 173,
    "start_time": "2023-06-27T18:05:15.848Z"
   },
   {
    "duration": 22,
    "start_time": "2023-06-27T18:05:16.026Z"
   },
   {
    "duration": 9,
    "start_time": "2023-06-27T18:05:16.051Z"
   },
   {
    "duration": 18,
    "start_time": "2023-06-27T18:05:16.062Z"
   },
   {
    "duration": 67,
    "start_time": "2023-06-27T18:05:16.082Z"
   },
   {
    "duration": 131,
    "start_time": "2023-06-27T18:05:16.151Z"
   },
   {
    "duration": 111,
    "start_time": "2023-06-27T18:05:16.284Z"
   },
   {
    "duration": 259,
    "start_time": "2023-06-27T18:05:16.396Z"
   },
   {
    "duration": 169,
    "start_time": "2023-06-27T18:05:16.657Z"
   },
   {
    "duration": 3,
    "start_time": "2023-06-27T18:05:16.830Z"
   },
   {
    "duration": 17,
    "start_time": "2023-06-27T18:05:16.835Z"
   },
   {
    "duration": 17,
    "start_time": "2023-06-27T18:05:16.856Z"
   },
   {
    "duration": 23,
    "start_time": "2023-06-27T18:05:16.875Z"
   },
   {
    "duration": 61,
    "start_time": "2023-06-27T18:05:16.900Z"
   },
   {
    "duration": 3,
    "start_time": "2023-06-27T18:05:16.963Z"
   },
   {
    "duration": 3,
    "start_time": "2023-06-27T18:05:16.974Z"
   },
   {
    "duration": 24,
    "start_time": "2023-06-27T18:05:16.980Z"
   },
   {
    "duration": 2,
    "start_time": "2023-06-27T18:05:17.006Z"
   },
   {
    "duration": 14,
    "start_time": "2023-06-27T18:05:17.009Z"
   },
   {
    "duration": 55,
    "start_time": "2023-06-27T18:05:17.028Z"
   },
   {
    "duration": 100,
    "start_time": "2023-06-27T18:05:17.084Z"
   },
   {
    "duration": 301,
    "start_time": "2023-06-27T18:05:17.186Z"
   },
   {
    "duration": 611,
    "start_time": "2023-06-27T18:05:17.489Z"
   },
   {
    "duration": 30,
    "start_time": "2023-06-27T18:05:18.102Z"
   },
   {
    "duration": 93,
    "start_time": "2023-06-27T18:05:18.134Z"
   },
   {
    "duration": 41,
    "start_time": "2023-06-27T18:05:18.231Z"
   },
   {
    "duration": 118,
    "start_time": "2023-06-27T18:05:18.277Z"
   },
   {
    "duration": 57,
    "start_time": "2023-06-27T18:05:18.397Z"
   },
   {
    "duration": 47,
    "start_time": "2023-06-27T18:05:18.461Z"
   },
   {
    "duration": 51,
    "start_time": "2023-06-27T18:05:18.511Z"
   },
   {
    "duration": 28,
    "start_time": "2023-06-27T18:05:18.564Z"
   },
   {
    "duration": 45,
    "start_time": "2023-06-27T18:05:18.594Z"
   },
   {
    "duration": 176,
    "start_time": "2023-06-27T18:05:18.647Z"
   },
   {
    "duration": 201,
    "start_time": "2023-06-27T18:05:18.825Z"
   },
   {
    "duration": 6,
    "start_time": "2023-06-27T18:05:19.028Z"
   },
   {
    "duration": 105,
    "start_time": "2023-06-27T18:05:19.036Z"
   },
   {
    "duration": 75,
    "start_time": "2023-06-27T18:05:19.145Z"
   },
   {
    "duration": 7,
    "start_time": "2023-06-27T18:05:19.225Z"
   },
   {
    "duration": 5,
    "start_time": "2023-06-27T18:05:19.239Z"
   },
   {
    "duration": 18,
    "start_time": "2023-06-27T18:05:19.248Z"
   },
   {
    "duration": 3428,
    "start_time": "2023-06-27T18:05:19.272Z"
   },
   {
    "duration": 48936,
    "start_time": "2023-06-27T18:05:22.702Z"
   },
   {
    "duration": 646,
    "start_time": "2023-06-27T18:06:11.648Z"
   },
   {
    "duration": 0,
    "start_time": "2023-06-27T18:06:12.295Z"
   },
   {
    "duration": 0,
    "start_time": "2023-06-27T18:06:12.297Z"
   },
   {
    "duration": 0,
    "start_time": "2023-06-27T18:06:12.298Z"
   },
   {
    "duration": 0,
    "start_time": "2023-06-27T18:06:12.299Z"
   },
   {
    "duration": 0,
    "start_time": "2023-06-27T18:06:12.300Z"
   },
   {
    "duration": 0,
    "start_time": "2023-06-27T18:06:12.322Z"
   },
   {
    "duration": 1786,
    "start_time": "2023-06-27T18:09:42.164Z"
   },
   {
    "duration": 1029,
    "start_time": "2023-06-27T18:09:43.953Z"
   },
   {
    "duration": 143,
    "start_time": "2023-06-27T18:09:44.984Z"
   },
   {
    "duration": 48,
    "start_time": "2023-06-27T18:09:45.129Z"
   },
   {
    "duration": 15,
    "start_time": "2023-06-27T18:09:45.180Z"
   },
   {
    "duration": 32,
    "start_time": "2023-06-27T18:09:45.198Z"
   },
   {
    "duration": 35,
    "start_time": "2023-06-27T18:09:45.232Z"
   },
   {
    "duration": 126,
    "start_time": "2023-06-27T18:09:45.269Z"
   },
   {
    "duration": 112,
    "start_time": "2023-06-27T18:09:45.397Z"
   },
   {
    "duration": 263,
    "start_time": "2023-06-27T18:09:45.514Z"
   },
   {
    "duration": 58,
    "start_time": "2023-06-27T18:09:45.778Z"
   },
   {
    "duration": 157,
    "start_time": "2023-06-27T18:09:45.838Z"
   },
   {
    "duration": 2,
    "start_time": "2023-06-27T18:09:45.997Z"
   },
   {
    "duration": 12,
    "start_time": "2023-06-27T18:09:46.012Z"
   },
   {
    "duration": 15,
    "start_time": "2023-06-27T18:09:46.026Z"
   },
   {
    "duration": 27,
    "start_time": "2023-06-27T18:09:46.043Z"
   },
   {
    "duration": 87,
    "start_time": "2023-06-27T18:09:46.072Z"
   },
   {
    "duration": 7,
    "start_time": "2023-06-27T18:09:46.165Z"
   },
   {
    "duration": 37,
    "start_time": "2023-06-27T18:09:46.174Z"
   },
   {
    "duration": 65,
    "start_time": "2023-06-27T18:09:46.215Z"
   },
   {
    "duration": 15,
    "start_time": "2023-06-27T18:09:46.282Z"
   },
   {
    "duration": 40,
    "start_time": "2023-06-27T18:09:46.299Z"
   },
   {
    "duration": 40,
    "start_time": "2023-06-27T18:09:46.341Z"
   },
   {
    "duration": 347,
    "start_time": "2023-06-27T18:09:46.383Z"
   },
   {
    "duration": 546,
    "start_time": "2023-06-27T18:09:46.731Z"
   },
   {
    "duration": 14,
    "start_time": "2023-06-27T18:09:47.278Z"
   },
   {
    "duration": 69,
    "start_time": "2023-06-27T18:09:47.294Z"
   },
   {
    "duration": 6,
    "start_time": "2023-06-27T18:09:47.369Z"
   },
   {
    "duration": 80,
    "start_time": "2023-06-27T18:09:47.377Z"
   },
   {
    "duration": 43,
    "start_time": "2023-06-27T18:09:47.458Z"
   },
   {
    "duration": 67,
    "start_time": "2023-06-27T18:09:47.503Z"
   },
   {
    "duration": 32,
    "start_time": "2023-06-27T18:09:47.572Z"
   },
   {
    "duration": 32,
    "start_time": "2023-06-27T18:09:47.606Z"
   },
   {
    "duration": 177,
    "start_time": "2023-06-27T18:09:47.640Z"
   },
   {
    "duration": 207,
    "start_time": "2023-06-27T18:09:47.819Z"
   },
   {
    "duration": 5,
    "start_time": "2023-06-27T18:09:48.028Z"
   },
   {
    "duration": 6,
    "start_time": "2023-06-27T18:09:48.039Z"
   },
   {
    "duration": 85,
    "start_time": "2023-06-27T18:09:48.047Z"
   },
   {
    "duration": 6,
    "start_time": "2023-06-27T18:09:48.134Z"
   },
   {
    "duration": 25,
    "start_time": "2023-06-27T18:09:48.142Z"
   },
   {
    "duration": 6,
    "start_time": "2023-06-27T18:09:48.173Z"
   },
   {
    "duration": 3395,
    "start_time": "2023-06-27T18:09:48.181Z"
   },
   {
    "duration": 1808,
    "start_time": "2023-06-27T18:10:16.368Z"
   },
   {
    "duration": 996,
    "start_time": "2023-06-27T18:10:18.179Z"
   },
   {
    "duration": 147,
    "start_time": "2023-06-27T18:10:19.177Z"
   },
   {
    "duration": 23,
    "start_time": "2023-06-27T18:10:19.327Z"
   },
   {
    "duration": 19,
    "start_time": "2023-06-27T18:10:19.353Z"
   },
   {
    "duration": 59,
    "start_time": "2023-06-27T18:10:19.374Z"
   },
   {
    "duration": 51,
    "start_time": "2023-06-27T18:10:19.435Z"
   },
   {
    "duration": 124,
    "start_time": "2023-06-27T18:10:19.487Z"
   },
   {
    "duration": 126,
    "start_time": "2023-06-27T18:10:19.613Z"
   },
   {
    "duration": 300,
    "start_time": "2023-06-27T18:10:19.741Z"
   },
   {
    "duration": 73,
    "start_time": "2023-06-27T18:10:20.043Z"
   },
   {
    "duration": 203,
    "start_time": "2023-06-27T18:10:20.118Z"
   },
   {
    "duration": 4,
    "start_time": "2023-06-27T18:10:20.323Z"
   },
   {
    "duration": 34,
    "start_time": "2023-06-27T18:10:20.331Z"
   },
   {
    "duration": 30,
    "start_time": "2023-06-27T18:10:20.367Z"
   },
   {
    "duration": 35,
    "start_time": "2023-06-27T18:10:20.400Z"
   },
   {
    "duration": 56,
    "start_time": "2023-06-27T18:10:20.437Z"
   },
   {
    "duration": 21,
    "start_time": "2023-06-27T18:10:20.495Z"
   },
   {
    "duration": 29,
    "start_time": "2023-06-27T18:10:20.518Z"
   },
   {
    "duration": 55,
    "start_time": "2023-06-27T18:10:20.549Z"
   },
   {
    "duration": 20,
    "start_time": "2023-06-27T18:10:20.606Z"
   },
   {
    "duration": 27,
    "start_time": "2023-06-27T18:10:20.627Z"
   },
   {
    "duration": 42,
    "start_time": "2023-06-27T18:10:20.664Z"
   },
   {
    "duration": 362,
    "start_time": "2023-06-27T18:10:20.708Z"
   },
   {
    "duration": 594,
    "start_time": "2023-06-27T18:10:21.072Z"
   },
   {
    "duration": 17,
    "start_time": "2023-06-27T18:10:21.668Z"
   },
   {
    "duration": 49,
    "start_time": "2023-06-27T18:10:21.687Z"
   },
   {
    "duration": 5,
    "start_time": "2023-06-27T18:10:21.738Z"
   },
   {
    "duration": 94,
    "start_time": "2023-06-27T18:10:21.745Z"
   },
   {
    "duration": 86,
    "start_time": "2023-06-27T18:10:21.841Z"
   },
   {
    "duration": 52,
    "start_time": "2023-06-27T18:10:21.929Z"
   },
   {
    "duration": 91,
    "start_time": "2023-06-27T18:10:21.983Z"
   },
   {
    "duration": 16,
    "start_time": "2023-06-27T18:10:22.076Z"
   },
   {
    "duration": 168,
    "start_time": "2023-06-27T18:10:22.094Z"
   },
   {
    "duration": 215,
    "start_time": "2023-06-27T18:10:22.264Z"
   },
   {
    "duration": 4,
    "start_time": "2023-06-27T18:10:22.481Z"
   },
   {
    "duration": 7,
    "start_time": "2023-06-27T18:10:22.487Z"
   },
   {
    "duration": 86,
    "start_time": "2023-06-27T18:10:22.495Z"
   },
   {
    "duration": 5,
    "start_time": "2023-06-27T18:10:22.583Z"
   },
   {
    "duration": 32,
    "start_time": "2023-06-27T18:10:22.590Z"
   },
   {
    "duration": 20,
    "start_time": "2023-06-27T18:10:22.627Z"
   },
   {
    "duration": 3465,
    "start_time": "2023-06-27T18:10:22.653Z"
   },
   {
    "duration": 38194,
    "start_time": "2023-06-27T18:10:26.121Z"
   },
   {
    "duration": 588,
    "start_time": "2023-06-27T18:11:04.317Z"
   },
   {
    "duration": 0,
    "start_time": "2023-06-27T18:11:04.907Z"
   },
   {
    "duration": 0,
    "start_time": "2023-06-27T18:11:04.908Z"
   },
   {
    "duration": 0,
    "start_time": "2023-06-27T18:11:04.913Z"
   },
   {
    "duration": 0,
    "start_time": "2023-06-27T18:11:04.914Z"
   },
   {
    "duration": 0,
    "start_time": "2023-06-27T18:11:04.915Z"
   },
   {
    "duration": 0,
    "start_time": "2023-06-27T18:11:04.916Z"
   },
   {
    "duration": 1984,
    "start_time": "2023-06-27T18:20:18.542Z"
   },
   {
    "duration": 1150,
    "start_time": "2023-06-27T18:20:20.534Z"
   },
   {
    "duration": 167,
    "start_time": "2023-06-27T18:20:21.686Z"
   },
   {
    "duration": 21,
    "start_time": "2023-06-27T18:20:21.855Z"
   },
   {
    "duration": 3,
    "start_time": "2023-06-27T18:20:21.879Z"
   },
   {
    "duration": 8,
    "start_time": "2023-06-27T18:20:21.884Z"
   },
   {
    "duration": 37,
    "start_time": "2023-06-27T18:20:21.894Z"
   },
   {
    "duration": 235,
    "start_time": "2023-06-27T18:20:21.934Z"
   },
   {
    "duration": 148,
    "start_time": "2023-06-27T18:20:22.171Z"
   },
   {
    "duration": 316,
    "start_time": "2023-06-27T18:20:22.321Z"
   },
   {
    "duration": 78,
    "start_time": "2023-06-27T18:20:22.640Z"
   },
   {
    "duration": 201,
    "start_time": "2023-06-27T18:20:22.724Z"
   },
   {
    "duration": 7,
    "start_time": "2023-06-27T18:20:22.932Z"
   },
   {
    "duration": 8,
    "start_time": "2023-06-27T18:20:22.945Z"
   },
   {
    "duration": 8,
    "start_time": "2023-06-27T18:20:22.955Z"
   },
   {
    "duration": 7,
    "start_time": "2023-06-27T18:20:22.970Z"
   },
   {
    "duration": 31,
    "start_time": "2023-06-27T18:20:22.980Z"
   },
   {
    "duration": 8,
    "start_time": "2023-06-27T18:20:23.016Z"
   },
   {
    "duration": 3,
    "start_time": "2023-06-27T18:20:23.026Z"
   },
   {
    "duration": 52,
    "start_time": "2023-06-27T18:20:23.031Z"
   },
   {
    "duration": 2,
    "start_time": "2023-06-27T18:20:23.086Z"
   },
   {
    "duration": 6,
    "start_time": "2023-06-27T18:20:23.091Z"
   },
   {
    "duration": 35,
    "start_time": "2023-06-27T18:20:23.099Z"
   },
   {
    "duration": 303,
    "start_time": "2023-06-27T18:20:23.136Z"
   },
   {
    "duration": 622,
    "start_time": "2023-06-27T18:20:23.443Z"
   },
   {
    "duration": 23,
    "start_time": "2023-06-27T18:20:24.067Z"
   },
   {
    "duration": 48,
    "start_time": "2023-06-27T18:20:24.094Z"
   },
   {
    "duration": 4,
    "start_time": "2023-06-27T18:20:24.144Z"
   },
   {
    "duration": 74,
    "start_time": "2023-06-27T18:20:24.153Z"
   },
   {
    "duration": 55,
    "start_time": "2023-06-27T18:20:24.229Z"
   },
   {
    "duration": 39,
    "start_time": "2023-06-27T18:20:24.290Z"
   },
   {
    "duration": 37,
    "start_time": "2023-06-27T18:20:24.331Z"
   },
   {
    "duration": 26,
    "start_time": "2023-06-27T18:20:24.371Z"
   },
   {
    "duration": 183,
    "start_time": "2023-06-27T18:20:24.400Z"
   },
   {
    "duration": 3,
    "start_time": "2023-06-27T18:20:24.585Z"
   },
   {
    "duration": 8,
    "start_time": "2023-06-27T18:20:24.590Z"
   },
   {
    "duration": 42,
    "start_time": "2023-06-27T18:20:24.600Z"
   },
   {
    "duration": 76,
    "start_time": "2023-06-27T18:20:24.644Z"
   },
   {
    "duration": 6,
    "start_time": "2023-06-27T18:20:24.722Z"
   },
   {
    "duration": 30,
    "start_time": "2023-06-27T18:20:24.729Z"
   },
   {
    "duration": 37,
    "start_time": "2023-06-27T18:20:24.766Z"
   },
   {
    "duration": 4180,
    "start_time": "2023-06-27T18:20:24.805Z"
   },
   {
    "duration": 68347,
    "start_time": "2023-06-27T18:20:28.987Z"
   },
   {
    "duration": 585,
    "start_time": "2023-06-27T18:21:37.336Z"
   },
   {
    "duration": 6141,
    "start_time": "2023-06-27T18:21:37.924Z"
   },
   {
    "duration": 270,
    "start_time": "2023-06-27T18:21:44.068Z"
   },
   {
    "duration": 94003,
    "start_time": "2023-06-27T18:21:44.340Z"
   },
   {
    "duration": 6909,
    "start_time": "2023-06-27T18:23:18.347Z"
   },
   {
    "duration": 133,
    "start_time": "2023-06-27T18:23:25.258Z"
   },
   {
    "duration": 281,
    "start_time": "2023-06-27T18:23:25.393Z"
   },
   {
    "duration": 197,
    "start_time": "2023-06-27T18:23:43.373Z"
   },
   {
    "duration": 129,
    "start_time": "2023-06-27T18:25:03.695Z"
   },
   {
    "duration": 1693,
    "start_time": "2023-06-27T18:27:44.953Z"
   },
   {
    "duration": 1046,
    "start_time": "2023-06-27T18:27:46.648Z"
   },
   {
    "duration": 159,
    "start_time": "2023-06-27T18:27:47.696Z"
   },
   {
    "duration": 19,
    "start_time": "2023-06-27T18:27:47.858Z"
   },
   {
    "duration": 8,
    "start_time": "2023-06-27T18:27:47.879Z"
   },
   {
    "duration": 38,
    "start_time": "2023-06-27T18:27:47.888Z"
   },
   {
    "duration": 49,
    "start_time": "2023-06-27T18:27:47.928Z"
   },
   {
    "duration": 100,
    "start_time": "2023-06-27T18:27:47.979Z"
   },
   {
    "duration": 97,
    "start_time": "2023-06-27T18:27:48.081Z"
   },
   {
    "duration": 316,
    "start_time": "2023-06-27T18:27:48.182Z"
   },
   {
    "duration": 82,
    "start_time": "2023-06-27T18:27:48.500Z"
   },
   {
    "duration": 175,
    "start_time": "2023-06-27T18:27:48.584Z"
   },
   {
    "duration": 3,
    "start_time": "2023-06-27T18:27:48.762Z"
   },
   {
    "duration": 19,
    "start_time": "2023-06-27T18:27:48.767Z"
   },
   {
    "duration": 13,
    "start_time": "2023-06-27T18:27:48.788Z"
   },
   {
    "duration": 5,
    "start_time": "2023-06-27T18:27:48.803Z"
   },
   {
    "duration": 44,
    "start_time": "2023-06-27T18:27:48.809Z"
   },
   {
    "duration": 3,
    "start_time": "2023-06-27T18:27:48.855Z"
   },
   {
    "duration": 19,
    "start_time": "2023-06-27T18:27:48.859Z"
   },
   {
    "duration": 28,
    "start_time": "2023-06-27T18:27:48.880Z"
   },
   {
    "duration": 25,
    "start_time": "2023-06-27T18:27:48.910Z"
   },
   {
    "duration": 16,
    "start_time": "2023-06-27T18:27:48.937Z"
   },
   {
    "duration": 24,
    "start_time": "2023-06-27T18:27:48.955Z"
   },
   {
    "duration": 270,
    "start_time": "2023-06-27T18:27:48.981Z"
   },
   {
    "duration": 548,
    "start_time": "2023-06-27T18:27:49.253Z"
   },
   {
    "duration": 43,
    "start_time": "2023-06-27T18:27:49.803Z"
   },
   {
    "duration": 44,
    "start_time": "2023-06-27T18:27:49.852Z"
   },
   {
    "duration": 6,
    "start_time": "2023-06-27T18:27:49.901Z"
   },
   {
    "duration": 94,
    "start_time": "2023-06-27T18:27:49.909Z"
   },
   {
    "duration": 40,
    "start_time": "2023-06-27T18:27:50.005Z"
   },
   {
    "duration": 32,
    "start_time": "2023-06-27T18:27:50.051Z"
   },
   {
    "duration": 38,
    "start_time": "2023-06-27T18:27:50.086Z"
   },
   {
    "duration": 32,
    "start_time": "2023-06-27T18:27:50.125Z"
   },
   {
    "duration": 181,
    "start_time": "2023-06-27T18:27:50.160Z"
   },
   {
    "duration": 204,
    "start_time": "2023-06-27T18:27:50.344Z"
   },
   {
    "duration": 9,
    "start_time": "2023-06-27T18:27:50.552Z"
   },
   {
    "duration": 5,
    "start_time": "2023-06-27T18:27:50.563Z"
   },
   {
    "duration": 82,
    "start_time": "2023-06-27T18:27:50.569Z"
   },
   {
    "duration": 5,
    "start_time": "2023-06-27T18:27:50.654Z"
   },
   {
    "duration": 25,
    "start_time": "2023-06-27T18:27:50.661Z"
   },
   {
    "duration": 11,
    "start_time": "2023-06-27T18:27:50.688Z"
   },
   {
    "duration": 3539,
    "start_time": "2023-06-27T18:27:50.702Z"
   },
   {
    "duration": 65985,
    "start_time": "2023-06-27T18:27:54.244Z"
   },
   {
    "duration": 471,
    "start_time": "2023-06-27T18:29:00.234Z"
   },
   {
    "duration": 4332,
    "start_time": "2023-06-27T18:29:00.706Z"
   },
   {
    "duration": 201,
    "start_time": "2023-06-27T18:29:05.047Z"
   },
   {
    "duration": 74603,
    "start_time": "2023-06-27T18:29:05.250Z"
   },
   {
    "duration": 6021,
    "start_time": "2023-06-27T18:30:19.855Z"
   },
   {
    "duration": 4,
    "start_time": "2023-06-27T18:30:25.877Z"
   },
   {
    "duration": 100,
    "start_time": "2023-06-27T18:30:25.883Z"
   },
   {
    "duration": 182,
    "start_time": "2023-06-27T18:39:12.642Z"
   },
   {
    "duration": 0,
    "start_time": "2023-06-27T18:39:12.826Z"
   },
   {
    "duration": 0,
    "start_time": "2023-06-27T18:39:12.828Z"
   },
   {
    "duration": 16,
    "start_time": "2023-06-27T18:42:01.450Z"
   },
   {
    "duration": 1805,
    "start_time": "2023-06-27T18:43:17.638Z"
   },
   {
    "duration": 28,
    "start_time": "2023-06-27T18:44:09.650Z"
   },
   {
    "duration": 1815,
    "start_time": "2023-06-27T18:44:19.334Z"
   },
   {
    "duration": 1393,
    "start_time": "2023-06-27T18:44:21.152Z"
   },
   {
    "duration": 145,
    "start_time": "2023-06-27T18:44:22.547Z"
   },
   {
    "duration": 44,
    "start_time": "2023-06-27T18:44:22.695Z"
   },
   {
    "duration": 10,
    "start_time": "2023-06-27T18:44:22.743Z"
   },
   {
    "duration": 5,
    "start_time": "2023-06-27T18:44:22.755Z"
   },
   {
    "duration": 35,
    "start_time": "2023-06-27T18:44:22.762Z"
   },
   {
    "duration": 125,
    "start_time": "2023-06-27T18:44:22.800Z"
   },
   {
    "duration": 90,
    "start_time": "2023-06-27T18:44:22.927Z"
   },
   {
    "duration": 223,
    "start_time": "2023-06-27T18:44:23.022Z"
   },
   {
    "duration": 49,
    "start_time": "2023-06-27T18:44:23.247Z"
   },
   {
    "duration": 183,
    "start_time": "2023-06-27T18:44:23.298Z"
   },
   {
    "duration": 3,
    "start_time": "2023-06-27T18:44:23.483Z"
   },
   {
    "duration": 5,
    "start_time": "2023-06-27T18:44:23.489Z"
   },
   {
    "duration": 26,
    "start_time": "2023-06-27T18:44:23.495Z"
   },
   {
    "duration": 10,
    "start_time": "2023-06-27T18:44:23.531Z"
   },
   {
    "duration": 25,
    "start_time": "2023-06-27T18:44:23.543Z"
   },
   {
    "duration": 3,
    "start_time": "2023-06-27T18:44:23.570Z"
   },
   {
    "duration": 83,
    "start_time": "2023-06-27T18:44:23.575Z"
   },
   {
    "duration": 43,
    "start_time": "2023-06-27T18:44:23.660Z"
   },
   {
    "duration": 23,
    "start_time": "2023-06-27T18:44:23.705Z"
   },
   {
    "duration": 26,
    "start_time": "2023-06-27T18:44:23.729Z"
   },
   {
    "duration": 23,
    "start_time": "2023-06-27T18:44:23.757Z"
   },
   {
    "duration": 285,
    "start_time": "2023-06-27T18:44:23.782Z"
   },
   {
    "duration": 493,
    "start_time": "2023-06-27T18:44:24.070Z"
   },
   {
    "duration": 14,
    "start_time": "2023-06-27T18:44:24.565Z"
   },
   {
    "duration": 66,
    "start_time": "2023-06-27T18:44:24.581Z"
   },
   {
    "duration": 5,
    "start_time": "2023-06-27T18:44:24.650Z"
   },
   {
    "duration": 72,
    "start_time": "2023-06-27T18:44:24.656Z"
   },
   {
    "duration": 33,
    "start_time": "2023-06-27T18:44:24.730Z"
   },
   {
    "duration": 26,
    "start_time": "2023-06-27T18:44:24.765Z"
   },
   {
    "duration": 50,
    "start_time": "2023-06-27T18:44:24.793Z"
   },
   {
    "duration": 17,
    "start_time": "2023-06-27T18:44:24.845Z"
   },
   {
    "duration": 137,
    "start_time": "2023-06-27T18:44:24.864Z"
   },
   {
    "duration": 171,
    "start_time": "2023-06-27T18:44:25.003Z"
   },
   {
    "duration": 4,
    "start_time": "2023-06-27T18:44:25.176Z"
   },
   {
    "duration": 7,
    "start_time": "2023-06-27T18:44:25.182Z"
   },
   {
    "duration": 78,
    "start_time": "2023-06-27T18:44:25.190Z"
   },
   {
    "duration": 4,
    "start_time": "2023-06-27T18:44:25.270Z"
   },
   {
    "duration": 8,
    "start_time": "2023-06-27T18:44:25.276Z"
   },
   {
    "duration": 8,
    "start_time": "2023-06-27T18:44:25.287Z"
   },
   {
    "duration": 3745,
    "start_time": "2023-06-27T18:44:25.296Z"
   },
   {
    "duration": 62474,
    "start_time": "2023-06-27T18:44:29.047Z"
   },
   {
    "duration": 471,
    "start_time": "2023-06-27T18:45:31.523Z"
   },
   {
    "duration": 4464,
    "start_time": "2023-06-27T18:45:31.996Z"
   },
   {
    "duration": 217,
    "start_time": "2023-06-27T18:45:36.462Z"
   },
   {
    "duration": 79829,
    "start_time": "2023-06-27T18:45:36.681Z"
   },
   {
    "duration": 6895,
    "start_time": "2023-06-27T18:46:56.513Z"
   },
   {
    "duration": 74,
    "start_time": "2023-06-27T18:47:03.413Z"
   },
   {
    "duration": 2213,
    "start_time": "2023-06-27T18:47:03.489Z"
   },
   {
    "duration": 0,
    "start_time": "2023-06-27T18:47:05.704Z"
   },
   {
    "duration": 161,
    "start_time": "2023-06-27T18:50:03.951Z"
   },
   {
    "duration": 301,
    "start_time": "2023-06-27T18:56:57.960Z"
   },
   {
    "duration": 13,
    "start_time": "2023-06-27T18:57:09.564Z"
   },
   {
    "duration": 4,
    "start_time": "2023-06-27T18:57:41.590Z"
   },
   {
    "duration": 1868,
    "start_time": "2023-06-27T19:08:54.558Z"
   },
   {
    "duration": 1067,
    "start_time": "2023-06-27T19:08:56.435Z"
   },
   {
    "duration": 178,
    "start_time": "2023-06-27T19:08:57.504Z"
   },
   {
    "duration": 21,
    "start_time": "2023-06-27T19:08:57.687Z"
   },
   {
    "duration": 18,
    "start_time": "2023-06-27T19:08:57.711Z"
   },
   {
    "duration": 25,
    "start_time": "2023-06-27T19:08:57.735Z"
   },
   {
    "duration": 72,
    "start_time": "2023-06-27T19:08:57.762Z"
   },
   {
    "duration": 105,
    "start_time": "2023-06-27T19:08:57.836Z"
   },
   {
    "duration": 101,
    "start_time": "2023-06-27T19:08:57.943Z"
   },
   {
    "duration": 254,
    "start_time": "2023-06-27T19:08:58.045Z"
   },
   {
    "duration": 67,
    "start_time": "2023-06-27T19:08:58.301Z"
   },
   {
    "duration": 152,
    "start_time": "2023-06-27T19:08:58.370Z"
   },
   {
    "duration": 17,
    "start_time": "2023-06-27T19:08:58.533Z"
   },
   {
    "duration": 6,
    "start_time": "2023-06-27T19:08:58.558Z"
   },
   {
    "duration": 12,
    "start_time": "2023-06-27T19:08:58.566Z"
   },
   {
    "duration": 11,
    "start_time": "2023-06-27T19:08:58.579Z"
   },
   {
    "duration": 26,
    "start_time": "2023-06-27T19:08:58.592Z"
   },
   {
    "duration": 22,
    "start_time": "2023-06-27T19:08:58.619Z"
   },
   {
    "duration": 2,
    "start_time": "2023-06-27T19:08:58.643Z"
   },
   {
    "duration": 23,
    "start_time": "2023-06-27T19:08:58.647Z"
   },
   {
    "duration": 4,
    "start_time": "2023-06-27T19:08:58.672Z"
   },
   {
    "duration": 8,
    "start_time": "2023-06-27T19:08:58.678Z"
   },
   {
    "duration": 39,
    "start_time": "2023-06-27T19:08:58.687Z"
   },
   {
    "duration": 316,
    "start_time": "2023-06-27T19:08:58.727Z"
   },
   {
    "duration": 570,
    "start_time": "2023-06-27T19:08:59.051Z"
   },
   {
    "duration": 28,
    "start_time": "2023-06-27T19:08:59.629Z"
   },
   {
    "duration": 60,
    "start_time": "2023-06-27T19:08:59.659Z"
   },
   {
    "duration": 9,
    "start_time": "2023-06-27T19:08:59.721Z"
   },
   {
    "duration": 77,
    "start_time": "2023-06-27T19:08:59.731Z"
   },
   {
    "duration": 47,
    "start_time": "2023-06-27T19:08:59.810Z"
   },
   {
    "duration": 38,
    "start_time": "2023-06-27T19:08:59.867Z"
   },
   {
    "duration": 52,
    "start_time": "2023-06-27T19:08:59.907Z"
   },
   {
    "duration": 23,
    "start_time": "2023-06-27T19:08:59.961Z"
   },
   {
    "duration": 163,
    "start_time": "2023-06-27T19:08:59.986Z"
   },
   {
    "duration": 189,
    "start_time": "2023-06-27T19:09:00.151Z"
   },
   {
    "duration": 8,
    "start_time": "2023-06-27T19:09:00.342Z"
   },
   {
    "duration": 33,
    "start_time": "2023-06-27T19:09:00.352Z"
   },
   {
    "duration": 116,
    "start_time": "2023-06-27T19:09:00.387Z"
   },
   {
    "duration": 5,
    "start_time": "2023-06-27T19:09:00.504Z"
   },
   {
    "duration": 56,
    "start_time": "2023-06-27T19:09:00.520Z"
   },
   {
    "duration": 37,
    "start_time": "2023-06-27T19:09:00.580Z"
   },
   {
    "duration": 3937,
    "start_time": "2023-06-27T19:09:00.619Z"
   },
   {
    "duration": 78187,
    "start_time": "2023-06-27T19:09:04.563Z"
   },
   {
    "duration": 532,
    "start_time": "2023-06-27T19:10:22.828Z"
   },
   {
    "duration": 4775,
    "start_time": "2023-06-27T19:10:23.362Z"
   },
   {
    "duration": 292,
    "start_time": "2023-06-27T19:10:28.142Z"
   },
   {
    "duration": 85163,
    "start_time": "2023-06-27T19:10:28.446Z"
   },
   {
    "duration": 6814,
    "start_time": "2023-06-27T19:11:53.619Z"
   },
   {
    "duration": 140,
    "start_time": "2023-06-27T19:12:00.435Z"
   },
   {
    "duration": 1977,
    "start_time": "2023-06-27T19:14:46.367Z"
   },
   {
    "duration": 1092,
    "start_time": "2023-06-27T19:14:48.346Z"
   },
   {
    "duration": 201,
    "start_time": "2023-06-27T19:14:49.444Z"
   },
   {
    "duration": 43,
    "start_time": "2023-06-27T19:14:49.652Z"
   },
   {
    "duration": 5,
    "start_time": "2023-06-27T19:14:49.698Z"
   },
   {
    "duration": 19,
    "start_time": "2023-06-27T19:14:49.706Z"
   },
   {
    "duration": 43,
    "start_time": "2023-06-27T19:14:49.728Z"
   },
   {
    "duration": 132,
    "start_time": "2023-06-27T19:14:49.773Z"
   },
   {
    "duration": 136,
    "start_time": "2023-06-27T19:14:49.908Z"
   },
   {
    "duration": 308,
    "start_time": "2023-06-27T19:14:50.048Z"
   },
   {
    "duration": 81,
    "start_time": "2023-06-27T19:14:50.358Z"
   },
   {
    "duration": 186,
    "start_time": "2023-06-27T19:14:50.445Z"
   },
   {
    "duration": 6,
    "start_time": "2023-06-27T19:14:50.633Z"
   },
   {
    "duration": 31,
    "start_time": "2023-06-27T19:14:50.641Z"
   },
   {
    "duration": 5,
    "start_time": "2023-06-27T19:14:50.675Z"
   },
   {
    "duration": 42,
    "start_time": "2023-06-27T19:14:50.682Z"
   },
   {
    "duration": 55,
    "start_time": "2023-06-27T19:14:50.726Z"
   },
   {
    "duration": 2,
    "start_time": "2023-06-27T19:14:50.783Z"
   },
   {
    "duration": 43,
    "start_time": "2023-06-27T19:14:50.787Z"
   },
   {
    "duration": 66,
    "start_time": "2023-06-27T19:14:50.833Z"
   },
   {
    "duration": 22,
    "start_time": "2023-06-27T19:14:50.901Z"
   },
   {
    "duration": 19,
    "start_time": "2023-06-27T19:14:50.925Z"
   },
   {
    "duration": 58,
    "start_time": "2023-06-27T19:14:50.946Z"
   },
   {
    "duration": 297,
    "start_time": "2023-06-27T19:14:51.006Z"
   },
   {
    "duration": 589,
    "start_time": "2023-06-27T19:14:51.305Z"
   },
   {
    "duration": 31,
    "start_time": "2023-06-27T19:14:51.896Z"
   },
   {
    "duration": 44,
    "start_time": "2023-06-27T19:14:51.928Z"
   },
   {
    "duration": 4,
    "start_time": "2023-06-27T19:14:51.977Z"
   },
   {
    "duration": 97,
    "start_time": "2023-06-27T19:14:51.983Z"
   },
   {
    "duration": 41,
    "start_time": "2023-06-27T19:14:52.082Z"
   },
   {
    "duration": 50,
    "start_time": "2023-06-27T19:14:52.125Z"
   },
   {
    "duration": 38,
    "start_time": "2023-06-27T19:14:52.178Z"
   },
   {
    "duration": 26,
    "start_time": "2023-06-27T19:14:52.220Z"
   },
   {
    "duration": 205,
    "start_time": "2023-06-27T19:14:52.248Z"
   },
   {
    "duration": 199,
    "start_time": "2023-06-27T19:14:52.455Z"
   },
   {
    "duration": 21,
    "start_time": "2023-06-27T19:14:52.657Z"
   },
   {
    "duration": 14,
    "start_time": "2023-06-27T19:14:52.682Z"
   },
   {
    "duration": 103,
    "start_time": "2023-06-27T19:14:52.698Z"
   },
   {
    "duration": 4,
    "start_time": "2023-06-27T19:14:52.803Z"
   },
   {
    "duration": 31,
    "start_time": "2023-06-27T19:14:52.809Z"
   },
   {
    "duration": 34,
    "start_time": "2023-06-27T19:14:52.842Z"
   },
   {
    "duration": 3433,
    "start_time": "2023-06-27T19:14:52.878Z"
   },
   {
    "duration": 68207,
    "start_time": "2023-06-27T19:14:56.314Z"
   },
   {
    "duration": 524,
    "start_time": "2023-06-27T19:16:04.526Z"
   },
   {
    "duration": 4920,
    "start_time": "2023-06-27T19:16:05.061Z"
   },
   {
    "duration": 240,
    "start_time": "2023-06-27T19:16:09.983Z"
   },
   {
    "duration": 85573,
    "start_time": "2023-06-27T19:16:10.230Z"
   },
   {
    "duration": 6765,
    "start_time": "2023-06-27T19:17:35.818Z"
   },
   {
    "duration": 126,
    "start_time": "2023-06-27T19:17:42.585Z"
   },
   {
    "duration": 21,
    "start_time": "2023-06-27T19:17:42.715Z"
   },
   {
    "duration": 3,
    "start_time": "2023-06-27T19:17:42.738Z"
   },
   {
    "duration": 426589,
    "start_time": "2023-06-27T19:17:42.743Z"
   },
   {
    "duration": 373454,
    "start_time": "2023-06-28T01:04:18.497Z"
   },
   {
    "duration": 38,
    "start_time": "2023-06-28T01:32:34.330Z"
   },
   {
    "duration": 21,
    "start_time": "2023-06-28T01:34:02.102Z"
   },
   {
    "duration": 14,
    "start_time": "2023-06-28T01:37:08.635Z"
   },
   {
    "duration": 4,
    "start_time": "2023-06-28T01:37:28.552Z"
   },
   {
    "duration": 1503,
    "start_time": "2023-06-28T01:37:40.555Z"
   },
   {
    "duration": 905,
    "start_time": "2023-06-28T01:37:42.060Z"
   },
   {
    "duration": 123,
    "start_time": "2023-06-28T01:37:42.966Z"
   },
   {
    "duration": 39,
    "start_time": "2023-06-28T01:37:43.091Z"
   },
   {
    "duration": 8,
    "start_time": "2023-06-28T01:37:43.132Z"
   },
   {
    "duration": 21,
    "start_time": "2023-06-28T01:37:43.142Z"
   },
   {
    "duration": 72,
    "start_time": "2023-06-28T01:37:43.165Z"
   },
   {
    "duration": 91,
    "start_time": "2023-06-28T01:37:43.239Z"
   },
   {
    "duration": 71,
    "start_time": "2023-06-28T01:37:43.332Z"
   },
   {
    "duration": 248,
    "start_time": "2023-06-28T01:37:43.416Z"
   },
   {
    "duration": 66,
    "start_time": "2023-06-28T01:37:43.666Z"
   },
   {
    "duration": 131,
    "start_time": "2023-06-28T01:37:43.734Z"
   },
   {
    "duration": 3,
    "start_time": "2023-06-28T01:37:43.867Z"
   },
   {
    "duration": 31,
    "start_time": "2023-06-28T01:37:43.871Z"
   },
   {
    "duration": 19,
    "start_time": "2023-06-28T01:37:43.904Z"
   },
   {
    "duration": 5,
    "start_time": "2023-06-28T01:37:43.925Z"
   },
   {
    "duration": 41,
    "start_time": "2023-06-28T01:37:43.934Z"
   },
   {
    "duration": 4,
    "start_time": "2023-06-28T01:37:43.978Z"
   },
   {
    "duration": 9,
    "start_time": "2023-06-28T01:37:43.983Z"
   },
   {
    "duration": 46,
    "start_time": "2023-06-28T01:37:43.994Z"
   },
   {
    "duration": 4,
    "start_time": "2023-06-28T01:37:44.042Z"
   },
   {
    "duration": 15,
    "start_time": "2023-06-28T01:37:44.048Z"
   },
   {
    "duration": 38,
    "start_time": "2023-06-28T01:37:44.065Z"
   },
   {
    "duration": 245,
    "start_time": "2023-06-28T01:37:44.106Z"
   },
   {
    "duration": 477,
    "start_time": "2023-06-28T01:37:44.353Z"
   },
   {
    "duration": 13,
    "start_time": "2023-06-28T01:37:44.832Z"
   },
   {
    "duration": 33,
    "start_time": "2023-06-28T01:37:44.846Z"
   },
   {
    "duration": 3,
    "start_time": "2023-06-28T01:37:44.883Z"
   },
   {
    "duration": 92,
    "start_time": "2023-06-28T01:37:44.888Z"
   },
   {
    "duration": 27,
    "start_time": "2023-06-28T01:37:44.982Z"
   },
   {
    "duration": 32,
    "start_time": "2023-06-28T01:37:45.011Z"
   },
   {
    "duration": 85,
    "start_time": "2023-06-28T01:37:45.044Z"
   },
   {
    "duration": 16,
    "start_time": "2023-06-28T01:37:45.131Z"
   },
   {
    "duration": 191,
    "start_time": "2023-06-28T01:37:45.148Z"
   },
   {
    "duration": 157,
    "start_time": "2023-06-28T01:37:45.341Z"
   },
   {
    "duration": 4,
    "start_time": "2023-06-28T01:37:45.500Z"
   },
   {
    "duration": 20,
    "start_time": "2023-06-28T01:37:45.513Z"
   },
   {
    "duration": 76,
    "start_time": "2023-06-28T01:37:45.535Z"
   },
   {
    "duration": 14,
    "start_time": "2023-06-28T01:37:45.615Z"
   },
   {
    "duration": 37,
    "start_time": "2023-06-28T01:37:45.631Z"
   },
   {
    "duration": 25,
    "start_time": "2023-06-28T01:37:45.670Z"
   },
   {
    "duration": 3544,
    "start_time": "2023-06-28T01:37:45.697Z"
   },
   {
    "duration": 32981,
    "start_time": "2023-06-28T01:37:49.242Z"
   },
   {
    "duration": 438,
    "start_time": "2023-06-28T01:38:22.225Z"
   },
   {
    "duration": 4206,
    "start_time": "2023-06-28T01:38:22.665Z"
   },
   {
    "duration": 197,
    "start_time": "2023-06-28T01:38:26.873Z"
   },
   {
    "duration": 71207,
    "start_time": "2023-06-28T01:38:27.072Z"
   },
   {
    "duration": 5655,
    "start_time": "2023-06-28T01:39:38.281Z"
   },
   {
    "duration": 106,
    "start_time": "2023-06-28T01:39:43.938Z"
   },
   {
    "duration": 5,
    "start_time": "2023-06-28T01:39:44.046Z"
   },
   {
    "duration": 54,
    "start_time": "2023-06-28T01:39:44.052Z"
   },
   {
    "duration": 2,
    "start_time": "2023-06-28T01:39:44.108Z"
   },
   {
    "duration": 496325,
    "start_time": "2023-06-28T01:39:44.114Z"
   },
   {
    "duration": 5,
    "start_time": "2023-06-28T01:48:46.369Z"
   },
   {
    "duration": 130,
    "start_time": "2023-06-28T01:52:21.287Z"
   },
   {
    "duration": 143,
    "start_time": "2023-06-28T01:52:43.961Z"
   },
   {
    "duration": 1970,
    "start_time": "2023-06-28T01:52:44.613Z"
   },
   {
    "duration": 2,
    "start_time": "2023-06-28T01:54:38.374Z"
   },
   {
    "duration": 18,
    "start_time": "2023-06-28T01:54:41.609Z"
   },
   {
    "duration": 12,
    "start_time": "2023-06-28T02:02:49.840Z"
   },
   {
    "duration": 13,
    "start_time": "2023-06-28T02:03:35.564Z"
   },
   {
    "duration": 16214,
    "start_time": "2023-06-28T02:03:56.888Z"
   },
   {
    "duration": 14809,
    "start_time": "2023-06-28T16:04:39.908Z"
   },
   {
    "duration": 4,
    "start_time": "2023-06-28T16:07:06.328Z"
   },
   {
    "duration": 5962,
    "start_time": "2023-06-28T16:07:16.757Z"
   },
   {
    "duration": 1705,
    "start_time": "2023-06-28T16:08:03.606Z"
   },
   {
    "duration": 3069,
    "start_time": "2023-06-28T16:08:05.312Z"
   },
   {
    "duration": 130,
    "start_time": "2023-06-28T16:08:08.383Z"
   },
   {
    "duration": 20,
    "start_time": "2023-06-28T16:08:08.514Z"
   },
   {
    "duration": 5,
    "start_time": "2023-06-28T16:08:08.537Z"
   },
   {
    "duration": 6,
    "start_time": "2023-06-28T16:08:08.544Z"
   },
   {
    "duration": 34,
    "start_time": "2023-06-28T16:08:08.552Z"
   },
   {
    "duration": 105,
    "start_time": "2023-06-28T16:08:08.588Z"
   },
   {
    "duration": 87,
    "start_time": "2023-06-28T16:08:08.695Z"
   },
   {
    "duration": 209,
    "start_time": "2023-06-28T16:08:08.784Z"
   },
   {
    "duration": 57,
    "start_time": "2023-06-28T16:08:08.995Z"
   },
   {
    "duration": 129,
    "start_time": "2023-06-28T16:08:09.055Z"
   },
   {
    "duration": 3,
    "start_time": "2023-06-28T16:08:09.185Z"
   },
   {
    "duration": 8,
    "start_time": "2023-06-28T16:08:09.192Z"
   },
   {
    "duration": 11,
    "start_time": "2023-06-28T16:08:09.213Z"
   },
   {
    "duration": 6,
    "start_time": "2023-06-28T16:08:09.226Z"
   },
   {
    "duration": 25,
    "start_time": "2023-06-28T16:08:09.234Z"
   },
   {
    "duration": 3,
    "start_time": "2023-06-28T16:08:09.261Z"
   },
   {
    "duration": 5,
    "start_time": "2023-06-28T16:08:09.266Z"
   },
   {
    "duration": 23,
    "start_time": "2023-06-28T16:08:09.273Z"
   },
   {
    "duration": 2,
    "start_time": "2023-06-28T16:08:09.314Z"
   },
   {
    "duration": 6,
    "start_time": "2023-06-28T16:08:09.318Z"
   },
   {
    "duration": 23,
    "start_time": "2023-06-28T16:08:09.325Z"
   },
   {
    "duration": 266,
    "start_time": "2023-06-28T16:08:09.350Z"
   },
   {
    "duration": 547,
    "start_time": "2023-06-28T16:08:09.619Z"
   },
   {
    "duration": 14,
    "start_time": "2023-06-28T16:08:10.168Z"
   },
   {
    "duration": 65,
    "start_time": "2023-06-28T16:08:10.184Z"
   },
   {
    "duration": 4,
    "start_time": "2023-06-28T16:08:10.252Z"
   },
   {
    "duration": 98,
    "start_time": "2023-06-28T16:08:10.257Z"
   },
   {
    "duration": 27,
    "start_time": "2023-06-28T16:08:10.357Z"
   },
   {
    "duration": 41,
    "start_time": "2023-06-28T16:08:10.386Z"
   },
   {
    "duration": 40,
    "start_time": "2023-06-28T16:08:10.428Z"
   },
   {
    "duration": 17,
    "start_time": "2023-06-28T16:08:10.470Z"
   },
   {
    "duration": 232,
    "start_time": "2023-06-28T16:08:10.489Z"
   },
   {
    "duration": 174,
    "start_time": "2023-06-28T16:08:10.723Z"
   },
   {
    "duration": 5,
    "start_time": "2023-06-28T16:08:10.899Z"
   },
   {
    "duration": 13,
    "start_time": "2023-06-28T16:08:10.906Z"
   },
   {
    "duration": 58,
    "start_time": "2023-06-28T16:08:10.921Z"
   },
   {
    "duration": 4,
    "start_time": "2023-06-28T16:08:10.980Z"
   },
   {
    "duration": 28,
    "start_time": "2023-06-28T16:08:10.986Z"
   },
   {
    "duration": 7,
    "start_time": "2023-06-28T16:08:11.018Z"
   },
   {
    "duration": 3866,
    "start_time": "2023-06-28T16:08:11.027Z"
   },
   {
    "duration": 21322,
    "start_time": "2023-06-28T16:08:14.895Z"
   },
   {
    "duration": 437,
    "start_time": "2023-06-28T16:08:36.219Z"
   },
   {
    "duration": 4239,
    "start_time": "2023-06-28T16:08:36.658Z"
   },
   {
    "duration": 222,
    "start_time": "2023-06-28T16:08:40.899Z"
   },
   {
    "duration": 70973,
    "start_time": "2023-06-28T16:08:41.123Z"
   },
   {
    "duration": 5530,
    "start_time": "2023-06-28T16:09:52.098Z"
   },
   {
    "duration": 104,
    "start_time": "2023-06-28T16:09:57.630Z"
   },
   {
    "duration": 5,
    "start_time": "2023-06-28T16:09:57.736Z"
   },
   {
    "duration": 51,
    "start_time": "2023-06-28T16:09:57.743Z"
   },
   {
    "duration": 5,
    "start_time": "2023-06-28T16:09:57.795Z"
   },
   {
    "duration": 21,
    "start_time": "2023-06-28T16:09:57.814Z"
   },
   {
    "duration": 499379,
    "start_time": "2023-06-28T16:09:57.837Z"
   },
   {
    "duration": 6,
    "start_time": "2023-06-28T16:18:17.217Z"
   },
   {
    "duration": 5824,
    "start_time": "2023-06-28T16:18:17.224Z"
   },
   {
    "duration": 0,
    "start_time": "2023-06-28T16:18:23.050Z"
   },
   {
    "duration": 0,
    "start_time": "2023-06-28T16:18:23.051Z"
   },
   {
    "duration": 156685,
    "start_time": "2023-06-28T16:21:38.992Z"
   },
   {
    "duration": 5,
    "start_time": "2023-06-28T16:34:24.656Z"
   },
   {
    "duration": 744,
    "start_time": "2023-06-28T16:34:25.211Z"
   },
   {
    "duration": 1520,
    "start_time": "2023-06-28T16:34:45.007Z"
   },
   {
    "duration": 852,
    "start_time": "2023-06-28T16:34:48.423Z"
   },
   {
    "duration": 117,
    "start_time": "2023-06-28T16:34:49.277Z"
   },
   {
    "duration": 19,
    "start_time": "2023-06-28T16:34:50.763Z"
   },
   {
    "duration": 4,
    "start_time": "2023-06-28T16:34:54.127Z"
   },
   {
    "duration": 4,
    "start_time": "2023-06-28T16:34:54.813Z"
   },
   {
    "duration": 113,
    "start_time": "2023-06-28T16:34:57.119Z"
   },
   {
    "duration": 120,
    "start_time": "2023-06-28T16:35:09.029Z"
   },
   {
    "duration": 80,
    "start_time": "2023-06-28T16:42:37.935Z"
   },
   {
    "duration": 571,
    "start_time": "2023-06-28T16:42:49.510Z"
   },
   {
    "duration": 580,
    "start_time": "2023-06-28T16:43:26.663Z"
   },
   {
    "duration": 74,
    "start_time": "2023-06-28T16:43:54.907Z"
   },
   {
    "duration": 116,
    "start_time": "2023-06-28T16:47:35.342Z"
   },
   {
    "duration": 298,
    "start_time": "2023-06-28T16:48:27.398Z"
   },
   {
    "duration": 4,
    "start_time": "2023-06-28T16:51:07.613Z"
   },
   {
    "duration": 15,
    "start_time": "2023-06-28T16:51:08.243Z"
   },
   {
    "duration": 4,
    "start_time": "2023-06-28T16:51:20.053Z"
   },
   {
    "duration": 45,
    "start_time": "2023-06-28T16:51:22.482Z"
   },
   {
    "duration": 264,
    "start_time": "2023-06-28T16:51:42.043Z"
   },
   {
    "duration": 3,
    "start_time": "2023-06-28T16:51:45.159Z"
   },
   {
    "duration": 3,
    "start_time": "2023-06-28T16:51:45.850Z"
   },
   {
    "duration": 263,
    "start_time": "2023-06-28T16:52:04.108Z"
   },
   {
    "duration": 3,
    "start_time": "2023-06-28T16:52:06.026Z"
   },
   {
    "duration": 2,
    "start_time": "2023-06-28T16:52:06.522Z"
   },
   {
    "duration": 259,
    "start_time": "2023-06-28T16:52:30.393Z"
   },
   {
    "duration": 2,
    "start_time": "2023-06-28T16:52:34.851Z"
   },
   {
    "duration": 247,
    "start_time": "2023-06-28T16:53:27.318Z"
   },
   {
    "duration": 423,
    "start_time": "2023-06-28T16:53:35.923Z"
   },
   {
    "duration": 14,
    "start_time": "2023-06-28T16:54:05.873Z"
   },
   {
    "duration": 63,
    "start_time": "2023-06-28T16:54:06.427Z"
   },
   {
    "duration": 42,
    "start_time": "2023-06-28T16:54:20.001Z"
   },
   {
    "duration": 43,
    "start_time": "2023-06-28T16:55:31.515Z"
   },
   {
    "duration": 11,
    "start_time": "2023-06-28T16:55:34.702Z"
   },
   {
    "duration": 4,
    "start_time": "2023-06-28T16:55:40.088Z"
   },
   {
    "duration": 138,
    "start_time": "2023-06-28T16:57:07.399Z"
   },
   {
    "duration": 43,
    "start_time": "2023-06-28T16:57:13.417Z"
   },
   {
    "duration": 22,
    "start_time": "2023-06-28T16:59:34.937Z"
   },
   {
    "duration": 9,
    "start_time": "2023-06-28T16:59:35.804Z"
   },
   {
    "duration": 39,
    "start_time": "2023-06-28T16:59:50.890Z"
   },
   {
    "duration": 9,
    "start_time": "2023-06-28T17:01:04.400Z"
   },
   {
    "duration": 15,
    "start_time": "2023-06-28T17:01:12.668Z"
   },
   {
    "duration": 313,
    "start_time": "2023-06-28T17:01:36.519Z"
   },
   {
    "duration": 4,
    "start_time": "2023-06-28T17:01:50.187Z"
   },
   {
    "duration": 4,
    "start_time": "2023-06-28T17:02:04.591Z"
   },
   {
    "duration": 1547,
    "start_time": "2023-06-28T17:02:54.417Z"
   },
   {
    "duration": 848,
    "start_time": "2023-06-28T17:02:55.966Z"
   },
   {
    "duration": 116,
    "start_time": "2023-06-28T17:02:56.816Z"
   },
   {
    "duration": 121,
    "start_time": "2023-06-28T17:02:56.934Z"
   },
   {
    "duration": 4,
    "start_time": "2023-06-28T17:03:00.149Z"
   },
   {
    "duration": 5,
    "start_time": "2023-06-28T17:03:01.588Z"
   },
   {
    "duration": 107,
    "start_time": "2023-06-28T17:03:03.355Z"
   },
   {
    "duration": 77,
    "start_time": "2023-06-28T17:03:08.020Z"
   },
   {
    "duration": 489,
    "start_time": "2023-06-28T17:03:12.153Z"
   },
   {
    "duration": 618,
    "start_time": "2023-06-28T17:03:13.639Z"
   },
   {
    "duration": 3,
    "start_time": "2023-06-28T17:03:21.527Z"
   },
   {
    "duration": 311,
    "start_time": "2023-06-28T17:03:23.183Z"
   },
   {
    "duration": 3,
    "start_time": "2023-06-28T17:03:29.025Z"
   },
   {
    "duration": 41,
    "start_time": "2023-06-28T17:03:31.253Z"
   },
   {
    "duration": 290,
    "start_time": "2023-06-28T17:03:33.691Z"
   },
   {
    "duration": 2,
    "start_time": "2023-06-28T17:03:35.222Z"
   },
   {
    "duration": 2,
    "start_time": "2023-06-28T17:03:35.957Z"
   },
   {
    "duration": 288,
    "start_time": "2023-06-28T17:03:36.467Z"
   },
   {
    "duration": 3,
    "start_time": "2023-06-28T17:03:39.543Z"
   },
   {
    "duration": 2,
    "start_time": "2023-06-28T17:03:40.122Z"
   },
   {
    "duration": 264,
    "start_time": "2023-06-28T17:03:40.894Z"
   },
   {
    "duration": 3,
    "start_time": "2023-06-28T17:03:54.605Z"
   },
   {
    "duration": 228,
    "start_time": "2023-06-28T17:03:56.018Z"
   },
   {
    "duration": 408,
    "start_time": "2023-06-28T17:03:56.695Z"
   },
   {
    "duration": 13,
    "start_time": "2023-06-28T17:03:58.525Z"
   },
   {
    "duration": 126,
    "start_time": "2023-06-28T17:04:45.858Z"
   },
   {
    "duration": 54,
    "start_time": "2023-06-28T17:05:06.694Z"
   },
   {
    "duration": 51,
    "start_time": "2023-06-28T17:05:09.494Z"
   },
   {
    "duration": 27,
    "start_time": "2023-06-28T17:05:10.655Z"
   },
   {
    "duration": 40,
    "start_time": "2023-06-28T17:05:13.330Z"
   },
   {
    "duration": 16,
    "start_time": "2023-06-28T17:05:14.818Z"
   },
   {
    "duration": 341,
    "start_time": "2023-06-28T17:05:16.153Z"
   },
   {
    "duration": 3,
    "start_time": "2023-06-28T17:05:20.434Z"
   },
   {
    "duration": 84,
    "start_time": "2023-06-28T17:06:14.956Z"
   },
   {
    "duration": 95,
    "start_time": "2023-06-28T17:07:10.808Z"
   },
   {
    "duration": 4,
    "start_time": "2023-06-28T17:07:25.780Z"
   },
   {
    "duration": 14,
    "start_time": "2023-06-28T17:07:49.540Z"
   },
   {
    "duration": 94,
    "start_time": "2023-06-28T17:07:53.318Z"
   },
   {
    "duration": 4,
    "start_time": "2023-06-28T17:07:56.598Z"
   },
   {
    "duration": 4,
    "start_time": "2023-06-28T17:08:07.160Z"
   },
   {
    "duration": 4,
    "start_time": "2023-06-28T17:08:08.022Z"
   },
   {
    "duration": 4020,
    "start_time": "2023-06-28T17:08:10.114Z"
   },
   {
    "duration": 40265,
    "start_time": "2023-06-28T17:08:47.047Z"
   },
   {
    "duration": 337,
    "start_time": "2023-06-28T17:11:52.077Z"
   },
   {
    "duration": 1566,
    "start_time": "2023-06-28T17:14:02.292Z"
   },
   {
    "duration": 916,
    "start_time": "2023-06-28T17:14:03.861Z"
   },
   {
    "duration": 127,
    "start_time": "2023-06-28T17:14:04.778Z"
   },
   {
    "duration": 28,
    "start_time": "2023-06-28T17:14:04.907Z"
   },
   {
    "duration": 4,
    "start_time": "2023-06-28T17:14:05.600Z"
   },
   {
    "duration": 5,
    "start_time": "2023-06-28T17:14:06.745Z"
   },
   {
    "duration": 132,
    "start_time": "2023-06-28T17:14:08.517Z"
   },
   {
    "duration": 79,
    "start_time": "2023-06-28T17:14:10.047Z"
   },
   {
    "duration": 501,
    "start_time": "2023-06-28T17:14:12.013Z"
   },
   {
    "duration": 583,
    "start_time": "2023-06-28T17:14:12.636Z"
   },
   {
    "duration": 3,
    "start_time": "2023-06-28T17:15:34.247Z"
   },
   {
    "duration": 309,
    "start_time": "2023-06-28T17:15:35.294Z"
   },
   {
    "duration": 3,
    "start_time": "2023-06-28T17:15:54.771Z"
   },
   {
    "duration": 3,
    "start_time": "2023-06-28T17:15:55.206Z"
   },
   {
    "duration": 114,
    "start_time": "2023-06-28T17:15:55.743Z"
   },
   {
    "duration": 51,
    "start_time": "2023-06-28T17:16:16.386Z"
   },
   {
    "duration": 228,
    "start_time": "2023-06-28T17:16:19.238Z"
   },
   {
    "duration": 419,
    "start_time": "2023-06-28T17:16:19.989Z"
   },
   {
    "duration": 14,
    "start_time": "2023-06-28T17:16:23.343Z"
   },
   {
    "duration": 52,
    "start_time": "2023-06-28T17:16:25.148Z"
   },
   {
    "duration": 50,
    "start_time": "2023-06-28T17:16:26.288Z"
   },
   {
    "duration": 22,
    "start_time": "2023-06-28T17:16:27.389Z"
   },
   {
    "duration": 49,
    "start_time": "2023-06-28T17:16:28.197Z"
   },
   {
    "duration": 16,
    "start_time": "2023-06-28T17:16:29.343Z"
   },
   {
    "duration": 335,
    "start_time": "2023-06-28T17:16:30.758Z"
   },
   {
    "duration": 4,
    "start_time": "2023-06-28T17:16:32.267Z"
   },
   {
    "duration": 88,
    "start_time": "2023-06-28T17:16:35.461Z"
   },
   {
    "duration": 34,
    "start_time": "2023-06-28T17:17:01.153Z"
   },
   {
    "duration": 94,
    "start_time": "2023-06-28T17:17:06.972Z"
   },
   {
    "duration": 17,
    "start_time": "2023-06-28T17:17:10.993Z"
   },
   {
    "duration": 84,
    "start_time": "2023-06-28T17:17:13.720Z"
   },
   {
    "duration": 4,
    "start_time": "2023-06-28T17:17:14.455Z"
   },
   {
    "duration": 3,
    "start_time": "2023-06-28T17:17:16.866Z"
   },
   {
    "duration": 4,
    "start_time": "2023-06-28T17:17:18.103Z"
   },
   {
    "duration": 3907,
    "start_time": "2023-06-28T17:17:20.206Z"
   },
   {
    "duration": 25908,
    "start_time": "2023-06-28T17:17:28.514Z"
   },
   {
    "duration": 278,
    "start_time": "2023-06-28T17:17:58.937Z"
   },
   {
    "duration": 1487,
    "start_time": "2023-06-28T17:18:47.915Z"
   },
   {
    "duration": 880,
    "start_time": "2023-06-28T17:18:49.404Z"
   },
   {
    "duration": 108,
    "start_time": "2023-06-28T17:18:50.286Z"
   },
   {
    "duration": 30,
    "start_time": "2023-06-28T17:18:50.396Z"
   },
   {
    "duration": 4,
    "start_time": "2023-06-28T17:18:50.427Z"
   },
   {
    "duration": 13,
    "start_time": "2023-06-28T17:18:50.433Z"
   },
   {
    "duration": 105,
    "start_time": "2023-06-28T17:18:52.099Z"
   },
   {
    "duration": 72,
    "start_time": "2023-06-28T17:18:52.648Z"
   },
   {
    "duration": 439,
    "start_time": "2023-06-28T17:18:55.556Z"
   },
   {
    "duration": 523,
    "start_time": "2023-06-28T17:18:56.979Z"
   },
   {
    "duration": 3,
    "start_time": "2023-06-28T17:19:00.195Z"
   },
   {
    "duration": 340,
    "start_time": "2023-06-28T17:19:11.521Z"
   },
   {
    "duration": 41,
    "start_time": "2023-06-28T17:19:16.020Z"
   },
   {
    "duration": 919,
    "start_time": "2023-06-28T17:19:29.589Z"
   },
   {
    "duration": 3,
    "start_time": "2023-06-28T17:19:30.896Z"
   },
   {
    "duration": 268,
    "start_time": "2023-06-28T17:19:32.311Z"
   },
   {
    "duration": 498,
    "start_time": "2023-06-28T17:19:32.595Z"
   },
   {
    "duration": 14,
    "start_time": "2023-06-28T17:19:35.429Z"
   },
   {
    "duration": 65,
    "start_time": "2023-06-28T17:19:35.998Z"
   },
   {
    "duration": 51,
    "start_time": "2023-06-28T17:19:36.963Z"
   },
   {
    "duration": 38,
    "start_time": "2023-06-28T17:19:37.895Z"
   },
   {
    "duration": 40,
    "start_time": "2023-06-28T17:19:38.407Z"
   },
   {
    "duration": 17,
    "start_time": "2023-06-28T17:19:40.058Z"
   },
   {
    "duration": 348,
    "start_time": "2023-06-28T17:19:40.636Z"
   },
   {
    "duration": 4,
    "start_time": "2023-06-28T17:19:41.173Z"
   },
   {
    "duration": 104,
    "start_time": "2023-06-28T17:19:42.225Z"
   },
   {
    "duration": 16,
    "start_time": "2023-06-28T17:19:47.073Z"
   },
   {
    "duration": 61,
    "start_time": "2023-06-28T17:19:51.002Z"
   },
   {
    "duration": 79,
    "start_time": "2023-06-28T17:19:53.030Z"
   },
   {
    "duration": 4,
    "start_time": "2023-06-28T17:19:54.556Z"
   },
   {
    "duration": 4,
    "start_time": "2023-06-28T17:19:55.403Z"
   },
   {
    "duration": 3711,
    "start_time": "2023-06-28T17:19:56.191Z"
   },
   {
    "duration": 25609,
    "start_time": "2023-06-28T17:20:00.916Z"
   },
   {
    "duration": 388,
    "start_time": "2023-06-28T17:20:26.527Z"
   },
   {
    "duration": 395,
    "start_time": "2023-06-28T17:21:48.177Z"
   },
   {
    "duration": 4755,
    "start_time": "2023-06-28T17:21:50.899Z"
   },
   {
    "duration": 4715,
    "start_time": "2023-06-28T17:22:03.059Z"
   },
   {
    "duration": 236,
    "start_time": "2023-06-28T17:22:42.134Z"
   },
   {
    "duration": 17,
    "start_time": "2023-06-28T17:22:44.932Z"
   },
   {
    "duration": 114,
    "start_time": "2023-06-28T17:23:55.418Z"
   },
   {
    "duration": 141,
    "start_time": "2023-06-28T17:24:37.683Z"
   },
   {
    "duration": 90601,
    "start_time": "2023-06-28T17:25:01.291Z"
   },
   {
    "duration": 7343,
    "start_time": "2023-06-28T17:26:31.895Z"
   },
   {
    "duration": 1122,
    "start_time": "2023-06-28T17:26:39.240Z"
   },
   {
    "duration": 335,
    "start_time": "2023-06-28T17:26:40.364Z"
   },
   {
    "duration": 17,
    "start_time": "2023-06-28T17:27:49.095Z"
   },
   {
    "duration": 1668,
    "start_time": "2023-06-28T17:28:09.041Z"
   },
   {
    "duration": 988,
    "start_time": "2023-06-28T17:28:10.712Z"
   },
   {
    "duration": 129,
    "start_time": "2023-06-28T17:28:11.703Z"
   },
   {
    "duration": 29,
    "start_time": "2023-06-28T17:28:11.835Z"
   },
   {
    "duration": 5,
    "start_time": "2023-06-28T17:28:11.866Z"
   },
   {
    "duration": 8,
    "start_time": "2023-06-28T17:28:11.873Z"
   },
   {
    "duration": 175,
    "start_time": "2023-06-28T17:28:11.883Z"
   },
   {
    "duration": 89,
    "start_time": "2023-06-28T17:28:12.061Z"
   },
   {
    "duration": 578,
    "start_time": "2023-06-28T17:28:12.152Z"
   },
   {
    "duration": 700,
    "start_time": "2023-06-28T17:28:12.733Z"
   },
   {
    "duration": 412,
    "start_time": "2023-06-28T17:28:13.435Z"
   },
   {
    "duration": 63,
    "start_time": "2023-06-28T17:28:13.851Z"
   },
   {
    "duration": 967,
    "start_time": "2023-06-28T17:28:13.917Z"
   },
   {
    "duration": 4,
    "start_time": "2023-06-28T17:28:14.886Z"
   },
   {
    "duration": 286,
    "start_time": "2023-06-28T17:28:14.892Z"
   },
   {
    "duration": 557,
    "start_time": "2023-06-28T17:28:15.180Z"
   },
   {
    "duration": 15,
    "start_time": "2023-06-28T17:28:15.739Z"
   },
   {
    "duration": 73,
    "start_time": "2023-06-28T17:28:15.756Z"
   },
   {
    "duration": 52,
    "start_time": "2023-06-28T17:28:15.831Z"
   },
   {
    "duration": 139,
    "start_time": "2023-06-28T17:28:15.885Z"
   },
   {
    "duration": 91,
    "start_time": "2023-06-28T17:28:16.026Z"
   },
   {
    "duration": 25,
    "start_time": "2023-06-28T17:28:16.120Z"
   },
   {
    "duration": 370,
    "start_time": "2023-06-28T17:28:16.148Z"
   },
   {
    "duration": 5,
    "start_time": "2023-06-28T17:28:16.521Z"
   },
   {
    "duration": 196,
    "start_time": "2023-06-28T17:28:16.528Z"
   },
   {
    "duration": 16,
    "start_time": "2023-06-28T17:28:16.727Z"
   },
   {
    "duration": 127,
    "start_time": "2023-06-28T17:28:16.746Z"
   },
   {
    "duration": 5,
    "start_time": "2023-06-28T17:28:16.878Z"
   },
   {
    "duration": 13,
    "start_time": "2023-06-28T17:28:16.886Z"
   },
   {
    "duration": 13,
    "start_time": "2023-06-28T17:28:16.902Z"
   },
   {
    "duration": 4028,
    "start_time": "2023-06-28T17:28:16.917Z"
   },
   {
    "duration": 48369,
    "start_time": "2023-06-28T17:28:20.948Z"
   },
   {
    "duration": 431,
    "start_time": "2023-06-28T17:29:09.320Z"
   },
   {
    "duration": 565,
    "start_time": "2023-06-28T17:29:09.753Z"
   },
   {
    "duration": 5037,
    "start_time": "2023-06-28T17:29:10.321Z"
   },
   {
    "duration": 312,
    "start_time": "2023-06-28T17:29:15.360Z"
   },
   {
    "duration": 38,
    "start_time": "2023-06-28T17:29:15.675Z"
   },
   {
    "duration": 87189,
    "start_time": "2023-06-28T17:29:15.715Z"
   },
   {
    "duration": 5604,
    "start_time": "2023-06-28T17:30:42.906Z"
   },
   {
    "duration": 878,
    "start_time": "2023-06-28T17:30:48.514Z"
   },
   {
    "duration": 137,
    "start_time": "2023-06-28T17:30:49.394Z"
   },
   {
    "duration": 0,
    "start_time": "2023-06-28T17:30:49.533Z"
   },
   {
    "duration": 0,
    "start_time": "2023-06-28T17:30:49.535Z"
   },
   {
    "duration": 0,
    "start_time": "2023-06-28T17:30:49.536Z"
   },
   {
    "duration": 151,
    "start_time": "2023-06-28T17:32:03.443Z"
   },
   {
    "duration": 53,
    "start_time": "2023-06-28T17:32:09.815Z"
   },
   {
    "duration": 377121,
    "start_time": "2023-06-28T17:32:19.910Z"
   },
   {
    "duration": 891,
    "start_time": "2023-06-28T17:38:37.033Z"
   },
   {
    "duration": 1408,
    "start_time": "2023-06-28T17:39:58.740Z"
   },
   {
    "duration": 76,
    "start_time": "2023-06-28T17:40:22.841Z"
   },
   {
    "duration": 8,
    "start_time": "2023-06-28T17:42:41.851Z"
   },
   {
    "duration": 1531,
    "start_time": "2023-06-28T17:42:54.422Z"
   },
   {
    "duration": 116,
    "start_time": "2023-06-28T17:43:02.367Z"
   },
   {
    "duration": 1459,
    "start_time": "2023-06-28T17:43:16.054Z"
   },
   {
    "duration": 863,
    "start_time": "2023-06-28T17:43:17.515Z"
   },
   {
    "duration": 107,
    "start_time": "2023-06-28T17:43:18.380Z"
   },
   {
    "duration": 36,
    "start_time": "2023-06-28T17:43:18.489Z"
   },
   {
    "duration": 4,
    "start_time": "2023-06-28T17:43:18.527Z"
   },
   {
    "duration": 8,
    "start_time": "2023-06-28T17:43:18.532Z"
   },
   {
    "duration": 117,
    "start_time": "2023-06-28T17:43:18.542Z"
   },
   {
    "duration": 82,
    "start_time": "2023-06-28T17:43:18.660Z"
   },
   {
    "duration": 484,
    "start_time": "2023-06-28T17:43:18.743Z"
   },
   {
    "duration": 644,
    "start_time": "2023-06-28T17:43:19.231Z"
   },
   {
    "duration": 367,
    "start_time": "2023-06-28T17:43:19.877Z"
   },
   {
    "duration": 44,
    "start_time": "2023-06-28T17:43:20.246Z"
   },
   {
    "duration": 871,
    "start_time": "2023-06-28T17:43:20.292Z"
   },
   {
    "duration": 2,
    "start_time": "2023-06-28T17:43:21.165Z"
   },
   {
    "duration": 255,
    "start_time": "2023-06-28T17:43:21.169Z"
   },
   {
    "duration": 506,
    "start_time": "2023-06-28T17:43:21.427Z"
   },
   {
    "duration": 13,
    "start_time": "2023-06-28T17:43:21.935Z"
   },
   {
    "duration": 75,
    "start_time": "2023-06-28T17:43:21.951Z"
   },
   {
    "duration": 53,
    "start_time": "2023-06-28T17:43:22.028Z"
   },
   {
    "duration": 38,
    "start_time": "2023-06-28T17:43:22.083Z"
   },
   {
    "duration": 40,
    "start_time": "2023-06-28T17:43:22.123Z"
   },
   {
    "duration": 17,
    "start_time": "2023-06-28T17:43:22.165Z"
   },
   {
    "duration": 373,
    "start_time": "2023-06-28T17:43:22.184Z"
   },
   {
    "duration": 4,
    "start_time": "2023-06-28T17:43:22.559Z"
   },
   {
    "duration": 192,
    "start_time": "2023-06-28T17:43:22.564Z"
   },
   {
    "duration": 14,
    "start_time": "2023-06-28T17:43:22.758Z"
   },
   {
    "duration": 81,
    "start_time": "2023-06-28T17:43:22.774Z"
   },
   {
    "duration": 4,
    "start_time": "2023-06-28T17:43:22.858Z"
   },
   {
    "duration": 13,
    "start_time": "2023-06-28T17:43:22.864Z"
   },
   {
    "duration": 10,
    "start_time": "2023-06-28T17:43:22.879Z"
   },
   {
    "duration": 4045,
    "start_time": "2023-06-28T17:43:22.890Z"
   },
   {
    "duration": 25580,
    "start_time": "2023-06-28T17:43:26.937Z"
   },
   {
    "duration": 303,
    "start_time": "2023-06-28T17:43:52.519Z"
   },
   {
    "duration": 578,
    "start_time": "2023-06-28T17:43:52.824Z"
   },
   {
    "duration": 4676,
    "start_time": "2023-06-28T17:43:53.404Z"
   },
   {
    "duration": 250,
    "start_time": "2023-06-28T17:43:58.081Z"
   },
   {
    "duration": 15,
    "start_time": "2023-06-28T17:43:58.334Z"
   },
   {
    "duration": 83429,
    "start_time": "2023-06-28T17:43:58.350Z"
   },
   {
    "duration": 5588,
    "start_time": "2023-06-28T17:45:21.781Z"
   },
   {
    "duration": 893,
    "start_time": "2023-06-28T17:45:27.371Z"
   },
   {
    "duration": 1523,
    "start_time": "2023-06-28T17:45:28.266Z"
   },
   {
    "duration": 0,
    "start_time": "2023-06-28T17:45:29.792Z"
   },
   {
    "duration": 0,
    "start_time": "2023-06-28T17:45:29.794Z"
   },
   {
    "duration": 0,
    "start_time": "2023-06-28T17:45:29.796Z"
   },
   {
    "duration": 0,
    "start_time": "2023-06-28T17:45:29.797Z"
   },
   {
    "duration": 102,
    "start_time": "2023-06-28T17:46:36.763Z"
   },
   {
    "duration": 45,
    "start_time": "2023-06-28T17:46:39.022Z"
   },
   {
    "duration": 17,
    "start_time": "2023-06-28T17:46:44.057Z"
   },
   {
    "duration": 1671,
    "start_time": "2023-06-28T18:07:33.118Z"
   },
   {
    "duration": 936,
    "start_time": "2023-06-28T18:07:34.791Z"
   },
   {
    "duration": 149,
    "start_time": "2023-06-28T18:07:35.735Z"
   },
   {
    "duration": 37,
    "start_time": "2023-06-28T18:07:35.886Z"
   },
   {
    "duration": 4,
    "start_time": "2023-06-28T18:07:35.925Z"
   },
   {
    "duration": 13,
    "start_time": "2023-06-28T18:07:35.933Z"
   },
   {
    "duration": 120,
    "start_time": "2023-06-28T18:07:35.948Z"
   },
   {
    "duration": 90,
    "start_time": "2023-06-28T18:07:36.069Z"
   },
   {
    "duration": 544,
    "start_time": "2023-06-28T18:07:36.160Z"
   },
   {
    "duration": 663,
    "start_time": "2023-06-28T18:07:36.712Z"
   },
   {
    "duration": 353,
    "start_time": "2023-06-28T18:07:37.377Z"
   },
   {
    "duration": 44,
    "start_time": "2023-06-28T18:07:37.733Z"
   },
   {
    "duration": 921,
    "start_time": "2023-06-28T18:07:37.779Z"
   },
   {
    "duration": 3,
    "start_time": "2023-06-28T18:07:38.702Z"
   },
   {
    "duration": 271,
    "start_time": "2023-06-28T18:07:38.713Z"
   },
   {
    "duration": 510,
    "start_time": "2023-06-28T18:07:38.986Z"
   },
   {
    "duration": 33,
    "start_time": "2023-06-28T18:07:39.498Z"
   },
   {
    "duration": 75,
    "start_time": "2023-06-28T18:07:39.533Z"
   },
   {
    "duration": 70,
    "start_time": "2023-06-28T18:07:39.610Z"
   },
   {
    "duration": 51,
    "start_time": "2023-06-28T18:07:39.683Z"
   },
   {
    "duration": 50,
    "start_time": "2023-06-28T18:07:39.741Z"
   },
   {
    "duration": 35,
    "start_time": "2023-06-28T18:07:39.793Z"
   },
   {
    "duration": 447,
    "start_time": "2023-06-28T18:07:39.831Z"
   },
   {
    "duration": 5,
    "start_time": "2023-06-28T18:07:40.279Z"
   },
   {
    "duration": 193,
    "start_time": "2023-06-28T18:07:40.286Z"
   },
   {
    "duration": 43,
    "start_time": "2023-06-28T18:07:40.481Z"
   },
   {
    "duration": 95,
    "start_time": "2023-06-28T18:07:40.530Z"
   },
   {
    "duration": 6,
    "start_time": "2023-06-28T18:07:40.631Z"
   },
   {
    "duration": 18,
    "start_time": "2023-06-28T18:07:40.640Z"
   },
   {
    "duration": 19,
    "start_time": "2023-06-28T18:07:40.660Z"
   },
   {
    "duration": 4271,
    "start_time": "2023-06-28T18:07:40.681Z"
   },
   {
    "duration": 51586,
    "start_time": "2023-06-28T18:07:44.954Z"
   },
   {
    "duration": 377,
    "start_time": "2023-06-28T18:08:36.542Z"
   },
   {
    "duration": 555,
    "start_time": "2023-06-28T18:08:36.921Z"
   },
   {
    "duration": 5294,
    "start_time": "2023-06-28T18:08:37.478Z"
   },
   {
    "duration": 257,
    "start_time": "2023-06-28T18:08:42.774Z"
   },
   {
    "duration": 14,
    "start_time": "2023-06-28T18:08:43.033Z"
   },
   {
    "duration": 84672,
    "start_time": "2023-06-28T18:08:43.050Z"
   },
   {
    "duration": 6304,
    "start_time": "2023-06-28T18:10:07.724Z"
   },
   {
    "duration": 921,
    "start_time": "2023-06-28T18:10:14.029Z"
   },
   {
    "duration": 120,
    "start_time": "2023-06-28T18:10:14.952Z"
   },
   {
    "duration": 58,
    "start_time": "2023-06-28T18:10:15.074Z"
   },
   {
    "duration": 17911,
    "start_time": "2023-06-28T18:10:15.134Z"
   },
   {
    "duration": 3,
    "start_time": "2023-06-28T18:10:33.047Z"
   },
   {
    "duration": 3496,
    "start_time": "2023-06-28T18:10:33.052Z"
   },
   {
    "duration": 795,
    "start_time": "2023-06-28T18:10:36.550Z"
   },
   {
    "duration": 2263,
    "start_time": "2023-06-28T18:12:28.882Z"
   },
   {
    "duration": 464,
    "start_time": "2023-06-28T18:12:36.576Z"
   },
   {
    "duration": 32671,
    "start_time": "2023-06-28T18:12:48.274Z"
   },
   {
    "duration": 3,
    "start_time": "2023-06-28T18:16:17.982Z"
   },
   {
    "duration": 2043,
    "start_time": "2023-06-28T18:16:42.299Z"
   },
   {
    "duration": 434,
    "start_time": "2023-06-28T18:16:47.382Z"
   },
   {
    "duration": 2059,
    "start_time": "2023-06-28T18:17:21.757Z"
   },
   {
    "duration": 449,
    "start_time": "2023-06-28T18:17:27.076Z"
   },
   {
    "duration": 2779,
    "start_time": "2023-06-28T18:17:39.736Z"
   },
   {
    "duration": 727,
    "start_time": "2023-06-28T18:17:45.627Z"
   },
   {
    "duration": 2340,
    "start_time": "2023-06-28T18:17:55.388Z"
   },
   {
    "duration": 449,
    "start_time": "2023-06-28T18:17:59.981Z"
   },
   {
    "duration": 62,
    "start_time": "2023-06-28T18:21:15.064Z"
   },
   {
    "duration": 1660,
    "start_time": "2023-06-28T18:21:32.228Z"
   },
   {
    "duration": 917,
    "start_time": "2023-06-28T18:21:33.890Z"
   },
   {
    "duration": 131,
    "start_time": "2023-06-28T18:21:34.808Z"
   },
   {
    "duration": 18,
    "start_time": "2023-06-28T18:21:34.945Z"
   },
   {
    "duration": 5,
    "start_time": "2023-06-28T18:21:34.965Z"
   },
   {
    "duration": 18,
    "start_time": "2023-06-28T18:21:34.972Z"
   },
   {
    "duration": 135,
    "start_time": "2023-06-28T18:21:34.992Z"
   },
   {
    "duration": 81,
    "start_time": "2023-06-28T18:21:35.129Z"
   },
   {
    "duration": 52,
    "start_time": "2023-06-28T18:21:35.220Z"
   },
   {
    "duration": 535,
    "start_time": "2023-06-28T18:21:35.274Z"
   },
   {
    "duration": 672,
    "start_time": "2023-06-28T18:21:35.811Z"
   },
   {
    "duration": 401,
    "start_time": "2023-06-28T18:21:36.485Z"
   },
   {
    "duration": 68,
    "start_time": "2023-06-28T18:21:36.888Z"
   },
   {
    "duration": 999,
    "start_time": "2023-06-28T18:21:36.960Z"
   },
   {
    "duration": 3,
    "start_time": "2023-06-28T18:21:37.961Z"
   },
   {
    "duration": 280,
    "start_time": "2023-06-28T18:21:37.965Z"
   },
   {
    "duration": 481,
    "start_time": "2023-06-28T18:21:38.247Z"
   },
   {
    "duration": 15,
    "start_time": "2023-06-28T18:21:38.732Z"
   },
   {
    "duration": 77,
    "start_time": "2023-06-28T18:21:38.749Z"
   },
   {
    "duration": 52,
    "start_time": "2023-06-28T18:21:38.828Z"
   },
   {
    "duration": 33,
    "start_time": "2023-06-28T18:21:38.882Z"
   },
   {
    "duration": 49,
    "start_time": "2023-06-28T18:21:38.916Z"
   },
   {
    "duration": 17,
    "start_time": "2023-06-28T18:21:38.967Z"
   },
   {
    "duration": 350,
    "start_time": "2023-06-28T18:21:38.986Z"
   },
   {
    "duration": 4,
    "start_time": "2023-06-28T18:21:39.338Z"
   },
   {
    "duration": 186,
    "start_time": "2023-06-28T18:21:39.343Z"
   },
   {
    "duration": 24,
    "start_time": "2023-06-28T18:21:39.531Z"
   },
   {
    "duration": 116,
    "start_time": "2023-06-28T18:21:39.557Z"
   },
   {
    "duration": 5,
    "start_time": "2023-06-28T18:21:39.675Z"
   },
   {
    "duration": 14,
    "start_time": "2023-06-28T18:21:39.682Z"
   },
   {
    "duration": 15,
    "start_time": "2023-06-28T18:21:39.699Z"
   },
   {
    "duration": 4049,
    "start_time": "2023-06-28T18:21:39.729Z"
   },
   {
    "duration": 44236,
    "start_time": "2023-06-28T18:21:43.780Z"
   },
   {
    "duration": 403,
    "start_time": "2023-06-28T18:22:28.018Z"
   },
   {
    "duration": 465,
    "start_time": "2023-06-28T18:22:28.426Z"
   },
   {
    "duration": 5085,
    "start_time": "2023-06-28T18:22:28.893Z"
   },
   {
    "duration": 234,
    "start_time": "2023-06-28T18:22:33.980Z"
   },
   {
    "duration": 20,
    "start_time": "2023-06-28T18:22:34.216Z"
   },
   {
    "duration": 82644,
    "start_time": "2023-06-28T18:22:34.239Z"
   },
   {
    "duration": 6416,
    "start_time": "2023-06-28T18:23:56.885Z"
   },
   {
    "duration": 993,
    "start_time": "2023-06-28T18:24:03.312Z"
   },
   {
    "duration": 131,
    "start_time": "2023-06-28T18:24:04.308Z"
   },
   {
    "duration": 58,
    "start_time": "2023-06-28T18:24:04.441Z"
   },
   {
    "duration": 36644,
    "start_time": "2023-06-28T18:24:04.502Z"
   },
   {
    "duration": 68,
    "start_time": "2023-06-28T18:24:41.148Z"
   },
   {
    "duration": 2229,
    "start_time": "2023-06-28T18:24:41.218Z"
   },
   {
    "duration": 521,
    "start_time": "2023-06-28T18:24:43.514Z"
   },
   {
    "duration": 4,
    "start_time": "2023-06-28T18:24:44.037Z"
   },
   {
    "duration": 2341,
    "start_time": "2023-06-28T18:25:28.705Z"
   },
   {
    "duration": 489,
    "start_time": "2023-06-28T18:25:33.555Z"
   },
   {
    "duration": 49015,
    "start_time": "2023-06-28T18:26:00.931Z"
   },
   {
    "duration": 43081,
    "start_time": "2023-06-28T18:27:59.339Z"
   },
   {
    "duration": 3,
    "start_time": "2023-06-28T18:29:05.978Z"
   },
   {
    "duration": 2172,
    "start_time": "2023-06-28T18:29:07.053Z"
   },
   {
    "duration": 506,
    "start_time": "2023-06-28T18:29:10.523Z"
   },
   {
    "duration": 120,
    "start_time": "2023-06-28T18:38:01.374Z"
   },
   {
    "duration": 1696,
    "start_time": "2023-06-28T18:42:23.194Z"
   },
   {
    "duration": 962,
    "start_time": "2023-06-28T18:42:24.893Z"
   },
   {
    "duration": 158,
    "start_time": "2023-06-28T18:42:25.857Z"
   },
   {
    "duration": 23,
    "start_time": "2023-06-28T18:42:26.022Z"
   },
   {
    "duration": 4,
    "start_time": "2023-06-28T18:42:26.047Z"
   },
   {
    "duration": 27,
    "start_time": "2023-06-28T18:42:26.053Z"
   },
   {
    "duration": 138,
    "start_time": "2023-06-28T18:42:26.081Z"
   },
   {
    "duration": 85,
    "start_time": "2023-06-28T18:42:26.225Z"
   },
   {
    "duration": 52,
    "start_time": "2023-06-28T18:42:26.313Z"
   },
   {
    "duration": 568,
    "start_time": "2023-06-28T18:42:26.368Z"
   },
   {
    "duration": 700,
    "start_time": "2023-06-28T18:42:26.938Z"
   },
   {
    "duration": 395,
    "start_time": "2023-06-28T18:42:27.640Z"
   },
   {
    "duration": 61,
    "start_time": "2023-06-28T18:42:28.037Z"
   },
   {
    "duration": 960,
    "start_time": "2023-06-28T18:42:28.100Z"
   },
   {
    "duration": 3,
    "start_time": "2023-06-28T18:42:29.062Z"
   },
   {
    "duration": 276,
    "start_time": "2023-06-28T18:42:29.067Z"
   },
   {
    "duration": 637,
    "start_time": "2023-06-28T18:42:29.345Z"
   },
   {
    "duration": 35,
    "start_time": "2023-06-28T18:42:29.984Z"
   },
   {
    "duration": 118,
    "start_time": "2023-06-28T18:42:30.022Z"
   },
   {
    "duration": 80,
    "start_time": "2023-06-28T18:42:30.144Z"
   },
   {
    "duration": 32,
    "start_time": "2023-06-28T18:42:30.226Z"
   },
   {
    "duration": 106,
    "start_time": "2023-06-28T18:42:30.261Z"
   },
   {
    "duration": 27,
    "start_time": "2023-06-28T18:42:30.369Z"
   },
   {
    "duration": 474,
    "start_time": "2023-06-28T18:42:30.399Z"
   },
   {
    "duration": 5,
    "start_time": "2023-06-28T18:42:30.874Z"
   },
   {
    "duration": 298,
    "start_time": "2023-06-28T18:42:30.881Z"
   },
   {
    "duration": 76,
    "start_time": "2023-06-28T18:42:31.181Z"
   },
   {
    "duration": 108,
    "start_time": "2023-06-28T18:42:31.261Z"
   },
   {
    "duration": 153,
    "start_time": "2023-06-28T18:42:31.371Z"
   },
   {
    "duration": 6,
    "start_time": "2023-06-28T18:42:31.529Z"
   },
   {
    "duration": 39,
    "start_time": "2023-06-28T18:42:31.537Z"
   },
   {
    "duration": 34,
    "start_time": "2023-06-28T18:42:31.579Z"
   },
   {
    "duration": 4724,
    "start_time": "2023-06-28T18:42:31.615Z"
   },
   {
    "duration": 50998,
    "start_time": "2023-06-28T18:42:36.341Z"
   },
   {
    "duration": 378,
    "start_time": "2023-06-28T18:43:27.344Z"
   },
   {
    "duration": 571,
    "start_time": "2023-06-28T18:43:27.724Z"
   },
   {
    "duration": 5357,
    "start_time": "2023-06-28T18:43:28.297Z"
   },
   {
    "duration": 296,
    "start_time": "2023-06-28T18:43:33.657Z"
   },
   {
    "duration": 17,
    "start_time": "2023-06-28T18:43:33.956Z"
   },
   {
    "duration": 85303,
    "start_time": "2023-06-28T18:43:33.975Z"
   },
   {
    "duration": 6505,
    "start_time": "2023-06-28T18:44:59.280Z"
   },
   {
    "duration": 910,
    "start_time": "2023-06-28T18:45:05.787Z"
   },
   {
    "duration": 156,
    "start_time": "2023-06-28T18:45:06.699Z"
   },
   {
    "duration": 63,
    "start_time": "2023-06-28T18:45:06.858Z"
   },
   {
    "duration": 57097,
    "start_time": "2023-06-28T18:45:06.930Z"
   },
   {
    "duration": 5,
    "start_time": "2023-06-28T18:46:04.030Z"
   },
   {
    "duration": 0,
    "start_time": "2023-06-28T18:46:08.021Z"
   },
   {
    "duration": 0,
    "start_time": "2023-06-28T18:46:08.023Z"
   },
   {
    "duration": 0,
    "start_time": "2023-06-28T18:46:08.025Z"
   },
   {
    "duration": 396,
    "start_time": "2023-06-28T18:46:21.500Z"
   },
   {
    "duration": 197,
    "start_time": "2023-06-28T18:46:45.773Z"
   },
   {
    "duration": 3679,
    "start_time": "2023-06-28T18:47:01.462Z"
   },
   {
    "duration": 517,
    "start_time": "2023-06-28T18:47:08.305Z"
   },
   {
    "duration": 6,
    "start_time": "2023-06-28T18:49:16.672Z"
   },
   {
    "duration": 1846,
    "start_time": "2023-06-29T05:15:51.886Z"
   },
   {
    "duration": 3137,
    "start_time": "2023-06-29T05:15:53.735Z"
   },
   {
    "duration": 224,
    "start_time": "2023-06-29T05:15:56.873Z"
   },
   {
    "duration": 21,
    "start_time": "2023-06-29T05:15:57.099Z"
   },
   {
    "duration": 10,
    "start_time": "2023-06-29T05:15:57.123Z"
   },
   {
    "duration": 24,
    "start_time": "2023-06-29T05:15:57.135Z"
   },
   {
    "duration": 164,
    "start_time": "2023-06-29T05:15:57.160Z"
   },
   {
    "duration": 190,
    "start_time": "2023-06-29T05:15:57.327Z"
   },
   {
    "duration": 74,
    "start_time": "2023-06-29T05:15:57.520Z"
   },
   {
    "duration": 549,
    "start_time": "2023-06-29T05:15:57.595Z"
   },
   {
    "duration": 699,
    "start_time": "2023-06-29T05:15:58.147Z"
   },
   {
    "duration": 431,
    "start_time": "2023-06-29T05:15:58.848Z"
   },
   {
    "duration": 75,
    "start_time": "2023-06-29T05:15:59.280Z"
   },
   {
    "duration": 897,
    "start_time": "2023-06-29T05:15:59.361Z"
   },
   {
    "duration": 4,
    "start_time": "2023-06-29T05:16:00.260Z"
   },
   {
    "duration": 304,
    "start_time": "2023-06-29T05:16:00.266Z"
   },
   {
    "duration": 525,
    "start_time": "2023-06-29T05:16:00.573Z"
   },
   {
    "duration": 15,
    "start_time": "2023-06-29T05:16:01.100Z"
   },
   {
    "duration": 79,
    "start_time": "2023-06-29T05:16:01.117Z"
   },
   {
    "duration": 65,
    "start_time": "2023-06-29T05:16:01.199Z"
   },
   {
    "duration": 29,
    "start_time": "2023-06-29T05:16:01.266Z"
   },
   {
    "duration": 81,
    "start_time": "2023-06-29T05:16:01.298Z"
   },
   {
    "duration": 31,
    "start_time": "2023-06-29T05:16:01.382Z"
   },
   {
    "duration": 379,
    "start_time": "2023-06-29T05:16:01.415Z"
   },
   {
    "duration": 4,
    "start_time": "2023-06-29T05:16:01.796Z"
   },
   {
    "duration": 253,
    "start_time": "2023-06-29T05:16:01.802Z"
   },
   {
    "duration": 26,
    "start_time": "2023-06-29T05:16:02.057Z"
   },
   {
    "duration": 17,
    "start_time": "2023-06-29T05:16:02.086Z"
   },
   {
    "duration": 118,
    "start_time": "2023-06-29T05:16:02.105Z"
   },
   {
    "duration": 6,
    "start_time": "2023-06-29T05:16:02.227Z"
   },
   {
    "duration": 26,
    "start_time": "2023-06-29T05:16:02.235Z"
   },
   {
    "duration": 50,
    "start_time": "2023-06-29T05:16:02.264Z"
   },
   {
    "duration": 3760,
    "start_time": "2023-06-29T05:16:02.316Z"
   },
   {
    "duration": 87784,
    "start_time": "2023-06-29T05:16:06.079Z"
   },
   {
    "duration": 391,
    "start_time": "2023-06-29T05:17:33.866Z"
   },
   {
    "duration": 525,
    "start_time": "2023-06-29T05:17:34.265Z"
   },
   {
    "duration": 5476,
    "start_time": "2023-06-29T05:17:34.792Z"
   },
   {
    "duration": 259,
    "start_time": "2023-06-29T05:17:40.270Z"
   },
   {
    "duration": 25,
    "start_time": "2023-06-29T05:17:40.531Z"
   },
   {
    "duration": 90454,
    "start_time": "2023-06-29T05:17:40.558Z"
   },
   {
    "duration": 6065,
    "start_time": "2023-06-29T05:19:11.017Z"
   },
   {
    "duration": 1017,
    "start_time": "2023-06-29T05:19:17.084Z"
   },
   {
    "duration": 166,
    "start_time": "2023-06-29T05:19:18.103Z"
   },
   {
    "duration": 56,
    "start_time": "2023-06-29T05:19:18.272Z"
   },
   {
    "duration": 50231,
    "start_time": "2023-06-29T05:19:18.330Z"
   },
   {
    "duration": 4,
    "start_time": "2023-06-29T05:20:08.564Z"
   },
   {
    "duration": 2488,
    "start_time": "2023-06-29T05:20:08.571Z"
   },
   {
    "duration": 529,
    "start_time": "2023-06-29T05:20:11.062Z"
   },
   {
    "duration": 8,
    "start_time": "2023-06-29T05:20:11.593Z"
   },
   {
    "duration": 216,
    "start_time": "2023-06-29T15:05:20.027Z"
   },
   {
    "duration": 292,
    "start_time": "2023-06-29T15:05:54.698Z"
   },
   {
    "duration": 10,
    "start_time": "2023-06-29T15:06:32.532Z"
   },
   {
    "duration": 24,
    "start_time": "2023-06-29T15:07:39.531Z"
   },
   {
    "duration": 28,
    "start_time": "2023-06-29T15:08:05.507Z"
   },
   {
    "duration": 34,
    "start_time": "2023-06-29T15:08:39.828Z"
   },
   {
    "duration": 1605,
    "start_time": "2023-06-29T15:09:01.803Z"
   },
   {
    "duration": 3180,
    "start_time": "2023-06-29T15:09:03.413Z"
   },
   {
    "duration": 118,
    "start_time": "2023-06-29T15:09:06.595Z"
   },
   {
    "duration": 21,
    "start_time": "2023-06-29T15:09:06.715Z"
   },
   {
    "duration": 10,
    "start_time": "2023-06-29T15:09:06.737Z"
   },
   {
    "duration": 11,
    "start_time": "2023-06-29T15:09:06.748Z"
   },
   {
    "duration": 131,
    "start_time": "2023-06-29T15:09:06.760Z"
   },
   {
    "duration": 83,
    "start_time": "2023-06-29T15:09:06.893Z"
   },
   {
    "duration": 65,
    "start_time": "2023-06-29T15:09:06.977Z"
   },
   {
    "duration": 500,
    "start_time": "2023-06-29T15:09:07.044Z"
   },
   {
    "duration": 597,
    "start_time": "2023-06-29T15:09:07.546Z"
   },
   {
    "duration": 320,
    "start_time": "2023-06-29T15:09:08.146Z"
   },
   {
    "duration": 58,
    "start_time": "2023-06-29T15:09:08.468Z"
   },
   {
    "duration": 842,
    "start_time": "2023-06-29T15:09:08.528Z"
   },
   {
    "duration": 2,
    "start_time": "2023-06-29T15:09:09.372Z"
   },
   {
    "duration": 256,
    "start_time": "2023-06-29T15:09:09.375Z"
   },
   {
    "duration": 523,
    "start_time": "2023-06-29T15:09:09.634Z"
   },
   {
    "duration": 13,
    "start_time": "2023-06-29T15:09:10.159Z"
   },
   {
    "duration": 73,
    "start_time": "2023-06-29T15:09:10.173Z"
   },
   {
    "duration": 157,
    "start_time": "2023-06-29T15:09:10.247Z"
   },
   {
    "duration": 0,
    "start_time": "2023-06-29T15:09:10.407Z"
   },
   {
    "duration": 0,
    "start_time": "2023-06-29T15:09:10.487Z"
   },
   {
    "duration": 0,
    "start_time": "2023-06-29T15:09:10.489Z"
   },
   {
    "duration": 0,
    "start_time": "2023-06-29T15:09:10.490Z"
   },
   {
    "duration": 0,
    "start_time": "2023-06-29T15:09:10.491Z"
   },
   {
    "duration": 0,
    "start_time": "2023-06-29T15:09:10.493Z"
   },
   {
    "duration": 0,
    "start_time": "2023-06-29T15:09:10.494Z"
   },
   {
    "duration": 0,
    "start_time": "2023-06-29T15:09:10.495Z"
   },
   {
    "duration": 0,
    "start_time": "2023-06-29T15:09:10.496Z"
   },
   {
    "duration": 0,
    "start_time": "2023-06-29T15:09:10.497Z"
   },
   {
    "duration": 0,
    "start_time": "2023-06-29T15:09:10.498Z"
   },
   {
    "duration": 0,
    "start_time": "2023-06-29T15:09:10.513Z"
   },
   {
    "duration": 0,
    "start_time": "2023-06-29T15:09:10.514Z"
   },
   {
    "duration": 0,
    "start_time": "2023-06-29T15:09:10.515Z"
   },
   {
    "duration": 0,
    "start_time": "2023-06-29T15:09:10.516Z"
   },
   {
    "duration": 0,
    "start_time": "2023-06-29T15:09:10.517Z"
   },
   {
    "duration": 0,
    "start_time": "2023-06-29T15:09:10.521Z"
   },
   {
    "duration": 0,
    "start_time": "2023-06-29T15:09:10.523Z"
   },
   {
    "duration": 0,
    "start_time": "2023-06-29T15:09:10.525Z"
   },
   {
    "duration": 0,
    "start_time": "2023-06-29T15:09:10.526Z"
   },
   {
    "duration": 0,
    "start_time": "2023-06-29T15:09:10.528Z"
   },
   {
    "duration": 0,
    "start_time": "2023-06-29T15:09:10.529Z"
   },
   {
    "duration": 0,
    "start_time": "2023-06-29T15:09:10.530Z"
   },
   {
    "duration": 0,
    "start_time": "2023-06-29T15:09:10.532Z"
   },
   {
    "duration": 0,
    "start_time": "2023-06-29T15:09:10.533Z"
   },
   {
    "duration": 0,
    "start_time": "2023-06-29T15:09:10.535Z"
   },
   {
    "duration": 0,
    "start_time": "2023-06-29T15:09:10.537Z"
   },
   {
    "duration": 0,
    "start_time": "2023-06-29T15:09:10.538Z"
   },
   {
    "duration": 0,
    "start_time": "2023-06-29T15:09:10.540Z"
   },
   {
    "duration": 0,
    "start_time": "2023-06-29T15:09:10.542Z"
   },
   {
    "duration": 0,
    "start_time": "2023-06-29T15:09:10.543Z"
   },
   {
    "duration": 0,
    "start_time": "2023-06-29T15:09:10.545Z"
   },
   {
    "duration": 0,
    "start_time": "2023-06-29T15:09:10.546Z"
   },
   {
    "duration": 0,
    "start_time": "2023-06-29T15:09:10.548Z"
   },
   {
    "duration": 229,
    "start_time": "2023-06-29T15:19:17.018Z"
   },
   {
    "duration": 349,
    "start_time": "2023-06-29T15:19:17.999Z"
   },
   {
    "duration": 13,
    "start_time": "2023-06-29T15:19:47.096Z"
   },
   {
    "duration": 31,
    "start_time": "2023-06-29T15:21:00.848Z"
   },
   {
    "duration": 39,
    "start_time": "2023-06-29T15:22:01.692Z"
   },
   {
    "duration": 38,
    "start_time": "2023-06-29T15:24:26.408Z"
   },
   {
    "duration": 320,
    "start_time": "2023-06-29T15:26:33.713Z"
   },
   {
    "duration": 115,
    "start_time": "2023-06-29T15:29:14.351Z"
   },
   {
    "duration": 1656,
    "start_time": "2023-06-29T15:29:30.190Z"
   },
   {
    "duration": 304,
    "start_time": "2023-06-29T15:30:12.120Z"
   },
   {
    "duration": 353,
    "start_time": "2023-06-29T15:30:19.626Z"
   },
   {
    "duration": 307,
    "start_time": "2023-06-29T15:30:36.097Z"
   },
   {
    "duration": 452,
    "start_time": "2023-06-29T15:58:47.874Z"
   },
   {
    "duration": 286,
    "start_time": "2023-06-29T16:01:43.013Z"
   },
   {
    "duration": 296,
    "start_time": "2023-06-29T16:02:03.145Z"
   },
   {
    "duration": 58,
    "start_time": "2023-06-29T16:02:04.858Z"
   },
   {
    "duration": 39,
    "start_time": "2023-06-29T16:04:46.294Z"
   },
   {
    "duration": 23,
    "start_time": "2023-06-29T16:04:47.703Z"
   },
   {
    "duration": 38,
    "start_time": "2023-06-29T16:04:48.655Z"
   },
   {
    "duration": 18,
    "start_time": "2023-06-29T16:04:51.157Z"
   },
   {
    "duration": 320,
    "start_time": "2023-06-29T16:05:47.166Z"
   },
   {
    "duration": 4,
    "start_time": "2023-06-29T16:05:52.124Z"
   },
   {
    "duration": 88,
    "start_time": "2023-06-29T16:05:53.123Z"
   },
   {
    "duration": 12,
    "start_time": "2023-06-29T16:05:57.669Z"
   },
   {
    "duration": 64,
    "start_time": "2023-06-29T16:08:38.058Z"
   },
   {
    "duration": 60,
    "start_time": "2023-06-29T16:11:33.395Z"
   },
   {
    "duration": 115,
    "start_time": "2023-06-29T16:11:44.599Z"
   },
   {
    "duration": 955,
    "start_time": "2023-06-29T16:14:05.130Z"
   },
   {
    "duration": 408,
    "start_time": "2023-06-29T16:14:52.740Z"
   },
   {
    "duration": 1528,
    "start_time": "2023-06-29T16:15:21.267Z"
   },
   {
    "duration": 855,
    "start_time": "2023-06-29T16:15:22.797Z"
   },
   {
    "duration": 134,
    "start_time": "2023-06-29T16:15:23.654Z"
   },
   {
    "duration": 23,
    "start_time": "2023-06-29T16:15:23.791Z"
   },
   {
    "duration": 4,
    "start_time": "2023-06-29T16:15:29.965Z"
   },
   {
    "duration": 5,
    "start_time": "2023-06-29T16:15:31.128Z"
   },
   {
    "duration": 120,
    "start_time": "2023-06-29T16:15:33.914Z"
   },
   {
    "duration": 73,
    "start_time": "2023-06-29T16:15:36.532Z"
   },
   {
    "duration": 56,
    "start_time": "2023-06-29T16:15:37.074Z"
   },
   {
    "duration": 474,
    "start_time": "2023-06-29T16:15:38.529Z"
   },
   {
    "duration": 571,
    "start_time": "2023-06-29T16:16:53.733Z"
   },
   {
    "duration": 298,
    "start_time": "2023-06-29T16:16:56.406Z"
   },
   {
    "duration": 40,
    "start_time": "2023-06-29T16:16:59.458Z"
   },
   {
    "duration": 828,
    "start_time": "2023-06-29T16:17:00.630Z"
   },
   {
    "duration": 2,
    "start_time": "2023-06-29T16:17:02.737Z"
   },
   {
    "duration": 244,
    "start_time": "2023-06-29T16:17:05.255Z"
   },
   {
    "duration": 543,
    "start_time": "2023-06-29T16:17:12.654Z"
   },
   {
    "duration": 14,
    "start_time": "2023-06-29T16:17:13.862Z"
   },
   {
    "duration": 53,
    "start_time": "2023-06-29T16:17:15.947Z"
   },
   {
    "duration": 324,
    "start_time": "2023-06-29T16:17:20.354Z"
   },
   {
    "duration": 43,
    "start_time": "2023-06-29T16:17:20.894Z"
   },
   {
    "duration": 35,
    "start_time": "2023-06-29T16:17:24.001Z"
   },
   {
    "duration": 40,
    "start_time": "2023-06-29T16:17:25.024Z"
   },
   {
    "duration": 15,
    "start_time": "2023-06-29T16:17:26.928Z"
   },
   {
    "duration": 343,
    "start_time": "2023-06-29T16:17:27.602Z"
   },
   {
    "duration": 4,
    "start_time": "2023-06-29T16:17:31.076Z"
   },
   {
    "duration": 84,
    "start_time": "2023-06-29T16:18:57.918Z"
   },
   {
    "duration": 382,
    "start_time": "2023-06-29T16:18:58.977Z"
   },
   {
    "duration": 105,
    "start_time": "2023-06-29T17:07:58.182Z"
   },
   {
    "duration": 120,
    "start_time": "2023-06-29T17:11:27.971Z"
   },
   {
    "duration": 134,
    "start_time": "2023-06-29T17:11:46.800Z"
   },
   {
    "duration": 20,
    "start_time": "2023-06-29T17:12:02.182Z"
   },
   {
    "duration": 12,
    "start_time": "2023-06-29T17:12:10.787Z"
   },
   {
    "duration": 744,
    "start_time": "2023-06-29T17:13:53.152Z"
   },
   {
    "duration": 101,
    "start_time": "2023-06-29T17:16:09.039Z"
   },
   {
    "duration": 4,
    "start_time": "2023-06-29T17:16:15.355Z"
   },
   {
    "duration": 3,
    "start_time": "2023-06-29T17:17:55.231Z"
   },
   {
    "duration": 719,
    "start_time": "2023-06-29T17:17:56.021Z"
   },
   {
    "duration": 804,
    "start_time": "2023-06-29T17:17:59.330Z"
   },
   {
    "duration": 746,
    "start_time": "2023-06-29T17:18:03.303Z"
   },
   {
    "duration": 738,
    "start_time": "2023-06-29T17:18:32.830Z"
   },
   {
    "duration": 3,
    "start_time": "2023-06-29T17:21:38.693Z"
   },
   {
    "duration": 4,
    "start_time": "2023-06-29T17:22:26.860Z"
   },
   {
    "duration": 3,
    "start_time": "2023-06-29T17:22:30.184Z"
   },
   {
    "duration": 763,
    "start_time": "2023-06-29T17:22:30.909Z"
   },
   {
    "duration": 112,
    "start_time": "2023-06-29T17:22:49.292Z"
   },
   {
    "duration": 105,
    "start_time": "2023-06-29T17:23:05.476Z"
   },
   {
    "duration": 114,
    "start_time": "2023-06-29T17:23:16.147Z"
   },
   {
    "duration": 4,
    "start_time": "2023-06-29T17:23:24.277Z"
   },
   {
    "duration": 819,
    "start_time": "2023-06-29T17:23:26.957Z"
   },
   {
    "duration": 745,
    "start_time": "2023-06-29T17:23:32.665Z"
   },
   {
    "duration": 753,
    "start_time": "2023-06-29T17:23:40.940Z"
   },
   {
    "duration": 4,
    "start_time": "2023-06-29T17:23:57.365Z"
   },
   {
    "duration": 738,
    "start_time": "2023-06-29T17:23:58.267Z"
   },
   {
    "duration": 757,
    "start_time": "2023-06-29T17:24:03.077Z"
   },
   {
    "duration": 741,
    "start_time": "2023-06-29T17:24:05.035Z"
   },
   {
    "duration": 14,
    "start_time": "2023-06-29T17:24:20.388Z"
   },
   {
    "duration": 4,
    "start_time": "2023-06-29T17:24:26.826Z"
   },
   {
    "duration": 83,
    "start_time": "2023-06-29T17:24:35.243Z"
   },
   {
    "duration": 5,
    "start_time": "2023-06-29T17:24:35.776Z"
   },
   {
    "duration": 103,
    "start_time": "2023-06-29T17:25:03.565Z"
   },
   {
    "duration": 4,
    "start_time": "2023-06-29T17:25:49.948Z"
   },
   {
    "duration": 4,
    "start_time": "2023-06-29T17:25:50.513Z"
   },
   {
    "duration": 126,
    "start_time": "2023-06-29T17:27:20.163Z"
   },
   {
    "duration": 1151,
    "start_time": "2023-06-29T17:27:55.091Z"
   },
   {
    "duration": 4318,
    "start_time": "2023-06-30T02:05:29.464Z"
   },
   {
    "duration": 26,
    "start_time": "2023-06-30T15:38:58.258Z"
   },
   {
    "duration": 4,
    "start_time": "2023-06-30T17:14:50.742Z"
   },
   {
    "duration": 878,
    "start_time": "2023-06-30T17:14:51.346Z"
   },
   {
    "duration": 109,
    "start_time": "2023-06-30T17:14:52.226Z"
   },
   {
    "duration": 14,
    "start_time": "2023-06-30T17:14:52.393Z"
   },
   {
    "duration": 1618,
    "start_time": "2023-06-30T17:15:06.155Z"
   },
   {
    "duration": 879,
    "start_time": "2023-06-30T17:15:07.775Z"
   },
   {
    "duration": 125,
    "start_time": "2023-06-30T17:15:08.656Z"
   },
   {
    "duration": 20,
    "start_time": "2023-06-30T17:15:08.782Z"
   },
   {
    "duration": 4,
    "start_time": "2023-06-30T17:15:12.400Z"
   },
   {
    "duration": 5,
    "start_time": "2023-06-30T17:15:14.119Z"
   },
   {
    "duration": 110,
    "start_time": "2023-06-30T17:15:15.499Z"
   },
   {
    "duration": 76,
    "start_time": "2023-06-30T17:15:16.740Z"
   },
   {
    "duration": 54,
    "start_time": "2023-06-30T17:15:19.004Z"
   },
   {
    "duration": 476,
    "start_time": "2023-06-30T17:15:20.875Z"
   },
   {
    "duration": 593,
    "start_time": "2023-06-30T17:15:26.017Z"
   },
   {
    "duration": 300,
    "start_time": "2023-06-30T17:15:28.199Z"
   },
   {
    "duration": 40,
    "start_time": "2023-06-30T17:15:32.839Z"
   },
   {
    "duration": 834,
    "start_time": "2023-06-30T17:15:34.276Z"
   },
   {
    "duration": 304,
    "start_time": "2023-06-30T17:15:38.121Z"
   },
   {
    "duration": 440,
    "start_time": "2023-06-30T17:15:41.603Z"
   },
   {
    "duration": 14,
    "start_time": "2023-06-30T17:15:45.061Z"
   },
   {
    "duration": 54,
    "start_time": "2023-06-30T17:15:47.734Z"
   },
   {
    "duration": 303,
    "start_time": "2023-06-30T17:15:54.198Z"
   },
   {
    "duration": 41,
    "start_time": "2023-06-30T17:16:04.007Z"
   },
   {
    "duration": 24,
    "start_time": "2023-06-30T17:16:09.409Z"
   },
   {
    "duration": 41,
    "start_time": "2023-06-30T17:16:10.329Z"
   },
   {
    "duration": 19,
    "start_time": "2023-06-30T17:16:13.603Z"
   },
   {
    "duration": 329,
    "start_time": "2023-06-30T17:16:14.825Z"
   },
   {
    "duration": 4,
    "start_time": "2023-06-30T17:16:16.502Z"
   },
   {
    "duration": 82,
    "start_time": "2023-06-30T17:16:17.409Z"
   },
   {
    "duration": 4,
    "start_time": "2023-06-30T17:16:32.437Z"
   },
   {
    "duration": 4,
    "start_time": "2023-06-30T17:16:57.461Z"
   },
   {
    "duration": 733,
    "start_time": "2023-06-30T17:17:00.307Z"
   },
   {
    "duration": 762,
    "start_time": "2023-06-30T17:17:02.133Z"
   },
   {
    "duration": 1000,
    "start_time": "2023-06-30T17:17:03.745Z"
   },
   {
    "duration": 14,
    "start_time": "2023-06-30T17:17:06.632Z"
   },
   {
    "duration": 4,
    "start_time": "2023-06-30T17:17:15.100Z"
   },
   {
    "duration": 86,
    "start_time": "2023-06-30T17:17:19.680Z"
   },
   {
    "duration": 4,
    "start_time": "2023-06-30T17:17:21.410Z"
   },
   {
    "duration": 4,
    "start_time": "2023-06-30T17:17:32.195Z"
   },
   {
    "duration": 3,
    "start_time": "2023-06-30T17:17:33.036Z"
   },
   {
    "duration": 121,
    "start_time": "2023-06-30T17:17:35.355Z"
   },
   {
    "duration": 17,
    "start_time": "2023-06-30T17:20:33.330Z"
   },
   {
    "duration": 12,
    "start_time": "2023-06-30T17:22:48.755Z"
   },
   {
    "duration": 12,
    "start_time": "2023-06-30T17:22:55.602Z"
   },
   {
    "duration": 3,
    "start_time": "2023-06-30T17:26:02.008Z"
   },
   {
    "duration": 47,
    "start_time": "2023-06-30T17:26:44.415Z"
   },
   {
    "duration": 1647,
    "start_time": "2023-06-30T17:35:14.029Z"
   },
   {
    "duration": 2989,
    "start_time": "2023-06-30T17:35:16.898Z"
   },
   {
    "duration": 121,
    "start_time": "2023-06-30T17:35:19.890Z"
   },
   {
    "duration": 18,
    "start_time": "2023-06-30T17:35:20.013Z"
   },
   {
    "duration": 4,
    "start_time": "2023-06-30T17:35:20.034Z"
   },
   {
    "duration": 5,
    "start_time": "2023-06-30T17:35:21.545Z"
   },
   {
    "duration": 109,
    "start_time": "2023-06-30T17:35:22.028Z"
   },
   {
    "duration": 73,
    "start_time": "2023-06-30T17:35:22.390Z"
   },
   {
    "duration": 66,
    "start_time": "2023-06-30T17:35:22.769Z"
   },
   {
    "duration": 516,
    "start_time": "2023-06-30T17:35:24.086Z"
   },
   {
    "duration": 622,
    "start_time": "2023-06-30T17:35:24.991Z"
   },
   {
    "duration": 306,
    "start_time": "2023-06-30T17:35:26.274Z"
   },
   {
    "duration": 45,
    "start_time": "2023-06-30T17:35:27.521Z"
   },
   {
    "duration": 834,
    "start_time": "2023-06-30T17:35:28.050Z"
   },
   {
    "duration": 379,
    "start_time": "2023-06-30T17:35:29.658Z"
   },
   {
    "duration": 466,
    "start_time": "2023-06-30T17:35:30.039Z"
   },
   {
    "duration": 19,
    "start_time": "2023-06-30T17:35:30.512Z"
   },
   {
    "duration": 55,
    "start_time": "2023-06-30T17:35:31.311Z"
   },
   {
    "duration": 332,
    "start_time": "2023-06-30T17:35:32.691Z"
   },
   {
    "duration": 41,
    "start_time": "2023-06-30T17:35:33.026Z"
   },
   {
    "duration": 26,
    "start_time": "2023-06-30T17:35:33.894Z"
   },
   {
    "duration": 40,
    "start_time": "2023-06-30T17:35:34.285Z"
   },
   {
    "duration": 16,
    "start_time": "2023-06-30T17:35:35.151Z"
   },
   {
    "duration": 337,
    "start_time": "2023-06-30T17:35:35.441Z"
   },
   {
    "duration": 4,
    "start_time": "2023-06-30T17:35:36.015Z"
   },
   {
    "duration": 87,
    "start_time": "2023-06-30T17:35:36.298Z"
   },
   {
    "duration": 4,
    "start_time": "2023-06-30T17:35:38.999Z"
   },
   {
    "duration": 751,
    "start_time": "2023-06-30T17:35:39.693Z"
   },
   {
    "duration": 772,
    "start_time": "2023-06-30T17:35:40.446Z"
   },
   {
    "duration": 763,
    "start_time": "2023-06-30T17:35:41.220Z"
   },
   {
    "duration": 28,
    "start_time": "2023-06-30T17:35:41.985Z"
   },
   {
    "duration": 4,
    "start_time": "2023-06-30T17:35:42.598Z"
   },
   {
    "duration": 81,
    "start_time": "2023-06-30T17:35:45.558Z"
   },
   {
    "duration": 4,
    "start_time": "2023-06-30T17:35:46.764Z"
   },
   {
    "duration": 4,
    "start_time": "2023-06-30T17:35:51.174Z"
   },
   {
    "duration": 4,
    "start_time": "2023-06-30T17:35:51.689Z"
   },
   {
    "duration": 2,
    "start_time": "2023-06-30T17:35:55.905Z"
   },
   {
    "duration": 54,
    "start_time": "2023-06-30T17:36:10.914Z"
   },
   {
    "duration": 1556,
    "start_time": "2023-06-30T17:36:21.043Z"
   },
   {
    "duration": 2990,
    "start_time": "2023-06-30T17:36:22.600Z"
   },
   {
    "duration": 132,
    "start_time": "2023-06-30T17:36:25.592Z"
   },
   {
    "duration": 19,
    "start_time": "2023-06-30T17:36:25.728Z"
   },
   {
    "duration": 5,
    "start_time": "2023-06-30T17:36:25.749Z"
   },
   {
    "duration": 11,
    "start_time": "2023-06-30T17:36:25.755Z"
   },
   {
    "duration": 134,
    "start_time": "2023-06-30T17:36:25.767Z"
   },
   {
    "duration": 78,
    "start_time": "2023-06-30T17:36:25.903Z"
   },
   {
    "duration": 69,
    "start_time": "2023-06-30T17:36:25.983Z"
   },
   {
    "duration": 485,
    "start_time": "2023-06-30T17:36:26.055Z"
   },
   {
    "duration": 597,
    "start_time": "2023-06-30T17:36:26.550Z"
   },
   {
    "duration": 308,
    "start_time": "2023-06-30T17:36:27.149Z"
   },
   {
    "duration": 43,
    "start_time": "2023-06-30T17:36:27.459Z"
   },
   {
    "duration": 870,
    "start_time": "2023-06-30T17:36:27.504Z"
   },
   {
    "duration": 304,
    "start_time": "2023-06-30T17:36:28.376Z"
   },
   {
    "duration": 432,
    "start_time": "2023-06-30T17:36:28.681Z"
   },
   {
    "duration": 13,
    "start_time": "2023-06-30T17:36:29.115Z"
   },
   {
    "duration": 52,
    "start_time": "2023-06-30T17:36:29.129Z"
   },
   {
    "duration": 326,
    "start_time": "2023-06-30T17:36:29.183Z"
   },
   {
    "duration": 40,
    "start_time": "2023-06-30T17:36:29.511Z"
   },
   {
    "duration": 67,
    "start_time": "2023-06-30T17:36:29.552Z"
   },
   {
    "duration": 88,
    "start_time": "2023-06-30T17:36:29.622Z"
   },
   {
    "duration": 19,
    "start_time": "2023-06-30T17:36:29.712Z"
   },
   {
    "duration": 387,
    "start_time": "2023-06-30T17:36:29.733Z"
   },
   {
    "duration": 3,
    "start_time": "2023-06-30T17:36:30.122Z"
   },
   {
    "duration": 237,
    "start_time": "2023-06-30T17:36:30.127Z"
   },
   {
    "duration": 180,
    "start_time": "2023-06-30T17:36:30.365Z"
   },
   {
    "duration": 781,
    "start_time": "2023-06-30T17:36:30.549Z"
   },
   {
    "duration": 734,
    "start_time": "2023-06-30T17:36:31.332Z"
   },
   {
    "duration": 777,
    "start_time": "2023-06-30T17:36:32.069Z"
   },
   {
    "duration": 14,
    "start_time": "2023-06-30T17:36:32.848Z"
   },
   {
    "duration": 25,
    "start_time": "2023-06-30T17:36:32.864Z"
   },
   {
    "duration": 96,
    "start_time": "2023-06-30T17:36:32.891Z"
   },
   {
    "duration": 4,
    "start_time": "2023-06-30T17:36:32.989Z"
   },
   {
    "duration": 25,
    "start_time": "2023-06-30T17:36:32.995Z"
   },
   {
    "duration": 36,
    "start_time": "2023-06-30T17:36:33.022Z"
   },
   {
    "duration": 55,
    "start_time": "2023-06-30T17:36:33.060Z"
   },
   {
    "duration": 1584,
    "start_time": "2023-06-30T17:37:07.989Z"
   },
   {
    "duration": 2960,
    "start_time": "2023-06-30T17:37:09.576Z"
   },
   {
    "duration": 115,
    "start_time": "2023-06-30T17:37:12.538Z"
   },
   {
    "duration": 17,
    "start_time": "2023-06-30T17:37:12.655Z"
   },
   {
    "duration": 4,
    "start_time": "2023-06-30T17:37:12.674Z"
   },
   {
    "duration": 7,
    "start_time": "2023-06-30T17:37:12.679Z"
   },
   {
    "duration": 137,
    "start_time": "2023-06-30T17:37:12.688Z"
   },
   {
    "duration": 94,
    "start_time": "2023-06-30T17:37:12.827Z"
   },
   {
    "duration": 52,
    "start_time": "2023-06-30T17:37:12.922Z"
   },
   {
    "duration": 528,
    "start_time": "2023-06-30T17:37:12.976Z"
   },
   {
    "duration": 653,
    "start_time": "2023-06-30T17:37:13.505Z"
   },
   {
    "duration": 323,
    "start_time": "2023-06-30T17:37:14.160Z"
   },
   {
    "duration": 55,
    "start_time": "2023-06-30T17:37:14.485Z"
   },
   {
    "duration": 834,
    "start_time": "2023-06-30T17:37:14.543Z"
   },
   {
    "duration": 320,
    "start_time": "2023-06-30T17:37:15.380Z"
   },
   {
    "duration": 444,
    "start_time": "2023-06-30T17:37:15.701Z"
   },
   {
    "duration": 12,
    "start_time": "2023-06-30T17:37:16.147Z"
   },
   {
    "duration": 67,
    "start_time": "2023-06-30T17:37:16.161Z"
   },
   {
    "duration": 310,
    "start_time": "2023-06-30T17:37:16.230Z"
   },
   {
    "duration": 40,
    "start_time": "2023-06-30T17:37:16.542Z"
   },
   {
    "duration": 33,
    "start_time": "2023-06-30T17:37:16.584Z"
   },
   {
    "duration": 46,
    "start_time": "2023-06-30T17:37:16.619Z"
   },
   {
    "duration": 16,
    "start_time": "2023-06-30T17:37:16.667Z"
   },
   {
    "duration": 343,
    "start_time": "2023-06-30T17:37:16.684Z"
   },
   {
    "duration": 4,
    "start_time": "2023-06-30T17:37:17.028Z"
   },
   {
    "duration": 98,
    "start_time": "2023-06-30T17:37:17.033Z"
   },
   {
    "duration": 4,
    "start_time": "2023-06-30T17:37:17.132Z"
   },
   {
    "duration": 855,
    "start_time": "2023-06-30T17:37:17.137Z"
   },
   {
    "duration": 783,
    "start_time": "2023-06-30T17:37:17.993Z"
   },
   {
    "duration": 750,
    "start_time": "2023-06-30T17:37:18.778Z"
   },
   {
    "duration": 14,
    "start_time": "2023-06-30T17:37:19.530Z"
   },
   {
    "duration": 22,
    "start_time": "2023-06-30T17:37:19.546Z"
   },
   {
    "duration": 136,
    "start_time": "2023-06-30T17:37:19.570Z"
   },
   {
    "duration": 5,
    "start_time": "2023-06-30T17:37:19.709Z"
   },
   {
    "duration": 47,
    "start_time": "2023-06-30T17:37:19.716Z"
   },
   {
    "duration": 30,
    "start_time": "2023-06-30T17:37:19.766Z"
   },
   {
    "duration": 19,
    "start_time": "2023-06-30T17:37:19.798Z"
   },
   {
    "duration": 752,
    "start_time": "2023-06-30T17:37:19.820Z"
   },
   {
    "duration": 242,
    "start_time": "2023-06-30T17:37:20.574Z"
   },
   {
    "duration": 115,
    "start_time": "2023-06-30T17:37:20.818Z"
   },
   {
    "duration": 453,
    "start_time": "2023-06-30T17:37:20.939Z"
   },
   {
    "duration": 0,
    "start_time": "2023-06-30T17:37:21.394Z"
   },
   {
    "duration": 0,
    "start_time": "2023-06-30T17:37:21.397Z"
   },
   {
    "duration": 0,
    "start_time": "2023-06-30T17:37:21.398Z"
   },
   {
    "duration": 0,
    "start_time": "2023-06-30T17:37:21.413Z"
   },
   {
    "duration": 0,
    "start_time": "2023-06-30T17:37:21.415Z"
   },
   {
    "duration": 0,
    "start_time": "2023-06-30T17:37:21.417Z"
   },
   {
    "duration": 0,
    "start_time": "2023-06-30T17:37:21.419Z"
   },
   {
    "duration": 0,
    "start_time": "2023-06-30T17:37:21.420Z"
   },
   {
    "duration": 0,
    "start_time": "2023-06-30T17:37:21.422Z"
   },
   {
    "duration": 0,
    "start_time": "2023-06-30T17:37:21.423Z"
   },
   {
    "duration": 0,
    "start_time": "2023-06-30T17:37:21.425Z"
   },
   {
    "duration": 0,
    "start_time": "2023-06-30T17:37:21.427Z"
   },
   {
    "duration": 0,
    "start_time": "2023-06-30T17:37:21.428Z"
   },
   {
    "duration": 0,
    "start_time": "2023-06-30T17:37:21.430Z"
   },
   {
    "duration": 0,
    "start_time": "2023-06-30T17:37:21.431Z"
   },
   {
    "duration": 1482,
    "start_time": "2023-06-30T17:40:26.063Z"
   },
   {
    "duration": 1183,
    "start_time": "2023-06-30T17:40:33.890Z"
   },
   {
    "duration": 1541,
    "start_time": "2023-06-30T17:40:35.076Z"
   },
   {
    "duration": 814,
    "start_time": "2023-06-30T17:40:36.619Z"
   },
   {
    "duration": 111,
    "start_time": "2023-06-30T17:40:37.435Z"
   },
   {
    "duration": 26,
    "start_time": "2023-06-30T17:40:37.549Z"
   },
   {
    "duration": 7,
    "start_time": "2023-06-30T17:40:37.576Z"
   },
   {
    "duration": 22,
    "start_time": "2023-06-30T17:40:37.584Z"
   },
   {
    "duration": 113,
    "start_time": "2023-06-30T17:40:37.608Z"
   },
   {
    "duration": 75,
    "start_time": "2023-06-30T17:40:37.723Z"
   },
   {
    "duration": 56,
    "start_time": "2023-06-30T17:40:37.814Z"
   },
   {
    "duration": 472,
    "start_time": "2023-06-30T17:40:37.871Z"
   },
   {
    "duration": 569,
    "start_time": "2023-06-30T17:40:38.345Z"
   },
   {
    "duration": 325,
    "start_time": "2023-06-30T17:40:38.915Z"
   },
   {
    "duration": 41,
    "start_time": "2023-06-30T17:40:39.243Z"
   },
   {
    "duration": 882,
    "start_time": "2023-06-30T17:40:39.286Z"
   },
   {
    "duration": 312,
    "start_time": "2023-06-30T17:40:40.170Z"
   },
   {
    "duration": 452,
    "start_time": "2023-06-30T17:40:40.483Z"
   },
   {
    "duration": 13,
    "start_time": "2023-06-30T17:40:40.937Z"
   },
   {
    "duration": 69,
    "start_time": "2023-06-30T17:40:40.952Z"
   },
   {
    "duration": 322,
    "start_time": "2023-06-30T17:40:41.023Z"
   },
   {
    "duration": 41,
    "start_time": "2023-06-30T17:40:41.346Z"
   },
   {
    "duration": 30,
    "start_time": "2023-06-30T17:40:41.389Z"
   },
   {
    "duration": 46,
    "start_time": "2023-06-30T17:40:41.421Z"
   },
   {
    "duration": 16,
    "start_time": "2023-06-30T17:40:41.469Z"
   },
   {
    "duration": 356,
    "start_time": "2023-06-30T17:40:41.487Z"
   },
   {
    "duration": 4,
    "start_time": "2023-06-30T17:40:41.844Z"
   },
   {
    "duration": 97,
    "start_time": "2023-06-30T17:40:41.850Z"
   },
   {
    "duration": 4,
    "start_time": "2023-06-30T17:40:41.948Z"
   },
   {
    "duration": 785,
    "start_time": "2023-06-30T17:40:41.953Z"
   },
   {
    "duration": 755,
    "start_time": "2023-06-30T17:40:42.740Z"
   },
   {
    "duration": 770,
    "start_time": "2023-06-30T17:40:43.497Z"
   },
   {
    "duration": 14,
    "start_time": "2023-06-30T17:40:44.269Z"
   },
   {
    "duration": 17,
    "start_time": "2023-06-30T17:40:44.285Z"
   },
   {
    "duration": 94,
    "start_time": "2023-06-30T17:40:44.313Z"
   },
   {
    "duration": 5,
    "start_time": "2023-06-30T17:40:44.409Z"
   },
   {
    "duration": 8,
    "start_time": "2023-06-30T17:40:44.415Z"
   },
   {
    "duration": 5,
    "start_time": "2023-06-30T17:40:44.425Z"
   },
   {
    "duration": 6,
    "start_time": "2023-06-30T17:40:44.432Z"
   },
   {
    "duration": 726,
    "start_time": "2023-06-30T17:40:44.440Z"
   },
   {
    "duration": 224,
    "start_time": "2023-06-30T17:40:45.168Z"
   },
   {
    "duration": 118,
    "start_time": "2023-06-30T17:40:45.396Z"
   },
   {
    "duration": 374,
    "start_time": "2023-06-30T17:40:45.515Z"
   },
   {
    "duration": 0,
    "start_time": "2023-06-30T17:40:45.891Z"
   },
   {
    "duration": 0,
    "start_time": "2023-06-30T17:40:45.892Z"
   },
   {
    "duration": 0,
    "start_time": "2023-06-30T17:40:45.893Z"
   },
   {
    "duration": 0,
    "start_time": "2023-06-30T17:40:45.894Z"
   },
   {
    "duration": 0,
    "start_time": "2023-06-30T17:40:45.895Z"
   },
   {
    "duration": 0,
    "start_time": "2023-06-30T17:40:45.896Z"
   },
   {
    "duration": 0,
    "start_time": "2023-06-30T17:40:45.914Z"
   },
   {
    "duration": 0,
    "start_time": "2023-06-30T17:40:45.915Z"
   },
   {
    "duration": 0,
    "start_time": "2023-06-30T17:40:45.917Z"
   },
   {
    "duration": 0,
    "start_time": "2023-06-30T17:40:45.918Z"
   },
   {
    "duration": 1,
    "start_time": "2023-06-30T17:40:45.919Z"
   },
   {
    "duration": 0,
    "start_time": "2023-06-30T17:40:45.920Z"
   },
   {
    "duration": 0,
    "start_time": "2023-06-30T17:40:45.921Z"
   },
   {
    "duration": 0,
    "start_time": "2023-06-30T17:40:45.923Z"
   },
   {
    "duration": 0,
    "start_time": "2023-06-30T17:40:45.923Z"
   },
   {
    "duration": 1549,
    "start_time": "2023-06-30T17:42:10.568Z"
   },
   {
    "duration": 850,
    "start_time": "2023-06-30T17:42:12.119Z"
   },
   {
    "duration": 113,
    "start_time": "2023-06-30T17:42:12.971Z"
   },
   {
    "duration": 75,
    "start_time": "2023-06-30T17:42:13.086Z"
   },
   {
    "duration": 40,
    "start_time": "2023-06-30T17:42:13.163Z"
   },
   {
    "duration": 95,
    "start_time": "2023-06-30T17:42:13.204Z"
   },
   {
    "duration": 180,
    "start_time": "2023-06-30T17:42:13.301Z"
   },
   {
    "duration": 84,
    "start_time": "2023-06-30T17:42:13.482Z"
   },
   {
    "duration": 57,
    "start_time": "2023-06-30T17:42:13.568Z"
   },
   {
    "duration": 533,
    "start_time": "2023-06-30T17:42:13.627Z"
   },
   {
    "duration": 598,
    "start_time": "2023-06-30T17:42:14.162Z"
   },
   {
    "duration": 313,
    "start_time": "2023-06-30T17:42:14.761Z"
   },
   {
    "duration": 47,
    "start_time": "2023-06-30T17:42:15.076Z"
   },
   {
    "duration": 818,
    "start_time": "2023-06-30T17:42:15.127Z"
   },
   {
    "duration": 322,
    "start_time": "2023-06-30T17:42:15.946Z"
   },
   {
    "duration": 435,
    "start_time": "2023-06-30T17:42:16.270Z"
   },
   {
    "duration": 16,
    "start_time": "2023-06-30T17:42:16.707Z"
   },
   {
    "duration": 53,
    "start_time": "2023-06-30T17:42:16.724Z"
   },
   {
    "duration": 325,
    "start_time": "2023-06-30T17:42:16.779Z"
   },
   {
    "duration": 44,
    "start_time": "2023-06-30T17:42:17.106Z"
   },
   {
    "duration": 22,
    "start_time": "2023-06-30T17:42:17.152Z"
   },
   {
    "duration": 62,
    "start_time": "2023-06-30T17:42:17.176Z"
   },
   {
    "duration": 18,
    "start_time": "2023-06-30T17:42:17.240Z"
   },
   {
    "duration": 335,
    "start_time": "2023-06-30T17:42:17.259Z"
   },
   {
    "duration": 4,
    "start_time": "2023-06-30T17:42:17.596Z"
   },
   {
    "duration": 101,
    "start_time": "2023-06-30T17:42:17.613Z"
   },
   {
    "duration": 3,
    "start_time": "2023-06-30T17:42:17.716Z"
   },
   {
    "duration": 809,
    "start_time": "2023-06-30T17:42:17.721Z"
   },
   {
    "duration": 761,
    "start_time": "2023-06-30T17:42:18.532Z"
   },
   {
    "duration": 802,
    "start_time": "2023-06-30T17:42:19.295Z"
   },
   {
    "duration": 22,
    "start_time": "2023-06-30T17:42:20.099Z"
   },
   {
    "duration": 138,
    "start_time": "2023-06-30T17:42:20.123Z"
   },
   {
    "duration": 200,
    "start_time": "2023-06-30T17:42:20.262Z"
   },
   {
    "duration": 4,
    "start_time": "2023-06-30T17:42:20.463Z"
   },
   {
    "duration": 15,
    "start_time": "2023-06-30T17:42:20.469Z"
   },
   {
    "duration": 23,
    "start_time": "2023-06-30T17:42:20.486Z"
   },
   {
    "duration": 14,
    "start_time": "2023-06-30T17:42:20.511Z"
   },
   {
    "duration": 609,
    "start_time": "2023-06-30T17:42:20.526Z"
   },
   {
    "duration": 221,
    "start_time": "2023-06-30T17:42:21.137Z"
   },
   {
    "duration": 113,
    "start_time": "2023-06-30T17:42:21.360Z"
   },
   {
    "duration": 393,
    "start_time": "2023-06-30T17:42:21.477Z"
   },
   {
    "duration": 0,
    "start_time": "2023-06-30T17:42:21.872Z"
   },
   {
    "duration": 0,
    "start_time": "2023-06-30T17:42:21.874Z"
   },
   {
    "duration": 0,
    "start_time": "2023-06-30T17:42:21.875Z"
   },
   {
    "duration": 0,
    "start_time": "2023-06-30T17:42:21.876Z"
   },
   {
    "duration": 0,
    "start_time": "2023-06-30T17:42:21.878Z"
   },
   {
    "duration": 0,
    "start_time": "2023-06-30T17:42:21.879Z"
   },
   {
    "duration": 0,
    "start_time": "2023-06-30T17:42:21.880Z"
   },
   {
    "duration": 0,
    "start_time": "2023-06-30T17:42:21.882Z"
   },
   {
    "duration": 0,
    "start_time": "2023-06-30T17:42:21.883Z"
   },
   {
    "duration": 0,
    "start_time": "2023-06-30T17:42:21.884Z"
   },
   {
    "duration": 0,
    "start_time": "2023-06-30T17:42:21.885Z"
   },
   {
    "duration": 0,
    "start_time": "2023-06-30T17:42:21.913Z"
   },
   {
    "duration": 0,
    "start_time": "2023-06-30T17:42:21.914Z"
   },
   {
    "duration": 0,
    "start_time": "2023-06-30T17:42:21.916Z"
   },
   {
    "duration": 0,
    "start_time": "2023-06-30T17:42:21.917Z"
   },
   {
    "duration": 1650,
    "start_time": "2023-06-30T17:48:27.294Z"
   },
   {
    "duration": 883,
    "start_time": "2023-06-30T17:48:28.946Z"
   },
   {
    "duration": 182,
    "start_time": "2023-06-30T17:48:29.833Z"
   },
   {
    "duration": 19,
    "start_time": "2023-06-30T17:48:30.017Z"
   },
   {
    "duration": 41,
    "start_time": "2023-06-30T17:48:30.038Z"
   },
   {
    "duration": 57,
    "start_time": "2023-06-30T17:48:30.081Z"
   },
   {
    "duration": 125,
    "start_time": "2023-06-30T17:48:30.140Z"
   },
   {
    "duration": 102,
    "start_time": "2023-06-30T17:48:30.267Z"
   },
   {
    "duration": 63,
    "start_time": "2023-06-30T17:48:30.371Z"
   },
   {
    "duration": 539,
    "start_time": "2023-06-30T17:48:30.436Z"
   },
   {
    "duration": 649,
    "start_time": "2023-06-30T17:48:30.977Z"
   },
   {
    "duration": 322,
    "start_time": "2023-06-30T17:48:31.629Z"
   },
   {
    "duration": 60,
    "start_time": "2023-06-30T17:48:31.954Z"
   },
   {
    "duration": 854,
    "start_time": "2023-06-30T17:48:32.018Z"
   },
   {
    "duration": 329,
    "start_time": "2023-06-30T17:48:32.874Z"
   },
   {
    "duration": 463,
    "start_time": "2023-06-30T17:48:33.204Z"
   },
   {
    "duration": 13,
    "start_time": "2023-06-30T17:48:33.669Z"
   },
   {
    "duration": 71,
    "start_time": "2023-06-30T17:48:33.683Z"
   },
   {
    "duration": 340,
    "start_time": "2023-06-30T17:48:33.756Z"
   },
   {
    "duration": 48,
    "start_time": "2023-06-30T17:48:34.098Z"
   },
   {
    "duration": 22,
    "start_time": "2023-06-30T17:48:34.148Z"
   },
   {
    "duration": 56,
    "start_time": "2023-06-30T17:48:34.172Z"
   },
   {
    "duration": 16,
    "start_time": "2023-06-30T17:48:34.230Z"
   },
   {
    "duration": 347,
    "start_time": "2023-06-30T17:48:34.248Z"
   },
   {
    "duration": 4,
    "start_time": "2023-06-30T17:48:34.597Z"
   },
   {
    "duration": 90,
    "start_time": "2023-06-30T17:48:34.614Z"
   },
   {
    "duration": 16,
    "start_time": "2023-06-30T17:48:34.706Z"
   },
   {
    "duration": 737,
    "start_time": "2023-06-30T17:48:34.724Z"
   },
   {
    "duration": 722,
    "start_time": "2023-06-30T17:48:35.463Z"
   },
   {
    "duration": 736,
    "start_time": "2023-06-30T17:48:36.187Z"
   },
   {
    "duration": 12,
    "start_time": "2023-06-30T17:48:36.925Z"
   },
   {
    "duration": 7,
    "start_time": "2023-06-30T17:48:36.939Z"
   },
   {
    "duration": 136,
    "start_time": "2023-06-30T17:48:36.948Z"
   },
   {
    "duration": 0,
    "start_time": "2023-06-30T17:48:37.086Z"
   },
   {
    "duration": 0,
    "start_time": "2023-06-30T17:48:37.088Z"
   },
   {
    "duration": 0,
    "start_time": "2023-06-30T17:48:37.089Z"
   },
   {
    "duration": 0,
    "start_time": "2023-06-30T17:48:37.090Z"
   },
   {
    "duration": 0,
    "start_time": "2023-06-30T17:48:37.091Z"
   },
   {
    "duration": 0,
    "start_time": "2023-06-30T17:48:37.092Z"
   },
   {
    "duration": 0,
    "start_time": "2023-06-30T17:48:37.093Z"
   },
   {
    "duration": 0,
    "start_time": "2023-06-30T17:48:37.094Z"
   },
   {
    "duration": 0,
    "start_time": "2023-06-30T17:48:37.095Z"
   },
   {
    "duration": 0,
    "start_time": "2023-06-30T17:48:37.096Z"
   },
   {
    "duration": 0,
    "start_time": "2023-06-30T17:48:37.097Z"
   },
   {
    "duration": 0,
    "start_time": "2023-06-30T17:48:37.114Z"
   },
   {
    "duration": 0,
    "start_time": "2023-06-30T17:48:37.115Z"
   },
   {
    "duration": 0,
    "start_time": "2023-06-30T17:48:37.117Z"
   },
   {
    "duration": 0,
    "start_time": "2023-06-30T17:48:37.118Z"
   },
   {
    "duration": 0,
    "start_time": "2023-06-30T17:48:37.119Z"
   },
   {
    "duration": 0,
    "start_time": "2023-06-30T17:48:37.120Z"
   },
   {
    "duration": 0,
    "start_time": "2023-06-30T17:48:37.121Z"
   },
   {
    "duration": 0,
    "start_time": "2023-06-30T17:48:37.123Z"
   },
   {
    "duration": 0,
    "start_time": "2023-06-30T17:48:37.124Z"
   },
   {
    "duration": 0,
    "start_time": "2023-06-30T17:48:37.125Z"
   },
   {
    "duration": 0,
    "start_time": "2023-06-30T17:48:37.126Z"
   },
   {
    "duration": 0,
    "start_time": "2023-06-30T17:48:37.128Z"
   },
   {
    "duration": 10,
    "start_time": "2023-06-30T17:49:08.789Z"
   },
   {
    "duration": 4,
    "start_time": "2023-06-30T17:49:24.759Z"
   },
   {
    "duration": 55,
    "start_time": "2023-06-30T17:49:44.526Z"
   },
   {
    "duration": 1642,
    "start_time": "2023-06-30T17:49:51.782Z"
   },
   {
    "duration": 2973,
    "start_time": "2023-06-30T17:49:53.427Z"
   },
   {
    "duration": 119,
    "start_time": "2023-06-30T17:49:56.401Z"
   },
   {
    "duration": 17,
    "start_time": "2023-06-30T17:49:56.522Z"
   },
   {
    "duration": 8,
    "start_time": "2023-06-30T17:49:56.541Z"
   },
   {
    "duration": 12,
    "start_time": "2023-06-30T17:49:56.551Z"
   },
   {
    "duration": 118,
    "start_time": "2023-06-30T17:49:56.565Z"
   },
   {
    "duration": 82,
    "start_time": "2023-06-30T17:49:56.684Z"
   },
   {
    "duration": 66,
    "start_time": "2023-06-30T17:49:56.767Z"
   },
   {
    "duration": 497,
    "start_time": "2023-06-30T17:49:56.835Z"
   },
   {
    "duration": 581,
    "start_time": "2023-06-30T17:49:57.333Z"
   },
   {
    "duration": 343,
    "start_time": "2023-06-30T17:49:57.916Z"
   },
   {
    "duration": 52,
    "start_time": "2023-06-30T17:49:58.261Z"
   },
   {
    "duration": 811,
    "start_time": "2023-06-30T17:49:58.317Z"
   },
   {
    "duration": 311,
    "start_time": "2023-06-30T17:49:59.130Z"
   },
   {
    "duration": 543,
    "start_time": "2023-06-30T17:49:59.443Z"
   },
   {
    "duration": 25,
    "start_time": "2023-06-30T17:49:59.988Z"
   },
   {
    "duration": 60,
    "start_time": "2023-06-30T17:50:00.015Z"
   },
   {
    "duration": 315,
    "start_time": "2023-06-30T17:50:00.077Z"
   },
   {
    "duration": 47,
    "start_time": "2023-06-30T17:50:00.395Z"
   },
   {
    "duration": 23,
    "start_time": "2023-06-30T17:50:00.444Z"
   },
   {
    "duration": 71,
    "start_time": "2023-06-30T17:50:00.469Z"
   },
   {
    "duration": 21,
    "start_time": "2023-06-30T17:50:00.543Z"
   },
   {
    "duration": 369,
    "start_time": "2023-06-30T17:50:00.566Z"
   },
   {
    "duration": 4,
    "start_time": "2023-06-30T17:50:00.938Z"
   },
   {
    "duration": 280,
    "start_time": "2023-06-30T17:50:00.944Z"
   },
   {
    "duration": 44,
    "start_time": "2023-06-30T17:50:01.226Z"
   },
   {
    "duration": 945,
    "start_time": "2023-06-30T17:50:01.272Z"
   },
   {
    "duration": 771,
    "start_time": "2023-06-30T17:50:02.219Z"
   },
   {
    "duration": 742,
    "start_time": "2023-06-30T17:50:02.992Z"
   },
   {
    "duration": 14,
    "start_time": "2023-06-30T17:50:03.736Z"
   },
   {
    "duration": 23,
    "start_time": "2023-06-30T17:50:03.752Z"
   },
   {
    "duration": 34,
    "start_time": "2023-06-30T17:50:03.777Z"
   },
   {
    "duration": 48,
    "start_time": "2023-06-30T17:52:56.030Z"
   },
   {
    "duration": 1594,
    "start_time": "2023-06-30T17:53:11.385Z"
   },
   {
    "duration": 2962,
    "start_time": "2023-06-30T17:53:12.981Z"
   },
   {
    "duration": 121,
    "start_time": "2023-06-30T17:53:15.945Z"
   },
   {
    "duration": 17,
    "start_time": "2023-06-30T17:53:16.067Z"
   },
   {
    "duration": 3,
    "start_time": "2023-06-30T17:53:16.086Z"
   },
   {
    "duration": 5,
    "start_time": "2023-06-30T17:53:16.091Z"
   },
   {
    "duration": 129,
    "start_time": "2023-06-30T17:53:16.098Z"
   },
   {
    "duration": 84,
    "start_time": "2023-06-30T17:53:16.229Z"
   },
   {
    "duration": 55,
    "start_time": "2023-06-30T17:53:16.315Z"
   },
   {
    "duration": 480,
    "start_time": "2023-06-30T17:53:16.371Z"
   },
   {
    "duration": 563,
    "start_time": "2023-06-30T17:53:16.853Z"
   },
   {
    "duration": 326,
    "start_time": "2023-06-30T17:53:17.418Z"
   },
   {
    "duration": 46,
    "start_time": "2023-06-30T17:53:17.746Z"
   },
   {
    "duration": 880,
    "start_time": "2023-06-30T17:53:17.795Z"
   },
   {
    "duration": 326,
    "start_time": "2023-06-30T17:53:18.677Z"
   },
   {
    "duration": 479,
    "start_time": "2023-06-30T17:53:19.005Z"
   },
   {
    "duration": 14,
    "start_time": "2023-06-30T17:53:19.486Z"
   },
   {
    "duration": 55,
    "start_time": "2023-06-30T17:53:19.514Z"
   },
   {
    "duration": 468,
    "start_time": "2023-06-30T17:53:19.571Z"
   },
   {
    "duration": 41,
    "start_time": "2023-06-30T17:53:20.042Z"
   },
   {
    "duration": 35,
    "start_time": "2023-06-30T17:53:20.085Z"
   },
   {
    "duration": 47,
    "start_time": "2023-06-30T17:53:20.121Z"
   },
   {
    "duration": 16,
    "start_time": "2023-06-30T17:53:20.170Z"
   },
   {
    "duration": 328,
    "start_time": "2023-06-30T17:53:20.187Z"
   },
   {
    "duration": 6,
    "start_time": "2023-06-30T17:53:20.517Z"
   },
   {
    "duration": 92,
    "start_time": "2023-06-30T17:53:20.524Z"
   },
   {
    "duration": 4,
    "start_time": "2023-06-30T17:53:20.618Z"
   },
   {
    "duration": 769,
    "start_time": "2023-06-30T17:53:20.624Z"
   },
   {
    "duration": 749,
    "start_time": "2023-06-30T17:53:21.396Z"
   },
   {
    "duration": 722,
    "start_time": "2023-06-30T17:53:22.147Z"
   },
   {
    "duration": 13,
    "start_time": "2023-06-30T17:53:22.871Z"
   },
   {
    "duration": 5,
    "start_time": "2023-06-30T17:53:22.885Z"
   },
   {
    "duration": 5,
    "start_time": "2023-06-30T17:53:22.891Z"
   },
   {
    "duration": 82,
    "start_time": "2023-06-30T17:53:22.914Z"
   },
   {
    "duration": 4,
    "start_time": "2023-06-30T17:53:22.998Z"
   },
   {
    "duration": 9,
    "start_time": "2023-06-30T17:53:23.004Z"
   },
   {
    "duration": 6,
    "start_time": "2023-06-30T17:53:23.015Z"
   },
   {
    "duration": 225,
    "start_time": "2023-06-30T17:53:23.022Z"
   },
   {
    "duration": 115,
    "start_time": "2023-06-30T17:53:23.248Z"
   },
   {
    "duration": 394,
    "start_time": "2023-06-30T17:53:23.365Z"
   },
   {
    "duration": 0,
    "start_time": "2023-06-30T17:53:23.761Z"
   },
   {
    "duration": 0,
    "start_time": "2023-06-30T17:53:23.762Z"
   },
   {
    "duration": 0,
    "start_time": "2023-06-30T17:53:23.763Z"
   },
   {
    "duration": 0,
    "start_time": "2023-06-30T17:53:23.764Z"
   },
   {
    "duration": 0,
    "start_time": "2023-06-30T17:53:23.765Z"
   },
   {
    "duration": 0,
    "start_time": "2023-06-30T17:53:23.766Z"
   },
   {
    "duration": 0,
    "start_time": "2023-06-30T17:53:23.767Z"
   },
   {
    "duration": 0,
    "start_time": "2023-06-30T17:53:23.768Z"
   },
   {
    "duration": 0,
    "start_time": "2023-06-30T17:53:23.769Z"
   },
   {
    "duration": 0,
    "start_time": "2023-06-30T17:53:23.771Z"
   },
   {
    "duration": 0,
    "start_time": "2023-06-30T17:53:23.772Z"
   },
   {
    "duration": 0,
    "start_time": "2023-06-30T17:53:23.773Z"
   },
   {
    "duration": 0,
    "start_time": "2023-06-30T17:53:23.775Z"
   },
   {
    "duration": 0,
    "start_time": "2023-06-30T17:53:23.776Z"
   },
   {
    "duration": 0,
    "start_time": "2023-06-30T17:53:23.778Z"
   },
   {
    "duration": 13,
    "start_time": "2023-06-30T17:53:58.076Z"
   },
   {
    "duration": 666,
    "start_time": "2023-06-30T17:59:29.520Z"
   },
   {
    "duration": 715,
    "start_time": "2023-06-30T17:59:45.600Z"
   },
   {
    "duration": 78,
    "start_time": "2023-06-30T17:59:52.188Z"
   },
   {
    "duration": 1647,
    "start_time": "2023-06-30T18:03:00.882Z"
   },
   {
    "duration": 939,
    "start_time": "2023-06-30T18:03:02.531Z"
   },
   {
    "duration": 141,
    "start_time": "2023-06-30T18:03:03.472Z"
   },
   {
    "duration": 20,
    "start_time": "2023-06-30T18:03:03.617Z"
   },
   {
    "duration": 59,
    "start_time": "2023-06-30T18:03:03.639Z"
   },
   {
    "duration": 12,
    "start_time": "2023-06-30T18:03:03.700Z"
   },
   {
    "duration": 319,
    "start_time": "2023-06-30T18:03:03.714Z"
   },
   {
    "duration": 95,
    "start_time": "2023-06-30T18:03:04.035Z"
   },
   {
    "duration": 64,
    "start_time": "2023-06-30T18:03:04.132Z"
   },
   {
    "duration": 738,
    "start_time": "2023-06-30T18:03:04.200Z"
   },
   {
    "duration": 700,
    "start_time": "2023-06-30T18:03:04.940Z"
   },
   {
    "duration": 313,
    "start_time": "2023-06-30T18:03:05.642Z"
   },
   {
    "duration": 39,
    "start_time": "2023-06-30T18:03:05.957Z"
   },
   {
    "duration": 907,
    "start_time": "2023-06-30T18:03:05.998Z"
   },
   {
    "duration": 335,
    "start_time": "2023-06-30T18:03:06.907Z"
   },
   {
    "duration": 465,
    "start_time": "2023-06-30T18:03:07.243Z"
   },
   {
    "duration": 13,
    "start_time": "2023-06-30T18:03:07.710Z"
   },
   {
    "duration": 52,
    "start_time": "2023-06-30T18:03:07.724Z"
   },
   {
    "duration": 359,
    "start_time": "2023-06-30T18:03:07.778Z"
   },
   {
    "duration": 43,
    "start_time": "2023-06-30T18:03:08.139Z"
   },
   {
    "duration": 48,
    "start_time": "2023-06-30T18:03:08.184Z"
   },
   {
    "duration": 42,
    "start_time": "2023-06-30T18:03:08.235Z"
   },
   {
    "duration": 17,
    "start_time": "2023-06-30T18:03:08.278Z"
   },
   {
    "duration": 376,
    "start_time": "2023-06-30T18:03:08.297Z"
   },
   {
    "duration": 4,
    "start_time": "2023-06-30T18:03:08.676Z"
   },
   {
    "duration": 124,
    "start_time": "2023-06-30T18:03:08.682Z"
   },
   {
    "duration": 7,
    "start_time": "2023-06-30T18:03:08.808Z"
   },
   {
    "duration": 834,
    "start_time": "2023-06-30T18:03:08.820Z"
   },
   {
    "duration": 822,
    "start_time": "2023-06-30T18:03:09.657Z"
   },
   {
    "duration": 791,
    "start_time": "2023-06-30T18:03:10.481Z"
   },
   {
    "duration": 14,
    "start_time": "2023-06-30T18:03:11.274Z"
   },
   {
    "duration": 84,
    "start_time": "2023-06-30T18:03:11.290Z"
   },
   {
    "duration": 11,
    "start_time": "2023-06-30T18:03:11.376Z"
   },
   {
    "duration": 747,
    "start_time": "2023-06-30T18:03:11.389Z"
   },
   {
    "duration": 364,
    "start_time": "2023-06-30T18:03:12.138Z"
   },
   {
    "duration": 12,
    "start_time": "2023-06-30T18:03:12.504Z"
   },
   {
    "duration": 6,
    "start_time": "2023-06-30T18:03:12.518Z"
   },
   {
    "duration": 23490,
    "start_time": "2023-06-30T18:03:12.526Z"
   },
   {
    "duration": 311,
    "start_time": "2023-06-30T18:03:36.018Z"
   },
   {
    "duration": 162,
    "start_time": "2023-06-30T18:03:36.412Z"
   },
   {
    "duration": 498,
    "start_time": "2023-06-30T18:03:36.576Z"
   },
   {
    "duration": 0,
    "start_time": "2023-06-30T18:03:37.076Z"
   },
   {
    "duration": 0,
    "start_time": "2023-06-30T18:03:37.078Z"
   },
   {
    "duration": 0,
    "start_time": "2023-06-30T18:03:37.079Z"
   },
   {
    "duration": 0,
    "start_time": "2023-06-30T18:03:37.081Z"
   },
   {
    "duration": 0,
    "start_time": "2023-06-30T18:03:37.082Z"
   },
   {
    "duration": 0,
    "start_time": "2023-06-30T18:03:37.084Z"
   },
   {
    "duration": 0,
    "start_time": "2023-06-30T18:03:37.085Z"
   },
   {
    "duration": 0,
    "start_time": "2023-06-30T18:03:37.086Z"
   },
   {
    "duration": 0,
    "start_time": "2023-06-30T18:03:37.113Z"
   },
   {
    "duration": 0,
    "start_time": "2023-06-30T18:03:37.114Z"
   },
   {
    "duration": 0,
    "start_time": "2023-06-30T18:03:37.116Z"
   },
   {
    "duration": 0,
    "start_time": "2023-06-30T18:03:37.117Z"
   },
   {
    "duration": 0,
    "start_time": "2023-06-30T18:03:37.118Z"
   },
   {
    "duration": 0,
    "start_time": "2023-06-30T18:03:37.120Z"
   },
   {
    "duration": 0,
    "start_time": "2023-06-30T18:03:37.121Z"
   },
   {
    "duration": 1487,
    "start_time": "2023-06-30T18:28:56.917Z"
   },
   {
    "duration": 790,
    "start_time": "2023-06-30T18:28:58.406Z"
   },
   {
    "duration": 122,
    "start_time": "2023-06-30T18:28:59.198Z"
   },
   {
    "duration": 16,
    "start_time": "2023-06-30T18:28:59.323Z"
   },
   {
    "duration": 10,
    "start_time": "2023-06-30T18:28:59.341Z"
   },
   {
    "duration": 132,
    "start_time": "2023-06-30T18:28:59.353Z"
   },
   {
    "duration": 129,
    "start_time": "2023-06-30T18:28:59.487Z"
   },
   {
    "duration": 103,
    "start_time": "2023-06-30T18:28:59.618Z"
   },
   {
    "duration": 61,
    "start_time": "2023-06-30T18:28:59.724Z"
   },
   {
    "duration": 506,
    "start_time": "2023-06-30T18:28:59.788Z"
   },
   {
    "duration": 595,
    "start_time": "2023-06-30T18:29:00.296Z"
   },
   {
    "duration": 316,
    "start_time": "2023-06-30T18:29:00.892Z"
   },
   {
    "duration": 39,
    "start_time": "2023-06-30T18:29:01.214Z"
   },
   {
    "duration": 824,
    "start_time": "2023-06-30T18:29:01.255Z"
   },
   {
    "duration": 323,
    "start_time": "2023-06-30T18:29:02.081Z"
   },
   {
    "duration": 437,
    "start_time": "2023-06-30T18:29:02.406Z"
   },
   {
    "duration": 14,
    "start_time": "2023-06-30T18:29:02.844Z"
   },
   {
    "duration": 67,
    "start_time": "2023-06-30T18:29:02.859Z"
   },
   {
    "duration": 320,
    "start_time": "2023-06-30T18:29:02.928Z"
   },
   {
    "duration": 43,
    "start_time": "2023-06-30T18:29:03.249Z"
   },
   {
    "duration": 33,
    "start_time": "2023-06-30T18:29:03.295Z"
   },
   {
    "duration": 53,
    "start_time": "2023-06-30T18:29:03.331Z"
   },
   {
    "duration": 17,
    "start_time": "2023-06-30T18:29:03.386Z"
   },
   {
    "duration": 399,
    "start_time": "2023-06-30T18:29:03.415Z"
   },
   {
    "duration": 4,
    "start_time": "2023-06-30T18:29:03.816Z"
   },
   {
    "duration": 112,
    "start_time": "2023-06-30T18:29:03.822Z"
   },
   {
    "duration": 7,
    "start_time": "2023-06-30T18:29:03.937Z"
   },
   {
    "duration": 925,
    "start_time": "2023-06-30T18:29:03.949Z"
   },
   {
    "duration": 716,
    "start_time": "2023-06-30T18:29:04.876Z"
   },
   {
    "duration": 730,
    "start_time": "2023-06-30T18:29:05.595Z"
   },
   {
    "duration": 15,
    "start_time": "2023-06-30T18:29:06.326Z"
   },
   {
    "duration": 8,
    "start_time": "2023-06-30T18:29:06.342Z"
   },
   {
    "duration": 5,
    "start_time": "2023-06-30T18:29:06.352Z"
   },
   {
    "duration": 671,
    "start_time": "2023-06-30T18:29:06.358Z"
   },
   {
    "duration": 340,
    "start_time": "2023-06-30T18:29:07.031Z"
   },
   {
    "duration": 4,
    "start_time": "2023-06-30T18:29:07.372Z"
   },
   {
    "duration": 39,
    "start_time": "2023-06-30T18:29:07.377Z"
   },
   {
    "duration": 1212,
    "start_time": "2023-06-30T18:29:28.883Z"
   },
   {
    "duration": 1615,
    "start_time": "2023-06-30T18:29:30.097Z"
   },
   {
    "duration": 823,
    "start_time": "2023-06-30T18:29:31.713Z"
   },
   {
    "duration": 137,
    "start_time": "2023-06-30T18:29:32.539Z"
   },
   {
    "duration": 17,
    "start_time": "2023-06-30T18:29:32.678Z"
   },
   {
    "duration": 20,
    "start_time": "2023-06-30T18:29:32.697Z"
   },
   {
    "duration": 18,
    "start_time": "2023-06-30T18:29:32.719Z"
   },
   {
    "duration": 124,
    "start_time": "2023-06-30T18:29:32.738Z"
   },
   {
    "duration": 88,
    "start_time": "2023-06-30T18:29:32.864Z"
   },
   {
    "duration": 62,
    "start_time": "2023-06-30T18:29:32.955Z"
   },
   {
    "duration": 497,
    "start_time": "2023-06-30T18:29:33.019Z"
   },
   {
    "duration": 598,
    "start_time": "2023-06-30T18:29:33.518Z"
   },
   {
    "duration": 330,
    "start_time": "2023-06-30T18:29:34.118Z"
   },
   {
    "duration": 43,
    "start_time": "2023-06-30T18:29:34.450Z"
   },
   {
    "duration": 811,
    "start_time": "2023-06-30T18:29:34.494Z"
   },
   {
    "duration": 314,
    "start_time": "2023-06-30T18:29:35.307Z"
   },
   {
    "duration": 439,
    "start_time": "2023-06-30T18:29:35.622Z"
   },
   {
    "duration": 13,
    "start_time": "2023-06-30T18:29:36.062Z"
   },
   {
    "duration": 70,
    "start_time": "2023-06-30T18:29:36.076Z"
   },
   {
    "duration": 339,
    "start_time": "2023-06-30T18:29:36.147Z"
   },
   {
    "duration": 53,
    "start_time": "2023-06-30T18:29:36.488Z"
   },
   {
    "duration": 22,
    "start_time": "2023-06-30T18:29:36.543Z"
   },
   {
    "duration": 58,
    "start_time": "2023-06-30T18:29:36.567Z"
   },
   {
    "duration": 18,
    "start_time": "2023-06-30T18:29:36.627Z"
   },
   {
    "duration": 335,
    "start_time": "2023-06-30T18:29:36.648Z"
   },
   {
    "duration": 5,
    "start_time": "2023-06-30T18:29:36.985Z"
   },
   {
    "duration": 96,
    "start_time": "2023-06-30T18:29:36.992Z"
   },
   {
    "duration": 3,
    "start_time": "2023-06-30T18:29:37.093Z"
   },
   {
    "duration": 741,
    "start_time": "2023-06-30T18:29:37.098Z"
   },
   {
    "duration": 741,
    "start_time": "2023-06-30T18:29:37.841Z"
   },
   {
    "duration": 748,
    "start_time": "2023-06-30T18:29:38.584Z"
   },
   {
    "duration": 13,
    "start_time": "2023-06-30T18:29:39.334Z"
   },
   {
    "duration": 4,
    "start_time": "2023-06-30T18:29:39.349Z"
   },
   {
    "duration": 6,
    "start_time": "2023-06-30T18:29:39.355Z"
   },
   {
    "duration": 743,
    "start_time": "2023-06-30T18:29:39.363Z"
   },
   {
    "duration": 343,
    "start_time": "2023-06-30T18:29:40.108Z"
   },
   {
    "duration": 3,
    "start_time": "2023-06-30T18:29:40.453Z"
   },
   {
    "duration": 6,
    "start_time": "2023-06-30T18:29:40.458Z"
   },
   {
    "duration": 24049,
    "start_time": "2023-06-30T18:29:40.465Z"
   },
   {
    "duration": 305,
    "start_time": "2023-06-30T18:30:04.516Z"
   },
   {
    "duration": 245,
    "start_time": "2023-06-30T18:30:04.824Z"
   },
   {
    "duration": 482,
    "start_time": "2023-06-30T18:30:05.071Z"
   },
   {
    "duration": 0,
    "start_time": "2023-06-30T18:30:05.555Z"
   },
   {
    "duration": 0,
    "start_time": "2023-06-30T18:30:05.557Z"
   },
   {
    "duration": 1,
    "start_time": "2023-06-30T18:30:05.558Z"
   },
   {
    "duration": 0,
    "start_time": "2023-06-30T18:30:05.560Z"
   },
   {
    "duration": 0,
    "start_time": "2023-06-30T18:30:05.562Z"
   },
   {
    "duration": 0,
    "start_time": "2023-06-30T18:30:05.563Z"
   },
   {
    "duration": 0,
    "start_time": "2023-06-30T18:30:05.564Z"
   },
   {
    "duration": 0,
    "start_time": "2023-06-30T18:30:05.565Z"
   },
   {
    "duration": 0,
    "start_time": "2023-06-30T18:30:05.566Z"
   },
   {
    "duration": 0,
    "start_time": "2023-06-30T18:30:05.567Z"
   },
   {
    "duration": 0,
    "start_time": "2023-06-30T18:30:05.568Z"
   },
   {
    "duration": 0,
    "start_time": "2023-06-30T18:30:05.569Z"
   },
   {
    "duration": 0,
    "start_time": "2023-06-30T18:30:05.570Z"
   },
   {
    "duration": 0,
    "start_time": "2023-06-30T18:30:05.571Z"
   },
   {
    "duration": 0,
    "start_time": "2023-06-30T18:30:05.573Z"
   },
   {
    "duration": 2,
    "start_time": "2023-06-30T18:31:02.044Z"
   },
   {
    "duration": 28401,
    "start_time": "2023-06-30T18:40:26.002Z"
   },
   {
    "duration": 6,
    "start_time": "2023-06-30T18:54:45.607Z"
   },
   {
    "duration": 72,
    "start_time": "2023-06-30T18:54:55.680Z"
   },
   {
    "duration": 14980,
    "start_time": "2023-06-30T18:55:03.574Z"
   },
   {
    "duration": 1425,
    "start_time": "2023-06-30T18:55:18.557Z"
   },
   {
    "duration": 835,
    "start_time": "2023-06-30T18:55:19.985Z"
   },
   {
    "duration": 116,
    "start_time": "2023-06-30T18:55:20.822Z"
   },
   {
    "duration": 18,
    "start_time": "2023-06-30T18:55:20.940Z"
   },
   {
    "duration": 6,
    "start_time": "2023-06-30T18:55:20.959Z"
   },
   {
    "duration": 16,
    "start_time": "2023-06-30T18:55:20.966Z"
   },
   {
    "duration": 111,
    "start_time": "2023-06-30T18:55:20.984Z"
   },
   {
    "duration": 88,
    "start_time": "2023-06-30T18:55:21.097Z"
   },
   {
    "duration": 55,
    "start_time": "2023-06-30T18:55:21.187Z"
   },
   {
    "duration": 496,
    "start_time": "2023-06-30T18:55:21.244Z"
   },
   {
    "duration": 560,
    "start_time": "2023-06-30T18:55:21.742Z"
   },
   {
    "duration": 303,
    "start_time": "2023-06-30T18:55:22.304Z"
   },
   {
    "duration": 40,
    "start_time": "2023-06-30T18:55:22.612Z"
   },
   {
    "duration": 842,
    "start_time": "2023-06-30T18:55:22.653Z"
   },
   {
    "duration": 245,
    "start_time": "2023-06-30T18:55:23.496Z"
   },
   {
    "duration": 525,
    "start_time": "2023-06-30T18:55:23.743Z"
   },
   {
    "duration": 13,
    "start_time": "2023-06-30T18:55:24.270Z"
   },
   {
    "duration": 69,
    "start_time": "2023-06-30T18:55:24.285Z"
   },
   {
    "duration": 317,
    "start_time": "2023-06-30T18:55:24.356Z"
   },
   {
    "duration": 53,
    "start_time": "2023-06-30T18:55:24.675Z"
   },
   {
    "duration": 20,
    "start_time": "2023-06-30T18:55:24.730Z"
   },
   {
    "duration": 41,
    "start_time": "2023-06-30T18:55:24.752Z"
   },
   {
    "duration": 26,
    "start_time": "2023-06-30T18:55:24.795Z"
   },
   {
    "duration": 313,
    "start_time": "2023-06-30T18:55:24.823Z"
   },
   {
    "duration": 5,
    "start_time": "2023-06-30T18:55:25.138Z"
   },
   {
    "duration": 87,
    "start_time": "2023-06-30T18:55:25.144Z"
   },
   {
    "duration": 8,
    "start_time": "2023-06-30T18:55:25.235Z"
   },
   {
    "duration": 727,
    "start_time": "2023-06-30T18:55:25.245Z"
   },
   {
    "duration": 727,
    "start_time": "2023-06-30T18:55:25.974Z"
   },
   {
    "duration": 733,
    "start_time": "2023-06-30T18:55:26.703Z"
   },
   {
    "duration": 15,
    "start_time": "2023-06-30T18:55:27.437Z"
   },
   {
    "duration": 5,
    "start_time": "2023-06-30T18:55:27.453Z"
   },
   {
    "duration": 11,
    "start_time": "2023-06-30T18:55:27.460Z"
   },
   {
    "duration": 820,
    "start_time": "2023-06-30T18:55:27.472Z"
   },
   {
    "duration": 526,
    "start_time": "2023-06-30T18:55:28.294Z"
   },
   {
    "duration": 4,
    "start_time": "2023-06-30T18:55:28.822Z"
   },
   {
    "duration": 5,
    "start_time": "2023-06-30T18:55:28.828Z"
   },
   {
    "duration": 27309,
    "start_time": "2023-06-30T18:55:28.835Z"
   },
   {
    "duration": 169,
    "start_time": "2023-06-30T18:55:56.146Z"
   },
   {
    "duration": 0,
    "start_time": "2023-06-30T18:55:56.316Z"
   },
   {
    "duration": 0,
    "start_time": "2023-06-30T18:55:56.318Z"
   },
   {
    "duration": 0,
    "start_time": "2023-06-30T18:55:56.320Z"
   },
   {
    "duration": 0,
    "start_time": "2023-06-30T18:55:56.321Z"
   },
   {
    "duration": 0,
    "start_time": "2023-06-30T18:55:56.322Z"
   },
   {
    "duration": 0,
    "start_time": "2023-06-30T18:55:56.323Z"
   },
   {
    "duration": 0,
    "start_time": "2023-06-30T18:55:56.324Z"
   },
   {
    "duration": 0,
    "start_time": "2023-06-30T18:55:56.325Z"
   },
   {
    "duration": 0,
    "start_time": "2023-06-30T18:55:56.326Z"
   },
   {
    "duration": 0,
    "start_time": "2023-06-30T18:55:56.327Z"
   },
   {
    "duration": 0,
    "start_time": "2023-06-30T18:55:56.328Z"
   },
   {
    "duration": 0,
    "start_time": "2023-06-30T18:55:56.330Z"
   },
   {
    "duration": 0,
    "start_time": "2023-06-30T18:55:56.331Z"
   },
   {
    "duration": 0,
    "start_time": "2023-06-30T18:55:56.332Z"
   },
   {
    "duration": 0,
    "start_time": "2023-06-30T18:55:56.333Z"
   },
   {
    "duration": 0,
    "start_time": "2023-06-30T18:55:56.334Z"
   },
   {
    "duration": 0,
    "start_time": "2023-06-30T18:55:56.336Z"
   },
   {
    "duration": 103693,
    "start_time": "2023-06-30T18:57:09.732Z"
   },
   {
    "duration": 92186,
    "start_time": "2023-06-30T19:00:15.934Z"
   },
   {
    "duration": 15,
    "start_time": "2023-06-30T19:08:25.225Z"
   },
   {
    "duration": 382,
    "start_time": "2023-06-30T19:27:06.830Z"
   },
   {
    "duration": 296,
    "start_time": "2023-06-30T19:27:18.723Z"
   },
   {
    "duration": 10,
    "start_time": "2023-06-30T19:31:27.725Z"
   },
   {
    "duration": 181,
    "start_time": "2023-06-30T19:35:16.310Z"
   },
   {
    "duration": 104597,
    "start_time": "2023-06-30T19:37:15.739Z"
   },
   {
    "duration": 1427,
    "start_time": "2023-07-01T12:41:08.872Z"
   },
   {
    "duration": 809,
    "start_time": "2023-07-01T12:41:10.937Z"
   },
   {
    "duration": 107,
    "start_time": "2023-07-01T12:41:11.748Z"
   },
   {
    "duration": 19,
    "start_time": "2023-07-01T12:41:12.253Z"
   },
   {
    "duration": 4,
    "start_time": "2023-07-01T12:41:13.345Z"
   },
   {
    "duration": 5,
    "start_time": "2023-07-01T12:41:14.390Z"
   },
   {
    "duration": 104,
    "start_time": "2023-07-01T12:41:15.586Z"
   },
   {
    "duration": 76,
    "start_time": "2023-07-01T12:41:16.155Z"
   },
   {
    "duration": 40,
    "start_time": "2023-07-01T12:41:16.770Z"
   },
   {
    "duration": 462,
    "start_time": "2023-07-01T12:41:18.603Z"
   },
   {
    "duration": 580,
    "start_time": "2023-07-01T12:41:19.774Z"
   },
   {
    "duration": 289,
    "start_time": "2023-07-01T12:41:21.505Z"
   },
   {
    "duration": 43,
    "start_time": "2023-07-01T12:41:21.917Z"
   },
   {
    "duration": 837,
    "start_time": "2023-07-01T12:41:22.405Z"
   },
   {
    "duration": 217,
    "start_time": "2023-07-01T12:41:24.092Z"
   },
   {
    "duration": 505,
    "start_time": "2023-07-01T12:41:24.745Z"
   },
   {
    "duration": 13,
    "start_time": "2023-07-01T12:41:25.256Z"
   },
   {
    "duration": 54,
    "start_time": "2023-07-01T12:41:26.896Z"
   },
   {
    "duration": 293,
    "start_time": "2023-07-01T12:41:30.222Z"
   },
   {
    "duration": 41,
    "start_time": "2023-07-01T12:41:30.640Z"
   },
   {
    "duration": 22,
    "start_time": "2023-07-01T12:41:33.023Z"
   },
   {
    "duration": 39,
    "start_time": "2023-07-01T12:41:33.494Z"
   },
   {
    "duration": 16,
    "start_time": "2023-07-01T12:41:35.919Z"
   },
   {
    "duration": 294,
    "start_time": "2023-07-01T12:41:37.450Z"
   },
   {
    "duration": 4,
    "start_time": "2023-07-01T12:41:39.320Z"
   },
   {
    "duration": 77,
    "start_time": "2023-07-01T12:41:39.888Z"
   },
   {
    "duration": 3,
    "start_time": "2023-07-01T12:41:54.170Z"
   },
   {
    "duration": 710,
    "start_time": "2023-07-01T12:41:57.589Z"
   },
   {
    "duration": 738,
    "start_time": "2023-07-01T12:41:58.998Z"
   },
   {
    "duration": 720,
    "start_time": "2023-07-01T12:42:00.411Z"
   },
   {
    "duration": 14,
    "start_time": "2023-07-01T12:42:01.824Z"
   },
   {
    "duration": 4,
    "start_time": "2023-07-01T12:43:57.688Z"
   },
   {
    "duration": 4,
    "start_time": "2023-07-01T12:44:00.526Z"
   },
   {
    "duration": 731,
    "start_time": "2023-07-01T12:44:01.086Z"
   },
   {
    "duration": 538,
    "start_time": "2023-07-01T12:44:01.819Z"
   },
   {
    "duration": 4,
    "start_time": "2023-07-01T12:44:02.359Z"
   },
   {
    "duration": 2,
    "start_time": "2023-07-01T12:44:04.550Z"
   },
   {
    "duration": 3,
    "start_time": "2023-07-01T12:44:07.127Z"
   },
   {
    "duration": 88315,
    "start_time": "2023-07-01T12:44:09.103Z"
   },
   {
    "duration": 3,
    "start_time": "2023-07-01T12:48:23.273Z"
   },
   {
    "duration": 777,
    "start_time": "2023-07-01T12:48:23.495Z"
   },
   {
    "duration": 69,
    "start_time": "2023-07-01T12:53:19.054Z"
   },
   {
    "duration": 402,
    "start_time": "2023-07-01T12:53:22.546Z"
   },
   {
    "duration": 301,
    "start_time": "2023-07-01T12:54:04.197Z"
   },
   {
    "duration": 4732,
    "start_time": "2023-07-01T12:54:21.423Z"
   },
   {
    "duration": 13839,
    "start_time": "2023-07-01T13:17:35.506Z"
   },
   {
    "duration": 4624,
    "start_time": "2023-07-01T13:18:00.144Z"
   },
   {
    "duration": 13885,
    "start_time": "2023-07-01T13:18:26.334Z"
   },
   {
    "duration": 1424,
    "start_time": "2023-07-01T13:18:40.221Z"
   },
   {
    "duration": 827,
    "start_time": "2023-07-01T13:18:41.647Z"
   },
   {
    "duration": 112,
    "start_time": "2023-07-01T13:18:42.475Z"
   },
   {
    "duration": 29,
    "start_time": "2023-07-01T13:18:42.590Z"
   },
   {
    "duration": 4,
    "start_time": "2023-07-01T13:18:42.621Z"
   },
   {
    "duration": 6,
    "start_time": "2023-07-01T13:18:42.626Z"
   },
   {
    "duration": 118,
    "start_time": "2023-07-01T13:18:42.633Z"
   },
   {
    "duration": 84,
    "start_time": "2023-07-01T13:18:42.752Z"
   },
   {
    "duration": 39,
    "start_time": "2023-07-01T13:18:42.838Z"
   },
   {
    "duration": 476,
    "start_time": "2023-07-01T13:18:42.878Z"
   },
   {
    "duration": 559,
    "start_time": "2023-07-01T13:18:43.356Z"
   },
   {
    "duration": 291,
    "start_time": "2023-07-01T13:18:43.917Z"
   },
   {
    "duration": 37,
    "start_time": "2023-07-01T13:18:44.214Z"
   },
   {
    "duration": 785,
    "start_time": "2023-07-01T13:18:44.253Z"
   },
   {
    "duration": 226,
    "start_time": "2023-07-01T13:18:45.040Z"
   },
   {
    "duration": 490,
    "start_time": "2023-07-01T13:18:45.268Z"
   },
   {
    "duration": 14,
    "start_time": "2023-07-01T13:18:45.760Z"
   },
   {
    "duration": 69,
    "start_time": "2023-07-01T13:18:45.775Z"
   },
   {
    "duration": 308,
    "start_time": "2023-07-01T13:18:45.846Z"
   },
   {
    "duration": 42,
    "start_time": "2023-07-01T13:18:46.156Z"
   },
   {
    "duration": 32,
    "start_time": "2023-07-01T13:18:46.200Z"
   },
   {
    "duration": 42,
    "start_time": "2023-07-01T13:18:46.234Z"
   },
   {
    "duration": 40,
    "start_time": "2023-07-01T13:18:46.278Z"
   },
   {
    "duration": 322,
    "start_time": "2023-07-01T13:18:46.320Z"
   },
   {
    "duration": 3,
    "start_time": "2023-07-01T13:18:46.644Z"
   },
   {
    "duration": 88,
    "start_time": "2023-07-01T13:18:46.649Z"
   },
   {
    "duration": 3,
    "start_time": "2023-07-01T13:18:46.739Z"
   },
   {
    "duration": 710,
    "start_time": "2023-07-01T13:18:46.744Z"
   },
   {
    "duration": 714,
    "start_time": "2023-07-01T13:18:47.455Z"
   },
   {
    "duration": 701,
    "start_time": "2023-07-01T13:18:48.171Z"
   },
   {
    "duration": 14,
    "start_time": "2023-07-01T13:18:48.873Z"
   },
   {
    "duration": 4,
    "start_time": "2023-07-01T13:18:48.888Z"
   },
   {
    "duration": 21,
    "start_time": "2023-07-01T13:18:48.894Z"
   },
   {
    "duration": 752,
    "start_time": "2023-07-01T13:18:48.917Z"
   },
   {
    "duration": 517,
    "start_time": "2023-07-01T13:18:49.671Z"
   },
   {
    "duration": 5,
    "start_time": "2023-07-01T13:18:50.190Z"
   },
   {
    "duration": 24,
    "start_time": "2023-07-01T13:18:50.197Z"
   },
   {
    "duration": 25,
    "start_time": "2023-07-01T13:18:50.223Z"
   },
   {
    "duration": 89071,
    "start_time": "2023-07-01T13:18:50.249Z"
   },
   {
    "duration": 173,
    "start_time": "2023-07-01T13:20:19.413Z"
   },
   {
    "duration": 321,
    "start_time": "2023-07-01T13:20:19.589Z"
   },
   {
    "duration": 4687,
    "start_time": "2023-07-01T13:20:19.911Z"
   },
   {
    "duration": 126,
    "start_time": "2023-07-01T13:20:24.600Z"
   },
   {
    "duration": 0,
    "start_time": "2023-07-01T13:20:24.728Z"
   },
   {
    "duration": 0,
    "start_time": "2023-07-01T13:20:24.729Z"
   },
   {
    "duration": 0,
    "start_time": "2023-07-01T13:20:24.730Z"
   },
   {
    "duration": 0,
    "start_time": "2023-07-01T13:20:24.731Z"
   },
   {
    "duration": 0,
    "start_time": "2023-07-01T13:20:24.732Z"
   },
   {
    "duration": 0,
    "start_time": "2023-07-01T13:20:24.733Z"
   },
   {
    "duration": 0,
    "start_time": "2023-07-01T13:20:24.734Z"
   },
   {
    "duration": 0,
    "start_time": "2023-07-01T13:20:24.736Z"
   },
   {
    "duration": 0,
    "start_time": "2023-07-01T13:20:24.737Z"
   },
   {
    "duration": 0,
    "start_time": "2023-07-01T13:20:24.738Z"
   },
   {
    "duration": 0,
    "start_time": "2023-07-01T13:20:24.739Z"
   },
   {
    "duration": 0,
    "start_time": "2023-07-01T13:20:24.740Z"
   },
   {
    "duration": 0,
    "start_time": "2023-07-01T13:20:24.741Z"
   },
   {
    "duration": 4,
    "start_time": "2023-07-01T13:21:25.988Z"
   },
   {
    "duration": 7542,
    "start_time": "2023-07-01T13:21:52.496Z"
   },
   {
    "duration": 3,
    "start_time": "2023-07-01T13:22:00.440Z"
   },
   {
    "duration": 7617,
    "start_time": "2023-07-01T13:22:35.772Z"
   },
   {
    "duration": 4,
    "start_time": "2023-07-01T13:22:43.391Z"
   },
   {
    "duration": 9096,
    "start_time": "2023-07-01T13:23:01.157Z"
   },
   {
    "duration": 4,
    "start_time": "2023-07-01T13:23:10.255Z"
   },
   {
    "duration": 13015,
    "start_time": "2023-07-01T13:23:29.706Z"
   },
   {
    "duration": 3,
    "start_time": "2023-07-01T13:23:42.723Z"
   },
   {
    "duration": 16356,
    "start_time": "2023-07-01T13:24:09.017Z"
   },
   {
    "duration": 3,
    "start_time": "2023-07-01T13:24:25.376Z"
   },
   {
    "duration": 21450,
    "start_time": "2023-07-01T13:24:44.246Z"
   },
   {
    "duration": 4,
    "start_time": "2023-07-01T13:25:05.698Z"
   },
   {
    "duration": 21401,
    "start_time": "2023-07-01T13:25:24.960Z"
   },
   {
    "duration": 4,
    "start_time": "2023-07-01T13:25:46.364Z"
   },
   {
    "duration": 21120,
    "start_time": "2023-07-01T13:26:21.544Z"
   },
   {
    "duration": 3,
    "start_time": "2023-07-01T13:26:42.666Z"
   },
   {
    "duration": 21522,
    "start_time": "2023-07-01T13:27:05.516Z"
   },
   {
    "duration": 4,
    "start_time": "2023-07-01T13:31:44.051Z"
   },
   {
    "duration": 12,
    "start_time": "2023-07-01T13:31:57.010Z"
   },
   {
    "duration": 535,
    "start_time": "2023-07-01T14:13:48.241Z"
   },
   {
    "duration": 135,
    "start_time": "2023-07-01T14:44:42.074Z"
   },
   {
    "duration": 237,
    "start_time": "2023-07-01T14:45:48.421Z"
   },
   {
    "duration": 3,
    "start_time": "2023-07-01T14:45:59.087Z"
   },
   {
    "duration": 167,
    "start_time": "2023-07-01T14:56:30.201Z"
   },
   {
    "duration": 3,
    "start_time": "2023-07-01T14:56:57.226Z"
   },
   {
    "duration": 115,
    "start_time": "2023-07-01T14:57:02.533Z"
   },
   {
    "duration": 112,
    "start_time": "2023-07-01T14:58:13.810Z"
   },
   {
    "duration": 14248,
    "start_time": "2023-07-01T14:59:10.173Z"
   },
   {
    "duration": 1409,
    "start_time": "2023-07-01T14:59:24.423Z"
   },
   {
    "duration": 825,
    "start_time": "2023-07-01T14:59:25.834Z"
   },
   {
    "duration": 117,
    "start_time": "2023-07-01T14:59:26.661Z"
   },
   {
    "duration": 734,
    "start_time": "2023-07-01T14:59:26.780Z"
   },
   {
    "duration": 457,
    "start_time": "2023-07-01T14:59:27.515Z"
   },
   {
    "duration": 302,
    "start_time": "2023-07-01T14:59:27.974Z"
   },
   {
    "duration": 98,
    "start_time": "2023-07-01T14:59:28.278Z"
   },
   {
    "duration": 81,
    "start_time": "2023-07-01T14:59:28.377Z"
   },
   {
    "duration": 35,
    "start_time": "2023-07-01T14:59:28.460Z"
   },
   {
    "duration": 490,
    "start_time": "2023-07-01T14:59:28.497Z"
   },
   {
    "duration": 568,
    "start_time": "2023-07-01T14:59:28.989Z"
   },
   {
    "duration": 317,
    "start_time": "2023-07-01T14:59:29.559Z"
   },
   {
    "duration": 42,
    "start_time": "2023-07-01T14:59:29.878Z"
   },
   {
    "duration": 813,
    "start_time": "2023-07-01T14:59:29.922Z"
   },
   {
    "duration": 218,
    "start_time": "2023-07-01T14:59:30.737Z"
   },
   {
    "duration": 510,
    "start_time": "2023-07-01T14:59:30.956Z"
   },
   {
    "duration": 15,
    "start_time": "2023-07-01T14:59:31.471Z"
   },
   {
    "duration": 61,
    "start_time": "2023-07-01T14:59:31.487Z"
   },
   {
    "duration": 305,
    "start_time": "2023-07-01T14:59:31.550Z"
   },
   {
    "duration": 42,
    "start_time": "2023-07-01T14:59:31.856Z"
   },
   {
    "duration": 33,
    "start_time": "2023-07-01T14:59:31.900Z"
   },
   {
    "duration": 49,
    "start_time": "2023-07-01T14:59:31.934Z"
   },
   {
    "duration": 31,
    "start_time": "2023-07-01T14:59:31.985Z"
   },
   {
    "duration": 327,
    "start_time": "2023-07-01T14:59:32.018Z"
   },
   {
    "duration": 4,
    "start_time": "2023-07-01T14:59:32.347Z"
   },
   {
    "duration": 98,
    "start_time": "2023-07-01T14:59:32.353Z"
   },
   {
    "duration": 4,
    "start_time": "2023-07-01T14:59:32.454Z"
   },
   {
    "duration": 724,
    "start_time": "2023-07-01T14:59:32.459Z"
   },
   {
    "duration": 730,
    "start_time": "2023-07-01T14:59:33.185Z"
   },
   {
    "duration": 728,
    "start_time": "2023-07-01T14:59:33.917Z"
   },
   {
    "duration": 16,
    "start_time": "2023-07-01T14:59:34.647Z"
   },
   {
    "duration": 17,
    "start_time": "2023-07-01T14:59:34.665Z"
   },
   {
    "duration": 31,
    "start_time": "2023-07-01T14:59:34.684Z"
   },
   {
    "duration": 118,
    "start_time": "2023-07-01T14:59:34.717Z"
   },
   {
    "duration": 0,
    "start_time": "2023-07-01T14:59:34.836Z"
   },
   {
    "duration": 0,
    "start_time": "2023-07-01T14:59:34.838Z"
   },
   {
    "duration": 0,
    "start_time": "2023-07-01T14:59:34.839Z"
   },
   {
    "duration": 0,
    "start_time": "2023-07-01T14:59:34.840Z"
   },
   {
    "duration": 0,
    "start_time": "2023-07-01T14:59:34.841Z"
   },
   {
    "duration": 0,
    "start_time": "2023-07-01T14:59:34.842Z"
   },
   {
    "duration": 0,
    "start_time": "2023-07-01T14:59:34.843Z"
   },
   {
    "duration": 0,
    "start_time": "2023-07-01T14:59:34.844Z"
   },
   {
    "duration": 0,
    "start_time": "2023-07-01T14:59:34.845Z"
   },
   {
    "duration": 0,
    "start_time": "2023-07-01T14:59:34.846Z"
   },
   {
    "duration": 0,
    "start_time": "2023-07-01T14:59:34.847Z"
   },
   {
    "duration": 0,
    "start_time": "2023-07-01T14:59:34.848Z"
   },
   {
    "duration": 0,
    "start_time": "2023-07-01T14:59:34.849Z"
   },
   {
    "duration": 0,
    "start_time": "2023-07-01T14:59:34.850Z"
   },
   {
    "duration": 0,
    "start_time": "2023-07-01T14:59:34.850Z"
   },
   {
    "duration": 0,
    "start_time": "2023-07-01T14:59:34.851Z"
   },
   {
    "duration": 0,
    "start_time": "2023-07-01T14:59:34.853Z"
   },
   {
    "duration": 0,
    "start_time": "2023-07-01T14:59:34.854Z"
   },
   {
    "duration": 0,
    "start_time": "2023-07-01T14:59:34.855Z"
   },
   {
    "duration": 0,
    "start_time": "2023-07-01T14:59:34.855Z"
   },
   {
    "duration": 0,
    "start_time": "2023-07-01T14:59:34.856Z"
   },
   {
    "duration": 0,
    "start_time": "2023-07-01T14:59:34.857Z"
   },
   {
    "duration": 0,
    "start_time": "2023-07-01T14:59:34.858Z"
   },
   {
    "duration": 0,
    "start_time": "2023-07-01T14:59:34.859Z"
   },
   {
    "duration": 0,
    "start_time": "2023-07-01T14:59:34.860Z"
   },
   {
    "duration": 0,
    "start_time": "2023-07-01T14:59:34.861Z"
   },
   {
    "duration": 163,
    "start_time": "2023-07-01T15:00:17.049Z"
   },
   {
    "duration": 108,
    "start_time": "2023-07-01T15:00:24.529Z"
   },
   {
    "duration": 4,
    "start_time": "2023-07-01T15:00:32.209Z"
   },
   {
    "duration": 848,
    "start_time": "2023-07-01T15:07:16.357Z"
   },
   {
    "duration": 505,
    "start_time": "2023-07-01T15:07:18.632Z"
   },
   {
    "duration": 4,
    "start_time": "2023-07-01T15:07:20.394Z"
   },
   {
    "duration": 3,
    "start_time": "2023-07-01T15:07:24.728Z"
   },
   {
    "duration": 3,
    "start_time": "2023-07-01T15:07:27.146Z"
   },
   {
    "duration": 88050,
    "start_time": "2023-07-01T15:07:28.866Z"
   },
   {
    "duration": 88018,
    "start_time": "2023-07-01T15:09:46.500Z"
   },
   {
    "duration": 141,
    "start_time": "2023-07-01T15:11:19.790Z"
   },
   {
    "duration": 103,
    "start_time": "2023-07-01T15:11:34.403Z"
   },
   {
    "duration": 3,
    "start_time": "2023-07-01T15:13:31.220Z"
   },
   {
    "duration": 3,
    "start_time": "2023-07-01T15:13:33.068Z"
   },
   {
    "duration": 121,
    "start_time": "2023-07-01T15:13:55.544Z"
   },
   {
    "duration": 112,
    "start_time": "2023-07-01T15:14:03.095Z"
   },
   {
    "duration": 4,
    "start_time": "2023-07-01T15:14:14.027Z"
   },
   {
    "duration": 10,
    "start_time": "2023-07-01T15:16:35.206Z"
   },
   {
    "duration": 11,
    "start_time": "2023-07-01T15:16:41.626Z"
   },
   {
    "duration": 3,
    "start_time": "2023-07-01T15:16:56.609Z"
   },
   {
    "duration": 4,
    "start_time": "2023-07-01T15:16:58.030Z"
   },
   {
    "duration": 718,
    "start_time": "2023-07-01T15:16:58.531Z"
   },
   {
    "duration": 544,
    "start_time": "2023-07-01T15:16:59.251Z"
   },
   {
    "duration": 2,
    "start_time": "2023-07-01T15:17:07.793Z"
   },
   {
    "duration": 2,
    "start_time": "2023-07-01T15:17:08.923Z"
   },
   {
    "duration": 20,
    "start_time": "2023-07-01T15:17:09.624Z"
   },
   {
    "duration": 9,
    "start_time": "2023-07-01T15:18:26.290Z"
   },
   {
    "duration": 9,
    "start_time": "2023-07-01T15:18:29.023Z"
   },
   {
    "duration": 12,
    "start_time": "2023-07-01T15:18:29.607Z"
   },
   {
    "duration": 64,
    "start_time": "2023-07-01T15:18:46.117Z"
   },
   {
    "duration": 311,
    "start_time": "2023-07-01T15:18:48.052Z"
   },
   {
    "duration": 21280,
    "start_time": "2023-07-01T15:19:02.736Z"
   },
   {
    "duration": 3,
    "start_time": "2023-07-01T15:21:07.921Z"
   },
   {
    "duration": 21388,
    "start_time": "2023-07-01T15:21:30.167Z"
   },
   {
    "duration": 4,
    "start_time": "2023-07-01T15:21:51.557Z"
   },
   {
    "duration": 21248,
    "start_time": "2023-07-01T15:22:12.221Z"
   },
   {
    "duration": 222,
    "start_time": "2023-07-01T15:22:51.882Z"
   },
   {
    "duration": 62,
    "start_time": "2023-07-01T15:24:37.960Z"
   },
   {
    "duration": 82,
    "start_time": "2023-07-01T15:26:16.205Z"
   },
   {
    "duration": 2248,
    "start_time": "2023-07-01T15:32:01.185Z"
   },
   {
    "duration": 3,
    "start_time": "2023-07-01T15:35:58.850Z"
   },
   {
    "duration": 14,
    "start_time": "2023-07-01T15:36:23.306Z"
   },
   {
    "duration": 10,
    "start_time": "2023-07-01T15:39:03.370Z"
   },
   {
    "duration": 4,
    "start_time": "2023-07-01T15:42:27.667Z"
   },
   {
    "duration": 14381,
    "start_time": "2023-07-01T15:42:40.884Z"
   },
   {
    "duration": 1386,
    "start_time": "2023-07-01T15:42:55.268Z"
   },
   {
    "duration": 816,
    "start_time": "2023-07-01T15:42:56.656Z"
   },
   {
    "duration": 106,
    "start_time": "2023-07-01T15:42:57.474Z"
   },
   {
    "duration": 40,
    "start_time": "2023-07-01T15:42:57.583Z"
   },
   {
    "duration": 5,
    "start_time": "2023-07-01T15:42:57.625Z"
   },
   {
    "duration": 22,
    "start_time": "2023-07-01T15:42:57.632Z"
   },
   {
    "duration": 127,
    "start_time": "2023-07-01T15:42:57.657Z"
   },
   {
    "duration": 86,
    "start_time": "2023-07-01T15:42:57.786Z"
   },
   {
    "duration": 53,
    "start_time": "2023-07-01T15:42:57.876Z"
   },
   {
    "duration": 476,
    "start_time": "2023-07-01T15:42:57.931Z"
   },
   {
    "duration": 552,
    "start_time": "2023-07-01T15:42:58.408Z"
   },
   {
    "duration": 290,
    "start_time": "2023-07-01T15:42:58.962Z"
   },
   {
    "duration": 38,
    "start_time": "2023-07-01T15:42:59.254Z"
   },
   {
    "duration": 841,
    "start_time": "2023-07-01T15:42:59.293Z"
   },
   {
    "duration": 225,
    "start_time": "2023-07-01T15:43:00.136Z"
   },
   {
    "duration": 517,
    "start_time": "2023-07-01T15:43:00.363Z"
   },
   {
    "duration": 14,
    "start_time": "2023-07-01T15:43:00.883Z"
   },
   {
    "duration": 57,
    "start_time": "2023-07-01T15:43:00.914Z"
   },
   {
    "duration": 316,
    "start_time": "2023-07-01T15:43:00.973Z"
   },
   {
    "duration": 54,
    "start_time": "2023-07-01T15:43:01.291Z"
   },
   {
    "duration": 22,
    "start_time": "2023-07-01T15:43:01.347Z"
   },
   {
    "duration": 59,
    "start_time": "2023-07-01T15:43:01.371Z"
   },
   {
    "duration": 16,
    "start_time": "2023-07-01T15:43:01.431Z"
   },
   {
    "duration": 331,
    "start_time": "2023-07-01T15:43:01.449Z"
   },
   {
    "duration": 4,
    "start_time": "2023-07-01T15:43:01.781Z"
   },
   {
    "duration": 92,
    "start_time": "2023-07-01T15:43:01.787Z"
   },
   {
    "duration": 4,
    "start_time": "2023-07-01T15:43:01.883Z"
   },
   {
    "duration": 754,
    "start_time": "2023-07-01T15:43:01.889Z"
   },
   {
    "duration": 742,
    "start_time": "2023-07-01T15:43:02.645Z"
   },
   {
    "duration": 748,
    "start_time": "2023-07-01T15:43:03.389Z"
   },
   {
    "duration": 14,
    "start_time": "2023-07-01T15:43:04.139Z"
   },
   {
    "duration": 5,
    "start_time": "2023-07-01T15:43:04.154Z"
   },
   {
    "duration": 4,
    "start_time": "2023-07-01T15:43:04.160Z"
   },
   {
    "duration": 5,
    "start_time": "2023-07-01T15:43:04.166Z"
   },
   {
    "duration": 756,
    "start_time": "2023-07-01T15:43:04.173Z"
   },
   {
    "duration": 529,
    "start_time": "2023-07-01T15:43:04.933Z"
   },
   {
    "duration": 5,
    "start_time": "2023-07-01T15:43:05.464Z"
   },
   {
    "duration": 26,
    "start_time": "2023-07-01T15:43:05.471Z"
   },
   {
    "duration": 13,
    "start_time": "2023-07-01T15:43:05.500Z"
   },
   {
    "duration": 101205,
    "start_time": "2023-07-01T15:43:05.515Z"
   },
   {
    "duration": 297,
    "start_time": "2023-07-01T15:44:46.723Z"
   },
   {
    "duration": 0,
    "start_time": "2023-07-01T15:44:47.021Z"
   },
   {
    "duration": 0,
    "start_time": "2023-07-01T15:44:47.023Z"
   },
   {
    "duration": 0,
    "start_time": "2023-07-01T15:44:47.024Z"
   },
   {
    "duration": 0,
    "start_time": "2023-07-01T15:44:47.025Z"
   },
   {
    "duration": 0,
    "start_time": "2023-07-01T15:44:47.027Z"
   },
   {
    "duration": 0,
    "start_time": "2023-07-01T15:44:47.028Z"
   },
   {
    "duration": 0,
    "start_time": "2023-07-01T15:44:47.029Z"
   },
   {
    "duration": 0,
    "start_time": "2023-07-01T15:44:47.030Z"
   },
   {
    "duration": 0,
    "start_time": "2023-07-01T15:44:47.031Z"
   },
   {
    "duration": 0,
    "start_time": "2023-07-01T15:44:47.032Z"
   },
   {
    "duration": 0,
    "start_time": "2023-07-01T15:44:47.033Z"
   },
   {
    "duration": 0,
    "start_time": "2023-07-01T15:44:47.034Z"
   },
   {
    "duration": 0,
    "start_time": "2023-07-01T15:44:47.035Z"
   },
   {
    "duration": 0,
    "start_time": "2023-07-01T15:44:47.036Z"
   },
   {
    "duration": 0,
    "start_time": "2023-07-01T15:44:47.037Z"
   },
   {
    "duration": 0,
    "start_time": "2023-07-01T15:44:47.038Z"
   },
   {
    "duration": 0,
    "start_time": "2023-07-01T15:44:47.039Z"
   },
   {
    "duration": 0,
    "start_time": "2023-07-01T15:44:47.040Z"
   },
   {
    "duration": 0,
    "start_time": "2023-07-01T15:44:47.041Z"
   },
   {
    "duration": 0,
    "start_time": "2023-07-01T15:44:47.042Z"
   },
   {
    "duration": 0,
    "start_time": "2023-07-01T15:44:47.043Z"
   },
   {
    "duration": 0,
    "start_time": "2023-07-01T15:44:47.044Z"
   },
   {
    "duration": 0,
    "start_time": "2023-07-01T15:44:47.045Z"
   },
   {
    "duration": 0,
    "start_time": "2023-07-01T15:44:47.046Z"
   },
   {
    "duration": 3,
    "start_time": "2023-07-01T15:44:57.049Z"
   },
   {
    "duration": 2,
    "start_time": "2023-07-01T15:44:58.182Z"
   },
   {
    "duration": 2,
    "start_time": "2023-07-01T15:44:58.743Z"
   },
   {
    "duration": 4,
    "start_time": "2023-07-01T15:45:19.729Z"
   },
   {
    "duration": 3,
    "start_time": "2023-07-01T15:45:40.584Z"
   },
   {
    "duration": 3,
    "start_time": "2023-07-01T15:45:41.102Z"
   },
   {
    "duration": 2,
    "start_time": "2023-07-01T15:45:41.607Z"
   },
   {
    "duration": 3,
    "start_time": "2023-07-01T15:45:42.151Z"
   },
   {
    "duration": 47,
    "start_time": "2023-07-01T15:46:11.239Z"
   },
   {
    "duration": 0,
    "start_time": "2023-07-01T15:46:11.287Z"
   },
   {
    "duration": 15775,
    "start_time": "2023-07-01T15:46:18.617Z"
   },
   {
    "duration": 1437,
    "start_time": "2023-07-01T15:46:34.394Z"
   },
   {
    "duration": 832,
    "start_time": "2023-07-01T15:46:35.833Z"
   },
   {
    "duration": 106,
    "start_time": "2023-07-01T15:46:36.667Z"
   },
   {
    "duration": 22,
    "start_time": "2023-07-01T15:46:36.775Z"
   },
   {
    "duration": 16,
    "start_time": "2023-07-01T15:46:36.799Z"
   },
   {
    "duration": 36,
    "start_time": "2023-07-01T15:46:36.817Z"
   },
   {
    "duration": 99,
    "start_time": "2023-07-01T15:46:36.855Z"
   },
   {
    "duration": 85,
    "start_time": "2023-07-01T15:46:36.956Z"
   },
   {
    "duration": 42,
    "start_time": "2023-07-01T15:46:37.042Z"
   },
   {
    "duration": 474,
    "start_time": "2023-07-01T15:46:37.086Z"
   },
   {
    "duration": 552,
    "start_time": "2023-07-01T15:46:37.561Z"
   },
   {
    "duration": 303,
    "start_time": "2023-07-01T15:46:38.115Z"
   },
   {
    "duration": 38,
    "start_time": "2023-07-01T15:46:38.421Z"
   },
   {
    "duration": 807,
    "start_time": "2023-07-01T15:46:38.460Z"
   },
   {
    "duration": 241,
    "start_time": "2023-07-01T15:46:39.268Z"
   },
   {
    "duration": 504,
    "start_time": "2023-07-01T15:46:39.513Z"
   },
   {
    "duration": 15,
    "start_time": "2023-07-01T15:46:40.019Z"
   },
   {
    "duration": 81,
    "start_time": "2023-07-01T15:46:40.036Z"
   },
   {
    "duration": 313,
    "start_time": "2023-07-01T15:46:40.118Z"
   },
   {
    "duration": 44,
    "start_time": "2023-07-01T15:46:40.433Z"
   },
   {
    "duration": 41,
    "start_time": "2023-07-01T15:46:40.479Z"
   },
   {
    "duration": 43,
    "start_time": "2023-07-01T15:46:40.523Z"
   },
   {
    "duration": 18,
    "start_time": "2023-07-01T15:46:40.567Z"
   },
   {
    "duration": 327,
    "start_time": "2023-07-01T15:46:40.613Z"
   },
   {
    "duration": 4,
    "start_time": "2023-07-01T15:46:40.942Z"
   },
   {
    "duration": 93,
    "start_time": "2023-07-01T15:46:40.948Z"
   },
   {
    "duration": 4,
    "start_time": "2023-07-01T15:46:41.042Z"
   },
   {
    "duration": 726,
    "start_time": "2023-07-01T15:46:41.048Z"
   },
   {
    "duration": 742,
    "start_time": "2023-07-01T15:46:41.776Z"
   },
   {
    "duration": 755,
    "start_time": "2023-07-01T15:46:42.519Z"
   },
   {
    "duration": 15,
    "start_time": "2023-07-01T15:46:43.276Z"
   },
   {
    "duration": 21,
    "start_time": "2023-07-01T15:46:43.293Z"
   },
   {
    "duration": 3,
    "start_time": "2023-07-01T15:46:43.316Z"
   },
   {
    "duration": 8,
    "start_time": "2023-07-01T15:46:43.321Z"
   },
   {
    "duration": 760,
    "start_time": "2023-07-01T15:46:43.330Z"
   },
   {
    "duration": 521,
    "start_time": "2023-07-01T15:46:44.092Z"
   },
   {
    "duration": 4,
    "start_time": "2023-07-01T15:46:44.615Z"
   },
   {
    "duration": 44,
    "start_time": "2023-07-01T15:46:44.620Z"
   },
   {
    "duration": 5,
    "start_time": "2023-07-01T15:46:44.666Z"
   },
   {
    "duration": 88756,
    "start_time": "2023-07-01T15:46:44.675Z"
   },
   {
    "duration": 4,
    "start_time": "2023-07-01T15:48:13.513Z"
   },
   {
    "duration": 95,
    "start_time": "2023-07-01T15:48:13.519Z"
   },
   {
    "duration": 23,
    "start_time": "2023-07-01T15:48:13.616Z"
   },
   {
    "duration": 16,
    "start_time": "2023-07-01T15:48:13.641Z"
   },
   {
    "duration": 95,
    "start_time": "2023-07-01T15:48:13.659Z"
   },
   {
    "duration": 337,
    "start_time": "2023-07-01T15:48:13.756Z"
   },
   {
    "duration": 21480,
    "start_time": "2023-07-01T15:48:14.095Z"
   },
   {
    "duration": 3,
    "start_time": "2023-07-01T15:48:35.577Z"
   },
   {
    "duration": 2139,
    "start_time": "2023-07-01T15:48:35.581Z"
   },
   {
    "duration": 3,
    "start_time": "2023-07-01T15:48:37.722Z"
   },
   {
    "duration": 11,
    "start_time": "2023-07-01T15:48:37.726Z"
   },
   {
    "duration": 131,
    "start_time": "2023-07-01T15:48:37.738Z"
   },
   {
    "duration": 0,
    "start_time": "2023-07-01T15:48:37.870Z"
   },
   {
    "duration": 0,
    "start_time": "2023-07-01T15:48:37.871Z"
   },
   {
    "duration": 0,
    "start_time": "2023-07-01T15:48:37.873Z"
   },
   {
    "duration": 0,
    "start_time": "2023-07-01T15:48:37.873Z"
   },
   {
    "duration": 0,
    "start_time": "2023-07-01T15:48:37.874Z"
   },
   {
    "duration": 0,
    "start_time": "2023-07-01T15:48:37.875Z"
   },
   {
    "duration": 0,
    "start_time": "2023-07-01T15:48:37.876Z"
   },
   {
    "duration": 0,
    "start_time": "2023-07-01T15:48:37.877Z"
   },
   {
    "duration": 0,
    "start_time": "2023-07-01T15:48:37.879Z"
   },
   {
    "duration": 0,
    "start_time": "2023-07-01T15:48:37.880Z"
   },
   {
    "duration": 0,
    "start_time": "2023-07-01T15:48:37.881Z"
   },
   {
    "duration": 0,
    "start_time": "2023-07-01T15:48:37.882Z"
   },
   {
    "duration": 0,
    "start_time": "2023-07-01T15:48:37.883Z"
   },
   {
    "duration": 0,
    "start_time": "2023-07-01T15:48:37.913Z"
   },
   {
    "duration": 11,
    "start_time": "2023-07-01T15:50:00.258Z"
   },
   {
    "duration": 13,
    "start_time": "2023-07-01T15:51:51.377Z"
   },
   {
    "duration": 306,
    "start_time": "2023-07-01T15:53:54.132Z"
   },
   {
    "duration": 15,
    "start_time": "2023-07-01T15:54:02.623Z"
   },
   {
    "duration": 3,
    "start_time": "2023-07-01T15:54:41.310Z"
   },
   {
    "duration": 72983,
    "start_time": "2023-07-01T15:59:52.856Z"
   },
   {
    "duration": 3,
    "start_time": "2023-07-01T16:01:14.905Z"
   },
   {
    "duration": 21657,
    "start_time": "2023-07-01T16:01:22.224Z"
   },
   {
    "duration": 2,
    "start_time": "2023-07-01T16:01:43.883Z"
   },
   {
    "duration": 20,
    "start_time": "2023-07-01T16:01:43.887Z"
   },
   {
    "duration": 22,
    "start_time": "2023-07-01T16:01:43.909Z"
   },
   {
    "duration": 12,
    "start_time": "2023-07-01T16:01:49.468Z"
   },
   {
    "duration": 97,
    "start_time": "2023-07-01T16:02:05.159Z"
   },
   {
    "duration": 41,
    "start_time": "2023-07-01T16:02:06.140Z"
   },
   {
    "duration": 32077,
    "start_time": "2023-07-01T16:08:07.461Z"
   },
   {
    "duration": 32139,
    "start_time": "2023-07-01T16:09:21.589Z"
   },
   {
    "duration": 32227,
    "start_time": "2023-07-01T16:10:08.893Z"
   },
   {
    "duration": 4,
    "start_time": "2023-07-01T16:10:41.122Z"
   },
   {
    "duration": 1514,
    "start_time": "2023-07-01T16:10:41.127Z"
   },
   {
    "duration": 3,
    "start_time": "2023-07-01T16:12:03.236Z"
   },
   {
    "duration": 362,
    "start_time": "2023-07-01T16:12:03.280Z"
   },
   {
    "duration": 762,
    "start_time": "2023-07-01T16:17:32.235Z"
   },
   {
    "duration": 14678,
    "start_time": "2023-07-01T16:17:52.249Z"
   },
   {
    "duration": 1392,
    "start_time": "2023-07-01T16:18:06.930Z"
   },
   {
    "duration": 811,
    "start_time": "2023-07-01T16:18:08.324Z"
   },
   {
    "duration": 106,
    "start_time": "2023-07-01T16:18:09.137Z"
   },
   {
    "duration": 17,
    "start_time": "2023-07-01T16:18:09.246Z"
   },
   {
    "duration": 7,
    "start_time": "2023-07-01T16:18:09.264Z"
   },
   {
    "duration": 11,
    "start_time": "2023-07-01T16:18:09.272Z"
   },
   {
    "duration": 149,
    "start_time": "2023-07-01T16:18:09.285Z"
   },
   {
    "duration": 77,
    "start_time": "2023-07-01T16:18:09.436Z"
   },
   {
    "duration": 40,
    "start_time": "2023-07-01T16:18:09.515Z"
   },
   {
    "duration": 487,
    "start_time": "2023-07-01T16:18:09.557Z"
   },
   {
    "duration": 541,
    "start_time": "2023-07-01T16:18:10.045Z"
   },
   {
    "duration": 309,
    "start_time": "2023-07-01T16:18:10.587Z"
   },
   {
    "duration": 52,
    "start_time": "2023-07-01T16:18:10.900Z"
   },
   {
    "duration": 869,
    "start_time": "2023-07-01T16:18:10.954Z"
   },
   {
    "duration": 233,
    "start_time": "2023-07-01T16:18:11.825Z"
   },
   {
    "duration": 531,
    "start_time": "2023-07-01T16:18:12.060Z"
   },
   {
    "duration": 22,
    "start_time": "2023-07-01T16:18:12.592Z"
   },
   {
    "duration": 58,
    "start_time": "2023-07-01T16:18:12.616Z"
   },
   {
    "duration": 331,
    "start_time": "2023-07-01T16:18:12.676Z"
   },
   {
    "duration": 44,
    "start_time": "2023-07-01T16:18:13.009Z"
   },
   {
    "duration": 21,
    "start_time": "2023-07-01T16:18:13.055Z"
   },
   {
    "duration": 68,
    "start_time": "2023-07-01T16:18:13.078Z"
   },
   {
    "duration": 16,
    "start_time": "2023-07-01T16:18:13.148Z"
   },
   {
    "duration": 341,
    "start_time": "2023-07-01T16:18:13.166Z"
   },
   {
    "duration": 4,
    "start_time": "2023-07-01T16:18:13.508Z"
   },
   {
    "duration": 83,
    "start_time": "2023-07-01T16:18:13.513Z"
   },
   {
    "duration": 17,
    "start_time": "2023-07-01T16:18:13.597Z"
   },
   {
    "duration": 778,
    "start_time": "2023-07-01T16:18:13.617Z"
   },
   {
    "duration": 765,
    "start_time": "2023-07-01T16:18:14.397Z"
   },
   {
    "duration": 741,
    "start_time": "2023-07-01T16:18:15.164Z"
   },
   {
    "duration": 14,
    "start_time": "2023-07-01T16:18:15.913Z"
   },
   {
    "duration": 36,
    "start_time": "2023-07-01T16:18:15.929Z"
   },
   {
    "duration": 38,
    "start_time": "2023-07-01T16:18:15.967Z"
   },
   {
    "duration": 20,
    "start_time": "2023-07-01T16:18:16.007Z"
   },
   {
    "duration": 779,
    "start_time": "2023-07-01T16:18:16.029Z"
   },
   {
    "duration": 527,
    "start_time": "2023-07-01T16:18:16.810Z"
   },
   {
    "duration": 3,
    "start_time": "2023-07-01T16:18:17.339Z"
   },
   {
    "duration": 8,
    "start_time": "2023-07-01T16:18:17.344Z"
   },
   {
    "duration": 6,
    "start_time": "2023-07-01T16:18:17.353Z"
   },
   {
    "duration": 89659,
    "start_time": "2023-07-01T16:18:17.363Z"
   },
   {
    "duration": 97,
    "start_time": "2023-07-01T16:19:47.024Z"
   },
   {
    "duration": 92,
    "start_time": "2023-07-01T16:19:47.123Z"
   },
   {
    "duration": 34,
    "start_time": "2023-07-01T16:19:47.216Z"
   },
   {
    "duration": 24,
    "start_time": "2023-07-01T16:19:47.252Z"
   },
   {
    "duration": 94,
    "start_time": "2023-07-01T16:19:47.278Z"
   },
   {
    "duration": 328,
    "start_time": "2023-07-01T16:19:47.374Z"
   },
   {
    "duration": 21520,
    "start_time": "2023-07-01T16:19:47.704Z"
   },
   {
    "duration": 3,
    "start_time": "2023-07-01T16:20:09.226Z"
   },
   {
    "duration": 2288,
    "start_time": "2023-07-01T16:20:09.231Z"
   },
   {
    "duration": 3,
    "start_time": "2023-07-01T16:20:11.521Z"
   },
   {
    "duration": 5,
    "start_time": "2023-07-01T16:20:11.525Z"
   },
   {
    "duration": 12,
    "start_time": "2023-07-01T16:20:11.532Z"
   },
   {
    "duration": 4,
    "start_time": "2023-07-01T16:20:11.545Z"
   },
   {
    "duration": 73799,
    "start_time": "2023-07-01T16:20:11.550Z"
   },
   {
    "duration": 3,
    "start_time": "2023-07-01T16:21:25.351Z"
   },
   {
    "duration": 22075,
    "start_time": "2023-07-01T16:21:25.356Z"
   },
   {
    "duration": 3,
    "start_time": "2023-07-01T16:21:47.433Z"
   },
   {
    "duration": 25,
    "start_time": "2023-07-01T16:21:47.438Z"
   },
   {
    "duration": 28,
    "start_time": "2023-07-01T16:21:47.465Z"
   },
   {
    "duration": 29,
    "start_time": "2023-07-01T16:21:47.494Z"
   },
   {
    "duration": 115,
    "start_time": "2023-07-01T16:21:47.524Z"
   },
   {
    "duration": 40,
    "start_time": "2023-07-01T16:21:47.640Z"
   },
   {
    "duration": 901,
    "start_time": "2023-07-01T16:21:47.682Z"
   },
   {
    "duration": 0,
    "start_time": "2023-07-01T16:21:48.585Z"
   },
   {
    "duration": 0,
    "start_time": "2023-07-01T16:21:48.586Z"
   },
   {
    "duration": 0,
    "start_time": "2023-07-01T16:21:48.587Z"
   },
   {
    "duration": 0,
    "start_time": "2023-07-01T16:21:48.588Z"
   },
   {
    "duration": 0,
    "start_time": "2023-07-01T16:21:48.589Z"
   },
   {
    "duration": 0,
    "start_time": "2023-07-01T16:21:48.590Z"
   },
   {
    "duration": 0,
    "start_time": "2023-07-01T16:21:48.591Z"
   },
   {
    "duration": 0,
    "start_time": "2023-07-01T16:21:48.592Z"
   },
   {
    "duration": 0,
    "start_time": "2023-07-01T16:21:48.593Z"
   },
   {
    "duration": 0,
    "start_time": "2023-07-01T16:21:48.594Z"
   },
   {
    "duration": 11,
    "start_time": "2023-07-01T16:23:41.468Z"
   },
   {
    "duration": 7,
    "start_time": "2023-07-01T16:25:09.648Z"
   },
   {
    "duration": 7,
    "start_time": "2023-07-01T16:26:42.050Z"
   },
   {
    "duration": 12,
    "start_time": "2023-07-01T16:29:29.124Z"
   },
   {
    "duration": 32361,
    "start_time": "2023-07-01T16:30:56.883Z"
   },
   {
    "duration": 9,
    "start_time": "2023-07-01T16:31:37.114Z"
   },
   {
    "duration": 3,
    "start_time": "2023-07-01T16:32:03.444Z"
   },
   {
    "duration": 2,
    "start_time": "2023-07-01T16:34:06.070Z"
   },
   {
    "duration": 7939,
    "start_time": "2023-07-01T16:34:07.674Z"
   },
   {
    "duration": 7730,
    "start_time": "2023-07-01T16:34:39.912Z"
   },
   {
    "duration": 2,
    "start_time": "2023-07-01T16:34:56.098Z"
   },
   {
    "duration": 7853,
    "start_time": "2023-07-01T16:35:22.479Z"
   },
   {
    "duration": 3,
    "start_time": "2023-07-01T16:36:12.957Z"
   },
   {
    "duration": 12,
    "start_time": "2023-07-01T16:36:13.006Z"
   },
   {
    "duration": 2,
    "start_time": "2023-07-01T16:36:24.926Z"
   },
   {
    "duration": 11,
    "start_time": "2023-07-01T16:36:40.175Z"
   },
   {
    "duration": 16,
    "start_time": "2023-07-01T16:40:07.057Z"
   },
   {
    "duration": 4,
    "start_time": "2023-07-01T16:40:32.804Z"
   },
   {
    "duration": 9,
    "start_time": "2023-07-01T16:43:09.922Z"
   },
   {
    "duration": 0,
    "start_time": "2023-07-01T16:43:09.933Z"
   },
   {
    "duration": 2285,
    "start_time": "2023-07-01T16:43:20.475Z"
   },
   {
    "duration": 148311,
    "start_time": "2023-07-01T16:44:26.917Z"
   },
   {
    "duration": 9,
    "start_time": "2023-07-01T16:47:21.859Z"
   },
   {
    "duration": 0,
    "start_time": "2023-07-01T16:47:21.870Z"
   },
   {
    "duration": 29195,
    "start_time": "2023-07-01T16:47:50.734Z"
   },
   {
    "duration": 3,
    "start_time": "2023-07-01T16:48:19.931Z"
   },
   {
    "duration": 360878,
    "start_time": "2023-07-01T16:49:10.658Z"
   },
   {
    "duration": 3,
    "start_time": "2023-07-01T16:55:11.538Z"
   },
   {
    "duration": 4,
    "start_time": "2023-07-01T17:04:16.466Z"
   },
   {
    "duration": 30501,
    "start_time": "2023-07-01T17:04:16.511Z"
   },
   {
    "duration": 30857,
    "start_time": "2023-07-01T17:04:52.648Z"
   },
   {
    "duration": 3,
    "start_time": "2023-07-01T17:06:41.343Z"
   },
   {
    "duration": 3,
    "start_time": "2023-07-01T17:08:43.533Z"
   },
   {
    "duration": 11,
    "start_time": "2023-07-01T17:09:04.267Z"
   },
   {
    "duration": 1038146,
    "start_time": "2023-07-01T17:10:44.998Z"
   },
   {
    "duration": 3,
    "start_time": "2023-07-01T17:28:03.146Z"
   },
   {
    "duration": 15,
    "start_time": "2023-07-01T17:28:03.151Z"
   },
   {
    "duration": 24,
    "start_time": "2023-07-01T17:28:03.168Z"
   },
   {
    "duration": 51494,
    "start_time": "2023-07-01T17:28:03.194Z"
   },
   {
    "duration": 4,
    "start_time": "2023-07-01T17:28:54.690Z"
   },
   {
    "duration": 21,
    "start_time": "2023-07-01T17:28:54.695Z"
   },
   {
    "duration": 3,
    "start_time": "2023-07-01T17:30:38.594Z"
   },
   {
    "duration": 51738,
    "start_time": "2023-07-01T17:30:48.370Z"
   },
   {
    "duration": 3,
    "start_time": "2023-07-01T17:31:40.110Z"
   },
   {
    "duration": 13660,
    "start_time": "2023-07-01T18:10:42.693Z"
   },
   {
    "duration": 1345,
    "start_time": "2023-07-01T18:10:56.355Z"
   },
   {
    "duration": 809,
    "start_time": "2023-07-01T18:10:57.703Z"
   },
   {
    "duration": 116,
    "start_time": "2023-07-01T18:10:58.514Z"
   },
   {
    "duration": 16,
    "start_time": "2023-07-01T18:10:58.632Z"
   },
   {
    "duration": 6,
    "start_time": "2023-07-01T18:10:58.650Z"
   },
   {
    "duration": 9,
    "start_time": "2023-07-01T18:10:58.657Z"
   },
   {
    "duration": 121,
    "start_time": "2023-07-01T18:10:58.668Z"
   },
   {
    "duration": 76,
    "start_time": "2023-07-01T18:10:58.792Z"
   },
   {
    "duration": 54,
    "start_time": "2023-07-01T18:10:58.870Z"
   },
   {
    "duration": 461,
    "start_time": "2023-07-01T18:10:58.926Z"
   },
   {
    "duration": 573,
    "start_time": "2023-07-01T18:10:59.389Z"
   },
   {
    "duration": 293,
    "start_time": "2023-07-01T18:10:59.964Z"
   },
   {
    "duration": 38,
    "start_time": "2023-07-01T18:11:00.259Z"
   },
   {
    "duration": 829,
    "start_time": "2023-07-01T18:11:00.313Z"
   },
   {
    "duration": 291,
    "start_time": "2023-07-01T18:11:01.144Z"
   },
   {
    "duration": 1293,
    "start_time": "2023-07-01T18:11:01.437Z"
   },
   {
    "duration": 259,
    "start_time": "2023-07-01T18:11:02.731Z"
   },
   {
    "duration": 479,
    "start_time": "2023-07-01T18:11:02.992Z"
   },
   {
    "duration": 747,
    "start_time": "2023-07-01T18:11:03.473Z"
   },
   {
    "duration": 511,
    "start_time": "2023-07-01T18:11:04.222Z"
   },
   {
    "duration": 489,
    "start_time": "2023-07-01T18:11:04.735Z"
   },
   {
    "duration": 56,
    "start_time": "2023-07-01T18:11:05.226Z"
   },
   {
    "duration": 17,
    "start_time": "2023-07-01T18:11:05.284Z"
   },
   {
    "duration": 307,
    "start_time": "2023-07-01T18:11:05.303Z"
   },
   {
    "duration": 5,
    "start_time": "2023-07-01T18:11:05.612Z"
   },
   {
    "duration": 118,
    "start_time": "2023-07-01T18:11:05.622Z"
   },
   {
    "duration": 3,
    "start_time": "2023-07-01T18:11:05.742Z"
   },
   {
    "duration": 704,
    "start_time": "2023-07-01T18:11:05.747Z"
   },
   {
    "duration": 711,
    "start_time": "2023-07-01T18:11:06.452Z"
   },
   {
    "duration": 710,
    "start_time": "2023-07-01T18:11:07.165Z"
   },
   {
    "duration": 14,
    "start_time": "2023-07-01T18:11:07.877Z"
   },
   {
    "duration": 4,
    "start_time": "2023-07-01T18:11:07.892Z"
   },
   {
    "duration": 4,
    "start_time": "2023-07-01T18:11:07.913Z"
   },
   {
    "duration": 8,
    "start_time": "2023-07-01T18:11:07.918Z"
   },
   {
    "duration": 677,
    "start_time": "2023-07-01T18:11:07.927Z"
   },
   {
    "duration": 511,
    "start_time": "2023-07-01T18:11:08.606Z"
   },
   {
    "duration": 3,
    "start_time": "2023-07-01T18:11:09.119Z"
   },
   {
    "duration": 31,
    "start_time": "2023-07-01T18:11:09.124Z"
   },
   {
    "duration": 21,
    "start_time": "2023-07-01T18:11:09.156Z"
   },
   {
    "duration": 90249,
    "start_time": "2023-07-01T18:11:09.179Z"
   },
   {
    "duration": 303,
    "start_time": "2023-07-01T18:12:39.431Z"
   },
   {
    "duration": 0,
    "start_time": "2023-07-01T18:12:39.736Z"
   },
   {
    "duration": 0,
    "start_time": "2023-07-01T18:12:39.737Z"
   },
   {
    "duration": 0,
    "start_time": "2023-07-01T18:12:39.738Z"
   },
   {
    "duration": 0,
    "start_time": "2023-07-01T18:12:39.739Z"
   },
   {
    "duration": 0,
    "start_time": "2023-07-01T18:12:39.740Z"
   },
   {
    "duration": 0,
    "start_time": "2023-07-01T18:12:39.741Z"
   },
   {
    "duration": 0,
    "start_time": "2023-07-01T18:12:39.742Z"
   },
   {
    "duration": 0,
    "start_time": "2023-07-01T18:12:39.743Z"
   },
   {
    "duration": 0,
    "start_time": "2023-07-01T18:12:39.744Z"
   },
   {
    "duration": 0,
    "start_time": "2023-07-01T18:12:39.745Z"
   },
   {
    "duration": 0,
    "start_time": "2023-07-01T18:12:39.746Z"
   },
   {
    "duration": 0,
    "start_time": "2023-07-01T18:12:39.748Z"
   },
   {
    "duration": 0,
    "start_time": "2023-07-01T18:12:39.748Z"
   },
   {
    "duration": 0,
    "start_time": "2023-07-01T18:12:39.749Z"
   },
   {
    "duration": 0,
    "start_time": "2023-07-01T18:12:39.750Z"
   },
   {
    "duration": 0,
    "start_time": "2023-07-01T18:12:39.751Z"
   },
   {
    "duration": 0,
    "start_time": "2023-07-01T18:12:39.752Z"
   },
   {
    "duration": 0,
    "start_time": "2023-07-01T18:12:39.753Z"
   },
   {
    "duration": 0,
    "start_time": "2023-07-01T18:12:39.754Z"
   },
   {
    "duration": 0,
    "start_time": "2023-07-01T18:12:39.755Z"
   },
   {
    "duration": 0,
    "start_time": "2023-07-01T18:12:39.756Z"
   },
   {
    "duration": 0,
    "start_time": "2023-07-01T18:12:39.757Z"
   },
   {
    "duration": 0,
    "start_time": "2023-07-01T18:12:39.758Z"
   },
   {
    "duration": 0,
    "start_time": "2023-07-01T18:12:39.759Z"
   },
   {
    "duration": 0,
    "start_time": "2023-07-01T18:12:39.760Z"
   },
   {
    "duration": 0,
    "start_time": "2023-07-01T18:12:39.761Z"
   },
   {
    "duration": 0,
    "start_time": "2023-07-01T18:12:39.762Z"
   },
   {
    "duration": 0,
    "start_time": "2023-07-01T18:12:39.763Z"
   },
   {
    "duration": 27181,
    "start_time": "2023-07-01T18:15:55.661Z"
   },
   {
    "duration": 294,
    "start_time": "2023-07-01T18:16:22.844Z"
   },
   {
    "duration": 100,
    "start_time": "2023-07-01T18:16:23.214Z"
   },
   {
    "duration": 3,
    "start_time": "2023-07-01T18:17:01.912Z"
   },
   {
    "duration": 10,
    "start_time": "2023-07-01T18:17:08.258Z"
   },
   {
    "duration": 14809,
    "start_time": "2023-07-01T18:17:24.538Z"
   },
   {
    "duration": 1369,
    "start_time": "2023-07-01T18:17:39.349Z"
   },
   {
    "duration": 816,
    "start_time": "2023-07-01T18:17:40.720Z"
   },
   {
    "duration": 116,
    "start_time": "2023-07-01T18:17:41.538Z"
   },
   {
    "duration": 16,
    "start_time": "2023-07-01T18:17:41.656Z"
   },
   {
    "duration": 5,
    "start_time": "2023-07-01T18:17:41.674Z"
   },
   {
    "duration": 18,
    "start_time": "2023-07-01T18:17:41.681Z"
   },
   {
    "duration": 108,
    "start_time": "2023-07-01T18:17:41.701Z"
   },
   {
    "duration": 70,
    "start_time": "2023-07-01T18:17:41.810Z"
   },
   {
    "duration": 60,
    "start_time": "2023-07-01T18:17:41.884Z"
   },
   {
    "duration": 475,
    "start_time": "2023-07-01T18:17:41.946Z"
   },
   {
    "duration": 551,
    "start_time": "2023-07-01T18:17:42.423Z"
   },
   {
    "duration": 291,
    "start_time": "2023-07-01T18:17:42.975Z"
   },
   {
    "duration": 47,
    "start_time": "2023-07-01T18:17:43.268Z"
   },
   {
    "duration": 818,
    "start_time": "2023-07-01T18:17:43.316Z"
   },
   {
    "duration": 222,
    "start_time": "2023-07-01T18:17:44.136Z"
   },
   {
    "duration": 469,
    "start_time": "2023-07-01T18:17:44.359Z"
   },
   {
    "duration": 13,
    "start_time": "2023-07-01T18:17:44.830Z"
   },
   {
    "duration": 75,
    "start_time": "2023-07-01T18:17:44.845Z"
   },
   {
    "duration": 301,
    "start_time": "2023-07-01T18:17:44.922Z"
   },
   {
    "duration": 42,
    "start_time": "2023-07-01T18:17:45.225Z"
   },
   {
    "duration": 21,
    "start_time": "2023-07-01T18:17:45.268Z"
   },
   {
    "duration": 40,
    "start_time": "2023-07-01T18:17:45.314Z"
   },
   {
    "duration": 16,
    "start_time": "2023-07-01T18:17:45.355Z"
   },
   {
    "duration": 315,
    "start_time": "2023-07-01T18:17:45.372Z"
   },
   {
    "duration": 3,
    "start_time": "2023-07-01T18:17:45.689Z"
   },
   {
    "duration": 84,
    "start_time": "2023-07-01T18:17:45.694Z"
   },
   {
    "duration": 11,
    "start_time": "2023-07-01T18:17:45.783Z"
   },
   {
    "duration": 700,
    "start_time": "2023-07-01T18:17:45.795Z"
   },
   {
    "duration": 718,
    "start_time": "2023-07-01T18:17:46.497Z"
   },
   {
    "duration": 711,
    "start_time": "2023-07-01T18:17:47.216Z"
   },
   {
    "duration": 14,
    "start_time": "2023-07-01T18:17:47.928Z"
   },
   {
    "duration": 28,
    "start_time": "2023-07-01T18:17:47.943Z"
   },
   {
    "duration": 25,
    "start_time": "2023-07-01T18:17:47.972Z"
   },
   {
    "duration": 29,
    "start_time": "2023-07-01T18:17:47.999Z"
   },
   {
    "duration": 678,
    "start_time": "2023-07-01T18:17:48.030Z"
   },
   {
    "duration": 505,
    "start_time": "2023-07-01T18:17:48.713Z"
   },
   {
    "duration": 4,
    "start_time": "2023-07-01T18:17:49.220Z"
   },
   {
    "duration": 30,
    "start_time": "2023-07-01T18:17:49.225Z"
   },
   {
    "duration": 54,
    "start_time": "2023-07-01T18:17:49.257Z"
   },
   {
    "duration": 86309,
    "start_time": "2023-07-01T18:17:49.312Z"
   },
   {
    "duration": 24723,
    "start_time": "2023-07-01T18:19:15.623Z"
   },
   {
    "duration": 303,
    "start_time": "2023-07-01T18:19:40.347Z"
   },
   {
    "duration": 211,
    "start_time": "2023-07-01T18:19:40.714Z"
   },
   {
    "duration": 0,
    "start_time": "2023-07-01T18:19:40.927Z"
   },
   {
    "duration": 0,
    "start_time": "2023-07-01T18:19:40.929Z"
   },
   {
    "duration": 0,
    "start_time": "2023-07-01T18:19:40.930Z"
   },
   {
    "duration": 1,
    "start_time": "2023-07-01T18:19:40.931Z"
   },
   {
    "duration": 0,
    "start_time": "2023-07-01T18:19:40.933Z"
   },
   {
    "duration": 0,
    "start_time": "2023-07-01T18:19:40.934Z"
   },
   {
    "duration": 0,
    "start_time": "2023-07-01T18:19:40.936Z"
   },
   {
    "duration": 0,
    "start_time": "2023-07-01T18:19:40.937Z"
   },
   {
    "duration": 0,
    "start_time": "2023-07-01T18:19:40.939Z"
   },
   {
    "duration": 0,
    "start_time": "2023-07-01T18:19:40.941Z"
   },
   {
    "duration": 0,
    "start_time": "2023-07-01T18:19:40.942Z"
   },
   {
    "duration": 0,
    "start_time": "2023-07-01T18:19:40.943Z"
   },
   {
    "duration": 0,
    "start_time": "2023-07-01T18:19:40.945Z"
   },
   {
    "duration": 0,
    "start_time": "2023-07-01T18:19:40.946Z"
   },
   {
    "duration": 0,
    "start_time": "2023-07-01T18:19:40.948Z"
   },
   {
    "duration": 1,
    "start_time": "2023-07-01T18:19:40.949Z"
   },
   {
    "duration": 0,
    "start_time": "2023-07-01T18:19:40.951Z"
   },
   {
    "duration": 0,
    "start_time": "2023-07-01T18:19:40.952Z"
   },
   {
    "duration": 0,
    "start_time": "2023-07-01T18:19:40.954Z"
   },
   {
    "duration": 0,
    "start_time": "2023-07-01T18:19:40.955Z"
   },
   {
    "duration": 0,
    "start_time": "2023-07-01T18:19:40.956Z"
   },
   {
    "duration": 0,
    "start_time": "2023-07-01T18:19:40.957Z"
   },
   {
    "duration": 0,
    "start_time": "2023-07-01T18:19:40.958Z"
   },
   {
    "duration": 0,
    "start_time": "2023-07-01T18:19:40.959Z"
   },
   {
    "duration": 0,
    "start_time": "2023-07-01T18:19:40.960Z"
   },
   {
    "duration": 0,
    "start_time": "2023-07-01T18:19:41.013Z"
   },
   {
    "duration": 0,
    "start_time": "2023-07-01T18:19:41.015Z"
   },
   {
    "duration": 3,
    "start_time": "2023-07-01T18:20:51.238Z"
   },
   {
    "duration": 68,
    "start_time": "2023-07-01T18:20:57.463Z"
   },
   {
    "duration": 330,
    "start_time": "2023-07-01T18:20:58.838Z"
   },
   {
    "duration": 21426,
    "start_time": "2023-07-01T18:21:07.505Z"
   },
   {
    "duration": 4,
    "start_time": "2023-07-01T18:21:28.933Z"
   },
   {
    "duration": 947,
    "start_time": "2023-07-01T18:22:25.924Z"
   },
   {
    "duration": 240,
    "start_time": "2023-07-01T18:22:26.873Z"
   },
   {
    "duration": 13,
    "start_time": "2023-07-01T18:22:33.429Z"
   },
   {
    "duration": 3,
    "start_time": "2023-07-01T18:22:44.171Z"
   },
   {
    "duration": 71422,
    "start_time": "2023-07-01T18:22:49.354Z"
   },
   {
    "duration": 3,
    "start_time": "2023-07-01T18:24:00.778Z"
   },
   {
    "duration": 22056,
    "start_time": "2023-07-01T18:24:11.803Z"
   },
   {
    "duration": 5005,
    "start_time": "2023-07-01T18:24:33.862Z"
   },
   {
    "duration": 824,
    "start_time": "2023-07-01T18:24:38.869Z"
   },
   {
    "duration": 3,
    "start_time": "2023-07-01T18:24:39.695Z"
   },
   {
    "duration": 102,
    "start_time": "2023-07-01T18:24:41.458Z"
   },
   {
    "duration": 38,
    "start_time": "2023-07-01T18:24:42.010Z"
   },
   {
    "duration": 31439,
    "start_time": "2023-07-01T18:24:47.296Z"
   },
   {
    "duration": 3,
    "start_time": "2023-07-01T18:25:18.736Z"
   },
   {
    "duration": 6,
    "start_time": "2023-07-01T18:25:18.741Z"
   },
   {
    "duration": 7403,
    "start_time": "2023-07-01T18:26:04.424Z"
   },
   {
    "duration": 1594,
    "start_time": "2023-07-01T18:26:11.829Z"
   },
   {
    "duration": 415,
    "start_time": "2023-07-01T18:26:13.425Z"
   },
   {
    "duration": 3,
    "start_time": "2023-07-01T18:26:13.842Z"
   },
   {
    "duration": 994351,
    "start_time": "2023-07-01T18:26:57.761Z"
   },
   {
    "duration": 3,
    "start_time": "2023-07-01T18:43:32.114Z"
   },
   {
    "duration": 15,
    "start_time": "2023-07-01T18:43:32.119Z"
   },
   {
    "duration": 51308,
    "start_time": "2023-07-01T18:43:32.136Z"
   },
   {
    "duration": 12729,
    "start_time": "2023-07-01T18:44:23.446Z"
   },
   {
    "duration": 10,
    "start_time": "2023-07-01T18:44:36.176Z"
   },
   {
    "duration": 0,
    "start_time": "2023-07-01T18:44:36.188Z"
   },
   {
    "duration": 0,
    "start_time": "2023-07-01T18:44:36.189Z"
   },
   {
    "duration": 55,
    "start_time": "2023-07-01T18:46:55.527Z"
   },
   {
    "duration": 3,
    "start_time": "2023-07-01T18:46:57.505Z"
   },
   {
    "duration": 122,
    "start_time": "2023-07-01T18:46:58.761Z"
   },
   {
    "duration": 11,
    "start_time": "2023-07-01T18:47:18.470Z"
   },
   {
    "duration": 2006,
    "start_time": "2023-07-01T18:55:23.425Z"
   },
   {
    "duration": 10,
    "start_time": "2023-07-01T19:00:54.651Z"
   },
   {
    "duration": 4,
    "start_time": "2023-07-01T19:00:57.155Z"
   },
   {
    "duration": 3,
    "start_time": "2023-07-01T19:00:57.880Z"
   },
   {
    "duration": 14711,
    "start_time": "2023-07-01T19:22:20.166Z"
   },
   {
    "duration": 1355,
    "start_time": "2023-07-01T19:22:34.879Z"
   },
   {
    "duration": 3,
    "start_time": "2023-07-01T19:22:36.236Z"
   },
   {
    "duration": 831,
    "start_time": "2023-07-01T19:22:36.241Z"
   },
   {
    "duration": 117,
    "start_time": "2023-07-01T19:22:37.073Z"
   },
   {
    "duration": 25,
    "start_time": "2023-07-01T19:22:37.191Z"
   },
   {
    "duration": 36,
    "start_time": "2023-07-01T19:22:37.217Z"
   },
   {
    "duration": 53,
    "start_time": "2023-07-01T19:22:37.255Z"
   },
   {
    "duration": 103,
    "start_time": "2023-07-01T19:22:37.310Z"
   },
   {
    "duration": 69,
    "start_time": "2023-07-01T19:22:37.416Z"
   },
   {
    "duration": 56,
    "start_time": "2023-07-01T19:22:37.487Z"
   },
   {
    "duration": 473,
    "start_time": "2023-07-01T19:22:37.545Z"
   },
   {
    "duration": 569,
    "start_time": "2023-07-01T19:22:38.020Z"
   },
   {
    "duration": 284,
    "start_time": "2023-07-01T19:22:38.591Z"
   },
   {
    "duration": 48,
    "start_time": "2023-07-01T19:22:38.877Z"
   },
   {
    "duration": 832,
    "start_time": "2023-07-01T19:22:38.927Z"
   },
   {
    "duration": 219,
    "start_time": "2023-07-01T19:22:39.761Z"
   },
   {
    "duration": 512,
    "start_time": "2023-07-01T19:22:39.983Z"
   },
   {
    "duration": 25,
    "start_time": "2023-07-01T19:22:40.497Z"
   },
   {
    "duration": 59,
    "start_time": "2023-07-01T19:22:40.524Z"
   },
   {
    "duration": 318,
    "start_time": "2023-07-01T19:22:40.584Z"
   },
   {
    "duration": 48,
    "start_time": "2023-07-01T19:22:40.904Z"
   },
   {
    "duration": 24,
    "start_time": "2023-07-01T19:22:40.954Z"
   },
   {
    "duration": 72,
    "start_time": "2023-07-01T19:22:40.980Z"
   },
   {
    "duration": 18,
    "start_time": "2023-07-01T19:22:41.054Z"
   },
   {
    "duration": 321,
    "start_time": "2023-07-01T19:22:41.074Z"
   },
   {
    "duration": 15,
    "start_time": "2023-07-01T19:22:41.397Z"
   },
   {
    "duration": 74,
    "start_time": "2023-07-01T19:22:41.417Z"
   },
   {
    "duration": 20,
    "start_time": "2023-07-01T19:22:41.494Z"
   },
   {
    "duration": 714,
    "start_time": "2023-07-01T19:22:41.515Z"
   },
   {
    "duration": 736,
    "start_time": "2023-07-01T19:22:42.231Z"
   },
   {
    "duration": 734,
    "start_time": "2023-07-01T19:22:42.968Z"
   },
   {
    "duration": 21,
    "start_time": "2023-07-01T19:22:43.704Z"
   },
   {
    "duration": 13,
    "start_time": "2023-07-01T19:22:43.727Z"
   },
   {
    "duration": 4,
    "start_time": "2023-07-01T19:22:43.742Z"
   },
   {
    "duration": 9,
    "start_time": "2023-07-01T19:22:43.748Z"
   },
   {
    "duration": 757,
    "start_time": "2023-07-01T19:22:43.759Z"
   },
   {
    "duration": 524,
    "start_time": "2023-07-01T19:22:44.518Z"
   },
   {
    "duration": 4,
    "start_time": "2023-07-01T19:22:45.044Z"
   },
   {
    "duration": 105,
    "start_time": "2023-07-01T19:22:45.049Z"
   },
   {
    "duration": 102,
    "start_time": "2023-07-01T19:22:45.155Z"
   },
   {
    "duration": 89161,
    "start_time": "2023-07-01T19:22:45.258Z"
   },
   {
    "duration": 22412,
    "start_time": "2023-07-01T19:24:14.422Z"
   },
   {
    "duration": 281,
    "start_time": "2023-07-01T19:24:36.836Z"
   },
   {
    "duration": 4,
    "start_time": "2023-07-01T19:24:37.119Z"
   },
   {
    "duration": 7,
    "start_time": "2023-07-01T19:24:37.215Z"
   },
   {
    "duration": 140,
    "start_time": "2023-07-01T19:24:37.223Z"
   },
   {
    "duration": 315,
    "start_time": "2023-07-01T19:24:37.365Z"
   },
   {
    "duration": 20523,
    "start_time": "2023-07-01T19:24:37.682Z"
   },
   {
    "duration": 7,
    "start_time": "2023-07-01T19:24:58.207Z"
   },
   {
    "duration": 932,
    "start_time": "2023-07-01T19:24:58.216Z"
   },
   {
    "duration": 229,
    "start_time": "2023-07-01T19:24:59.150Z"
   },
   {
    "duration": 12,
    "start_time": "2023-07-01T19:24:59.381Z"
   },
   {
    "duration": 3,
    "start_time": "2023-07-01T19:24:59.394Z"
   },
   {
    "duration": 71924,
    "start_time": "2023-07-01T19:24:59.413Z"
   },
   {
    "duration": 3,
    "start_time": "2023-07-01T19:26:11.339Z"
   },
   {
    "duration": 21854,
    "start_time": "2023-07-01T19:26:11.343Z"
   },
   {
    "duration": 4857,
    "start_time": "2023-07-01T19:26:33.198Z"
   },
   {
    "duration": 802,
    "start_time": "2023-07-01T19:26:38.057Z"
   },
   {
    "duration": 3,
    "start_time": "2023-07-01T19:26:38.861Z"
   },
   {
    "duration": 106,
    "start_time": "2023-07-01T19:26:38.865Z"
   },
   {
    "duration": 55,
    "start_time": "2023-07-01T19:26:38.973Z"
   },
   {
    "duration": 31195,
    "start_time": "2023-07-01T19:26:39.029Z"
   },
   {
    "duration": 3,
    "start_time": "2023-07-01T19:27:10.225Z"
   },
   {
    "duration": 5,
    "start_time": "2023-07-01T19:27:10.229Z"
   },
   {
    "duration": 8007,
    "start_time": "2023-07-01T19:27:10.236Z"
   },
   {
    "duration": 1581,
    "start_time": "2023-07-01T19:27:18.244Z"
   },
   {
    "duration": 408,
    "start_time": "2023-07-01T19:27:19.827Z"
   },
   {
    "duration": 3,
    "start_time": "2023-07-01T19:27:20.237Z"
   },
   {
    "duration": 983825,
    "start_time": "2023-07-01T19:27:20.241Z"
   },
   {
    "duration": 4,
    "start_time": "2023-07-01T19:43:44.067Z"
   },
   {
    "duration": 10,
    "start_time": "2023-07-01T19:43:44.072Z"
   },
   {
    "duration": 51125,
    "start_time": "2023-07-01T19:43:44.083Z"
   },
   {
    "duration": 12612,
    "start_time": "2023-07-01T19:44:35.209Z"
   },
   {
    "duration": 56,
    "start_time": "2023-07-01T19:44:47.823Z"
   },
   {
    "duration": 4,
    "start_time": "2023-07-01T19:44:47.880Z"
   },
   {
    "duration": 28,
    "start_time": "2023-07-01T19:44:47.886Z"
   },
   {
    "duration": 1906,
    "start_time": "2023-07-01T19:44:47.917Z"
   },
   {
    "duration": 14034,
    "start_time": "2023-07-02T17:52:39.440Z"
   },
   {
    "duration": 1364,
    "start_time": "2023-07-02T17:52:53.477Z"
   },
   {
    "duration": 3,
    "start_time": "2023-07-02T17:52:54.843Z"
   },
   {
    "duration": 835,
    "start_time": "2023-07-02T17:52:54.848Z"
   },
   {
    "duration": 110,
    "start_time": "2023-07-02T17:52:55.685Z"
   },
   {
    "duration": 19,
    "start_time": "2023-07-02T17:52:55.797Z"
   },
   {
    "duration": 3,
    "start_time": "2023-07-02T17:52:55.818Z"
   },
   {
    "duration": 8,
    "start_time": "2023-07-02T17:52:55.822Z"
   },
   {
    "duration": 106,
    "start_time": "2023-07-02T17:52:55.832Z"
   },
   {
    "duration": 79,
    "start_time": "2023-07-02T17:52:55.941Z"
   },
   {
    "duration": 48,
    "start_time": "2023-07-02T17:52:56.021Z"
   },
   {
    "duration": 472,
    "start_time": "2023-07-02T17:52:56.070Z"
   },
   {
    "duration": 553,
    "start_time": "2023-07-02T17:52:56.543Z"
   },
   {
    "duration": 286,
    "start_time": "2023-07-02T17:52:57.097Z"
   },
   {
    "duration": 45,
    "start_time": "2023-07-02T17:52:57.384Z"
   },
   {
    "duration": 803,
    "start_time": "2023-07-02T17:52:57.430Z"
   },
   {
    "duration": 215,
    "start_time": "2023-07-02T17:52:58.235Z"
   },
   {
    "duration": 473,
    "start_time": "2023-07-02T17:52:58.451Z"
   },
   {
    "duration": 13,
    "start_time": "2023-07-02T17:52:58.925Z"
   },
   {
    "duration": 75,
    "start_time": "2023-07-02T17:52:58.939Z"
   },
   {
    "duration": 297,
    "start_time": "2023-07-02T17:52:59.016Z"
   },
   {
    "duration": 42,
    "start_time": "2023-07-02T17:52:59.315Z"
   },
   {
    "duration": 21,
    "start_time": "2023-07-02T17:52:59.359Z"
   },
   {
    "duration": 58,
    "start_time": "2023-07-02T17:52:59.382Z"
   },
   {
    "duration": 15,
    "start_time": "2023-07-02T17:52:59.442Z"
   },
   {
    "duration": 330,
    "start_time": "2023-07-02T17:52:59.458Z"
   },
   {
    "duration": 3,
    "start_time": "2023-07-02T17:52:59.790Z"
   },
   {
    "duration": 80,
    "start_time": "2023-07-02T17:52:59.797Z"
   },
   {
    "duration": 3,
    "start_time": "2023-07-02T17:52:59.879Z"
   },
   {
    "duration": 747,
    "start_time": "2023-07-02T17:52:59.883Z"
   },
   {
    "duration": 749,
    "start_time": "2023-07-02T17:53:00.632Z"
   },
   {
    "duration": 721,
    "start_time": "2023-07-02T17:53:01.383Z"
   },
   {
    "duration": 271,
    "start_time": "2023-07-02T17:53:02.106Z"
   },
   {
    "duration": 904,
    "start_time": "2023-07-02T17:53:02.379Z"
   },
   {
    "duration": 855,
    "start_time": "2023-07-02T17:53:03.285Z"
   },
   {
    "duration": 490,
    "start_time": "2023-07-02T17:53:04.142Z"
   },
   {
    "duration": 1222,
    "start_time": "2023-07-02T17:53:04.633Z"
   },
   {
    "duration": 792,
    "start_time": "2023-07-02T17:53:05.857Z"
   },
   {
    "duration": 162,
    "start_time": "2023-07-02T17:53:06.651Z"
   },
   {
    "duration": 1633,
    "start_time": "2023-07-02T17:53:06.814Z"
   },
   {
    "duration": 0,
    "start_time": "2023-07-02T17:53:08.449Z"
   },
   {
    "duration": 0,
    "start_time": "2023-07-02T17:53:08.451Z"
   },
   {
    "duration": 0,
    "start_time": "2023-07-02T17:53:08.452Z"
   },
   {
    "duration": 0,
    "start_time": "2023-07-02T17:53:08.453Z"
   },
   {
    "duration": 0,
    "start_time": "2023-07-02T17:53:08.454Z"
   },
   {
    "duration": 0,
    "start_time": "2023-07-02T17:53:08.455Z"
   },
   {
    "duration": 0,
    "start_time": "2023-07-02T17:53:08.456Z"
   },
   {
    "duration": 0,
    "start_time": "2023-07-02T17:53:08.457Z"
   },
   {
    "duration": 0,
    "start_time": "2023-07-02T17:53:08.457Z"
   },
   {
    "duration": 0,
    "start_time": "2023-07-02T17:53:08.458Z"
   },
   {
    "duration": 0,
    "start_time": "2023-07-02T17:53:08.459Z"
   },
   {
    "duration": 0,
    "start_time": "2023-07-02T17:53:08.460Z"
   },
   {
    "duration": 0,
    "start_time": "2023-07-02T17:53:08.461Z"
   },
   {
    "duration": 0,
    "start_time": "2023-07-02T17:53:08.462Z"
   },
   {
    "duration": 0,
    "start_time": "2023-07-02T17:53:08.463Z"
   },
   {
    "duration": 0,
    "start_time": "2023-07-02T17:53:08.464Z"
   },
   {
    "duration": 0,
    "start_time": "2023-07-02T17:53:08.464Z"
   },
   {
    "duration": 0,
    "start_time": "2023-07-02T17:53:08.465Z"
   },
   {
    "duration": 0,
    "start_time": "2023-07-02T17:53:08.466Z"
   },
   {
    "duration": 0,
    "start_time": "2023-07-02T17:53:08.467Z"
   },
   {
    "duration": 0,
    "start_time": "2023-07-02T17:53:08.468Z"
   },
   {
    "duration": 0,
    "start_time": "2023-07-02T17:53:08.469Z"
   },
   {
    "duration": 0,
    "start_time": "2023-07-02T17:53:08.470Z"
   },
   {
    "duration": 0,
    "start_time": "2023-07-02T17:53:08.471Z"
   },
   {
    "duration": 0,
    "start_time": "2023-07-02T17:53:08.472Z"
   },
   {
    "duration": 0,
    "start_time": "2023-07-02T17:53:08.473Z"
   },
   {
    "duration": 0,
    "start_time": "2023-07-02T17:53:08.474Z"
   },
   {
    "duration": 0,
    "start_time": "2023-07-02T17:53:08.475Z"
   },
   {
    "duration": 0,
    "start_time": "2023-07-02T17:53:08.476Z"
   },
   {
    "duration": 0,
    "start_time": "2023-07-02T17:53:08.514Z"
   },
   {
    "duration": 0,
    "start_time": "2023-07-02T17:53:08.515Z"
   },
   {
    "duration": 0,
    "start_time": "2023-07-02T17:53:08.516Z"
   },
   {
    "duration": 0,
    "start_time": "2023-07-02T17:53:08.517Z"
   },
   {
    "duration": 0,
    "start_time": "2023-07-02T17:53:08.518Z"
   },
   {
    "duration": 0,
    "start_time": "2023-07-02T17:53:08.519Z"
   },
   {
    "duration": 0,
    "start_time": "2023-07-02T17:53:08.520Z"
   },
   {
    "duration": 0,
    "start_time": "2023-07-02T17:53:08.521Z"
   },
   {
    "duration": 4778,
    "start_time": "2023-07-02T17:54:24.190Z"
   },
   {
    "duration": 3,
    "start_time": "2023-07-02T17:54:36.724Z"
   },
   {
    "duration": 47,
    "start_time": "2023-07-02T17:55:15.022Z"
   },
   {
    "duration": 10,
    "start_time": "2023-07-02T17:55:23.848Z"
   },
   {
    "duration": 14842,
    "start_time": "2023-07-02T17:55:32.174Z"
   },
   {
    "duration": 1401,
    "start_time": "2023-07-02T17:55:47.018Z"
   },
   {
    "duration": 3,
    "start_time": "2023-07-02T17:55:48.421Z"
   },
   {
    "duration": 2959,
    "start_time": "2023-07-02T17:55:48.425Z"
   },
   {
    "duration": 102,
    "start_time": "2023-07-02T17:55:51.386Z"
   },
   {
    "duration": 32,
    "start_time": "2023-07-02T17:55:51.490Z"
   },
   {
    "duration": 5,
    "start_time": "2023-07-02T17:55:51.523Z"
   },
   {
    "duration": 26,
    "start_time": "2023-07-02T17:55:51.530Z"
   },
   {
    "duration": 94,
    "start_time": "2023-07-02T17:55:51.558Z"
   },
   {
    "duration": 77,
    "start_time": "2023-07-02T17:55:51.655Z"
   },
   {
    "duration": 39,
    "start_time": "2023-07-02T17:55:51.734Z"
   },
   {
    "duration": 461,
    "start_time": "2023-07-02T17:55:51.775Z"
   },
   {
    "duration": 541,
    "start_time": "2023-07-02T17:55:52.237Z"
   },
   {
    "duration": 301,
    "start_time": "2023-07-02T17:55:52.780Z"
   },
   {
    "duration": 43,
    "start_time": "2023-07-02T17:55:53.083Z"
   },
   {
    "duration": 799,
    "start_time": "2023-07-02T17:55:53.127Z"
   },
   {
    "duration": 221,
    "start_time": "2023-07-02T17:55:53.929Z"
   },
   {
    "duration": 459,
    "start_time": "2023-07-02T17:55:54.151Z"
   },
   {
    "duration": 12,
    "start_time": "2023-07-02T17:55:54.611Z"
   },
   {
    "duration": 54,
    "start_time": "2023-07-02T17:55:54.625Z"
   },
   {
    "duration": 309,
    "start_time": "2023-07-02T17:55:54.681Z"
   },
   {
    "duration": 51,
    "start_time": "2023-07-02T17:55:54.991Z"
   },
   {
    "duration": 21,
    "start_time": "2023-07-02T17:55:55.043Z"
   },
   {
    "duration": 55,
    "start_time": "2023-07-02T17:55:55.066Z"
   },
   {
    "duration": 16,
    "start_time": "2023-07-02T17:55:55.123Z"
   },
   {
    "duration": 306,
    "start_time": "2023-07-02T17:55:55.141Z"
   },
   {
    "duration": 3,
    "start_time": "2023-07-02T17:55:55.448Z"
   },
   {
    "duration": 81,
    "start_time": "2023-07-02T17:55:55.455Z"
   },
   {
    "duration": 3,
    "start_time": "2023-07-02T17:55:55.537Z"
   },
   {
    "duration": 716,
    "start_time": "2023-07-02T17:55:55.542Z"
   },
   {
    "duration": 699,
    "start_time": "2023-07-02T17:55:56.260Z"
   },
   {
    "duration": 703,
    "start_time": "2023-07-02T17:55:56.961Z"
   },
   {
    "duration": 13,
    "start_time": "2023-07-02T17:55:57.666Z"
   },
   {
    "duration": 4,
    "start_time": "2023-07-02T17:55:57.681Z"
   },
   {
    "duration": 3,
    "start_time": "2023-07-02T17:55:57.687Z"
   },
   {
    "duration": 22,
    "start_time": "2023-07-02T17:55:57.691Z"
   },
   {
    "duration": 2,
    "start_time": "2023-07-02T17:55:57.715Z"
   },
   {
    "duration": 79,
    "start_time": "2023-07-02T17:55:57.719Z"
   },
   {
    "duration": 3,
    "start_time": "2023-07-02T17:55:57.813Z"
   },
   {
    "duration": 4723,
    "start_time": "2023-07-02T17:55:57.818Z"
   },
   {
    "duration": 19,
    "start_time": "2023-07-02T17:56:02.543Z"
   },
   {
    "duration": 18,
    "start_time": "2023-07-02T17:56:02.564Z"
   },
   {
    "duration": 50,
    "start_time": "2023-07-02T17:57:41.491Z"
   },
   {
    "duration": 14966,
    "start_time": "2023-07-02T17:57:47.315Z"
   },
   {
    "duration": 1485,
    "start_time": "2023-07-02T17:58:02.283Z"
   },
   {
    "duration": 3,
    "start_time": "2023-07-02T17:58:03.770Z"
   },
   {
    "duration": 2892,
    "start_time": "2023-07-02T17:58:03.775Z"
   },
   {
    "duration": 95,
    "start_time": "2023-07-02T17:58:06.669Z"
   },
   {
    "duration": 18,
    "start_time": "2023-07-02T17:58:06.766Z"
   },
   {
    "duration": 15,
    "start_time": "2023-07-02T17:58:06.785Z"
   },
   {
    "duration": 21,
    "start_time": "2023-07-02T17:58:06.801Z"
   },
   {
    "duration": 112,
    "start_time": "2023-07-02T17:58:06.824Z"
   },
   {
    "duration": 67,
    "start_time": "2023-07-02T17:58:06.939Z"
   },
   {
    "duration": 37,
    "start_time": "2023-07-02T17:58:07.007Z"
   },
   {
    "duration": 441,
    "start_time": "2023-07-02T17:58:07.045Z"
   },
   {
    "duration": 532,
    "start_time": "2023-07-02T17:58:07.487Z"
   },
   {
    "duration": 283,
    "start_time": "2023-07-02T17:58:08.021Z"
   },
   {
    "duration": 40,
    "start_time": "2023-07-02T17:58:08.312Z"
   },
   {
    "duration": 800,
    "start_time": "2023-07-02T17:58:08.354Z"
   },
   {
    "duration": 212,
    "start_time": "2023-07-02T17:58:09.155Z"
   },
   {
    "duration": 483,
    "start_time": "2023-07-02T17:58:09.368Z"
   },
   {
    "duration": 12,
    "start_time": "2023-07-02T17:58:09.853Z"
   },
   {
    "duration": 77,
    "start_time": "2023-07-02T17:58:09.867Z"
   },
   {
    "duration": 288,
    "start_time": "2023-07-02T17:58:09.946Z"
   },
   {
    "duration": 41,
    "start_time": "2023-07-02T17:58:10.236Z"
   },
   {
    "duration": 35,
    "start_time": "2023-07-02T17:58:10.279Z"
   },
   {
    "duration": 41,
    "start_time": "2023-07-02T17:58:10.316Z"
   },
   {
    "duration": 15,
    "start_time": "2023-07-02T17:58:10.359Z"
   },
   {
    "duration": 314,
    "start_time": "2023-07-02T17:58:10.375Z"
   },
   {
    "duration": 5,
    "start_time": "2023-07-02T17:58:10.691Z"
   },
   {
    "duration": 86,
    "start_time": "2023-07-02T17:58:10.701Z"
   },
   {
    "duration": 3,
    "start_time": "2023-07-02T17:58:10.789Z"
   },
   {
    "duration": 721,
    "start_time": "2023-07-02T17:58:10.793Z"
   },
   {
    "duration": 715,
    "start_time": "2023-07-02T17:58:11.515Z"
   },
   {
    "duration": 711,
    "start_time": "2023-07-02T17:58:12.231Z"
   },
   {
    "duration": 14,
    "start_time": "2023-07-02T17:58:12.943Z"
   },
   {
    "duration": 19,
    "start_time": "2023-07-02T17:58:12.958Z"
   },
   {
    "duration": 27,
    "start_time": "2023-07-02T17:58:12.978Z"
   },
   {
    "duration": 21,
    "start_time": "2023-07-02T17:58:13.006Z"
   },
   {
    "duration": 42,
    "start_time": "2023-07-02T17:58:13.029Z"
   },
   {
    "duration": 105,
    "start_time": "2023-07-02T17:58:13.073Z"
   },
   {
    "duration": 4,
    "start_time": "2023-07-02T17:58:13.179Z"
   },
   {
    "duration": 72,
    "start_time": "2023-07-02T17:58:13.184Z"
   },
   {
    "duration": 4531,
    "start_time": "2023-07-02T17:58:13.258Z"
   },
   {
    "duration": 25,
    "start_time": "2023-07-02T17:58:17.791Z"
   },
   {
    "duration": 13,
    "start_time": "2023-07-02T17:58:17.817Z"
   },
   {
    "duration": 15125,
    "start_time": "2023-07-02T18:00:31.955Z"
   },
   {
    "duration": 1369,
    "start_time": "2023-07-02T18:00:47.157Z"
   },
   {
    "duration": 5,
    "start_time": "2023-07-02T18:00:49.168Z"
   },
   {
    "duration": 2903,
    "start_time": "2023-07-02T18:00:49.767Z"
   },
   {
    "duration": 95,
    "start_time": "2023-07-02T18:00:52.672Z"
   },
   {
    "duration": 16,
    "start_time": "2023-07-02T18:00:52.769Z"
   },
   {
    "duration": 3,
    "start_time": "2023-07-02T18:00:52.787Z"
   },
   {
    "duration": 4,
    "start_time": "2023-07-02T18:00:52.892Z"
   },
   {
    "duration": 88,
    "start_time": "2023-07-02T18:00:55.120Z"
   },
   {
    "duration": 69,
    "start_time": "2023-07-02T18:00:56.261Z"
   },
   {
    "duration": 35,
    "start_time": "2023-07-02T18:00:57.926Z"
   },
   {
    "duration": 483,
    "start_time": "2023-07-02T18:00:59.145Z"
   },
   {
    "duration": 578,
    "start_time": "2023-07-02T18:01:00.185Z"
   },
   {
    "duration": 298,
    "start_time": "2023-07-02T18:01:01.288Z"
   },
   {
    "duration": 48,
    "start_time": "2023-07-02T18:01:03.100Z"
   },
   {
    "duration": 824,
    "start_time": "2023-07-02T18:01:03.913Z"
   },
   {
    "duration": 218,
    "start_time": "2023-07-02T18:01:07.507Z"
   },
   {
    "duration": 470,
    "start_time": "2023-07-02T18:01:08.100Z"
   },
   {
    "duration": 12,
    "start_time": "2023-07-02T18:01:08.572Z"
   },
   {
    "duration": 55,
    "start_time": "2023-07-02T18:01:10.286Z"
   },
   {
    "duration": 305,
    "start_time": "2023-07-02T18:01:12.490Z"
   },
   {
    "duration": 76,
    "start_time": "2023-07-02T18:01:12.998Z"
   },
   {
    "duration": 23,
    "start_time": "2023-07-02T18:01:14.004Z"
   },
   {
    "duration": 41,
    "start_time": "2023-07-02T18:01:14.436Z"
   },
   {
    "duration": 16,
    "start_time": "2023-07-02T18:01:20.426Z"
   },
   {
    "duration": 1152,
    "start_time": "2023-07-02T18:01:20.444Z"
   },
   {
    "duration": 4,
    "start_time": "2023-07-02T18:01:22.686Z"
   },
   {
    "duration": 71,
    "start_time": "2023-07-02T18:01:23.195Z"
   },
   {
    "duration": 3,
    "start_time": "2023-07-02T18:01:28.052Z"
   },
   {
    "duration": 707,
    "start_time": "2023-07-02T18:01:30.406Z"
   },
   {
    "duration": 712,
    "start_time": "2023-07-02T18:01:31.522Z"
   },
   {
    "duration": 726,
    "start_time": "2023-07-02T18:01:32.297Z"
   },
   {
    "duration": 15,
    "start_time": "2023-07-02T18:01:33.925Z"
   },
   {
    "duration": 4,
    "start_time": "2023-07-02T18:01:35.188Z"
   },
   {
    "duration": 3,
    "start_time": "2023-07-02T18:01:42.460Z"
   },
   {
    "duration": 4,
    "start_time": "2023-07-02T18:01:44.746Z"
   },
   {
    "duration": 2,
    "start_time": "2023-07-02T18:01:46.990Z"
   },
   {
    "duration": 81,
    "start_time": "2023-07-02T18:01:48.598Z"
   },
   {
    "duration": 4,
    "start_time": "2023-07-02T18:01:49.862Z"
   },
   {
    "duration": 42,
    "start_time": "2023-07-02T18:01:54.090Z"
   },
   {
    "duration": 1705,
    "start_time": "2023-07-02T18:02:05.341Z"
   },
   {
    "duration": 17,
    "start_time": "2023-07-02T18:02:10.407Z"
   },
   {
    "duration": 21,
    "start_time": "2023-07-02T18:02:58.589Z"
   },
   {
    "duration": 17,
    "start_time": "2023-07-02T18:03:09.948Z"
   },
   {
    "duration": 3,
    "start_time": "2023-07-02T18:03:31.956Z"
   },
   {
    "duration": 16,
    "start_time": "2023-07-02T18:03:33.807Z"
   },
   {
    "duration": 15,
    "start_time": "2023-07-02T18:03:39.957Z"
   },
   {
    "duration": 6,
    "start_time": "2023-07-02T18:04:03.958Z"
   },
   {
    "duration": 10,
    "start_time": "2023-07-02T18:04:07.585Z"
   },
   {
    "duration": 25,
    "start_time": "2023-07-02T18:04:31.908Z"
   },
   {
    "duration": 8,
    "start_time": "2023-07-02T18:05:05.326Z"
   },
   {
    "duration": 2873,
    "start_time": "2023-07-02T18:06:14.298Z"
   },
   {
    "duration": 18,
    "start_time": "2023-07-02T18:06:26.954Z"
   },
   {
    "duration": 21,
    "start_time": "2023-07-02T18:06:56.738Z"
   },
   {
    "duration": 3,
    "start_time": "2023-07-02T18:07:15.141Z"
   },
   {
    "duration": 62,
    "start_time": "2023-07-02T18:08:59.603Z"
   },
   {
    "duration": 15998,
    "start_time": "2023-07-02T18:09:14.245Z"
   },
   {
    "duration": 1403,
    "start_time": "2023-07-02T18:09:30.246Z"
   },
   {
    "duration": 3,
    "start_time": "2023-07-02T18:09:31.650Z"
   },
   {
    "duration": 3058,
    "start_time": "2023-07-02T18:09:31.656Z"
   },
   {
    "duration": 116,
    "start_time": "2023-07-02T18:09:34.716Z"
   },
   {
    "duration": 17,
    "start_time": "2023-07-02T18:09:34.834Z"
   },
   {
    "duration": 3,
    "start_time": "2023-07-02T18:09:34.853Z"
   },
   {
    "duration": 6,
    "start_time": "2023-07-02T18:09:34.858Z"
   },
   {
    "duration": 128,
    "start_time": "2023-07-02T18:09:34.866Z"
   },
   {
    "duration": 90,
    "start_time": "2023-07-02T18:09:34.996Z"
   },
   {
    "duration": 56,
    "start_time": "2023-07-02T18:09:35.087Z"
   },
   {
    "duration": 494,
    "start_time": "2023-07-02T18:09:35.145Z"
   },
   {
    "duration": 575,
    "start_time": "2023-07-02T18:09:35.641Z"
   },
   {
    "duration": 304,
    "start_time": "2023-07-02T18:09:36.217Z"
   },
   {
    "duration": 41,
    "start_time": "2023-07-02T18:09:36.523Z"
   },
   {
    "duration": 849,
    "start_time": "2023-07-02T18:09:36.566Z"
   },
   {
    "duration": 231,
    "start_time": "2023-07-02T18:09:37.417Z"
   },
   {
    "duration": 510,
    "start_time": "2023-07-02T18:09:37.649Z"
   },
   {
    "duration": 14,
    "start_time": "2023-07-02T18:09:38.161Z"
   },
   {
    "duration": 84,
    "start_time": "2023-07-02T18:09:38.177Z"
   },
   {
    "duration": 316,
    "start_time": "2023-07-02T18:09:38.263Z"
   },
   {
    "duration": 50,
    "start_time": "2023-07-02T18:09:38.581Z"
   },
   {
    "duration": 1024,
    "start_time": "2023-07-02T18:09:38.632Z"
   },
   {
    "duration": 205,
    "start_time": "2023-07-02T18:09:39.658Z"
   },
   {
    "duration": 62,
    "start_time": "2023-07-02T18:09:39.866Z"
   },
   {
    "duration": 611,
    "start_time": "2023-07-02T18:09:39.929Z"
   },
   {
    "duration": 590,
    "start_time": "2023-07-02T18:09:40.543Z"
   },
   {
    "duration": 877,
    "start_time": "2023-07-02T18:09:41.139Z"
   },
   {
    "duration": 466,
    "start_time": "2023-07-02T18:09:42.018Z"
   },
   {
    "duration": 2137,
    "start_time": "2023-07-02T18:09:42.485Z"
   },
   {
    "duration": 746,
    "start_time": "2023-07-02T18:09:44.624Z"
   },
   {
    "duration": 727,
    "start_time": "2023-07-02T18:09:45.373Z"
   },
   {
    "duration": 22,
    "start_time": "2023-07-02T18:09:46.101Z"
   },
   {
    "duration": 18,
    "start_time": "2023-07-02T18:09:46.125Z"
   },
   {
    "duration": 17,
    "start_time": "2023-07-02T18:09:46.145Z"
   },
   {
    "duration": 24,
    "start_time": "2023-07-02T18:09:46.163Z"
   },
   {
    "duration": 21,
    "start_time": "2023-07-02T18:09:46.189Z"
   },
   {
    "duration": 86,
    "start_time": "2023-07-02T18:09:46.212Z"
   },
   {
    "duration": 4,
    "start_time": "2023-07-02T18:09:46.300Z"
   },
   {
    "duration": 61,
    "start_time": "2023-07-02T18:09:46.306Z"
   },
   {
    "duration": 1726,
    "start_time": "2023-07-02T18:09:46.369Z"
   },
   {
    "duration": 3,
    "start_time": "2023-07-02T18:09:48.096Z"
   },
   {
    "duration": 18,
    "start_time": "2023-07-02T18:09:48.101Z"
   },
   {
    "duration": 3215,
    "start_time": "2023-07-02T18:09:48.121Z"
   },
   {
    "duration": 3,
    "start_time": "2023-07-02T18:09:51.338Z"
   },
   {
    "duration": 6754,
    "start_time": "2023-07-02T18:20:19.104Z"
   },
   {
    "duration": 3149,
    "start_time": "2023-07-02T18:21:14.747Z"
   },
   {
    "duration": 3,
    "start_time": "2023-07-02T18:21:17.898Z"
   },
   {
    "duration": 3057,
    "start_time": "2023-07-02T18:21:17.902Z"
   },
   {
    "duration": 112,
    "start_time": "2023-07-02T18:21:20.961Z"
   },
   {
    "duration": 31,
    "start_time": "2023-07-02T18:21:21.074Z"
   },
   {
    "duration": 9,
    "start_time": "2023-07-02T18:21:21.108Z"
   },
   {
    "duration": 4,
    "start_time": "2023-07-02T18:21:24.893Z"
   },
   {
    "duration": 93,
    "start_time": "2023-07-02T18:21:26.588Z"
   },
   {
    "duration": 71,
    "start_time": "2023-07-02T18:21:27.114Z"
   },
   {
    "duration": 35,
    "start_time": "2023-07-02T18:21:27.705Z"
   },
   {
    "duration": 462,
    "start_time": "2023-07-02T18:21:28.742Z"
   },
   {
    "duration": 567,
    "start_time": "2023-07-02T18:21:30.021Z"
   },
   {
    "duration": 282,
    "start_time": "2023-07-02T18:21:31.844Z"
   },
   {
    "duration": 40,
    "start_time": "2023-07-02T18:21:35.795Z"
   },
   {
    "duration": 807,
    "start_time": "2023-07-02T18:21:36.494Z"
   },
   {
    "duration": 229,
    "start_time": "2023-07-02T18:21:39.152Z"
   },
   {
    "duration": 483,
    "start_time": "2023-07-02T18:21:39.704Z"
   },
   {
    "duration": 13,
    "start_time": "2023-07-02T18:21:40.300Z"
   },
   {
    "duration": 54,
    "start_time": "2023-07-02T18:21:41.929Z"
   },
   {
    "duration": 305,
    "start_time": "2023-07-02T18:21:47.156Z"
   },
   {
    "duration": 48,
    "start_time": "2023-07-02T18:21:47.590Z"
   },
   {
    "duration": 21,
    "start_time": "2023-07-02T18:21:48.760Z"
   },
   {
    "duration": 41,
    "start_time": "2023-07-02T18:21:49.291Z"
   },
   {
    "duration": 16,
    "start_time": "2023-07-02T18:21:50.822Z"
   },
   {
    "duration": 312,
    "start_time": "2023-07-02T18:21:51.489Z"
   },
   {
    "duration": 3,
    "start_time": "2023-07-02T18:21:53.256Z"
   },
   {
    "duration": 74,
    "start_time": "2023-07-02T18:21:54.098Z"
   },
   {
    "duration": 3,
    "start_time": "2023-07-02T18:21:58.903Z"
   },
   {
    "duration": 753,
    "start_time": "2023-07-02T18:21:59.301Z"
   },
   {
    "duration": 735,
    "start_time": "2023-07-02T18:22:00.056Z"
   },
   {
    "duration": 732,
    "start_time": "2023-07-02T18:22:00.794Z"
   },
   {
    "duration": 15,
    "start_time": "2023-07-02T18:22:05.012Z"
   },
   {
    "duration": 5,
    "start_time": "2023-07-02T18:22:06.435Z"
   },
   {
    "duration": 2,
    "start_time": "2023-07-02T18:22:11.399Z"
   },
   {
    "duration": 4,
    "start_time": "2023-07-02T18:22:14.607Z"
   },
   {
    "duration": 2,
    "start_time": "2023-07-02T18:22:16.615Z"
   },
   {
    "duration": 81,
    "start_time": "2023-07-02T18:22:17.494Z"
   },
   {
    "duration": 4,
    "start_time": "2023-07-02T18:22:18.290Z"
   },
   {
    "duration": 45,
    "start_time": "2023-07-02T18:22:19.189Z"
   },
   {
    "duration": 1185,
    "start_time": "2023-07-02T18:23:23.094Z"
   },
   {
    "duration": 3,
    "start_time": "2023-07-02T18:23:25.149Z"
   },
   {
    "duration": 6,
    "start_time": "2023-07-02T18:23:25.811Z"
   },
   {
    "duration": 3098,
    "start_time": "2023-07-02T18:23:26.330Z"
   },
   {
    "duration": 3,
    "start_time": "2023-07-02T18:23:33.739Z"
   },
   {
    "duration": 48,
    "start_time": "2023-07-02T18:23:59.323Z"
   },
   {
    "duration": 2128,
    "start_time": "2023-07-02T18:24:11.469Z"
   },
   {
    "duration": 3683,
    "start_time": "2023-07-02T18:24:13.599Z"
   },
   {
    "duration": 2,
    "start_time": "2023-07-02T18:24:17.284Z"
   },
   {
    "duration": 3000,
    "start_time": "2023-07-02T18:24:17.288Z"
   },
   {
    "duration": 117,
    "start_time": "2023-07-02T18:24:20.289Z"
   },
   {
    "duration": 19,
    "start_time": "2023-07-02T18:24:20.408Z"
   },
   {
    "duration": 3,
    "start_time": "2023-07-02T18:24:20.429Z"
   },
   {
    "duration": 24,
    "start_time": "2023-07-02T18:24:20.433Z"
   },
   {
    "duration": 118,
    "start_time": "2023-07-02T18:24:20.458Z"
   },
   {
    "duration": 80,
    "start_time": "2023-07-02T18:24:20.579Z"
   },
   {
    "duration": 53,
    "start_time": "2023-07-02T18:24:20.661Z"
   },
   {
    "duration": 456,
    "start_time": "2023-07-02T18:24:20.715Z"
   },
   {
    "duration": 608,
    "start_time": "2023-07-02T18:24:21.173Z"
   },
   {
    "duration": 283,
    "start_time": "2023-07-02T18:24:21.783Z"
   },
   {
    "duration": 49,
    "start_time": "2023-07-02T18:24:22.068Z"
   },
   {
    "duration": 814,
    "start_time": "2023-07-02T18:24:22.119Z"
   },
   {
    "duration": 230,
    "start_time": "2023-07-02T18:24:22.935Z"
   },
   {
    "duration": 517,
    "start_time": "2023-07-02T18:24:23.166Z"
   },
   {
    "duration": 13,
    "start_time": "2023-07-02T18:24:23.685Z"
   },
   {
    "duration": 59,
    "start_time": "2023-07-02T18:24:23.713Z"
   },
   {
    "duration": 327,
    "start_time": "2023-07-02T18:24:23.774Z"
   },
   {
    "duration": 47,
    "start_time": "2023-07-02T18:24:24.103Z"
   },
   {
    "duration": 23,
    "start_time": "2023-07-02T18:24:24.152Z"
   },
   {
    "duration": 64,
    "start_time": "2023-07-02T18:24:24.177Z"
   },
   {
    "duration": 17,
    "start_time": "2023-07-02T18:24:24.243Z"
   },
   {
    "duration": 319,
    "start_time": "2023-07-02T18:24:24.262Z"
   },
   {
    "duration": 4,
    "start_time": "2023-07-02T18:24:24.584Z"
   },
   {
    "duration": 99,
    "start_time": "2023-07-02T18:24:24.594Z"
   },
   {
    "duration": 4,
    "start_time": "2023-07-02T18:24:24.695Z"
   },
   {
    "duration": 755,
    "start_time": "2023-07-02T18:24:24.701Z"
   },
   {
    "duration": 743,
    "start_time": "2023-07-02T18:24:25.458Z"
   },
   {
    "duration": 744,
    "start_time": "2023-07-02T18:24:26.203Z"
   },
   {
    "duration": 16,
    "start_time": "2023-07-02T18:24:26.949Z"
   },
   {
    "duration": 5,
    "start_time": "2023-07-02T18:24:26.967Z"
   },
   {
    "duration": 20,
    "start_time": "2023-07-02T18:24:26.974Z"
   },
   {
    "duration": 17,
    "start_time": "2023-07-02T18:24:26.996Z"
   },
   {
    "duration": 23,
    "start_time": "2023-07-02T18:24:27.014Z"
   },
   {
    "duration": 106,
    "start_time": "2023-07-02T18:24:27.039Z"
   },
   {
    "duration": 4,
    "start_time": "2023-07-02T18:24:27.147Z"
   },
   {
    "duration": 60,
    "start_time": "2023-07-02T18:24:27.154Z"
   },
   {
    "duration": 1197,
    "start_time": "2023-07-02T18:24:27.216Z"
   },
   {
    "duration": 3,
    "start_time": "2023-07-02T18:24:28.415Z"
   },
   {
    "duration": 7,
    "start_time": "2023-07-02T18:24:28.420Z"
   },
   {
    "duration": 3158,
    "start_time": "2023-07-02T18:24:28.429Z"
   },
   {
    "duration": 4,
    "start_time": "2023-07-02T18:24:31.589Z"
   },
   {
    "duration": 48,
    "start_time": "2023-07-02T18:27:27.651Z"
   },
   {
    "duration": 2120,
    "start_time": "2023-07-02T18:27:35.087Z"
   },
   {
    "duration": 3766,
    "start_time": "2023-07-02T18:27:37.209Z"
   },
   {
    "duration": 3,
    "start_time": "2023-07-02T18:27:40.977Z"
   },
   {
    "duration": 3001,
    "start_time": "2023-07-02T18:27:40.982Z"
   },
   {
    "duration": 118,
    "start_time": "2023-07-02T18:27:43.985Z"
   },
   {
    "duration": 23,
    "start_time": "2023-07-02T18:27:44.104Z"
   },
   {
    "duration": 4,
    "start_time": "2023-07-02T18:27:44.129Z"
   },
   {
    "duration": 20,
    "start_time": "2023-07-02T18:27:44.135Z"
   },
   {
    "duration": 110,
    "start_time": "2023-07-02T18:27:44.157Z"
   },
   {
    "duration": 79,
    "start_time": "2023-07-02T18:27:44.270Z"
   },
   {
    "duration": 40,
    "start_time": "2023-07-02T18:27:44.351Z"
   },
   {
    "duration": 482,
    "start_time": "2023-07-02T18:27:44.392Z"
   },
   {
    "duration": 575,
    "start_time": "2023-07-02T18:27:44.876Z"
   },
   {
    "duration": 303,
    "start_time": "2023-07-02T18:27:45.453Z"
   },
   {
    "duration": 43,
    "start_time": "2023-07-02T18:27:45.758Z"
   },
   {
    "duration": 802,
    "start_time": "2023-07-02T18:27:45.814Z"
   },
   {
    "duration": 226,
    "start_time": "2023-07-02T18:27:46.618Z"
   },
   {
    "duration": 518,
    "start_time": "2023-07-02T18:27:46.846Z"
   },
   {
    "duration": 13,
    "start_time": "2023-07-02T18:27:47.365Z"
   },
   {
    "duration": 73,
    "start_time": "2023-07-02T18:27:47.380Z"
   },
   {
    "duration": 305,
    "start_time": "2023-07-02T18:27:47.454Z"
   },
   {
    "duration": 52,
    "start_time": "2023-07-02T18:27:47.761Z"
   },
   {
    "duration": 21,
    "start_time": "2023-07-02T18:27:47.815Z"
   },
   {
    "duration": 92,
    "start_time": "2023-07-02T18:27:47.838Z"
   },
   {
    "duration": 16,
    "start_time": "2023-07-02T18:27:47.932Z"
   },
   {
    "duration": 332,
    "start_time": "2023-07-02T18:27:47.949Z"
   },
   {
    "duration": 4,
    "start_time": "2023-07-02T18:27:48.282Z"
   },
   {
    "duration": 91,
    "start_time": "2023-07-02T18:27:48.291Z"
   },
   {
    "duration": 4,
    "start_time": "2023-07-02T18:27:48.384Z"
   },
   {
    "duration": 777,
    "start_time": "2023-07-02T18:27:48.390Z"
   },
   {
    "duration": 755,
    "start_time": "2023-07-02T18:27:49.169Z"
   },
   {
    "duration": 732,
    "start_time": "2023-07-02T18:27:49.926Z"
   },
   {
    "duration": 14,
    "start_time": "2023-07-02T18:27:50.660Z"
   },
   {
    "duration": 13,
    "start_time": "2023-07-02T18:27:50.676Z"
   },
   {
    "duration": 10,
    "start_time": "2023-07-02T18:27:50.690Z"
   },
   {
    "duration": 17,
    "start_time": "2023-07-02T18:27:50.701Z"
   },
   {
    "duration": 23,
    "start_time": "2023-07-02T18:27:50.720Z"
   },
   {
    "duration": 22,
    "start_time": "2023-07-02T18:27:50.744Z"
   },
   {
    "duration": 91,
    "start_time": "2023-07-02T18:27:50.768Z"
   },
   {
    "duration": 4,
    "start_time": "2023-07-02T18:27:50.860Z"
   },
   {
    "duration": 78,
    "start_time": "2023-07-02T18:27:50.866Z"
   },
   {
    "duration": 1268,
    "start_time": "2023-07-02T18:27:50.945Z"
   },
   {
    "duration": 3,
    "start_time": "2023-07-02T18:27:52.215Z"
   },
   {
    "duration": 32,
    "start_time": "2023-07-02T18:27:52.219Z"
   },
   {
    "duration": 3033,
    "start_time": "2023-07-02T18:27:52.252Z"
   },
   {
    "duration": 3,
    "start_time": "2023-07-02T18:27:55.287Z"
   },
   {
    "duration": 49,
    "start_time": "2023-07-02T18:42:16.838Z"
   },
   {
    "duration": 1966,
    "start_time": "2023-07-02T18:42:36.095Z"
   },
   {
    "duration": 3253,
    "start_time": "2023-07-02T18:42:38.064Z"
   },
   {
    "duration": 3,
    "start_time": "2023-07-02T18:42:41.319Z"
   },
   {
    "duration": 2936,
    "start_time": "2023-07-02T18:42:41.324Z"
   },
   {
    "duration": 107,
    "start_time": "2023-07-02T18:42:44.262Z"
   },
   {
    "duration": 17,
    "start_time": "2023-07-02T18:42:44.371Z"
   },
   {
    "duration": 3,
    "start_time": "2023-07-02T18:42:44.390Z"
   },
   {
    "duration": 5,
    "start_time": "2023-07-02T18:42:44.395Z"
   },
   {
    "duration": 103,
    "start_time": "2023-07-02T18:42:44.401Z"
   },
   {
    "duration": 72,
    "start_time": "2023-07-02T18:42:44.512Z"
   },
   {
    "duration": 51,
    "start_time": "2023-07-02T18:42:44.586Z"
   },
   {
    "duration": 476,
    "start_time": "2023-07-02T18:42:44.639Z"
   },
   {
    "duration": 541,
    "start_time": "2023-07-02T18:42:46.290Z"
   },
   {
    "duration": 290,
    "start_time": "2023-07-02T18:42:47.798Z"
   },
   {
    "duration": 41,
    "start_time": "2023-07-02T18:42:49.707Z"
   },
   {
    "duration": 789,
    "start_time": "2023-07-02T18:42:50.388Z"
   },
   {
    "duration": 221,
    "start_time": "2023-07-02T18:42:53.195Z"
   },
   {
    "duration": 447,
    "start_time": "2023-07-02T18:42:54.377Z"
   },
   {
    "duration": 13,
    "start_time": "2023-07-02T18:42:55.202Z"
   },
   {
    "duration": 56,
    "start_time": "2023-07-02T18:42:57.410Z"
   },
   {
    "duration": 294,
    "start_time": "2023-07-02T18:43:01.090Z"
   },
   {
    "duration": 42,
    "start_time": "2023-07-02T18:43:01.614Z"
   },
   {
    "duration": 22,
    "start_time": "2023-07-02T18:43:02.240Z"
   },
   {
    "duration": 41,
    "start_time": "2023-07-02T18:43:02.506Z"
   },
   {
    "duration": 14,
    "start_time": "2023-07-02T18:43:03.456Z"
   },
   {
    "duration": 327,
    "start_time": "2023-07-02T18:43:03.706Z"
   },
   {
    "duration": 4,
    "start_time": "2023-07-02T18:43:04.591Z"
   },
   {
    "duration": 71,
    "start_time": "2023-07-02T18:43:05.029Z"
   },
   {
    "duration": 4,
    "start_time": "2023-07-02T18:43:12.543Z"
   },
   {
    "duration": 731,
    "start_time": "2023-07-02T18:43:13.095Z"
   },
   {
    "duration": 716,
    "start_time": "2023-07-02T18:43:13.828Z"
   },
   {
    "duration": 707,
    "start_time": "2023-07-02T18:43:14.593Z"
   },
   {
    "duration": 15,
    "start_time": "2023-07-02T18:43:15.488Z"
   },
   {
    "duration": 4,
    "start_time": "2023-07-02T18:43:15.792Z"
   },
   {
    "duration": 3,
    "start_time": "2023-07-02T18:43:21.321Z"
   },
   {
    "duration": 3,
    "start_time": "2023-07-02T18:43:24.562Z"
   },
   {
    "duration": 4,
    "start_time": "2023-07-02T18:43:25.147Z"
   },
   {
    "duration": 2,
    "start_time": "2023-07-02T18:43:29.693Z"
   },
   {
    "duration": 83,
    "start_time": "2023-07-02T18:43:30.548Z"
   },
   {
    "duration": 130,
    "start_time": "2023-07-02T18:43:45.306Z"
   },
   {
    "duration": 12,
    "start_time": "2023-07-02T18:44:02.507Z"
   },
   {
    "duration": 5,
    "start_time": "2023-07-02T18:44:47.495Z"
   },
   {
    "duration": 12,
    "start_time": "2023-07-02T18:46:07.087Z"
   },
   {
    "duration": 8,
    "start_time": "2023-07-02T18:48:13.625Z"
   },
   {
    "duration": 487,
    "start_time": "2023-07-02T18:54:10.900Z"
   },
   {
    "duration": 23,
    "start_time": "2023-07-02T19:07:55.998Z"
   },
   {
    "duration": 20,
    "start_time": "2023-07-02T19:08:25.353Z"
   },
   {
    "duration": 20,
    "start_time": "2023-07-02T19:09:07.227Z"
   },
   {
    "duration": 82,
    "start_time": "2023-07-02T19:10:27.332Z"
   },
   {
    "duration": 12,
    "start_time": "2023-07-02T19:10:28.733Z"
   },
   {
    "duration": 5,
    "start_time": "2023-07-02T19:10:31.224Z"
   },
   {
    "duration": 7,
    "start_time": "2023-07-02T19:10:36.635Z"
   },
   {
    "duration": 20,
    "start_time": "2023-07-02T19:10:39.686Z"
   },
   {
    "duration": 39,
    "start_time": "2023-07-02T19:24:54.298Z"
   },
   {
    "duration": 326,
    "start_time": "2023-07-02T19:24:55.307Z"
   },
   {
    "duration": 4,
    "start_time": "2023-07-02T19:24:59.102Z"
   },
   {
    "duration": 75,
    "start_time": "2023-07-02T19:25:00.214Z"
   },
   {
    "duration": 146,
    "start_time": "2023-07-02T19:25:50.415Z"
   },
   {
    "duration": 116,
    "start_time": "2023-07-02T19:27:21.197Z"
   },
   {
    "duration": 324,
    "start_time": "2023-07-02T19:27:23.457Z"
   },
   {
    "duration": 4,
    "start_time": "2023-07-02T19:27:25.355Z"
   },
   {
    "duration": 70,
    "start_time": "2023-07-02T19:27:26.025Z"
   },
   {
    "duration": 76,
    "start_time": "2023-07-02T19:27:44.936Z"
   },
   {
    "duration": 99,
    "start_time": "2023-07-02T19:28:59.292Z"
   },
   {
    "duration": 15,
    "start_time": "2023-07-02T19:29:12.156Z"
   },
   {
    "duration": 4,
    "start_time": "2023-07-02T19:29:12.927Z"
   },
   {
    "duration": 4,
    "start_time": "2023-07-02T19:29:17.777Z"
   },
   {
    "duration": 4,
    "start_time": "2023-07-02T19:29:18.575Z"
   },
   {
    "duration": 66,
    "start_time": "2023-07-02T19:29:25.652Z"
   },
   {
    "duration": 11,
    "start_time": "2023-07-02T19:29:30.132Z"
   },
   {
    "duration": 3,
    "start_time": "2023-07-02T19:29:36.409Z"
   },
   {
    "duration": 8,
    "start_time": "2023-07-02T19:29:42.559Z"
   },
   {
    "duration": 21,
    "start_time": "2023-07-02T19:29:45.233Z"
   },
   {
    "duration": 3,
    "start_time": "2023-07-02T19:29:56.432Z"
   },
   {
    "duration": 1103,
    "start_time": "2023-07-02T19:31:22.874Z"
   },
   {
    "duration": 3,
    "start_time": "2023-07-02T19:31:24.428Z"
   },
   {
    "duration": 7,
    "start_time": "2023-07-02T19:31:25.475Z"
   },
   {
    "duration": 3039,
    "start_time": "2023-07-02T19:31:28.082Z"
   },
   {
    "duration": 4,
    "start_time": "2023-07-02T19:40:55.785Z"
   },
   {
    "duration": 4,
    "start_time": "2023-07-02T19:41:14.368Z"
   },
   {
    "duration": 2,
    "start_time": "2023-07-02T19:41:31.507Z"
   },
   {
    "duration": 1125,
    "start_time": "2023-07-02T19:41:33.489Z"
   },
   {
    "duration": 34,
    "start_time": "2023-07-02T19:51:39.599Z"
   },
   {
    "duration": 2122,
    "start_time": "2023-07-02T19:55:59.542Z"
   },
   {
    "duration": 4045,
    "start_time": "2023-07-02T19:56:01.666Z"
   },
   {
    "duration": 2,
    "start_time": "2023-07-02T19:56:05.713Z"
   },
   {
    "duration": 2897,
    "start_time": "2023-07-02T19:56:05.717Z"
   },
   {
    "duration": 113,
    "start_time": "2023-07-02T19:56:08.616Z"
   },
   {
    "duration": 20,
    "start_time": "2023-07-02T19:56:08.730Z"
   },
   {
    "duration": 3,
    "start_time": "2023-07-02T19:56:08.752Z"
   },
   {
    "duration": 8,
    "start_time": "2023-07-02T19:56:08.757Z"
   },
   {
    "duration": 110,
    "start_time": "2023-07-02T19:56:08.767Z"
   },
   {
    "duration": 71,
    "start_time": "2023-07-02T19:56:09.147Z"
   },
   {
    "duration": 41,
    "start_time": "2023-07-02T19:56:10.236Z"
   },
   {
    "duration": 455,
    "start_time": "2023-07-02T19:56:11.096Z"
   },
   {
    "duration": 557,
    "start_time": "2023-07-02T19:56:11.595Z"
   },
   {
    "duration": 287,
    "start_time": "2023-07-02T19:56:12.154Z"
   },
   {
    "duration": 39,
    "start_time": "2023-07-02T19:56:12.698Z"
   },
   {
    "duration": 819,
    "start_time": "2023-07-02T19:56:12.958Z"
   },
   {
    "duration": 236,
    "start_time": "2023-07-02T19:56:14.058Z"
   },
   {
    "duration": 502,
    "start_time": "2023-07-02T19:56:14.327Z"
   },
   {
    "duration": 14,
    "start_time": "2023-07-02T19:56:14.831Z"
   },
   {
    "duration": 58,
    "start_time": "2023-07-02T19:56:15.396Z"
   },
   {
    "duration": 312,
    "start_time": "2023-07-02T19:56:18.219Z"
   },
   {
    "duration": 46,
    "start_time": "2023-07-02T19:56:18.602Z"
   },
   {
    "duration": 21,
    "start_time": "2023-07-02T19:56:19.959Z"
   },
   {
    "duration": 41,
    "start_time": "2023-07-02T19:56:20.510Z"
   },
   {
    "duration": 15,
    "start_time": "2023-07-02T19:56:21.942Z"
   },
   {
    "duration": 118,
    "start_time": "2023-07-02T19:56:22.442Z"
   },
   {
    "duration": 312,
    "start_time": "2023-07-02T19:56:23.548Z"
   },
   {
    "duration": 4,
    "start_time": "2023-07-02T19:56:25.500Z"
   },
   {
    "duration": 68,
    "start_time": "2023-07-02T19:56:26.010Z"
   },
   {
    "duration": 4,
    "start_time": "2023-07-02T19:56:30.306Z"
   },
   {
    "duration": 754,
    "start_time": "2023-07-02T19:56:30.829Z"
   },
   {
    "duration": 736,
    "start_time": "2023-07-02T19:56:31.585Z"
   },
   {
    "duration": 721,
    "start_time": "2023-07-02T19:56:32.323Z"
   },
   {
    "duration": 13,
    "start_time": "2023-07-02T19:56:33.046Z"
   },
   {
    "duration": 23,
    "start_time": "2023-07-02T19:56:33.061Z"
   },
   {
    "duration": 2,
    "start_time": "2023-07-02T19:56:35.807Z"
   },
   {
    "duration": 3,
    "start_time": "2023-07-02T19:56:37.099Z"
   },
   {
    "duration": 3,
    "start_time": "2023-07-02T19:56:37.699Z"
   },
   {
    "duration": 3,
    "start_time": "2023-07-02T19:56:41.608Z"
   },
   {
    "duration": 71,
    "start_time": "2023-07-02T19:56:42.151Z"
   },
   {
    "duration": 3,
    "start_time": "2023-07-02T19:56:42.800Z"
   },
   {
    "duration": 122,
    "start_time": "2023-07-02T19:56:43.513Z"
   },
   {
    "duration": 16,
    "start_time": "2023-07-02T19:57:08.840Z"
   },
   {
    "duration": 5,
    "start_time": "2023-07-02T19:57:09.470Z"
   },
   {
    "duration": 7,
    "start_time": "2023-07-02T19:57:11.521Z"
   },
   {
    "duration": 20,
    "start_time": "2023-07-02T19:57:12.766Z"
   },
   {
    "duration": 4,
    "start_time": "2023-07-02T19:57:15.406Z"
   },
   {
    "duration": 39,
    "start_time": "2023-07-02T19:57:18.824Z"
   },
   {
    "duration": 900,
    "start_time": "2023-07-02T19:57:34.996Z"
   },
   {
    "duration": 2119,
    "start_time": "2023-07-02T19:58:59.891Z"
   },
   {
    "duration": 4057,
    "start_time": "2023-07-02T19:59:02.012Z"
   },
   {
    "duration": 4,
    "start_time": "2023-07-02T19:59:06.071Z"
   },
   {
    "duration": 2936,
    "start_time": "2023-07-02T19:59:06.076Z"
   },
   {
    "duration": 106,
    "start_time": "2023-07-02T19:59:09.013Z"
   },
   {
    "duration": 17,
    "start_time": "2023-07-02T19:59:09.120Z"
   },
   {
    "duration": 4,
    "start_time": "2023-07-02T19:59:09.139Z"
   },
   {
    "duration": 16,
    "start_time": "2023-07-02T19:59:09.144Z"
   },
   {
    "duration": 97,
    "start_time": "2023-07-02T19:59:09.163Z"
   },
   {
    "duration": 77,
    "start_time": "2023-07-02T19:59:09.261Z"
   },
   {
    "duration": 39,
    "start_time": "2023-07-02T19:59:09.340Z"
   },
   {
    "duration": 472,
    "start_time": "2023-07-02T19:59:09.381Z"
   },
   {
    "duration": 553,
    "start_time": "2023-07-02T19:59:09.854Z"
   },
   {
    "duration": 305,
    "start_time": "2023-07-02T19:59:10.409Z"
   },
   {
    "duration": 40,
    "start_time": "2023-07-02T19:59:10.716Z"
   },
   {
    "duration": 830,
    "start_time": "2023-07-02T19:59:10.758Z"
   },
   {
    "duration": 229,
    "start_time": "2023-07-02T19:59:11.590Z"
   },
   {
    "duration": 475,
    "start_time": "2023-07-02T19:59:11.820Z"
   },
   {
    "duration": 18,
    "start_time": "2023-07-02T19:59:12.296Z"
   },
   {
    "duration": 55,
    "start_time": "2023-07-02T19:59:12.315Z"
   },
   {
    "duration": 308,
    "start_time": "2023-07-02T19:59:12.372Z"
   },
   {
    "duration": 48,
    "start_time": "2023-07-02T19:59:12.682Z"
   },
   {
    "duration": 21,
    "start_time": "2023-07-02T19:59:12.732Z"
   },
   {
    "duration": 44,
    "start_time": "2023-07-02T19:59:12.754Z"
   },
   {
    "duration": 27,
    "start_time": "2023-07-02T19:59:12.799Z"
   },
   {
    "duration": 121,
    "start_time": "2023-07-02T19:59:12.827Z"
   },
   {
    "duration": 292,
    "start_time": "2023-07-02T19:59:12.953Z"
   },
   {
    "duration": 4,
    "start_time": "2023-07-02T19:59:13.246Z"
   },
   {
    "duration": 79,
    "start_time": "2023-07-02T19:59:13.252Z"
   },
   {
    "duration": 3,
    "start_time": "2023-07-02T19:59:13.333Z"
   },
   {
    "duration": 743,
    "start_time": "2023-07-02T19:59:13.338Z"
   },
   {
    "duration": 747,
    "start_time": "2023-07-02T19:59:14.083Z"
   },
   {
    "duration": 713,
    "start_time": "2023-07-02T19:59:14.832Z"
   },
   {
    "duration": 13,
    "start_time": "2023-07-02T19:59:15.546Z"
   },
   {
    "duration": 8,
    "start_time": "2023-07-02T19:59:15.561Z"
   },
   {
    "duration": 12,
    "start_time": "2023-07-02T19:59:15.570Z"
   },
   {
    "duration": 14,
    "start_time": "2023-07-02T19:59:15.583Z"
   },
   {
    "duration": 13,
    "start_time": "2023-07-02T19:59:15.599Z"
   },
   {
    "duration": 13,
    "start_time": "2023-07-02T19:59:15.614Z"
   },
   {
    "duration": 79,
    "start_time": "2023-07-02T19:59:15.629Z"
   },
   {
    "duration": 16,
    "start_time": "2023-07-02T19:59:15.709Z"
   },
   {
    "duration": 13,
    "start_time": "2023-07-02T19:59:15.726Z"
   },
   {
    "duration": 16,
    "start_time": "2023-07-02T19:59:15.740Z"
   },
   {
    "duration": 21,
    "start_time": "2023-07-02T19:59:15.757Z"
   },
   {
    "duration": 14,
    "start_time": "2023-07-02T19:59:15.780Z"
   },
   {
    "duration": 50,
    "start_time": "2023-07-02T19:59:15.796Z"
   },
   {
    "duration": 2071,
    "start_time": "2023-07-02T20:02:03.884Z"
   },
   {
    "duration": 3198,
    "start_time": "2023-07-02T20:02:05.957Z"
   },
   {
    "duration": 3,
    "start_time": "2023-07-02T20:02:09.157Z"
   },
   {
    "duration": 2950,
    "start_time": "2023-07-02T20:02:09.161Z"
   },
   {
    "duration": 112,
    "start_time": "2023-07-02T20:02:12.113Z"
   },
   {
    "duration": 18,
    "start_time": "2023-07-02T20:02:12.226Z"
   },
   {
    "duration": 4,
    "start_time": "2023-07-02T20:02:12.245Z"
   },
   {
    "duration": 7,
    "start_time": "2023-07-02T20:02:12.250Z"
   },
   {
    "duration": 106,
    "start_time": "2023-07-02T20:02:12.258Z"
   },
   {
    "duration": 82,
    "start_time": "2023-07-02T20:02:12.367Z"
   },
   {
    "duration": 40,
    "start_time": "2023-07-02T20:02:12.451Z"
   },
   {
    "duration": 454,
    "start_time": "2023-07-02T20:02:12.492Z"
   },
   {
    "duration": 573,
    "start_time": "2023-07-02T20:02:12.948Z"
   },
   {
    "duration": 291,
    "start_time": "2023-07-02T20:02:13.522Z"
   },
   {
    "duration": 41,
    "start_time": "2023-07-02T20:02:13.815Z"
   },
   {
    "duration": 841,
    "start_time": "2023-07-02T20:02:13.858Z"
   },
   {
    "duration": 236,
    "start_time": "2023-07-02T20:02:14.700Z"
   },
   {
    "duration": 469,
    "start_time": "2023-07-02T20:02:14.938Z"
   },
   {
    "duration": 14,
    "start_time": "2023-07-02T20:02:15.409Z"
   },
   {
    "duration": 55,
    "start_time": "2023-07-02T20:02:15.424Z"
   },
   {
    "duration": 308,
    "start_time": "2023-07-02T20:02:15.481Z"
   },
   {
    "duration": 58,
    "start_time": "2023-07-02T20:02:15.792Z"
   },
   {
    "duration": 23,
    "start_time": "2023-07-02T20:02:15.852Z"
   },
   {
    "duration": 58,
    "start_time": "2023-07-02T20:02:15.877Z"
   },
   {
    "duration": 17,
    "start_time": "2023-07-02T20:02:15.937Z"
   },
   {
    "duration": 136,
    "start_time": "2023-07-02T20:02:15.956Z"
   },
   {
    "duration": 306,
    "start_time": "2023-07-02T20:02:16.094Z"
   },
   {
    "duration": 5,
    "start_time": "2023-07-02T20:02:16.413Z"
   },
   {
    "duration": 69,
    "start_time": "2023-07-02T20:02:16.420Z"
   },
   {
    "duration": 22,
    "start_time": "2023-07-02T20:02:16.491Z"
   },
   {
    "duration": 781,
    "start_time": "2023-07-02T20:02:16.515Z"
   },
   {
    "duration": 744,
    "start_time": "2023-07-02T20:02:17.298Z"
   },
   {
    "duration": 739,
    "start_time": "2023-07-02T20:02:18.044Z"
   },
   {
    "duration": 13,
    "start_time": "2023-07-02T20:02:18.785Z"
   },
   {
    "duration": 14,
    "start_time": "2023-07-02T20:02:18.800Z"
   },
   {
    "duration": 2,
    "start_time": "2023-07-02T20:02:18.816Z"
   },
   {
    "duration": 13,
    "start_time": "2023-07-02T20:02:18.820Z"
   },
   {
    "duration": 20,
    "start_time": "2023-07-02T20:02:18.835Z"
   },
   {
    "duration": 23,
    "start_time": "2023-07-02T20:02:18.857Z"
   },
   {
    "duration": 91,
    "start_time": "2023-07-02T20:02:18.881Z"
   },
   {
    "duration": 16,
    "start_time": "2023-07-02T20:02:18.973Z"
   },
   {
    "duration": 16,
    "start_time": "2023-07-02T20:02:18.992Z"
   },
   {
    "duration": 36,
    "start_time": "2023-07-02T20:02:19.012Z"
   },
   {
    "duration": 31,
    "start_time": "2023-07-02T20:02:19.050Z"
   },
   {
    "duration": 8,
    "start_time": "2023-07-02T20:02:19.083Z"
   },
   {
    "duration": 57,
    "start_time": "2023-07-02T20:02:19.093Z"
   },
   {
    "duration": 6944,
    "start_time": "2023-07-03T01:49:29.489Z"
   },
   {
    "duration": 1466,
    "start_time": "2023-07-03T01:49:36.436Z"
   },
   {
    "duration": 3,
    "start_time": "2023-07-03T01:49:37.904Z"
   },
   {
    "duration": 1022,
    "start_time": "2023-07-03T01:49:37.910Z"
   },
   {
    "duration": 119,
    "start_time": "2023-07-03T01:49:38.934Z"
   },
   {
    "duration": 17,
    "start_time": "2023-07-03T01:49:39.055Z"
   },
   {
    "duration": 12,
    "start_time": "2023-07-03T01:49:39.073Z"
   },
   {
    "duration": 13,
    "start_time": "2023-07-03T01:49:39.086Z"
   },
   {
    "duration": 126,
    "start_time": "2023-07-03T01:49:39.101Z"
   },
   {
    "duration": 77,
    "start_time": "2023-07-03T01:49:39.231Z"
   },
   {
    "duration": 60,
    "start_time": "2023-07-03T01:49:39.309Z"
   },
   {
    "duration": 449,
    "start_time": "2023-07-03T01:49:39.370Z"
   },
   {
    "duration": 545,
    "start_time": "2023-07-03T01:49:39.820Z"
   },
   {
    "duration": 281,
    "start_time": "2023-07-03T01:49:40.367Z"
   },
   {
    "duration": 41,
    "start_time": "2023-07-03T01:49:40.650Z"
   },
   {
    "duration": 749,
    "start_time": "2023-07-03T01:49:40.693Z"
   },
   {
    "duration": 208,
    "start_time": "2023-07-03T01:49:41.444Z"
   },
   {
    "duration": 411,
    "start_time": "2023-07-03T01:49:41.653Z"
   },
   {
    "duration": 12,
    "start_time": "2023-07-03T01:49:42.065Z"
   },
   {
    "duration": 65,
    "start_time": "2023-07-03T01:49:42.078Z"
   },
   {
    "duration": 341,
    "start_time": "2023-07-03T01:49:42.145Z"
   },
   {
    "duration": 49,
    "start_time": "2023-07-03T01:49:42.487Z"
   },
   {
    "duration": 25,
    "start_time": "2023-07-03T01:49:42.538Z"
   },
   {
    "duration": 38,
    "start_time": "2023-07-03T01:49:42.565Z"
   },
   {
    "duration": 33,
    "start_time": "2023-07-03T01:49:42.604Z"
   },
   {
    "duration": 119,
    "start_time": "2023-07-03T01:49:42.639Z"
   },
   {
    "duration": 295,
    "start_time": "2023-07-03T01:49:42.760Z"
   },
   {
    "duration": 6,
    "start_time": "2023-07-03T01:49:43.060Z"
   },
   {
    "duration": 95,
    "start_time": "2023-07-03T01:49:43.068Z"
   },
   {
    "duration": 4,
    "start_time": "2023-07-03T01:49:43.165Z"
   },
   {
    "duration": 675,
    "start_time": "2023-07-03T01:49:43.170Z"
   },
   {
    "duration": 649,
    "start_time": "2023-07-03T01:49:43.846Z"
   },
   {
    "duration": 1100,
    "start_time": "2023-07-03T01:49:44.496Z"
   },
   {
    "duration": 12,
    "start_time": "2023-07-03T01:49:45.598Z"
   },
   {
    "duration": 8,
    "start_time": "2023-07-03T01:49:45.611Z"
   },
   {
    "duration": 10,
    "start_time": "2023-07-03T01:49:45.632Z"
   },
   {
    "duration": 14,
    "start_time": "2023-07-03T01:49:45.644Z"
   },
   {
    "duration": 23,
    "start_time": "2023-07-03T01:49:45.659Z"
   },
   {
    "duration": 25,
    "start_time": "2023-07-03T01:49:45.684Z"
   },
   {
    "duration": 135,
    "start_time": "2023-07-03T01:49:45.711Z"
   },
   {
    "duration": 0,
    "start_time": "2023-07-03T01:49:45.848Z"
   },
   {
    "duration": 0,
    "start_time": "2023-07-03T01:49:45.850Z"
   },
   {
    "duration": 0,
    "start_time": "2023-07-03T01:49:45.850Z"
   },
   {
    "duration": 0,
    "start_time": "2023-07-03T01:49:45.852Z"
   },
   {
    "duration": 0,
    "start_time": "2023-07-03T01:49:45.853Z"
   },
   {
    "duration": 0,
    "start_time": "2023-07-03T01:49:45.854Z"
   },
   {
    "duration": 0,
    "start_time": "2023-07-03T01:49:45.855Z"
   },
   {
    "duration": 0,
    "start_time": "2023-07-03T01:49:45.856Z"
   },
   {
    "duration": 0,
    "start_time": "2023-07-03T01:49:45.856Z"
   },
   {
    "duration": 0,
    "start_time": "2023-07-03T01:49:45.858Z"
   },
   {
    "duration": 0,
    "start_time": "2023-07-03T01:49:45.859Z"
   },
   {
    "duration": 0,
    "start_time": "2023-07-03T01:49:45.859Z"
   },
   {
    "duration": 0,
    "start_time": "2023-07-03T01:49:45.861Z"
   },
   {
    "duration": 0,
    "start_time": "2023-07-03T01:49:45.861Z"
   },
   {
    "duration": 0,
    "start_time": "2023-07-03T01:49:45.863Z"
   },
   {
    "duration": 0,
    "start_time": "2023-07-03T01:49:45.864Z"
   },
   {
    "duration": 0,
    "start_time": "2023-07-03T01:49:45.864Z"
   },
   {
    "duration": 0,
    "start_time": "2023-07-03T01:49:45.865Z"
   },
   {
    "duration": 0,
    "start_time": "2023-07-03T01:49:45.866Z"
   },
   {
    "duration": 0,
    "start_time": "2023-07-03T01:49:45.868Z"
   },
   {
    "duration": 0,
    "start_time": "2023-07-03T01:49:45.868Z"
   },
   {
    "duration": 0,
    "start_time": "2023-07-03T01:49:45.869Z"
   },
   {
    "duration": 0,
    "start_time": "2023-07-03T01:49:45.871Z"
   },
   {
    "duration": 0,
    "start_time": "2023-07-03T01:49:45.872Z"
   },
   {
    "duration": 0,
    "start_time": "2023-07-03T01:49:45.873Z"
   },
   {
    "duration": 0,
    "start_time": "2023-07-03T01:49:45.874Z"
   },
   {
    "duration": 0,
    "start_time": "2023-07-03T01:49:45.875Z"
   },
   {
    "duration": 0,
    "start_time": "2023-07-03T01:49:45.876Z"
   },
   {
    "duration": 0,
    "start_time": "2023-07-03T01:49:45.877Z"
   },
   {
    "duration": 0,
    "start_time": "2023-07-03T01:49:45.878Z"
   },
   {
    "duration": 0,
    "start_time": "2023-07-03T01:49:45.931Z"
   },
   {
    "duration": 0,
    "start_time": "2023-07-03T01:49:45.932Z"
   },
   {
    "duration": 0,
    "start_time": "2023-07-03T01:49:45.933Z"
   },
   {
    "duration": 0,
    "start_time": "2023-07-03T01:49:45.935Z"
   },
   {
    "duration": 0,
    "start_time": "2023-07-03T01:49:45.936Z"
   },
   {
    "duration": 0,
    "start_time": "2023-07-03T01:49:45.937Z"
   },
   {
    "duration": 0,
    "start_time": "2023-07-03T01:49:45.938Z"
   },
   {
    "duration": 0,
    "start_time": "2023-07-03T01:49:45.939Z"
   },
   {
    "duration": 0,
    "start_time": "2023-07-03T01:49:45.940Z"
   },
   {
    "duration": 0,
    "start_time": "2023-07-03T01:49:45.941Z"
   },
   {
    "duration": 0,
    "start_time": "2023-07-03T01:49:45.942Z"
   },
   {
    "duration": 0,
    "start_time": "2023-07-03T01:49:45.943Z"
   },
   {
    "duration": 0,
    "start_time": "2023-07-03T01:49:45.944Z"
   },
   {
    "duration": 0,
    "start_time": "2023-07-03T01:49:45.945Z"
   },
   {
    "duration": 0,
    "start_time": "2023-07-03T01:49:45.947Z"
   },
   {
    "duration": 0,
    "start_time": "2023-07-03T01:49:45.948Z"
   },
   {
    "duration": 0,
    "start_time": "2023-07-03T01:49:45.948Z"
   },
   {
    "duration": 25,
    "start_time": "2023-07-03T01:51:09.273Z"
   },
   {
    "duration": 2041,
    "start_time": "2023-07-03T01:55:43.913Z"
   },
   {
    "duration": 60,
    "start_time": "2023-07-03T01:56:13.432Z"
   },
   {
    "duration": 13,
    "start_time": "2023-07-03T01:56:16.303Z"
   },
   {
    "duration": 4,
    "start_time": "2023-07-03T01:56:17.133Z"
   },
   {
    "duration": 7,
    "start_time": "2023-07-03T01:56:17.854Z"
   },
   {
    "duration": 19,
    "start_time": "2023-07-03T01:56:19.109Z"
   },
   {
    "duration": 3,
    "start_time": "2023-07-03T01:56:20.323Z"
   },
   {
    "duration": 44,
    "start_time": "2023-07-03T01:56:20.813Z"
   },
   {
    "duration": 2088,
    "start_time": "2023-07-03T02:01:18.678Z"
   },
   {
    "duration": 1779,
    "start_time": "2023-07-03T02:01:20.768Z"
   },
   {
    "duration": 3,
    "start_time": "2023-07-03T02:01:22.549Z"
   },
   {
    "duration": 1048,
    "start_time": "2023-07-03T02:01:22.553Z"
   },
   {
    "duration": 144,
    "start_time": "2023-07-03T02:01:23.602Z"
   },
   {
    "duration": 16,
    "start_time": "2023-07-03T02:01:23.748Z"
   },
   {
    "duration": 3,
    "start_time": "2023-07-03T02:01:23.766Z"
   },
   {
    "duration": 7,
    "start_time": "2023-07-03T02:01:23.771Z"
   },
   {
    "duration": 134,
    "start_time": "2023-07-03T02:01:23.780Z"
   },
   {
    "duration": 81,
    "start_time": "2023-07-03T02:01:23.917Z"
   },
   {
    "duration": 65,
    "start_time": "2023-07-03T02:01:23.999Z"
   },
   {
    "duration": 467,
    "start_time": "2023-07-03T02:01:24.066Z"
   },
   {
    "duration": 575,
    "start_time": "2023-07-03T02:01:24.535Z"
   },
   {
    "duration": 282,
    "start_time": "2023-07-03T02:01:25.112Z"
   },
   {
    "duration": 45,
    "start_time": "2023-07-03T02:01:25.395Z"
   },
   {
    "duration": 737,
    "start_time": "2023-07-03T02:01:25.442Z"
   },
   {
    "duration": 193,
    "start_time": "2023-07-03T02:01:26.180Z"
   },
   {
    "duration": 419,
    "start_time": "2023-07-03T02:01:26.374Z"
   },
   {
    "duration": 12,
    "start_time": "2023-07-03T02:01:26.794Z"
   },
   {
    "duration": 66,
    "start_time": "2023-07-03T02:01:26.807Z"
   },
   {
    "duration": 346,
    "start_time": "2023-07-03T02:01:26.875Z"
   },
   {
    "duration": 44,
    "start_time": "2023-07-03T02:01:27.223Z"
   },
   {
    "duration": 22,
    "start_time": "2023-07-03T02:01:27.269Z"
   },
   {
    "duration": 51,
    "start_time": "2023-07-03T02:01:27.293Z"
   },
   {
    "duration": 18,
    "start_time": "2023-07-03T02:01:27.346Z"
   },
   {
    "duration": 122,
    "start_time": "2023-07-03T02:01:27.365Z"
   },
   {
    "duration": 304,
    "start_time": "2023-07-03T02:01:27.489Z"
   },
   {
    "duration": 4,
    "start_time": "2023-07-03T02:01:27.796Z"
   },
   {
    "duration": 95,
    "start_time": "2023-07-03T02:01:27.801Z"
   },
   {
    "duration": 3,
    "start_time": "2023-07-03T02:01:27.898Z"
   },
   {
    "duration": 652,
    "start_time": "2023-07-03T02:01:27.902Z"
   },
   {
    "duration": 652,
    "start_time": "2023-07-03T02:01:28.555Z"
   },
   {
    "duration": 657,
    "start_time": "2023-07-03T02:01:29.209Z"
   },
   {
    "duration": 11,
    "start_time": "2023-07-03T02:01:29.868Z"
   },
   {
    "duration": 4,
    "start_time": "2023-07-03T02:01:29.880Z"
   },
   {
    "duration": 9,
    "start_time": "2023-07-03T02:01:29.886Z"
   },
   {
    "duration": 8,
    "start_time": "2023-07-03T02:01:29.896Z"
   },
   {
    "duration": 7,
    "start_time": "2023-07-03T02:01:29.905Z"
   },
   {
    "duration": 19,
    "start_time": "2023-07-03T02:01:29.913Z"
   },
   {
    "duration": 61,
    "start_time": "2023-07-03T02:01:29.933Z"
   },
   {
    "duration": 15,
    "start_time": "2023-07-03T02:01:29.996Z"
   },
   {
    "duration": 22,
    "start_time": "2023-07-03T02:01:30.032Z"
   },
   {
    "duration": 27,
    "start_time": "2023-07-03T02:01:30.056Z"
   },
   {
    "duration": 39,
    "start_time": "2023-07-03T02:01:30.085Z"
   },
   {
    "duration": 12,
    "start_time": "2023-07-03T02:01:30.126Z"
   },
   {
    "duration": 56,
    "start_time": "2023-07-03T02:01:30.140Z"
   },
   {
    "duration": 29,
    "start_time": "2023-07-03T02:01:30.198Z"
   },
   {
    "duration": 25,
    "start_time": "2023-07-03T02:01:30.229Z"
   },
   {
    "duration": 2134,
    "start_time": "2023-07-03T02:02:33.239Z"
   },
   {
    "duration": 1260,
    "start_time": "2023-07-03T02:02:35.375Z"
   },
   {
    "duration": 3,
    "start_time": "2023-07-03T02:02:36.637Z"
   },
   {
    "duration": 794,
    "start_time": "2023-07-03T02:02:36.642Z"
   },
   {
    "duration": 127,
    "start_time": "2023-07-03T02:02:37.437Z"
   },
   {
    "duration": 17,
    "start_time": "2023-07-03T02:02:37.566Z"
   },
   {
    "duration": 5,
    "start_time": "2023-07-03T02:02:37.584Z"
   },
   {
    "duration": 11,
    "start_time": "2023-07-03T02:02:37.590Z"
   },
   {
    "duration": 151,
    "start_time": "2023-07-03T02:02:37.602Z"
   },
   {
    "duration": 101,
    "start_time": "2023-07-03T02:02:37.757Z"
   },
   {
    "duration": 53,
    "start_time": "2023-07-03T02:02:37.860Z"
   },
   {
    "duration": 469,
    "start_time": "2023-07-03T02:02:37.915Z"
   },
   {
    "duration": 563,
    "start_time": "2023-07-03T02:02:38.385Z"
   },
   {
    "duration": 284,
    "start_time": "2023-07-03T02:02:38.949Z"
   },
   {
    "duration": 42,
    "start_time": "2023-07-03T02:02:39.236Z"
   },
   {
    "duration": 754,
    "start_time": "2023-07-03T02:02:39.279Z"
   },
   {
    "duration": 235,
    "start_time": "2023-07-03T02:02:40.034Z"
   },
   {
    "duration": 403,
    "start_time": "2023-07-03T02:02:40.270Z"
   },
   {
    "duration": 13,
    "start_time": "2023-07-03T02:02:40.675Z"
   },
   {
    "duration": 68,
    "start_time": "2023-07-03T02:02:40.690Z"
   },
   {
    "duration": 344,
    "start_time": "2023-07-03T02:02:40.760Z"
   },
   {
    "duration": 46,
    "start_time": "2023-07-03T02:02:41.105Z"
   },
   {
    "duration": 25,
    "start_time": "2023-07-03T02:02:41.152Z"
   },
   {
    "duration": 44,
    "start_time": "2023-07-03T02:02:41.178Z"
   },
   {
    "duration": 16,
    "start_time": "2023-07-03T02:02:41.230Z"
   },
   {
    "duration": 118,
    "start_time": "2023-07-03T02:02:41.247Z"
   },
   {
    "duration": 277,
    "start_time": "2023-07-03T02:02:41.367Z"
   },
   {
    "duration": 4,
    "start_time": "2023-07-03T02:02:41.649Z"
   },
   {
    "duration": 97,
    "start_time": "2023-07-03T02:02:41.654Z"
   },
   {
    "duration": 4,
    "start_time": "2023-07-03T02:02:41.752Z"
   },
   {
    "duration": 666,
    "start_time": "2023-07-03T02:02:41.757Z"
   },
   {
    "duration": 658,
    "start_time": "2023-07-03T02:02:42.425Z"
   },
   {
    "duration": 665,
    "start_time": "2023-07-03T02:02:43.084Z"
   },
   {
    "duration": 11,
    "start_time": "2023-07-03T02:02:43.751Z"
   },
   {
    "duration": 12,
    "start_time": "2023-07-03T02:02:43.763Z"
   },
   {
    "duration": 4,
    "start_time": "2023-07-03T02:02:43.777Z"
   },
   {
    "duration": 6,
    "start_time": "2023-07-03T02:02:43.783Z"
   },
   {
    "duration": 7,
    "start_time": "2023-07-03T02:02:43.790Z"
   },
   {
    "duration": 5,
    "start_time": "2023-07-03T02:02:43.799Z"
   },
   {
    "duration": 72,
    "start_time": "2023-07-03T02:02:43.805Z"
   },
   {
    "duration": 14,
    "start_time": "2023-07-03T02:02:43.879Z"
   },
   {
    "duration": 5,
    "start_time": "2023-07-03T02:02:43.895Z"
   },
   {
    "duration": 10,
    "start_time": "2023-07-03T02:02:43.902Z"
   },
   {
    "duration": 35,
    "start_time": "2023-07-03T02:02:43.913Z"
   },
   {
    "duration": 3,
    "start_time": "2023-07-03T02:02:43.950Z"
   },
   {
    "duration": 50,
    "start_time": "2023-07-03T02:02:43.955Z"
   },
   {
    "duration": 24,
    "start_time": "2023-07-03T02:02:44.007Z"
   },
   {
    "duration": 8,
    "start_time": "2023-07-03T02:02:44.033Z"
   },
   {
    "duration": 2050,
    "start_time": "2023-07-03T02:03:33.748Z"
   },
   {
    "duration": 1307,
    "start_time": "2023-07-03T02:03:35.800Z"
   },
   {
    "duration": 3,
    "start_time": "2023-07-03T02:03:37.686Z"
   },
   {
    "duration": 767,
    "start_time": "2023-07-03T02:03:38.214Z"
   },
   {
    "duration": 123,
    "start_time": "2023-07-03T02:03:38.983Z"
   },
   {
    "duration": 26,
    "start_time": "2023-07-03T02:03:39.112Z"
   },
   {
    "duration": 4,
    "start_time": "2023-07-03T02:03:40.033Z"
   },
   {
    "duration": 4,
    "start_time": "2023-07-03T02:03:40.984Z"
   },
   {
    "duration": 122,
    "start_time": "2023-07-03T02:03:41.889Z"
   },
   {
    "duration": 78,
    "start_time": "2023-07-03T02:03:42.294Z"
   },
   {
    "duration": 51,
    "start_time": "2023-07-03T02:03:42.684Z"
   },
   {
    "duration": 434,
    "start_time": "2023-07-03T02:03:43.554Z"
   },
   {
    "duration": 568,
    "start_time": "2023-07-03T02:03:44.451Z"
   },
   {
    "duration": 276,
    "start_time": "2023-07-03T02:03:45.374Z"
   },
   {
    "duration": 43,
    "start_time": "2023-07-03T02:03:46.186Z"
   },
   {
    "duration": 752,
    "start_time": "2023-07-03T02:03:46.639Z"
   },
   {
    "duration": 214,
    "start_time": "2023-07-03T02:03:47.989Z"
   },
   {
    "duration": 415,
    "start_time": "2023-07-03T02:03:48.576Z"
   },
   {
    "duration": 13,
    "start_time": "2023-07-03T02:03:49.645Z"
   },
   {
    "duration": 51,
    "start_time": "2023-07-03T02:03:50.659Z"
   },
   {
    "duration": 347,
    "start_time": "2023-07-03T02:03:52.954Z"
   },
   {
    "duration": 40,
    "start_time": "2023-07-03T02:03:53.458Z"
   },
   {
    "duration": 24,
    "start_time": "2023-07-03T02:03:54.734Z"
   },
   {
    "duration": 38,
    "start_time": "2023-07-03T02:03:55.064Z"
   },
   {
    "duration": 17,
    "start_time": "2023-07-03T02:03:56.339Z"
   },
   {
    "duration": 113,
    "start_time": "2023-07-03T02:03:56.824Z"
   },
   {
    "duration": 287,
    "start_time": "2023-07-03T02:03:57.294Z"
   },
   {
    "duration": 4,
    "start_time": "2023-07-03T02:03:58.213Z"
   },
   {
    "duration": 81,
    "start_time": "2023-07-03T02:03:58.654Z"
   },
   {
    "duration": 3,
    "start_time": "2023-07-03T02:04:01.619Z"
   },
   {
    "duration": 666,
    "start_time": "2023-07-03T02:04:02.113Z"
   },
   {
    "duration": 670,
    "start_time": "2023-07-03T02:04:03.174Z"
   },
   {
    "duration": 672,
    "start_time": "2023-07-03T02:04:04.274Z"
   },
   {
    "duration": 11,
    "start_time": "2023-07-03T02:04:05.375Z"
   },
   {
    "duration": 4,
    "start_time": "2023-07-03T02:04:06.224Z"
   },
   {
    "duration": 2,
    "start_time": "2023-07-03T02:04:09.129Z"
   },
   {
    "duration": 3,
    "start_time": "2023-07-03T02:04:11.584Z"
   },
   {
    "duration": 4,
    "start_time": "2023-07-03T02:04:12.154Z"
   },
   {
    "duration": 2,
    "start_time": "2023-07-03T02:04:12.964Z"
   },
   {
    "duration": 60,
    "start_time": "2023-07-03T02:04:14.109Z"
   },
   {
    "duration": 14,
    "start_time": "2023-07-03T02:04:16.873Z"
   },
   {
    "duration": 4,
    "start_time": "2023-07-03T02:04:17.854Z"
   },
   {
    "duration": 8,
    "start_time": "2023-07-03T02:04:18.673Z"
   },
   {
    "duration": 21,
    "start_time": "2023-07-03T02:04:19.454Z"
   },
   {
    "duration": 3,
    "start_time": "2023-07-03T02:04:20.305Z"
   },
   {
    "duration": 43,
    "start_time": "2023-07-03T02:04:21.094Z"
   },
   {
    "duration": 9,
    "start_time": "2023-07-03T02:04:24.954Z"
   },
   {
    "duration": 9,
    "start_time": "2023-07-03T02:04:26.080Z"
   },
   {
    "duration": 9382,
    "start_time": "2023-07-03T15:29:45.906Z"
   },
   {
    "duration": 1616,
    "start_time": "2023-07-03T15:29:55.291Z"
   },
   {
    "duration": 3,
    "start_time": "2023-07-03T15:29:56.908Z"
   },
   {
    "duration": 1006,
    "start_time": "2023-07-03T15:29:56.914Z"
   },
   {
    "duration": 102,
    "start_time": "2023-07-03T15:29:57.921Z"
   },
   {
    "duration": 15,
    "start_time": "2023-07-03T15:29:58.025Z"
   },
   {
    "duration": 3,
    "start_time": "2023-07-03T15:29:58.042Z"
   },
   {
    "duration": 6,
    "start_time": "2023-07-03T15:29:58.047Z"
   },
   {
    "duration": 116,
    "start_time": "2023-07-03T15:30:01.473Z"
   },
   {
    "duration": 70,
    "start_time": "2023-07-03T15:30:02.025Z"
   },
   {
    "duration": 40,
    "start_time": "2023-07-03T15:30:02.800Z"
   },
   {
    "duration": 399,
    "start_time": "2023-07-03T15:30:03.833Z"
   },
   {
    "duration": 539,
    "start_time": "2023-07-03T15:30:05.253Z"
   },
   {
    "duration": 255,
    "start_time": "2023-07-03T15:30:06.176Z"
   },
   {
    "duration": 51,
    "start_time": "2023-07-03T15:30:10.501Z"
   },
   {
    "duration": 678,
    "start_time": "2023-07-03T15:30:11.071Z"
   },
   {
    "duration": 202,
    "start_time": "2023-07-03T15:30:12.940Z"
   },
   {
    "duration": 1117,
    "start_time": "2023-07-03T15:30:13.443Z"
   },
   {
    "duration": 16,
    "start_time": "2023-07-03T15:30:14.562Z"
   },
   {
    "duration": 50,
    "start_time": "2023-07-03T15:30:15.653Z"
   },
   {
    "duration": 310,
    "start_time": "2023-07-03T15:30:18.103Z"
   },
   {
    "duration": 35,
    "start_time": "2023-07-03T15:30:18.647Z"
   },
   {
    "duration": 19,
    "start_time": "2023-07-03T15:30:19.885Z"
   },
   {
    "duration": 33,
    "start_time": "2023-07-03T15:30:20.311Z"
   },
   {
    "duration": 16,
    "start_time": "2023-07-03T15:30:21.718Z"
   },
   {
    "duration": 99,
    "start_time": "2023-07-03T15:30:22.236Z"
   },
   {
    "duration": 226,
    "start_time": "2023-07-03T15:30:23.042Z"
   },
   {
    "duration": 4,
    "start_time": "2023-07-03T15:30:24.064Z"
   },
   {
    "duration": 68,
    "start_time": "2023-07-03T15:30:24.797Z"
   },
   {
    "duration": 3,
    "start_time": "2023-07-03T15:33:18.000Z"
   },
   {
    "duration": 636,
    "start_time": "2023-07-03T15:33:18.710Z"
   },
   {
    "duration": 663,
    "start_time": "2023-07-03T15:33:19.347Z"
   },
   {
    "duration": 624,
    "start_time": "2023-07-03T15:33:22.218Z"
   },
   {
    "duration": 10,
    "start_time": "2023-07-03T15:33:25.548Z"
   },
   {
    "duration": 4,
    "start_time": "2023-07-03T15:33:26.895Z"
   },
   {
    "duration": 3,
    "start_time": "2023-07-03T15:33:29.740Z"
   },
   {
    "duration": 3,
    "start_time": "2023-07-03T15:33:33.044Z"
   },
   {
    "duration": 3,
    "start_time": "2023-07-03T15:33:33.623Z"
   },
   {
    "duration": 2,
    "start_time": "2023-07-03T15:33:34.695Z"
   },
   {
    "duration": 53,
    "start_time": "2023-07-03T15:33:35.369Z"
   },
   {
    "duration": 12,
    "start_time": "2023-07-03T15:33:40.179Z"
   },
   {
    "duration": 4,
    "start_time": "2023-07-03T15:33:43.630Z"
   },
   {
    "duration": 6,
    "start_time": "2023-07-03T15:33:46.079Z"
   },
   {
    "duration": 21,
    "start_time": "2023-07-03T15:33:47.299Z"
   },
   {
    "duration": 3,
    "start_time": "2023-07-03T15:33:49.977Z"
   },
   {
    "duration": 38,
    "start_time": "2023-07-03T15:33:54.205Z"
   },
   {
    "duration": 8,
    "start_time": "2023-07-03T15:34:13.486Z"
   },
   {
    "duration": 7,
    "start_time": "2023-07-03T15:34:18.243Z"
   },
   {
    "duration": 2,
    "start_time": "2023-07-03T15:34:20.553Z"
   },
   {
    "duration": 70,
    "start_time": "2023-07-03T15:34:54.131Z"
   },
   {
    "duration": 7,
    "start_time": "2023-07-03T15:36:23.075Z"
   },
   {
    "duration": 757,
    "start_time": "2023-07-03T15:37:51.968Z"
   },
   {
    "duration": 46,
    "start_time": "2023-07-03T15:41:00.843Z"
   },
   {
    "duration": 5,
    "start_time": "2023-07-03T15:41:19.361Z"
   },
   {
    "duration": 8,
    "start_time": "2023-07-03T15:41:55.968Z"
   },
   {
    "duration": 6,
    "start_time": "2023-07-03T15:41:58.724Z"
   },
   {
    "duration": 1984,
    "start_time": "2023-07-03T15:46:34.913Z"
   },
   {
    "duration": 42,
    "start_time": "2023-07-03T15:47:11.916Z"
   },
   {
    "duration": 2105,
    "start_time": "2023-07-03T15:47:15.897Z"
   },
   {
    "duration": 3,
    "start_time": "2023-07-03T15:47:18.004Z"
   },
   {
    "duration": 938,
    "start_time": "2023-07-03T15:47:19.555Z"
   },
   {
    "duration": 2,
    "start_time": "2023-07-03T15:47:20.566Z"
   },
   {
    "duration": 2,
    "start_time": "2023-07-03T15:47:21.303Z"
   },
   {
    "duration": 3,
    "start_time": "2023-07-03T15:47:22.478Z"
   },
   {
    "duration": 2,
    "start_time": "2023-07-03T15:47:23.416Z"
   },
   {
    "duration": 2,
    "start_time": "2023-07-03T15:47:24.393Z"
   },
   {
    "duration": 74,
    "start_time": "2023-07-03T15:47:24.842Z"
   },
   {
    "duration": 42,
    "start_time": "2023-07-03T15:47:26.943Z"
   },
   {
    "duration": 413,
    "start_time": "2023-07-03T15:47:32.180Z"
   },
   {
    "duration": 485,
    "start_time": "2023-07-03T15:47:33.542Z"
   },
   {
    "duration": 256,
    "start_time": "2023-07-03T15:47:35.481Z"
   },
   {
    "duration": 37,
    "start_time": "2023-07-03T15:47:40.398Z"
   },
   {
    "duration": 659,
    "start_time": "2023-07-03T15:47:41.539Z"
   },
   {
    "duration": 183,
    "start_time": "2023-07-03T15:47:44.515Z"
   },
   {
    "duration": 2,
    "start_time": "2023-07-03T15:47:52.711Z"
   },
   {
    "duration": 11,
    "start_time": "2023-07-03T15:47:53.144Z"
   },
   {
    "duration": 41,
    "start_time": "2023-07-03T15:47:55.447Z"
   },
   {
    "duration": 285,
    "start_time": "2023-07-03T15:48:00.614Z"
   },
   {
    "duration": 32,
    "start_time": "2023-07-03T15:48:01.135Z"
   },
   {
    "duration": 19,
    "start_time": "2023-07-03T15:48:04.548Z"
   },
   {
    "duration": 31,
    "start_time": "2023-07-03T15:48:05.180Z"
   },
   {
    "duration": 16,
    "start_time": "2023-07-03T15:48:08.727Z"
   },
   {
    "duration": 103,
    "start_time": "2023-07-03T15:48:09.574Z"
   },
   {
    "duration": 257,
    "start_time": "2023-07-03T15:48:10.198Z"
   },
   {
    "duration": 10,
    "start_time": "2023-07-03T15:48:21.332Z"
   },
   {
    "duration": 3,
    "start_time": "2023-07-03T15:48:23.677Z"
   },
   {
    "duration": 2,
    "start_time": "2023-07-03T15:48:26.839Z"
   },
   {
    "duration": 3,
    "start_time": "2023-07-03T15:48:29.821Z"
   },
   {
    "duration": 4,
    "start_time": "2023-07-03T15:48:30.339Z"
   },
   {
    "duration": 40,
    "start_time": "2023-07-03T15:48:33.182Z"
   },
   {
    "duration": 12,
    "start_time": "2023-07-03T15:48:34.317Z"
   },
   {
    "duration": 4,
    "start_time": "2023-07-03T15:48:35.049Z"
   },
   {
    "duration": 6,
    "start_time": "2023-07-03T15:48:35.744Z"
   },
   {
    "duration": 26,
    "start_time": "2023-07-03T15:48:38.606Z"
   },
   {
    "duration": 7,
    "start_time": "2023-07-03T15:48:46.215Z"
   },
   {
    "duration": 4,
    "start_time": "2023-07-03T15:48:46.803Z"
   },
   {
    "duration": 2,
    "start_time": "2023-07-03T15:48:48.330Z"
   },
   {
    "duration": 996,
    "start_time": "2023-07-03T15:48:52.749Z"
   },
   {
    "duration": 3,
    "start_time": "2023-07-03T15:48:55.324Z"
   },
   {
    "duration": 5,
    "start_time": "2023-07-03T15:48:59.389Z"
   },
   {
    "duration": 878,
    "start_time": "2023-07-03T15:49:02.988Z"
   },
   {
    "duration": 1188,
    "start_time": "2023-07-03T15:49:14.296Z"
   },
   {
    "duration": 5,
    "start_time": "2023-07-03T15:49:17.848Z"
   },
   {
    "duration": 2,
    "start_time": "2023-07-03T15:49:23.865Z"
   },
   {
    "duration": 88,
    "start_time": "2023-07-03T15:49:26.204Z"
   },
   {
    "duration": 20,
    "start_time": "2023-07-03T15:50:07.792Z"
   },
   {
    "duration": 3,
    "start_time": "2023-07-03T15:50:31.023Z"
   },
   {
    "duration": 91,
    "start_time": "2023-07-03T15:50:31.703Z"
   },
   {
    "duration": 4,
    "start_time": "2023-07-03T15:50:36.602Z"
   },
   {
    "duration": 3,
    "start_time": "2023-07-03T15:50:37.647Z"
   },
   {
    "duration": 11,
    "start_time": "2023-07-03T15:50:38.436Z"
   },
   {
    "duration": 4,
    "start_time": "2023-07-03T15:50:46.536Z"
   },
   {
    "duration": 3,
    "start_time": "2023-07-03T15:50:47.396Z"
   },
   {
    "duration": 3,
    "start_time": "2023-07-03T15:52:17.779Z"
   },
   {
    "duration": 72874,
    "start_time": "2023-07-03T15:52:19.533Z"
   },
   {
    "duration": 3221,
    "start_time": "2023-07-03T15:56:34.940Z"
   },
   {
    "duration": 3964,
    "start_time": "2023-07-03T15:56:38.163Z"
   },
   {
    "duration": 2,
    "start_time": "2023-07-03T15:56:42.129Z"
   },
   {
    "duration": 921,
    "start_time": "2023-07-03T15:56:42.132Z"
   },
   {
    "duration": 2,
    "start_time": "2023-07-03T15:56:43.055Z"
   },
   {
    "duration": 12,
    "start_time": "2023-07-03T15:56:43.058Z"
   },
   {
    "duration": 11,
    "start_time": "2023-07-03T15:56:43.072Z"
   },
   {
    "duration": 15,
    "start_time": "2023-07-03T15:56:43.085Z"
   },
   {
    "duration": 21,
    "start_time": "2023-07-03T15:56:43.101Z"
   },
   {
    "duration": 88,
    "start_time": "2023-07-03T15:56:43.125Z"
   },
   {
    "duration": 41,
    "start_time": "2023-07-03T15:56:43.215Z"
   },
   {
    "duration": 389,
    "start_time": "2023-07-03T15:56:43.257Z"
   },
   {
    "duration": 466,
    "start_time": "2023-07-03T15:56:43.647Z"
   },
   {
    "duration": 242,
    "start_time": "2023-07-03T15:56:44.114Z"
   },
   {
    "duration": 45,
    "start_time": "2023-07-03T15:56:44.357Z"
   },
   {
    "duration": 665,
    "start_time": "2023-07-03T15:56:44.404Z"
   },
   {
    "duration": 195,
    "start_time": "2023-07-03T15:56:45.071Z"
   },
   {
    "duration": 3,
    "start_time": "2023-07-03T15:56:45.267Z"
   },
   {
    "duration": 23,
    "start_time": "2023-07-03T15:56:45.271Z"
   },
   {
    "duration": 50,
    "start_time": "2023-07-03T15:56:45.295Z"
   },
   {
    "duration": 311,
    "start_time": "2023-07-03T15:56:45.347Z"
   },
   {
    "duration": 41,
    "start_time": "2023-07-03T15:56:45.659Z"
   },
   {
    "duration": 19,
    "start_time": "2023-07-03T15:56:45.701Z"
   },
   {
    "duration": 34,
    "start_time": "2023-07-03T15:56:45.721Z"
   },
   {
    "duration": 15,
    "start_time": "2023-07-03T15:56:45.756Z"
   },
   {
    "duration": 120,
    "start_time": "2023-07-03T15:56:45.772Z"
   },
   {
    "duration": 251,
    "start_time": "2023-07-03T15:56:45.894Z"
   },
   {
    "duration": 4,
    "start_time": "2023-07-03T15:56:46.148Z"
   },
   {
    "duration": 112,
    "start_time": "2023-07-03T15:56:46.153Z"
   },
   {
    "duration": 4,
    "start_time": "2023-07-03T15:56:46.266Z"
   },
   {
    "duration": 695,
    "start_time": "2023-07-03T15:56:46.271Z"
   },
   {
    "duration": 645,
    "start_time": "2023-07-03T15:56:46.968Z"
   },
   {
    "duration": 642,
    "start_time": "2023-07-03T15:56:47.615Z"
   },
   {
    "duration": 11,
    "start_time": "2023-07-03T15:56:48.258Z"
   },
   {
    "duration": 6,
    "start_time": "2023-07-03T15:56:48.271Z"
   },
   {
    "duration": 8,
    "start_time": "2023-07-03T15:56:48.279Z"
   },
   {
    "duration": 11,
    "start_time": "2023-07-03T15:56:48.288Z"
   },
   {
    "duration": 6,
    "start_time": "2023-07-03T15:56:48.301Z"
   },
   {
    "duration": 4,
    "start_time": "2023-07-03T15:56:48.309Z"
   },
   {
    "duration": 50,
    "start_time": "2023-07-03T15:56:48.314Z"
   },
   {
    "duration": 13,
    "start_time": "2023-07-03T15:56:48.365Z"
   },
   {
    "duration": 8,
    "start_time": "2023-07-03T15:56:48.380Z"
   },
   {
    "duration": 6,
    "start_time": "2023-07-03T15:56:48.399Z"
   },
   {
    "duration": 26,
    "start_time": "2023-07-03T15:56:48.406Z"
   },
   {
    "duration": 5,
    "start_time": "2023-07-03T15:56:48.433Z"
   },
   {
    "duration": 47,
    "start_time": "2023-07-03T15:56:48.439Z"
   },
   {
    "duration": 14,
    "start_time": "2023-07-03T15:56:48.487Z"
   },
   {
    "duration": 6,
    "start_time": "2023-07-03T15:56:48.502Z"
   },
   {
    "duration": 5,
    "start_time": "2023-07-03T15:56:48.509Z"
   },
   {
    "duration": 1032,
    "start_time": "2023-07-03T15:56:48.515Z"
   },
   {
    "duration": 3,
    "start_time": "2023-07-03T15:56:49.548Z"
   },
   {
    "duration": 8,
    "start_time": "2023-07-03T15:56:49.552Z"
   },
   {
    "duration": 1356,
    "start_time": "2023-07-03T15:56:49.561Z"
   },
   {
    "duration": 4,
    "start_time": "2023-07-03T15:56:50.919Z"
   },
   {
    "duration": 27,
    "start_time": "2023-07-03T15:56:50.924Z"
   },
   {
    "duration": 3,
    "start_time": "2023-07-03T15:56:50.952Z"
   },
   {
    "duration": 4,
    "start_time": "2023-07-03T15:56:50.957Z"
   },
   {
    "duration": 6,
    "start_time": "2023-07-03T15:56:50.962Z"
   },
   {
    "duration": 958,
    "start_time": "2023-07-03T15:56:50.970Z"
   },
   {
    "duration": 0,
    "start_time": "2023-07-03T15:56:51.930Z"
   },
   {
    "duration": 0,
    "start_time": "2023-07-03T15:56:51.931Z"
   },
   {
    "duration": 0,
    "start_time": "2023-07-03T15:56:51.932Z"
   },
   {
    "duration": 0,
    "start_time": "2023-07-03T15:56:51.933Z"
   },
   {
    "duration": 0,
    "start_time": "2023-07-03T15:56:51.934Z"
   },
   {
    "duration": 0,
    "start_time": "2023-07-03T15:56:51.935Z"
   },
   {
    "duration": 0,
    "start_time": "2023-07-03T15:56:51.936Z"
   },
   {
    "duration": 0,
    "start_time": "2023-07-03T15:56:51.937Z"
   },
   {
    "duration": 0,
    "start_time": "2023-07-03T15:56:51.937Z"
   },
   {
    "duration": 0,
    "start_time": "2023-07-03T15:56:51.938Z"
   },
   {
    "duration": 0,
    "start_time": "2023-07-03T15:56:51.938Z"
   },
   {
    "duration": 0,
    "start_time": "2023-07-03T15:56:51.939Z"
   },
   {
    "duration": 0,
    "start_time": "2023-07-03T15:56:51.940Z"
   },
   {
    "duration": 0,
    "start_time": "2023-07-03T15:56:51.941Z"
   },
   {
    "duration": 0,
    "start_time": "2023-07-03T15:56:51.941Z"
   },
   {
    "duration": 0,
    "start_time": "2023-07-03T15:56:51.942Z"
   },
   {
    "duration": 0,
    "start_time": "2023-07-03T15:56:51.943Z"
   },
   {
    "duration": 0,
    "start_time": "2023-07-03T15:56:51.943Z"
   },
   {
    "duration": 0,
    "start_time": "2023-07-03T15:56:51.944Z"
   },
   {
    "duration": 0,
    "start_time": "2023-07-03T15:56:51.945Z"
   },
   {
    "duration": 0,
    "start_time": "2023-07-03T15:56:51.946Z"
   },
   {
    "duration": 0,
    "start_time": "2023-07-03T15:56:51.946Z"
   },
   {
    "duration": 0,
    "start_time": "2023-07-03T15:56:51.947Z"
   },
   {
    "duration": 0,
    "start_time": "2023-07-03T15:56:51.948Z"
   },
   {
    "duration": 0,
    "start_time": "2023-07-03T15:56:51.948Z"
   },
   {
    "duration": 0,
    "start_time": "2023-07-03T15:56:51.949Z"
   },
   {
    "duration": 0,
    "start_time": "2023-07-03T15:56:51.950Z"
   },
   {
    "duration": 0,
    "start_time": "2023-07-03T15:56:51.950Z"
   },
   {
    "duration": 0,
    "start_time": "2023-07-03T15:56:51.951Z"
   },
   {
    "duration": 0,
    "start_time": "2023-07-03T15:56:51.952Z"
   },
   {
    "duration": 0,
    "start_time": "2023-07-03T15:56:51.953Z"
   },
   {
    "duration": 0,
    "start_time": "2023-07-03T15:56:51.953Z"
   },
   {
    "duration": 0,
    "start_time": "2023-07-03T15:56:51.954Z"
   },
   {
    "duration": 0,
    "start_time": "2023-07-03T15:56:51.955Z"
   },
   {
    "duration": 0,
    "start_time": "2023-07-03T15:56:51.955Z"
   },
   {
    "duration": 2246,
    "start_time": "2023-07-03T16:00:06.926Z"
   },
   {
    "duration": 1227,
    "start_time": "2023-07-03T16:00:09.174Z"
   },
   {
    "duration": 3,
    "start_time": "2023-07-03T16:00:10.402Z"
   },
   {
    "duration": 721,
    "start_time": "2023-07-03T16:00:10.407Z"
   },
   {
    "duration": 3,
    "start_time": "2023-07-03T16:00:11.129Z"
   },
   {
    "duration": 4,
    "start_time": "2023-07-03T16:00:11.134Z"
   },
   {
    "duration": 5,
    "start_time": "2023-07-03T16:00:11.140Z"
   },
   {
    "duration": 9,
    "start_time": "2023-07-03T16:00:11.147Z"
   },
   {
    "duration": 6,
    "start_time": "2023-07-03T16:00:11.158Z"
   },
   {
    "duration": 95,
    "start_time": "2023-07-03T16:00:11.167Z"
   },
   {
    "duration": 51,
    "start_time": "2023-07-03T16:00:11.264Z"
   },
   {
    "duration": 390,
    "start_time": "2023-07-03T16:00:11.317Z"
   },
   {
    "duration": 479,
    "start_time": "2023-07-03T16:00:11.709Z"
   },
   {
    "duration": 256,
    "start_time": "2023-07-03T16:00:12.190Z"
   },
   {
    "duration": 39,
    "start_time": "2023-07-03T16:00:12.448Z"
   },
   {
    "duration": 733,
    "start_time": "2023-07-03T16:00:12.488Z"
   },
   {
    "duration": 206,
    "start_time": "2023-07-03T16:00:13.223Z"
   },
   {
    "duration": 2,
    "start_time": "2023-07-03T16:00:13.431Z"
   },
   {
    "duration": 15,
    "start_time": "2023-07-03T16:00:13.435Z"
   },
   {
    "duration": 71,
    "start_time": "2023-07-03T16:00:13.452Z"
   },
   {
    "duration": 334,
    "start_time": "2023-07-03T16:00:13.525Z"
   },
   {
    "duration": 43,
    "start_time": "2023-07-03T16:00:13.860Z"
   },
   {
    "duration": 21,
    "start_time": "2023-07-03T16:00:13.904Z"
   },
   {
    "duration": 40,
    "start_time": "2023-07-03T16:00:13.927Z"
   },
   {
    "duration": 17,
    "start_time": "2023-07-03T16:00:13.969Z"
   },
   {
    "duration": 115,
    "start_time": "2023-07-03T16:00:14.000Z"
   },
   {
    "duration": 260,
    "start_time": "2023-07-03T16:00:14.117Z"
   },
   {
    "duration": 4,
    "start_time": "2023-07-03T16:00:14.381Z"
   },
   {
    "duration": 84,
    "start_time": "2023-07-03T16:00:14.386Z"
   },
   {
    "duration": 3,
    "start_time": "2023-07-03T16:00:14.471Z"
   },
   {
    "duration": 698,
    "start_time": "2023-07-03T16:00:14.475Z"
   },
   {
    "duration": 722,
    "start_time": "2023-07-03T16:00:15.175Z"
   },
   {
    "duration": 760,
    "start_time": "2023-07-03T16:00:15.898Z"
   },
   {
    "duration": 11,
    "start_time": "2023-07-03T16:00:16.660Z"
   },
   {
    "duration": 11,
    "start_time": "2023-07-03T16:00:16.673Z"
   },
   {
    "duration": 11,
    "start_time": "2023-07-03T16:00:16.685Z"
   },
   {
    "duration": 9,
    "start_time": "2023-07-03T16:00:16.698Z"
   },
   {
    "duration": 9,
    "start_time": "2023-07-03T16:00:16.708Z"
   },
   {
    "duration": 10,
    "start_time": "2023-07-03T16:00:16.718Z"
   },
   {
    "duration": 56,
    "start_time": "2023-07-03T16:00:16.729Z"
   },
   {
    "duration": 14,
    "start_time": "2023-07-03T16:00:16.786Z"
   },
   {
    "duration": 8,
    "start_time": "2023-07-03T16:00:16.802Z"
   },
   {
    "duration": 13,
    "start_time": "2023-07-03T16:00:16.812Z"
   },
   {
    "duration": 29,
    "start_time": "2023-07-03T16:00:16.826Z"
   },
   {
    "duration": 5,
    "start_time": "2023-07-03T16:00:16.857Z"
   },
   {
    "duration": 55,
    "start_time": "2023-07-03T16:00:16.863Z"
   },
   {
    "duration": 13,
    "start_time": "2023-07-03T16:00:16.919Z"
   },
   {
    "duration": 21,
    "start_time": "2023-07-03T16:00:16.933Z"
   },
   {
    "duration": 9,
    "start_time": "2023-07-03T16:00:16.955Z"
   },
   {
    "duration": 1188,
    "start_time": "2023-07-03T16:00:16.965Z"
   },
   {
    "duration": 3,
    "start_time": "2023-07-03T16:00:18.154Z"
   },
   {
    "duration": 18,
    "start_time": "2023-07-03T16:00:18.158Z"
   },
   {
    "duration": 1435,
    "start_time": "2023-07-03T16:00:18.177Z"
   },
   {
    "duration": 4,
    "start_time": "2023-07-03T16:00:19.613Z"
   },
   {
    "duration": 37,
    "start_time": "2023-07-03T16:00:19.619Z"
   },
   {
    "duration": 2,
    "start_time": "2023-07-03T16:00:19.658Z"
   },
   {
    "duration": 93,
    "start_time": "2023-07-03T16:00:19.661Z"
   },
   {
    "duration": 22,
    "start_time": "2023-07-03T16:00:19.755Z"
   },
   {
    "duration": 22,
    "start_time": "2023-07-03T16:00:19.778Z"
   },
   {
    "duration": 21,
    "start_time": "2023-07-03T16:00:19.801Z"
   },
   {
    "duration": 14,
    "start_time": "2023-07-03T16:00:19.823Z"
   },
   {
    "duration": 1287,
    "start_time": "2023-07-03T16:00:19.838Z"
   },
   {
    "duration": 0,
    "start_time": "2023-07-03T16:00:21.127Z"
   },
   {
    "duration": 0,
    "start_time": "2023-07-03T16:00:21.128Z"
   },
   {
    "duration": 0,
    "start_time": "2023-07-03T16:00:21.129Z"
   },
   {
    "duration": 0,
    "start_time": "2023-07-03T16:00:21.130Z"
   },
   {
    "duration": 0,
    "start_time": "2023-07-03T16:00:21.131Z"
   },
   {
    "duration": 0,
    "start_time": "2023-07-03T16:00:21.131Z"
   },
   {
    "duration": 0,
    "start_time": "2023-07-03T16:00:21.133Z"
   },
   {
    "duration": 0,
    "start_time": "2023-07-03T16:00:21.134Z"
   },
   {
    "duration": 0,
    "start_time": "2023-07-03T16:00:21.135Z"
   },
   {
    "duration": 0,
    "start_time": "2023-07-03T16:00:21.135Z"
   },
   {
    "duration": 0,
    "start_time": "2023-07-03T16:00:21.136Z"
   },
   {
    "duration": 0,
    "start_time": "2023-07-03T16:00:21.137Z"
   },
   {
    "duration": 0,
    "start_time": "2023-07-03T16:00:21.138Z"
   },
   {
    "duration": 0,
    "start_time": "2023-07-03T16:00:21.139Z"
   },
   {
    "duration": 0,
    "start_time": "2023-07-03T16:00:21.139Z"
   },
   {
    "duration": 0,
    "start_time": "2023-07-03T16:00:21.140Z"
   },
   {
    "duration": 0,
    "start_time": "2023-07-03T16:00:21.141Z"
   },
   {
    "duration": 0,
    "start_time": "2023-07-03T16:00:21.142Z"
   },
   {
    "duration": 0,
    "start_time": "2023-07-03T16:00:21.143Z"
   },
   {
    "duration": 0,
    "start_time": "2023-07-03T16:00:21.144Z"
   },
   {
    "duration": 0,
    "start_time": "2023-07-03T16:00:21.145Z"
   },
   {
    "duration": 0,
    "start_time": "2023-07-03T16:00:21.146Z"
   },
   {
    "duration": 0,
    "start_time": "2023-07-03T16:00:21.147Z"
   },
   {
    "duration": 0,
    "start_time": "2023-07-03T16:00:21.147Z"
   },
   {
    "duration": 0,
    "start_time": "2023-07-03T16:00:21.148Z"
   },
   {
    "duration": 0,
    "start_time": "2023-07-03T16:00:21.148Z"
   },
   {
    "duration": 0,
    "start_time": "2023-07-03T16:00:21.149Z"
   },
   {
    "duration": 0,
    "start_time": "2023-07-03T16:00:21.149Z"
   },
   {
    "duration": 0,
    "start_time": "2023-07-03T16:00:21.150Z"
   },
   {
    "duration": 0,
    "start_time": "2023-07-03T16:00:21.151Z"
   },
   {
    "duration": 0,
    "start_time": "2023-07-03T16:00:21.152Z"
   },
   {
    "duration": 0,
    "start_time": "2023-07-03T16:00:21.153Z"
   },
   {
    "duration": 0,
    "start_time": "2023-07-03T16:00:21.153Z"
   },
   {
    "duration": 0,
    "start_time": "2023-07-03T16:00:21.154Z"
   },
   {
    "duration": 0,
    "start_time": "2023-07-03T16:00:21.155Z"
   },
   {
    "duration": 3,
    "start_time": "2023-07-03T16:01:02.924Z"
   },
   {
    "duration": 67142,
    "start_time": "2023-07-03T16:01:03.964Z"
   },
   {
    "duration": 75,
    "start_time": "2023-07-03T16:03:15.120Z"
   },
   {
    "duration": 15671,
    "start_time": "2023-07-03T16:03:28.749Z"
   },
   {
    "duration": 85,
    "start_time": "2023-07-03T16:03:45.817Z"
   },
   {
    "duration": 2,
    "start_time": "2023-07-03T16:03:46.955Z"
   },
   {
    "duration": 44,
    "start_time": "2023-07-03T16:03:52.850Z"
   },
   {
    "duration": 295,
    "start_time": "2023-07-03T16:03:54.173Z"
   },
   {
    "duration": 21165,
    "start_time": "2023-07-03T16:03:59.475Z"
   },
   {
    "duration": 3,
    "start_time": "2023-07-03T16:04:20.642Z"
   },
   {
    "duration": 966,
    "start_time": "2023-07-03T16:04:20.646Z"
   },
   {
    "duration": 236,
    "start_time": "2023-07-03T16:04:21.614Z"
   },
   {
    "duration": 10,
    "start_time": "2023-07-03T16:04:21.852Z"
   },
   {
    "duration": 3,
    "start_time": "2023-07-03T16:04:21.864Z"
   },
   {
    "duration": 68079,
    "start_time": "2023-07-03T16:04:21.868Z"
   },
   {
    "duration": 3,
    "start_time": "2023-07-03T16:05:29.948Z"
   },
   {
    "duration": 19591,
    "start_time": "2023-07-03T16:08:04.801Z"
   },
   {
    "duration": 0,
    "start_time": "2023-07-03T16:08:24.395Z"
   },
   {
    "duration": 0,
    "start_time": "2023-07-03T16:08:24.396Z"
   },
   {
    "duration": 0,
    "start_time": "2023-07-03T16:08:24.397Z"
   },
   {
    "duration": 0,
    "start_time": "2023-07-03T16:08:24.399Z"
   },
   {
    "duration": 0,
    "start_time": "2023-07-03T16:08:24.400Z"
   },
   {
    "duration": 0,
    "start_time": "2023-07-03T16:08:24.401Z"
   },
   {
    "duration": 0,
    "start_time": "2023-07-03T16:08:24.402Z"
   },
   {
    "duration": 0,
    "start_time": "2023-07-03T16:08:24.403Z"
   },
   {
    "duration": 0,
    "start_time": "2023-07-03T16:08:24.404Z"
   },
   {
    "duration": 0,
    "start_time": "2023-07-03T16:08:24.405Z"
   },
   {
    "duration": 0,
    "start_time": "2023-07-03T16:08:24.406Z"
   },
   {
    "duration": 0,
    "start_time": "2023-07-03T16:08:24.406Z"
   },
   {
    "duration": 0,
    "start_time": "2023-07-03T16:08:24.407Z"
   },
   {
    "duration": 0,
    "start_time": "2023-07-03T16:08:24.408Z"
   },
   {
    "duration": 0,
    "start_time": "2023-07-03T16:08:24.408Z"
   },
   {
    "duration": 0,
    "start_time": "2023-07-03T16:08:24.409Z"
   },
   {
    "duration": 0,
    "start_time": "2023-07-03T16:08:24.410Z"
   },
   {
    "duration": 0,
    "start_time": "2023-07-03T16:08:24.411Z"
   },
   {
    "duration": 0,
    "start_time": "2023-07-03T16:08:24.412Z"
   },
   {
    "duration": 0,
    "start_time": "2023-07-03T16:08:24.414Z"
   },
   {
    "duration": 0,
    "start_time": "2023-07-03T16:08:24.415Z"
   },
   {
    "duration": 12,
    "start_time": "2023-07-03T16:13:56.822Z"
   },
   {
    "duration": 1997,
    "start_time": "2023-07-03T16:18:44.635Z"
   },
   {
    "duration": 1155,
    "start_time": "2023-07-03T16:18:46.635Z"
   },
   {
    "duration": 2,
    "start_time": "2023-07-03T16:18:47.792Z"
   },
   {
    "duration": 707,
    "start_time": "2023-07-03T16:18:47.796Z"
   },
   {
    "duration": 2,
    "start_time": "2023-07-03T16:18:48.505Z"
   },
   {
    "duration": 9,
    "start_time": "2023-07-03T16:18:48.508Z"
   },
   {
    "duration": 9,
    "start_time": "2023-07-03T16:18:48.518Z"
   },
   {
    "duration": 7,
    "start_time": "2023-07-03T16:18:48.528Z"
   },
   {
    "duration": 4,
    "start_time": "2023-07-03T16:18:48.536Z"
   },
   {
    "duration": 76,
    "start_time": "2023-07-03T16:18:48.542Z"
   },
   {
    "duration": 44,
    "start_time": "2023-07-03T16:18:48.620Z"
   },
   {
    "duration": 387,
    "start_time": "2023-07-03T16:18:48.666Z"
   },
   {
    "duration": 500,
    "start_time": "2023-07-03T16:18:49.055Z"
   },
   {
    "duration": 264,
    "start_time": "2023-07-03T16:18:49.557Z"
   },
   {
    "duration": 39,
    "start_time": "2023-07-03T16:18:49.823Z"
   },
   {
    "duration": 690,
    "start_time": "2023-07-03T16:18:49.863Z"
   },
   {
    "duration": 200,
    "start_time": "2023-07-03T16:18:50.554Z"
   },
   {
    "duration": 3,
    "start_time": "2023-07-03T16:18:50.755Z"
   },
   {
    "duration": 15,
    "start_time": "2023-07-03T16:18:50.759Z"
   },
   {
    "duration": 73,
    "start_time": "2023-07-03T16:18:50.776Z"
   },
   {
    "duration": 322,
    "start_time": "2023-07-03T16:18:50.851Z"
   },
   {
    "duration": 43,
    "start_time": "2023-07-03T16:18:51.175Z"
   },
   {
    "duration": 21,
    "start_time": "2023-07-03T16:18:51.219Z"
   },
   {
    "duration": 35,
    "start_time": "2023-07-03T16:18:51.241Z"
   },
   {
    "duration": 35,
    "start_time": "2023-07-03T16:18:51.278Z"
   },
   {
    "duration": 120,
    "start_time": "2023-07-03T16:18:51.314Z"
   },
   {
    "duration": 266,
    "start_time": "2023-07-03T16:18:51.435Z"
   },
   {
    "duration": 4,
    "start_time": "2023-07-03T16:18:51.706Z"
   },
   {
    "duration": 80,
    "start_time": "2023-07-03T16:18:51.711Z"
   },
   {
    "duration": 8,
    "start_time": "2023-07-03T16:18:51.792Z"
   },
   {
    "duration": 654,
    "start_time": "2023-07-03T16:18:51.801Z"
   },
   {
    "duration": 661,
    "start_time": "2023-07-03T16:18:52.456Z"
   },
   {
    "duration": 655,
    "start_time": "2023-07-03T16:18:53.118Z"
   },
   {
    "duration": 12,
    "start_time": "2023-07-03T16:18:53.774Z"
   },
   {
    "duration": 13,
    "start_time": "2023-07-03T16:18:53.787Z"
   },
   {
    "duration": 2,
    "start_time": "2023-07-03T16:18:53.801Z"
   },
   {
    "duration": 22,
    "start_time": "2023-07-03T16:18:53.804Z"
   },
   {
    "duration": 19,
    "start_time": "2023-07-03T16:18:53.827Z"
   },
   {
    "duration": 20,
    "start_time": "2023-07-03T16:18:53.847Z"
   },
   {
    "duration": 53,
    "start_time": "2023-07-03T16:18:53.868Z"
   },
   {
    "duration": 13,
    "start_time": "2023-07-03T16:18:53.922Z"
   },
   {
    "duration": 20,
    "start_time": "2023-07-03T16:18:53.937Z"
   },
   {
    "duration": 30,
    "start_time": "2023-07-03T16:18:53.958Z"
   },
   {
    "duration": 32,
    "start_time": "2023-07-03T16:18:53.990Z"
   },
   {
    "duration": 4,
    "start_time": "2023-07-03T16:18:54.024Z"
   },
   {
    "duration": 39,
    "start_time": "2023-07-03T16:18:54.030Z"
   },
   {
    "duration": 8,
    "start_time": "2023-07-03T16:18:54.071Z"
   },
   {
    "duration": 3,
    "start_time": "2023-07-03T16:18:54.081Z"
   },
   {
    "duration": 3,
    "start_time": "2023-07-03T16:18:54.099Z"
   },
   {
    "duration": 1032,
    "start_time": "2023-07-03T16:18:54.104Z"
   },
   {
    "duration": 3,
    "start_time": "2023-07-03T16:18:55.138Z"
   },
   {
    "duration": 6,
    "start_time": "2023-07-03T16:18:55.143Z"
   },
   {
    "duration": 1486,
    "start_time": "2023-07-03T16:18:55.151Z"
   },
   {
    "duration": 21,
    "start_time": "2023-07-03T16:18:56.638Z"
   },
   {
    "duration": 18,
    "start_time": "2023-07-03T16:18:56.660Z"
   },
   {
    "duration": 20,
    "start_time": "2023-07-03T16:18:56.679Z"
   },
   {
    "duration": 85,
    "start_time": "2023-07-03T16:18:56.700Z"
   },
   {
    "duration": 23,
    "start_time": "2023-07-03T16:18:56.787Z"
   },
   {
    "duration": 5,
    "start_time": "2023-07-03T16:18:56.811Z"
   },
   {
    "duration": 7,
    "start_time": "2023-07-03T16:18:56.818Z"
   },
   {
    "duration": 8,
    "start_time": "2023-07-03T16:18:56.827Z"
   },
   {
    "duration": 75270,
    "start_time": "2023-07-03T16:18:56.836Z"
   },
   {
    "duration": 26417,
    "start_time": "2023-07-03T16:20:12.107Z"
   },
   {
    "duration": 116,
    "start_time": "2023-07-03T16:20:38.526Z"
   },
   {
    "duration": 4,
    "start_time": "2023-07-03T16:20:38.700Z"
   },
   {
    "duration": 140,
    "start_time": "2023-07-03T16:20:38.705Z"
   },
   {
    "duration": 223,
    "start_time": "2023-07-03T16:20:38.847Z"
   },
   {
    "duration": 3230,
    "start_time": "2023-07-03T16:20:39.071Z"
   },
   {
    "duration": 0,
    "start_time": "2023-07-03T16:20:42.303Z"
   },
   {
    "duration": 0,
    "start_time": "2023-07-03T16:20:42.304Z"
   },
   {
    "duration": 0,
    "start_time": "2023-07-03T16:20:42.306Z"
   },
   {
    "duration": 0,
    "start_time": "2023-07-03T16:20:42.307Z"
   },
   {
    "duration": 0,
    "start_time": "2023-07-03T16:20:42.309Z"
   },
   {
    "duration": 0,
    "start_time": "2023-07-03T16:20:42.310Z"
   },
   {
    "duration": 0,
    "start_time": "2023-07-03T16:20:42.311Z"
   },
   {
    "duration": 0,
    "start_time": "2023-07-03T16:20:42.312Z"
   },
   {
    "duration": 0,
    "start_time": "2023-07-03T16:20:42.314Z"
   },
   {
    "duration": 0,
    "start_time": "2023-07-03T16:20:42.315Z"
   },
   {
    "duration": 0,
    "start_time": "2023-07-03T16:20:42.316Z"
   },
   {
    "duration": 0,
    "start_time": "2023-07-03T16:20:42.318Z"
   },
   {
    "duration": 0,
    "start_time": "2023-07-03T16:20:42.319Z"
   },
   {
    "duration": 0,
    "start_time": "2023-07-03T16:20:42.320Z"
   },
   {
    "duration": 0,
    "start_time": "2023-07-03T16:20:42.322Z"
   },
   {
    "duration": 0,
    "start_time": "2023-07-03T16:20:42.323Z"
   },
   {
    "duration": 0,
    "start_time": "2023-07-03T16:20:42.324Z"
   },
   {
    "duration": 0,
    "start_time": "2023-07-03T16:20:42.325Z"
   },
   {
    "duration": 0,
    "start_time": "2023-07-03T16:20:42.326Z"
   },
   {
    "duration": 0,
    "start_time": "2023-07-03T16:20:42.328Z"
   },
   {
    "duration": 0,
    "start_time": "2023-07-03T16:20:42.329Z"
   },
   {
    "duration": 0,
    "start_time": "2023-07-03T16:20:42.330Z"
   },
   {
    "duration": 0,
    "start_time": "2023-07-03T16:20:42.331Z"
   },
   {
    "duration": 0,
    "start_time": "2023-07-03T16:20:42.332Z"
   },
   {
    "duration": 0,
    "start_time": "2023-07-03T16:20:42.333Z"
   },
   {
    "duration": 0,
    "start_time": "2023-07-03T16:20:42.334Z"
   },
   {
    "duration": 0,
    "start_time": "2023-07-03T16:20:42.335Z"
   },
   {
    "duration": 0,
    "start_time": "2023-07-03T16:20:42.336Z"
   },
   {
    "duration": 0,
    "start_time": "2023-07-03T16:20:42.337Z"
   },
   {
    "duration": 10,
    "start_time": "2023-07-03T16:24:22.371Z"
   },
   {
    "duration": 14,
    "start_time": "2023-07-03T16:24:30.742Z"
   },
   {
    "duration": 2102,
    "start_time": "2023-07-03T16:45:35.911Z"
   },
   {
    "duration": 1173,
    "start_time": "2023-07-03T16:45:48.042Z"
   },
   {
    "duration": 3,
    "start_time": "2023-07-03T16:45:51.214Z"
   },
   {
    "duration": 757,
    "start_time": "2023-07-03T16:45:52.157Z"
   },
   {
    "duration": 2,
    "start_time": "2023-07-03T16:45:52.916Z"
   },
   {
    "duration": 7,
    "start_time": "2023-07-03T16:45:52.920Z"
   },
   {
    "duration": 4,
    "start_time": "2023-07-03T16:45:53.394Z"
   },
   {
    "duration": 2,
    "start_time": "2023-07-03T16:45:53.895Z"
   },
   {
    "duration": 2,
    "start_time": "2023-07-03T16:45:54.365Z"
   },
   {
    "duration": 75,
    "start_time": "2023-07-03T16:45:54.619Z"
   },
   {
    "duration": 51,
    "start_time": "2023-07-03T16:45:54.848Z"
   },
   {
    "duration": 429,
    "start_time": "2023-07-03T16:45:55.332Z"
   },
   {
    "duration": 588,
    "start_time": "2023-07-03T16:45:55.828Z"
   },
   {
    "duration": 302,
    "start_time": "2023-07-03T16:45:56.419Z"
   },
   {
    "duration": 65,
    "start_time": "2023-07-03T16:45:58.130Z"
   },
   {
    "duration": 729,
    "start_time": "2023-07-03T16:45:58.433Z"
   },
   {
    "duration": 203,
    "start_time": "2023-07-03T16:45:59.666Z"
   },
   {
    "duration": 2,
    "start_time": "2023-07-03T16:45:59.946Z"
   },
   {
    "duration": 24,
    "start_time": "2023-07-03T16:46:00.290Z"
   },
   {
    "duration": 60,
    "start_time": "2023-07-03T16:46:01.555Z"
   },
   {
    "duration": 387,
    "start_time": "2023-07-03T16:46:03.445Z"
   },
   {
    "duration": 39,
    "start_time": "2023-07-03T16:46:04.043Z"
   },
   {
    "duration": 21,
    "start_time": "2023-07-03T16:46:04.748Z"
   },
   {
    "duration": 35,
    "start_time": "2023-07-03T16:46:05.032Z"
   },
   {
    "duration": 17,
    "start_time": "2023-07-03T16:46:06.274Z"
   },
   {
    "duration": 108,
    "start_time": "2023-07-03T16:46:06.624Z"
   },
   {
    "duration": 267,
    "start_time": "2023-07-03T16:46:06.964Z"
   },
   {
    "duration": 3,
    "start_time": "2023-07-03T16:46:07.667Z"
   },
   {
    "duration": 86,
    "start_time": "2023-07-03T16:46:07.992Z"
   },
   {
    "duration": 3,
    "start_time": "2023-07-03T16:47:26.628Z"
   },
   {
    "duration": 700,
    "start_time": "2023-07-03T16:47:27.266Z"
   },
   {
    "duration": 741,
    "start_time": "2023-07-03T16:47:27.968Z"
   },
   {
    "duration": 679,
    "start_time": "2023-07-03T16:47:28.979Z"
   },
   {
    "duration": 12,
    "start_time": "2023-07-03T16:47:30.370Z"
   },
   {
    "duration": 4,
    "start_time": "2023-07-03T16:47:31.066Z"
   },
   {
    "duration": 2,
    "start_time": "2023-07-03T16:47:34.425Z"
   },
   {
    "duration": 3,
    "start_time": "2023-07-03T16:47:36.792Z"
   },
   {
    "duration": 4,
    "start_time": "2023-07-03T16:47:38.257Z"
   },
   {
    "duration": 2,
    "start_time": "2023-07-03T16:47:42.177Z"
   },
   {
    "duration": 50,
    "start_time": "2023-07-03T16:47:44.487Z"
   },
   {
    "duration": 14,
    "start_time": "2023-07-03T16:47:49.031Z"
   },
   {
    "duration": 4,
    "start_time": "2023-07-03T16:47:52.922Z"
   },
   {
    "duration": 8,
    "start_time": "2023-07-03T16:48:07.719Z"
   },
   {
    "duration": 35,
    "start_time": "2023-07-03T16:48:09.381Z"
   },
   {
    "duration": 3,
    "start_time": "2023-07-03T16:48:10.234Z"
   },
   {
    "duration": 67,
    "start_time": "2023-07-03T16:48:11.168Z"
   },
   {
    "duration": 8,
    "start_time": "2023-07-03T16:48:22.285Z"
   },
   {
    "duration": 8,
    "start_time": "2023-07-03T16:48:23.427Z"
   },
   {
    "duration": 2,
    "start_time": "2023-07-03T16:48:25.051Z"
   },
   {
    "duration": 1175,
    "start_time": "2023-07-03T16:48:25.787Z"
   },
   {
    "duration": 3,
    "start_time": "2023-07-03T16:48:26.963Z"
   },
   {
    "duration": 7,
    "start_time": "2023-07-03T16:48:26.967Z"
   },
   {
    "duration": 1340,
    "start_time": "2023-07-03T16:48:27.915Z"
   },
   {
    "duration": 20,
    "start_time": "2023-07-03T16:48:29.257Z"
   },
   {
    "duration": 20,
    "start_time": "2023-07-03T16:48:30.226Z"
   },
   {
    "duration": 2,
    "start_time": "2023-07-03T16:48:32.822Z"
   },
   {
    "duration": 112,
    "start_time": "2023-07-03T16:48:36.039Z"
   },
   {
    "duration": 21,
    "start_time": "2023-07-03T16:48:37.741Z"
   },
   {
    "duration": 4,
    "start_time": "2023-07-03T16:48:38.811Z"
   },
   {
    "duration": 4,
    "start_time": "2023-07-03T16:48:48.419Z"
   },
   {
    "duration": 2,
    "start_time": "2023-07-03T16:48:56.886Z"
   },
   {
    "duration": 216767,
    "start_time": "2023-07-03T16:49:00.643Z"
   },
   {
    "duration": 50381,
    "start_time": "2023-07-03T16:57:28.840Z"
   },
   {
    "duration": 183,
    "start_time": "2023-07-03T16:58:19.223Z"
   },
   {
    "duration": 3,
    "start_time": "2023-07-03T16:58:19.408Z"
   },
   {
    "duration": 84,
    "start_time": "2023-07-03T17:07:06.881Z"
   },
   {
    "duration": 841,
    "start_time": "2023-07-03T17:07:10.033Z"
   },
   {
    "duration": 31,
    "start_time": "2023-07-03T17:07:13.635Z"
   },
   {
    "duration": 29,
    "start_time": "2023-07-03T17:07:20.430Z"
   },
   {
    "duration": 174,
    "start_time": "2023-07-03T17:09:05.761Z"
   },
   {
    "duration": 35,
    "start_time": "2023-07-03T17:09:07.316Z"
   },
   {
    "duration": 41,
    "start_time": "2023-07-03T17:09:27.704Z"
   },
   {
    "duration": 69997,
    "start_time": "2023-07-03T17:09:39.542Z"
   },
   {
    "duration": 4,
    "start_time": "2023-07-03T17:11:09.330Z"
   },
   {
    "duration": 129,
    "start_time": "2023-07-03T17:13:21.951Z"
   },
   {
    "duration": 63533,
    "start_time": "2023-07-03T17:13:26.414Z"
   },
   {
    "duration": 3,
    "start_time": "2023-07-03T17:15:19.162Z"
   },
   {
    "duration": 2845,
    "start_time": "2023-07-03T17:15:53.017Z"
   },
   {
    "duration": 673,
    "start_time": "2023-07-03T17:16:06.975Z"
   },
   {
    "duration": 29,
    "start_time": "2023-07-03T17:16:09.413Z"
   },
   {
    "duration": 4,
    "start_time": "2023-07-03T17:16:15.544Z"
   },
   {
    "duration": 203610,
    "start_time": "2023-07-03T17:16:22.720Z"
   },
   {
    "duration": 56615,
    "start_time": "2023-07-03T17:19:46.332Z"
   },
   {
    "duration": 12,
    "start_time": "2023-07-03T17:21:00.698Z"
   },
   {
    "duration": 48824,
    "start_time": "2023-07-03T17:21:53.232Z"
   },
   {
    "duration": 3,
    "start_time": "2023-07-03T17:22:48.314Z"
   },
   {
    "duration": 35036,
    "start_time": "2023-07-03T17:23:30.533Z"
   },
   {
    "duration": 3,
    "start_time": "2023-07-03T17:24:10.558Z"
   },
   {
    "duration": 29655,
    "start_time": "2023-07-03T17:24:44.167Z"
   },
   {
    "duration": 3,
    "start_time": "2023-07-03T17:25:17.016Z"
   },
   {
    "duration": 23562,
    "start_time": "2023-07-03T17:25:34.738Z"
   },
   {
    "duration": 3,
    "start_time": "2023-07-03T17:26:12.431Z"
   },
   {
    "duration": 17176,
    "start_time": "2023-07-03T17:26:34.577Z"
   },
   {
    "duration": 3,
    "start_time": "2023-07-03T17:26:56.642Z"
   },
   {
    "duration": 2888,
    "start_time": "2023-07-03T17:27:07.767Z"
   },
   {
    "duration": 830,
    "start_time": "2023-07-03T17:28:35.367Z"
   },
   {
    "duration": 15,
    "start_time": "2023-07-03T17:28:36.640Z"
   },
   {
    "duration": 3,
    "start_time": "2023-07-03T17:28:38.040Z"
   },
   {
    "duration": 2051,
    "start_time": "2023-07-03T17:30:15.919Z"
   },
   {
    "duration": 3246,
    "start_time": "2023-07-03T17:30:17.972Z"
   },
   {
    "duration": 2,
    "start_time": "2023-07-03T17:30:21.220Z"
   },
   {
    "duration": 1103,
    "start_time": "2023-07-03T17:30:21.223Z"
   },
   {
    "duration": 3,
    "start_time": "2023-07-03T17:30:22.327Z"
   },
   {
    "duration": 18,
    "start_time": "2023-07-03T17:30:22.331Z"
   },
   {
    "duration": 21,
    "start_time": "2023-07-03T17:30:22.350Z"
   },
   {
    "duration": 15,
    "start_time": "2023-07-03T17:30:22.372Z"
   },
   {
    "duration": 11,
    "start_time": "2023-07-03T17:30:22.388Z"
   },
   {
    "duration": 86,
    "start_time": "2023-07-03T17:30:22.402Z"
   },
   {
    "duration": 47,
    "start_time": "2023-07-03T17:30:22.490Z"
   },
   {
    "duration": 420,
    "start_time": "2023-07-03T17:30:22.539Z"
   },
   {
    "duration": 523,
    "start_time": "2023-07-03T17:30:22.960Z"
   },
   {
    "duration": 287,
    "start_time": "2023-07-03T17:30:23.484Z"
   },
   {
    "duration": 53,
    "start_time": "2023-07-03T17:30:23.773Z"
   },
   {
    "duration": 720,
    "start_time": "2023-07-03T17:30:23.828Z"
   },
   {
    "duration": 221,
    "start_time": "2023-07-03T17:30:24.549Z"
   },
   {
    "duration": 2,
    "start_time": "2023-07-03T17:30:24.771Z"
   },
   {
    "duration": 16,
    "start_time": "2023-07-03T17:30:24.774Z"
   },
   {
    "duration": 55,
    "start_time": "2023-07-03T17:30:24.800Z"
   },
   {
    "duration": 315,
    "start_time": "2023-07-03T17:30:24.856Z"
   },
   {
    "duration": 44,
    "start_time": "2023-07-03T17:30:25.172Z"
   },
   {
    "duration": 20,
    "start_time": "2023-07-03T17:30:25.217Z"
   },
   {
    "duration": 34,
    "start_time": "2023-07-03T17:30:25.238Z"
   },
   {
    "duration": 36,
    "start_time": "2023-07-03T17:30:25.274Z"
   },
   {
    "duration": 128,
    "start_time": "2023-07-03T17:30:25.312Z"
   },
   {
    "duration": 256,
    "start_time": "2023-07-03T17:30:25.442Z"
   },
   {
    "duration": 8,
    "start_time": "2023-07-03T17:30:25.703Z"
   },
   {
    "duration": 74,
    "start_time": "2023-07-03T17:30:25.713Z"
   },
   {
    "duration": 3,
    "start_time": "2023-07-03T17:30:25.789Z"
   },
   {
    "duration": 730,
    "start_time": "2023-07-03T17:30:25.799Z"
   },
   {
    "duration": 689,
    "start_time": "2023-07-03T17:30:26.530Z"
   },
   {
    "duration": 704,
    "start_time": "2023-07-03T17:30:27.220Z"
   },
   {
    "duration": 11,
    "start_time": "2023-07-03T17:30:27.926Z"
   },
   {
    "duration": 15,
    "start_time": "2023-07-03T17:30:27.938Z"
   },
   {
    "duration": 20,
    "start_time": "2023-07-03T17:30:27.955Z"
   },
   {
    "duration": 11,
    "start_time": "2023-07-03T17:30:27.977Z"
   },
   {
    "duration": 29,
    "start_time": "2023-07-03T17:30:27.989Z"
   },
   {
    "duration": 7,
    "start_time": "2023-07-03T17:30:28.019Z"
   },
   {
    "duration": 51,
    "start_time": "2023-07-03T17:30:28.027Z"
   },
   {
    "duration": 13,
    "start_time": "2023-07-03T17:30:28.080Z"
   },
   {
    "duration": 33,
    "start_time": "2023-07-03T17:30:28.094Z"
   },
   {
    "duration": 30,
    "start_time": "2023-07-03T17:30:28.128Z"
   },
   {
    "duration": 26,
    "start_time": "2023-07-03T17:30:28.159Z"
   },
   {
    "duration": 35,
    "start_time": "2023-07-03T17:30:28.187Z"
   },
   {
    "duration": 90,
    "start_time": "2023-07-03T17:30:28.224Z"
   },
   {
    "duration": 24,
    "start_time": "2023-07-03T17:30:28.316Z"
   },
   {
    "duration": 12,
    "start_time": "2023-07-03T17:30:28.341Z"
   },
   {
    "duration": 10,
    "start_time": "2023-07-03T17:30:28.354Z"
   },
   {
    "duration": 1051,
    "start_time": "2023-07-03T17:30:28.366Z"
   },
   {
    "duration": 2,
    "start_time": "2023-07-03T17:30:29.419Z"
   },
   {
    "duration": 14,
    "start_time": "2023-07-03T17:30:29.423Z"
   },
   {
    "duration": 683,
    "start_time": "2023-07-03T17:30:29.438Z"
   },
   {
    "duration": 27,
    "start_time": "2023-07-03T17:30:30.122Z"
   },
   {
    "duration": 18,
    "start_time": "2023-07-03T17:30:30.150Z"
   },
   {
    "duration": 44,
    "start_time": "2023-07-03T17:30:30.169Z"
   },
   {
    "duration": 113,
    "start_time": "2023-07-03T17:30:30.214Z"
   },
   {
    "duration": 22,
    "start_time": "2023-07-03T17:30:30.328Z"
   },
   {
    "duration": 8,
    "start_time": "2023-07-03T17:30:30.351Z"
   },
   {
    "duration": 28,
    "start_time": "2023-07-03T17:30:30.360Z"
   },
   {
    "duration": 36,
    "start_time": "2023-07-03T17:30:30.389Z"
   },
   {
    "duration": 2137,
    "start_time": "2023-07-03T17:40:52.619Z"
   },
   {
    "duration": 3173,
    "start_time": "2023-07-03T17:40:58.622Z"
   },
   {
    "duration": 3,
    "start_time": "2023-07-03T17:41:01.796Z"
   },
   {
    "duration": 1208,
    "start_time": "2023-07-03T17:41:01.810Z"
   },
   {
    "duration": 3,
    "start_time": "2023-07-03T17:41:03.019Z"
   },
   {
    "duration": 32,
    "start_time": "2023-07-03T17:41:03.023Z"
   },
   {
    "duration": 3,
    "start_time": "2023-07-03T17:41:03.553Z"
   },
   {
    "duration": 4,
    "start_time": "2023-07-03T17:41:04.328Z"
   },
   {
    "duration": 3,
    "start_time": "2023-07-03T17:41:05.019Z"
   },
   {
    "duration": 98,
    "start_time": "2023-07-03T17:41:05.315Z"
   },
   {
    "duration": 44,
    "start_time": "2023-07-03T17:41:05.635Z"
   },
   {
    "duration": 587,
    "start_time": "2023-07-03T17:41:06.230Z"
   },
   {
    "duration": 618,
    "start_time": "2023-07-03T17:41:06.842Z"
   },
   {
    "duration": 268,
    "start_time": "2023-07-03T17:41:07.467Z"
   },
   {
    "duration": 59,
    "start_time": "2023-07-03T17:41:08.122Z"
   },
   {
    "duration": 729,
    "start_time": "2023-07-03T17:41:08.452Z"
   },
   {
    "duration": 206,
    "start_time": "2023-07-03T17:41:09.624Z"
   },
   {
    "duration": 3,
    "start_time": "2023-07-03T17:41:10.172Z"
   },
   {
    "duration": 18,
    "start_time": "2023-07-03T17:41:10.765Z"
   },
   {
    "duration": 122,
    "start_time": "2023-07-03T17:41:14.356Z"
   },
   {
    "duration": 340,
    "start_time": "2023-07-03T17:41:16.915Z"
   },
   {
    "duration": 46,
    "start_time": "2023-07-03T17:41:17.480Z"
   },
   {
    "duration": 22,
    "start_time": "2023-07-03T17:41:18.443Z"
   },
   {
    "duration": 34,
    "start_time": "2023-07-03T17:41:18.723Z"
   },
   {
    "duration": 18,
    "start_time": "2023-07-03T17:41:19.747Z"
   },
   {
    "duration": 157,
    "start_time": "2023-07-03T17:41:20.219Z"
   },
   {
    "duration": 269,
    "start_time": "2023-07-03T17:41:20.781Z"
   },
   {
    "duration": 5,
    "start_time": "2023-07-03T17:41:21.772Z"
   },
   {
    "duration": 81,
    "start_time": "2023-07-03T17:41:22.283Z"
   },
   {
    "duration": 6,
    "start_time": "2023-07-03T17:41:26.224Z"
   },
   {
    "duration": 1303,
    "start_time": "2023-07-03T17:41:26.933Z"
   },
   {
    "duration": 2342,
    "start_time": "2023-07-03T17:41:28.238Z"
   },
   {
    "duration": 7833,
    "start_time": "2023-07-03T17:41:30.614Z"
   },
   {
    "duration": 12,
    "start_time": "2023-07-03T17:41:38.449Z"
   },
   {
    "duration": 96,
    "start_time": "2023-07-03T17:41:38.462Z"
   },
   {
    "duration": 3,
    "start_time": "2023-07-03T17:41:44.527Z"
   },
   {
    "duration": 7,
    "start_time": "2023-07-03T17:41:46.619Z"
   },
   {
    "duration": 4,
    "start_time": "2023-07-03T17:41:49.417Z"
   },
   {
    "duration": 61,
    "start_time": "2023-07-03T17:42:06.577Z"
   },
   {
    "duration": 17,
    "start_time": "2023-07-03T17:42:10.672Z"
   },
   {
    "duration": 5,
    "start_time": "2023-07-03T17:42:26.619Z"
   },
   {
    "duration": 7,
    "start_time": "2023-07-03T17:42:27.767Z"
   },
   {
    "duration": 25,
    "start_time": "2023-07-03T17:42:30.158Z"
   },
   {
    "duration": 3,
    "start_time": "2023-07-03T17:42:33.956Z"
   },
   {
    "duration": 40,
    "start_time": "2023-07-03T17:42:35.628Z"
   },
   {
    "duration": 12,
    "start_time": "2023-07-03T17:42:59.620Z"
   },
   {
    "duration": 2,
    "start_time": "2023-07-03T17:43:01.418Z"
   },
   {
    "duration": 1213,
    "start_time": "2023-07-03T17:43:14.525Z"
   },
   {
    "duration": 3,
    "start_time": "2023-07-03T17:43:22.865Z"
   },
   {
    "duration": 6,
    "start_time": "2023-07-03T17:43:33.444Z"
   },
   {
    "duration": 1773,
    "start_time": "2023-07-03T17:43:38.385Z"
   },
   {
    "duration": 34,
    "start_time": "2023-07-03T17:43:45.353Z"
   },
   {
    "duration": 21,
    "start_time": "2023-07-03T17:43:50.820Z"
   },
   {
    "duration": 3,
    "start_time": "2023-07-03T17:43:56.249Z"
   },
   {
    "duration": 104,
    "start_time": "2023-07-03T17:44:03.482Z"
   },
   {
    "duration": 22,
    "start_time": "2023-07-03T17:44:09.261Z"
   },
   {
    "duration": 5,
    "start_time": "2023-07-03T17:44:17.775Z"
   },
   {
    "duration": 4,
    "start_time": "2023-07-03T17:44:19.759Z"
   },
   {
    "duration": 3,
    "start_time": "2023-07-03T17:44:24.953Z"
   },
   {
    "duration": 110151,
    "start_time": "2023-07-03T17:44:50.973Z"
   },
   {
    "duration": 19212,
    "start_time": "2023-07-03T17:47:15.400Z"
   },
   {
    "duration": 95,
    "start_time": "2023-07-03T17:47:34.614Z"
   },
   {
    "duration": 3,
    "start_time": "2023-07-03T17:47:39.587Z"
   },
   {
    "duration": 49,
    "start_time": "2023-07-03T17:48:24.405Z"
   },
   {
    "duration": 560,
    "start_time": "2023-07-03T17:49:50.639Z"
   },
   {
    "duration": 21,
    "start_time": "2023-07-03T17:50:37.347Z"
   },
   {
    "duration": 165,
    "start_time": "2023-07-03T17:51:13.934Z"
   },
   {
    "duration": 20,
    "start_time": "2023-07-03T17:51:30.848Z"
   },
   {
    "duration": 192,
    "start_time": "2023-07-03T17:53:48.222Z"
   },
   {
    "duration": 21,
    "start_time": "2023-07-03T17:53:52.889Z"
   },
   {
    "duration": 18705,
    "start_time": "2023-07-03T17:54:14.622Z"
   },
   {
    "duration": 4,
    "start_time": "2023-07-03T17:54:36.222Z"
   },
   {
    "duration": 17557,
    "start_time": "2023-07-03T17:55:06.444Z"
   },
   {
    "duration": 2148,
    "start_time": "2023-07-03T17:55:26.579Z"
   },
   {
    "duration": 3,
    "start_time": "2023-07-03T17:55:31.427Z"
   },
   {
    "duration": 2232,
    "start_time": "2023-07-03T17:55:40.846Z"
   },
   {
    "duration": 457,
    "start_time": "2023-07-03T17:55:49.082Z"
   },
   {
    "duration": 29,
    "start_time": "2023-07-03T17:55:57.758Z"
   },
   {
    "duration": 3,
    "start_time": "2023-07-03T17:55:58.380Z"
   },
   {
    "duration": 158404,
    "start_time": "2023-07-03T17:56:05.380Z"
   },
   {
    "duration": 2,
    "start_time": "2023-07-03T17:59:46.187Z"
   },
   {
    "duration": 55604,
    "start_time": "2023-07-03T17:59:49.872Z"
   },
   {
    "duration": 13606,
    "start_time": "2023-07-03T18:00:49.444Z"
   },
   {
    "duration": 825,
    "start_time": "2023-07-03T18:01:03.052Z"
   },
   {
    "duration": 3,
    "start_time": "2023-07-03T18:01:03.879Z"
   },
   {
    "duration": 90,
    "start_time": "2023-07-03T18:01:06.681Z"
   },
   {
    "duration": 31,
    "start_time": "2023-07-03T18:01:07.431Z"
   },
   {
    "duration": 33083,
    "start_time": "2023-07-03T18:01:26.639Z"
   },
   {
    "duration": 3,
    "start_time": "2023-07-03T18:04:10.654Z"
   },
   {
    "duration": 3,
    "start_time": "2023-07-03T18:04:25.022Z"
   },
   {
    "duration": 7879,
    "start_time": "2023-07-03T18:04:26.750Z"
   },
   {
    "duration": 1447,
    "start_time": "2023-07-03T18:04:41.071Z"
   },
   {
    "duration": 308,
    "start_time": "2023-07-03T18:04:43.820Z"
   },
   {
    "duration": 3,
    "start_time": "2023-07-03T18:04:46.060Z"
   },
   {
    "duration": 8565231,
    "start_time": "2023-07-03T18:04:49.031Z"
   },
   {
    "duration": 3,
    "start_time": "2023-07-04T00:17:51.615Z"
   },
   {
    "duration": 120,
    "start_time": "2023-07-04T00:18:04.895Z"
   },
   {
    "duration": 3,
    "start_time": "2023-07-04T00:18:27.531Z"
   },
   {
    "duration": 837290,
    "start_time": "2023-07-04T00:18:37.855Z"
   },
   {
    "duration": 205366,
    "start_time": "2023-07-04T00:45:58.466Z"
   },
   {
    "duration": 682,
    "start_time": "2023-07-04T00:49:23.834Z"
   },
   {
    "duration": 2,
    "start_time": "2023-07-04T00:49:24.518Z"
   },
   {
    "duration": 8,
    "start_time": "2023-07-04T00:52:12.087Z"
   },
   {
    "duration": 10,
    "start_time": "2023-07-04T00:53:27.158Z"
   },
   {
    "duration": 9,
    "start_time": "2023-07-04T01:00:42.508Z"
   },
   {
    "duration": 49,
    "start_time": "2023-07-04T01:01:09.451Z"
   },
   {
    "duration": 40,
    "start_time": "2023-07-04T01:02:48.058Z"
   },
   {
    "duration": 5,
    "start_time": "2023-07-04T01:03:07.314Z"
   },
   {
    "duration": 9,
    "start_time": "2023-07-04T19:35:49.403Z"
   },
   {
    "duration": 4289,
    "start_time": "2023-07-04T19:51:23.519Z"
   },
   {
    "duration": 12321,
    "start_time": "2023-07-04T19:52:44.273Z"
   },
   {
    "duration": 2086,
    "start_time": "2023-07-04T19:53:00.127Z"
   },
   {
    "duration": 6,
    "start_time": "2023-07-04T19:53:02.466Z"
   },
   {
    "duration": 3607,
    "start_time": "2023-07-04T19:53:03.402Z"
   },
   {
    "duration": 245,
    "start_time": "2023-07-04T19:53:14.228Z"
   },
   {
    "duration": 25,
    "start_time": "2023-07-04T19:53:16.327Z"
   },
   {
    "duration": 3,
    "start_time": "2023-07-04T19:53:21.246Z"
   },
   {
    "duration": 5,
    "start_time": "2023-07-04T19:53:31.103Z"
   },
   {
    "duration": 236,
    "start_time": "2023-07-04T19:53:37.670Z"
   },
   {
    "duration": 164,
    "start_time": "2023-07-04T19:53:39.048Z"
   },
   {
    "duration": 72,
    "start_time": "2023-07-04T19:53:40.625Z"
   },
   {
    "duration": 693,
    "start_time": "2023-07-04T19:53:42.696Z"
   },
   {
    "duration": 717,
    "start_time": "2023-07-04T19:53:45.675Z"
   },
   {
    "duration": 448,
    "start_time": "2023-07-04T19:53:47.820Z"
   },
   {
    "duration": 55,
    "start_time": "2023-07-04T19:53:50.884Z"
   },
   {
    "duration": 1109,
    "start_time": "2023-07-04T19:53:51.827Z"
   },
   {
    "duration": 294,
    "start_time": "2023-07-04T19:53:54.849Z"
   },
   {
    "duration": 8,
    "start_time": "2023-07-04T19:53:55.794Z"
   },
   {
    "duration": 633,
    "start_time": "2023-07-04T19:54:04.101Z"
   },
   {
    "duration": 25,
    "start_time": "2023-07-04T19:54:06.354Z"
   },
   {
    "duration": 68,
    "start_time": "2023-07-04T19:54:08.667Z"
   },
   {
    "duration": 504,
    "start_time": "2023-07-04T19:54:12.788Z"
   },
   {
    "duration": 62,
    "start_time": "2023-07-04T19:54:14.043Z"
   },
   {
    "duration": 38,
    "start_time": "2023-07-04T19:54:15.309Z"
   },
   {
    "duration": 73,
    "start_time": "2023-07-04T19:54:16.116Z"
   },
   {
    "duration": 30,
    "start_time": "2023-07-04T19:54:18.511Z"
   },
   {
    "duration": 149,
    "start_time": "2023-07-04T19:54:19.426Z"
   },
   {
    "duration": 407,
    "start_time": "2023-07-04T19:54:20.475Z"
   },
   {
    "duration": 5,
    "start_time": "2023-07-04T19:54:22.406Z"
   },
   {
    "duration": 133,
    "start_time": "2023-07-04T19:54:23.212Z"
   },
   {
    "duration": 5,
    "start_time": "2023-07-04T19:54:29.622Z"
   },
   {
    "duration": 857,
    "start_time": "2023-07-04T19:54:30.647Z"
   },
   {
    "duration": 887,
    "start_time": "2023-07-04T19:54:31.506Z"
   },
   {
    "duration": 879,
    "start_time": "2023-07-04T19:54:32.405Z"
   },
   {
    "duration": 12,
    "start_time": "2023-07-04T19:54:34.314Z"
   },
   {
    "duration": 8,
    "start_time": "2023-07-04T19:54:35.391Z"
   },
   {
    "duration": 3,
    "start_time": "2023-07-04T19:54:40.023Z"
   },
   {
    "duration": 4,
    "start_time": "2023-07-04T19:54:42.043Z"
   },
   {
    "duration": 4,
    "start_time": "2023-07-04T19:54:43.931Z"
   },
   {
    "duration": 89,
    "start_time": "2023-07-04T19:54:45.503Z"
   },
   {
    "duration": 21,
    "start_time": "2023-07-04T19:54:47.522Z"
   },
   {
    "duration": 4,
    "start_time": "2023-07-04T19:54:48.608Z"
   },
   {
    "duration": 17,
    "start_time": "2023-07-04T19:54:49.662Z"
   },
   {
    "duration": 37,
    "start_time": "2023-07-04T19:54:51.541Z"
   },
   {
    "duration": 12,
    "start_time": "2023-07-04T19:54:58.986Z"
   },
   {
    "duration": 28,
    "start_time": "2023-07-04T19:55:17.041Z"
   },
   {
    "duration": 8,
    "start_time": "2023-07-04T19:55:17.899Z"
   },
   {
    "duration": 2766,
    "start_time": "2023-07-04T19:55:18.540Z"
   },
   {
    "duration": 3,
    "start_time": "2023-07-04T19:55:22.234Z"
   },
   {
    "duration": 18,
    "start_time": "2023-07-04T19:55:23.280Z"
   },
   {
    "duration": 4529,
    "start_time": "2023-07-04T19:55:24.003Z"
   },
   {
    "duration": 26,
    "start_time": "2023-07-04T19:55:30.922Z"
   },
   {
    "duration": 25,
    "start_time": "2023-07-04T19:55:35.628Z"
   },
   {
    "duration": 3,
    "start_time": "2023-07-04T19:55:36.507Z"
   },
   {
    "duration": 425,
    "start_time": "2023-07-04T19:55:38.121Z"
   },
   {
    "duration": 57,
    "start_time": "2023-07-04T19:55:39.839Z"
   },
   {
    "duration": 5,
    "start_time": "2023-07-04T19:55:41.512Z"
   },
   {
    "duration": 14,
    "start_time": "2023-07-04T19:55:42.173Z"
   },
   {
    "duration": 3,
    "start_time": "2023-07-04T19:55:48.318Z"
   },
   {
    "duration": 5309,
    "start_time": "2023-07-04T20:07:58.906Z"
   },
   {
    "duration": 2822,
    "start_time": "2023-07-04T20:08:06.710Z"
   },
   {
    "duration": 2821,
    "start_time": "2023-07-04T20:08:58.389Z"
   },
   {
    "duration": 1614,
    "start_time": "2023-07-04T20:09:02.743Z"
   },
   {
    "duration": 5,
    "start_time": "2023-07-04T20:09:06.497Z"
   },
   {
    "duration": 4061,
    "start_time": "2023-07-04T20:09:07.655Z"
   },
   {
    "duration": 221,
    "start_time": "2023-07-04T20:09:11.718Z"
   },
   {
    "duration": 56,
    "start_time": "2023-07-04T20:09:11.942Z"
   },
   {
    "duration": 5,
    "start_time": "2023-07-04T20:09:12.001Z"
   },
   {
    "duration": 5,
    "start_time": "2023-07-04T20:09:14.295Z"
   },
   {
    "duration": 196,
    "start_time": "2023-07-04T20:09:15.846Z"
   },
   {
    "duration": 129,
    "start_time": "2023-07-04T20:09:16.578Z"
   },
   {
    "duration": 82,
    "start_time": "2023-07-04T20:09:17.130Z"
   },
   {
    "duration": 648,
    "start_time": "2023-07-04T20:09:18.550Z"
   },
   {
    "duration": 739,
    "start_time": "2023-07-04T20:09:19.837Z"
   },
   {
    "duration": 453,
    "start_time": "2023-07-04T20:09:20.652Z"
   },
   {
    "duration": 82,
    "start_time": "2023-07-04T20:09:21.696Z"
   },
   {
    "duration": 1061,
    "start_time": "2023-07-04T20:09:22.277Z"
   },
   {
    "duration": 321,
    "start_time": "2023-07-04T20:09:23.890Z"
   },
   {
    "duration": 616,
    "start_time": "2023-07-04T20:09:24.697Z"
   },
   {
    "duration": 14,
    "start_time": "2023-07-04T20:09:25.315Z"
   },
   {
    "duration": 89,
    "start_time": "2023-07-04T20:09:26.717Z"
   },
   {
    "duration": 467,
    "start_time": "2023-07-04T20:09:29.690Z"
   },
   {
    "duration": 58,
    "start_time": "2023-07-04T20:09:30.165Z"
   },
   {
    "duration": 48,
    "start_time": "2023-07-04T20:09:30.945Z"
   },
   {
    "duration": 40,
    "start_time": "2023-07-04T20:09:31.893Z"
   },
   {
    "duration": 19,
    "start_time": "2023-07-04T20:09:33.132Z"
   },
   {
    "duration": 158,
    "start_time": "2023-07-04T20:09:33.795Z"
   },
   {
    "duration": 404,
    "start_time": "2023-07-04T20:09:34.201Z"
   },
   {
    "duration": 7,
    "start_time": "2023-07-04T20:09:35.251Z"
   },
   {
    "duration": 136,
    "start_time": "2023-07-04T20:09:35.817Z"
   },
   {
    "duration": 9,
    "start_time": "2023-07-04T20:09:39.189Z"
   },
   {
    "duration": 875,
    "start_time": "2023-07-04T20:09:40.426Z"
   },
   {
    "duration": 921,
    "start_time": "2023-07-04T20:09:41.303Z"
   },
   {
    "duration": 898,
    "start_time": "2023-07-04T20:09:42.226Z"
   },
   {
    "duration": 13,
    "start_time": "2023-07-04T20:09:43.219Z"
   },
   {
    "duration": 5,
    "start_time": "2023-07-04T20:09:44.122Z"
   },
   {
    "duration": 3,
    "start_time": "2023-07-04T20:09:47.101Z"
   },
   {
    "duration": 4,
    "start_time": "2023-07-04T20:09:49.004Z"
   },
   {
    "duration": 11,
    "start_time": "2023-07-04T20:09:49.584Z"
   },
   {
    "duration": 90,
    "start_time": "2023-07-04T20:09:50.141Z"
   },
   {
    "duration": 15,
    "start_time": "2023-07-04T20:09:51.027Z"
   },
   {
    "duration": 12,
    "start_time": "2023-07-04T20:09:51.477Z"
   },
   {
    "duration": 8,
    "start_time": "2023-07-04T20:09:52.012Z"
   },
   {
    "duration": 40,
    "start_time": "2023-07-04T20:09:52.570Z"
   },
   {
    "duration": 7,
    "start_time": "2023-07-04T20:09:53.274Z"
   },
   {
    "duration": 17,
    "start_time": "2023-07-04T20:09:57.503Z"
   },
   {
    "duration": 5,
    "start_time": "2023-07-04T20:09:58.712Z"
   },
   {
    "duration": 1492,
    "start_time": "2023-07-04T20:09:59.726Z"
   },
   {
    "duration": 6,
    "start_time": "2023-07-04T20:10:02.279Z"
   },
   {
    "duration": 7,
    "start_time": "2023-07-04T20:10:03.499Z"
   },
   {
    "duration": 2237,
    "start_time": "2023-07-04T20:10:04.179Z"
   },
   {
    "duration": 54,
    "start_time": "2023-07-04T20:10:06.421Z"
   },
   {
    "duration": 49,
    "start_time": "2023-07-04T20:10:06.478Z"
   },
   {
    "duration": 2,
    "start_time": "2023-07-04T20:10:07.199Z"
   },
   {
    "duration": 206,
    "start_time": "2023-07-04T20:10:07.611Z"
   },
   {
    "duration": 48,
    "start_time": "2023-07-04T20:10:08.179Z"
   },
   {
    "duration": 4,
    "start_time": "2023-07-04T20:10:08.697Z"
   },
   {
    "duration": 5,
    "start_time": "2023-07-04T20:10:09.491Z"
   },
   {
    "duration": 5,
    "start_time": "2023-07-04T20:10:13.087Z"
   },
   {
    "duration": 367196,
    "start_time": "2023-07-04T20:10:14.296Z"
   },
   {
    "duration": 62525,
    "start_time": "2023-07-04T20:16:41.901Z"
   },
   {
    "duration": 341,
    "start_time": "2023-07-04T20:17:49.130Z"
   },
   {
    "duration": 3,
    "start_time": "2023-07-04T20:17:51.307Z"
   },
   {
    "duration": 92,
    "start_time": "2023-07-04T20:17:56.675Z"
   },
   {
    "duration": 1065,
    "start_time": "2023-07-04T20:18:00.607Z"
   },
   {
    "duration": 38,
    "start_time": "2023-07-04T20:19:39.573Z"
   },
   {
    "duration": 277,
    "start_time": "2023-07-04T20:19:42.936Z"
   },
   {
    "duration": 66,
    "start_time": "2023-07-04T20:19:44.646Z"
   },
   {
    "duration": 330,
    "start_time": "2023-07-04T20:19:45.832Z"
   },
   {
    "duration": 35,
    "start_time": "2023-07-04T20:19:47.706Z"
   },
   {
    "duration": 21002,
    "start_time": "2023-07-04T20:19:53.234Z"
   },
   {
    "duration": 4,
    "start_time": "2023-07-04T20:20:58.719Z"
   },
   {
    "duration": 3048,
    "start_time": "2023-07-04T20:21:01.100Z"
   },
   {
    "duration": 655,
    "start_time": "2023-07-04T20:22:15.534Z"
   },
   {
    "duration": 93,
    "start_time": "2023-07-04T20:22:25.974Z"
   },
   {
    "duration": 4,
    "start_time": "2023-07-04T20:22:28.110Z"
   },
   {
    "duration": 245139,
    "start_time": "2023-07-04T20:22:31.823Z"
   },
   {
    "duration": 4,
    "start_time": "2023-07-04T20:26:44.022Z"
   },
   {
    "duration": 88482,
    "start_time": "2023-07-04T20:26:45.096Z"
   },
   {
    "duration": 23364,
    "start_time": "2023-07-04T20:28:13.581Z"
   },
   {
    "duration": 3224,
    "start_time": "2023-07-04T20:28:36.948Z"
   },
   {
    "duration": 4,
    "start_time": "2023-07-04T20:28:40.175Z"
   },
   {
    "duration": 124,
    "start_time": "2023-07-04T20:28:49.981Z"
   },
   {
    "duration": 55,
    "start_time": "2023-07-04T20:28:50.634Z"
   },
   {
    "duration": 83200,
    "start_time": "2023-07-04T20:28:59.081Z"
   },
   {
    "duration": 13,
    "start_time": "2023-07-04T20:32:07.757Z"
   },
   {
    "duration": 3,
    "start_time": "2023-07-04T20:32:08.331Z"
   },
   {
    "duration": 21072,
    "start_time": "2023-07-04T20:32:10.104Z"
   },
   {
    "duration": 4963,
    "start_time": "2023-07-04T20:32:31.195Z"
   },
   {
    "duration": 1599,
    "start_time": "2023-07-04T20:32:36.174Z"
   },
   {
    "duration": 21,
    "start_time": "2023-07-04T20:32:37.778Z"
   },
   {
    "duration": 9227092,
    "start_time": "2023-07-04T20:32:45.627Z"
   },
   {
    "duration": 3,
    "start_time": "2023-07-04T23:06:32.722Z"
   },
   {
    "duration": 5,
    "start_time": "2023-07-04T23:06:32.727Z"
   },
   {
    "duration": 880892,
    "start_time": "2023-07-04T23:06:32.733Z"
   },
   {
    "duration": 216833,
    "start_time": "2023-07-04T23:21:13.627Z"
   },
   {
    "duration": 2570,
    "start_time": "2023-07-04T23:24:50.462Z"
   },
   {
    "duration": 3,
    "start_time": "2023-07-04T23:24:53.034Z"
   },
   {
    "duration": 22,
    "start_time": "2023-07-04T23:24:53.039Z"
   },
   {
    "duration": 18,
    "start_time": "2023-07-04T23:24:53.063Z"
   },
   {
    "duration": 1569,
    "start_time": "2023-07-04T23:24:53.084Z"
   },
   {
    "duration": 0,
    "start_time": "2023-07-04T23:24:54.655Z"
   }
  ],
  "kernelspec": {
   "display_name": "Python 3 (ipykernel)",
   "language": "python",
   "name": "python3"
  },
  "language_info": {
   "codemirror_mode": {
    "name": "ipython",
    "version": 3
   },
   "file_extension": ".py",
   "mimetype": "text/x-python",
   "name": "python",
   "nbconvert_exporter": "python",
   "pygments_lexer": "ipython3",
   "version": "3.11.5"
  },
  "toc": {
   "base_numbering": 1,
   "nav_menu": {},
   "number_sections": true,
   "sideBar": true,
   "skip_h1_title": true,
   "title_cell": "Table of Contents",
   "title_sidebar": "Contents",
   "toc_cell": false,
   "toc_position": {},
   "toc_section_display": true,
   "toc_window_display": false
  }
 },
 "nbformat": 4,
 "nbformat_minor": 2
}
