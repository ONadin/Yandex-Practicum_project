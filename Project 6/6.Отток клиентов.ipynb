{
 "cells": [
  {
   "cell_type": "markdown",
   "metadata": {
    "id": "CvdP_zLkquoy"
   },
   "source": [
    "# Отток клиентов"
   ]
  },
  {
   "cell_type": "markdown",
   "metadata": {
    "id": "U3_M8zfpquoz"
   },
   "source": [
    "**План исследования:**\n",
    "1. подготовить данные для анализа\n",
    "2. исследовать данные, понять закономерности, выявить основные признаки, влияющие на отток, оценить баланс классов\n",
    "3. постройте модель с предельно большим значением *F1*-меры не менее 0,59.Обучить модели несбалансированных данных\n",
    "4. масштабировать данные, исключить дисбаланс (при наличии)\n",
    "5. провести тестирование моделей\n",
    "6. измерить *AUC-ROC* и *F1*-меру на разных моделях обучения.\n",
    "7. сделать выводы\n"
   ]
  },
  {
   "cell_type": "markdown",
   "metadata": {
    "id": "roe99VVVquoz"
   },
   "source": [
    "## Подготовка данных"
   ]
  },
  {
   "cell_type": "code",
   "execution_count": null,
   "metadata": {
    "id": "YEtQiGm_quoz"
   },
   "outputs": [],
   "source": [
    "import numpy as np\n",
    "import pandas as pd\n",
    "import matplotlib\n",
    "import matplotlib.pyplot as plt\n",
    "import seaborn as sns\n",
    "from sklearn.model_selection import train_test_split, RandomizedSearchCV, GridSearchCV\n",
    "from sklearn.preprocessing import OrdinalEncoder, OneHotEncoder, StandardScaler, LabelEncoder\n",
    "from sklearn.utils import shuffle\n",
    "from sklearn.tree import DecisionTreeClassifier\n",
    "from sklearn.ensemble import RandomForestClassifier\n",
    "from sklearn.linear_model import LogisticRegression\n",
    "from sklearn.metrics import accuracy_score, confusion_matrix, precision_score, recall_score, f1_score, roc_curve, roc_auc_score"
   ]
  },
  {
   "cell_type": "code",
   "execution_count": null,
   "metadata": {
    "id": "cgHXqGfiquo0"
   },
   "outputs": [],
   "source": [
    "dt = pd.read_csv('/datasets/Churn.csv')"
   ]
  },
  {
   "cell_type": "code",
   "execution_count": null,
   "metadata": {
    "id": "2N2Fw0bfquo0",
    "outputId": "9ba12e5d-22ae-4304-9ed3-f93ff0496486"
   },
   "outputs": [
    {
     "name": "stdout",
     "output_type": "stream",
     "text": [
      "<class 'pandas.core.frame.DataFrame'>\n",
      "RangeIndex: 10000 entries, 0 to 9999\n",
      "Data columns (total 14 columns):\n",
      " #   Column           Non-Null Count  Dtype  \n",
      "---  ------           --------------  -----  \n",
      " 0   RowNumber        10000 non-null  int64  \n",
      " 1   CustomerId       10000 non-null  int64  \n",
      " 2   Surname          10000 non-null  object \n",
      " 3   CreditScore      10000 non-null  int64  \n",
      " 4   Geography        10000 non-null  object \n",
      " 5   Gender           10000 non-null  object \n",
      " 6   Age              10000 non-null  int64  \n",
      " 7   Tenure           9091 non-null   float64\n",
      " 8   Balance          10000 non-null  float64\n",
      " 9   NumOfProducts    10000 non-null  int64  \n",
      " 10  HasCrCard        10000 non-null  int64  \n",
      " 11  IsActiveMember   10000 non-null  int64  \n",
      " 12  EstimatedSalary  10000 non-null  float64\n",
      " 13  Exited           10000 non-null  int64  \n",
      "dtypes: float64(3), int64(8), object(3)\n",
      "memory usage: 1.1+ MB\n"
     ]
    }
   ],
   "source": [
    "#исследуем на предмет полноты данных\n",
    "dt.info()"
   ]
  },
  {
   "cell_type": "code",
   "execution_count": null,
   "metadata": {
    "id": "OhKKIIL_quo1",
    "outputId": "d0700a9f-f164-450d-9152-cbc4333eb539"
   },
   "outputs": [
    {
     "data": {
      "text/plain": [
       "Index(['rownumber', 'customerid', 'surname', 'creditscore', 'geography',\n",
       "       'gender', 'age', 'tenure', 'balance', 'numofproducts', 'hascrcard',\n",
       "       'isactivemember', 'estimatedsalary', 'exited'],\n",
       "      dtype='object')"
      ]
     },
     "execution_count": 4,
     "metadata": {},
     "output_type": "execute_result"
    }
   ],
   "source": [
    "#переведем названия в строчные буквы\n",
    "dt.columns = dt.columns.str.lower()\n",
    "dt.columns"
   ]
  },
  {
   "cell_type": "code",
   "execution_count": null,
   "metadata": {
    "id": "0yAM3u0lquo2",
    "outputId": "6c9aae1f-03fc-48ae-d290-e027936b0994"
   },
   "outputs": [
    {
     "data": {
      "text/plain": [
       "rownumber            0\n",
       "customerid           0\n",
       "surname              0\n",
       "creditscore          0\n",
       "geography            0\n",
       "gender               0\n",
       "age                  0\n",
       "tenure             909\n",
       "balance              0\n",
       "numofproducts        0\n",
       "hascrcard            0\n",
       "isactivemember       0\n",
       "estimatedsalary      0\n",
       "exited               0\n",
       "dtype: int64"
      ]
     },
     "execution_count": 5,
     "metadata": {},
     "output_type": "execute_result"
    }
   ],
   "source": [
    "#считаем пустые значения\n",
    "dt.isna().sum()"
   ]
  },
  {
   "cell_type": "code",
   "execution_count": null,
   "metadata": {
    "id": "-cx99_Afquo2",
    "outputId": "fe26693d-6383-4a4c-b88a-ae9343e56175"
   },
   "outputs": [
    {
     "name": "stdout",
     "output_type": "stream",
     "text": [
      "В столбце tenure доля пустых строк 9.1%\n"
     ]
    }
   ],
   "source": [
    "#посчитаем долю пропусков\n",
    "print('В столбце tenure доля пустых строк {:.1%}'.format(dt['tenure'].isna().value_counts()[1]/len(dt)))"
   ]
  },
  {
   "cell_type": "markdown",
   "metadata": {
    "id": "KBlDEr32quo2"
   },
   "source": [
    "Учитывая, что строк с пустыми значениями по столбцу \"tenure\" 9% от выборки, то можно их удалить."
   ]
  },
  {
   "cell_type": "code",
   "execution_count": null,
   "metadata": {
    "id": "BaiKpe7jquo2",
    "outputId": "566eeb84-b01f-40ba-c7a8-c4475b8fed3d"
   },
   "outputs": [
    {
     "data": {
      "text/plain": [
       "rownumber          0\n",
       "customerid         0\n",
       "surname            0\n",
       "creditscore        0\n",
       "geography          0\n",
       "gender             0\n",
       "age                0\n",
       "tenure             0\n",
       "balance            0\n",
       "numofproducts      0\n",
       "hascrcard          0\n",
       "isactivemember     0\n",
       "estimatedsalary    0\n",
       "exited             0\n",
       "dtype: int64"
      ]
     },
     "execution_count": 7,
     "metadata": {},
     "output_type": "execute_result"
    }
   ],
   "source": [
    "dt = dt.dropna()\n",
    "dt.isna().sum()"
   ]
  },
  {
   "cell_type": "markdown",
   "metadata": {
    "id": "IRQ2iehbquo3"
   },
   "source": [
    "Порядок обработки данных:  \n",
    "    1. Исключаем несущественные признаки.  \n",
    "    2. Кодируем OneHotEncoder категориальные признаки - пол и страна.  \n",
    "    3. Рассчитываем значения tenure для заполнения пропусков с использованием классификатора дерева решений.      \n",
    "    "
   ]
  },
  {
   "cell_type": "code",
   "execution_count": null,
   "metadata": {
    "id": "DfgzqOnJquo3"
   },
   "outputs": [],
   "source": [
    "#исключаем данные, которые не существенны для анализа: уникальный идентификатор клиента, фамилия клиента, индекс строки в данных\n",
    "dt=dt.drop(['customerid','surname','rownumber'],axis=1)"
   ]
  },
  {
   "cell_type": "code",
   "execution_count": null,
   "metadata": {
    "id": "dz5H_C_9quo4"
   },
   "outputs": [],
   "source": [
    "#Разделяем обработанный датафрейм на обучающую и тестовую выборки, учла параметр stratify\n",
    "target = dt['exited']\n",
    "features = dt.drop('exited', axis=1)\n",
    "features_train, features_valid, target_train, target_valid = train_test_split(\n",
    "    features, target, test_size=0.25, random_state=12345, stratify=target)"
   ]
  },
  {
   "cell_type": "markdown",
   "metadata": {
    "id": "myJXvUabquo5"
   },
   "source": [
    "Для кодирования данных в выборках с помощью OneHotEncoding из scikit-learn выполняем следующие шаги:\n",
    "\n",
    "1. Импортируем класс OneHotEncoder из модуля sklearn.preprocessing.\n",
    "\n",
    "2. Создаем объект OneHotEncoder с нужными параметрами, например, sparse=False, если хотим получить \"плотный\" массив вместо разреженной матрицы. Не забыть про drop='first' (возможно!).\n",
    "    \n",
    "3. Вызваем метод fit на объекте OneHotEncoder, передав ему обучающую выборку с категориальными признаками. Это позволит ему определить уникальные значения для каждого признака и создать соответствующие бинарные столбцы.\n",
    "    \n",
    "4. Вызваем метод transform на объекте OneHotEncoder, передав ему тестовую выборку с категориальными признаками. Это позволит ему преобразовать категориальные значения в бинарные столбцы, используя те же коды, что и для обучающей выборки.\n",
    "    \n",
    "5. Объединяем полученный массив с остальными числовыми признаками, например используя функцию numpy.concatenate или метод pandas.DataFrame.join.    \n",
    "    \n",
    "Почему нельзя кодировать сразу и тестовую и обучающую выборки? Потому что это может привести к утечке данных. Если мы кодируем сразу и тестовую и обучающую выборки, то таким образом в кодирование включается информация о категориях, которые не встречаются в обучающей выборке, но есть в тестовой. Это может дать модели преимущество при предсказании на тестовых данных, которое не отражает ее реальную способность обобщать на новых данных. Чтобы избежать этого, мы должны кодировать данные только на основе обучающей выборки и применять тот же энкодер к тестовой выборке."
   ]
  },
  {
   "cell_type": "code",
   "execution_count": null,
   "metadata": {
    "id": "m8wyeeU7quo4"
   },
   "outputs": [],
   "source": [
    "#Кодируем категориальные признаки - пол и страна\n",
    "object_cols_cat = [col for col in features_train.columns if features_train[col].dtype == 'object']\n",
    "ohe = OneHotEncoder(handle_unknown='ignore',sparse =False)\n",
    "ohe_col_train = pd.DataFrame(ohe.fit_transform(features_train[object_cols_cat]))\n",
    "ohe_col_valid = pd.DataFrame(ohe.transform(features_valid[object_cols_cat]))\n",
    "ohe_col_train.index = features_train.index\n",
    "ohe_col_valid.index = features_valid.index\n",
    "X_train_cat = features_train.drop(object_cols_cat,axis =1)\n",
    "X_valid_cat = features_valid.drop(object_cols_cat,axis =1)\n",
    "ohe_X_train = pd.concat([X_train_cat,ohe_col_train],axis =1)\n",
    "ohe_X_valid = pd.concat([X_valid_cat,ohe_col_valid],axis =1)\n",
    "features_train = ohe_X_train\n",
    "features_valid = ohe_X_valid"
   ]
  },
  {
   "cell_type": "code",
   "execution_count": null,
   "metadata": {
    "id": "SAU2duPzquo4",
    "outputId": "f0a56f62-b591-43bf-d3b8-7cc551868b60"
   },
   "outputs": [
    {
     "data": {
      "text/html": [
       "<div>\n",
       "<style scoped>\n",
       "    .dataframe tbody tr th:only-of-type {\n",
       "        vertical-align: middle;\n",
       "    }\n",
       "\n",
       "    .dataframe tbody tr th {\n",
       "        vertical-align: top;\n",
       "    }\n",
       "\n",
       "    .dataframe thead th {\n",
       "        text-align: right;\n",
       "    }\n",
       "</style>\n",
       "<table border=\"1\" class=\"dataframe\">\n",
       "  <thead>\n",
       "    <tr style=\"text-align: right;\">\n",
       "      <th></th>\n",
       "      <th>creditscore</th>\n",
       "      <th>age</th>\n",
       "      <th>tenure</th>\n",
       "      <th>balance</th>\n",
       "      <th>numofproducts</th>\n",
       "      <th>hascrcard</th>\n",
       "      <th>isactivemember</th>\n",
       "      <th>estimatedsalary</th>\n",
       "      <th>0</th>\n",
       "      <th>1</th>\n",
       "      <th>2</th>\n",
       "      <th>3</th>\n",
       "      <th>4</th>\n",
       "    </tr>\n",
       "  </thead>\n",
       "  <tbody>\n",
       "    <tr>\n",
       "      <th>9993</th>\n",
       "      <td>-0.073656</td>\n",
       "      <td>-1.036332</td>\n",
       "      <td>7.0</td>\n",
       "      <td>1.262714</td>\n",
       "      <td>1</td>\n",
       "      <td>1</td>\n",
       "      <td>0</td>\n",
       "      <td>-1.224135</td>\n",
       "      <td>1.0</td>\n",
       "      <td>0.0</td>\n",
       "      <td>0.0</td>\n",
       "      <td>0.0</td>\n",
       "      <td>1.0</td>\n",
       "    </tr>\n",
       "    <tr>\n",
       "      <th>0</th>\n",
       "      <td>-0.333215</td>\n",
       "      <td>0.298422</td>\n",
       "      <td>2.0</td>\n",
       "      <td>-1.226255</td>\n",
       "      <td>1</td>\n",
       "      <td>1</td>\n",
       "      <td>1</td>\n",
       "      <td>0.032686</td>\n",
       "      <td>1.0</td>\n",
       "      <td>0.0</td>\n",
       "      <td>0.0</td>\n",
       "      <td>1.0</td>\n",
       "      <td>0.0</td>\n",
       "    </tr>\n",
       "    <tr>\n",
       "      <th>7550</th>\n",
       "      <td>0.383169</td>\n",
       "      <td>-0.082936</td>\n",
       "      <td>7.0</td>\n",
       "      <td>0.756828</td>\n",
       "      <td>1</td>\n",
       "      <td>1</td>\n",
       "      <td>1</td>\n",
       "      <td>1.013408</td>\n",
       "      <td>1.0</td>\n",
       "      <td>0.0</td>\n",
       "      <td>0.0</td>\n",
       "      <td>1.0</td>\n",
       "      <td>0.0</td>\n",
       "    </tr>\n",
       "    <tr>\n",
       "      <th>454</th>\n",
       "      <td>1.109936</td>\n",
       "      <td>0.012403</td>\n",
       "      <td>6.0</td>\n",
       "      <td>0.818042</td>\n",
       "      <td>1</td>\n",
       "      <td>0</td>\n",
       "      <td>1</td>\n",
       "      <td>-0.747011</td>\n",
       "      <td>1.0</td>\n",
       "      <td>0.0</td>\n",
       "      <td>0.0</td>\n",
       "      <td>1.0</td>\n",
       "      <td>0.0</td>\n",
       "    </tr>\n",
       "    <tr>\n",
       "      <th>8564</th>\n",
       "      <td>-1.371454</td>\n",
       "      <td>0.870459</td>\n",
       "      <td>10.0</td>\n",
       "      <td>-0.085243</td>\n",
       "      <td>1</td>\n",
       "      <td>1</td>\n",
       "      <td>0</td>\n",
       "      <td>0.670247</td>\n",
       "      <td>1.0</td>\n",
       "      <td>0.0</td>\n",
       "      <td>0.0</td>\n",
       "      <td>0.0</td>\n",
       "      <td>1.0</td>\n",
       "    </tr>\n",
       "  </tbody>\n",
       "</table>\n",
       "</div>"
      ],
      "text/plain": [
       "      creditscore       age  tenure   balance  numofproducts  hascrcard  \\\n",
       "9993    -0.073656 -1.036332     7.0  1.262714              1          1   \n",
       "0       -0.333215  0.298422     2.0 -1.226255              1          1   \n",
       "7550     0.383169 -0.082936     7.0  0.756828              1          1   \n",
       "454      1.109936  0.012403     6.0  0.818042              1          0   \n",
       "8564    -1.371454  0.870459    10.0 -0.085243              1          1   \n",
       "\n",
       "      isactivemember  estimatedsalary    0    1    2    3    4  \n",
       "9993               0        -1.224135  1.0  0.0  0.0  0.0  1.0  \n",
       "0                  1         0.032686  1.0  0.0  0.0  1.0  0.0  \n",
       "7550               1         1.013408  1.0  0.0  0.0  1.0  0.0  \n",
       "454                1        -0.747011  1.0  0.0  0.0  1.0  0.0  \n",
       "8564               0         0.670247  1.0  0.0  0.0  0.0  1.0  "
      ]
     },
     "execution_count": 55,
     "metadata": {},
     "output_type": "execute_result"
    }
   ],
   "source": [
    "features_train.head()"
   ]
  },
  {
   "cell_type": "code",
   "execution_count": null,
   "metadata": {
    "id": "CrUY3PEFquo5",
    "outputId": "727ea969-c24b-4860-feb2-60d72a5a209a"
   },
   "outputs": [
    {
     "data": {
      "text/plain": [
       "['geography', 'gender']"
      ]
     },
     "execution_count": 14,
     "metadata": {},
     "output_type": "execute_result"
    }
   ],
   "source": [
    "object_cols_cat"
   ]
  },
  {
   "cell_type": "markdown",
   "metadata": {
    "id": "YnjuQ1wmqupE"
   },
   "source": [
    "## Исследование задачи"
   ]
  },
  {
   "cell_type": "markdown",
   "metadata": {
    "id": "MZyO_xiaqupE"
   },
   "source": [
    "Исследуем зависимость оттока от выбранных признаков на первоначальном датафрейме. Построим корреляционную матрицу."
   ]
  },
  {
   "cell_type": "code",
   "execution_count": null,
   "metadata": {
    "id": "fOWSB_uVqupE",
    "outputId": "2ac53879-b409-4cdc-a607-4215cd5328f1"
   },
   "outputs": [
    {
     "data": {
      "image/png": "[encoded data removed]",
      "text/plain": [
       "<Figure size 432x288 with 2 Axes>"
      ]
     },
     "metadata": {
      "needs_background": "light"
     },
     "output_type": "display_data"
    }
   ],
   "source": [
    "sns.heatmap(dt.corr())\n",
    "plt.title('Исследование взаимосвязей переменных')\n",
    "plt.show()"
   ]
  },
  {
   "cell_type": "markdown",
   "metadata": {
    "id": "wJIhDMq7qupF"
   },
   "source": [
    "Из корреляционной матрицы видно, что мультиколлинеарность между объясняющими переменными (факторами) регрессионной модели отсутсвует, значит выбранные переменные можно использовать для обучения моделей."
   ]
  },
  {
   "cell_type": "markdown",
   "metadata": {
    "id": "2Ci4MVG5qupF"
   },
   "source": [
    "Ответим на вопрос: какая доля клиентов уходит из банка?"
   ]
  },
  {
   "cell_type": "code",
   "execution_count": null,
   "metadata": {
    "id": "r2mu5l8nqupF",
    "outputId": "d715851d-234b-4315-b738-7582d8e82761"
   },
   "outputs": [
    {
     "data": {
      "text/plain": [
       "exited\n",
       "0    0.796062\n",
       "1    0.203938\n",
       "dtype: float64"
      ]
     },
     "execution_count": 21,
     "metadata": {},
     "output_type": "execute_result"
    }
   ],
   "source": [
    "dt.value_counts('exited', normalize=True)"
   ]
  },
  {
   "cell_type": "markdown",
   "metadata": {
    "id": "Ts0UZMSjqupF"
   },
   "source": [
    "Почти 20% клиентов перестают пользоваться услугами банка, а это пятая часть. Соотношение 1:4 - данные несбалансированы.  \n",
    "Исследуем как различные признаки влияют на отток. Посмотрим на клиентов разных стран."
   ]
  },
  {
   "cell_type": "code",
   "execution_count": null,
   "metadata": {
    "id": "WtEkVjt9qupG",
    "outputId": "84aee40b-e412-427b-b3ef-b8ceedd8dee6"
   },
   "outputs": [
    {
     "data": {
      "text/plain": [
       "geography  exited\n",
       "France     0         0.838901\n",
       "           1         0.161099\n",
       "Germany    0         0.672481\n",
       "           1         0.327519\n",
       "Spain      0         0.835409\n",
       "           1         0.164591\n",
       "Name: exited, dtype: float64"
      ]
     },
     "execution_count": 22,
     "metadata": {},
     "output_type": "execute_result"
    }
   ],
   "source": [
    "dt.groupby(['geography'])['exited'].value_counts(normalize=True)"
   ]
  },
  {
   "cell_type": "markdown",
   "metadata": {
    "id": "y5zQ7aUDqupG"
   },
   "source": [
    "Самый большой отток в 32 процента клиентов в Германии. Рассморим какие признаки больше всего влияют на отток. Проверим влияние активности клиента."
   ]
  },
  {
   "cell_type": "code",
   "execution_count": null,
   "metadata": {
    "id": "4RQ1XY-BqupG",
    "outputId": "e1fab419-17cc-4021-dc1e-aef75ab88e90"
   },
   "outputs": [
    {
     "data": {
      "text/plain": [
       "isactivemember  exited\n",
       "0               0         0.731608\n",
       "                1         0.268392\n",
       "1               0         0.856625\n",
       "                1         0.143375\n",
       "Name: exited, dtype: float64"
      ]
     },
     "execution_count": 23,
     "metadata": {},
     "output_type": "execute_result"
    }
   ],
   "source": [
    "dt.groupby('isactivemember')['exited'].value_counts(normalize=True)"
   ]
  },
  {
   "cell_type": "markdown",
   "metadata": {
    "id": "t9zWMHp0qupG"
   },
   "source": [
    "Неактивные клиенты в два раза чаще уходят из банка. Проверим зависит ли от пола клиента отток. Преобразуем категориальные признаки половой принадлежности в численные методом One-Hot Encoding. В закодированном виде Мужчина -0, женщина -1."
   ]
  },
  {
   "cell_type": "code",
   "execution_count": null,
   "metadata": {
    "id": "KuT3cyBaqupG",
    "outputId": "b9c217d5-2070-49d0-9212-24c3600d5ff5"
   },
   "outputs": [
    {
     "data": {
      "text/plain": [
       "gender_Male  exited\n",
       "0            0         0.747146\n",
       "             1         0.252854\n",
       "1            0         0.836550\n",
       "             1         0.163450\n",
       "Name: exited, dtype: float64"
      ]
     },
     "execution_count": 24,
     "metadata": {},
     "output_type": "execute_result"
    }
   ],
   "source": [
    "dt = pd.get_dummies(dt, columns={'gender'}, drop_first=True)\n",
    "dt.groupby('gender_Male')['exited'].value_counts(normalize=True)"
   ]
  },
  {
   "cell_type": "markdown",
   "metadata": {
    "id": "Bpnx8g1lqupH"
   },
   "source": [
    "Мужчины чаще меняют банки: 25 процентов мужчин уходят из банка против 16 процентов женщин. Разница в 10% может оказаться существенной.  \n",
    "Исследуем влияние возраста на отток."
   ]
  },
  {
   "cell_type": "code",
   "execution_count": null,
   "metadata": {
    "id": "9v48BqGHqupH",
    "outputId": "2952874e-1dfb-4f7c-d7ad-7f2caeb27dd3"
   },
   "outputs": [
    {
     "data": {
      "image/png": "[encoded data removed]",
      "text/plain": [
       "<Figure size 432x288 with 1 Axes>"
      ]
     },
     "metadata": {
      "needs_background": "light"
     },
     "output_type": "display_data"
    }
   ],
   "source": [
    "dt.groupby('age')['exited'].sum().plot()\n",
    "plt.title('Зависимость оттока от возраста')\n",
    "plt.xlabel('Возраст клиента')\n",
    "plt.ylabel('Количество ушедших клиентов')\n",
    "plt.show()"
   ]
  },
  {
   "cell_type": "markdown",
   "metadata": {
    "id": "HprFPTQBqupH"
   },
   "source": [
    "Явно прослеживается то, что клиенты среднего возраста очень мобильны на предмет выбора банка. Клиенты в возрасте после 60 лет более постоянны в выборе банка. Думаю клиенты среднего возраста могут составлять большую часть клиентов банка. Проверим это. Проведем категоризацию данных по возрасту:\n",
    "  менее 40 — 1\n",
    "     41-60 — 2\n",
    "61 и более — 3"
   ]
  },
  {
   "cell_type": "code",
   "execution_count": null,
   "metadata": {
    "id": "7t3UZJJsqupH"
   },
   "outputs": [],
   "source": [
    "def categorize_age(age):\n",
    "    try:\n",
    "        if age <= 40:\n",
    "            return '1'\n",
    "        elif 41 <= age <= 60:\n",
    "            return '2'\n",
    "        elif 60 <= age:\n",
    "            return '3'\n",
    "    except:\n",
    "        pass"
   ]
  },
  {
   "cell_type": "code",
   "execution_count": null,
   "metadata": {
    "id": "u0--mqw2qupH",
    "outputId": "1f703a82-2e4d-4bdb-cc45-e29007539993"
   },
   "outputs": [
    {
     "data": {
      "text/plain": [
       "categorize_age\n",
       "1     622\n",
       "2    1126\n",
       "3     106\n",
       "Name: exited, dtype: int64"
      ]
     },
     "execution_count": 27,
     "metadata": {},
     "output_type": "execute_result"
    }
   ],
   "source": [
    "dt_categorize_age = dt.copy()\n",
    "dt_categorize_age['categorize_age'] = dt['age'].apply(categorize_age)\n",
    "dt_categorize_age.groupby('categorize_age')['exited'].sum().head()"
   ]
  },
  {
   "cell_type": "markdown",
   "metadata": {
    "id": "HTDmtg-4qupI"
   },
   "source": [
    "Половина от всех клиентов - это люди в возрасте от 40 до 60 лет."
   ]
  },
  {
   "cell_type": "code",
   "execution_count": null,
   "metadata": {
    "id": "M28Cem2mqupI",
    "outputId": "df4f0d64-18bf-44e1-db7b-433fdb6f9156"
   },
   "outputs": [
    {
     "data": {
      "text/plain": [
       "categorize_age  exited\n",
       "1               0         0.892980\n",
       "                1         0.107020\n",
       "2               0         0.604357\n",
       "                1         0.395643\n",
       "3               0         0.755196\n",
       "                1         0.244804\n",
       "Name: exited, dtype: float64"
      ]
     },
     "execution_count": 28,
     "metadata": {},
     "output_type": "execute_result"
    }
   ],
   "source": [
    "dt_categorize_age.groupby('categorize_age')['exited'].value_counts(normalize=True)"
   ]
  },
  {
   "cell_type": "markdown",
   "metadata": {
    "id": "p1h1N-GxqupI"
   },
   "source": [
    "Почти 40 процентов из категории от 40 до 60 лет попадают в отток.  \n",
    "Исследуем факт владения количеством продуктов банка клиентами."
   ]
  },
  {
   "cell_type": "code",
   "execution_count": null,
   "metadata": {
    "id": "SLNepRrVqupI",
    "outputId": "75d4698e-dd7f-4546-f4f1-3f068ac4f26e"
   },
   "outputs": [
    {
     "data": {
      "text/plain": [
       "numofproducts  exited\n",
       "1              0         0.722114\n",
       "               1         0.277886\n",
       "2              0         0.923040\n",
       "               1         0.076960\n",
       "3              1         0.824786\n",
       "               0         0.175214\n",
       "4              1         1.000000\n",
       "Name: exited, dtype: float64"
      ]
     },
     "execution_count": 29,
     "metadata": {},
     "output_type": "execute_result"
    }
   ],
   "source": [
    "dt.groupby('numofproducts')['exited'].value_counts(normalize=True)"
   ]
  },
  {
   "cell_type": "markdown",
   "metadata": {
    "id": "MID3pZGzqupJ"
   },
   "source": [
    "Преимущественно в оттток попадают клиенты, пользующие тремя или четыремя продуктами банка (очень странная ситуация).  \n",
    "Преобразуем категориальные признаки в численные."
   ]
  },
  {
   "cell_type": "markdown",
   "metadata": {
    "id": "nYTsWLm3qupJ"
   },
   "source": [
    "Преимущественно в оттток попадают клиенты, пользующие тремя или четыремя продуктами банка (очень странная ситуация).** - возможно это потребительский терроризм?"
   ]
  },
  {
   "cell_type": "markdown",
   "metadata": {
    "id": "OreS6107qupK"
   },
   "source": [
    "Чтобы выявить наиболее важные характеристики, влияющие на отток, построим модель, предсказывающую уход клиентов."
   ]
  },
  {
   "cell_type": "code",
   "execution_count": null,
   "metadata": {
    "id": "TgUo2FZzqupL",
    "outputId": "41019ad8-caa2-4705-dc35-6e3385535987"
   },
   "outputs": [
    {
     "name": "stdout",
     "output_type": "stream",
     "text": [
      "(6818, 13)\n",
      "(2273, 13)\n",
      "(6818,)\n",
      "(2273,)\n"
     ]
    }
   ],
   "source": [
    "print(features_train.shape)\n",
    "print(features_valid.shape)\n",
    "print(target_train.shape)\n",
    "print(target_valid.shape)"
   ]
  },
  {
   "cell_type": "markdown",
   "metadata": {
    "id": "Ca6Bli-nqupM"
   },
   "source": [
    "Итак, к этому моменту мы знаем следующие факты о наших данных:\n",
    "\n",
    "1. данные несбалансированны (записей с классом == 0 в 4 раза больше чем даных с классом == 1).\n",
    "\n",
    "2. согласно ТЗ Заказчика нам требуется выполнить условие, что f1-мера должна быть больше 0.59\n",
    "\n",
    "3. из теории в Тренажере мы знаем, что метрика **accuracy_score НЕ ПОКАЗАТЕЛЬНА** для оценки моделей (в задаче классификации) построенных на данных с дисбалансом классов.\n",
    "\n",
    "Считаем полноту, точность и ф-меру. На основе сравнения результатов этих метрик принимай решение о качестве конкретной модели. Можно ещё матрицу ошибок (confusion matrix) построить.\n",
    "</div>"
   ]
  },
  {
   "cell_type": "markdown",
   "metadata": {
    "id": "LtpotY7BqupL"
   },
   "source": [
    "Подбор лучших гиперпараметров модели будет искать методом RandomizedSearchCV"
   ]
  },
  {
   "cell_type": "code",
   "execution_count": null,
   "metadata": {
    "id": "ew5PiDcWqupL",
    "outputId": "8ecd79b9-ca8e-4204-952d-a2892391cd27"
   },
   "outputs": [
    {
     "name": "stdout",
     "output_type": "stream",
     "text": [
      "Лучшие параметры модели:  {'max_leaf_nodes': 8, 'max_depth': 6}\n"
     ]
    }
   ],
   "source": [
    "#Модель №1 Классификация деревом решений, поиск лушших гиперпараметров\n",
    "param1 = {\n",
    "    'max_depth':[1,2,3,4,5,6,7,8],\n",
    "    'max_leaf_nodes':[2,3,4,5,6,7,8,9,10]\n",
    "}\n",
    "model1 = DecisionTreeClassifier()\n",
    "seach = RandomizedSearchCV(model1, param1, n_iter = 10, cv=5, random_state=12345)\n",
    "#seach = GridSearchCV (model1,param1, cv=5)\n",
    "seach.fit(features_train, target_train)\n",
    "print('Лучшие параметры модели: ',seach.best_params_)"
   ]
  },
  {
   "cell_type": "code",
   "execution_count": null,
   "metadata": {
    "id": "TeLTGj8nqupL",
    "outputId": "1109e1ea-a1f4-47c8-cbf7-226b416fe6ae"
   },
   "outputs": [
    {
     "name": "stdout",
     "output_type": "stream",
     "text": [
      "Матрица ошибок:\n",
      " [[1728   81]\n",
      " [ 253  211]]\n",
      "Полнота - Recall 45%:\n",
      "Точность - Precision 72%:\n",
      "F1 - мера: 0.56\n"
     ]
    }
   ],
   "source": [
    "#Тестирование модели с лучшими гиперпараметрами\n",
    "best_seach1 = DecisionTreeClassifier(random_state=12345, max_leaf_nodes=8,max_depth=6)\n",
    "best_seach1.fit(features_train, target_train)\n",
    "predictions = best_seach1.predict(features_valid)\n",
    "\n",
    "print('Матрица ошибок:\\n', confusion_matrix(target_valid, predictions))\n",
    "print('Полнота - Recall {:.0%}:'.format(recall_score(target_valid, predictions)))\n",
    "print('Точность - Precision {:.0%}:'.format(precision_score(target_valid, predictions)))\n",
    "print('F1 - мера: {:.2}'.format(f1_score(target_valid, predictions)))"
   ]
  },
  {
   "cell_type": "code",
   "execution_count": null,
   "metadata": {
    "id": "bN8s8tv6qupM",
    "outputId": "4e7a951a-3f2a-48df-98c6-8211322bfad4"
   },
   "outputs": [
    {
     "name": "stdout",
     "output_type": "stream",
     "text": [
      "Лучшие параметры модели:  {'n_estimators': 50, 'max_depth': 8, 'criterion': 'entropy'}\n"
     ]
    }
   ],
   "source": [
    "#Модель №2 Случайный лес, поиск лушших гиперпараметров\n",
    "param2 = {\n",
    "    'n_estimators' : [10,20,30,40,50,60],\n",
    "    'max_depth' : [1,2,3,4,5,6,7,8],\n",
    "    'criterion' : ['entropy','gini']\n",
    "}\n",
    "model2 = RandomForestClassifier()\n",
    "seach = RandomizedSearchCV(model2, param2, cv=5, random_state=12345)\n",
    "#seach = GridSearchCV (model2, param2, cv=5)\n",
    "seach.fit(features_train, target_train)\n",
    "print('Лучшие параметры модели: ',seach.best_params_)"
   ]
  },
  {
   "cell_type": "code",
   "execution_count": null,
   "metadata": {
    "id": "z7mWGDBwqupM",
    "outputId": "88e8dd9c-af2a-47dd-d578-357483f8b859"
   },
   "outputs": [
    {
     "name": "stdout",
     "output_type": "stream",
     "text": [
      "Матрица ошибок:\n",
      " [[1766   43]\n",
      " [ 264  200]]\n",
      "Полнота - Recall 43%:\n",
      "Точность - Precision 82%:\n",
      "F1 - мера: 0.57\n"
     ]
    }
   ],
   "source": [
    "#Тестируем модель с лучшими гиперпараметрами\n",
    "best_seach2 = RandomForestClassifier(criterion='entropy', max_depth=7, n_estimators=40,random_state=12345)\n",
    "best_seach2.fit(features_train, target_train)\n",
    "predictions = best_seach2.predict(features_valid)\n",
    "print('Матрица ошибок:\\n', confusion_matrix(target_valid, predictions))\n",
    "print('Полнота - Recall {:.0%}:'.format(recall_score(target_valid, predictions)))\n",
    "print('Точность - Precision {:.0%}:'.format(precision_score(target_valid, predictions)))\n",
    "print('F1 - мера: {:.2}'.format(f1_score(target_valid, predictions)))"
   ]
  },
  {
   "cell_type": "markdown",
   "metadata": {
    "id": "qNI_MmZ4qupN"
   },
   "source": [
    "Обе модели не дотягивают до цели в достижении метрики F1-мера до 0.59"
   ]
  },
  {
   "cell_type": "markdown",
   "metadata": {
    "id": "fcN9hqurqupN"
   },
   "source": [
    "## Борьба с дисбалансом"
   ]
  },
  {
   "cell_type": "markdown",
   "metadata": {
    "id": "cQPhum6tqupN"
   },
   "source": [
    "Масштабируем численные признаки."
   ]
  },
  {
   "cell_type": "code",
   "execution_count": null,
   "metadata": {
    "id": "Zd5qCIPequpN"
   },
   "outputs": [],
   "source": [
    "pd.options.mode.chained_assignment = None\n",
    "numeric = ['creditscore','age','balance','estimatedsalary']\n",
    "scaler = StandardScaler()\n",
    "scaler.fit(features_train[numeric])\n",
    "features_train[numeric] = scaler.transform(features_train[numeric])\n",
    "features_valid[numeric] = scaler.transform(features_valid[numeric])"
   ]
  },
  {
   "cell_type": "markdown",
   "metadata": {
    "id": "x2-CnlR5qupN"
   },
   "source": [
    "Масштабирование \"обучается\" на тренировочной выборке, а затем РЕЗУЛЬТАТ (обычно это scaler) последовательно применяется и к тренировочной и к тестовой выборкам.\n",
    "\n",
    "Для чего нужно масштабировать признаки перед подачей в линейную модель машинного обучения (например в линейную регрессию)? Нам нужно минимизировать функцию потерь методом градиентного спуска. В случае разных масштабов признаков (например, год рождения и количество детей) её линии уровня будут иметь вид вытянутых эллипсов. Тогда вектор антиградиента и направление от текущей точки к минимуму функции потерь могут не совпадать, мы можем уйти далеко и не в ту сторону, и, в зависимости от шага градиентного спуска, либо придётся сделать больше итераций, либо вообще не будет сходимости. Если же признаки отмасштабированы, то линии уровня похожи на окружности. И проблема несовпадения антиградиента и направления к минимуму не так выражена.\n",
    "</div>"
   ]
  },
  {
   "cell_type": "code",
   "execution_count": null,
   "metadata": {
    "id": "8ZP5i87DqupN",
    "outputId": "0d8626ec-45a8-4df3-8203-5154e52ed35f"
   },
   "outputs": [
    {
     "data": {
      "text/html": [
       "<div>\n",
       "<style scoped>\n",
       "    .dataframe tbody tr th:only-of-type {\n",
       "        vertical-align: middle;\n",
       "    }\n",
       "\n",
       "    .dataframe tbody tr th {\n",
       "        vertical-align: top;\n",
       "    }\n",
       "\n",
       "    .dataframe thead th {\n",
       "        text-align: right;\n",
       "    }\n",
       "</style>\n",
       "<table border=\"1\" class=\"dataframe\">\n",
       "  <thead>\n",
       "    <tr style=\"text-align: right;\">\n",
       "      <th></th>\n",
       "      <th>creditscore</th>\n",
       "      <th>age</th>\n",
       "      <th>tenure</th>\n",
       "      <th>balance</th>\n",
       "      <th>numofproducts</th>\n",
       "      <th>hascrcard</th>\n",
       "      <th>isactivemember</th>\n",
       "      <th>estimatedsalary</th>\n",
       "      <th>0</th>\n",
       "      <th>1</th>\n",
       "      <th>2</th>\n",
       "      <th>3</th>\n",
       "      <th>4</th>\n",
       "    </tr>\n",
       "  </thead>\n",
       "  <tbody>\n",
       "    <tr>\n",
       "      <th>9993</th>\n",
       "      <td>-0.073656</td>\n",
       "      <td>-1.036332</td>\n",
       "      <td>7.0</td>\n",
       "      <td>1.262714</td>\n",
       "      <td>1</td>\n",
       "      <td>1</td>\n",
       "      <td>0</td>\n",
       "      <td>-1.224135</td>\n",
       "      <td>1.0</td>\n",
       "      <td>0.0</td>\n",
       "      <td>0.0</td>\n",
       "      <td>0.0</td>\n",
       "      <td>1.0</td>\n",
       "    </tr>\n",
       "    <tr>\n",
       "      <th>0</th>\n",
       "      <td>-0.333215</td>\n",
       "      <td>0.298422</td>\n",
       "      <td>2.0</td>\n",
       "      <td>-1.226255</td>\n",
       "      <td>1</td>\n",
       "      <td>1</td>\n",
       "      <td>1</td>\n",
       "      <td>0.032686</td>\n",
       "      <td>1.0</td>\n",
       "      <td>0.0</td>\n",
       "      <td>0.0</td>\n",
       "      <td>1.0</td>\n",
       "      <td>0.0</td>\n",
       "    </tr>\n",
       "    <tr>\n",
       "      <th>7550</th>\n",
       "      <td>0.383169</td>\n",
       "      <td>-0.082936</td>\n",
       "      <td>7.0</td>\n",
       "      <td>0.756828</td>\n",
       "      <td>1</td>\n",
       "      <td>1</td>\n",
       "      <td>1</td>\n",
       "      <td>1.013408</td>\n",
       "      <td>1.0</td>\n",
       "      <td>0.0</td>\n",
       "      <td>0.0</td>\n",
       "      <td>1.0</td>\n",
       "      <td>0.0</td>\n",
       "    </tr>\n",
       "    <tr>\n",
       "      <th>454</th>\n",
       "      <td>1.109936</td>\n",
       "      <td>0.012403</td>\n",
       "      <td>6.0</td>\n",
       "      <td>0.818042</td>\n",
       "      <td>1</td>\n",
       "      <td>0</td>\n",
       "      <td>1</td>\n",
       "      <td>-0.747011</td>\n",
       "      <td>1.0</td>\n",
       "      <td>0.0</td>\n",
       "      <td>0.0</td>\n",
       "      <td>1.0</td>\n",
       "      <td>0.0</td>\n",
       "    </tr>\n",
       "    <tr>\n",
       "      <th>8564</th>\n",
       "      <td>-1.371454</td>\n",
       "      <td>0.870459</td>\n",
       "      <td>10.0</td>\n",
       "      <td>-0.085243</td>\n",
       "      <td>1</td>\n",
       "      <td>1</td>\n",
       "      <td>0</td>\n",
       "      <td>0.670247</td>\n",
       "      <td>1.0</td>\n",
       "      <td>0.0</td>\n",
       "      <td>0.0</td>\n",
       "      <td>0.0</td>\n",
       "      <td>1.0</td>\n",
       "    </tr>\n",
       "  </tbody>\n",
       "</table>\n",
       "</div>"
      ],
      "text/plain": [
       "      creditscore       age  tenure   balance  numofproducts  hascrcard  \\\n",
       "9993    -0.073656 -1.036332     7.0  1.262714              1          1   \n",
       "0       -0.333215  0.298422     2.0 -1.226255              1          1   \n",
       "7550     0.383169 -0.082936     7.0  0.756828              1          1   \n",
       "454      1.109936  0.012403     6.0  0.818042              1          0   \n",
       "8564    -1.371454  0.870459    10.0 -0.085243              1          1   \n",
       "\n",
       "      isactivemember  estimatedsalary    0    1    2    3    4  \n",
       "9993               0        -1.224135  1.0  0.0  0.0  0.0  1.0  \n",
       "0                  1         0.032686  1.0  0.0  0.0  1.0  0.0  \n",
       "7550               1         1.013408  1.0  0.0  0.0  1.0  0.0  \n",
       "454                1        -0.747011  1.0  0.0  0.0  1.0  0.0  \n",
       "8564               0         0.670247  1.0  0.0  0.0  0.0  1.0  "
      ]
     },
     "execution_count": 37,
     "metadata": {},
     "output_type": "execute_result"
    }
   ],
   "source": [
    "features_train.head()"
   ]
  },
  {
   "cell_type": "code",
   "execution_count": null,
   "metadata": {
    "id": "iYSjVB_qqupO",
    "outputId": "18f6d256-8e09-41fa-abba-ed56a8e63c1c"
   },
   "outputs": [
    {
     "data": {
      "text/html": [
       "<div>\n",
       "<style scoped>\n",
       "    .dataframe tbody tr th:only-of-type {\n",
       "        vertical-align: middle;\n",
       "    }\n",
       "\n",
       "    .dataframe tbody tr th {\n",
       "        vertical-align: top;\n",
       "    }\n",
       "\n",
       "    .dataframe thead th {\n",
       "        text-align: right;\n",
       "    }\n",
       "</style>\n",
       "<table border=\"1\" class=\"dataframe\">\n",
       "  <thead>\n",
       "    <tr style=\"text-align: right;\">\n",
       "      <th></th>\n",
       "      <th>creditscore</th>\n",
       "      <th>age</th>\n",
       "      <th>tenure</th>\n",
       "      <th>balance</th>\n",
       "      <th>numofproducts</th>\n",
       "      <th>hascrcard</th>\n",
       "      <th>isactivemember</th>\n",
       "      <th>estimatedsalary</th>\n",
       "      <th>0</th>\n",
       "      <th>1</th>\n",
       "      <th>2</th>\n",
       "      <th>3</th>\n",
       "      <th>4</th>\n",
       "    </tr>\n",
       "  </thead>\n",
       "  <tbody>\n",
       "    <tr>\n",
       "      <th>8337</th>\n",
       "      <td>-1.215718</td>\n",
       "      <td>0.203082</td>\n",
       "      <td>9.0</td>\n",
       "      <td>-1.226255</td>\n",
       "      <td>2</td>\n",
       "      <td>1</td>\n",
       "      <td>0</td>\n",
       "      <td>-1.490725</td>\n",
       "      <td>1.0</td>\n",
       "      <td>0.0</td>\n",
       "      <td>0.0</td>\n",
       "      <td>0.0</td>\n",
       "      <td>1.0</td>\n",
       "    </tr>\n",
       "    <tr>\n",
       "      <th>9169</th>\n",
       "      <td>1.192995</td>\n",
       "      <td>0.584441</td>\n",
       "      <td>6.0</td>\n",
       "      <td>-1.226255</td>\n",
       "      <td>2</td>\n",
       "      <td>0</td>\n",
       "      <td>0</td>\n",
       "      <td>0.830912</td>\n",
       "      <td>1.0</td>\n",
       "      <td>0.0</td>\n",
       "      <td>0.0</td>\n",
       "      <td>1.0</td>\n",
       "      <td>0.0</td>\n",
       "    </tr>\n",
       "    <tr>\n",
       "      <th>4836</th>\n",
       "      <td>-0.437039</td>\n",
       "      <td>-1.227011</td>\n",
       "      <td>10.0</td>\n",
       "      <td>0.802543</td>\n",
       "      <td>1</td>\n",
       "      <td>0</td>\n",
       "      <td>1</td>\n",
       "      <td>-0.972108</td>\n",
       "      <td>1.0</td>\n",
       "      <td>0.0</td>\n",
       "      <td>0.0</td>\n",
       "      <td>0.0</td>\n",
       "      <td>1.0</td>\n",
       "    </tr>\n",
       "    <tr>\n",
       "      <th>3751</th>\n",
       "      <td>-1.610249</td>\n",
       "      <td>-0.940992</td>\n",
       "      <td>2.0</td>\n",
       "      <td>-1.226255</td>\n",
       "      <td>2</td>\n",
       "      <td>1</td>\n",
       "      <td>0</td>\n",
       "      <td>-0.767690</td>\n",
       "      <td>0.0</td>\n",
       "      <td>0.0</td>\n",
       "      <td>1.0</td>\n",
       "      <td>0.0</td>\n",
       "      <td>1.0</td>\n",
       "    </tr>\n",
       "    <tr>\n",
       "      <th>4784</th>\n",
       "      <td>0.133992</td>\n",
       "      <td>1.347157</td>\n",
       "      <td>7.0</td>\n",
       "      <td>1.785062</td>\n",
       "      <td>1</td>\n",
       "      <td>1</td>\n",
       "      <td>0</td>\n",
       "      <td>1.513719</td>\n",
       "      <td>0.0</td>\n",
       "      <td>0.0</td>\n",
       "      <td>1.0</td>\n",
       "      <td>1.0</td>\n",
       "      <td>0.0</td>\n",
       "    </tr>\n",
       "  </tbody>\n",
       "</table>\n",
       "</div>"
      ],
      "text/plain": [
       "      creditscore       age  tenure   balance  numofproducts  hascrcard  \\\n",
       "8337    -1.215718  0.203082     9.0 -1.226255              2          1   \n",
       "9169     1.192995  0.584441     6.0 -1.226255              2          0   \n",
       "4836    -0.437039 -1.227011    10.0  0.802543              1          0   \n",
       "3751    -1.610249 -0.940992     2.0 -1.226255              2          1   \n",
       "4784     0.133992  1.347157     7.0  1.785062              1          1   \n",
       "\n",
       "      isactivemember  estimatedsalary    0    1    2    3    4  \n",
       "8337               0        -1.490725  1.0  0.0  0.0  0.0  1.0  \n",
       "9169               0         0.830912  1.0  0.0  0.0  1.0  0.0  \n",
       "4836               1        -0.972108  1.0  0.0  0.0  0.0  1.0  \n",
       "3751               0        -0.767690  0.0  0.0  1.0  0.0  1.0  \n",
       "4784               0         1.513719  0.0  0.0  1.0  1.0  0.0  "
      ]
     },
     "execution_count": 38,
     "metadata": {},
     "output_type": "execute_result"
    }
   ],
   "source": [
    "features_valid.head()"
   ]
  },
  {
   "cell_type": "markdown",
   "metadata": {
    "id": "1ap0qYAKqupO"
   },
   "source": [
    "Анализ таргетных данных показал, что положительных результатов (количество покинувших банк клиентов \"1\") много меньше (всего 20%), чем оставшихся - 80%. Данные несбалансированные. Проведем балансировку техникой upsampling (увеличение выборки).\n",
    "Предварительно разделим выборку на обучающую и тестовую. Для тестирования оставим выборку в объеме 25 процентов данных от представленного датасета."
   ]
  },
  {
   "cell_type": "code",
   "execution_count": null,
   "metadata": {
    "id": "TWFq3mewqupO",
    "outputId": "46dae67f-f4c1-4d85-cb44-d73139081916"
   },
   "outputs": [
    {
     "name": "stdout",
     "output_type": "stream",
     "text": [
      "(6818, 13)\n",
      "(2273, 13)\n",
      "(6818,)\n",
      "(2273,)\n"
     ]
    }
   ],
   "source": [
    "print(features_train.shape)\n",
    "print(features_valid.shape)\n",
    "print(target_train.shape)\n",
    "print(target_valid.shape )"
   ]
  },
  {
   "cell_type": "markdown",
   "metadata": {
    "id": "ipGZhRrmqupO"
   },
   "source": [
    "**1 способ.** Увеличим выборку положительными ответами."
   ]
  },
  {
   "cell_type": "code",
   "execution_count": null,
   "metadata": {
    "id": "0oqTtf8lqupO"
   },
   "outputs": [],
   "source": [
    "def upsample(features, target, repeat):\n",
    "    features_zeros = features[target == 0]\n",
    "    features_ones = features[target == 1]\n",
    "    target_zeros = target[target == 0]\n",
    "    target_ones = target[target == 1]\n",
    "\n",
    "    features_upsampled = pd.concat([features_zeros] + [features_ones] * repeat)\n",
    "    target_upsampled = pd.concat([target_zeros] + [target_ones] * repeat)\n",
    "\n",
    "    features_upsampled, target_upsampled = shuffle(\n",
    "        features_upsampled, target_upsampled, random_state=12345)\n",
    "\n",
    "    return features_upsampled, target_upsampled"
   ]
  },
  {
   "cell_type": "code",
   "execution_count": null,
   "metadata": {
    "id": "LGSGqbjhqupP",
    "outputId": "596466e5-51c1-4e3d-c364-8632ae9db2ed"
   },
   "outputs": [
    {
     "name": "stdout",
     "output_type": "stream",
     "text": [
      "(6818, 13)\n",
      "(6818,)\n",
      "(10988, 13)\n",
      "(10988,)\n"
     ]
    }
   ],
   "source": [
    "features_upsampled, target_upsampled = upsample(features_train, target_train, 4)\n",
    "\n",
    "print(features_train.shape)\n",
    "print(target_train.shape)\n",
    "print(features_upsampled.shape)\n",
    "print(target_upsampled.shape)"
   ]
  },
  {
   "cell_type": "markdown",
   "metadata": {
    "id": "1a6LQQJ7qupP"
   },
   "source": [
    "**2 способ.** Уменьшим выборку за счет отрицательных ответов."
   ]
  },
  {
   "cell_type": "code",
   "execution_count": null,
   "metadata": {
    "id": "vwYDaUmoqupP"
   },
   "outputs": [],
   "source": [
    "def downsample(features, target, fraction):\n",
    "    features_zeros = features[target == 0]\n",
    "    features_ones = features[target == 1]\n",
    "    target_zeros = target[target == 0]\n",
    "    target_ones = target[target == 1]\n",
    "\n",
    "    features_downsampled = pd.concat([features_zeros.sample(frac=fraction, random_state=12345)] + [features_ones])\n",
    "    target_downsampled = pd.concat([target_zeros.sample(frac=fraction, random_state=12345)] + [target_ones])\n",
    "\n",
    "    features_downsampled, target_downsampled = shuffle(\n",
    "        features_downsampled, target_downsampled, random_state=12345)\n",
    "\n",
    "    return features_downsampled, target_downsampled"
   ]
  },
  {
   "cell_type": "code",
   "execution_count": null,
   "metadata": {
    "id": "cdcB-ZOAqupP",
    "outputId": "5145150c-6127-42bb-fa6b-8625506bc2fb"
   },
   "outputs": [
    {
     "name": "stdout",
     "output_type": "stream",
     "text": [
      "(6818, 13)\n",
      "(6818,)\n",
      "(2747, 13)\n",
      "(2747,)\n"
     ]
    }
   ],
   "source": [
    "features_downsampled, target_downsampled = downsample(features_train, target_train, 0.25)\n",
    "print(features_train.shape)\n",
    "print(target_train.shape)\n",
    "print(features_downsampled.shape)\n",
    "print(target_downsampled.shape)"
   ]
  },
  {
   "cell_type": "markdown",
   "metadata": {
    "id": "Nxyt8D5lqupQ"
   },
   "source": [
    "**Вывод**  \n",
    "Метод downsampled уменьшает выборку в три раза, а модель, обученная на малом объеме данных, с большой вероятностью будет переобучена. Поэтому для обучения выбираем выборку сбалансированную методом upsampled. Для выравнивания классов использовала соотношение 1 часть - \"0\" : 4 части - \"1\"."
   ]
  },
  {
   "cell_type": "markdown",
   "metadata": {
    "id": "sGLIFNhKqupQ"
   },
   "source": [
    "## Тестирование модели"
   ]
  },
  {
   "cell_type": "markdown",
   "metadata": {
    "id": "YAk_B5RYqupQ"
   },
   "source": [
    "Построим модели на сбалансированной выборке с подбором лучших гиперпараметров модели."
   ]
  },
  {
   "cell_type": "code",
   "execution_count": null,
   "metadata": {
    "id": "4KGN_-CMqupQ",
    "outputId": "2f006a91-8ce7-4e96-b71e-85ddafd99711"
   },
   "outputs": [
    {
     "name": "stdout",
     "output_type": "stream",
     "text": [
      "(6818, 13)\n",
      "(2273, 13)\n",
      "(6818,)\n",
      "(2273,)\n"
     ]
    }
   ],
   "source": [
    "print(features_train.shape)\n",
    "print(features_valid.shape)\n",
    "print(target_train.shape)\n",
    "print(target_valid.shape)"
   ]
  },
  {
   "cell_type": "code",
   "execution_count": null,
   "metadata": {
    "id": "Z0o3LadIqupR",
    "outputId": "55842e08-6555-4415-b001-863ab65280a6"
   },
   "outputs": [
    {
     "name": "stdout",
     "output_type": "stream",
     "text": [
      "Лучшие параметры модели:  {'max_depth': 5, 'max_leaf_nodes': 10}\n"
     ]
    }
   ],
   "source": [
    "#Модель №1 Классификация деревом решений, поиск лушших гиперпараметров\n",
    "param1 = {\n",
    "    'max_depth':[1,2,3,4,5,6,7,8],\n",
    "    'max_leaf_nodes':[2,3,4,5,6,7,8,9,10]\n",
    "}\n",
    "model1 = DecisionTreeClassifier()\n",
    "seach = GridSearchCV (model1,param1, cv=5)\n",
    "seach.fit(features_upsampled, target_upsampled)\n",
    "print('Лучшие параметры модели: ', seach.best_params_)"
   ]
  },
  {
   "cell_type": "code",
   "execution_count": null,
   "metadata": {
    "id": "q7T7X6NzqupR",
    "outputId": "736eb14a-ba73-497a-a830-b4ba982d8dd5"
   },
   "outputs": [
    {
     "name": "stdout",
     "output_type": "stream",
     "text": [
      "Матрица ошибок:\n",
      " [[1194  615]\n",
      " [  69  395]]\n",
      "Полнота - Recall 85%:\n",
      "Точность - Precision 39%:\n",
      "F1 - мера: 0.54\n"
     ]
    }
   ],
   "source": [
    "#Тестирование модели с лучшими гиперпараметрами\n",
    "best_seach1 = DecisionTreeClassifier(random_state=12345, max_leaf_nodes=10,max_depth=5)\n",
    "best_seach1.fit(features_upsampled, target_upsampled)\n",
    "predictions = best_seach1.predict(features_valid)\n",
    "\n",
    "print('Матрица ошибок:\\n', confusion_matrix(target_valid, predictions))\n",
    "print('Полнота - Recall {:.0%}:'.format(recall_score(target_valid, predictions)))\n",
    "print('Точность - Precision {:.0%}:'.format(precision_score(target_valid, predictions)))\n",
    "print('F1 - мера: {:.2}'.format(f1_score(target_valid, predictions)))"
   ]
  },
  {
   "cell_type": "markdown",
   "metadata": {
    "id": "0HV3AyREqupR"
   },
   "source": [
    "**Вывод**  \n",
    "**Precision**  - с точностью в **39%**   модель правильно предсказывает клиентов, которые уходят. Ошибки составляют 55%.  \n",
    "**Recall - в 85%**, в 15% случаях модель относит клиентов к неушедшим, хотя на самом деле они уходят.  \n",
    "**F1 - 0.54** - это усредненное значение между Precision & Recall, которое говорит, что наша модель на 60% справляется со своей задачей.  \n",
    "\n",
    "F1 увеличилось с 0.52 до 0.54 на сбалансированных данных, но цель не достигнута."
   ]
  },
  {
   "cell_type": "code",
   "execution_count": null,
   "metadata": {
    "id": "qjPWoM6LqupR",
    "outputId": "c6dbdcee-df80-4c21-b14b-74e6444f13f9"
   },
   "outputs": [
    {
     "name": "stdout",
     "output_type": "stream",
     "text": [
      "Лучшие параметры модели:  {'n_estimators': 50, 'max_depth': 7, 'criterion': 'entropy'}\n"
     ]
    }
   ],
   "source": [
    "#Модель №2 Случайный лес, поиск лушших гиперпараметров\n",
    "param2 = {\n",
    "    'n_estimators' : [10,20,30,40,50,60],\n",
    "    'max_depth' : [1,2,3,4,5,6,7,8],\n",
    "    'criterion' : ['entropy']\n",
    "}\n",
    "model2 = RandomForestClassifier()\n",
    "seach = RandomizedSearchCV(model2, param2, cv=5, random_state=12345)\n",
    "seach.fit(features_upsampled, target_upsampled)\n",
    "print('Лучшие параметры модели: ', seach.best_params_)"
   ]
  },
  {
   "cell_type": "code",
   "execution_count": null,
   "metadata": {
    "id": "iW_thEZtqupR",
    "outputId": "3c4e917e-505e-4089-cee1-4fd9b5ec9869"
   },
   "outputs": [
    {
     "name": "stdout",
     "output_type": "stream",
     "text": [
      "Матрица ошибок:\n",
      " [[1473  336]\n",
      " [ 124  340]]\n",
      "Полнота - Recall 73%:\n",
      "Точность - Precision 50%:\n",
      "F1 - мера: 0.6\n"
     ]
    }
   ],
   "source": [
    "#Тестируем модель с лучшими гиперпараметрами\n",
    "best_seach2 = RandomForestClassifier(criterion='entropy', max_depth=7, n_estimators=50,random_state=12345)\n",
    "best_seach2.fit(features_upsampled, target_upsampled)\n",
    "predictions = best_seach2.predict(features_valid)\n",
    "print('Матрица ошибок:\\n', confusion_matrix(target_valid, predictions))\n",
    "print('Полнота - Recall {:.0%}:'.format(recall_score(target_valid, predictions)))\n",
    "print('Точность - Precision {:.0%}:'.format(precision_score(target_valid, predictions)))\n",
    "print('F1 - мера: {:.2}'.format(f1_score(target_valid, predictions)))"
   ]
  },
  {
   "cell_type": "code",
   "execution_count": null,
   "metadata": {
    "id": "4nc01SrTqupR",
    "outputId": "faeafbbe-699a-4d92-963f-4cecec086097"
   },
   "outputs": [
    {
     "data": {
      "image/png": "[encoded data removed]",
      "text/plain": [
       "<Figure size 432x288 with 2 Axes>"
      ]
     },
     "metadata": {
      "needs_background": "light"
     },
     "output_type": "display_data"
    }
   ],
   "source": [
    "sns.heatmap(confusion_matrix(target_valid, predictions),annot=True)\n",
    "plt.title('Матрица ошибок')\n",
    "plt.xlabel('Precision')\n",
    "plt.ylabel('Recall')\n",
    "plt.show()"
   ]
  },
  {
   "cell_type": "markdown",
   "metadata": {
    "id": "GglIPlGBqupS"
   },
   "source": [
    "**Вывод**  \n",
    "**Precision  - с точностью в 50%** показывает насколько правильно модель предсказывает клиентов, которые уходят. Ошибки составляют 50%.  \n",
    "**Recall - в 73%**, свидетельствует, что в 27% случаях модель ложно срабатывает на 1 класс, то есть относит клиентов к неушедшим, хотя на самом деле они уходят.  \n",
    "**F1 0.6** - это усредненное значение между Precision & Recall, которое говорит, что наша модель на 60% справляется со своей задачей."
   ]
  },
  {
   "cell_type": "markdown",
   "metadata": {
    "id": "91Q-jv6oqupS"
   },
   "source": [
    "**Вывод**  \n",
    "Модель \"Случайный лес\" показала лучшую способность предсказать уход клиент из банка. Поэтому предлагается к использованию на реальных данных. Только в 28% случаях, если пользоваться предсказаниями модели, можно не предупредить уход клиентов из банка."
   ]
  },
  {
   "cell_type": "raw",
   "metadata": {
    "id": "Ofy-DiOhqupS"
   },
   "source": [
    "#Исследуем метрику AUC-ROC на рассмотренных моделях"
   ]
  },
  {
   "cell_type": "code",
   "execution_count": null,
   "metadata": {
    "id": "zdsE3WySqupT",
    "outputId": "e452ef6e-3f55-499e-aca8-726667e95a4f"
   },
   "outputs": [
    {
     "data": {
      "image/png": "[encoded data removed]",
      "text/plain": [
       "<Figure size 432x432 with 1 Axes>"
      ]
     },
     "metadata": {
      "needs_background": "light"
     },
     "output_type": "display_data"
    }
   ],
   "source": [
    "probabilities_valid = best_seach1.predict_proba(features_valid)\n",
    "probabilities_one_valid1 = probabilities_valid[:, 1]\n",
    "recall, precision, thresholds = roc_curve(target_valid, probabilities_one_valid1)\n",
    "plt.figure(figsize=(6, 6))\n",
    "plt.step(recall, precision, where='post')\n",
    "plt.xlabel('Recall')\n",
    "plt.ylabel('Precision')\n",
    "plt.plot([0, 1], [0, 1], linestyle='--')\n",
    "plt.ylim([0.0, 1.0])\n",
    "plt.xlim([0.0, 1.0])\n",
    "plt.title('Кривая Precision-Recall')\n",
    "plt.show()"
   ]
  },
  {
   "cell_type": "markdown",
   "metadata": {
    "id": "2JCKgaDzqupT"
   },
   "source": [
    "Вычисляем площадь под кривой Precision-Recall"
   ]
  },
  {
   "cell_type": "code",
   "execution_count": null,
   "metadata": {
    "id": "tZ7NxCdYqupT",
    "outputId": "59392390-b310-4780-e0be-edc07c151a51"
   },
   "outputs": [
    {
     "name": "stdout",
     "output_type": "stream",
     "text": [
      "Площадь под кривой - метрика AUC_ROC: 82%\n"
     ]
    }
   ],
   "source": [
    "auc_roc = roc_auc_score(target_valid, probabilities_one_valid1)\n",
    "print('Площадь под кривой - метрика AUC_ROC: {:.0%}'.format(auc_roc))"
   ]
  },
  {
   "cell_type": "code",
   "execution_count": null,
   "metadata": {
    "id": "YQnob_LMqupT",
    "outputId": "803274cb-ec2e-4fe4-e487-55c04fa34caa"
   },
   "outputs": [
    {
     "data": {
      "image/png": "[encoded data removed]",
      "text/plain": [
       "<Figure size 432x432 with 1 Axes>"
      ]
     },
     "metadata": {
      "needs_background": "light"
     },
     "output_type": "display_data"
    }
   ],
   "source": [
    "probabilities_valid = best_seach2.predict_proba(features_valid)\n",
    "probabilities_one_valid2 = probabilities_valid[:, 1]\n",
    "recall, precision, thresholds = roc_curve(target_valid, probabilities_one_valid2)\n",
    "plt.figure(figsize=(6, 6))\n",
    "plt.step(recall, precision, where='post')\n",
    "plt.xlabel('Recall')\n",
    "plt.ylabel('Precision')\n",
    "plt.plot([0, 1], [0, 1], linestyle='--')\n",
    "plt.ylim([0.0, 1.0])\n",
    "plt.xlim([0.0, 1.0])\n",
    "plt.title('Кривая Precision-Recall')\n",
    "plt.show()"
   ]
  },
  {
   "cell_type": "markdown",
   "metadata": {
    "id": "9-WArvAbqupT"
   },
   "source": [
    "Вычисляем площадь под кривой Precision-Recall"
   ]
  },
  {
   "cell_type": "code",
   "execution_count": null,
   "metadata": {
    "id": "2s3Zs4epqupT",
    "outputId": "e57f0082-886a-45d4-a6cf-3a2c77f31ac9"
   },
   "outputs": [
    {
     "name": "stdout",
     "output_type": "stream",
     "text": [
      "Площадь под кривой - метрика AUC_ROC: 87%\n"
     ]
    }
   ],
   "source": [
    "auc_roc = roc_auc_score(target_valid, probabilities_one_valid2)\n",
    "print('Площадь под кривой - метрика AUC_ROC: {:.0%}'.format(auc_roc))"
   ]
  },
  {
   "cell_type": "markdown",
   "metadata": {
    "id": "nJIVso7RqupU"
   },
   "source": [
    "Площадь под ROC-кривой (Area Under Curve – площадь под кривой, Receiver Operating Characteristic – рабочая характеристика приёмника ... пришло из области радиоэлектроники) – это метрика оценки для задач бинарной классификации. ROC-кривая показывает зависимость между долей верно классифицированных объектов положительного класса и долей ложноположительных объектов. Ну и сама площадь под ROC-кривой является мерой качества классификатора: чем выше значение AUC (Area Under Curve), тем лучше качество классификации конкретной модели. Наш глаз и мозг устроены так, что мы очень хорошо видим геометрическую разницу (в данном случае площадей)."
   ]
  },
  {
   "cell_type": "code",
   "execution_count": null,
   "metadata": {
    "id": "7u6URfspqupU",
    "outputId": "52f0aedc-dc9c-4f18-b01b-2d7f54819f6f"
   },
   "outputs": [
    {
     "data": {
      "image/png": "[encoded data removed]",
      "text/plain": [
       "<Figure size 864x432 with 1 Axes>"
      ]
     },
     "metadata": {
      "needs_background": "light"
     },
     "output_type": "display_data"
    }
   ],
   "source": [
    "feature_names = list(features_valid.columns.values)\n",
    "importances = best_seach2.feature_importances_\n",
    "dt_importances = pd.Series(importances, index=feature_names).sort_values()\n",
    "std = np.std([tree.feature_importances_ for tree in best_seach2.estimators_], axis=0)\n",
    "fig, ax = plt.subplots()\n",
    "dt_importances.plot.barh(yerr=std, ax=ax, figsize=(12, 6))\n",
    "ax.set_title(\"Значимость признаков, вляющих на отток\")\n",
    "ax.set_ylabel(\"Признаки выборки\")\n",
    "fig.tight_layout()"
   ]
  },
  {
   "cell_type": "markdown",
   "metadata": {
    "id": "RYzfH_3WqupU"
   },
   "source": [
    "**Признаки, используемые в оценке влияния**  \n",
    "CreditScore — кредитный рейтинг  \n",
    "Geography — страна проживания  \n",
    "Gender — пол  \n",
    "Age — возраст  \n",
    "Tenure — сколько лет человек является клиентом банка  \n",
    "Balance — баланс на счёте  \n",
    "NumOfProducts — количество продуктов банка, используемых клиентом  \n",
    "HasCrCard — наличие кредитной карты  \n",
    "IsActiveMember — активность клиента  \n",
    "EstimatedSalary — предполагаемая зарплата  \n",
    "**Целевой признак**  \n",
    "Exited — факт ухода клиента  "
   ]
  },
  {
   "cell_type": "markdown",
   "metadata": {
    "id": "EKE1RmbdqupU"
   },
   "source": [
    "**Выводы**  \n",
    "1. Самым значимым признаком, влияющим на отток клиентов в банке является возраст клиенов. Учитывая, что максимальную группу составляют клинты среднего возраста от 40 до 60 лет, а меньшее количество ушедших из банка клиентов пользуются двумя продуктами банка, необходимо активно предлагать клиенту в указанной возрастной кагорте второй продукт на выгодных условиях.  \n",
    "2. Вторым по значимости для отток является количество продуктов банка, используемых клиентом. Как отмечалось выше, чтобы удержать клиентов в банке достаточно развивать парные предложения для клиентов, например на второй банковский делать льготные ставки, либо предлагать особые условия обслуживания счетов и другие доступные способы.\n",
    "3. На третьем месте - баланс на счетах клиентов. Это обьяснимо тем, что если у клиента на счетах есть средства, значит он платежеспособен и он может активно пользоваться услугами банка для привлечения новых инвестиций, у него больше вероятность получить одобрение на пользование продуктами банка.\n",
    "4. Не маловажную роль в оттоке клиентов играет активность клиента. Чем большая активность, тем меньше желание уйти из банка. Это говорит об удовлетворенности услугами и готовности далее продолжать сотруджничество.\n"
   ]
  }
 ],
 "metadata": {
  "ExecuteTimeLog": [
   {
    "duration": 60,
    "start_time": "2023-04-29T02:42:29.200Z"
   },
   {
    "duration": 374,
    "start_time": "2023-04-29T02:42:36.589Z"
   },
   {
    "duration": 46,
    "start_time": "2023-04-29T02:42:37.223Z"
   },
   {
    "duration": 1642,
    "start_time": "2023-04-29T02:42:58.881Z"
   },
   {
    "duration": 14,
    "start_time": "2023-04-29T02:44:04.559Z"
   },
   {
    "duration": 13,
    "start_time": "2023-04-29T02:45:20.315Z"
   },
   {
    "duration": 124,
    "start_time": "2023-04-29T02:47:27.033Z"
   },
   {
    "duration": 35,
    "start_time": "2023-04-29T02:47:33.583Z"
   },
   {
    "duration": 62,
    "start_time": "2023-04-29T02:48:02.011Z"
   },
   {
    "duration": 403,
    "start_time": "2023-04-29T03:00:42.269Z"
   },
   {
    "duration": 102,
    "start_time": "2023-04-29T03:00:42.674Z"
   },
   {
    "duration": 2118,
    "start_time": "2023-04-29T03:19:29.104Z"
   },
   {
    "duration": 11,
    "start_time": "2023-04-29T03:20:35.510Z"
   },
   {
    "duration": 11,
    "start_time": "2023-04-29T03:21:33.100Z"
   },
   {
    "duration": 96,
    "start_time": "2023-04-29T03:34:08.323Z"
   },
   {
    "duration": 11,
    "start_time": "2023-04-29T03:34:33.819Z"
   },
   {
    "duration": 18,
    "start_time": "2023-04-29T03:34:47.001Z"
   },
   {
    "duration": 7,
    "start_time": "2023-04-29T03:35:02.986Z"
   },
   {
    "duration": 5,
    "start_time": "2023-04-29T03:35:10.787Z"
   },
   {
    "duration": 6,
    "start_time": "2023-04-29T03:35:58.702Z"
   },
   {
    "duration": 6,
    "start_time": "2023-04-29T04:12:32.081Z"
   },
   {
    "duration": 15,
    "start_time": "2023-04-29T04:13:16.845Z"
   },
   {
    "duration": 9,
    "start_time": "2023-04-29T04:13:36.820Z"
   },
   {
    "duration": 9,
    "start_time": "2023-04-29T04:13:53.818Z"
   },
   {
    "duration": 394,
    "start_time": "2023-04-29T04:13:58.836Z"
   },
   {
    "duration": 42,
    "start_time": "2023-04-29T04:13:59.231Z"
   },
   {
    "duration": 14,
    "start_time": "2023-04-29T04:13:59.274Z"
   },
   {
    "duration": 26,
    "start_time": "2023-04-29T04:13:59.290Z"
   },
   {
    "duration": 16,
    "start_time": "2023-04-29T04:13:59.317Z"
   },
   {
    "duration": 72,
    "start_time": "2023-04-29T04:13:59.335Z"
   },
   {
    "duration": 3,
    "start_time": "2023-04-29T04:14:24.266Z"
   },
   {
    "duration": 22,
    "start_time": "2023-04-29T04:14:26.080Z"
   },
   {
    "duration": 10,
    "start_time": "2023-04-29T04:15:09.575Z"
   },
   {
    "duration": 14,
    "start_time": "2023-04-29T04:15:21.903Z"
   },
   {
    "duration": 5,
    "start_time": "2023-04-29T04:16:06.365Z"
   },
   {
    "duration": 7,
    "start_time": "2023-04-29T15:05:04.077Z"
   },
   {
    "duration": 7,
    "start_time": "2023-04-29T15:05:30.504Z"
   },
   {
    "duration": 4,
    "start_time": "2023-04-29T15:08:36.516Z"
   },
   {
    "duration": 4,
    "start_time": "2023-04-29T15:08:45.649Z"
   },
   {
    "duration": 48,
    "start_time": "2023-04-29T15:09:34.333Z"
   },
   {
    "duration": 5,
    "start_time": "2023-04-29T15:09:49.728Z"
   },
   {
    "duration": 5,
    "start_time": "2023-04-29T15:11:06.048Z"
   },
   {
    "duration": 11,
    "start_time": "2023-04-29T15:18:32.448Z"
   },
   {
    "duration": 8,
    "start_time": "2023-04-29T15:18:53.323Z"
   },
   {
    "duration": 7,
    "start_time": "2023-04-29T15:20:28.214Z"
   },
   {
    "duration": 7,
    "start_time": "2023-04-29T15:21:33.323Z"
   },
   {
    "duration": 528,
    "start_time": "2023-04-29T15:22:13.823Z"
   },
   {
    "duration": 113,
    "start_time": "2023-04-29T15:22:34.049Z"
   },
   {
    "duration": 3,
    "start_time": "2023-04-29T15:23:02.549Z"
   },
   {
    "duration": 627,
    "start_time": "2023-04-29T15:23:09.675Z"
   },
   {
    "duration": 48,
    "start_time": "2023-04-29T15:23:10.304Z"
   },
   {
    "duration": 13,
    "start_time": "2023-04-29T15:23:10.354Z"
   },
   {
    "duration": 16,
    "start_time": "2023-04-29T15:23:10.368Z"
   },
   {
    "duration": 4,
    "start_time": "2023-04-29T15:23:10.386Z"
   },
   {
    "duration": 158,
    "start_time": "2023-04-29T15:23:10.391Z"
   },
   {
    "duration": 8,
    "start_time": "2023-04-29T15:23:10.551Z"
   },
   {
    "duration": 6,
    "start_time": "2023-04-29T15:23:10.560Z"
   },
   {
    "duration": 8,
    "start_time": "2023-04-29T15:23:10.567Z"
   },
   {
    "duration": 122,
    "start_time": "2023-04-29T15:24:33.219Z"
   },
   {
    "duration": 193,
    "start_time": "2023-04-29T15:26:22.360Z"
   },
   {
    "duration": 140,
    "start_time": "2023-04-29T15:27:04.896Z"
   },
   {
    "duration": 163,
    "start_time": "2023-04-29T15:27:30.348Z"
   },
   {
    "duration": 129,
    "start_time": "2023-04-29T15:28:15.565Z"
   },
   {
    "duration": 115,
    "start_time": "2023-04-29T15:28:55.665Z"
   },
   {
    "duration": 126,
    "start_time": "2023-04-29T15:33:31.727Z"
   },
   {
    "duration": 177,
    "start_time": "2023-04-29T15:33:44.726Z"
   },
   {
    "duration": 5,
    "start_time": "2023-04-29T15:34:56.260Z"
   },
   {
    "duration": 11,
    "start_time": "2023-04-29T15:34:57.012Z"
   },
   {
    "duration": 9,
    "start_time": "2023-04-29T15:35:25.506Z"
   },
   {
    "duration": 6,
    "start_time": "2023-04-29T15:35:32.095Z"
   },
   {
    "duration": 13,
    "start_time": "2023-04-29T15:36:22.180Z"
   },
   {
    "duration": 9,
    "start_time": "2023-04-29T15:36:28.550Z"
   },
   {
    "duration": 15,
    "start_time": "2023-04-29T15:36:52.300Z"
   },
   {
    "duration": 8,
    "start_time": "2023-04-29T15:37:16.473Z"
   },
   {
    "duration": 1251,
    "start_time": "2023-04-29T15:39:14.250Z"
   },
   {
    "duration": 47,
    "start_time": "2023-04-29T15:39:15.504Z"
   },
   {
    "duration": 12,
    "start_time": "2023-04-29T15:39:15.554Z"
   },
   {
    "duration": 13,
    "start_time": "2023-04-29T15:39:15.568Z"
   },
   {
    "duration": 17,
    "start_time": "2023-04-29T15:39:15.583Z"
   },
   {
    "duration": 167,
    "start_time": "2023-04-29T15:39:15.601Z"
   },
   {
    "duration": 6,
    "start_time": "2023-04-29T15:39:15.769Z"
   },
   {
    "duration": 10,
    "start_time": "2023-04-29T15:39:15.776Z"
   },
   {
    "duration": 8,
    "start_time": "2023-04-29T15:39:15.787Z"
   },
   {
    "duration": 114,
    "start_time": "2023-04-29T15:39:15.796Z"
   },
   {
    "duration": 8014,
    "start_time": "2023-04-29T15:39:28.635Z"
   },
   {
    "duration": 14,
    "start_time": "2023-04-29T15:41:18.633Z"
   },
   {
    "duration": 9,
    "start_time": "2023-04-29T15:41:21.998Z"
   },
   {
    "duration": 11,
    "start_time": "2023-04-29T15:42:34.552Z"
   },
   {
    "duration": 6402,
    "start_time": "2023-04-29T15:42:55.290Z"
   },
   {
    "duration": 5272,
    "start_time": "2023-04-29T15:43:18.165Z"
   },
   {
    "duration": 4,
    "start_time": "2023-04-29T15:44:27.474Z"
   },
   {
    "duration": 8,
    "start_time": "2023-04-29T15:45:24.922Z"
   },
   {
    "duration": 7,
    "start_time": "2023-04-29T15:45:25.963Z"
   },
   {
    "duration": 17,
    "start_time": "2023-04-29T15:46:19.489Z"
   },
   {
    "duration": 9,
    "start_time": "2023-04-29T15:47:01.276Z"
   },
   {
    "duration": 1178,
    "start_time": "2023-04-29T15:47:09.891Z"
   },
   {
    "duration": 52,
    "start_time": "2023-04-29T15:47:11.071Z"
   },
   {
    "duration": 18,
    "start_time": "2023-04-29T15:47:11.125Z"
   },
   {
    "duration": 12,
    "start_time": "2023-04-29T15:47:11.146Z"
   },
   {
    "duration": 6,
    "start_time": "2023-04-29T15:47:11.160Z"
   },
   {
    "duration": 23,
    "start_time": "2023-04-29T15:47:11.168Z"
   },
   {
    "duration": 211,
    "start_time": "2023-04-29T15:47:11.193Z"
   },
   {
    "duration": 7,
    "start_time": "2023-04-29T15:47:11.406Z"
   },
   {
    "duration": 23,
    "start_time": "2023-04-29T15:47:11.414Z"
   },
   {
    "duration": 13,
    "start_time": "2023-04-29T15:47:11.439Z"
   },
   {
    "duration": 12,
    "start_time": "2023-04-29T15:47:11.454Z"
   },
   {
    "duration": 30,
    "start_time": "2023-04-29T15:47:11.468Z"
   },
   {
    "duration": 5,
    "start_time": "2023-04-29T15:47:11.500Z"
   },
   {
    "duration": 1220,
    "start_time": "2023-04-29T15:48:12.735Z"
   },
   {
    "duration": 52,
    "start_time": "2023-04-29T15:48:13.957Z"
   },
   {
    "duration": 13,
    "start_time": "2023-04-29T15:48:14.011Z"
   },
   {
    "duration": 8,
    "start_time": "2023-04-29T15:48:14.027Z"
   },
   {
    "duration": 15,
    "start_time": "2023-04-29T15:48:14.036Z"
   },
   {
    "duration": 46,
    "start_time": "2023-04-29T15:48:14.052Z"
   },
   {
    "duration": 0,
    "start_time": "2023-04-29T15:48:14.100Z"
   },
   {
    "duration": 0,
    "start_time": "2023-04-29T15:48:14.101Z"
   },
   {
    "duration": 0,
    "start_time": "2023-04-29T15:48:14.103Z"
   },
   {
    "duration": 0,
    "start_time": "2023-04-29T15:48:14.104Z"
   },
   {
    "duration": 0,
    "start_time": "2023-04-29T15:48:14.106Z"
   },
   {
    "duration": 0,
    "start_time": "2023-04-29T15:48:14.107Z"
   },
   {
    "duration": 0,
    "start_time": "2023-04-29T15:48:14.108Z"
   },
   {
    "duration": 0,
    "start_time": "2023-04-29T15:48:14.109Z"
   },
   {
    "duration": 5,
    "start_time": "2023-04-29T15:49:27.344Z"
   },
   {
    "duration": 9,
    "start_time": "2023-04-29T15:49:37.341Z"
   },
   {
    "duration": 20,
    "start_time": "2023-04-29T15:50:05.064Z"
   },
   {
    "duration": 8,
    "start_time": "2023-04-29T15:52:18.011Z"
   },
   {
    "duration": 190,
    "start_time": "2023-04-29T15:53:29.996Z"
   },
   {
    "duration": 221,
    "start_time": "2023-04-29T15:53:40.692Z"
   },
   {
    "duration": 5,
    "start_time": "2023-04-29T15:54:29.068Z"
   },
   {
    "duration": 21,
    "start_time": "2023-04-29T15:54:31.363Z"
   },
   {
    "duration": 1128,
    "start_time": "2023-04-29T15:56:37.427Z"
   },
   {
    "duration": 54,
    "start_time": "2023-04-29T15:56:38.557Z"
   },
   {
    "duration": 17,
    "start_time": "2023-04-29T15:56:38.613Z"
   },
   {
    "duration": 12,
    "start_time": "2023-04-29T15:56:38.632Z"
   },
   {
    "duration": 18,
    "start_time": "2023-04-29T15:56:38.646Z"
   },
   {
    "duration": 4,
    "start_time": "2023-04-29T15:56:38.666Z"
   },
   {
    "duration": 16,
    "start_time": "2023-04-29T15:56:38.672Z"
   },
   {
    "duration": 15,
    "start_time": "2023-04-29T15:56:38.689Z"
   },
   {
    "duration": 3,
    "start_time": "2023-04-29T15:56:38.706Z"
   },
   {
    "duration": 125,
    "start_time": "2023-04-29T15:56:38.712Z"
   },
   {
    "duration": 0,
    "start_time": "2023-04-29T15:56:38.839Z"
   },
   {
    "duration": 0,
    "start_time": "2023-04-29T15:56:38.840Z"
   },
   {
    "duration": 0,
    "start_time": "2023-04-29T15:56:38.842Z"
   },
   {
    "duration": 0,
    "start_time": "2023-04-29T15:56:38.843Z"
   },
   {
    "duration": 0,
    "start_time": "2023-04-29T15:56:38.844Z"
   },
   {
    "duration": 0,
    "start_time": "2023-04-29T15:56:38.845Z"
   },
   {
    "duration": 24,
    "start_time": "2023-04-29T15:57:43.940Z"
   },
   {
    "duration": 24,
    "start_time": "2023-04-29T15:57:58.894Z"
   },
   {
    "duration": 22,
    "start_time": "2023-04-29T16:05:12.634Z"
   },
   {
    "duration": 21,
    "start_time": "2023-04-29T16:05:24.275Z"
   },
   {
    "duration": 23,
    "start_time": "2023-04-29T16:05:31.694Z"
   },
   {
    "duration": 9,
    "start_time": "2023-04-29T16:19:01.515Z"
   },
   {
    "duration": 5,
    "start_time": "2023-04-29T16:19:30.013Z"
   },
   {
    "duration": 12,
    "start_time": "2023-04-29T16:19:39.101Z"
   },
   {
    "duration": 11,
    "start_time": "2023-04-29T16:21:06.733Z"
   },
   {
    "duration": 21,
    "start_time": "2023-04-29T17:14:43.126Z"
   },
   {
    "duration": 21,
    "start_time": "2023-04-29T17:19:48.381Z"
   },
   {
    "duration": 5,
    "start_time": "2023-04-29T17:20:19.975Z"
   },
   {
    "duration": 5,
    "start_time": "2023-04-29T17:20:57.476Z"
   },
   {
    "duration": 7,
    "start_time": "2023-04-29T17:24:20.719Z"
   },
   {
    "duration": 3,
    "start_time": "2023-04-29T17:24:29.401Z"
   },
   {
    "duration": 19,
    "start_time": "2023-04-29T17:24:35.849Z"
   },
   {
    "duration": 12,
    "start_time": "2023-04-29T17:24:48.736Z"
   },
   {
    "duration": 21,
    "start_time": "2023-04-29T17:25:50.271Z"
   },
   {
    "duration": 10,
    "start_time": "2023-04-29T17:25:55.922Z"
   },
   {
    "duration": 23,
    "start_time": "2023-04-29T17:25:57.409Z"
   },
   {
    "duration": 1143,
    "start_time": "2023-04-29T17:26:12.104Z"
   },
   {
    "duration": 42,
    "start_time": "2023-04-29T17:26:13.249Z"
   },
   {
    "duration": 14,
    "start_time": "2023-04-29T17:26:13.293Z"
   },
   {
    "duration": 21,
    "start_time": "2023-04-29T17:26:13.310Z"
   },
   {
    "duration": 26,
    "start_time": "2023-04-29T17:26:13.333Z"
   },
   {
    "duration": 8,
    "start_time": "2023-04-29T17:26:13.361Z"
   },
   {
    "duration": 33,
    "start_time": "2023-04-29T17:26:13.371Z"
   },
   {
    "duration": 4,
    "start_time": "2023-04-29T17:26:13.406Z"
   },
   {
    "duration": 20,
    "start_time": "2023-04-29T17:26:13.412Z"
   },
   {
    "duration": 54,
    "start_time": "2023-04-29T17:26:13.435Z"
   },
   {
    "duration": 7,
    "start_time": "2023-04-29T17:26:13.491Z"
   },
   {
    "duration": 29,
    "start_time": "2023-04-29T17:26:13.499Z"
   },
   {
    "duration": 113,
    "start_time": "2023-04-29T17:26:13.529Z"
   },
   {
    "duration": 0,
    "start_time": "2023-04-29T17:26:13.643Z"
   },
   {
    "duration": 0,
    "start_time": "2023-04-29T17:26:13.644Z"
   },
   {
    "duration": 0,
    "start_time": "2023-04-29T17:26:13.645Z"
   },
   {
    "duration": 0,
    "start_time": "2023-04-29T17:26:13.647Z"
   },
   {
    "duration": 0,
    "start_time": "2023-04-29T17:26:13.647Z"
   },
   {
    "duration": 14,
    "start_time": "2023-04-29T17:26:41.111Z"
   },
   {
    "duration": 25,
    "start_time": "2023-04-29T17:30:08.360Z"
   },
   {
    "duration": 1101,
    "start_time": "2023-04-29T17:30:19.428Z"
   },
   {
    "duration": 40,
    "start_time": "2023-04-29T17:30:20.531Z"
   },
   {
    "duration": 12,
    "start_time": "2023-04-29T17:30:20.573Z"
   },
   {
    "duration": 5,
    "start_time": "2023-04-29T17:30:20.586Z"
   },
   {
    "duration": 10,
    "start_time": "2023-04-29T17:30:20.592Z"
   },
   {
    "duration": 5,
    "start_time": "2023-04-29T17:30:20.603Z"
   },
   {
    "duration": 22,
    "start_time": "2023-04-29T17:30:20.609Z"
   },
   {
    "duration": 3,
    "start_time": "2023-04-29T17:30:20.633Z"
   },
   {
    "duration": 26,
    "start_time": "2023-04-29T17:30:20.637Z"
   },
   {
    "duration": 5,
    "start_time": "2023-04-29T17:30:20.665Z"
   },
   {
    "duration": 14,
    "start_time": "2023-04-29T17:30:20.672Z"
   },
   {
    "duration": 104,
    "start_time": "2023-04-29T17:30:20.687Z"
   },
   {
    "duration": 0,
    "start_time": "2023-04-29T17:30:20.792Z"
   },
   {
    "duration": 1,
    "start_time": "2023-04-29T17:30:20.793Z"
   },
   {
    "duration": 0,
    "start_time": "2023-04-29T17:30:20.794Z"
   },
   {
    "duration": 0,
    "start_time": "2023-04-29T17:30:20.795Z"
   },
   {
    "duration": 0,
    "start_time": "2023-04-29T17:30:20.796Z"
   },
   {
    "duration": 13,
    "start_time": "2023-04-29T17:31:02.428Z"
   },
   {
    "duration": 1104,
    "start_time": "2023-04-29T17:31:26.802Z"
   },
   {
    "duration": 41,
    "start_time": "2023-04-29T17:31:27.907Z"
   },
   {
    "duration": 11,
    "start_time": "2023-04-29T17:31:27.949Z"
   },
   {
    "duration": 6,
    "start_time": "2023-04-29T17:31:27.962Z"
   },
   {
    "duration": 8,
    "start_time": "2023-04-29T17:31:27.970Z"
   },
   {
    "duration": 7,
    "start_time": "2023-04-29T17:31:27.979Z"
   },
   {
    "duration": 22,
    "start_time": "2023-04-29T17:31:27.987Z"
   },
   {
    "duration": 23,
    "start_time": "2023-04-29T17:31:28.011Z"
   },
   {
    "duration": 15,
    "start_time": "2023-04-29T17:31:28.036Z"
   },
   {
    "duration": 6,
    "start_time": "2023-04-29T17:31:28.053Z"
   },
   {
    "duration": 13,
    "start_time": "2023-04-29T17:31:28.060Z"
   },
   {
    "duration": 109,
    "start_time": "2023-04-29T17:31:28.074Z"
   },
   {
    "duration": 0,
    "start_time": "2023-04-29T17:31:28.185Z"
   },
   {
    "duration": 0,
    "start_time": "2023-04-29T17:31:28.186Z"
   },
   {
    "duration": 0,
    "start_time": "2023-04-29T17:31:28.187Z"
   },
   {
    "duration": 0,
    "start_time": "2023-04-29T17:31:28.188Z"
   },
   {
    "duration": 0,
    "start_time": "2023-04-29T17:31:28.189Z"
   },
   {
    "duration": 14,
    "start_time": "2023-04-29T17:37:55.577Z"
   },
   {
    "duration": 11,
    "start_time": "2023-04-29T17:39:00.925Z"
   },
   {
    "duration": 1064,
    "start_time": "2023-04-29T17:39:07.747Z"
   },
   {
    "duration": 40,
    "start_time": "2023-04-29T17:39:08.813Z"
   },
   {
    "duration": 12,
    "start_time": "2023-04-29T17:39:08.855Z"
   },
   {
    "duration": 10,
    "start_time": "2023-04-29T17:39:08.869Z"
   },
   {
    "duration": 9,
    "start_time": "2023-04-29T17:39:08.880Z"
   },
   {
    "duration": 12,
    "start_time": "2023-04-29T17:39:08.890Z"
   },
   {
    "duration": 18,
    "start_time": "2023-04-29T17:39:08.904Z"
   },
   {
    "duration": 3,
    "start_time": "2023-04-29T17:39:08.923Z"
   },
   {
    "duration": 19,
    "start_time": "2023-04-29T17:39:08.927Z"
   },
   {
    "duration": 6,
    "start_time": "2023-04-29T17:39:08.947Z"
   },
   {
    "duration": 42,
    "start_time": "2023-04-29T17:39:08.954Z"
   },
   {
    "duration": 93,
    "start_time": "2023-04-29T17:39:08.998Z"
   },
   {
    "duration": 0,
    "start_time": "2023-04-29T17:39:09.092Z"
   },
   {
    "duration": 0,
    "start_time": "2023-04-29T17:39:09.094Z"
   },
   {
    "duration": 0,
    "start_time": "2023-04-29T17:39:09.095Z"
   },
   {
    "duration": 0,
    "start_time": "2023-04-29T17:39:09.096Z"
   },
   {
    "duration": 0,
    "start_time": "2023-04-29T17:39:09.096Z"
   },
   {
    "duration": 14,
    "start_time": "2023-04-29T17:42:00.274Z"
   },
   {
    "duration": 13,
    "start_time": "2023-04-29T17:46:40.272Z"
   },
   {
    "duration": 1162,
    "start_time": "2023-04-29T17:46:46.088Z"
   },
   {
    "duration": 43,
    "start_time": "2023-04-29T17:46:47.252Z"
   },
   {
    "duration": 12,
    "start_time": "2023-04-29T17:46:47.296Z"
   },
   {
    "duration": 12,
    "start_time": "2023-04-29T17:46:47.310Z"
   },
   {
    "duration": 23,
    "start_time": "2023-04-29T17:46:47.324Z"
   },
   {
    "duration": 4,
    "start_time": "2023-04-29T17:46:47.349Z"
   },
   {
    "duration": 22,
    "start_time": "2023-04-29T17:46:47.354Z"
   },
   {
    "duration": 6,
    "start_time": "2023-04-29T17:46:47.378Z"
   },
   {
    "duration": 22,
    "start_time": "2023-04-29T17:46:47.386Z"
   },
   {
    "duration": 7,
    "start_time": "2023-04-29T17:46:47.410Z"
   },
   {
    "duration": 19,
    "start_time": "2023-04-29T17:46:47.418Z"
   },
   {
    "duration": 97,
    "start_time": "2023-04-29T17:46:47.439Z"
   },
   {
    "duration": 0,
    "start_time": "2023-04-29T17:46:47.537Z"
   },
   {
    "duration": 0,
    "start_time": "2023-04-29T17:46:47.539Z"
   },
   {
    "duration": 0,
    "start_time": "2023-04-29T17:46:47.540Z"
   },
   {
    "duration": 0,
    "start_time": "2023-04-29T17:46:47.540Z"
   },
   {
    "duration": 0,
    "start_time": "2023-04-29T17:46:47.542Z"
   },
   {
    "duration": 13,
    "start_time": "2023-04-29T17:55:07.815Z"
   },
   {
    "duration": 127,
    "start_time": "2023-04-29T17:57:11.295Z"
   },
   {
    "duration": 16,
    "start_time": "2023-04-29T18:07:10.555Z"
   },
   {
    "duration": 1357,
    "start_time": "2023-04-29T18:07:23.817Z"
   },
   {
    "duration": 41,
    "start_time": "2023-04-29T18:07:25.176Z"
   },
   {
    "duration": 12,
    "start_time": "2023-04-29T18:07:25.219Z"
   },
   {
    "duration": 7,
    "start_time": "2023-04-29T18:07:25.233Z"
   },
   {
    "duration": 16,
    "start_time": "2023-04-29T18:07:25.242Z"
   },
   {
    "duration": 5,
    "start_time": "2023-04-29T18:07:25.260Z"
   },
   {
    "duration": 25,
    "start_time": "2023-04-29T18:07:25.267Z"
   },
   {
    "duration": 4,
    "start_time": "2023-04-29T18:07:25.294Z"
   },
   {
    "duration": 49,
    "start_time": "2023-04-29T18:07:25.300Z"
   },
   {
    "duration": 43,
    "start_time": "2023-04-29T18:07:25.352Z"
   },
   {
    "duration": 0,
    "start_time": "2023-04-29T18:07:25.396Z"
   },
   {
    "duration": 0,
    "start_time": "2023-04-29T18:07:25.397Z"
   },
   {
    "duration": 0,
    "start_time": "2023-04-29T18:07:25.402Z"
   },
   {
    "duration": 0,
    "start_time": "2023-04-29T18:07:25.403Z"
   },
   {
    "duration": 0,
    "start_time": "2023-04-29T18:07:25.406Z"
   },
   {
    "duration": 0,
    "start_time": "2023-04-29T18:07:25.407Z"
   },
   {
    "duration": 0,
    "start_time": "2023-04-29T18:07:25.409Z"
   },
   {
    "duration": 0,
    "start_time": "2023-04-29T18:07:25.410Z"
   },
   {
    "duration": 102,
    "start_time": "2023-04-29T18:08:42.214Z"
   },
   {
    "duration": 1240,
    "start_time": "2023-04-29T18:08:52.051Z"
   },
   {
    "duration": 41,
    "start_time": "2023-04-29T18:08:53.294Z"
   },
   {
    "duration": 12,
    "start_time": "2023-04-29T18:08:53.336Z"
   },
   {
    "duration": 6,
    "start_time": "2023-04-29T18:08:53.349Z"
   },
   {
    "duration": 15,
    "start_time": "2023-04-29T18:08:53.357Z"
   },
   {
    "duration": 9,
    "start_time": "2023-04-29T18:08:53.373Z"
   },
   {
    "duration": 14,
    "start_time": "2023-04-29T18:08:53.384Z"
   },
   {
    "duration": 5,
    "start_time": "2023-04-29T18:08:53.400Z"
   },
   {
    "duration": 34,
    "start_time": "2023-04-29T18:08:53.406Z"
   },
   {
    "duration": 835,
    "start_time": "2023-04-29T18:08:53.441Z"
   },
   {
    "duration": 0,
    "start_time": "2023-04-29T18:08:54.278Z"
   },
   {
    "duration": 0,
    "start_time": "2023-04-29T18:08:54.279Z"
   },
   {
    "duration": 0,
    "start_time": "2023-04-29T18:08:54.280Z"
   },
   {
    "duration": 0,
    "start_time": "2023-04-29T18:08:54.281Z"
   },
   {
    "duration": 0,
    "start_time": "2023-04-29T18:08:54.282Z"
   },
   {
    "duration": 0,
    "start_time": "2023-04-29T18:08:54.284Z"
   },
   {
    "duration": 0,
    "start_time": "2023-04-29T18:08:54.285Z"
   },
   {
    "duration": 1370,
    "start_time": "2023-04-29T18:09:17.112Z"
   },
   {
    "duration": 41,
    "start_time": "2023-04-29T18:09:18.484Z"
   },
   {
    "duration": 12,
    "start_time": "2023-04-29T18:09:18.527Z"
   },
   {
    "duration": 10,
    "start_time": "2023-04-29T18:09:18.541Z"
   },
   {
    "duration": 11,
    "start_time": "2023-04-29T18:09:18.552Z"
   },
   {
    "duration": 7,
    "start_time": "2023-04-29T18:09:18.565Z"
   },
   {
    "duration": 19,
    "start_time": "2023-04-29T18:09:18.573Z"
   },
   {
    "duration": 3,
    "start_time": "2023-04-29T18:09:18.594Z"
   },
   {
    "duration": 17,
    "start_time": "2023-04-29T18:09:18.599Z"
   },
   {
    "duration": 21,
    "start_time": "2023-04-29T18:09:18.634Z"
   },
   {
    "duration": 55,
    "start_time": "2023-04-29T18:09:18.656Z"
   },
   {
    "duration": 0,
    "start_time": "2023-04-29T18:09:18.712Z"
   },
   {
    "duration": 0,
    "start_time": "2023-04-29T18:09:18.714Z"
   },
   {
    "duration": 0,
    "start_time": "2023-04-29T18:09:18.715Z"
   },
   {
    "duration": 0,
    "start_time": "2023-04-29T18:09:18.716Z"
   },
   {
    "duration": 0,
    "start_time": "2023-04-29T18:09:18.718Z"
   },
   {
    "duration": 0,
    "start_time": "2023-04-29T18:09:18.719Z"
   },
   {
    "duration": 8,
    "start_time": "2023-04-29T18:13:25.791Z"
   },
   {
    "duration": 1369,
    "start_time": "2023-04-29T18:27:00.717Z"
   },
   {
    "duration": 42,
    "start_time": "2023-04-29T18:27:02.088Z"
   },
   {
    "duration": 16,
    "start_time": "2023-04-29T18:27:02.132Z"
   },
   {
    "duration": 28,
    "start_time": "2023-04-29T18:27:02.150Z"
   },
   {
    "duration": 30,
    "start_time": "2023-04-29T18:27:02.180Z"
   },
   {
    "duration": 24,
    "start_time": "2023-04-29T18:27:02.212Z"
   },
   {
    "duration": 28,
    "start_time": "2023-04-29T18:27:02.237Z"
   },
   {
    "duration": 8,
    "start_time": "2023-04-29T18:27:02.267Z"
   },
   {
    "duration": 31,
    "start_time": "2023-04-29T18:27:02.277Z"
   },
   {
    "duration": 25,
    "start_time": "2023-04-29T18:27:02.311Z"
   },
   {
    "duration": 11,
    "start_time": "2023-04-29T18:27:02.337Z"
   },
   {
    "duration": 117,
    "start_time": "2023-04-29T18:27:02.349Z"
   },
   {
    "duration": 0,
    "start_time": "2023-04-29T18:27:02.467Z"
   },
   {
    "duration": 9,
    "start_time": "2023-04-29T18:27:17.434Z"
   },
   {
    "duration": 25,
    "start_time": "2023-04-29T18:27:20.003Z"
   },
   {
    "duration": 1358,
    "start_time": "2023-04-29T18:27:51.711Z"
   },
   {
    "duration": 41,
    "start_time": "2023-04-29T18:27:53.071Z"
   },
   {
    "duration": 13,
    "start_time": "2023-04-29T18:27:53.113Z"
   },
   {
    "duration": 6,
    "start_time": "2023-04-29T18:27:53.128Z"
   },
   {
    "duration": 8,
    "start_time": "2023-04-29T18:27:53.135Z"
   },
   {
    "duration": 7,
    "start_time": "2023-04-29T18:27:53.145Z"
   },
   {
    "duration": 21,
    "start_time": "2023-04-29T18:27:53.153Z"
   },
   {
    "duration": 9,
    "start_time": "2023-04-29T18:27:53.176Z"
   },
   {
    "duration": 22,
    "start_time": "2023-04-29T18:27:53.186Z"
   },
   {
    "duration": 30,
    "start_time": "2023-04-29T18:27:53.210Z"
   },
   {
    "duration": 10,
    "start_time": "2023-04-29T18:27:53.242Z"
   },
   {
    "duration": 8,
    "start_time": "2023-04-29T18:27:53.254Z"
   },
   {
    "duration": 39,
    "start_time": "2023-04-29T18:27:53.264Z"
   },
   {
    "duration": 13,
    "start_time": "2023-04-29T18:40:34.175Z"
   },
   {
    "duration": 4,
    "start_time": "2023-04-29T18:41:09.049Z"
   },
   {
    "duration": 4,
    "start_time": "2023-04-29T18:41:28.855Z"
   },
   {
    "duration": 6,
    "start_time": "2023-04-29T18:55:42.836Z"
   },
   {
    "duration": 4,
    "start_time": "2023-04-29T18:56:01.555Z"
   },
   {
    "duration": 117,
    "start_time": "2023-04-29T18:56:49.120Z"
   },
   {
    "duration": 15,
    "start_time": "2023-04-29T18:56:56.086Z"
   },
   {
    "duration": 6,
    "start_time": "2023-04-29T18:57:22.057Z"
   },
   {
    "duration": 61,
    "start_time": "2023-04-29T19:11:03.882Z"
   },
   {
    "duration": 305,
    "start_time": "2023-04-29T19:17:29.955Z"
   },
   {
    "duration": 4,
    "start_time": "2023-04-29T19:20:26.550Z"
   },
   {
    "duration": 146,
    "start_time": "2023-04-29T19:21:19.730Z"
   },
   {
    "duration": 158,
    "start_time": "2023-04-29T19:22:00.584Z"
   },
   {
    "duration": 136,
    "start_time": "2023-04-29T19:23:11.062Z"
   },
   {
    "duration": 246,
    "start_time": "2023-04-29T19:24:13.069Z"
   },
   {
    "duration": 223,
    "start_time": "2023-04-29T19:25:49.209Z"
   },
   {
    "duration": 16,
    "start_time": "2023-04-29T19:26:37.738Z"
   },
   {
    "duration": 8,
    "start_time": "2023-04-29T19:26:58.477Z"
   },
   {
    "duration": 175,
    "start_time": "2023-04-29T19:28:42.635Z"
   },
   {
    "duration": 4,
    "start_time": "2023-04-29T20:03:21.599Z"
   },
   {
    "duration": 139,
    "start_time": "2023-04-29T20:03:22.228Z"
   },
   {
    "duration": 124,
    "start_time": "2023-04-29T20:03:26.346Z"
   },
   {
    "duration": 116,
    "start_time": "2023-04-29T20:03:27.188Z"
   },
   {
    "duration": 113,
    "start_time": "2023-04-29T20:03:28.140Z"
   },
   {
    "duration": 117,
    "start_time": "2023-04-29T20:03:28.819Z"
   },
   {
    "duration": 128,
    "start_time": "2023-04-29T20:03:29.381Z"
   },
   {
    "duration": 4,
    "start_time": "2023-04-30T17:39:11.176Z"
   },
   {
    "duration": 66,
    "start_time": "2023-04-30T17:42:34.537Z"
   },
   {
    "duration": 1680,
    "start_time": "2023-04-30T17:42:43.251Z"
   },
   {
    "duration": 162,
    "start_time": "2023-04-30T17:42:44.933Z"
   },
   {
    "duration": 17,
    "start_time": "2023-04-30T17:42:45.097Z"
   },
   {
    "duration": 8,
    "start_time": "2023-04-30T17:42:45.116Z"
   },
   {
    "duration": 18,
    "start_time": "2023-04-30T17:42:45.126Z"
   },
   {
    "duration": 6,
    "start_time": "2023-04-30T17:42:45.146Z"
   },
   {
    "duration": 29,
    "start_time": "2023-04-30T17:42:45.154Z"
   },
   {
    "duration": 4,
    "start_time": "2023-04-30T17:42:45.185Z"
   },
   {
    "duration": 34,
    "start_time": "2023-04-30T17:42:45.191Z"
   },
   {
    "duration": 24,
    "start_time": "2023-04-30T17:42:45.227Z"
   },
   {
    "duration": 12,
    "start_time": "2023-04-30T17:42:45.253Z"
   },
   {
    "duration": 6,
    "start_time": "2023-04-30T17:42:45.266Z"
   },
   {
    "duration": 130,
    "start_time": "2023-04-30T17:42:45.274Z"
   },
   {
    "duration": 0,
    "start_time": "2023-04-30T17:42:45.406Z"
   },
   {
    "duration": 0,
    "start_time": "2023-04-30T17:42:45.408Z"
   },
   {
    "duration": 0,
    "start_time": "2023-04-30T17:42:45.409Z"
   },
   {
    "duration": 0,
    "start_time": "2023-04-30T17:42:45.411Z"
   },
   {
    "duration": 0,
    "start_time": "2023-04-30T17:42:45.412Z"
   },
   {
    "duration": 0,
    "start_time": "2023-04-30T17:42:45.413Z"
   },
   {
    "duration": 0,
    "start_time": "2023-04-30T17:42:45.414Z"
   },
   {
    "duration": 0,
    "start_time": "2023-04-30T17:42:45.416Z"
   },
   {
    "duration": 0,
    "start_time": "2023-04-30T17:42:45.417Z"
   },
   {
    "duration": 0,
    "start_time": "2023-04-30T17:42:45.419Z"
   },
   {
    "duration": 1442,
    "start_time": "2023-04-30T17:43:15.347Z"
   },
   {
    "duration": 38,
    "start_time": "2023-04-30T17:43:16.791Z"
   },
   {
    "duration": 14,
    "start_time": "2023-04-30T17:43:16.831Z"
   },
   {
    "duration": 6,
    "start_time": "2023-04-30T17:43:16.848Z"
   },
   {
    "duration": 15,
    "start_time": "2023-04-30T17:43:16.858Z"
   },
   {
    "duration": 4,
    "start_time": "2023-04-30T17:43:16.874Z"
   },
   {
    "duration": 18,
    "start_time": "2023-04-30T17:43:16.880Z"
   },
   {
    "duration": 4,
    "start_time": "2023-04-30T17:43:16.900Z"
   },
   {
    "duration": 7,
    "start_time": "2023-04-30T17:43:16.906Z"
   },
   {
    "duration": 4,
    "start_time": "2023-04-30T17:43:16.915Z"
   },
   {
    "duration": 40,
    "start_time": "2023-04-30T17:43:16.920Z"
   },
   {
    "duration": 8,
    "start_time": "2023-04-30T17:43:16.962Z"
   },
   {
    "duration": 30,
    "start_time": "2023-04-30T17:43:16.972Z"
   },
   {
    "duration": 3,
    "start_time": "2023-04-30T17:43:17.005Z"
   },
   {
    "duration": 180,
    "start_time": "2023-04-30T17:43:17.010Z"
   },
   {
    "duration": 149,
    "start_time": "2023-04-30T17:43:17.192Z"
   },
   {
    "duration": 168,
    "start_time": "2023-04-30T17:43:17.343Z"
   },
   {
    "duration": 192,
    "start_time": "2023-04-30T17:43:17.514Z"
   },
   {
    "duration": 143,
    "start_time": "2023-04-30T17:43:17.708Z"
   },
   {
    "duration": 224,
    "start_time": "2023-04-30T17:43:17.855Z"
   },
   {
    "duration": 7,
    "start_time": "2023-04-30T17:43:18.081Z"
   },
   {
    "duration": 14,
    "start_time": "2023-04-30T17:43:18.089Z"
   },
   {
    "duration": 4,
    "start_time": "2023-04-30T17:43:18.105Z"
   },
   {
    "duration": 31,
    "start_time": "2023-04-30T17:44:25.151Z"
   },
   {
    "duration": 17,
    "start_time": "2023-04-30T17:44:53.504Z"
   },
   {
    "duration": 13,
    "start_time": "2023-04-30T17:46:34.274Z"
   },
   {
    "duration": 26,
    "start_time": "2023-04-30T17:46:51.549Z"
   },
   {
    "duration": 110,
    "start_time": "2023-04-30T17:48:38.145Z"
   },
   {
    "duration": 8,
    "start_time": "2023-04-30T17:51:24.504Z"
   },
   {
    "duration": 7,
    "start_time": "2023-04-30T17:52:14.827Z"
   },
   {
    "duration": 6,
    "start_time": "2023-04-30T17:52:40.799Z"
   },
   {
    "duration": 27,
    "start_time": "2023-04-30T17:56:01.807Z"
   },
   {
    "duration": 11,
    "start_time": "2023-04-30T17:57:28.253Z"
   },
   {
    "duration": 14,
    "start_time": "2023-04-30T17:57:38.414Z"
   },
   {
    "duration": 16,
    "start_time": "2023-04-30T17:58:28.635Z"
   },
   {
    "duration": 17,
    "start_time": "2023-04-30T17:59:50.382Z"
   },
   {
    "duration": 54,
    "start_time": "2023-04-30T18:00:20.828Z"
   },
   {
    "duration": 7,
    "start_time": "2023-04-30T18:03:00.212Z"
   },
   {
    "duration": 16,
    "start_time": "2023-04-30T18:05:26.030Z"
   },
   {
    "duration": 4,
    "start_time": "2023-04-30T18:08:28.585Z"
   },
   {
    "duration": 11,
    "start_time": "2023-04-30T18:09:34.546Z"
   },
   {
    "duration": 6,
    "start_time": "2023-04-30T18:10:12.010Z"
   },
   {
    "duration": 6,
    "start_time": "2023-04-30T18:10:27.998Z"
   },
   {
    "duration": 7,
    "start_time": "2023-04-30T18:11:12.210Z"
   },
   {
    "duration": 16,
    "start_time": "2023-04-30T18:18:10.200Z"
   },
   {
    "duration": 7,
    "start_time": "2023-04-30T18:20:21.506Z"
   },
   {
    "duration": 14,
    "start_time": "2023-04-30T18:24:31.621Z"
   },
   {
    "duration": 15,
    "start_time": "2023-04-30T18:25:24.886Z"
   },
   {
    "duration": 8,
    "start_time": "2023-04-30T18:26:56.083Z"
   },
   {
    "duration": 150,
    "start_time": "2023-04-30T18:29:49.574Z"
   },
   {
    "duration": 144,
    "start_time": "2023-04-30T18:30:08.426Z"
   },
   {
    "duration": 8,
    "start_time": "2023-04-30T18:30:15.622Z"
   },
   {
    "duration": 52,
    "start_time": "2023-05-01T04:24:31.215Z"
   },
   {
    "duration": 7,
    "start_time": "2023-05-01T04:25:16.715Z"
   },
   {
    "duration": 1561,
    "start_time": "2023-05-01T04:25:24.285Z"
   },
   {
    "duration": 152,
    "start_time": "2023-05-01T04:25:25.848Z"
   },
   {
    "duration": 13,
    "start_time": "2023-05-01T04:25:26.002Z"
   },
   {
    "duration": 6,
    "start_time": "2023-05-01T04:25:26.017Z"
   },
   {
    "duration": 11,
    "start_time": "2023-05-01T04:25:26.025Z"
   },
   {
    "duration": 3,
    "start_time": "2023-05-01T04:25:26.037Z"
   },
   {
    "duration": 14,
    "start_time": "2023-05-01T04:25:26.042Z"
   },
   {
    "duration": 4,
    "start_time": "2023-05-01T04:25:26.058Z"
   },
   {
    "duration": 22,
    "start_time": "2023-05-01T04:25:26.064Z"
   },
   {
    "duration": 3,
    "start_time": "2023-05-01T04:25:26.088Z"
   },
   {
    "duration": 9,
    "start_time": "2023-05-01T04:25:26.092Z"
   },
   {
    "duration": 8,
    "start_time": "2023-05-01T04:25:26.103Z"
   },
   {
    "duration": 7,
    "start_time": "2023-05-01T04:25:26.112Z"
   },
   {
    "duration": 16,
    "start_time": "2023-05-01T04:25:26.121Z"
   },
   {
    "duration": 139,
    "start_time": "2023-05-01T04:25:26.138Z"
   },
   {
    "duration": 0,
    "start_time": "2023-05-01T04:25:26.279Z"
   },
   {
    "duration": 0,
    "start_time": "2023-05-01T04:25:26.285Z"
   },
   {
    "duration": 0,
    "start_time": "2023-05-01T04:25:26.286Z"
   },
   {
    "duration": 0,
    "start_time": "2023-05-01T04:25:26.287Z"
   },
   {
    "duration": 0,
    "start_time": "2023-05-01T04:25:26.288Z"
   },
   {
    "duration": 0,
    "start_time": "2023-05-01T04:25:26.289Z"
   },
   {
    "duration": 0,
    "start_time": "2023-05-01T04:25:26.290Z"
   },
   {
    "duration": 0,
    "start_time": "2023-05-01T04:25:26.291Z"
   },
   {
    "duration": 0,
    "start_time": "2023-05-01T04:25:26.292Z"
   },
   {
    "duration": 0,
    "start_time": "2023-05-01T04:25:26.293Z"
   },
   {
    "duration": 7,
    "start_time": "2023-05-01T04:25:47.485Z"
   },
   {
    "duration": 20,
    "start_time": "2023-05-01T04:27:01.647Z"
   },
   {
    "duration": 1420,
    "start_time": "2023-05-01T04:27:18.796Z"
   },
   {
    "duration": 39,
    "start_time": "2023-05-01T04:27:20.218Z"
   },
   {
    "duration": 12,
    "start_time": "2023-05-01T04:27:20.259Z"
   },
   {
    "duration": 6,
    "start_time": "2023-05-01T04:27:20.273Z"
   },
   {
    "duration": 7,
    "start_time": "2023-05-01T04:27:20.281Z"
   },
   {
    "duration": 7,
    "start_time": "2023-05-01T04:27:20.290Z"
   },
   {
    "duration": 17,
    "start_time": "2023-05-01T04:27:20.298Z"
   },
   {
    "duration": 4,
    "start_time": "2023-05-01T04:27:20.317Z"
   },
   {
    "duration": 3,
    "start_time": "2023-05-01T04:27:20.323Z"
   },
   {
    "duration": 3,
    "start_time": "2023-05-01T04:27:20.329Z"
   },
   {
    "duration": 8,
    "start_time": "2023-05-01T04:27:20.334Z"
   },
   {
    "duration": 9,
    "start_time": "2023-05-01T04:27:20.343Z"
   },
   {
    "duration": 35,
    "start_time": "2023-05-01T04:27:20.354Z"
   },
   {
    "duration": 18,
    "start_time": "2023-05-01T04:27:20.390Z"
   },
   {
    "duration": 7,
    "start_time": "2023-05-01T04:27:20.410Z"
   },
   {
    "duration": 9,
    "start_time": "2023-05-01T04:27:20.418Z"
   },
   {
    "duration": 167,
    "start_time": "2023-05-01T04:27:20.428Z"
   },
   {
    "duration": 134,
    "start_time": "2023-05-01T04:27:20.596Z"
   },
   {
    "duration": 134,
    "start_time": "2023-05-01T04:27:20.731Z"
   },
   {
    "duration": 138,
    "start_time": "2023-05-01T04:27:20.866Z"
   },
   {
    "duration": 144,
    "start_time": "2023-05-01T04:27:21.006Z"
   },
   {
    "duration": 233,
    "start_time": "2023-05-01T04:27:21.152Z"
   },
   {
    "duration": 9,
    "start_time": "2023-05-01T04:27:21.387Z"
   },
   {
    "duration": 21,
    "start_time": "2023-05-01T04:27:21.398Z"
   },
   {
    "duration": 10,
    "start_time": "2023-05-01T04:27:21.421Z"
   },
   {
    "duration": 7,
    "start_time": "2023-05-01T04:27:57.604Z"
   },
   {
    "duration": 121,
    "start_time": "2023-05-01T04:31:00.127Z"
   },
   {
    "duration": 1711,
    "start_time": "2023-05-01T04:31:13.411Z"
   },
   {
    "duration": 40,
    "start_time": "2023-05-01T04:31:15.125Z"
   },
   {
    "duration": 16,
    "start_time": "2023-05-01T04:31:15.166Z"
   },
   {
    "duration": 12,
    "start_time": "2023-05-01T04:31:15.184Z"
   },
   {
    "duration": 15,
    "start_time": "2023-05-01T04:31:15.199Z"
   },
   {
    "duration": 7,
    "start_time": "2023-05-01T04:31:15.216Z"
   },
   {
    "duration": 22,
    "start_time": "2023-05-01T04:31:15.228Z"
   },
   {
    "duration": 5,
    "start_time": "2023-05-01T04:31:15.252Z"
   },
   {
    "duration": 27,
    "start_time": "2023-05-01T04:31:15.259Z"
   },
   {
    "duration": 20,
    "start_time": "2023-05-01T04:31:15.288Z"
   },
   {
    "duration": 14,
    "start_time": "2023-05-01T04:31:15.313Z"
   },
   {
    "duration": 22,
    "start_time": "2023-05-01T04:31:15.329Z"
   },
   {
    "duration": 10,
    "start_time": "2023-05-01T04:31:15.353Z"
   },
   {
    "duration": 20,
    "start_time": "2023-05-01T04:31:15.366Z"
   },
   {
    "duration": 4,
    "start_time": "2023-05-01T04:31:15.388Z"
   },
   {
    "duration": 216,
    "start_time": "2023-05-01T04:31:15.393Z"
   },
   {
    "duration": 194,
    "start_time": "2023-05-01T04:31:15.611Z"
   },
   {
    "duration": 171,
    "start_time": "2023-05-01T04:31:15.807Z"
   },
   {
    "duration": 177,
    "start_time": "2023-05-01T04:31:15.985Z"
   },
   {
    "duration": 194,
    "start_time": "2023-05-01T04:31:16.164Z"
   },
   {
    "duration": 290,
    "start_time": "2023-05-01T04:31:16.360Z"
   },
   {
    "duration": 9,
    "start_time": "2023-05-01T04:31:16.652Z"
   },
   {
    "duration": 46,
    "start_time": "2023-05-01T04:31:16.663Z"
   },
   {
    "duration": 5,
    "start_time": "2023-05-01T04:31:16.711Z"
   },
   {
    "duration": 119,
    "start_time": "2023-05-01T04:31:33.725Z"
   },
   {
    "duration": 1509,
    "start_time": "2023-05-01T04:31:39.265Z"
   },
   {
    "duration": 59,
    "start_time": "2023-05-01T04:31:40.776Z"
   },
   {
    "duration": 16,
    "start_time": "2023-05-01T04:31:40.836Z"
   },
   {
    "duration": 6,
    "start_time": "2023-05-01T04:31:40.854Z"
   },
   {
    "duration": 8,
    "start_time": "2023-05-01T04:31:40.862Z"
   },
   {
    "duration": 4,
    "start_time": "2023-05-01T04:31:40.871Z"
   },
   {
    "duration": 27,
    "start_time": "2023-05-01T04:31:40.877Z"
   },
   {
    "duration": 4,
    "start_time": "2023-05-01T04:31:40.906Z"
   },
   {
    "duration": 5,
    "start_time": "2023-05-01T04:31:40.912Z"
   },
   {
    "duration": 3,
    "start_time": "2023-05-01T04:31:40.919Z"
   },
   {
    "duration": 8,
    "start_time": "2023-05-01T04:31:40.924Z"
   },
   {
    "duration": 10,
    "start_time": "2023-05-01T04:31:40.934Z"
   },
   {
    "duration": 7,
    "start_time": "2023-05-01T04:31:40.945Z"
   },
   {
    "duration": 51,
    "start_time": "2023-05-01T04:31:40.953Z"
   },
   {
    "duration": 3,
    "start_time": "2023-05-01T04:31:41.006Z"
   },
   {
    "duration": 197,
    "start_time": "2023-05-01T04:31:41.011Z"
   },
   {
    "duration": 170,
    "start_time": "2023-05-01T04:31:41.210Z"
   },
   {
    "duration": 145,
    "start_time": "2023-05-01T04:31:41.381Z"
   },
   {
    "duration": 141,
    "start_time": "2023-05-01T04:31:41.527Z"
   },
   {
    "duration": 172,
    "start_time": "2023-05-01T04:31:41.670Z"
   },
   {
    "duration": 232,
    "start_time": "2023-05-01T04:31:41.844Z"
   },
   {
    "duration": 19,
    "start_time": "2023-05-01T04:31:42.078Z"
   },
   {
    "duration": 15,
    "start_time": "2023-05-01T04:31:42.100Z"
   },
   {
    "duration": 3,
    "start_time": "2023-05-01T04:31:42.117Z"
   },
   {
    "duration": 11,
    "start_time": "2023-05-01T04:33:58.685Z"
   },
   {
    "duration": 125,
    "start_time": "2023-05-01T04:34:19.277Z"
   },
   {
    "duration": 125,
    "start_time": "2023-05-01T04:34:32.566Z"
   },
   {
    "duration": 117,
    "start_time": "2023-05-01T04:34:46.391Z"
   },
   {
    "duration": 120,
    "start_time": "2023-05-01T04:35:13.388Z"
   },
   {
    "duration": 123,
    "start_time": "2023-05-01T04:37:52.846Z"
   },
   {
    "duration": 141,
    "start_time": "2023-05-01T04:38:30.106Z"
   },
   {
    "duration": 155,
    "start_time": "2023-05-01T04:47:16.219Z"
   },
   {
    "duration": 127,
    "start_time": "2023-05-01T04:47:26.018Z"
   },
   {
    "duration": 129,
    "start_time": "2023-05-01T04:47:39.542Z"
   },
   {
    "duration": 9,
    "start_time": "2023-05-01T04:47:55.969Z"
   },
   {
    "duration": 5,
    "start_time": "2023-05-01T04:48:32.575Z"
   },
   {
    "duration": 5,
    "start_time": "2023-05-01T04:48:52.045Z"
   },
   {
    "duration": 10,
    "start_time": "2023-05-01T04:49:38.058Z"
   },
   {
    "duration": 15,
    "start_time": "2023-05-01T04:50:52.239Z"
   },
   {
    "duration": 11,
    "start_time": "2023-05-01T04:51:08.662Z"
   },
   {
    "duration": 5,
    "start_time": "2023-05-01T10:03:39.816Z"
   },
   {
    "duration": 8,
    "start_time": "2023-05-01T10:05:07.114Z"
   },
   {
    "duration": 6,
    "start_time": "2023-05-01T10:05:10.417Z"
   },
   {
    "duration": 1887,
    "start_time": "2023-05-01T10:06:09.523Z"
   },
   {
    "duration": 62,
    "start_time": "2023-05-01T10:06:11.413Z"
   },
   {
    "duration": 23,
    "start_time": "2023-05-01T10:06:11.477Z"
   },
   {
    "duration": 10,
    "start_time": "2023-05-01T10:06:11.502Z"
   },
   {
    "duration": 35,
    "start_time": "2023-05-01T10:06:11.515Z"
   },
   {
    "duration": 10,
    "start_time": "2023-05-01T10:06:11.552Z"
   },
   {
    "duration": 45,
    "start_time": "2023-05-01T10:06:11.566Z"
   },
   {
    "duration": 11,
    "start_time": "2023-05-01T10:06:11.613Z"
   },
   {
    "duration": 6,
    "start_time": "2023-05-01T10:06:11.631Z"
   },
   {
    "duration": 23,
    "start_time": "2023-05-01T10:06:11.640Z"
   },
   {
    "duration": 26,
    "start_time": "2023-05-01T10:06:11.665Z"
   },
   {
    "duration": 27,
    "start_time": "2023-05-01T10:06:11.695Z"
   },
   {
    "duration": 14,
    "start_time": "2023-05-01T10:06:11.728Z"
   },
   {
    "duration": 246,
    "start_time": "2023-05-01T10:06:11.749Z"
   },
   {
    "duration": 11,
    "start_time": "2023-05-01T10:06:11.999Z"
   },
   {
    "duration": 58,
    "start_time": "2023-05-01T10:06:12.019Z"
   },
   {
    "duration": 43,
    "start_time": "2023-05-01T10:06:12.080Z"
   },
   {
    "duration": 14,
    "start_time": "2023-05-01T10:06:12.125Z"
   },
   {
    "duration": 195,
    "start_time": "2023-05-01T10:06:12.142Z"
   },
   {
    "duration": 217,
    "start_time": "2023-05-01T10:06:12.343Z"
   },
   {
    "duration": 215,
    "start_time": "2023-05-01T10:06:12.566Z"
   },
   {
    "duration": 201,
    "start_time": "2023-05-01T10:06:12.784Z"
   },
   {
    "duration": 297,
    "start_time": "2023-05-01T10:06:12.987Z"
   },
   {
    "duration": 206,
    "start_time": "2023-05-01T10:06:13.294Z"
   },
   {
    "duration": 26,
    "start_time": "2023-05-01T10:06:13.512Z"
   },
   {
    "duration": 20,
    "start_time": "2023-05-01T10:06:13.549Z"
   },
   {
    "duration": 5,
    "start_time": "2023-05-01T10:06:13.570Z"
   },
   {
    "duration": 36,
    "start_time": "2023-05-01T10:07:04.414Z"
   },
   {
    "duration": 148,
    "start_time": "2023-05-01T10:08:23.828Z"
   },
   {
    "duration": 38,
    "start_time": "2023-05-01T10:08:30.612Z"
   },
   {
    "duration": 1869,
    "start_time": "2023-05-01T10:11:20.562Z"
   },
   {
    "duration": 60,
    "start_time": "2023-05-01T10:11:22.443Z"
   },
   {
    "duration": 24,
    "start_time": "2023-05-01T10:11:22.505Z"
   },
   {
    "duration": 11,
    "start_time": "2023-05-01T10:11:22.531Z"
   },
   {
    "duration": 21,
    "start_time": "2023-05-01T10:11:22.545Z"
   },
   {
    "duration": 6,
    "start_time": "2023-05-01T10:11:22.568Z"
   },
   {
    "duration": 47,
    "start_time": "2023-05-01T10:11:22.576Z"
   },
   {
    "duration": 11,
    "start_time": "2023-05-01T10:11:22.631Z"
   },
   {
    "duration": 14,
    "start_time": "2023-05-01T10:11:22.644Z"
   },
   {
    "duration": 5,
    "start_time": "2023-05-01T10:11:22.661Z"
   },
   {
    "duration": 20,
    "start_time": "2023-05-01T10:11:22.668Z"
   },
   {
    "duration": 38,
    "start_time": "2023-05-01T10:11:22.704Z"
   },
   {
    "duration": 13,
    "start_time": "2023-05-01T10:11:22.747Z"
   },
   {
    "duration": 192,
    "start_time": "2023-05-01T10:11:22.764Z"
   },
   {
    "duration": 7,
    "start_time": "2023-05-01T10:11:22.961Z"
   },
   {
    "duration": 159,
    "start_time": "2023-05-01T10:11:22.970Z"
   },
   {
    "duration": 0,
    "start_time": "2023-05-01T10:11:23.131Z"
   },
   {
    "duration": 0,
    "start_time": "2023-05-01T10:11:23.132Z"
   },
   {
    "duration": 0,
    "start_time": "2023-05-01T10:11:23.133Z"
   },
   {
    "duration": 0,
    "start_time": "2023-05-01T10:11:23.134Z"
   },
   {
    "duration": 0,
    "start_time": "2023-05-01T10:11:23.136Z"
   },
   {
    "duration": 0,
    "start_time": "2023-05-01T10:11:23.137Z"
   },
   {
    "duration": 0,
    "start_time": "2023-05-01T10:11:23.138Z"
   },
   {
    "duration": 0,
    "start_time": "2023-05-01T10:11:23.139Z"
   },
   {
    "duration": 0,
    "start_time": "2023-05-01T10:11:23.140Z"
   },
   {
    "duration": 0,
    "start_time": "2023-05-01T10:11:23.141Z"
   },
   {
    "duration": 0,
    "start_time": "2023-05-01T10:11:23.142Z"
   },
   {
    "duration": 23,
    "start_time": "2023-05-01T10:11:45.614Z"
   },
   {
    "duration": 170,
    "start_time": "2023-05-01T10:12:05.510Z"
   },
   {
    "duration": 155,
    "start_time": "2023-05-01T10:12:18.719Z"
   },
   {
    "duration": 209,
    "start_time": "2023-05-01T10:12:32.338Z"
   },
   {
    "duration": 11,
    "start_time": "2023-05-01T10:12:53.837Z"
   },
   {
    "duration": 18,
    "start_time": "2023-05-01T10:13:19.649Z"
   },
   {
    "duration": 22,
    "start_time": "2023-05-01T10:14:13.940Z"
   },
   {
    "duration": 21,
    "start_time": "2023-05-01T10:14:25.012Z"
   },
   {
    "duration": 13,
    "start_time": "2023-05-01T10:14:29.740Z"
   },
   {
    "duration": 1999,
    "start_time": "2023-05-01T10:17:27.836Z"
   },
   {
    "duration": 79,
    "start_time": "2023-05-01T10:17:29.840Z"
   },
   {
    "duration": 31,
    "start_time": "2023-05-01T10:17:29.926Z"
   },
   {
    "duration": 16,
    "start_time": "2023-05-01T10:17:29.966Z"
   },
   {
    "duration": 17,
    "start_time": "2023-05-01T10:17:29.986Z"
   },
   {
    "duration": 7,
    "start_time": "2023-05-01T10:17:30.013Z"
   },
   {
    "duration": 55,
    "start_time": "2023-05-01T10:17:30.023Z"
   },
   {
    "duration": 17,
    "start_time": "2023-05-01T10:17:30.081Z"
   },
   {
    "duration": 35,
    "start_time": "2023-05-01T10:17:30.101Z"
   },
   {
    "duration": 44,
    "start_time": "2023-05-01T10:17:30.139Z"
   },
   {
    "duration": 42,
    "start_time": "2023-05-01T10:17:30.197Z"
   },
   {
    "duration": 66,
    "start_time": "2023-05-01T10:17:30.242Z"
   },
   {
    "duration": 47,
    "start_time": "2023-05-01T10:17:30.311Z"
   },
   {
    "duration": 48,
    "start_time": "2023-05-01T10:17:30.363Z"
   },
   {
    "duration": 248,
    "start_time": "2023-05-01T10:17:30.413Z"
   },
   {
    "duration": 4,
    "start_time": "2023-05-01T10:17:30.665Z"
   },
   {
    "duration": 64,
    "start_time": "2023-05-01T10:17:30.672Z"
   },
   {
    "duration": 141,
    "start_time": "2023-05-01T10:17:30.745Z"
   },
   {
    "duration": 0,
    "start_time": "2023-05-01T10:17:30.894Z"
   },
   {
    "duration": 0,
    "start_time": "2023-05-01T10:17:30.899Z"
   },
   {
    "duration": 0,
    "start_time": "2023-05-01T10:17:30.902Z"
   },
   {
    "duration": 0,
    "start_time": "2023-05-01T10:17:30.905Z"
   },
   {
    "duration": 0,
    "start_time": "2023-05-01T10:17:30.911Z"
   },
   {
    "duration": 0,
    "start_time": "2023-05-01T10:17:30.913Z"
   },
   {
    "duration": 0,
    "start_time": "2023-05-01T10:17:30.916Z"
   },
   {
    "duration": 0,
    "start_time": "2023-05-01T10:17:30.918Z"
   },
   {
    "duration": 1,
    "start_time": "2023-05-01T10:17:30.924Z"
   },
   {
    "duration": 0,
    "start_time": "2023-05-01T10:17:30.927Z"
   },
   {
    "duration": 0,
    "start_time": "2023-05-01T10:17:30.929Z"
   },
   {
    "duration": 0,
    "start_time": "2023-05-01T10:17:30.934Z"
   },
   {
    "duration": 10,
    "start_time": "2023-05-01T10:17:52.845Z"
   },
   {
    "duration": 4,
    "start_time": "2023-05-01T10:18:05.934Z"
   },
   {
    "duration": 1601,
    "start_time": "2023-05-01T10:18:50.212Z"
   },
   {
    "duration": 44,
    "start_time": "2023-05-01T10:18:51.816Z"
   },
   {
    "duration": 14,
    "start_time": "2023-05-01T10:18:51.861Z"
   },
   {
    "duration": 35,
    "start_time": "2023-05-01T10:18:51.876Z"
   },
   {
    "duration": 13,
    "start_time": "2023-05-01T10:18:51.915Z"
   },
   {
    "duration": 5,
    "start_time": "2023-05-01T10:18:51.930Z"
   },
   {
    "duration": 22,
    "start_time": "2023-05-01T10:18:51.937Z"
   },
   {
    "duration": 4,
    "start_time": "2023-05-01T10:18:51.961Z"
   },
   {
    "duration": 3,
    "start_time": "2023-05-01T10:18:51.968Z"
   },
   {
    "duration": 4,
    "start_time": "2023-05-01T10:18:51.972Z"
   },
   {
    "duration": 39,
    "start_time": "2023-05-01T10:18:51.978Z"
   },
   {
    "duration": 12,
    "start_time": "2023-05-01T10:18:52.019Z"
   },
   {
    "duration": 10,
    "start_time": "2023-05-01T10:18:52.033Z"
   },
   {
    "duration": 15,
    "start_time": "2023-05-01T10:18:52.046Z"
   },
   {
    "duration": 179,
    "start_time": "2023-05-01T10:18:52.062Z"
   },
   {
    "duration": 4,
    "start_time": "2023-05-01T10:18:52.243Z"
   },
   {
    "duration": 14,
    "start_time": "2023-05-01T10:18:52.249Z"
   },
   {
    "duration": 23,
    "start_time": "2023-05-01T10:18:52.265Z"
   },
   {
    "duration": 83,
    "start_time": "2023-05-01T10:18:52.292Z"
   },
   {
    "duration": 0,
    "start_time": "2023-05-01T10:18:52.377Z"
   },
   {
    "duration": 0,
    "start_time": "2023-05-01T10:18:52.378Z"
   },
   {
    "duration": 0,
    "start_time": "2023-05-01T10:18:52.379Z"
   },
   {
    "duration": 1,
    "start_time": "2023-05-01T10:18:52.380Z"
   },
   {
    "duration": 0,
    "start_time": "2023-05-01T10:18:52.382Z"
   },
   {
    "duration": 0,
    "start_time": "2023-05-01T10:18:52.383Z"
   },
   {
    "duration": 0,
    "start_time": "2023-05-01T10:18:52.384Z"
   },
   {
    "duration": 0,
    "start_time": "2023-05-01T10:18:52.392Z"
   },
   {
    "duration": 0,
    "start_time": "2023-05-01T10:18:52.393Z"
   },
   {
    "duration": 0,
    "start_time": "2023-05-01T10:18:52.394Z"
   },
   {
    "duration": 5,
    "start_time": "2023-05-01T10:19:10.643Z"
   },
   {
    "duration": 136,
    "start_time": "2023-05-01T10:19:11.212Z"
   },
   {
    "duration": 163,
    "start_time": "2023-05-01T10:19:11.716Z"
   },
   {
    "duration": 138,
    "start_time": "2023-05-01T10:19:12.708Z"
   },
   {
    "duration": 142,
    "start_time": "2023-05-01T10:19:13.215Z"
   },
   {
    "duration": 241,
    "start_time": "2023-05-01T10:19:13.826Z"
   },
   {
    "duration": 156,
    "start_time": "2023-05-01T10:19:14.436Z"
   },
   {
    "duration": 8,
    "start_time": "2023-05-01T10:20:17.220Z"
   },
   {
    "duration": 135,
    "start_time": "2023-05-01T10:22:05.225Z"
   },
   {
    "duration": 22,
    "start_time": "2023-05-01T10:22:12.013Z"
   },
   {
    "duration": 24,
    "start_time": "2023-05-01T10:24:52.812Z"
   },
   {
    "duration": 8932,
    "start_time": "2023-05-01T10:27:22.819Z"
   },
   {
    "duration": 193,
    "start_time": "2023-05-01T10:27:31.752Z"
   },
   {
    "duration": 454,
    "start_time": "2023-05-01T10:34:07.226Z"
   },
   {
    "duration": 19,
    "start_time": "2023-05-01T10:36:42.920Z"
   },
   {
    "duration": 704,
    "start_time": "2023-05-01T10:37:56.235Z"
   },
   {
    "duration": 1685,
    "start_time": "2023-05-01T10:38:02.840Z"
   },
   {
    "duration": 85,
    "start_time": "2023-05-01T10:38:04.530Z"
   },
   {
    "duration": 23,
    "start_time": "2023-05-01T10:38:04.618Z"
   },
   {
    "duration": 10,
    "start_time": "2023-05-01T10:38:04.649Z"
   },
   {
    "duration": 11,
    "start_time": "2023-05-01T10:38:04.661Z"
   },
   {
    "duration": 4,
    "start_time": "2023-05-01T10:38:04.674Z"
   },
   {
    "duration": 56,
    "start_time": "2023-05-01T10:38:04.681Z"
   },
   {
    "duration": 12,
    "start_time": "2023-05-01T10:38:04.740Z"
   },
   {
    "duration": 8,
    "start_time": "2023-05-01T10:38:04.755Z"
   },
   {
    "duration": 15,
    "start_time": "2023-05-01T10:38:04.769Z"
   },
   {
    "duration": 455,
    "start_time": "2023-05-01T10:38:04.787Z"
   },
   {
    "duration": 9,
    "start_time": "2023-05-01T10:38:05.245Z"
   },
   {
    "duration": 11,
    "start_time": "2023-05-01T10:38:05.255Z"
   },
   {
    "duration": 14,
    "start_time": "2023-05-01T10:38:05.268Z"
   },
   {
    "duration": 22,
    "start_time": "2023-05-01T10:38:05.291Z"
   },
   {
    "duration": 179,
    "start_time": "2023-05-01T10:38:05.315Z"
   },
   {
    "duration": 4,
    "start_time": "2023-05-01T10:38:05.496Z"
   },
   {
    "duration": 49,
    "start_time": "2023-05-01T10:38:05.502Z"
   },
   {
    "duration": 21,
    "start_time": "2023-05-01T10:38:05.553Z"
   },
   {
    "duration": 27,
    "start_time": "2023-05-01T10:38:05.576Z"
   },
   {
    "duration": 13,
    "start_time": "2023-05-01T10:38:05.609Z"
   },
   {
    "duration": 148,
    "start_time": "2023-05-01T10:38:05.625Z"
   },
   {
    "duration": 191,
    "start_time": "2023-05-01T10:38:05.775Z"
   },
   {
    "duration": 203,
    "start_time": "2023-05-01T10:38:05.967Z"
   },
   {
    "duration": 291,
    "start_time": "2023-05-01T10:38:06.171Z"
   },
   {
    "duration": 182,
    "start_time": "2023-05-01T10:38:06.466Z"
   },
   {
    "duration": 201,
    "start_time": "2023-05-01T10:38:06.649Z"
   },
   {
    "duration": 14,
    "start_time": "2023-05-01T10:38:06.854Z"
   },
   {
    "duration": 9,
    "start_time": "2023-05-01T10:38:06.870Z"
   },
   {
    "duration": 30,
    "start_time": "2023-05-01T10:38:06.881Z"
   },
   {
    "duration": 21,
    "start_time": "2023-05-01T10:38:06.924Z"
   },
   {
    "duration": 9,
    "start_time": "2023-05-01T10:44:50.950Z"
   },
   {
    "duration": 16,
    "start_time": "2023-05-01T10:44:51.660Z"
   },
   {
    "duration": 8,
    "start_time": "2023-05-01T10:45:00.207Z"
   },
   {
    "duration": 5,
    "start_time": "2023-05-01T10:46:13.161Z"
   },
   {
    "duration": 6,
    "start_time": "2023-05-01T10:46:53.704Z"
   },
   {
    "duration": 17,
    "start_time": "2023-05-01T10:51:41.441Z"
   },
   {
    "duration": 177,
    "start_time": "2023-05-01T10:52:36.036Z"
   },
   {
    "duration": 1728,
    "start_time": "2023-05-01T10:52:44.045Z"
   },
   {
    "duration": 79,
    "start_time": "2023-05-01T10:52:45.774Z"
   },
   {
    "duration": 14,
    "start_time": "2023-05-01T10:52:45.855Z"
   },
   {
    "duration": 6,
    "start_time": "2023-05-01T10:52:45.870Z"
   },
   {
    "duration": 21,
    "start_time": "2023-05-01T10:52:45.879Z"
   },
   {
    "duration": 6,
    "start_time": "2023-05-01T10:52:45.902Z"
   },
   {
    "duration": 21,
    "start_time": "2023-05-01T10:52:45.910Z"
   },
   {
    "duration": 4,
    "start_time": "2023-05-01T10:52:45.939Z"
   },
   {
    "duration": 397,
    "start_time": "2023-05-01T10:52:45.945Z"
   },
   {
    "duration": 7,
    "start_time": "2023-05-01T10:52:46.344Z"
   },
   {
    "duration": 10,
    "start_time": "2023-05-01T10:52:46.353Z"
   },
   {
    "duration": 27,
    "start_time": "2023-05-01T10:52:46.365Z"
   },
   {
    "duration": 16,
    "start_time": "2023-05-01T10:52:46.394Z"
   },
   {
    "duration": 189,
    "start_time": "2023-05-01T10:52:46.413Z"
   },
   {
    "duration": 7,
    "start_time": "2023-05-01T10:52:46.608Z"
   },
   {
    "duration": 17,
    "start_time": "2023-05-01T10:52:46.617Z"
   },
   {
    "duration": 14,
    "start_time": "2023-05-01T10:52:46.636Z"
   },
   {
    "duration": 10,
    "start_time": "2023-05-01T10:52:46.652Z"
   },
   {
    "duration": 3,
    "start_time": "2023-05-01T10:52:46.664Z"
   },
   {
    "duration": 161,
    "start_time": "2023-05-01T10:52:46.668Z"
   },
   {
    "duration": 141,
    "start_time": "2023-05-01T10:52:46.832Z"
   },
   {
    "duration": 169,
    "start_time": "2023-05-01T10:52:46.976Z"
   },
   {
    "duration": 213,
    "start_time": "2023-05-01T10:52:47.146Z"
   },
   {
    "duration": 176,
    "start_time": "2023-05-01T10:52:47.360Z"
   },
   {
    "duration": 176,
    "start_time": "2023-05-01T10:52:47.538Z"
   },
   {
    "duration": 22,
    "start_time": "2023-05-01T10:52:47.716Z"
   },
   {
    "duration": 9,
    "start_time": "2023-05-01T10:52:47.740Z"
   },
   {
    "duration": 4,
    "start_time": "2023-05-01T10:52:47.751Z"
   },
   {
    "duration": 32,
    "start_time": "2023-05-01T10:52:47.756Z"
   },
   {
    "duration": 23,
    "start_time": "2023-05-01T10:52:47.794Z"
   },
   {
    "duration": 156,
    "start_time": "2023-05-01T10:53:54.014Z"
   },
   {
    "duration": 1466,
    "start_time": "2023-05-01T10:54:05.661Z"
   },
   {
    "duration": 40,
    "start_time": "2023-05-01T10:54:07.129Z"
   },
   {
    "duration": 13,
    "start_time": "2023-05-01T10:54:07.170Z"
   },
   {
    "duration": 9,
    "start_time": "2023-05-01T10:54:07.185Z"
   },
   {
    "duration": 14,
    "start_time": "2023-05-01T10:54:07.196Z"
   },
   {
    "duration": 5,
    "start_time": "2023-05-01T10:54:07.212Z"
   },
   {
    "duration": 19,
    "start_time": "2023-05-01T10:54:07.220Z"
   },
   {
    "duration": 4,
    "start_time": "2023-05-01T10:54:07.241Z"
   },
   {
    "duration": 425,
    "start_time": "2023-05-01T10:54:07.246Z"
   },
   {
    "duration": 24,
    "start_time": "2023-05-01T10:54:07.673Z"
   },
   {
    "duration": 13,
    "start_time": "2023-05-01T10:54:07.708Z"
   },
   {
    "duration": 10,
    "start_time": "2023-05-01T10:54:07.723Z"
   },
   {
    "duration": 12,
    "start_time": "2023-05-01T10:54:07.734Z"
   },
   {
    "duration": 155,
    "start_time": "2023-05-01T10:54:07.748Z"
   },
   {
    "duration": 5,
    "start_time": "2023-05-01T10:54:07.905Z"
   },
   {
    "duration": 20,
    "start_time": "2023-05-01T10:54:07.914Z"
   },
   {
    "duration": 7,
    "start_time": "2023-05-01T10:54:07.936Z"
   },
   {
    "duration": 6,
    "start_time": "2023-05-01T10:54:07.945Z"
   },
   {
    "duration": 2,
    "start_time": "2023-05-01T10:54:07.953Z"
   },
   {
    "duration": 280,
    "start_time": "2023-05-01T10:54:07.957Z"
   },
   {
    "duration": 0,
    "start_time": "2023-05-01T10:54:08.239Z"
   },
   {
    "duration": 0,
    "start_time": "2023-05-01T10:54:08.240Z"
   },
   {
    "duration": 0,
    "start_time": "2023-05-01T10:54:08.244Z"
   },
   {
    "duration": 0,
    "start_time": "2023-05-01T10:54:08.245Z"
   },
   {
    "duration": 0,
    "start_time": "2023-05-01T10:54:08.247Z"
   },
   {
    "duration": 0,
    "start_time": "2023-05-01T10:54:08.248Z"
   },
   {
    "duration": 0,
    "start_time": "2023-05-01T10:54:08.249Z"
   },
   {
    "duration": 0,
    "start_time": "2023-05-01T10:54:08.251Z"
   },
   {
    "duration": 0,
    "start_time": "2023-05-01T10:54:08.252Z"
   },
   {
    "duration": 0,
    "start_time": "2023-05-01T10:54:08.254Z"
   },
   {
    "duration": 1426,
    "start_time": "2023-05-01T10:54:39.351Z"
   },
   {
    "duration": 78,
    "start_time": "2023-05-01T10:54:40.778Z"
   },
   {
    "duration": 17,
    "start_time": "2023-05-01T10:54:40.858Z"
   },
   {
    "duration": 6,
    "start_time": "2023-05-01T10:54:40.877Z"
   },
   {
    "duration": 22,
    "start_time": "2023-05-01T10:54:40.885Z"
   },
   {
    "duration": 18,
    "start_time": "2023-05-01T10:54:40.908Z"
   },
   {
    "duration": 16,
    "start_time": "2023-05-01T10:54:40.928Z"
   },
   {
    "duration": 4,
    "start_time": "2023-05-01T10:54:40.945Z"
   },
   {
    "duration": 393,
    "start_time": "2023-05-01T10:54:40.950Z"
   },
   {
    "duration": 9,
    "start_time": "2023-05-01T10:54:41.344Z"
   },
   {
    "duration": 8,
    "start_time": "2023-05-01T10:54:41.355Z"
   },
   {
    "duration": 40,
    "start_time": "2023-05-01T10:54:41.365Z"
   },
   {
    "duration": 19,
    "start_time": "2023-05-01T10:54:41.415Z"
   },
   {
    "duration": 145,
    "start_time": "2023-05-01T10:54:41.437Z"
   },
   {
    "duration": 6,
    "start_time": "2023-05-01T10:54:41.584Z"
   },
   {
    "duration": 32,
    "start_time": "2023-05-01T10:54:41.591Z"
   },
   {
    "duration": 10,
    "start_time": "2023-05-01T10:54:41.625Z"
   },
   {
    "duration": 7,
    "start_time": "2023-05-01T10:54:41.637Z"
   },
   {
    "duration": 4,
    "start_time": "2023-05-01T10:54:41.646Z"
   },
   {
    "duration": 175,
    "start_time": "2023-05-01T10:54:41.651Z"
   },
   {
    "duration": 131,
    "start_time": "2023-05-01T10:54:41.828Z"
   },
   {
    "duration": 160,
    "start_time": "2023-05-01T10:54:41.961Z"
   },
   {
    "duration": 219,
    "start_time": "2023-05-01T10:54:42.126Z"
   },
   {
    "duration": 180,
    "start_time": "2023-05-01T10:54:42.347Z"
   },
   {
    "duration": 17,
    "start_time": "2023-05-01T10:54:42.529Z"
   },
   {
    "duration": 7,
    "start_time": "2023-05-01T10:54:42.548Z"
   },
   {
    "duration": 15,
    "start_time": "2023-05-01T10:54:42.556Z"
   },
   {
    "duration": 40,
    "start_time": "2023-05-01T10:54:42.572Z"
   },
   {
    "duration": 15,
    "start_time": "2023-05-01T10:54:42.613Z"
   },
   {
    "duration": 7,
    "start_time": "2023-05-01T16:08:58.484Z"
   },
   {
    "duration": 15,
    "start_time": "2023-05-01T16:08:59.239Z"
   },
   {
    "duration": 9,
    "start_time": "2023-05-01T16:09:00.107Z"
   },
   {
    "duration": 3,
    "start_time": "2023-05-01T16:09:59.124Z"
   },
   {
    "duration": 539,
    "start_time": "2023-05-01T16:19:35.834Z"
   },
   {
    "duration": 406,
    "start_time": "2023-05-01T16:19:41.309Z"
   },
   {
    "duration": 493,
    "start_time": "2023-05-01T16:20:27.254Z"
   },
   {
    "duration": 1525,
    "start_time": "2023-05-01T16:32:52.215Z"
   },
   {
    "duration": 57,
    "start_time": "2023-05-01T16:32:53.742Z"
   },
   {
    "duration": 16,
    "start_time": "2023-05-01T16:32:53.805Z"
   },
   {
    "duration": 7,
    "start_time": "2023-05-01T16:32:53.823Z"
   },
   {
    "duration": 8,
    "start_time": "2023-05-01T16:32:53.832Z"
   },
   {
    "duration": 3,
    "start_time": "2023-05-01T16:32:53.842Z"
   },
   {
    "duration": 16,
    "start_time": "2023-05-01T16:32:53.847Z"
   },
   {
    "duration": 4,
    "start_time": "2023-05-01T16:32:53.864Z"
   },
   {
    "duration": 106,
    "start_time": "2023-05-01T16:32:53.870Z"
   },
   {
    "duration": 0,
    "start_time": "2023-05-01T16:32:53.979Z"
   },
   {
    "duration": 0,
    "start_time": "2023-05-01T16:32:53.980Z"
   },
   {
    "duration": 0,
    "start_time": "2023-05-01T16:32:53.982Z"
   },
   {
    "duration": 0,
    "start_time": "2023-05-01T16:32:53.983Z"
   },
   {
    "duration": 0,
    "start_time": "2023-05-01T16:32:53.985Z"
   },
   {
    "duration": 0,
    "start_time": "2023-05-01T16:32:53.986Z"
   },
   {
    "duration": 0,
    "start_time": "2023-05-01T16:32:53.987Z"
   },
   {
    "duration": 0,
    "start_time": "2023-05-01T16:32:53.995Z"
   },
   {
    "duration": 0,
    "start_time": "2023-05-01T16:32:53.996Z"
   },
   {
    "duration": 0,
    "start_time": "2023-05-01T16:32:53.997Z"
   },
   {
    "duration": 0,
    "start_time": "2023-05-01T16:32:53.999Z"
   },
   {
    "duration": 0,
    "start_time": "2023-05-01T16:32:53.999Z"
   },
   {
    "duration": 0,
    "start_time": "2023-05-01T16:32:54.000Z"
   },
   {
    "duration": 0,
    "start_time": "2023-05-01T16:32:54.001Z"
   },
   {
    "duration": 0,
    "start_time": "2023-05-01T16:32:54.002Z"
   },
   {
    "duration": 344,
    "start_time": "2023-05-01T16:33:08.715Z"
   },
   {
    "duration": 9,
    "start_time": "2023-05-01T16:33:10.733Z"
   },
   {
    "duration": 8,
    "start_time": "2023-05-01T16:33:13.653Z"
   },
   {
    "duration": 9,
    "start_time": "2023-05-01T16:33:15.112Z"
   },
   {
    "duration": 14,
    "start_time": "2023-05-01T16:33:16.516Z"
   },
   {
    "duration": 160,
    "start_time": "2023-05-01T16:33:18.502Z"
   },
   {
    "duration": 10,
    "start_time": "2023-05-01T16:33:20.587Z"
   },
   {
    "duration": 15,
    "start_time": "2023-05-01T16:33:21.305Z"
   },
   {
    "duration": 13,
    "start_time": "2023-05-01T16:33:29.404Z"
   },
   {
    "duration": 8,
    "start_time": "2023-05-01T16:33:33.353Z"
   },
   {
    "duration": 18,
    "start_time": "2023-05-01T16:33:42.320Z"
   },
   {
    "duration": 93,
    "start_time": "2023-05-01T16:35:12.932Z"
   },
   {
    "duration": 9,
    "start_time": "2023-05-01T16:40:20.318Z"
   },
   {
    "duration": 112,
    "start_time": "2023-05-01T16:40:21.511Z"
   },
   {
    "duration": 50,
    "start_time": "2023-05-01T16:40:54.719Z"
   },
   {
    "duration": 1555,
    "start_time": "2023-05-01T16:40:59.710Z"
   },
   {
    "duration": 65,
    "start_time": "2023-05-01T16:41:01.267Z"
   },
   {
    "duration": 30,
    "start_time": "2023-05-01T16:41:01.334Z"
   },
   {
    "duration": 27,
    "start_time": "2023-05-01T16:41:01.367Z"
   },
   {
    "duration": 46,
    "start_time": "2023-05-01T16:41:01.397Z"
   },
   {
    "duration": 35,
    "start_time": "2023-05-01T16:41:01.445Z"
   },
   {
    "duration": 44,
    "start_time": "2023-05-01T16:41:01.483Z"
   },
   {
    "duration": 71,
    "start_time": "2023-05-01T16:41:01.528Z"
   },
   {
    "duration": 462,
    "start_time": "2023-05-01T16:41:01.601Z"
   },
   {
    "duration": 9,
    "start_time": "2023-05-01T16:41:02.065Z"
   },
   {
    "duration": 31,
    "start_time": "2023-05-01T16:41:02.089Z"
   },
   {
    "duration": 29,
    "start_time": "2023-05-01T16:41:02.122Z"
   },
   {
    "duration": 28,
    "start_time": "2023-05-01T16:41:02.153Z"
   },
   {
    "duration": 176,
    "start_time": "2023-05-01T16:41:02.186Z"
   },
   {
    "duration": 4,
    "start_time": "2023-05-01T16:41:02.364Z"
   },
   {
    "duration": 63,
    "start_time": "2023-05-01T16:41:02.370Z"
   },
   {
    "duration": 11,
    "start_time": "2023-05-01T16:41:02.435Z"
   },
   {
    "duration": 11,
    "start_time": "2023-05-01T16:41:02.447Z"
   },
   {
    "duration": 36,
    "start_time": "2023-05-01T16:41:02.460Z"
   },
   {
    "duration": 14,
    "start_time": "2023-05-01T16:41:02.502Z"
   },
   {
    "duration": 45,
    "start_time": "2023-05-01T16:41:02.519Z"
   },
   {
    "duration": 8,
    "start_time": "2023-05-01T16:41:02.566Z"
   },
   {
    "duration": 10,
    "start_time": "2023-05-01T16:41:02.576Z"
   },
   {
    "duration": 33,
    "start_time": "2023-05-01T16:41:02.590Z"
   },
   {
    "duration": 6,
    "start_time": "2023-05-01T16:41:02.625Z"
   },
   {
    "duration": 140,
    "start_time": "2023-05-01T16:44:33.399Z"
   },
   {
    "duration": 162,
    "start_time": "2023-05-01T16:48:34.417Z"
   },
   {
    "duration": 21,
    "start_time": "2023-05-01T16:49:09.033Z"
   },
   {
    "duration": 9,
    "start_time": "2023-05-01T16:51:07.560Z"
   },
   {
    "duration": 4,
    "start_time": "2023-05-01T16:51:31.546Z"
   },
   {
    "duration": 10,
    "start_time": "2023-05-01T16:51:40.109Z"
   },
   {
    "duration": 47,
    "start_time": "2023-05-01T16:58:11.005Z"
   },
   {
    "duration": 1628,
    "start_time": "2023-05-01T16:58:19.246Z"
   },
   {
    "duration": 59,
    "start_time": "2023-05-01T16:58:20.876Z"
   },
   {
    "duration": 14,
    "start_time": "2023-05-01T16:58:20.937Z"
   },
   {
    "duration": 6,
    "start_time": "2023-05-01T16:58:20.953Z"
   },
   {
    "duration": 8,
    "start_time": "2023-05-01T16:58:20.963Z"
   },
   {
    "duration": 3,
    "start_time": "2023-05-01T16:58:20.974Z"
   },
   {
    "duration": 40,
    "start_time": "2023-05-01T16:58:20.981Z"
   },
   {
    "duration": 5,
    "start_time": "2023-05-01T16:58:21.027Z"
   },
   {
    "duration": 423,
    "start_time": "2023-05-01T16:58:21.033Z"
   },
   {
    "duration": 9,
    "start_time": "2023-05-01T16:58:21.458Z"
   },
   {
    "duration": 43,
    "start_time": "2023-05-01T16:58:21.469Z"
   },
   {
    "duration": 11,
    "start_time": "2023-05-01T16:58:21.520Z"
   },
   {
    "duration": 18,
    "start_time": "2023-05-01T16:58:21.533Z"
   },
   {
    "duration": 154,
    "start_time": "2023-05-01T16:58:21.555Z"
   },
   {
    "duration": 7,
    "start_time": "2023-05-01T16:58:21.711Z"
   },
   {
    "duration": 15,
    "start_time": "2023-05-01T16:58:21.720Z"
   },
   {
    "duration": 8,
    "start_time": "2023-05-01T16:58:21.737Z"
   },
   {
    "duration": 10,
    "start_time": "2023-05-01T16:58:21.748Z"
   },
   {
    "duration": 67,
    "start_time": "2023-05-01T16:58:21.760Z"
   },
   {
    "duration": 10,
    "start_time": "2023-05-01T16:58:21.830Z"
   },
   {
    "duration": 173,
    "start_time": "2023-05-01T16:58:21.843Z"
   },
   {
    "duration": 0,
    "start_time": "2023-05-01T16:58:22.017Z"
   },
   {
    "duration": 0,
    "start_time": "2023-05-01T16:58:22.018Z"
   },
   {
    "duration": 0,
    "start_time": "2023-05-01T16:58:22.019Z"
   },
   {
    "duration": 0,
    "start_time": "2023-05-01T16:58:22.020Z"
   },
   {
    "duration": 0,
    "start_time": "2023-05-01T16:58:22.021Z"
   },
   {
    "duration": 0,
    "start_time": "2023-05-01T16:58:22.021Z"
   },
   {
    "duration": 0,
    "start_time": "2023-05-01T16:58:22.022Z"
   },
   {
    "duration": 48,
    "start_time": "2023-05-01T16:58:41.921Z"
   },
   {
    "duration": 150,
    "start_time": "2023-05-01T16:58:47.477Z"
   },
   {
    "duration": 95,
    "start_time": "2023-05-01T17:00:53.656Z"
   },
   {
    "duration": 9,
    "start_time": "2023-05-01T17:01:06.343Z"
   },
   {
    "duration": 12,
    "start_time": "2023-05-01T17:01:46.206Z"
   },
   {
    "duration": 3,
    "start_time": "2023-05-01T17:02:45.027Z"
   },
   {
    "duration": 9,
    "start_time": "2023-05-01T17:03:10.454Z"
   },
   {
    "duration": 3,
    "start_time": "2023-05-01T17:09:47.430Z"
   },
   {
    "duration": 12,
    "start_time": "2023-05-01T17:10:55.120Z"
   },
   {
    "duration": 12,
    "start_time": "2023-05-01T17:12:35.621Z"
   },
   {
    "duration": 84,
    "start_time": "2023-05-01T17:14:54.993Z"
   },
   {
    "duration": 11,
    "start_time": "2023-05-01T17:16:11.318Z"
   },
   {
    "duration": 102,
    "start_time": "2023-05-01T17:17:36.521Z"
   },
   {
    "duration": 14,
    "start_time": "2023-05-01T17:18:04.264Z"
   },
   {
    "duration": 91,
    "start_time": "2023-05-01T17:34:05.910Z"
   },
   {
    "duration": 201,
    "start_time": "2023-05-01T17:34:26.853Z"
   },
   {
    "duration": 93,
    "start_time": "2023-05-01T17:37:19.226Z"
   },
   {
    "duration": 89,
    "start_time": "2023-05-01T17:39:30.310Z"
   },
   {
    "duration": 68,
    "start_time": "2023-05-01T17:39:44.415Z"
   },
   {
    "duration": 1479,
    "start_time": "2023-05-02T01:39:01.495Z"
   },
   {
    "duration": 172,
    "start_time": "2023-05-02T01:39:02.976Z"
   },
   {
    "duration": 12,
    "start_time": "2023-05-02T01:39:03.150Z"
   },
   {
    "duration": 5,
    "start_time": "2023-05-02T01:39:03.164Z"
   },
   {
    "duration": 15,
    "start_time": "2023-05-02T01:39:03.171Z"
   },
   {
    "duration": 18,
    "start_time": "2023-05-02T01:39:03.188Z"
   },
   {
    "duration": 28,
    "start_time": "2023-05-02T01:39:03.208Z"
   },
   {
    "duration": 6,
    "start_time": "2023-05-02T01:39:03.238Z"
   },
   {
    "duration": 391,
    "start_time": "2023-05-02T01:39:03.245Z"
   },
   {
    "duration": 7,
    "start_time": "2023-05-02T01:39:03.639Z"
   },
   {
    "duration": 15,
    "start_time": "2023-05-02T01:39:03.647Z"
   },
   {
    "duration": 7,
    "start_time": "2023-05-02T01:39:03.663Z"
   },
   {
    "duration": 11,
    "start_time": "2023-05-02T01:39:03.671Z"
   },
   {
    "duration": 140,
    "start_time": "2023-05-02T01:39:03.684Z"
   },
   {
    "duration": 9,
    "start_time": "2023-05-02T01:39:03.826Z"
   },
   {
    "duration": 17,
    "start_time": "2023-05-02T01:39:03.836Z"
   },
   {
    "duration": 7,
    "start_time": "2023-05-02T01:39:03.854Z"
   },
   {
    "duration": 6,
    "start_time": "2023-05-02T01:39:03.863Z"
   },
   {
    "duration": 66,
    "start_time": "2023-05-02T01:39:03.871Z"
   },
   {
    "duration": 21,
    "start_time": "2023-05-02T01:39:03.939Z"
   },
   {
    "duration": 169,
    "start_time": "2023-05-02T01:39:03.962Z"
   },
   {
    "duration": 0,
    "start_time": "2023-05-02T01:39:04.134Z"
   },
   {
    "duration": 0,
    "start_time": "2023-05-02T01:39:04.136Z"
   },
   {
    "duration": 0,
    "start_time": "2023-05-02T01:39:04.137Z"
   },
   {
    "duration": 0,
    "start_time": "2023-05-02T01:39:04.138Z"
   },
   {
    "duration": 0,
    "start_time": "2023-05-02T01:39:04.140Z"
   },
   {
    "duration": 0,
    "start_time": "2023-05-02T01:39:04.142Z"
   },
   {
    "duration": 0,
    "start_time": "2023-05-02T01:39:04.143Z"
   },
   {
    "duration": 0,
    "start_time": "2023-05-02T01:39:04.144Z"
   },
   {
    "duration": 5876,
    "start_time": "2023-05-02T01:39:32.520Z"
   },
   {
    "duration": 10,
    "start_time": "2023-05-02T01:39:52.904Z"
   },
   {
    "duration": 99,
    "start_time": "2023-05-02T01:40:04.336Z"
   },
   {
    "duration": 51,
    "start_time": "2023-05-02T01:41:20.064Z"
   },
   {
    "duration": 10,
    "start_time": "2023-05-02T01:41:25.885Z"
   },
   {
    "duration": 14,
    "start_time": "2023-05-02T01:43:18.511Z"
   },
   {
    "duration": 10,
    "start_time": "2023-05-02T01:53:28.090Z"
   },
   {
    "duration": 5,
    "start_time": "2023-05-02T01:53:32.754Z"
   },
   {
    "duration": 7,
    "start_time": "2023-05-02T01:55:49.732Z"
   },
   {
    "duration": 20,
    "start_time": "2023-05-02T02:07:38.466Z"
   },
   {
    "duration": 5,
    "start_time": "2023-05-02T02:08:17.675Z"
   },
   {
    "duration": 10,
    "start_time": "2023-05-02T02:08:25.054Z"
   },
   {
    "duration": 17,
    "start_time": "2023-05-02T02:10:19.113Z"
   },
   {
    "duration": 8,
    "start_time": "2023-05-02T02:11:10.227Z"
   },
   {
    "duration": 104,
    "start_time": "2023-05-02T02:12:18.545Z"
   },
   {
    "duration": 6,
    "start_time": "2023-05-02T02:13:39.053Z"
   },
   {
    "duration": 1382,
    "start_time": "2023-05-02T02:13:45.530Z"
   },
   {
    "duration": 42,
    "start_time": "2023-05-02T02:13:46.914Z"
   },
   {
    "duration": 13,
    "start_time": "2023-05-02T02:13:46.958Z"
   },
   {
    "duration": 6,
    "start_time": "2023-05-02T02:13:46.973Z"
   },
   {
    "duration": 9,
    "start_time": "2023-05-02T02:13:46.980Z"
   },
   {
    "duration": 3,
    "start_time": "2023-05-02T02:13:46.991Z"
   },
   {
    "duration": 23,
    "start_time": "2023-05-02T02:13:46.995Z"
   },
   {
    "duration": 4,
    "start_time": "2023-05-02T02:13:47.035Z"
   },
   {
    "duration": 396,
    "start_time": "2023-05-02T02:13:47.041Z"
   },
   {
    "duration": 8,
    "start_time": "2023-05-02T02:13:47.440Z"
   },
   {
    "duration": 9,
    "start_time": "2023-05-02T02:13:47.450Z"
   },
   {
    "duration": 8,
    "start_time": "2023-05-02T02:13:47.460Z"
   },
   {
    "duration": 12,
    "start_time": "2023-05-02T02:13:47.469Z"
   },
   {
    "duration": 176,
    "start_time": "2023-05-02T02:13:47.483Z"
   },
   {
    "duration": 4,
    "start_time": "2023-05-02T02:13:47.661Z"
   },
   {
    "duration": 15,
    "start_time": "2023-05-02T02:13:47.666Z"
   },
   {
    "duration": 7,
    "start_time": "2023-05-02T02:13:47.683Z"
   },
   {
    "duration": 7,
    "start_time": "2023-05-02T02:13:47.691Z"
   },
   {
    "duration": 49,
    "start_time": "2023-05-02T02:13:47.700Z"
   },
   {
    "duration": 7,
    "start_time": "2023-05-02T02:13:47.751Z"
   },
   {
    "duration": 6261,
    "start_time": "2023-05-02T02:13:47.760Z"
   },
   {
    "duration": 97,
    "start_time": "2023-05-02T02:13:54.022Z"
   },
   {
    "duration": 21,
    "start_time": "2023-05-02T02:13:54.121Z"
   },
   {
    "duration": 14,
    "start_time": "2023-05-02T02:13:54.144Z"
   },
   {
    "duration": 59,
    "start_time": "2023-05-02T02:13:54.160Z"
   },
   {
    "duration": 530,
    "start_time": "2023-05-02T02:13:54.220Z"
   },
   {
    "duration": 7,
    "start_time": "2023-05-02T02:13:54.751Z"
   },
   {
    "duration": 6,
    "start_time": "2023-05-02T02:13:54.761Z"
   },
   {
    "duration": 17,
    "start_time": "2023-05-02T02:13:54.768Z"
   },
   {
    "duration": 4,
    "start_time": "2023-05-02T02:13:54.786Z"
   },
   {
    "duration": 56,
    "start_time": "2023-05-02T02:16:14.804Z"
   },
   {
    "duration": 72,
    "start_time": "2023-05-02T02:16:34.221Z"
   },
   {
    "duration": 8,
    "start_time": "2023-05-02T02:21:28.374Z"
   },
   {
    "duration": 1302,
    "start_time": "2023-05-02T02:21:36.565Z"
   },
   {
    "duration": 41,
    "start_time": "2023-05-02T02:21:37.869Z"
   },
   {
    "duration": 13,
    "start_time": "2023-05-02T02:21:37.912Z"
   },
   {
    "duration": 7,
    "start_time": "2023-05-02T02:21:37.927Z"
   },
   {
    "duration": 9,
    "start_time": "2023-05-02T02:21:37.935Z"
   },
   {
    "duration": 7,
    "start_time": "2023-05-02T02:21:37.945Z"
   },
   {
    "duration": 22,
    "start_time": "2023-05-02T02:21:37.954Z"
   },
   {
    "duration": 4,
    "start_time": "2023-05-02T02:21:37.978Z"
   },
   {
    "duration": 394,
    "start_time": "2023-05-02T02:21:37.984Z"
   },
   {
    "duration": 7,
    "start_time": "2023-05-02T02:21:38.381Z"
   },
   {
    "duration": 12,
    "start_time": "2023-05-02T02:21:38.390Z"
   },
   {
    "duration": 31,
    "start_time": "2023-05-02T02:21:38.404Z"
   },
   {
    "duration": 12,
    "start_time": "2023-05-02T02:21:38.437Z"
   },
   {
    "duration": 133,
    "start_time": "2023-05-02T02:21:38.451Z"
   },
   {
    "duration": 3,
    "start_time": "2023-05-02T02:21:38.586Z"
   },
   {
    "duration": 12,
    "start_time": "2023-05-02T02:21:38.591Z"
   },
   {
    "duration": 8,
    "start_time": "2023-05-02T02:21:38.605Z"
   },
   {
    "duration": 26,
    "start_time": "2023-05-02T02:21:38.614Z"
   },
   {
    "duration": 15,
    "start_time": "2023-05-02T02:21:38.642Z"
   },
   {
    "duration": 8,
    "start_time": "2023-05-02T02:21:38.659Z"
   },
   {
    "duration": 6135,
    "start_time": "2023-05-02T02:21:38.669Z"
   },
   {
    "duration": 122,
    "start_time": "2023-05-02T02:21:44.806Z"
   },
   {
    "duration": 10,
    "start_time": "2023-05-02T02:21:44.934Z"
   },
   {
    "duration": 11,
    "start_time": "2023-05-02T02:21:44.946Z"
   },
   {
    "duration": 107,
    "start_time": "2023-05-02T02:21:44.959Z"
   },
   {
    "duration": 601,
    "start_time": "2023-05-02T02:21:45.068Z"
   },
   {
    "duration": 9,
    "start_time": "2023-05-02T02:21:45.671Z"
   },
   {
    "duration": 27,
    "start_time": "2023-05-02T02:21:45.684Z"
   },
   {
    "duration": 37,
    "start_time": "2023-05-02T02:21:45.713Z"
   },
   {
    "duration": 3,
    "start_time": "2023-05-02T02:21:45.753Z"
   },
   {
    "duration": 3,
    "start_time": "2023-05-02T02:31:00.206Z"
   },
   {
    "duration": 3,
    "start_time": "2023-05-02T02:31:00.645Z"
   },
   {
    "duration": 441,
    "start_time": "2023-05-02T02:34:20.088Z"
   },
   {
    "duration": 437,
    "start_time": "2023-05-02T02:34:59.930Z"
   },
   {
    "duration": 93,
    "start_time": "2023-05-02T02:35:40.197Z"
   },
   {
    "duration": 1416,
    "start_time": "2023-05-02T02:37:59.009Z"
   },
   {
    "duration": 41,
    "start_time": "2023-05-02T02:38:00.427Z"
   },
   {
    "duration": 16,
    "start_time": "2023-05-02T02:38:00.469Z"
   },
   {
    "duration": 18,
    "start_time": "2023-05-02T02:38:00.486Z"
   },
   {
    "duration": 32,
    "start_time": "2023-05-02T02:38:00.506Z"
   },
   {
    "duration": 8,
    "start_time": "2023-05-02T02:38:00.540Z"
   },
   {
    "duration": 25,
    "start_time": "2023-05-02T02:38:00.550Z"
   },
   {
    "duration": 21,
    "start_time": "2023-05-02T02:38:00.577Z"
   },
   {
    "duration": 397,
    "start_time": "2023-05-02T02:38:00.600Z"
   },
   {
    "duration": 9,
    "start_time": "2023-05-02T02:38:00.999Z"
   },
   {
    "duration": 27,
    "start_time": "2023-05-02T02:38:01.009Z"
   },
   {
    "duration": 37,
    "start_time": "2023-05-02T02:38:01.038Z"
   },
   {
    "duration": 41,
    "start_time": "2023-05-02T02:38:01.076Z"
   },
   {
    "duration": 153,
    "start_time": "2023-05-02T02:38:01.120Z"
   },
   {
    "duration": 3,
    "start_time": "2023-05-02T02:38:01.274Z"
   },
   {
    "duration": 40,
    "start_time": "2023-05-02T02:38:01.280Z"
   },
   {
    "duration": 21,
    "start_time": "2023-05-02T02:38:01.322Z"
   },
   {
    "duration": 19,
    "start_time": "2023-05-02T02:38:01.345Z"
   },
   {
    "duration": 65,
    "start_time": "2023-05-02T02:38:01.366Z"
   },
   {
    "duration": 13,
    "start_time": "2023-05-02T02:38:01.433Z"
   },
   {
    "duration": 5998,
    "start_time": "2023-05-02T02:38:01.448Z"
   },
   {
    "duration": 114,
    "start_time": "2023-05-02T02:38:07.448Z"
   },
   {
    "duration": 10,
    "start_time": "2023-05-02T02:38:07.564Z"
   },
   {
    "duration": 16,
    "start_time": "2023-05-02T02:38:07.575Z"
   },
   {
    "duration": 12,
    "start_time": "2023-05-02T02:38:07.593Z"
   },
   {
    "duration": 493,
    "start_time": "2023-05-02T02:38:07.607Z"
   },
   {
    "duration": 99,
    "start_time": "2023-05-02T02:38:08.101Z"
   },
   {
    "duration": 9,
    "start_time": "2023-05-02T02:38:08.202Z"
   },
   {
    "duration": 28,
    "start_time": "2023-05-02T02:38:08.212Z"
   },
   {
    "duration": 31,
    "start_time": "2023-05-02T02:38:08.242Z"
   },
   {
    "duration": 14,
    "start_time": "2023-05-02T02:38:08.274Z"
   },
   {
    "duration": 7,
    "start_time": "2023-05-02T02:38:08.289Z"
   },
   {
    "duration": 1169,
    "start_time": "2023-05-02T02:43:13.415Z"
   },
   {
    "duration": 8,
    "start_time": "2023-05-02T02:43:27.852Z"
   },
   {
    "duration": 4,
    "start_time": "2023-05-02T02:43:28.918Z"
   },
   {
    "duration": 12,
    "start_time": "2023-05-02T02:43:33.635Z"
   },
   {
    "duration": 6,
    "start_time": "2023-05-02T02:43:34.693Z"
   },
   {
    "duration": 124,
    "start_time": "2023-05-02T02:51:13.504Z"
   },
   {
    "duration": 4,
    "start_time": "2023-05-02T02:51:15.601Z"
   },
   {
    "duration": 12,
    "start_time": "2023-05-02T02:51:16.275Z"
   },
   {
    "duration": 12,
    "start_time": "2023-05-02T02:51:27.949Z"
   },
   {
    "duration": 11,
    "start_time": "2023-05-02T02:51:33.007Z"
   },
   {
    "duration": 1305,
    "start_time": "2023-05-02T02:51:52.242Z"
   },
   {
    "duration": 42,
    "start_time": "2023-05-02T02:51:53.548Z"
   },
   {
    "duration": 13,
    "start_time": "2023-05-02T02:51:53.592Z"
   },
   {
    "duration": 10,
    "start_time": "2023-05-02T02:51:53.607Z"
   },
   {
    "duration": 10,
    "start_time": "2023-05-02T02:51:53.619Z"
   },
   {
    "duration": 12,
    "start_time": "2023-05-02T02:51:53.631Z"
   },
   {
    "duration": 23,
    "start_time": "2023-05-02T02:51:53.645Z"
   },
   {
    "duration": 5,
    "start_time": "2023-05-02T02:51:53.669Z"
   },
   {
    "duration": 330,
    "start_time": "2023-05-02T02:51:53.676Z"
   },
   {
    "duration": 9,
    "start_time": "2023-05-02T02:51:54.007Z"
   },
   {
    "duration": 22,
    "start_time": "2023-05-02T02:51:54.018Z"
   },
   {
    "duration": 8,
    "start_time": "2023-05-02T02:51:54.041Z"
   },
   {
    "duration": 11,
    "start_time": "2023-05-02T02:51:54.051Z"
   },
   {
    "duration": 144,
    "start_time": "2023-05-02T02:51:54.065Z"
   },
   {
    "duration": 3,
    "start_time": "2023-05-02T02:51:54.211Z"
   },
   {
    "duration": 20,
    "start_time": "2023-05-02T02:51:54.215Z"
   },
   {
    "duration": 8,
    "start_time": "2023-05-02T02:51:54.236Z"
   },
   {
    "duration": 7,
    "start_time": "2023-05-02T02:51:54.245Z"
   },
   {
    "duration": 16,
    "start_time": "2023-05-02T02:51:54.253Z"
   },
   {
    "duration": 6,
    "start_time": "2023-05-02T02:51:54.270Z"
   },
   {
    "duration": 5955,
    "start_time": "2023-05-02T02:51:54.278Z"
   },
   {
    "duration": 109,
    "start_time": "2023-05-02T02:52:00.234Z"
   },
   {
    "duration": 10,
    "start_time": "2023-05-02T02:52:00.344Z"
   },
   {
    "duration": 26,
    "start_time": "2023-05-02T02:52:00.355Z"
   },
   {
    "duration": 19,
    "start_time": "2023-05-02T02:52:00.383Z"
   },
   {
    "duration": 564,
    "start_time": "2023-05-02T02:52:00.404Z"
   },
   {
    "duration": 111,
    "start_time": "2023-05-02T02:52:00.970Z"
   },
   {
    "duration": 9,
    "start_time": "2023-05-02T02:52:01.083Z"
   },
   {
    "duration": 56,
    "start_time": "2023-05-02T02:52:01.093Z"
   },
   {
    "duration": 43,
    "start_time": "2023-05-02T02:52:01.151Z"
   },
   {
    "duration": 39,
    "start_time": "2023-05-02T02:52:01.196Z"
   },
   {
    "duration": 44,
    "start_time": "2023-05-02T02:52:01.237Z"
   },
   {
    "duration": 25,
    "start_time": "2023-05-02T02:52:01.282Z"
   },
   {
    "duration": 27,
    "start_time": "2023-05-02T02:52:01.309Z"
   },
   {
    "duration": 16,
    "start_time": "2023-05-02T02:53:00.018Z"
   },
   {
    "duration": 129,
    "start_time": "2023-05-02T02:54:18.146Z"
   },
   {
    "duration": 11,
    "start_time": "2023-05-02T02:54:33.826Z"
   },
   {
    "duration": 11,
    "start_time": "2023-05-02T02:55:11.083Z"
   },
   {
    "duration": 5,
    "start_time": "2023-05-02T02:55:32.202Z"
   },
   {
    "duration": 14,
    "start_time": "2023-05-02T02:56:48.221Z"
   },
   {
    "duration": 10,
    "start_time": "2023-05-02T02:57:09.371Z"
   },
   {
    "duration": 32,
    "start_time": "2023-05-02T03:02:48.481Z"
   },
   {
    "duration": 11,
    "start_time": "2023-05-02T03:02:49.524Z"
   },
   {
    "duration": 16,
    "start_time": "2023-05-02T03:03:36.455Z"
   },
   {
    "duration": 10,
    "start_time": "2023-05-02T03:03:45.149Z"
   },
   {
    "duration": 23,
    "start_time": "2023-05-02T03:06:12.128Z"
   },
   {
    "duration": 9,
    "start_time": "2023-05-02T03:06:13.352Z"
   },
   {
    "duration": 14,
    "start_time": "2023-05-02T03:06:31.068Z"
   },
   {
    "duration": 10,
    "start_time": "2023-05-02T03:06:31.757Z"
   },
   {
    "duration": 416,
    "start_time": "2023-05-02T03:09:37.467Z"
   },
   {
    "duration": 472,
    "start_time": "2023-05-02T03:09:48.255Z"
   },
   {
    "duration": 1363,
    "start_time": "2023-05-02T03:09:55.814Z"
   },
   {
    "duration": 8540,
    "start_time": "2023-05-02T03:10:03.979Z"
   },
   {
    "duration": 12494,
    "start_time": "2023-05-02T03:11:55.066Z"
   },
   {
    "duration": 17747,
    "start_time": "2023-05-02T03:12:16.283Z"
   },
   {
    "duration": 35796,
    "start_time": "2023-05-02T03:12:41.030Z"
   },
   {
    "duration": 1359,
    "start_time": "2023-05-02T05:38:26.913Z"
   },
   {
    "duration": 42,
    "start_time": "2023-05-02T05:38:28.274Z"
   },
   {
    "duration": 14,
    "start_time": "2023-05-02T05:38:28.317Z"
   },
   {
    "duration": 11,
    "start_time": "2023-05-02T05:38:28.333Z"
   },
   {
    "duration": 13,
    "start_time": "2023-05-02T05:38:28.345Z"
   },
   {
    "duration": 4,
    "start_time": "2023-05-02T05:38:28.360Z"
   },
   {
    "duration": 17,
    "start_time": "2023-05-02T05:38:28.366Z"
   },
   {
    "duration": 3,
    "start_time": "2023-05-02T05:38:28.385Z"
   },
   {
    "duration": 385,
    "start_time": "2023-05-02T05:38:28.390Z"
   },
   {
    "duration": 7,
    "start_time": "2023-05-02T05:38:28.778Z"
   },
   {
    "duration": 12,
    "start_time": "2023-05-02T05:38:28.787Z"
   },
   {
    "duration": 7,
    "start_time": "2023-05-02T05:38:28.800Z"
   },
   {
    "duration": 29,
    "start_time": "2023-05-02T05:38:28.809Z"
   },
   {
    "duration": 135,
    "start_time": "2023-05-02T05:38:28.839Z"
   },
   {
    "duration": 3,
    "start_time": "2023-05-02T05:38:28.975Z"
   },
   {
    "duration": 12,
    "start_time": "2023-05-02T05:38:28.980Z"
   },
   {
    "duration": 7,
    "start_time": "2023-05-02T05:38:28.993Z"
   },
   {
    "duration": 34,
    "start_time": "2023-05-02T05:38:29.001Z"
   },
   {
    "duration": 15,
    "start_time": "2023-05-02T05:38:29.037Z"
   },
   {
    "duration": 7,
    "start_time": "2023-05-02T05:38:29.053Z"
   },
   {
    "duration": 3,
    "start_time": "2023-05-02T05:38:29.062Z"
   },
   {
    "duration": 96,
    "start_time": "2023-05-02T05:38:29.066Z"
   },
   {
    "duration": 0,
    "start_time": "2023-05-02T05:38:29.164Z"
   },
   {
    "duration": 0,
    "start_time": "2023-05-02T05:38:29.165Z"
   },
   {
    "duration": 0,
    "start_time": "2023-05-02T05:38:29.166Z"
   },
   {
    "duration": 0,
    "start_time": "2023-05-02T05:38:29.167Z"
   },
   {
    "duration": 0,
    "start_time": "2023-05-02T05:38:29.169Z"
   },
   {
    "duration": 0,
    "start_time": "2023-05-02T05:38:29.169Z"
   },
   {
    "duration": 0,
    "start_time": "2023-05-02T05:38:29.171Z"
   },
   {
    "duration": 0,
    "start_time": "2023-05-02T05:38:29.172Z"
   },
   {
    "duration": 0,
    "start_time": "2023-05-02T05:38:29.173Z"
   },
   {
    "duration": 0,
    "start_time": "2023-05-02T05:38:29.174Z"
   },
   {
    "duration": 0,
    "start_time": "2023-05-02T05:38:29.175Z"
   },
   {
    "duration": 0,
    "start_time": "2023-05-02T05:38:29.176Z"
   },
   {
    "duration": 0,
    "start_time": "2023-05-02T05:38:29.177Z"
   },
   {
    "duration": 0,
    "start_time": "2023-05-02T05:38:29.178Z"
   },
   {
    "duration": 0,
    "start_time": "2023-05-02T05:38:29.179Z"
   },
   {
    "duration": 0,
    "start_time": "2023-05-02T05:38:29.180Z"
   },
   {
    "duration": 0,
    "start_time": "2023-05-02T05:38:29.182Z"
   },
   {
    "duration": 0,
    "start_time": "2023-05-02T05:38:29.182Z"
   },
   {
    "duration": 4,
    "start_time": "2023-05-02T05:39:34.036Z"
   },
   {
    "duration": 565,
    "start_time": "2023-05-02T05:39:41.515Z"
   },
   {
    "duration": 312,
    "start_time": "2023-05-02T05:40:59.023Z"
   },
   {
    "duration": 609,
    "start_time": "2023-05-02T05:41:20.171Z"
   },
   {
    "duration": 449,
    "start_time": "2023-05-02T05:43:09.947Z"
   },
   {
    "duration": 481,
    "start_time": "2023-05-02T05:43:31.147Z"
   },
   {
    "duration": 504,
    "start_time": "2023-05-02T05:43:34.683Z"
   },
   {
    "duration": 498,
    "start_time": "2023-05-02T05:43:37.908Z"
   },
   {
    "duration": 12,
    "start_time": "2023-05-02T05:48:20.967Z"
   },
   {
    "duration": 4,
    "start_time": "2023-05-02T05:48:29.776Z"
   },
   {
    "duration": 3362,
    "start_time": "2023-05-02T05:48:36.028Z"
   },
   {
    "duration": 53,
    "start_time": "2023-05-02T06:06:16.744Z"
   },
   {
    "duration": 48,
    "start_time": "2023-05-02T06:06:42.943Z"
   },
   {
    "duration": 6681,
    "start_time": "2023-05-02T06:06:54.059Z"
   },
   {
    "duration": 13,
    "start_time": "2023-05-02T06:09:08.330Z"
   },
   {
    "duration": 1404,
    "start_time": "2023-05-02T06:09:15.803Z"
   },
   {
    "duration": 45,
    "start_time": "2023-05-02T06:09:17.209Z"
   },
   {
    "duration": 13,
    "start_time": "2023-05-02T06:09:17.256Z"
   },
   {
    "duration": 6,
    "start_time": "2023-05-02T06:09:17.271Z"
   },
   {
    "duration": 20,
    "start_time": "2023-05-02T06:09:17.279Z"
   },
   {
    "duration": 6,
    "start_time": "2023-05-02T06:09:17.300Z"
   },
   {
    "duration": 17,
    "start_time": "2023-05-02T06:09:17.307Z"
   },
   {
    "duration": 3,
    "start_time": "2023-05-02T06:09:17.334Z"
   },
   {
    "duration": 345,
    "start_time": "2023-05-02T06:09:17.339Z"
   },
   {
    "duration": 8,
    "start_time": "2023-05-02T06:09:17.686Z"
   },
   {
    "duration": 8,
    "start_time": "2023-05-02T06:09:17.696Z"
   },
   {
    "duration": 7,
    "start_time": "2023-05-02T06:09:17.706Z"
   },
   {
    "duration": 12,
    "start_time": "2023-05-02T06:09:17.735Z"
   },
   {
    "duration": 161,
    "start_time": "2023-05-02T06:09:17.751Z"
   },
   {
    "duration": 3,
    "start_time": "2023-05-02T06:09:17.914Z"
   },
   {
    "duration": 22,
    "start_time": "2023-05-02T06:09:17.919Z"
   },
   {
    "duration": 10,
    "start_time": "2023-05-02T06:09:17.942Z"
   },
   {
    "duration": 7,
    "start_time": "2023-05-02T06:09:17.953Z"
   },
   {
    "duration": 17,
    "start_time": "2023-05-02T06:09:17.962Z"
   },
   {
    "duration": 7,
    "start_time": "2023-05-02T06:09:17.980Z"
   },
   {
    "duration": 3,
    "start_time": "2023-05-02T06:09:17.989Z"
   },
   {
    "duration": 3705,
    "start_time": "2023-05-02T06:09:17.994Z"
   },
   {
    "duration": 3,
    "start_time": "2023-05-02T06:09:21.701Z"
   },
   {
    "duration": 7,
    "start_time": "2023-05-02T06:09:21.706Z"
   },
   {
    "duration": 11,
    "start_time": "2023-05-02T06:09:21.714Z"
   },
   {
    "duration": 9,
    "start_time": "2023-05-02T06:09:21.726Z"
   },
   {
    "duration": 17,
    "start_time": "2023-05-02T06:09:21.736Z"
   },
   {
    "duration": 6916,
    "start_time": "2023-05-02T06:09:21.755Z"
   },
   {
    "duration": 3,
    "start_time": "2023-05-02T06:09:28.672Z"
   },
   {
    "duration": 11,
    "start_time": "2023-05-02T06:09:28.676Z"
   },
   {
    "duration": 8,
    "start_time": "2023-05-02T06:09:28.689Z"
   },
   {
    "duration": 6,
    "start_time": "2023-05-02T06:09:28.699Z"
   },
   {
    "duration": 9,
    "start_time": "2023-05-02T06:09:28.706Z"
   },
   {
    "duration": 19,
    "start_time": "2023-05-02T06:09:28.716Z"
   },
   {
    "duration": 4,
    "start_time": "2023-05-02T06:09:28.737Z"
   },
   {
    "duration": 15,
    "start_time": "2023-05-02T06:09:28.742Z"
   },
   {
    "duration": 26,
    "start_time": "2023-05-02T06:09:28.759Z"
   },
   {
    "duration": 9,
    "start_time": "2023-05-02T06:09:28.786Z"
   },
   {
    "duration": 17,
    "start_time": "2023-05-02T06:09:28.796Z"
   },
   {
    "duration": 26,
    "start_time": "2023-05-02T06:09:28.814Z"
   },
   {
    "duration": 107,
    "start_time": "2023-05-02T06:09:28.843Z"
   },
   {
    "duration": 14,
    "start_time": "2023-05-02T06:10:06.739Z"
   },
   {
    "duration": 9,
    "start_time": "2023-05-02T06:10:07.445Z"
   },
   {
    "duration": 289,
    "start_time": "2023-05-02T06:11:26.366Z"
   },
   {
    "duration": 401,
    "start_time": "2023-05-02T06:14:07.747Z"
   },
   {
    "duration": 9,
    "start_time": "2023-05-02T06:14:21.120Z"
   },
   {
    "duration": 166,
    "start_time": "2023-05-02T06:14:51.111Z"
   },
   {
    "duration": 12,
    "start_time": "2023-05-02T06:15:01.291Z"
   },
   {
    "duration": 11,
    "start_time": "2023-05-02T06:17:06.851Z"
   },
   {
    "duration": 30281,
    "start_time": "2023-05-02T06:17:20.681Z"
   },
   {
    "duration": 3609,
    "start_time": "2023-05-02T06:39:48.717Z"
   },
   {
    "duration": 30205,
    "start_time": "2023-05-02T06:40:11.529Z"
   },
   {
    "duration": 527,
    "start_time": "2023-05-02T06:43:59.830Z"
   },
   {
    "duration": 10,
    "start_time": "2023-05-02T06:44:01.735Z"
   },
   {
    "duration": 31605,
    "start_time": "2023-05-02T06:46:58.651Z"
   },
   {
    "duration": 4,
    "start_time": "2023-05-02T06:47:50.556Z"
   },
   {
    "duration": 4,
    "start_time": "2023-05-02T06:48:05.619Z"
   },
   {
    "duration": 30108,
    "start_time": "2023-05-02T06:48:09.327Z"
   },
   {
    "duration": 3375,
    "start_time": "2023-05-02T06:49:02.877Z"
   },
   {
    "duration": 408,
    "start_time": "2023-05-02T06:49:38.037Z"
   },
   {
    "duration": 9,
    "start_time": "2023-05-02T06:49:38.928Z"
   },
   {
    "duration": 202,
    "start_time": "2023-05-02T06:49:43.674Z"
   },
   {
    "duration": 10,
    "start_time": "2023-05-02T06:49:44.412Z"
   },
   {
    "duration": 10,
    "start_time": "2023-05-02T07:28:52.688Z"
   },
   {
    "duration": 70,
    "start_time": "2023-05-02T07:29:05.195Z"
   },
   {
    "duration": 10,
    "start_time": "2023-05-02T07:29:12.508Z"
   },
   {
    "duration": 10,
    "start_time": "2023-05-02T07:29:29.514Z"
   },
   {
    "duration": 9,
    "start_time": "2023-05-02T07:31:31.582Z"
   },
   {
    "duration": 12,
    "start_time": "2023-05-02T07:34:47.304Z"
   },
   {
    "duration": 187,
    "start_time": "2023-05-02T07:34:56.754Z"
   },
   {
    "duration": 12,
    "start_time": "2023-05-02T07:34:57.381Z"
   },
   {
    "duration": 1334,
    "start_time": "2023-05-02T07:35:09.809Z"
   },
   {
    "duration": 40,
    "start_time": "2023-05-02T07:35:11.145Z"
   },
   {
    "duration": 11,
    "start_time": "2023-05-02T07:35:11.187Z"
   },
   {
    "duration": 18,
    "start_time": "2023-05-02T07:35:11.200Z"
   },
   {
    "duration": 9,
    "start_time": "2023-05-02T07:35:11.220Z"
   },
   {
    "duration": 6,
    "start_time": "2023-05-02T07:35:11.230Z"
   },
   {
    "duration": 17,
    "start_time": "2023-05-02T07:35:11.237Z"
   },
   {
    "duration": 3,
    "start_time": "2023-05-02T07:35:11.255Z"
   },
   {
    "duration": 371,
    "start_time": "2023-05-02T07:35:11.259Z"
   },
   {
    "duration": 7,
    "start_time": "2023-05-02T07:35:11.634Z"
   },
   {
    "duration": 17,
    "start_time": "2023-05-02T07:35:11.642Z"
   },
   {
    "duration": 12,
    "start_time": "2023-05-02T07:35:11.660Z"
   },
   {
    "duration": 25,
    "start_time": "2023-05-02T07:35:11.674Z"
   },
   {
    "duration": 123,
    "start_time": "2023-05-02T07:35:11.703Z"
   },
   {
    "duration": 7,
    "start_time": "2023-05-02T07:35:11.827Z"
   },
   {
    "duration": 16,
    "start_time": "2023-05-02T07:35:11.836Z"
   },
   {
    "duration": 11,
    "start_time": "2023-05-02T07:35:11.854Z"
   },
   {
    "duration": 6,
    "start_time": "2023-05-02T07:35:11.866Z"
   },
   {
    "duration": 15,
    "start_time": "2023-05-02T07:35:11.873Z"
   },
   {
    "duration": 7,
    "start_time": "2023-05-02T07:35:11.890Z"
   },
   {
    "duration": 3286,
    "start_time": "2023-05-02T07:35:11.898Z"
   },
   {
    "duration": 2,
    "start_time": "2023-05-02T07:35:15.186Z"
   },
   {
    "duration": 30789,
    "start_time": "2023-05-02T07:35:15.190Z"
   },
   {
    "duration": 3,
    "start_time": "2023-05-02T07:35:45.981Z"
   },
   {
    "duration": 10,
    "start_time": "2023-05-02T07:35:45.986Z"
   },
   {
    "duration": 5,
    "start_time": "2023-05-02T07:35:45.998Z"
   },
   {
    "duration": 14,
    "start_time": "2023-05-02T07:35:46.004Z"
   },
   {
    "duration": 33,
    "start_time": "2023-05-02T07:35:46.019Z"
   },
   {
    "duration": 4,
    "start_time": "2023-05-02T07:35:46.053Z"
   },
   {
    "duration": 20,
    "start_time": "2023-05-02T07:35:46.059Z"
   },
   {
    "duration": 462,
    "start_time": "2023-05-02T07:35:46.080Z"
   },
   {
    "duration": 9,
    "start_time": "2023-05-02T07:35:46.544Z"
   },
   {
    "duration": 209,
    "start_time": "2023-05-02T07:35:46.554Z"
   },
   {
    "duration": 9,
    "start_time": "2023-05-02T07:35:46.764Z"
   },
   {
    "duration": 10,
    "start_time": "2023-05-02T07:36:59.900Z"
   },
   {
    "duration": 212,
    "start_time": "2023-05-02T07:42:14.354Z"
   },
   {
    "duration": 106,
    "start_time": "2023-05-02T07:42:23.324Z"
   },
   {
    "duration": 118,
    "start_time": "2023-05-02T07:43:37.233Z"
   },
   {
    "duration": 4,
    "start_time": "2023-05-02T07:48:14.280Z"
   },
   {
    "duration": 5,
    "start_time": "2023-05-02T07:48:18.442Z"
   },
   {
    "duration": 167,
    "start_time": "2023-05-02T07:48:24.508Z"
   },
   {
    "duration": 113,
    "start_time": "2023-05-02T07:54:03.111Z"
   },
   {
    "duration": 4,
    "start_time": "2023-05-02T07:54:10.433Z"
   },
   {
    "duration": 6,
    "start_time": "2023-05-02T07:54:16.409Z"
   },
   {
    "duration": 5,
    "start_time": "2023-05-02T08:02:39.515Z"
   },
   {
    "duration": 16,
    "start_time": "2023-05-02T10:06:11.150Z"
   },
   {
    "duration": 4,
    "start_time": "2023-05-02T10:08:43.592Z"
   },
   {
    "duration": 4,
    "start_time": "2023-05-02T10:08:52.826Z"
   },
   {
    "duration": 13,
    "start_time": "2023-05-02T10:09:02.346Z"
   },
   {
    "duration": 144,
    "start_time": "2023-05-02T10:09:07.291Z"
   },
   {
    "duration": 8,
    "start_time": "2023-05-02T10:23:03.834Z"
   },
   {
    "duration": 16,
    "start_time": "2023-05-02T10:23:28.758Z"
   },
   {
    "duration": 8,
    "start_time": "2023-05-02T10:24:10.449Z"
   },
   {
    "duration": 23,
    "start_time": "2023-05-02T10:24:18.908Z"
   },
   {
    "duration": 266,
    "start_time": "2023-05-02T10:24:27.536Z"
   },
   {
    "duration": 312,
    "start_time": "2023-05-02T10:25:04.896Z"
   },
   {
    "duration": 297,
    "start_time": "2023-05-02T10:45:10.559Z"
   },
   {
    "duration": 13,
    "start_time": "2023-05-02T10:47:31.941Z"
   },
   {
    "duration": 8,
    "start_time": "2023-05-02T10:48:20.925Z"
   },
   {
    "duration": 8,
    "start_time": "2023-05-02T10:48:44.346Z"
   },
   {
    "duration": 10,
    "start_time": "2023-05-02T10:50:45.451Z"
   },
   {
    "duration": 11,
    "start_time": "2023-05-02T10:51:11.279Z"
   },
   {
    "duration": 10,
    "start_time": "2023-05-02T10:51:52.274Z"
   },
   {
    "duration": 7,
    "start_time": "2023-05-02T10:51:57.417Z"
   },
   {
    "duration": 4,
    "start_time": "2023-05-02T10:52:08.479Z"
   },
   {
    "duration": 9,
    "start_time": "2023-05-02T10:52:13.345Z"
   },
   {
    "duration": 10,
    "start_time": "2023-05-02T10:52:14.148Z"
   },
   {
    "duration": 4,
    "start_time": "2023-05-02T10:52:44.860Z"
   },
   {
    "duration": 11,
    "start_time": "2023-05-02T10:52:45.623Z"
   },
   {
    "duration": 11,
    "start_time": "2023-05-02T10:52:46.317Z"
   },
   {
    "duration": 1568,
    "start_time": "2023-05-02T10:52:52.517Z"
   },
   {
    "duration": 49,
    "start_time": "2023-05-02T10:52:54.087Z"
   },
   {
    "duration": 16,
    "start_time": "2023-05-02T10:52:54.137Z"
   },
   {
    "duration": 15,
    "start_time": "2023-05-02T10:52:54.155Z"
   },
   {
    "duration": 17,
    "start_time": "2023-05-02T10:52:54.172Z"
   },
   {
    "duration": 4,
    "start_time": "2023-05-02T10:52:54.191Z"
   },
   {
    "duration": 19,
    "start_time": "2023-05-02T10:52:54.196Z"
   },
   {
    "duration": 5,
    "start_time": "2023-05-02T10:52:54.217Z"
   },
   {
    "duration": 407,
    "start_time": "2023-05-02T10:52:54.223Z"
   },
   {
    "duration": 8,
    "start_time": "2023-05-02T10:52:54.634Z"
   },
   {
    "duration": 16,
    "start_time": "2023-05-02T10:52:54.643Z"
   },
   {
    "duration": 11,
    "start_time": "2023-05-02T10:52:54.661Z"
   },
   {
    "duration": 17,
    "start_time": "2023-05-02T10:52:54.673Z"
   },
   {
    "duration": 173,
    "start_time": "2023-05-02T10:52:54.693Z"
   },
   {
    "duration": 5,
    "start_time": "2023-05-02T10:52:54.868Z"
   },
   {
    "duration": 26,
    "start_time": "2023-05-02T10:52:54.875Z"
   },
   {
    "duration": 34,
    "start_time": "2023-05-02T10:52:54.903Z"
   },
   {
    "duration": 47,
    "start_time": "2023-05-02T10:52:54.939Z"
   },
   {
    "duration": 32,
    "start_time": "2023-05-02T10:52:54.989Z"
   },
   {
    "duration": 9,
    "start_time": "2023-05-02T10:52:55.023Z"
   },
   {
    "duration": 3440,
    "start_time": "2023-05-02T10:52:55.034Z"
   },
   {
    "duration": 4,
    "start_time": "2023-05-02T10:52:58.475Z"
   },
   {
    "duration": 32126,
    "start_time": "2023-05-02T10:52:58.480Z"
   },
   {
    "duration": 4,
    "start_time": "2023-05-02T10:53:30.608Z"
   },
   {
    "duration": 86,
    "start_time": "2023-05-02T10:53:30.614Z"
   },
   {
    "duration": 86,
    "start_time": "2023-05-02T10:53:30.702Z"
   },
   {
    "duration": 52,
    "start_time": "2023-05-02T10:53:30.790Z"
   },
   {
    "duration": 91,
    "start_time": "2023-05-02T10:53:30.845Z"
   },
   {
    "duration": 42,
    "start_time": "2023-05-02T10:53:30.938Z"
   },
   {
    "duration": 59,
    "start_time": "2023-05-02T10:53:30.982Z"
   },
   {
    "duration": 505,
    "start_time": "2023-05-02T10:53:31.042Z"
   },
   {
    "duration": 10,
    "start_time": "2023-05-02T10:53:31.550Z"
   },
   {
    "duration": 276,
    "start_time": "2023-05-02T10:53:31.562Z"
   },
   {
    "duration": 9,
    "start_time": "2023-05-02T10:53:31.840Z"
   },
   {
    "duration": 157,
    "start_time": "2023-05-02T10:53:31.851Z"
   },
   {
    "duration": 6,
    "start_time": "2023-05-02T10:53:32.009Z"
   },
   {
    "duration": 25,
    "start_time": "2023-05-02T10:53:32.017Z"
   },
   {
    "duration": 43,
    "start_time": "2023-05-02T10:53:32.044Z"
   },
   {
    "duration": 125,
    "start_time": "2023-05-02T10:53:32.088Z"
   },
   {
    "duration": 0,
    "start_time": "2023-05-02T10:53:32.214Z"
   },
   {
    "duration": 0,
    "start_time": "2023-05-02T10:53:32.216Z"
   },
   {
    "duration": 3,
    "start_time": "2023-05-02T10:55:33.083Z"
   },
   {
    "duration": 8,
    "start_time": "2023-05-02T10:55:38.298Z"
   },
   {
    "duration": 10,
    "start_time": "2023-05-02T10:55:39.225Z"
   },
   {
    "duration": 6,
    "start_time": "2023-05-02T10:55:40.461Z"
   },
   {
    "duration": 1319,
    "start_time": "2023-05-02T10:56:28.755Z"
   },
   {
    "duration": 44,
    "start_time": "2023-05-02T10:56:30.076Z"
   },
   {
    "duration": 13,
    "start_time": "2023-05-02T10:56:30.122Z"
   },
   {
    "duration": 29,
    "start_time": "2023-05-02T10:56:30.137Z"
   },
   {
    "duration": 37,
    "start_time": "2023-05-02T10:56:30.167Z"
   },
   {
    "duration": 48,
    "start_time": "2023-05-02T10:56:30.205Z"
   },
   {
    "duration": 50,
    "start_time": "2023-05-02T10:56:30.254Z"
   },
   {
    "duration": 38,
    "start_time": "2023-05-02T10:56:30.306Z"
   },
   {
    "duration": 431,
    "start_time": "2023-05-02T10:56:30.346Z"
   },
   {
    "duration": 9,
    "start_time": "2023-05-02T10:56:30.779Z"
   },
   {
    "duration": 57,
    "start_time": "2023-05-02T10:56:30.789Z"
   },
   {
    "duration": 37,
    "start_time": "2023-05-02T10:56:30.847Z"
   },
   {
    "duration": 36,
    "start_time": "2023-05-02T10:56:30.885Z"
   },
   {
    "duration": 167,
    "start_time": "2023-05-02T10:56:30.922Z"
   },
   {
    "duration": 3,
    "start_time": "2023-05-02T10:56:31.091Z"
   },
   {
    "duration": 61,
    "start_time": "2023-05-02T10:56:31.096Z"
   },
   {
    "duration": 32,
    "start_time": "2023-05-02T10:56:31.159Z"
   },
   {
    "duration": 33,
    "start_time": "2023-05-02T10:56:31.193Z"
   },
   {
    "duration": 46,
    "start_time": "2023-05-02T10:56:31.227Z"
   },
   {
    "duration": 29,
    "start_time": "2023-05-02T10:56:31.275Z"
   },
   {
    "duration": 3508,
    "start_time": "2023-05-02T10:56:31.306Z"
   },
   {
    "duration": 4,
    "start_time": "2023-05-02T10:56:34.816Z"
   },
   {
    "duration": 30678,
    "start_time": "2023-05-02T10:56:34.821Z"
   },
   {
    "duration": 4,
    "start_time": "2023-05-02T10:57:05.500Z"
   },
   {
    "duration": 41,
    "start_time": "2023-05-02T10:57:05.505Z"
   },
   {
    "duration": 20,
    "start_time": "2023-05-02T10:57:05.547Z"
   },
   {
    "duration": 20,
    "start_time": "2023-05-02T10:57:05.569Z"
   },
   {
    "duration": 38,
    "start_time": "2023-05-02T10:57:05.592Z"
   },
   {
    "duration": 6,
    "start_time": "2023-05-02T10:57:05.632Z"
   },
   {
    "duration": 40,
    "start_time": "2023-05-02T10:57:05.639Z"
   },
   {
    "duration": 405,
    "start_time": "2023-05-02T10:57:05.680Z"
   },
   {
    "duration": 9,
    "start_time": "2023-05-02T10:57:06.087Z"
   },
   {
    "duration": 201,
    "start_time": "2023-05-02T10:57:06.097Z"
   },
   {
    "duration": 9,
    "start_time": "2023-05-02T10:57:06.299Z"
   },
   {
    "duration": 197,
    "start_time": "2023-05-02T10:57:06.309Z"
   },
   {
    "duration": 6,
    "start_time": "2023-05-02T10:57:06.508Z"
   },
   {
    "duration": 36,
    "start_time": "2023-05-02T10:57:06.516Z"
   },
   {
    "duration": 26,
    "start_time": "2023-05-02T10:57:06.554Z"
   },
   {
    "duration": 108,
    "start_time": "2023-05-02T10:57:06.582Z"
   },
   {
    "duration": 0,
    "start_time": "2023-05-02T10:57:06.692Z"
   },
   {
    "duration": 0,
    "start_time": "2023-05-02T10:57:06.693Z"
   },
   {
    "duration": 6,
    "start_time": "2023-05-02T11:14:06.921Z"
   },
   {
    "duration": 5,
    "start_time": "2023-05-02T11:14:43.947Z"
   },
   {
    "duration": 10,
    "start_time": "2023-05-02T11:14:51.208Z"
   },
   {
    "duration": 6,
    "start_time": "2023-05-02T11:14:52.243Z"
   },
   {
    "duration": 3,
    "start_time": "2023-05-02T11:15:03.028Z"
   },
   {
    "duration": 9,
    "start_time": "2023-05-02T11:15:03.712Z"
   },
   {
    "duration": 5,
    "start_time": "2023-05-02T11:15:04.359Z"
   },
   {
    "duration": 6,
    "start_time": "2023-05-02T11:15:05.842Z"
   },
   {
    "duration": 257,
    "start_time": "2023-05-02T11:15:07.321Z"
   },
   {
    "duration": 66,
    "start_time": "2023-05-02T11:17:31.861Z"
   },
   {
    "duration": 11,
    "start_time": "2023-05-02T11:17:38.543Z"
   },
   {
    "duration": 13,
    "start_time": "2023-05-02T11:17:46.365Z"
   },
   {
    "duration": 13,
    "start_time": "2023-05-02T11:20:30.168Z"
   },
   {
    "duration": 1462,
    "start_time": "2023-05-02T11:20:45.234Z"
   },
   {
    "duration": 41,
    "start_time": "2023-05-02T11:20:46.698Z"
   },
   {
    "duration": 13,
    "start_time": "2023-05-02T11:20:46.741Z"
   },
   {
    "duration": 6,
    "start_time": "2023-05-02T11:20:46.757Z"
   },
   {
    "duration": 17,
    "start_time": "2023-05-02T11:20:46.765Z"
   },
   {
    "duration": 7,
    "start_time": "2023-05-02T11:20:46.784Z"
   },
   {
    "duration": 28,
    "start_time": "2023-05-02T11:20:46.793Z"
   },
   {
    "duration": 4,
    "start_time": "2023-05-02T11:20:46.833Z"
   },
   {
    "duration": 387,
    "start_time": "2023-05-02T11:20:46.839Z"
   },
   {
    "duration": 11,
    "start_time": "2023-05-02T11:20:47.229Z"
   },
   {
    "duration": 22,
    "start_time": "2023-05-02T11:20:47.242Z"
   },
   {
    "duration": 17,
    "start_time": "2023-05-02T11:20:47.266Z"
   },
   {
    "duration": 32,
    "start_time": "2023-05-02T11:20:47.285Z"
   },
   {
    "duration": 155,
    "start_time": "2023-05-02T11:20:47.320Z"
   },
   {
    "duration": 4,
    "start_time": "2023-05-02T11:20:47.477Z"
   },
   {
    "duration": 30,
    "start_time": "2023-05-02T11:20:47.482Z"
   },
   {
    "duration": 19,
    "start_time": "2023-05-02T11:20:47.514Z"
   },
   {
    "duration": 24,
    "start_time": "2023-05-02T11:20:47.535Z"
   },
   {
    "duration": 28,
    "start_time": "2023-05-02T11:20:47.560Z"
   },
   {
    "duration": 19,
    "start_time": "2023-05-02T11:20:47.589Z"
   },
   {
    "duration": 3760,
    "start_time": "2023-05-02T11:20:47.610Z"
   },
   {
    "duration": 4,
    "start_time": "2023-05-02T11:20:51.371Z"
   },
   {
    "duration": 32548,
    "start_time": "2023-05-02T11:20:51.376Z"
   },
   {
    "duration": 11,
    "start_time": "2023-05-02T11:21:23.926Z"
   },
   {
    "duration": 22,
    "start_time": "2023-05-02T11:21:23.939Z"
   },
   {
    "duration": 15,
    "start_time": "2023-05-02T11:21:23.964Z"
   },
   {
    "duration": 6,
    "start_time": "2023-05-02T11:21:23.981Z"
   },
   {
    "duration": 30,
    "start_time": "2023-05-02T11:21:23.991Z"
   },
   {
    "duration": 10,
    "start_time": "2023-05-02T11:21:24.022Z"
   },
   {
    "duration": 20,
    "start_time": "2023-05-02T11:21:24.034Z"
   },
   {
    "duration": 503,
    "start_time": "2023-05-02T11:21:24.055Z"
   },
   {
    "duration": 11,
    "start_time": "2023-05-02T11:21:24.560Z"
   },
   {
    "duration": 315,
    "start_time": "2023-05-02T11:21:24.574Z"
   },
   {
    "duration": 16,
    "start_time": "2023-05-02T11:21:24.893Z"
   },
   {
    "duration": 191,
    "start_time": "2023-05-02T11:21:24.911Z"
   },
   {
    "duration": 7,
    "start_time": "2023-05-02T11:21:25.104Z"
   },
   {
    "duration": 26,
    "start_time": "2023-05-02T11:21:25.112Z"
   },
   {
    "duration": 29,
    "start_time": "2023-05-02T11:21:25.140Z"
   },
   {
    "duration": 23,
    "start_time": "2023-05-02T11:21:25.171Z"
   },
   {
    "duration": 188,
    "start_time": "2023-05-02T11:21:25.196Z"
   },
   {
    "duration": 0,
    "start_time": "2023-05-02T11:21:25.386Z"
   },
   {
    "duration": 7,
    "start_time": "2023-05-02T11:21:43.022Z"
   },
   {
    "duration": 3,
    "start_time": "2023-05-02T11:21:43.475Z"
   },
   {
    "duration": 4,
    "start_time": "2023-05-02T11:21:44.014Z"
   },
   {
    "duration": 358,
    "start_time": "2023-05-02T11:21:45.351Z"
   },
   {
    "duration": 9,
    "start_time": "2023-05-02T11:29:47.166Z"
   },
   {
    "duration": 12,
    "start_time": "2023-05-02T11:30:15.725Z"
   },
   {
    "duration": 6,
    "start_time": "2023-05-02T11:31:27.168Z"
   },
   {
    "duration": 6,
    "start_time": "2023-05-02T11:31:32.664Z"
   },
   {
    "duration": 276,
    "start_time": "2023-05-02T11:31:33.219Z"
   },
   {
    "duration": 14,
    "start_time": "2023-05-02T11:33:03.770Z"
   },
   {
    "duration": 6,
    "start_time": "2023-05-02T11:33:13.168Z"
   },
   {
    "duration": 6,
    "start_time": "2023-05-02T11:33:17.835Z"
   },
   {
    "duration": 5,
    "start_time": "2023-05-02T11:33:23.325Z"
   },
   {
    "duration": 6,
    "start_time": "2023-05-02T11:33:34.569Z"
   },
   {
    "duration": 8,
    "start_time": "2023-05-02T11:33:49.844Z"
   },
   {
    "duration": 7,
    "start_time": "2023-05-02T11:34:03.774Z"
   },
   {
    "duration": 327,
    "start_time": "2023-05-02T11:34:18.171Z"
   },
   {
    "duration": 3,
    "start_time": "2023-05-02T11:34:55.691Z"
   },
   {
    "duration": 6,
    "start_time": "2023-05-02T11:34:56.485Z"
   },
   {
    "duration": 267,
    "start_time": "2023-05-02T11:34:57.127Z"
   },
   {
    "duration": 7,
    "start_time": "2023-05-02T11:35:08.544Z"
   },
   {
    "duration": 274,
    "start_time": "2023-05-02T11:35:29.914Z"
   },
   {
    "duration": 2,
    "start_time": "2023-05-02T11:35:47.183Z"
   },
   {
    "duration": 3,
    "start_time": "2023-05-02T11:35:51.552Z"
   },
   {
    "duration": 305,
    "start_time": "2023-05-02T11:37:29.446Z"
   },
   {
    "duration": 316,
    "start_time": "2023-05-02T11:37:46.182Z"
   },
   {
    "duration": 14,
    "start_time": "2023-05-02T15:52:00.312Z"
   },
   {
    "duration": 1282,
    "start_time": "2023-05-02T15:52:06.269Z"
   },
   {
    "duration": 41,
    "start_time": "2023-05-02T15:52:07.553Z"
   },
   {
    "duration": 13,
    "start_time": "2023-05-02T15:52:07.595Z"
   },
   {
    "duration": 12,
    "start_time": "2023-05-02T15:52:07.609Z"
   },
   {
    "duration": 18,
    "start_time": "2023-05-02T15:52:07.623Z"
   },
   {
    "duration": 8,
    "start_time": "2023-05-02T15:52:07.642Z"
   },
   {
    "duration": 20,
    "start_time": "2023-05-02T15:52:07.651Z"
   },
   {
    "duration": 3,
    "start_time": "2023-05-02T15:52:07.673Z"
   },
   {
    "duration": 381,
    "start_time": "2023-05-02T15:52:07.678Z"
   },
   {
    "duration": 8,
    "start_time": "2023-05-02T15:52:08.061Z"
   },
   {
    "duration": 8,
    "start_time": "2023-05-02T15:52:08.071Z"
   },
   {
    "duration": 6,
    "start_time": "2023-05-02T15:52:08.080Z"
   },
   {
    "duration": 12,
    "start_time": "2023-05-02T15:52:08.088Z"
   },
   {
    "duration": 152,
    "start_time": "2023-05-02T15:52:08.103Z"
   },
   {
    "duration": 3,
    "start_time": "2023-05-02T15:52:08.257Z"
   },
   {
    "duration": 13,
    "start_time": "2023-05-02T15:52:08.261Z"
   },
   {
    "duration": 7,
    "start_time": "2023-05-02T15:52:08.276Z"
   },
   {
    "duration": 10,
    "start_time": "2023-05-02T15:52:08.284Z"
   },
   {
    "duration": 43,
    "start_time": "2023-05-02T15:52:08.295Z"
   },
   {
    "duration": 7,
    "start_time": "2023-05-02T15:52:08.340Z"
   },
   {
    "duration": 3891,
    "start_time": "2023-05-02T15:52:08.348Z"
   },
   {
    "duration": 3,
    "start_time": "2023-05-02T15:52:12.241Z"
   },
   {
    "duration": 26908,
    "start_time": "2023-05-02T15:52:12.246Z"
   },
   {
    "duration": 3,
    "start_time": "2023-05-02T15:52:39.156Z"
   },
   {
    "duration": 21,
    "start_time": "2023-05-02T15:52:39.160Z"
   },
   {
    "duration": 6,
    "start_time": "2023-05-02T15:52:39.183Z"
   },
   {
    "duration": 14,
    "start_time": "2023-05-02T15:52:39.190Z"
   },
   {
    "duration": 20,
    "start_time": "2023-05-02T15:52:39.205Z"
   },
   {
    "duration": 4,
    "start_time": "2023-05-02T15:52:39.227Z"
   },
   {
    "duration": 21,
    "start_time": "2023-05-02T15:52:39.232Z"
   },
   {
    "duration": 362,
    "start_time": "2023-05-02T15:52:39.254Z"
   },
   {
    "duration": 8,
    "start_time": "2023-05-02T15:52:39.618Z"
   },
   {
    "duration": 57,
    "start_time": "2023-05-02T15:52:39.628Z"
   },
   {
    "duration": 0,
    "start_time": "2023-05-02T15:52:39.687Z"
   },
   {
    "duration": 0,
    "start_time": "2023-05-02T15:52:39.689Z"
   },
   {
    "duration": 0,
    "start_time": "2023-05-02T15:52:39.690Z"
   },
   {
    "duration": 0,
    "start_time": "2023-05-02T15:52:39.691Z"
   },
   {
    "duration": 0,
    "start_time": "2023-05-02T15:52:39.692Z"
   },
   {
    "duration": 101,
    "start_time": "2023-05-02T15:55:29.465Z"
   },
   {
    "duration": 13,
    "start_time": "2023-05-02T15:55:36.026Z"
   },
   {
    "duration": 12,
    "start_time": "2023-05-02T15:56:44.616Z"
   },
   {
    "duration": 13,
    "start_time": "2023-05-02T15:57:13.317Z"
   },
   {
    "duration": 15,
    "start_time": "2023-05-02T15:57:18.626Z"
   },
   {
    "duration": 1343,
    "start_time": "2023-05-02T15:57:25.809Z"
   },
   {
    "duration": 41,
    "start_time": "2023-05-02T15:57:27.154Z"
   },
   {
    "duration": 12,
    "start_time": "2023-05-02T15:57:27.196Z"
   },
   {
    "duration": 9,
    "start_time": "2023-05-02T15:57:27.209Z"
   },
   {
    "duration": 16,
    "start_time": "2023-05-02T15:57:27.220Z"
   },
   {
    "duration": 15,
    "start_time": "2023-05-02T15:57:27.237Z"
   },
   {
    "duration": 20,
    "start_time": "2023-05-02T15:57:27.253Z"
   },
   {
    "duration": 4,
    "start_time": "2023-05-02T15:57:27.275Z"
   },
   {
    "duration": 362,
    "start_time": "2023-05-02T15:57:27.281Z"
   },
   {
    "duration": 8,
    "start_time": "2023-05-02T15:57:27.644Z"
   },
   {
    "duration": 12,
    "start_time": "2023-05-02T15:57:27.654Z"
   },
   {
    "duration": 17,
    "start_time": "2023-05-02T15:57:27.668Z"
   },
   {
    "duration": 13,
    "start_time": "2023-05-02T15:57:27.687Z"
   },
   {
    "duration": 140,
    "start_time": "2023-05-02T15:57:27.704Z"
   },
   {
    "duration": 4,
    "start_time": "2023-05-02T15:57:27.845Z"
   },
   {
    "duration": 17,
    "start_time": "2023-05-02T15:57:27.851Z"
   },
   {
    "duration": 7,
    "start_time": "2023-05-02T15:57:27.869Z"
   },
   {
    "duration": 7,
    "start_time": "2023-05-02T15:57:27.877Z"
   },
   {
    "duration": 25,
    "start_time": "2023-05-02T15:57:27.885Z"
   },
   {
    "duration": 116,
    "start_time": "2023-05-02T15:57:27.934Z"
   },
   {
    "duration": 0,
    "start_time": "2023-05-02T15:57:28.052Z"
   },
   {
    "duration": 0,
    "start_time": "2023-05-02T15:57:28.053Z"
   },
   {
    "duration": 0,
    "start_time": "2023-05-02T15:57:28.054Z"
   },
   {
    "duration": 0,
    "start_time": "2023-05-02T15:57:28.056Z"
   },
   {
    "duration": 0,
    "start_time": "2023-05-02T15:57:28.057Z"
   },
   {
    "duration": 0,
    "start_time": "2023-05-02T15:57:28.058Z"
   },
   {
    "duration": 0,
    "start_time": "2023-05-02T15:57:28.060Z"
   },
   {
    "duration": 0,
    "start_time": "2023-05-02T15:57:28.061Z"
   },
   {
    "duration": 0,
    "start_time": "2023-05-02T15:57:28.062Z"
   },
   {
    "duration": 0,
    "start_time": "2023-05-02T15:57:28.064Z"
   },
   {
    "duration": 0,
    "start_time": "2023-05-02T15:57:28.065Z"
   },
   {
    "duration": 0,
    "start_time": "2023-05-02T15:57:28.066Z"
   },
   {
    "duration": 0,
    "start_time": "2023-05-02T15:57:28.067Z"
   },
   {
    "duration": 0,
    "start_time": "2023-05-02T15:57:28.068Z"
   },
   {
    "duration": 0,
    "start_time": "2023-05-02T15:57:28.069Z"
   },
   {
    "duration": 0,
    "start_time": "2023-05-02T15:57:28.069Z"
   },
   {
    "duration": 0,
    "start_time": "2023-05-02T15:57:28.070Z"
   },
   {
    "duration": 0,
    "start_time": "2023-05-02T15:57:28.071Z"
   },
   {
    "duration": 9,
    "start_time": "2023-05-02T15:57:41.538Z"
   },
   {
    "duration": 13,
    "start_time": "2023-05-02T15:57:52.845Z"
   },
   {
    "duration": 1289,
    "start_time": "2023-05-02T15:58:00.958Z"
   },
   {
    "duration": 42,
    "start_time": "2023-05-02T15:58:02.248Z"
   },
   {
    "duration": 12,
    "start_time": "2023-05-02T15:58:02.291Z"
   },
   {
    "duration": 25,
    "start_time": "2023-05-02T15:58:02.304Z"
   },
   {
    "duration": 19,
    "start_time": "2023-05-02T15:58:02.331Z"
   },
   {
    "duration": 28,
    "start_time": "2023-05-02T15:58:02.352Z"
   },
   {
    "duration": 54,
    "start_time": "2023-05-02T15:58:02.381Z"
   },
   {
    "duration": 19,
    "start_time": "2023-05-02T15:58:02.436Z"
   },
   {
    "duration": 407,
    "start_time": "2023-05-02T15:58:02.456Z"
   },
   {
    "duration": 7,
    "start_time": "2023-05-02T15:58:02.866Z"
   },
   {
    "duration": 35,
    "start_time": "2023-05-02T15:58:02.875Z"
   },
   {
    "duration": 27,
    "start_time": "2023-05-02T15:58:02.911Z"
   },
   {
    "duration": 35,
    "start_time": "2023-05-02T15:58:02.939Z"
   },
   {
    "duration": 148,
    "start_time": "2023-05-02T15:58:02.975Z"
   },
   {
    "duration": 3,
    "start_time": "2023-05-02T15:58:03.124Z"
   },
   {
    "duration": 35,
    "start_time": "2023-05-02T15:58:03.128Z"
   },
   {
    "duration": 20,
    "start_time": "2023-05-02T15:58:03.164Z"
   },
   {
    "duration": 26,
    "start_time": "2023-05-02T15:58:03.186Z"
   },
   {
    "duration": 37,
    "start_time": "2023-05-02T15:58:03.213Z"
   },
   {
    "duration": 142,
    "start_time": "2023-05-02T15:58:03.252Z"
   },
   {
    "duration": 0,
    "start_time": "2023-05-02T15:58:03.395Z"
   },
   {
    "duration": 0,
    "start_time": "2023-05-02T15:58:03.396Z"
   },
   {
    "duration": 0,
    "start_time": "2023-05-02T15:58:03.398Z"
   },
   {
    "duration": 0,
    "start_time": "2023-05-02T15:58:03.399Z"
   },
   {
    "duration": 0,
    "start_time": "2023-05-02T15:58:03.400Z"
   },
   {
    "duration": 0,
    "start_time": "2023-05-02T15:58:03.401Z"
   },
   {
    "duration": 0,
    "start_time": "2023-05-02T15:58:03.402Z"
   },
   {
    "duration": 0,
    "start_time": "2023-05-02T15:58:03.403Z"
   },
   {
    "duration": 0,
    "start_time": "2023-05-02T15:58:03.404Z"
   },
   {
    "duration": 0,
    "start_time": "2023-05-02T15:58:03.405Z"
   },
   {
    "duration": 0,
    "start_time": "2023-05-02T15:58:03.406Z"
   },
   {
    "duration": 0,
    "start_time": "2023-05-02T15:58:03.407Z"
   },
   {
    "duration": 0,
    "start_time": "2023-05-02T15:58:03.408Z"
   },
   {
    "duration": 0,
    "start_time": "2023-05-02T15:58:03.409Z"
   },
   {
    "duration": 0,
    "start_time": "2023-05-02T15:58:03.435Z"
   },
   {
    "duration": 0,
    "start_time": "2023-05-02T15:58:03.436Z"
   },
   {
    "duration": 0,
    "start_time": "2023-05-02T15:58:03.438Z"
   },
   {
    "duration": 0,
    "start_time": "2023-05-02T15:58:03.439Z"
   },
   {
    "duration": 9,
    "start_time": "2023-05-02T15:59:30.708Z"
   },
   {
    "duration": 4125,
    "start_time": "2023-05-02T16:00:04.656Z"
   },
   {
    "duration": 3,
    "start_time": "2023-05-02T16:00:11.050Z"
   },
   {
    "duration": 28138,
    "start_time": "2023-05-02T16:00:12.525Z"
   },
   {
    "duration": 3,
    "start_time": "2023-05-02T16:00:40.665Z"
   },
   {
    "duration": 7,
    "start_time": "2023-05-02T16:00:58.428Z"
   },
   {
    "duration": 3,
    "start_time": "2023-05-02T16:00:59.111Z"
   },
   {
    "duration": 3,
    "start_time": "2023-05-02T16:01:02.119Z"
   },
   {
    "duration": 12,
    "start_time": "2023-05-02T16:01:02.730Z"
   },
   {
    "duration": 4,
    "start_time": "2023-05-02T16:01:04.849Z"
   },
   {
    "duration": 11,
    "start_time": "2023-05-02T16:01:07.062Z"
   },
   {
    "duration": 4,
    "start_time": "2023-05-02T16:16:29.611Z"
   },
   {
    "duration": 15,
    "start_time": "2023-05-02T16:20:51.527Z"
   },
   {
    "duration": 8,
    "start_time": "2023-05-02T16:22:25.149Z"
   },
   {
    "duration": 20,
    "start_time": "2023-05-02T16:24:08.962Z"
   },
   {
    "duration": 18,
    "start_time": "2023-05-02T16:25:48.424Z"
   },
   {
    "duration": 19,
    "start_time": "2023-05-02T16:26:02.740Z"
   },
   {
    "duration": 17,
    "start_time": "2023-05-02T16:26:32.193Z"
   },
   {
    "duration": 19,
    "start_time": "2023-05-02T16:26:56.464Z"
   },
   {
    "duration": 20,
    "start_time": "2023-05-02T16:27:22.802Z"
   },
   {
    "duration": 18,
    "start_time": "2023-05-02T16:33:41.207Z"
   },
   {
    "duration": 19,
    "start_time": "2023-05-02T16:33:43.836Z"
   },
   {
    "duration": 1268,
    "start_time": "2023-05-02T16:35:06.502Z"
   },
   {
    "duration": 1053,
    "start_time": "2023-05-02T16:35:35.604Z"
   },
   {
    "duration": 1365,
    "start_time": "2023-05-02T16:36:07.302Z"
   },
   {
    "duration": 980,
    "start_time": "2023-05-02T16:36:30.814Z"
   },
   {
    "duration": 1030,
    "start_time": "2023-05-02T16:37:24.678Z"
   },
   {
    "duration": 13,
    "start_time": "2023-05-02T16:38:05.159Z"
   },
   {
    "duration": 1193,
    "start_time": "2023-05-02T16:38:19.412Z"
   },
   {
    "duration": 9,
    "start_time": "2023-05-02T16:42:15.229Z"
   },
   {
    "duration": 19,
    "start_time": "2023-05-02T16:42:38.247Z"
   },
   {
    "duration": 1348,
    "start_time": "2023-05-02T16:43:07.253Z"
   },
   {
    "duration": 40,
    "start_time": "2023-05-02T16:43:08.603Z"
   },
   {
    "duration": 13,
    "start_time": "2023-05-02T16:43:08.645Z"
   },
   {
    "duration": 6,
    "start_time": "2023-05-02T16:43:08.660Z"
   },
   {
    "duration": 11,
    "start_time": "2023-05-02T16:43:08.667Z"
   },
   {
    "duration": 3,
    "start_time": "2023-05-02T16:43:08.680Z"
   },
   {
    "duration": 18,
    "start_time": "2023-05-02T16:43:08.684Z"
   },
   {
    "duration": 4,
    "start_time": "2023-05-02T16:43:08.704Z"
   },
   {
    "duration": 390,
    "start_time": "2023-05-02T16:43:08.710Z"
   },
   {
    "duration": 7,
    "start_time": "2023-05-02T16:43:09.103Z"
   },
   {
    "duration": 23,
    "start_time": "2023-05-02T16:43:09.112Z"
   },
   {
    "duration": 6,
    "start_time": "2023-05-02T16:43:09.137Z"
   },
   {
    "duration": 18,
    "start_time": "2023-05-02T16:43:09.145Z"
   },
   {
    "duration": 144,
    "start_time": "2023-05-02T16:43:09.164Z"
   },
   {
    "duration": 3,
    "start_time": "2023-05-02T16:43:09.310Z"
   },
   {
    "duration": 23,
    "start_time": "2023-05-02T16:43:09.314Z"
   },
   {
    "duration": 8,
    "start_time": "2023-05-02T16:43:09.339Z"
   },
   {
    "duration": 7,
    "start_time": "2023-05-02T16:43:09.348Z"
   },
   {
    "duration": 24,
    "start_time": "2023-05-02T16:43:09.357Z"
   },
   {
    "duration": 7,
    "start_time": "2023-05-02T16:43:09.383Z"
   },
   {
    "duration": 4116,
    "start_time": "2023-05-02T16:43:09.392Z"
   },
   {
    "duration": 3,
    "start_time": "2023-05-02T16:43:13.510Z"
   },
   {
    "duration": 28593,
    "start_time": "2023-05-02T16:43:13.514Z"
   },
   {
    "duration": 3,
    "start_time": "2023-05-02T16:43:42.109Z"
   },
   {
    "duration": 21,
    "start_time": "2023-05-02T16:43:42.114Z"
   },
   {
    "duration": 4,
    "start_time": "2023-05-02T16:43:42.137Z"
   },
   {
    "duration": 7,
    "start_time": "2023-05-02T16:43:42.144Z"
   },
   {
    "duration": 36,
    "start_time": "2023-05-02T16:43:42.155Z"
   },
   {
    "duration": 5,
    "start_time": "2023-05-02T16:43:42.193Z"
   },
   {
    "duration": 15,
    "start_time": "2023-05-02T16:43:42.200Z"
   },
   {
    "duration": 28,
    "start_time": "2023-05-02T16:43:42.217Z"
   },
   {
    "duration": 122,
    "start_time": "2023-05-02T16:43:42.247Z"
   },
   {
    "duration": 0,
    "start_time": "2023-05-02T16:43:42.370Z"
   },
   {
    "duration": 0,
    "start_time": "2023-05-02T16:43:42.371Z"
   },
   {
    "duration": 0,
    "start_time": "2023-05-02T16:43:42.372Z"
   },
   {
    "duration": 0,
    "start_time": "2023-05-02T16:43:42.373Z"
   },
   {
    "duration": 0,
    "start_time": "2023-05-02T16:43:42.374Z"
   },
   {
    "duration": 0,
    "start_time": "2023-05-02T16:43:42.375Z"
   },
   {
    "duration": 0,
    "start_time": "2023-05-02T16:43:42.377Z"
   },
   {
    "duration": 0,
    "start_time": "2023-05-02T16:43:42.377Z"
   },
   {
    "duration": 0,
    "start_time": "2023-05-02T16:43:42.379Z"
   },
   {
    "duration": 0,
    "start_time": "2023-05-02T16:43:42.379Z"
   },
   {
    "duration": 57,
    "start_time": "2023-05-02T16:44:36.266Z"
   },
   {
    "duration": 15,
    "start_time": "2023-05-02T16:44:51.752Z"
   },
   {
    "duration": 15,
    "start_time": "2023-05-02T16:46:30.394Z"
   },
   {
    "duration": 15,
    "start_time": "2023-05-02T16:48:46.583Z"
   },
   {
    "duration": 5,
    "start_time": "2023-05-02T16:49:05.294Z"
   },
   {
    "duration": 4,
    "start_time": "2023-05-02T16:49:11.807Z"
   },
   {
    "duration": 15,
    "start_time": "2023-05-02T16:51:25.077Z"
   },
   {
    "duration": 19,
    "start_time": "2023-05-02T16:51:42.453Z"
   },
   {
    "duration": 17,
    "start_time": "2023-05-02T16:52:10.593Z"
   },
   {
    "duration": 25,
    "start_time": "2023-05-02T16:53:00.650Z"
   },
   {
    "duration": 23,
    "start_time": "2023-05-02T16:53:01.200Z"
   },
   {
    "duration": 18,
    "start_time": "2023-05-02T16:53:02.229Z"
   },
   {
    "duration": 1435,
    "start_time": "2023-05-02T16:54:00.728Z"
   },
   {
    "duration": 41,
    "start_time": "2023-05-02T16:54:02.165Z"
   },
   {
    "duration": 13,
    "start_time": "2023-05-02T16:54:02.208Z"
   },
   {
    "duration": 6,
    "start_time": "2023-05-02T16:54:02.223Z"
   },
   {
    "duration": 16,
    "start_time": "2023-05-02T16:54:02.231Z"
   },
   {
    "duration": 17,
    "start_time": "2023-05-02T16:54:02.249Z"
   },
   {
    "duration": 30,
    "start_time": "2023-05-02T16:54:02.268Z"
   },
   {
    "duration": 24,
    "start_time": "2023-05-02T16:54:02.299Z"
   },
   {
    "duration": 369,
    "start_time": "2023-05-02T16:54:02.324Z"
   },
   {
    "duration": 7,
    "start_time": "2023-05-02T16:54:02.696Z"
   },
   {
    "duration": 23,
    "start_time": "2023-05-02T16:54:02.705Z"
   },
   {
    "duration": 11,
    "start_time": "2023-05-02T16:54:02.730Z"
   },
   {
    "duration": 20,
    "start_time": "2023-05-02T16:54:02.743Z"
   },
   {
    "duration": 139,
    "start_time": "2023-05-02T16:54:02.765Z"
   },
   {
    "duration": 4,
    "start_time": "2023-05-02T16:54:02.905Z"
   },
   {
    "duration": 19,
    "start_time": "2023-05-02T16:54:02.911Z"
   },
   {
    "duration": 7,
    "start_time": "2023-05-02T16:54:02.935Z"
   },
   {
    "duration": 7,
    "start_time": "2023-05-02T16:54:02.944Z"
   },
   {
    "duration": 32,
    "start_time": "2023-05-02T16:54:02.953Z"
   },
   {
    "duration": 8,
    "start_time": "2023-05-02T16:54:02.987Z"
   },
   {
    "duration": 4101,
    "start_time": "2023-05-02T16:54:02.996Z"
   },
   {
    "duration": 3,
    "start_time": "2023-05-02T16:54:07.099Z"
   },
   {
    "duration": 28233,
    "start_time": "2023-05-02T16:54:07.103Z"
   },
   {
    "duration": 4,
    "start_time": "2023-05-02T16:54:35.338Z"
   },
   {
    "duration": 34,
    "start_time": "2023-05-02T16:54:35.344Z"
   },
   {
    "duration": 61,
    "start_time": "2023-05-02T16:54:35.379Z"
   },
   {
    "duration": 36,
    "start_time": "2023-05-02T16:54:35.442Z"
   },
   {
    "duration": 32,
    "start_time": "2023-05-02T16:54:35.482Z"
   },
   {
    "duration": 56,
    "start_time": "2023-05-02T16:54:35.515Z"
   },
   {
    "duration": 55,
    "start_time": "2023-05-02T16:54:35.573Z"
   },
   {
    "duration": 46,
    "start_time": "2023-05-02T16:54:35.630Z"
   },
   {
    "duration": 33,
    "start_time": "2023-05-02T16:54:35.677Z"
   },
   {
    "duration": 39,
    "start_time": "2023-05-02T16:54:35.712Z"
   },
   {
    "duration": 394,
    "start_time": "2023-05-02T16:54:35.753Z"
   },
   {
    "duration": 9,
    "start_time": "2023-05-02T16:54:36.148Z"
   },
   {
    "duration": 45,
    "start_time": "2023-05-02T16:54:36.159Z"
   },
   {
    "duration": 0,
    "start_time": "2023-05-02T16:54:36.206Z"
   },
   {
    "duration": 0,
    "start_time": "2023-05-02T16:54:36.207Z"
   },
   {
    "duration": 0,
    "start_time": "2023-05-02T16:54:36.208Z"
   },
   {
    "duration": 0,
    "start_time": "2023-05-02T16:54:36.209Z"
   },
   {
    "duration": 0,
    "start_time": "2023-05-02T16:54:36.210Z"
   },
   {
    "duration": 1393,
    "start_time": "2023-05-02T16:57:24.200Z"
   },
   {
    "duration": 40,
    "start_time": "2023-05-02T16:57:25.595Z"
   },
   {
    "duration": 11,
    "start_time": "2023-05-02T16:57:25.637Z"
   },
   {
    "duration": 18,
    "start_time": "2023-05-02T16:57:25.650Z"
   },
   {
    "duration": 20,
    "start_time": "2023-05-02T16:57:25.671Z"
   },
   {
    "duration": 15,
    "start_time": "2023-05-02T16:57:25.692Z"
   },
   {
    "duration": 41,
    "start_time": "2023-05-02T16:57:25.708Z"
   },
   {
    "duration": 15,
    "start_time": "2023-05-02T16:57:25.751Z"
   },
   {
    "duration": 382,
    "start_time": "2023-05-02T16:57:25.768Z"
   },
   {
    "duration": 7,
    "start_time": "2023-05-02T16:57:26.152Z"
   },
   {
    "duration": 14,
    "start_time": "2023-05-02T16:57:26.161Z"
   },
   {
    "duration": 15,
    "start_time": "2023-05-02T16:57:26.177Z"
   },
   {
    "duration": 14,
    "start_time": "2023-05-02T16:57:26.194Z"
   },
   {
    "duration": 142,
    "start_time": "2023-05-02T16:57:26.211Z"
   },
   {
    "duration": 3,
    "start_time": "2023-05-02T16:57:26.355Z"
   },
   {
    "duration": 12,
    "start_time": "2023-05-02T16:57:26.360Z"
   },
   {
    "duration": 9,
    "start_time": "2023-05-02T16:57:26.373Z"
   },
   {
    "duration": 7,
    "start_time": "2023-05-02T16:57:26.384Z"
   },
   {
    "duration": 47,
    "start_time": "2023-05-02T16:57:26.392Z"
   },
   {
    "duration": 7,
    "start_time": "2023-05-02T16:57:26.441Z"
   },
   {
    "duration": 3876,
    "start_time": "2023-05-02T16:57:26.450Z"
   },
   {
    "duration": 9,
    "start_time": "2023-05-02T16:57:30.327Z"
   },
   {
    "duration": 27873,
    "start_time": "2023-05-02T16:57:30.337Z"
   },
   {
    "duration": 4,
    "start_time": "2023-05-02T16:57:58.211Z"
   },
   {
    "duration": 33,
    "start_time": "2023-05-02T16:57:58.216Z"
   },
   {
    "duration": 27,
    "start_time": "2023-05-02T16:57:58.250Z"
   },
   {
    "duration": 22,
    "start_time": "2023-05-02T16:57:58.278Z"
   },
   {
    "duration": 28,
    "start_time": "2023-05-02T16:57:58.301Z"
   },
   {
    "duration": 25,
    "start_time": "2023-05-02T16:57:58.331Z"
   },
   {
    "duration": 38,
    "start_time": "2023-05-02T16:57:58.358Z"
   },
   {
    "duration": 42,
    "start_time": "2023-05-02T16:57:58.398Z"
   },
   {
    "duration": 19,
    "start_time": "2023-05-02T16:57:58.441Z"
   },
   {
    "duration": 67,
    "start_time": "2023-05-02T16:57:58.461Z"
   },
   {
    "duration": 376,
    "start_time": "2023-05-02T16:57:58.529Z"
   },
   {
    "duration": 9,
    "start_time": "2023-05-02T16:57:58.906Z"
   },
   {
    "duration": 68,
    "start_time": "2023-05-02T16:57:58.916Z"
   },
   {
    "duration": 0,
    "start_time": "2023-05-02T16:57:58.985Z"
   },
   {
    "duration": 0,
    "start_time": "2023-05-02T16:57:58.986Z"
   },
   {
    "duration": 0,
    "start_time": "2023-05-02T16:57:58.987Z"
   },
   {
    "duration": 0,
    "start_time": "2023-05-02T16:57:58.988Z"
   },
   {
    "duration": 0,
    "start_time": "2023-05-02T16:57:58.989Z"
   },
   {
    "duration": 223,
    "start_time": "2023-05-02T16:58:58.270Z"
   },
   {
    "duration": 11,
    "start_time": "2023-05-02T16:58:58.909Z"
   },
   {
    "duration": 255,
    "start_time": "2023-05-02T17:00:12.279Z"
   },
   {
    "duration": 10,
    "start_time": "2023-05-02T17:00:13.564Z"
   },
   {
    "duration": 151,
    "start_time": "2023-05-02T17:01:46.262Z"
   },
   {
    "duration": 557,
    "start_time": "2023-05-02T17:01:56.667Z"
   },
   {
    "duration": 4,
    "start_time": "2023-05-02T17:02:01.770Z"
   },
   {
    "duration": 583,
    "start_time": "2023-05-02T17:02:08.081Z"
   },
   {
    "duration": 4,
    "start_time": "2023-05-02T17:02:09.535Z"
   },
   {
    "duration": 5935,
    "start_time": "2023-05-02T17:02:37.600Z"
   },
   {
    "duration": 3,
    "start_time": "2023-05-02T17:02:43.537Z"
   },
   {
    "duration": 342,
    "start_time": "2023-05-02T17:03:25.754Z"
   },
   {
    "duration": 10,
    "start_time": "2023-05-02T17:03:26.945Z"
   },
   {
    "duration": 166,
    "start_time": "2023-05-02T17:04:12.452Z"
   },
   {
    "duration": 10,
    "start_time": "2023-05-02T17:04:13.339Z"
   },
   {
    "duration": 121,
    "start_time": "2023-05-02T17:05:37.060Z"
   },
   {
    "duration": 6,
    "start_time": "2023-05-02T17:05:43.435Z"
   },
   {
    "duration": 373,
    "start_time": "2023-05-02T17:05:44.610Z"
   },
   {
    "duration": 130,
    "start_time": "2023-05-02T17:07:10.223Z"
   },
   {
    "duration": 387,
    "start_time": "2023-05-02T17:09:25.639Z"
   },
   {
    "duration": 4,
    "start_time": "2023-05-02T17:23:48.773Z"
   },
   {
    "duration": 4,
    "start_time": "2023-05-02T17:23:59.266Z"
   },
   {
    "duration": 1309,
    "start_time": "2023-05-02T17:24:04.583Z"
   },
   {
    "duration": 40,
    "start_time": "2023-05-02T17:24:05.894Z"
   },
   {
    "duration": 12,
    "start_time": "2023-05-02T17:24:05.936Z"
   },
   {
    "duration": 15,
    "start_time": "2023-05-02T17:24:05.949Z"
   },
   {
    "duration": 7,
    "start_time": "2023-05-02T17:24:05.967Z"
   },
   {
    "duration": 5,
    "start_time": "2023-05-02T17:24:05.976Z"
   },
   {
    "duration": 38,
    "start_time": "2023-05-02T17:24:05.982Z"
   },
   {
    "duration": 6,
    "start_time": "2023-05-02T17:24:06.022Z"
   },
   {
    "duration": 370,
    "start_time": "2023-05-02T17:24:06.030Z"
   },
   {
    "duration": 8,
    "start_time": "2023-05-02T17:24:06.402Z"
   },
   {
    "duration": 24,
    "start_time": "2023-05-02T17:24:06.411Z"
   },
   {
    "duration": 8,
    "start_time": "2023-05-02T17:24:06.437Z"
   },
   {
    "duration": 17,
    "start_time": "2023-05-02T17:24:06.446Z"
   },
   {
    "duration": 135,
    "start_time": "2023-05-02T17:24:06.466Z"
   },
   {
    "duration": 2,
    "start_time": "2023-05-02T17:24:06.603Z"
   },
   {
    "duration": 15,
    "start_time": "2023-05-02T17:24:06.606Z"
   },
   {
    "duration": 12,
    "start_time": "2023-05-02T17:24:06.623Z"
   },
   {
    "duration": 15,
    "start_time": "2023-05-02T17:24:06.636Z"
   },
   {
    "duration": 22,
    "start_time": "2023-05-02T17:24:06.652Z"
   },
   {
    "duration": 6,
    "start_time": "2023-05-02T17:24:06.676Z"
   },
   {
    "duration": 607,
    "start_time": "2023-05-02T17:24:06.684Z"
   },
   {
    "duration": 4,
    "start_time": "2023-05-02T17:24:07.292Z"
   },
   {
    "duration": 5869,
    "start_time": "2023-05-02T17:24:07.298Z"
   },
   {
    "duration": 3,
    "start_time": "2023-05-02T17:24:13.169Z"
   },
   {
    "duration": 24,
    "start_time": "2023-05-02T17:24:13.174Z"
   },
   {
    "duration": 16,
    "start_time": "2023-05-02T17:24:13.199Z"
   },
   {
    "duration": 29,
    "start_time": "2023-05-02T17:24:13.216Z"
   },
   {
    "duration": 3,
    "start_time": "2023-05-02T17:24:13.247Z"
   },
   {
    "duration": 7,
    "start_time": "2023-05-02T17:24:13.252Z"
   },
   {
    "duration": 15,
    "start_time": "2023-05-02T17:24:13.260Z"
   },
   {
    "duration": 4,
    "start_time": "2023-05-02T17:24:13.277Z"
   },
   {
    "duration": 20,
    "start_time": "2023-05-02T17:24:13.282Z"
   },
   {
    "duration": 356,
    "start_time": "2023-05-02T17:24:13.303Z"
   },
   {
    "duration": 10,
    "start_time": "2023-05-02T17:24:13.661Z"
   },
   {
    "duration": 172,
    "start_time": "2023-05-02T17:24:13.672Z"
   },
   {
    "duration": 8,
    "start_time": "2023-05-02T17:24:13.845Z"
   },
   {
    "duration": 204,
    "start_time": "2023-05-02T17:24:13.855Z"
   },
   {
    "duration": 6,
    "start_time": "2023-05-02T17:24:14.060Z"
   },
   {
    "duration": 392,
    "start_time": "2023-05-02T17:24:14.068Z"
   },
   {
    "duration": 5060,
    "start_time": "2023-05-03T06:07:19.086Z"
   },
   {
    "duration": 74,
    "start_time": "2023-05-03T06:07:24.185Z"
   },
   {
    "duration": 62,
    "start_time": "2023-05-03T06:07:24.261Z"
   },
   {
    "duration": 9,
    "start_time": "2023-05-03T06:07:24.326Z"
   },
   {
    "duration": 53,
    "start_time": "2023-05-03T06:07:24.338Z"
   },
   {
    "duration": 9,
    "start_time": "2023-05-03T06:07:24.397Z"
   },
   {
    "duration": 86,
    "start_time": "2023-05-03T06:07:24.409Z"
   },
   {
    "duration": 13,
    "start_time": "2023-05-03T06:07:24.497Z"
   },
   {
    "duration": 913,
    "start_time": "2023-05-03T06:07:24.512Z"
   },
   {
    "duration": 70,
    "start_time": "2023-05-03T06:07:25.428Z"
   },
   {
    "duration": 23,
    "start_time": "2023-05-03T06:07:25.505Z"
   },
   {
    "duration": 23,
    "start_time": "2023-05-03T06:07:25.594Z"
   },
   {
    "duration": 78,
    "start_time": "2023-05-03T06:07:25.627Z"
   },
   {
    "duration": 482,
    "start_time": "2023-05-03T06:07:25.713Z"
   },
   {
    "duration": 9,
    "start_time": "2023-05-03T06:07:26.200Z"
   },
   {
    "duration": 90,
    "start_time": "2023-05-03T06:07:26.211Z"
   },
   {
    "duration": 82,
    "start_time": "2023-05-03T06:07:26.310Z"
   },
   {
    "duration": 19,
    "start_time": "2023-05-03T06:07:26.393Z"
   },
   {
    "duration": 114,
    "start_time": "2023-05-03T06:07:26.414Z"
   },
   {
    "duration": 68,
    "start_time": "2023-05-03T06:07:26.530Z"
   },
   {
    "duration": 1994,
    "start_time": "2023-05-03T06:07:26.615Z"
   },
   {
    "duration": 20,
    "start_time": "2023-05-03T06:07:28.611Z"
   },
   {
    "duration": 20637,
    "start_time": "2023-05-03T06:07:28.689Z"
   },
   {
    "duration": 18,
    "start_time": "2023-05-03T06:07:49.393Z"
   },
   {
    "duration": 125,
    "start_time": "2023-05-03T06:07:49.413Z"
   },
   {
    "duration": 206,
    "start_time": "2023-05-03T06:07:49.540Z"
   },
   {
    "duration": 142,
    "start_time": "2023-05-03T06:07:49.757Z"
   },
   {
    "duration": 18,
    "start_time": "2023-05-03T06:07:49.916Z"
   },
   {
    "duration": 47,
    "start_time": "2023-05-03T06:07:49.940Z"
   },
   {
    "duration": 37,
    "start_time": "2023-05-03T06:07:50.004Z"
   },
   {
    "duration": 15,
    "start_time": "2023-05-03T06:07:50.093Z"
   },
   {
    "duration": 73,
    "start_time": "2023-05-03T06:07:50.123Z"
   },
   {
    "duration": 1634,
    "start_time": "2023-05-03T06:07:50.202Z"
   },
   {
    "duration": 30,
    "start_time": "2023-05-03T06:07:51.900Z"
   },
   {
    "duration": 729,
    "start_time": "2023-05-03T06:07:52.012Z"
   },
   {
    "duration": 54,
    "start_time": "2023-05-03T06:07:52.744Z"
   },
   {
    "duration": 699,
    "start_time": "2023-05-03T06:07:52.800Z"
   },
   {
    "duration": 14,
    "start_time": "2023-05-03T06:07:53.505Z"
   },
   {
    "duration": 907,
    "start_time": "2023-05-03T06:07:53.528Z"
   },
   {
    "duration": 49,
    "start_time": "2023-05-03T17:20:57.930Z"
   },
   {
    "duration": 1751,
    "start_time": "2023-05-03T17:21:05.452Z"
   },
   {
    "duration": 83,
    "start_time": "2023-05-03T17:21:07.207Z"
   },
   {
    "duration": 24,
    "start_time": "2023-05-03T17:21:07.293Z"
   },
   {
    "duration": 7,
    "start_time": "2023-05-03T17:21:07.318Z"
   },
   {
    "duration": 40,
    "start_time": "2023-05-03T17:21:07.327Z"
   },
   {
    "duration": 4,
    "start_time": "2023-05-03T17:21:07.369Z"
   },
   {
    "duration": 36,
    "start_time": "2023-05-03T17:21:07.374Z"
   },
   {
    "duration": 8,
    "start_time": "2023-05-03T17:21:07.412Z"
   },
   {
    "duration": 505,
    "start_time": "2023-05-03T17:21:07.423Z"
   },
   {
    "duration": 9,
    "start_time": "2023-05-03T17:21:07.929Z"
   },
   {
    "duration": 10,
    "start_time": "2023-05-03T17:21:07.939Z"
   },
   {
    "duration": 10,
    "start_time": "2023-05-03T17:21:07.951Z"
   },
   {
    "duration": 35,
    "start_time": "2023-05-03T17:21:07.963Z"
   },
   {
    "duration": 169,
    "start_time": "2023-05-03T17:21:08.003Z"
   },
   {
    "duration": 3,
    "start_time": "2023-05-03T17:21:08.174Z"
   },
   {
    "duration": 38,
    "start_time": "2023-05-03T17:21:08.179Z"
   },
   {
    "duration": 21,
    "start_time": "2023-05-03T17:21:08.219Z"
   },
   {
    "duration": 18,
    "start_time": "2023-05-03T17:21:08.241Z"
   },
   {
    "duration": 24,
    "start_time": "2023-05-03T17:21:08.262Z"
   },
   {
    "duration": 16,
    "start_time": "2023-05-03T17:21:08.288Z"
   },
   {
    "duration": 691,
    "start_time": "2023-05-03T17:21:08.306Z"
   },
   {
    "duration": 5,
    "start_time": "2023-05-03T17:21:08.999Z"
   },
   {
    "duration": 8760,
    "start_time": "2023-05-03T17:21:09.006Z"
   },
   {
    "duration": 4,
    "start_time": "2023-05-03T17:21:17.767Z"
   },
   {
    "duration": 33,
    "start_time": "2023-05-03T17:21:17.785Z"
   },
   {
    "duration": 11,
    "start_time": "2023-05-03T17:21:17.820Z"
   },
   {
    "duration": 27,
    "start_time": "2023-05-03T17:21:17.833Z"
   },
   {
    "duration": 8,
    "start_time": "2023-05-03T17:21:17.861Z"
   },
   {
    "duration": 24,
    "start_time": "2023-05-03T17:21:17.871Z"
   },
   {
    "duration": 15,
    "start_time": "2023-05-03T17:21:17.904Z"
   },
   {
    "duration": 6,
    "start_time": "2023-05-03T17:21:17.920Z"
   },
   {
    "duration": 24,
    "start_time": "2023-05-03T17:21:17.928Z"
   },
   {
    "duration": 552,
    "start_time": "2023-05-03T17:21:17.953Z"
   },
   {
    "duration": 11,
    "start_time": "2023-05-03T17:21:18.513Z"
   },
   {
    "duration": 229,
    "start_time": "2023-05-03T17:21:18.526Z"
   },
   {
    "duration": 9,
    "start_time": "2023-05-03T17:21:18.757Z"
   },
   {
    "duration": 251,
    "start_time": "2023-05-03T17:21:18.768Z"
   },
   {
    "duration": 5,
    "start_time": "2023-05-03T17:21:19.021Z"
   },
   {
    "duration": 373,
    "start_time": "2023-05-03T17:21:19.028Z"
   },
   {
    "duration": 3,
    "start_time": "2023-05-03T17:24:25.145Z"
   },
   {
    "duration": 73,
    "start_time": "2023-05-03T17:42:12.667Z"
   },
   {
    "duration": 1343,
    "start_time": "2023-05-03T17:53:10.722Z"
   },
   {
    "duration": 1532,
    "start_time": "2023-05-03T17:53:24.275Z"
   },
   {
    "duration": 38,
    "start_time": "2023-05-03T17:53:25.809Z"
   },
   {
    "duration": 13,
    "start_time": "2023-05-03T17:53:25.849Z"
   },
   {
    "duration": 6,
    "start_time": "2023-05-03T17:53:25.864Z"
   },
   {
    "duration": 15,
    "start_time": "2023-05-03T17:53:25.873Z"
   },
   {
    "duration": 5,
    "start_time": "2023-05-03T17:53:25.890Z"
   },
   {
    "duration": 4,
    "start_time": "2023-05-03T17:53:25.897Z"
   },
   {
    "duration": 20,
    "start_time": "2023-05-03T17:53:25.903Z"
   },
   {
    "duration": 6,
    "start_time": "2023-05-03T17:53:25.924Z"
   },
   {
    "duration": 432,
    "start_time": "2023-05-03T17:53:25.932Z"
   },
   {
    "duration": 27,
    "start_time": "2023-05-03T17:53:26.366Z"
   },
   {
    "duration": 9,
    "start_time": "2023-05-03T17:53:26.395Z"
   },
   {
    "duration": 30,
    "start_time": "2023-05-03T17:53:26.406Z"
   },
   {
    "duration": 15,
    "start_time": "2023-05-03T17:53:26.441Z"
   },
   {
    "duration": 160,
    "start_time": "2023-05-03T17:53:26.458Z"
   },
   {
    "duration": 3,
    "start_time": "2023-05-03T17:53:26.620Z"
   },
   {
    "duration": 15,
    "start_time": "2023-05-03T17:53:26.625Z"
   },
   {
    "duration": 13,
    "start_time": "2023-05-03T17:53:26.642Z"
   },
   {
    "duration": 29,
    "start_time": "2023-05-03T17:53:26.657Z"
   },
   {
    "duration": 3,
    "start_time": "2023-05-03T17:53:26.688Z"
   },
   {
    "duration": 15,
    "start_time": "2023-05-03T17:53:26.693Z"
   },
   {
    "duration": 403,
    "start_time": "2023-05-03T17:53:26.710Z"
   },
   {
    "duration": 0,
    "start_time": "2023-05-03T17:53:27.116Z"
   },
   {
    "duration": 0,
    "start_time": "2023-05-03T17:53:27.117Z"
   },
   {
    "duration": 0,
    "start_time": "2023-05-03T17:53:27.118Z"
   },
   {
    "duration": 0,
    "start_time": "2023-05-03T17:53:27.119Z"
   },
   {
    "duration": 0,
    "start_time": "2023-05-03T17:53:27.121Z"
   },
   {
    "duration": 0,
    "start_time": "2023-05-03T17:53:27.122Z"
   },
   {
    "duration": 0,
    "start_time": "2023-05-03T17:53:27.123Z"
   },
   {
    "duration": 0,
    "start_time": "2023-05-03T17:53:27.128Z"
   },
   {
    "duration": 0,
    "start_time": "2023-05-03T17:53:27.129Z"
   },
   {
    "duration": 0,
    "start_time": "2023-05-03T17:53:27.131Z"
   },
   {
    "duration": 0,
    "start_time": "2023-05-03T17:53:27.133Z"
   },
   {
    "duration": 0,
    "start_time": "2023-05-03T17:53:27.134Z"
   },
   {
    "duration": 0,
    "start_time": "2023-05-03T17:53:27.136Z"
   },
   {
    "duration": 0,
    "start_time": "2023-05-03T17:53:27.138Z"
   },
   {
    "duration": 0,
    "start_time": "2023-05-03T17:53:27.139Z"
   },
   {
    "duration": 0,
    "start_time": "2023-05-03T17:53:27.141Z"
   },
   {
    "duration": 0,
    "start_time": "2023-05-03T17:53:27.185Z"
   },
   {
    "duration": 0,
    "start_time": "2023-05-03T17:53:27.187Z"
   },
   {
    "duration": 1294,
    "start_time": "2023-05-03T17:56:38.440Z"
   },
   {
    "duration": 1510,
    "start_time": "2023-05-03T17:56:50.569Z"
   },
   {
    "duration": 36,
    "start_time": "2023-05-03T17:56:52.081Z"
   },
   {
    "duration": 15,
    "start_time": "2023-05-03T17:56:52.118Z"
   },
   {
    "duration": 6,
    "start_time": "2023-05-03T17:56:52.137Z"
   },
   {
    "duration": 13,
    "start_time": "2023-05-03T17:56:52.145Z"
   },
   {
    "duration": 25,
    "start_time": "2023-05-03T17:56:52.160Z"
   },
   {
    "duration": 4,
    "start_time": "2023-05-03T17:56:52.187Z"
   },
   {
    "duration": 18,
    "start_time": "2023-05-03T17:56:52.192Z"
   },
   {
    "duration": 4,
    "start_time": "2023-05-03T17:56:52.212Z"
   },
   {
    "duration": 430,
    "start_time": "2023-05-03T17:56:52.218Z"
   },
   {
    "duration": 26,
    "start_time": "2023-05-03T17:56:52.650Z"
   },
   {
    "duration": 10,
    "start_time": "2023-05-03T17:56:52.677Z"
   },
   {
    "duration": 16,
    "start_time": "2023-05-03T17:56:52.688Z"
   },
   {
    "duration": 16,
    "start_time": "2023-05-03T17:56:52.706Z"
   },
   {
    "duration": 243,
    "start_time": "2023-05-03T17:56:52.723Z"
   },
   {
    "duration": 4,
    "start_time": "2023-05-03T17:56:52.968Z"
   },
   {
    "duration": 33,
    "start_time": "2023-05-03T17:56:52.974Z"
   },
   {
    "duration": 14,
    "start_time": "2023-05-03T17:56:53.008Z"
   },
   {
    "duration": 11,
    "start_time": "2023-05-03T17:56:53.024Z"
   },
   {
    "duration": 2,
    "start_time": "2023-05-03T17:56:53.038Z"
   },
   {
    "duration": 10,
    "start_time": "2023-05-03T17:56:53.043Z"
   },
   {
    "duration": 348,
    "start_time": "2023-05-03T17:56:53.084Z"
   },
   {
    "duration": 1,
    "start_time": "2023-05-03T17:56:53.433Z"
   },
   {
    "duration": 0,
    "start_time": "2023-05-03T17:56:53.435Z"
   },
   {
    "duration": 0,
    "start_time": "2023-05-03T17:56:53.436Z"
   },
   {
    "duration": 0,
    "start_time": "2023-05-03T17:56:53.437Z"
   },
   {
    "duration": 0,
    "start_time": "2023-05-03T17:56:53.439Z"
   },
   {
    "duration": 0,
    "start_time": "2023-05-03T17:56:53.440Z"
   },
   {
    "duration": 0,
    "start_time": "2023-05-03T17:56:53.441Z"
   },
   {
    "duration": 0,
    "start_time": "2023-05-03T17:56:53.442Z"
   },
   {
    "duration": 0,
    "start_time": "2023-05-03T17:56:53.443Z"
   },
   {
    "duration": 0,
    "start_time": "2023-05-03T17:56:53.444Z"
   },
   {
    "duration": 0,
    "start_time": "2023-05-03T17:56:53.445Z"
   },
   {
    "duration": 0,
    "start_time": "2023-05-03T17:56:53.446Z"
   },
   {
    "duration": 0,
    "start_time": "2023-05-03T17:56:53.447Z"
   },
   {
    "duration": 0,
    "start_time": "2023-05-03T17:56:53.448Z"
   },
   {
    "duration": 0,
    "start_time": "2023-05-03T17:56:53.450Z"
   },
   {
    "duration": 0,
    "start_time": "2023-05-03T17:56:53.451Z"
   },
   {
    "duration": 0,
    "start_time": "2023-05-03T17:56:53.485Z"
   },
   {
    "duration": 0,
    "start_time": "2023-05-03T17:56:53.487Z"
   },
   {
    "duration": 1190,
    "start_time": "2023-05-03T17:57:25.507Z"
   },
   {
    "duration": 1600,
    "start_time": "2023-05-03T17:57:32.546Z"
   },
   {
    "duration": 56,
    "start_time": "2023-05-03T17:57:34.150Z"
   },
   {
    "duration": 21,
    "start_time": "2023-05-03T17:57:34.208Z"
   },
   {
    "duration": 11,
    "start_time": "2023-05-03T17:57:34.231Z"
   },
   {
    "duration": 12,
    "start_time": "2023-05-03T17:57:34.244Z"
   },
   {
    "duration": 7,
    "start_time": "2023-05-03T17:57:34.284Z"
   },
   {
    "duration": 16,
    "start_time": "2023-05-03T17:57:34.293Z"
   },
   {
    "duration": 25,
    "start_time": "2023-05-03T17:57:34.311Z"
   },
   {
    "duration": 4,
    "start_time": "2023-05-03T17:57:34.338Z"
   },
   {
    "duration": 551,
    "start_time": "2023-05-03T17:57:34.345Z"
   },
   {
    "duration": 31,
    "start_time": "2023-05-03T17:57:34.898Z"
   },
   {
    "duration": 12,
    "start_time": "2023-05-03T17:57:34.931Z"
   },
   {
    "duration": 27,
    "start_time": "2023-05-03T17:57:34.945Z"
   },
   {
    "duration": 31,
    "start_time": "2023-05-03T17:57:34.973Z"
   },
   {
    "duration": 154,
    "start_time": "2023-05-03T17:57:35.006Z"
   },
   {
    "duration": 4,
    "start_time": "2023-05-03T17:57:35.162Z"
   },
   {
    "duration": 28,
    "start_time": "2023-05-03T17:57:35.170Z"
   },
   {
    "duration": 13,
    "start_time": "2023-05-03T17:57:35.200Z"
   },
   {
    "duration": 18,
    "start_time": "2023-05-03T17:57:35.214Z"
   },
   {
    "duration": 13,
    "start_time": "2023-05-03T17:57:35.234Z"
   },
   {
    "duration": 19,
    "start_time": "2023-05-03T17:57:35.249Z"
   },
   {
    "duration": 371,
    "start_time": "2023-05-03T17:57:35.285Z"
   },
   {
    "duration": 0,
    "start_time": "2023-05-03T17:57:35.658Z"
   },
   {
    "duration": 0,
    "start_time": "2023-05-03T17:57:35.659Z"
   },
   {
    "duration": 0,
    "start_time": "2023-05-03T17:57:35.661Z"
   },
   {
    "duration": 0,
    "start_time": "2023-05-03T17:57:35.662Z"
   },
   {
    "duration": 0,
    "start_time": "2023-05-03T17:57:35.663Z"
   },
   {
    "duration": 0,
    "start_time": "2023-05-03T17:57:35.664Z"
   },
   {
    "duration": 0,
    "start_time": "2023-05-03T17:57:35.665Z"
   },
   {
    "duration": 0,
    "start_time": "2023-05-03T17:57:35.666Z"
   },
   {
    "duration": 0,
    "start_time": "2023-05-03T17:57:35.685Z"
   },
   {
    "duration": 0,
    "start_time": "2023-05-03T17:57:35.686Z"
   },
   {
    "duration": 0,
    "start_time": "2023-05-03T17:57:35.688Z"
   },
   {
    "duration": 0,
    "start_time": "2023-05-03T17:57:35.689Z"
   },
   {
    "duration": 0,
    "start_time": "2023-05-03T17:57:35.690Z"
   },
   {
    "duration": 0,
    "start_time": "2023-05-03T17:57:35.691Z"
   },
   {
    "duration": 0,
    "start_time": "2023-05-03T17:57:35.693Z"
   },
   {
    "duration": 0,
    "start_time": "2023-05-03T17:57:35.694Z"
   },
   {
    "duration": 0,
    "start_time": "2023-05-03T17:57:35.695Z"
   },
   {
    "duration": 0,
    "start_time": "2023-05-03T17:57:35.696Z"
   },
   {
    "duration": 10,
    "start_time": "2023-05-03T18:17:26.946Z"
   },
   {
    "duration": 9,
    "start_time": "2023-05-03T18:17:37.711Z"
   },
   {
    "duration": 1381,
    "start_time": "2023-05-03T18:17:49.522Z"
   },
   {
    "duration": 37,
    "start_time": "2023-05-03T18:17:50.905Z"
   },
   {
    "duration": 13,
    "start_time": "2023-05-03T18:17:50.944Z"
   },
   {
    "duration": 20,
    "start_time": "2023-05-03T18:17:50.959Z"
   },
   {
    "duration": 20,
    "start_time": "2023-05-03T18:17:50.981Z"
   },
   {
    "duration": 5,
    "start_time": "2023-05-03T18:17:51.002Z"
   },
   {
    "duration": 12,
    "start_time": "2023-05-03T18:17:51.008Z"
   },
   {
    "duration": 25,
    "start_time": "2023-05-03T18:17:51.021Z"
   },
   {
    "duration": 12,
    "start_time": "2023-05-03T18:17:51.047Z"
   },
   {
    "duration": 7,
    "start_time": "2023-05-03T18:17:51.062Z"
   },
   {
    "duration": 403,
    "start_time": "2023-05-03T18:17:51.085Z"
   },
   {
    "duration": 34,
    "start_time": "2023-05-03T18:17:51.490Z"
   },
   {
    "duration": 8,
    "start_time": "2023-05-03T18:17:51.525Z"
   },
   {
    "duration": 14,
    "start_time": "2023-05-03T18:17:51.535Z"
   },
   {
    "duration": 12,
    "start_time": "2023-05-03T18:17:51.551Z"
   },
   {
    "duration": 154,
    "start_time": "2023-05-03T18:17:51.565Z"
   },
   {
    "duration": 4,
    "start_time": "2023-05-03T18:17:51.720Z"
   },
   {
    "duration": 11,
    "start_time": "2023-05-03T18:17:51.725Z"
   },
   {
    "duration": 8,
    "start_time": "2023-05-03T18:17:51.737Z"
   },
   {
    "duration": 39,
    "start_time": "2023-05-03T18:17:51.747Z"
   },
   {
    "duration": 2,
    "start_time": "2023-05-03T18:17:51.788Z"
   },
   {
    "duration": 10,
    "start_time": "2023-05-03T18:17:51.791Z"
   },
   {
    "duration": 360,
    "start_time": "2023-05-03T18:17:51.802Z"
   },
   {
    "duration": 0,
    "start_time": "2023-05-03T18:17:52.164Z"
   },
   {
    "duration": 0,
    "start_time": "2023-05-03T18:17:52.166Z"
   },
   {
    "duration": 0,
    "start_time": "2023-05-03T18:17:52.167Z"
   },
   {
    "duration": 0,
    "start_time": "2023-05-03T18:17:52.168Z"
   },
   {
    "duration": 0,
    "start_time": "2023-05-03T18:17:52.169Z"
   },
   {
    "duration": 0,
    "start_time": "2023-05-03T18:17:52.171Z"
   },
   {
    "duration": 0,
    "start_time": "2023-05-03T18:17:52.185Z"
   },
   {
    "duration": 0,
    "start_time": "2023-05-03T18:17:52.186Z"
   },
   {
    "duration": 0,
    "start_time": "2023-05-03T18:17:52.187Z"
   },
   {
    "duration": 0,
    "start_time": "2023-05-03T18:17:52.188Z"
   },
   {
    "duration": 0,
    "start_time": "2023-05-03T18:17:52.189Z"
   },
   {
    "duration": 0,
    "start_time": "2023-05-03T18:17:52.190Z"
   },
   {
    "duration": 0,
    "start_time": "2023-05-03T18:17:52.191Z"
   },
   {
    "duration": 0,
    "start_time": "2023-05-03T18:17:52.193Z"
   },
   {
    "duration": 0,
    "start_time": "2023-05-03T18:17:52.194Z"
   },
   {
    "duration": 0,
    "start_time": "2023-05-03T18:17:52.194Z"
   },
   {
    "duration": 0,
    "start_time": "2023-05-03T18:17:52.195Z"
   },
   {
    "duration": 0,
    "start_time": "2023-05-03T18:17:52.196Z"
   },
   {
    "duration": 6,
    "start_time": "2023-05-03T18:19:37.168Z"
   },
   {
    "duration": 9,
    "start_time": "2023-05-03T18:20:31.615Z"
   },
   {
    "duration": 11,
    "start_time": "2023-05-03T18:20:52.542Z"
   },
   {
    "duration": 12,
    "start_time": "2023-05-03T18:24:13.623Z"
   },
   {
    "duration": 4,
    "start_time": "2023-05-03T18:24:22.275Z"
   },
   {
    "duration": 23,
    "start_time": "2023-05-03T18:24:28.029Z"
   },
   {
    "duration": 9,
    "start_time": "2023-05-03T18:30:50.404Z"
   },
   {
    "duration": 12,
    "start_time": "2023-05-03T18:31:07.754Z"
   },
   {
    "duration": 10,
    "start_time": "2023-05-03T18:31:28.507Z"
   },
   {
    "duration": 14,
    "start_time": "2023-05-03T18:31:43.234Z"
   },
   {
    "duration": 1421,
    "start_time": "2023-05-03T19:17:51.445Z"
   },
   {
    "duration": 36,
    "start_time": "2023-05-03T19:17:52.868Z"
   },
   {
    "duration": 13,
    "start_time": "2023-05-03T19:17:52.906Z"
   },
   {
    "duration": 6,
    "start_time": "2023-05-03T19:17:52.921Z"
   },
   {
    "duration": 8,
    "start_time": "2023-05-03T19:17:52.928Z"
   },
   {
    "duration": 6,
    "start_time": "2023-05-03T19:17:52.938Z"
   },
   {
    "duration": 5,
    "start_time": "2023-05-03T19:17:52.946Z"
   },
   {
    "duration": 36,
    "start_time": "2023-05-03T19:17:52.952Z"
   },
   {
    "duration": 10,
    "start_time": "2023-05-03T19:17:52.990Z"
   },
   {
    "duration": 156,
    "start_time": "2023-05-03T19:17:53.003Z"
   },
   {
    "duration": 0,
    "start_time": "2023-05-03T19:17:53.161Z"
   },
   {
    "duration": 0,
    "start_time": "2023-05-03T19:17:53.162Z"
   },
   {
    "duration": 0,
    "start_time": "2023-05-03T19:17:53.164Z"
   },
   {
    "duration": 0,
    "start_time": "2023-05-03T19:17:53.165Z"
   },
   {
    "duration": 0,
    "start_time": "2023-05-03T19:17:53.167Z"
   },
   {
    "duration": 0,
    "start_time": "2023-05-03T19:17:53.185Z"
   },
   {
    "duration": 0,
    "start_time": "2023-05-03T19:17:53.186Z"
   },
   {
    "duration": 0,
    "start_time": "2023-05-03T19:17:53.188Z"
   },
   {
    "duration": 0,
    "start_time": "2023-05-03T19:17:53.189Z"
   },
   {
    "duration": 0,
    "start_time": "2023-05-03T19:17:53.190Z"
   },
   {
    "duration": 0,
    "start_time": "2023-05-03T19:17:53.191Z"
   },
   {
    "duration": 0,
    "start_time": "2023-05-03T19:17:53.192Z"
   },
   {
    "duration": 0,
    "start_time": "2023-05-03T19:17:53.193Z"
   },
   {
    "duration": 0,
    "start_time": "2023-05-03T19:17:53.194Z"
   },
   {
    "duration": 0,
    "start_time": "2023-05-03T19:17:53.195Z"
   },
   {
    "duration": 0,
    "start_time": "2023-05-03T19:17:53.196Z"
   },
   {
    "duration": 0,
    "start_time": "2023-05-03T19:17:53.197Z"
   },
   {
    "duration": 0,
    "start_time": "2023-05-03T19:17:53.199Z"
   },
   {
    "duration": 0,
    "start_time": "2023-05-03T19:17:53.201Z"
   },
   {
    "duration": 0,
    "start_time": "2023-05-03T19:17:53.202Z"
   },
   {
    "duration": 0,
    "start_time": "2023-05-03T19:17:53.202Z"
   },
   {
    "duration": 0,
    "start_time": "2023-05-03T19:17:53.203Z"
   },
   {
    "duration": 0,
    "start_time": "2023-05-03T19:17:53.204Z"
   },
   {
    "duration": 0,
    "start_time": "2023-05-03T19:17:53.205Z"
   },
   {
    "duration": 0,
    "start_time": "2023-05-03T19:17:53.206Z"
   },
   {
    "duration": 0,
    "start_time": "2023-05-03T19:17:53.208Z"
   },
   {
    "duration": 0,
    "start_time": "2023-05-03T19:17:53.209Z"
   },
   {
    "duration": 0,
    "start_time": "2023-05-03T19:17:53.210Z"
   },
   {
    "duration": 0,
    "start_time": "2023-05-03T19:17:53.211Z"
   },
   {
    "duration": 0,
    "start_time": "2023-05-03T19:17:53.212Z"
   },
   {
    "duration": 0,
    "start_time": "2023-05-03T19:17:53.213Z"
   },
   {
    "duration": 0,
    "start_time": "2023-05-03T19:17:53.215Z"
   },
   {
    "duration": 0,
    "start_time": "2023-05-03T19:17:53.216Z"
   },
   {
    "duration": 7,
    "start_time": "2023-05-03T19:19:23.728Z"
   },
   {
    "duration": 7,
    "start_time": "2023-05-03T19:19:58.112Z"
   },
   {
    "duration": 7,
    "start_time": "2023-05-03T19:20:17.484Z"
   },
   {
    "duration": 9,
    "start_time": "2023-05-03T19:20:26.562Z"
   },
   {
    "duration": 7,
    "start_time": "2023-05-03T19:22:18.963Z"
   },
   {
    "duration": 19,
    "start_time": "2023-05-03T19:23:22.496Z"
   },
   {
    "duration": 31,
    "start_time": "2023-05-03T19:23:49.541Z"
   },
   {
    "duration": 18,
    "start_time": "2023-05-03T19:25:00.991Z"
   },
   {
    "duration": 15,
    "start_time": "2023-05-03T19:25:31.019Z"
   },
   {
    "duration": 3,
    "start_time": "2023-05-03T19:26:16.552Z"
   },
   {
    "duration": 14,
    "start_time": "2023-05-03T19:26:30.867Z"
   },
   {
    "duration": 14,
    "start_time": "2023-05-03T19:27:34.424Z"
   },
   {
    "duration": 23,
    "start_time": "2023-05-03T19:29:52.962Z"
   },
   {
    "duration": 70,
    "start_time": "2023-05-03T19:31:25.796Z"
   },
   {
    "duration": 20,
    "start_time": "2023-05-03T19:31:35.758Z"
   },
   {
    "duration": 17,
    "start_time": "2023-05-03T19:31:46.377Z"
   },
   {
    "duration": 20,
    "start_time": "2023-05-03T19:32:09.752Z"
   },
   {
    "duration": 18,
    "start_time": "2023-05-03T19:32:22.052Z"
   },
   {
    "duration": 20,
    "start_time": "2023-05-03T19:32:41.936Z"
   },
   {
    "duration": 18,
    "start_time": "2023-05-03T19:33:00.571Z"
   },
   {
    "duration": 13,
    "start_time": "2023-05-03T19:33:09.218Z"
   },
   {
    "duration": 15,
    "start_time": "2023-05-03T19:33:27.219Z"
   },
   {
    "duration": 3,
    "start_time": "2023-05-03T19:33:39.369Z"
   },
   {
    "duration": 18,
    "start_time": "2023-05-03T19:33:48.476Z"
   },
   {
    "duration": 13,
    "start_time": "2023-05-03T19:33:59.314Z"
   },
   {
    "duration": 6,
    "start_time": "2023-05-03T19:36:01.004Z"
   },
   {
    "duration": 18,
    "start_time": "2023-05-03T19:36:31.257Z"
   },
   {
    "duration": 13,
    "start_time": "2023-05-03T19:36:41.629Z"
   },
   {
    "duration": 8,
    "start_time": "2023-05-03T19:41:12.910Z"
   },
   {
    "duration": 9,
    "start_time": "2023-05-03T19:41:17.484Z"
   },
   {
    "duration": 9,
    "start_time": "2023-05-03T19:44:22.694Z"
   },
   {
    "duration": 11,
    "start_time": "2023-05-03T19:47:25.073Z"
   },
   {
    "duration": 123,
    "start_time": "2023-05-03T19:48:30.954Z"
   },
   {
    "duration": 10,
    "start_time": "2023-05-03T19:48:37.149Z"
   },
   {
    "duration": 5,
    "start_time": "2023-05-04T11:22:40.282Z"
   },
   {
    "duration": 14,
    "start_time": "2023-05-04T11:32:02.713Z"
   },
   {
    "duration": 1285,
    "start_time": "2023-05-04T11:33:59.478Z"
   },
   {
    "duration": 11,
    "start_time": "2023-05-04T11:34:13.905Z"
   },
   {
    "duration": 10,
    "start_time": "2023-05-04T11:35:11.525Z"
   },
   {
    "duration": 20,
    "start_time": "2023-05-04T11:35:54.186Z"
   },
   {
    "duration": 13,
    "start_time": "2023-05-04T11:36:15.933Z"
   },
   {
    "duration": 26,
    "start_time": "2023-05-04T11:45:27.486Z"
   },
   {
    "duration": 1193,
    "start_time": "2023-05-04T11:45:49.037Z"
   },
   {
    "duration": 1564,
    "start_time": "2023-05-04T11:46:25.094Z"
   },
   {
    "duration": 49,
    "start_time": "2023-05-04T11:46:26.661Z"
   },
   {
    "duration": 14,
    "start_time": "2023-05-04T11:46:26.713Z"
   },
   {
    "duration": 7,
    "start_time": "2023-05-04T11:46:26.728Z"
   },
   {
    "duration": 9,
    "start_time": "2023-05-04T11:46:26.737Z"
   },
   {
    "duration": 5,
    "start_time": "2023-05-04T11:46:26.748Z"
   },
   {
    "duration": 6,
    "start_time": "2023-05-04T11:46:26.754Z"
   },
   {
    "duration": 7,
    "start_time": "2023-05-04T11:46:26.790Z"
   },
   {
    "duration": 22,
    "start_time": "2023-05-04T11:46:26.800Z"
   },
   {
    "duration": 153,
    "start_time": "2023-05-04T11:46:26.823Z"
   },
   {
    "duration": 0,
    "start_time": "2023-05-04T11:46:26.978Z"
   },
   {
    "duration": 0,
    "start_time": "2023-05-04T11:46:26.979Z"
   },
   {
    "duration": 0,
    "start_time": "2023-05-04T11:46:26.985Z"
   },
   {
    "duration": 0,
    "start_time": "2023-05-04T11:46:26.986Z"
   },
   {
    "duration": 0,
    "start_time": "2023-05-04T11:46:26.988Z"
   },
   {
    "duration": 0,
    "start_time": "2023-05-04T11:46:26.989Z"
   },
   {
    "duration": 0,
    "start_time": "2023-05-04T11:46:26.991Z"
   },
   {
    "duration": 0,
    "start_time": "2023-05-04T11:46:26.992Z"
   },
   {
    "duration": 0,
    "start_time": "2023-05-04T11:46:26.993Z"
   },
   {
    "duration": 0,
    "start_time": "2023-05-04T11:46:26.994Z"
   },
   {
    "duration": 0,
    "start_time": "2023-05-04T11:46:26.995Z"
   },
   {
    "duration": 0,
    "start_time": "2023-05-04T11:46:26.997Z"
   },
   {
    "duration": 0,
    "start_time": "2023-05-04T11:46:26.998Z"
   },
   {
    "duration": 0,
    "start_time": "2023-05-04T11:46:26.999Z"
   },
   {
    "duration": 0,
    "start_time": "2023-05-04T11:46:27.000Z"
   },
   {
    "duration": 0,
    "start_time": "2023-05-04T11:46:27.001Z"
   },
   {
    "duration": 0,
    "start_time": "2023-05-04T11:46:27.002Z"
   },
   {
    "duration": 0,
    "start_time": "2023-05-04T11:46:27.003Z"
   },
   {
    "duration": 0,
    "start_time": "2023-05-04T11:46:27.004Z"
   },
   {
    "duration": 0,
    "start_time": "2023-05-04T11:46:27.005Z"
   },
   {
    "duration": 0,
    "start_time": "2023-05-04T11:46:27.006Z"
   },
   {
    "duration": 0,
    "start_time": "2023-05-04T11:46:27.008Z"
   },
   {
    "duration": 0,
    "start_time": "2023-05-04T11:46:27.010Z"
   },
   {
    "duration": 0,
    "start_time": "2023-05-04T11:46:27.011Z"
   },
   {
    "duration": 0,
    "start_time": "2023-05-04T11:46:27.013Z"
   },
   {
    "duration": 0,
    "start_time": "2023-05-04T11:46:27.014Z"
   },
   {
    "duration": 0,
    "start_time": "2023-05-04T11:46:27.016Z"
   },
   {
    "duration": 0,
    "start_time": "2023-05-04T11:46:27.018Z"
   },
   {
    "duration": 0,
    "start_time": "2023-05-04T11:46:27.019Z"
   },
   {
    "duration": 0,
    "start_time": "2023-05-04T11:46:27.021Z"
   },
   {
    "duration": 0,
    "start_time": "2023-05-04T11:46:27.022Z"
   },
   {
    "duration": 0,
    "start_time": "2023-05-04T11:46:27.024Z"
   },
   {
    "duration": 0,
    "start_time": "2023-05-04T11:46:27.026Z"
   },
   {
    "duration": 0,
    "start_time": "2023-05-04T11:46:27.027Z"
   },
   {
    "duration": 0,
    "start_time": "2023-05-04T11:46:27.086Z"
   },
   {
    "duration": 0,
    "start_time": "2023-05-04T11:46:27.088Z"
   },
   {
    "duration": 0,
    "start_time": "2023-05-04T11:46:27.090Z"
   },
   {
    "duration": 0,
    "start_time": "2023-05-04T11:46:27.092Z"
   },
   {
    "duration": 1263,
    "start_time": "2023-05-04T11:47:37.584Z"
   },
   {
    "duration": 8,
    "start_time": "2023-05-04T11:48:16.223Z"
   },
   {
    "duration": 1621,
    "start_time": "2023-05-04T11:48:27.040Z"
   },
   {
    "duration": 48,
    "start_time": "2023-05-04T11:48:28.662Z"
   },
   {
    "duration": 16,
    "start_time": "2023-05-04T11:48:28.711Z"
   },
   {
    "duration": 14,
    "start_time": "2023-05-04T11:48:28.730Z"
   },
   {
    "duration": 20,
    "start_time": "2023-05-04T11:48:28.746Z"
   },
   {
    "duration": 14,
    "start_time": "2023-05-04T11:48:28.768Z"
   },
   {
    "duration": 12,
    "start_time": "2023-05-04T11:48:28.784Z"
   },
   {
    "duration": 15,
    "start_time": "2023-05-04T11:48:28.798Z"
   },
   {
    "duration": 24,
    "start_time": "2023-05-04T11:48:28.814Z"
   },
   {
    "duration": 1339,
    "start_time": "2023-05-04T11:48:28.841Z"
   },
   {
    "duration": 0,
    "start_time": "2023-05-04T11:48:30.183Z"
   },
   {
    "duration": 0,
    "start_time": "2023-05-04T11:48:30.186Z"
   },
   {
    "duration": 0,
    "start_time": "2023-05-04T11:48:30.188Z"
   },
   {
    "duration": 0,
    "start_time": "2023-05-04T11:48:30.190Z"
   },
   {
    "duration": 0,
    "start_time": "2023-05-04T11:48:30.192Z"
   },
   {
    "duration": 0,
    "start_time": "2023-05-04T11:48:30.194Z"
   },
   {
    "duration": 0,
    "start_time": "2023-05-04T11:48:30.196Z"
   },
   {
    "duration": 0,
    "start_time": "2023-05-04T11:48:30.198Z"
   },
   {
    "duration": 0,
    "start_time": "2023-05-04T11:48:30.201Z"
   },
   {
    "duration": 0,
    "start_time": "2023-05-04T11:48:30.204Z"
   },
   {
    "duration": 0,
    "start_time": "2023-05-04T11:48:30.205Z"
   },
   {
    "duration": 0,
    "start_time": "2023-05-04T11:48:30.206Z"
   },
   {
    "duration": 0,
    "start_time": "2023-05-04T11:48:30.208Z"
   },
   {
    "duration": 0,
    "start_time": "2023-05-04T11:48:30.209Z"
   },
   {
    "duration": 0,
    "start_time": "2023-05-04T11:48:30.210Z"
   },
   {
    "duration": 0,
    "start_time": "2023-05-04T11:48:30.211Z"
   },
   {
    "duration": 0,
    "start_time": "2023-05-04T11:48:30.213Z"
   },
   {
    "duration": 0,
    "start_time": "2023-05-04T11:48:30.214Z"
   },
   {
    "duration": 0,
    "start_time": "2023-05-04T11:48:30.215Z"
   },
   {
    "duration": 0,
    "start_time": "2023-05-04T11:48:30.216Z"
   },
   {
    "duration": 0,
    "start_time": "2023-05-04T11:48:30.218Z"
   },
   {
    "duration": 0,
    "start_time": "2023-05-04T11:48:30.219Z"
   },
   {
    "duration": 0,
    "start_time": "2023-05-04T11:48:30.220Z"
   },
   {
    "duration": 0,
    "start_time": "2023-05-04T11:48:30.221Z"
   },
   {
    "duration": 0,
    "start_time": "2023-05-04T11:48:30.222Z"
   },
   {
    "duration": 0,
    "start_time": "2023-05-04T11:48:30.223Z"
   },
   {
    "duration": 0,
    "start_time": "2023-05-04T11:48:30.224Z"
   },
   {
    "duration": 0,
    "start_time": "2023-05-04T11:48:30.225Z"
   },
   {
    "duration": 0,
    "start_time": "2023-05-04T11:48:30.287Z"
   },
   {
    "duration": 0,
    "start_time": "2023-05-04T11:48:30.289Z"
   },
   {
    "duration": 0,
    "start_time": "2023-05-04T11:48:30.290Z"
   },
   {
    "duration": 0,
    "start_time": "2023-05-04T11:48:30.291Z"
   },
   {
    "duration": 0,
    "start_time": "2023-05-04T11:48:30.292Z"
   },
   {
    "duration": 0,
    "start_time": "2023-05-04T11:48:30.294Z"
   },
   {
    "duration": 0,
    "start_time": "2023-05-04T11:48:30.296Z"
   },
   {
    "duration": 0,
    "start_time": "2023-05-04T11:48:30.298Z"
   },
   {
    "duration": 0,
    "start_time": "2023-05-04T11:48:30.300Z"
   },
   {
    "duration": 0,
    "start_time": "2023-05-04T11:48:30.302Z"
   },
   {
    "duration": 16,
    "start_time": "2023-05-04T11:49:05.139Z"
   },
   {
    "duration": 30,
    "start_time": "2023-05-04T11:56:58.851Z"
   },
   {
    "duration": 21,
    "start_time": "2023-05-04T11:57:31.059Z"
   },
   {
    "duration": 10,
    "start_time": "2023-05-04T16:22:30.530Z"
   },
   {
    "duration": 22,
    "start_time": "2023-05-04T16:23:36.141Z"
   },
   {
    "duration": 20,
    "start_time": "2023-05-04T16:25:39.407Z"
   },
   {
    "duration": 23,
    "start_time": "2023-05-04T16:26:42.398Z"
   },
   {
    "duration": 19,
    "start_time": "2023-05-04T16:27:50.019Z"
   },
   {
    "duration": 12,
    "start_time": "2023-05-04T16:27:58.452Z"
   },
   {
    "duration": 16,
    "start_time": "2023-05-04T16:52:24.868Z"
   },
   {
    "duration": 73,
    "start_time": "2023-05-04T16:53:18.938Z"
   },
   {
    "duration": 13,
    "start_time": "2023-05-04T16:54:41.569Z"
   },
   {
    "duration": 11,
    "start_time": "2023-05-04T16:55:15.855Z"
   },
   {
    "duration": 14,
    "start_time": "2023-05-04T16:55:29.009Z"
   },
   {
    "duration": 1454,
    "start_time": "2023-05-04T16:56:00.215Z"
   },
   {
    "duration": 38,
    "start_time": "2023-05-04T16:56:01.671Z"
   },
   {
    "duration": 13,
    "start_time": "2023-05-04T16:56:01.710Z"
   },
   {
    "duration": 34,
    "start_time": "2023-05-04T16:56:01.725Z"
   },
   {
    "duration": 45,
    "start_time": "2023-05-04T16:56:01.760Z"
   },
   {
    "duration": 35,
    "start_time": "2023-05-04T16:56:01.806Z"
   },
   {
    "duration": 51,
    "start_time": "2023-05-04T16:56:01.843Z"
   },
   {
    "duration": 31,
    "start_time": "2023-05-04T16:56:01.895Z"
   },
   {
    "duration": 36,
    "start_time": "2023-05-04T16:56:01.928Z"
   },
   {
    "duration": 71,
    "start_time": "2023-05-04T16:56:01.967Z"
   },
   {
    "duration": 120,
    "start_time": "2023-05-04T16:56:02.040Z"
   },
   {
    "duration": 0,
    "start_time": "2023-05-04T16:56:02.163Z"
   },
   {
    "duration": 0,
    "start_time": "2023-05-04T16:56:02.164Z"
   },
   {
    "duration": 0,
    "start_time": "2023-05-04T16:56:02.165Z"
   },
   {
    "duration": 0,
    "start_time": "2023-05-04T16:56:02.166Z"
   },
   {
    "duration": 0,
    "start_time": "2023-05-04T16:56:02.167Z"
   },
   {
    "duration": 0,
    "start_time": "2023-05-04T16:56:02.168Z"
   },
   {
    "duration": 0,
    "start_time": "2023-05-04T16:56:02.169Z"
   },
   {
    "duration": 0,
    "start_time": "2023-05-04T16:56:02.170Z"
   },
   {
    "duration": 0,
    "start_time": "2023-05-04T16:56:02.171Z"
   },
   {
    "duration": 1,
    "start_time": "2023-05-04T16:56:02.185Z"
   },
   {
    "duration": 0,
    "start_time": "2023-05-04T16:56:02.187Z"
   },
   {
    "duration": 0,
    "start_time": "2023-05-04T16:56:02.187Z"
   },
   {
    "duration": 0,
    "start_time": "2023-05-04T16:56:02.188Z"
   },
   {
    "duration": 1,
    "start_time": "2023-05-04T16:56:02.189Z"
   },
   {
    "duration": 0,
    "start_time": "2023-05-04T16:56:02.190Z"
   },
   {
    "duration": 0,
    "start_time": "2023-05-04T16:56:02.191Z"
   },
   {
    "duration": 0,
    "start_time": "2023-05-04T16:56:02.192Z"
   },
   {
    "duration": 0,
    "start_time": "2023-05-04T16:56:02.193Z"
   },
   {
    "duration": 0,
    "start_time": "2023-05-04T16:56:02.194Z"
   },
   {
    "duration": 0,
    "start_time": "2023-05-04T16:56:02.195Z"
   },
   {
    "duration": 0,
    "start_time": "2023-05-04T16:56:02.196Z"
   },
   {
    "duration": 0,
    "start_time": "2023-05-04T16:56:02.197Z"
   },
   {
    "duration": 0,
    "start_time": "2023-05-04T16:56:02.199Z"
   },
   {
    "duration": 0,
    "start_time": "2023-05-04T16:56:02.200Z"
   },
   {
    "duration": 0,
    "start_time": "2023-05-04T16:56:02.201Z"
   },
   {
    "duration": 0,
    "start_time": "2023-05-04T16:56:02.203Z"
   },
   {
    "duration": 0,
    "start_time": "2023-05-04T16:56:02.204Z"
   },
   {
    "duration": 0,
    "start_time": "2023-05-04T16:56:02.205Z"
   },
   {
    "duration": 0,
    "start_time": "2023-05-04T16:56:02.206Z"
   },
   {
    "duration": 0,
    "start_time": "2023-05-04T16:56:02.208Z"
   },
   {
    "duration": 0,
    "start_time": "2023-05-04T16:56:02.209Z"
   },
   {
    "duration": 0,
    "start_time": "2023-05-04T16:56:02.210Z"
   },
   {
    "duration": 0,
    "start_time": "2023-05-04T16:56:02.211Z"
   },
   {
    "duration": 0,
    "start_time": "2023-05-04T16:56:02.212Z"
   },
   {
    "duration": 0,
    "start_time": "2023-05-04T16:56:02.213Z"
   },
   {
    "duration": 0,
    "start_time": "2023-05-04T16:56:02.214Z"
   },
   {
    "duration": 0,
    "start_time": "2023-05-04T16:56:02.215Z"
   },
   {
    "duration": 0,
    "start_time": "2023-05-04T16:56:02.216Z"
   },
   {
    "duration": 14,
    "start_time": "2023-05-04T16:56:26.201Z"
   },
   {
    "duration": 11,
    "start_time": "2023-05-04T16:56:36.555Z"
   },
   {
    "duration": 16,
    "start_time": "2023-05-04T16:57:01.940Z"
   },
   {
    "duration": 12,
    "start_time": "2023-05-04T16:58:03.241Z"
   },
   {
    "duration": 34,
    "start_time": "2023-05-04T16:59:04.044Z"
   },
   {
    "duration": 4,
    "start_time": "2023-05-04T17:09:29.280Z"
   },
   {
    "duration": 10,
    "start_time": "2023-05-04T17:09:38.215Z"
   },
   {
    "duration": 9,
    "start_time": "2023-05-04T17:09:53.751Z"
   },
   {
    "duration": 12,
    "start_time": "2023-05-04T17:10:06.672Z"
   },
   {
    "duration": 10,
    "start_time": "2023-05-04T17:10:22.062Z"
   },
   {
    "duration": 9,
    "start_time": "2023-05-04T17:19:26.193Z"
   },
   {
    "duration": 11,
    "start_time": "2023-05-04T17:19:34.411Z"
   },
   {
    "duration": 13,
    "start_time": "2023-05-04T17:19:42.579Z"
   },
   {
    "duration": 11,
    "start_time": "2023-05-04T17:19:53.409Z"
   },
   {
    "duration": 9,
    "start_time": "2023-05-04T17:20:49.767Z"
   },
   {
    "duration": 1251,
    "start_time": "2023-05-04T17:21:10.208Z"
   },
   {
    "duration": 17,
    "start_time": "2023-05-04T17:21:26.011Z"
   },
   {
    "duration": 20,
    "start_time": "2023-05-04T17:22:57.605Z"
   },
   {
    "duration": 1543,
    "start_time": "2023-05-04T17:23:07.430Z"
   },
   {
    "duration": 36,
    "start_time": "2023-05-04T17:23:08.976Z"
   },
   {
    "duration": 16,
    "start_time": "2023-05-04T17:23:09.014Z"
   },
   {
    "duration": 6,
    "start_time": "2023-05-04T17:23:09.032Z"
   },
   {
    "duration": 8,
    "start_time": "2023-05-04T17:23:09.040Z"
   },
   {
    "duration": 5,
    "start_time": "2023-05-04T17:23:09.049Z"
   },
   {
    "duration": 3,
    "start_time": "2023-05-04T17:23:09.055Z"
   },
   {
    "duration": 4,
    "start_time": "2023-05-04T17:23:09.086Z"
   },
   {
    "duration": 12,
    "start_time": "2023-05-04T17:23:09.092Z"
   },
   {
    "duration": 28,
    "start_time": "2023-05-04T17:23:09.109Z"
   },
   {
    "duration": 132,
    "start_time": "2023-05-04T17:23:09.139Z"
   },
   {
    "duration": 0,
    "start_time": "2023-05-04T17:23:09.274Z"
   },
   {
    "duration": 0,
    "start_time": "2023-05-04T17:23:09.275Z"
   },
   {
    "duration": 0,
    "start_time": "2023-05-04T17:23:09.285Z"
   },
   {
    "duration": 0,
    "start_time": "2023-05-04T17:23:09.287Z"
   },
   {
    "duration": 0,
    "start_time": "2023-05-04T17:23:09.289Z"
   },
   {
    "duration": 0,
    "start_time": "2023-05-04T17:23:09.290Z"
   },
   {
    "duration": 0,
    "start_time": "2023-05-04T17:23:09.292Z"
   },
   {
    "duration": 0,
    "start_time": "2023-05-04T17:23:09.294Z"
   },
   {
    "duration": 0,
    "start_time": "2023-05-04T17:23:09.295Z"
   },
   {
    "duration": 0,
    "start_time": "2023-05-04T17:23:09.297Z"
   },
   {
    "duration": 1,
    "start_time": "2023-05-04T17:23:09.298Z"
   },
   {
    "duration": 0,
    "start_time": "2023-05-04T17:23:09.300Z"
   },
   {
    "duration": 0,
    "start_time": "2023-05-04T17:23:09.301Z"
   },
   {
    "duration": 0,
    "start_time": "2023-05-04T17:23:09.303Z"
   },
   {
    "duration": 0,
    "start_time": "2023-05-04T17:23:09.305Z"
   },
   {
    "duration": 0,
    "start_time": "2023-05-04T17:23:09.306Z"
   },
   {
    "duration": 0,
    "start_time": "2023-05-04T17:23:09.308Z"
   },
   {
    "duration": 0,
    "start_time": "2023-05-04T17:23:09.309Z"
   },
   {
    "duration": 0,
    "start_time": "2023-05-04T17:23:09.311Z"
   },
   {
    "duration": 0,
    "start_time": "2023-05-04T17:23:09.312Z"
   },
   {
    "duration": 0,
    "start_time": "2023-05-04T17:23:09.314Z"
   },
   {
    "duration": 0,
    "start_time": "2023-05-04T17:23:09.315Z"
   },
   {
    "duration": 0,
    "start_time": "2023-05-04T17:23:09.317Z"
   },
   {
    "duration": 0,
    "start_time": "2023-05-04T17:23:09.318Z"
   },
   {
    "duration": 0,
    "start_time": "2023-05-04T17:23:09.320Z"
   },
   {
    "duration": 0,
    "start_time": "2023-05-04T17:23:09.321Z"
   },
   {
    "duration": 0,
    "start_time": "2023-05-04T17:23:09.322Z"
   },
   {
    "duration": 0,
    "start_time": "2023-05-04T17:23:09.386Z"
   },
   {
    "duration": 0,
    "start_time": "2023-05-04T17:23:09.388Z"
   },
   {
    "duration": 0,
    "start_time": "2023-05-04T17:23:09.389Z"
   },
   {
    "duration": 0,
    "start_time": "2023-05-04T17:23:09.391Z"
   },
   {
    "duration": 0,
    "start_time": "2023-05-04T17:23:09.392Z"
   },
   {
    "duration": 0,
    "start_time": "2023-05-04T17:23:09.393Z"
   },
   {
    "duration": 0,
    "start_time": "2023-05-04T17:23:09.395Z"
   },
   {
    "duration": 0,
    "start_time": "2023-05-04T17:23:09.396Z"
   },
   {
    "duration": 0,
    "start_time": "2023-05-04T17:23:09.398Z"
   },
   {
    "duration": 0,
    "start_time": "2023-05-04T17:23:09.399Z"
   },
   {
    "duration": 0,
    "start_time": "2023-05-04T17:23:09.400Z"
   },
   {
    "duration": 0,
    "start_time": "2023-05-04T17:23:09.402Z"
   },
   {
    "duration": 24,
    "start_time": "2023-05-04T17:23:50.486Z"
   },
   {
    "duration": 10,
    "start_time": "2023-05-04T17:24:38.836Z"
   },
   {
    "duration": 15,
    "start_time": "2023-05-04T17:24:52.978Z"
   },
   {
    "duration": 10,
    "start_time": "2023-05-04T17:26:11.205Z"
   },
   {
    "duration": 11,
    "start_time": "2023-05-04T17:26:18.192Z"
   },
   {
    "duration": 13,
    "start_time": "2023-05-04T17:27:03.628Z"
   },
   {
    "duration": 18,
    "start_time": "2023-05-04T17:30:16.960Z"
   },
   {
    "duration": 22,
    "start_time": "2023-05-04T17:31:05.377Z"
   },
   {
    "duration": 16,
    "start_time": "2023-05-04T17:31:33.741Z"
   },
   {
    "duration": 14,
    "start_time": "2023-05-04T17:32:03.446Z"
   },
   {
    "duration": 13,
    "start_time": "2023-05-04T17:33:00.530Z"
   },
   {
    "duration": 1387,
    "start_time": "2023-05-04T17:33:09.161Z"
   },
   {
    "duration": 37,
    "start_time": "2023-05-04T17:33:10.550Z"
   },
   {
    "duration": 14,
    "start_time": "2023-05-04T17:33:10.588Z"
   },
   {
    "duration": 6,
    "start_time": "2023-05-04T17:33:10.604Z"
   },
   {
    "duration": 7,
    "start_time": "2023-05-04T17:33:10.612Z"
   },
   {
    "duration": 4,
    "start_time": "2023-05-04T17:33:10.621Z"
   },
   {
    "duration": 3,
    "start_time": "2023-05-04T17:33:10.627Z"
   },
   {
    "duration": 5,
    "start_time": "2023-05-04T17:33:10.631Z"
   },
   {
    "duration": 52,
    "start_time": "2023-05-04T17:33:10.637Z"
   },
   {
    "duration": 14,
    "start_time": "2023-05-04T17:33:10.693Z"
   },
   {
    "duration": 12,
    "start_time": "2023-05-04T17:33:10.708Z"
   },
   {
    "duration": 22,
    "start_time": "2023-05-04T17:33:10.722Z"
   },
   {
    "duration": 44,
    "start_time": "2023-05-04T17:33:10.746Z"
   },
   {
    "duration": 126,
    "start_time": "2023-05-04T17:33:10.792Z"
   },
   {
    "duration": 0,
    "start_time": "2023-05-04T17:33:10.920Z"
   },
   {
    "duration": 0,
    "start_time": "2023-05-04T17:33:10.921Z"
   },
   {
    "duration": 0,
    "start_time": "2023-05-04T17:33:10.922Z"
   },
   {
    "duration": 0,
    "start_time": "2023-05-04T17:33:10.924Z"
   },
   {
    "duration": 0,
    "start_time": "2023-05-04T17:33:10.925Z"
   },
   {
    "duration": 0,
    "start_time": "2023-05-04T17:33:10.926Z"
   },
   {
    "duration": 0,
    "start_time": "2023-05-04T17:33:10.927Z"
   },
   {
    "duration": 0,
    "start_time": "2023-05-04T17:33:10.928Z"
   },
   {
    "duration": 0,
    "start_time": "2023-05-04T17:33:10.929Z"
   },
   {
    "duration": 0,
    "start_time": "2023-05-04T17:33:10.929Z"
   },
   {
    "duration": 0,
    "start_time": "2023-05-04T17:33:10.930Z"
   },
   {
    "duration": 0,
    "start_time": "2023-05-04T17:33:10.931Z"
   },
   {
    "duration": 0,
    "start_time": "2023-05-04T17:33:10.932Z"
   },
   {
    "duration": 0,
    "start_time": "2023-05-04T17:33:10.933Z"
   },
   {
    "duration": 0,
    "start_time": "2023-05-04T17:33:10.934Z"
   },
   {
    "duration": 0,
    "start_time": "2023-05-04T17:33:10.935Z"
   },
   {
    "duration": 0,
    "start_time": "2023-05-04T17:33:10.935Z"
   },
   {
    "duration": 0,
    "start_time": "2023-05-04T17:33:10.936Z"
   },
   {
    "duration": 0,
    "start_time": "2023-05-04T17:33:10.937Z"
   },
   {
    "duration": 0,
    "start_time": "2023-05-04T17:33:10.939Z"
   },
   {
    "duration": 0,
    "start_time": "2023-05-04T17:33:10.940Z"
   },
   {
    "duration": 0,
    "start_time": "2023-05-04T17:33:10.941Z"
   },
   {
    "duration": 0,
    "start_time": "2023-05-04T17:33:10.941Z"
   },
   {
    "duration": 0,
    "start_time": "2023-05-04T17:33:10.943Z"
   },
   {
    "duration": 0,
    "start_time": "2023-05-04T17:33:10.943Z"
   },
   {
    "duration": 0,
    "start_time": "2023-05-04T17:33:10.985Z"
   },
   {
    "duration": 0,
    "start_time": "2023-05-04T17:33:10.986Z"
   },
   {
    "duration": 0,
    "start_time": "2023-05-04T17:33:10.987Z"
   },
   {
    "duration": 0,
    "start_time": "2023-05-04T17:33:10.988Z"
   },
   {
    "duration": 0,
    "start_time": "2023-05-04T17:33:10.989Z"
   },
   {
    "duration": 0,
    "start_time": "2023-05-04T17:33:10.990Z"
   },
   {
    "duration": 0,
    "start_time": "2023-05-04T17:33:10.991Z"
   },
   {
    "duration": 0,
    "start_time": "2023-05-04T17:33:10.992Z"
   },
   {
    "duration": 0,
    "start_time": "2023-05-04T17:33:10.993Z"
   },
   {
    "duration": 0,
    "start_time": "2023-05-04T17:33:10.994Z"
   },
   {
    "duration": 0,
    "start_time": "2023-05-04T17:33:10.996Z"
   },
   {
    "duration": 15,
    "start_time": "2023-05-04T17:33:42.395Z"
   },
   {
    "duration": 13,
    "start_time": "2023-05-04T17:34:01.116Z"
   },
   {
    "duration": 15,
    "start_time": "2023-05-04T17:34:15.641Z"
   },
   {
    "duration": 24,
    "start_time": "2023-05-04T17:34:32.681Z"
   },
   {
    "duration": 24,
    "start_time": "2023-05-04T17:35:31.297Z"
   },
   {
    "duration": 31,
    "start_time": "2023-05-04T17:35:58.032Z"
   },
   {
    "duration": 31,
    "start_time": "2023-05-04T17:37:15.851Z"
   },
   {
    "duration": 38,
    "start_time": "2023-05-04T17:37:27.899Z"
   },
   {
    "duration": 30,
    "start_time": "2023-05-04T17:39:02.052Z"
   },
   {
    "duration": 1502,
    "start_time": "2023-05-04T17:39:25.604Z"
   },
   {
    "duration": 39,
    "start_time": "2023-05-04T17:39:27.108Z"
   },
   {
    "duration": 13,
    "start_time": "2023-05-04T17:39:27.149Z"
   },
   {
    "duration": 6,
    "start_time": "2023-05-04T17:39:27.164Z"
   },
   {
    "duration": 15,
    "start_time": "2023-05-04T17:39:27.172Z"
   },
   {
    "duration": 5,
    "start_time": "2023-05-04T17:39:27.188Z"
   },
   {
    "duration": 21,
    "start_time": "2023-05-04T17:39:27.195Z"
   },
   {
    "duration": 34,
    "start_time": "2023-05-04T17:39:27.218Z"
   },
   {
    "duration": 13,
    "start_time": "2023-05-04T17:39:27.255Z"
   },
   {
    "duration": 22,
    "start_time": "2023-05-04T17:39:27.273Z"
   },
   {
    "duration": 35,
    "start_time": "2023-05-04T17:39:27.297Z"
   },
   {
    "duration": 13,
    "start_time": "2023-05-04T17:39:27.333Z"
   },
   {
    "duration": 156,
    "start_time": "2023-05-04T17:39:27.348Z"
   },
   {
    "duration": 0,
    "start_time": "2023-05-04T17:39:27.506Z"
   },
   {
    "duration": 0,
    "start_time": "2023-05-04T17:39:27.507Z"
   },
   {
    "duration": 0,
    "start_time": "2023-05-04T17:39:27.508Z"
   },
   {
    "duration": 0,
    "start_time": "2023-05-04T17:39:27.509Z"
   },
   {
    "duration": 0,
    "start_time": "2023-05-04T17:39:27.511Z"
   },
   {
    "duration": 0,
    "start_time": "2023-05-04T17:39:27.512Z"
   },
   {
    "duration": 0,
    "start_time": "2023-05-04T17:39:27.513Z"
   },
   {
    "duration": 0,
    "start_time": "2023-05-04T17:39:27.515Z"
   },
   {
    "duration": 0,
    "start_time": "2023-05-04T17:39:27.516Z"
   },
   {
    "duration": 0,
    "start_time": "2023-05-04T17:39:27.517Z"
   },
   {
    "duration": 0,
    "start_time": "2023-05-04T17:39:27.518Z"
   },
   {
    "duration": 0,
    "start_time": "2023-05-04T17:39:27.519Z"
   },
   {
    "duration": 0,
    "start_time": "2023-05-04T17:39:27.521Z"
   },
   {
    "duration": 0,
    "start_time": "2023-05-04T17:39:27.522Z"
   },
   {
    "duration": 0,
    "start_time": "2023-05-04T17:39:27.523Z"
   },
   {
    "duration": 0,
    "start_time": "2023-05-04T17:39:27.524Z"
   },
   {
    "duration": 0,
    "start_time": "2023-05-04T17:39:27.525Z"
   },
   {
    "duration": 0,
    "start_time": "2023-05-04T17:39:27.526Z"
   },
   {
    "duration": 0,
    "start_time": "2023-05-04T17:39:27.527Z"
   },
   {
    "duration": 0,
    "start_time": "2023-05-04T17:39:27.528Z"
   },
   {
    "duration": 0,
    "start_time": "2023-05-04T17:39:27.529Z"
   },
   {
    "duration": 0,
    "start_time": "2023-05-04T17:39:27.530Z"
   },
   {
    "duration": 0,
    "start_time": "2023-05-04T17:39:27.530Z"
   },
   {
    "duration": 0,
    "start_time": "2023-05-04T17:39:27.531Z"
   },
   {
    "duration": 0,
    "start_time": "2023-05-04T17:39:27.532Z"
   },
   {
    "duration": 0,
    "start_time": "2023-05-04T17:39:27.533Z"
   },
   {
    "duration": 0,
    "start_time": "2023-05-04T17:39:27.534Z"
   },
   {
    "duration": 0,
    "start_time": "2023-05-04T17:39:27.535Z"
   },
   {
    "duration": 0,
    "start_time": "2023-05-04T17:39:27.536Z"
   },
   {
    "duration": 0,
    "start_time": "2023-05-04T17:39:27.537Z"
   },
   {
    "duration": 0,
    "start_time": "2023-05-04T17:39:27.539Z"
   },
   {
    "duration": 0,
    "start_time": "2023-05-04T17:39:27.586Z"
   },
   {
    "duration": 0,
    "start_time": "2023-05-04T17:39:27.587Z"
   },
   {
    "duration": 0,
    "start_time": "2023-05-04T17:39:27.588Z"
   },
   {
    "duration": 0,
    "start_time": "2023-05-04T17:39:27.590Z"
   },
   {
    "duration": 0,
    "start_time": "2023-05-04T17:39:27.591Z"
   },
   {
    "duration": 15,
    "start_time": "2023-05-04T17:40:34.428Z"
   },
   {
    "duration": 1452,
    "start_time": "2023-05-04T17:40:44.700Z"
   },
   {
    "duration": 39,
    "start_time": "2023-05-04T17:40:46.154Z"
   },
   {
    "duration": 14,
    "start_time": "2023-05-04T17:40:46.194Z"
   },
   {
    "duration": 7,
    "start_time": "2023-05-04T17:40:46.210Z"
   },
   {
    "duration": 26,
    "start_time": "2023-05-04T17:40:46.218Z"
   },
   {
    "duration": 36,
    "start_time": "2023-05-04T17:40:46.246Z"
   },
   {
    "duration": 6,
    "start_time": "2023-05-04T17:40:46.284Z"
   },
   {
    "duration": 14,
    "start_time": "2023-05-04T17:40:46.292Z"
   },
   {
    "duration": 14,
    "start_time": "2023-05-04T17:40:46.308Z"
   },
   {
    "duration": 23,
    "start_time": "2023-05-04T17:40:46.325Z"
   },
   {
    "duration": 50,
    "start_time": "2023-05-04T17:40:46.350Z"
   },
   {
    "duration": 11,
    "start_time": "2023-05-04T17:40:46.402Z"
   },
   {
    "duration": 145,
    "start_time": "2023-05-04T17:40:46.414Z"
   },
   {
    "duration": 0,
    "start_time": "2023-05-04T17:40:46.561Z"
   },
   {
    "duration": 0,
    "start_time": "2023-05-04T17:40:46.563Z"
   },
   {
    "duration": 0,
    "start_time": "2023-05-04T17:40:46.564Z"
   },
   {
    "duration": 0,
    "start_time": "2023-05-04T17:40:46.565Z"
   },
   {
    "duration": 0,
    "start_time": "2023-05-04T17:40:46.566Z"
   },
   {
    "duration": 0,
    "start_time": "2023-05-04T17:40:46.567Z"
   },
   {
    "duration": 0,
    "start_time": "2023-05-04T17:40:46.585Z"
   },
   {
    "duration": 0,
    "start_time": "2023-05-04T17:40:46.586Z"
   },
   {
    "duration": 0,
    "start_time": "2023-05-04T17:40:46.588Z"
   },
   {
    "duration": 0,
    "start_time": "2023-05-04T17:40:46.589Z"
   },
   {
    "duration": 0,
    "start_time": "2023-05-04T17:40:46.592Z"
   },
   {
    "duration": 0,
    "start_time": "2023-05-04T17:40:46.593Z"
   },
   {
    "duration": 0,
    "start_time": "2023-05-04T17:40:46.595Z"
   },
   {
    "duration": 0,
    "start_time": "2023-05-04T17:40:46.596Z"
   },
   {
    "duration": 0,
    "start_time": "2023-05-04T17:40:46.598Z"
   },
   {
    "duration": 0,
    "start_time": "2023-05-04T17:40:46.600Z"
   },
   {
    "duration": 0,
    "start_time": "2023-05-04T17:40:46.601Z"
   },
   {
    "duration": 0,
    "start_time": "2023-05-04T17:40:46.603Z"
   },
   {
    "duration": 0,
    "start_time": "2023-05-04T17:40:46.604Z"
   },
   {
    "duration": 0,
    "start_time": "2023-05-04T17:40:46.606Z"
   },
   {
    "duration": 0,
    "start_time": "2023-05-04T17:40:46.608Z"
   },
   {
    "duration": 0,
    "start_time": "2023-05-04T17:40:46.609Z"
   },
   {
    "duration": 0,
    "start_time": "2023-05-04T17:40:46.610Z"
   },
   {
    "duration": 0,
    "start_time": "2023-05-04T17:40:46.612Z"
   },
   {
    "duration": 0,
    "start_time": "2023-05-04T17:40:46.613Z"
   },
   {
    "duration": 0,
    "start_time": "2023-05-04T17:40:46.615Z"
   },
   {
    "duration": 0,
    "start_time": "2023-05-04T17:40:46.616Z"
   },
   {
    "duration": 0,
    "start_time": "2023-05-04T17:40:46.618Z"
   },
   {
    "duration": 1,
    "start_time": "2023-05-04T17:40:46.619Z"
   },
   {
    "duration": 0,
    "start_time": "2023-05-04T17:40:46.621Z"
   },
   {
    "duration": 0,
    "start_time": "2023-05-04T17:40:46.622Z"
   },
   {
    "duration": 0,
    "start_time": "2023-05-04T17:40:46.623Z"
   },
   {
    "duration": 0,
    "start_time": "2023-05-04T17:40:46.624Z"
   },
   {
    "duration": 0,
    "start_time": "2023-05-04T17:40:46.686Z"
   },
   {
    "duration": 0,
    "start_time": "2023-05-04T17:40:46.686Z"
   },
   {
    "duration": 1,
    "start_time": "2023-05-04T17:40:46.687Z"
   },
   {
    "duration": 216,
    "start_time": "2023-05-04T17:49:37.817Z"
   },
   {
    "duration": 1540,
    "start_time": "2023-05-04T17:49:51.550Z"
   },
   {
    "duration": 38,
    "start_time": "2023-05-04T17:49:53.092Z"
   },
   {
    "duration": 15,
    "start_time": "2023-05-04T17:49:53.131Z"
   },
   {
    "duration": 6,
    "start_time": "2023-05-04T17:49:53.149Z"
   },
   {
    "duration": 15,
    "start_time": "2023-05-04T17:49:53.157Z"
   },
   {
    "duration": 14,
    "start_time": "2023-05-04T17:49:53.174Z"
   },
   {
    "duration": 24,
    "start_time": "2023-05-04T17:49:53.190Z"
   },
   {
    "duration": 25,
    "start_time": "2023-05-04T17:49:53.216Z"
   },
   {
    "duration": 18,
    "start_time": "2023-05-04T17:49:53.243Z"
   },
   {
    "duration": 21,
    "start_time": "2023-05-04T17:49:53.264Z"
   },
   {
    "duration": 16,
    "start_time": "2023-05-04T17:49:53.287Z"
   },
   {
    "duration": 266,
    "start_time": "2023-05-04T17:49:53.305Z"
   },
   {
    "duration": 23,
    "start_time": "2023-05-04T17:49:53.573Z"
   },
   {
    "duration": 190,
    "start_time": "2023-05-04T17:49:53.599Z"
   },
   {
    "duration": 0,
    "start_time": "2023-05-04T17:49:53.792Z"
   },
   {
    "duration": 0,
    "start_time": "2023-05-04T17:49:53.793Z"
   },
   {
    "duration": 0,
    "start_time": "2023-05-04T17:49:53.795Z"
   },
   {
    "duration": 0,
    "start_time": "2023-05-04T17:49:53.796Z"
   },
   {
    "duration": 0,
    "start_time": "2023-05-04T17:49:53.797Z"
   },
   {
    "duration": 0,
    "start_time": "2023-05-04T17:49:53.798Z"
   },
   {
    "duration": 0,
    "start_time": "2023-05-04T17:49:53.800Z"
   },
   {
    "duration": 0,
    "start_time": "2023-05-04T17:49:53.801Z"
   },
   {
    "duration": 0,
    "start_time": "2023-05-04T17:49:53.802Z"
   },
   {
    "duration": 0,
    "start_time": "2023-05-04T17:49:53.803Z"
   },
   {
    "duration": 0,
    "start_time": "2023-05-04T17:49:53.805Z"
   },
   {
    "duration": 0,
    "start_time": "2023-05-04T17:49:53.805Z"
   },
   {
    "duration": 0,
    "start_time": "2023-05-04T17:49:53.806Z"
   },
   {
    "duration": 0,
    "start_time": "2023-05-04T17:49:53.808Z"
   },
   {
    "duration": 0,
    "start_time": "2023-05-04T17:49:53.809Z"
   },
   {
    "duration": 0,
    "start_time": "2023-05-04T17:49:53.811Z"
   },
   {
    "duration": 0,
    "start_time": "2023-05-04T17:49:53.812Z"
   },
   {
    "duration": 0,
    "start_time": "2023-05-04T17:49:53.814Z"
   },
   {
    "duration": 0,
    "start_time": "2023-05-04T17:49:53.815Z"
   },
   {
    "duration": 0,
    "start_time": "2023-05-04T17:49:53.817Z"
   },
   {
    "duration": 0,
    "start_time": "2023-05-04T17:49:53.820Z"
   },
   {
    "duration": 0,
    "start_time": "2023-05-04T17:49:53.821Z"
   },
   {
    "duration": 0,
    "start_time": "2023-05-04T17:49:53.822Z"
   },
   {
    "duration": 0,
    "start_time": "2023-05-04T17:49:53.824Z"
   },
   {
    "duration": 0,
    "start_time": "2023-05-04T17:49:53.825Z"
   },
   {
    "duration": 0,
    "start_time": "2023-05-04T17:49:53.826Z"
   },
   {
    "duration": 0,
    "start_time": "2023-05-04T17:49:53.828Z"
   },
   {
    "duration": 0,
    "start_time": "2023-05-04T17:49:53.885Z"
   },
   {
    "duration": 0,
    "start_time": "2023-05-04T17:49:53.887Z"
   },
   {
    "duration": 0,
    "start_time": "2023-05-04T17:49:53.888Z"
   },
   {
    "duration": 0,
    "start_time": "2023-05-04T17:49:53.890Z"
   },
   {
    "duration": 0,
    "start_time": "2023-05-04T17:49:53.891Z"
   },
   {
    "duration": 0,
    "start_time": "2023-05-04T17:49:53.893Z"
   },
   {
    "duration": 0,
    "start_time": "2023-05-04T17:49:53.894Z"
   },
   {
    "duration": 0,
    "start_time": "2023-05-04T17:49:53.895Z"
   },
   {
    "duration": 0,
    "start_time": "2023-05-04T17:49:53.896Z"
   },
   {
    "duration": 17,
    "start_time": "2023-05-04T17:51:29.606Z"
   },
   {
    "duration": 18,
    "start_time": "2023-05-04T17:52:19.808Z"
   },
   {
    "duration": 10,
    "start_time": "2023-05-04T17:52:55.164Z"
   },
   {
    "duration": 24,
    "start_time": "2023-05-04T17:53:17.691Z"
   },
   {
    "duration": 21,
    "start_time": "2023-05-04T17:57:20.371Z"
   },
   {
    "duration": 12,
    "start_time": "2023-05-04T17:57:33.154Z"
   },
   {
    "duration": 15,
    "start_time": "2023-05-04T18:00:44.878Z"
   },
   {
    "duration": 14,
    "start_time": "2023-05-04T18:15:41.846Z"
   },
   {
    "duration": 25,
    "start_time": "2023-05-04T18:16:07.601Z"
   },
   {
    "duration": 16,
    "start_time": "2023-05-04T18:26:08.518Z"
   },
   {
    "duration": 23,
    "start_time": "2023-05-04T18:30:16.589Z"
   },
   {
    "duration": 42,
    "start_time": "2023-05-04T18:37:44.220Z"
   },
   {
    "duration": 20,
    "start_time": "2023-05-04T18:38:37.918Z"
   },
   {
    "duration": 1461,
    "start_time": "2023-05-04T18:38:44.784Z"
   },
   {
    "duration": 38,
    "start_time": "2023-05-04T18:38:46.247Z"
   },
   {
    "duration": 15,
    "start_time": "2023-05-04T18:38:46.287Z"
   },
   {
    "duration": 9,
    "start_time": "2023-05-04T18:38:46.305Z"
   },
   {
    "duration": 17,
    "start_time": "2023-05-04T18:38:46.316Z"
   },
   {
    "duration": 9,
    "start_time": "2023-05-04T18:38:46.335Z"
   },
   {
    "duration": 25,
    "start_time": "2023-05-04T18:38:46.346Z"
   },
   {
    "duration": 14,
    "start_time": "2023-05-04T18:38:46.373Z"
   },
   {
    "duration": 12,
    "start_time": "2023-05-04T18:38:46.389Z"
   },
   {
    "duration": 31,
    "start_time": "2023-05-04T18:38:46.404Z"
   },
   {
    "duration": 28,
    "start_time": "2023-05-04T18:38:46.437Z"
   },
   {
    "duration": 132,
    "start_time": "2023-05-04T18:38:46.468Z"
   },
   {
    "duration": 0,
    "start_time": "2023-05-04T18:38:46.603Z"
   },
   {
    "duration": 0,
    "start_time": "2023-05-04T18:38:46.606Z"
   },
   {
    "duration": 0,
    "start_time": "2023-05-04T18:38:46.608Z"
   },
   {
    "duration": 0,
    "start_time": "2023-05-04T18:38:46.609Z"
   },
   {
    "duration": 0,
    "start_time": "2023-05-04T18:38:46.610Z"
   },
   {
    "duration": 0,
    "start_time": "2023-05-04T18:38:46.611Z"
   },
   {
    "duration": 0,
    "start_time": "2023-05-04T18:38:46.612Z"
   },
   {
    "duration": 0,
    "start_time": "2023-05-04T18:38:46.614Z"
   },
   {
    "duration": 0,
    "start_time": "2023-05-04T18:38:46.614Z"
   },
   {
    "duration": 0,
    "start_time": "2023-05-04T18:38:46.616Z"
   },
   {
    "duration": 0,
    "start_time": "2023-05-04T18:38:46.616Z"
   },
   {
    "duration": 0,
    "start_time": "2023-05-04T18:38:46.617Z"
   },
   {
    "duration": 0,
    "start_time": "2023-05-04T18:38:46.619Z"
   },
   {
    "duration": 0,
    "start_time": "2023-05-04T18:38:46.620Z"
   },
   {
    "duration": 0,
    "start_time": "2023-05-04T18:38:46.621Z"
   },
   {
    "duration": 0,
    "start_time": "2023-05-04T18:38:46.622Z"
   },
   {
    "duration": 0,
    "start_time": "2023-05-04T18:38:46.623Z"
   },
   {
    "duration": 0,
    "start_time": "2023-05-04T18:38:46.624Z"
   },
   {
    "duration": 0,
    "start_time": "2023-05-04T18:38:46.625Z"
   },
   {
    "duration": 0,
    "start_time": "2023-05-04T18:38:46.626Z"
   },
   {
    "duration": 0,
    "start_time": "2023-05-04T18:38:46.627Z"
   },
   {
    "duration": 0,
    "start_time": "2023-05-04T18:38:46.629Z"
   },
   {
    "duration": 0,
    "start_time": "2023-05-04T18:38:46.630Z"
   },
   {
    "duration": 0,
    "start_time": "2023-05-04T18:38:46.631Z"
   },
   {
    "duration": 0,
    "start_time": "2023-05-04T18:38:46.686Z"
   },
   {
    "duration": 0,
    "start_time": "2023-05-04T18:38:46.687Z"
   },
   {
    "duration": 0,
    "start_time": "2023-05-04T18:38:46.688Z"
   },
   {
    "duration": 0,
    "start_time": "2023-05-04T18:38:46.689Z"
   },
   {
    "duration": 0,
    "start_time": "2023-05-04T18:38:46.690Z"
   },
   {
    "duration": 0,
    "start_time": "2023-05-04T18:38:46.691Z"
   },
   {
    "duration": 0,
    "start_time": "2023-05-04T18:38:46.692Z"
   },
   {
    "duration": 0,
    "start_time": "2023-05-04T18:38:46.693Z"
   },
   {
    "duration": 0,
    "start_time": "2023-05-04T18:38:46.694Z"
   },
   {
    "duration": 0,
    "start_time": "2023-05-04T18:38:46.695Z"
   },
   {
    "duration": 0,
    "start_time": "2023-05-04T18:38:46.696Z"
   },
   {
    "duration": 0,
    "start_time": "2023-05-04T18:38:46.697Z"
   },
   {
    "duration": 25,
    "start_time": "2023-05-04T18:41:27.384Z"
   },
   {
    "duration": 20,
    "start_time": "2023-05-04T18:41:46.947Z"
   },
   {
    "duration": 1520,
    "start_time": "2023-05-04T18:41:52.812Z"
   },
   {
    "duration": 36,
    "start_time": "2023-05-04T18:41:54.335Z"
   },
   {
    "duration": 13,
    "start_time": "2023-05-04T18:41:54.373Z"
   },
   {
    "duration": 6,
    "start_time": "2023-05-04T18:41:54.388Z"
   },
   {
    "duration": 9,
    "start_time": "2023-05-04T18:41:54.396Z"
   },
   {
    "duration": 6,
    "start_time": "2023-05-04T18:41:54.407Z"
   },
   {
    "duration": 3,
    "start_time": "2023-05-04T18:41:54.414Z"
   },
   {
    "duration": 7,
    "start_time": "2023-05-04T18:41:54.419Z"
   },
   {
    "duration": 11,
    "start_time": "2023-05-04T18:41:54.428Z"
   },
   {
    "duration": 54,
    "start_time": "2023-05-04T18:41:54.441Z"
   },
   {
    "duration": 22,
    "start_time": "2023-05-04T18:41:54.497Z"
   },
   {
    "duration": 151,
    "start_time": "2023-05-04T18:41:54.521Z"
   },
   {
    "duration": 0,
    "start_time": "2023-05-04T18:41:54.675Z"
   },
   {
    "duration": 0,
    "start_time": "2023-05-04T18:41:54.676Z"
   },
   {
    "duration": 0,
    "start_time": "2023-05-04T18:41:54.685Z"
   },
   {
    "duration": 0,
    "start_time": "2023-05-04T18:41:54.686Z"
   },
   {
    "duration": 0,
    "start_time": "2023-05-04T18:41:54.688Z"
   },
   {
    "duration": 0,
    "start_time": "2023-05-04T18:41:54.689Z"
   },
   {
    "duration": 0,
    "start_time": "2023-05-04T18:41:54.689Z"
   },
   {
    "duration": 0,
    "start_time": "2023-05-04T18:41:54.690Z"
   },
   {
    "duration": 0,
    "start_time": "2023-05-04T18:41:54.691Z"
   },
   {
    "duration": 0,
    "start_time": "2023-05-04T18:41:54.693Z"
   },
   {
    "duration": 0,
    "start_time": "2023-05-04T18:41:54.694Z"
   },
   {
    "duration": 0,
    "start_time": "2023-05-04T18:41:54.694Z"
   },
   {
    "duration": 0,
    "start_time": "2023-05-04T18:41:54.696Z"
   },
   {
    "duration": 0,
    "start_time": "2023-05-04T18:41:54.697Z"
   },
   {
    "duration": 0,
    "start_time": "2023-05-04T18:41:54.698Z"
   },
   {
    "duration": 0,
    "start_time": "2023-05-04T18:41:54.699Z"
   },
   {
    "duration": 0,
    "start_time": "2023-05-04T18:41:54.700Z"
   },
   {
    "duration": 0,
    "start_time": "2023-05-04T18:41:54.701Z"
   },
   {
    "duration": 0,
    "start_time": "2023-05-04T18:41:54.701Z"
   },
   {
    "duration": 0,
    "start_time": "2023-05-04T18:41:54.702Z"
   },
   {
    "duration": 0,
    "start_time": "2023-05-04T18:41:54.703Z"
   },
   {
    "duration": 0,
    "start_time": "2023-05-04T18:41:54.704Z"
   },
   {
    "duration": 0,
    "start_time": "2023-05-04T18:41:54.705Z"
   },
   {
    "duration": 0,
    "start_time": "2023-05-04T18:41:54.706Z"
   },
   {
    "duration": 0,
    "start_time": "2023-05-04T18:41:54.707Z"
   },
   {
    "duration": 0,
    "start_time": "2023-05-04T18:41:54.708Z"
   },
   {
    "duration": 0,
    "start_time": "2023-05-04T18:41:54.709Z"
   },
   {
    "duration": 0,
    "start_time": "2023-05-04T18:41:54.710Z"
   },
   {
    "duration": 0,
    "start_time": "2023-05-04T18:41:54.711Z"
   },
   {
    "duration": 0,
    "start_time": "2023-05-04T18:41:54.712Z"
   },
   {
    "duration": 0,
    "start_time": "2023-05-04T18:41:54.713Z"
   },
   {
    "duration": 0,
    "start_time": "2023-05-04T18:41:54.714Z"
   },
   {
    "duration": 0,
    "start_time": "2023-05-04T18:41:54.714Z"
   },
   {
    "duration": 0,
    "start_time": "2023-05-04T18:41:54.716Z"
   },
   {
    "duration": 0,
    "start_time": "2023-05-04T18:41:54.717Z"
   },
   {
    "duration": 0,
    "start_time": "2023-05-04T18:41:54.717Z"
   },
   {
    "duration": 14,
    "start_time": "2023-05-04T18:42:41.301Z"
   },
   {
    "duration": 21,
    "start_time": "2023-05-04T18:43:03.527Z"
   },
   {
    "duration": 1472,
    "start_time": "2023-05-04T18:43:09.076Z"
   },
   {
    "duration": 36,
    "start_time": "2023-05-04T18:43:10.550Z"
   },
   {
    "duration": 15,
    "start_time": "2023-05-04T18:43:10.588Z"
   },
   {
    "duration": 7,
    "start_time": "2023-05-04T18:43:10.604Z"
   },
   {
    "duration": 12,
    "start_time": "2023-05-04T18:43:10.613Z"
   },
   {
    "duration": 4,
    "start_time": "2023-05-04T18:43:10.627Z"
   },
   {
    "duration": 3,
    "start_time": "2023-05-04T18:43:10.633Z"
   },
   {
    "duration": 5,
    "start_time": "2023-05-04T18:43:10.638Z"
   },
   {
    "duration": 48,
    "start_time": "2023-05-04T18:43:10.644Z"
   },
   {
    "duration": 15,
    "start_time": "2023-05-04T18:43:10.694Z"
   },
   {
    "duration": 145,
    "start_time": "2023-05-04T18:43:10.710Z"
   },
   {
    "duration": 0,
    "start_time": "2023-05-04T18:43:10.858Z"
   },
   {
    "duration": 0,
    "start_time": "2023-05-04T18:43:10.860Z"
   },
   {
    "duration": 0,
    "start_time": "2023-05-04T18:43:10.861Z"
   },
   {
    "duration": 0,
    "start_time": "2023-05-04T18:43:10.863Z"
   },
   {
    "duration": 0,
    "start_time": "2023-05-04T18:43:10.864Z"
   },
   {
    "duration": 0,
    "start_time": "2023-05-04T18:43:10.866Z"
   },
   {
    "duration": 0,
    "start_time": "2023-05-04T18:43:10.885Z"
   },
   {
    "duration": 0,
    "start_time": "2023-05-04T18:43:10.888Z"
   },
   {
    "duration": 0,
    "start_time": "2023-05-04T18:43:10.890Z"
   },
   {
    "duration": 0,
    "start_time": "2023-05-04T18:43:10.891Z"
   },
   {
    "duration": 0,
    "start_time": "2023-05-04T18:43:10.892Z"
   },
   {
    "duration": 1,
    "start_time": "2023-05-04T18:43:10.893Z"
   },
   {
    "duration": 0,
    "start_time": "2023-05-04T18:43:10.895Z"
   },
   {
    "duration": 0,
    "start_time": "2023-05-04T18:43:10.897Z"
   },
   {
    "duration": 0,
    "start_time": "2023-05-04T18:43:10.899Z"
   },
   {
    "duration": 0,
    "start_time": "2023-05-04T18:43:10.900Z"
   },
   {
    "duration": 0,
    "start_time": "2023-05-04T18:43:10.901Z"
   },
   {
    "duration": 0,
    "start_time": "2023-05-04T18:43:10.902Z"
   },
   {
    "duration": 0,
    "start_time": "2023-05-04T18:43:10.903Z"
   },
   {
    "duration": 0,
    "start_time": "2023-05-04T18:43:10.904Z"
   },
   {
    "duration": 0,
    "start_time": "2023-05-04T18:43:10.905Z"
   },
   {
    "duration": 0,
    "start_time": "2023-05-04T18:43:10.906Z"
   },
   {
    "duration": 0,
    "start_time": "2023-05-04T18:43:10.908Z"
   },
   {
    "duration": 0,
    "start_time": "2023-05-04T18:43:10.909Z"
   },
   {
    "duration": 0,
    "start_time": "2023-05-04T18:43:10.910Z"
   },
   {
    "duration": 0,
    "start_time": "2023-05-04T18:43:10.911Z"
   },
   {
    "duration": 0,
    "start_time": "2023-05-04T18:43:10.913Z"
   },
   {
    "duration": 0,
    "start_time": "2023-05-04T18:43:10.914Z"
   },
   {
    "duration": 0,
    "start_time": "2023-05-04T18:43:10.915Z"
   },
   {
    "duration": 0,
    "start_time": "2023-05-04T18:43:10.916Z"
   },
   {
    "duration": 0,
    "start_time": "2023-05-04T18:43:10.917Z"
   },
   {
    "duration": 0,
    "start_time": "2023-05-04T18:43:10.918Z"
   },
   {
    "duration": 0,
    "start_time": "2023-05-04T18:43:10.919Z"
   },
   {
    "duration": 0,
    "start_time": "2023-05-04T18:43:10.920Z"
   },
   {
    "duration": 0,
    "start_time": "2023-05-04T18:43:10.921Z"
   },
   {
    "duration": 0,
    "start_time": "2023-05-04T18:43:10.922Z"
   },
   {
    "duration": 0,
    "start_time": "2023-05-04T18:43:10.923Z"
   },
   {
    "duration": 22,
    "start_time": "2023-05-04T18:43:45.333Z"
   },
   {
    "duration": 13,
    "start_time": "2023-05-04T18:50:18.690Z"
   },
   {
    "duration": 20,
    "start_time": "2023-05-04T18:51:45.643Z"
   },
   {
    "duration": 23,
    "start_time": "2023-05-04T18:53:39.536Z"
   },
   {
    "duration": 15,
    "start_time": "2023-05-04T18:54:16.728Z"
   },
   {
    "duration": 9,
    "start_time": "2023-05-04T18:54:26.485Z"
   },
   {
    "duration": 10,
    "start_time": "2023-05-04T18:54:57.431Z"
   },
   {
    "duration": 19,
    "start_time": "2023-05-04T18:55:42.137Z"
   },
   {
    "duration": 27,
    "start_time": "2023-05-04T18:56:12.193Z"
   },
   {
    "duration": 1468,
    "start_time": "2023-05-04T18:56:19.391Z"
   },
   {
    "duration": 36,
    "start_time": "2023-05-04T18:56:20.861Z"
   },
   {
    "duration": 13,
    "start_time": "2023-05-04T18:56:20.898Z"
   },
   {
    "duration": 6,
    "start_time": "2023-05-04T18:56:20.913Z"
   },
   {
    "duration": 7,
    "start_time": "2023-05-04T18:56:20.921Z"
   },
   {
    "duration": 5,
    "start_time": "2023-05-04T18:56:20.930Z"
   },
   {
    "duration": 5,
    "start_time": "2023-05-04T18:56:20.936Z"
   },
   {
    "duration": 8,
    "start_time": "2023-05-04T18:56:20.942Z"
   },
   {
    "duration": 39,
    "start_time": "2023-05-04T18:56:20.952Z"
   },
   {
    "duration": 14,
    "start_time": "2023-05-04T18:56:20.996Z"
   },
   {
    "duration": 44,
    "start_time": "2023-05-04T18:56:21.012Z"
   },
   {
    "duration": 139,
    "start_time": "2023-05-04T18:56:21.059Z"
   },
   {
    "duration": 0,
    "start_time": "2023-05-04T18:56:21.202Z"
   },
   {
    "duration": 0,
    "start_time": "2023-05-04T18:56:21.203Z"
   },
   {
    "duration": 0,
    "start_time": "2023-05-04T18:56:21.204Z"
   },
   {
    "duration": 0,
    "start_time": "2023-05-04T18:56:21.206Z"
   },
   {
    "duration": 0,
    "start_time": "2023-05-04T18:56:21.207Z"
   },
   {
    "duration": 0,
    "start_time": "2023-05-04T18:56:21.209Z"
   },
   {
    "duration": 0,
    "start_time": "2023-05-04T18:56:21.210Z"
   },
   {
    "duration": 0,
    "start_time": "2023-05-04T18:56:21.211Z"
   },
   {
    "duration": 0,
    "start_time": "2023-05-04T18:56:21.212Z"
   },
   {
    "duration": 0,
    "start_time": "2023-05-04T18:56:21.213Z"
   },
   {
    "duration": 0,
    "start_time": "2023-05-04T18:56:21.214Z"
   },
   {
    "duration": 0,
    "start_time": "2023-05-04T18:56:21.216Z"
   },
   {
    "duration": 0,
    "start_time": "2023-05-04T18:56:21.217Z"
   },
   {
    "duration": 0,
    "start_time": "2023-05-04T18:56:21.218Z"
   },
   {
    "duration": 0,
    "start_time": "2023-05-04T18:56:21.219Z"
   },
   {
    "duration": 0,
    "start_time": "2023-05-04T18:56:21.220Z"
   },
   {
    "duration": 0,
    "start_time": "2023-05-04T18:56:21.221Z"
   },
   {
    "duration": 0,
    "start_time": "2023-05-04T18:56:21.222Z"
   },
   {
    "duration": 0,
    "start_time": "2023-05-04T18:56:21.223Z"
   },
   {
    "duration": 0,
    "start_time": "2023-05-04T18:56:21.224Z"
   },
   {
    "duration": 0,
    "start_time": "2023-05-04T18:56:21.225Z"
   },
   {
    "duration": 0,
    "start_time": "2023-05-04T18:56:21.226Z"
   },
   {
    "duration": 0,
    "start_time": "2023-05-04T18:56:21.228Z"
   },
   {
    "duration": 0,
    "start_time": "2023-05-04T18:56:21.229Z"
   },
   {
    "duration": 0,
    "start_time": "2023-05-04T18:56:21.230Z"
   },
   {
    "duration": 0,
    "start_time": "2023-05-04T18:56:21.233Z"
   },
   {
    "duration": 0,
    "start_time": "2023-05-04T18:56:21.286Z"
   },
   {
    "duration": 0,
    "start_time": "2023-05-04T18:56:21.287Z"
   },
   {
    "duration": 0,
    "start_time": "2023-05-04T18:56:21.288Z"
   },
   {
    "duration": 0,
    "start_time": "2023-05-04T18:56:21.289Z"
   },
   {
    "duration": 0,
    "start_time": "2023-05-04T18:56:21.290Z"
   },
   {
    "duration": 0,
    "start_time": "2023-05-04T18:56:21.291Z"
   },
   {
    "duration": 0,
    "start_time": "2023-05-04T18:56:21.292Z"
   },
   {
    "duration": 0,
    "start_time": "2023-05-04T18:56:21.293Z"
   },
   {
    "duration": 0,
    "start_time": "2023-05-04T18:56:21.294Z"
   },
   {
    "duration": 0,
    "start_time": "2023-05-04T18:56:21.295Z"
   },
   {
    "duration": 87,
    "start_time": "2023-05-04T19:07:30.567Z"
   },
   {
    "duration": 25,
    "start_time": "2023-05-04T19:07:37.901Z"
   },
   {
    "duration": 3,
    "start_time": "2023-05-04T19:08:56.779Z"
   },
   {
    "duration": 10,
    "start_time": "2023-05-04T19:09:02.653Z"
   },
   {
    "duration": 10,
    "start_time": "2023-05-04T19:09:32.737Z"
   },
   {
    "duration": 24,
    "start_time": "2023-05-04T19:09:39.261Z"
   },
   {
    "duration": 19,
    "start_time": "2023-05-04T19:15:50.061Z"
   },
   {
    "duration": 20,
    "start_time": "2023-05-04T19:16:17.800Z"
   },
   {
    "duration": 23,
    "start_time": "2023-05-04T19:16:42.810Z"
   },
   {
    "duration": 1515,
    "start_time": "2023-05-04T19:16:54.939Z"
   },
   {
    "duration": 38,
    "start_time": "2023-05-04T19:16:56.457Z"
   },
   {
    "duration": 19,
    "start_time": "2023-05-04T19:16:56.497Z"
   },
   {
    "duration": 8,
    "start_time": "2023-05-04T19:16:56.519Z"
   },
   {
    "duration": 11,
    "start_time": "2023-05-04T19:16:56.529Z"
   },
   {
    "duration": 44,
    "start_time": "2023-05-04T19:16:56.542Z"
   },
   {
    "duration": 9,
    "start_time": "2023-05-04T19:16:56.588Z"
   },
   {
    "duration": 20,
    "start_time": "2023-05-04T19:16:56.599Z"
   },
   {
    "duration": 28,
    "start_time": "2023-05-04T19:16:56.621Z"
   },
   {
    "duration": 15,
    "start_time": "2023-05-04T19:16:56.654Z"
   },
   {
    "duration": 41,
    "start_time": "2023-05-04T19:16:56.671Z"
   },
   {
    "duration": 40,
    "start_time": "2023-05-04T19:16:56.714Z"
   },
   {
    "duration": 158,
    "start_time": "2023-05-04T19:16:56.756Z"
   },
   {
    "duration": 0,
    "start_time": "2023-05-04T19:16:56.918Z"
   },
   {
    "duration": 0,
    "start_time": "2023-05-04T19:16:56.920Z"
   },
   {
    "duration": 0,
    "start_time": "2023-05-04T19:16:56.922Z"
   },
   {
    "duration": 0,
    "start_time": "2023-05-04T19:16:56.923Z"
   },
   {
    "duration": 0,
    "start_time": "2023-05-04T19:16:56.924Z"
   },
   {
    "duration": 0,
    "start_time": "2023-05-04T19:16:56.926Z"
   },
   {
    "duration": 0,
    "start_time": "2023-05-04T19:16:56.927Z"
   },
   {
    "duration": 0,
    "start_time": "2023-05-04T19:16:56.929Z"
   },
   {
    "duration": 0,
    "start_time": "2023-05-04T19:16:56.930Z"
   },
   {
    "duration": 0,
    "start_time": "2023-05-04T19:16:56.932Z"
   },
   {
    "duration": 0,
    "start_time": "2023-05-04T19:16:56.933Z"
   },
   {
    "duration": 0,
    "start_time": "2023-05-04T19:16:56.935Z"
   },
   {
    "duration": 0,
    "start_time": "2023-05-04T19:16:56.936Z"
   },
   {
    "duration": 0,
    "start_time": "2023-05-04T19:16:56.937Z"
   },
   {
    "duration": 0,
    "start_time": "2023-05-04T19:16:56.938Z"
   },
   {
    "duration": 0,
    "start_time": "2023-05-04T19:16:56.940Z"
   },
   {
    "duration": 0,
    "start_time": "2023-05-04T19:16:56.942Z"
   },
   {
    "duration": 0,
    "start_time": "2023-05-04T19:16:56.943Z"
   },
   {
    "duration": 0,
    "start_time": "2023-05-04T19:16:56.986Z"
   },
   {
    "duration": 0,
    "start_time": "2023-05-04T19:16:56.987Z"
   },
   {
    "duration": 0,
    "start_time": "2023-05-04T19:16:56.989Z"
   },
   {
    "duration": 0,
    "start_time": "2023-05-04T19:16:56.990Z"
   },
   {
    "duration": 0,
    "start_time": "2023-05-04T19:16:56.992Z"
   },
   {
    "duration": 0,
    "start_time": "2023-05-04T19:16:56.993Z"
   },
   {
    "duration": 0,
    "start_time": "2023-05-04T19:16:56.995Z"
   },
   {
    "duration": 0,
    "start_time": "2023-05-04T19:16:56.996Z"
   },
   {
    "duration": 0,
    "start_time": "2023-05-04T19:16:56.997Z"
   },
   {
    "duration": 0,
    "start_time": "2023-05-04T19:16:56.999Z"
   },
   {
    "duration": 0,
    "start_time": "2023-05-04T19:16:57.001Z"
   },
   {
    "duration": 0,
    "start_time": "2023-05-04T19:16:57.002Z"
   },
   {
    "duration": 0,
    "start_time": "2023-05-04T19:16:57.004Z"
   },
   {
    "duration": 0,
    "start_time": "2023-05-04T19:16:57.005Z"
   },
   {
    "duration": 0,
    "start_time": "2023-05-04T19:16:57.007Z"
   },
   {
    "duration": 0,
    "start_time": "2023-05-04T19:16:57.008Z"
   },
   {
    "duration": 0,
    "start_time": "2023-05-04T19:16:57.009Z"
   },
   {
    "duration": 0,
    "start_time": "2023-05-04T19:16:57.011Z"
   },
   {
    "duration": 21,
    "start_time": "2023-05-04T19:17:55.871Z"
   },
   {
    "duration": 1442,
    "start_time": "2023-05-04T19:18:08.399Z"
   },
   {
    "duration": 37,
    "start_time": "2023-05-04T19:18:09.843Z"
   },
   {
    "duration": 13,
    "start_time": "2023-05-04T19:18:09.882Z"
   },
   {
    "duration": 8,
    "start_time": "2023-05-04T19:18:09.897Z"
   },
   {
    "duration": 13,
    "start_time": "2023-05-04T19:18:09.907Z"
   },
   {
    "duration": 5,
    "start_time": "2023-05-04T19:18:09.922Z"
   },
   {
    "duration": 4,
    "start_time": "2023-05-04T19:18:09.928Z"
   },
   {
    "duration": 11,
    "start_time": "2023-05-04T19:18:09.934Z"
   },
   {
    "duration": 42,
    "start_time": "2023-05-04T19:18:09.947Z"
   },
   {
    "duration": 30,
    "start_time": "2023-05-04T19:18:09.992Z"
   },
   {
    "duration": 121,
    "start_time": "2023-05-04T19:18:10.024Z"
   },
   {
    "duration": 0,
    "start_time": "2023-05-04T19:18:10.147Z"
   },
   {
    "duration": 0,
    "start_time": "2023-05-04T19:18:10.148Z"
   },
   {
    "duration": 0,
    "start_time": "2023-05-04T19:18:10.149Z"
   },
   {
    "duration": 0,
    "start_time": "2023-05-04T19:18:10.150Z"
   },
   {
    "duration": 0,
    "start_time": "2023-05-04T19:18:10.151Z"
   },
   {
    "duration": 0,
    "start_time": "2023-05-04T19:18:10.152Z"
   },
   {
    "duration": 0,
    "start_time": "2023-05-04T19:18:10.153Z"
   },
   {
    "duration": 0,
    "start_time": "2023-05-04T19:18:10.154Z"
   },
   {
    "duration": 0,
    "start_time": "2023-05-04T19:18:10.155Z"
   },
   {
    "duration": 0,
    "start_time": "2023-05-04T19:18:10.156Z"
   },
   {
    "duration": 0,
    "start_time": "2023-05-04T19:18:10.157Z"
   },
   {
    "duration": 0,
    "start_time": "2023-05-04T19:18:10.158Z"
   },
   {
    "duration": 0,
    "start_time": "2023-05-04T19:18:10.159Z"
   },
   {
    "duration": 0,
    "start_time": "2023-05-04T19:18:10.160Z"
   },
   {
    "duration": 0,
    "start_time": "2023-05-04T19:18:10.160Z"
   },
   {
    "duration": 0,
    "start_time": "2023-05-04T19:18:10.185Z"
   },
   {
    "duration": 0,
    "start_time": "2023-05-04T19:18:10.186Z"
   },
   {
    "duration": 0,
    "start_time": "2023-05-04T19:18:10.187Z"
   },
   {
    "duration": 0,
    "start_time": "2023-05-04T19:18:10.188Z"
   },
   {
    "duration": 0,
    "start_time": "2023-05-04T19:18:10.189Z"
   },
   {
    "duration": 0,
    "start_time": "2023-05-04T19:18:10.190Z"
   },
   {
    "duration": 0,
    "start_time": "2023-05-04T19:18:10.191Z"
   },
   {
    "duration": 0,
    "start_time": "2023-05-04T19:18:10.192Z"
   },
   {
    "duration": 0,
    "start_time": "2023-05-04T19:18:10.193Z"
   },
   {
    "duration": 0,
    "start_time": "2023-05-04T19:18:10.194Z"
   },
   {
    "duration": 0,
    "start_time": "2023-05-04T19:18:10.194Z"
   },
   {
    "duration": 0,
    "start_time": "2023-05-04T19:18:10.196Z"
   },
   {
    "duration": 0,
    "start_time": "2023-05-04T19:18:10.197Z"
   },
   {
    "duration": 0,
    "start_time": "2023-05-04T19:18:10.199Z"
   },
   {
    "duration": 0,
    "start_time": "2023-05-04T19:18:10.200Z"
   },
   {
    "duration": 0,
    "start_time": "2023-05-04T19:18:10.201Z"
   },
   {
    "duration": 0,
    "start_time": "2023-05-04T19:18:10.202Z"
   },
   {
    "duration": 0,
    "start_time": "2023-05-04T19:18:10.203Z"
   },
   {
    "duration": 0,
    "start_time": "2023-05-04T19:18:10.203Z"
   },
   {
    "duration": 0,
    "start_time": "2023-05-04T19:18:10.204Z"
   },
   {
    "duration": 0,
    "start_time": "2023-05-04T19:18:10.205Z"
   },
   {
    "duration": 0,
    "start_time": "2023-05-04T19:18:10.206Z"
   },
   {
    "duration": 1,
    "start_time": "2023-05-04T19:18:10.207Z"
   },
   {
    "duration": 22,
    "start_time": "2023-05-04T19:19:04.479Z"
   },
   {
    "duration": 1453,
    "start_time": "2023-05-04T19:19:10.086Z"
   },
   {
    "duration": 36,
    "start_time": "2023-05-04T19:19:11.541Z"
   },
   {
    "duration": 16,
    "start_time": "2023-05-04T19:19:11.578Z"
   },
   {
    "duration": 6,
    "start_time": "2023-05-04T19:19:11.597Z"
   },
   {
    "duration": 7,
    "start_time": "2023-05-04T19:19:11.604Z"
   },
   {
    "duration": 3,
    "start_time": "2023-05-04T19:19:11.613Z"
   },
   {
    "duration": 3,
    "start_time": "2023-05-04T19:19:11.618Z"
   },
   {
    "duration": 6,
    "start_time": "2023-05-04T19:19:11.622Z"
   },
   {
    "duration": 8,
    "start_time": "2023-05-04T19:19:11.630Z"
   },
   {
    "duration": 54,
    "start_time": "2023-05-04T19:19:11.642Z"
   },
   {
    "duration": 138,
    "start_time": "2023-05-04T19:19:11.698Z"
   },
   {
    "duration": 0,
    "start_time": "2023-05-04T19:19:11.839Z"
   },
   {
    "duration": 0,
    "start_time": "2023-05-04T19:19:11.840Z"
   },
   {
    "duration": 0,
    "start_time": "2023-05-04T19:19:11.840Z"
   },
   {
    "duration": 0,
    "start_time": "2023-05-04T19:19:11.841Z"
   },
   {
    "duration": 0,
    "start_time": "2023-05-04T19:19:11.842Z"
   },
   {
    "duration": 0,
    "start_time": "2023-05-04T19:19:11.843Z"
   },
   {
    "duration": 0,
    "start_time": "2023-05-04T19:19:11.844Z"
   },
   {
    "duration": 0,
    "start_time": "2023-05-04T19:19:11.845Z"
   },
   {
    "duration": 0,
    "start_time": "2023-05-04T19:19:11.846Z"
   },
   {
    "duration": 0,
    "start_time": "2023-05-04T19:19:11.847Z"
   },
   {
    "duration": 0,
    "start_time": "2023-05-04T19:19:11.848Z"
   },
   {
    "duration": 0,
    "start_time": "2023-05-04T19:19:11.849Z"
   },
   {
    "duration": 0,
    "start_time": "2023-05-04T19:19:11.850Z"
   },
   {
    "duration": 0,
    "start_time": "2023-05-04T19:19:11.851Z"
   },
   {
    "duration": 0,
    "start_time": "2023-05-04T19:19:11.852Z"
   },
   {
    "duration": 0,
    "start_time": "2023-05-04T19:19:11.853Z"
   },
   {
    "duration": 0,
    "start_time": "2023-05-04T19:19:11.854Z"
   },
   {
    "duration": 0,
    "start_time": "2023-05-04T19:19:11.854Z"
   },
   {
    "duration": 0,
    "start_time": "2023-05-04T19:19:11.885Z"
   },
   {
    "duration": 0,
    "start_time": "2023-05-04T19:19:11.886Z"
   },
   {
    "duration": 0,
    "start_time": "2023-05-04T19:19:11.888Z"
   },
   {
    "duration": 0,
    "start_time": "2023-05-04T19:19:11.889Z"
   },
   {
    "duration": 0,
    "start_time": "2023-05-04T19:19:11.890Z"
   },
   {
    "duration": 0,
    "start_time": "2023-05-04T19:19:11.891Z"
   },
   {
    "duration": 0,
    "start_time": "2023-05-04T19:19:11.892Z"
   },
   {
    "duration": 0,
    "start_time": "2023-05-04T19:19:11.893Z"
   },
   {
    "duration": 0,
    "start_time": "2023-05-04T19:19:11.894Z"
   },
   {
    "duration": 0,
    "start_time": "2023-05-04T19:19:11.895Z"
   },
   {
    "duration": 0,
    "start_time": "2023-05-04T19:19:11.896Z"
   },
   {
    "duration": 0,
    "start_time": "2023-05-04T19:19:11.897Z"
   },
   {
    "duration": 0,
    "start_time": "2023-05-04T19:19:11.898Z"
   },
   {
    "duration": 0,
    "start_time": "2023-05-04T19:19:11.899Z"
   },
   {
    "duration": 0,
    "start_time": "2023-05-04T19:19:11.900Z"
   },
   {
    "duration": 0,
    "start_time": "2023-05-04T19:19:11.902Z"
   },
   {
    "duration": 0,
    "start_time": "2023-05-04T19:19:11.903Z"
   },
   {
    "duration": 0,
    "start_time": "2023-05-04T19:19:11.904Z"
   },
   {
    "duration": 0,
    "start_time": "2023-05-04T19:19:11.905Z"
   },
   {
    "duration": 0,
    "start_time": "2023-05-04T19:19:11.906Z"
   },
   {
    "duration": 21,
    "start_time": "2023-05-04T19:20:05.323Z"
   },
   {
    "duration": 1556,
    "start_time": "2023-05-04T19:20:10.652Z"
   },
   {
    "duration": 39,
    "start_time": "2023-05-04T19:20:12.210Z"
   },
   {
    "duration": 16,
    "start_time": "2023-05-04T19:20:12.251Z"
   },
   {
    "duration": 7,
    "start_time": "2023-05-04T19:20:12.269Z"
   },
   {
    "duration": 9,
    "start_time": "2023-05-04T19:20:12.286Z"
   },
   {
    "duration": 13,
    "start_time": "2023-05-04T19:20:12.297Z"
   },
   {
    "duration": 3,
    "start_time": "2023-05-04T19:20:12.312Z"
   },
   {
    "duration": 6,
    "start_time": "2023-05-04T19:20:12.317Z"
   },
   {
    "duration": 9,
    "start_time": "2023-05-04T19:20:12.325Z"
   },
   {
    "duration": 63,
    "start_time": "2023-05-04T19:20:12.336Z"
   },
   {
    "duration": 216,
    "start_time": "2023-05-04T19:20:12.402Z"
   },
   {
    "duration": 0,
    "start_time": "2023-05-04T19:20:12.621Z"
   },
   {
    "duration": 0,
    "start_time": "2023-05-04T19:20:12.624Z"
   },
   {
    "duration": 0,
    "start_time": "2023-05-04T19:20:12.625Z"
   },
   {
    "duration": 0,
    "start_time": "2023-05-04T19:20:12.626Z"
   },
   {
    "duration": 1,
    "start_time": "2023-05-04T19:20:12.628Z"
   },
   {
    "duration": 0,
    "start_time": "2023-05-04T19:20:12.630Z"
   },
   {
    "duration": 0,
    "start_time": "2023-05-04T19:20:12.631Z"
   },
   {
    "duration": 0,
    "start_time": "2023-05-04T19:20:12.633Z"
   },
   {
    "duration": 0,
    "start_time": "2023-05-04T19:20:12.634Z"
   },
   {
    "duration": 0,
    "start_time": "2023-05-04T19:20:12.636Z"
   },
   {
    "duration": 0,
    "start_time": "2023-05-04T19:20:12.637Z"
   },
   {
    "duration": 0,
    "start_time": "2023-05-04T19:20:12.638Z"
   },
   {
    "duration": 0,
    "start_time": "2023-05-04T19:20:12.640Z"
   },
   {
    "duration": 0,
    "start_time": "2023-05-04T19:20:12.641Z"
   },
   {
    "duration": 0,
    "start_time": "2023-05-04T19:20:12.643Z"
   },
   {
    "duration": 0,
    "start_time": "2023-05-04T19:20:12.645Z"
   },
   {
    "duration": 0,
    "start_time": "2023-05-04T19:20:12.648Z"
   },
   {
    "duration": 0,
    "start_time": "2023-05-04T19:20:12.686Z"
   },
   {
    "duration": 0,
    "start_time": "2023-05-04T19:20:12.687Z"
   },
   {
    "duration": 0,
    "start_time": "2023-05-04T19:20:12.688Z"
   },
   {
    "duration": 0,
    "start_time": "2023-05-04T19:20:12.690Z"
   },
   {
    "duration": 0,
    "start_time": "2023-05-04T19:20:12.691Z"
   },
   {
    "duration": 0,
    "start_time": "2023-05-04T19:20:12.693Z"
   },
   {
    "duration": 0,
    "start_time": "2023-05-04T19:20:12.694Z"
   },
   {
    "duration": 0,
    "start_time": "2023-05-04T19:20:12.695Z"
   },
   {
    "duration": 0,
    "start_time": "2023-05-04T19:20:12.697Z"
   },
   {
    "duration": 0,
    "start_time": "2023-05-04T19:20:12.698Z"
   },
   {
    "duration": 0,
    "start_time": "2023-05-04T19:20:12.700Z"
   },
   {
    "duration": 0,
    "start_time": "2023-05-04T19:20:12.701Z"
   },
   {
    "duration": 0,
    "start_time": "2023-05-04T19:20:12.704Z"
   },
   {
    "duration": 0,
    "start_time": "2023-05-04T19:20:12.704Z"
   },
   {
    "duration": 0,
    "start_time": "2023-05-04T19:20:12.706Z"
   },
   {
    "duration": 0,
    "start_time": "2023-05-04T19:20:12.707Z"
   },
   {
    "duration": 0,
    "start_time": "2023-05-04T19:20:12.709Z"
   },
   {
    "duration": 0,
    "start_time": "2023-05-04T19:20:12.710Z"
   },
   {
    "duration": 0,
    "start_time": "2023-05-04T19:20:12.711Z"
   },
   {
    "duration": 1,
    "start_time": "2023-05-04T19:20:12.712Z"
   },
   {
    "duration": 0,
    "start_time": "2023-05-04T19:20:12.713Z"
   },
   {
    "duration": 24,
    "start_time": "2023-05-04T19:20:45.747Z"
   },
   {
    "duration": 1421,
    "start_time": "2023-05-04T19:20:51.038Z"
   },
   {
    "duration": 39,
    "start_time": "2023-05-04T19:20:52.462Z"
   },
   {
    "duration": 14,
    "start_time": "2023-05-04T19:20:52.503Z"
   },
   {
    "duration": 14,
    "start_time": "2023-05-04T19:20:52.520Z"
   },
   {
    "duration": 21,
    "start_time": "2023-05-04T19:20:52.536Z"
   },
   {
    "duration": 7,
    "start_time": "2023-05-04T19:20:52.558Z"
   },
   {
    "duration": 15,
    "start_time": "2023-05-04T19:20:52.566Z"
   },
   {
    "duration": 15,
    "start_time": "2023-05-04T19:20:52.586Z"
   },
   {
    "duration": 17,
    "start_time": "2023-05-04T19:20:52.603Z"
   },
   {
    "duration": 26,
    "start_time": "2023-05-04T19:20:52.623Z"
   },
   {
    "duration": 148,
    "start_time": "2023-05-04T19:20:52.651Z"
   },
   {
    "duration": 0,
    "start_time": "2023-05-04T19:20:52.802Z"
   },
   {
    "duration": 0,
    "start_time": "2023-05-04T19:20:52.803Z"
   },
   {
    "duration": 0,
    "start_time": "2023-05-04T19:20:52.804Z"
   },
   {
    "duration": 0,
    "start_time": "2023-05-04T19:20:52.805Z"
   },
   {
    "duration": 0,
    "start_time": "2023-05-04T19:20:52.806Z"
   },
   {
    "duration": 0,
    "start_time": "2023-05-04T19:20:52.807Z"
   },
   {
    "duration": 0,
    "start_time": "2023-05-04T19:20:52.808Z"
   },
   {
    "duration": 0,
    "start_time": "2023-05-04T19:20:52.809Z"
   },
   {
    "duration": 0,
    "start_time": "2023-05-04T19:20:52.810Z"
   },
   {
    "duration": 0,
    "start_time": "2023-05-04T19:20:52.811Z"
   },
   {
    "duration": 0,
    "start_time": "2023-05-04T19:20:52.812Z"
   },
   {
    "duration": 0,
    "start_time": "2023-05-04T19:20:52.813Z"
   },
   {
    "duration": 0,
    "start_time": "2023-05-04T19:20:52.814Z"
   },
   {
    "duration": 0,
    "start_time": "2023-05-04T19:20:52.815Z"
   },
   {
    "duration": 0,
    "start_time": "2023-05-04T19:20:52.816Z"
   },
   {
    "duration": 0,
    "start_time": "2023-05-04T19:20:52.817Z"
   },
   {
    "duration": 0,
    "start_time": "2023-05-04T19:20:52.819Z"
   },
   {
    "duration": 0,
    "start_time": "2023-05-04T19:20:52.820Z"
   },
   {
    "duration": 0,
    "start_time": "2023-05-04T19:20:52.821Z"
   },
   {
    "duration": 0,
    "start_time": "2023-05-04T19:20:52.822Z"
   },
   {
    "duration": 0,
    "start_time": "2023-05-04T19:20:52.823Z"
   },
   {
    "duration": 0,
    "start_time": "2023-05-04T19:20:52.824Z"
   },
   {
    "duration": 0,
    "start_time": "2023-05-04T19:20:52.826Z"
   },
   {
    "duration": 0,
    "start_time": "2023-05-04T19:20:52.827Z"
   },
   {
    "duration": 0,
    "start_time": "2023-05-04T19:20:52.829Z"
   },
   {
    "duration": 0,
    "start_time": "2023-05-04T19:20:52.830Z"
   },
   {
    "duration": 0,
    "start_time": "2023-05-04T19:20:52.831Z"
   },
   {
    "duration": 0,
    "start_time": "2023-05-04T19:20:52.832Z"
   },
   {
    "duration": 0,
    "start_time": "2023-05-04T19:20:52.833Z"
   },
   {
    "duration": 0,
    "start_time": "2023-05-04T19:20:52.834Z"
   },
   {
    "duration": 0,
    "start_time": "2023-05-04T19:20:52.885Z"
   },
   {
    "duration": 0,
    "start_time": "2023-05-04T19:20:52.887Z"
   },
   {
    "duration": 0,
    "start_time": "2023-05-04T19:20:52.888Z"
   },
   {
    "duration": 0,
    "start_time": "2023-05-04T19:20:52.889Z"
   },
   {
    "duration": 0,
    "start_time": "2023-05-04T19:20:52.890Z"
   },
   {
    "duration": 0,
    "start_time": "2023-05-04T19:20:52.891Z"
   },
   {
    "duration": 0,
    "start_time": "2023-05-04T19:20:52.892Z"
   },
   {
    "duration": 0,
    "start_time": "2023-05-04T19:20:52.893Z"
   },
   {
    "duration": 4,
    "start_time": "2023-05-04T19:23:33.752Z"
   },
   {
    "duration": 15,
    "start_time": "2023-05-04T19:23:41.914Z"
   },
   {
    "duration": 13,
    "start_time": "2023-05-04T19:23:56.253Z"
   },
   {
    "duration": 32,
    "start_time": "2023-05-04T19:25:36.459Z"
   },
   {
    "duration": 1472,
    "start_time": "2023-05-04T19:26:07.192Z"
   },
   {
    "duration": 38,
    "start_time": "2023-05-04T19:26:08.666Z"
   },
   {
    "duration": 17,
    "start_time": "2023-05-04T19:26:08.705Z"
   },
   {
    "duration": 10,
    "start_time": "2023-05-04T19:26:08.724Z"
   },
   {
    "duration": 21,
    "start_time": "2023-05-04T19:26:08.737Z"
   },
   {
    "duration": 10,
    "start_time": "2023-05-04T19:26:08.759Z"
   },
   {
    "duration": 18,
    "start_time": "2023-05-04T19:26:08.771Z"
   },
   {
    "duration": 11,
    "start_time": "2023-05-04T19:26:08.791Z"
   },
   {
    "duration": 9,
    "start_time": "2023-05-04T19:26:08.804Z"
   },
   {
    "duration": 14,
    "start_time": "2023-05-04T19:26:08.814Z"
   },
   {
    "duration": 157,
    "start_time": "2023-05-04T19:26:08.829Z"
   },
   {
    "duration": 0,
    "start_time": "2023-05-04T19:26:08.989Z"
   },
   {
    "duration": 0,
    "start_time": "2023-05-04T19:26:08.991Z"
   },
   {
    "duration": 0,
    "start_time": "2023-05-04T19:26:08.992Z"
   },
   {
    "duration": 0,
    "start_time": "2023-05-04T19:26:08.993Z"
   },
   {
    "duration": 0,
    "start_time": "2023-05-04T19:26:08.994Z"
   },
   {
    "duration": 0,
    "start_time": "2023-05-04T19:26:08.995Z"
   },
   {
    "duration": 0,
    "start_time": "2023-05-04T19:26:08.996Z"
   },
   {
    "duration": 0,
    "start_time": "2023-05-04T19:26:08.997Z"
   },
   {
    "duration": 0,
    "start_time": "2023-05-04T19:26:08.998Z"
   },
   {
    "duration": 0,
    "start_time": "2023-05-04T19:26:08.999Z"
   },
   {
    "duration": 0,
    "start_time": "2023-05-04T19:26:09.000Z"
   },
   {
    "duration": 0,
    "start_time": "2023-05-04T19:26:09.001Z"
   },
   {
    "duration": 0,
    "start_time": "2023-05-04T19:26:09.002Z"
   },
   {
    "duration": 0,
    "start_time": "2023-05-04T19:26:09.003Z"
   },
   {
    "duration": 0,
    "start_time": "2023-05-04T19:26:09.005Z"
   },
   {
    "duration": 0,
    "start_time": "2023-05-04T19:26:09.006Z"
   },
   {
    "duration": 0,
    "start_time": "2023-05-04T19:26:09.007Z"
   },
   {
    "duration": 0,
    "start_time": "2023-05-04T19:26:09.008Z"
   },
   {
    "duration": 0,
    "start_time": "2023-05-04T19:26:09.009Z"
   },
   {
    "duration": 0,
    "start_time": "2023-05-04T19:26:09.010Z"
   },
   {
    "duration": 0,
    "start_time": "2023-05-04T19:26:09.011Z"
   },
   {
    "duration": 0,
    "start_time": "2023-05-04T19:26:09.012Z"
   },
   {
    "duration": 0,
    "start_time": "2023-05-04T19:26:09.013Z"
   },
   {
    "duration": 0,
    "start_time": "2023-05-04T19:26:09.015Z"
   },
   {
    "duration": 0,
    "start_time": "2023-05-04T19:26:09.016Z"
   },
   {
    "duration": 0,
    "start_time": "2023-05-04T19:26:09.017Z"
   },
   {
    "duration": 0,
    "start_time": "2023-05-04T19:26:09.018Z"
   },
   {
    "duration": 0,
    "start_time": "2023-05-04T19:26:09.019Z"
   },
   {
    "duration": 0,
    "start_time": "2023-05-04T19:26:09.020Z"
   },
   {
    "duration": 0,
    "start_time": "2023-05-04T19:26:09.021Z"
   },
   {
    "duration": 0,
    "start_time": "2023-05-04T19:26:09.021Z"
   },
   {
    "duration": 0,
    "start_time": "2023-05-04T19:26:09.022Z"
   },
   {
    "duration": 0,
    "start_time": "2023-05-04T19:26:09.023Z"
   },
   {
    "duration": 0,
    "start_time": "2023-05-04T19:26:09.086Z"
   },
   {
    "duration": 0,
    "start_time": "2023-05-04T19:26:09.087Z"
   },
   {
    "duration": 0,
    "start_time": "2023-05-04T19:26:09.088Z"
   },
   {
    "duration": 0,
    "start_time": "2023-05-04T19:26:09.089Z"
   },
   {
    "duration": 0,
    "start_time": "2023-05-04T19:26:09.091Z"
   },
   {
    "duration": 31,
    "start_time": "2023-05-04T19:26:33.681Z"
   },
   {
    "duration": 1399,
    "start_time": "2023-05-04T19:26:47.649Z"
   },
   {
    "duration": 35,
    "start_time": "2023-05-04T19:26:49.050Z"
   },
   {
    "duration": 12,
    "start_time": "2023-05-04T19:26:49.087Z"
   },
   {
    "duration": 6,
    "start_time": "2023-05-04T19:26:49.100Z"
   },
   {
    "duration": 6,
    "start_time": "2023-05-04T19:26:49.108Z"
   },
   {
    "duration": 4,
    "start_time": "2023-05-04T19:26:49.116Z"
   },
   {
    "duration": 2,
    "start_time": "2023-05-04T19:26:49.122Z"
   },
   {
    "duration": 9,
    "start_time": "2023-05-04T19:26:49.126Z"
   },
   {
    "duration": 8,
    "start_time": "2023-05-04T19:26:49.136Z"
   },
   {
    "duration": 15,
    "start_time": "2023-05-04T19:26:49.185Z"
   },
   {
    "duration": 152,
    "start_time": "2023-05-04T19:26:49.202Z"
   },
   {
    "duration": 0,
    "start_time": "2023-05-04T19:26:49.359Z"
   },
   {
    "duration": 0,
    "start_time": "2023-05-04T19:26:49.361Z"
   },
   {
    "duration": 0,
    "start_time": "2023-05-04T19:26:49.362Z"
   },
   {
    "duration": 0,
    "start_time": "2023-05-04T19:26:49.363Z"
   },
   {
    "duration": 1,
    "start_time": "2023-05-04T19:26:49.385Z"
   },
   {
    "duration": 0,
    "start_time": "2023-05-04T19:26:49.387Z"
   },
   {
    "duration": 0,
    "start_time": "2023-05-04T19:26:49.389Z"
   },
   {
    "duration": 0,
    "start_time": "2023-05-04T19:26:49.390Z"
   },
   {
    "duration": 0,
    "start_time": "2023-05-04T19:26:49.391Z"
   },
   {
    "duration": 0,
    "start_time": "2023-05-04T19:26:49.393Z"
   },
   {
    "duration": 0,
    "start_time": "2023-05-04T19:26:49.394Z"
   },
   {
    "duration": 0,
    "start_time": "2023-05-04T19:26:49.396Z"
   },
   {
    "duration": 0,
    "start_time": "2023-05-04T19:26:49.397Z"
   },
   {
    "duration": 0,
    "start_time": "2023-05-04T19:26:49.398Z"
   },
   {
    "duration": 0,
    "start_time": "2023-05-04T19:26:49.400Z"
   },
   {
    "duration": 0,
    "start_time": "2023-05-04T19:26:49.401Z"
   },
   {
    "duration": 0,
    "start_time": "2023-05-04T19:26:49.403Z"
   },
   {
    "duration": 0,
    "start_time": "2023-05-04T19:26:49.404Z"
   },
   {
    "duration": 1,
    "start_time": "2023-05-04T19:26:49.405Z"
   },
   {
    "duration": 0,
    "start_time": "2023-05-04T19:26:49.407Z"
   },
   {
    "duration": 0,
    "start_time": "2023-05-04T19:26:49.408Z"
   },
   {
    "duration": 1,
    "start_time": "2023-05-04T19:26:49.409Z"
   },
   {
    "duration": 0,
    "start_time": "2023-05-04T19:26:49.411Z"
   },
   {
    "duration": 0,
    "start_time": "2023-05-04T19:26:49.413Z"
   },
   {
    "duration": 0,
    "start_time": "2023-05-04T19:26:49.414Z"
   },
   {
    "duration": 1,
    "start_time": "2023-05-04T19:26:49.416Z"
   },
   {
    "duration": 0,
    "start_time": "2023-05-04T19:26:49.418Z"
   },
   {
    "duration": 0,
    "start_time": "2023-05-04T19:26:49.419Z"
   },
   {
    "duration": 0,
    "start_time": "2023-05-04T19:26:49.420Z"
   },
   {
    "duration": 0,
    "start_time": "2023-05-04T19:26:49.422Z"
   },
   {
    "duration": 0,
    "start_time": "2023-05-04T19:26:49.423Z"
   },
   {
    "duration": 0,
    "start_time": "2023-05-04T19:26:49.424Z"
   },
   {
    "duration": 0,
    "start_time": "2023-05-04T19:26:49.485Z"
   },
   {
    "duration": 0,
    "start_time": "2023-05-04T19:26:49.486Z"
   },
   {
    "duration": 0,
    "start_time": "2023-05-04T19:26:49.487Z"
   },
   {
    "duration": 0,
    "start_time": "2023-05-04T19:26:49.488Z"
   },
   {
    "duration": 0,
    "start_time": "2023-05-04T19:26:49.490Z"
   },
   {
    "duration": 19,
    "start_time": "2023-05-04T19:27:10.451Z"
   },
   {
    "duration": 1431,
    "start_time": "2023-05-04T19:27:22.638Z"
   },
   {
    "duration": 41,
    "start_time": "2023-05-04T19:27:24.072Z"
   },
   {
    "duration": 18,
    "start_time": "2023-05-04T19:27:24.116Z"
   },
   {
    "duration": 8,
    "start_time": "2023-05-04T19:27:24.137Z"
   },
   {
    "duration": 8,
    "start_time": "2023-05-04T19:27:24.147Z"
   },
   {
    "duration": 32,
    "start_time": "2023-05-04T19:27:24.157Z"
   },
   {
    "duration": 6,
    "start_time": "2023-05-04T19:27:24.191Z"
   },
   {
    "duration": 8,
    "start_time": "2023-05-04T19:27:24.199Z"
   },
   {
    "duration": 13,
    "start_time": "2023-05-04T19:27:24.209Z"
   },
   {
    "duration": 14,
    "start_time": "2023-05-04T19:27:24.228Z"
   },
   {
    "duration": 71,
    "start_time": "2023-05-04T19:27:24.244Z"
   },
   {
    "duration": 136,
    "start_time": "2023-05-04T19:27:24.316Z"
   },
   {
    "duration": 0,
    "start_time": "2023-05-04T19:27:24.455Z"
   },
   {
    "duration": 0,
    "start_time": "2023-05-04T19:27:24.456Z"
   },
   {
    "duration": 0,
    "start_time": "2023-05-04T19:27:24.457Z"
   },
   {
    "duration": 0,
    "start_time": "2023-05-04T19:27:24.458Z"
   },
   {
    "duration": 0,
    "start_time": "2023-05-04T19:27:24.459Z"
   },
   {
    "duration": 0,
    "start_time": "2023-05-04T19:27:24.460Z"
   },
   {
    "duration": 0,
    "start_time": "2023-05-04T19:27:24.461Z"
   },
   {
    "duration": 0,
    "start_time": "2023-05-04T19:27:24.462Z"
   },
   {
    "duration": 0,
    "start_time": "2023-05-04T19:27:24.463Z"
   },
   {
    "duration": 0,
    "start_time": "2023-05-04T19:27:24.464Z"
   },
   {
    "duration": 0,
    "start_time": "2023-05-04T19:27:24.465Z"
   },
   {
    "duration": 0,
    "start_time": "2023-05-04T19:27:24.465Z"
   },
   {
    "duration": 0,
    "start_time": "2023-05-04T19:27:24.467Z"
   },
   {
    "duration": 0,
    "start_time": "2023-05-04T19:27:24.485Z"
   },
   {
    "duration": 0,
    "start_time": "2023-05-04T19:27:24.487Z"
   },
   {
    "duration": 0,
    "start_time": "2023-05-04T19:27:24.488Z"
   },
   {
    "duration": 1,
    "start_time": "2023-05-04T19:27:24.489Z"
   },
   {
    "duration": 0,
    "start_time": "2023-05-04T19:27:24.492Z"
   },
   {
    "duration": 0,
    "start_time": "2023-05-04T19:27:24.493Z"
   },
   {
    "duration": 0,
    "start_time": "2023-05-04T19:27:24.494Z"
   },
   {
    "duration": 0,
    "start_time": "2023-05-04T19:27:24.495Z"
   },
   {
    "duration": 0,
    "start_time": "2023-05-04T19:27:24.497Z"
   },
   {
    "duration": 0,
    "start_time": "2023-05-04T19:27:24.497Z"
   },
   {
    "duration": 0,
    "start_time": "2023-05-04T19:27:24.498Z"
   },
   {
    "duration": 0,
    "start_time": "2023-05-04T19:27:24.501Z"
   },
   {
    "duration": 0,
    "start_time": "2023-05-04T19:27:24.503Z"
   },
   {
    "duration": 0,
    "start_time": "2023-05-04T19:27:24.504Z"
   },
   {
    "duration": 0,
    "start_time": "2023-05-04T19:27:24.506Z"
   },
   {
    "duration": 0,
    "start_time": "2023-05-04T19:27:24.507Z"
   },
   {
    "duration": 0,
    "start_time": "2023-05-04T19:27:24.509Z"
   },
   {
    "duration": 0,
    "start_time": "2023-05-04T19:27:24.510Z"
   },
   {
    "duration": 0,
    "start_time": "2023-05-04T19:27:24.511Z"
   },
   {
    "duration": 1,
    "start_time": "2023-05-04T19:27:24.512Z"
   },
   {
    "duration": 0,
    "start_time": "2023-05-04T19:27:24.513Z"
   },
   {
    "duration": 0,
    "start_time": "2023-05-04T19:27:24.514Z"
   },
   {
    "duration": 0,
    "start_time": "2023-05-04T19:27:24.516Z"
   },
   {
    "duration": 14,
    "start_time": "2023-05-04T19:27:54.782Z"
   },
   {
    "duration": 1492,
    "start_time": "2023-05-04T19:27:59.501Z"
   },
   {
    "duration": 39,
    "start_time": "2023-05-04T19:28:00.995Z"
   },
   {
    "duration": 13,
    "start_time": "2023-05-04T19:28:01.036Z"
   },
   {
    "duration": 34,
    "start_time": "2023-05-04T19:28:01.051Z"
   },
   {
    "duration": 27,
    "start_time": "2023-05-04T19:28:01.087Z"
   },
   {
    "duration": 26,
    "start_time": "2023-05-04T19:28:01.116Z"
   },
   {
    "duration": 45,
    "start_time": "2023-05-04T19:28:01.144Z"
   },
   {
    "duration": 24,
    "start_time": "2023-05-04T19:28:01.191Z"
   },
   {
    "duration": 28,
    "start_time": "2023-05-04T19:28:01.217Z"
   },
   {
    "duration": 34,
    "start_time": "2023-05-04T19:28:01.248Z"
   },
   {
    "duration": 36,
    "start_time": "2023-05-04T19:28:01.284Z"
   },
   {
    "duration": 137,
    "start_time": "2023-05-04T19:28:01.321Z"
   },
   {
    "duration": 0,
    "start_time": "2023-05-04T19:28:01.461Z"
   },
   {
    "duration": 0,
    "start_time": "2023-05-04T19:28:01.462Z"
   },
   {
    "duration": 0,
    "start_time": "2023-05-04T19:28:01.463Z"
   },
   {
    "duration": 0,
    "start_time": "2023-05-04T19:28:01.464Z"
   },
   {
    "duration": 0,
    "start_time": "2023-05-04T19:28:01.465Z"
   },
   {
    "duration": 0,
    "start_time": "2023-05-04T19:28:01.466Z"
   },
   {
    "duration": 0,
    "start_time": "2023-05-04T19:28:01.467Z"
   },
   {
    "duration": 0,
    "start_time": "2023-05-04T19:28:01.468Z"
   },
   {
    "duration": 0,
    "start_time": "2023-05-04T19:28:01.469Z"
   },
   {
    "duration": 1,
    "start_time": "2023-05-04T19:28:01.485Z"
   },
   {
    "duration": 0,
    "start_time": "2023-05-04T19:28:01.486Z"
   },
   {
    "duration": 0,
    "start_time": "2023-05-04T19:28:01.488Z"
   },
   {
    "duration": 0,
    "start_time": "2023-05-04T19:28:01.489Z"
   },
   {
    "duration": 0,
    "start_time": "2023-05-04T19:28:01.490Z"
   },
   {
    "duration": 0,
    "start_time": "2023-05-04T19:28:01.491Z"
   },
   {
    "duration": 0,
    "start_time": "2023-05-04T19:28:01.492Z"
   },
   {
    "duration": 0,
    "start_time": "2023-05-04T19:28:01.493Z"
   },
   {
    "duration": 0,
    "start_time": "2023-05-04T19:28:01.494Z"
   },
   {
    "duration": 0,
    "start_time": "2023-05-04T19:28:01.494Z"
   },
   {
    "duration": 0,
    "start_time": "2023-05-04T19:28:01.495Z"
   },
   {
    "duration": 0,
    "start_time": "2023-05-04T19:28:01.496Z"
   },
   {
    "duration": 0,
    "start_time": "2023-05-04T19:28:01.497Z"
   },
   {
    "duration": 0,
    "start_time": "2023-05-04T19:28:01.498Z"
   },
   {
    "duration": 0,
    "start_time": "2023-05-04T19:28:01.499Z"
   },
   {
    "duration": 0,
    "start_time": "2023-05-04T19:28:01.500Z"
   },
   {
    "duration": 0,
    "start_time": "2023-05-04T19:28:01.501Z"
   },
   {
    "duration": 0,
    "start_time": "2023-05-04T19:28:01.502Z"
   },
   {
    "duration": 0,
    "start_time": "2023-05-04T19:28:01.503Z"
   },
   {
    "duration": 0,
    "start_time": "2023-05-04T19:28:01.504Z"
   },
   {
    "duration": 0,
    "start_time": "2023-05-04T19:28:01.505Z"
   },
   {
    "duration": 0,
    "start_time": "2023-05-04T19:28:01.506Z"
   },
   {
    "duration": 0,
    "start_time": "2023-05-04T19:28:01.506Z"
   },
   {
    "duration": 0,
    "start_time": "2023-05-04T19:28:01.507Z"
   },
   {
    "duration": 0,
    "start_time": "2023-05-04T19:28:01.509Z"
   },
   {
    "duration": 1,
    "start_time": "2023-05-04T19:28:01.509Z"
   },
   {
    "duration": 0,
    "start_time": "2023-05-04T19:28:01.510Z"
   },
   {
    "duration": 37,
    "start_time": "2023-05-04T19:29:13.929Z"
   },
   {
    "duration": 10,
    "start_time": "2023-05-04T19:30:41.110Z"
   },
   {
    "duration": 6,
    "start_time": "2023-05-04T19:31:07.969Z"
   },
   {
    "duration": 10,
    "start_time": "2023-05-04T19:31:29.037Z"
   },
   {
    "duration": 10,
    "start_time": "2023-05-04T19:32:25.916Z"
   },
   {
    "duration": 23,
    "start_time": "2023-05-04T19:32:45.369Z"
   },
   {
    "duration": 1625,
    "start_time": "2023-05-04T19:33:33.378Z"
   },
   {
    "duration": 38,
    "start_time": "2023-05-04T19:33:35.005Z"
   },
   {
    "duration": 15,
    "start_time": "2023-05-04T19:33:35.045Z"
   },
   {
    "duration": 29,
    "start_time": "2023-05-04T19:33:35.062Z"
   },
   {
    "duration": 31,
    "start_time": "2023-05-04T19:33:35.092Z"
   },
   {
    "duration": 16,
    "start_time": "2023-05-04T19:33:35.125Z"
   },
   {
    "duration": 20,
    "start_time": "2023-05-04T19:33:35.143Z"
   },
   {
    "duration": 43,
    "start_time": "2023-05-04T19:33:35.165Z"
   },
   {
    "duration": 36,
    "start_time": "2023-05-04T19:33:35.210Z"
   },
   {
    "duration": 43,
    "start_time": "2023-05-04T19:33:35.249Z"
   },
   {
    "duration": 86,
    "start_time": "2023-05-04T19:33:35.294Z"
   },
   {
    "duration": 29,
    "start_time": "2023-05-04T19:33:35.382Z"
   },
   {
    "duration": 5,
    "start_time": "2023-05-04T19:33:35.413Z"
   },
   {
    "duration": 15,
    "start_time": "2023-05-04T19:33:35.420Z"
   },
   {
    "duration": 183,
    "start_time": "2023-05-04T19:33:35.436Z"
   },
   {
    "duration": 0,
    "start_time": "2023-05-04T19:33:35.621Z"
   },
   {
    "duration": 0,
    "start_time": "2023-05-04T19:33:35.623Z"
   },
   {
    "duration": 0,
    "start_time": "2023-05-04T19:33:35.624Z"
   },
   {
    "duration": 0,
    "start_time": "2023-05-04T19:33:35.625Z"
   },
   {
    "duration": 0,
    "start_time": "2023-05-04T19:33:35.626Z"
   },
   {
    "duration": 0,
    "start_time": "2023-05-04T19:33:35.627Z"
   },
   {
    "duration": 0,
    "start_time": "2023-05-04T19:33:35.629Z"
   },
   {
    "duration": 0,
    "start_time": "2023-05-04T19:33:35.629Z"
   },
   {
    "duration": 0,
    "start_time": "2023-05-04T19:33:35.630Z"
   },
   {
    "duration": 0,
    "start_time": "2023-05-04T19:33:35.631Z"
   },
   {
    "duration": 0,
    "start_time": "2023-05-04T19:33:35.632Z"
   },
   {
    "duration": 0,
    "start_time": "2023-05-04T19:33:35.633Z"
   },
   {
    "duration": 0,
    "start_time": "2023-05-04T19:33:35.634Z"
   },
   {
    "duration": 0,
    "start_time": "2023-05-04T19:33:35.635Z"
   },
   {
    "duration": 0,
    "start_time": "2023-05-04T19:33:35.636Z"
   },
   {
    "duration": 0,
    "start_time": "2023-05-04T19:33:35.637Z"
   },
   {
    "duration": 0,
    "start_time": "2023-05-04T19:33:35.638Z"
   },
   {
    "duration": 0,
    "start_time": "2023-05-04T19:33:35.639Z"
   },
   {
    "duration": 0,
    "start_time": "2023-05-04T19:33:35.640Z"
   },
   {
    "duration": 0,
    "start_time": "2023-05-04T19:33:35.642Z"
   },
   {
    "duration": 0,
    "start_time": "2023-05-04T19:33:35.642Z"
   },
   {
    "duration": 0,
    "start_time": "2023-05-04T19:33:35.643Z"
   },
   {
    "duration": 0,
    "start_time": "2023-05-04T19:33:35.644Z"
   },
   {
    "duration": 0,
    "start_time": "2023-05-04T19:33:35.646Z"
   },
   {
    "duration": 0,
    "start_time": "2023-05-04T19:33:35.647Z"
   },
   {
    "duration": 0,
    "start_time": "2023-05-04T19:33:35.648Z"
   },
   {
    "duration": 0,
    "start_time": "2023-05-04T19:33:35.650Z"
   },
   {
    "duration": 0,
    "start_time": "2023-05-04T19:33:35.651Z"
   },
   {
    "duration": 0,
    "start_time": "2023-05-04T19:33:35.652Z"
   },
   {
    "duration": 0,
    "start_time": "2023-05-04T19:33:35.654Z"
   },
   {
    "duration": 0,
    "start_time": "2023-05-04T19:33:35.655Z"
   },
   {
    "duration": 0,
    "start_time": "2023-05-04T19:33:35.657Z"
   },
   {
    "duration": 0,
    "start_time": "2023-05-04T19:33:35.658Z"
   },
   {
    "duration": 0,
    "start_time": "2023-05-04T19:33:35.659Z"
   },
   {
    "duration": 1432,
    "start_time": "2023-05-04T19:35:11.571Z"
   },
   {
    "duration": 37,
    "start_time": "2023-05-04T19:35:13.005Z"
   },
   {
    "duration": 13,
    "start_time": "2023-05-04T19:35:13.043Z"
   },
   {
    "duration": 9,
    "start_time": "2023-05-04T19:35:13.058Z"
   },
   {
    "duration": 9,
    "start_time": "2023-05-04T19:35:13.068Z"
   },
   {
    "duration": 4,
    "start_time": "2023-05-04T19:35:13.084Z"
   },
   {
    "duration": 4,
    "start_time": "2023-05-04T19:35:13.090Z"
   },
   {
    "duration": 9,
    "start_time": "2023-05-04T19:35:13.095Z"
   },
   {
    "duration": 12,
    "start_time": "2023-05-04T19:35:13.105Z"
   },
   {
    "duration": 14,
    "start_time": "2023-05-04T19:35:13.120Z"
   },
   {
    "duration": 52,
    "start_time": "2023-05-04T19:35:13.135Z"
   },
   {
    "duration": 29,
    "start_time": "2023-05-04T19:35:13.188Z"
   },
   {
    "duration": 6,
    "start_time": "2023-05-04T19:35:13.218Z"
   },
   {
    "duration": 15,
    "start_time": "2023-05-04T19:35:13.226Z"
   },
   {
    "duration": 151,
    "start_time": "2023-05-04T19:35:13.243Z"
   },
   {
    "duration": 0,
    "start_time": "2023-05-04T19:35:13.396Z"
   },
   {
    "duration": 0,
    "start_time": "2023-05-04T19:35:13.397Z"
   },
   {
    "duration": 0,
    "start_time": "2023-05-04T19:35:13.398Z"
   },
   {
    "duration": 0,
    "start_time": "2023-05-04T19:35:13.399Z"
   },
   {
    "duration": 0,
    "start_time": "2023-05-04T19:35:13.400Z"
   },
   {
    "duration": 0,
    "start_time": "2023-05-04T19:35:13.401Z"
   },
   {
    "duration": 0,
    "start_time": "2023-05-04T19:35:13.402Z"
   },
   {
    "duration": 0,
    "start_time": "2023-05-04T19:35:13.403Z"
   },
   {
    "duration": 0,
    "start_time": "2023-05-04T19:35:13.405Z"
   },
   {
    "duration": 0,
    "start_time": "2023-05-04T19:35:13.406Z"
   },
   {
    "duration": 0,
    "start_time": "2023-05-04T19:35:13.407Z"
   },
   {
    "duration": 0,
    "start_time": "2023-05-04T19:35:13.408Z"
   },
   {
    "duration": 0,
    "start_time": "2023-05-04T19:35:13.409Z"
   },
   {
    "duration": 0,
    "start_time": "2023-05-04T19:35:13.410Z"
   },
   {
    "duration": 0,
    "start_time": "2023-05-04T19:35:13.411Z"
   },
   {
    "duration": 0,
    "start_time": "2023-05-04T19:35:13.412Z"
   },
   {
    "duration": 0,
    "start_time": "2023-05-04T19:35:13.413Z"
   },
   {
    "duration": 0,
    "start_time": "2023-05-04T19:35:13.414Z"
   },
   {
    "duration": 0,
    "start_time": "2023-05-04T19:35:13.415Z"
   },
   {
    "duration": 0,
    "start_time": "2023-05-04T19:35:13.417Z"
   },
   {
    "duration": 0,
    "start_time": "2023-05-04T19:35:13.417Z"
   },
   {
    "duration": 0,
    "start_time": "2023-05-04T19:35:13.419Z"
   },
   {
    "duration": 0,
    "start_time": "2023-05-04T19:35:13.420Z"
   },
   {
    "duration": 0,
    "start_time": "2023-05-04T19:35:13.421Z"
   },
   {
    "duration": 0,
    "start_time": "2023-05-04T19:35:13.422Z"
   },
   {
    "duration": 0,
    "start_time": "2023-05-04T19:35:13.423Z"
   },
   {
    "duration": 0,
    "start_time": "2023-05-04T19:35:13.424Z"
   },
   {
    "duration": 0,
    "start_time": "2023-05-04T19:35:13.425Z"
   },
   {
    "duration": 0,
    "start_time": "2023-05-04T19:35:13.426Z"
   },
   {
    "duration": 0,
    "start_time": "2023-05-04T19:35:13.427Z"
   },
   {
    "duration": 0,
    "start_time": "2023-05-04T19:35:13.428Z"
   },
   {
    "duration": 0,
    "start_time": "2023-05-04T19:35:13.429Z"
   },
   {
    "duration": 0,
    "start_time": "2023-05-04T19:35:13.485Z"
   },
   {
    "duration": 0,
    "start_time": "2023-05-04T19:35:13.487Z"
   },
   {
    "duration": 21,
    "start_time": "2023-05-04T19:35:45.421Z"
   },
   {
    "duration": 27,
    "start_time": "2023-05-04T19:35:58.177Z"
   },
   {
    "duration": 1568,
    "start_time": "2023-05-04T19:36:03.066Z"
   },
   {
    "duration": 38,
    "start_time": "2023-05-04T19:36:04.637Z"
   },
   {
    "duration": 15,
    "start_time": "2023-05-04T19:36:04.677Z"
   },
   {
    "duration": 7,
    "start_time": "2023-05-04T19:36:04.694Z"
   },
   {
    "duration": 25,
    "start_time": "2023-05-04T19:36:04.702Z"
   },
   {
    "duration": 6,
    "start_time": "2023-05-04T19:36:04.729Z"
   },
   {
    "duration": 12,
    "start_time": "2023-05-04T19:36:04.736Z"
   },
   {
    "duration": 9,
    "start_time": "2023-05-04T19:36:04.750Z"
   },
   {
    "duration": 8,
    "start_time": "2023-05-04T19:36:04.761Z"
   },
   {
    "duration": 15,
    "start_time": "2023-05-04T19:36:04.784Z"
   },
   {
    "duration": 31,
    "start_time": "2023-05-04T19:36:04.800Z"
   },
   {
    "duration": 28,
    "start_time": "2023-05-04T19:36:04.832Z"
   },
   {
    "duration": 6,
    "start_time": "2023-05-04T19:36:04.886Z"
   },
   {
    "duration": 13,
    "start_time": "2023-05-04T19:36:04.894Z"
   },
   {
    "duration": 156,
    "start_time": "2023-05-04T19:36:04.908Z"
   },
   {
    "duration": 0,
    "start_time": "2023-05-04T19:36:05.067Z"
   },
   {
    "duration": 0,
    "start_time": "2023-05-04T19:36:05.068Z"
   },
   {
    "duration": 0,
    "start_time": "2023-05-04T19:36:05.069Z"
   },
   {
    "duration": 0,
    "start_time": "2023-05-04T19:36:05.070Z"
   },
   {
    "duration": 0,
    "start_time": "2023-05-04T19:36:05.072Z"
   },
   {
    "duration": 0,
    "start_time": "2023-05-04T19:36:05.072Z"
   },
   {
    "duration": 0,
    "start_time": "2023-05-04T19:36:05.073Z"
   },
   {
    "duration": 0,
    "start_time": "2023-05-04T19:36:05.073Z"
   },
   {
    "duration": 0,
    "start_time": "2023-05-04T19:36:05.074Z"
   },
   {
    "duration": 0,
    "start_time": "2023-05-04T19:36:05.074Z"
   },
   {
    "duration": 0,
    "start_time": "2023-05-04T19:36:05.075Z"
   },
   {
    "duration": 0,
    "start_time": "2023-05-04T19:36:05.086Z"
   },
   {
    "duration": 0,
    "start_time": "2023-05-04T19:36:05.087Z"
   },
   {
    "duration": 0,
    "start_time": "2023-05-04T19:36:05.088Z"
   },
   {
    "duration": 0,
    "start_time": "2023-05-04T19:36:05.089Z"
   },
   {
    "duration": 0,
    "start_time": "2023-05-04T19:36:05.090Z"
   },
   {
    "duration": 0,
    "start_time": "2023-05-04T19:36:05.091Z"
   },
   {
    "duration": 0,
    "start_time": "2023-05-04T19:36:05.092Z"
   },
   {
    "duration": 0,
    "start_time": "2023-05-04T19:36:05.093Z"
   },
   {
    "duration": 0,
    "start_time": "2023-05-04T19:36:05.094Z"
   },
   {
    "duration": 0,
    "start_time": "2023-05-04T19:36:05.095Z"
   },
   {
    "duration": 0,
    "start_time": "2023-05-04T19:36:05.097Z"
   },
   {
    "duration": 0,
    "start_time": "2023-05-04T19:36:05.098Z"
   },
   {
    "duration": 0,
    "start_time": "2023-05-04T19:36:05.098Z"
   },
   {
    "duration": 0,
    "start_time": "2023-05-04T19:36:05.100Z"
   },
   {
    "duration": 0,
    "start_time": "2023-05-04T19:36:05.101Z"
   },
   {
    "duration": 0,
    "start_time": "2023-05-04T19:36:05.102Z"
   },
   {
    "duration": 0,
    "start_time": "2023-05-04T19:36:05.103Z"
   },
   {
    "duration": 0,
    "start_time": "2023-05-04T19:36:05.104Z"
   },
   {
    "duration": 0,
    "start_time": "2023-05-04T19:36:05.105Z"
   },
   {
    "duration": 0,
    "start_time": "2023-05-04T19:36:05.106Z"
   },
   {
    "duration": 0,
    "start_time": "2023-05-04T19:36:05.107Z"
   },
   {
    "duration": 0,
    "start_time": "2023-05-04T19:36:05.108Z"
   },
   {
    "duration": 0,
    "start_time": "2023-05-04T19:36:05.109Z"
   },
   {
    "duration": 51,
    "start_time": "2023-05-04T19:37:14.187Z"
   },
   {
    "duration": 6,
    "start_time": "2023-05-04T19:38:30.376Z"
   },
   {
    "duration": 8,
    "start_time": "2023-05-04T19:38:46.864Z"
   },
   {
    "duration": 94,
    "start_time": "2023-05-04T19:40:43.980Z"
   },
   {
    "duration": 72,
    "start_time": "2023-05-04T19:40:55.815Z"
   },
   {
    "duration": 6,
    "start_time": "2023-05-04T19:41:44.328Z"
   },
   {
    "duration": 10,
    "start_time": "2023-05-04T19:41:45.070Z"
   },
   {
    "duration": 1448,
    "start_time": "2023-05-04T19:41:51.762Z"
   },
   {
    "duration": 36,
    "start_time": "2023-05-04T19:41:53.212Z"
   },
   {
    "duration": 13,
    "start_time": "2023-05-04T19:41:53.250Z"
   },
   {
    "duration": 5,
    "start_time": "2023-05-04T19:41:53.265Z"
   },
   {
    "duration": 14,
    "start_time": "2023-05-04T19:41:53.272Z"
   },
   {
    "duration": 4,
    "start_time": "2023-05-04T19:41:53.288Z"
   },
   {
    "duration": 6,
    "start_time": "2023-05-04T19:41:53.293Z"
   },
   {
    "duration": 10,
    "start_time": "2023-05-04T19:41:53.300Z"
   },
   {
    "duration": 15,
    "start_time": "2023-05-04T19:41:53.312Z"
   },
   {
    "duration": 14,
    "start_time": "2023-05-04T19:41:53.330Z"
   },
   {
    "duration": 52,
    "start_time": "2023-05-04T19:41:53.345Z"
   },
   {
    "duration": 27,
    "start_time": "2023-05-04T19:41:53.399Z"
   },
   {
    "duration": 5,
    "start_time": "2023-05-04T19:41:53.428Z"
   },
   {
    "duration": 136,
    "start_time": "2023-05-04T19:41:53.434Z"
   },
   {
    "duration": 0,
    "start_time": "2023-05-04T19:41:53.572Z"
   },
   {
    "duration": 0,
    "start_time": "2023-05-04T19:41:53.573Z"
   },
   {
    "duration": 0,
    "start_time": "2023-05-04T19:41:53.575Z"
   },
   {
    "duration": 0,
    "start_time": "2023-05-04T19:41:53.585Z"
   },
   {
    "duration": 0,
    "start_time": "2023-05-04T19:41:53.585Z"
   },
   {
    "duration": 0,
    "start_time": "2023-05-04T19:41:53.586Z"
   },
   {
    "duration": 0,
    "start_time": "2023-05-04T19:41:53.587Z"
   },
   {
    "duration": 0,
    "start_time": "2023-05-04T19:41:53.588Z"
   },
   {
    "duration": 0,
    "start_time": "2023-05-04T19:41:53.590Z"
   },
   {
    "duration": 0,
    "start_time": "2023-05-04T19:41:53.591Z"
   },
   {
    "duration": 0,
    "start_time": "2023-05-04T19:41:53.592Z"
   },
   {
    "duration": 0,
    "start_time": "2023-05-04T19:41:53.593Z"
   },
   {
    "duration": 0,
    "start_time": "2023-05-04T19:41:53.594Z"
   },
   {
    "duration": 0,
    "start_time": "2023-05-04T19:41:53.595Z"
   },
   {
    "duration": 0,
    "start_time": "2023-05-04T19:41:53.596Z"
   },
   {
    "duration": 0,
    "start_time": "2023-05-04T19:41:53.598Z"
   },
   {
    "duration": 0,
    "start_time": "2023-05-04T19:41:53.599Z"
   },
   {
    "duration": 0,
    "start_time": "2023-05-04T19:41:53.600Z"
   },
   {
    "duration": 0,
    "start_time": "2023-05-04T19:41:53.601Z"
   },
   {
    "duration": 0,
    "start_time": "2023-05-04T19:41:53.602Z"
   },
   {
    "duration": 0,
    "start_time": "2023-05-04T19:41:53.603Z"
   },
   {
    "duration": 0,
    "start_time": "2023-05-04T19:41:53.604Z"
   },
   {
    "duration": 0,
    "start_time": "2023-05-04T19:41:53.605Z"
   },
   {
    "duration": 0,
    "start_time": "2023-05-04T19:41:53.606Z"
   },
   {
    "duration": 0,
    "start_time": "2023-05-04T19:41:53.607Z"
   },
   {
    "duration": 0,
    "start_time": "2023-05-04T19:41:53.608Z"
   },
   {
    "duration": 0,
    "start_time": "2023-05-04T19:41:53.608Z"
   },
   {
    "duration": 0,
    "start_time": "2023-05-04T19:41:53.610Z"
   },
   {
    "duration": 0,
    "start_time": "2023-05-04T19:41:53.611Z"
   },
   {
    "duration": 0,
    "start_time": "2023-05-04T19:41:53.611Z"
   },
   {
    "duration": 0,
    "start_time": "2023-05-04T19:41:53.612Z"
   },
   {
    "duration": 0,
    "start_time": "2023-05-04T19:41:53.613Z"
   },
   {
    "duration": 0,
    "start_time": "2023-05-04T19:41:53.614Z"
   },
   {
    "duration": 0,
    "start_time": "2023-05-04T19:41:53.615Z"
   },
   {
    "duration": 0,
    "start_time": "2023-05-04T19:41:53.616Z"
   },
   {
    "duration": 11,
    "start_time": "2023-05-04T19:42:07.348Z"
   },
   {
    "duration": 25,
    "start_time": "2023-05-04T19:42:12.661Z"
   },
   {
    "duration": 1586,
    "start_time": "2023-05-04T19:42:26.746Z"
   },
   {
    "duration": 42,
    "start_time": "2023-05-04T19:42:28.334Z"
   },
   {
    "duration": 16,
    "start_time": "2023-05-04T19:42:28.378Z"
   },
   {
    "duration": 24,
    "start_time": "2023-05-04T19:42:28.397Z"
   },
   {
    "duration": 13,
    "start_time": "2023-05-04T19:42:28.424Z"
   },
   {
    "duration": 8,
    "start_time": "2023-05-04T19:42:28.439Z"
   },
   {
    "duration": 9,
    "start_time": "2023-05-04T19:42:28.449Z"
   },
   {
    "duration": 45,
    "start_time": "2023-05-04T19:42:28.461Z"
   },
   {
    "duration": 40,
    "start_time": "2023-05-04T19:42:28.508Z"
   },
   {
    "duration": 23,
    "start_time": "2023-05-04T19:42:28.553Z"
   },
   {
    "duration": 45,
    "start_time": "2023-05-04T19:42:28.578Z"
   },
   {
    "duration": 29,
    "start_time": "2023-05-04T19:42:28.624Z"
   },
   {
    "duration": 6,
    "start_time": "2023-05-04T19:42:28.655Z"
   },
   {
    "duration": 28,
    "start_time": "2023-05-04T19:42:28.664Z"
   },
   {
    "duration": 143,
    "start_time": "2023-05-04T19:42:28.693Z"
   },
   {
    "duration": 0,
    "start_time": "2023-05-04T19:42:28.838Z"
   },
   {
    "duration": 0,
    "start_time": "2023-05-04T19:42:28.839Z"
   },
   {
    "duration": 0,
    "start_time": "2023-05-04T19:42:28.841Z"
   },
   {
    "duration": 0,
    "start_time": "2023-05-04T19:42:28.842Z"
   },
   {
    "duration": 0,
    "start_time": "2023-05-04T19:42:28.844Z"
   },
   {
    "duration": 0,
    "start_time": "2023-05-04T19:42:28.845Z"
   },
   {
    "duration": 0,
    "start_time": "2023-05-04T19:42:28.846Z"
   },
   {
    "duration": 0,
    "start_time": "2023-05-04T19:42:28.847Z"
   },
   {
    "duration": 0,
    "start_time": "2023-05-04T19:42:28.851Z"
   },
   {
    "duration": 0,
    "start_time": "2023-05-04T19:42:28.852Z"
   },
   {
    "duration": 0,
    "start_time": "2023-05-04T19:42:28.853Z"
   },
   {
    "duration": 1,
    "start_time": "2023-05-04T19:42:28.854Z"
   },
   {
    "duration": 0,
    "start_time": "2023-05-04T19:42:28.885Z"
   },
   {
    "duration": 0,
    "start_time": "2023-05-04T19:42:28.886Z"
   },
   {
    "duration": 0,
    "start_time": "2023-05-04T19:42:28.887Z"
   },
   {
    "duration": 0,
    "start_time": "2023-05-04T19:42:28.888Z"
   },
   {
    "duration": 0,
    "start_time": "2023-05-04T19:42:28.889Z"
   },
   {
    "duration": 0,
    "start_time": "2023-05-04T19:42:28.890Z"
   },
   {
    "duration": 0,
    "start_time": "2023-05-04T19:42:28.891Z"
   },
   {
    "duration": 0,
    "start_time": "2023-05-04T19:42:28.892Z"
   },
   {
    "duration": 0,
    "start_time": "2023-05-04T19:42:28.893Z"
   },
   {
    "duration": 0,
    "start_time": "2023-05-04T19:42:28.895Z"
   },
   {
    "duration": 0,
    "start_time": "2023-05-04T19:42:28.896Z"
   },
   {
    "duration": 0,
    "start_time": "2023-05-04T19:42:28.897Z"
   },
   {
    "duration": 0,
    "start_time": "2023-05-04T19:42:28.898Z"
   },
   {
    "duration": 0,
    "start_time": "2023-05-04T19:42:28.899Z"
   },
   {
    "duration": 0,
    "start_time": "2023-05-04T19:42:28.900Z"
   },
   {
    "duration": 0,
    "start_time": "2023-05-04T19:42:28.902Z"
   },
   {
    "duration": 0,
    "start_time": "2023-05-04T19:42:28.903Z"
   },
   {
    "duration": 0,
    "start_time": "2023-05-04T19:42:28.904Z"
   },
   {
    "duration": 0,
    "start_time": "2023-05-04T19:42:28.905Z"
   },
   {
    "duration": 0,
    "start_time": "2023-05-04T19:42:28.906Z"
   },
   {
    "duration": 0,
    "start_time": "2023-05-04T19:42:28.907Z"
   },
   {
    "duration": 0,
    "start_time": "2023-05-04T19:42:28.909Z"
   },
   {
    "duration": 15,
    "start_time": "2023-05-04T19:45:23.315Z"
   },
   {
    "duration": 14,
    "start_time": "2023-05-04T19:45:58.975Z"
   },
   {
    "duration": 1758,
    "start_time": "2023-05-04T19:46:08.461Z"
   },
   {
    "duration": 36,
    "start_time": "2023-05-04T19:46:10.221Z"
   },
   {
    "duration": 15,
    "start_time": "2023-05-04T19:46:10.260Z"
   },
   {
    "duration": 8,
    "start_time": "2023-05-04T19:46:10.278Z"
   },
   {
    "duration": 19,
    "start_time": "2023-05-04T19:46:10.287Z"
   },
   {
    "duration": 4,
    "start_time": "2023-05-04T19:46:10.308Z"
   },
   {
    "duration": 4,
    "start_time": "2023-05-04T19:46:10.314Z"
   },
   {
    "duration": 6,
    "start_time": "2023-05-04T19:46:10.320Z"
   },
   {
    "duration": 10,
    "start_time": "2023-05-04T19:46:10.328Z"
   },
   {
    "duration": 14,
    "start_time": "2023-05-04T19:46:10.342Z"
   },
   {
    "duration": 39,
    "start_time": "2023-05-04T19:46:10.384Z"
   },
   {
    "duration": 61,
    "start_time": "2023-05-04T19:46:10.425Z"
   },
   {
    "duration": 6,
    "start_time": "2023-05-04T19:46:10.488Z"
   },
   {
    "duration": 13,
    "start_time": "2023-05-04T19:46:10.496Z"
   },
   {
    "duration": 150,
    "start_time": "2023-05-04T19:46:10.510Z"
   },
   {
    "duration": 0,
    "start_time": "2023-05-04T19:46:10.663Z"
   },
   {
    "duration": 0,
    "start_time": "2023-05-04T19:46:10.664Z"
   },
   {
    "duration": 0,
    "start_time": "2023-05-04T19:46:10.665Z"
   },
   {
    "duration": 0,
    "start_time": "2023-05-04T19:46:10.666Z"
   },
   {
    "duration": 0,
    "start_time": "2023-05-04T19:46:10.667Z"
   },
   {
    "duration": 0,
    "start_time": "2023-05-04T19:46:10.668Z"
   },
   {
    "duration": 0,
    "start_time": "2023-05-04T19:46:10.669Z"
   },
   {
    "duration": 0,
    "start_time": "2023-05-04T19:46:10.670Z"
   },
   {
    "duration": 0,
    "start_time": "2023-05-04T19:46:10.671Z"
   },
   {
    "duration": 0,
    "start_time": "2023-05-04T19:46:10.686Z"
   },
   {
    "duration": 0,
    "start_time": "2023-05-04T19:46:10.687Z"
   },
   {
    "duration": 0,
    "start_time": "2023-05-04T19:46:10.688Z"
   },
   {
    "duration": 0,
    "start_time": "2023-05-04T19:46:10.690Z"
   },
   {
    "duration": 0,
    "start_time": "2023-05-04T19:46:10.691Z"
   },
   {
    "duration": 0,
    "start_time": "2023-05-04T19:46:10.693Z"
   },
   {
    "duration": 0,
    "start_time": "2023-05-04T19:46:10.694Z"
   },
   {
    "duration": 0,
    "start_time": "2023-05-04T19:46:10.695Z"
   },
   {
    "duration": 0,
    "start_time": "2023-05-04T19:46:10.696Z"
   },
   {
    "duration": 0,
    "start_time": "2023-05-04T19:46:10.697Z"
   },
   {
    "duration": 0,
    "start_time": "2023-05-04T19:46:10.698Z"
   },
   {
    "duration": 0,
    "start_time": "2023-05-04T19:46:10.700Z"
   },
   {
    "duration": 0,
    "start_time": "2023-05-04T19:46:10.701Z"
   },
   {
    "duration": 0,
    "start_time": "2023-05-04T19:46:10.703Z"
   },
   {
    "duration": 0,
    "start_time": "2023-05-04T19:46:10.704Z"
   },
   {
    "duration": 0,
    "start_time": "2023-05-04T19:46:10.706Z"
   },
   {
    "duration": 0,
    "start_time": "2023-05-04T19:46:10.707Z"
   },
   {
    "duration": 0,
    "start_time": "2023-05-04T19:46:10.708Z"
   },
   {
    "duration": 0,
    "start_time": "2023-05-04T19:46:10.710Z"
   },
   {
    "duration": 0,
    "start_time": "2023-05-04T19:46:10.711Z"
   },
   {
    "duration": 0,
    "start_time": "2023-05-04T19:46:10.712Z"
   },
   {
    "duration": 0,
    "start_time": "2023-05-04T19:46:10.713Z"
   },
   {
    "duration": 0,
    "start_time": "2023-05-04T19:46:10.714Z"
   },
   {
    "duration": 0,
    "start_time": "2023-05-04T19:46:10.715Z"
   },
   {
    "duration": 0,
    "start_time": "2023-05-04T19:46:10.717Z"
   },
   {
    "duration": 23,
    "start_time": "2023-05-04T19:47:05.755Z"
   },
   {
    "duration": 1472,
    "start_time": "2023-05-04T19:47:10.874Z"
   },
   {
    "duration": 37,
    "start_time": "2023-05-04T19:47:12.350Z"
   },
   {
    "duration": 15,
    "start_time": "2023-05-04T19:47:12.388Z"
   },
   {
    "duration": 6,
    "start_time": "2023-05-04T19:47:12.405Z"
   },
   {
    "duration": 10,
    "start_time": "2023-05-04T19:47:12.414Z"
   },
   {
    "duration": 7,
    "start_time": "2023-05-04T19:47:12.426Z"
   },
   {
    "duration": 3,
    "start_time": "2023-05-04T19:47:12.435Z"
   },
   {
    "duration": 50,
    "start_time": "2023-05-04T19:47:12.439Z"
   },
   {
    "duration": 10,
    "start_time": "2023-05-04T19:47:12.491Z"
   },
   {
    "duration": 17,
    "start_time": "2023-05-04T19:47:12.502Z"
   },
   {
    "duration": 28,
    "start_time": "2023-05-04T19:47:12.521Z"
   },
   {
    "duration": 33,
    "start_time": "2023-05-04T19:47:12.584Z"
   },
   {
    "duration": 7,
    "start_time": "2023-05-04T19:47:12.619Z"
   },
   {
    "duration": 10,
    "start_time": "2023-05-04T19:47:12.631Z"
   },
   {
    "duration": 177,
    "start_time": "2023-05-04T19:47:12.643Z"
   },
   {
    "duration": 0,
    "start_time": "2023-05-04T19:47:12.823Z"
   },
   {
    "duration": 0,
    "start_time": "2023-05-04T19:47:12.824Z"
   },
   {
    "duration": 0,
    "start_time": "2023-05-04T19:47:12.826Z"
   },
   {
    "duration": 0,
    "start_time": "2023-05-04T19:47:12.827Z"
   },
   {
    "duration": 0,
    "start_time": "2023-05-04T19:47:12.828Z"
   },
   {
    "duration": 0,
    "start_time": "2023-05-04T19:47:12.829Z"
   },
   {
    "duration": 0,
    "start_time": "2023-05-04T19:47:12.830Z"
   },
   {
    "duration": 0,
    "start_time": "2023-05-04T19:47:12.831Z"
   },
   {
    "duration": 0,
    "start_time": "2023-05-04T19:47:12.832Z"
   },
   {
    "duration": 0,
    "start_time": "2023-05-04T19:47:12.833Z"
   },
   {
    "duration": 0,
    "start_time": "2023-05-04T19:47:12.834Z"
   },
   {
    "duration": 0,
    "start_time": "2023-05-04T19:47:12.836Z"
   },
   {
    "duration": 0,
    "start_time": "2023-05-04T19:47:12.837Z"
   },
   {
    "duration": 1,
    "start_time": "2023-05-04T19:47:12.838Z"
   },
   {
    "duration": 0,
    "start_time": "2023-05-04T19:47:12.840Z"
   },
   {
    "duration": 0,
    "start_time": "2023-05-04T19:47:12.841Z"
   },
   {
    "duration": 0,
    "start_time": "2023-05-04T19:47:12.843Z"
   },
   {
    "duration": 0,
    "start_time": "2023-05-04T19:47:12.844Z"
   },
   {
    "duration": 0,
    "start_time": "2023-05-04T19:47:12.846Z"
   },
   {
    "duration": 0,
    "start_time": "2023-05-04T19:47:12.885Z"
   },
   {
    "duration": 0,
    "start_time": "2023-05-04T19:47:12.886Z"
   },
   {
    "duration": 0,
    "start_time": "2023-05-04T19:47:12.888Z"
   },
   {
    "duration": 0,
    "start_time": "2023-05-04T19:47:12.890Z"
   },
   {
    "duration": 0,
    "start_time": "2023-05-04T19:47:12.891Z"
   },
   {
    "duration": 0,
    "start_time": "2023-05-04T19:47:12.893Z"
   },
   {
    "duration": 0,
    "start_time": "2023-05-04T19:47:12.894Z"
   },
   {
    "duration": 0,
    "start_time": "2023-05-04T19:47:12.896Z"
   },
   {
    "duration": 0,
    "start_time": "2023-05-04T19:47:12.897Z"
   },
   {
    "duration": 0,
    "start_time": "2023-05-04T19:47:12.899Z"
   },
   {
    "duration": 0,
    "start_time": "2023-05-04T19:47:12.900Z"
   },
   {
    "duration": 0,
    "start_time": "2023-05-04T19:47:12.902Z"
   },
   {
    "duration": 0,
    "start_time": "2023-05-04T19:47:12.903Z"
   },
   {
    "duration": 0,
    "start_time": "2023-05-04T19:47:12.905Z"
   },
   {
    "duration": 0,
    "start_time": "2023-05-04T19:47:12.906Z"
   },
   {
    "duration": 17,
    "start_time": "2023-05-04T19:49:34.009Z"
   },
   {
    "duration": 1513,
    "start_time": "2023-05-04T19:49:38.966Z"
   },
   {
    "duration": 38,
    "start_time": "2023-05-04T19:49:40.481Z"
   },
   {
    "duration": 13,
    "start_time": "2023-05-04T19:49:40.520Z"
   },
   {
    "duration": 6,
    "start_time": "2023-05-04T19:49:40.535Z"
   },
   {
    "duration": 13,
    "start_time": "2023-05-04T19:49:40.543Z"
   },
   {
    "duration": 6,
    "start_time": "2023-05-04T19:49:40.558Z"
   },
   {
    "duration": 12,
    "start_time": "2023-05-04T19:49:40.566Z"
   },
   {
    "duration": 10,
    "start_time": "2023-05-04T19:49:40.579Z"
   },
   {
    "duration": 16,
    "start_time": "2023-05-04T19:49:40.591Z"
   },
   {
    "duration": 16,
    "start_time": "2023-05-04T19:49:40.609Z"
   },
   {
    "duration": 26,
    "start_time": "2023-05-04T19:49:40.627Z"
   },
   {
    "duration": 43,
    "start_time": "2023-05-04T19:49:40.655Z"
   },
   {
    "duration": 5,
    "start_time": "2023-05-04T19:49:40.700Z"
   },
   {
    "duration": 18,
    "start_time": "2023-05-04T19:49:40.707Z"
   },
   {
    "duration": 146,
    "start_time": "2023-05-04T19:49:40.727Z"
   },
   {
    "duration": 0,
    "start_time": "2023-05-04T19:49:40.876Z"
   },
   {
    "duration": 0,
    "start_time": "2023-05-04T19:49:40.877Z"
   },
   {
    "duration": 0,
    "start_time": "2023-05-04T19:49:40.878Z"
   },
   {
    "duration": 0,
    "start_time": "2023-05-04T19:49:40.879Z"
   },
   {
    "duration": 0,
    "start_time": "2023-05-04T19:49:40.886Z"
   },
   {
    "duration": 0,
    "start_time": "2023-05-04T19:49:40.887Z"
   },
   {
    "duration": 0,
    "start_time": "2023-05-04T19:49:40.889Z"
   },
   {
    "duration": 0,
    "start_time": "2023-05-04T19:49:40.890Z"
   },
   {
    "duration": 0,
    "start_time": "2023-05-04T19:49:40.891Z"
   },
   {
    "duration": 0,
    "start_time": "2023-05-04T19:49:40.892Z"
   },
   {
    "duration": 0,
    "start_time": "2023-05-04T19:49:40.892Z"
   },
   {
    "duration": 0,
    "start_time": "2023-05-04T19:49:40.893Z"
   },
   {
    "duration": 0,
    "start_time": "2023-05-04T19:49:40.894Z"
   },
   {
    "duration": 0,
    "start_time": "2023-05-04T19:49:40.896Z"
   },
   {
    "duration": 0,
    "start_time": "2023-05-04T19:49:40.896Z"
   },
   {
    "duration": 0,
    "start_time": "2023-05-04T19:49:40.897Z"
   },
   {
    "duration": 0,
    "start_time": "2023-05-04T19:49:40.900Z"
   },
   {
    "duration": 0,
    "start_time": "2023-05-04T19:49:40.901Z"
   },
   {
    "duration": 0,
    "start_time": "2023-05-04T19:49:40.902Z"
   },
   {
    "duration": 0,
    "start_time": "2023-05-04T19:49:40.903Z"
   },
   {
    "duration": 0,
    "start_time": "2023-05-04T19:49:40.904Z"
   },
   {
    "duration": 0,
    "start_time": "2023-05-04T19:49:40.905Z"
   },
   {
    "duration": 0,
    "start_time": "2023-05-04T19:49:40.906Z"
   },
   {
    "duration": 0,
    "start_time": "2023-05-04T19:49:40.907Z"
   },
   {
    "duration": 0,
    "start_time": "2023-05-04T19:49:40.908Z"
   },
   {
    "duration": 0,
    "start_time": "2023-05-04T19:49:40.910Z"
   },
   {
    "duration": 0,
    "start_time": "2023-05-04T19:49:40.910Z"
   },
   {
    "duration": 0,
    "start_time": "2023-05-04T19:49:40.911Z"
   },
   {
    "duration": 0,
    "start_time": "2023-05-04T19:49:40.912Z"
   },
   {
    "duration": 0,
    "start_time": "2023-05-04T19:49:40.913Z"
   },
   {
    "duration": 0,
    "start_time": "2023-05-04T19:49:40.914Z"
   },
   {
    "duration": 0,
    "start_time": "2023-05-04T19:49:40.915Z"
   },
   {
    "duration": 1,
    "start_time": "2023-05-04T19:49:40.915Z"
   },
   {
    "duration": 0,
    "start_time": "2023-05-04T19:49:40.916Z"
   },
   {
    "duration": 5,
    "start_time": "2023-05-04T19:50:11.600Z"
   },
   {
    "duration": 10,
    "start_time": "2023-05-04T19:50:12.230Z"
   },
   {
    "duration": 10,
    "start_time": "2023-05-04T19:52:07.737Z"
   },
   {
    "duration": 9,
    "start_time": "2023-05-04T19:52:08.833Z"
   },
   {
    "duration": 7,
    "start_time": "2023-05-04T19:52:32.400Z"
   },
   {
    "duration": 8,
    "start_time": "2023-05-04T19:52:34.591Z"
   },
   {
    "duration": 1425,
    "start_time": "2023-05-04T19:52:50.861Z"
   },
   {
    "duration": 36,
    "start_time": "2023-05-04T19:52:52.288Z"
   },
   {
    "duration": 13,
    "start_time": "2023-05-04T19:52:52.326Z"
   },
   {
    "duration": 17,
    "start_time": "2023-05-04T19:52:52.341Z"
   },
   {
    "duration": 8,
    "start_time": "2023-05-04T19:52:52.361Z"
   },
   {
    "duration": 5,
    "start_time": "2023-05-04T19:52:52.371Z"
   },
   {
    "duration": 3,
    "start_time": "2023-05-04T19:52:52.377Z"
   },
   {
    "duration": 4,
    "start_time": "2023-05-04T19:52:52.385Z"
   },
   {
    "duration": 29,
    "start_time": "2023-05-04T19:52:52.390Z"
   },
   {
    "duration": 22,
    "start_time": "2023-05-04T19:52:52.421Z"
   },
   {
    "duration": 24,
    "start_time": "2023-05-04T19:52:52.444Z"
   },
   {
    "duration": 27,
    "start_time": "2023-05-04T19:52:52.470Z"
   },
   {
    "duration": 9,
    "start_time": "2023-05-04T19:52:52.499Z"
   },
   {
    "duration": 15,
    "start_time": "2023-05-04T19:52:52.511Z"
   },
   {
    "duration": 95,
    "start_time": "2023-05-04T19:52:52.527Z"
   },
   {
    "duration": 12,
    "start_time": "2023-05-04T19:52:52.624Z"
   },
   {
    "duration": 16,
    "start_time": "2023-05-04T19:52:52.638Z"
   },
   {
    "duration": 74,
    "start_time": "2023-05-04T19:52:52.685Z"
   },
   {
    "duration": 0,
    "start_time": "2023-05-04T19:52:52.761Z"
   },
   {
    "duration": 0,
    "start_time": "2023-05-04T19:52:52.762Z"
   },
   {
    "duration": 0,
    "start_time": "2023-05-04T19:52:52.763Z"
   },
   {
    "duration": 0,
    "start_time": "2023-05-04T19:52:52.764Z"
   },
   {
    "duration": 0,
    "start_time": "2023-05-04T19:52:52.765Z"
   },
   {
    "duration": 1,
    "start_time": "2023-05-04T19:52:52.765Z"
   },
   {
    "duration": 0,
    "start_time": "2023-05-04T19:52:52.766Z"
   },
   {
    "duration": 0,
    "start_time": "2023-05-04T19:52:52.767Z"
   },
   {
    "duration": 0,
    "start_time": "2023-05-04T19:52:52.768Z"
   },
   {
    "duration": 0,
    "start_time": "2023-05-04T19:52:52.769Z"
   },
   {
    "duration": 0,
    "start_time": "2023-05-04T19:52:52.770Z"
   },
   {
    "duration": 0,
    "start_time": "2023-05-04T19:52:52.771Z"
   },
   {
    "duration": 0,
    "start_time": "2023-05-04T19:52:52.773Z"
   },
   {
    "duration": 0,
    "start_time": "2023-05-04T19:52:52.774Z"
   },
   {
    "duration": 0,
    "start_time": "2023-05-04T19:52:52.775Z"
   },
   {
    "duration": 0,
    "start_time": "2023-05-04T19:52:52.776Z"
   },
   {
    "duration": 0,
    "start_time": "2023-05-04T19:52:52.777Z"
   },
   {
    "duration": 0,
    "start_time": "2023-05-04T19:52:52.778Z"
   },
   {
    "duration": 0,
    "start_time": "2023-05-04T19:52:52.779Z"
   },
   {
    "duration": 0,
    "start_time": "2023-05-04T19:52:52.780Z"
   },
   {
    "duration": 0,
    "start_time": "2023-05-04T19:52:52.781Z"
   },
   {
    "duration": 0,
    "start_time": "2023-05-04T19:52:52.782Z"
   },
   {
    "duration": 0,
    "start_time": "2023-05-04T19:52:52.783Z"
   },
   {
    "duration": 0,
    "start_time": "2023-05-04T19:52:52.784Z"
   },
   {
    "duration": 0,
    "start_time": "2023-05-04T19:52:52.785Z"
   },
   {
    "duration": 0,
    "start_time": "2023-05-04T19:52:52.787Z"
   },
   {
    "duration": 0,
    "start_time": "2023-05-04T19:52:52.788Z"
   },
   {
    "duration": 0,
    "start_time": "2023-05-04T19:52:52.789Z"
   },
   {
    "duration": 0,
    "start_time": "2023-05-04T19:52:52.790Z"
   },
   {
    "duration": 0,
    "start_time": "2023-05-04T19:52:52.792Z"
   },
   {
    "duration": 0,
    "start_time": "2023-05-04T19:52:52.794Z"
   },
   {
    "duration": 7,
    "start_time": "2023-05-05T03:19:23.786Z"
   },
   {
    "duration": 11,
    "start_time": "2023-05-05T03:19:37.851Z"
   },
   {
    "duration": 10,
    "start_time": "2023-05-05T03:24:16.520Z"
   },
   {
    "duration": 6,
    "start_time": "2023-05-05T03:36:40.174Z"
   },
   {
    "duration": 6,
    "start_time": "2023-05-05T03:37:21.502Z"
   },
   {
    "duration": 8,
    "start_time": "2023-05-05T03:37:37.383Z"
   },
   {
    "duration": 71,
    "start_time": "2023-05-05T03:37:56.059Z"
   },
   {
    "duration": 15,
    "start_time": "2023-05-05T03:38:08.541Z"
   },
   {
    "duration": 12,
    "start_time": "2023-05-05T03:38:17.797Z"
   },
   {
    "duration": 114,
    "start_time": "2023-05-05T03:41:19.818Z"
   },
   {
    "duration": 5,
    "start_time": "2023-05-05T03:41:38.906Z"
   },
   {
    "duration": 12,
    "start_time": "2023-05-05T03:41:42.889Z"
   },
   {
    "duration": 7,
    "start_time": "2023-05-05T05:20:19.834Z"
   },
   {
    "duration": 13,
    "start_time": "2023-05-05T05:20:57.813Z"
   },
   {
    "duration": 13,
    "start_time": "2023-05-05T05:23:29.518Z"
   },
   {
    "duration": 1462,
    "start_time": "2023-05-05T05:23:45.176Z"
   },
   {
    "duration": 36,
    "start_time": "2023-05-05T05:23:46.640Z"
   },
   {
    "duration": 12,
    "start_time": "2023-05-05T05:23:46.678Z"
   },
   {
    "duration": 6,
    "start_time": "2023-05-05T05:23:46.692Z"
   },
   {
    "duration": 9,
    "start_time": "2023-05-05T05:23:46.700Z"
   },
   {
    "duration": 10,
    "start_time": "2023-05-05T05:23:46.710Z"
   },
   {
    "duration": 11,
    "start_time": "2023-05-05T05:23:46.721Z"
   },
   {
    "duration": 6,
    "start_time": "2023-05-05T05:23:46.733Z"
   },
   {
    "duration": 18,
    "start_time": "2023-05-05T05:23:46.740Z"
   },
   {
    "duration": 120,
    "start_time": "2023-05-05T05:23:46.760Z"
   },
   {
    "duration": 0,
    "start_time": "2023-05-05T05:23:46.885Z"
   },
   {
    "duration": 0,
    "start_time": "2023-05-05T05:23:46.886Z"
   },
   {
    "duration": 0,
    "start_time": "2023-05-05T05:23:46.887Z"
   },
   {
    "duration": 0,
    "start_time": "2023-05-05T05:23:46.888Z"
   },
   {
    "duration": 0,
    "start_time": "2023-05-05T05:23:46.889Z"
   },
   {
    "duration": 0,
    "start_time": "2023-05-05T05:23:46.890Z"
   },
   {
    "duration": 0,
    "start_time": "2023-05-05T05:23:46.891Z"
   },
   {
    "duration": 0,
    "start_time": "2023-05-05T05:23:46.892Z"
   },
   {
    "duration": 0,
    "start_time": "2023-05-05T05:23:46.893Z"
   },
   {
    "duration": 0,
    "start_time": "2023-05-05T05:23:46.894Z"
   },
   {
    "duration": 0,
    "start_time": "2023-05-05T05:23:46.895Z"
   },
   {
    "duration": 0,
    "start_time": "2023-05-05T05:23:46.896Z"
   },
   {
    "duration": 0,
    "start_time": "2023-05-05T05:23:46.897Z"
   },
   {
    "duration": 0,
    "start_time": "2023-05-05T05:23:46.898Z"
   },
   {
    "duration": 0,
    "start_time": "2023-05-05T05:23:46.899Z"
   },
   {
    "duration": 0,
    "start_time": "2023-05-05T05:23:46.900Z"
   },
   {
    "duration": 0,
    "start_time": "2023-05-05T05:23:46.901Z"
   },
   {
    "duration": 0,
    "start_time": "2023-05-05T05:23:46.902Z"
   },
   {
    "duration": 0,
    "start_time": "2023-05-05T05:23:46.903Z"
   },
   {
    "duration": 0,
    "start_time": "2023-05-05T05:23:46.904Z"
   },
   {
    "duration": 0,
    "start_time": "2023-05-05T05:23:46.905Z"
   },
   {
    "duration": 0,
    "start_time": "2023-05-05T05:23:46.906Z"
   },
   {
    "duration": 0,
    "start_time": "2023-05-05T05:23:46.907Z"
   },
   {
    "duration": 0,
    "start_time": "2023-05-05T05:23:46.908Z"
   },
   {
    "duration": 0,
    "start_time": "2023-05-05T05:23:46.909Z"
   },
   {
    "duration": 0,
    "start_time": "2023-05-05T05:23:46.910Z"
   },
   {
    "duration": 0,
    "start_time": "2023-05-05T05:23:46.911Z"
   },
   {
    "duration": 0,
    "start_time": "2023-05-05T05:23:46.912Z"
   },
   {
    "duration": 0,
    "start_time": "2023-05-05T05:23:46.913Z"
   },
   {
    "duration": 0,
    "start_time": "2023-05-05T05:23:46.914Z"
   },
   {
    "duration": 0,
    "start_time": "2023-05-05T05:23:46.914Z"
   },
   {
    "duration": 0,
    "start_time": "2023-05-05T05:23:46.915Z"
   },
   {
    "duration": 0,
    "start_time": "2023-05-05T05:23:46.916Z"
   },
   {
    "duration": 0,
    "start_time": "2023-05-05T05:23:46.917Z"
   },
   {
    "duration": 0,
    "start_time": "2023-05-05T05:23:46.919Z"
   },
   {
    "duration": 0,
    "start_time": "2023-05-05T05:23:46.920Z"
   },
   {
    "duration": 0,
    "start_time": "2023-05-05T05:23:46.921Z"
   },
   {
    "duration": 0,
    "start_time": "2023-05-05T05:23:46.922Z"
   },
   {
    "duration": 0,
    "start_time": "2023-05-05T05:23:46.923Z"
   },
   {
    "duration": 0,
    "start_time": "2023-05-05T05:23:46.924Z"
   },
   {
    "duration": 14,
    "start_time": "2023-05-05T05:24:19.799Z"
   },
   {
    "duration": 20,
    "start_time": "2023-05-05T05:24:31.135Z"
   },
   {
    "duration": 1480,
    "start_time": "2023-05-05T07:23:37.415Z"
   },
   {
    "duration": 38,
    "start_time": "2023-05-05T07:23:38.897Z"
   },
   {
    "duration": 14,
    "start_time": "2023-05-05T07:23:38.937Z"
   },
   {
    "duration": 8,
    "start_time": "2023-05-05T07:23:38.953Z"
   },
   {
    "duration": 8,
    "start_time": "2023-05-05T07:23:38.965Z"
   },
   {
    "duration": 12,
    "start_time": "2023-05-05T07:23:38.975Z"
   },
   {
    "duration": 5,
    "start_time": "2023-05-05T07:23:38.989Z"
   },
   {
    "duration": 7,
    "start_time": "2023-05-05T07:23:38.995Z"
   },
   {
    "duration": 20,
    "start_time": "2023-05-05T07:23:39.004Z"
   },
   {
    "duration": 124,
    "start_time": "2023-05-05T07:23:39.025Z"
   },
   {
    "duration": 0,
    "start_time": "2023-05-05T07:23:39.153Z"
   },
   {
    "duration": 0,
    "start_time": "2023-05-05T07:23:39.154Z"
   },
   {
    "duration": 0,
    "start_time": "2023-05-05T07:23:39.155Z"
   },
   {
    "duration": 0,
    "start_time": "2023-05-05T07:23:39.157Z"
   },
   {
    "duration": 0,
    "start_time": "2023-05-05T07:23:39.158Z"
   },
   {
    "duration": 0,
    "start_time": "2023-05-05T07:23:39.159Z"
   },
   {
    "duration": 0,
    "start_time": "2023-05-05T07:23:39.161Z"
   },
   {
    "duration": 0,
    "start_time": "2023-05-05T07:23:39.162Z"
   },
   {
    "duration": 0,
    "start_time": "2023-05-05T07:23:39.163Z"
   },
   {
    "duration": 0,
    "start_time": "2023-05-05T07:23:39.185Z"
   },
   {
    "duration": 0,
    "start_time": "2023-05-05T07:23:39.187Z"
   },
   {
    "duration": 0,
    "start_time": "2023-05-05T07:23:39.188Z"
   },
   {
    "duration": 0,
    "start_time": "2023-05-05T07:23:39.189Z"
   },
   {
    "duration": 0,
    "start_time": "2023-05-05T07:23:39.190Z"
   },
   {
    "duration": 0,
    "start_time": "2023-05-05T07:23:39.191Z"
   },
   {
    "duration": 0,
    "start_time": "2023-05-05T07:23:39.192Z"
   },
   {
    "duration": 0,
    "start_time": "2023-05-05T07:23:39.193Z"
   },
   {
    "duration": 0,
    "start_time": "2023-05-05T07:23:39.194Z"
   },
   {
    "duration": 0,
    "start_time": "2023-05-05T07:23:39.195Z"
   },
   {
    "duration": 0,
    "start_time": "2023-05-05T07:23:39.196Z"
   },
   {
    "duration": 0,
    "start_time": "2023-05-05T07:23:39.197Z"
   },
   {
    "duration": 0,
    "start_time": "2023-05-05T07:23:39.199Z"
   },
   {
    "duration": 0,
    "start_time": "2023-05-05T07:23:39.200Z"
   },
   {
    "duration": 0,
    "start_time": "2023-05-05T07:23:39.201Z"
   },
   {
    "duration": 0,
    "start_time": "2023-05-05T07:23:39.202Z"
   },
   {
    "duration": 0,
    "start_time": "2023-05-05T07:23:39.202Z"
   },
   {
    "duration": 0,
    "start_time": "2023-05-05T07:23:39.204Z"
   },
   {
    "duration": 0,
    "start_time": "2023-05-05T07:23:39.205Z"
   },
   {
    "duration": 0,
    "start_time": "2023-05-05T07:23:39.206Z"
   },
   {
    "duration": 0,
    "start_time": "2023-05-05T07:23:39.207Z"
   },
   {
    "duration": 0,
    "start_time": "2023-05-05T07:23:39.208Z"
   },
   {
    "duration": 0,
    "start_time": "2023-05-05T07:23:39.210Z"
   },
   {
    "duration": 0,
    "start_time": "2023-05-05T07:23:39.211Z"
   },
   {
    "duration": 0,
    "start_time": "2023-05-05T07:23:39.212Z"
   },
   {
    "duration": 0,
    "start_time": "2023-05-05T07:23:39.213Z"
   },
   {
    "duration": 0,
    "start_time": "2023-05-05T07:23:39.214Z"
   },
   {
    "duration": 0,
    "start_time": "2023-05-05T07:23:39.215Z"
   },
   {
    "duration": 0,
    "start_time": "2023-05-05T07:23:39.216Z"
   },
   {
    "duration": 0,
    "start_time": "2023-05-05T07:23:39.217Z"
   },
   {
    "duration": 0,
    "start_time": "2023-05-05T07:23:39.219Z"
   },
   {
    "duration": 0,
    "start_time": "2023-05-05T07:23:39.219Z"
   },
   {
    "duration": 17,
    "start_time": "2023-05-05T07:24:18.484Z"
   },
   {
    "duration": 14,
    "start_time": "2023-05-05T07:25:48.283Z"
   },
   {
    "duration": 25,
    "start_time": "2023-05-05T07:25:56.227Z"
   },
   {
    "duration": 20,
    "start_time": "2023-05-05T07:26:02.451Z"
   },
   {
    "duration": 25,
    "start_time": "2023-05-05T07:26:19.515Z"
   },
   {
    "duration": 20,
    "start_time": "2023-05-05T07:26:44.379Z"
   },
   {
    "duration": 1466,
    "start_time": "2023-05-05T07:26:58.419Z"
   },
   {
    "duration": 38,
    "start_time": "2023-05-05T07:26:59.887Z"
   },
   {
    "duration": 14,
    "start_time": "2023-05-05T07:26:59.927Z"
   },
   {
    "duration": 6,
    "start_time": "2023-05-05T07:26:59.943Z"
   },
   {
    "duration": 11,
    "start_time": "2023-05-05T07:26:59.951Z"
   },
   {
    "duration": 25,
    "start_time": "2023-05-05T07:26:59.964Z"
   },
   {
    "duration": 29,
    "start_time": "2023-05-05T07:26:59.990Z"
   },
   {
    "duration": 18,
    "start_time": "2023-05-05T07:27:00.021Z"
   },
   {
    "duration": 34,
    "start_time": "2023-05-05T07:27:00.041Z"
   },
   {
    "duration": 58,
    "start_time": "2023-05-05T07:27:00.077Z"
   },
   {
    "duration": 3,
    "start_time": "2023-05-05T07:27:00.137Z"
   },
   {
    "duration": 31,
    "start_time": "2023-05-05T07:27:00.141Z"
   },
   {
    "duration": 33,
    "start_time": "2023-05-05T07:27:00.174Z"
   },
   {
    "duration": 57,
    "start_time": "2023-05-05T07:27:00.210Z"
   },
   {
    "duration": 47,
    "start_time": "2023-05-05T07:27:00.269Z"
   },
   {
    "duration": 37,
    "start_time": "2023-05-05T07:27:00.318Z"
   },
   {
    "duration": 77,
    "start_time": "2023-05-05T07:27:00.356Z"
   },
   {
    "duration": 0,
    "start_time": "2023-05-05T07:27:00.435Z"
   },
   {
    "duration": 0,
    "start_time": "2023-05-05T07:27:00.436Z"
   },
   {
    "duration": 0,
    "start_time": "2023-05-05T07:27:00.437Z"
   },
   {
    "duration": 0,
    "start_time": "2023-05-05T07:27:00.439Z"
   },
   {
    "duration": 0,
    "start_time": "2023-05-05T07:27:00.440Z"
   },
   {
    "duration": 0,
    "start_time": "2023-05-05T07:27:00.442Z"
   },
   {
    "duration": 0,
    "start_time": "2023-05-05T07:27:00.443Z"
   },
   {
    "duration": 0,
    "start_time": "2023-05-05T07:27:00.444Z"
   },
   {
    "duration": 0,
    "start_time": "2023-05-05T07:27:00.446Z"
   },
   {
    "duration": 0,
    "start_time": "2023-05-05T07:27:00.448Z"
   },
   {
    "duration": 0,
    "start_time": "2023-05-05T07:27:00.449Z"
   },
   {
    "duration": 0,
    "start_time": "2023-05-05T07:27:00.450Z"
   },
   {
    "duration": 1,
    "start_time": "2023-05-05T07:27:00.451Z"
   },
   {
    "duration": 0,
    "start_time": "2023-05-05T07:27:00.453Z"
   },
   {
    "duration": 0,
    "start_time": "2023-05-05T07:27:00.454Z"
   },
   {
    "duration": 0,
    "start_time": "2023-05-05T07:27:00.455Z"
   },
   {
    "duration": 0,
    "start_time": "2023-05-05T07:27:00.455Z"
   },
   {
    "duration": 0,
    "start_time": "2023-05-05T07:27:00.456Z"
   },
   {
    "duration": 0,
    "start_time": "2023-05-05T07:27:00.458Z"
   },
   {
    "duration": 0,
    "start_time": "2023-05-05T07:27:00.459Z"
   },
   {
    "duration": 0,
    "start_time": "2023-05-05T07:27:00.460Z"
   },
   {
    "duration": 0,
    "start_time": "2023-05-05T07:27:00.462Z"
   },
   {
    "duration": 0,
    "start_time": "2023-05-05T07:27:00.463Z"
   },
   {
    "duration": 0,
    "start_time": "2023-05-05T07:27:00.464Z"
   },
   {
    "duration": 0,
    "start_time": "2023-05-05T07:27:00.465Z"
   },
   {
    "duration": 0,
    "start_time": "2023-05-05T07:27:00.466Z"
   },
   {
    "duration": 0,
    "start_time": "2023-05-05T07:27:00.467Z"
   },
   {
    "duration": 0,
    "start_time": "2023-05-05T07:27:00.468Z"
   },
   {
    "duration": 0,
    "start_time": "2023-05-05T07:27:00.470Z"
   },
   {
    "duration": 0,
    "start_time": "2023-05-05T07:27:00.470Z"
   },
   {
    "duration": 0,
    "start_time": "2023-05-05T07:27:00.485Z"
   },
   {
    "duration": 0,
    "start_time": "2023-05-05T07:27:00.486Z"
   },
   {
    "duration": 0,
    "start_time": "2023-05-05T07:27:00.487Z"
   },
   {
    "duration": 0,
    "start_time": "2023-05-05T07:27:00.488Z"
   },
   {
    "duration": 1480,
    "start_time": "2023-05-05T07:28:56.412Z"
   },
   {
    "duration": 38,
    "start_time": "2023-05-05T07:28:57.894Z"
   },
   {
    "duration": 14,
    "start_time": "2023-05-05T07:28:57.934Z"
   },
   {
    "duration": 8,
    "start_time": "2023-05-05T07:28:57.951Z"
   },
   {
    "duration": 10,
    "start_time": "2023-05-05T07:28:57.961Z"
   },
   {
    "duration": 12,
    "start_time": "2023-05-05T07:28:57.973Z"
   },
   {
    "duration": 4,
    "start_time": "2023-05-05T07:28:57.987Z"
   },
   {
    "duration": 6,
    "start_time": "2023-05-05T07:28:57.993Z"
   },
   {
    "duration": 16,
    "start_time": "2023-05-05T07:28:58.001Z"
   },
   {
    "duration": 32,
    "start_time": "2023-05-05T07:28:58.019Z"
   },
   {
    "duration": 2,
    "start_time": "2023-05-05T07:28:58.053Z"
   },
   {
    "duration": 28,
    "start_time": "2023-05-05T07:28:58.057Z"
   },
   {
    "duration": 18,
    "start_time": "2023-05-05T07:28:58.087Z"
   },
   {
    "duration": 12,
    "start_time": "2023-05-05T07:28:58.107Z"
   },
   {
    "duration": 5,
    "start_time": "2023-05-05T07:28:58.121Z"
   },
   {
    "duration": 12,
    "start_time": "2023-05-05T07:28:58.127Z"
   },
   {
    "duration": 80,
    "start_time": "2023-05-05T07:28:58.141Z"
   },
   {
    "duration": 0,
    "start_time": "2023-05-05T07:28:58.223Z"
   },
   {
    "duration": 0,
    "start_time": "2023-05-05T07:28:58.225Z"
   },
   {
    "duration": 0,
    "start_time": "2023-05-05T07:28:58.226Z"
   },
   {
    "duration": 0,
    "start_time": "2023-05-05T07:28:58.227Z"
   },
   {
    "duration": 0,
    "start_time": "2023-05-05T07:28:58.228Z"
   },
   {
    "duration": 0,
    "start_time": "2023-05-05T07:28:58.229Z"
   },
   {
    "duration": 0,
    "start_time": "2023-05-05T07:28:58.230Z"
   },
   {
    "duration": 0,
    "start_time": "2023-05-05T07:28:58.231Z"
   },
   {
    "duration": 0,
    "start_time": "2023-05-05T07:28:58.232Z"
   },
   {
    "duration": 0,
    "start_time": "2023-05-05T07:28:58.233Z"
   },
   {
    "duration": 0,
    "start_time": "2023-05-05T07:28:58.235Z"
   },
   {
    "duration": 0,
    "start_time": "2023-05-05T07:28:58.236Z"
   },
   {
    "duration": 0,
    "start_time": "2023-05-05T07:28:58.237Z"
   },
   {
    "duration": 0,
    "start_time": "2023-05-05T07:28:58.238Z"
   },
   {
    "duration": 0,
    "start_time": "2023-05-05T07:28:58.238Z"
   },
   {
    "duration": 0,
    "start_time": "2023-05-05T07:28:58.239Z"
   },
   {
    "duration": 0,
    "start_time": "2023-05-05T07:28:58.240Z"
   },
   {
    "duration": 0,
    "start_time": "2023-05-05T07:28:58.241Z"
   },
   {
    "duration": 0,
    "start_time": "2023-05-05T07:28:58.242Z"
   },
   {
    "duration": 0,
    "start_time": "2023-05-05T07:28:58.243Z"
   },
   {
    "duration": 0,
    "start_time": "2023-05-05T07:28:58.244Z"
   },
   {
    "duration": 0,
    "start_time": "2023-05-05T07:28:58.244Z"
   },
   {
    "duration": 0,
    "start_time": "2023-05-05T07:28:58.245Z"
   },
   {
    "duration": 0,
    "start_time": "2023-05-05T07:28:58.246Z"
   },
   {
    "duration": 0,
    "start_time": "2023-05-05T07:28:58.247Z"
   },
   {
    "duration": 0,
    "start_time": "2023-05-05T07:28:58.248Z"
   },
   {
    "duration": 0,
    "start_time": "2023-05-05T07:28:58.249Z"
   },
   {
    "duration": 0,
    "start_time": "2023-05-05T07:28:58.251Z"
   },
   {
    "duration": 0,
    "start_time": "2023-05-05T07:28:58.252Z"
   },
   {
    "duration": 0,
    "start_time": "2023-05-05T07:28:58.253Z"
   },
   {
    "duration": 0,
    "start_time": "2023-05-05T07:28:58.254Z"
   },
   {
    "duration": 0,
    "start_time": "2023-05-05T07:28:58.256Z"
   },
   {
    "duration": 0,
    "start_time": "2023-05-05T07:28:58.257Z"
   },
   {
    "duration": 0,
    "start_time": "2023-05-05T07:28:58.259Z"
   },
   {
    "duration": 2,
    "start_time": "2023-05-05T07:29:55.295Z"
   },
   {
    "duration": 1637,
    "start_time": "2023-05-05T09:13:20.654Z"
   },
   {
    "duration": 38,
    "start_time": "2023-05-05T09:13:22.293Z"
   },
   {
    "duration": 15,
    "start_time": "2023-05-05T09:13:22.332Z"
   },
   {
    "duration": 6,
    "start_time": "2023-05-05T09:13:22.349Z"
   },
   {
    "duration": 8,
    "start_time": "2023-05-05T09:13:22.357Z"
   },
   {
    "duration": 5,
    "start_time": "2023-05-05T09:13:22.367Z"
   },
   {
    "duration": 15,
    "start_time": "2023-05-05T09:13:22.373Z"
   },
   {
    "duration": 8,
    "start_time": "2023-05-05T09:13:22.390Z"
   },
   {
    "duration": 16,
    "start_time": "2023-05-05T09:13:22.399Z"
   },
   {
    "duration": 36,
    "start_time": "2023-05-05T09:13:22.418Z"
   },
   {
    "duration": 132,
    "start_time": "2023-05-05T09:13:22.457Z"
   },
   {
    "duration": 0,
    "start_time": "2023-05-05T09:13:22.592Z"
   },
   {
    "duration": 0,
    "start_time": "2023-05-05T09:13:22.593Z"
   },
   {
    "duration": 0,
    "start_time": "2023-05-05T09:13:22.594Z"
   },
   {
    "duration": 0,
    "start_time": "2023-05-05T09:13:22.595Z"
   },
   {
    "duration": 0,
    "start_time": "2023-05-05T09:13:22.596Z"
   },
   {
    "duration": 0,
    "start_time": "2023-05-05T09:13:22.597Z"
   },
   {
    "duration": 0,
    "start_time": "2023-05-05T09:13:22.599Z"
   },
   {
    "duration": 0,
    "start_time": "2023-05-05T09:13:22.600Z"
   },
   {
    "duration": 1,
    "start_time": "2023-05-05T09:13:22.600Z"
   },
   {
    "duration": 0,
    "start_time": "2023-05-05T09:13:22.602Z"
   },
   {
    "duration": 0,
    "start_time": "2023-05-05T09:13:22.603Z"
   },
   {
    "duration": 0,
    "start_time": "2023-05-05T09:13:22.604Z"
   },
   {
    "duration": 0,
    "start_time": "2023-05-05T09:13:22.605Z"
   },
   {
    "duration": 0,
    "start_time": "2023-05-05T09:13:22.606Z"
   },
   {
    "duration": 0,
    "start_time": "2023-05-05T09:13:22.607Z"
   },
   {
    "duration": 0,
    "start_time": "2023-05-05T09:13:22.608Z"
   },
   {
    "duration": 0,
    "start_time": "2023-05-05T09:13:22.609Z"
   },
   {
    "duration": 0,
    "start_time": "2023-05-05T09:13:22.610Z"
   },
   {
    "duration": 0,
    "start_time": "2023-05-05T09:13:22.611Z"
   },
   {
    "duration": 0,
    "start_time": "2023-05-05T09:13:22.612Z"
   },
   {
    "duration": 0,
    "start_time": "2023-05-05T09:13:22.613Z"
   },
   {
    "duration": 0,
    "start_time": "2023-05-05T09:13:22.614Z"
   },
   {
    "duration": 0,
    "start_time": "2023-05-05T09:13:22.615Z"
   },
   {
    "duration": 0,
    "start_time": "2023-05-05T09:13:22.616Z"
   },
   {
    "duration": 0,
    "start_time": "2023-05-05T09:13:22.616Z"
   },
   {
    "duration": 0,
    "start_time": "2023-05-05T09:13:22.617Z"
   },
   {
    "duration": 0,
    "start_time": "2023-05-05T09:13:22.618Z"
   },
   {
    "duration": 0,
    "start_time": "2023-05-05T09:13:22.619Z"
   },
   {
    "duration": 0,
    "start_time": "2023-05-05T09:13:22.620Z"
   },
   {
    "duration": 0,
    "start_time": "2023-05-05T09:13:22.621Z"
   },
   {
    "duration": 0,
    "start_time": "2023-05-05T09:13:22.623Z"
   },
   {
    "duration": 0,
    "start_time": "2023-05-05T09:13:22.624Z"
   },
   {
    "duration": 0,
    "start_time": "2023-05-05T09:13:22.625Z"
   },
   {
    "duration": 0,
    "start_time": "2023-05-05T09:13:22.625Z"
   },
   {
    "duration": 0,
    "start_time": "2023-05-05T09:13:22.626Z"
   },
   {
    "duration": 0,
    "start_time": "2023-05-05T09:13:22.686Z"
   },
   {
    "duration": 0,
    "start_time": "2023-05-05T09:13:22.687Z"
   },
   {
    "duration": 0,
    "start_time": "2023-05-05T09:13:22.689Z"
   },
   {
    "duration": 0,
    "start_time": "2023-05-05T09:13:22.689Z"
   },
   {
    "duration": 0,
    "start_time": "2023-05-05T09:13:22.690Z"
   },
   {
    "duration": 8,
    "start_time": "2023-05-05T09:13:52.725Z"
   },
   {
    "duration": 7,
    "start_time": "2023-05-05T09:13:53.462Z"
   },
   {
    "duration": 9,
    "start_time": "2023-05-05T09:13:55.558Z"
   },
   {
    "duration": 3,
    "start_time": "2023-05-05T09:13:57.470Z"
   },
   {
    "duration": 4,
    "start_time": "2023-05-05T09:13:58.198Z"
   },
   {
    "duration": 2,
    "start_time": "2023-05-05T09:13:59.430Z"
   },
   {
    "duration": 71,
    "start_time": "2023-05-05T09:14:12.999Z"
   },
   {
    "duration": 13,
    "start_time": "2023-05-05T09:14:14.470Z"
   },
   {
    "duration": 12,
    "start_time": "2023-05-05T09:14:16.119Z"
   },
   {
    "duration": 75,
    "start_time": "2023-05-05T09:14:53.078Z"
   },
   {
    "duration": 86,
    "start_time": "2023-05-05T09:14:58.414Z"
   },
   {
    "duration": 20,
    "start_time": "2023-05-05T09:15:21.245Z"
   },
   {
    "duration": 12,
    "start_time": "2023-05-05T09:15:23.022Z"
   },
   {
    "duration": 15,
    "start_time": "2023-05-05T09:16:41.654Z"
   },
   {
    "duration": 1482,
    "start_time": "2023-05-05T09:27:21.676Z"
   },
   {
    "duration": 36,
    "start_time": "2023-05-05T09:27:23.160Z"
   },
   {
    "duration": 12,
    "start_time": "2023-05-05T09:27:23.198Z"
   },
   {
    "duration": 8,
    "start_time": "2023-05-05T09:27:23.212Z"
   },
   {
    "duration": 9,
    "start_time": "2023-05-05T09:27:23.222Z"
   },
   {
    "duration": 9,
    "start_time": "2023-05-05T09:27:23.232Z"
   },
   {
    "duration": 3,
    "start_time": "2023-05-05T09:27:23.242Z"
   },
   {
    "duration": 5,
    "start_time": "2023-05-05T09:27:23.246Z"
   },
   {
    "duration": 37,
    "start_time": "2023-05-05T09:27:23.253Z"
   },
   {
    "duration": 30,
    "start_time": "2023-05-05T09:27:23.291Z"
   },
   {
    "duration": 8,
    "start_time": "2023-05-05T09:27:23.322Z"
   },
   {
    "duration": 6,
    "start_time": "2023-05-05T09:27:23.331Z"
   },
   {
    "duration": 9,
    "start_time": "2023-05-05T09:27:23.339Z"
   },
   {
    "duration": 2,
    "start_time": "2023-05-05T09:27:23.351Z"
   },
   {
    "duration": 6,
    "start_time": "2023-05-05T09:27:23.355Z"
   },
   {
    "duration": 2,
    "start_time": "2023-05-05T09:27:23.385Z"
   },
   {
    "duration": 70,
    "start_time": "2023-05-05T09:27:23.389Z"
   },
   {
    "duration": 12,
    "start_time": "2023-05-05T09:27:23.461Z"
   },
   {
    "duration": 13,
    "start_time": "2023-05-05T09:27:23.485Z"
   },
   {
    "duration": 394,
    "start_time": "2023-05-05T09:27:23.499Z"
   },
   {
    "duration": 134,
    "start_time": "2023-05-05T09:27:23.895Z"
   },
   {
    "duration": 0,
    "start_time": "2023-05-05T09:27:24.032Z"
   },
   {
    "duration": 0,
    "start_time": "2023-05-05T09:27:24.034Z"
   },
   {
    "duration": 0,
    "start_time": "2023-05-05T09:27:24.035Z"
   },
   {
    "duration": 0,
    "start_time": "2023-05-05T09:27:24.036Z"
   },
   {
    "duration": 0,
    "start_time": "2023-05-05T09:27:24.037Z"
   },
   {
    "duration": 0,
    "start_time": "2023-05-05T09:27:24.038Z"
   },
   {
    "duration": 0,
    "start_time": "2023-05-05T09:27:24.039Z"
   },
   {
    "duration": 0,
    "start_time": "2023-05-05T09:27:24.041Z"
   },
   {
    "duration": 0,
    "start_time": "2023-05-05T09:27:24.042Z"
   },
   {
    "duration": 0,
    "start_time": "2023-05-05T09:27:24.044Z"
   },
   {
    "duration": 0,
    "start_time": "2023-05-05T09:27:24.045Z"
   },
   {
    "duration": 0,
    "start_time": "2023-05-05T09:27:24.047Z"
   },
   {
    "duration": 0,
    "start_time": "2023-05-05T09:27:24.048Z"
   },
   {
    "duration": 0,
    "start_time": "2023-05-05T09:27:24.049Z"
   },
   {
    "duration": 0,
    "start_time": "2023-05-05T09:27:24.051Z"
   },
   {
    "duration": 0,
    "start_time": "2023-05-05T09:27:24.085Z"
   },
   {
    "duration": 0,
    "start_time": "2023-05-05T09:27:24.087Z"
   },
   {
    "duration": 0,
    "start_time": "2023-05-05T09:27:24.089Z"
   },
   {
    "duration": 0,
    "start_time": "2023-05-05T09:27:24.090Z"
   },
   {
    "duration": 0,
    "start_time": "2023-05-05T09:27:24.091Z"
   },
   {
    "duration": 0,
    "start_time": "2023-05-05T09:27:24.093Z"
   },
   {
    "duration": 0,
    "start_time": "2023-05-05T09:27:24.094Z"
   },
   {
    "duration": 0,
    "start_time": "2023-05-05T09:27:24.095Z"
   },
   {
    "duration": 0,
    "start_time": "2023-05-05T09:27:24.096Z"
   },
   {
    "duration": 0,
    "start_time": "2023-05-05T09:27:24.097Z"
   },
   {
    "duration": 0,
    "start_time": "2023-05-05T09:27:24.099Z"
   },
   {
    "duration": 0,
    "start_time": "2023-05-05T09:27:24.101Z"
   },
   {
    "duration": 0,
    "start_time": "2023-05-05T09:27:24.102Z"
   },
   {
    "duration": 16,
    "start_time": "2023-05-05T09:44:30.545Z"
   },
   {
    "duration": 1525,
    "start_time": "2023-05-05T09:44:42.692Z"
   },
   {
    "duration": 40,
    "start_time": "2023-05-05T09:44:44.221Z"
   },
   {
    "duration": 13,
    "start_time": "2023-05-05T09:44:44.263Z"
   },
   {
    "duration": 10,
    "start_time": "2023-05-05T09:44:44.279Z"
   },
   {
    "duration": 15,
    "start_time": "2023-05-05T09:44:44.291Z"
   },
   {
    "duration": 8,
    "start_time": "2023-05-05T09:44:44.307Z"
   },
   {
    "duration": 20,
    "start_time": "2023-05-05T09:44:44.316Z"
   },
   {
    "duration": 11,
    "start_time": "2023-05-05T09:44:44.338Z"
   },
   {
    "duration": 33,
    "start_time": "2023-05-05T09:44:44.351Z"
   },
   {
    "duration": 40,
    "start_time": "2023-05-05T09:44:44.387Z"
   },
   {
    "duration": 10,
    "start_time": "2023-05-05T09:44:44.429Z"
   },
   {
    "duration": 7,
    "start_time": "2023-05-05T09:44:44.441Z"
   },
   {
    "duration": 15,
    "start_time": "2023-05-05T09:44:44.450Z"
   },
   {
    "duration": 17,
    "start_time": "2023-05-05T09:44:44.468Z"
   },
   {
    "duration": 3,
    "start_time": "2023-05-05T09:44:44.487Z"
   },
   {
    "duration": 10,
    "start_time": "2023-05-05T09:44:44.491Z"
   },
   {
    "duration": 74,
    "start_time": "2023-05-05T09:44:44.503Z"
   },
   {
    "duration": 14,
    "start_time": "2023-05-05T09:44:44.584Z"
   },
   {
    "duration": 21,
    "start_time": "2023-05-05T09:44:44.600Z"
   },
   {
    "duration": 429,
    "start_time": "2023-05-05T09:44:44.623Z"
   },
   {
    "duration": 123,
    "start_time": "2023-05-05T09:44:45.054Z"
   },
   {
    "duration": 0,
    "start_time": "2023-05-05T09:44:45.184Z"
   },
   {
    "duration": 0,
    "start_time": "2023-05-05T09:44:45.186Z"
   },
   {
    "duration": 0,
    "start_time": "2023-05-05T09:44:45.187Z"
   },
   {
    "duration": 0,
    "start_time": "2023-05-05T09:44:45.189Z"
   },
   {
    "duration": 0,
    "start_time": "2023-05-05T09:44:45.190Z"
   },
   {
    "duration": 0,
    "start_time": "2023-05-05T09:44:45.191Z"
   },
   {
    "duration": 0,
    "start_time": "2023-05-05T09:44:45.192Z"
   },
   {
    "duration": 0,
    "start_time": "2023-05-05T09:44:45.193Z"
   },
   {
    "duration": 0,
    "start_time": "2023-05-05T09:44:45.194Z"
   },
   {
    "duration": 0,
    "start_time": "2023-05-05T09:44:45.195Z"
   },
   {
    "duration": 0,
    "start_time": "2023-05-05T09:44:45.197Z"
   },
   {
    "duration": 0,
    "start_time": "2023-05-05T09:44:45.198Z"
   },
   {
    "duration": 0,
    "start_time": "2023-05-05T09:44:45.199Z"
   },
   {
    "duration": 0,
    "start_time": "2023-05-05T09:44:45.200Z"
   },
   {
    "duration": 0,
    "start_time": "2023-05-05T09:44:45.202Z"
   },
   {
    "duration": 0,
    "start_time": "2023-05-05T09:44:45.202Z"
   },
   {
    "duration": 0,
    "start_time": "2023-05-05T09:44:45.204Z"
   },
   {
    "duration": 0,
    "start_time": "2023-05-05T09:44:45.205Z"
   },
   {
    "duration": 0,
    "start_time": "2023-05-05T09:44:45.206Z"
   },
   {
    "duration": 0,
    "start_time": "2023-05-05T09:44:45.207Z"
   },
   {
    "duration": 0,
    "start_time": "2023-05-05T09:44:45.208Z"
   },
   {
    "duration": 0,
    "start_time": "2023-05-05T09:44:45.210Z"
   },
   {
    "duration": 0,
    "start_time": "2023-05-05T09:44:45.211Z"
   },
   {
    "duration": 0,
    "start_time": "2023-05-05T09:44:45.212Z"
   },
   {
    "duration": 0,
    "start_time": "2023-05-05T09:44:45.213Z"
   },
   {
    "duration": 0,
    "start_time": "2023-05-05T09:44:45.214Z"
   },
   {
    "duration": 0,
    "start_time": "2023-05-05T09:44:45.215Z"
   },
   {
    "duration": 0,
    "start_time": "2023-05-05T09:44:45.216Z"
   },
   {
    "duration": 65,
    "start_time": "2023-05-05T09:45:20.728Z"
   },
   {
    "duration": 13,
    "start_time": "2023-05-05T09:45:22.168Z"
   },
   {
    "duration": 17,
    "start_time": "2023-05-05T09:45:23.120Z"
   },
   {
    "duration": 11,
    "start_time": "2023-05-05T09:58:19.134Z"
   },
   {
    "duration": 1599,
    "start_time": "2023-05-05T09:58:30.719Z"
   },
   {
    "duration": 37,
    "start_time": "2023-05-05T09:58:32.320Z"
   },
   {
    "duration": 26,
    "start_time": "2023-05-05T09:58:32.358Z"
   },
   {
    "duration": 29,
    "start_time": "2023-05-05T09:58:32.392Z"
   },
   {
    "duration": 31,
    "start_time": "2023-05-05T09:58:32.422Z"
   },
   {
    "duration": 37,
    "start_time": "2023-05-05T09:58:32.454Z"
   },
   {
    "duration": 24,
    "start_time": "2023-05-05T09:58:32.495Z"
   },
   {
    "duration": 232,
    "start_time": "2023-05-05T09:58:32.521Z"
   },
   {
    "duration": 57,
    "start_time": "2023-05-05T09:58:32.756Z"
   },
   {
    "duration": 48,
    "start_time": "2023-05-05T09:58:32.816Z"
   },
   {
    "duration": 10,
    "start_time": "2023-05-05T09:58:32.866Z"
   },
   {
    "duration": 22,
    "start_time": "2023-05-05T09:58:32.878Z"
   },
   {
    "duration": 18,
    "start_time": "2023-05-05T09:58:32.902Z"
   },
   {
    "duration": 77,
    "start_time": "2023-05-05T09:58:32.922Z"
   },
   {
    "duration": 14,
    "start_time": "2023-05-05T09:58:33.000Z"
   },
   {
    "duration": 18,
    "start_time": "2023-05-05T09:58:33.015Z"
   },
   {
    "duration": 426,
    "start_time": "2023-05-05T09:58:33.034Z"
   },
   {
    "duration": 6,
    "start_time": "2023-05-05T09:58:33.462Z"
   },
   {
    "duration": 220,
    "start_time": "2023-05-05T09:58:33.470Z"
   },
   {
    "duration": 0,
    "start_time": "2023-05-05T09:58:33.696Z"
   },
   {
    "duration": 0,
    "start_time": "2023-05-05T09:58:33.696Z"
   },
   {
    "duration": 0,
    "start_time": "2023-05-05T09:58:33.697Z"
   },
   {
    "duration": 0,
    "start_time": "2023-05-05T09:58:33.698Z"
   },
   {
    "duration": 0,
    "start_time": "2023-05-05T09:58:33.698Z"
   },
   {
    "duration": 0,
    "start_time": "2023-05-05T09:58:33.699Z"
   },
   {
    "duration": 0,
    "start_time": "2023-05-05T09:58:33.700Z"
   },
   {
    "duration": 0,
    "start_time": "2023-05-05T09:58:33.704Z"
   },
   {
    "duration": 0,
    "start_time": "2023-05-05T09:58:33.705Z"
   },
   {
    "duration": 0,
    "start_time": "2023-05-05T09:58:33.706Z"
   },
   {
    "duration": 0,
    "start_time": "2023-05-05T09:58:33.707Z"
   },
   {
    "duration": 0,
    "start_time": "2023-05-05T09:58:33.708Z"
   },
   {
    "duration": 0,
    "start_time": "2023-05-05T09:58:33.709Z"
   },
   {
    "duration": 0,
    "start_time": "2023-05-05T09:58:33.710Z"
   },
   {
    "duration": 0,
    "start_time": "2023-05-05T09:58:33.711Z"
   },
   {
    "duration": 0,
    "start_time": "2023-05-05T09:58:33.712Z"
   },
   {
    "duration": 0,
    "start_time": "2023-05-05T09:58:33.713Z"
   },
   {
    "duration": 0,
    "start_time": "2023-05-05T09:58:33.714Z"
   },
   {
    "duration": 0,
    "start_time": "2023-05-05T09:58:33.715Z"
   },
   {
    "duration": 0,
    "start_time": "2023-05-05T09:58:33.716Z"
   },
   {
    "duration": 0,
    "start_time": "2023-05-05T09:58:33.717Z"
   },
   {
    "duration": 0,
    "start_time": "2023-05-05T09:58:33.717Z"
   },
   {
    "duration": 0,
    "start_time": "2023-05-05T09:58:33.718Z"
   },
   {
    "duration": 0,
    "start_time": "2023-05-05T09:58:33.719Z"
   },
   {
    "duration": 0,
    "start_time": "2023-05-05T09:58:33.720Z"
   },
   {
    "duration": 0,
    "start_time": "2023-05-05T09:58:33.721Z"
   },
   {
    "duration": 0,
    "start_time": "2023-05-05T09:58:33.722Z"
   },
   {
    "duration": 453,
    "start_time": "2023-05-05T09:59:02.461Z"
   },
   {
    "duration": 1435,
    "start_time": "2023-05-05T10:00:47.723Z"
   },
   {
    "duration": 36,
    "start_time": "2023-05-05T10:00:49.160Z"
   },
   {
    "duration": 13,
    "start_time": "2023-05-05T10:00:49.198Z"
   },
   {
    "duration": 29,
    "start_time": "2023-05-05T10:00:49.213Z"
   },
   {
    "duration": 23,
    "start_time": "2023-05-05T10:00:49.244Z"
   },
   {
    "duration": 23,
    "start_time": "2023-05-05T10:00:49.269Z"
   },
   {
    "duration": 12,
    "start_time": "2023-05-05T10:00:49.294Z"
   },
   {
    "duration": 18,
    "start_time": "2023-05-05T10:00:49.307Z"
   },
   {
    "duration": 20,
    "start_time": "2023-05-05T10:00:49.326Z"
   },
   {
    "duration": 35,
    "start_time": "2023-05-05T10:00:49.349Z"
   },
   {
    "duration": 20,
    "start_time": "2023-05-05T10:00:49.386Z"
   },
   {
    "duration": 9,
    "start_time": "2023-05-05T10:00:49.408Z"
   },
   {
    "duration": 13,
    "start_time": "2023-05-05T10:00:49.418Z"
   },
   {
    "duration": 124,
    "start_time": "2023-05-05T10:00:49.433Z"
   },
   {
    "duration": 0,
    "start_time": "2023-05-05T10:00:49.558Z"
   },
   {
    "duration": 0,
    "start_time": "2023-05-05T10:00:49.560Z"
   },
   {
    "duration": 0,
    "start_time": "2023-05-05T10:00:49.561Z"
   },
   {
    "duration": 0,
    "start_time": "2023-05-05T10:00:49.561Z"
   },
   {
    "duration": 0,
    "start_time": "2023-05-05T10:00:49.562Z"
   },
   {
    "duration": 0,
    "start_time": "2023-05-05T10:00:49.563Z"
   },
   {
    "duration": 0,
    "start_time": "2023-05-05T10:00:49.564Z"
   },
   {
    "duration": 0,
    "start_time": "2023-05-05T10:00:49.565Z"
   },
   {
    "duration": 0,
    "start_time": "2023-05-05T10:00:49.566Z"
   },
   {
    "duration": 0,
    "start_time": "2023-05-05T10:00:49.586Z"
   },
   {
    "duration": 0,
    "start_time": "2023-05-05T10:00:49.587Z"
   },
   {
    "duration": 0,
    "start_time": "2023-05-05T10:00:49.588Z"
   },
   {
    "duration": 0,
    "start_time": "2023-05-05T10:00:49.589Z"
   },
   {
    "duration": 0,
    "start_time": "2023-05-05T10:00:49.590Z"
   },
   {
    "duration": 0,
    "start_time": "2023-05-05T10:00:49.591Z"
   },
   {
    "duration": 0,
    "start_time": "2023-05-05T10:00:49.592Z"
   },
   {
    "duration": 0,
    "start_time": "2023-05-05T10:00:49.593Z"
   },
   {
    "duration": 0,
    "start_time": "2023-05-05T10:00:49.594Z"
   },
   {
    "duration": 0,
    "start_time": "2023-05-05T10:00:49.599Z"
   },
   {
    "duration": 0,
    "start_time": "2023-05-05T10:00:49.600Z"
   },
   {
    "duration": 0,
    "start_time": "2023-05-05T10:00:49.601Z"
   },
   {
    "duration": 0,
    "start_time": "2023-05-05T10:00:49.601Z"
   },
   {
    "duration": 0,
    "start_time": "2023-05-05T10:00:49.602Z"
   },
   {
    "duration": 0,
    "start_time": "2023-05-05T10:00:49.603Z"
   },
   {
    "duration": 0,
    "start_time": "2023-05-05T10:00:49.605Z"
   },
   {
    "duration": 0,
    "start_time": "2023-05-05T10:00:49.606Z"
   },
   {
    "duration": 0,
    "start_time": "2023-05-05T10:00:49.606Z"
   },
   {
    "duration": 0,
    "start_time": "2023-05-05T10:00:49.607Z"
   },
   {
    "duration": 0,
    "start_time": "2023-05-05T10:00:49.608Z"
   },
   {
    "duration": 0,
    "start_time": "2023-05-05T10:00:49.609Z"
   },
   {
    "duration": 0,
    "start_time": "2023-05-05T10:00:49.610Z"
   },
   {
    "duration": 0,
    "start_time": "2023-05-05T10:00:49.611Z"
   },
   {
    "duration": 1407,
    "start_time": "2023-05-05T10:01:45.744Z"
   },
   {
    "duration": 36,
    "start_time": "2023-05-05T10:01:47.153Z"
   },
   {
    "duration": 12,
    "start_time": "2023-05-05T10:01:47.190Z"
   },
   {
    "duration": 6,
    "start_time": "2023-05-05T10:01:47.204Z"
   },
   {
    "duration": 8,
    "start_time": "2023-05-05T10:01:47.212Z"
   },
   {
    "duration": 4,
    "start_time": "2023-05-05T10:01:47.222Z"
   },
   {
    "duration": 3,
    "start_time": "2023-05-05T10:01:47.228Z"
   },
   {
    "duration": 6,
    "start_time": "2023-05-05T10:01:47.232Z"
   },
   {
    "duration": 21,
    "start_time": "2023-05-05T10:01:47.239Z"
   },
   {
    "duration": 31,
    "start_time": "2023-05-05T10:01:47.286Z"
   },
   {
    "duration": 9,
    "start_time": "2023-05-05T10:01:47.319Z"
   },
   {
    "duration": 5,
    "start_time": "2023-05-05T10:01:47.330Z"
   },
   {
    "duration": 15,
    "start_time": "2023-05-05T10:01:47.337Z"
   },
   {
    "duration": 149,
    "start_time": "2023-05-05T10:01:47.354Z"
   },
   {
    "duration": 0,
    "start_time": "2023-05-05T10:01:47.505Z"
   },
   {
    "duration": 0,
    "start_time": "2023-05-05T10:01:47.506Z"
   },
   {
    "duration": 0,
    "start_time": "2023-05-05T10:01:47.507Z"
   },
   {
    "duration": 0,
    "start_time": "2023-05-05T10:01:47.508Z"
   },
   {
    "duration": 0,
    "start_time": "2023-05-05T10:01:47.509Z"
   },
   {
    "duration": 0,
    "start_time": "2023-05-05T10:01:47.510Z"
   },
   {
    "duration": 0,
    "start_time": "2023-05-05T10:01:47.511Z"
   },
   {
    "duration": 0,
    "start_time": "2023-05-05T10:01:47.512Z"
   },
   {
    "duration": 0,
    "start_time": "2023-05-05T10:01:47.513Z"
   },
   {
    "duration": 0,
    "start_time": "2023-05-05T10:01:47.514Z"
   },
   {
    "duration": 0,
    "start_time": "2023-05-05T10:01:47.515Z"
   },
   {
    "duration": 0,
    "start_time": "2023-05-05T10:01:47.516Z"
   },
   {
    "duration": 0,
    "start_time": "2023-05-05T10:01:47.517Z"
   },
   {
    "duration": 0,
    "start_time": "2023-05-05T10:01:47.518Z"
   },
   {
    "duration": 0,
    "start_time": "2023-05-05T10:01:47.519Z"
   },
   {
    "duration": 0,
    "start_time": "2023-05-05T10:01:47.520Z"
   },
   {
    "duration": 0,
    "start_time": "2023-05-05T10:01:47.521Z"
   },
   {
    "duration": 0,
    "start_time": "2023-05-05T10:01:47.522Z"
   },
   {
    "duration": 0,
    "start_time": "2023-05-05T10:01:47.523Z"
   },
   {
    "duration": 0,
    "start_time": "2023-05-05T10:01:47.524Z"
   },
   {
    "duration": 0,
    "start_time": "2023-05-05T10:01:47.525Z"
   },
   {
    "duration": 0,
    "start_time": "2023-05-05T10:01:47.526Z"
   },
   {
    "duration": 0,
    "start_time": "2023-05-05T10:01:47.527Z"
   },
   {
    "duration": 0,
    "start_time": "2023-05-05T10:01:47.528Z"
   },
   {
    "duration": 0,
    "start_time": "2023-05-05T10:01:47.529Z"
   },
   {
    "duration": 0,
    "start_time": "2023-05-05T10:01:47.530Z"
   },
   {
    "duration": 0,
    "start_time": "2023-05-05T10:01:47.531Z"
   },
   {
    "duration": 0,
    "start_time": "2023-05-05T10:01:47.532Z"
   },
   {
    "duration": 1,
    "start_time": "2023-05-05T10:01:47.532Z"
   },
   {
    "duration": 0,
    "start_time": "2023-05-05T10:01:47.533Z"
   },
   {
    "duration": 0,
    "start_time": "2023-05-05T10:01:47.534Z"
   },
   {
    "duration": 0,
    "start_time": "2023-05-05T10:01:47.535Z"
   },
   {
    "duration": 32,
    "start_time": "2023-05-05T10:02:47.891Z"
   },
   {
    "duration": 10,
    "start_time": "2023-05-05T10:02:52.794Z"
   },
   {
    "duration": 7,
    "start_time": "2023-05-05T10:02:54.010Z"
   },
   {
    "duration": 8,
    "start_time": "2023-05-05T10:02:54.626Z"
   },
   {
    "duration": 21,
    "start_time": "2023-05-05T10:02:58.090Z"
   },
   {
    "duration": 1396,
    "start_time": "2023-05-05T10:03:08.752Z"
   },
   {
    "duration": 36,
    "start_time": "2023-05-05T10:03:10.150Z"
   },
   {
    "duration": 12,
    "start_time": "2023-05-05T10:03:10.188Z"
   },
   {
    "duration": 18,
    "start_time": "2023-05-05T10:03:10.202Z"
   },
   {
    "duration": 14,
    "start_time": "2023-05-05T10:03:10.222Z"
   },
   {
    "duration": 10,
    "start_time": "2023-05-05T10:03:10.238Z"
   },
   {
    "duration": 3,
    "start_time": "2023-05-05T10:03:10.250Z"
   },
   {
    "duration": 6,
    "start_time": "2023-05-05T10:03:10.254Z"
   },
   {
    "duration": 26,
    "start_time": "2023-05-05T10:03:10.261Z"
   },
   {
    "duration": 31,
    "start_time": "2023-05-05T10:03:10.289Z"
   },
   {
    "duration": 10,
    "start_time": "2023-05-05T10:03:10.321Z"
   },
   {
    "duration": 5,
    "start_time": "2023-05-05T10:03:10.333Z"
   },
   {
    "duration": 20,
    "start_time": "2023-05-05T10:03:10.340Z"
   },
   {
    "duration": 144,
    "start_time": "2023-05-05T10:03:10.364Z"
   },
   {
    "duration": 0,
    "start_time": "2023-05-05T10:03:10.509Z"
   },
   {
    "duration": 0,
    "start_time": "2023-05-05T10:03:10.510Z"
   },
   {
    "duration": 0,
    "start_time": "2023-05-05T10:03:10.511Z"
   },
   {
    "duration": 0,
    "start_time": "2023-05-05T10:03:10.512Z"
   },
   {
    "duration": 0,
    "start_time": "2023-05-05T10:03:10.513Z"
   },
   {
    "duration": 0,
    "start_time": "2023-05-05T10:03:10.514Z"
   },
   {
    "duration": 0,
    "start_time": "2023-05-05T10:03:10.515Z"
   },
   {
    "duration": 0,
    "start_time": "2023-05-05T10:03:10.516Z"
   },
   {
    "duration": 0,
    "start_time": "2023-05-05T10:03:10.517Z"
   },
   {
    "duration": 0,
    "start_time": "2023-05-05T10:03:10.518Z"
   },
   {
    "duration": 0,
    "start_time": "2023-05-05T10:03:10.519Z"
   },
   {
    "duration": 0,
    "start_time": "2023-05-05T10:03:10.520Z"
   },
   {
    "duration": 0,
    "start_time": "2023-05-05T10:03:10.521Z"
   },
   {
    "duration": 0,
    "start_time": "2023-05-05T10:03:10.522Z"
   },
   {
    "duration": 0,
    "start_time": "2023-05-05T10:03:10.523Z"
   },
   {
    "duration": 0,
    "start_time": "2023-05-05T10:03:10.524Z"
   },
   {
    "duration": 0,
    "start_time": "2023-05-05T10:03:10.525Z"
   },
   {
    "duration": 0,
    "start_time": "2023-05-05T10:03:10.526Z"
   },
   {
    "duration": 0,
    "start_time": "2023-05-05T10:03:10.526Z"
   },
   {
    "duration": 0,
    "start_time": "2023-05-05T10:03:10.527Z"
   },
   {
    "duration": 0,
    "start_time": "2023-05-05T10:03:10.528Z"
   },
   {
    "duration": 0,
    "start_time": "2023-05-05T10:03:10.529Z"
   },
   {
    "duration": 0,
    "start_time": "2023-05-05T10:03:10.530Z"
   },
   {
    "duration": 0,
    "start_time": "2023-05-05T10:03:10.531Z"
   },
   {
    "duration": 0,
    "start_time": "2023-05-05T10:03:10.533Z"
   },
   {
    "duration": 0,
    "start_time": "2023-05-05T10:03:10.534Z"
   },
   {
    "duration": 0,
    "start_time": "2023-05-05T10:03:10.535Z"
   },
   {
    "duration": 0,
    "start_time": "2023-05-05T10:03:10.536Z"
   },
   {
    "duration": 0,
    "start_time": "2023-05-05T10:03:10.537Z"
   },
   {
    "duration": 0,
    "start_time": "2023-05-05T10:03:10.585Z"
   },
   {
    "duration": 0,
    "start_time": "2023-05-05T10:03:10.586Z"
   },
   {
    "duration": 1,
    "start_time": "2023-05-05T10:03:10.587Z"
   },
   {
    "duration": 40,
    "start_time": "2023-05-05T10:06:06.661Z"
   },
   {
    "duration": 21,
    "start_time": "2023-05-05T10:22:43.260Z"
   },
   {
    "duration": 38,
    "start_time": "2023-05-05T10:23:09.122Z"
   },
   {
    "duration": 40,
    "start_time": "2023-05-05T10:27:00.271Z"
   },
   {
    "duration": 16,
    "start_time": "2023-05-05T10:27:06.719Z"
   },
   {
    "duration": 24,
    "start_time": "2023-05-05T10:27:07.568Z"
   },
   {
    "duration": 33,
    "start_time": "2023-05-05T10:27:09.928Z"
   },
   {
    "duration": 74,
    "start_time": "2023-05-05T10:27:12.031Z"
   },
   {
    "duration": 26,
    "start_time": "2023-05-05T10:27:25.710Z"
   },
   {
    "duration": 20,
    "start_time": "2023-05-05T10:27:28.195Z"
   },
   {
    "duration": 454,
    "start_time": "2023-05-05T10:27:45.375Z"
   },
   {
    "duration": 10,
    "start_time": "2023-05-05T10:28:01.966Z"
   },
   {
    "duration": 22,
    "start_time": "2023-05-05T10:28:05.653Z"
   },
   {
    "duration": 13,
    "start_time": "2023-05-05T10:29:34.721Z"
   },
   {
    "duration": 29,
    "start_time": "2023-05-05T10:31:03.819Z"
   },
   {
    "duration": 1965,
    "start_time": "2023-05-05T10:31:11.773Z"
   },
   {
    "duration": 37,
    "start_time": "2023-05-05T10:31:13.740Z"
   },
   {
    "duration": 20,
    "start_time": "2023-05-05T10:31:13.779Z"
   },
   {
    "duration": 12,
    "start_time": "2023-05-05T10:31:13.804Z"
   },
   {
    "duration": 11,
    "start_time": "2023-05-05T10:31:13.822Z"
   },
   {
    "duration": 5,
    "start_time": "2023-05-05T10:31:13.835Z"
   },
   {
    "duration": 3,
    "start_time": "2023-05-05T10:31:13.841Z"
   },
   {
    "duration": 7,
    "start_time": "2023-05-05T10:31:13.846Z"
   },
   {
    "duration": 22,
    "start_time": "2023-05-05T10:31:13.854Z"
   },
   {
    "duration": 36,
    "start_time": "2023-05-05T10:31:13.891Z"
   },
   {
    "duration": 21,
    "start_time": "2023-05-05T10:31:13.929Z"
   },
   {
    "duration": 21,
    "start_time": "2023-05-05T10:31:13.951Z"
   },
   {
    "duration": 43,
    "start_time": "2023-05-05T10:31:13.995Z"
   },
   {
    "duration": 194,
    "start_time": "2023-05-05T10:31:14.044Z"
   },
   {
    "duration": 0,
    "start_time": "2023-05-05T10:31:14.242Z"
   },
   {
    "duration": 0,
    "start_time": "2023-05-05T10:31:14.246Z"
   },
   {
    "duration": 0,
    "start_time": "2023-05-05T10:31:14.247Z"
   },
   {
    "duration": 1,
    "start_time": "2023-05-05T10:31:14.248Z"
   },
   {
    "duration": 0,
    "start_time": "2023-05-05T10:31:14.250Z"
   },
   {
    "duration": 0,
    "start_time": "2023-05-05T10:31:14.252Z"
   },
   {
    "duration": 0,
    "start_time": "2023-05-05T10:31:14.253Z"
   },
   {
    "duration": 0,
    "start_time": "2023-05-05T10:31:14.255Z"
   },
   {
    "duration": 0,
    "start_time": "2023-05-05T10:31:14.256Z"
   },
   {
    "duration": 0,
    "start_time": "2023-05-05T10:31:14.257Z"
   },
   {
    "duration": 0,
    "start_time": "2023-05-05T10:31:14.259Z"
   },
   {
    "duration": 0,
    "start_time": "2023-05-05T10:31:14.261Z"
   },
   {
    "duration": 0,
    "start_time": "2023-05-05T10:31:14.263Z"
   },
   {
    "duration": 0,
    "start_time": "2023-05-05T10:31:14.265Z"
   },
   {
    "duration": 0,
    "start_time": "2023-05-05T10:31:14.266Z"
   },
   {
    "duration": 0,
    "start_time": "2023-05-05T10:31:14.268Z"
   },
   {
    "duration": 0,
    "start_time": "2023-05-05T10:31:14.269Z"
   },
   {
    "duration": 0,
    "start_time": "2023-05-05T10:31:14.271Z"
   },
   {
    "duration": 0,
    "start_time": "2023-05-05T10:31:14.286Z"
   },
   {
    "duration": 0,
    "start_time": "2023-05-05T10:31:14.287Z"
   },
   {
    "duration": 0,
    "start_time": "2023-05-05T10:31:14.288Z"
   },
   {
    "duration": 0,
    "start_time": "2023-05-05T10:31:14.298Z"
   },
   {
    "duration": 0,
    "start_time": "2023-05-05T10:31:14.298Z"
   },
   {
    "duration": 0,
    "start_time": "2023-05-05T10:31:14.304Z"
   },
   {
    "duration": 0,
    "start_time": "2023-05-05T10:31:14.305Z"
   },
   {
    "duration": 0,
    "start_time": "2023-05-05T10:31:14.306Z"
   },
   {
    "duration": 0,
    "start_time": "2023-05-05T10:31:14.307Z"
   },
   {
    "duration": 0,
    "start_time": "2023-05-05T10:31:14.308Z"
   },
   {
    "duration": 0,
    "start_time": "2023-05-05T10:31:14.312Z"
   },
   {
    "duration": 0,
    "start_time": "2023-05-05T10:31:14.312Z"
   },
   {
    "duration": 0,
    "start_time": "2023-05-05T10:31:14.313Z"
   },
   {
    "duration": 0,
    "start_time": "2023-05-05T10:31:14.314Z"
   },
   {
    "duration": 0,
    "start_time": "2023-05-05T10:31:14.314Z"
   },
   {
    "duration": 16,
    "start_time": "2023-05-05T10:31:35.883Z"
   },
   {
    "duration": 16,
    "start_time": "2023-05-05T10:31:38.619Z"
   },
   {
    "duration": 25,
    "start_time": "2023-05-05T10:31:39.636Z"
   },
   {
    "duration": 75,
    "start_time": "2023-05-05T10:32:02.474Z"
   },
   {
    "duration": 24,
    "start_time": "2023-05-05T10:32:05.483Z"
   },
   {
    "duration": 20,
    "start_time": "2023-05-05T10:32:11.482Z"
   },
   {
    "duration": 452,
    "start_time": "2023-05-05T10:32:17.371Z"
   },
   {
    "duration": 7,
    "start_time": "2023-05-05T10:32:21.861Z"
   },
   {
    "duration": 22,
    "start_time": "2023-05-05T10:32:24.016Z"
   },
   {
    "duration": 8,
    "start_time": "2023-05-05T10:32:24.818Z"
   },
   {
    "duration": 8,
    "start_time": "2023-05-05T10:32:32.266Z"
   },
   {
    "duration": 8,
    "start_time": "2023-05-05T10:32:33.754Z"
   },
   {
    "duration": 1622,
    "start_time": "2023-05-05T10:32:42.800Z"
   },
   {
    "duration": 39,
    "start_time": "2023-05-05T10:32:44.423Z"
   },
   {
    "duration": 16,
    "start_time": "2023-05-05T10:32:44.463Z"
   },
   {
    "duration": 31,
    "start_time": "2023-05-05T10:32:44.481Z"
   },
   {
    "duration": 34,
    "start_time": "2023-05-05T10:32:44.515Z"
   },
   {
    "duration": 15,
    "start_time": "2023-05-05T10:32:44.551Z"
   },
   {
    "duration": 14,
    "start_time": "2023-05-05T10:32:44.568Z"
   },
   {
    "duration": 31,
    "start_time": "2023-05-05T10:32:44.584Z"
   },
   {
    "duration": 33,
    "start_time": "2023-05-05T10:32:44.617Z"
   },
   {
    "duration": 43,
    "start_time": "2023-05-05T10:32:44.652Z"
   },
   {
    "duration": 13,
    "start_time": "2023-05-05T10:32:44.697Z"
   },
   {
    "duration": 15,
    "start_time": "2023-05-05T10:32:44.712Z"
   },
   {
    "duration": 24,
    "start_time": "2023-05-05T10:32:44.728Z"
   },
   {
    "duration": 93,
    "start_time": "2023-05-05T10:32:44.757Z"
   },
   {
    "duration": 13,
    "start_time": "2023-05-05T10:32:44.852Z"
   },
   {
    "duration": 29,
    "start_time": "2023-05-05T10:32:44.866Z"
   },
   {
    "duration": 375,
    "start_time": "2023-05-05T10:32:44.898Z"
   },
   {
    "duration": 15,
    "start_time": "2023-05-05T10:32:45.275Z"
   },
   {
    "duration": 11,
    "start_time": "2023-05-05T10:32:45.302Z"
   },
   {
    "duration": 8,
    "start_time": "2023-05-05T10:32:45.315Z"
   },
   {
    "duration": 17,
    "start_time": "2023-05-05T10:32:45.324Z"
   },
   {
    "duration": 162,
    "start_time": "2023-05-05T10:32:45.342Z"
   },
   {
    "duration": 3,
    "start_time": "2023-05-05T10:32:45.506Z"
   },
   {
    "duration": 18,
    "start_time": "2023-05-05T10:32:45.511Z"
   },
   {
    "duration": 18,
    "start_time": "2023-05-05T10:32:45.531Z"
   },
   {
    "duration": 13,
    "start_time": "2023-05-05T10:32:45.551Z"
   },
   {
    "duration": 4,
    "start_time": "2023-05-05T10:32:45.566Z"
   },
   {
    "duration": 599,
    "start_time": "2023-05-05T10:32:45.572Z"
   },
   {
    "duration": 4,
    "start_time": "2023-05-05T10:32:46.173Z"
   },
   {
    "duration": 8882,
    "start_time": "2023-05-05T10:32:46.185Z"
   },
   {
    "duration": 4,
    "start_time": "2023-05-05T10:32:55.069Z"
   },
   {
    "duration": 41,
    "start_time": "2023-05-05T10:32:55.075Z"
   },
   {
    "duration": 23,
    "start_time": "2023-05-05T10:32:55.118Z"
   },
   {
    "duration": 29,
    "start_time": "2023-05-05T10:32:55.143Z"
   },
   {
    "duration": 14,
    "start_time": "2023-05-05T10:32:55.174Z"
   },
   {
    "duration": 19,
    "start_time": "2023-05-05T10:32:55.192Z"
   },
   {
    "duration": 38,
    "start_time": "2023-05-05T10:32:55.213Z"
   },
   {
    "duration": 8,
    "start_time": "2023-05-05T10:32:55.254Z"
   },
   {
    "duration": 28,
    "start_time": "2023-05-05T10:32:55.264Z"
   },
   {
    "duration": 595,
    "start_time": "2023-05-05T10:32:55.294Z"
   },
   {
    "duration": 0,
    "start_time": "2023-05-05T10:32:55.891Z"
   },
   {
    "duration": 0,
    "start_time": "2023-05-05T10:32:55.892Z"
   },
   {
    "duration": 0,
    "start_time": "2023-05-05T10:32:55.893Z"
   },
   {
    "duration": 0,
    "start_time": "2023-05-05T10:32:55.894Z"
   },
   {
    "duration": 0,
    "start_time": "2023-05-05T10:32:55.896Z"
   },
   {
    "duration": 0,
    "start_time": "2023-05-05T10:32:55.897Z"
   },
   {
    "duration": 15,
    "start_time": "2023-05-05T10:38:06.514Z"
   },
   {
    "duration": 1435,
    "start_time": "2023-05-05T10:54:00.828Z"
   },
   {
    "duration": 37,
    "start_time": "2023-05-05T10:54:02.265Z"
   },
   {
    "duration": 14,
    "start_time": "2023-05-05T10:54:02.303Z"
   },
   {
    "duration": 29,
    "start_time": "2023-05-05T10:54:02.320Z"
   },
   {
    "duration": 44,
    "start_time": "2023-05-05T10:54:02.351Z"
   },
   {
    "duration": 36,
    "start_time": "2023-05-05T10:54:02.397Z"
   },
   {
    "duration": 15,
    "start_time": "2023-05-05T10:54:02.435Z"
   },
   {
    "duration": 37,
    "start_time": "2023-05-05T10:54:02.452Z"
   },
   {
    "duration": 83,
    "start_time": "2023-05-05T10:54:02.491Z"
   },
   {
    "duration": 47,
    "start_time": "2023-05-05T10:54:02.577Z"
   },
   {
    "duration": 32,
    "start_time": "2023-05-05T10:54:02.625Z"
   },
   {
    "duration": 63,
    "start_time": "2023-05-05T10:54:02.658Z"
   },
   {
    "duration": 92,
    "start_time": "2023-05-05T10:54:02.723Z"
   },
   {
    "duration": 71,
    "start_time": "2023-05-05T10:54:02.817Z"
   },
   {
    "duration": 16,
    "start_time": "2023-05-05T10:54:02.890Z"
   },
   {
    "duration": 30,
    "start_time": "2023-05-05T10:54:02.908Z"
   },
   {
    "duration": 652,
    "start_time": "2023-05-05T10:54:02.940Z"
   },
   {
    "duration": 7,
    "start_time": "2023-05-05T10:54:03.594Z"
   },
   {
    "duration": 17,
    "start_time": "2023-05-05T10:54:03.602Z"
   },
   {
    "duration": 7,
    "start_time": "2023-05-05T10:54:03.620Z"
   },
   {
    "duration": 66,
    "start_time": "2023-05-05T10:54:03.628Z"
   },
   {
    "duration": 303,
    "start_time": "2023-05-05T10:54:03.696Z"
   },
   {
    "duration": 4,
    "start_time": "2023-05-05T10:54:04.001Z"
   },
   {
    "duration": 18,
    "start_time": "2023-05-05T10:54:04.007Z"
   },
   {
    "duration": 64,
    "start_time": "2023-05-05T10:54:04.028Z"
   },
   {
    "duration": 9,
    "start_time": "2023-05-05T10:54:04.094Z"
   },
   {
    "duration": 3,
    "start_time": "2023-05-05T10:54:04.105Z"
   },
   {
    "duration": 80,
    "start_time": "2023-05-05T10:54:04.111Z"
   },
   {
    "duration": 883,
    "start_time": "2023-05-05T10:54:04.193Z"
   },
   {
    "duration": 3,
    "start_time": "2023-05-05T10:54:05.078Z"
   },
   {
    "duration": 7337,
    "start_time": "2023-05-05T10:54:05.085Z"
   },
   {
    "duration": 3,
    "start_time": "2023-05-05T10:54:12.424Z"
   },
   {
    "duration": 25,
    "start_time": "2023-05-05T10:54:12.429Z"
   },
   {
    "duration": 29,
    "start_time": "2023-05-05T10:54:12.456Z"
   },
   {
    "duration": 12,
    "start_time": "2023-05-05T10:54:12.487Z"
   },
   {
    "duration": 7,
    "start_time": "2023-05-05T10:54:12.500Z"
   },
   {
    "duration": 12,
    "start_time": "2023-05-05T10:54:12.509Z"
   },
   {
    "duration": 18,
    "start_time": "2023-05-05T10:54:12.522Z"
   },
   {
    "duration": 4,
    "start_time": "2023-05-05T10:54:12.542Z"
   },
   {
    "duration": 14,
    "start_time": "2023-05-05T10:54:12.548Z"
   },
   {
    "duration": 497,
    "start_time": "2023-05-05T10:54:12.584Z"
   },
   {
    "duration": 0,
    "start_time": "2023-05-05T10:54:13.082Z"
   },
   {
    "duration": 0,
    "start_time": "2023-05-05T10:54:13.085Z"
   },
   {
    "duration": 0,
    "start_time": "2023-05-05T10:54:13.086Z"
   },
   {
    "duration": 0,
    "start_time": "2023-05-05T10:54:13.087Z"
   },
   {
    "duration": 0,
    "start_time": "2023-05-05T10:54:13.088Z"
   },
   {
    "duration": 0,
    "start_time": "2023-05-05T10:54:13.089Z"
   },
   {
    "duration": 1591,
    "start_time": "2023-05-05T14:25:58.302Z"
   },
   {
    "duration": 86,
    "start_time": "2023-05-05T14:25:59.895Z"
   },
   {
    "duration": 13,
    "start_time": "2023-05-05T14:25:59.983Z"
   },
   {
    "duration": 55,
    "start_time": "2023-05-05T14:25:59.998Z"
   },
   {
    "duration": 52,
    "start_time": "2023-05-05T14:26:00.055Z"
   },
   {
    "duration": 25,
    "start_time": "2023-05-05T14:26:00.109Z"
   },
   {
    "duration": 39,
    "start_time": "2023-05-05T14:26:00.136Z"
   },
   {
    "duration": 60,
    "start_time": "2023-05-05T14:26:00.177Z"
   },
   {
    "duration": 66,
    "start_time": "2023-05-05T14:26:00.238Z"
   },
   {
    "duration": 94,
    "start_time": "2023-05-05T14:26:00.307Z"
   },
   {
    "duration": 22,
    "start_time": "2023-05-05T14:26:00.403Z"
   },
   {
    "duration": 42,
    "start_time": "2023-05-05T14:26:00.426Z"
   },
   {
    "duration": 35,
    "start_time": "2023-05-05T14:26:00.470Z"
   },
   {
    "duration": 68,
    "start_time": "2023-05-05T14:26:00.506Z"
   },
   {
    "duration": 14,
    "start_time": "2023-05-05T14:26:00.586Z"
   },
   {
    "duration": 50,
    "start_time": "2023-05-05T14:26:00.602Z"
   },
   {
    "duration": 483,
    "start_time": "2023-05-05T14:26:00.654Z"
   },
   {
    "duration": 8,
    "start_time": "2023-05-05T14:26:01.140Z"
   },
   {
    "duration": 43,
    "start_time": "2023-05-05T14:26:01.149Z"
   },
   {
    "duration": 31,
    "start_time": "2023-05-05T14:26:01.194Z"
   },
   {
    "duration": 41,
    "start_time": "2023-05-05T14:26:01.227Z"
   },
   {
    "duration": 165,
    "start_time": "2023-05-05T14:26:01.270Z"
   },
   {
    "duration": 4,
    "start_time": "2023-05-05T14:26:01.436Z"
   },
   {
    "duration": 53,
    "start_time": "2023-05-05T14:26:01.441Z"
   },
   {
    "duration": 43,
    "start_time": "2023-05-05T14:26:01.496Z"
   },
   {
    "duration": 27,
    "start_time": "2023-05-05T14:26:01.541Z"
   },
   {
    "duration": 43,
    "start_time": "2023-05-05T14:26:01.570Z"
   },
   {
    "duration": 657,
    "start_time": "2023-05-05T14:26:01.617Z"
   },
   {
    "duration": 4,
    "start_time": "2023-05-05T14:26:02.275Z"
   },
   {
    "duration": 7610,
    "start_time": "2023-05-05T14:26:02.285Z"
   },
   {
    "duration": 4,
    "start_time": "2023-05-05T14:26:09.896Z"
   },
   {
    "duration": 24,
    "start_time": "2023-05-05T14:26:09.901Z"
   },
   {
    "duration": 13,
    "start_time": "2023-05-05T14:26:09.927Z"
   },
   {
    "duration": 12,
    "start_time": "2023-05-05T14:26:09.941Z"
   },
   {
    "duration": 4,
    "start_time": "2023-05-05T14:26:09.955Z"
   },
   {
    "duration": 3,
    "start_time": "2023-05-05T14:26:09.986Z"
   },
   {
    "duration": 19,
    "start_time": "2023-05-05T14:26:09.991Z"
   },
   {
    "duration": 4,
    "start_time": "2023-05-05T14:26:10.012Z"
   },
   {
    "duration": 18,
    "start_time": "2023-05-05T14:26:10.018Z"
   },
   {
    "duration": 555,
    "start_time": "2023-05-05T14:26:10.038Z"
   },
   {
    "duration": 0,
    "start_time": "2023-05-05T14:26:10.595Z"
   },
   {
    "duration": 0,
    "start_time": "2023-05-05T14:26:10.596Z"
   },
   {
    "duration": 0,
    "start_time": "2023-05-05T14:26:10.597Z"
   },
   {
    "duration": 0,
    "start_time": "2023-05-05T14:26:10.598Z"
   },
   {
    "duration": 0,
    "start_time": "2023-05-05T14:26:10.599Z"
   },
   {
    "duration": 0,
    "start_time": "2023-05-05T14:26:10.600Z"
   },
   {
    "duration": 14,
    "start_time": "2023-05-05T14:39:06.962Z"
   },
   {
    "duration": 29,
    "start_time": "2023-05-05T14:39:50.086Z"
   },
   {
    "duration": 1375,
    "start_time": "2023-05-05T17:03:20.278Z"
   },
   {
    "duration": 37,
    "start_time": "2023-05-05T17:03:21.655Z"
   },
   {
    "duration": 13,
    "start_time": "2023-05-05T17:03:21.694Z"
   },
   {
    "duration": 6,
    "start_time": "2023-05-05T17:03:21.710Z"
   },
   {
    "duration": 12,
    "start_time": "2023-05-05T17:03:21.717Z"
   },
   {
    "duration": 5,
    "start_time": "2023-05-05T17:03:21.731Z"
   },
   {
    "duration": 5,
    "start_time": "2023-05-05T17:03:21.737Z"
   },
   {
    "duration": 6,
    "start_time": "2023-05-05T17:03:21.743Z"
   },
   {
    "duration": 52,
    "start_time": "2023-05-05T17:03:21.750Z"
   },
   {
    "duration": 16,
    "start_time": "2023-05-05T17:03:21.806Z"
   },
   {
    "duration": 27,
    "start_time": "2023-05-05T17:03:21.824Z"
   },
   {
    "duration": 148,
    "start_time": "2023-05-05T17:03:21.852Z"
   },
   {
    "duration": 0,
    "start_time": "2023-05-05T17:03:22.002Z"
   },
   {
    "duration": 0,
    "start_time": "2023-05-05T17:03:22.003Z"
   },
   {
    "duration": 0,
    "start_time": "2023-05-05T17:03:22.004Z"
   },
   {
    "duration": 0,
    "start_time": "2023-05-05T17:03:22.005Z"
   },
   {
    "duration": 0,
    "start_time": "2023-05-05T17:03:22.006Z"
   },
   {
    "duration": 0,
    "start_time": "2023-05-05T17:03:22.007Z"
   },
   {
    "duration": 0,
    "start_time": "2023-05-05T17:03:22.008Z"
   },
   {
    "duration": 0,
    "start_time": "2023-05-05T17:03:22.010Z"
   },
   {
    "duration": 0,
    "start_time": "2023-05-05T17:03:22.011Z"
   },
   {
    "duration": 0,
    "start_time": "2023-05-05T17:03:22.012Z"
   },
   {
    "duration": 0,
    "start_time": "2023-05-05T17:03:22.013Z"
   },
   {
    "duration": 0,
    "start_time": "2023-05-05T17:03:22.014Z"
   },
   {
    "duration": 0,
    "start_time": "2023-05-05T17:03:22.016Z"
   },
   {
    "duration": 0,
    "start_time": "2023-05-05T17:03:22.017Z"
   },
   {
    "duration": 0,
    "start_time": "2023-05-05T17:03:22.018Z"
   },
   {
    "duration": 0,
    "start_time": "2023-05-05T17:03:22.019Z"
   },
   {
    "duration": 0,
    "start_time": "2023-05-05T17:03:22.020Z"
   },
   {
    "duration": 0,
    "start_time": "2023-05-05T17:03:22.022Z"
   },
   {
    "duration": 0,
    "start_time": "2023-05-05T17:03:22.024Z"
   },
   {
    "duration": 0,
    "start_time": "2023-05-05T17:03:22.025Z"
   },
   {
    "duration": 0,
    "start_time": "2023-05-05T17:03:22.026Z"
   },
   {
    "duration": 0,
    "start_time": "2023-05-05T17:03:22.027Z"
   },
   {
    "duration": 0,
    "start_time": "2023-05-05T17:03:22.028Z"
   },
   {
    "duration": 0,
    "start_time": "2023-05-05T17:03:22.030Z"
   },
   {
    "duration": 0,
    "start_time": "2023-05-05T17:03:22.033Z"
   },
   {
    "duration": 1,
    "start_time": "2023-05-05T17:03:22.088Z"
   },
   {
    "duration": 0,
    "start_time": "2023-05-05T17:03:22.090Z"
   },
   {
    "duration": 0,
    "start_time": "2023-05-05T17:03:22.092Z"
   },
   {
    "duration": 0,
    "start_time": "2023-05-05T17:03:22.093Z"
   },
   {
    "duration": 0,
    "start_time": "2023-05-05T17:03:22.095Z"
   },
   {
    "duration": 0,
    "start_time": "2023-05-05T17:03:22.097Z"
   },
   {
    "duration": 0,
    "start_time": "2023-05-05T17:03:22.098Z"
   },
   {
    "duration": 0,
    "start_time": "2023-05-05T17:03:22.100Z"
   },
   {
    "duration": 0,
    "start_time": "2023-05-05T17:03:22.102Z"
   },
   {
    "duration": 0,
    "start_time": "2023-05-05T17:03:22.104Z"
   },
   {
    "duration": 0,
    "start_time": "2023-05-05T17:03:22.106Z"
   },
   {
    "duration": 1496,
    "start_time": "2023-05-05T17:04:30.670Z"
   },
   {
    "duration": 38,
    "start_time": "2023-05-05T17:04:32.168Z"
   },
   {
    "duration": 13,
    "start_time": "2023-05-05T17:04:32.208Z"
   },
   {
    "duration": 6,
    "start_time": "2023-05-05T17:04:32.222Z"
   },
   {
    "duration": 27,
    "start_time": "2023-05-05T17:04:32.230Z"
   },
   {
    "duration": 9,
    "start_time": "2023-05-05T17:04:32.259Z"
   },
   {
    "duration": 19,
    "start_time": "2023-05-05T17:04:32.270Z"
   },
   {
    "duration": 23,
    "start_time": "2023-05-05T17:04:32.291Z"
   },
   {
    "duration": 61,
    "start_time": "2023-05-05T17:04:32.315Z"
   },
   {
    "duration": 23,
    "start_time": "2023-05-05T17:04:32.377Z"
   },
   {
    "duration": 31,
    "start_time": "2023-05-05T17:04:32.402Z"
   },
   {
    "duration": 115,
    "start_time": "2023-05-05T17:04:32.435Z"
   },
   {
    "duration": 15,
    "start_time": "2023-05-05T17:04:32.552Z"
   },
   {
    "duration": 24,
    "start_time": "2023-05-05T17:04:32.571Z"
   },
   {
    "duration": 418,
    "start_time": "2023-05-05T17:04:32.597Z"
   },
   {
    "duration": 8,
    "start_time": "2023-05-05T17:04:33.017Z"
   },
   {
    "duration": 126,
    "start_time": "2023-05-05T17:04:33.027Z"
   },
   {
    "duration": 0,
    "start_time": "2023-05-05T17:04:33.155Z"
   },
   {
    "duration": 0,
    "start_time": "2023-05-05T17:04:33.156Z"
   },
   {
    "duration": 0,
    "start_time": "2023-05-05T17:04:33.158Z"
   },
   {
    "duration": 0,
    "start_time": "2023-05-05T17:04:33.159Z"
   },
   {
    "duration": 0,
    "start_time": "2023-05-05T17:04:33.160Z"
   },
   {
    "duration": 0,
    "start_time": "2023-05-05T17:04:33.161Z"
   },
   {
    "duration": 0,
    "start_time": "2023-05-05T17:04:33.162Z"
   },
   {
    "duration": 0,
    "start_time": "2023-05-05T17:04:33.163Z"
   },
   {
    "duration": 0,
    "start_time": "2023-05-05T17:04:33.164Z"
   },
   {
    "duration": 0,
    "start_time": "2023-05-05T17:04:33.165Z"
   },
   {
    "duration": 0,
    "start_time": "2023-05-05T17:04:33.186Z"
   },
   {
    "duration": 0,
    "start_time": "2023-05-05T17:04:33.187Z"
   },
   {
    "duration": 0,
    "start_time": "2023-05-05T17:04:33.188Z"
   },
   {
    "duration": 0,
    "start_time": "2023-05-05T17:04:33.189Z"
   },
   {
    "duration": 0,
    "start_time": "2023-05-05T17:04:33.190Z"
   },
   {
    "duration": 0,
    "start_time": "2023-05-05T17:04:33.191Z"
   },
   {
    "duration": 0,
    "start_time": "2023-05-05T17:04:33.192Z"
   },
   {
    "duration": 0,
    "start_time": "2023-05-05T17:04:33.193Z"
   },
   {
    "duration": 0,
    "start_time": "2023-05-05T17:04:33.194Z"
   },
   {
    "duration": 0,
    "start_time": "2023-05-05T17:04:33.195Z"
   },
   {
    "duration": 0,
    "start_time": "2023-05-05T17:04:33.196Z"
   },
   {
    "duration": 0,
    "start_time": "2023-05-05T17:04:33.197Z"
   },
   {
    "duration": 0,
    "start_time": "2023-05-05T17:04:33.199Z"
   },
   {
    "duration": 0,
    "start_time": "2023-05-05T17:04:33.199Z"
   },
   {
    "duration": 0,
    "start_time": "2023-05-05T17:04:33.200Z"
   },
   {
    "duration": 1,
    "start_time": "2023-05-05T17:04:33.201Z"
   },
   {
    "duration": 0,
    "start_time": "2023-05-05T17:04:33.202Z"
   },
   {
    "duration": 0,
    "start_time": "2023-05-05T17:04:33.204Z"
   },
   {
    "duration": 0,
    "start_time": "2023-05-05T17:04:33.205Z"
   },
   {
    "duration": 0,
    "start_time": "2023-05-05T17:04:33.206Z"
   },
   {
    "duration": 0,
    "start_time": "2023-05-05T17:04:33.207Z"
   },
   {
    "duration": 13,
    "start_time": "2023-05-05T17:05:23.315Z"
   },
   {
    "duration": 1485,
    "start_time": "2023-05-05T17:05:41.679Z"
   },
   {
    "duration": 37,
    "start_time": "2023-05-05T17:05:43.166Z"
   },
   {
    "duration": 13,
    "start_time": "2023-05-05T17:05:43.205Z"
   },
   {
    "duration": 22,
    "start_time": "2023-05-05T17:05:43.220Z"
   },
   {
    "duration": 10,
    "start_time": "2023-05-05T17:05:43.243Z"
   },
   {
    "duration": 9,
    "start_time": "2023-05-05T17:05:43.254Z"
   },
   {
    "duration": 12,
    "start_time": "2023-05-05T17:05:43.264Z"
   },
   {
    "duration": 8,
    "start_time": "2023-05-05T17:05:43.278Z"
   },
   {
    "duration": 26,
    "start_time": "2023-05-05T17:05:43.288Z"
   },
   {
    "duration": 19,
    "start_time": "2023-05-05T17:05:43.317Z"
   },
   {
    "duration": 55,
    "start_time": "2023-05-05T17:05:43.338Z"
   },
   {
    "duration": 96,
    "start_time": "2023-05-05T17:05:43.395Z"
   },
   {
    "duration": 14,
    "start_time": "2023-05-05T17:05:43.493Z"
   },
   {
    "duration": 34,
    "start_time": "2023-05-05T17:05:43.509Z"
   },
   {
    "duration": 443,
    "start_time": "2023-05-05T17:05:43.545Z"
   },
   {
    "duration": 9,
    "start_time": "2023-05-05T17:05:43.990Z"
   },
   {
    "duration": 15,
    "start_time": "2023-05-05T17:05:44.001Z"
   },
   {
    "duration": 23,
    "start_time": "2023-05-05T17:05:44.018Z"
   },
   {
    "duration": 33,
    "start_time": "2023-05-05T17:05:44.044Z"
   },
   {
    "duration": 212,
    "start_time": "2023-05-05T17:05:44.079Z"
   },
   {
    "duration": 4,
    "start_time": "2023-05-05T17:05:44.293Z"
   },
   {
    "duration": 21,
    "start_time": "2023-05-05T17:05:44.300Z"
   },
   {
    "duration": 11,
    "start_time": "2023-05-05T17:05:44.323Z"
   },
   {
    "duration": 8,
    "start_time": "2023-05-05T17:05:44.336Z"
   },
   {
    "duration": 3,
    "start_time": "2023-05-05T17:05:44.346Z"
   },
   {
    "duration": 13,
    "start_time": "2023-05-05T17:05:44.385Z"
   },
   {
    "duration": 17,
    "start_time": "2023-05-05T17:05:44.400Z"
   },
   {
    "duration": 31,
    "start_time": "2023-05-05T17:05:44.421Z"
   },
   {
    "duration": 1178,
    "start_time": "2023-05-05T17:05:44.454Z"
   },
   {
    "duration": 4,
    "start_time": "2023-05-05T17:05:45.686Z"
   },
   {
    "duration": 9027,
    "start_time": "2023-05-05T17:05:45.692Z"
   },
   {
    "duration": 3,
    "start_time": "2023-05-05T17:05:54.721Z"
   },
   {
    "duration": 30,
    "start_time": "2023-05-05T17:05:54.725Z"
   },
   {
    "duration": 13,
    "start_time": "2023-05-05T17:05:54.756Z"
   },
   {
    "duration": 28,
    "start_time": "2023-05-05T17:05:54.770Z"
   },
   {
    "duration": 5,
    "start_time": "2023-05-05T17:05:54.799Z"
   },
   {
    "duration": 4,
    "start_time": "2023-05-05T17:05:54.806Z"
   },
   {
    "duration": 25,
    "start_time": "2023-05-05T17:05:54.812Z"
   },
   {
    "duration": 12,
    "start_time": "2023-05-05T17:05:54.839Z"
   },
   {
    "duration": 21,
    "start_time": "2023-05-05T17:05:54.853Z"
   },
   {
    "duration": 73,
    "start_time": "2023-05-05T17:05:54.886Z"
   },
   {
    "duration": 0,
    "start_time": "2023-05-05T17:05:54.961Z"
   },
   {
    "duration": 0,
    "start_time": "2023-05-05T17:05:54.962Z"
   },
   {
    "duration": 0,
    "start_time": "2023-05-05T17:05:54.964Z"
   },
   {
    "duration": 0,
    "start_time": "2023-05-05T17:05:54.965Z"
   },
   {
    "duration": 0,
    "start_time": "2023-05-05T17:05:54.966Z"
   },
   {
    "duration": 0,
    "start_time": "2023-05-05T17:05:54.967Z"
   },
   {
    "duration": 0,
    "start_time": "2023-05-05T17:05:54.968Z"
   },
   {
    "duration": 10,
    "start_time": "2023-05-05T17:09:05.950Z"
   },
   {
    "duration": 16,
    "start_time": "2023-05-05T17:09:07.210Z"
   },
   {
    "duration": 4,
    "start_time": "2023-05-05T17:09:20.592Z"
   },
   {
    "duration": 1481,
    "start_time": "2023-05-05T18:17:57.238Z"
   },
   {
    "duration": 51,
    "start_time": "2023-05-05T18:17:58.722Z"
   },
   {
    "duration": 22,
    "start_time": "2023-05-05T18:17:58.776Z"
   },
   {
    "duration": 8,
    "start_time": "2023-05-05T18:17:58.802Z"
   },
   {
    "duration": 14,
    "start_time": "2023-05-05T18:17:58.812Z"
   },
   {
    "duration": 7,
    "start_time": "2023-05-05T18:17:58.828Z"
   },
   {
    "duration": 7,
    "start_time": "2023-05-05T18:17:58.837Z"
   },
   {
    "duration": 10,
    "start_time": "2023-05-05T18:17:58.846Z"
   },
   {
    "duration": 63,
    "start_time": "2023-05-05T18:17:58.858Z"
   },
   {
    "duration": 21,
    "start_time": "2023-05-05T18:17:58.924Z"
   },
   {
    "duration": 52,
    "start_time": "2023-05-05T18:17:58.947Z"
   },
   {
    "duration": 120,
    "start_time": "2023-05-05T18:17:59.001Z"
   },
   {
    "duration": 14,
    "start_time": "2023-05-05T18:17:59.123Z"
   },
   {
    "duration": 20,
    "start_time": "2023-05-05T18:17:59.139Z"
   },
   {
    "duration": 403,
    "start_time": "2023-05-05T18:17:59.161Z"
   },
   {
    "duration": 19,
    "start_time": "2023-05-05T18:17:59.566Z"
   },
   {
    "duration": 11,
    "start_time": "2023-05-05T18:17:59.587Z"
   },
   {
    "duration": 11,
    "start_time": "2023-05-05T18:17:59.601Z"
   },
   {
    "duration": 14,
    "start_time": "2023-05-05T18:17:59.614Z"
   },
   {
    "duration": 170,
    "start_time": "2023-05-05T18:17:59.630Z"
   },
   {
    "duration": 5,
    "start_time": "2023-05-05T18:17:59.802Z"
   },
   {
    "duration": 17,
    "start_time": "2023-05-05T18:17:59.809Z"
   },
   {
    "duration": 12,
    "start_time": "2023-05-05T18:17:59.829Z"
   },
   {
    "duration": 43,
    "start_time": "2023-05-05T18:17:59.843Z"
   },
   {
    "duration": 3,
    "start_time": "2023-05-05T18:17:59.889Z"
   },
   {
    "duration": 15,
    "start_time": "2023-05-05T18:17:59.894Z"
   },
   {
    "duration": 5,
    "start_time": "2023-05-05T18:17:59.911Z"
   },
   {
    "duration": 81,
    "start_time": "2023-05-05T18:17:59.921Z"
   },
   {
    "duration": 1625,
    "start_time": "2023-05-05T18:18:00.004Z"
   },
   {
    "duration": 53,
    "start_time": "2023-05-05T18:18:01.633Z"
   },
   {
    "duration": 8667,
    "start_time": "2023-05-05T18:18:01.689Z"
   },
   {
    "duration": 4,
    "start_time": "2023-05-05T18:18:10.358Z"
   },
   {
    "duration": 31,
    "start_time": "2023-05-05T18:18:10.364Z"
   },
   {
    "duration": 15,
    "start_time": "2023-05-05T18:18:10.397Z"
   },
   {
    "duration": 16,
    "start_time": "2023-05-05T18:18:10.413Z"
   },
   {
    "duration": 5,
    "start_time": "2023-05-05T18:18:10.432Z"
   },
   {
    "duration": 6,
    "start_time": "2023-05-05T18:18:10.440Z"
   },
   {
    "duration": 52,
    "start_time": "2023-05-05T18:18:10.448Z"
   },
   {
    "duration": 5,
    "start_time": "2023-05-05T18:18:10.503Z"
   },
   {
    "duration": 18,
    "start_time": "2023-05-05T18:18:10.510Z"
   },
   {
    "duration": 75,
    "start_time": "2023-05-05T18:18:10.530Z"
   },
   {
    "duration": 0,
    "start_time": "2023-05-05T18:18:10.608Z"
   },
   {
    "duration": 0,
    "start_time": "2023-05-05T18:18:10.611Z"
   },
   {
    "duration": 0,
    "start_time": "2023-05-05T18:18:10.612Z"
   },
   {
    "duration": 0,
    "start_time": "2023-05-05T18:18:10.614Z"
   },
   {
    "duration": 1,
    "start_time": "2023-05-05T18:18:10.615Z"
   },
   {
    "duration": 0,
    "start_time": "2023-05-05T18:18:10.617Z"
   },
   {
    "duration": 0,
    "start_time": "2023-05-05T18:18:10.619Z"
   },
   {
    "duration": 3,
    "start_time": "2023-05-05T18:33:14.094Z"
   },
   {
    "duration": 19,
    "start_time": "2023-05-05T18:33:15.152Z"
   },
   {
    "duration": 2,
    "start_time": "2023-05-05T18:33:20.124Z"
   },
   {
    "duration": 636,
    "start_time": "2023-05-05T18:33:24.413Z"
   },
   {
    "duration": 3,
    "start_time": "2023-05-05T18:33:35.601Z"
   },
   {
    "duration": 4,
    "start_time": "2023-05-05T18:33:56.017Z"
   },
   {
    "duration": 3,
    "start_time": "2023-05-05T18:33:56.573Z"
   },
   {
    "duration": 3,
    "start_time": "2023-05-05T18:33:57.456Z"
   },
   {
    "duration": 4,
    "start_time": "2023-05-05T18:33:58.420Z"
   },
   {
    "duration": 10,
    "start_time": "2023-05-05T18:37:55.364Z"
   },
   {
    "duration": 4,
    "start_time": "2023-05-05T18:37:56.165Z"
   },
   {
    "duration": 5,
    "start_time": "2023-05-05T18:39:24.408Z"
   },
   {
    "duration": 656,
    "start_time": "2023-05-05T18:39:29.983Z"
   },
   {
    "duration": 876,
    "start_time": "2023-05-05T18:43:31.296Z"
   },
   {
    "duration": 155,
    "start_time": "2023-05-05T18:44:27.035Z"
   },
   {
    "duration": 842,
    "start_time": "2023-05-05T18:45:05.648Z"
   },
   {
    "duration": 36,
    "start_time": "2023-05-05T18:45:08.719Z"
   },
   {
    "duration": 27,
    "start_time": "2023-05-05T18:46:13.799Z"
   },
   {
    "duration": 46,
    "start_time": "2023-05-05T18:47:19.095Z"
   },
   {
    "duration": 36,
    "start_time": "2023-05-05T18:49:21.507Z"
   },
   {
    "duration": 30,
    "start_time": "2023-05-05T18:50:13.654Z"
   },
   {
    "duration": 29,
    "start_time": "2023-05-05T18:50:42.293Z"
   },
   {
    "duration": 81,
    "start_time": "2023-05-05T18:50:50.185Z"
   },
   {
    "duration": 81,
    "start_time": "2023-05-05T18:51:08.934Z"
   },
   {
    "duration": 29,
    "start_time": "2023-05-05T18:51:17.884Z"
   },
   {
    "duration": 34,
    "start_time": "2023-05-05T18:51:32.759Z"
   },
   {
    "duration": 56,
    "start_time": "2023-05-05T18:55:36.344Z"
   },
   {
    "duration": 1479,
    "start_time": "2023-05-05T18:56:11.813Z"
   },
   {
    "duration": 37,
    "start_time": "2023-05-05T18:56:13.294Z"
   },
   {
    "duration": 14,
    "start_time": "2023-05-05T18:56:13.333Z"
   },
   {
    "duration": 6,
    "start_time": "2023-05-05T18:56:13.350Z"
   },
   {
    "duration": 11,
    "start_time": "2023-05-05T18:56:13.358Z"
   },
   {
    "duration": 16,
    "start_time": "2023-05-05T18:56:13.372Z"
   },
   {
    "duration": 4,
    "start_time": "2023-05-05T18:56:13.390Z"
   },
   {
    "duration": 6,
    "start_time": "2023-05-05T18:56:13.396Z"
   },
   {
    "duration": 34,
    "start_time": "2023-05-05T18:56:13.404Z"
   },
   {
    "duration": 51,
    "start_time": "2023-05-05T18:56:13.441Z"
   },
   {
    "duration": 28,
    "start_time": "2023-05-05T18:56:13.493Z"
   },
   {
    "duration": 142,
    "start_time": "2023-05-05T18:56:13.523Z"
   },
   {
    "duration": 21,
    "start_time": "2023-05-05T18:56:13.666Z"
   },
   {
    "duration": 18,
    "start_time": "2023-05-05T18:56:13.688Z"
   },
   {
    "duration": 653,
    "start_time": "2023-05-05T18:56:13.708Z"
   },
   {
    "duration": 11,
    "start_time": "2023-05-05T18:56:14.363Z"
   },
   {
    "duration": 10,
    "start_time": "2023-05-05T18:56:14.387Z"
   },
   {
    "duration": 10,
    "start_time": "2023-05-05T18:56:14.399Z"
   },
   {
    "duration": 15,
    "start_time": "2023-05-05T18:56:14.411Z"
   },
   {
    "duration": 205,
    "start_time": "2023-05-05T18:56:14.428Z"
   },
   {
    "duration": 4,
    "start_time": "2023-05-05T18:56:14.635Z"
   },
   {
    "duration": 16,
    "start_time": "2023-05-05T18:56:14.642Z"
   },
   {
    "duration": 28,
    "start_time": "2023-05-05T18:56:14.660Z"
   },
   {
    "duration": 8,
    "start_time": "2023-05-05T18:56:14.690Z"
   },
   {
    "duration": 12,
    "start_time": "2023-05-05T18:56:14.700Z"
   },
   {
    "duration": 19,
    "start_time": "2023-05-05T18:56:14.714Z"
   },
   {
    "duration": 7,
    "start_time": "2023-05-05T18:56:14.734Z"
   },
   {
    "duration": 3,
    "start_time": "2023-05-05T18:56:14.744Z"
   },
   {
    "duration": 10,
    "start_time": "2023-05-05T18:56:14.749Z"
   },
   {
    "duration": 10,
    "start_time": "2023-05-05T18:56:14.761Z"
   },
   {
    "duration": 8,
    "start_time": "2023-05-05T18:56:14.773Z"
   },
   {
    "duration": 11,
    "start_time": "2023-05-05T18:56:14.783Z"
   },
   {
    "duration": 123,
    "start_time": "2023-05-05T18:56:14.796Z"
   },
   {
    "duration": 0,
    "start_time": "2023-05-05T18:56:14.921Z"
   },
   {
    "duration": 0,
    "start_time": "2023-05-05T18:56:14.922Z"
   },
   {
    "duration": 0,
    "start_time": "2023-05-05T18:56:14.924Z"
   },
   {
    "duration": 0,
    "start_time": "2023-05-05T18:56:14.926Z"
   },
   {
    "duration": 0,
    "start_time": "2023-05-05T18:56:14.927Z"
   },
   {
    "duration": 0,
    "start_time": "2023-05-05T18:56:14.928Z"
   },
   {
    "duration": 0,
    "start_time": "2023-05-05T18:56:14.930Z"
   },
   {
    "duration": 0,
    "start_time": "2023-05-05T18:56:14.931Z"
   },
   {
    "duration": 0,
    "start_time": "2023-05-05T18:56:14.932Z"
   },
   {
    "duration": 0,
    "start_time": "2023-05-05T18:56:14.934Z"
   },
   {
    "duration": 0,
    "start_time": "2023-05-05T18:56:14.935Z"
   },
   {
    "duration": 0,
    "start_time": "2023-05-05T18:56:14.937Z"
   },
   {
    "duration": 0,
    "start_time": "2023-05-05T18:56:14.939Z"
   },
   {
    "duration": 0,
    "start_time": "2023-05-05T18:56:14.940Z"
   },
   {
    "duration": 0,
    "start_time": "2023-05-05T18:56:14.941Z"
   },
   {
    "duration": 0,
    "start_time": "2023-05-05T18:56:14.943Z"
   },
   {
    "duration": 0,
    "start_time": "2023-05-05T18:56:14.944Z"
   },
   {
    "duration": 0,
    "start_time": "2023-05-05T18:56:14.985Z"
   },
   {
    "duration": 0,
    "start_time": "2023-05-05T18:56:14.987Z"
   },
   {
    "duration": 19,
    "start_time": "2023-05-05T18:57:30.075Z"
   },
   {
    "duration": 22,
    "start_time": "2023-05-05T18:57:31.448Z"
   },
   {
    "duration": 21,
    "start_time": "2023-05-05T18:57:34.041Z"
   },
   {
    "duration": 14,
    "start_time": "2023-05-05T18:57:34.630Z"
   },
   {
    "duration": 4,
    "start_time": "2023-05-05T18:57:36.596Z"
   },
   {
    "duration": 3,
    "start_time": "2023-05-05T18:57:38.789Z"
   },
   {
    "duration": 14,
    "start_time": "2023-05-05T18:57:41.028Z"
   },
   {
    "duration": 7,
    "start_time": "2023-05-05T18:57:44.061Z"
   },
   {
    "duration": 12,
    "start_time": "2023-05-05T18:57:44.620Z"
   },
   {
    "duration": 4,
    "start_time": "2023-05-05T18:57:57.206Z"
   },
   {
    "duration": 862,
    "start_time": "2023-05-05T18:57:59.194Z"
   },
   {
    "duration": 53,
    "start_time": "2023-05-05T18:58:00.059Z"
   },
   {
    "duration": 45,
    "start_time": "2023-05-05T18:58:31.897Z"
   },
   {
    "duration": 35,
    "start_time": "2023-05-05T18:59:36.209Z"
   },
   {
    "duration": 37,
    "start_time": "2023-05-05T19:00:28.007Z"
   },
   {
    "duration": 4,
    "start_time": "2023-05-05T19:01:22.168Z"
   },
   {
    "duration": 11557,
    "start_time": "2023-05-05T19:01:29.352Z"
   },
   {
    "duration": 1741,
    "start_time": "2023-05-05T19:02:01.558Z"
   },
   {
    "duration": 40,
    "start_time": "2023-05-05T19:02:03.305Z"
   },
   {
    "duration": 14,
    "start_time": "2023-05-05T19:02:03.347Z"
   },
   {
    "duration": 6,
    "start_time": "2023-05-05T19:02:03.364Z"
   },
   {
    "duration": 14,
    "start_time": "2023-05-05T19:02:03.372Z"
   },
   {
    "duration": 5,
    "start_time": "2023-05-05T19:02:03.388Z"
   },
   {
    "duration": 6,
    "start_time": "2023-05-05T19:02:03.394Z"
   },
   {
    "duration": 7,
    "start_time": "2023-05-05T19:02:03.402Z"
   },
   {
    "duration": 39,
    "start_time": "2023-05-05T19:02:03.411Z"
   },
   {
    "duration": 57,
    "start_time": "2023-05-05T19:02:03.453Z"
   },
   {
    "duration": 46,
    "start_time": "2023-05-05T19:02:03.512Z"
   },
   {
    "duration": 171,
    "start_time": "2023-05-05T19:02:03.559Z"
   },
   {
    "duration": 26,
    "start_time": "2023-05-05T19:02:03.732Z"
   },
   {
    "duration": 39,
    "start_time": "2023-05-05T19:02:03.761Z"
   },
   {
    "duration": 573,
    "start_time": "2023-05-05T19:02:03.802Z"
   },
   {
    "duration": 15,
    "start_time": "2023-05-05T19:02:04.377Z"
   },
   {
    "duration": 12,
    "start_time": "2023-05-05T19:02:04.394Z"
   },
   {
    "duration": 9,
    "start_time": "2023-05-05T19:02:04.408Z"
   },
   {
    "duration": 16,
    "start_time": "2023-05-05T19:02:04.426Z"
   },
   {
    "duration": 188,
    "start_time": "2023-05-05T19:02:04.444Z"
   },
   {
    "duration": 4,
    "start_time": "2023-05-05T19:02:04.634Z"
   },
   {
    "duration": 12,
    "start_time": "2023-05-05T19:02:04.640Z"
   },
   {
    "duration": 33,
    "start_time": "2023-05-05T19:02:04.654Z"
   },
   {
    "duration": 13,
    "start_time": "2023-05-05T19:02:04.689Z"
   },
   {
    "duration": 3,
    "start_time": "2023-05-05T19:02:04.703Z"
   },
   {
    "duration": 5,
    "start_time": "2023-05-05T19:02:04.708Z"
   },
   {
    "duration": 7,
    "start_time": "2023-05-05T19:02:04.714Z"
   },
   {
    "duration": 3,
    "start_time": "2023-05-05T19:02:04.727Z"
   },
   {
    "duration": 7,
    "start_time": "2023-05-05T19:02:04.732Z"
   },
   {
    "duration": 5,
    "start_time": "2023-05-05T19:02:04.741Z"
   },
   {
    "duration": 40,
    "start_time": "2023-05-05T19:02:04.748Z"
   },
   {
    "duration": 5,
    "start_time": "2023-05-05T19:02:04.790Z"
   },
   {
    "duration": 19,
    "start_time": "2023-05-05T19:02:04.797Z"
   },
   {
    "duration": 33,
    "start_time": "2023-05-05T19:02:04.818Z"
   },
   {
    "duration": 46,
    "start_time": "2023-05-05T19:02:04.853Z"
   },
   {
    "duration": 21,
    "start_time": "2023-05-05T19:02:04.901Z"
   },
   {
    "duration": 6,
    "start_time": "2023-05-05T19:02:04.924Z"
   },
   {
    "duration": 5,
    "start_time": "2023-05-05T19:02:04.932Z"
   },
   {
    "duration": 48,
    "start_time": "2023-05-05T19:02:04.939Z"
   },
   {
    "duration": 6,
    "start_time": "2023-05-05T19:02:04.990Z"
   },
   {
    "duration": 20,
    "start_time": "2023-05-05T19:02:04.998Z"
   },
   {
    "duration": 5,
    "start_time": "2023-05-05T19:02:05.020Z"
   },
   {
    "duration": 889,
    "start_time": "2023-05-05T19:02:05.026Z"
   },
   {
    "duration": 36,
    "start_time": "2023-05-05T19:02:05.917Z"
   },
   {
    "duration": 10773,
    "start_time": "2023-05-05T19:02:05.955Z"
   },
   {
    "duration": 122,
    "start_time": "2023-05-05T19:02:16.729Z"
   },
   {
    "duration": 0,
    "start_time": "2023-05-05T19:02:16.853Z"
   },
   {
    "duration": 0,
    "start_time": "2023-05-05T19:02:16.854Z"
   },
   {
    "duration": 0,
    "start_time": "2023-05-05T19:02:16.857Z"
   },
   {
    "duration": 0,
    "start_time": "2023-05-05T19:02:16.858Z"
   },
   {
    "duration": 0,
    "start_time": "2023-05-05T19:02:16.860Z"
   },
   {
    "duration": 1612,
    "start_time": "2023-05-05T19:05:02.255Z"
   },
   {
    "duration": 50,
    "start_time": "2023-05-05T19:05:03.869Z"
   },
   {
    "duration": 26,
    "start_time": "2023-05-05T19:05:03.921Z"
   },
   {
    "duration": 9,
    "start_time": "2023-05-05T19:05:03.949Z"
   },
   {
    "duration": 9,
    "start_time": "2023-05-05T19:05:03.963Z"
   },
   {
    "duration": 25,
    "start_time": "2023-05-05T19:05:03.974Z"
   },
   {
    "duration": 3,
    "start_time": "2023-05-05T19:05:04.002Z"
   },
   {
    "duration": 32,
    "start_time": "2023-05-05T19:05:04.007Z"
   },
   {
    "duration": 34,
    "start_time": "2023-05-05T19:05:04.042Z"
   },
   {
    "duration": 34,
    "start_time": "2023-05-05T19:05:04.078Z"
   },
   {
    "duration": 43,
    "start_time": "2023-05-05T19:05:04.115Z"
   },
   {
    "duration": 139,
    "start_time": "2023-05-05T19:05:04.160Z"
   },
   {
    "duration": 26,
    "start_time": "2023-05-05T19:05:04.302Z"
   },
   {
    "duration": 15,
    "start_time": "2023-05-05T19:05:04.332Z"
   },
   {
    "duration": 455,
    "start_time": "2023-05-05T19:05:04.352Z"
   },
   {
    "duration": 8,
    "start_time": "2023-05-05T19:05:04.809Z"
   },
   {
    "duration": 11,
    "start_time": "2023-05-05T19:05:04.819Z"
   },
   {
    "duration": 9,
    "start_time": "2023-05-05T19:05:04.832Z"
   },
   {
    "duration": 57,
    "start_time": "2023-05-05T19:05:04.843Z"
   },
   {
    "duration": 164,
    "start_time": "2023-05-05T19:05:04.903Z"
   },
   {
    "duration": 3,
    "start_time": "2023-05-05T19:05:05.069Z"
   },
   {
    "duration": 33,
    "start_time": "2023-05-05T19:05:05.074Z"
   },
   {
    "duration": 16,
    "start_time": "2023-05-05T19:05:05.108Z"
   },
   {
    "duration": 8,
    "start_time": "2023-05-05T19:05:05.126Z"
   },
   {
    "duration": 3,
    "start_time": "2023-05-05T19:05:05.135Z"
   },
   {
    "duration": 11,
    "start_time": "2023-05-05T19:05:05.139Z"
   },
   {
    "duration": 37,
    "start_time": "2023-05-05T19:05:05.152Z"
   },
   {
    "duration": 5,
    "start_time": "2023-05-05T19:05:05.197Z"
   },
   {
    "duration": 20,
    "start_time": "2023-05-05T19:05:05.204Z"
   },
   {
    "duration": 6,
    "start_time": "2023-05-05T19:05:05.226Z"
   },
   {
    "duration": 4,
    "start_time": "2023-05-05T19:05:05.234Z"
   },
   {
    "duration": 6,
    "start_time": "2023-05-05T19:05:05.240Z"
   },
   {
    "duration": 14,
    "start_time": "2023-05-05T19:05:05.248Z"
   },
   {
    "duration": 41,
    "start_time": "2023-05-05T19:05:05.264Z"
   },
   {
    "duration": 14,
    "start_time": "2023-05-05T19:05:05.306Z"
   },
   {
    "duration": 15,
    "start_time": "2023-05-05T19:05:05.322Z"
   },
   {
    "duration": 16,
    "start_time": "2023-05-05T19:05:05.339Z"
   },
   {
    "duration": 26,
    "start_time": "2023-05-05T19:05:05.357Z"
   },
   {
    "duration": 26,
    "start_time": "2023-05-05T19:05:05.385Z"
   },
   {
    "duration": 5,
    "start_time": "2023-05-05T19:05:05.413Z"
   },
   {
    "duration": 12,
    "start_time": "2023-05-05T19:05:05.423Z"
   },
   {
    "duration": 5,
    "start_time": "2023-05-05T19:05:05.437Z"
   },
   {
    "duration": 1028,
    "start_time": "2023-05-05T19:05:05.444Z"
   },
   {
    "duration": 47,
    "start_time": "2023-05-05T19:05:06.474Z"
   },
   {
    "duration": 11712,
    "start_time": "2023-05-05T19:05:06.522Z"
   },
   {
    "duration": 507,
    "start_time": "2023-05-05T19:05:18.235Z"
   },
   {
    "duration": 129,
    "start_time": "2023-05-05T19:05:18.744Z"
   },
   {
    "duration": 0,
    "start_time": "2023-05-05T19:05:18.875Z"
   },
   {
    "duration": 0,
    "start_time": "2023-05-05T19:05:18.876Z"
   },
   {
    "duration": 0,
    "start_time": "2023-05-05T19:05:18.877Z"
   },
   {
    "duration": 0,
    "start_time": "2023-05-05T19:05:18.886Z"
   },
   {
    "duration": 176,
    "start_time": "2023-05-05T19:09:48.284Z"
   },
   {
    "duration": 48307,
    "start_time": "2023-05-05T19:10:04.700Z"
   },
   {
    "duration": 578,
    "start_time": "2023-05-05T19:11:06.603Z"
   },
   {
    "duration": 5802,
    "start_time": "2023-05-05T19:11:23.905Z"
   },
   {
    "duration": 41,
    "start_time": "2023-05-05T19:11:43.345Z"
   },
   {
    "duration": 614,
    "start_time": "2023-05-05T19:14:14.128Z"
   },
   {
    "duration": 581,
    "start_time": "2023-05-05T19:14:41.400Z"
   },
   {
    "duration": 596,
    "start_time": "2023-05-05T19:15:32.621Z"
   },
   {
    "duration": 581,
    "start_time": "2023-05-06T02:44:53.875Z"
   },
   {
    "duration": 252,
    "start_time": "2023-05-06T02:51:47.402Z"
   },
   {
    "duration": 273,
    "start_time": "2023-05-06T02:53:40.725Z"
   },
   {
    "duration": 248,
    "start_time": "2023-05-06T02:54:05.703Z"
   },
   {
    "duration": 305,
    "start_time": "2023-05-06T02:54:12.159Z"
   },
   {
    "duration": 226,
    "start_time": "2023-05-06T02:55:13.518Z"
   },
   {
    "duration": 35,
    "start_time": "2023-05-06T02:59:57.815Z"
   },
   {
    "duration": 34,
    "start_time": "2023-05-06T03:28:31.015Z"
   },
   {
    "duration": 540,
    "start_time": "2023-05-06T03:28:40.714Z"
   },
   {
    "duration": 17,
    "start_time": "2023-05-06T03:29:07.521Z"
   },
   {
    "duration": 14,
    "start_time": "2023-05-06T03:29:18.384Z"
   },
   {
    "duration": 1423,
    "start_time": "2023-05-06T03:29:23.356Z"
   },
   {
    "duration": 36,
    "start_time": "2023-05-06T03:29:24.781Z"
   },
   {
    "duration": 12,
    "start_time": "2023-05-06T03:29:24.818Z"
   },
   {
    "duration": 20,
    "start_time": "2023-05-06T03:29:24.832Z"
   },
   {
    "duration": 7,
    "start_time": "2023-05-06T03:29:24.855Z"
   },
   {
    "duration": 9,
    "start_time": "2023-05-06T03:29:24.863Z"
   },
   {
    "duration": 10,
    "start_time": "2023-05-06T03:29:24.873Z"
   },
   {
    "duration": 9,
    "start_time": "2023-05-06T03:29:24.884Z"
   },
   {
    "duration": 37,
    "start_time": "2023-05-06T03:29:24.894Z"
   },
   {
    "duration": 17,
    "start_time": "2023-05-06T03:29:24.933Z"
   },
   {
    "duration": 45,
    "start_time": "2023-05-06T03:29:24.952Z"
   },
   {
    "duration": 93,
    "start_time": "2023-05-06T03:29:24.999Z"
   },
   {
    "duration": 13,
    "start_time": "2023-05-06T03:29:25.094Z"
   },
   {
    "duration": 11,
    "start_time": "2023-05-06T03:29:25.111Z"
   },
   {
    "duration": 402,
    "start_time": "2023-05-06T03:29:25.124Z"
   },
   {
    "duration": 6,
    "start_time": "2023-05-06T03:29:25.527Z"
   },
   {
    "duration": 9,
    "start_time": "2023-05-06T03:29:25.535Z"
   },
   {
    "duration": 7,
    "start_time": "2023-05-06T03:29:25.545Z"
   },
   {
    "duration": 33,
    "start_time": "2023-05-06T03:29:25.553Z"
   },
   {
    "duration": 137,
    "start_time": "2023-05-06T03:29:25.588Z"
   },
   {
    "duration": 3,
    "start_time": "2023-05-06T03:29:25.727Z"
   },
   {
    "duration": 11,
    "start_time": "2023-05-06T03:29:25.731Z"
   },
   {
    "duration": 8,
    "start_time": "2023-05-06T03:29:25.743Z"
   },
   {
    "duration": 7,
    "start_time": "2023-05-06T03:29:25.752Z"
   },
   {
    "duration": 25,
    "start_time": "2023-05-06T03:29:25.760Z"
   },
   {
    "duration": 3,
    "start_time": "2023-05-06T03:29:25.787Z"
   },
   {
    "duration": 5,
    "start_time": "2023-05-06T03:29:25.791Z"
   },
   {
    "duration": 6,
    "start_time": "2023-05-06T03:29:25.797Z"
   },
   {
    "duration": 6,
    "start_time": "2023-05-06T03:29:25.804Z"
   },
   {
    "duration": 4,
    "start_time": "2023-05-06T03:29:25.811Z"
   },
   {
    "duration": 4,
    "start_time": "2023-05-06T03:29:25.816Z"
   },
   {
    "duration": 5,
    "start_time": "2023-05-06T03:29:25.821Z"
   },
   {
    "duration": 13,
    "start_time": "2023-05-06T03:29:25.828Z"
   },
   {
    "duration": 44,
    "start_time": "2023-05-06T03:29:25.843Z"
   },
   {
    "duration": 12,
    "start_time": "2023-05-06T03:29:25.888Z"
   },
   {
    "duration": 18,
    "start_time": "2023-05-06T03:29:25.902Z"
   },
   {
    "duration": 7,
    "start_time": "2023-05-06T03:29:25.922Z"
   },
   {
    "duration": 5,
    "start_time": "2023-05-06T03:29:25.930Z"
   },
   {
    "duration": 14,
    "start_time": "2023-05-06T03:29:25.936Z"
   },
   {
    "duration": 3,
    "start_time": "2023-05-06T03:29:25.952Z"
   },
   {
    "duration": 10,
    "start_time": "2023-05-06T03:29:25.986Z"
   },
   {
    "duration": 4,
    "start_time": "2023-05-06T03:29:25.998Z"
   },
   {
    "duration": 5460,
    "start_time": "2023-05-06T03:29:26.004Z"
   },
   {
    "duration": 40,
    "start_time": "2023-05-06T03:29:31.465Z"
   },
   {
    "duration": 45336,
    "start_time": "2023-05-06T03:29:31.507Z"
   },
   {
    "duration": 548,
    "start_time": "2023-05-06T03:30:16.845Z"
   },
   {
    "duration": 261,
    "start_time": "2023-05-06T03:30:17.395Z"
   },
   {
    "duration": 125,
    "start_time": "2023-05-06T03:30:17.658Z"
   },
   {
    "duration": 0,
    "start_time": "2023-05-06T03:30:17.785Z"
   },
   {
    "duration": 0,
    "start_time": "2023-05-06T03:30:17.787Z"
   },
   {
    "duration": 0,
    "start_time": "2023-05-06T03:30:17.788Z"
   },
   {
    "duration": 209,
    "start_time": "2023-05-06T03:31:56.416Z"
   },
   {
    "duration": 260,
    "start_time": "2023-05-06T03:32:01.094Z"
   },
   {
    "duration": 116,
    "start_time": "2023-05-06T03:33:51.532Z"
   },
   {
    "duration": 129,
    "start_time": "2023-05-06T03:33:58.706Z"
   },
   {
    "duration": 6,
    "start_time": "2023-05-06T03:34:29.042Z"
   },
   {
    "duration": 6,
    "start_time": "2023-05-06T03:34:47.958Z"
   },
   {
    "duration": 14,
    "start_time": "2023-05-06T03:36:57.612Z"
   },
   {
    "duration": 13,
    "start_time": "2023-05-06T03:37:11.957Z"
   },
   {
    "duration": 321,
    "start_time": "2023-05-06T03:37:41.218Z"
   },
   {
    "duration": 119,
    "start_time": "2023-05-06T03:38:30.636Z"
   },
   {
    "duration": 5,
    "start_time": "2023-05-06T03:38:36.024Z"
   },
   {
    "duration": 5,
    "start_time": "2023-05-06T03:38:41.589Z"
   },
   {
    "duration": 9,
    "start_time": "2023-05-06T03:38:53.707Z"
   },
   {
    "duration": 130,
    "start_time": "2023-05-06T03:38:58.358Z"
   },
   {
    "duration": 5,
    "start_time": "2023-05-06T03:39:01.000Z"
   },
   {
    "duration": 562,
    "start_time": "2023-05-06T03:46:07.271Z"
   },
   {
    "duration": 35,
    "start_time": "2023-05-06T03:46:18.265Z"
   },
   {
    "duration": 7155,
    "start_time": "2023-05-06T03:46:45.805Z"
   },
   {
    "duration": 7400,
    "start_time": "2023-05-06T03:48:11.169Z"
   },
   {
    "duration": 329,
    "start_time": "2023-05-06T03:48:34.467Z"
   },
   {
    "duration": 29,
    "start_time": "2023-05-06T03:49:33.538Z"
   },
   {
    "duration": 258,
    "start_time": "2023-05-06T03:49:46.927Z"
   },
   {
    "duration": 1359,
    "start_time": "2023-05-06T03:49:53.978Z"
   },
   {
    "duration": 37,
    "start_time": "2023-05-06T03:49:55.338Z"
   },
   {
    "duration": 14,
    "start_time": "2023-05-06T03:49:55.377Z"
   },
   {
    "duration": 7,
    "start_time": "2023-05-06T03:49:55.392Z"
   },
   {
    "duration": 10,
    "start_time": "2023-05-06T03:49:55.402Z"
   },
   {
    "duration": 5,
    "start_time": "2023-05-06T03:49:55.414Z"
   },
   {
    "duration": 6,
    "start_time": "2023-05-06T03:49:55.421Z"
   },
   {
    "duration": 11,
    "start_time": "2023-05-06T03:49:55.429Z"
   },
   {
    "duration": 44,
    "start_time": "2023-05-06T03:49:55.442Z"
   },
   {
    "duration": 16,
    "start_time": "2023-05-06T03:49:55.488Z"
   },
   {
    "duration": 22,
    "start_time": "2023-05-06T03:49:55.506Z"
   },
   {
    "duration": 106,
    "start_time": "2023-05-06T03:49:55.529Z"
   },
   {
    "duration": 13,
    "start_time": "2023-05-06T03:49:55.637Z"
   },
   {
    "duration": 13,
    "start_time": "2023-05-06T03:49:55.653Z"
   },
   {
    "duration": 383,
    "start_time": "2023-05-06T03:49:55.668Z"
   },
   {
    "duration": 7,
    "start_time": "2023-05-06T03:49:56.053Z"
   },
   {
    "duration": 9,
    "start_time": "2023-05-06T03:49:56.061Z"
   },
   {
    "duration": 18,
    "start_time": "2023-05-06T03:49:56.072Z"
   },
   {
    "duration": 12,
    "start_time": "2023-05-06T03:49:56.092Z"
   },
   {
    "duration": 143,
    "start_time": "2023-05-06T03:49:56.106Z"
   },
   {
    "duration": 3,
    "start_time": "2023-05-06T03:49:56.251Z"
   },
   {
    "duration": 11,
    "start_time": "2023-05-06T03:49:56.255Z"
   },
   {
    "duration": 23,
    "start_time": "2023-05-06T03:49:56.267Z"
   },
   {
    "duration": 8,
    "start_time": "2023-05-06T03:49:56.291Z"
   },
   {
    "duration": 2,
    "start_time": "2023-05-06T03:49:56.301Z"
   },
   {
    "duration": 16,
    "start_time": "2023-05-06T03:49:56.304Z"
   },
   {
    "duration": 4,
    "start_time": "2023-05-06T03:49:56.322Z"
   },
   {
    "duration": 617,
    "start_time": "2023-05-06T03:49:56.327Z"
   },
   {
    "duration": 41,
    "start_time": "2023-05-06T03:49:56.946Z"
   },
   {
    "duration": 7600,
    "start_time": "2023-05-06T03:49:56.989Z"
   },
   {
    "duration": 251,
    "start_time": "2023-05-06T03:50:04.591Z"
   },
   {
    "duration": 9,
    "start_time": "2023-05-06T03:50:04.843Z"
   },
   {
    "duration": 22,
    "start_time": "2023-05-06T03:50:04.853Z"
   },
   {
    "duration": 19,
    "start_time": "2023-05-06T03:50:04.876Z"
   },
   {
    "duration": 18,
    "start_time": "2023-05-06T03:50:04.896Z"
   },
   {
    "duration": 5,
    "start_time": "2023-05-06T03:50:04.916Z"
   },
   {
    "duration": 6,
    "start_time": "2023-05-06T03:50:04.922Z"
   },
   {
    "duration": 13,
    "start_time": "2023-05-06T03:50:04.930Z"
   },
   {
    "duration": 4,
    "start_time": "2023-05-06T03:50:04.945Z"
   },
   {
    "duration": 34,
    "start_time": "2023-05-06T03:50:04.951Z"
   },
   {
    "duration": 3,
    "start_time": "2023-05-06T03:50:04.989Z"
   },
   {
    "duration": 5256,
    "start_time": "2023-05-06T03:50:04.993Z"
   },
   {
    "duration": 38,
    "start_time": "2023-05-06T03:50:10.252Z"
   },
   {
    "duration": 44224,
    "start_time": "2023-05-06T03:50:10.292Z"
   },
   {
    "duration": 197,
    "start_time": "2023-05-06T03:50:54.517Z"
   },
   {
    "duration": 237,
    "start_time": "2023-05-06T03:50:54.716Z"
   },
   {
    "duration": 126,
    "start_time": "2023-05-06T03:50:54.955Z"
   },
   {
    "duration": 5,
    "start_time": "2023-05-06T03:50:55.084Z"
   },
   {
    "duration": 133,
    "start_time": "2023-05-06T03:50:55.091Z"
   },
   {
    "duration": 6,
    "start_time": "2023-05-06T03:50:55.225Z"
   },
   {
    "duration": 320,
    "start_time": "2023-05-06T03:50:55.232Z"
   },
   {
    "duration": 9878,
    "start_time": "2023-05-06T04:02:32.619Z"
   },
   {
    "duration": 403,
    "start_time": "2023-05-06T04:02:52.614Z"
   },
   {
    "duration": 281,
    "start_time": "2023-05-06T04:02:56.740Z"
   },
   {
    "duration": 1291,
    "start_time": "2023-05-06T04:05:21.028Z"
   },
   {
    "duration": 36,
    "start_time": "2023-05-06T04:05:22.320Z"
   },
   {
    "duration": 13,
    "start_time": "2023-05-06T04:05:22.357Z"
   },
   {
    "duration": 7,
    "start_time": "2023-05-06T04:05:22.372Z"
   },
   {
    "duration": 10,
    "start_time": "2023-05-06T04:05:22.381Z"
   },
   {
    "duration": 17,
    "start_time": "2023-05-06T04:05:22.392Z"
   },
   {
    "duration": 8,
    "start_time": "2023-05-06T04:05:22.411Z"
   },
   {
    "duration": 19,
    "start_time": "2023-05-06T04:05:22.420Z"
   },
   {
    "duration": 36,
    "start_time": "2023-05-06T04:05:22.441Z"
   },
   {
    "duration": 16,
    "start_time": "2023-05-06T04:05:22.479Z"
   },
   {
    "duration": 22,
    "start_time": "2023-05-06T04:05:22.496Z"
   },
   {
    "duration": 97,
    "start_time": "2023-05-06T04:05:22.519Z"
   },
   {
    "duration": 12,
    "start_time": "2023-05-06T04:05:22.617Z"
   },
   {
    "duration": 16,
    "start_time": "2023-05-06T04:05:22.630Z"
   },
   {
    "duration": 410,
    "start_time": "2023-05-06T04:05:22.647Z"
   },
   {
    "duration": 7,
    "start_time": "2023-05-06T04:05:23.058Z"
   },
   {
    "duration": 21,
    "start_time": "2023-05-06T04:05:23.067Z"
   },
   {
    "duration": 8,
    "start_time": "2023-05-06T04:05:23.090Z"
   },
   {
    "duration": 20,
    "start_time": "2023-05-06T04:05:23.099Z"
   },
   {
    "duration": 138,
    "start_time": "2023-05-06T04:05:23.121Z"
   },
   {
    "duration": 4,
    "start_time": "2023-05-06T04:05:23.261Z"
   },
   {
    "duration": 22,
    "start_time": "2023-05-06T04:05:23.267Z"
   },
   {
    "duration": 8,
    "start_time": "2023-05-06T04:05:23.290Z"
   },
   {
    "duration": 7,
    "start_time": "2023-05-06T04:05:23.299Z"
   },
   {
    "duration": 3,
    "start_time": "2023-05-06T04:05:23.307Z"
   },
   {
    "duration": 12,
    "start_time": "2023-05-06T04:05:23.311Z"
   },
   {
    "duration": 4,
    "start_time": "2023-05-06T04:05:23.324Z"
   },
   {
    "duration": 603,
    "start_time": "2023-05-06T04:05:23.331Z"
   },
   {
    "duration": 34,
    "start_time": "2023-05-06T04:05:23.937Z"
   },
   {
    "duration": 7703,
    "start_time": "2023-05-06T04:05:23.986Z"
   },
   {
    "duration": 253,
    "start_time": "2023-05-06T04:05:31.691Z"
   },
   {
    "duration": 9,
    "start_time": "2023-05-06T04:05:31.945Z"
   },
   {
    "duration": 50,
    "start_time": "2023-05-06T04:05:31.955Z"
   },
   {
    "duration": 32,
    "start_time": "2023-05-06T04:05:32.007Z"
   },
   {
    "duration": 51,
    "start_time": "2023-05-06T04:05:32.040Z"
   },
   {
    "duration": 42,
    "start_time": "2023-05-06T04:05:32.092Z"
   },
   {
    "duration": 51,
    "start_time": "2023-05-06T04:05:32.135Z"
   },
   {
    "duration": 83,
    "start_time": "2023-05-06T04:05:32.188Z"
   },
   {
    "duration": 26,
    "start_time": "2023-05-06T04:05:32.273Z"
   },
   {
    "duration": 42,
    "start_time": "2023-05-06T04:05:32.301Z"
   },
   {
    "duration": 14,
    "start_time": "2023-05-06T04:05:32.344Z"
   },
   {
    "duration": 5341,
    "start_time": "2023-05-06T04:05:32.360Z"
   },
   {
    "duration": 36,
    "start_time": "2023-05-06T04:05:37.702Z"
   },
   {
    "duration": 10148,
    "start_time": "2023-05-06T04:05:37.740Z"
   },
   {
    "duration": 433,
    "start_time": "2023-05-06T04:05:47.890Z"
   },
   {
    "duration": 237,
    "start_time": "2023-05-06T04:05:48.325Z"
   },
   {
    "duration": 140,
    "start_time": "2023-05-06T04:05:48.564Z"
   },
   {
    "duration": 6,
    "start_time": "2023-05-06T04:05:48.706Z"
   },
   {
    "duration": 150,
    "start_time": "2023-05-06T04:05:48.714Z"
   },
   {
    "duration": 6,
    "start_time": "2023-05-06T04:05:48.865Z"
   },
   {
    "duration": 315,
    "start_time": "2023-05-06T04:05:48.872Z"
   },
   {
    "duration": 9098,
    "start_time": "2023-05-06T11:19:06.897Z"
   },
   {
    "duration": 410,
    "start_time": "2023-05-06T11:19:15.998Z"
   },
   {
    "duration": 112,
    "start_time": "2023-05-06T11:19:16.489Z"
   },
   {
    "duration": 204,
    "start_time": "2023-05-06T11:19:16.689Z"
   },
   {
    "duration": 96,
    "start_time": "2023-05-06T11:19:16.906Z"
   },
   {
    "duration": 29,
    "start_time": "2023-05-06T11:19:17.086Z"
   },
   {
    "duration": 10,
    "start_time": "2023-05-06T11:19:17.187Z"
   },
   {
    "duration": 89,
    "start_time": "2023-05-06T11:19:17.210Z"
   },
   {
    "duration": 1285,
    "start_time": "2023-05-06T11:19:17.307Z"
   },
   {
    "duration": 0,
    "start_time": "2023-05-06T11:19:18.608Z"
   },
   {
    "duration": 0,
    "start_time": "2023-05-06T11:19:18.612Z"
   },
   {
    "duration": 0,
    "start_time": "2023-05-06T11:19:18.612Z"
   },
   {
    "duration": 0,
    "start_time": "2023-05-06T11:19:18.613Z"
   },
   {
    "duration": 0,
    "start_time": "2023-05-06T11:19:18.615Z"
   },
   {
    "duration": 0,
    "start_time": "2023-05-06T11:19:18.688Z"
   },
   {
    "duration": 0,
    "start_time": "2023-05-06T11:19:18.696Z"
   },
   {
    "duration": 0,
    "start_time": "2023-05-06T11:19:18.701Z"
   },
   {
    "duration": 0,
    "start_time": "2023-05-06T11:19:18.707Z"
   },
   {
    "duration": 0,
    "start_time": "2023-05-06T11:19:18.712Z"
   },
   {
    "duration": 0,
    "start_time": "2023-05-06T11:19:18.788Z"
   },
   {
    "duration": 0,
    "start_time": "2023-05-06T11:19:18.793Z"
   },
   {
    "duration": 0,
    "start_time": "2023-05-06T11:19:18.799Z"
   },
   {
    "duration": 0,
    "start_time": "2023-05-06T11:19:18.804Z"
   },
   {
    "duration": 0,
    "start_time": "2023-05-06T11:19:18.809Z"
   },
   {
    "duration": 0,
    "start_time": "2023-05-06T11:19:18.818Z"
   },
   {
    "duration": 0,
    "start_time": "2023-05-06T11:19:18.819Z"
   },
   {
    "duration": 0,
    "start_time": "2023-05-06T11:19:18.820Z"
   },
   {
    "duration": 0,
    "start_time": "2023-05-06T11:19:18.821Z"
   },
   {
    "duration": 0,
    "start_time": "2023-05-06T11:19:18.821Z"
   },
   {
    "duration": 0,
    "start_time": "2023-05-06T11:19:18.822Z"
   },
   {
    "duration": 0,
    "start_time": "2023-05-06T11:19:18.823Z"
   },
   {
    "duration": 0,
    "start_time": "2023-05-06T11:19:18.904Z"
   },
   {
    "duration": 0,
    "start_time": "2023-05-06T11:19:18.909Z"
   },
   {
    "duration": 0,
    "start_time": "2023-05-06T11:19:18.910Z"
   },
   {
    "duration": 0,
    "start_time": "2023-05-06T11:19:18.985Z"
   },
   {
    "duration": 0,
    "start_time": "2023-05-06T11:19:18.988Z"
   },
   {
    "duration": 0,
    "start_time": "2023-05-06T11:19:18.996Z"
   },
   {
    "duration": 0,
    "start_time": "2023-05-06T11:19:18.999Z"
   },
   {
    "duration": 0,
    "start_time": "2023-05-06T11:19:19.002Z"
   },
   {
    "duration": 0,
    "start_time": "2023-05-06T11:19:19.005Z"
   },
   {
    "duration": 0,
    "start_time": "2023-05-06T11:19:19.012Z"
   },
   {
    "duration": 0,
    "start_time": "2023-05-06T11:19:19.013Z"
   },
   {
    "duration": 0,
    "start_time": "2023-05-06T11:19:19.014Z"
   },
   {
    "duration": 0,
    "start_time": "2023-05-06T11:19:19.015Z"
   },
   {
    "duration": 0,
    "start_time": "2023-05-06T11:19:19.088Z"
   },
   {
    "duration": 0,
    "start_time": "2023-05-06T11:19:19.090Z"
   },
   {
    "duration": 0,
    "start_time": "2023-05-06T11:19:19.094Z"
   },
   {
    "duration": 0,
    "start_time": "2023-05-06T11:19:19.095Z"
   },
   {
    "duration": 0,
    "start_time": "2023-05-06T11:19:19.097Z"
   },
   {
    "duration": 0,
    "start_time": "2023-05-06T11:19:19.098Z"
   },
   {
    "duration": 0,
    "start_time": "2023-05-06T11:19:19.100Z"
   },
   {
    "duration": 419,
    "start_time": "2023-05-06T11:19:57.087Z"
   },
   {
    "duration": 8376,
    "start_time": "2023-05-06T11:20:09.513Z"
   },
   {
    "duration": 214,
    "start_time": "2023-05-06T11:20:17.892Z"
   },
   {
    "duration": 293,
    "start_time": "2023-05-06T11:20:18.111Z"
   },
   {
    "duration": 98,
    "start_time": "2023-05-06T11:20:18.408Z"
   },
   {
    "duration": 92,
    "start_time": "2023-05-06T11:20:18.597Z"
   },
   {
    "duration": 92,
    "start_time": "2023-05-06T11:20:18.696Z"
   },
   {
    "duration": 11,
    "start_time": "2023-05-06T11:20:18.802Z"
   },
   {
    "duration": 88,
    "start_time": "2023-05-06T11:20:18.896Z"
   },
   {
    "duration": 210,
    "start_time": "2023-05-06T11:20:18.992Z"
   },
   {
    "duration": 179,
    "start_time": "2023-05-06T11:20:19.210Z"
   },
   {
    "duration": 213,
    "start_time": "2023-05-06T11:20:19.396Z"
   },
   {
    "duration": 803,
    "start_time": "2023-05-06T11:20:19.691Z"
   },
   {
    "duration": 191,
    "start_time": "2023-05-06T11:20:20.502Z"
   },
   {
    "duration": 188,
    "start_time": "2023-05-06T11:20:20.705Z"
   },
   {
    "duration": 2996,
    "start_time": "2023-05-06T11:20:20.895Z"
   },
   {
    "duration": 22,
    "start_time": "2023-05-06T11:20:23.984Z"
   },
   {
    "duration": 96,
    "start_time": "2023-05-06T11:20:24.013Z"
   },
   {
    "duration": 99,
    "start_time": "2023-05-06T11:20:24.191Z"
   },
   {
    "duration": 190,
    "start_time": "2023-05-06T11:20:24.304Z"
   },
   {
    "duration": 1687,
    "start_time": "2023-05-06T11:20:24.503Z"
   },
   {
    "duration": 69,
    "start_time": "2023-05-06T11:20:26.218Z"
   },
   {
    "duration": 109,
    "start_time": "2023-05-06T11:20:26.292Z"
   },
   {
    "duration": 106,
    "start_time": "2023-05-06T11:20:26.488Z"
   },
   {
    "duration": 101,
    "start_time": "2023-05-06T11:20:26.685Z"
   },
   {
    "duration": 12,
    "start_time": "2023-05-06T11:20:26.884Z"
   },
   {
    "duration": 95,
    "start_time": "2023-05-06T11:20:26.912Z"
   },
   {
    "duration": 16,
    "start_time": "2023-05-06T11:20:27.092Z"
   },
   {
    "duration": 5599,
    "start_time": "2023-05-06T11:20:27.186Z"
   },
   {
    "duration": 204,
    "start_time": "2023-05-06T11:20:32.790Z"
   },
   {
    "duration": 77199,
    "start_time": "2023-05-06T11:20:32.996Z"
   },
   {
    "duration": 2189,
    "start_time": "2023-05-06T11:21:50.202Z"
   },
   {
    "duration": 101,
    "start_time": "2023-05-06T11:21:52.394Z"
   },
   {
    "duration": 188,
    "start_time": "2023-05-06T11:21:52.498Z"
   },
   {
    "duration": 100,
    "start_time": "2023-05-06T11:21:52.689Z"
   },
   {
    "duration": 102,
    "start_time": "2023-05-06T11:21:52.791Z"
   },
   {
    "duration": 88,
    "start_time": "2023-05-06T11:21:52.897Z"
   },
   {
    "duration": 6,
    "start_time": "2023-05-06T11:21:52.989Z"
   },
   {
    "duration": 101,
    "start_time": "2023-05-06T11:21:52.998Z"
   },
   {
    "duration": 89,
    "start_time": "2023-05-06T11:21:53.101Z"
   },
   {
    "duration": 102,
    "start_time": "2023-05-06T11:21:53.194Z"
   },
   {
    "duration": 86,
    "start_time": "2023-05-06T11:21:53.302Z"
   },
   {
    "duration": 42712,
    "start_time": "2023-05-06T11:21:53.390Z"
   },
   {
    "duration": 295,
    "start_time": "2023-05-06T11:22:36.191Z"
   },
   {
    "duration": 106206,
    "start_time": "2023-05-06T11:22:36.489Z"
   },
   {
    "duration": 3991,
    "start_time": "2023-05-06T11:24:22.699Z"
   },
   {
    "duration": 2785,
    "start_time": "2023-05-06T11:24:26.710Z"
   },
   {
    "duration": 1392,
    "start_time": "2023-05-06T11:24:29.508Z"
   },
   {
    "duration": 87,
    "start_time": "2023-05-06T11:24:31.003Z"
   },
   {
    "duration": 2388,
    "start_time": "2023-05-06T11:24:31.102Z"
   },
   {
    "duration": 88,
    "start_time": "2023-05-06T11:24:33.497Z"
   },
   {
    "duration": 2096,
    "start_time": "2023-05-06T11:24:33.595Z"
   },
   {
    "duration": 1619,
    "start_time": "2023-05-06T17:39:09.262Z"
   },
   {
    "duration": 400,
    "start_time": "2023-05-06T17:39:10.883Z"
   },
   {
    "duration": 12,
    "start_time": "2023-05-06T17:39:11.285Z"
   },
   {
    "duration": 7,
    "start_time": "2023-05-06T17:39:11.299Z"
   },
   {
    "duration": 12,
    "start_time": "2023-05-06T17:39:11.308Z"
   },
   {
    "duration": 5,
    "start_time": "2023-05-06T17:39:11.321Z"
   },
   {
    "duration": 3,
    "start_time": "2023-05-06T17:39:11.328Z"
   },
   {
    "duration": 18,
    "start_time": "2023-05-06T17:39:11.332Z"
   },
   {
    "duration": 12,
    "start_time": "2023-05-06T17:39:11.352Z"
   },
   {
    "duration": 12,
    "start_time": "2023-05-06T17:39:11.366Z"
   },
   {
    "duration": 1390,
    "start_time": "2023-05-06T17:39:11.380Z"
   },
   {
    "duration": 0,
    "start_time": "2023-05-06T17:39:12.773Z"
   },
   {
    "duration": 0,
    "start_time": "2023-05-06T17:39:12.774Z"
   },
   {
    "duration": 0,
    "start_time": "2023-05-06T17:39:12.775Z"
   },
   {
    "duration": 0,
    "start_time": "2023-05-06T17:39:12.777Z"
   },
   {
    "duration": 0,
    "start_time": "2023-05-06T17:39:12.778Z"
   },
   {
    "duration": 1,
    "start_time": "2023-05-06T17:39:12.778Z"
   },
   {
    "duration": 0,
    "start_time": "2023-05-06T17:39:12.779Z"
   },
   {
    "duration": 0,
    "start_time": "2023-05-06T17:39:12.781Z"
   },
   {
    "duration": 0,
    "start_time": "2023-05-06T17:39:12.782Z"
   },
   {
    "duration": 0,
    "start_time": "2023-05-06T17:39:12.784Z"
   },
   {
    "duration": 0,
    "start_time": "2023-05-06T17:39:12.785Z"
   },
   {
    "duration": 0,
    "start_time": "2023-05-06T17:39:12.786Z"
   },
   {
    "duration": 0,
    "start_time": "2023-05-06T17:39:12.787Z"
   },
   {
    "duration": 0,
    "start_time": "2023-05-06T17:39:12.788Z"
   },
   {
    "duration": 0,
    "start_time": "2023-05-06T17:39:12.789Z"
   },
   {
    "duration": 0,
    "start_time": "2023-05-06T17:39:12.791Z"
   },
   {
    "duration": 0,
    "start_time": "2023-05-06T17:39:12.792Z"
   },
   {
    "duration": 0,
    "start_time": "2023-05-06T17:39:12.793Z"
   },
   {
    "duration": 0,
    "start_time": "2023-05-06T17:39:12.794Z"
   },
   {
    "duration": 0,
    "start_time": "2023-05-06T17:39:12.795Z"
   },
   {
    "duration": 0,
    "start_time": "2023-05-06T17:39:12.796Z"
   },
   {
    "duration": 0,
    "start_time": "2023-05-06T17:39:12.797Z"
   },
   {
    "duration": 0,
    "start_time": "2023-05-06T17:39:12.798Z"
   },
   {
    "duration": 0,
    "start_time": "2023-05-06T17:39:12.799Z"
   },
   {
    "duration": 0,
    "start_time": "2023-05-06T17:39:12.801Z"
   },
   {
    "duration": 0,
    "start_time": "2023-05-06T17:39:12.802Z"
   },
   {
    "duration": 0,
    "start_time": "2023-05-06T17:39:12.803Z"
   },
   {
    "duration": 0,
    "start_time": "2023-05-06T17:39:12.804Z"
   },
   {
    "duration": 0,
    "start_time": "2023-05-06T17:39:12.805Z"
   },
   {
    "duration": 0,
    "start_time": "2023-05-06T17:39:12.806Z"
   },
   {
    "duration": 0,
    "start_time": "2023-05-06T17:39:12.807Z"
   },
   {
    "duration": 0,
    "start_time": "2023-05-06T17:39:12.809Z"
   },
   {
    "duration": 0,
    "start_time": "2023-05-06T17:39:12.809Z"
   },
   {
    "duration": 0,
    "start_time": "2023-05-06T17:39:12.810Z"
   },
   {
    "duration": 0,
    "start_time": "2023-05-06T17:39:12.812Z"
   },
   {
    "duration": 1,
    "start_time": "2023-05-06T17:39:12.840Z"
   },
   {
    "duration": 0,
    "start_time": "2023-05-06T17:39:12.841Z"
   },
   {
    "duration": 0,
    "start_time": "2023-05-06T17:39:12.842Z"
   },
   {
    "duration": 0,
    "start_time": "2023-05-06T17:39:12.842Z"
   },
   {
    "duration": 0,
    "start_time": "2023-05-06T17:39:12.843Z"
   },
   {
    "duration": 0,
    "start_time": "2023-05-06T17:39:12.843Z"
   },
   {
    "duration": 0,
    "start_time": "2023-05-06T17:39:12.844Z"
   },
   {
    "duration": 22,
    "start_time": "2023-05-06T17:41:13.030Z"
   },
   {
    "duration": 1055,
    "start_time": "2023-05-06T17:41:47.844Z"
   },
   {
    "duration": 27,
    "start_time": "2023-05-06T17:44:50.455Z"
   },
   {
    "duration": 23,
    "start_time": "2023-05-06T17:45:31.373Z"
   },
   {
    "duration": 26,
    "start_time": "2023-05-06T17:46:00.853Z"
   },
   {
    "duration": 1547,
    "start_time": "2023-05-06T17:46:07.800Z"
   },
   {
    "duration": 54,
    "start_time": "2023-05-06T17:46:09.350Z"
   },
   {
    "duration": 16,
    "start_time": "2023-05-06T17:46:09.406Z"
   },
   {
    "duration": 6,
    "start_time": "2023-05-06T17:46:09.424Z"
   },
   {
    "duration": 59,
    "start_time": "2023-05-06T17:46:09.432Z"
   },
   {
    "duration": 5,
    "start_time": "2023-05-06T17:46:09.492Z"
   },
   {
    "duration": 6,
    "start_time": "2023-05-06T17:46:09.498Z"
   },
   {
    "duration": 9,
    "start_time": "2023-05-06T17:46:09.505Z"
   },
   {
    "duration": 11,
    "start_time": "2023-05-06T17:46:09.516Z"
   },
   {
    "duration": 19,
    "start_time": "2023-05-06T17:46:09.530Z"
   },
   {
    "duration": 1464,
    "start_time": "2023-05-06T17:46:09.550Z"
   },
   {
    "duration": 0,
    "start_time": "2023-05-06T17:46:11.016Z"
   },
   {
    "duration": 0,
    "start_time": "2023-05-06T17:46:11.021Z"
   },
   {
    "duration": 0,
    "start_time": "2023-05-06T17:46:11.022Z"
   },
   {
    "duration": 0,
    "start_time": "2023-05-06T17:46:11.023Z"
   },
   {
    "duration": 0,
    "start_time": "2023-05-06T17:46:11.025Z"
   },
   {
    "duration": 0,
    "start_time": "2023-05-06T17:46:11.026Z"
   },
   {
    "duration": 0,
    "start_time": "2023-05-06T17:46:11.027Z"
   },
   {
    "duration": 0,
    "start_time": "2023-05-06T17:46:11.028Z"
   },
   {
    "duration": 0,
    "start_time": "2023-05-06T17:46:11.030Z"
   },
   {
    "duration": 0,
    "start_time": "2023-05-06T17:46:11.031Z"
   },
   {
    "duration": 0,
    "start_time": "2023-05-06T17:46:11.036Z"
   },
   {
    "duration": 0,
    "start_time": "2023-05-06T17:46:11.038Z"
   },
   {
    "duration": 0,
    "start_time": "2023-05-06T17:46:11.039Z"
   },
   {
    "duration": 0,
    "start_time": "2023-05-06T17:46:11.041Z"
   },
   {
    "duration": 0,
    "start_time": "2023-05-06T17:46:11.042Z"
   },
   {
    "duration": 0,
    "start_time": "2023-05-06T17:46:11.045Z"
   },
   {
    "duration": 0,
    "start_time": "2023-05-06T17:46:11.046Z"
   },
   {
    "duration": 0,
    "start_time": "2023-05-06T17:46:11.047Z"
   },
   {
    "duration": 0,
    "start_time": "2023-05-06T17:46:11.048Z"
   },
   {
    "duration": 0,
    "start_time": "2023-05-06T17:46:11.050Z"
   },
   {
    "duration": 0,
    "start_time": "2023-05-06T17:46:11.056Z"
   },
   {
    "duration": 0,
    "start_time": "2023-05-06T17:46:11.057Z"
   },
   {
    "duration": 0,
    "start_time": "2023-05-06T17:46:11.058Z"
   },
   {
    "duration": 0,
    "start_time": "2023-05-06T17:46:11.059Z"
   },
   {
    "duration": 0,
    "start_time": "2023-05-06T17:46:11.060Z"
   },
   {
    "duration": 0,
    "start_time": "2023-05-06T17:46:11.061Z"
   },
   {
    "duration": 0,
    "start_time": "2023-05-06T17:46:11.062Z"
   },
   {
    "duration": 0,
    "start_time": "2023-05-06T17:46:11.063Z"
   },
   {
    "duration": 0,
    "start_time": "2023-05-06T17:46:11.064Z"
   },
   {
    "duration": 0,
    "start_time": "2023-05-06T17:46:11.065Z"
   },
   {
    "duration": 0,
    "start_time": "2023-05-06T17:46:11.066Z"
   },
   {
    "duration": 0,
    "start_time": "2023-05-06T17:46:11.067Z"
   },
   {
    "duration": 0,
    "start_time": "2023-05-06T17:46:11.072Z"
   },
   {
    "duration": 0,
    "start_time": "2023-05-06T17:46:11.073Z"
   },
   {
    "duration": 0,
    "start_time": "2023-05-06T17:46:11.074Z"
   },
   {
    "duration": 0,
    "start_time": "2023-05-06T17:46:11.075Z"
   },
   {
    "duration": 0,
    "start_time": "2023-05-06T17:46:11.076Z"
   },
   {
    "duration": 0,
    "start_time": "2023-05-06T17:46:11.077Z"
   },
   {
    "duration": 0,
    "start_time": "2023-05-06T17:46:11.078Z"
   },
   {
    "duration": 0,
    "start_time": "2023-05-06T17:46:11.079Z"
   },
   {
    "duration": 0,
    "start_time": "2023-05-06T17:46:11.080Z"
   },
   {
    "duration": 0,
    "start_time": "2023-05-06T17:46:11.081Z"
   },
   {
    "duration": 0,
    "start_time": "2023-05-06T17:46:11.082Z"
   },
   {
    "duration": 0,
    "start_time": "2023-05-06T17:46:11.083Z"
   },
   {
    "duration": 4,
    "start_time": "2023-05-06T17:46:34.676Z"
   },
   {
    "duration": 3,
    "start_time": "2023-05-06T17:46:35.790Z"
   },
   {
    "duration": 32,
    "start_time": "2023-05-06T17:46:39.536Z"
   },
   {
    "duration": 20,
    "start_time": "2023-05-06T17:47:04.259Z"
   },
   {
    "duration": 1540,
    "start_time": "2023-05-06T17:47:11.759Z"
   },
   {
    "duration": 48,
    "start_time": "2023-05-06T17:47:13.301Z"
   },
   {
    "duration": 19,
    "start_time": "2023-05-06T17:47:13.351Z"
   },
   {
    "duration": 26,
    "start_time": "2023-05-06T17:47:13.373Z"
   },
   {
    "duration": 69,
    "start_time": "2023-05-06T17:47:13.401Z"
   },
   {
    "duration": 38,
    "start_time": "2023-05-06T17:47:13.472Z"
   },
   {
    "duration": 64,
    "start_time": "2023-05-06T17:47:13.511Z"
   },
   {
    "duration": 28,
    "start_time": "2023-05-06T17:47:13.576Z"
   },
   {
    "duration": 49,
    "start_time": "2023-05-06T17:47:13.606Z"
   },
   {
    "duration": 40,
    "start_time": "2023-05-06T17:47:13.664Z"
   },
   {
    "duration": 67,
    "start_time": "2023-05-06T17:47:13.706Z"
   },
   {
    "duration": 13,
    "start_time": "2023-05-06T17:47:13.775Z"
   },
   {
    "duration": 191,
    "start_time": "2023-05-06T17:47:13.789Z"
   },
   {
    "duration": 0,
    "start_time": "2023-05-06T17:47:13.984Z"
   },
   {
    "duration": 0,
    "start_time": "2023-05-06T17:47:13.985Z"
   },
   {
    "duration": 0,
    "start_time": "2023-05-06T17:47:13.986Z"
   },
   {
    "duration": 0,
    "start_time": "2023-05-06T17:47:13.987Z"
   },
   {
    "duration": 0,
    "start_time": "2023-05-06T17:47:13.988Z"
   },
   {
    "duration": 0,
    "start_time": "2023-05-06T17:47:13.989Z"
   },
   {
    "duration": 0,
    "start_time": "2023-05-06T17:47:13.990Z"
   },
   {
    "duration": 0,
    "start_time": "2023-05-06T17:47:13.991Z"
   },
   {
    "duration": 0,
    "start_time": "2023-05-06T17:47:13.992Z"
   },
   {
    "duration": 0,
    "start_time": "2023-05-06T17:47:13.993Z"
   },
   {
    "duration": 0,
    "start_time": "2023-05-06T17:47:13.994Z"
   },
   {
    "duration": 0,
    "start_time": "2023-05-06T17:47:13.995Z"
   },
   {
    "duration": 0,
    "start_time": "2023-05-06T17:47:13.996Z"
   },
   {
    "duration": 0,
    "start_time": "2023-05-06T17:47:13.997Z"
   },
   {
    "duration": 0,
    "start_time": "2023-05-06T17:47:13.998Z"
   },
   {
    "duration": 0,
    "start_time": "2023-05-06T17:47:13.999Z"
   },
   {
    "duration": 0,
    "start_time": "2023-05-06T17:47:14.000Z"
   },
   {
    "duration": 0,
    "start_time": "2023-05-06T17:47:14.001Z"
   },
   {
    "duration": 0,
    "start_time": "2023-05-06T17:47:14.002Z"
   },
   {
    "duration": 0,
    "start_time": "2023-05-06T17:47:14.003Z"
   },
   {
    "duration": 0,
    "start_time": "2023-05-06T17:47:14.004Z"
   },
   {
    "duration": 0,
    "start_time": "2023-05-06T17:47:14.044Z"
   },
   {
    "duration": 0,
    "start_time": "2023-05-06T17:47:14.045Z"
   },
   {
    "duration": 0,
    "start_time": "2023-05-06T17:47:14.046Z"
   },
   {
    "duration": 0,
    "start_time": "2023-05-06T17:47:14.048Z"
   },
   {
    "duration": 0,
    "start_time": "2023-05-06T17:47:14.051Z"
   },
   {
    "duration": 0,
    "start_time": "2023-05-06T17:47:14.051Z"
   },
   {
    "duration": 0,
    "start_time": "2023-05-06T17:47:14.055Z"
   },
   {
    "duration": 0,
    "start_time": "2023-05-06T17:47:14.055Z"
   },
   {
    "duration": 0,
    "start_time": "2023-05-06T17:47:14.060Z"
   },
   {
    "duration": 0,
    "start_time": "2023-05-06T17:47:14.062Z"
   },
   {
    "duration": 0,
    "start_time": "2023-05-06T17:47:14.062Z"
   },
   {
    "duration": 0,
    "start_time": "2023-05-06T17:47:14.063Z"
   },
   {
    "duration": 0,
    "start_time": "2023-05-06T17:47:14.064Z"
   },
   {
    "duration": 0,
    "start_time": "2023-05-06T17:47:14.070Z"
   },
   {
    "duration": 0,
    "start_time": "2023-05-06T17:47:14.076Z"
   },
   {
    "duration": 0,
    "start_time": "2023-05-06T17:47:14.077Z"
   },
   {
    "duration": 0,
    "start_time": "2023-05-06T17:47:14.078Z"
   },
   {
    "duration": 0,
    "start_time": "2023-05-06T17:47:14.079Z"
   },
   {
    "duration": 0,
    "start_time": "2023-05-06T17:47:14.087Z"
   },
   {
    "duration": 0,
    "start_time": "2023-05-06T17:47:14.089Z"
   },
   {
    "duration": 0,
    "start_time": "2023-05-06T17:47:14.090Z"
   },
   {
    "duration": 23,
    "start_time": "2023-05-06T17:50:00.600Z"
   },
   {
    "duration": 74,
    "start_time": "2023-05-06T17:50:52.330Z"
   },
   {
    "duration": 20,
    "start_time": "2023-05-06T17:51:04.211Z"
   },
   {
    "duration": 1455,
    "start_time": "2023-05-06T19:32:43.199Z"
   },
   {
    "duration": 42,
    "start_time": "2023-05-06T19:32:44.656Z"
   },
   {
    "duration": 12,
    "start_time": "2023-05-06T19:32:44.699Z"
   },
   {
    "duration": 7,
    "start_time": "2023-05-06T19:32:44.713Z"
   },
   {
    "duration": 29,
    "start_time": "2023-05-06T19:32:44.722Z"
   },
   {
    "duration": 6,
    "start_time": "2023-05-06T19:32:44.752Z"
   },
   {
    "duration": 5,
    "start_time": "2023-05-06T19:32:44.760Z"
   },
   {
    "duration": 7,
    "start_time": "2023-05-06T19:32:44.766Z"
   },
   {
    "duration": 13,
    "start_time": "2023-05-06T19:32:44.775Z"
   },
   {
    "duration": 19,
    "start_time": "2023-05-06T19:32:44.790Z"
   },
   {
    "duration": 2,
    "start_time": "2023-05-06T19:32:44.811Z"
   },
   {
    "duration": 8,
    "start_time": "2023-05-06T19:32:44.815Z"
   },
   {
    "duration": 33,
    "start_time": "2023-05-06T19:32:44.825Z"
   },
   {
    "duration": 8,
    "start_time": "2023-05-06T19:32:44.860Z"
   },
   {
    "duration": 0,
    "start_time": "2023-05-06T19:32:44.870Z"
   },
   {
    "duration": 0,
    "start_time": "2023-05-06T19:32:44.871Z"
   },
   {
    "duration": 0,
    "start_time": "2023-05-06T19:32:44.872Z"
   },
   {
    "duration": 0,
    "start_time": "2023-05-06T19:32:44.873Z"
   },
   {
    "duration": 0,
    "start_time": "2023-05-06T19:32:44.875Z"
   },
   {
    "duration": 0,
    "start_time": "2023-05-06T19:32:44.876Z"
   },
   {
    "duration": 0,
    "start_time": "2023-05-06T19:32:44.877Z"
   },
   {
    "duration": 0,
    "start_time": "2023-05-06T19:32:44.878Z"
   },
   {
    "duration": 0,
    "start_time": "2023-05-06T19:32:44.879Z"
   },
   {
    "duration": 1,
    "start_time": "2023-05-06T19:32:44.880Z"
   },
   {
    "duration": 0,
    "start_time": "2023-05-06T19:32:44.882Z"
   },
   {
    "duration": 0,
    "start_time": "2023-05-06T19:32:44.882Z"
   },
   {
    "duration": 0,
    "start_time": "2023-05-06T19:32:44.884Z"
   },
   {
    "duration": 0,
    "start_time": "2023-05-06T19:32:44.885Z"
   },
   {
    "duration": 0,
    "start_time": "2023-05-06T19:32:44.886Z"
   },
   {
    "duration": 0,
    "start_time": "2023-05-06T19:32:44.887Z"
   },
   {
    "duration": 0,
    "start_time": "2023-05-06T19:32:44.888Z"
   },
   {
    "duration": 0,
    "start_time": "2023-05-06T19:32:44.890Z"
   },
   {
    "duration": 0,
    "start_time": "2023-05-06T19:32:44.891Z"
   },
   {
    "duration": 0,
    "start_time": "2023-05-06T19:32:44.893Z"
   },
   {
    "duration": 0,
    "start_time": "2023-05-06T19:32:44.894Z"
   },
   {
    "duration": 0,
    "start_time": "2023-05-06T19:32:44.895Z"
   },
   {
    "duration": 0,
    "start_time": "2023-05-06T19:32:44.897Z"
   },
   {
    "duration": 0,
    "start_time": "2023-05-06T19:32:44.898Z"
   },
   {
    "duration": 0,
    "start_time": "2023-05-06T19:32:44.899Z"
   },
   {
    "duration": 0,
    "start_time": "2023-05-06T19:32:44.936Z"
   },
   {
    "duration": 0,
    "start_time": "2023-05-06T19:32:44.937Z"
   },
   {
    "duration": 0,
    "start_time": "2023-05-06T19:32:44.938Z"
   },
   {
    "duration": 0,
    "start_time": "2023-05-06T19:32:44.938Z"
   },
   {
    "duration": 0,
    "start_time": "2023-05-06T19:32:44.939Z"
   },
   {
    "duration": 0,
    "start_time": "2023-05-06T19:32:44.939Z"
   },
   {
    "duration": 0,
    "start_time": "2023-05-06T19:32:44.940Z"
   },
   {
    "duration": 0,
    "start_time": "2023-05-06T19:32:44.941Z"
   },
   {
    "duration": 0,
    "start_time": "2023-05-06T19:32:44.941Z"
   },
   {
    "duration": 0,
    "start_time": "2023-05-06T19:32:44.942Z"
   },
   {
    "duration": 0,
    "start_time": "2023-05-06T19:32:44.943Z"
   },
   {
    "duration": 0,
    "start_time": "2023-05-06T19:32:44.943Z"
   },
   {
    "duration": 0,
    "start_time": "2023-05-06T19:32:44.944Z"
   },
   {
    "duration": 0,
    "start_time": "2023-05-06T19:32:44.944Z"
   },
   {
    "duration": 0,
    "start_time": "2023-05-06T19:32:44.949Z"
   },
   {
    "duration": 0,
    "start_time": "2023-05-06T19:32:44.949Z"
   },
   {
    "duration": 0,
    "start_time": "2023-05-06T19:32:44.950Z"
   },
   {
    "duration": 6,
    "start_time": "2023-05-06T19:33:33.190Z"
   },
   {
    "duration": 5,
    "start_time": "2023-05-06T19:34:36.813Z"
   },
   {
    "duration": 21,
    "start_time": "2023-05-06T19:34:56.264Z"
   },
   {
    "duration": 12,
    "start_time": "2023-05-06T19:35:23.050Z"
   },
   {
    "duration": 20,
    "start_time": "2023-05-06T19:35:39.967Z"
   },
   {
    "duration": 16,
    "start_time": "2023-05-06T19:35:53.420Z"
   },
   {
    "duration": 15,
    "start_time": "2023-05-06T19:36:15.294Z"
   },
   {
    "duration": 19,
    "start_time": "2023-05-06T19:40:18.815Z"
   },
   {
    "duration": 1379,
    "start_time": "2023-05-06T19:40:26.106Z"
   },
   {
    "duration": 41,
    "start_time": "2023-05-06T19:40:27.487Z"
   },
   {
    "duration": 21,
    "start_time": "2023-05-06T19:40:27.529Z"
   },
   {
    "duration": 9,
    "start_time": "2023-05-06T19:40:27.552Z"
   },
   {
    "duration": 9,
    "start_time": "2023-05-06T19:40:27.563Z"
   },
   {
    "duration": 4,
    "start_time": "2023-05-06T19:40:27.574Z"
   },
   {
    "duration": 5,
    "start_time": "2023-05-06T19:40:27.580Z"
   },
   {
    "duration": 8,
    "start_time": "2023-05-06T19:40:27.586Z"
   },
   {
    "duration": 11,
    "start_time": "2023-05-06T19:40:27.595Z"
   },
   {
    "duration": 2,
    "start_time": "2023-05-06T19:40:27.607Z"
   },
   {
    "duration": 27,
    "start_time": "2023-05-06T19:40:27.611Z"
   },
   {
    "duration": 13,
    "start_time": "2023-05-06T19:40:27.644Z"
   },
   {
    "duration": 17,
    "start_time": "2023-05-06T19:40:27.658Z"
   },
   {
    "duration": 116,
    "start_time": "2023-05-06T19:40:27.678Z"
   },
   {
    "duration": 0,
    "start_time": "2023-05-06T19:40:27.796Z"
   },
   {
    "duration": 0,
    "start_time": "2023-05-06T19:40:27.797Z"
   },
   {
    "duration": 0,
    "start_time": "2023-05-06T19:40:27.798Z"
   },
   {
    "duration": 0,
    "start_time": "2023-05-06T19:40:27.799Z"
   },
   {
    "duration": 0,
    "start_time": "2023-05-06T19:40:27.800Z"
   },
   {
    "duration": 0,
    "start_time": "2023-05-06T19:40:27.801Z"
   },
   {
    "duration": 0,
    "start_time": "2023-05-06T19:40:27.802Z"
   },
   {
    "duration": 0,
    "start_time": "2023-05-06T19:40:27.803Z"
   },
   {
    "duration": 0,
    "start_time": "2023-05-06T19:40:27.803Z"
   },
   {
    "duration": 0,
    "start_time": "2023-05-06T19:40:27.804Z"
   },
   {
    "duration": 0,
    "start_time": "2023-05-06T19:40:27.805Z"
   },
   {
    "duration": 0,
    "start_time": "2023-05-06T19:40:27.806Z"
   },
   {
    "duration": 0,
    "start_time": "2023-05-06T19:40:27.807Z"
   },
   {
    "duration": 0,
    "start_time": "2023-05-06T19:40:27.808Z"
   },
   {
    "duration": 0,
    "start_time": "2023-05-06T19:40:27.835Z"
   },
   {
    "duration": 0,
    "start_time": "2023-05-06T19:40:27.836Z"
   },
   {
    "duration": 0,
    "start_time": "2023-05-06T19:40:27.838Z"
   },
   {
    "duration": 0,
    "start_time": "2023-05-06T19:40:27.846Z"
   },
   {
    "duration": 0,
    "start_time": "2023-05-06T19:40:27.847Z"
   },
   {
    "duration": 0,
    "start_time": "2023-05-06T19:40:27.848Z"
   },
   {
    "duration": 0,
    "start_time": "2023-05-06T19:40:27.851Z"
   },
   {
    "duration": 0,
    "start_time": "2023-05-06T19:40:27.852Z"
   },
   {
    "duration": 0,
    "start_time": "2023-05-06T19:40:27.855Z"
   },
   {
    "duration": 0,
    "start_time": "2023-05-06T19:40:27.856Z"
   },
   {
    "duration": 0,
    "start_time": "2023-05-06T19:40:27.857Z"
   },
   {
    "duration": 0,
    "start_time": "2023-05-06T19:40:27.859Z"
   },
   {
    "duration": 0,
    "start_time": "2023-05-06T19:40:27.860Z"
   },
   {
    "duration": 0,
    "start_time": "2023-05-06T19:40:27.861Z"
   },
   {
    "duration": 0,
    "start_time": "2023-05-06T19:40:27.862Z"
   },
   {
    "duration": 0,
    "start_time": "2023-05-06T19:40:27.863Z"
   },
   {
    "duration": 0,
    "start_time": "2023-05-06T19:40:27.864Z"
   },
   {
    "duration": 0,
    "start_time": "2023-05-06T19:40:27.865Z"
   },
   {
    "duration": 0,
    "start_time": "2023-05-06T19:40:27.866Z"
   },
   {
    "duration": 0,
    "start_time": "2023-05-06T19:40:27.867Z"
   },
   {
    "duration": 0,
    "start_time": "2023-05-06T19:40:27.868Z"
   },
   {
    "duration": 0,
    "start_time": "2023-05-06T19:40:27.869Z"
   },
   {
    "duration": 0,
    "start_time": "2023-05-06T19:40:27.870Z"
   },
   {
    "duration": 0,
    "start_time": "2023-05-06T19:40:27.871Z"
   },
   {
    "duration": 0,
    "start_time": "2023-05-06T19:40:27.872Z"
   },
   {
    "duration": 0,
    "start_time": "2023-05-06T19:40:27.873Z"
   },
   {
    "duration": 0,
    "start_time": "2023-05-06T19:40:27.874Z"
   },
   {
    "duration": 4,
    "start_time": "2023-05-06T19:41:27.999Z"
   },
   {
    "duration": 2,
    "start_time": "2023-05-06T19:41:38.966Z"
   },
   {
    "duration": 19,
    "start_time": "2023-05-06T19:50:13.398Z"
   },
   {
    "duration": 24,
    "start_time": "2023-05-06T19:51:00.425Z"
   },
   {
    "duration": 13,
    "start_time": "2023-05-06T19:52:29.134Z"
   },
   {
    "duration": 9,
    "start_time": "2023-05-06T19:55:11.299Z"
   },
   {
    "duration": 1381,
    "start_time": "2023-05-06T20:02:03.201Z"
   },
   {
    "duration": 43,
    "start_time": "2023-05-06T20:02:04.584Z"
   },
   {
    "duration": 19,
    "start_time": "2023-05-06T20:02:04.628Z"
   },
   {
    "duration": 16,
    "start_time": "2023-05-06T20:02:04.648Z"
   },
   {
    "duration": 13,
    "start_time": "2023-05-06T20:02:04.666Z"
   },
   {
    "duration": 13,
    "start_time": "2023-05-06T20:02:04.680Z"
   },
   {
    "duration": 6,
    "start_time": "2023-05-06T20:02:04.694Z"
   },
   {
    "duration": 6,
    "start_time": "2023-05-06T20:02:04.702Z"
   },
   {
    "duration": 14,
    "start_time": "2023-05-06T20:02:04.709Z"
   },
   {
    "duration": 6,
    "start_time": "2023-05-06T20:02:04.724Z"
   },
   {
    "duration": 23,
    "start_time": "2023-05-06T20:02:04.732Z"
   },
   {
    "duration": 19,
    "start_time": "2023-05-06T20:02:04.756Z"
   },
   {
    "duration": 11,
    "start_time": "2023-05-06T20:02:04.777Z"
   },
   {
    "duration": 6,
    "start_time": "2023-05-06T20:02:04.791Z"
   },
   {
    "duration": 13,
    "start_time": "2023-05-06T20:02:04.798Z"
   },
   {
    "duration": 10,
    "start_time": "2023-05-06T20:02:04.813Z"
   },
   {
    "duration": 26,
    "start_time": "2023-05-06T20:02:04.824Z"
   },
   {
    "duration": 6,
    "start_time": "2023-05-06T20:02:04.851Z"
   },
   {
    "duration": 385,
    "start_time": "2023-05-06T20:02:04.858Z"
   },
   {
    "duration": 7,
    "start_time": "2023-05-06T20:02:05.245Z"
   },
   {
    "duration": 30,
    "start_time": "2023-05-06T20:02:05.254Z"
   },
   {
    "duration": 8,
    "start_time": "2023-05-06T20:02:05.286Z"
   },
   {
    "duration": 26,
    "start_time": "2023-05-06T20:02:05.296Z"
   },
   {
    "duration": 135,
    "start_time": "2023-05-06T20:02:05.324Z"
   },
   {
    "duration": 3,
    "start_time": "2023-05-06T20:02:05.460Z"
   },
   {
    "duration": 21,
    "start_time": "2023-05-06T20:02:05.464Z"
   },
   {
    "duration": 7,
    "start_time": "2023-05-06T20:02:05.486Z"
   },
   {
    "duration": 13,
    "start_time": "2023-05-06T20:02:05.494Z"
   },
   {
    "duration": 11,
    "start_time": "2023-05-06T20:02:05.509Z"
   },
   {
    "duration": 138,
    "start_time": "2023-05-06T20:02:05.522Z"
   },
   {
    "duration": 1,
    "start_time": "2023-05-06T20:02:05.661Z"
   },
   {
    "duration": 0,
    "start_time": "2023-05-06T20:02:05.662Z"
   },
   {
    "duration": 0,
    "start_time": "2023-05-06T20:02:05.663Z"
   },
   {
    "duration": 0,
    "start_time": "2023-05-06T20:02:05.664Z"
   },
   {
    "duration": 0,
    "start_time": "2023-05-06T20:02:05.665Z"
   },
   {
    "duration": 0,
    "start_time": "2023-05-06T20:02:05.666Z"
   },
   {
    "duration": 0,
    "start_time": "2023-05-06T20:02:05.667Z"
   },
   {
    "duration": 0,
    "start_time": "2023-05-06T20:02:05.668Z"
   },
   {
    "duration": 0,
    "start_time": "2023-05-06T20:02:05.670Z"
   },
   {
    "duration": 0,
    "start_time": "2023-05-06T20:02:05.671Z"
   },
   {
    "duration": 0,
    "start_time": "2023-05-06T20:02:05.672Z"
   },
   {
    "duration": 0,
    "start_time": "2023-05-06T20:02:05.673Z"
   },
   {
    "duration": 0,
    "start_time": "2023-05-06T20:02:05.673Z"
   },
   {
    "duration": 0,
    "start_time": "2023-05-06T20:02:05.674Z"
   },
   {
    "duration": 0,
    "start_time": "2023-05-06T20:02:05.675Z"
   },
   {
    "duration": 0,
    "start_time": "2023-05-06T20:02:05.676Z"
   },
   {
    "duration": 0,
    "start_time": "2023-05-06T20:02:05.676Z"
   },
   {
    "duration": 0,
    "start_time": "2023-05-06T20:02:05.678Z"
   },
   {
    "duration": 0,
    "start_time": "2023-05-06T20:02:05.678Z"
   },
   {
    "duration": 0,
    "start_time": "2023-05-06T20:02:05.679Z"
   },
   {
    "duration": 0,
    "start_time": "2023-05-06T20:02:05.680Z"
   },
   {
    "duration": 0,
    "start_time": "2023-05-06T20:02:05.681Z"
   },
   {
    "duration": 0,
    "start_time": "2023-05-06T20:02:05.682Z"
   },
   {
    "duration": 0,
    "start_time": "2023-05-06T20:02:05.683Z"
   },
   {
    "duration": 0,
    "start_time": "2023-05-06T20:02:05.684Z"
   },
   {
    "duration": 17,
    "start_time": "2023-05-06T20:05:23.050Z"
   },
   {
    "duration": 8,
    "start_time": "2023-05-06T20:07:40.268Z"
   },
   {
    "duration": 10,
    "start_time": "2023-05-06T20:07:56.148Z"
   },
   {
    "duration": 1367,
    "start_time": "2023-05-06T20:08:15.014Z"
   },
   {
    "duration": 41,
    "start_time": "2023-05-06T20:08:16.382Z"
   },
   {
    "duration": 15,
    "start_time": "2023-05-06T20:08:16.425Z"
   },
   {
    "duration": 23,
    "start_time": "2023-05-06T20:08:16.444Z"
   },
   {
    "duration": 21,
    "start_time": "2023-05-06T20:08:16.469Z"
   },
   {
    "duration": 5,
    "start_time": "2023-05-06T20:08:16.491Z"
   },
   {
    "duration": 11,
    "start_time": "2023-05-06T20:08:16.497Z"
   },
   {
    "duration": 2,
    "start_time": "2023-05-06T20:08:16.510Z"
   },
   {
    "duration": 14,
    "start_time": "2023-05-06T20:08:16.514Z"
   },
   {
    "duration": 24,
    "start_time": "2023-05-06T20:08:16.531Z"
   },
   {
    "duration": 3,
    "start_time": "2023-05-06T20:08:16.556Z"
   },
   {
    "duration": 9,
    "start_time": "2023-05-06T20:08:16.560Z"
   },
   {
    "duration": 17,
    "start_time": "2023-05-06T20:08:16.571Z"
   },
   {
    "duration": 3,
    "start_time": "2023-05-06T20:08:16.589Z"
   },
   {
    "duration": 7,
    "start_time": "2023-05-06T20:08:16.593Z"
   },
   {
    "duration": 8,
    "start_time": "2023-05-06T20:08:16.601Z"
   },
   {
    "duration": 6,
    "start_time": "2023-05-06T20:08:16.610Z"
   },
   {
    "duration": 4,
    "start_time": "2023-05-06T20:08:16.618Z"
   },
   {
    "duration": 401,
    "start_time": "2023-05-06T20:08:16.623Z"
   },
   {
    "duration": 11,
    "start_time": "2023-05-06T20:08:17.026Z"
   },
   {
    "duration": 17,
    "start_time": "2023-05-06T20:08:17.039Z"
   },
   {
    "duration": 10,
    "start_time": "2023-05-06T20:08:17.057Z"
   },
   {
    "duration": 18,
    "start_time": "2023-05-06T20:08:17.068Z"
   },
   {
    "duration": 163,
    "start_time": "2023-05-06T20:08:17.087Z"
   },
   {
    "duration": 4,
    "start_time": "2023-05-06T20:08:17.252Z"
   },
   {
    "duration": 24,
    "start_time": "2023-05-06T20:08:17.257Z"
   },
   {
    "duration": 10,
    "start_time": "2023-05-06T20:08:17.283Z"
   },
   {
    "duration": 10,
    "start_time": "2023-05-06T20:08:17.297Z"
   },
   {
    "duration": 8,
    "start_time": "2023-05-06T20:08:17.309Z"
   },
   {
    "duration": 133,
    "start_time": "2023-05-06T20:08:17.319Z"
   },
   {
    "duration": 0,
    "start_time": "2023-05-06T20:08:17.454Z"
   },
   {
    "duration": 0,
    "start_time": "2023-05-06T20:08:17.455Z"
   },
   {
    "duration": 0,
    "start_time": "2023-05-06T20:08:17.457Z"
   },
   {
    "duration": 0,
    "start_time": "2023-05-06T20:08:17.458Z"
   },
   {
    "duration": 0,
    "start_time": "2023-05-06T20:08:17.459Z"
   },
   {
    "duration": 0,
    "start_time": "2023-05-06T20:08:17.461Z"
   },
   {
    "duration": 0,
    "start_time": "2023-05-06T20:08:17.462Z"
   },
   {
    "duration": 0,
    "start_time": "2023-05-06T20:08:17.463Z"
   },
   {
    "duration": 0,
    "start_time": "2023-05-06T20:08:17.464Z"
   },
   {
    "duration": 0,
    "start_time": "2023-05-06T20:08:17.465Z"
   },
   {
    "duration": 0,
    "start_time": "2023-05-06T20:08:17.466Z"
   },
   {
    "duration": 0,
    "start_time": "2023-05-06T20:08:17.467Z"
   },
   {
    "duration": 0,
    "start_time": "2023-05-06T20:08:17.468Z"
   },
   {
    "duration": 0,
    "start_time": "2023-05-06T20:08:17.469Z"
   },
   {
    "duration": 0,
    "start_time": "2023-05-06T20:08:17.470Z"
   },
   {
    "duration": 0,
    "start_time": "2023-05-06T20:08:17.472Z"
   },
   {
    "duration": 0,
    "start_time": "2023-05-06T20:08:17.473Z"
   },
   {
    "duration": 1,
    "start_time": "2023-05-06T20:08:17.474Z"
   },
   {
    "duration": 0,
    "start_time": "2023-05-06T20:08:17.476Z"
   },
   {
    "duration": 0,
    "start_time": "2023-05-06T20:08:17.477Z"
   },
   {
    "duration": 0,
    "start_time": "2023-05-06T20:08:17.478Z"
   },
   {
    "duration": 0,
    "start_time": "2023-05-06T20:08:17.479Z"
   },
   {
    "duration": 0,
    "start_time": "2023-05-06T20:08:17.480Z"
   },
   {
    "duration": 1,
    "start_time": "2023-05-06T20:08:17.481Z"
   },
   {
    "duration": 0,
    "start_time": "2023-05-06T20:08:17.483Z"
   },
   {
    "duration": 4,
    "start_time": "2023-05-06T20:09:52.057Z"
   },
   {
    "duration": 1440,
    "start_time": "2023-05-06T20:10:11.486Z"
   },
   {
    "duration": 42,
    "start_time": "2023-05-06T20:10:12.928Z"
   },
   {
    "duration": 14,
    "start_time": "2023-05-06T20:10:12.972Z"
   },
   {
    "duration": 30,
    "start_time": "2023-05-06T20:10:12.988Z"
   },
   {
    "duration": 29,
    "start_time": "2023-05-06T20:10:13.020Z"
   },
   {
    "duration": 23,
    "start_time": "2023-05-06T20:10:13.050Z"
   },
   {
    "duration": 27,
    "start_time": "2023-05-06T20:10:13.075Z"
   },
   {
    "duration": 30,
    "start_time": "2023-05-06T20:10:13.104Z"
   },
   {
    "duration": 65,
    "start_time": "2023-05-06T20:10:13.136Z"
   },
   {
    "duration": 33,
    "start_time": "2023-05-06T20:10:13.204Z"
   },
   {
    "duration": 44,
    "start_time": "2023-05-06T20:10:13.238Z"
   },
   {
    "duration": 27,
    "start_time": "2023-05-06T20:10:13.283Z"
   },
   {
    "duration": 54,
    "start_time": "2023-05-06T20:10:13.312Z"
   },
   {
    "duration": 25,
    "start_time": "2023-05-06T20:10:13.368Z"
   },
   {
    "duration": 38,
    "start_time": "2023-05-06T20:10:13.395Z"
   },
   {
    "duration": 38,
    "start_time": "2023-05-06T20:10:13.435Z"
   },
   {
    "duration": 31,
    "start_time": "2023-05-06T20:10:13.475Z"
   },
   {
    "duration": 15,
    "start_time": "2023-05-06T20:10:13.507Z"
   },
   {
    "duration": 408,
    "start_time": "2023-05-06T20:10:13.524Z"
   },
   {
    "duration": 18,
    "start_time": "2023-05-06T20:10:13.936Z"
   },
   {
    "duration": 31,
    "start_time": "2023-05-06T20:10:13.955Z"
   },
   {
    "duration": 33,
    "start_time": "2023-05-06T20:10:13.988Z"
   },
   {
    "duration": 36,
    "start_time": "2023-05-06T20:10:14.023Z"
   },
   {
    "duration": 208,
    "start_time": "2023-05-06T20:10:14.066Z"
   },
   {
    "duration": 4,
    "start_time": "2023-05-06T20:10:14.276Z"
   },
   {
    "duration": 38,
    "start_time": "2023-05-06T20:10:14.282Z"
   },
   {
    "duration": 54,
    "start_time": "2023-05-06T20:10:14.322Z"
   },
   {
    "duration": 41,
    "start_time": "2023-05-06T20:10:14.379Z"
   },
   {
    "duration": 9,
    "start_time": "2023-05-06T20:10:14.421Z"
   },
   {
    "duration": 51,
    "start_time": "2023-05-06T20:10:14.431Z"
   },
   {
    "duration": 664,
    "start_time": "2023-05-06T20:10:14.484Z"
   },
   {
    "duration": 28,
    "start_time": "2023-05-06T20:10:15.150Z"
   },
   {
    "duration": 7923,
    "start_time": "2023-05-06T20:10:15.180Z"
   },
   {
    "duration": 261,
    "start_time": "2023-05-06T20:10:23.104Z"
   },
   {
    "duration": 125,
    "start_time": "2023-05-06T20:10:23.367Z"
   },
   {
    "duration": 0,
    "start_time": "2023-05-06T20:10:23.495Z"
   },
   {
    "duration": 0,
    "start_time": "2023-05-06T20:10:23.496Z"
   },
   {
    "duration": 0,
    "start_time": "2023-05-06T20:10:23.498Z"
   },
   {
    "duration": 0,
    "start_time": "2023-05-06T20:10:23.499Z"
   },
   {
    "duration": 0,
    "start_time": "2023-05-06T20:10:23.502Z"
   },
   {
    "duration": 0,
    "start_time": "2023-05-06T20:10:23.503Z"
   },
   {
    "duration": 0,
    "start_time": "2023-05-06T20:10:23.503Z"
   },
   {
    "duration": 0,
    "start_time": "2023-05-06T20:10:23.504Z"
   },
   {
    "duration": 0,
    "start_time": "2023-05-06T20:10:23.505Z"
   },
   {
    "duration": 0,
    "start_time": "2023-05-06T20:10:23.506Z"
   },
   {
    "duration": 0,
    "start_time": "2023-05-06T20:10:23.507Z"
   },
   {
    "duration": 0,
    "start_time": "2023-05-06T20:10:23.508Z"
   },
   {
    "duration": 0,
    "start_time": "2023-05-06T20:10:23.509Z"
   },
   {
    "duration": 0,
    "start_time": "2023-05-06T20:10:23.510Z"
   },
   {
    "duration": 0,
    "start_time": "2023-05-06T20:10:23.511Z"
   },
   {
    "duration": 0,
    "start_time": "2023-05-06T20:10:23.533Z"
   },
   {
    "duration": 0,
    "start_time": "2023-05-06T20:10:23.534Z"
   },
   {
    "duration": 0,
    "start_time": "2023-05-06T20:10:23.535Z"
   },
   {
    "duration": 0,
    "start_time": "2023-05-06T20:10:23.535Z"
   },
   {
    "duration": 1352,
    "start_time": "2023-05-06T20:11:01.101Z"
   },
   {
    "duration": 45,
    "start_time": "2023-05-06T20:11:02.457Z"
   },
   {
    "duration": 14,
    "start_time": "2023-05-06T20:11:02.503Z"
   },
   {
    "duration": 39,
    "start_time": "2023-05-06T20:11:02.519Z"
   },
   {
    "duration": 21,
    "start_time": "2023-05-06T20:11:02.560Z"
   },
   {
    "duration": 12,
    "start_time": "2023-05-06T20:11:02.582Z"
   },
   {
    "duration": 25,
    "start_time": "2023-05-06T20:11:02.595Z"
   },
   {
    "duration": 7,
    "start_time": "2023-05-06T20:11:02.622Z"
   },
   {
    "duration": 28,
    "start_time": "2023-05-06T20:11:02.630Z"
   },
   {
    "duration": 29,
    "start_time": "2023-05-06T20:11:02.659Z"
   },
   {
    "duration": 20,
    "start_time": "2023-05-06T20:11:02.690Z"
   },
   {
    "duration": 5,
    "start_time": "2023-05-06T20:11:02.711Z"
   },
   {
    "duration": 28,
    "start_time": "2023-05-06T20:11:02.717Z"
   },
   {
    "duration": 2,
    "start_time": "2023-05-06T20:11:02.748Z"
   },
   {
    "duration": 12,
    "start_time": "2023-05-06T20:11:02.752Z"
   },
   {
    "duration": 10,
    "start_time": "2023-05-06T20:11:02.765Z"
   },
   {
    "duration": 17,
    "start_time": "2023-05-06T20:11:02.777Z"
   },
   {
    "duration": 11,
    "start_time": "2023-05-06T20:11:02.796Z"
   },
   {
    "duration": 418,
    "start_time": "2023-05-06T20:11:02.809Z"
   },
   {
    "duration": 18,
    "start_time": "2023-05-06T20:11:03.233Z"
   },
   {
    "duration": 24,
    "start_time": "2023-05-06T20:11:03.252Z"
   },
   {
    "duration": 9,
    "start_time": "2023-05-06T20:11:03.277Z"
   },
   {
    "duration": 15,
    "start_time": "2023-05-06T20:11:03.288Z"
   },
   {
    "duration": 127,
    "start_time": "2023-05-06T20:11:03.304Z"
   },
   {
    "duration": 16,
    "start_time": "2023-05-06T20:11:03.433Z"
   },
   {
    "duration": 14,
    "start_time": "2023-05-06T20:11:03.451Z"
   },
   {
    "duration": 9,
    "start_time": "2023-05-06T20:11:03.467Z"
   },
   {
    "duration": 8,
    "start_time": "2023-05-06T20:11:03.477Z"
   },
   {
    "duration": 2,
    "start_time": "2023-05-06T20:11:03.487Z"
   },
   {
    "duration": 8,
    "start_time": "2023-05-06T20:11:03.491Z"
   },
   {
    "duration": 617,
    "start_time": "2023-05-06T20:11:03.501Z"
   },
   {
    "duration": 40,
    "start_time": "2023-05-06T20:11:04.119Z"
   },
   {
    "duration": 7031,
    "start_time": "2023-05-06T20:11:04.160Z"
   },
   {
    "duration": 236,
    "start_time": "2023-05-06T20:11:11.193Z"
   },
   {
    "duration": 24,
    "start_time": "2023-05-06T20:11:11.430Z"
   },
   {
    "duration": 18,
    "start_time": "2023-05-06T20:11:11.455Z"
   },
   {
    "duration": 14,
    "start_time": "2023-05-06T20:11:11.475Z"
   },
   {
    "duration": 8,
    "start_time": "2023-05-06T20:11:11.491Z"
   },
   {
    "duration": 4,
    "start_time": "2023-05-06T20:11:11.501Z"
   },
   {
    "duration": 42,
    "start_time": "2023-05-06T20:11:11.507Z"
   },
   {
    "duration": 4,
    "start_time": "2023-05-06T20:11:11.553Z"
   },
   {
    "duration": 19,
    "start_time": "2023-05-06T20:11:11.559Z"
   },
   {
    "duration": 5,
    "start_time": "2023-05-06T20:11:11.580Z"
   },
   {
    "duration": 5305,
    "start_time": "2023-05-06T20:11:11.586Z"
   },
   {
    "duration": 34,
    "start_time": "2023-05-06T20:11:16.893Z"
   },
   {
    "duration": 9581,
    "start_time": "2023-05-06T20:11:16.941Z"
   },
   {
    "duration": 504,
    "start_time": "2023-05-06T20:11:26.524Z"
   },
   {
    "duration": 328,
    "start_time": "2023-05-06T20:11:27.033Z"
   },
   {
    "duration": 145,
    "start_time": "2023-05-06T20:11:27.363Z"
   },
   {
    "duration": 6,
    "start_time": "2023-05-06T20:11:27.510Z"
   },
   {
    "duration": 168,
    "start_time": "2023-05-06T20:11:27.518Z"
   },
   {
    "duration": 6,
    "start_time": "2023-05-06T20:11:27.688Z"
   },
   {
    "duration": 371,
    "start_time": "2023-05-06T20:11:27.696Z"
   },
   {
    "duration": 53,
    "start_time": "2023-05-06T20:21:44.359Z"
   },
   {
    "duration": 121,
    "start_time": "2023-05-06T20:22:04.678Z"
   },
   {
    "duration": 16,
    "start_time": "2023-05-06T20:22:21.235Z"
   },
   {
    "duration": 1332,
    "start_time": "2023-05-06T20:23:13.050Z"
   },
   {
    "duration": 42,
    "start_time": "2023-05-06T20:23:14.384Z"
   },
   {
    "duration": 20,
    "start_time": "2023-05-06T20:23:14.428Z"
   },
   {
    "duration": 9,
    "start_time": "2023-05-06T20:23:14.450Z"
   },
   {
    "duration": 17,
    "start_time": "2023-05-06T20:23:14.462Z"
   },
   {
    "duration": 6,
    "start_time": "2023-05-06T20:23:14.480Z"
   },
   {
    "duration": 14,
    "start_time": "2023-05-06T20:23:14.487Z"
   },
   {
    "duration": 2,
    "start_time": "2023-05-06T20:23:14.503Z"
   },
   {
    "duration": 6,
    "start_time": "2023-05-06T20:23:14.507Z"
   },
   {
    "duration": 16,
    "start_time": "2023-05-06T20:23:14.533Z"
   },
   {
    "duration": 10,
    "start_time": "2023-05-06T20:23:14.554Z"
   },
   {
    "duration": 8,
    "start_time": "2023-05-06T20:23:14.566Z"
   },
   {
    "duration": 22,
    "start_time": "2023-05-06T20:23:14.575Z"
   },
   {
    "duration": 2,
    "start_time": "2023-05-06T20:23:14.600Z"
   },
   {
    "duration": 4,
    "start_time": "2023-05-06T20:23:14.604Z"
   },
   {
    "duration": 15,
    "start_time": "2023-05-06T20:23:14.610Z"
   },
   {
    "duration": 9,
    "start_time": "2023-05-06T20:23:14.627Z"
   },
   {
    "duration": 17,
    "start_time": "2023-05-06T20:23:14.638Z"
   },
   {
    "duration": 352,
    "start_time": "2023-05-06T20:23:14.657Z"
   },
   {
    "duration": 7,
    "start_time": "2023-05-06T20:23:15.011Z"
   },
   {
    "duration": 31,
    "start_time": "2023-05-06T20:23:15.020Z"
   },
   {
    "duration": 10,
    "start_time": "2023-05-06T20:23:15.053Z"
   },
   {
    "duration": 23,
    "start_time": "2023-05-06T20:23:15.065Z"
   },
   {
    "duration": 139,
    "start_time": "2023-05-06T20:23:15.089Z"
   },
   {
    "duration": 5,
    "start_time": "2023-05-06T20:23:15.229Z"
   },
   {
    "duration": 25,
    "start_time": "2023-05-06T20:23:15.235Z"
   },
   {
    "duration": 35,
    "start_time": "2023-05-06T20:23:15.261Z"
   },
   {
    "duration": 15,
    "start_time": "2023-05-06T20:23:15.298Z"
   },
   {
    "duration": 31,
    "start_time": "2023-05-06T20:23:15.316Z"
   },
   {
    "duration": 26,
    "start_time": "2023-05-06T20:23:15.349Z"
   },
   {
    "duration": 602,
    "start_time": "2023-05-06T20:23:15.376Z"
   },
   {
    "duration": 28,
    "start_time": "2023-05-06T20:23:15.979Z"
   },
   {
    "duration": 7708,
    "start_time": "2023-05-06T20:23:16.009Z"
   },
   {
    "duration": 249,
    "start_time": "2023-05-06T20:23:23.719Z"
   },
   {
    "duration": 17,
    "start_time": "2023-05-06T20:23:23.970Z"
   },
   {
    "duration": 14,
    "start_time": "2023-05-06T20:23:23.989Z"
   },
   {
    "duration": 46,
    "start_time": "2023-05-06T20:23:24.005Z"
   },
   {
    "duration": 23,
    "start_time": "2023-05-06T20:23:24.053Z"
   },
   {
    "duration": 22,
    "start_time": "2023-05-06T20:23:24.078Z"
   },
   {
    "duration": 29,
    "start_time": "2023-05-06T20:23:24.101Z"
   },
   {
    "duration": 4,
    "start_time": "2023-05-06T20:23:24.134Z"
   },
   {
    "duration": 43,
    "start_time": "2023-05-06T20:23:24.139Z"
   },
   {
    "duration": 3,
    "start_time": "2023-05-06T20:23:24.184Z"
   },
   {
    "duration": 5442,
    "start_time": "2023-05-06T20:23:24.188Z"
   },
   {
    "duration": 38,
    "start_time": "2023-05-06T20:23:29.632Z"
   },
   {
    "duration": 1593,
    "start_time": "2023-06-16T08:03:01.588Z"
   },
   {
    "duration": 81,
    "start_time": "2023-06-16T08:03:03.183Z"
   },
   {
    "duration": 14,
    "start_time": "2023-06-16T08:03:03.265Z"
   },
   {
    "duration": 50,
    "start_time": "2023-06-16T08:03:03.281Z"
   },
   {
    "duration": 143,
    "start_time": "2023-06-16T08:03:03.334Z"
   },
   {
    "duration": 32,
    "start_time": "2023-06-16T08:03:03.478Z"
   },
   {
    "duration": 21,
    "start_time": "2023-06-16T08:03:03.512Z"
   },
   {
    "duration": 4,
    "start_time": "2023-06-16T08:03:03.535Z"
   },
   {
    "duration": 23,
    "start_time": "2023-06-16T08:03:03.540Z"
   },
   {
    "duration": 21,
    "start_time": "2023-06-16T08:03:03.565Z"
   },
   {
    "duration": 17,
    "start_time": "2023-06-16T08:03:03.587Z"
   },
   {
    "duration": 11,
    "start_time": "2023-06-16T08:03:03.606Z"
   },
   {
    "duration": 19,
    "start_time": "2023-06-16T08:03:03.619Z"
   },
   {
    "duration": 8,
    "start_time": "2023-06-16T08:03:03.640Z"
   },
   {
    "duration": 13,
    "start_time": "2023-06-16T08:03:03.649Z"
   },
   {
    "duration": 31,
    "start_time": "2023-06-16T08:03:03.664Z"
   },
   {
    "duration": 28,
    "start_time": "2023-06-16T08:03:03.697Z"
   },
   {
    "duration": 20,
    "start_time": "2023-06-16T08:03:03.727Z"
   },
   {
    "duration": 29,
    "start_time": "2023-06-16T08:03:03.748Z"
   },
   {
    "duration": 440,
    "start_time": "2023-06-16T08:03:03.778Z"
   },
   {
    "duration": 13,
    "start_time": "2023-06-16T08:03:04.219Z"
   },
   {
    "duration": 8,
    "start_time": "2023-06-16T08:03:04.233Z"
   },
   {
    "duration": 15,
    "start_time": "2023-06-16T08:03:04.242Z"
   },
   {
    "duration": 28,
    "start_time": "2023-06-16T08:03:04.258Z"
   },
   {
    "duration": 125,
    "start_time": "2023-06-16T08:03:04.287Z"
   },
   {
    "duration": 2,
    "start_time": "2023-06-16T08:03:04.414Z"
   },
   {
    "duration": 40,
    "start_time": "2023-06-16T08:03:04.418Z"
   },
   {
    "duration": 11,
    "start_time": "2023-06-16T08:03:04.461Z"
   },
   {
    "duration": 9,
    "start_time": "2023-06-16T08:03:04.474Z"
   },
   {
    "duration": 3,
    "start_time": "2023-06-16T08:03:04.484Z"
   },
   {
    "duration": 28,
    "start_time": "2023-06-16T08:03:04.488Z"
   },
   {
    "duration": 693,
    "start_time": "2023-06-16T08:03:04.517Z"
   },
   {
    "duration": 32,
    "start_time": "2023-06-16T08:03:05.211Z"
   },
   {
    "duration": 6502,
    "start_time": "2023-06-16T08:03:05.244Z"
   },
   {
    "duration": 204,
    "start_time": "2023-06-16T08:03:11.748Z"
   },
   {
    "duration": 18,
    "start_time": "2023-06-16T08:03:11.953Z"
   },
   {
    "duration": 15,
    "start_time": "2023-06-16T08:03:11.972Z"
   },
   {
    "duration": 13,
    "start_time": "2023-06-16T08:03:11.989Z"
   },
   {
    "duration": 4,
    "start_time": "2023-06-16T08:03:12.031Z"
   },
   {
    "duration": 16,
    "start_time": "2023-06-16T08:03:12.037Z"
   },
   {
    "duration": 23,
    "start_time": "2023-06-16T08:03:12.055Z"
   },
   {
    "duration": 4,
    "start_time": "2023-06-16T08:03:12.079Z"
   },
   {
    "duration": 11,
    "start_time": "2023-06-16T08:03:12.085Z"
   },
   {
    "duration": 12,
    "start_time": "2023-06-16T08:03:12.098Z"
   },
   {
    "duration": 4986,
    "start_time": "2023-06-16T08:03:12.112Z"
   },
   {
    "duration": 39,
    "start_time": "2023-06-16T08:03:17.099Z"
   },
   {
    "duration": 8823,
    "start_time": "2023-06-16T08:03:17.139Z"
   },
   {
    "duration": 384,
    "start_time": "2023-06-16T08:03:25.964Z"
   },
   {
    "duration": 259,
    "start_time": "2023-06-16T08:03:26.350Z"
   },
   {
    "duration": 131,
    "start_time": "2023-06-16T08:03:26.611Z"
   },
   {
    "duration": 5,
    "start_time": "2023-06-16T08:03:26.744Z"
   },
   {
    "duration": 158,
    "start_time": "2023-06-16T08:03:26.751Z"
   },
   {
    "duration": 6,
    "start_time": "2023-06-16T08:03:26.911Z"
   },
   {
    "duration": 334,
    "start_time": "2023-06-16T08:03:26.918Z"
   },
   {
    "duration": 1624,
    "start_time": "2023-06-25T17:19:44.335Z"
   },
   {
    "duration": 191,
    "start_time": "2023-06-25T17:19:45.962Z"
   },
   {
    "duration": 16,
    "start_time": "2023-06-25T17:19:46.155Z"
   },
   {
    "duration": 8,
    "start_time": "2023-06-25T17:19:46.173Z"
   },
   {
    "duration": 12,
    "start_time": "2023-06-25T17:19:46.183Z"
   },
   {
    "duration": 19,
    "start_time": "2023-06-25T17:19:46.198Z"
   },
   {
    "duration": 26,
    "start_time": "2023-06-25T17:19:46.220Z"
   },
   {
    "duration": 4,
    "start_time": "2023-06-25T17:19:46.249Z"
   },
   {
    "duration": 32,
    "start_time": "2023-06-25T17:19:46.255Z"
   },
   {
    "duration": 17,
    "start_time": "2023-06-25T17:19:46.289Z"
   },
   {
    "duration": 4,
    "start_time": "2023-06-25T17:19:46.308Z"
   },
   {
    "duration": 10,
    "start_time": "2023-06-25T17:19:46.317Z"
   },
   {
    "duration": 36,
    "start_time": "2023-06-25T17:19:46.330Z"
   },
   {
    "duration": 5,
    "start_time": "2023-06-25T17:19:46.371Z"
   },
   {
    "duration": 5,
    "start_time": "2023-06-25T17:19:46.378Z"
   },
   {
    "duration": 5,
    "start_time": "2023-06-25T17:19:46.386Z"
   },
   {
    "duration": 26,
    "start_time": "2023-06-25T17:19:46.393Z"
   },
   {
    "duration": 4,
    "start_time": "2023-06-25T17:19:46.427Z"
   },
   {
    "duration": 14,
    "start_time": "2023-06-25T17:19:46.434Z"
   },
   {
    "duration": 485,
    "start_time": "2023-06-25T17:19:46.451Z"
   },
   {
    "duration": 9,
    "start_time": "2023-06-25T17:19:46.938Z"
   },
   {
    "duration": 14,
    "start_time": "2023-06-25T17:19:46.948Z"
   },
   {
    "duration": 11,
    "start_time": "2023-06-25T17:19:46.965Z"
   },
   {
    "duration": 46,
    "start_time": "2023-06-25T17:19:46.979Z"
   },
   {
    "duration": 175,
    "start_time": "2023-06-25T17:19:47.028Z"
   },
   {
    "duration": 18,
    "start_time": "2023-06-25T17:19:47.205Z"
   },
   {
    "duration": 16,
    "start_time": "2023-06-25T17:19:47.234Z"
   },
   {
    "duration": 12,
    "start_time": "2023-06-25T17:19:47.253Z"
   },
   {
    "duration": 12,
    "start_time": "2023-06-25T17:19:47.268Z"
   },
   {
    "duration": 15,
    "start_time": "2023-06-25T17:19:47.282Z"
   },
   {
    "duration": 18,
    "start_time": "2023-06-25T17:19:47.299Z"
   },
   {
    "duration": 785,
    "start_time": "2023-06-25T17:19:47.326Z"
   },
   {
    "duration": 40,
    "start_time": "2023-06-25T17:19:48.113Z"
   },
   {
    "duration": 8526,
    "start_time": "2023-06-25T17:19:48.155Z"
   },
   {
    "duration": 282,
    "start_time": "2023-06-25T17:19:56.683Z"
   },
   {
    "duration": 23,
    "start_time": "2023-06-25T17:19:56.967Z"
   },
   {
    "duration": 44,
    "start_time": "2023-06-25T17:19:56.992Z"
   },
   {
    "duration": 53,
    "start_time": "2023-06-25T17:19:57.039Z"
   },
   {
    "duration": 8,
    "start_time": "2023-06-25T17:19:57.095Z"
   },
   {
    "duration": 14,
    "start_time": "2023-06-25T17:19:57.105Z"
   },
   {
    "duration": 68,
    "start_time": "2023-06-25T17:19:57.131Z"
   },
   {
    "duration": 33,
    "start_time": "2023-06-25T17:19:57.202Z"
   },
   {
    "duration": 53,
    "start_time": "2023-06-25T17:19:57.238Z"
   },
   {
    "duration": 24,
    "start_time": "2023-06-25T17:19:57.293Z"
   },
   {
    "duration": 6417,
    "start_time": "2023-06-25T17:19:57.322Z"
   },
   {
    "duration": 46,
    "start_time": "2023-06-25T17:20:03.746Z"
   },
   {
    "duration": 11171,
    "start_time": "2023-06-25T17:20:03.794Z"
   },
   {
    "duration": 572,
    "start_time": "2023-06-25T17:20:14.967Z"
   },
   {
    "duration": 280,
    "start_time": "2023-06-25T17:20:15.541Z"
   },
   {
    "duration": 221,
    "start_time": "2023-06-25T17:20:15.823Z"
   },
   {
    "duration": 7,
    "start_time": "2023-06-25T17:20:16.046Z"
   },
   {
    "duration": 226,
    "start_time": "2023-06-25T17:20:16.055Z"
   },
   {
    "duration": 7,
    "start_time": "2023-06-25T17:20:16.283Z"
   },
   {
    "duration": 442,
    "start_time": "2023-06-25T17:20:16.291Z"
   },
   {
    "duration": 27,
    "start_time": "2023-06-25T17:21:44.945Z"
   }
  ],
  "colab": {
   "provenance": []
  },
  "kernelspec": {
   "display_name": "Python 3 (ipykernel)",
   "language": "python",
   "name": "python3"
  },
  "language_info": {
   "codemirror_mode": {
    "name": "ipython",
    "version": 3
   },
   "file_extension": ".py",
   "mimetype": "text/x-python",
   "name": "python",
   "nbconvert_exporter": "python",
   "pygments_lexer": "ipython3",
   "version": "3.11.5"
  },
  "toc": {
   "base_numbering": 1,
   "nav_menu": {},
   "number_sections": true,
   "sideBar": true,
   "skip_h1_title": true,
   "title_cell": "Содержание",
   "title_sidebar": "Contents",
   "toc_cell": true,
   "toc_position": {
    "height": "calc(100% - 180px)",
    "left": "10px",
    "top": "150px",
    "width": "371px"
   },
   "toc_section_display": true,
   "toc_window_display": true
  }
 },
 "nbformat": 4,
 "nbformat_minor": 1
}
